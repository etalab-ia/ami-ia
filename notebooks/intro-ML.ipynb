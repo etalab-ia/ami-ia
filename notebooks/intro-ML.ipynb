{
  "nbformat": 4,
  "nbformat_minor": 0,
  "metadata": {
    "colab": {
      "name": "ami_ia-NLP.ipynb",
      "provenance": [],
      "include_colab_link": true
    },
    "kernelspec": {
      "name": "python3",
      "display_name": "Python 3"
    }
  },
  "cells": [
    {
      "cell_type": "markdown",
      "metadata": {
        "id": "view-in-github",
        "colab_type": "text"
      },
      "source": [
        "<a href=\"https://colab.research.google.com/github/etalab-ia/ami-ia/blob/master/notebooks/intro-ML.ipynb\" target=\"_parent\"><img src=\"https://colab.research.google.com/assets/colab-badge.svg\" alt=\"Open In Colab\"/></a>"
      ]
    },
    {
      "cell_type": "markdown",
      "metadata": {
        "id": "MNBVSFaLObUS",
        "colab_type": "text"
      },
      "source": [
        "# Notebook NLP\n",
        "\n",
        "Introduction au NLP avec l'examples de la consultation "
      ]
    },
    {
      "cell_type": "code",
      "metadata": {
        "id": "dC4ECExRSWdV",
        "colab_type": "code",
        "colab": {}
      },
      "source": [
        "# import libraries\n",
        "import pandas as pd\n",
        "import numpy as np"
      ],
      "execution_count": 0,
      "outputs": []
    },
    {
      "cell_type": "code",
      "metadata": {
        "id": "qsizPgbDOg3k",
        "colab_type": "code",
        "outputId": "24441be5-459d-4a69-a57d-4970fd8fc3ef",
        "colab": {
          "resources": {
            "http://localhost:8080/nbextensions/google.colab/files.js": {
              "data": "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",
              "ok": true,
              "headers": [
                [
                  "content-type",
                  "application/javascript"
                ]
              ],
              "status": 200,
              "status_text": "OK"
            }
          },
          "base_uri": "https://localhost:8080/",
          "height": 89
        }
      },
      "source": [
        "# importer un fichier depuis votre ordinateur local \n",
        "from google.colab import files\n",
        "uploaded = files.upload()\n",
        "for fn in uploaded.keys():\n",
        "  print('User uploaded file \"{name}\" with length {length} bytes'.format(\n",
        "      name=fn, length=len(uploaded[fn])))"
      ],
      "execution_count": 0,
      "outputs": [
        {
          "output_type": "display_data",
          "data": {
            "text/html": [
              "\n",
              "     <input type=\"file\" id=\"files-af25b67d-9df0-4aff-ace9-d08438ec5035\" name=\"files[]\" multiple disabled />\n",
              "     <output id=\"result-af25b67d-9df0-4aff-ace9-d08438ec5035\">\n",
              "      Upload widget is only available when the cell has been executed in the\n",
              "      current browser session. Please rerun this cell to enable.\n",
              "      </output>\n",
              "      <script src=\"/nbextensions/google.colab/files.js\"></script> "
            ],
            "text/plain": [
              "<IPython.core.display.HTML object>"
            ]
          },
          "metadata": {
            "tags": []
          }
        },
        {
          "output_type": "stream",
          "text": [
            "Saving completez-le-questionnaire-en-quelques-minutes.csv to completez-le-questionnaire-en-quelques-minutes.csv\n",
            "User uploaded file \"completez-le-questionnaire-en-quelques-minutes.csv\" with length 152951273 bytes\n"
          ],
          "name": "stdout"
        }
      ]
    },
    {
      "cell_type": "code",
      "metadata": {
        "id": "Gog_D9PYOlS3",
        "colab_type": "code",
        "colab": {}
      },
      "source": [
        "# lire le jeu de données en un objet \"pandas dataframe\"\n",
        "df = pd.read_csv(\"completez-le-questionnaire-en-quelques-minutes.csv\", sep = \",\", header = 0)"
      ],
      "execution_count": 0,
      "outputs": []
    },
    {
      "cell_type": "code",
      "metadata": {
        "id": "wxcnLj10g9JJ",
        "colab_type": "code",
        "colab": {}
      },
      "source": [
        "# on renomme les colonnes des questions et on conserve un dictionnaire avec la correspondance \n",
        "colnames = list(df.columns)\n",
        "dict_questions = dict(zip([\"question_\" + str(x) for x in range(1, 17)], colnames[6:23]))\n",
        "colnames_new = colnames[0:6] + [\"question_\" + str(x) for x in range(1, 17)] + [\"age\"]\n",
        "df.columns = colnames_new"
      ],
      "execution_count": 0,
      "outputs": []
    },
    {
      "cell_type": "code",
      "metadata": {
        "id": "m8S-Ebnjg_dT",
        "colab_type": "code",
        "outputId": "52cc1132-d914-48b8-aa17-11a5145ecd12",
        "colab": {
          "base_uri": "https://localhost:8080/",
          "height": 315
        }
      },
      "source": [
        "dict_questions"
      ],
      "execution_count": 0,
      "outputs": [
        {
          "output_type": "execute_result",
          "data": {
            "text/plain": [
              "{'question_1': 'QUXVlc3Rpb246MTI5 - La mise en place d’un système universel de retraites par répartition répond à plusieurs objectifs. Parmi les objectifs ci-dessous, lesquels vous semblent prioritaires ?',\n",
              " 'question_10': 'QUXVlc3Rpb246MTQ3 - Dans le futur système universel de retraites, il y aura comme aujourd’hui un âge minimal de départ et un âge permettant de bénéficier de 100% de sa retraite (taux plein). Parmi les propositions suivantes, lesquelles vous paraissent prioritaires :',\n",
              " 'question_11': 'QUXVlc3Rpb246MTQ5 - Dans le futur système universel de retraites, des points seront accordés aux parents qui ont eu des enfants afin de compenser l’impact que cela a eu sur leur carrière professionnelle. Il est prioritaire selon vous de :',\n",
              " 'question_12': 'QUXVlc3Rpb246MTUx - Dans le futur système universel de retraites, il y aura un dispositif de réversion afin que les veuves et les veufs touchent une partie de la retraite de leur conjoint décédé. Parmi les propositions suivantes, lesquelles vous paraissent prioritaires :',\n",
              " 'question_13': \"QUXVlc3Rpb246MTU0 - L'objectif est que le système soit équilibré financièrement notamment pour garantir une retraite aux jeunes générations. Afin de maintenir l'équilibre du système en tenant compte de l'augmentation de l'espérance de vie, vous semble-t-il nécessaire :\",\n",
              " 'question_14': 'QUXVlc3Rpb246MTU3 - Selon vous, que faut-il faire en priorité dans le nouveau système universel de retraites pour que les règles de cotisation soient équitables ?',\n",
              " 'question_15': 'QUXVlc3Rpb246MTYx - Le futur système universel de retraites doit permettre de faciliter la transition entre la fin de la vie professionnelle et le départ à la retraite. Parmi les propositions suivantes, lesquelles vous paraissent prioritaires :',\n",
              " 'question_16': \"QUXVlc3Rpb246MTYz - Le pilotage du futur système universel de retraites permettra par exemple de définir l'évolution des pensions. Selon vous, par qui doit-il être assuré ?\",\n",
              " 'question_2': \"QUXVlc3Rpb246MTMx - Le futur système universel de retraites fonctionnera avec des points au lieu des trimestres d'aujourd'hui. Parmi les propositions ci-dessous, lesquelles vous paraissent prioritaires pour le calcul des points ?\",\n",
              " 'question_3': 'QUXVlc3Rpb246MTMz - Le futur système universel de retraites se mettra en place progressivement. Selon vous, doit-il concerner :',\n",
              " 'question_4': 'QUXVlc3Rpb246MTM1 - Le futur système universel de retraites vise à lutter contre les inégalités et à construire un système plus juste. Selon vous, quelles inégalités doit-il contribuer à réduire en priorité ?',\n",
              " 'question_5': 'QUXVlc3Rpb246MTM3 - Le futur système universel de retraites comportera des dispositifs de solidarité. Il est prioritaire selon vous de :',\n",
              " 'question_6': 'QUXVlc3Rpb246MTM5 - Afin de compenser les périodes de maladie, de maternité et d’invalidité pendant lesquelles il n’est pas possible de travailler, le nouveau système universel de retraites doit-il :',\n",
              " 'question_7': 'QUXVlc3Rpb246MTQx - Afin de compenser les périodes de chômage, le futur système universel de retraites, doit-il :',\n",
              " 'question_8': 'QUXVlc3Rpb246MTQy - Dans le futur système universel de retraites, il est proposé d’avoir un montant minimum de retraite. Il est prioritaire selon vous de :',\n",
              " 'question_9': 'QUXVlc3Rpb246MTQ2 - Il est proposé dans le futur système universel de retraites d’adapter les conditions de départ à la retraite pour les personnes ayant eu des carrières longues et/ou pénibles. Parmi les propositions suivantes, lesquelles vous paraissent prioritaires :'}"
            ]
          },
          "metadata": {
            "tags": []
          },
          "execution_count": 45
        }
      ]
    },
    {
      "cell_type": "code",
      "metadata": {
        "id": "moo-9UM3Ssja",
        "colab_type": "code",
        "outputId": "e8ce7129-3850-49f7-d684-6e7eaaa14eba",
        "colab": {
          "base_uri": "https://localhost:8080/",
          "height": 574
        }
      },
      "source": [
        "df.head()"
      ],
      "execution_count": 0,
      "outputs": [
        {
          "output_type": "execute_result",
          "data": {
            "text/html": [
              "<div>\n",
              "<style scoped>\n",
              "    .dataframe tbody tr th:only-of-type {\n",
              "        vertical-align: middle;\n",
              "    }\n",
              "\n",
              "    .dataframe tbody tr th {\n",
              "        vertical-align: top;\n",
              "    }\n",
              "\n",
              "    .dataframe thead th {\n",
              "        text-align: right;\n",
              "    }\n",
              "</style>\n",
              "<table border=\"1\" class=\"dataframe\">\n",
              "  <thead>\n",
              "    <tr style=\"text-align: right;\">\n",
              "      <th></th>\n",
              "      <th>id</th>\n",
              "      <th>createdAt</th>\n",
              "      <th>publishedAt</th>\n",
              "      <th>updatedAt</th>\n",
              "      <th>authorId</th>\n",
              "      <th>authorType</th>\n",
              "      <th>question_1</th>\n",
              "      <th>question_2</th>\n",
              "      <th>question_3</th>\n",
              "      <th>question_4</th>\n",
              "      <th>question_5</th>\n",
              "      <th>question_6</th>\n",
              "      <th>question_7</th>\n",
              "      <th>question_8</th>\n",
              "      <th>question_9</th>\n",
              "      <th>question_10</th>\n",
              "      <th>question_11</th>\n",
              "      <th>question_12</th>\n",
              "      <th>question_13</th>\n",
              "      <th>question_14</th>\n",
              "      <th>question_15</th>\n",
              "      <th>question_16</th>\n",
              "      <th>age</th>\n",
              "    </tr>\n",
              "  </thead>\n",
              "  <tbody>\n",
              "    <tr>\n",
              "      <th>0</th>\n",
              "      <td>UmVwbHk6MDAwMDZkNjctMThmMi0xMWVhLWE0ODUtZmExNj...</td>\n",
              "      <td>2019-12-07 14:03:45</td>\n",
              "      <td>2019-12-07 14:03:45</td>\n",
              "      <td>2019-12-07 14:03:45</td>\n",
              "      <td>VXNlcjpjY2RkNzU3Mi0xOGYwLTExZWEtYTQ4NS1mYTE2M2...</td>\n",
              "      <td>NaN</td>\n",
              "      <td>Il n’est pas nécessaire de mettre en place un ...</td>\n",
              "      <td>La mise en place d'un système en points n'est ...</td>\n",
              "      <td>NaN</td>\n",
              "      <td>Les inégalités de pensions entre les femmes et...</td>\n",
              "      <td>Garantir une retraite minimum aux personnes qu...</td>\n",
              "      <td>Attribuer autant de points que si la personne ...</td>\n",
              "      <td>Attribuer autant de points que si la personne ...</td>\n",
              "      <td>Fixer le même minimum de retraite pour tous, q...</td>\n",
              "      <td>Autoriser le départ avant 62 ans pour les pers...</td>\n",
              "      <td>Conserver un âge minimum de départ à 62 ans|Ga...</td>\n",
              "      <td>Accorder des points en priorité aux femmes|Aug...</td>\n",
              "      <td>Les règles de réversion doivent être les mêmes...</td>\n",
              "      <td>Faire payer un peu plus de cotisations sociale...</td>\n",
              "      <td>Faire cotiser les salariés du public sur l’int...</td>\n",
              "      <td>Permettre aux personnes qui le souhaitent, dès...</td>\n",
              "      <td>Les partenaires sociaux (syndicats de salariés...</td>\n",
              "      <td>65 - 69 ans</td>\n",
              "    </tr>\n",
              "    <tr>\n",
              "      <th>1</th>\n",
              "      <td>UmVwbHk6MDAwMGY0N2QtMTE0OS0xMWVhLWE0ODUtZmExNj...</td>\n",
              "      <td>2019-11-27 20:06:22</td>\n",
              "      <td>2019-11-27 20:06:22</td>\n",
              "      <td>2019-11-27 20:06:22</td>\n",
              "      <td>VXNlcjpiMjY4YTNkMi0xMTQ2LTExZWEtYTQ4NS1mYTE2M2...</td>\n",
              "      <td>NaN</td>\n",
              "      <td>Il n’est pas nécessaire de mettre en place un ...</td>\n",
              "      <td>La mise en place d'un système en points n'est ...</td>\n",
              "      <td>Uniquement les personnes éloignées du départ à...</td>\n",
              "      <td>Les inégalités de pension entre les retraités ...</td>\n",
              "      <td>Donner des points pour les périodes de maladie...</td>\n",
              "      <td>Attribuer autant de points que si la personne ...</td>\n",
              "      <td>Attribuer autant de points que si la personne ...</td>\n",
              "      <td>Garantir le montant du minimum de retraite en ...</td>\n",
              "      <td>Autoriser le départ avant 62 ans des personnes...</td>\n",
              "      <td>Garantir 100% de la retraite (retraite à taux ...</td>\n",
              "      <td>Augmenter de 5% (à partager entre les parents)...</td>\n",
              "      <td>Accorder la pension de réversion aux couples m...</td>\n",
              "      <td>Faire payer un peu plus de cotisations sociales</td>\n",
              "      <td>Faire cotiser les salariés du public sur l’int...</td>\n",
              "      <td>Il n’y a pas lieu d’encourager l’emploi des pe...</td>\n",
              "      <td>Une combinaison de tous ces acteurs</td>\n",
              "      <td>60 - 64 ans</td>\n",
              "    </tr>\n",
              "    <tr>\n",
              "      <th>2</th>\n",
              "      <td>UmVwbHk6MDAwMWUzYTctMTVjYy0xMWVhLWE0ODUtZmExNj...</td>\n",
              "      <td>2019-12-03 13:54:11</td>\n",
              "      <td>2019-12-03 13:54:27</td>\n",
              "      <td>2019-12-03 13:54:27</td>\n",
              "      <td>VXNlcjozODgwZjgzOS0xNWNhLTExZWEtYTQ4NS1mYTE2M2...</td>\n",
              "      <td>Citoyen</td>\n",
              "      <td>Avoir un seul système de retraite pour tous le...</td>\n",
              "      <td>Que chaque jour travaillé et rémunéré permette...</td>\n",
              "      <td>Uniquement les personnes éloignées du départ à...</td>\n",
              "      <td>Les inégalités de pension entre les retraités ...</td>\n",
              "      <td>Garantir une retraite minimum aux personnes qu...</td>\n",
              "      <td>Attribuer autant de points que si la personne ...</td>\n",
              "      <td>Attribuer des points à hauteur de l'allocation...</td>\n",
              "      <td>Fixer le même minimum de retraite pour tous, q...</td>\n",
              "      <td>Autoriser le départ avant 62 ans des personnes...</td>\n",
              "      <td>Conserver une décote (réduction du montant de ...</td>\n",
              "      <td>Accorder des points en priorité aux femmes|Acc...</td>\n",
              "      <td>Les règles de réversion doivent être les mêmes...</td>\n",
              "      <td>Baisser un peu le montant des pensions versées...</td>\n",
              "      <td>Avoir le même taux de cotisation pour tous, qu...</td>\n",
              "      <td>Faciliter le passage à temps partiel en fin de...</td>\n",
              "      <td>Une combinaison de tous ces acteurs</td>\n",
              "      <td>50 - 54 ans</td>\n",
              "    </tr>\n",
              "    <tr>\n",
              "      <th>3</th>\n",
              "      <td>UmVwbHk6MDAwMzA3NWEtMThkNC0xMWVhLWE0ODUtZmExNj...</td>\n",
              "      <td>2019-12-07 10:29:00</td>\n",
              "      <td>2019-12-07 10:43:52</td>\n",
              "      <td>2019-12-07 10:43:53</td>\n",
              "      <td>VXNlcjplNTZmNWRiZi0xOGNmLTExZWEtYTQ4NS1mYTE2M2...</td>\n",
              "      <td>Citoyen</td>\n",
              "      <td>Garantir l’équilibre financier du système de r...</td>\n",
              "      <td>Garantir qu'un euro cotisé donne le même nombr...</td>\n",
              "      <td>Tout le monde, sauf les retraités et les gens ...</td>\n",
              "      <td>Les inégalités sur l’âge de départ à la retrai...</td>\n",
              "      <td>Donner des points aux personnes qui ont dû s’a...</td>\n",
              "      <td>Attribuer des points, mais moins que si la per...</td>\n",
              "      <td>Attribuer des points à hauteur de l'allocation...</td>\n",
              "      <td>régime unique fonction publique - privé (les r...</td>\n",
              "      <td>Autoriser le départ avant 62 ans des personnes...</td>\n",
              "      <td>Conserver une décote (réduction du montant de ...</td>\n",
              "      <td>Accorder les mêmes droits, que vous soyez sala...</td>\n",
              "      <td>Les règles de réversion doivent être les mêmes...</td>\n",
              "      <td>Faire travailler les Français un peu plus long...</td>\n",
              "      <td>Faire cotiser les salariés du public sur l’int...</td>\n",
              "      <td>Permettre aux retraités qui reprennent une act...</td>\n",
              "      <td>Les partenaires sociaux (syndicats de salariés...</td>\n",
              "      <td>50 - 54 ans</td>\n",
              "    </tr>\n",
              "    <tr>\n",
              "      <th>4</th>\n",
              "      <td>UmVwbHk6MDAwM2FiNDQtMDIyMC0xMWVhLWE0ODUtZmExNj...</td>\n",
              "      <td>2019-11-08 13:05:05</td>\n",
              "      <td>2019-11-08 13:14:26</td>\n",
              "      <td>2019-11-08 13:14:26</td>\n",
              "      <td>VXNlcjpiYmM4MmRlYy0wMjFmLTExZWEtYTQ4NS1mYTE2M2...</td>\n",
              "      <td>Citoyen</td>\n",
              "      <td>Améliorer la situation des femmes à la retrait...</td>\n",
              "      <td>Avoir des points même si on ne peut pas travai...</td>\n",
              "      <td>Uniquement les personnes éloignées du départ à...</td>\n",
              "      <td>Les inégalités de pensions entre les femmes et...</td>\n",
              "      <td>Garantir une retraite minimum aux personnes qu...</td>\n",
              "      <td>Attribuer autant de points que si la personne ...</td>\n",
              "      <td>Attribuer des points à hauteur de l'allocation...</td>\n",
              "      <td>Fixer le même minimum de retraite pour tous, q...</td>\n",
              "      <td>Autoriser le départ avant 62 ans pour les pers...</td>\n",
              "      <td>Garantir 100% de la retraite (retraite à taux ...</td>\n",
              "      <td>Accorder des points en priorité aux femmes|Aug...</td>\n",
              "      <td>Les règles de réversion doivent être les mêmes...</td>\n",
              "      <td>Faire travailler les Français un peu plus long...</td>\n",
              "      <td>Faire cotiser les salariés du public sur l’int...</td>\n",
              "      <td>Permettre aux retraités qui reprennent une act...</td>\n",
              "      <td>Une combinaison de tous ces acteurs</td>\n",
              "      <td>55 - 59 ans</td>\n",
              "    </tr>\n",
              "  </tbody>\n",
              "</table>\n",
              "</div>"
            ],
            "text/plain": [
              "                                                  id  ...          age\n",
              "0  UmVwbHk6MDAwMDZkNjctMThmMi0xMWVhLWE0ODUtZmExNj...  ...  65 - 69 ans\n",
              "1  UmVwbHk6MDAwMGY0N2QtMTE0OS0xMWVhLWE0ODUtZmExNj...  ...  60 - 64 ans\n",
              "2  UmVwbHk6MDAwMWUzYTctMTVjYy0xMWVhLWE0ODUtZmExNj...  ...  50 - 54 ans\n",
              "3  UmVwbHk6MDAwMzA3NWEtMThkNC0xMWVhLWE0ODUtZmExNj...  ...  50 - 54 ans\n",
              "4  UmVwbHk6MDAwM2FiNDQtMDIyMC0xMWVhLWE0ODUtZmExNj...  ...  55 - 59 ans\n",
              "\n",
              "[5 rows x 23 columns]"
            ]
          },
          "metadata": {
            "tags": []
          },
          "execution_count": 44
        }
      ]
    },
    {
      "cell_type": "code",
      "metadata": {
        "id": "ttAMen-tS5LU",
        "colab_type": "code",
        "colab": {}
      },
      "source": [
        ""
      ],
      "execution_count": 0,
      "outputs": []
    },
    {
      "cell_type": "code",
      "metadata": {
        "id": "VNaQsx9UTlWP",
        "colab_type": "code",
        "colab": {}
      },
      "source": [
        ""
      ],
      "execution_count": 0,
      "outputs": []
    },
    {
      "cell_type": "code",
      "metadata": {
        "id": "2qMKIBi-Tu70",
        "colab_type": "code",
        "colab": {}
      },
      "source": [
        ""
      ],
      "execution_count": 0,
      "outputs": []
    },
    {
      "cell_type": "code",
      "metadata": {
        "id": "rOxOFH_4UIn_",
        "colab_type": "code",
        "colab": {}
      },
      "source": [
        ""
      ],
      "execution_count": 0,
      "outputs": []
    }
  ]
}