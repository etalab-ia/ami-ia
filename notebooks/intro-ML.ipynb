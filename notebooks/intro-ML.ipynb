{
 "cells": [
  {
   "cell_type": "markdown",
   "metadata": {
    "colab_type": "text",
    "id": "view-in-github"
   },
   "source": [
    "<a href=\"https://colab.research.google.com/github/etalab-ia/ami-ia/blob/master/notebooks/intro-ML.ipynb\" target=\"_parent\"><img src=\"https://colab.research.google.com/assets/colab-badge.svg\" alt=\"Open In Colab\"/></a>"
   ]
  },
  {
   "cell_type": "markdown",
   "metadata": {
    "colab_type": "text",
    "id": "MNBVSFaLObUS"
   },
   "source": [
    "# Introduction à l'apprentissage supervisé\n",
    "\n",
    "Une introduction au *machine learning* avec l'examples des données de contrôles sanitaires de la direction générale de l'alimentation : https://www.data.gouv.fr/fr/datasets/resultats-des-controles-officiels-sanitaires-dispositif-dinformation-alimconfiance/."
   ]
  },
  {
   "cell_type": "code",
   "execution_count": 0,
   "metadata": {
    "colab": {},
    "colab_type": "code",
    "id": "dC4ECExRSWdV"
   },
   "outputs": [],
   "source": [
    "import pandas as pd\n",
    "import numpy as np\n",
    "import matplotlib.pyplot as plt\n",
    "\n",
    "np.random.seed(123)\n",
    "\n",
    "%matplotlib inline"
   ]
  },
  {
   "cell_type": "markdown",
   "metadata": {
    "colab_type": "text",
    "id": "OTZVkmLg-x8A"
   },
   "source": [
    "## 1. Importation et exploration des données"
   ]
  },
  {
   "cell_type": "markdown",
   "metadata": {
    "colab_type": "text",
    "id": "GtQZkftO-MIF"
   },
   "source": [
    "### Importer un jeu de données\n",
    "\n",
    "Grâce à la librairie pandas. Par exemple, depuis internet.\n"
   ]
  },
  {
   "cell_type": "code",
   "execution_count": 0,
   "metadata": {
    "colab": {},
    "colab_type": "code",
    "id": "qsizPgbDOg3k"
   },
   "outputs": [],
   "source": [
    "df = pd.read_csv('https://www.data.gouv.fr/fr/datasets/r/fff0cc27-977b-40d5-9c11-f7e4e79a0b72', sep=';')"
   ]
  },
  {
   "cell_type": "markdown",
   "metadata": {
    "colab_type": "text",
    "id": "CZfpM6DiKyGQ"
   },
   "source": [
    "Quelle est la taille de mes données ?"
   ]
  },
  {
   "cell_type": "code",
   "execution_count": 3,
   "metadata": {
    "colab": {
     "base_uri": "https://localhost:8080/",
     "height": 36
    },
    "colab_type": "code",
    "id": "llpw2wKyKyOY",
    "outputId": "cbb37f28-8cb2-4b1d-8eab-e2db33a0acbf"
   },
   "outputs": [
    {
     "data": {
      "text/plain": [
       "(38102, 13)"
      ]
     },
     "execution_count": 3,
     "metadata": {
      "tags": []
     },
     "output_type": "execute_result"
    }
   ],
   "source": [
    "df.shape"
   ]
  },
  {
   "cell_type": "markdown",
   "metadata": {
    "colab_type": "text",
    "id": "dku59y3t91YG"
   },
   "source": [
    "### A quoi ressemble mon jeu de données ?\n"
   ]
  },
  {
   "cell_type": "code",
   "execution_count": 4,
   "metadata": {
    "colab": {
     "base_uri": "https://localhost:8080/",
     "height": 313
    },
    "colab_type": "code",
    "id": "nrU5eu0W9EQ_",
    "outputId": "46b3c07c-1c5a-4c9d-badf-30d42d2e43b9",
    "scrolled": true
   },
   "outputs": [
    {
     "data": {
      "text/html": [
       "<div>\n",
       "<style scoped>\n",
       "    .dataframe tbody tr th:only-of-type {\n",
       "        vertical-align: middle;\n",
       "    }\n",
       "\n",
       "    .dataframe tbody tr th {\n",
       "        vertical-align: top;\n",
       "    }\n",
       "\n",
       "    .dataframe thead th {\n",
       "        text-align: right;\n",
       "    }\n",
       "</style>\n",
       "<table border=\"1\" class=\"dataframe\">\n",
       "  <thead>\n",
       "    <tr style=\"text-align: right;\">\n",
       "      <th></th>\n",
       "      <th>APP_Libelle_etablissement</th>\n",
       "      <th>SIRET</th>\n",
       "      <th>Code_postal</th>\n",
       "      <th>Libelle_commune</th>\n",
       "      <th>Numero_inspection</th>\n",
       "      <th>Date_inspection</th>\n",
       "      <th>APP_Libelle_activite_etablissement</th>\n",
       "      <th>Synthese_eval_sanit</th>\n",
       "      <th>Agrement</th>\n",
       "      <th>geores</th>\n",
       "      <th>filtre</th>\n",
       "      <th>ods_adresse</th>\n",
       "      <th>ods_type_activite</th>\n",
       "    </tr>\n",
       "  </thead>\n",
       "  <tbody>\n",
       "    <tr>\n",
       "      <th>0</th>\n",
       "      <td>LE GAULOIS</td>\n",
       "      <td>84752155600013</td>\n",
       "      <td>13100.0</td>\n",
       "      <td>AIX EN PROVENCE</td>\n",
       "      <td>2</td>\n",
       "      <td>2019-05-22T13:00:00+02:00</td>\n",
       "      <td>Restaurant</td>\n",
       "      <td>Très satisfaisant</td>\n",
       "      <td>NaN</td>\n",
       "      <td>43.531956,5.4468</td>\n",
       "      <td>Restaurant</td>\n",
       "      <td>34 rue Jacques de la Roque</td>\n",
       "      <td>Autres</td>\n",
       "    </tr>\n",
       "    <tr>\n",
       "      <th>1</th>\n",
       "      <td>LE CARDEUR DE BACCHUS</td>\n",
       "      <td>82183401700013</td>\n",
       "      <td>13100.0</td>\n",
       "      <td>AIX EN PROVENCE</td>\n",
       "      <td>3</td>\n",
       "      <td>2019-05-24T13:30:00+02:00</td>\n",
       "      <td>Restaurant</td>\n",
       "      <td>Très satisfaisant</td>\n",
       "      <td>NaN</td>\n",
       "      <td>43.529969,5.446457</td>\n",
       "      <td>Restaurant</td>\n",
       "      <td>14 Forum des cardeurs</td>\n",
       "      <td>Autres</td>\n",
       "    </tr>\n",
       "    <tr>\n",
       "      <th>2</th>\n",
       "      <td>CARREFOUR BAR</td>\n",
       "      <td>40829886700016</td>\n",
       "      <td>13100.0</td>\n",
       "      <td>AIX EN PROVENCE</td>\n",
       "      <td>6</td>\n",
       "      <td>2019-05-21T12:30:00+02:00</td>\n",
       "      <td>Restaurant</td>\n",
       "      <td>Très satisfaisant</td>\n",
       "      <td>NaN</td>\n",
       "      <td>43.525265,5.453713</td>\n",
       "      <td>Restaurant</td>\n",
       "      <td>2 rue Roux Alpherand</td>\n",
       "      <td>Autres</td>\n",
       "    </tr>\n",
       "    <tr>\n",
       "      <th>3</th>\n",
       "      <td>LES FILS A MAMAN</td>\n",
       "      <td>83283779300021</td>\n",
       "      <td>13100.0</td>\n",
       "      <td>AIX EN PROVENCE</td>\n",
       "      <td>0</td>\n",
       "      <td>2019-06-13T13:45:00+02:00</td>\n",
       "      <td>Restaurant</td>\n",
       "      <td>Très satisfaisant</td>\n",
       "      <td>NaN</td>\n",
       "      <td>43.528498,5.447157</td>\n",
       "      <td>Restaurant</td>\n",
       "      <td>42 rue Verrerie</td>\n",
       "      <td>Autres</td>\n",
       "    </tr>\n",
       "    <tr>\n",
       "      <th>4</th>\n",
       "      <td>LE FOURNIL DES CORDELIERS</td>\n",
       "      <td>48466238200023</td>\n",
       "      <td>13100.0</td>\n",
       "      <td>AIX EN PROVENCE</td>\n",
       "      <td>1</td>\n",
       "      <td>2019-06-07T11:30:00+02:00</td>\n",
       "      <td>Boulangerie-Pâtisserie</td>\n",
       "      <td>Très satisfaisant</td>\n",
       "      <td>NaN</td>\n",
       "      <td>43.52948,5.444981</td>\n",
       "      <td>Boulangerie-Pâtisserie</td>\n",
       "      <td>67 rue des Cordeliers</td>\n",
       "      <td>Autres</td>\n",
       "    </tr>\n",
       "  </tbody>\n",
       "</table>\n",
       "</div>"
      ],
      "text/plain": [
       "   APP_Libelle_etablissement  ... ods_type_activite\n",
       "0                 LE GAULOIS  ...            Autres\n",
       "1      LE CARDEUR DE BACCHUS  ...            Autres\n",
       "2              CARREFOUR BAR  ...            Autres\n",
       "3           LES FILS A MAMAN  ...            Autres\n",
       "4  LE FOURNIL DES CORDELIERS  ...            Autres\n",
       "\n",
       "[5 rows x 13 columns]"
      ]
     },
     "execution_count": 4,
     "metadata": {
      "tags": []
     },
     "output_type": "execute_result"
    }
   ],
   "source": [
    "df.head(5)"
   ]
  },
  {
   "cell_type": "markdown",
   "metadata": {
    "colab_type": "text",
    "id": "zjp11hqt93kL"
   },
   "source": [
    "Et un échantillon aléatoire ?\n"
   ]
  },
  {
   "cell_type": "code",
   "execution_count": 5,
   "metadata": {
    "colab": {
     "base_uri": "https://localhost:8080/",
     "height": 365
    },
    "colab_type": "code",
    "id": "Gog_D9PYOlS3",
    "outputId": "e3b94aae-83f4-4e26-a8ab-b458b44b61db"
   },
   "outputs": [
    {
     "data": {
      "text/html": [
       "<div>\n",
       "<style scoped>\n",
       "    .dataframe tbody tr th:only-of-type {\n",
       "        vertical-align: middle;\n",
       "    }\n",
       "\n",
       "    .dataframe tbody tr th {\n",
       "        vertical-align: top;\n",
       "    }\n",
       "\n",
       "    .dataframe thead th {\n",
       "        text-align: right;\n",
       "    }\n",
       "</style>\n",
       "<table border=\"1\" class=\"dataframe\">\n",
       "  <thead>\n",
       "    <tr style=\"text-align: right;\">\n",
       "      <th></th>\n",
       "      <th>APP_Libelle_etablissement</th>\n",
       "      <th>SIRET</th>\n",
       "      <th>Code_postal</th>\n",
       "      <th>Libelle_commune</th>\n",
       "      <th>Numero_inspection</th>\n",
       "      <th>Date_inspection</th>\n",
       "      <th>APP_Libelle_activite_etablissement</th>\n",
       "      <th>Synthese_eval_sanit</th>\n",
       "      <th>Agrement</th>\n",
       "      <th>geores</th>\n",
       "      <th>filtre</th>\n",
       "      <th>ods_adresse</th>\n",
       "      <th>ods_type_activite</th>\n",
       "    </tr>\n",
       "  </thead>\n",
       "  <tbody>\n",
       "    <tr>\n",
       "      <th>26474</th>\n",
       "      <td>ECOLE MATERNELLE</td>\n",
       "      <td>21750001600274</td>\n",
       "      <td>75013.0</td>\n",
       "      <td>Paris 13e  Arrondissement</td>\n",
       "      <td>20-022335-1</td>\n",
       "      <td>2020-03-05T01:00:00+01:00</td>\n",
       "      <td>Restauration collective</td>\n",
       "      <td>Satisfaisant</td>\n",
       "      <td>75113016</td>\n",
       "      <td>48.83056,2.368114</td>\n",
       "      <td>Restauration collective</td>\n",
       "      <td>32 PLACE JEANNE D ARC</td>\n",
       "      <td>Autres</td>\n",
       "    </tr>\n",
       "    <tr>\n",
       "      <th>22408</th>\n",
       "      <td>PIZZA TIME</td>\n",
       "      <td>84042157200016</td>\n",
       "      <td>94000.0</td>\n",
       "      <td>Créteil</td>\n",
       "      <td>19-049415-1</td>\n",
       "      <td>2019-06-03T02:00:00+02:00</td>\n",
       "      <td>Restaurant</td>\n",
       "      <td>Très satisfaisant</td>\n",
       "      <td>NaN</td>\n",
       "      <td>48.785515,2.43646</td>\n",
       "      <td>Restaurant</td>\n",
       "      <td>126 AVENUE DU MARECHAL FOCH</td>\n",
       "      <td>Autres</td>\n",
       "    </tr>\n",
       "    <tr>\n",
       "      <th>12847</th>\n",
       "      <td>CAT</td>\n",
       "      <td>78056876200113</td>\n",
       "      <td>60120.0</td>\n",
       "      <td>Breteuil</td>\n",
       "      <td>20-004263-1</td>\n",
       "      <td>2020-01-22T01:00:00+01:00</td>\n",
       "      <td>Restauration collective</td>\n",
       "      <td>Très satisfaisant</td>\n",
       "      <td>NaN</td>\n",
       "      <td>49.630373,2.315006</td>\n",
       "      <td>Restauration collective</td>\n",
       "      <td>RUE BLERIOT</td>\n",
       "      <td>Autres</td>\n",
       "    </tr>\n",
       "    <tr>\n",
       "      <th>2661</th>\n",
       "      <td>CHARCUTERIE ADER</td>\n",
       "      <td>32457903600041</td>\n",
       "      <td>65220.0</td>\n",
       "      <td>Trie-sur-Baïse</td>\n",
       "      <td>19-010764-1</td>\n",
       "      <td>2019-10-14T02:00:00+02:00</td>\n",
       "      <td>Transformation de produits carnés</td>\n",
       "      <td>Très satisfaisant</td>\n",
       "      <td>65452001</td>\n",
       "      <td>43.316072,0.365554</td>\n",
       "      <td>NaN</td>\n",
       "      <td>RTE DE TARBES</td>\n",
       "      <td>Viandes et produits carnés</td>\n",
       "    </tr>\n",
       "    <tr>\n",
       "      <th>10042</th>\n",
       "      <td>AC MONTPARNASSE</td>\n",
       "      <td>31599850000013</td>\n",
       "      <td>75015.0</td>\n",
       "      <td>Paris 15e  Arrondissement</td>\n",
       "      <td>20-003467-1</td>\n",
       "      <td>2020-01-15T01:00:00+01:00</td>\n",
       "      <td>Restaurant</td>\n",
       "      <td>Satisfaisant</td>\n",
       "      <td>NaN</td>\n",
       "      <td>48.842583,2.320459</td>\n",
       "      <td>Restaurant</td>\n",
       "      <td>32 AVENUE DU MAINE</td>\n",
       "      <td>Autres</td>\n",
       "    </tr>\n",
       "  </tbody>\n",
       "</table>\n",
       "</div>"
      ],
      "text/plain": [
       "      APP_Libelle_etablissement  ...           ods_type_activite\n",
       "26474          ECOLE MATERNELLE  ...                      Autres\n",
       "22408                PIZZA TIME  ...                      Autres\n",
       "12847                       CAT  ...                      Autres\n",
       "2661           CHARCUTERIE ADER  ...  Viandes et produits carnés\n",
       "10042           AC MONTPARNASSE  ...                      Autres\n",
       "\n",
       "[5 rows x 13 columns]"
      ]
     },
     "execution_count": 5,
     "metadata": {
      "tags": []
     },
     "output_type": "execute_result"
    }
   ],
   "source": [
    "df.sample(5)"
   ]
  },
  {
   "cell_type": "markdown",
   "metadata": {
    "colab_type": "text",
    "id": "_u0EKQcRNx7v"
   },
   "source": [
    "Quels types de données ?\n"
   ]
  },
  {
   "cell_type": "code",
   "execution_count": 6,
   "metadata": {
    "colab": {
     "base_uri": "https://localhost:8080/",
     "height": 279
    },
    "colab_type": "code",
    "id": "7bNMMctSBjp-",
    "outputId": "9946f2be-05f8-4762-a436-88901f5112b0"
   },
   "outputs": [
    {
     "data": {
      "text/plain": [
       "APP_Libelle_etablissement              object\n",
       "SIRET                                  object\n",
       "Code_postal                           float64\n",
       "Libelle_commune                        object\n",
       "Numero_inspection                      object\n",
       "Date_inspection                        object\n",
       "APP_Libelle_activite_etablissement     object\n",
       "Synthese_eval_sanit                    object\n",
       "Agrement                               object\n",
       "geores                                 object\n",
       "filtre                                 object\n",
       "ods_adresse                            object\n",
       "ods_type_activite                      object\n",
       "dtype: object"
      ]
     },
     "execution_count": 6,
     "metadata": {
      "tags": []
     },
     "output_type": "execute_result"
    }
   ],
   "source": [
    "df.dtypes"
   ]
  },
  {
   "cell_type": "markdown",
   "metadata": {
    "colab_type": "text",
    "id": "ce2RyKNL3KwM"
   },
   "source": [
    "### Explorer le contenu de chaque colonne"
   ]
  },
  {
   "cell_type": "markdown",
   "metadata": {
    "colab_type": "text",
    "id": "8etCdi8u-Ze0"
   },
   "source": [
    "Quels résultats pour les contrôles ?"
   ]
  },
  {
   "cell_type": "code",
   "execution_count": 7,
   "metadata": {
    "colab": {
     "base_uri": "https://localhost:8080/",
     "height": 111
    },
    "colab_type": "code",
    "id": "wxcnLj10g9JJ",
    "outputId": "f076e751-7bed-4323-c91f-94631a7352d5"
   },
   "outputs": [
    {
     "data": {
      "text/plain": [
       "Satisfaisant                     19845\n",
       "Très satisfaisant                15515\n",
       "A améliorer                       2611\n",
       "A corriger de manière urgente      131\n",
       "Name: Synthese_eval_sanit, dtype: int64"
      ]
     },
     "execution_count": 7,
     "metadata": {
      "tags": []
     },
     "output_type": "execute_result"
    }
   ],
   "source": [
    "df['Synthese_eval_sanit'].value_counts()"
   ]
  },
  {
   "cell_type": "markdown",
   "metadata": {
    "colab_type": "text",
    "id": "6AfQhFCh-nZA"
   },
   "source": [
    "Quels types d'établissements ?"
   ]
  },
  {
   "cell_type": "code",
   "execution_count": 8,
   "metadata": {
    "colab": {
     "base_uri": "https://localhost:8080/",
     "height": 241
    },
    "colab_type": "code",
    "id": "m8S-Ebnjg_dT",
    "outputId": "4e813027-5921-4ccc-f62a-acc1213aa7d5"
   },
   "outputs": [
    {
     "data": {
      "text/plain": [
       "Restaurant                                                                                        14572\n",
       "Restauration collective                                                                            6368\n",
       "Boucherie-Charcuterie                                                                              1504\n",
       "Boulangerie-Pâtisserie                                                                             1039\n",
       "Alimentation générale                                                                               926\n",
       "                                                                                                  ...  \n",
       "Chocolatier|Glacier                                                                                   1\n",
       "Boucherie-Charcuterie|Fromagerie|Poissonnerie|Traiteur                                                1\n",
       "Chocolatier|Traiteur                                                                                  1\n",
       "Fromagerie|Poissonnerie                                                                               1\n",
       "Rayon boucherie-charcuterie|Rayon pain/viennoiserie/pâtisserie|Rayon fromagerie|Rayon traiteur        1\n",
       "Name: filtre, Length: 63, dtype: int64"
      ]
     },
     "execution_count": 8,
     "metadata": {
      "tags": []
     },
     "output_type": "execute_result"
    }
   ],
   "source": [
    "df['filtre'].value_counts()"
   ]
  },
  {
   "cell_type": "markdown",
   "metadata": {
    "colab_type": "text",
    "id": "lDqa37_-T7lw"
   },
   "source": [
    "Certaines établissements appartiennent à plusieurs types, mais quelle proportion ?"
   ]
  },
  {
   "cell_type": "code",
   "execution_count": 9,
   "metadata": {
    "colab": {
     "base_uri": "https://localhost:8080/",
     "height": 36
    },
    "colab_type": "code",
    "id": "gm2W3iqQTlnM",
    "outputId": "1024373f-faf2-4198-e367-628ba7e1d6b5"
   },
   "outputs": [
    {
     "data": {
      "text/plain": [
       "0.014749881895963466"
      ]
     },
     "execution_count": 9,
     "metadata": {
      "tags": []
     },
     "output_type": "execute_result"
    }
   ],
   "source": [
    "(df['filtre'].str.contains('\\|')).sum() / len(df)"
   ]
  },
  {
   "cell_type": "markdown",
   "metadata": {
    "colab_type": "text",
    "id": "P9O6f5--UE3K"
   },
   "source": [
    "On fait le choix (arbitraire) de ne garder que le premier"
   ]
  },
  {
   "cell_type": "code",
   "execution_count": 0,
   "metadata": {
    "colab": {},
    "colab_type": "code",
    "id": "8dl4bsz4UFCu"
   },
   "outputs": [],
   "source": [
    "df['filtre'] = df['filtre'].str.split('\\|').str[0]"
   ]
  },
  {
   "cell_type": "markdown",
   "metadata": {
    "colab_type": "text",
    "id": "xwnw-FKdRLpm"
   },
   "source": [
    "Parfois certaines colonnes nécessitent une expertise métier..."
   ]
  },
  {
   "cell_type": "code",
   "execution_count": 11,
   "metadata": {
    "colab": {
     "base_uri": "https://localhost:8080/",
     "height": 241
    },
    "colab_type": "code",
    "id": "oeHJs6DqRK5p",
    "outputId": "786387ff-4e74-4841-b5fc-5a9db10bddd9"
   },
   "outputs": [
    {
     "data": {
      "text/plain": [
       "Restaurant                                                                                           14572\n",
       "Restauration collective                                                                               6368\n",
       "Producteur fermier                                                                                    1769\n",
       "Transformation de lait ou produits laitiers                                                           1340\n",
       "Boucherie-Charcuterie                                                                                 1230\n",
       "                                                                                                     ...  \n",
       "Boucherie-Charcuterie|Fromagerie|Glacier|Poissonnerie                                                    1\n",
       "Chocolatier|Glacier|Traiteur                                                                             1\n",
       "Rayon boucherie-charcuterie|Rayon pain/viennoiserie/pâtisserie|Rayon fromagerie|Rayon traiteur           1\n",
       "Boucherie-Charcuterie|Boulangerie-Pâtisserie|Chocolatier|Fromagerie|Glacier|Poissonnerie|Traiteur        1\n",
       "Chocolatier|Traiteur                                                                                     1\n",
       "Name: APP_Libelle_activite_etablissement, Length: 109, dtype: int64"
      ]
     },
     "execution_count": 11,
     "metadata": {
      "tags": []
     },
     "output_type": "execute_result"
    }
   ],
   "source": [
    "df['APP_Libelle_activite_etablissement'].value_counts()"
   ]
  },
  {
   "cell_type": "code",
   "execution_count": 0,
   "metadata": {
    "colab": {},
    "colab_type": "code",
    "id": "7wFCrAWUSaSP"
   },
   "outputs": [],
   "source": [
    "df.drop('APP_Libelle_activite_etablissement', axis=1, inplace=True)"
   ]
  },
  {
   "cell_type": "markdown",
   "metadata": {
    "colab_type": "text",
    "id": "axWu4KZl_rOb"
   },
   "source": [
    "Et à quoi correspond la colonne `ods_type_activite` ?\n"
   ]
  },
  {
   "cell_type": "code",
   "execution_count": 13,
   "metadata": {
    "colab": {
     "base_uri": "https://localhost:8080/",
     "height": 167
    },
    "colab_type": "code",
    "id": "VNaQsx9UTlWP",
    "outputId": "1d597f9f-ae13-4377-e37a-9b1f8519d947"
   },
   "outputs": [
    {
     "data": {
      "text/plain": [
       "Autres                                              29330\n",
       "Viandes et produits carnés                           2649\n",
       "Produits de la mer et d'eau douce                    1766\n",
       "Lait et produits laitiers                            1570\n",
       "Abattoirs                                            1431\n",
       "Transport et entreposage de denrées alimentaires      995\n",
       "Œufs et ovoproduits                                   361\n",
       "Name: ods_type_activite, dtype: int64"
      ]
     },
     "execution_count": 13,
     "metadata": {
      "tags": []
     },
     "output_type": "execute_result"
    }
   ],
   "source": [
    "df['ods_type_activite'].value_counts()"
   ]
  },
  {
   "cell_type": "markdown",
   "metadata": {
    "colab_type": "text",
    "id": "bi-ltQvR_c6L"
   },
   "source": [
    "Où se situent les contrôles ?"
   ]
  },
  {
   "cell_type": "code",
   "execution_count": 14,
   "metadata": {
    "colab": {
     "base_uri": "https://localhost:8080/",
     "height": 118
    },
    "colab_type": "code",
    "id": "pISo6nS0BCWG",
    "outputId": "e11141ba-08dd-4383-98e9-cc5115795cc2"
   },
   "outputs": [
    {
     "data": {
      "text/html": [
       "<div>\n",
       "<style scoped>\n",
       "    .dataframe tbody tr th:only-of-type {\n",
       "        vertical-align: middle;\n",
       "    }\n",
       "\n",
       "    .dataframe tbody tr th {\n",
       "        vertical-align: top;\n",
       "    }\n",
       "\n",
       "    .dataframe thead th {\n",
       "        text-align: right;\n",
       "    }\n",
       "</style>\n",
       "<table border=\"1\" class=\"dataframe\">\n",
       "  <thead>\n",
       "    <tr style=\"text-align: right;\">\n",
       "      <th></th>\n",
       "      <th>APP_Libelle_etablissement</th>\n",
       "      <th>SIRET</th>\n",
       "      <th>Code_postal</th>\n",
       "      <th>Libelle_commune</th>\n",
       "      <th>Numero_inspection</th>\n",
       "      <th>Date_inspection</th>\n",
       "      <th>Synthese_eval_sanit</th>\n",
       "      <th>Agrement</th>\n",
       "      <th>geores</th>\n",
       "      <th>filtre</th>\n",
       "      <th>ods_adresse</th>\n",
       "      <th>ods_type_activite</th>\n",
       "      <th>latitude</th>\n",
       "      <th>longitude</th>\n",
       "    </tr>\n",
       "  </thead>\n",
       "  <tbody>\n",
       "    <tr>\n",
       "      <th>11899</th>\n",
       "      <td>EHPAD LES SCEVOLLES</td>\n",
       "      <td>35200376800012</td>\n",
       "      <td>86420.0</td>\n",
       "      <td>Monts-sur-Guesnes</td>\n",
       "      <td>19-000500-1</td>\n",
       "      <td>2019-05-28T02:00:00+02:00</td>\n",
       "      <td>Satisfaisant</td>\n",
       "      <td>NaN</td>\n",
       "      <td>46.915427,0.20593</td>\n",
       "      <td>Restauration collective</td>\n",
       "      <td>1, Allée des Quatre Tilleuls</td>\n",
       "      <td>Autres</td>\n",
       "      <td>46.915427</td>\n",
       "      <td>0.20593</td>\n",
       "    </tr>\n",
       "  </tbody>\n",
       "</table>\n",
       "</div>"
      ],
      "text/plain": [
       "      APP_Libelle_etablissement           SIRET  ...   latitude longitude\n",
       "11899       EHPAD LES SCEVOLLES  35200376800012  ...  46.915427   0.20593\n",
       "\n",
       "[1 rows x 14 columns]"
      ]
     },
     "execution_count": 14,
     "metadata": {
      "tags": []
     },
     "output_type": "execute_result"
    }
   ],
   "source": [
    "df['latitude'] = df['geores'].str.split(',').str[0].astype(float)\n",
    "df['longitude'] = df['geores'].str.split(',').str[1].astype(float)\n",
    "df.sample(1)"
   ]
  },
  {
   "cell_type": "code",
   "execution_count": 15,
   "metadata": {
    "colab": {
     "base_uri": "https://localhost:8080/",
     "height": 228
    },
    "colab_type": "code",
    "id": "moo-9UM3Ssja",
    "outputId": "892be71a-e7cf-457d-e053-b72a5d464baa"
   },
   "outputs": [
    {
     "data": {
      "text/plain": [
       "<matplotlib.axes._subplots.AxesSubplot at 0x7f0e2313a898>"
      ]
     },
     "execution_count": 15,
     "metadata": {
      "tags": []
     },
     "output_type": "execute_result"
    },
    {
     "data": {
      "image/png": "[encoded data removed]",
      "text/plain": [
       "<Figure size 432x288 with 1 Axes>"
      ]
     },
     "metadata": {
      "needs_background": "light",
      "tags": []
     },
     "output_type": "display_data"
    }
   ],
   "source": [
    "# !pip install geopandas\n",
    "import geopandas\n",
    "world = geopandas.read_file(geopandas.datasets.get_path('naturalearth_lowres'))\n",
    "base = world.plot(color='white', edgecolor='black')\n",
    "gdf = geopandas.GeoDataFrame(df, geometry=geopandas.points_from_xy(df['longitude'], df['latitude']))\n",
    "gdf.plot(ax=base)"
   ]
  },
  {
   "cell_type": "markdown",
   "metadata": {
    "colab_type": "text",
    "id": "k6M_Zz3E_iUJ"
   },
   "source": [
    "Exploration de l'étrange colonne `Agrement`"
   ]
  },
  {
   "cell_type": "code",
   "execution_count": 16,
   "metadata": {
    "colab": {
     "base_uri": "https://localhost:8080/",
     "height": 36
    },
    "colab_type": "code",
    "id": "ttAMen-tS5LU",
    "outputId": "8f1c16fb-e373-43fb-8f9f-80bd1038e37a"
   },
   "outputs": [
    {
     "data": {
      "text/plain": [
       "0.2352369954333106"
      ]
     },
     "execution_count": 16,
     "metadata": {
      "tags": []
     },
     "output_type": "execute_result"
    }
   ],
   "source": [
    "df['Agrement'].count() / len(df['Agrement'])"
   ]
  },
  {
   "cell_type": "markdown",
   "metadata": {
    "colab_type": "text",
    "id": "OfWrQ3aILl8U"
   },
   "source": [
    "## 2. Feature engineering\n",
    "\n",
    "Le feature engineerng consiste choisir quelles features conserver, en ajouter de nouvelles, et les transformer sous un format adapté pour l'entraînement des modèles. Contrairement à ce qu'on peut penser, **c'est la phase la plus complexe et la plus longue.**\n",
    "\n",
    "A garder en tête : les algorithmes d'apprentissage, supervisés ou non, **ne savent travailler qu'avec des données numériques.**"
   ]
  },
  {
   "cell_type": "markdown",
   "metadata": {
    "colab_type": "text",
    "id": "Scd2eCCcLr8a"
   },
   "source": [
    "#### Simplifions notre valeur cible sous un format numérique"
   ]
  },
  {
   "cell_type": "code",
   "execution_count": 17,
   "metadata": {
    "colab": {
     "base_uri": "https://localhost:8080/",
     "height": 73
    },
    "colab_type": "code",
    "id": "2qMKIBi-Tu70",
    "outputId": "f1af52f6-e54b-4e60-cd51-b8081d386440"
   },
   "outputs": [
    {
     "data": {
      "text/plain": [
       "1    35360\n",
       "0     2742\n",
       "Name: Synthese_eval_sanit, dtype: int64"
      ]
     },
     "execution_count": 17,
     "metadata": {
      "tags": []
     },
     "output_type": "execute_result"
    }
   ],
   "source": [
    "simplification = {'Très satisfaisant': 1,\n",
    "                  'Satisfaisant': 1,\n",
    "                  'A améliorer': 0,\n",
    "                  'A corriger de manière urgente': 0}\n",
    "df['Synthese_eval_sanit'] = df['Synthese_eval_sanit'].map(simplification)\n",
    "df['Synthese_eval_sanit'].value_counts()"
   ]
  },
  {
   "cell_type": "markdown",
   "metadata": {
    "colab_type": "text",
    "id": "GNW1ZZJG_ujF"
   },
   "source": [
    "Géographiquement ça donne quoi ?"
   ]
  },
  {
   "cell_type": "code",
   "execution_count": 18,
   "metadata": {
    "colab": {
     "base_uri": "https://localhost:8080/",
     "height": 284
    },
    "colab_type": "code",
    "id": "azOpSC-H_yyt",
    "outputId": "ed21e3b0-1304-441d-dddf-b021c713e73e"
   },
   "outputs": [
    {
     "data": {
      "text/plain": [
       "<matplotlib.axes._subplots.AxesSubplot at 0x7f0e23141278>"
      ]
     },
     "execution_count": 18,
     "metadata": {
      "tags": []
     },
     "output_type": "execute_result"
    },
    {
     "data": {
      "image/png": "[encoded data removed]",
      "text/plain": [
       "<Figure size 432x288 with 1 Axes>"
      ]
     },
     "metadata": {
      "needs_background": "light",
      "tags": []
     },
     "output_type": "display_data"
    }
   ],
   "source": [
    "gdf = geopandas.GeoDataFrame(df, geometry=geopandas.points_from_xy(df['longitude'], df['latitude']))\n",
    "gdf = gdf[(abs(gdf['longitude']) < 30) & (abs(gdf['latitude']) > 30)]\n",
    "gdf.plot(column='Synthese_eval_sanit')"
   ]
  },
  {
   "cell_type": "markdown",
   "metadata": {
    "colab_type": "text",
    "id": "MuKiNXzwvuXt"
   },
   "source": [
    "### Créer de nouvelles features"
   ]
  },
  {
   "cell_type": "markdown",
   "metadata": {
    "colab_type": "text",
    "id": "Mc9Zz8dzRw_C"
   },
   "source": [
    "Utilisons l'agrément comme un marqueur de qualité"
   ]
  },
  {
   "cell_type": "code",
   "execution_count": 19,
   "metadata": {
    "colab": {
     "base_uri": "https://localhost:8080/",
     "height": 54
    },
    "colab_type": "code",
    "id": "kU4t8M9oR6eo",
    "outputId": "4e203923-9513-4a4e-da58-f5e48ffcfff8"
   },
   "outputs": [
    {
     "data": {
      "text/plain": [
       "35936    0\n",
       "Name: has_agrement, dtype: int64"
      ]
     },
     "execution_count": 19,
     "metadata": {
      "tags": []
     },
     "output_type": "execute_result"
    }
   ],
   "source": [
    "df['has_agrement'] = pd.notnull(df['Agrement']).astype(int)\n",
    "df['has_agrement'].sample(1)"
   ]
  },
  {
   "cell_type": "markdown",
   "metadata": {
    "colab_type": "text",
    "id": "g2M-ur3WNKg_"
   },
   "source": [
    "Ne serait-il pas possible de prendre en compte les contrôles passés d'un restaurant ?"
   ]
  },
  {
   "cell_type": "code",
   "execution_count": 20,
   "metadata": {
    "colab": {
     "base_uri": "https://localhost:8080/",
     "height": 284
    },
    "colab_type": "code",
    "id": "q9UQObozQI8l",
    "outputId": "0ed3f85c-73ac-43aa-cdc3-945b0fc38bf5"
   },
   "outputs": [
    {
     "data": {
      "text/plain": [
       "<matplotlib.axes._subplots.AxesSubplot at 0x7f0e18ea5e10>"
      ]
     },
     "execution_count": 20,
     "metadata": {
      "tags": []
     },
     "output_type": "execute_result"
    },
    {
     "data": {
      "image/png": "[encoded data removed]",
      "text/plain": [
       "<Figure size 432x288 with 1 Axes>"
      ]
     },
     "metadata": {
      "needs_background": "light",
      "tags": []
     },
     "output_type": "display_data"
    }
   ],
   "source": [
    "df['SIRET'].value_counts().hist(bins=100)"
   ]
  },
  {
   "cell_type": "code",
   "execution_count": 0,
   "metadata": {
    "colab": {},
    "colab_type": "code",
    "id": "q7N99jcZPmRV"
   },
   "outputs": [],
   "source": [
    "df['count_controls_siret'] = df.groupby('SIRET')['Synthese_eval_sanit'].transform(lambda x: x.count())"
   ]
  },
  {
   "cell_type": "markdown",
   "metadata": {
    "colab_type": "text",
    "id": "FHF4xHVkbt3D"
   },
   "source": [
    "On peut aussi utiliser de l'information géographique, mais le niveau du code postal est trop précis.\n",
    "\n",
    "Prenons plutôt les codes des départements."
   ]
  },
  {
   "cell_type": "code",
   "execution_count": 22,
   "metadata": {
    "colab": {
     "base_uri": "https://localhost:8080/",
     "height": 36
    },
    "colab_type": "code",
    "id": "XqLLRm-tbyfk",
    "outputId": "bb27d032-e12d-4bd8-c300-5725cadd3562"
   },
   "outputs": [
    {
     "data": {
      "text/plain": [
       "5221"
      ]
     },
     "execution_count": 22,
     "metadata": {
      "tags": []
     },
     "output_type": "execute_result"
    }
   ],
   "source": [
    "df['Code_postal'].nunique()"
   ]
  },
  {
   "cell_type": "code",
   "execution_count": 23,
   "metadata": {
    "colab": {
     "base_uri": "https://localhost:8080/",
     "height": 36
    },
    "colab_type": "code",
    "id": "UToya6Dmb2OK",
    "outputId": "12223e33-92c8-4c46-ac57-49a487c2fbe4"
   },
   "outputs": [
    {
     "data": {
      "text/plain": [
       "24"
      ]
     },
     "execution_count": 23,
     "metadata": {
      "tags": []
     },
     "output_type": "execute_result"
    }
   ],
   "source": [
    "sum(df['Code_postal'].isnull())"
   ]
  },
  {
   "cell_type": "code",
   "execution_count": 24,
   "metadata": {
    "colab": {
     "base_uri": "https://localhost:8080/",
     "height": 54
    },
    "colab_type": "code",
    "id": "3IHoRLAecp6F",
    "outputId": "19ad0481-457f-4db7-bee6-fb505f2a74ba"
   },
   "outputs": [
    {
     "data": {
      "text/plain": [
       "23649    75.0\n",
       "Name: dept, dtype: float64"
      ]
     },
     "execution_count": 24,
     "metadata": {
      "tags": []
     },
     "output_type": "execute_result"
    }
   ],
   "source": [
    "df = df[df['Code_postal'].notnull()]\n",
    "df['dept'] = np.floor(df['Code_postal'] / 1000)\n",
    "df['dept'].sample(1)"
   ]
  },
  {
   "cell_type": "markdown",
   "metadata": {
    "colab_type": "text",
    "id": "z6C_eRyhXLUp"
   },
   "source": [
    "On dispose de la date d'inspection : on peut donc en tirer de nouvelles features."
   ]
  },
  {
   "cell_type": "code",
   "execution_count": 25,
   "metadata": {
    "colab": {
     "base_uri": "https://localhost:8080/",
     "height": 54
    },
    "colab_type": "code",
    "id": "N6yGek9EOA4U",
    "outputId": "4baa9378-711d-46bd-d7f3-4ffccf3a228b"
   },
   "outputs": [
    {
     "data": {
      "text/plain": [
       "22941    2019-06-19T02:00:00+02:00\n",
       "Name: Date_inspection, dtype: object"
      ]
     },
     "execution_count": 25,
     "metadata": {
      "tags": []
     },
     "output_type": "execute_result"
    }
   ],
   "source": [
    "df['Date_inspection'].sample(1)"
   ]
  },
  {
   "cell_type": "code",
   "execution_count": 26,
   "metadata": {
    "colab": {
     "base_uri": "https://localhost:8080/",
     "height": 54
    },
    "colab_type": "code",
    "id": "OZANGyS9OEqe",
    "outputId": "f4b5982b-21d6-4532-d8ff-46f5e26a9da8"
   },
   "outputs": [
    {
     "data": {
      "text/plain": [
       "12090   2019-08-02 00:00:00+00:00\n",
       "Name: Date_inspection, dtype: datetime64[ns, UTC]"
      ]
     },
     "execution_count": 26,
     "metadata": {
      "tags": []
     },
     "output_type": "execute_result"
    }
   ],
   "source": [
    "df['Date_inspection'] = pd.to_datetime(df['Date_inspection'], format='%Y-%m-%dT%H:%M:%S', utc=True)\n",
    "df['Date_inspection'].sample(1)"
   ]
  },
  {
   "cell_type": "code",
   "execution_count": 0,
   "metadata": {
    "colab": {},
    "colab_type": "code",
    "id": "YkR83PK6V_Nr"
   },
   "outputs": [],
   "source": [
    "df['year'] = df['Date_inspection'].dt.year\n",
    "df['month'] = df['Date_inspection'].dt.month\n",
    "df['weekday'] = df['Date_inspection'].dt.weekday"
   ]
  },
  {
   "cell_type": "markdown",
   "metadata": {
    "colab_type": "text",
    "id": "Rrj06y-LN_WC"
   },
   "source": [
    "Peut-on utiliser des informations transverses à plusieurs zones ou groupes ?"
   ]
  },
  {
   "cell_type": "markdown",
   "metadata": {
    "colab_type": "text",
    "id": "KC--9xTBnB0H"
   },
   "source": [
    "- Par département"
   ]
  },
  {
   "cell_type": "code",
   "execution_count": 0,
   "metadata": {
    "colab": {},
    "colab_type": "code",
    "id": "7K3Nby4KOAW0"
   },
   "outputs": [],
   "source": [
    "df['count_controls_dept'] = df.groupby('dept')['Synthese_eval_sanit'].transform(lambda x: x.count())\n",
    "df['score_controls_dept'] = df.groupby('dept')['Synthese_eval_sanit'].transform(lambda x: x.mean())"
   ]
  },
  {
   "cell_type": "markdown",
   "metadata": {
    "colab_type": "text",
    "id": "GleWXRocnEoq"
   },
   "source": [
    "- Par secteur d'activité (Restaurant, Boucherie-Charcuterie, Boulangerie-Pâtisserie, etc.)"
   ]
  },
  {
   "cell_type": "code",
   "execution_count": 0,
   "metadata": {
    "colab": {},
    "colab_type": "code",
    "id": "mYRirHsyR8w4"
   },
   "outputs": [],
   "source": [
    "df['filtre'] = df['filtre'].fillna('NA')\n",
    "df['count_controls_filtre'] = df.groupby('filtre')['Synthese_eval_sanit'].transform(lambda x: x.count())\n",
    "df['score_controls_filtre'] = df.groupby('filtre')['Synthese_eval_sanit'].transform(lambda x: x.mean())"
   ]
  },
  {
   "cell_type": "markdown",
   "metadata": {
    "colab_type": "text",
    "id": "nMaCyqvFni92"
   },
   "source": [
    "- Par type de produits vendus (Viandes et produits carnés, \n",
    "Produits de la mer et d'eau douce, Lait et produits laitiers, etc.)"
   ]
  },
  {
   "cell_type": "code",
   "execution_count": 0,
   "metadata": {
    "colab": {},
    "colab_type": "code",
    "id": "M0o5aQz2S5YA"
   },
   "outputs": [],
   "source": [
    "df['ods_type_activite'] = df['ods_type_activite'].fillna('NA')\n",
    "df['count_controls_activite'] = df.groupby('ods_type_activite')['Synthese_eval_sanit'].transform(lambda x: x.count())\n",
    "df['score_controls_activite'] = df.groupby('ods_type_activite')['Synthese_eval_sanit'].transform(lambda x: x.mean())"
   ]
  },
  {
   "cell_type": "markdown",
   "metadata": {
    "colab_type": "text",
    "id": "wCAt_6P3n0mi"
   },
   "source": [
    "- Par jour de la semaine !"
   ]
  },
  {
   "cell_type": "code",
   "execution_count": 0,
   "metadata": {
    "colab": {},
    "colab_type": "code",
    "id": "zujLmey-m1Na"
   },
   "outputs": [],
   "source": [
    "df['count_controls_wday'] = df.groupby('weekday')['Synthese_eval_sanit'].transform(lambda x: x.count())\n",
    "df['score_controls_wday'] = df.groupby('weekday')['Synthese_eval_sanit'].transform(lambda x: x.mean())"
   ]
  },
  {
   "cell_type": "markdown",
   "metadata": {
    "colab_type": "text",
    "id": "ezhu1oDSSOBe"
   },
   "source": [
    "A quoi ressemblent nos ajouts ?"
   ]
  },
  {
   "cell_type": "code",
   "execution_count": 32,
   "metadata": {
    "colab": {
     "base_uri": "https://localhost:8080/",
     "height": 135
    },
    "colab_type": "code",
    "id": "FUkTnmb3SKhu",
    "outputId": "f388d94d-3ea3-403c-ce42-0499d8e5b8b4"
   },
   "outputs": [
    {
     "data": {
      "text/html": [
       "<div>\n",
       "<style scoped>\n",
       "    .dataframe tbody tr th:only-of-type {\n",
       "        vertical-align: middle;\n",
       "    }\n",
       "\n",
       "    .dataframe tbody tr th {\n",
       "        vertical-align: top;\n",
       "    }\n",
       "\n",
       "    .dataframe thead th {\n",
       "        text-align: right;\n",
       "    }\n",
       "</style>\n",
       "<table border=\"1\" class=\"dataframe\">\n",
       "  <thead>\n",
       "    <tr style=\"text-align: right;\">\n",
       "      <th></th>\n",
       "      <th>APP_Libelle_etablissement</th>\n",
       "      <th>SIRET</th>\n",
       "      <th>Code_postal</th>\n",
       "      <th>Libelle_commune</th>\n",
       "      <th>Numero_inspection</th>\n",
       "      <th>Date_inspection</th>\n",
       "      <th>Synthese_eval_sanit</th>\n",
       "      <th>Agrement</th>\n",
       "      <th>geores</th>\n",
       "      <th>filtre</th>\n",
       "      <th>ods_adresse</th>\n",
       "      <th>ods_type_activite</th>\n",
       "      <th>latitude</th>\n",
       "      <th>longitude</th>\n",
       "      <th>geometry</th>\n",
       "      <th>has_agrement</th>\n",
       "      <th>count_controls_siret</th>\n",
       "      <th>dept</th>\n",
       "      <th>year</th>\n",
       "      <th>month</th>\n",
       "      <th>weekday</th>\n",
       "      <th>count_controls_dept</th>\n",
       "      <th>score_controls_dept</th>\n",
       "      <th>count_controls_filtre</th>\n",
       "      <th>score_controls_filtre</th>\n",
       "      <th>count_controls_activite</th>\n",
       "      <th>score_controls_activite</th>\n",
       "      <th>count_controls_wday</th>\n",
       "      <th>score_controls_wday</th>\n",
       "    </tr>\n",
       "  </thead>\n",
       "  <tbody>\n",
       "    <tr>\n",
       "      <th>12284</th>\n",
       "      <td>PROXI SAINT MICHEL</td>\n",
       "      <td>79948733500025</td>\n",
       "      <td>75014.0</td>\n",
       "      <td>Paris 14e  Arrondissement</td>\n",
       "      <td>20-025189-1</td>\n",
       "      <td>2020-03-13 00:00:00+00:00</td>\n",
       "      <td>1</td>\n",
       "      <td>NaN</td>\n",
       "      <td>48.841585,2.330229</td>\n",
       "      <td>Alimentation générale</td>\n",
       "      <td>114 BOULEVARD DU MONTPARNASSE</td>\n",
       "      <td>Autres</td>\n",
       "      <td>48.841585</td>\n",
       "      <td>2.330229</td>\n",
       "      <td>POINT (2.33023 48.84159)</td>\n",
       "      <td>0</td>\n",
       "      <td>1</td>\n",
       "      <td>75.0</td>\n",
       "      <td>2020</td>\n",
       "      <td>3</td>\n",
       "      <td>4</td>\n",
       "      <td>5874</td>\n",
       "      <td>0.964079</td>\n",
       "      <td>926</td>\n",
       "      <td>0.904968</td>\n",
       "      <td>29313</td>\n",
       "      <td>0.921025</td>\n",
       "      <td>5514</td>\n",
       "      <td>0.927276</td>\n",
       "    </tr>\n",
       "  </tbody>\n",
       "</table>\n",
       "</div>"
      ],
      "text/plain": [
       "      APP_Libelle_etablissement  ... score_controls_wday\n",
       "12284        PROXI SAINT MICHEL  ...            0.927276\n",
       "\n",
       "[1 rows x 29 columns]"
      ]
     },
     "execution_count": 32,
     "metadata": {
      "tags": []
     },
     "output_type": "execute_result"
    }
   ],
   "source": [
    "df.sample(1)"
   ]
  },
  {
   "cell_type": "markdown",
   "metadata": {
    "colab_type": "text",
    "id": "rJ7xYyH0zCi4"
   },
   "source": [
    "### Supprimer des features inutiles ou inutilisables"
   ]
  },
  {
   "cell_type": "code",
   "execution_count": 0,
   "metadata": {
    "colab": {},
    "colab_type": "code",
    "id": "_1ytqDZpYX4x"
   },
   "outputs": [],
   "source": [
    "drop_cols = ['APP_Libelle_etablissement', 'Code_postal', 'SIRET', 'Libelle_commune',\n",
    "             'Numero_inspection', 'Date_inspection','Agrement', 'geores',\n",
    "             'ods_adresse', 'geometry']\n",
    "df = df.drop(drop_cols, axis=1)"
   ]
  },
  {
   "cell_type": "markdown",
   "metadata": {
    "colab_type": "text",
    "id": "UN3RDHWVXrYS"
   },
   "source": [
    "### Encoder les colonnes catégorielles\n",
    "\n",
    "Il est nécessaire de transformer les catégories en nombres. Mais comment faire ?\n",
    "\n",
    "| Etablissement | Activité           |\n",
    "| :------ | :-------------     | \n",
    "| A       | Restaurant         |\n",
    "| B       | Producteur Fermier |\n",
    "| C       | Boucherie          |\n",
    "| D       | Restaurant         |\n",
    "\n",
    "devient :\n",
    "\n",
    "| Etablissement | Activité_Restaurant | Activité_ProducteurFermier | Activité_Boucherie |\n",
    "| :------ | :-: | :-: | :-: | \n",
    "| A       | 1 | 0 | 0 |\n",
    "| B       | 0 | 1 | 0 |\n",
    "| C       | 0 | 0 | 1 |\n",
    "| D       | 1 | 0 | 0 |\n"
   ]
  },
  {
   "cell_type": "markdown",
   "metadata": {
    "colab_type": "text",
    "id": "jAh1VxOSzokl"
   },
   "source": [
    "- **Etape 1 :** on transforme les features à encoder sous format de catégories"
   ]
  },
  {
   "cell_type": "code",
   "execution_count": 34,
   "metadata": {
    "colab": {
     "base_uri": "https://localhost:8080/",
     "height": 194
    },
    "colab_type": "code",
    "id": "yGJXptV4aK8m",
    "outputId": "c2bc5159-12f3-4532-fcf1-eb4faebdd552"
   },
   "outputs": [
    {
     "name": "stdout",
     "output_type": "stream",
     "text": [
      "Nombre de catégories de la colonne \"dept\" : 97\n",
      "Nombre de catégories de la colonne \"filtre\" : 19\n",
      "Nombre de catégories de la colonne \"ods_type_activite\" : 7\n",
      "Nombre de catégories de la colonne \"month\" : 12\n",
      "Nombre de catégories de la colonne \"weekday\" : 7\n"
     ]
    },
    {
     "data": {
      "text/html": [
       "<div>\n",
       "<style scoped>\n",
       "    .dataframe tbody tr th:only-of-type {\n",
       "        vertical-align: middle;\n",
       "    }\n",
       "\n",
       "    .dataframe tbody tr th {\n",
       "        vertical-align: top;\n",
       "    }\n",
       "\n",
       "    .dataframe thead th {\n",
       "        text-align: right;\n",
       "    }\n",
       "</style>\n",
       "<table border=\"1\" class=\"dataframe\">\n",
       "  <thead>\n",
       "    <tr style=\"text-align: right;\">\n",
       "      <th></th>\n",
       "      <th>Synthese_eval_sanit</th>\n",
       "      <th>filtre</th>\n",
       "      <th>ods_type_activite</th>\n",
       "      <th>latitude</th>\n",
       "      <th>longitude</th>\n",
       "      <th>has_agrement</th>\n",
       "      <th>count_controls_siret</th>\n",
       "      <th>dept</th>\n",
       "      <th>year</th>\n",
       "      <th>month</th>\n",
       "      <th>weekday</th>\n",
       "      <th>count_controls_dept</th>\n",
       "      <th>score_controls_dept</th>\n",
       "      <th>count_controls_filtre</th>\n",
       "      <th>score_controls_filtre</th>\n",
       "      <th>count_controls_activite</th>\n",
       "      <th>score_controls_activite</th>\n",
       "      <th>count_controls_wday</th>\n",
       "      <th>score_controls_wday</th>\n",
       "    </tr>\n",
       "  </thead>\n",
       "  <tbody>\n",
       "    <tr>\n",
       "      <th>27703</th>\n",
       "      <td>1</td>\n",
       "      <td>7</td>\n",
       "      <td>3</td>\n",
       "      <td>14.626751</td>\n",
       "      <td>-61.11267</td>\n",
       "      <td>1</td>\n",
       "      <td>1</td>\n",
       "      <td>95</td>\n",
       "      <td>2019</td>\n",
       "      <td>9</td>\n",
       "      <td>2</td>\n",
       "      <td>999</td>\n",
       "      <td>0.813814</td>\n",
       "      <td>10526</td>\n",
       "      <td>0.942428</td>\n",
       "      <td>1765</td>\n",
       "      <td>0.964873</td>\n",
       "      <td>7680</td>\n",
       "      <td>0.924219</td>\n",
       "    </tr>\n",
       "  </tbody>\n",
       "</table>\n",
       "</div>"
      ],
      "text/plain": [
       "       Synthese_eval_sanit  filtre  ...  count_controls_wday  score_controls_wday\n",
       "27703                    1       7  ...                 7680             0.924219\n",
       "\n",
       "[1 rows x 19 columns]"
      ]
     },
     "execution_count": 34,
     "metadata": {
      "tags": []
     },
     "output_type": "execute_result"
    }
   ],
   "source": [
    "categorical_features = ['dept', 'filtre', 'ods_type_activite', 'month', 'weekday']\n",
    "for c in categorical_features:\n",
    "  df[c] = df[c].astype('category').cat.codes\n",
    "  print('Nombre de catégories de la colonne \"{}\" : {}'.format(c, df[c].nunique()))\n",
    "df.sample(1)"
   ]
  },
  {
   "cell_type": "markdown",
   "metadata": {
    "colab_type": "text",
    "id": "0kdfd3H_zyZS"
   },
   "source": [
    "- **Etape 2 :** on créer un encodeur, qui va directement transformer toutes les colonnes catégorielles"
   ]
  },
  {
   "cell_type": "code",
   "execution_count": 0,
   "metadata": {
    "colab": {},
    "colab_type": "code",
    "id": "Hbkn7jQwXrfl"
   },
   "outputs": [],
   "source": [
    "from sklearn.preprocessing import OneHotEncoder\n",
    "encoder = OneHotEncoder(drop='first', sparse=False).fit(df[categorical_features])"
   ]
  },
  {
   "cell_type": "markdown",
   "metadata": {
    "colab_type": "text",
    "id": "9rwtOc5xz8aV"
   },
   "source": [
    "- **Etape 3 :** on fusionne les encodages avec le dataframe originel"
   ]
  },
  {
   "cell_type": "code",
   "execution_count": 36,
   "metadata": {
    "colab": {
     "base_uri": "https://localhost:8080/",
     "height": 36
    },
    "colab_type": "code",
    "id": "7U86CQFgLMxF",
    "outputId": "408d5485-48a8-4089-b39e-0970c84421af"
   },
   "outputs": [
    {
     "data": {
      "text/plain": [
       "(38078, 156)"
      ]
     },
     "execution_count": 36,
     "metadata": {
      "tags": []
     },
     "output_type": "execute_result"
    }
   ],
   "source": [
    "df = pd.concat([df,\n",
    "                pd.DataFrame(data=encoder.transform(df[categorical_features]), \n",
    "                             columns=encoder.get_feature_names(categorical_features), \n",
    "                             index=df.index)], axis=1)\n",
    "df.shape"
   ]
  },
  {
   "cell_type": "code",
   "execution_count": 37,
   "metadata": {
    "colab": {
     "base_uri": "https://localhost:8080/",
     "height": 130
    },
    "colab_type": "code",
    "id": "SUunBEZ-8QX3",
    "outputId": "804a4a27-ec8b-4328-f258-2c03a59cd358"
   },
   "outputs": [
    {
     "data": {
      "text/html": [
       "<div>\n",
       "<style scoped>\n",
       "    .dataframe tbody tr th:only-of-type {\n",
       "        vertical-align: middle;\n",
       "    }\n",
       "\n",
       "    .dataframe tbody tr th {\n",
       "        vertical-align: top;\n",
       "    }\n",
       "\n",
       "    .dataframe thead th {\n",
       "        text-align: right;\n",
       "    }\n",
       "</style>\n",
       "<table border=\"1\" class=\"dataframe\">\n",
       "  <thead>\n",
       "    <tr style=\"text-align: right;\">\n",
       "      <th></th>\n",
       "      <th>Synthese_eval_sanit</th>\n",
       "      <th>filtre</th>\n",
       "      <th>ods_type_activite</th>\n",
       "      <th>latitude</th>\n",
       "      <th>longitude</th>\n",
       "      <th>has_agrement</th>\n",
       "      <th>count_controls_siret</th>\n",
       "      <th>dept</th>\n",
       "      <th>year</th>\n",
       "      <th>month</th>\n",
       "      <th>weekday</th>\n",
       "      <th>count_controls_dept</th>\n",
       "      <th>score_controls_dept</th>\n",
       "      <th>count_controls_filtre</th>\n",
       "      <th>score_controls_filtre</th>\n",
       "      <th>count_controls_activite</th>\n",
       "      <th>score_controls_activite</th>\n",
       "      <th>count_controls_wday</th>\n",
       "      <th>score_controls_wday</th>\n",
       "      <th>dept_1</th>\n",
       "      <th>dept_2</th>\n",
       "      <th>dept_3</th>\n",
       "      <th>dept_4</th>\n",
       "      <th>dept_5</th>\n",
       "      <th>dept_6</th>\n",
       "      <th>dept_7</th>\n",
       "      <th>dept_8</th>\n",
       "      <th>dept_9</th>\n",
       "      <th>dept_10</th>\n",
       "      <th>dept_11</th>\n",
       "      <th>dept_12</th>\n",
       "      <th>dept_13</th>\n",
       "      <th>dept_14</th>\n",
       "      <th>dept_15</th>\n",
       "      <th>dept_16</th>\n",
       "      <th>dept_17</th>\n",
       "      <th>dept_18</th>\n",
       "      <th>dept_19</th>\n",
       "      <th>dept_20</th>\n",
       "      <th>dept_21</th>\n",
       "      <th>...</th>\n",
       "      <th>filtre_2</th>\n",
       "      <th>filtre_3</th>\n",
       "      <th>filtre_4</th>\n",
       "      <th>filtre_5</th>\n",
       "      <th>filtre_6</th>\n",
       "      <th>filtre_7</th>\n",
       "      <th>filtre_8</th>\n",
       "      <th>filtre_9</th>\n",
       "      <th>filtre_10</th>\n",
       "      <th>filtre_11</th>\n",
       "      <th>filtre_12</th>\n",
       "      <th>filtre_13</th>\n",
       "      <th>filtre_14</th>\n",
       "      <th>filtre_15</th>\n",
       "      <th>filtre_16</th>\n",
       "      <th>filtre_17</th>\n",
       "      <th>filtre_18</th>\n",
       "      <th>ods_type_activite_1</th>\n",
       "      <th>ods_type_activite_2</th>\n",
       "      <th>ods_type_activite_3</th>\n",
       "      <th>ods_type_activite_4</th>\n",
       "      <th>ods_type_activite_5</th>\n",
       "      <th>ods_type_activite_6</th>\n",
       "      <th>month_1</th>\n",
       "      <th>month_2</th>\n",
       "      <th>month_3</th>\n",
       "      <th>month_4</th>\n",
       "      <th>month_5</th>\n",
       "      <th>month_6</th>\n",
       "      <th>month_7</th>\n",
       "      <th>month_8</th>\n",
       "      <th>month_9</th>\n",
       "      <th>month_10</th>\n",
       "      <th>month_11</th>\n",
       "      <th>weekday_1</th>\n",
       "      <th>weekday_2</th>\n",
       "      <th>weekday_3</th>\n",
       "      <th>weekday_4</th>\n",
       "      <th>weekday_5</th>\n",
       "      <th>weekday_6</th>\n",
       "    </tr>\n",
       "  </thead>\n",
       "  <tbody>\n",
       "    <tr>\n",
       "      <th>11339</th>\n",
       "      <td>1</td>\n",
       "      <td>6</td>\n",
       "      <td>1</td>\n",
       "      <td>46.573515</td>\n",
       "      <td>5.959589</td>\n",
       "      <td>0</td>\n",
       "      <td>1</td>\n",
       "      <td>38</td>\n",
       "      <td>2019</td>\n",
       "      <td>7</td>\n",
       "      <td>1</td>\n",
       "      <td>151</td>\n",
       "      <td>0.966887</td>\n",
       "      <td>467</td>\n",
       "      <td>0.970021</td>\n",
       "      <td>29313</td>\n",
       "      <td>0.921025</td>\n",
       "      <td>10149</td>\n",
       "      <td>0.92817</td>\n",
       "      <td>0.0</td>\n",
       "      <td>0.0</td>\n",
       "      <td>0.0</td>\n",
       "      <td>0.0</td>\n",
       "      <td>0.0</td>\n",
       "      <td>0.0</td>\n",
       "      <td>0.0</td>\n",
       "      <td>0.0</td>\n",
       "      <td>0.0</td>\n",
       "      <td>0.0</td>\n",
       "      <td>0.0</td>\n",
       "      <td>0.0</td>\n",
       "      <td>0.0</td>\n",
       "      <td>0.0</td>\n",
       "      <td>0.0</td>\n",
       "      <td>0.0</td>\n",
       "      <td>0.0</td>\n",
       "      <td>0.0</td>\n",
       "      <td>0.0</td>\n",
       "      <td>0.0</td>\n",
       "      <td>0.0</td>\n",
       "      <td>...</td>\n",
       "      <td>0.0</td>\n",
       "      <td>0.0</td>\n",
       "      <td>0.0</td>\n",
       "      <td>0.0</td>\n",
       "      <td>1.0</td>\n",
       "      <td>0.0</td>\n",
       "      <td>0.0</td>\n",
       "      <td>0.0</td>\n",
       "      <td>0.0</td>\n",
       "      <td>0.0</td>\n",
       "      <td>0.0</td>\n",
       "      <td>0.0</td>\n",
       "      <td>0.0</td>\n",
       "      <td>0.0</td>\n",
       "      <td>0.0</td>\n",
       "      <td>0.0</td>\n",
       "      <td>0.0</td>\n",
       "      <td>1.0</td>\n",
       "      <td>0.0</td>\n",
       "      <td>0.0</td>\n",
       "      <td>0.0</td>\n",
       "      <td>0.0</td>\n",
       "      <td>0.0</td>\n",
       "      <td>0.0</td>\n",
       "      <td>0.0</td>\n",
       "      <td>0.0</td>\n",
       "      <td>0.0</td>\n",
       "      <td>0.0</td>\n",
       "      <td>0.0</td>\n",
       "      <td>1.0</td>\n",
       "      <td>0.0</td>\n",
       "      <td>0.0</td>\n",
       "      <td>0.0</td>\n",
       "      <td>0.0</td>\n",
       "      <td>1.0</td>\n",
       "      <td>0.0</td>\n",
       "      <td>0.0</td>\n",
       "      <td>0.0</td>\n",
       "      <td>0.0</td>\n",
       "      <td>0.0</td>\n",
       "    </tr>\n",
       "  </tbody>\n",
       "</table>\n",
       "<p>1 rows × 156 columns</p>\n",
       "</div>"
      ],
      "text/plain": [
       "       Synthese_eval_sanit  filtre  ...  weekday_5  weekday_6\n",
       "11339                    1       6  ...        0.0        0.0\n",
       "\n",
       "[1 rows x 156 columns]"
      ]
     },
     "execution_count": 37,
     "metadata": {
      "tags": []
     },
     "output_type": "execute_result"
    }
   ],
   "source": [
    "df.sample(1)"
   ]
  },
  {
   "cell_type": "markdown",
   "metadata": {
    "colab_type": "text",
    "id": "bUodOzkK7HfG"
   },
   "source": [
    "## 3. Entraîner et comparer des modèles\n",
    "\n",
    "Une fois que nos données sont sélectionnées et mises en forme, la phase d'apprentissage consiste à choisir le modèle et à optimiser ses paramètres."
   ]
  },
  {
   "cell_type": "markdown",
   "metadata": {
    "colab_type": "text",
    "id": "UfbDasJv-i9X"
   },
   "source": [
    "### Un dernier nettoyage du jeu de données"
   ]
  },
  {
   "cell_type": "code",
   "execution_count": 38,
   "metadata": {
    "colab": {
     "base_uri": "https://localhost:8080/",
     "height": 36
    },
    "colab_type": "code",
    "id": "ndkyZ1po-nLS",
    "outputId": "f3c781ed-acb0-4b17-84a9-76d23ef72de2"
   },
   "outputs": [
    {
     "data": {
      "text/plain": [
       "(38078, 156)"
      ]
     },
     "execution_count": 38,
     "metadata": {
      "tags": []
     },
     "output_type": "execute_result"
    }
   ],
   "source": [
    "df.shape"
   ]
  },
  {
   "cell_type": "markdown",
   "metadata": {
    "colab_type": "text",
    "id": "oVzLsieJ1L-q"
   },
   "source": [
    "Suppression des lignes contenant des NaN"
   ]
  },
  {
   "cell_type": "code",
   "execution_count": 39,
   "metadata": {
    "colab": {
     "base_uri": "https://localhost:8080/",
     "height": 36
    },
    "colab_type": "code",
    "id": "-fRu1Hs8-nR4",
    "outputId": "2db6e6be-36bf-42d3-beab-a193f260b985"
   },
   "outputs": [
    {
     "data": {
      "text/plain": [
       "(36933, 156)"
      ]
     },
     "execution_count": 39,
     "metadata": {
      "tags": []
     },
     "output_type": "execute_result"
    }
   ],
   "source": [
    "df = df.dropna()\n",
    "df.shape"
   ]
  },
  {
   "cell_type": "markdown",
   "metadata": {
    "colab_type": "text",
    "id": "vjFWA6f51OoN"
   },
   "source": [
    "Suppression des colonnes avec une seule valeur différente"
   ]
  },
  {
   "cell_type": "code",
   "execution_count": 40,
   "metadata": {
    "colab": {
     "base_uri": "https://localhost:8080/",
     "height": 36
    },
    "colab_type": "code",
    "id": "ayl0aL2SfO5m",
    "outputId": "29d2cf86-ddab-4aaa-dbc1-903820ea9017"
   },
   "outputs": [
    {
     "data": {
      "text/plain": [
       "(36933, 155)"
      ]
     },
     "execution_count": 40,
     "metadata": {
      "tags": []
     },
     "output_type": "execute_result"
    }
   ],
   "source": [
    "for col in df.columns:\n",
    "    if len(df[col].unique()) == 1:\n",
    "        df.drop(col, inplace=True, axis=1)\n",
    "df.shape"
   ]
  },
  {
   "cell_type": "markdown",
   "metadata": {
    "colab_type": "text",
    "id": "OuY5OPS6726N"
   },
   "source": [
    "### Séparation en jeux de données \"train\" et \"test\""
   ]
  },
  {
   "cell_type": "code",
   "execution_count": 0,
   "metadata": {
    "colab": {},
    "colab_type": "code",
    "id": "qbrde2DeN4Jz"
   },
   "outputs": [],
   "source": [
    "from sklearn.model_selection import train_test_split\n",
    "features = [col for col in df.columns if col not in categorical_features\n",
    "            and col != 'Synthese_eval_sanit']\n",
    "\n",
    "df_train, df_test = train_test_split(df, test_size=0.2)\n",
    "\n",
    "X_train = df_train[features]\n",
    "y_train = df_train['Synthese_eval_sanit']\n",
    "\n",
    "X_test = df_test[features]\n",
    "y_test = df_test['Synthese_eval_sanit']"
   ]
  },
  {
   "cell_type": "markdown",
   "metadata": {
    "colab_type": "text",
    "id": "GS04nFp09g1G"
   },
   "source": [
    "### Echantillonner pour équilibrer les classes\n"
   ]
  },
  {
   "cell_type": "code",
   "execution_count": 42,
   "metadata": {
    "colab": {
     "base_uri": "https://localhost:8080/",
     "height": 36
    },
    "colab_type": "code",
    "id": "ioSkssE_8wNm",
    "outputId": "46d7de56-4f58-4634-8be6-42c29649631f"
   },
   "outputs": [
    {
     "data": {
      "text/plain": [
       "(0.9286197793271509, 0.927710843373494)"
      ]
     },
     "execution_count": 42,
     "metadata": {
      "tags": []
     },
     "output_type": "execute_result"
    }
   ],
   "source": [
    "y_train.mean(), y_test.mean()"
   ]
  },
  {
   "cell_type": "markdown",
   "metadata": {
    "colab_type": "text",
    "id": "P5hFY_SP1yHP"
   },
   "source": [
    "Les deux catégories que nous cherchons à prédire ne sont pas équilibrées ! L'algorithme pourrait utiliser cette faille pour facilement obtenir de bons résultats."
   ]
  },
  {
   "cell_type": "code",
   "execution_count": 43,
   "metadata": {
    "colab": {
     "base_uri": "https://localhost:8080/",
     "height": 205
    },
    "colab_type": "code",
    "id": "tidHCIX9Czab",
    "outputId": "8dd9b70d-82cb-4cd2-c857-f7c1e145fd94"
   },
   "outputs": [
    {
     "name": "stderr",
     "output_type": "stream",
     "text": [
      "/usr/local/lib/python3.6/dist-packages/sklearn/externals/six.py:31: FutureWarning: The module is deprecated in version 0.21 and will be removed in version 0.23 since we've dropped support for Python 2.7. Please rely on the official version of six (https://pypi.org/project/six/).\n",
      "  \"(https://pypi.org/project/six/).\", FutureWarning)\n",
      "/usr/local/lib/python3.6/dist-packages/sklearn/utils/deprecation.py:144: FutureWarning: The sklearn.neighbors.base module is  deprecated in version 0.22 and will be removed in version 0.24. The corresponding classes / functions should instead be imported from sklearn.neighbors. Anything that cannot be imported from sklearn.neighbors is now part of the private API.\n",
      "  warnings.warn(message, FutureWarning)\n",
      "/usr/local/lib/python3.6/dist-packages/sklearn/utils/deprecation.py:87: FutureWarning: Function safe_indexing is deprecated; safe_indexing is deprecated in version 0.22 and will be removed in version 0.24.\n",
      "  warnings.warn(msg, category=FutureWarning)\n",
      "/usr/local/lib/python3.6/dist-packages/sklearn/utils/deprecation.py:87: FutureWarning: Function safe_indexing is deprecated; safe_indexing is deprecated in version 0.22 and will be removed in version 0.24.\n",
      "  warnings.warn(msg, category=FutureWarning)\n"
     ]
    },
    {
     "data": {
      "text/plain": [
       "(0.5, 0.5)"
      ]
     },
     "execution_count": 43,
     "metadata": {
      "tags": []
     },
     "output_type": "execute_result"
    }
   ],
   "source": [
    "from imblearn.under_sampling import RandomUnderSampler\n",
    "sampler = RandomUnderSampler()\n",
    "X_train, y_train = sampler.fit_resample(X_train, y_train)\n",
    "X_test, y_test = sampler.fit_resample(X_test, y_test)\n",
    "\n",
    "y_train.mean(), y_test.mean()"
   ]
  },
  {
   "cell_type": "markdown",
   "metadata": {
    "colab_type": "text",
    "id": "WxNazQyp9yBB"
   },
   "source": [
    "### Un modèle simple : la méthode des k plus proches voisins"
   ]
  },
  {
   "cell_type": "code",
   "execution_count": 44,
   "metadata": {
    "colab": {
     "base_uri": "https://localhost:8080/",
     "height": 36
    },
    "colab_type": "code",
    "id": "W3XKVJ4iDs5V",
    "outputId": "afd80f2f-e18a-4fe2-8ec3-651d7cc9b201"
   },
   "outputs": [
    {
     "data": {
      "text/plain": [
       "0.5955056179775281"
      ]
     },
     "execution_count": 44,
     "metadata": {
      "tags": []
     },
     "output_type": "execute_result"
    }
   ],
   "source": [
    "from sklearn.neighbors import KNeighborsClassifier\n",
    "\n",
    "knn_model = KNeighborsClassifier(n_neighbors=5)\n",
    "knn_model.fit(X_train, y_train)\n",
    "knn_model.score(X_test, y_test)"
   ]
  },
  {
   "cell_type": "markdown",
   "metadata": {
    "colab_type": "text",
    "id": "SCkk2cZcAe8l"
   },
   "source": [
    "### Un modèle plus avancé : l'arbre de décision"
   ]
  },
  {
   "cell_type": "code",
   "execution_count": 45,
   "metadata": {
    "colab": {
     "base_uri": "https://localhost:8080/",
     "height": 36
    },
    "colab_type": "code",
    "id": "SPev_pC69xSa",
    "outputId": "abc65959-8ac7-49ef-da76-bc09abfef6bc"
   },
   "outputs": [
    {
     "data": {
      "text/plain": [
       "0.6479400749063671"
      ]
     },
     "execution_count": 45,
     "metadata": {
      "tags": []
     },
     "output_type": "execute_result"
    }
   ],
   "source": [
    "from sklearn.tree import DecisionTreeClassifier\n",
    "\n",
    "dt_model = DecisionTreeClassifier(max_depth=10)\n",
    "dt_model.fit(X_train, y_train)\n",
    "dt_model.score(X_test, y_test)"
   ]
  },
  {
   "cell_type": "markdown",
   "metadata": {
    "colab_type": "text",
    "id": "jrVn9keQDpOU"
   },
   "source": [
    "L'arbre de décision présente l'intérêt d'être interprétable :"
   ]
  },
  {
   "cell_type": "code",
   "execution_count": 46,
   "metadata": {
    "colab": {
     "base_uri": "https://localhost:8080/",
     "height": 412
    },
    "colab_type": "code",
    "id": "N9ZvN2lZ9rwN",
    "outputId": "aa05536e-7a23-4704-e5bb-7be21c74f954"
   },
   "outputs": [
    {
     "data": {
      "image/png": "[encoded data removed]",
      "text/plain": [
       "<IPython.core.display.Image object>"
      ]
     },
     "execution_count": 46,
     "metadata": {
      "tags": []
     },
     "output_type": "execute_result"
    }
   ],
   "source": [
    "from io import StringIO  \n",
    "from IPython.display import Image  \n",
    "from sklearn.tree import export_graphviz\n",
    "import pydotplus\n",
    "\n",
    "def plot_dt(dt, max_depth):\n",
    "    dot_data = StringIO()\n",
    "    export_graphviz(dt, out_file=dot_data, filled=True, rounded=True, feature_names=features, max_depth=max_depth)\n",
    "    graph = pydotplus.graph_from_dot_data(dot_data.getvalue())  \n",
    "    return Image(graph.create_png())\n",
    "    \n",
    "plot_dt(dt_model, max_depth=3)"
   ]
  },
  {
   "cell_type": "markdown",
   "metadata": {
    "colab_type": "text",
    "id": "WBD_FtXdFYOu"
   },
   "source": [
    "### S'appuyer sur un ensemble de modèles\n",
    "\n",
    "Et si on utilisait plutôt une forêt pleine d'arbres ?"
   ]
  },
  {
   "cell_type": "code",
   "execution_count": 47,
   "metadata": {
    "colab": {
     "base_uri": "https://localhost:8080/",
     "height": 36
    },
    "colab_type": "code",
    "id": "gQt_BpkH9pNu",
    "outputId": "d9bb251e-25c9-400d-a1ad-d6fd01a4dd41"
   },
   "outputs": [
    {
     "data": {
      "text/plain": [
       "0.6882022471910112"
      ]
     },
     "execution_count": 47,
     "metadata": {
      "tags": []
     },
     "output_type": "execute_result"
    }
   ],
   "source": [
    "from sklearn.ensemble import RandomForestClassifier\n",
    "\n",
    "rf_model = RandomForestClassifier(n_estimators=100, max_depth=12)\n",
    "rf_model.fit(X_train, y_train)\n",
    "rf_model.score(X_test, y_test)"
   ]
  },
  {
   "cell_type": "markdown",
   "metadata": {
    "colab_type": "text",
    "id": "l3hW3kZMGNrT"
   },
   "source": [
    "### La notion d'hyperparamètres"
   ]
  },
  {
   "cell_type": "markdown",
   "metadata": {
    "colab_type": "text",
    "id": "nCtidWZjGWrH"
   },
   "source": [
    "Le concept d'**hyperparamètres** : des paramètres que le modèle ne peut pas apprendre. Par exemple :\n",
    "- la profondeur de l'arbre `max_depth`\n",
    "- le nombre d'arbres dans la forêt `n_estimators`\n",
    "- le nombre de voisins à considérer `n_neighbors`\n",
    "\n",
    "Comment les optimiser ? En testant !"
   ]
  },
  {
   "cell_type": "code",
   "execution_count": 48,
   "metadata": {
    "colab": {
     "base_uri": "https://localhost:8080/",
     "height": 281
    },
    "colab_type": "code",
    "id": "fu7kqUKVGcnU",
    "outputId": "8180d81b-7e55-41ab-ecfc-a7d3dc67d97e"
   },
   "outputs": [
    {
     "data": {
      "image/png": "[encoded data removed]",
      "text/plain": [
       "<Figure size 432x288 with 1 Axes>"
      ]
     },
     "metadata": {
      "needs_background": "light",
      "tags": []
     },
     "output_type": "display_data"
    }
   ],
   "source": [
    "scores = []\n",
    "steps = range(1, 102, 10)\n",
    "for n in steps:\n",
    "  repetitions = range(10)\n",
    "  step_score = []\n",
    "  for i in repetitions:\n",
    "    model = DecisionTreeClassifier(max_depth=n)\n",
    "    model.fit(X_train, y_train)\n",
    "    step_score.append(model.score(X_test, y_test))\n",
    "  scores.append(np.mean(step_score))\n",
    "plt.plot(steps, scores)\n",
    "plt.title(\"Justesse en fonction de la profondeur de l'arbre\")\n",
    "plt.show()"
   ]
  },
  {
   "cell_type": "markdown",
   "metadata": {
    "colab_type": "text",
    "id": "y7PGioGxIyzg"
   },
   "source": [
    "### Les réseaux de neurones"
   ]
  },
  {
   "cell_type": "code",
   "execution_count": 0,
   "metadata": {
    "colab": {},
    "colab_type": "code",
    "id": "JdcDK48sYL6n"
   },
   "outputs": [],
   "source": [
    "from sklearn.preprocessing import MinMaxScaler\n",
    "scaler = MinMaxScaler()\n",
    "X_train_norm = scaler.fit_transform(X_train)\n",
    "X_test_norm = scaler.transform(X_test)"
   ]
  },
  {
   "cell_type": "code",
   "execution_count": 50,
   "metadata": {
    "colab": {
     "base_uri": "https://localhost:8080/",
     "height": 1000
    },
    "colab_type": "code",
    "id": "PzDm_th6J7i6",
    "outputId": "d6ba4aaf-cadf-424d-937b-7fe15786c9b0"
   },
   "outputs": [
    {
     "name": "stdout",
     "output_type": "stream",
     "text": [
      "Epoch 1/100\n",
      "22/22 [==============================] - 0s 9ms/step - loss: 0.2451 - accuracy: 0.5574 - val_loss: 0.2358 - val_accuracy: 0.6161\n",
      "Epoch 2/100\n",
      "22/22 [==============================] - 0s 4ms/step - loss: 0.2302 - accuracy: 0.6299 - val_loss: 0.2247 - val_accuracy: 0.6433\n",
      "Epoch 3/100\n",
      "22/22 [==============================] - 0s 4ms/step - loss: 0.2212 - accuracy: 0.6520 - val_loss: 0.2176 - val_accuracy: 0.6489\n",
      "Epoch 4/100\n",
      "22/22 [==============================] - 0s 3ms/step - loss: 0.2142 - accuracy: 0.6636 - val_loss: 0.2131 - val_accuracy: 0.6536\n",
      "Epoch 5/100\n",
      "22/22 [==============================] - 0s 3ms/step - loss: 0.2097 - accuracy: 0.6709 - val_loss: 0.2126 - val_accuracy: 0.6517\n",
      "Epoch 6/100\n",
      "22/22 [==============================] - 0s 3ms/step - loss: 0.2072 - accuracy: 0.6807 - val_loss: 0.2089 - val_accuracy: 0.6601\n",
      "Epoch 7/100\n",
      "22/22 [==============================] - 0s 4ms/step - loss: 0.2044 - accuracy: 0.6795 - val_loss: 0.2091 - val_accuracy: 0.6620\n",
      "Epoch 8/100\n",
      "22/22 [==============================] - 0s 3ms/step - loss: 0.2025 - accuracy: 0.6807 - val_loss: 0.2075 - val_accuracy: 0.6713\n",
      "Epoch 9/100\n",
      "22/22 [==============================] - 0s 4ms/step - loss: 0.2009 - accuracy: 0.6885 - val_loss: 0.2072 - val_accuracy: 0.6723\n",
      "Epoch 10/100\n",
      "22/22 [==============================] - 0s 3ms/step - loss: 0.1995 - accuracy: 0.6863 - val_loss: 0.2073 - val_accuracy: 0.6732\n",
      "Epoch 11/100\n",
      "22/22 [==============================] - 0s 3ms/step - loss: 0.1976 - accuracy: 0.6999 - val_loss: 0.2072 - val_accuracy: 0.6695\n",
      "Epoch 12/100\n",
      "22/22 [==============================] - 0s 4ms/step - loss: 0.1959 - accuracy: 0.7044 - val_loss: 0.2069 - val_accuracy: 0.6742\n",
      "Epoch 13/100\n",
      "22/22 [==============================] - 0s 3ms/step - loss: 0.1953 - accuracy: 0.7029 - val_loss: 0.2065 - val_accuracy: 0.6760\n",
      "Epoch 14/100\n",
      "22/22 [==============================] - 0s 4ms/step - loss: 0.1932 - accuracy: 0.7086 - val_loss: 0.2068 - val_accuracy: 0.6779\n",
      "Epoch 15/100\n",
      "22/22 [==============================] - 0s 4ms/step - loss: 0.1924 - accuracy: 0.7079 - val_loss: 0.2065 - val_accuracy: 0.6751\n",
      "Epoch 16/100\n",
      "22/22 [==============================] - 0s 4ms/step - loss: 0.1901 - accuracy: 0.7136 - val_loss: 0.2066 - val_accuracy: 0.6704\n",
      "Epoch 17/100\n",
      "22/22 [==============================] - 0s 3ms/step - loss: 0.1886 - accuracy: 0.7167 - val_loss: 0.2056 - val_accuracy: 0.6779\n",
      "Epoch 18/100\n",
      "22/22 [==============================] - 0s 3ms/step - loss: 0.1866 - accuracy: 0.7238 - val_loss: 0.2055 - val_accuracy: 0.6835\n",
      "Epoch 19/100\n",
      "22/22 [==============================] - 0s 3ms/step - loss: 0.1851 - accuracy: 0.7297 - val_loss: 0.2052 - val_accuracy: 0.6816\n",
      "Epoch 20/100\n",
      "22/22 [==============================] - 0s 4ms/step - loss: 0.1837 - accuracy: 0.7335 - val_loss: 0.2053 - val_accuracy: 0.6816\n",
      "Epoch 21/100\n",
      "22/22 [==============================] - 0s 3ms/step - loss: 0.1815 - accuracy: 0.7352 - val_loss: 0.2049 - val_accuracy: 0.6704\n",
      "Epoch 22/100\n",
      "22/22 [==============================] - 0s 3ms/step - loss: 0.1794 - accuracy: 0.7378 - val_loss: 0.2045 - val_accuracy: 0.6807\n",
      "Epoch 23/100\n",
      "22/22 [==============================] - 0s 3ms/step - loss: 0.1781 - accuracy: 0.7411 - val_loss: 0.2045 - val_accuracy: 0.6760\n",
      "Epoch 24/100\n",
      "22/22 [==============================] - 0s 3ms/step - loss: 0.1762 - accuracy: 0.7466 - val_loss: 0.2039 - val_accuracy: 0.6760\n",
      "Epoch 25/100\n",
      "22/22 [==============================] - 0s 4ms/step - loss: 0.1748 - accuracy: 0.7549 - val_loss: 0.2043 - val_accuracy: 0.6788\n",
      "Epoch 26/100\n",
      "22/22 [==============================] - 0s 3ms/step - loss: 0.1734 - accuracy: 0.7553 - val_loss: 0.2038 - val_accuracy: 0.6779\n",
      "Epoch 27/100\n",
      "22/22 [==============================] - 0s 4ms/step - loss: 0.1703 - accuracy: 0.7589 - val_loss: 0.2048 - val_accuracy: 0.6751\n",
      "Epoch 28/100\n",
      "22/22 [==============================] - 0s 3ms/step - loss: 0.1691 - accuracy: 0.7670 - val_loss: 0.2046 - val_accuracy: 0.6788\n",
      "Epoch 29/100\n",
      "22/22 [==============================] - 0s 3ms/step - loss: 0.1671 - accuracy: 0.7670 - val_loss: 0.2051 - val_accuracy: 0.6779\n",
      "Epoch 30/100\n",
      "22/22 [==============================] - 0s 3ms/step - loss: 0.1647 - accuracy: 0.7729 - val_loss: 0.2046 - val_accuracy: 0.6845\n",
      "Epoch 31/100\n",
      "22/22 [==============================] - 0s 3ms/step - loss: 0.1635 - accuracy: 0.7724 - val_loss: 0.2051 - val_accuracy: 0.6770\n",
      "Epoch 32/100\n",
      "22/22 [==============================] - 0s 3ms/step - loss: 0.1628 - accuracy: 0.7819 - val_loss: 0.2040 - val_accuracy: 0.6770\n",
      "Epoch 33/100\n",
      "22/22 [==============================] - 0s 3ms/step - loss: 0.1608 - accuracy: 0.7826 - val_loss: 0.2084 - val_accuracy: 0.6751\n",
      "Epoch 34/100\n",
      "22/22 [==============================] - 0s 4ms/step - loss: 0.1606 - accuracy: 0.7764 - val_loss: 0.2036 - val_accuracy: 0.6798\n",
      "Epoch 35/100\n",
      "22/22 [==============================] - 0s 4ms/step - loss: 0.1565 - accuracy: 0.7873 - val_loss: 0.2050 - val_accuracy: 0.6835\n",
      "Epoch 36/100\n",
      "22/22 [==============================] - 0s 3ms/step - loss: 0.1552 - accuracy: 0.7975 - val_loss: 0.2048 - val_accuracy: 0.6835\n",
      "Epoch 37/100\n",
      "22/22 [==============================] - 0s 3ms/step - loss: 0.1540 - accuracy: 0.7975 - val_loss: 0.2061 - val_accuracy: 0.6854\n",
      "Epoch 38/100\n",
      "22/22 [==============================] - 0s 3ms/step - loss: 0.1518 - accuracy: 0.7952 - val_loss: 0.2048 - val_accuracy: 0.6816\n",
      "Epoch 39/100\n",
      "22/22 [==============================] - 0s 4ms/step - loss: 0.1502 - accuracy: 0.8039 - val_loss: 0.2080 - val_accuracy: 0.6704\n",
      "Epoch 40/100\n",
      "22/22 [==============================] - 0s 3ms/step - loss: 0.1502 - accuracy: 0.7980 - val_loss: 0.2067 - val_accuracy: 0.6779\n",
      "Epoch 41/100\n",
      "22/22 [==============================] - 0s 3ms/step - loss: 0.1485 - accuracy: 0.8023 - val_loss: 0.2057 - val_accuracy: 0.6863\n",
      "Epoch 42/100\n",
      "22/22 [==============================] - 0s 3ms/step - loss: 0.1455 - accuracy: 0.8122 - val_loss: 0.2059 - val_accuracy: 0.6816\n",
      "Epoch 43/100\n",
      "22/22 [==============================] - 0s 4ms/step - loss: 0.1441 - accuracy: 0.8125 - val_loss: 0.2057 - val_accuracy: 0.6929\n",
      "Epoch 44/100\n",
      "22/22 [==============================] - 0s 3ms/step - loss: 0.1428 - accuracy: 0.8179 - val_loss: 0.2072 - val_accuracy: 0.6798\n",
      "Epoch 45/100\n",
      "22/22 [==============================] - 0s 3ms/step - loss: 0.1419 - accuracy: 0.8139 - val_loss: 0.2074 - val_accuracy: 0.6854\n",
      "Epoch 46/100\n",
      "22/22 [==============================] - 0s 3ms/step - loss: 0.1404 - accuracy: 0.8165 - val_loss: 0.2070 - val_accuracy: 0.6807\n",
      "Epoch 47/100\n",
      "22/22 [==============================] - 0s 3ms/step - loss: 0.1387 - accuracy: 0.8224 - val_loss: 0.2071 - val_accuracy: 0.6863\n",
      "Epoch 48/100\n",
      "22/22 [==============================] - 0s 4ms/step - loss: 0.1381 - accuracy: 0.8279 - val_loss: 0.2065 - val_accuracy: 0.6873\n",
      "Epoch 49/100\n",
      "22/22 [==============================] - 0s 4ms/step - loss: 0.1357 - accuracy: 0.8317 - val_loss: 0.2071 - val_accuracy: 0.6863\n",
      "Epoch 50/100\n",
      "22/22 [==============================] - 0s 3ms/step - loss: 0.1343 - accuracy: 0.8324 - val_loss: 0.2082 - val_accuracy: 0.6882\n",
      "Epoch 51/100\n",
      "22/22 [==============================] - 0s 4ms/step - loss: 0.1331 - accuracy: 0.8350 - val_loss: 0.2086 - val_accuracy: 0.6854\n",
      "Epoch 52/100\n",
      "22/22 [==============================] - 0s 4ms/step - loss: 0.1325 - accuracy: 0.8305 - val_loss: 0.2088 - val_accuracy: 0.6882\n",
      "Epoch 53/100\n",
      "22/22 [==============================] - 0s 3ms/step - loss: 0.1311 - accuracy: 0.8395 - val_loss: 0.2089 - val_accuracy: 0.6929\n",
      "Epoch 54/100\n",
      "22/22 [==============================] - 0s 3ms/step - loss: 0.1296 - accuracy: 0.8404 - val_loss: 0.2076 - val_accuracy: 0.6901\n",
      "Epoch 55/100\n",
      "22/22 [==============================] - 0s 3ms/step - loss: 0.1287 - accuracy: 0.8438 - val_loss: 0.2082 - val_accuracy: 0.6919\n",
      "Epoch 56/100\n",
      "22/22 [==============================] - 0s 3ms/step - loss: 0.1277 - accuracy: 0.8431 - val_loss: 0.2097 - val_accuracy: 0.6807\n",
      "Epoch 57/100\n",
      "22/22 [==============================] - 0s 3ms/step - loss: 0.1266 - accuracy: 0.8431 - val_loss: 0.2096 - val_accuracy: 0.6910\n",
      "Epoch 58/100\n",
      "22/22 [==============================] - 0s 3ms/step - loss: 0.1251 - accuracy: 0.8452 - val_loss: 0.2108 - val_accuracy: 0.6891\n",
      "Epoch 59/100\n",
      "22/22 [==============================] - 0s 3ms/step - loss: 0.1239 - accuracy: 0.8518 - val_loss: 0.2110 - val_accuracy: 0.6845\n",
      "Epoch 60/100\n",
      "22/22 [==============================] - 0s 3ms/step - loss: 0.1235 - accuracy: 0.8528 - val_loss: 0.2111 - val_accuracy: 0.6845\n",
      "Epoch 61/100\n",
      "22/22 [==============================] - 0s 4ms/step - loss: 0.1222 - accuracy: 0.8506 - val_loss: 0.2111 - val_accuracy: 0.6929\n",
      "Epoch 62/100\n",
      "22/22 [==============================] - 0s 3ms/step - loss: 0.1215 - accuracy: 0.8542 - val_loss: 0.2112 - val_accuracy: 0.6807\n",
      "Epoch 63/100\n",
      "22/22 [==============================] - 0s 3ms/step - loss: 0.1210 - accuracy: 0.8537 - val_loss: 0.2112 - val_accuracy: 0.6891\n",
      "Epoch 64/100\n",
      "22/22 [==============================] - 0s 4ms/step - loss: 0.1190 - accuracy: 0.8611 - val_loss: 0.2120 - val_accuracy: 0.6826\n",
      "Epoch 65/100\n",
      "22/22 [==============================] - 0s 3ms/step - loss: 0.1179 - accuracy: 0.8604 - val_loss: 0.2123 - val_accuracy: 0.6807\n",
      "Epoch 66/100\n",
      "22/22 [==============================] - 0s 3ms/step - loss: 0.1170 - accuracy: 0.8618 - val_loss: 0.2125 - val_accuracy: 0.6845\n",
      "Epoch 67/100\n",
      "22/22 [==============================] - 0s 3ms/step - loss: 0.1168 - accuracy: 0.8649 - val_loss: 0.2128 - val_accuracy: 0.6826\n",
      "Epoch 68/100\n",
      "22/22 [==============================] - 0s 3ms/step - loss: 0.1164 - accuracy: 0.8632 - val_loss: 0.2138 - val_accuracy: 0.6807\n",
      "Epoch 69/100\n",
      "22/22 [==============================] - 0s 3ms/step - loss: 0.1148 - accuracy: 0.8668 - val_loss: 0.2140 - val_accuracy: 0.6826\n",
      "Epoch 70/100\n",
      "22/22 [==============================] - 0s 4ms/step - loss: 0.1147 - accuracy: 0.8615 - val_loss: 0.2150 - val_accuracy: 0.6826\n",
      "Epoch 71/100\n",
      "22/22 [==============================] - 0s 3ms/step - loss: 0.1131 - accuracy: 0.8687 - val_loss: 0.2155 - val_accuracy: 0.6742\n",
      "Epoch 72/100\n",
      "22/22 [==============================] - 0s 3ms/step - loss: 0.1121 - accuracy: 0.8689 - val_loss: 0.2143 - val_accuracy: 0.6816\n",
      "Epoch 73/100\n",
      "22/22 [==============================] - 0s 3ms/step - loss: 0.1105 - accuracy: 0.8727 - val_loss: 0.2146 - val_accuracy: 0.6770\n",
      "Epoch 74/100\n",
      "22/22 [==============================] - 0s 3ms/step - loss: 0.1100 - accuracy: 0.8739 - val_loss: 0.2150 - val_accuracy: 0.6760\n",
      "Epoch 75/100\n",
      "22/22 [==============================] - 0s 3ms/step - loss: 0.1095 - accuracy: 0.8741 - val_loss: 0.2146 - val_accuracy: 0.6798\n",
      "Epoch 76/100\n",
      "22/22 [==============================] - 0s 4ms/step - loss: 0.1085 - accuracy: 0.8755 - val_loss: 0.2166 - val_accuracy: 0.6854\n",
      "Epoch 77/100\n",
      "22/22 [==============================] - 0s 3ms/step - loss: 0.1079 - accuracy: 0.8762 - val_loss: 0.2156 - val_accuracy: 0.6816\n",
      "Epoch 78/100\n",
      "22/22 [==============================] - 0s 3ms/step - loss: 0.1070 - accuracy: 0.8758 - val_loss: 0.2164 - val_accuracy: 0.6798\n",
      "Epoch 79/100\n",
      "22/22 [==============================] - 0s 3ms/step - loss: 0.1061 - accuracy: 0.8777 - val_loss: 0.2159 - val_accuracy: 0.6760\n",
      "Epoch 80/100\n",
      "22/22 [==============================] - 0s 4ms/step - loss: 0.1056 - accuracy: 0.8767 - val_loss: 0.2167 - val_accuracy: 0.6779\n",
      "Epoch 81/100\n",
      "22/22 [==============================] - 0s 3ms/step - loss: 0.1050 - accuracy: 0.8796 - val_loss: 0.2178 - val_accuracy: 0.6816\n",
      "Epoch 82/100\n",
      "22/22 [==============================] - 0s 4ms/step - loss: 0.1042 - accuracy: 0.8812 - val_loss: 0.2190 - val_accuracy: 0.6732\n",
      "Epoch 83/100\n",
      "22/22 [==============================] - 0s 3ms/step - loss: 0.1036 - accuracy: 0.8829 - val_loss: 0.2204 - val_accuracy: 0.6648\n",
      "Epoch 84/100\n",
      "22/22 [==============================] - 0s 3ms/step - loss: 0.1037 - accuracy: 0.8831 - val_loss: 0.2173 - val_accuracy: 0.6760\n",
      "Epoch 85/100\n",
      "22/22 [==============================] - 0s 3ms/step - loss: 0.1028 - accuracy: 0.8838 - val_loss: 0.2186 - val_accuracy: 0.6751\n",
      "Epoch 86/100\n",
      "22/22 [==============================] - 0s 3ms/step - loss: 0.1012 - accuracy: 0.8881 - val_loss: 0.2187 - val_accuracy: 0.6760\n",
      "Epoch 87/100\n",
      "22/22 [==============================] - 0s 3ms/step - loss: 0.1007 - accuracy: 0.8857 - val_loss: 0.2192 - val_accuracy: 0.6723\n",
      "Epoch 88/100\n",
      "22/22 [==============================] - 0s 3ms/step - loss: 0.0999 - accuracy: 0.8902 - val_loss: 0.2189 - val_accuracy: 0.6760\n",
      "Epoch 89/100\n",
      "22/22 [==============================] - 0s 4ms/step - loss: 0.0996 - accuracy: 0.8860 - val_loss: 0.2188 - val_accuracy: 0.6713\n",
      "Epoch 90/100\n",
      "22/22 [==============================] - 0s 3ms/step - loss: 0.0990 - accuracy: 0.8888 - val_loss: 0.2198 - val_accuracy: 0.6779\n",
      "Epoch 91/100\n",
      "22/22 [==============================] - 0s 3ms/step - loss: 0.0981 - accuracy: 0.8893 - val_loss: 0.2196 - val_accuracy: 0.6723\n",
      "Epoch 92/100\n",
      "22/22 [==============================] - 0s 3ms/step - loss: 0.0980 - accuracy: 0.8879 - val_loss: 0.2196 - val_accuracy: 0.6751\n",
      "Epoch 93/100\n",
      "22/22 [==============================] - 0s 3ms/step - loss: 0.0968 - accuracy: 0.8917 - val_loss: 0.2220 - val_accuracy: 0.6685\n",
      "Epoch 94/100\n",
      "22/22 [==============================] - 0s 3ms/step - loss: 0.0978 - accuracy: 0.8886 - val_loss: 0.2202 - val_accuracy: 0.6742\n",
      "Epoch 95/100\n",
      "22/22 [==============================] - 0s 3ms/step - loss: 0.0958 - accuracy: 0.8954 - val_loss: 0.2219 - val_accuracy: 0.6713\n",
      "Epoch 96/100\n",
      "22/22 [==============================] - 0s 3ms/step - loss: 0.0953 - accuracy: 0.8938 - val_loss: 0.2223 - val_accuracy: 0.6742\n",
      "Epoch 97/100\n",
      "22/22 [==============================] - 0s 3ms/step - loss: 0.0953 - accuracy: 0.8919 - val_loss: 0.2225 - val_accuracy: 0.6695\n",
      "Epoch 98/100\n",
      "22/22 [==============================] - 0s 3ms/step - loss: 0.0949 - accuracy: 0.8947 - val_loss: 0.2223 - val_accuracy: 0.6685\n",
      "Epoch 99/100\n",
      "22/22 [==============================] - 0s 4ms/step - loss: 0.0939 - accuracy: 0.8945 - val_loss: 0.2225 - val_accuracy: 0.6760\n",
      "Epoch 100/100\n",
      "22/22 [==============================] - 0s 3ms/step - loss: 0.0928 - accuracy: 0.8985 - val_loss: 0.2240 - val_accuracy: 0.6713\n"
     ]
    }
   ],
   "source": [
    "from tensorflow.keras.models import Sequential\n",
    "from tensorflow.keras.layers import Dense\n",
    "\n",
    "nn_model = Sequential([\n",
    "              Dense(124, name='hidden', activation='relu', input_shape=(len(features),)),\n",
    "              Dense(1, name='output', activation='sigmoid'),\n",
    "           ])\n",
    "\n",
    "nn_model.compile(optimizer='adam', loss='mean_squared_error', metrics=['accuracy'])\n",
    "history = nn_model.fit(X_train_norm, y_train, batch_size=200, epochs=100, validation_data=(X_test_norm, y_test))"
   ]
  },
  {
   "cell_type": "markdown",
   "metadata": {
    "colab_type": "text",
    "id": "i2gzc2VKDvBK"
   },
   "source": [
    "### La notion d'overfitting"
   ]
  },
  {
   "cell_type": "markdown",
   "metadata": {
    "colab_type": "text",
    "id": "DQ5Sg5ehjPDF"
   },
   "source": [
    "On peut visualiser l'évolution de la performance de lu réseau de neurones au cours de l'entraînement :"
   ]
  },
  {
   "cell_type": "code",
   "execution_count": 51,
   "metadata": {
    "colab": {
     "base_uri": "https://localhost:8080/",
     "height": 300
    },
    "colab_type": "code",
    "id": "LOKd7eq3gYs5",
    "outputId": "b944c3aa-5435-4319-c27b-53b853e677ca"
   },
   "outputs": [
    {
     "data": {
      "text/plain": [
       "[]"
      ]
     },
     "execution_count": 51,
     "metadata": {
      "tags": []
     },
     "output_type": "execute_result"
    },
    {
     "data": {
      "image/png": "[encoded data removed]",
      "text/plain": [
       "<Figure size 432x288 with 1 Axes>"
      ]
     },
     "metadata": {
      "needs_background": "light",
      "tags": []
     },
     "output_type": "display_data"
    }
   ],
   "source": [
    "plt.plot(history.history['accuracy'], label='Justesse (train)')\n",
    "plt.plot(history.history['val_accuracy'], label='Justesse (test)')\n",
    "plt.title(\"Evolution de la performance pendant l'entraînement\")\n",
    "plt.legend()\n",
    "plt.plot()"
   ]
  },
  {
   "cell_type": "markdown",
   "metadata": {
    "colab_type": "text",
    "id": "5F9acbk_ky-d"
   },
   "source": [
    "L'importante notion d'overfitting : lorsque l'algorithme \"colle trop\" aux données d'entraînement."
   ]
  },
  {
   "cell_type": "markdown",
   "metadata": {
    "colab_type": "text",
    "id": "vfXFw3_JuMha"
   },
   "source": [
    "## 4. Tester et valider le modèle"
   ]
  },
  {
   "cell_type": "markdown",
   "metadata": {
    "colab_type": "text",
    "id": "YmB_U2n8Haua"
   },
   "source": [
    "On prédit en utilisant le modèle, sur les données de test non vues en entraînement\n",
    "\n"
   ]
  },
  {
   "cell_type": "code",
   "execution_count": 0,
   "metadata": {
    "colab": {},
    "colab_type": "code",
    "id": "Xmf06AnZFWlb"
   },
   "outputs": [],
   "source": [
    "y_pred = rf_model.predict(X_test)\n",
    "y_fake = np.random.choice([0, 1], size=len(y_test), p=[1 - y_test.mean(), y_test.mean()])"
   ]
  },
  {
   "cell_type": "markdown",
   "metadata": {
    "colab_type": "text",
    "id": "uz01Z4J3ELFW"
   },
   "source": [
    "### Matrice de confusion\n",
    "\n"
   ]
  },
  {
   "cell_type": "code",
   "execution_count": 53,
   "metadata": {
    "colab": {
     "base_uri": "https://localhost:8080/",
     "height": 112
    },
    "colab_type": "code",
    "id": "-9ZtfS4lEs8S",
    "outputId": "f695a5c4-77c4-46ec-ccdf-3046b824c6e8"
   },
   "outputs": [
    {
     "data": {
      "text/html": [
       "<div>\n",
       "<style scoped>\n",
       "    .dataframe tbody tr th:only-of-type {\n",
       "        vertical-align: middle;\n",
       "    }\n",
       "\n",
       "    .dataframe tbody tr th {\n",
       "        vertical-align: top;\n",
       "    }\n",
       "\n",
       "    .dataframe thead th {\n",
       "        text-align: right;\n",
       "    }\n",
       "</style>\n",
       "<table border=\"1\" class=\"dataframe\">\n",
       "  <thead>\n",
       "    <tr style=\"text-align: right;\">\n",
       "      <th></th>\n",
       "      <th>Label prédit 0</th>\n",
       "      <th>Label prédit 1</th>\n",
       "    </tr>\n",
       "  </thead>\n",
       "  <tbody>\n",
       "    <tr>\n",
       "      <th>Vrai label 0</th>\n",
       "      <td>361</td>\n",
       "      <td>173</td>\n",
       "    </tr>\n",
       "    <tr>\n",
       "      <th>Vrai label 1</th>\n",
       "      <td>160</td>\n",
       "      <td>374</td>\n",
       "    </tr>\n",
       "  </tbody>\n",
       "</table>\n",
       "</div>"
      ],
      "text/plain": [
       "              Label prédit 0  Label prédit 1\n",
       "Vrai label 0             361             173\n",
       "Vrai label 1             160             374"
      ]
     },
     "execution_count": 53,
     "metadata": {
      "tags": []
     },
     "output_type": "execute_result"
    }
   ],
   "source": [
    "from sklearn.metrics import confusion_matrix\n",
    "pd.DataFrame(confusion_matrix(y_test, y_pred), index=['Vrai label 0', 'Vrai label 1'], columns=['Label prédit 0', 'Label prédit 1'])"
   ]
  },
  {
   "cell_type": "markdown",
   "metadata": {
    "colab_type": "text",
    "id": "y1dIOTVWEtVe"
   },
   "source": [
    "### Utiliser différentes métriques"
   ]
  },
  {
   "cell_type": "code",
   "execution_count": 54,
   "metadata": {
    "colab": {
     "base_uri": "https://localhost:8080/",
     "height": 175
    },
    "colab_type": "code",
    "id": "Q_Ej6UnpH2oo",
    "outputId": "b72d1b29-b0a6-4244-e9ee-2602855a81cb"
   },
   "outputs": [
    {
     "data": {
      "text/html": [
       "<div>\n",
       "<style scoped>\n",
       "    .dataframe tbody tr th:only-of-type {\n",
       "        vertical-align: middle;\n",
       "    }\n",
       "\n",
       "    .dataframe tbody tr th {\n",
       "        vertical-align: top;\n",
       "    }\n",
       "\n",
       "    .dataframe thead th {\n",
       "        text-align: right;\n",
       "    }\n",
       "</style>\n",
       "<table border=\"1\" class=\"dataframe\">\n",
       "  <thead>\n",
       "    <tr style=\"text-align: right;\">\n",
       "      <th></th>\n",
       "      <th>Métrique</th>\n",
       "      <th>Score du modèle</th>\n",
       "      <th>Score de l'aléatoire</th>\n",
       "    </tr>\n",
       "  </thead>\n",
       "  <tbody>\n",
       "    <tr>\n",
       "      <th>0</th>\n",
       "      <td>accuracy_score</td>\n",
       "      <td>0.688202</td>\n",
       "      <td>0.479401</td>\n",
       "    </tr>\n",
       "    <tr>\n",
       "      <th>1</th>\n",
       "      <td>precision_score</td>\n",
       "      <td>0.683729</td>\n",
       "      <td>0.480357</td>\n",
       "    </tr>\n",
       "    <tr>\n",
       "      <th>2</th>\n",
       "      <td>recall_score</td>\n",
       "      <td>0.700375</td>\n",
       "      <td>0.503745</td>\n",
       "    </tr>\n",
       "    <tr>\n",
       "      <th>3</th>\n",
       "      <td>f1_score</td>\n",
       "      <td>0.691952</td>\n",
       "      <td>0.491773</td>\n",
       "    </tr>\n",
       "  </tbody>\n",
       "</table>\n",
       "</div>"
      ],
      "text/plain": [
       "          Métrique  Score du modèle  Score de l'aléatoire\n",
       "0   accuracy_score         0.688202              0.479401\n",
       "1  precision_score         0.683729              0.480357\n",
       "2     recall_score         0.700375              0.503745\n",
       "3         f1_score         0.691952              0.491773"
      ]
     },
     "execution_count": 54,
     "metadata": {
      "tags": []
     },
     "output_type": "execute_result"
    }
   ],
   "source": [
    "from sklearn.metrics import accuracy_score, precision_score, recall_score, f1_score\n",
    "\n",
    "res = []\n",
    "for metric in [accuracy_score, precision_score, recall_score, f1_score]:\n",
    "  res.append([metric.__name__, metric(y_test, y_pred), metric(y_test, y_fake)])\n",
    "pd.DataFrame(res, columns = ['Métrique', 'Score du modèle', \"Score de l'aléatoire\"])"
   ]
  }
 ],
 "metadata": {
  "colab": {
   "collapsed_sections": [],
   "include_colab_link": true,
   "name": "Introduction-ML.ipynb",
   "provenance": []
  },
  "kernelspec": {
   "display_name": "Python 3",
   "language": "python",
   "name": "python3"
  },
  "language_info": {
   "codemirror_mode": {
    "name": "ipython",
    "version": 3
   },
   "file_extension": ".py",
   "mimetype": "text/x-python",
   "name": "python",
   "nbconvert_exporter": "python",
   "pygments_lexer": "ipython3",
   "version": "3.7.4"
  }
 },
 "nbformat": 4,
 "nbformat_minor": 1
}
