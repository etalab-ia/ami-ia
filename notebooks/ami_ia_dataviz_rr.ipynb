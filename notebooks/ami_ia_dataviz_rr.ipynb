{
 "cells": [
  {
   "cell_type": "markdown",
   "metadata": {
    "colab_type": "text",
    "id": "view-in-github"
   },
   "source": [
    "<a href=\"https://colab.research.google.com/github/etalab-ia/ami-ia/blob/master/notebooks/ami_ia_dataviz_rr.ipynb\" target=\"_parent\"><img src=\"https://colab.research.google.com/assets/colab-badge.svg\" alt=\"Open In Colab\"/></a>"
   ]
  },
  {
   "cell_type": "markdown",
   "metadata": {
    "colab_type": "text",
    "id": "uWQqsdyX9gzj"
   },
   "source": [
    "# Premiers pas avec Jupyter Notebook et Pandas \n",
    "## Introduction\n",
    "LA visalisation de données est la représentation graphique de donnée. Elle permet de communiquer l'information \n",
    "\n",
    "\n",
    "Il y a plusieurs raisons intéressantes de travailler avec Python et Pandas pour analyser et visualiser nos données. Les deux raisons principales sont :\n",
    "- L'automatisation des traitements,\n",
    "- La manipulation d'un grand nombre de points. \n",
    "\n",
    "En effet les outils généralement maitrisés par les acteurs métier opérationnels ne sont pas adaptés à ces deux raisons. L'outil principalement utilisé sur le terrain est Excel. Si on peut penser aux scripts Excel VBA pour opérer des actions routinières répétitives, dans les faits peu de monde sait se servir de ces scripts. Dès lors, on peut considérer qu'il devient intéressant de consacrer du temps à apprendre un langage permettant d'automatiser des traitements ennuyant. L'outil parfait pour ce genre de script est Python car de part les nombreuses bibliothèques maintenues par la communautés, il sait s'adapter à de nombreux cas de figure. Voir à ce sujet le site pour [automatiser les trucs ennuyants](https://automatetheboringstuff.com/). Pour une introduction à Python on peut consulter [OpenClassRoom](https://openclassrooms.com/fr/courses/235344-apprenez-a-programmer-en-python) et compléter avec un cours sur les [librairies pour la DataScience](https://openclassrooms.com/fr/courses/4452741-decouvrez-les-librairies-python-pour-la-data-science).\n",
    "\n",
    "Dans le cadre de l'analyse de données, les bibliothèques fréquemment utilisés sont Numpy (calcul matriciel) Pandas (création de tables de données), scipy (outils mathématiques) et Matplotlib (visualisation de données). \n",
    "\n",
    "## Objectif \n",
    "L'objectif de ce Notebook est de faire un rapide tour des différents outils à notre disposition et d'en présenter l'utilisation lors d'un cas d'usage de la vie de tous les jours. L'idée n'est pas de sortir de ce Notebook en étant un expert de Python mais d'avoir une idée des cas d'usage du langage dans votre travail de tous les jours. \n",
    "1. Charger et comprendre les données\n",
    "2. Agréger et nettoyer les données\n",
    "3. Visualiser et présenter les données\n",
    "\n",
    "\n",
    "# NOTES \n",
    "Plus mettre en avant le coté analyse de données que le coté outil \n",
    "plus faire une intro sur la dataviz\n",
    "Plus expliquer sur l'import de données de data.gouv (screenshots? )\n",
    "Rapporter au nombre de restaurant avec la base SIREN (voir pour le code APE de la restauration)\n",
    "\n",
    "Faire aparaitre le raisonnement au fur et à mesure et faire le cheminement dans le notebook\n",
    "\n",
    "faire plus une interraction en instaurant des questions/réponses \n",
    "Faire aussi un point dans l'intro sur Python sur comment travailler "
   ]
  },
  {
   "cell_type": "markdown",
   "metadata": {
    "colab_type": "text",
    "id": "D0kQfBBqVb26"
   },
   "source": [
    "## Cas d'usage\n",
    "Un exemple avec le jeu de données Alim'Confiance de datagouv à télécharger [ici](https://dgal.opendatasoft.com/explore/dataset/export_alimconfiance/export/?disjunctive.app_libelle_activite_etablissement&disjunctive.filtre&disjunctive.ods_type_activite) \n",
    "\n",
    "### Situation \n",
    "Notre but est de contrôler l'inspection des restaurants. On s'est fixé les KPI suivants et on aimerait pouvoir les suivre :\n",
    "* Taux de contrôles à améliorer ou à corriger par rapport aux controles effectués. \n",
    "\n",
    "* Nombre de controles mensuels par région : nous voulons contrôler que les régions effectuent plus de 1 contrôle pour 100 000 Habitants par mois. \n"
   ]
  },
  {
   "cell_type": "markdown",
   "metadata": {},
   "source": [
    "# 1. Charger et comprendre les données\n",
    "Ici faire une explication de comment on récupère les données "
   ]
  },
  {
   "cell_type": "code",
   "execution_count": 20,
   "metadata": {
    "colab": {
     "base_uri": "https://localhost:8080/",
     "height": 309
    },
    "colab_type": "code",
    "id": "weMUWEo_-c5o",
    "outputId": "bfa99dd9-5d8b-4dc6-a5d0-36cea7021fe1"
   },
   "outputs": [
    {
     "data": {
      "text/plain": [
       "'\\nfrom shapely.geometry import Point\\nimport geopandas as gpd\\nfrom geopandas import GeoDataFrame\\n'"
      ]
     },
     "execution_count": 20,
     "metadata": {},
     "output_type": "execute_result"
    }
   ],
   "source": [
    "# importer les librairies dont on aura besoin \n",
    "import pandas as pd\n",
    "import matplotlib.pyplot as plt\n",
    "import seaborn as sns\n",
    "\"\"\"\n",
    "from shapely.geometry import Point\n",
    "import geopandas as gpd\n",
    "from geopandas import GeoDataFrame\n",
    "\"\"\""
   ]
  },
  {
   "cell_type": "code",
   "execution_count": 2,
   "metadata": {
    "colab": {},
    "colab_type": "code",
    "id": "oEUcivtuY0S6"
   },
   "outputs": [],
   "source": [
    "# lire le jeu de données en un objet \"pandas dataframe\" : version online \n",
    "#df = pd.read_csv(\"https://dgal.opendatasoft.com/explore/dataset/export_alimconfiance/download/?format=csv&timezone=Europe/Berlin&lang=fr&use_labels_for_header=true&csv_separator=%3B\", sep = \";\", header = 0)\n",
    "\n",
    "# lire le jeu de données en un objet \"pandas dataframe\" : version offline\n",
    "df = pd.read_csv('../data/export_alimconfiance.csv', sep = \";\", header = 0)"
   ]
  },
  {
   "cell_type": "markdown",
   "metadata": {},
   "source": [
    "## A quoi ressemblent nos données ?"
   ]
  },
  {
   "cell_type": "code",
   "execution_count": 3,
   "metadata": {
    "colab": {
     "base_uri": "https://localhost:8080/",
     "height": 326
    },
    "colab_type": "code",
    "id": "v4fFBEoYaB1h",
    "outputId": "ccc3552a-a228-48c1-fb44-839a81f1a06f"
   },
   "outputs": [
    {
     "data": {
      "text/html": [
       "<div>\n",
       "<style scoped>\n",
       "    .dataframe tbody tr th:only-of-type {\n",
       "        vertical-align: middle;\n",
       "    }\n",
       "\n",
       "    .dataframe tbody tr th {\n",
       "        vertical-align: top;\n",
       "    }\n",
       "\n",
       "    .dataframe thead th {\n",
       "        text-align: right;\n",
       "    }\n",
       "</style>\n",
       "<table border=\"1\" class=\"dataframe\">\n",
       "  <thead>\n",
       "    <tr style=\"text-align: right;\">\n",
       "      <th></th>\n",
       "      <th>APP_Libelle_etablissement</th>\n",
       "      <th>SIRET</th>\n",
       "      <th>Code_postal</th>\n",
       "      <th>Libelle_commune</th>\n",
       "      <th>Numero_inspection</th>\n",
       "      <th>Date_inspection</th>\n",
       "      <th>APP_Libelle_activite_etablissement</th>\n",
       "      <th>Synthese_eval_sanit</th>\n",
       "      <th>Agrement</th>\n",
       "      <th>geores</th>\n",
       "      <th>filtre</th>\n",
       "      <th>ods_adresse</th>\n",
       "      <th>ods_type_activite</th>\n",
       "    </tr>\n",
       "  </thead>\n",
       "  <tbody>\n",
       "    <tr>\n",
       "      <th>0</th>\n",
       "      <td>LE GAULOIS</td>\n",
       "      <td>84752155600013</td>\n",
       "      <td>13100.0</td>\n",
       "      <td>AIX EN PROVENCE</td>\n",
       "      <td>2</td>\n",
       "      <td>2019-05-22T13:00:00+02:00</td>\n",
       "      <td>Restaurant</td>\n",
       "      <td>Très satisfaisant</td>\n",
       "      <td>NaN</td>\n",
       "      <td>43.531956,5.4468</td>\n",
       "      <td>Restaurant</td>\n",
       "      <td>34 rue Jacques de la Roque</td>\n",
       "      <td>Autres</td>\n",
       "    </tr>\n",
       "    <tr>\n",
       "      <th>1</th>\n",
       "      <td>LE CARDEUR DE BACCHUS</td>\n",
       "      <td>82183401700013</td>\n",
       "      <td>13100.0</td>\n",
       "      <td>AIX EN PROVENCE</td>\n",
       "      <td>3</td>\n",
       "      <td>2019-05-24T13:30:00+02:00</td>\n",
       "      <td>Restaurant</td>\n",
       "      <td>Très satisfaisant</td>\n",
       "      <td>NaN</td>\n",
       "      <td>43.529969,5.446457</td>\n",
       "      <td>Restaurant</td>\n",
       "      <td>14 Forum des cardeurs</td>\n",
       "      <td>Autres</td>\n",
       "    </tr>\n",
       "    <tr>\n",
       "      <th>2</th>\n",
       "      <td>CARREFOUR BAR</td>\n",
       "      <td>40829886700016</td>\n",
       "      <td>13100.0</td>\n",
       "      <td>AIX EN PROVENCE</td>\n",
       "      <td>6</td>\n",
       "      <td>2019-05-21T12:30:00+02:00</td>\n",
       "      <td>Restaurant</td>\n",
       "      <td>Très satisfaisant</td>\n",
       "      <td>NaN</td>\n",
       "      <td>43.525265,5.453713</td>\n",
       "      <td>Restaurant</td>\n",
       "      <td>2 rue Roux Alpherand</td>\n",
       "      <td>Autres</td>\n",
       "    </tr>\n",
       "    <tr>\n",
       "      <th>3</th>\n",
       "      <td>LES FILS A MAMAN</td>\n",
       "      <td>83283779300021</td>\n",
       "      <td>13100.0</td>\n",
       "      <td>AIX EN PROVENCE</td>\n",
       "      <td>0</td>\n",
       "      <td>2019-06-13T13:45:00+02:00</td>\n",
       "      <td>Restaurant</td>\n",
       "      <td>Très satisfaisant</td>\n",
       "      <td>NaN</td>\n",
       "      <td>43.528498,5.447157</td>\n",
       "      <td>Restaurant</td>\n",
       "      <td>42 rue Verrerie</td>\n",
       "      <td>Autres</td>\n",
       "    </tr>\n",
       "    <tr>\n",
       "      <th>4</th>\n",
       "      <td>LE FOURNIL DES CORDELIERS</td>\n",
       "      <td>48466238200023</td>\n",
       "      <td>13100.0</td>\n",
       "      <td>AIX EN PROVENCE</td>\n",
       "      <td>1</td>\n",
       "      <td>2019-06-07T11:30:00+02:00</td>\n",
       "      <td>Boulangerie-Pâtisserie</td>\n",
       "      <td>Très satisfaisant</td>\n",
       "      <td>NaN</td>\n",
       "      <td>43.52948,5.444981</td>\n",
       "      <td>Boulangerie-Pâtisserie</td>\n",
       "      <td>67 rue des Cordeliers</td>\n",
       "      <td>Autres</td>\n",
       "    </tr>\n",
       "  </tbody>\n",
       "</table>\n",
       "</div>"
      ],
      "text/plain": [
       "   APP_Libelle_etablissement           SIRET  Code_postal  Libelle_commune  \\\n",
       "0                 LE GAULOIS  84752155600013      13100.0  AIX EN PROVENCE   \n",
       "1      LE CARDEUR DE BACCHUS  82183401700013      13100.0  AIX EN PROVENCE   \n",
       "2              CARREFOUR BAR  40829886700016      13100.0  AIX EN PROVENCE   \n",
       "3           LES FILS A MAMAN  83283779300021      13100.0  AIX EN PROVENCE   \n",
       "4  LE FOURNIL DES CORDELIERS  48466238200023      13100.0  AIX EN PROVENCE   \n",
       "\n",
       "  Numero_inspection            Date_inspection  \\\n",
       "0                 2  2019-05-22T13:00:00+02:00   \n",
       "1                 3  2019-05-24T13:30:00+02:00   \n",
       "2                 6  2019-05-21T12:30:00+02:00   \n",
       "3                 0  2019-06-13T13:45:00+02:00   \n",
       "4                 1  2019-06-07T11:30:00+02:00   \n",
       "\n",
       "  APP_Libelle_activite_etablissement Synthese_eval_sanit Agrement  \\\n",
       "0                         Restaurant   Très satisfaisant      NaN   \n",
       "1                         Restaurant   Très satisfaisant      NaN   \n",
       "2                         Restaurant   Très satisfaisant      NaN   \n",
       "3                         Restaurant   Très satisfaisant      NaN   \n",
       "4             Boulangerie-Pâtisserie   Très satisfaisant      NaN   \n",
       "\n",
       "               geores                  filtre                 ods_adresse  \\\n",
       "0    43.531956,5.4468              Restaurant  34 rue Jacques de la Roque   \n",
       "1  43.529969,5.446457              Restaurant       14 Forum des cardeurs   \n",
       "2  43.525265,5.453713              Restaurant        2 rue Roux Alpherand   \n",
       "3  43.528498,5.447157              Restaurant             42 rue Verrerie   \n",
       "4   43.52948,5.444981  Boulangerie-Pâtisserie       67 rue des Cordeliers   \n",
       "\n",
       "  ods_type_activite  \n",
       "0            Autres  \n",
       "1            Autres  \n",
       "2            Autres  \n",
       "3            Autres  \n",
       "4            Autres  "
      ]
     },
     "execution_count": 3,
     "metadata": {},
     "output_type": "execute_result"
    }
   ],
   "source": [
    "# commande qui permet de visualiser les n premieres lignes d'une dataframe (5 par défaut)\n",
    "df.head()"
   ]
  },
  {
   "cell_type": "code",
   "execution_count": 4,
   "metadata": {
    "colab": {
     "base_uri": "https://localhost:8080/",
     "height": 34
    },
    "colab_type": "code",
    "id": "YSHhWabKaFOf",
    "outputId": "7ded3393-1cc0-4bb5-948b-107f2636bda9"
   },
   "outputs": [
    {
     "name": "stdout",
     "output_type": "stream",
     "text": [
      "<class 'pandas.core.frame.DataFrame'>\n",
      "RangeIndex: 38634 entries, 0 to 38633\n",
      "Data columns (total 13 columns):\n",
      " #   Column                              Non-Null Count  Dtype  \n",
      "---  ------                              --------------  -----  \n",
      " 0   APP_Libelle_etablissement           38633 non-null  object \n",
      " 1   SIRET                               38634 non-null  object \n",
      " 2   Code_postal                         38611 non-null  float64\n",
      " 3   Libelle_commune                     38634 non-null  object \n",
      " 4   Numero_inspection                   38634 non-null  object \n",
      " 5   Date_inspection                     38634 non-null  object \n",
      " 6   APP_Libelle_activite_etablissement  38634 non-null  object \n",
      " 7   Synthese_eval_sanit                 38634 non-null  object \n",
      " 8   Agrement                            9083 non-null   object \n",
      " 9   geores                              37462 non-null  object \n",
      " 10  filtre                              27957 non-null  object \n",
      " 11  ods_adresse                         37388 non-null  object \n",
      " 12  ods_type_activite                   38634 non-null  object \n",
      "dtypes: float64(1), object(12)\n",
      "memory usage: 2.1+ MB\n"
     ]
    }
   ],
   "source": [
    "# Nous donne des infos sur le tableau: nombre de lignes et de colonnes. Types des variables dans chacune des colonnes\n",
    "df.info()"
   ]
  },
  {
   "cell_type": "code",
   "execution_count": 5,
   "metadata": {
    "colab": {
     "base_uri": "https://localhost:8080/",
     "height": 374
    },
    "colab_type": "code",
    "id": "Dlk4T_D7ecZL",
    "outputId": "5715c573-238b-49a0-acb2-22f581105f74"
   },
   "outputs": [
    {
     "name": "stdout",
     "output_type": "stream",
     "text": [
      "Il y a 109 valeurs différentes de type d'établissement\n"
     ]
    }
   ],
   "source": [
    "# Regardons le nombre de valeurs de valeurs différentes qu'il y a dans les activités etablissement\n",
    "nb_values = len(df[\"APP_Libelle_activite_etablissement\"].unique())\n",
    "print(\"Il y a \"+ str(nb_values)+\" valeurs différentes de type d'établissement\")      "
   ]
  },
  {
   "cell_type": "code",
   "execution_count": 6,
   "metadata": {},
   "outputs": [
    {
     "data": {
      "text/plain": [
       "Restaurant                                                     14800\n",
       "Restauration collective                                         6449\n",
       "Producteur fermier                                              1792\n",
       "Transformation de lait ou produits laitiers                     1351\n",
       "Boucherie-Charcuterie                                           1242\n",
       "Transformation de produits carnés                               1156\n",
       "Boulangerie-Pâtisserie                                          1054\n",
       "Alimentation générale                                            938\n",
       "Chaîne d'abattage de volaille/lagomorphe/petit gibier            936\n",
       "Purification/Expédition de coquillages                           867\n",
       "Découpe de viande de boucherie                                   675\n",
       "Libre service                                                    467\n",
       "Transport de denrées alimentaires                                427\n",
       "Traiteur                                                         381\n",
       "Entreposage de distribution de denrées alimentaires              367\n",
       "VH, VSM, préparation viandes boucherie                           363\n",
       "Chaîne d'abattage d'animaux boucherie/Gibier ongulé élevage      362\n",
       "Mareyage et préparation de produits de la pêche                  348\n",
       "_                                                                337\n",
       "Centre d'emballage des oeufs                                     322\n",
       "Name: APP_Libelle_activite_etablissement, dtype: int64"
      ]
     },
     "execution_count": 6,
     "metadata": {},
     "output_type": "execute_result"
    }
   ],
   "source": [
    "# Et regardons les types le plus représentés dans notre jeu de données\n",
    "df[\"APP_Libelle_activite_etablissement\"].value_counts().head(20)"
   ]
  },
  {
   "cell_type": "code",
   "execution_count": 7,
   "metadata": {
    "colab": {},
    "colab_type": "code",
    "id": "JcXaPAD8J6Ug"
   },
   "outputs": [],
   "source": [
    "# On limite notre analyse aux restaurants \n",
    "df = df[df[\"APP_Libelle_activite_etablissement\"]==\"Restaurant\"]"
   ]
  },
  {
   "cell_type": "code",
   "execution_count": 8,
   "metadata": {},
   "outputs": [
    {
     "data": {
      "text/html": [
       "<div>\n",
       "<style scoped>\n",
       "    .dataframe tbody tr th:only-of-type {\n",
       "        vertical-align: middle;\n",
       "    }\n",
       "\n",
       "    .dataframe tbody tr th {\n",
       "        vertical-align: top;\n",
       "    }\n",
       "\n",
       "    .dataframe thead th {\n",
       "        text-align: right;\n",
       "    }\n",
       "</style>\n",
       "<table border=\"1\" class=\"dataframe\">\n",
       "  <thead>\n",
       "    <tr style=\"text-align: right;\">\n",
       "      <th></th>\n",
       "      <th>APP_Libelle_etablissement</th>\n",
       "      <th>SIRET</th>\n",
       "      <th>Code_postal</th>\n",
       "      <th>Libelle_commune</th>\n",
       "      <th>Numero_inspection</th>\n",
       "      <th>Date_inspection</th>\n",
       "      <th>APP_Libelle_activite_etablissement</th>\n",
       "      <th>Synthese_eval_sanit</th>\n",
       "      <th>Agrement</th>\n",
       "      <th>geores</th>\n",
       "      <th>filtre</th>\n",
       "      <th>ods_adresse</th>\n",
       "      <th>ods_type_activite</th>\n",
       "    </tr>\n",
       "  </thead>\n",
       "  <tbody>\n",
       "    <tr>\n",
       "      <th>0</th>\n",
       "      <td>LE GAULOIS</td>\n",
       "      <td>84752155600013</td>\n",
       "      <td>13100.0</td>\n",
       "      <td>AIX EN PROVENCE</td>\n",
       "      <td>2</td>\n",
       "      <td>2019-05-22T13:00:00+02:00</td>\n",
       "      <td>Restaurant</td>\n",
       "      <td>Très satisfaisant</td>\n",
       "      <td>NaN</td>\n",
       "      <td>43.531956,5.4468</td>\n",
       "      <td>Restaurant</td>\n",
       "      <td>34 rue Jacques de la Roque</td>\n",
       "      <td>Autres</td>\n",
       "    </tr>\n",
       "    <tr>\n",
       "      <th>1</th>\n",
       "      <td>LE CARDEUR DE BACCHUS</td>\n",
       "      <td>82183401700013</td>\n",
       "      <td>13100.0</td>\n",
       "      <td>AIX EN PROVENCE</td>\n",
       "      <td>3</td>\n",
       "      <td>2019-05-24T13:30:00+02:00</td>\n",
       "      <td>Restaurant</td>\n",
       "      <td>Très satisfaisant</td>\n",
       "      <td>NaN</td>\n",
       "      <td>43.529969,5.446457</td>\n",
       "      <td>Restaurant</td>\n",
       "      <td>14 Forum des cardeurs</td>\n",
       "      <td>Autres</td>\n",
       "    </tr>\n",
       "    <tr>\n",
       "      <th>2</th>\n",
       "      <td>CARREFOUR BAR</td>\n",
       "      <td>40829886700016</td>\n",
       "      <td>13100.0</td>\n",
       "      <td>AIX EN PROVENCE</td>\n",
       "      <td>6</td>\n",
       "      <td>2019-05-21T12:30:00+02:00</td>\n",
       "      <td>Restaurant</td>\n",
       "      <td>Très satisfaisant</td>\n",
       "      <td>NaN</td>\n",
       "      <td>43.525265,5.453713</td>\n",
       "      <td>Restaurant</td>\n",
       "      <td>2 rue Roux Alpherand</td>\n",
       "      <td>Autres</td>\n",
       "    </tr>\n",
       "    <tr>\n",
       "      <th>3</th>\n",
       "      <td>LES FILS A MAMAN</td>\n",
       "      <td>83283779300021</td>\n",
       "      <td>13100.0</td>\n",
       "      <td>AIX EN PROVENCE</td>\n",
       "      <td>0</td>\n",
       "      <td>2019-06-13T13:45:00+02:00</td>\n",
       "      <td>Restaurant</td>\n",
       "      <td>Très satisfaisant</td>\n",
       "      <td>NaN</td>\n",
       "      <td>43.528498,5.447157</td>\n",
       "      <td>Restaurant</td>\n",
       "      <td>42 rue Verrerie</td>\n",
       "      <td>Autres</td>\n",
       "    </tr>\n",
       "    <tr>\n",
       "      <th>5</th>\n",
       "      <td>LA CAVE DES OURS</td>\n",
       "      <td>84995458100013</td>\n",
       "      <td>13100.0</td>\n",
       "      <td>AIX EN PROVENCE</td>\n",
       "      <td>4</td>\n",
       "      <td>2019-06-13T13:30:00+02:00</td>\n",
       "      <td>Restaurant</td>\n",
       "      <td>Très satisfaisant</td>\n",
       "      <td>NaN</td>\n",
       "      <td>43.532264,5.44666</td>\n",
       "      <td>Restaurant</td>\n",
       "      <td>20 rue Jacques de la Roque</td>\n",
       "      <td>Autres</td>\n",
       "    </tr>\n",
       "  </tbody>\n",
       "</table>\n",
       "</div>"
      ],
      "text/plain": [
       "  APP_Libelle_etablissement           SIRET  Code_postal  Libelle_commune  \\\n",
       "0                LE GAULOIS  84752155600013      13100.0  AIX EN PROVENCE   \n",
       "1     LE CARDEUR DE BACCHUS  82183401700013      13100.0  AIX EN PROVENCE   \n",
       "2             CARREFOUR BAR  40829886700016      13100.0  AIX EN PROVENCE   \n",
       "3          LES FILS A MAMAN  83283779300021      13100.0  AIX EN PROVENCE   \n",
       "5          LA CAVE DES OURS  84995458100013      13100.0  AIX EN PROVENCE   \n",
       "\n",
       "  Numero_inspection            Date_inspection  \\\n",
       "0                 2  2019-05-22T13:00:00+02:00   \n",
       "1                 3  2019-05-24T13:30:00+02:00   \n",
       "2                 6  2019-05-21T12:30:00+02:00   \n",
       "3                 0  2019-06-13T13:45:00+02:00   \n",
       "5                 4  2019-06-13T13:30:00+02:00   \n",
       "\n",
       "  APP_Libelle_activite_etablissement Synthese_eval_sanit Agrement  \\\n",
       "0                         Restaurant   Très satisfaisant      NaN   \n",
       "1                         Restaurant   Très satisfaisant      NaN   \n",
       "2                         Restaurant   Très satisfaisant      NaN   \n",
       "3                         Restaurant   Très satisfaisant      NaN   \n",
       "5                         Restaurant   Très satisfaisant      NaN   \n",
       "\n",
       "               geores      filtre                 ods_adresse  \\\n",
       "0    43.531956,5.4468  Restaurant  34 rue Jacques de la Roque   \n",
       "1  43.529969,5.446457  Restaurant       14 Forum des cardeurs   \n",
       "2  43.525265,5.453713  Restaurant        2 rue Roux Alpherand   \n",
       "3  43.528498,5.447157  Restaurant             42 rue Verrerie   \n",
       "5   43.532264,5.44666  Restaurant  20 rue Jacques de la Roque   \n",
       "\n",
       "  ods_type_activite  \n",
       "0            Autres  \n",
       "1            Autres  \n",
       "2            Autres  \n",
       "3            Autres  \n",
       "5            Autres  "
      ]
     },
     "execution_count": 8,
     "metadata": {},
     "output_type": "execute_result"
    }
   ],
   "source": [
    "df_copy = df.copy() #faisons une copie de notre dataFrame pour une réutilisation plus tard\n",
    "# Regardons à nouveau notre dataFrame\n",
    "df.head()"
   ]
  },
  {
   "cell_type": "markdown",
   "metadata": {},
   "source": [
    "## Comment ont évolué les résultats d'inspections au fil du temps ?"
   ]
  },
  {
   "cell_type": "code",
   "execution_count": 9,
   "metadata": {
    "colab": {
     "base_uri": "https://localhost:8080/",
     "height": 424
    },
    "colab_type": "code",
    "id": "u7XdulWVr-yK",
    "outputId": "f1118d13-a431-445c-b158-a35cfdd56ad9"
   },
   "outputs": [
    {
     "data": {
      "text/plain": [
       "<matplotlib.axes._subplots.AxesSubplot at 0x1beac4a8>"
      ]
     },
     "execution_count": 9,
     "metadata": {},
     "output_type": "execute_result"
    },
    {
     "data": {
      "image/png": "[encoded data removed]",
      "text/plain": [
       "<Figure size 432x288 with 1 Axes>"
      ]
     },
     "metadata": {
      "needs_background": "light"
     },
     "output_type": "display_data"
    }
   ],
   "source": [
    "# regardons dans un premier temps la situation sur les bilans d'inspection\n",
    "df['Synthese_eval_sanit'].value_counts().plot(kind='bar')"
   ]
  },
  {
   "cell_type": "code",
   "execution_count": 10,
   "metadata": {},
   "outputs": [],
   "source": [
    "# Pour pouvoir regarder les données en fonction de la date il va falloir transformer la colonne de Date_inspection\n",
    "#dans un format que Python comprend \n",
    "from datetime import datetime # on importe la librairie datetime \n",
    "def transform_date (string_date):\n",
    "    #cette fonction prend l'objet string de la colonne Date_inspection et le transforme en object datetime\n",
    "  datestr = string_date.split('+')[0] #remove the last bit of the data (ms) we don't need that\n",
    "  return datetime.strptime(datestr,'%Y-%m-%dT%H:%M:%S') #convert the data into datetime object\n",
    "# on applique cette fonction à notre colonne\n",
    "df['Date_inspection'] = df['Date_inspection'].apply(lambda x : transform_date(x))"
   ]
  },
  {
   "cell_type": "code",
   "execution_count": 11,
   "metadata": {},
   "outputs": [
    {
     "data": {
      "text/html": [
       "<div>\n",
       "<style scoped>\n",
       "    .dataframe tbody tr th:only-of-type {\n",
       "        vertical-align: middle;\n",
       "    }\n",
       "\n",
       "    .dataframe tbody tr th {\n",
       "        vertical-align: top;\n",
       "    }\n",
       "\n",
       "    .dataframe thead th {\n",
       "        text-align: right;\n",
       "    }\n",
       "</style>\n",
       "<table border=\"1\" class=\"dataframe\">\n",
       "  <thead>\n",
       "    <tr style=\"text-align: right;\">\n",
       "      <th>Synthese_eval_sanit</th>\n",
       "      <th>Date_inspection</th>\n",
       "      <th>A améliorer</th>\n",
       "      <th>A corriger de manière urgente</th>\n",
       "      <th>Satisfaisant</th>\n",
       "      <th>Très satisfaisant</th>\n",
       "    </tr>\n",
       "  </thead>\n",
       "  <tbody>\n",
       "    <tr>\n",
       "      <th>0</th>\n",
       "      <td>2019-05-31</td>\n",
       "      <td>32.0</td>\n",
       "      <td>4.0</td>\n",
       "      <td>463.0</td>\n",
       "      <td>281.0</td>\n",
       "    </tr>\n",
       "    <tr>\n",
       "      <th>1</th>\n",
       "      <td>2019-06-30</td>\n",
       "      <td>79.0</td>\n",
       "      <td>6.0</td>\n",
       "      <td>977.0</td>\n",
       "      <td>548.0</td>\n",
       "    </tr>\n",
       "    <tr>\n",
       "      <th>2</th>\n",
       "      <td>2019-07-31</td>\n",
       "      <td>106.0</td>\n",
       "      <td>8.0</td>\n",
       "      <td>1259.0</td>\n",
       "      <td>748.0</td>\n",
       "    </tr>\n",
       "    <tr>\n",
       "      <th>3</th>\n",
       "      <td>2019-08-31</td>\n",
       "      <td>78.0</td>\n",
       "      <td>6.0</td>\n",
       "      <td>913.0</td>\n",
       "      <td>483.0</td>\n",
       "    </tr>\n",
       "    <tr>\n",
       "      <th>4</th>\n",
       "      <td>2019-09-30</td>\n",
       "      <td>90.0</td>\n",
       "      <td>8.0</td>\n",
       "      <td>838.0</td>\n",
       "      <td>395.0</td>\n",
       "    </tr>\n",
       "    <tr>\n",
       "      <th>5</th>\n",
       "      <td>2019-10-31</td>\n",
       "      <td>83.0</td>\n",
       "      <td>5.0</td>\n",
       "      <td>868.0</td>\n",
       "      <td>405.0</td>\n",
       "    </tr>\n",
       "    <tr>\n",
       "      <th>6</th>\n",
       "      <td>2019-11-30</td>\n",
       "      <td>92.0</td>\n",
       "      <td>4.0</td>\n",
       "      <td>814.0</td>\n",
       "      <td>402.0</td>\n",
       "    </tr>\n",
       "    <tr>\n",
       "      <th>7</th>\n",
       "      <td>2019-12-31</td>\n",
       "      <td>92.0</td>\n",
       "      <td>8.0</td>\n",
       "      <td>598.0</td>\n",
       "      <td>304.0</td>\n",
       "    </tr>\n",
       "    <tr>\n",
       "      <th>8</th>\n",
       "      <td>2020-01-31</td>\n",
       "      <td>158.0</td>\n",
       "      <td>6.0</td>\n",
       "      <td>868.0</td>\n",
       "      <td>481.0</td>\n",
       "    </tr>\n",
       "    <tr>\n",
       "      <th>9</th>\n",
       "      <td>2020-02-29</td>\n",
       "      <td>226.0</td>\n",
       "      <td>12.0</td>\n",
       "      <td>884.0</td>\n",
       "      <td>502.0</td>\n",
       "    </tr>\n",
       "    <tr>\n",
       "      <th>10</th>\n",
       "      <td>2020-03-31</td>\n",
       "      <td>88.0</td>\n",
       "      <td>5.0</td>\n",
       "      <td>360.0</td>\n",
       "      <td>197.0</td>\n",
       "    </tr>\n",
       "    <tr>\n",
       "      <th>11</th>\n",
       "      <td>2020-04-30</td>\n",
       "      <td>4.0</td>\n",
       "      <td>0.0</td>\n",
       "      <td>9.0</td>\n",
       "      <td>1.0</td>\n",
       "    </tr>\n",
       "    <tr>\n",
       "      <th>12</th>\n",
       "      <td>2020-05-31</td>\n",
       "      <td>0.0</td>\n",
       "      <td>0.0</td>\n",
       "      <td>2.0</td>\n",
       "      <td>0.0</td>\n",
       "    </tr>\n",
       "  </tbody>\n",
       "</table>\n",
       "</div>"
      ],
      "text/plain": [
       "Synthese_eval_sanit Date_inspection  A améliorer  \\\n",
       "0                        2019-05-31         32.0   \n",
       "1                        2019-06-30         79.0   \n",
       "2                        2019-07-31        106.0   \n",
       "3                        2019-08-31         78.0   \n",
       "4                        2019-09-30         90.0   \n",
       "5                        2019-10-31         83.0   \n",
       "6                        2019-11-30         92.0   \n",
       "7                        2019-12-31         92.0   \n",
       "8                        2020-01-31        158.0   \n",
       "9                        2020-02-29        226.0   \n",
       "10                       2020-03-31         88.0   \n",
       "11                       2020-04-30          4.0   \n",
       "12                       2020-05-31          0.0   \n",
       "\n",
       "Synthese_eval_sanit  A corriger de manière urgente  Satisfaisant  \\\n",
       "0                                              4.0         463.0   \n",
       "1                                              6.0         977.0   \n",
       "2                                              8.0        1259.0   \n",
       "3                                              6.0         913.0   \n",
       "4                                              8.0         838.0   \n",
       "5                                              5.0         868.0   \n",
       "6                                              4.0         814.0   \n",
       "7                                              8.0         598.0   \n",
       "8                                              6.0         868.0   \n",
       "9                                             12.0         884.0   \n",
       "10                                             5.0         360.0   \n",
       "11                                             0.0           9.0   \n",
       "12                                             0.0           2.0   \n",
       "\n",
       "Synthese_eval_sanit  Très satisfaisant  \n",
       "0                                281.0  \n",
       "1                                548.0  \n",
       "2                                748.0  \n",
       "3                                483.0  \n",
       "4                                395.0  \n",
       "5                                405.0  \n",
       "6                                402.0  \n",
       "7                                304.0  \n",
       "8                                481.0  \n",
       "9                                502.0  \n",
       "10                               197.0  \n",
       "11                                 1.0  \n",
       "12                                 0.0  "
      ]
     },
     "execution_count": 11,
     "metadata": {},
     "output_type": "execute_result"
    }
   ],
   "source": [
    "grouped = df.groupby([pd.Grouper(key = 'Date_inspection', freq = 'm'), 'Synthese_eval_sanit'])['filtre'].count()\n",
    "#Before ploting we need to do some transforming of our \n",
    "grouped.unstack('Synthese_eval_sanit').reset_index().fillna(value = 0)"
   ]
  },
  {
   "cell_type": "code",
   "execution_count": 12,
   "metadata": {},
   "outputs": [
    {
     "data": {
      "text/html": [
       "<div>\n",
       "<style scoped>\n",
       "    .dataframe tbody tr th:only-of-type {\n",
       "        vertical-align: middle;\n",
       "    }\n",
       "\n",
       "    .dataframe tbody tr th {\n",
       "        vertical-align: top;\n",
       "    }\n",
       "\n",
       "    .dataframe thead th {\n",
       "        text-align: right;\n",
       "    }\n",
       "</style>\n",
       "<table border=\"1\" class=\"dataframe\">\n",
       "  <thead>\n",
       "    <tr style=\"text-align: right;\">\n",
       "      <th>Synthese_eval_sanit</th>\n",
       "      <th>Date_inspection</th>\n",
       "      <th>A améliorer</th>\n",
       "      <th>A corriger de manière urgente</th>\n",
       "      <th>Satisfaisant</th>\n",
       "      <th>Très satisfaisant</th>\n",
       "    </tr>\n",
       "  </thead>\n",
       "  <tbody>\n",
       "    <tr>\n",
       "      <th>0</th>\n",
       "      <td>2019-05-31</td>\n",
       "      <td>32.0</td>\n",
       "      <td>4.0</td>\n",
       "      <td>463.0</td>\n",
       "      <td>281.0</td>\n",
       "    </tr>\n",
       "    <tr>\n",
       "      <th>1</th>\n",
       "      <td>2019-06-30</td>\n",
       "      <td>79.0</td>\n",
       "      <td>6.0</td>\n",
       "      <td>977.0</td>\n",
       "      <td>548.0</td>\n",
       "    </tr>\n",
       "    <tr>\n",
       "      <th>2</th>\n",
       "      <td>2019-07-31</td>\n",
       "      <td>106.0</td>\n",
       "      <td>8.0</td>\n",
       "      <td>1259.0</td>\n",
       "      <td>748.0</td>\n",
       "    </tr>\n",
       "    <tr>\n",
       "      <th>3</th>\n",
       "      <td>2019-08-31</td>\n",
       "      <td>78.0</td>\n",
       "      <td>6.0</td>\n",
       "      <td>913.0</td>\n",
       "      <td>483.0</td>\n",
       "    </tr>\n",
       "    <tr>\n",
       "      <th>4</th>\n",
       "      <td>2019-09-30</td>\n",
       "      <td>90.0</td>\n",
       "      <td>8.0</td>\n",
       "      <td>838.0</td>\n",
       "      <td>395.0</td>\n",
       "    </tr>\n",
       "    <tr>\n",
       "      <th>5</th>\n",
       "      <td>2019-10-31</td>\n",
       "      <td>83.0</td>\n",
       "      <td>5.0</td>\n",
       "      <td>868.0</td>\n",
       "      <td>405.0</td>\n",
       "    </tr>\n",
       "    <tr>\n",
       "      <th>6</th>\n",
       "      <td>2019-11-30</td>\n",
       "      <td>92.0</td>\n",
       "      <td>4.0</td>\n",
       "      <td>814.0</td>\n",
       "      <td>402.0</td>\n",
       "    </tr>\n",
       "    <tr>\n",
       "      <th>7</th>\n",
       "      <td>2019-12-31</td>\n",
       "      <td>92.0</td>\n",
       "      <td>8.0</td>\n",
       "      <td>598.0</td>\n",
       "      <td>304.0</td>\n",
       "    </tr>\n",
       "    <tr>\n",
       "      <th>8</th>\n",
       "      <td>2020-01-31</td>\n",
       "      <td>158.0</td>\n",
       "      <td>6.0</td>\n",
       "      <td>868.0</td>\n",
       "      <td>481.0</td>\n",
       "    </tr>\n",
       "    <tr>\n",
       "      <th>9</th>\n",
       "      <td>2020-02-29</td>\n",
       "      <td>226.0</td>\n",
       "      <td>12.0</td>\n",
       "      <td>884.0</td>\n",
       "      <td>502.0</td>\n",
       "    </tr>\n",
       "    <tr>\n",
       "      <th>10</th>\n",
       "      <td>2020-03-31</td>\n",
       "      <td>88.0</td>\n",
       "      <td>5.0</td>\n",
       "      <td>360.0</td>\n",
       "      <td>197.0</td>\n",
       "    </tr>\n",
       "    <tr>\n",
       "      <th>11</th>\n",
       "      <td>2020-04-30</td>\n",
       "      <td>4.0</td>\n",
       "      <td>0.0</td>\n",
       "      <td>9.0</td>\n",
       "      <td>1.0</td>\n",
       "    </tr>\n",
       "    <tr>\n",
       "      <th>12</th>\n",
       "      <td>2020-05-31</td>\n",
       "      <td>0.0</td>\n",
       "      <td>0.0</td>\n",
       "      <td>2.0</td>\n",
       "      <td>0.0</td>\n",
       "    </tr>\n",
       "  </tbody>\n",
       "</table>\n",
       "</div>"
      ],
      "text/plain": [
       "Synthese_eval_sanit Date_inspection  A améliorer  \\\n",
       "0                        2019-05-31         32.0   \n",
       "1                        2019-06-30         79.0   \n",
       "2                        2019-07-31        106.0   \n",
       "3                        2019-08-31         78.0   \n",
       "4                        2019-09-30         90.0   \n",
       "5                        2019-10-31         83.0   \n",
       "6                        2019-11-30         92.0   \n",
       "7                        2019-12-31         92.0   \n",
       "8                        2020-01-31        158.0   \n",
       "9                        2020-02-29        226.0   \n",
       "10                       2020-03-31         88.0   \n",
       "11                       2020-04-30          4.0   \n",
       "12                       2020-05-31          0.0   \n",
       "\n",
       "Synthese_eval_sanit  A corriger de manière urgente  Satisfaisant  \\\n",
       "0                                              4.0         463.0   \n",
       "1                                              6.0         977.0   \n",
       "2                                              8.0        1259.0   \n",
       "3                                              6.0         913.0   \n",
       "4                                              8.0         838.0   \n",
       "5                                              5.0         868.0   \n",
       "6                                              4.0         814.0   \n",
       "7                                              8.0         598.0   \n",
       "8                                              6.0         868.0   \n",
       "9                                             12.0         884.0   \n",
       "10                                             5.0         360.0   \n",
       "11                                             0.0           9.0   \n",
       "12                                             0.0           2.0   \n",
       "\n",
       "Synthese_eval_sanit  Très satisfaisant  \n",
       "0                                281.0  \n",
       "1                                548.0  \n",
       "2                                748.0  \n",
       "3                                483.0  \n",
       "4                                395.0  \n",
       "5                                405.0  \n",
       "6                                402.0  \n",
       "7                                304.0  \n",
       "8                                481.0  \n",
       "9                                502.0  \n",
       "10                               197.0  \n",
       "11                                 1.0  \n",
       "12                                 0.0  "
      ]
     },
     "execution_count": 12,
     "metadata": {},
     "output_type": "execute_result"
    }
   ],
   "source": [
    "# Groupons les valeurs par mois et par résultat d'inspection \n",
    "grouped = df.groupby([pd.Grouper(key = 'Date_inspection', freq = 'm'), 'Synthese_eval_sanit'])['filtre'].count()\n",
    "#Il est plus pratique pour présenter les données de unstack le tableau. ce qui donne :\n",
    "grouped.unstack('Synthese_eval_sanit').reset_index().fillna(value = 0)"
   ]
  },
  {
   "cell_type": "code",
   "execution_count": 13,
   "metadata": {},
   "outputs": [
    {
     "data": {
      "text/html": [
       "<div>\n",
       "<style scoped>\n",
       "    .dataframe tbody tr th:only-of-type {\n",
       "        vertical-align: middle;\n",
       "    }\n",
       "\n",
       "    .dataframe tbody tr th {\n",
       "        vertical-align: top;\n",
       "    }\n",
       "\n",
       "    .dataframe thead th {\n",
       "        text-align: right;\n",
       "    }\n",
       "</style>\n",
       "<table border=\"1\" class=\"dataframe\">\n",
       "  <thead>\n",
       "    <tr style=\"text-align: right;\">\n",
       "      <th>Synthese_eval_sanit</th>\n",
       "      <th>Date_inspection</th>\n",
       "      <th>A améliorer</th>\n",
       "      <th>A corriger de manière urgente</th>\n",
       "      <th>Satisfaisant</th>\n",
       "      <th>Très satisfaisant</th>\n",
       "      <th>Total inspections</th>\n",
       "      <th>A améliorer_ratio</th>\n",
       "      <th>A corriger de manière urgente_ratio</th>\n",
       "      <th>Satisfaisant_ratio</th>\n",
       "      <th>Très satisfaisant_ratio</th>\n",
       "    </tr>\n",
       "  </thead>\n",
       "  <tbody>\n",
       "    <tr>\n",
       "      <th>0</th>\n",
       "      <td>2019-05-31</td>\n",
       "      <td>32.0</td>\n",
       "      <td>4.0</td>\n",
       "      <td>463.0</td>\n",
       "      <td>281.0</td>\n",
       "      <td>780.0</td>\n",
       "      <td>4.102564</td>\n",
       "      <td>0.512821</td>\n",
       "      <td>59.358974</td>\n",
       "      <td>36.025641</td>\n",
       "    </tr>\n",
       "    <tr>\n",
       "      <th>1</th>\n",
       "      <td>2019-06-30</td>\n",
       "      <td>79.0</td>\n",
       "      <td>6.0</td>\n",
       "      <td>977.0</td>\n",
       "      <td>548.0</td>\n",
       "      <td>1610.0</td>\n",
       "      <td>4.906832</td>\n",
       "      <td>0.372671</td>\n",
       "      <td>60.683230</td>\n",
       "      <td>34.037267</td>\n",
       "    </tr>\n",
       "    <tr>\n",
       "      <th>2</th>\n",
       "      <td>2019-07-31</td>\n",
       "      <td>106.0</td>\n",
       "      <td>8.0</td>\n",
       "      <td>1259.0</td>\n",
       "      <td>748.0</td>\n",
       "      <td>2121.0</td>\n",
       "      <td>4.997643</td>\n",
       "      <td>0.377181</td>\n",
       "      <td>59.358793</td>\n",
       "      <td>35.266384</td>\n",
       "    </tr>\n",
       "    <tr>\n",
       "      <th>3</th>\n",
       "      <td>2019-08-31</td>\n",
       "      <td>78.0</td>\n",
       "      <td>6.0</td>\n",
       "      <td>913.0</td>\n",
       "      <td>483.0</td>\n",
       "      <td>1480.0</td>\n",
       "      <td>5.270270</td>\n",
       "      <td>0.405405</td>\n",
       "      <td>61.689189</td>\n",
       "      <td>32.635135</td>\n",
       "    </tr>\n",
       "    <tr>\n",
       "      <th>4</th>\n",
       "      <td>2019-09-30</td>\n",
       "      <td>90.0</td>\n",
       "      <td>8.0</td>\n",
       "      <td>838.0</td>\n",
       "      <td>395.0</td>\n",
       "      <td>1331.0</td>\n",
       "      <td>6.761833</td>\n",
       "      <td>0.601052</td>\n",
       "      <td>62.960180</td>\n",
       "      <td>29.676935</td>\n",
       "    </tr>\n",
       "  </tbody>\n",
       "</table>\n",
       "</div>"
      ],
      "text/plain": [
       "Synthese_eval_sanit Date_inspection  A améliorer  \\\n",
       "0                        2019-05-31         32.0   \n",
       "1                        2019-06-30         79.0   \n",
       "2                        2019-07-31        106.0   \n",
       "3                        2019-08-31         78.0   \n",
       "4                        2019-09-30         90.0   \n",
       "\n",
       "Synthese_eval_sanit  A corriger de manière urgente  Satisfaisant  \\\n",
       "0                                              4.0         463.0   \n",
       "1                                              6.0         977.0   \n",
       "2                                              8.0        1259.0   \n",
       "3                                              6.0         913.0   \n",
       "4                                              8.0         838.0   \n",
       "\n",
       "Synthese_eval_sanit  Très satisfaisant  Total inspections  A améliorer_ratio  \\\n",
       "0                                281.0              780.0           4.102564   \n",
       "1                                548.0             1610.0           4.906832   \n",
       "2                                748.0             2121.0           4.997643   \n",
       "3                                483.0             1480.0           5.270270   \n",
       "4                                395.0             1331.0           6.761833   \n",
       "\n",
       "Synthese_eval_sanit  A corriger de manière urgente_ratio  Satisfaisant_ratio  \\\n",
       "0                                               0.512821           59.358974   \n",
       "1                                               0.372671           60.683230   \n",
       "2                                               0.377181           59.358793   \n",
       "3                                               0.405405           61.689189   \n",
       "4                                               0.601052           62.960180   \n",
       "\n",
       "Synthese_eval_sanit  Très satisfaisant_ratio  \n",
       "0                                  36.025641  \n",
       "1                                  34.037267  \n",
       "2                                  35.266384  \n",
       "3                                  32.635135  \n",
       "4                                  29.676935  "
      ]
     },
     "execution_count": 13,
     "metadata": {},
     "output_type": "execute_result"
    }
   ],
   "source": [
    "df_eval = grouped.unstack('Synthese_eval_sanit').reset_index().fillna(value = 0)\n",
    "# On créé une varible qui liste les colonne numériques\n",
    "num_cols = [col for col in df_eval.columns if df_eval[col].dtype == \"float\"]\n",
    "#On fait la somme totale des inspections d'un mois  \n",
    "df_eval['Total inspections'] = df_eval.sum(axis = 1)\n",
    "# On calcule un ratio sur le nombre de résultats d'un certain type par rapport au nombre d'inspection totale\n",
    "for n in num_cols:\n",
    "    df_eval[n+'_ratio'] = df_eval[n]/df_eval['Total inspections']*100\n",
    "df_eval.head()"
   ]
  },
  {
   "cell_type": "code",
   "execution_count": 14,
   "metadata": {},
   "outputs": [
    {
     "data": {
      "image/png": "[encoded data removed]",
      "text/plain": [
       "<Figure size 432x288 with 1 Axes>"
      ]
     },
     "metadata": {
      "needs_background": "light"
     },
     "output_type": "display_data"
    }
   ],
   "source": [
    "import numpy as np \n",
    "\n",
    "fig, ax = plt.subplots()\n",
    "#convert the date in some strings\n",
    "labels = [i.strftime('%m_%Y') for i in df_eval['Date_inspection']]\n",
    "width = 0.35     # the width of the bars: can also be len(x) sequence\n",
    "\n",
    "color_dict = {'A améliorer':'darkorange',\n",
    " 'A corriger de manière urgente': 'red',\n",
    " 'Satisfaisant':'yellowgreen',\n",
    " 'Très satisfaisant':'green'}\n",
    "\n",
    "bot = np.zeros(df_eval.shape[0])\n",
    "for n in num_cols:\n",
    "    m = n+ '_ratio'\n",
    "    ax.bar(labels, df_eval[m], width, bottom = bot, label=n , color = color_dict[n])\n",
    "    bot += df_eval[m]\n",
    "\n",
    "\n",
    "#ax.set_ylabel('Scores')\n",
    "#ax.set_title('Scores by group and gender')\n",
    "ax.legend(loc='center left', bbox_to_anchor=(1, 0.5))\n",
    "\n",
    "rects = ax.patches\n",
    "\n",
    "# Make some labels.\n",
    "N_insp = [str(int(i)) for i in df_eval['Total inspections'].values]\n",
    "\n",
    "for rect, N_insp in zip(rects, N_insp):\n",
    "    height = 100\n",
    "    ax.text(rect.get_x() + rect.get_width() / 2, height + 5, N_insp,\n",
    "            ha='center', va='bottom', rotation = 45)\n",
    "\n",
    "plt.xticks(rotation=45)\n",
    "plt.show()"
   ]
  },
  {
   "cell_type": "markdown",
   "metadata": {},
   "source": [
    "# 2. Agréger et nettoyer les données\n",
    "On récupère les données sur data.gouv.fr : [pour les zipcode](https://www.data.gouv.fr/en/datasets/regions-departements-villes-et-villages-de-france-et-doutre-mer/) et [pour la population](https://www.insee.fr/fr/statistiques/4265429?sommaire=4265511#consulter) "
   ]
  },
  {
   "cell_type": "markdown",
   "metadata": {},
   "source": [
    "### Nombre de contrôles par mois par région.\n",
    "Pour cela il va falloir :\n",
    "1. Connaître la région à laquelle le restaurant appartient \n",
    "2. Calculer le nombre de contrôles mensuels pour chacune des régions\n",
    "3. Calculer le ratio de controles par rapport au nombre d'habitants \n",
    "4. Sortir une liste par région où il n'y a pas assez eu de contrôle mensuels. On pourrait se fixer comme limite minimum qu'il faut 1 controle pour 100 000 habitants tous les mois. "
   ]
  },
  {
   "cell_type": "code",
   "execution_count": 22,
   "metadata": {},
   "outputs": [
    {
     "ename": "MemoryError",
     "evalue": "",
     "output_type": "error",
     "traceback": [
      "\u001b[1;31m---------------------------------------------------------------------------\u001b[0m",
      "\u001b[1;31mMemoryError\u001b[0m                               Traceback (most recent call last)",
      "\u001b[1;32m<ipython-input-22-0e8dac5a368a>\u001b[0m in \u001b[0;36m<module>\u001b[1;34m\u001b[0m\n\u001b[0;32m      1\u001b[0m \u001b[1;31m#df_sirene = pd.read_csv('../data/StockEtablissement_mai2020.csv', nrows = 20)\u001b[0m\u001b[1;33m\u001b[0m\u001b[1;33m\u001b[0m\u001b[1;33m\u001b[0m\u001b[0m\n\u001b[0;32m      2\u001b[0m \u001b[1;33m\u001b[0m\u001b[0m\n\u001b[1;32m----> 3\u001b[1;33m \u001b[0mdf_sirene\u001b[0m \u001b[1;33m=\u001b[0m \u001b[0mpd\u001b[0m\u001b[1;33m.\u001b[0m\u001b[0mread_csv\u001b[0m\u001b[1;33m(\u001b[0m\u001b[1;34m'http://files.data.gouv.fr/insee-sirene/StockEtablissement_utf8.zip'\u001b[0m\u001b[1;33m,\u001b[0m \u001b[0mcompression\u001b[0m\u001b[1;33m=\u001b[0m\u001b[1;34m'zip'\u001b[0m\u001b[1;33m,\u001b[0m \u001b[0mnrows\u001b[0m \u001b[1;33m=\u001b[0m \u001b[1;36m20\u001b[0m\u001b[1;33m)\u001b[0m\u001b[1;33m\u001b[0m\u001b[1;33m\u001b[0m\u001b[0m\n\u001b[0m",
      "\u001b[1;32mc:\\users\\rreynaud\\pycharmprojects\\ami-ia\\venv\\lib\\site-packages\\pandas\\io\\parsers.py\u001b[0m in \u001b[0;36mparser_f\u001b[1;34m(filepath_or_buffer, sep, delimiter, header, names, index_col, usecols, squeeze, prefix, mangle_dupe_cols, dtype, engine, converters, true_values, false_values, skipinitialspace, skiprows, skipfooter, nrows, na_values, keep_default_na, na_filter, verbose, skip_blank_lines, parse_dates, infer_datetime_format, keep_date_col, date_parser, dayfirst, cache_dates, iterator, chunksize, compression, thousands, decimal, lineterminator, quotechar, quoting, doublequote, escapechar, comment, encoding, dialect, error_bad_lines, warn_bad_lines, delim_whitespace, low_memory, memory_map, float_precision)\u001b[0m\n\u001b[0;32m    674\u001b[0m         )\n\u001b[0;32m    675\u001b[0m \u001b[1;33m\u001b[0m\u001b[0m\n\u001b[1;32m--> 676\u001b[1;33m         \u001b[1;32mreturn\u001b[0m \u001b[0m_read\u001b[0m\u001b[1;33m(\u001b[0m\u001b[0mfilepath_or_buffer\u001b[0m\u001b[1;33m,\u001b[0m \u001b[0mkwds\u001b[0m\u001b[1;33m)\u001b[0m\u001b[1;33m\u001b[0m\u001b[1;33m\u001b[0m\u001b[0m\n\u001b[0m\u001b[0;32m    677\u001b[0m \u001b[1;33m\u001b[0m\u001b[0m\n\u001b[0;32m    678\u001b[0m     \u001b[0mparser_f\u001b[0m\u001b[1;33m.\u001b[0m\u001b[0m__name__\u001b[0m \u001b[1;33m=\u001b[0m \u001b[0mname\u001b[0m\u001b[1;33m\u001b[0m\u001b[1;33m\u001b[0m\u001b[0m\n",
      "\u001b[1;32mc:\\users\\rreynaud\\pycharmprojects\\ami-ia\\venv\\lib\\site-packages\\pandas\\io\\parsers.py\u001b[0m in \u001b[0;36m_read\u001b[1;34m(filepath_or_buffer, kwds)\u001b[0m\n\u001b[0;32m    428\u001b[0m     \u001b[1;31m# though mypy handling of conditional imports is difficult.\u001b[0m\u001b[1;33m\u001b[0m\u001b[1;33m\u001b[0m\u001b[1;33m\u001b[0m\u001b[0m\n\u001b[0;32m    429\u001b[0m     \u001b[1;31m# See https://github.com/python/mypy/issues/1297\u001b[0m\u001b[1;33m\u001b[0m\u001b[1;33m\u001b[0m\u001b[1;33m\u001b[0m\u001b[0m\n\u001b[1;32m--> 430\u001b[1;33m     fp_or_buf, _, compression, should_close = get_filepath_or_buffer(\n\u001b[0m\u001b[0;32m    431\u001b[0m         \u001b[0mfilepath_or_buffer\u001b[0m\u001b[1;33m,\u001b[0m \u001b[0mencoding\u001b[0m\u001b[1;33m,\u001b[0m \u001b[0mcompression\u001b[0m\u001b[1;33m\u001b[0m\u001b[1;33m\u001b[0m\u001b[0m\n\u001b[0;32m    432\u001b[0m     )\n",
      "\u001b[1;32mc:\\users\\rreynaud\\pycharmprojects\\ami-ia\\venv\\lib\\site-packages\\pandas\\io\\common.py\u001b[0m in \u001b[0;36mget_filepath_or_buffer\u001b[1;34m(filepath_or_buffer, encoding, compression, mode)\u001b[0m\n\u001b[0;32m    175\u001b[0m             \u001b[1;31m# Override compression based on Content-Encoding header\u001b[0m\u001b[1;33m\u001b[0m\u001b[1;33m\u001b[0m\u001b[1;33m\u001b[0m\u001b[0m\n\u001b[0;32m    176\u001b[0m             \u001b[0mcompression\u001b[0m \u001b[1;33m=\u001b[0m \u001b[1;34m\"gzip\"\u001b[0m\u001b[1;33m\u001b[0m\u001b[1;33m\u001b[0m\u001b[0m\n\u001b[1;32m--> 177\u001b[1;33m         \u001b[0mreader\u001b[0m \u001b[1;33m=\u001b[0m \u001b[0mBytesIO\u001b[0m\u001b[1;33m(\u001b[0m\u001b[0mreq\u001b[0m\u001b[1;33m.\u001b[0m\u001b[0mread\u001b[0m\u001b[1;33m(\u001b[0m\u001b[1;33m)\u001b[0m\u001b[1;33m)\u001b[0m\u001b[1;33m\u001b[0m\u001b[1;33m\u001b[0m\u001b[0m\n\u001b[0m\u001b[0;32m    178\u001b[0m         \u001b[0mreq\u001b[0m\u001b[1;33m.\u001b[0m\u001b[0mclose\u001b[0m\u001b[1;33m(\u001b[0m\u001b[1;33m)\u001b[0m\u001b[1;33m\u001b[0m\u001b[1;33m\u001b[0m\u001b[0m\n\u001b[0;32m    179\u001b[0m         \u001b[1;32mreturn\u001b[0m \u001b[0mreader\u001b[0m\u001b[1;33m,\u001b[0m \u001b[0mencoding\u001b[0m\u001b[1;33m,\u001b[0m \u001b[0mcompression\u001b[0m\u001b[1;33m,\u001b[0m \u001b[1;32mTrue\u001b[0m\u001b[1;33m\u001b[0m\u001b[1;33m\u001b[0m\u001b[0m\n",
      "\u001b[1;32m~\\AppData\\Local\\Programs\\Python\\Python38-32\\lib\\http\\client.py\u001b[0m in \u001b[0;36mread\u001b[1;34m(self, amt)\u001b[0m\n\u001b[0;32m    465\u001b[0m             \u001b[1;32melse\u001b[0m\u001b[1;33m:\u001b[0m\u001b[1;33m\u001b[0m\u001b[1;33m\u001b[0m\u001b[0m\n\u001b[0;32m    466\u001b[0m                 \u001b[1;32mtry\u001b[0m\u001b[1;33m:\u001b[0m\u001b[1;33m\u001b[0m\u001b[1;33m\u001b[0m\u001b[0m\n\u001b[1;32m--> 467\u001b[1;33m                     \u001b[0ms\u001b[0m \u001b[1;33m=\u001b[0m \u001b[0mself\u001b[0m\u001b[1;33m.\u001b[0m\u001b[0m_safe_read\u001b[0m\u001b[1;33m(\u001b[0m\u001b[0mself\u001b[0m\u001b[1;33m.\u001b[0m\u001b[0mlength\u001b[0m\u001b[1;33m)\u001b[0m\u001b[1;33m\u001b[0m\u001b[1;33m\u001b[0m\u001b[0m\n\u001b[0m\u001b[0;32m    468\u001b[0m                 \u001b[1;32mexcept\u001b[0m \u001b[0mIncompleteRead\u001b[0m\u001b[1;33m:\u001b[0m\u001b[1;33m\u001b[0m\u001b[1;33m\u001b[0m\u001b[0m\n\u001b[0;32m    469\u001b[0m                     \u001b[0mself\u001b[0m\u001b[1;33m.\u001b[0m\u001b[0m_close_conn\u001b[0m\u001b[1;33m(\u001b[0m\u001b[1;33m)\u001b[0m\u001b[1;33m\u001b[0m\u001b[1;33m\u001b[0m\u001b[0m\n",
      "\u001b[1;32m~\\AppData\\Local\\Programs\\Python\\Python38-32\\lib\\http\\client.py\u001b[0m in \u001b[0;36m_safe_read\u001b[1;34m(self, amt)\u001b[0m\n\u001b[0;32m    606\u001b[0m         \u001b[0mIncompleteRead\u001b[0m \u001b[0mexception\u001b[0m \u001b[0mcan\u001b[0m \u001b[0mbe\u001b[0m \u001b[0mused\u001b[0m \u001b[0mto\u001b[0m \u001b[0mdetect\u001b[0m \u001b[0mthe\u001b[0m \u001b[0mproblem\u001b[0m\u001b[1;33m.\u001b[0m\u001b[1;33m\u001b[0m\u001b[1;33m\u001b[0m\u001b[0m\n\u001b[0;32m    607\u001b[0m         \"\"\"\n\u001b[1;32m--> 608\u001b[1;33m         \u001b[0mdata\u001b[0m \u001b[1;33m=\u001b[0m \u001b[0mself\u001b[0m\u001b[1;33m.\u001b[0m\u001b[0mfp\u001b[0m\u001b[1;33m.\u001b[0m\u001b[0mread\u001b[0m\u001b[1;33m(\u001b[0m\u001b[0mamt\u001b[0m\u001b[1;33m)\u001b[0m\u001b[1;33m\u001b[0m\u001b[1;33m\u001b[0m\u001b[0m\n\u001b[0m\u001b[0;32m    609\u001b[0m         \u001b[1;32mif\u001b[0m \u001b[0mlen\u001b[0m\u001b[1;33m(\u001b[0m\u001b[0mdata\u001b[0m\u001b[1;33m)\u001b[0m \u001b[1;33m<\u001b[0m \u001b[0mamt\u001b[0m\u001b[1;33m:\u001b[0m\u001b[1;33m\u001b[0m\u001b[1;33m\u001b[0m\u001b[0m\n\u001b[0;32m    610\u001b[0m             \u001b[1;32mraise\u001b[0m \u001b[0mIncompleteRead\u001b[0m\u001b[1;33m(\u001b[0m\u001b[0mdata\u001b[0m\u001b[1;33m,\u001b[0m \u001b[0mamt\u001b[0m\u001b[1;33m-\u001b[0m\u001b[0mlen\u001b[0m\u001b[1;33m(\u001b[0m\u001b[0mdata\u001b[0m\u001b[1;33m)\u001b[0m\u001b[1;33m)\u001b[0m\u001b[1;33m\u001b[0m\u001b[1;33m\u001b[0m\u001b[0m\n",
      "\u001b[1;31mMemoryError\u001b[0m: "
     ]
    }
   ],
   "source": [
    "#df_sirene = pd.read_csv('../data/StockEtablissement_mai2020.csv', nrows = 20)\n",
    "\n",
    "df_sirene = pd.read_csv('http://files.data.gouv.fr/insee-sirene/StockEtablissement_utf8.zip', compression='zip', nrows = 20)"
   ]
  },
  {
   "cell_type": "code",
   "execution_count": null,
   "metadata": {},
   "outputs": [],
   "source": [
    "df_sirene.sample(5)"
   ]
  },
  {
   "cell_type": "code",
   "execution_count": null,
   "metadata": {},
   "outputs": [],
   "source": [
    "df_sirene.info()"
   ]
  },
  {
   "cell_type": "code",
   "execution_count": null,
   "metadata": {},
   "outputs": [],
   "source": [
    "df_sirene[df_sirene['activitePrincipaleEtablissement']== '32.12Z']"
   ]
  },
  {
   "cell_type": "code",
   "execution_count": null,
   "metadata": {},
   "outputs": [],
   "source": [
    "col_of_interest = ['siret','enseigne1Etablissement','codePostalEtablissement']"
   ]
  },
  {
   "cell_type": "code",
   "execution_count": null,
   "metadata": {},
   "outputs": [],
   "source": [
    "df_sirene[df_sirene['activitePrincipaleEtablissement']== '32.12Z'][col_of_interest]"
   ]
  },
  {
   "cell_type": "code",
   "execution_count": null,
   "metadata": {},
   "outputs": [],
   "source": [
    "cp_restaurant = pd.DataFrame()"
   ]
  },
  {
   "cell_type": "code",
   "execution_count": null,
   "metadata": {},
   "outputs": [],
   "source": [
    "cp_restaurant = pd.concat([cp_restaurant,df_sirene[df_sirene['activitePrincipaleEtablissement']== '32.12Z'][col_of_interest]])"
   ]
  },
  {
   "cell_type": "code",
   "execution_count": null,
   "metadata": {},
   "outputs": [],
   "source": [
    "cp_restaurant.info()"
   ]
  },
  {
   "cell_type": "code",
   "execution_count": null,
   "metadata": {},
   "outputs": [],
   "source": []
  },
  {
   "cell_type": "code",
   "execution_count": null,
   "metadata": {},
   "outputs": [],
   "source": []
  },
  {
   "cell_type": "code",
   "execution_count": null,
   "metadata": {},
   "outputs": [],
   "source": [
    "df_sirene = pd.read_csv('../data/StockEtablissement_mai2020.csv', chunksize = 10000)"
   ]
  },
  {
   "cell_type": "code",
   "execution_count": null,
   "metadata": {},
   "outputs": [],
   "source": [
    "\n"
   ]
  },
  {
   "cell_type": "code",
   "execution_count": null,
   "metadata": {},
   "outputs": [],
   "source": [
    "cp_restaurant = pd.DataFrame()\n",
    "for df_c in df_sirene:\n",
    "    cp_restaurant = pd.concat([cp_restaurant,df_c[df_c['activitePrincipaleEtablissement']== '56.10A'][col_of_interest]])"
   ]
  },
  {
   "cell_type": "code",
   "execution_count": null,
   "metadata": {},
   "outputs": [],
   "source": [
    "cp_restaurant.info()"
   ]
  },
  {
   "cell_type": "code",
   "execution_count": null,
   "metadata": {},
   "outputs": [],
   "source": [
    "cp_restaurant.head()"
   ]
  },
  {
   "cell_type": "code",
   "execution_count": null,
   "metadata": {},
   "outputs": [],
   "source": []
  },
  {
   "cell_type": "code",
   "execution_count": null,
   "metadata": {
    "colab": {},
    "colab_type": "code",
    "id": "k1pkR__WZvYR"
   },
   "outputs": [],
   "source": [
    "# On charge les données dans des dataFrames \n",
    "df_cities = pd.read_csv('../data/cities.csv')\n",
    "df_departments = pd.read_csv('../data/departments.csv')\n",
    "df_regions = pd.read_csv('../data/regions.csv')\n",
    "df_pop_regions = pd.read_csv('../data/pop_regions.csv')"
   ]
  },
  {
   "cell_type": "code",
   "execution_count": null,
   "metadata": {
    "colab": {
     "base_uri": "https://localhost:8080/",
     "height": 479
    },
    "colab_type": "code",
    "id": "jt06y6LFas31",
    "outputId": "efdda5c6-f494-4a68-f165-74995e6709c8"
   },
   "outputs": [],
   "source": [
    "#for further processing we need to change the columns names for df_region\n",
    "df_regions.columns= ['id', 'region_code', 'region_name', 'slug']\n",
    "# On joint les données en utilisant les colonnes en commun entre les dataFrame\n",
    "df_with_regions = pd.merge(df, df_cities, how= 'left', left_on = 'Code_postal', right_on = 'zip_code')\n",
    "df_with_regions = pd.merge(df_with_regions, df_departments, how= 'left', left_on = 'department_code', right_on = 'code')\n",
    "df_with_regions = pd.merge(df_with_regions, df_regions, how= 'left', on = 'region_code')\n",
    "\n",
    "# Observons le résultat\n",
    "df_with_regions.head()"
   ]
  },
  {
   "cell_type": "markdown",
   "metadata": {},
   "source": [
    "## The problem with this merging is that it generated many duplicates due to small cities having the same zip code"
   ]
  },
  {
   "cell_type": "code",
   "execution_count": null,
   "metadata": {
    "colab": {},
    "colab_type": "code",
    "id": "4gQKrq_EbRKJ"
   },
   "outputs": [],
   "source": [
    "#keep only original columns + regions\n",
    "columns = df.columns.tolist()\n",
    "columns += ['region_name', 'region_code']\n",
    "df_with_regions = df_with_regions.filter(items=columns)\n",
    "#remove duplicates\n",
    "df_with_regions.drop_duplicates(ignore_index=True, inplace= True)"
   ]
  },
  {
   "cell_type": "markdown",
   "metadata": {},
   "source": [
    "## On aimerait bien aussi nettoyer les valeurs NAN que l'on voit dans les colonnes "
   ]
  },
  {
   "cell_type": "code",
   "execution_count": null,
   "metadata": {
    "colab": {
     "base_uri": "https://localhost:8080/",
     "height": 561
    },
    "colab_type": "code",
    "id": "kZBUpqsQcT9I",
    "outputId": "a1149035-b8f3-43bb-a844-5b1bc216afb6"
   },
   "outputs": [],
   "source": [
    "# it is usefull to check the number of nan in the table\n",
    "df_with_regions.isna().sum()"
   ]
  },
  {
   "cell_type": "code",
   "execution_count": null,
   "metadata": {
    "colab": {
     "base_uri": "https://localhost:8080/",
     "height": 561
    },
    "colab_type": "code",
    "id": "rXt4YJ4BcchI",
    "outputId": "84092553-047c-4e48-fde5-37f672e3cfb8"
   },
   "outputs": [],
   "source": [
    "# cleaning of the nan in the region_code column\n",
    "df_with_regions.dropna(subset=['region_code'], inplace=True)\n",
    "df_with_regions.isna().sum()"
   ]
  },
  {
   "cell_type": "markdown",
   "metadata": {},
   "source": [
    "## Comment les contrôles évoluent-ils par région et par mois ? "
   ]
  },
  {
   "cell_type": "code",
   "execution_count": null,
   "metadata": {
    "colab": {},
    "colab_type": "code",
    "id": "74wgh2ln2MQV"
   },
   "outputs": [],
   "source": [
    "# Group the data by month and by region \n",
    "grouped = df_with_regions.groupby([pd.Grouper(key = 'Date_inspection', freq = 'm'),'region_code'])['Synthese_eval_sanit'].count()"
   ]
  },
  {
   "cell_type": "code",
   "execution_count": null,
   "metadata": {
    "colab": {
     "base_uri": "https://localhost:8080/",
     "height": 386
    },
    "colab_type": "code",
    "id": "LujY2_Cww_gP",
    "outputId": "ddf0e659-3ec1-4c6e-f04e-bfe70dda38e3"
   },
   "outputs": [],
   "source": [
    "#Before ploting we need to do some transforming of our data\n",
    "df_inspections = grouped.unstack('region_code').reset_index().melt('Date_inspection', var_name = 'region_code', value_name = 'control_count')\n",
    "sns.relplot(x = 'Date_inspection', y= 'control_count', hue = 'region_code', data= df_inspections, kind = 'line')"
   ]
  },
  {
   "cell_type": "markdown",
   "metadata": {},
   "source": [
    "## Bon ... on ne comprend pas grand chose avec ce graphe. Mais on sent qu'une région se démarque des autres par le nombre de contrôles, c'est l'Ile de France. Il faudrait ramener le nombre de contrôles par rapport à la population de la région ou au nombre de restaurants de la région"
   ]
  },
  {
   "cell_type": "code",
   "execution_count": null,
   "metadata": {},
   "outputs": [],
   "source": [
    "#for further processing we need to change the columns names for df_region\n",
    "df_regions.columns= ['id', 'region_code', 'region_name', 'slug']\n",
    "# On joint les données en utilisant les colonnes en commun entre les dataFrame\n",
    "restaurants_with_regions = pd.merge(cp_restaurant, df_cities, how= 'left', left_on = 'codePostalEtablissement', right_on = 'zip_code')\n",
    "restaurants_with_regions = pd.merge(restaurants_with_regions, df_departments, how= 'left', left_on = 'department_code', right_on = 'code')\n",
    "restaurants_with_regions = pd.merge(restaurants_with_regions, df_regions, how= 'left', on = 'region_code')\n",
    "\n",
    "# Observons le résultat\n",
    "restaurants_with_regions.head()"
   ]
  },
  {
   "cell_type": "code",
   "execution_count": null,
   "metadata": {},
   "outputs": [],
   "source": [
    "#keep only original columns + regions\n",
    "columns = cp_restaurant.columns.tolist()\n",
    "columns += ['region_name', 'region_code']\n",
    "restaurants_with_regions = restaurants_with_regions.filter(items=columns)\n",
    "#remove duplicates\n",
    "restaurants_with_regions.drop_duplicates(ignore_index=True, inplace= True)"
   ]
  },
  {
   "cell_type": "code",
   "execution_count": null,
   "metadata": {},
   "outputs": [],
   "source": [
    "restaurants_with_regions.head()"
   ]
  },
  {
   "cell_type": "code",
   "execution_count": null,
   "metadata": {},
   "outputs": [],
   "source": [
    "nb_rest_regions = restaurants_with_regions.groupby(['region_code'])['siret'].count().reset_index(level = 'region_code')\n",
    "nb_rest_regions.columns = ['region_code','nb restaurant total']\n",
    "nb_rest_regions = pd.merge(nb_rest_regions, df_regions, how= 'left', on = 'region_code')"
   ]
  },
  {
   "cell_type": "code",
   "execution_count": null,
   "metadata": {},
   "outputs": [],
   "source": [
    "# on peut maintenant ajouter ces informations à notre tableau\n",
    "#clean 'COM' region\n",
    "df_inspections.loc[df_inspections['region_code'] == 'COM','region_code'] = '100'\n",
    "nb_rest_regions.loc[nb_rest_regions['region_code'] == 'COM','region_code'] = '100'\n",
    "# merge the inspection list with the population data\n",
    "df_inspections = pd.merge(df_inspections, nb_rest_regions, how= 'left', left_on='region_code', right_on='region_code')\n",
    "# this is what we obtained :\n",
    "df_inspections.head()"
   ]
  },
  {
   "cell_type": "code",
   "execution_count": null,
   "metadata": {},
   "outputs": [],
   "source": [
    "# calculate the ratio for the population \n",
    "df_inspections['ratio_control_for1000'] = df_inspections['control_count'] / df_inspections['nb restaurant total'] * 1000"
   ]
  },
  {
   "cell_type": "code",
   "execution_count": null,
   "metadata": {},
   "outputs": [],
   "source": [
    "sns.set_style(\"whitegrid\")\n",
    "g = sns.relplot(x = 'Date_inspection', y= 'ratio_control_for1000', hue = 'region_code', data= df_inspections, kind = 'line')\n",
    "g.set(ylim=(0, 5))"
   ]
  },
  {
   "cell_type": "code",
   "execution_count": null,
   "metadata": {},
   "outputs": [],
   "source": []
  },
  {
   "cell_type": "code",
   "execution_count": null,
   "metadata": {
    "colab": {},
    "colab_type": "code",
    "id": "dMeHDBa7ioZJ"
   },
   "outputs": [],
   "source": [
    "# let's have a look at the regions that did less that 3 inspection per 100 00 restaurants\n",
    "df_few_inspections = df_inspections[df_inspections['ratio_control_for1000'] < 3.0]\n",
    "df_few_inspections.head()"
   ]
  },
  {
   "cell_type": "code",
   "execution_count": null,
   "metadata": {},
   "outputs": [],
   "source": [
    "df_few_inspections.groupby(['region_name'])['ratio_control_for1000'].count().sort_values(ascending = False)"
   ]
  },
  {
   "cell_type": "markdown",
   "metadata": {},
   "source": [
    "## OK très bien mais est-on vraiment sûr que tout le monde inspectait bien tous les mois ? "
   ]
  },
  {
   "cell_type": "code",
   "execution_count": null,
   "metadata": {},
   "outputs": [],
   "source": [
    "# let's check that everyone was indeed inspecting stuff\n",
    "df_inspections.groupby(['region_name'])['ratio_control_for1000'].count().sort_values(ascending = False)"
   ]
  },
  {
   "cell_type": "code",
   "execution_count": null,
   "metadata": {},
   "outputs": [],
   "source": [
    "# let's check that everyone was indeed inspecting stuff\n",
    "df_inspections.groupby(['Date_inspection'])['ratio_control_for1000'].count().sort_values(ascending = False)"
   ]
  },
  {
   "cell_type": "code",
   "execution_count": null,
   "metadata": {},
   "outputs": [],
   "source": [
    "# looks like that due to the coronavirus, people were not inspecting in april or may 2020: let's remove these months for the analysis\n",
    "df_inspections = df_inspections[df_inspections['Date_inspection'] < '2020-04']\n",
    "# let's check that we removed everything \n",
    "df_inspections.groupby(['Date_inspection'])['ratio_control_for1000'].count().sort_values(ascending = False)"
   ]
  },
  {
   "cell_type": "code",
   "execution_count": null,
   "metadata": {},
   "outputs": [],
   "source": [
    "# let's have a look at the regions that did less that 1 inspection per 100 000 inhabitants \n",
    "df_few_inspections = df_inspections[df_inspections['ratio_control_for1000'] <  3.0]\n",
    "df_few_inspections.head()"
   ]
  },
  {
   "cell_type": "code",
   "execution_count": null,
   "metadata": {},
   "outputs": [],
   "source": [
    "data = df_few_inspections.groupby(['region_name'])['ratio_control_for1000'].count().sort_values(ascending = False)\n",
    "data.plot(kind = 'bar')"
   ]
  },
  {
   "cell_type": "code",
   "execution_count": null,
   "metadata": {},
   "outputs": [],
   "source": [
    "#We might want to see this on a timescale\n",
    "grouped = df_few_inspections.groupby(['Date_inspection','region_name'])['ratio_control_for1000'].count().sort_values(ascending = False)\n",
    "#Before ploting we need to do some transforming of our \n",
    "df_grouped_few_inspections = grouped.unstack('region_name').reset_index().melt('Date_inspection', var_name = 'Nom de la région', value_name = 'few_control_count')\n",
    "grouped.unstack('region_name').reset_index()"
   ]
  },
  {
   "cell_type": "code",
   "execution_count": null,
   "metadata": {},
   "outputs": [],
   "source": [
    "df_grouped_few_inspections = grouped.unstack('region_name').reset_index().fillna(value = 0).melt('Date_inspection', var_name = 'Nom de la région', value_name = 'few_control_count')\n",
    "df_grouped_few_inspections.head()"
   ]
  },
  {
   "cell_type": "code",
   "execution_count": null,
   "metadata": {},
   "outputs": [],
   "source": [
    "df_grouped_few_inspections = grouped.unstack('region_name').reset_index().fillna(value = 0)\n",
    "df_grouped_few_inspections.head()"
   ]
  },
  {
   "cell_type": "code",
   "execution_count": null,
   "metadata": {},
   "outputs": [],
   "source": [
    "fig, ax = plt.subplots()\n",
    "#convert the date in some strings\n",
    "labels = [i.strftime('%m_%Y') for i in df_grouped_few_inspections['Date_inspection']]\n",
    "width = 0.35     # the width of the bars: can also be len(x) sequence\n",
    "\n",
    "regions = df_grouped_few_inspections.columns[1:].tolist()\n",
    "bot = np.zeros(df_grouped_few_inspections.shape[0])\n",
    "for r in regions:\n",
    "    ax.bar(labels, df_grouped_few_inspections[r], width, bottom = bot, label=r)\n",
    "    bot = df_grouped_few_inspections[r]\n",
    "\n",
    "\n",
    "#ax.set_ylabel('Scores')\n",
    "#ax.set_title('Scores by group and gender')\n",
    "ax.legend()\n",
    "\n",
    "plt.xticks(rotation=45)\n",
    "plt.show()"
   ]
  },
  {
   "cell_type": "markdown",
   "metadata": {},
   "source": [
    "Maintenant on veut pouvoir représenter les résultats des controles dans le temps\n"
   ]
  },
  {
   "cell_type": "code",
   "execution_count": null,
   "metadata": {},
   "outputs": [],
   "source": [
    "grouped = df.groupby([pd.Grouper(key = 'Date_inspection', freq = 'm'), 'Synthese_eval_sanit'])['filtre'].count()\n",
    "#Before ploting we need to do some transforming of our \n",
    "grouped.unstack('Synthese_eval_sanit').reset_index().fillna(value = 0)"
   ]
  },
  {
   "cell_type": "code",
   "execution_count": null,
   "metadata": {},
   "outputs": [],
   "source": [
    "from shapely.geometry import Point\n",
    "import geopandas as gpd\n",
    "from geopandas import GeoDataFrame"
   ]
  },
  {
   "cell_type": "code",
   "execution_count": null,
   "metadata": {
    "colab": {
     "base_uri": "https://localhost:8080/",
     "height": 34
    },
    "colab_type": "code",
    "id": "2-qiBoqEsabF",
    "outputId": "e76719cd-1913-4eeb-8ef1-c06840a1126d",
    "scrolled": true
   },
   "outputs": [],
   "source": [
    "# créer une variable latitude et longitude à partir de la colonne geo res\n",
    "set(type(x) for x in df[\"geores\"].values.tolist())"
   ]
  },
  {
   "cell_type": "code",
   "execution_count": null,
   "metadata": {
    "colab": {},
    "colab_type": "code",
    "id": "3CcQ1FvG_65Y"
   },
   "outputs": [],
   "source": [
    "df[\"lat\"] = df[\"geores\"].map(lambda x: float(x.split(\",\")[0] if pd.isnull(x)==False else x))\n",
    "df[\"long\"] = df[\"geores\"].map(lambda x: float(x.split(\",\")[1] if pd.isnull(x)==False else x))"
   ]
  },
  {
   "cell_type": "code",
   "execution_count": null,
   "metadata": {
    "colab": {},
    "colab_type": "code",
    "id": "Whuf_uV7ATSd"
   },
   "outputs": [],
   "source": [
    "geo_df = df.dropna(subset =[\"lat\", \"long\"])"
   ]
  },
  {
   "cell_type": "code",
   "execution_count": null,
   "metadata": {
    "colab": {
     "base_uri": "https://localhost:8080/",
     "height": 350
    },
    "colab_type": "code",
    "id": "_LXph7_YB0dl",
    "outputId": "cbb0be5d-84ff-4c52-b1c0-9eda69f327e7"
   },
   "outputs": [],
   "source": [
    "geometry = [Point(xy) for xy in zip(geo_df['long'], geo_df['lat'])]\n",
    "gdf = GeoDataFrame(geo_df, geometry=geometry)   \n",
    "\n",
    "#this is a simple map that goes with geopandas\n",
    "world = gpd.read_file(gpd.datasets.get_path('naturalearth_lowres'))\n",
    "gdf.plot(ax=world.plot(figsize=(10, 6)), marker='o', color='red', markersize=15)\n",
    "plt.title(\"Répartition des restaurants notés \")"
   ]
  },
  {
   "cell_type": "code",
   "execution_count": null,
   "metadata": {
    "colab": {},
    "colab_type": "code",
    "id": "IGFsg7PIG8hm"
   },
   "outputs": [],
   "source": [
    "geo_df_fr = geo_df[(geo_df.lat>41.12)&(geo_df.lat<51.84)&(geo_df.long<11.3)&(geo_df.long>-6.25)]"
   ]
  },
  {
   "cell_type": "code",
   "execution_count": null,
   "metadata": {
    "colab": {
     "base_uri": "https://localhost:8080/",
     "height": 402
    },
    "colab_type": "code",
    "id": "PU8Z1AagawZ9",
    "outputId": "116f2684-37c0-4ccd-9bd4-0e6f2d1f9ca7"
   },
   "outputs": [],
   "source": [
    "sns.lmplot('long', 'lat', data=geo_df_fr, hue='Synthese_eval_sanit', fit_reg=False)\n",
    "plt.title(\"Répartition des notes sanitaires sur le territoire\")"
   ]
  },
  {
   "cell_type": "code",
   "execution_count": null,
   "metadata": {},
   "outputs": [],
   "source": []
  },
  {
   "cell_type": "markdown",
   "metadata": {},
   "source": [
    "## Ici on fait avec la population "
   ]
  },
  {
   "cell_type": "code",
   "execution_count": null,
   "metadata": {},
   "outputs": [],
   "source": [
    "# at this point it would be interesting to link with the region population\n",
    "#clean 'COM' region\n",
    "df_inspections = df_inspections[df_inspections.region_code != 'COM']\n",
    "# convert region_codes to int in order to merge\n",
    "df_inspections['region_code_int'] = df_inspections['region_code'].astype('int64')\n",
    "# merge the inspection list with the population data\n",
    "df_inspections = pd.merge(df_inspections, df_pop_regions, how= 'left', left_on='region_code_int', right_on='Code région')\n",
    "# this is what we obtained :\n",
    "df_inspections.head()"
   ]
  },
  {
   "cell_type": "code",
   "execution_count": null,
   "metadata": {},
   "outputs": [],
   "source": [
    "# calculate the ratio for the population \n",
    "df_inspections['ratio_control_for100000'] = df_inspections['control_count'] / df_inspections['Population totale'] * 100000"
   ]
  },
  {
   "cell_type": "code",
   "execution_count": null,
   "metadata": {
    "colab": {
     "base_uri": "https://localhost:8080/",
     "height": 390
    },
    "colab_type": "code",
    "id": "qE1ZfYkgNek_",
    "outputId": "815e72cf-ecab-4538-e0b0-0442cdaa9391"
   },
   "outputs": [],
   "source": [
    "sns.set_style(\"whitegrid\")\n",
    "g = sns.relplot(x = 'Date_inspection', y= 'ratio_control_for100000', hue = 'Nom de la région', data= df_inspections, kind = 'line')\n",
    "g.set(ylim=(0, 2))"
   ]
  }
 ],
 "metadata": {
  "colab": {
   "include_colab_link": true,
   "name": "Copie de ami_ia-dataviz.ipynb",
   "provenance": []
  },
  "kernelspec": {
   "display_name": "Python 3",
   "language": "python",
   "name": "python3"
  },
  "language_info": {
   "codemirror_mode": {
    "name": "ipython",
    "version": 3
   },
   "file_extension": ".py",
   "mimetype": "text/x-python",
   "name": "python",
   "nbconvert_exporter": "python",
   "pygments_lexer": "ipython3",
   "version": "3.8.3"
  }
 },
 "nbformat": 4,
 "nbformat_minor": 1
}
