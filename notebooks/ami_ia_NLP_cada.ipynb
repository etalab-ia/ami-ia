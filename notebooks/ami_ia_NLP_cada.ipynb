{
 "cells": [
  {
   "cell_type": "markdown",
   "metadata": {
    "colab_type": "text",
    "id": "view-in-github"
   },
   "source": [
    "<a href=\"https://colab.research.google.com/github/etalab-ia/ami-ia/blob/master/notebooks/ami_ia_NLP.ipynb\" target=\"_parent\"><img src=\"https://colab.research.google.com/assets/colab-badge.svg\" alt=\"Open In Colab\"/></a>"
   ]
  },
  {
   "cell_type": "markdown",
   "metadata": {
    "colab_type": "text",
    "id": "MNBVSFaLObUS"
   },
   "source": [
    "# Notebook NLP\n",
    "\n",
    "Introduction au NLP avec l'example des avis rendus par la CADA (Comission d'Accès aux Documents Administratifs)\n",
    "L'objectif de ce notebook est présenter : \n",
    "- quelques étapes \"classiques\" dans la préparation de données textuelles avec le langage de programmation Python\n",
    "- un exemple d'analyse automatique à travers un modèle d'extraction de topics\n",
    "- un exemple de modèle prédictif à partir de données textuelles \n",
    "\n",
    "La page de data.gouv où l'on peut télécharger les données est ici: https://www.data.gouv.fr/fr/datasets/avis-et-conseils-de-la-cada/ . L'url de téléchargement des données utilisées ici est https://www.data.gouv.fr/fr/datasets/r/93aed7ce-db2f-4982-8127-340562061e4b . "
   ]
  },
  {
   "cell_type": "markdown",
   "metadata": {},
   "source": [
    "## Partie 0: Analyses simples du jeu de données "
   ]
  },
  {
   "cell_type": "markdown",
   "metadata": {},
   "source": [
    "importation des libraries utiles"
   ]
  },
  {
   "cell_type": "code",
   "execution_count": 147,
   "metadata": {
    "colab": {},
    "colab_type": "code",
    "id": "dC4ECExRSWdV"
   },
   "outputs": [],
   "source": [
    "# pour la manipulation de jeux de données \n",
    "import pandas as pd\n",
    "import numpy as np\n",
    "\n",
    "# commandes pour éliminer les warnings \n",
    "import warnings\n",
    "warnings.filterwarnings(\"ignore\")\n",
    "\n",
    "# pour la dataviz \n",
    "import matplotlib.pyplot as plt\n",
    "plt.style.use('fivethirtyeight')\n",
    "import matplotlib\n",
    "matplotlib.rcParams['axes.labelsize'] = 14\n",
    "matplotlib.rcParams['xtick.labelsize'] = 12\n",
    "matplotlib.rcParams['ytick.labelsize'] = 12\n",
    "matplotlib.rcParams['text.color'] = 'k'"
   ]
  },
  {
   "cell_type": "markdown",
   "metadata": {},
   "source": [
    "Plusieurs possibilités pour lire le jeu de données: \n",
    "- (Google Collab) utiliser la fonctionnalité de lecture des fichiers locaux dans Google Collab -> 1ère option\n",
    "- (hors google collab) le télécharger en local et le lire en pointant vers le chemin d'accès en local -> 2ème option \n",
    "- (avec ou sans Google Collab) : lire le fichier directement depuis l'url de téléchargement -> 3ème option "
   ]
  },
  {
   "cell_type": "code",
   "execution_count": 13,
   "metadata": {
    "colab": {
     "base_uri": "https://localhost:8080/",
     "height": 89,
     "resources": {
      "http://localhost:8080/nbextensions/google.colab/files.js": {
       "data": "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",
       "headers": [
        [
         "content-type",
         "application/javascript"
        ]
       ],
       "ok": true,
       "status": 200,
       "status_text": "OK"
      }
     }
    },
    "colab_type": "code",
    "id": "qsizPgbDOg3k",
    "outputId": "24441be5-459d-4a69-a57d-4970fd8fc3ef"
   },
   "outputs": [],
   "source": [
    "# 1ère option \n",
    "# importer un fichier depuis votre ordinateur local depuis Google Collab \n",
    "\n",
    "#from google.colab import files\n",
    "#uploaded = files.upload()\n",
    "#for fn in uploaded.keys():\n",
    "#  print('User uploaded file \"{name}\" with length {length} bytes'.format(\n",
    "#      name=fn, length=len(uploaded[fn])))"
   ]
  },
  {
   "cell_type": "code",
   "execution_count": 153,
   "metadata": {
    "colab": {},
    "colab_type": "code",
    "id": "Gog_D9PYOlS3"
   },
   "outputs": [],
   "source": [
    "# lire le jeu de données en un objet \"pandas dataframe\"\n",
    "\n",
    "# 2ème option \n",
    "path = '/Users/kimmontalibet/Desktop/datagouv/'\n",
    "df = pd.read_csv(path + \"cada-2020-05-12.csv\", sep = \",\", header = 0)\n",
    "\n",
    "# 3ème option \n",
    "#df = pd.read_csv(\"https://www.data.gouv.fr/fr/datasets/r/93aed7ce-db2f-4982-8127-340562061e4b\", sep = \",\", header = 0)"
   ]
  },
  {
   "cell_type": "markdown",
   "metadata": {},
   "source": [
    "Quel est le nombre de lignes et le nombre de colonnes de mon jeu de données ? "
   ]
  },
  {
   "cell_type": "code",
   "execution_count": 154,
   "metadata": {},
   "outputs": [
    {
     "data": {
      "text/plain": [
       "(38287, 11)"
      ]
     },
     "execution_count": 154,
     "metadata": {},
     "output_type": "execute_result"
    }
   ],
   "source": [
    "df.shape"
   ]
  },
  {
   "cell_type": "markdown",
   "metadata": {},
   "source": [
    "Quels sont les types des colonnes mon jeu de données? "
   ]
  },
  {
   "cell_type": "code",
   "execution_count": 155,
   "metadata": {},
   "outputs": [
    {
     "data": {
      "text/plain": [
       "Numéro de dossier       int64\n",
       "Administration         object\n",
       "Type                   object\n",
       "Année                   int64\n",
       "Séance                 object\n",
       "Objet                  object\n",
       "Thème et sous thème    object\n",
       "Mots clés              object\n",
       "Sens et motivation     object\n",
       "Partie                 object\n",
       "Avis                   object\n",
       "dtype: object"
      ]
     },
     "execution_count": 155,
     "metadata": {},
     "output_type": "execute_result"
    }
   ],
   "source": [
    "df.dtypes"
   ]
  },
  {
   "cell_type": "markdown",
   "metadata": {},
   "source": [
    "A quoi ressemble mon jeu de données ? "
   ]
  },
  {
   "cell_type": "code",
   "execution_count": 156,
   "metadata": {},
   "outputs": [
    {
     "data": {
      "text/html": [
       "<div>\n",
       "<style scoped>\n",
       "    .dataframe tbody tr th:only-of-type {\n",
       "        vertical-align: middle;\n",
       "    }\n",
       "\n",
       "    .dataframe tbody tr th {\n",
       "        vertical-align: top;\n",
       "    }\n",
       "\n",
       "    .dataframe thead th {\n",
       "        text-align: right;\n",
       "    }\n",
       "</style>\n",
       "<table border=\"1\" class=\"dataframe\">\n",
       "  <thead>\n",
       "    <tr style=\"text-align: right;\">\n",
       "      <th></th>\n",
       "      <th>Numéro de dossier</th>\n",
       "      <th>Administration</th>\n",
       "      <th>Type</th>\n",
       "      <th>Année</th>\n",
       "      <th>Séance</th>\n",
       "      <th>Objet</th>\n",
       "      <th>Thème et sous thème</th>\n",
       "      <th>Mots clés</th>\n",
       "      <th>Sens et motivation</th>\n",
       "      <th>Partie</th>\n",
       "      <th>Avis</th>\n",
       "    </tr>\n",
       "  </thead>\n",
       "  <tbody>\n",
       "    <tr>\n",
       "      <td>0</td>\n",
       "      <td>19840002</td>\n",
       "      <td>ministre de la défense</td>\n",
       "      <td>Avis</td>\n",
       "      <td>1984</td>\n",
       "      <td>03/03/1984</td>\n",
       "      <td>[Voir avis]</td>\n",
       "      <td>Justice, Ordre Public Et Sécurité/Défense Et D...</td>\n",
       "      <td>Armée</td>\n",
       "      <td>Défavorable/Défense</td>\n",
       "      <td>III</td>\n",
       "      <td>La commission d'accès aux documents administra...</td>\n",
       "    </tr>\n",
       "    <tr>\n",
       "      <td>1</td>\n",
       "      <td>19840003</td>\n",
       "      <td>ministre de la défense</td>\n",
       "      <td>Avis</td>\n",
       "      <td>1984</td>\n",
       "      <td>13/12/1984</td>\n",
       "      <td>[Voir avis]</td>\n",
       "      <td>Economie, Industrie, Agriculture/Secteurs Écon...</td>\n",
       "      <td>Armée</td>\n",
       "      <td>Irrecevable/Imprécise, Défavorable/Défense, In...</td>\n",
       "      <td>III</td>\n",
       "      <td>La commission d'accès aux documents administra...</td>\n",
       "    </tr>\n",
       "    <tr>\n",
       "      <td>2</td>\n",
       "      <td>19850001</td>\n",
       "      <td>ministre de l'économie, des finances et du budget</td>\n",
       "      <td>Avis</td>\n",
       "      <td>1985</td>\n",
       "      <td>05/12/1985</td>\n",
       "      <td>[Voir avis]</td>\n",
       "      <td>Justice, Ordre Public Et Sécurité/Association,...</td>\n",
       "      <td>NaN</td>\n",
       "      <td>Défavorable</td>\n",
       "      <td>III</td>\n",
       "      <td>La commission d'accès aux documents administra...</td>\n",
       "    </tr>\n",
       "    <tr>\n",
       "      <td>3</td>\n",
       "      <td>19860001</td>\n",
       "      <td>directeur départemental du travail et de l'emp...</td>\n",
       "      <td>Conseil</td>\n",
       "      <td>1986</td>\n",
       "      <td>30/01/1986</td>\n",
       "      <td>(voir avis)</td>\n",
       "      <td>Travail Et Emploi/Droit Du Travail</td>\n",
       "      <td>Licenciement, Conditions de travail</td>\n",
       "      <td>Défavorable/Procédure, Sans objet</td>\n",
       "      <td>III</td>\n",
       "      <td>La commission d'accès aux documents administra...</td>\n",
       "    </tr>\n",
       "    <tr>\n",
       "      <td>4</td>\n",
       "      <td>19870061</td>\n",
       "      <td>gouverneur de la Banque de France</td>\n",
       "      <td>Avis</td>\n",
       "      <td>1987</td>\n",
       "      <td>02/04/1987</td>\n",
       "      <td>[Voir avis]</td>\n",
       "      <td>Economie, Industrie, Agriculture/Secteurs Écon...</td>\n",
       "      <td>Banques et assurances</td>\n",
       "      <td>Défavorable/Sécurité publique, Favorable/Sauf ...</td>\n",
       "      <td>III</td>\n",
       "      <td>La commission d'accès aux documents administra...</td>\n",
       "    </tr>\n",
       "  </tbody>\n",
       "</table>\n",
       "</div>"
      ],
      "text/plain": [
       "   Numéro de dossier                                     Administration  \\\n",
       "0           19840002                             ministre de la défense   \n",
       "1           19840003                             ministre de la défense   \n",
       "2           19850001  ministre de l'économie, des finances et du budget   \n",
       "3           19860001  directeur départemental du travail et de l'emp...   \n",
       "4           19870061                  gouverneur de la Banque de France   \n",
       "\n",
       "      Type  Année      Séance        Objet  \\\n",
       "0     Avis   1984  03/03/1984  [Voir avis]   \n",
       "1     Avis   1984  13/12/1984  [Voir avis]   \n",
       "2     Avis   1985  05/12/1985  [Voir avis]   \n",
       "3  Conseil   1986  30/01/1986  (voir avis)   \n",
       "4     Avis   1987  02/04/1987  [Voir avis]   \n",
       "\n",
       "                                 Thème et sous thème  \\\n",
       "0  Justice, Ordre Public Et Sécurité/Défense Et D...   \n",
       "1  Economie, Industrie, Agriculture/Secteurs Écon...   \n",
       "2  Justice, Ordre Public Et Sécurité/Association,...   \n",
       "3                 Travail Et Emploi/Droit Du Travail   \n",
       "4  Economie, Industrie, Agriculture/Secteurs Écon...   \n",
       "\n",
       "                             Mots clés  \\\n",
       "0                                Armée   \n",
       "1                                Armée   \n",
       "2                                  NaN   \n",
       "3  Licenciement, Conditions de travail   \n",
       "4                Banques et assurances   \n",
       "\n",
       "                                  Sens et motivation Partie  \\\n",
       "0                                Défavorable/Défense    III   \n",
       "1  Irrecevable/Imprécise, Défavorable/Défense, In...    III   \n",
       "2                                        Défavorable    III   \n",
       "3                  Défavorable/Procédure, Sans objet    III   \n",
       "4  Défavorable/Sécurité publique, Favorable/Sauf ...    III   \n",
       "\n",
       "                                                Avis  \n",
       "0  La commission d'accès aux documents administra...  \n",
       "1  La commission d'accès aux documents administra...  \n",
       "2  La commission d'accès aux documents administra...  \n",
       "3  La commission d'accès aux documents administra...  \n",
       "4  La commission d'accès aux documents administra...  "
      ]
     },
     "execution_count": 156,
     "metadata": {},
     "output_type": "execute_result"
    }
   ],
   "source": [
    "df.head()"
   ]
  },
  {
   "cell_type": "markdown",
   "metadata": {},
   "source": [
    "On regarde les variables catégorielles: \n",
    "- combien de valeurs remplies (count), \n",
    "- combien de valeurs uniques / modalités (unique), \n",
    "- quelle est la modalité la plus représentée (top), \n",
    "- quelle est le nombre de fois où apparait la modalité la plus représentée (freq)"
   ]
  },
  {
   "cell_type": "code",
   "execution_count": 20,
   "metadata": {},
   "outputs": [
    {
     "data": {
      "text/html": [
       "<div>\n",
       "<style scoped>\n",
       "    .dataframe tbody tr th:only-of-type {\n",
       "        vertical-align: middle;\n",
       "    }\n",
       "\n",
       "    .dataframe tbody tr th {\n",
       "        vertical-align: top;\n",
       "    }\n",
       "\n",
       "    .dataframe thead th {\n",
       "        text-align: right;\n",
       "    }\n",
       "</style>\n",
       "<table border=\"1\" class=\"dataframe\">\n",
       "  <thead>\n",
       "    <tr style=\"text-align: right;\">\n",
       "      <th></th>\n",
       "      <th>Administration</th>\n",
       "      <th>Type</th>\n",
       "      <th>Séance</th>\n",
       "      <th>Objet</th>\n",
       "      <th>Thème et sous thème</th>\n",
       "      <th>Mots clés</th>\n",
       "      <th>Sens et motivation</th>\n",
       "      <th>Partie</th>\n",
       "      <th>Avis</th>\n",
       "    </tr>\n",
       "  </thead>\n",
       "  <tbody>\n",
       "    <tr>\n",
       "      <td>count</td>\n",
       "      <td>38286</td>\n",
       "      <td>38287</td>\n",
       "      <td>38287</td>\n",
       "      <td>38270</td>\n",
       "      <td>38206</td>\n",
       "      <td>33125</td>\n",
       "      <td>38271</td>\n",
       "      <td>36059</td>\n",
       "      <td>38286</td>\n",
       "    </tr>\n",
       "    <tr>\n",
       "      <td>unique</td>\n",
       "      <td>12850</td>\n",
       "      <td>3</td>\n",
       "      <td>569</td>\n",
       "      <td>35334</td>\n",
       "      <td>828</td>\n",
       "      <td>3615</td>\n",
       "      <td>3094</td>\n",
       "      <td>4</td>\n",
       "      <td>37519</td>\n",
       "    </tr>\n",
       "    <tr>\n",
       "      <td>top</td>\n",
       "      <td>Direction générale des finances publiques (DGFIP)</td>\n",
       "      <td>Avis</td>\n",
       "      <td>31/12/2017</td>\n",
       "      <td>Communication, par envoi postal ou par courrie...</td>\n",
       "      <td>Travail Et Emploi / Emploi Public</td>\n",
       "      <td>Marché public</td>\n",
       "      <td>Favorable</td>\n",
       "      <td>III</td>\n",
       "      <td>Monsieur X, pour l’association Regards citoyen...</td>\n",
       "    </tr>\n",
       "    <tr>\n",
       "      <td>freq</td>\n",
       "      <td>1255</td>\n",
       "      <td>35562</td>\n",
       "      <td>1450</td>\n",
       "      <td>556</td>\n",
       "      <td>3025</td>\n",
       "      <td>1838</td>\n",
       "      <td>11407</td>\n",
       "      <td>31429</td>\n",
       "      <td>132</td>\n",
       "    </tr>\n",
       "  </tbody>\n",
       "</table>\n",
       "</div>"
      ],
      "text/plain": [
       "                                           Administration   Type      Séance  \\\n",
       "count                                               38286  38287       38287   \n",
       "unique                                              12850      3         569   \n",
       "top     Direction générale des finances publiques (DGFIP)   Avis  31/12/2017   \n",
       "freq                                                 1255  35562        1450   \n",
       "\n",
       "                                                    Objet  \\\n",
       "count                                               38270   \n",
       "unique                                              35334   \n",
       "top     Communication, par envoi postal ou par courrie...   \n",
       "freq                                                  556   \n",
       "\n",
       "                      Thème et sous thème      Mots clés Sens et motivation  \\\n",
       "count                               38206          33125              38271   \n",
       "unique                                828           3615               3094   \n",
       "top     Travail Et Emploi / Emploi Public  Marché public          Favorable   \n",
       "freq                                 3025           1838              11407   \n",
       "\n",
       "       Partie                                               Avis  \n",
       "count   36059                                              38286  \n",
       "unique      4                                              37519  \n",
       "top       III  Monsieur X, pour l’association Regards citoyen...  \n",
       "freq    31429                                                132  "
      ]
     },
     "execution_count": 20,
     "metadata": {},
     "output_type": "execute_result"
    }
   ],
   "source": [
    "df.describe(include = np.object)"
   ]
  },
  {
   "cell_type": "markdown",
   "metadata": {},
   "source": [
    "### Visualisation du nombre d'avis par année"
   ]
  },
  {
   "cell_type": "markdown",
   "metadata": {},
   "source": [
    "on crée une dataframe avec une ligne par année, la colonne count donne le nombre d'avis par année \n"
   ]
  },
  {
   "cell_type": "code",
   "execution_count": 163,
   "metadata": {},
   "outputs": [],
   "source": [
    "df[\"count\"] = 1\n",
    "dfg = df.groupby(\"Année\").agg(\"sum\").reset_index()"
   ]
  },
  {
   "cell_type": "code",
   "execution_count": 164,
   "metadata": {},
   "outputs": [
    {
     "data": {
      "text/plain": [
       "Text(0.5, 1.0, \"Nombre d'avis CADA par année\")"
      ]
     },
     "execution_count": 164,
     "metadata": {},
     "output_type": "execute_result"
    },
    {
     "data": {
      "image/png": "[encoded data removed]",
      "text/plain": [
       "<Figure size 1440x576 with 1 Axes>"
      ]
     },
     "metadata": {},
     "output_type": "display_data"
    }
   ],
   "source": [
    "plt.figure(figsize=(20, 8))\n",
    "plt.plot(dfg['Année'], dfg['count'], 'b-')\n",
    "plt.xlabel('Année'); plt.ylabel(\"Nombre d'avis\"); plt.title(\"Nombre d'avis CADA par année\")"
   ]
  },
  {
   "cell_type": "markdown",
   "metadata": {},
   "source": [
    "On remarque qu'il y a très peu d'avais avant 2012, et donc que la majorité des avis sont pour la période 2012-2020\n",
    "Commbien d'avis sont compris dans cette période 2012-2020? "
   ]
  },
  {
   "cell_type": "code",
   "execution_count": 165,
   "metadata": {},
   "outputs": [
    {
     "name": "stdout",
     "output_type": "stream",
     "text": [
      "Nombre d'avis dans 20012-2020 :  35024\n",
      "Proportion d'avis dans 20012-2020 :  0.9147752500848852\n"
     ]
    }
   ],
   "source": [
    "print(\"Nombre d'avis dans 20012-2020 :  {}\".format(len(df[df[\"Année\"].isin(range(2012, 2020))])))\n",
    "print(\"Proportion d'avis dans 20012-2020 :  {}\".format(len(df[df[\"Année\"].isin(range(2012, 2020))])/len(df)))"
   ]
  },
  {
   "cell_type": "code",
   "execution_count": 166,
   "metadata": {},
   "outputs": [
    {
     "data": {
      "text/plain": [
       "Text(0.5, 1.0, \"Nombre d'avis CADA par année - Période 2012-2020\")"
      ]
     },
     "execution_count": 166,
     "metadata": {},
     "output_type": "execute_result"
    },
    {
     "data": {
      "image/png": "[encoded data removed]",
      "text/plain": [
       "<Figure size 1440x576 with 1 Axes>"
      ]
     },
     "metadata": {},
     "output_type": "display_data"
    }
   ],
   "source": [
    "plt.figure(figsize=(20, 8))\n",
    "plt.plot(dfg[dfg[\"Année\"].isin(range(2012, 2020))]['Année'], dfg[dfg[\"Année\"].isin(range(2012, 2020))]['count'], 'b-')\n",
    "\n",
    "plt.xlabel('Année'); plt.ylabel(\"Nombre d'avis\"); plt.title(\"Nombre d'avis CADA par année - Période 2012-2020\")"
   ]
  },
  {
   "cell_type": "code",
   "execution_count": null,
   "metadata": {},
   "outputs": [],
   "source": []
  },
  {
   "cell_type": "markdown",
   "metadata": {},
   "source": [
    "# Partie 1 : manipulation de données textuelles basiques\n"
   ]
  },
  {
   "cell_type": "markdown",
   "metadata": {},
   "source": [
    "importation des librairies NLP "
   ]
  },
  {
   "cell_type": "code",
   "execution_count": 23,
   "metadata": {},
   "outputs": [
    {
     "name": "stderr",
     "output_type": "stream",
     "text": [
      "[nltk_data] Downloading package punkt to\n",
      "[nltk_data]     /Users/kimmontalibet/nltk_data...\n",
      "[nltk_data]   Package punkt is already up-to-date!\n"
     ]
    }
   ],
   "source": [
    "import nltk\n",
    "nltk.download('punkt')\n",
    "from nltk.tokenize import sent_tokenize, word_tokenize"
   ]
  },
  {
   "cell_type": "markdown",
   "metadata": {},
   "source": [
    "on étudie ici les textes des avis, \n",
    "on supprime les lignes pour lesquelles l'avis n'est pas renseigné"
   ]
  },
  {
   "cell_type": "code",
   "execution_count": 168,
   "metadata": {},
   "outputs": [
    {
     "name": "stdout",
     "output_type": "stream",
     "text": [
      "(38286, 12)\n"
     ]
    }
   ],
   "source": [
    "df = df.dropna(subset = [\"Avis\"]) \n",
    "print(df.shape)"
   ]
  },
  {
   "cell_type": "markdown",
   "metadata": {},
   "source": [
    "### Tokenization \n",
    "Chaque avis (dans la colonne \"Avis\") est une chaîne de caractères, il faut donc lui appliquer un certain nombre d'opération afin de pouvoir la traiter algorithmiquement. Une première étape, la tokenization, consiste en découper la chaine de caractères en \"tokens\". Pour cela, on utilise des fonctions prédéfinies de la librairies NLTK. \n",
    "Il existe plusieurs métodes de tokenization, et le choix de la méthode va dépendre de l'objectif de l'étude. \n",
    "Les métodes les plus classques sont: \n",
    "- la tokenisation en phrases (sentence tokenization en anglais)\n",
    "- la tokenisation en mots (word tokenization en anglais)\n",
    "On crée ici deux nouvelles colonnes, correspondant à ces deux modes de tokenization \n"
   ]
  },
  {
   "cell_type": "code",
   "execution_count": 172,
   "metadata": {},
   "outputs": [],
   "source": [
    "df[\"avis_sent_token\"] = df[\"Avis\"].map(sent_tokenize)\n",
    "df[\"avis_word_token\"] = df[\"Avis\"].map(word_tokenize)"
   ]
  },
  {
   "cell_type": "markdown",
   "metadata": {},
   "source": [
    "on regarde ce que ça donne : "
   ]
  },
  {
   "cell_type": "code",
   "execution_count": 177,
   "metadata": {},
   "outputs": [
    {
     "name": "stdout",
     "output_type": "stream",
     "text": [
      "Texte initial de l'avis\n",
      "La commission d'accès aux documents administratifs a examiné dans sa séance du 13 décembre 1984 la demande dont vous l'avez saisie par lettre du 31 octobre 1984.\n",
      "\n",
      "La commission a estimé que la communication des analyses des rejets provenant du Centre d'Etude du Bouchet à Vert-le-Petit pourrait permettre la divulgation des activités du Centre et des procédures techniques employées et serait par là de nature à porter atteinte au secret de la défense nationale. Il en va de même des « plans de secours », qui sont indissociables des activités pratiquées au Centre.\n",
      "\n",
      "En conséquence, et en application des dispositions de l'article 6 de le loi du 17 juillet 1978, la commission a rendu un avis défavorable sur ces deux points de votre demande.\n",
      "\n",
      "Sur les autres points, celle-ci a été rejetée comme irrecevable ; elle est en effet formulée en termes trop généraux et constitue plus une demande de renseignement qu'une demande d'un document administratif précis.\n",
      "\n",
      "\n",
      "Texte tokenizé en phrases\n",
      "Nombre de phrases : 5\n",
      "[\"La commission d'accès aux documents administratifs a examiné dans sa séance du 13 décembre 1984 la demande dont vous l'avez saisie par lettre du 31 octobre 1984.\", \"La commission a estimé que la communication des analyses des rejets provenant du Centre d'Etude du Bouchet à Vert-le-Petit pourrait permettre la divulgation des activités du Centre et des procédures techniques employées et serait par là de nature à porter atteinte au secret de la défense nationale.\", 'Il en va de même des « plans de secours », qui sont indissociables des activités pratiquées au Centre.', \"En conséquence, et en application des dispositions de l'article 6 de le loi du 17 juillet 1978, la commission a rendu un avis défavorable sur ces deux points de votre demande.\", \"Sur les autres points, celle-ci a été rejetée comme irrecevable ; elle est en effet formulée en termes trop généraux et constitue plus une demande de renseignement qu'une demande d'un document administratif précis.\"]\n",
      "\n",
      "\n",
      "Texte tokenizé en mots\n",
      "Nombre de mots : 166\n",
      "['La', 'commission', \"d'accès\", 'aux', 'documents', 'administratifs', 'a', 'examiné', 'dans', 'sa', 'séance', 'du', '13', 'décembre', '1984', 'la', 'demande', 'dont', 'vous', \"l'avez\", 'saisie', 'par', 'lettre', 'du', '31', 'octobre', '1984', '.', 'La', 'commission', 'a', 'estimé', 'que', 'la', 'communication', 'des', 'analyses', 'des', 'rejets', 'provenant', 'du', 'Centre', \"d'Etude\", 'du', 'Bouchet', 'à', 'Vert-le-Petit', 'pourrait', 'permettre', 'la', 'divulgation', 'des', 'activités', 'du', 'Centre', 'et', 'des', 'procédures', 'techniques', 'employées', 'et', 'serait', 'par', 'là', 'de', 'nature', 'à', 'porter', 'atteinte', 'au', 'secret', 'de', 'la', 'défense', 'nationale', '.', 'Il', 'en', 'va', 'de', 'même', 'des', '«', 'plans', 'de', 'secours', '»', ',', 'qui', 'sont', 'indissociables', 'des', 'activités', 'pratiquées', 'au', 'Centre', '.', 'En', 'conséquence', ',', 'et', 'en', 'application', 'des', 'dispositions', 'de', \"l'article\", '6', 'de', 'le', 'loi', 'du', '17', 'juillet', '1978', ',', 'la', 'commission', 'a', 'rendu', 'un', 'avis', 'défavorable', 'sur', 'ces', 'deux', 'points', 'de', 'votre', 'demande', '.', 'Sur', 'les', 'autres', 'points', ',', 'celle-ci', 'a', 'été', 'rejetée', 'comme', 'irrecevable', ';', 'elle', 'est', 'en', 'effet', 'formulée', 'en', 'termes', 'trop', 'généraux', 'et', 'constitue', 'plus', 'une', 'demande', 'de', 'renseignement', \"qu'une\", 'demande', \"d'un\", 'document', 'administratif', 'précis', '.']\n"
     ]
    }
   ],
   "source": [
    "numero_ligne = 1 # changer le nombre afin de visualiser différentes lignes du jeu de données \n",
    "print(\"Texte initial de l'avis\")\n",
    "print(df.loc[numero_ligne, \"Avis\"])\n",
    "print(\"\\n\")\n",
    "print(\"Texte tokenizé en phrases\")\n",
    "print(\"Nombre de phrases : {}\".format(len(df.loc[numero_ligne, \"avis_sent_token\"])))\n",
    "print(df.loc[numero_ligne, \"avis_sent_token\"])\n",
    "print(\"\\n\")\n",
    "print(\"Texte tokenizé en mots\")\n",
    "print(\"Nombre de mots : {}\".format(len(df.loc[numero_ligne, \"avis_word_token\"])))\n",
    "\n",
    "print(df.loc[numero_ligne, \"avis_word_token\"])\n"
   ]
  },
  {
   "cell_type": "markdown",
   "metadata": {},
   "source": [
    "# on calcule des métriques simples : \n",
    "- le nombre de caractères par avis\n",
    "- le nombre de phrases par avis \n",
    "- le nombre de mots par avis"
   ]
  },
  {
   "cell_type": "code",
   "execution_count": 180,
   "metadata": {},
   "outputs": [],
   "source": [
    "df[\"nb_char\"] = df[\"Avis\"].map(len)\n",
    "df[\"nb_sent_token\"] = df[\"avis_sent_token\"].map(len)\n",
    "df[\"nb_word_token\"] = df[\"avis_word_token\"].map(len)"
   ]
  },
  {
   "cell_type": "markdown",
   "metadata": {},
   "source": [
    "on regarde la moyenne, l'écart type, les quartiles de ces métriques"
   ]
  },
  {
   "cell_type": "code",
   "execution_count": 181,
   "metadata": {},
   "outputs": [
    {
     "data": {
      "text/html": [
       "<div>\n",
       "<style scoped>\n",
       "    .dataframe tbody tr th:only-of-type {\n",
       "        vertical-align: middle;\n",
       "    }\n",
       "\n",
       "    .dataframe tbody tr th {\n",
       "        vertical-align: top;\n",
       "    }\n",
       "\n",
       "    .dataframe thead th {\n",
       "        text-align: right;\n",
       "    }\n",
       "</style>\n",
       "<table border=\"1\" class=\"dataframe\">\n",
       "  <thead>\n",
       "    <tr style=\"text-align: right;\">\n",
       "      <th></th>\n",
       "      <th>nb_char</th>\n",
       "      <th>nb_word_token</th>\n",
       "      <th>nb_sent_token</th>\n",
       "    </tr>\n",
       "  </thead>\n",
       "  <tbody>\n",
       "    <tr>\n",
       "      <td>count</td>\n",
       "      <td>38286.000000</td>\n",
       "      <td>38286.000000</td>\n",
       "      <td>38286.000000</td>\n",
       "    </tr>\n",
       "    <tr>\n",
       "      <td>mean</td>\n",
       "      <td>2334.749099</td>\n",
       "      <td>416.808886</td>\n",
       "      <td>7.162879</td>\n",
       "    </tr>\n",
       "    <tr>\n",
       "      <td>std</td>\n",
       "      <td>1844.640813</td>\n",
       "      <td>332.160084</td>\n",
       "      <td>5.424005</td>\n",
       "    </tr>\n",
       "    <tr>\n",
       "      <td>min</td>\n",
       "      <td>38.000000</td>\n",
       "      <td>6.000000</td>\n",
       "      <td>1.000000</td>\n",
       "    </tr>\n",
       "    <tr>\n",
       "      <td>25%</td>\n",
       "      <td>1048.000000</td>\n",
       "      <td>187.000000</td>\n",
       "      <td>4.000000</td>\n",
       "    </tr>\n",
       "    <tr>\n",
       "      <td>50%</td>\n",
       "      <td>1725.000000</td>\n",
       "      <td>305.000000</td>\n",
       "      <td>5.000000</td>\n",
       "    </tr>\n",
       "    <tr>\n",
       "      <td>75%</td>\n",
       "      <td>3036.750000</td>\n",
       "      <td>537.000000</td>\n",
       "      <td>9.000000</td>\n",
       "    </tr>\n",
       "    <tr>\n",
       "      <td>max</td>\n",
       "      <td>37462.000000</td>\n",
       "      <td>7041.000000</td>\n",
       "      <td>152.000000</td>\n",
       "    </tr>\n",
       "  </tbody>\n",
       "</table>\n",
       "</div>"
      ],
      "text/plain": [
       "            nb_char  nb_word_token  nb_sent_token\n",
       "count  38286.000000   38286.000000   38286.000000\n",
       "mean    2334.749099     416.808886       7.162879\n",
       "std     1844.640813     332.160084       5.424005\n",
       "min       38.000000       6.000000       1.000000\n",
       "25%     1048.000000     187.000000       4.000000\n",
       "50%     1725.000000     305.000000       5.000000\n",
       "75%     3036.750000     537.000000       9.000000\n",
       "max    37462.000000    7041.000000     152.000000"
      ]
     },
     "execution_count": 181,
     "metadata": {},
     "output_type": "execute_result"
    }
   ],
   "source": [
    "df[[\"nb_char\", \"nb_word_token\", \"nb_sent_token\" ]].describe()"
   ]
  },
  {
   "cell_type": "markdown",
   "metadata": {},
   "source": [
    "une fois qu'on a divisé notre texte en une liste de mots, on peut faire plusieurs opérations de netoyage \n",
    "- retirer la ponctuation \n",
    "- mettre tous les caractères en minuscules (peut aussi être fait avant la tokenization)\n",
    "- enlever les stopwords (mots sans apport pour comprendre le sens de la phrase)\n",
    "- lemmatiser ou stemmer afin de regrouper deux termes proches en un terme unique : \n",
    "    - personnes -> personne\n",
    "    - conduisent, conduis, etc.. -> conduire\n",
    "    \n",
    "Ces étapes sont réalisées dans la partie 2 : extraction de topics"
   ]
  },
  {
   "cell_type": "markdown",
   "metadata": {},
   "source": [
    "on peut ensuite \"vectoriser ces listes de mots afin de les rendre intelligible par une machine, \n",
    "il existe plusieurs méthode de vectoriser \n",
    "    - la matrice de term frequency \n",
    "    - la matrice tf-idf\n",
    "    - les word embeddings "
   ]
  },
  {
   "cell_type": "markdown",
   "metadata": {},
   "source": [
    "Ressource: un article (en anglais) bien fait qui montre comment calculer la matrice TF et TF-IDF \"form scratch: cratch : https://towardsdatascience.com/text-summarization-using-tf-idf-e64a0644ace3"
   ]
  },
  {
   "cell_type": "markdown",
   "metadata": {},
   "source": [
    "Pour calculer automatiquement ces matrices, il existe différentes librairies. On utilise ici la librairie sklearn\n"
   ]
  },
  {
   "cell_type": "code",
   "execution_count": 189,
   "metadata": {},
   "outputs": [],
   "source": [
    "from sklearn.feature_extraction.text import CountVectorizer, TfidfVectorizer"
   ]
  },
  {
   "cell_type": "markdown",
   "metadata": {},
   "source": [
    "### La matrice de term frequency "
   ]
  },
  {
   "attachments": {},
   "cell_type": "markdown",
   "metadata": {},
   "source": [
    "![term_doc_matrix.png](./images/term_doc_matrix.png)"
   ]
  },
  {
   "cell_type": "markdown",
   "metadata": {},
   "source": [
    "Chaque document est composé d'un certains nombre de mots. L'ensemble des mots distincts présents dans tous les documents consititue le vocabulaire du corpus (corpus = ensemble des documents). \n",
    "La term-frequency matrix est une matrice avec une ligne par document et une colonne par mot du vocabulaire. \n",
    "Pour chaque document, les colonnes donne le nombre de fois où le mot apparait dans le document. \n",
    "C'est l'approche qu'on appelle souvent \"bag of words\" ou sac de mots en français. "
   ]
  },
  {
   "cell_type": "code",
   "execution_count": null,
   "metadata": {},
   "outputs": [],
   "source": [
    "Ci-dessous on calcule la matrice "
   ]
  },
  {
   "cell_type": "code",
   "execution_count": 216,
   "metadata": {},
   "outputs": [
    {
     "name": "stdout",
     "output_type": "stream",
     "text": [
      "TF-Matrix:\n",
      "<38286x9354 sparse matrix of type '<class 'numpy.int64'>'\n",
      "\twith 6172343 stored elements in Compressed Sparse Row format>\n"
     ]
    }
   ],
   "source": [
    "vect = CountVectorizer(min_df = 15).fit(df[\"Avis\"])\n",
    "tf_matrix = vect.transform(df[\"Avis\"])\n",
    "print(\"TF-Matrix:\\n{}\".format(repr(tf_matrix)))"
   ]
  },
  {
   "cell_type": "code",
   "execution_count": 215,
   "metadata": {},
   "outputs": [
    {
     "name": "stdout",
     "output_type": "stream",
     "text": [
      "Number of features: 56092\n",
      "First 20 features:\n",
      "['00', '000', '0000', '00000', '0000000218', '0000000557', '000001', '000002', '0000026', '00000805', '0000098c', '00001', '0000152030', '0000158', '00003', '0000318', '0000336', '0000379', '00004', '000044']\n"
     ]
    }
   ],
   "source": [
    "feature_names = vect.get_feature_names()\n",
    "print(\"Number of features: {}\".format(len(feature_names)))\n",
    "print(\"First 20 features:\\n{}\".format(feature_names[:20]))\n"
   ]
  },
  {
   "cell_type": "markdown",
   "metadata": {},
   "source": [
    "Pour visualiser la matrice, on la transforme en dataframe: \n",
    "    "
   ]
  },
  {
   "cell_type": "code",
   "execution_count": 203,
   "metadata": {},
   "outputs": [],
   "source": [
    "tf_dataframe = pd.SparseDataFrame(tf_matrix, columns = feature_names).fillna(0)"
   ]
  },
  {
   "cell_type": "code",
   "execution_count": 202,
   "metadata": {},
   "outputs": [
    {
     "data": {
      "text/html": [
       "<div>\n",
       "<style scoped>\n",
       "    .dataframe tbody tr th:only-of-type {\n",
       "        vertical-align: middle;\n",
       "    }\n",
       "\n",
       "    .dataframe tbody tr th {\n",
       "        vertical-align: top;\n",
       "    }\n",
       "\n",
       "    .dataframe thead th {\n",
       "        text-align: right;\n",
       "    }\n",
       "</style>\n",
       "<table border=\"1\" class=\"dataframe\">\n",
       "  <thead>\n",
       "    <tr style=\"text-align: right;\">\n",
       "      <th></th>\n",
       "      <th>00</th>\n",
       "      <th>000</th>\n",
       "      <th>0001</th>\n",
       "      <th>001</th>\n",
       "      <th>002</th>\n",
       "      <th>003</th>\n",
       "      <th>004</th>\n",
       "      <th>006</th>\n",
       "      <th>008</th>\n",
       "      <th>01</th>\n",
       "      <th>...</th>\n",
       "      <th>événement</th>\n",
       "      <th>événements</th>\n",
       "      <th>êtes</th>\n",
       "      <th>être</th>\n",
       "      <th>île</th>\n",
       "      <th>îles</th>\n",
       "      <th>îlot</th>\n",
       "      <th>îlots</th>\n",
       "      <th>œuvre</th>\n",
       "      <th>œuvres</th>\n",
       "    </tr>\n",
       "  </thead>\n",
       "  <tbody>\n",
       "    <tr>\n",
       "      <td>0</td>\n",
       "      <td>NaN</td>\n",
       "      <td>NaN</td>\n",
       "      <td>NaN</td>\n",
       "      <td>NaN</td>\n",
       "      <td>NaN</td>\n",
       "      <td>NaN</td>\n",
       "      <td>NaN</td>\n",
       "      <td>NaN</td>\n",
       "      <td>NaN</td>\n",
       "      <td>NaN</td>\n",
       "      <td>...</td>\n",
       "      <td>NaN</td>\n",
       "      <td>NaN</td>\n",
       "      <td>NaN</td>\n",
       "      <td>NaN</td>\n",
       "      <td>NaN</td>\n",
       "      <td>NaN</td>\n",
       "      <td>NaN</td>\n",
       "      <td>NaN</td>\n",
       "      <td>NaN</td>\n",
       "      <td>NaN</td>\n",
       "    </tr>\n",
       "    <tr>\n",
       "      <td>1</td>\n",
       "      <td>NaN</td>\n",
       "      <td>NaN</td>\n",
       "      <td>NaN</td>\n",
       "      <td>NaN</td>\n",
       "      <td>NaN</td>\n",
       "      <td>NaN</td>\n",
       "      <td>NaN</td>\n",
       "      <td>NaN</td>\n",
       "      <td>NaN</td>\n",
       "      <td>NaN</td>\n",
       "      <td>...</td>\n",
       "      <td>NaN</td>\n",
       "      <td>NaN</td>\n",
       "      <td>NaN</td>\n",
       "      <td>NaN</td>\n",
       "      <td>NaN</td>\n",
       "      <td>NaN</td>\n",
       "      <td>NaN</td>\n",
       "      <td>NaN</td>\n",
       "      <td>NaN</td>\n",
       "      <td>NaN</td>\n",
       "    </tr>\n",
       "    <tr>\n",
       "      <td>2</td>\n",
       "      <td>NaN</td>\n",
       "      <td>NaN</td>\n",
       "      <td>NaN</td>\n",
       "      <td>NaN</td>\n",
       "      <td>NaN</td>\n",
       "      <td>NaN</td>\n",
       "      <td>NaN</td>\n",
       "      <td>NaN</td>\n",
       "      <td>NaN</td>\n",
       "      <td>NaN</td>\n",
       "      <td>...</td>\n",
       "      <td>NaN</td>\n",
       "      <td>NaN</td>\n",
       "      <td>NaN</td>\n",
       "      <td>NaN</td>\n",
       "      <td>NaN</td>\n",
       "      <td>NaN</td>\n",
       "      <td>NaN</td>\n",
       "      <td>NaN</td>\n",
       "      <td>NaN</td>\n",
       "      <td>NaN</td>\n",
       "    </tr>\n",
       "    <tr>\n",
       "      <td>3</td>\n",
       "      <td>NaN</td>\n",
       "      <td>NaN</td>\n",
       "      <td>NaN</td>\n",
       "      <td>NaN</td>\n",
       "      <td>NaN</td>\n",
       "      <td>NaN</td>\n",
       "      <td>NaN</td>\n",
       "      <td>NaN</td>\n",
       "      <td>NaN</td>\n",
       "      <td>NaN</td>\n",
       "      <td>...</td>\n",
       "      <td>NaN</td>\n",
       "      <td>NaN</td>\n",
       "      <td>NaN</td>\n",
       "      <td>1.0</td>\n",
       "      <td>NaN</td>\n",
       "      <td>NaN</td>\n",
       "      <td>NaN</td>\n",
       "      <td>NaN</td>\n",
       "      <td>NaN</td>\n",
       "      <td>NaN</td>\n",
       "    </tr>\n",
       "    <tr>\n",
       "      <td>4</td>\n",
       "      <td>NaN</td>\n",
       "      <td>NaN</td>\n",
       "      <td>NaN</td>\n",
       "      <td>NaN</td>\n",
       "      <td>NaN</td>\n",
       "      <td>NaN</td>\n",
       "      <td>NaN</td>\n",
       "      <td>NaN</td>\n",
       "      <td>NaN</td>\n",
       "      <td>NaN</td>\n",
       "      <td>...</td>\n",
       "      <td>NaN</td>\n",
       "      <td>NaN</td>\n",
       "      <td>NaN</td>\n",
       "      <td>1.0</td>\n",
       "      <td>NaN</td>\n",
       "      <td>NaN</td>\n",
       "      <td>NaN</td>\n",
       "      <td>NaN</td>\n",
       "      <td>NaN</td>\n",
       "      <td>NaN</td>\n",
       "    </tr>\n",
       "  </tbody>\n",
       "</table>\n",
       "<p>5 rows × 9354 columns</p>\n",
       "</div>"
      ],
      "text/plain": [
       "   00  000  0001  001  002  003  004  006  008  01  ...  événement  \\\n",
       "0 NaN  NaN   NaN  NaN  NaN  NaN  NaN  NaN  NaN NaN  ...        NaN   \n",
       "1 NaN  NaN   NaN  NaN  NaN  NaN  NaN  NaN  NaN NaN  ...        NaN   \n",
       "2 NaN  NaN   NaN  NaN  NaN  NaN  NaN  NaN  NaN NaN  ...        NaN   \n",
       "3 NaN  NaN   NaN  NaN  NaN  NaN  NaN  NaN  NaN NaN  ...        NaN   \n",
       "4 NaN  NaN   NaN  NaN  NaN  NaN  NaN  NaN  NaN NaN  ...        NaN   \n",
       "\n",
       "   événements  êtes  être  île  îles  îlot  îlots  œuvre  œuvres  \n",
       "0         NaN   NaN   NaN  NaN   NaN   NaN    NaN    NaN     NaN  \n",
       "1         NaN   NaN   NaN  NaN   NaN   NaN    NaN    NaN     NaN  \n",
       "2         NaN   NaN   NaN  NaN   NaN   NaN    NaN    NaN     NaN  \n",
       "3         NaN   NaN   1.0  NaN   NaN   NaN    NaN    NaN     NaN  \n",
       "4         NaN   NaN   1.0  NaN   NaN   NaN    NaN    NaN     NaN  \n",
       "\n",
       "[5 rows x 9354 columns]"
      ]
     },
     "execution_count": 202,
     "metadata": {},
     "output_type": "execute_result"
    }
   ],
   "source": [
    "tf_dataframe.head()"
   ]
  },
  {
   "cell_type": "markdown",
   "metadata": {},
   "source": [
    "On observe ce que l'on appelle une matrice sparse, ce qui signifie que la majorité des termes sont à 0.\n",
    "On voit par exemple que le document trois à une fois le mot \"être\". \n",
    "Pour vérifier, on regarde la phrase du document 3. "
   ]
  },
  {
   "cell_type": "code",
   "execution_count": 204,
   "metadata": {},
   "outputs": [
    {
     "data": {
      "text/plain": [
       "\"La commission d'accès aux documents administratifs a examiné dans sa séance du 30 janvier 1986 votre demande de conseil.\\n\\nLa commission a émis un avis défavorable à la communication des courriers échangés entre le salarié et la direction départementale du travail et de l'emploi au sujet du préavis de démission.\\n\\nLa communication de ces documents à l'entreprise en vue de les produire devant la juridiction prud'homale pourrait, en effet, être de nature à porter atteinte au déroulement de la procédure juridictionnelle en cours. \\n\""
      ]
     },
     "execution_count": 204,
     "metadata": {},
     "output_type": "execute_result"
    }
   ],
   "source": [
    "df.loc[3, \"Avis\"]"
   ]
  },
  {
   "cell_type": "markdown",
   "metadata": {},
   "source": [
    "on peut regarder pour ce même document, pour vérifier que la matrice soit bien construite, que la 3ème ligne de la TF matrice correpondant à l'avis ci-dessous, les termes non nuls correspondent à ceux du document"
   ]
  },
  {
   "cell_type": "code",
   "execution_count": 213,
   "metadata": {},
   "outputs": [
    {
     "data": {
      "text/plain": [
       "['1986',\n",
       " '30',\n",
       " 'accès',\n",
       " 'administratifs',\n",
       " 'atteinte',\n",
       " 'au',\n",
       " 'aux',\n",
       " 'avis',\n",
       " 'ces',\n",
       " 'commission',\n",
       " 'communication',\n",
       " 'conseil',\n",
       " 'courriers',\n",
       " 'cours',\n",
       " 'dans',\n",
       " 'de',\n",
       " 'demande',\n",
       " 'des',\n",
       " 'devant',\n",
       " 'direction',\n",
       " 'documents',\n",
       " 'du',\n",
       " 'défavorable',\n",
       " 'démission',\n",
       " 'départementale',\n",
       " 'déroulement',\n",
       " 'effet',\n",
       " 'emploi',\n",
       " 'en',\n",
       " 'entre',\n",
       " 'entreprise',\n",
       " 'et',\n",
       " 'examiné',\n",
       " 'janvier',\n",
       " 'juridiction',\n",
       " 'juridictionnelle',\n",
       " 'la',\n",
       " 'le',\n",
       " 'les',\n",
       " 'nature',\n",
       " 'porter',\n",
       " 'pourrait',\n",
       " 'procédure',\n",
       " 'produire',\n",
       " 'prud',\n",
       " 'sa',\n",
       " 'salarié',\n",
       " 'sujet',\n",
       " 'séance',\n",
       " 'travail',\n",
       " 'un',\n",
       " 'votre',\n",
       " 'vue',\n",
       " 'échangés',\n",
       " 'émis',\n",
       " 'être']"
      ]
     },
     "execution_count": 213,
     "metadata": {},
     "output_type": "execute_result"
    }
   ],
   "source": [
    "[col for col in tf_dataframe.loc[3,].index if tf_dataframe.loc[3,col]!=0]"
   ]
  },
  {
   "cell_type": "markdown",
   "metadata": {},
   "source": [
    "### La matrice tf-idf"
   ]
  },
  {
   "attachments": {},
   "cell_type": "markdown",
   "metadata": {},
   "source": [
    "![tfidf_matrix.png](./images/tfidf_matrix.png)"
   ]
  },
  {
   "cell_type": "markdown",
   "metadata": {},
   "source": [
    "La matrice TF-IDF est très similaire dans son principe à la matrice TF. Elle a le même format: une ligne par document et une colonne par mot du vocabulaire. Chaque \"case\" de la matrice sera calculée à partir de la case la matrice TF, mais sera pondérée par l'IDF (inverse document frequency). Cette pondération permet de prendre en compte la fréquence d'occurence d'un terme dans l'ensemble des documents (le corpus). L'idée derrière cette pondération est qu'un terme qui apparait dans un très grand nombre de document n'apporte pas beaucoup d'information pour décrire un document en particulier. Par exemple, dans notre cas, le mot \"avis\" apparait dans quasiment tous nos documents, il aura donc une fréquence d'apparition dans le corpus élevé et donc un IDF (son inverse) faible. \n",
    "\n",
    "Pour résumer, pour un mot donné d'un document donné, le TF-IDF: \n",
    "\n",
    "- augmente avec le nombre d'occurrences du mot dans le document\n",
    "- diminue avec le nombre d'occirrences du mot dans le corpus\n"
   ]
  },
  {
   "cell_type": "code",
   "execution_count": 195,
   "metadata": {},
   "outputs": [
    {
     "name": "stdout",
     "output_type": "stream",
     "text": [
      "TF-Matrix:\n",
      "<38286x9354 sparse matrix of type '<class 'numpy.float64'>'\n",
      "\twith 6172343 stored elements in Compressed Sparse Row format>\n"
     ]
    }
   ],
   "source": [
    "vect = TfidfVectorizer(min_df = 15).fit(df[\"Avis\"])\n",
    "tf_matrix = vect.transform(df[\"Avis\"])\n",
    "print(\"TF-Matrix:\\n{}\".format(repr(tf_matrix)))"
   ]
  },
  {
   "cell_type": "code",
   "execution_count": null,
   "metadata": {},
   "outputs": [],
   "source": []
  },
  {
   "cell_type": "code",
   "execution_count": null,
   "metadata": {},
   "outputs": [],
   "source": []
  },
  {
   "cell_type": "markdown",
   "metadata": {},
   "source": [
    "### Exemple de word embeddings of word2vec\n",
    "\n",
    "A propos de word2vec: développé par une équipe de recherche de Google (article de 2013 disponible ici https://arxiv.org/abs/1301.3781), word2vec est un algorithme permettant de reprénter chaque mot dans un espace vectoriel à n dimensions (généralement n est fixé dans une valeur comprise entre 100 et 400). Les vecteurs des différents mots sont \"appris\" à l'aide d'un réseau de neurone artificiel. Ces vecteurs, appelés \"word embeddings\", permettent: \n",
    "- de rendre compte des proximités des mots dans le langage naturel (deux mots proches dans le langage, médecin et hopitaux, seront proches dans l'espace vectoriel) \n",
    "- de traduire certaines proprités linguistiques du langage naturel en propriétés mathématiques (cf. exemples dans illustration ci-dessous)\n",
    "\n"
   ]
  },
  {
   "attachments": {},
   "cell_type": "markdown",
   "metadata": {},
   "source": [
    "![word2vec.png](./images/word2vec.png)"
   ]
  },
  {
   "cell_type": "markdown",
   "metadata": {},
   "source": [
    "Entrainement du modèle à partir du texte des avis Cada. Les paramètres à fixer sont: \n",
    "- size: la taille de l'espace vectoriel (le nombre de dimensions de chaque vecteur)"
   ]
  },
  {
   "cell_type": "code",
   "execution_count": 138,
   "metadata": {},
   "outputs": [],
   "source": [
    "sentences = df[\"avis_word_token\"].tolist()\n",
    "from gensim.models import Word2Vec\n",
    "model = Word2Vec(sentences, size=100, window=5, min_count=5, workers=4)"
   ]
  },
  {
   "cell_type": "markdown",
   "metadata": {},
   "source": [
    "exemple de vecteur pour un mot donné (vous pouvez changer le mot entre guillements et voir les variations des vecteurs)"
   ]
  },
  {
   "cell_type": "code",
   "execution_count": 184,
   "metadata": {},
   "outputs": [
    {
     "data": {
      "text/plain": [
       "array([ 3.208701  ,  1.2001978 ,  0.9631643 ,  3.135135  ,  0.19943693,\n",
       "        0.835203  , -3.2388248 ,  0.5518299 ,  1.0958376 ,  0.04891345,\n",
       "       -5.2012563 ,  0.05518902,  1.0110785 ,  3.0651872 , -2.220354  ,\n",
       "        1.9727267 ,  0.22784466,  2.3178163 ,  1.0423992 , -0.54918605,\n",
       "       -0.11753737, -0.9626078 , -2.8740926 ,  1.1849428 ,  3.2807899 ,\n",
       "       -2.615599  ,  1.2137442 , -0.16939296, -3.3420463 ,  2.3324075 ,\n",
       "        0.11869113, -1.4656217 , -1.4988983 , -1.7943109 ,  2.361743  ,\n",
       "       -0.9900683 ,  0.07967577, -3.608413  ,  1.9248564 , -1.7616553 ,\n",
       "        1.2592736 ,  0.20968436,  0.80333155,  1.0737084 ,  3.0309446 ,\n",
       "        1.1651824 ,  0.5777337 ,  1.4316745 , -1.15157   , -2.2022707 ,\n",
       "        0.2308007 ,  1.5686148 ,  0.07331307, -0.01666031,  2.7159548 ,\n",
       "       -2.4429178 , -0.68058413, -0.97934747, -3.1835635 , -5.7991824 ,\n",
       "        1.7146726 ,  0.5837122 ,  1.1788157 , -0.16770494,  0.18653537,\n",
       "        0.44645214,  0.36560717, -1.4757261 , -0.7566272 , -3.7184703 ,\n",
       "        4.1772923 , -1.4889896 , -1.0746994 ,  0.5790995 ,  0.3127736 ,\n",
       "        1.1249434 ,  2.082328  ,  0.07650577,  2.3014138 , -0.9630468 ,\n",
       "        3.6522489 , -2.639066  , -0.54756796, -0.9221623 , -0.69811076,\n",
       "       -1.9948835 ,  0.8216101 ,  1.0675104 , -0.80359787, -0.1578044 ,\n",
       "       -2.0568492 ,  4.8763127 , -0.00837587,  1.3862878 ,  0.10500287,\n",
       "        1.5563806 ,  2.358201  , -1.2659893 , -1.7638551 ,  1.0306388 ],\n",
       "      dtype=float32)"
      ]
     },
     "execution_count": 184,
     "metadata": {},
     "output_type": "execute_result"
    }
   ],
   "source": [
    "model.wv['avis']"
   ]
  },
  {
   "cell_type": "markdown",
   "metadata": {},
   "source": [
    "quelques exemples de calculs des mots les plus similaires, en utilisant la fonction méthode \"most_similar\""
   ]
  },
  {
   "cell_type": "code",
   "execution_count": 139,
   "metadata": {},
   "outputs": [
    {
     "data": {
      "text/plain": [
       "[('généraliste', 0.655626118183136),\n",
       " ('agréé', 0.6517902612686157),\n",
       " ('prescripteur', 0.6218041181564331),\n",
       " ('intermédiaire', 0.6169997453689575),\n",
       " ('désigne', 0.6065273284912109),\n",
       " ('spécialistes', 0.5890629887580872),\n",
       " ('régulateur', 0.5599677562713623),\n",
       " ('docteur', 0.5592317581176758),\n",
       " ('traitant', 0.5321307182312012),\n",
       " ('spécialiste', 0.48233020305633545)]"
      ]
     },
     "execution_count": 139,
     "metadata": {},
     "output_type": "execute_result"
    }
   ],
   "source": [
    "model.most_similar(\"médecin\")"
   ]
  },
  {
   "cell_type": "code",
   "execution_count": 140,
   "metadata": {},
   "outputs": [
    {
     "data": {
      "text/plain": [
       "[('préfète', 0.7589961290359497),\n",
       " ('préfet', 0.7407832145690918),\n",
       " ('sceaux', 0.5662443041801453),\n",
       " ('académie', 0.5592095255851746),\n",
       " ('ministre', 0.5444050431251526),\n",
       " ('président', 0.5424714684486389),\n",
       " ('présidente', 0.5273807048797607),\n",
       " ('recteur', 0.5181554555892944),\n",
       " ('directeur', 0.48822686076164246),\n",
       " ('garde', 0.4639958143234253)]"
      ]
     },
     "execution_count": 140,
     "metadata": {},
     "output_type": "execute_result"
    }
   ],
   "source": [
    "model.most_similar(\"maire\")"
   ]
  },
  {
   "cell_type": "code",
   "execution_count": 145,
   "metadata": {},
   "outputs": [
    {
     "data": {
      "text/plain": [
       "[('demandée', 0.38057392835617065),\n",
       " ('obtenir', 0.3669607639312744),\n",
       " ('sollicitée', 0.3607199490070343),\n",
       " ('intéressée', 0.35437801480293274),\n",
       " ('demandé', 0.33897343277931213),\n",
       " ('demander', 0.332382470369339),\n",
       " ('reposent', 0.3322491943836212),\n",
       " ('documents', 0.3318790793418884),\n",
       " ('sollicités', 0.3279246687889099),\n",
       " ('invoquant', 0.32424890995025635)]"
      ]
     },
     "execution_count": 145,
     "metadata": {},
     "output_type": "execute_result"
    }
   ],
   "source": [
    "model.most_similar(\"demande\")"
   ]
  },
  {
   "cell_type": "code",
   "execution_count": null,
   "metadata": {},
   "outputs": [],
   "source": []
  },
  {
   "cell_type": "markdown",
   "metadata": {},
   "source": [
    "# Partie 2 : topic extraction (non supervisé)\n"
   ]
  },
  {
   "cell_type": "markdown",
   "metadata": {},
   "source": [
    "## Un algorithme d'extraction de topiques: LDA (Latent Dirichlet Allocation) \n",
    "\n",
    "### ressource : article très pédagogique (en anglais) dont on s'inspire ici https://towardsdatascience.com/the-complete-guide-for-topics-extraction-in-python-a6aaa6cedbbc "
   ]
  },
  {
   "attachments": {},
   "cell_type": "markdown",
   "metadata": {},
   "source": [
    "### A quoi sert cet algorithme?\n",
    "    ### \n",
    "![illustration_LDA.png](./images/illustration_LDA.png)\n"
   ]
  },
  {
   "cell_type": "code",
   "execution_count": 88,
   "metadata": {},
   "outputs": [
    {
     "name": "stderr",
     "output_type": "stream",
     "text": [
      "[nltk_data] Downloading package stopwords to\n",
      "[nltk_data]     /Users/kimmontalibet/nltk_data...\n",
      "[nltk_data]   Package stopwords is already up-to-date!\n"
     ]
    }
   ],
   "source": [
    "# Etape 0 : importation de la librairie avec l'algorithme \n",
    "#!pip install gensim si ce n'est pas déjà fait \n",
    "import nltk\n",
    "nltk.download('stopwords')\n",
    "from gensim import models\n",
    "from gensim.models import Phrases\n",
    "from gensim import corpora\n",
    "from nltk.corpus import stopwords"
   ]
  },
  {
   "cell_type": "code",
   "execution_count": 89,
   "metadata": {},
   "outputs": [],
   "source": [
    "# Etape 1 :préparation et nettoyage des données textuelles \n",
    "\n",
    "# supression de la ponctuation (pour certains cas d'usage, il est cependant utile de garder la ponctuation)\n",
    "# tokenization \n",
    "\n",
    "df[\"avis_word_token\"] = df[\"Avis\"].map(lambda x : word_tokenize(x.replace(\"'\", \" \")))\n"
   ]
  },
  {
   "cell_type": "code",
   "execution_count": 90,
   "metadata": {},
   "outputs": [
    {
     "name": "stdout",
     "output_type": "stream",
     "text": [
      "Document initial\n",
      "La commission d'accès aux documents administratifs a examiné dans sa séance du 3 mars 1984 la demande dont vous l'avez saisie par lettre du 21 décembre 1983.\n",
      "\n",
      "La commission a émis un avis défavorable à la communication du dossier d'enquête relatif au refus de votre admission en qualité d'élève-officier de réserve interprète et du chiffre de la Marine, au motif qu'elle porterait atteinte au secret de la défense nationale, exception prévue par l'article 6 de la loi du 17 juillet 1978.\n",
      "\n",
      "\n",
      "Document tokénisé\n",
      "['La', 'commission', 'd', 'accès', 'aux', 'documents', 'administratifs', 'a', 'examiné', 'dans', 'sa', 'séance', 'du', '3', 'mars', '1984', 'la', 'demande', 'dont', 'vous', 'l', 'avez', 'saisie', 'par', 'lettre', 'du', '21', 'décembre', '1983', '.', 'La', 'commission', 'a', 'émis', 'un', 'avis', 'défavorable', 'à', 'la', 'communication', 'du', 'dossier', 'd', 'enquête', 'relatif', 'au', 'refus', 'de', 'votre', 'admission', 'en', 'qualité', 'd', 'élève-officier', 'de', 'réserve', 'interprète', 'et', 'du', 'chiffre', 'de', 'la', 'Marine', ',', 'au', 'motif', 'qu', 'elle', 'porterait', 'atteinte', 'au', 'secret', 'de', 'la', 'défense', 'nationale', ',', 'exception', 'prévue', 'par', 'l', 'article', '6', 'de', 'la', 'loi', 'du', '17', 'juillet', '1978', '.']\n",
      "\n",
      "\n",
      "Nombre de token dans le doc :91\n"
     ]
    }
   ],
   "source": [
    "# on regarde ce que ce ca donne\n",
    "\n",
    "numero_doc = 0\n",
    "\n",
    "print(\"Document initial\")\n",
    "print(df.loc[numero_doc, \"Avis\"])\n",
    "print(\"\\n\")\n",
    "print(\"Document tokénisé\")\n",
    "print(df.loc[numero_doc, \"avis_word_token\"])\n",
    "print(\"\\n\")\n",
    "print(\"Nombre de token dans le doc :{}\".format(len(df.loc[numero_doc, \"avis_word_token\"])))\n"
   ]
  },
  {
   "cell_type": "code",
   "execution_count": 91,
   "metadata": {},
   "outputs": [],
   "source": [
    "# on supprime les tokens avec la ponctuation et on mets tous les mots en minuscule \n",
    "df[\"avis_word_token\"] = df[\"avis_word_token\"].map(lambda list_word: [word.lower()  for word in list_word if word.isalpha()])"
   ]
  },
  {
   "cell_type": "code",
   "execution_count": 92,
   "metadata": {},
   "outputs": [
    {
     "name": "stdout",
     "output_type": "stream",
     "text": [
      "Document initial\n",
      "La commission d'accès aux documents administratifs a examiné dans sa séance du 3 mars 1984 la demande dont vous l'avez saisie par lettre du 21 décembre 1983.\n",
      "\n",
      "La commission a émis un avis défavorable à la communication du dossier d'enquête relatif au refus de votre admission en qualité d'élève-officier de réserve interprète et du chiffre de la Marine, au motif qu'elle porterait atteinte au secret de la défense nationale, exception prévue par l'article 6 de la loi du 17 juillet 1978.\n",
      "\n",
      "\n",
      "Document tokénisé\n",
      "['la', 'commission', 'd', 'accès', 'aux', 'documents', 'administratifs', 'a', 'examiné', 'dans', 'sa', 'séance', 'du', 'mars', 'la', 'demande', 'dont', 'vous', 'l', 'avez', 'saisie', 'par', 'lettre', 'du', 'décembre', 'la', 'commission', 'a', 'émis', 'un', 'avis', 'défavorable', 'à', 'la', 'communication', 'du', 'dossier', 'd', 'enquête', 'relatif', 'au', 'refus', 'de', 'votre', 'admission', 'en', 'qualité', 'd', 'de', 'réserve', 'interprète', 'et', 'du', 'chiffre', 'de', 'la', 'marine', 'au', 'motif', 'qu', 'elle', 'porterait', 'atteinte', 'au', 'secret', 'de', 'la', 'défense', 'nationale', 'exception', 'prévue', 'par', 'l', 'article', 'de', 'la', 'loi', 'du', 'juillet']\n",
      "\n",
      "\n",
      "Nombre de token dans le doc :79\n"
     ]
    }
   ],
   "source": [
    "numero_doc = 0\n",
    "\n",
    "print(\"Document initial\")\n",
    "print(df.loc[numero_doc, \"Avis\"])\n",
    "print(\"\\n\")\n",
    "print(\"Document tokénisé\")\n",
    "print(df.loc[numero_doc, \"avis_word_token\"])\n",
    "print(\"\\n\")\n",
    "print(\"Nombre de token dans le doc :{}\".format(len(df.loc[numero_doc, \"avis_word_token\"])))"
   ]
  },
  {
   "cell_type": "code",
   "execution_count": 93,
   "metadata": {},
   "outputs": [
    {
     "name": "stdout",
     "output_type": "stream",
     "text": [
      "172\n"
     ]
    }
   ],
   "source": [
    "# création de la liste de stopwords\n",
    "custom_stopwords = [\"a\", \"dont\", \"madame\", \"monsieur\", \"peut\", \"dès\", \"lors\", \"être\", \"ce\",\n",
    "                    \"ces\", \"cet\", \"cette\", \"comme\", \"ainsi\", \"si\"]\n",
    "stopwords_fr = stopwords.words('french') + custom_stopwords\n",
    "print(len(stopwords_fr))\n",
    "#print(stopwords_fr)\n",
    "\n",
    "# on enlève les stopwords\n",
    "df[\"avis_word_token\"] = df[\"avis_word_token\"].map(lambda list_word: [word for word in list_word if word not in stopwords_fr])\n"
   ]
  },
  {
   "cell_type": "code",
   "execution_count": 94,
   "metadata": {},
   "outputs": [
    {
     "name": "stdout",
     "output_type": "stream",
     "text": [
      "Document initial\n",
      "La commission d'accès aux documents administratifs a examiné dans sa séance du 3 mars 1984 la demande dont vous l'avez saisie par lettre du 21 décembre 1983.\n",
      "\n",
      "La commission a émis un avis défavorable à la communication du dossier d'enquête relatif au refus de votre admission en qualité d'élève-officier de réserve interprète et du chiffre de la Marine, au motif qu'elle porterait atteinte au secret de la défense nationale, exception prévue par l'article 6 de la loi du 17 juillet 1978.\n",
      "\n",
      "\n",
      "Document tokénisé\n",
      "['commission', 'accès', 'documents', 'administratifs', 'examiné', 'séance', 'mars', 'demande', 'saisie', 'lettre', 'décembre', 'commission', 'émis', 'avis', 'défavorable', 'communication', 'dossier', 'enquête', 'relatif', 'refus', 'admission', 'qualité', 'réserve', 'interprète', 'chiffre', 'marine', 'motif', 'porterait', 'atteinte', 'secret', 'défense', 'nationale', 'exception', 'prévue', 'article', 'loi', 'juillet']\n",
      "\n",
      "\n",
      "Nombre de token dans le doc :37\n"
     ]
    }
   ],
   "source": [
    "numero_doc = 0\n",
    "\n",
    "print(\"Document initial\")\n",
    "print(df.loc[numero_doc, \"Avis\"])\n",
    "print(\"\\n\")\n",
    "print(\"Document tokénisé\")\n",
    "print(df.loc[numero_doc, \"avis_word_token\"])\n",
    "print(\"\\n\")\n",
    "print(\"Nombre de token dans le doc :{}\".format(len(df.loc[numero_doc, \"avis_word_token\"])))"
   ]
  },
  {
   "cell_type": "code",
   "execution_count": 144,
   "metadata": {},
   "outputs": [],
   "source": [
    "# Etape 3: Entrainement de l'algorithme \n"
   ]
  },
  {
   "cell_type": "code",
   "execution_count": null,
   "metadata": {},
   "outputs": [],
   "source": []
  },
  {
   "cell_type": "code",
   "execution_count": 145,
   "metadata": {},
   "outputs": [],
   "source": [
    "# création des tokens avec bigrammes et trigrammes \n",
    "\n",
    "tokens = df['avis_word_token'].tolist()\n",
    "bigram_model = Phrases(tokens)\n",
    "#trigram_model = Phrases(bigram_model[tokens], min_count=1)\n",
    "#tokens = list(trigram_model[bigram_model[tokens]])\n",
    "tokens = list(bigram_model[tokens])"
   ]
  },
  {
   "cell_type": "code",
   "execution_count": 146,
   "metadata": {},
   "outputs": [
    {
     "name": "stdout",
     "output_type": "stream",
     "text": [
      "CPU times: user 3min 4s, sys: 1.09 s, total: 3min 5s\n",
      "Wall time: 1min 37s\n"
     ]
    }
   ],
   "source": [
    "\n",
    "dictionary_LDA = corpora.Dictionary(tokens)\n",
    "dictionary_LDA.filter_extremes(no_below=3)\n",
    "corpus = [dictionary_LDA.doc2bow(tok) for tok in tokens]\n",
    "\n",
    "\n",
    "\n",
    "# les inputs : le corpus de documents tokenizé et le dictionnaire \n",
    "# (liste des mots apparaissant dans le dictionnaire)\n",
    "\n",
    "np.random.seed(123456)\n",
    "num_topics = 13\n",
    "%time lda_model = models.LdaModel(corpus, num_topics=num_topics, \\\n",
    "                                  id2word=dictionary_LDA, \\\n",
    "                                  passes=4, alpha=[0.01]*num_topics, \\\n",
    "                                  eta=[0.01]*len(dictionary_LDA.keys()))"
   ]
  },
  {
   "cell_type": "code",
   "execution_count": 105,
   "metadata": {},
   "outputs": [],
   "source": [
    "# Etape 4 : Visualisation des topics "
   ]
  },
  {
   "cell_type": "code",
   "execution_count": 147,
   "metadata": {},
   "outputs": [
    {
     "name": "stdout",
     "output_type": "stream",
     "text": [
      "0: 0.054*\"environnement\" + 0.020*\"articles\" + 0.016*\"informations_relatives\" + 0.016*\"éléments\" + 0.016*\"toute_personne\" + 0.015*\"état\" + 0.014*\"relations_entre\" + 0.013*\"dispositions\" + 0.011*\"ii\" + 0.009*\"suivants\"\n",
      "\n",
      "1: 0.032*\"maire\" + 0.030*\"toute_personne\" + 0.029*\"relations_entre\" + 0.026*\"fait\" + 0.023*\"commune\" + 0.021*\"communicables\" + 0.018*\"émet_donc\" + 0.017*\"général_collectivités\" + 0.014*\"territoriales\" + 0.014*\"point\"\n",
      "\n",
      "2: 0.022*\"électronique\" + 0.019*\"sous_forme\" + 0.018*\"communicables\" + 0.017*\"relations_entre\" + 0.016*\"sans\" + 0.013*\"demandeur\" + 0.012*\"document\" + 0.010*\"administratifs\" + 0.010*\"urbanisme\" + 0.009*\"courrier\"\n",
      "\n",
      "3: 0.013*\"informations\" + 0.013*\"dispositions\" + 0.008*\"patrimoine\" + 0.007*\"relations_entre\" + 0.007*\"relève\" + 0.007*\"données\" + 0.006*\"i\" + 0.006*\"si\" + 0.005*\"secret\" + 0.005*\"articles\"\n",
      "\n",
      "4: 0.042*\"avis\" + 0.040*\"réponse\" + 0.040*\"adressée\" + 0.036*\"informé\" + 0.034*\"relations_entre\" + 0.028*\"objet\" + 0.028*\"présent_avis\" + 0.026*\"courrier\" + 0.024*\"articles\" + 0.024*\"déclarer_sans\"\n",
      "\n",
      "5: 0.036*\"santé_publique\" + 0.029*\"professionnels_santé\" + 0.021*\"santé\" + 0.020*\"centre_hospitalier\" + 0.016*\"concernant\" + 0.016*\"médical\" + 0.016*\"prise_charge\" + 0.015*\"opposé_directeur\" + 0.014*\"effet\" + 0.014*\"toute_personne\"\n",
      "\n",
      "6: 0.050*\"sécurité_sociale\" + 0.041*\"assurance_maladie\" + 0.041*\"caisse\" + 0.041*\"dossier\" + 0.039*\"caisse_primaire\" + 0.030*\"cadre_instruction\" + 0.026*\"directeur_caisse\" + 0.024*\"opposé_directeur\" + 0.018*\"maladie\" + 0.018*\"dispositions\"\n",
      "\n",
      "7: 0.036*\"santé\" + 0.028*\"rapport_annuel\" + 0.022*\"agence_régionale\" + 0.020*\"année\" + 0.020*\"dispositions\" + 0.016*\"faire\" + 0.015*\"assemblées_parlementaires\" + 0.015*\"personnes\" + 0.014*\"décembre\" + 0.013*\"janvier\"\n",
      "\n",
      "8: 0.026*\"document\" + 0.018*\"rapport\" + 0.016*\"relations_entre\" + 0.014*\"décision\" + 0.014*\"conseil_départemental\" + 0.012*\"communicable\" + 0.011*\"président\" + 0.011*\"point\" + 0.011*\"avis\" + 0.010*\"suite\"\n",
      "\n",
      "9: 0.022*\"relations_entre\" + 0.018*\"service\" + 0.015*\"ainsi\" + 0.013*\"administratifs\" + 0.012*\"droit\" + 0.011*\"entre\" + 0.010*\"dispositions\" + 0.008*\"personnes\" + 0.008*\"personne\" + 0.008*\"loi\"\n",
      "\n",
      "10: 0.032*\"relations_entre\" + 0.017*\"avis\" + 0.015*\"administratifs\" + 0.014*\"suite\" + 0.013*\"droit\" + 0.013*\"fait_obligation\" + 0.012*\"premier_ministre\" + 0.011*\"pièces\" + 0.011*\"judiciaire\" + 0.011*\"courant\"\n",
      "\n",
      "11: 0.026*\"marché\" + 0.015*\"offre\" + 0.014*\"communicables\" + 0.013*\"relations_entre\" + 0.013*\"ainsi\" + 0.012*\"entreprise_attributaire\" + 0.011*\"secret_affaires\" + 0.011*\"mentions_relatives\" + 0.010*\"communicable\" + 0.010*\"comme\"\n",
      "\n",
      "12: 0.025*\"communicables\" + 0.024*\"personne\" + 0.018*\"mentions\" + 0.017*\"dossier\" + 0.016*\"sous_réserve\" + 0.016*\"préjudice\" + 0.015*\"estime\" + 0.015*\"porterait_atteinte\" + 0.014*\"sous_réserves\" + 0.013*\"intéressé\"\n",
      "\n",
      "13: 0.028*\"santé_publique\" + 0.028*\"droit\" + 0.017*\"dossier\" + 0.016*\"qualité\" + 0.015*\"médical\" + 0.012*\"dossier_médical\" + 0.010*\"demandeur\" + 0.010*\"dispositions\" + 0.010*\"espèce\" + 0.010*\"établissement\"\n",
      "\n",
      "14: 0.028*\"relations_entre\" + 0.010*\"ainsi\" + 0.010*\"fait\" + 0.009*\"cadre\" + 0.008*\"objet\" + 0.008*\"agent\" + 0.008*\"communicables\" + 0.007*\"agents\" + 0.007*\"loi\" + 0.007*\"comme\"\n",
      "\n"
     ]
    }
   ],
   "source": [
    "# avec 15 topics \n",
    "for i,topic in lda_model.show_topics(formatted=True, num_topics=num_topics, num_words=10):\n",
    "    print(str(i)+\": \"+ topic)\n",
    "    print()"
   ]
  },
  {
   "cell_type": "code",
   "execution_count": 148,
   "metadata": {},
   "outputs": [
    {
     "name": "stdout",
     "output_type": "stream",
     "text": [
      "[(3, 0.39996174), (8, 0.20867616), (9, 0.05495047), (12, 0.18364261), (13, 0.1484405)]\n"
     ]
    }
   ],
   "source": [
    "# Etape 5 : Attribution des topics aux documents \n",
    "# pour un document\n",
    "print(lda_model[corpus[0]])\n",
    "\n",
    "# pour tous les documents, on crée une colonne topic number \n",
    "df[\"topic_list\"] = [lda_model[i] for i in corpus]\n",
    "# la commande ci dessus nous permet, pour chaque document, d'obtenir une liste de topics avec les probabilités associées \n",
    "# que chaque document appartienne \n",
    "df[\"main_topic\"] = df[\"topic_list\"].map(lambda list_topic: list_topic[0][0])\n",
    "df[\"main_topic_proba\"] = df[\"topic_list\"].map(lambda list_topic: list_topic[0][1])"
   ]
  },
  {
   "cell_type": "code",
   "execution_count": 149,
   "metadata": {},
   "outputs": [
    {
     "data": {
      "text/html": [
       "<div>\n",
       "<style scoped>\n",
       "    .dataframe tbody tr th:only-of-type {\n",
       "        vertical-align: middle;\n",
       "    }\n",
       "\n",
       "    .dataframe tbody tr th {\n",
       "        vertical-align: top;\n",
       "    }\n",
       "\n",
       "    .dataframe thead th {\n",
       "        text-align: right;\n",
       "    }\n",
       "</style>\n",
       "<table border=\"1\" class=\"dataframe\">\n",
       "  <thead>\n",
       "    <tr style=\"text-align: right;\">\n",
       "      <th></th>\n",
       "      <th>Numéro de dossier</th>\n",
       "      <th>Administration</th>\n",
       "      <th>Type</th>\n",
       "      <th>Année</th>\n",
       "      <th>Séance</th>\n",
       "      <th>Objet</th>\n",
       "      <th>Thème et sous thème</th>\n",
       "      <th>Mots clés</th>\n",
       "      <th>Sens et motivation</th>\n",
       "      <th>Partie</th>\n",
       "      <th>...</th>\n",
       "      <th>avis_sent_token</th>\n",
       "      <th>avis_word_token</th>\n",
       "      <th>nb_sent_token</th>\n",
       "      <th>nb_word_token</th>\n",
       "      <th>nb_char</th>\n",
       "      <th>topic_number</th>\n",
       "      <th>topic_list</th>\n",
       "      <th>main_topic</th>\n",
       "      <th>main_topic_proba</th>\n",
       "      <th>nombre_documents</th>\n",
       "    </tr>\n",
       "  </thead>\n",
       "  <tbody>\n",
       "    <tr>\n",
       "      <td>0</td>\n",
       "      <td>19840002</td>\n",
       "      <td>ministre de la défense</td>\n",
       "      <td>Avis</td>\n",
       "      <td>1984</td>\n",
       "      <td>03/03/1984</td>\n",
       "      <td>[Voir avis]</td>\n",
       "      <td>Justice, Ordre Public Et Sécurité/Défense Et D...</td>\n",
       "      <td>Armée</td>\n",
       "      <td>Défavorable/Défense</td>\n",
       "      <td>III</td>\n",
       "      <td>...</td>\n",
       "      <td>[La commission d'accès aux documents administr...</td>\n",
       "      <td>[commission, accès, documents, administratifs,...</td>\n",
       "      <td>2</td>\n",
       "      <td>85</td>\n",
       "      <td>487</td>\n",
       "      <td>[(2, 0.2405408), (3, 0.21813786), (6, 0.267669...</td>\n",
       "      <td>[(3, 0.39998546), (8, 0.2086728), (9, 0.054950...</td>\n",
       "      <td>3</td>\n",
       "      <td>0.399985</td>\n",
       "      <td>1</td>\n",
       "    </tr>\n",
       "    <tr>\n",
       "      <td>1</td>\n",
       "      <td>19840003</td>\n",
       "      <td>ministre de la défense</td>\n",
       "      <td>Avis</td>\n",
       "      <td>1984</td>\n",
       "      <td>13/12/1984</td>\n",
       "      <td>[Voir avis]</td>\n",
       "      <td>Economie, Industrie, Agriculture/Secteurs Écon...</td>\n",
       "      <td>Armée</td>\n",
       "      <td>Irrecevable/Imprécise, Défavorable/Défense, In...</td>\n",
       "      <td>III</td>\n",
       "      <td>...</td>\n",
       "      <td>[La commission d'accès aux documents administr...</td>\n",
       "      <td>[commission, accès, documents, administratifs,...</td>\n",
       "      <td>5</td>\n",
       "      <td>166</td>\n",
       "      <td>958</td>\n",
       "      <td>[(1, 0.37916613), (3, 0.514167), (9, 0.1048719...</td>\n",
       "      <td>[(0, 0.06563173), (1, 0.06717406), (3, 0.43948...</td>\n",
       "      <td>0</td>\n",
       "      <td>0.065632</td>\n",
       "      <td>1</td>\n",
       "    </tr>\n",
       "    <tr>\n",
       "      <td>2</td>\n",
       "      <td>19850001</td>\n",
       "      <td>ministre de l'économie, des finances et du budget</td>\n",
       "      <td>Avis</td>\n",
       "      <td>1985</td>\n",
       "      <td>05/12/1985</td>\n",
       "      <td>[Voir avis]</td>\n",
       "      <td>Justice, Ordre Public Et Sécurité/Association,...</td>\n",
       "      <td>NaN</td>\n",
       "      <td>Défavorable</td>\n",
       "      <td>III</td>\n",
       "      <td>...</td>\n",
       "      <td>[La commission d'accès aux documents administr...</td>\n",
       "      <td>[commission, accès, documents, administratifs,...</td>\n",
       "      <td>3</td>\n",
       "      <td>135</td>\n",
       "      <td>787</td>\n",
       "      <td>[(0, 0.08384879), (1, 0.27281243), (3, 0.46044...</td>\n",
       "      <td>[(3, 0.2683253), (8, 0.2226971), (9, 0.1245112...</td>\n",
       "      <td>3</td>\n",
       "      <td>0.268325</td>\n",
       "      <td>1</td>\n",
       "    </tr>\n",
       "    <tr>\n",
       "      <td>3</td>\n",
       "      <td>19860001</td>\n",
       "      <td>directeur départemental du travail et de l'emp...</td>\n",
       "      <td>Conseil</td>\n",
       "      <td>1986</td>\n",
       "      <td>30/01/1986</td>\n",
       "      <td>(voir avis)</td>\n",
       "      <td>Travail Et Emploi/Droit Du Travail</td>\n",
       "      <td>Licenciement, Conditions de travail</td>\n",
       "      <td>Défavorable/Procédure, Sans objet</td>\n",
       "      <td>III</td>\n",
       "      <td>...</td>\n",
       "      <td>[La commission d'accès aux documents administr...</td>\n",
       "      <td>[commission, accès, documents, administratifs,...</td>\n",
       "      <td>3</td>\n",
       "      <td>88</td>\n",
       "      <td>532</td>\n",
       "      <td>[(1, 0.4382), (3, 0.5570809)]</td>\n",
       "      <td>[(8, 0.49311316), (10, 0.07508632), (14, 0.426...</td>\n",
       "      <td>8</td>\n",
       "      <td>0.493113</td>\n",
       "      <td>1</td>\n",
       "    </tr>\n",
       "    <tr>\n",
       "      <td>4</td>\n",
       "      <td>19870061</td>\n",
       "      <td>gouverneur de la Banque de France</td>\n",
       "      <td>Avis</td>\n",
       "      <td>1987</td>\n",
       "      <td>02/04/1987</td>\n",
       "      <td>[Voir avis]</td>\n",
       "      <td>Economie, Industrie, Agriculture/Secteurs Écon...</td>\n",
       "      <td>Banques et assurances</td>\n",
       "      <td>Défavorable/Sécurité publique, Favorable/Sauf ...</td>\n",
       "      <td>III</td>\n",
       "      <td>...</td>\n",
       "      <td>[La commission d'accès aux documents administr...</td>\n",
       "      <td>[commission, accès, documents, administratifs,...</td>\n",
       "      <td>6</td>\n",
       "      <td>332</td>\n",
       "      <td>1821</td>\n",
       "      <td>[(1, 0.27457714), (3, 0.20922416), (7, 0.13349...</td>\n",
       "      <td>[(3, 0.48792934), (7, 0.019602876), (8, 0.3766...</td>\n",
       "      <td>3</td>\n",
       "      <td>0.487929</td>\n",
       "      <td>1</td>\n",
       "    </tr>\n",
       "  </tbody>\n",
       "</table>\n",
       "<p>5 rows × 22 columns</p>\n",
       "</div>"
      ],
      "text/plain": [
       "   Numéro de dossier                                     Administration  \\\n",
       "0           19840002                             ministre de la défense   \n",
       "1           19840003                             ministre de la défense   \n",
       "2           19850001  ministre de l'économie, des finances et du budget   \n",
       "3           19860001  directeur départemental du travail et de l'emp...   \n",
       "4           19870061                  gouverneur de la Banque de France   \n",
       "\n",
       "      Type  Année      Séance        Objet  \\\n",
       "0     Avis   1984  03/03/1984  [Voir avis]   \n",
       "1     Avis   1984  13/12/1984  [Voir avis]   \n",
       "2     Avis   1985  05/12/1985  [Voir avis]   \n",
       "3  Conseil   1986  30/01/1986  (voir avis)   \n",
       "4     Avis   1987  02/04/1987  [Voir avis]   \n",
       "\n",
       "                                 Thème et sous thème  \\\n",
       "0  Justice, Ordre Public Et Sécurité/Défense Et D...   \n",
       "1  Economie, Industrie, Agriculture/Secteurs Écon...   \n",
       "2  Justice, Ordre Public Et Sécurité/Association,...   \n",
       "3                 Travail Et Emploi/Droit Du Travail   \n",
       "4  Economie, Industrie, Agriculture/Secteurs Écon...   \n",
       "\n",
       "                             Mots clés  \\\n",
       "0                                Armée   \n",
       "1                                Armée   \n",
       "2                                  NaN   \n",
       "3  Licenciement, Conditions de travail   \n",
       "4                Banques et assurances   \n",
       "\n",
       "                                  Sens et motivation Partie  ...  \\\n",
       "0                                Défavorable/Défense    III  ...   \n",
       "1  Irrecevable/Imprécise, Défavorable/Défense, In...    III  ...   \n",
       "2                                        Défavorable    III  ...   \n",
       "3                  Défavorable/Procédure, Sans objet    III  ...   \n",
       "4  Défavorable/Sécurité publique, Favorable/Sauf ...    III  ...   \n",
       "\n",
       "                                     avis_sent_token  \\\n",
       "0  [La commission d'accès aux documents administr...   \n",
       "1  [La commission d'accès aux documents administr...   \n",
       "2  [La commission d'accès aux documents administr...   \n",
       "3  [La commission d'accès aux documents administr...   \n",
       "4  [La commission d'accès aux documents administr...   \n",
       "\n",
       "                                     avis_word_token nb_sent_token  \\\n",
       "0  [commission, accès, documents, administratifs,...             2   \n",
       "1  [commission, accès, documents, administratifs,...             5   \n",
       "2  [commission, accès, documents, administratifs,...             3   \n",
       "3  [commission, accès, documents, administratifs,...             3   \n",
       "4  [commission, accès, documents, administratifs,...             6   \n",
       "\n",
       "  nb_word_token  nb_char                                       topic_number  \\\n",
       "0            85      487  [(2, 0.2405408), (3, 0.21813786), (6, 0.267669...   \n",
       "1           166      958  [(1, 0.37916613), (3, 0.514167), (9, 0.1048719...   \n",
       "2           135      787  [(0, 0.08384879), (1, 0.27281243), (3, 0.46044...   \n",
       "3            88      532                      [(1, 0.4382), (3, 0.5570809)]   \n",
       "4           332     1821  [(1, 0.27457714), (3, 0.20922416), (7, 0.13349...   \n",
       "\n",
       "                                          topic_list main_topic  \\\n",
       "0  [(3, 0.39998546), (8, 0.2086728), (9, 0.054950...          3   \n",
       "1  [(0, 0.06563173), (1, 0.06717406), (3, 0.43948...          0   \n",
       "2  [(3, 0.2683253), (8, 0.2226971), (9, 0.1245112...          3   \n",
       "3  [(8, 0.49311316), (10, 0.07508632), (14, 0.426...          8   \n",
       "4  [(3, 0.48792934), (7, 0.019602876), (8, 0.3766...          3   \n",
       "\n",
       "  main_topic_proba  nombre_documents  \n",
       "0         0.399985                 1  \n",
       "1         0.065632                 1  \n",
       "2         0.268325                 1  \n",
       "3         0.493113                 1  \n",
       "4         0.487929                 1  \n",
       "\n",
       "[5 rows x 22 columns]"
      ]
     },
     "execution_count": 149,
     "metadata": {},
     "output_type": "execute_result"
    }
   ],
   "source": [
    "df.head()"
   ]
  },
  {
   "cell_type": "code",
   "execution_count": 150,
   "metadata": {},
   "outputs": [],
   "source": [
    "df[\"nombre_documents\"] = 1\n",
    "df_topic = df.groupby(\"main_topic\").agg({\"nombre_documents\": sum}).reset_index()\n"
   ]
  },
  {
   "cell_type": "code",
   "execution_count": 153,
   "metadata": {},
   "outputs": [
    {
     "data": {
      "text/plain": [
       "main_topic          int64\n",
       "nombre_documents    int64\n",
       "dtype: object"
      ]
     },
     "execution_count": 153,
     "metadata": {},
     "output_type": "execute_result"
    }
   ],
   "source": [
    "df_topic.dtypes"
   ]
  },
  {
   "cell_type": "code",
   "execution_count": 156,
   "metadata": {},
   "outputs": [
    {
     "data": {
      "text/html": [
       "<div>\n",
       "<style scoped>\n",
       "    .dataframe tbody tr th:only-of-type {\n",
       "        vertical-align: middle;\n",
       "    }\n",
       "\n",
       "    .dataframe tbody tr th {\n",
       "        vertical-align: top;\n",
       "    }\n",
       "\n",
       "    .dataframe thead th {\n",
       "        text-align: right;\n",
       "    }\n",
       "</style>\n",
       "<table border=\"1\" class=\"dataframe\">\n",
       "  <thead>\n",
       "    <tr style=\"text-align: right;\">\n",
       "      <th></th>\n",
       "      <th>main_topic</th>\n",
       "      <th>nombre_documents</th>\n",
       "    </tr>\n",
       "  </thead>\n",
       "  <tbody>\n",
       "    <tr>\n",
       "      <td>13</td>\n",
       "      <td>13</td>\n",
       "      <td>5</td>\n",
       "    </tr>\n",
       "    <tr>\n",
       "      <td>11</td>\n",
       "      <td>11</td>\n",
       "      <td>32</td>\n",
       "    </tr>\n",
       "    <tr>\n",
       "      <td>10</td>\n",
       "      <td>10</td>\n",
       "      <td>60</td>\n",
       "    </tr>\n",
       "    <tr>\n",
       "      <td>9</td>\n",
       "      <td>9</td>\n",
       "      <td>83</td>\n",
       "    </tr>\n",
       "    <tr>\n",
       "      <td>12</td>\n",
       "      <td>12</td>\n",
       "      <td>143</td>\n",
       "    </tr>\n",
       "    <tr>\n",
       "      <td>7</td>\n",
       "      <td>7</td>\n",
       "      <td>161</td>\n",
       "    </tr>\n",
       "    <tr>\n",
       "      <td>8</td>\n",
       "      <td>8</td>\n",
       "      <td>567</td>\n",
       "    </tr>\n",
       "    <tr>\n",
       "      <td>5</td>\n",
       "      <td>5</td>\n",
       "      <td>572</td>\n",
       "    </tr>\n",
       "    <tr>\n",
       "      <td>6</td>\n",
       "      <td>6</td>\n",
       "      <td>934</td>\n",
       "    </tr>\n",
       "    <tr>\n",
       "      <td>2</td>\n",
       "      <td>2</td>\n",
       "      <td>1257</td>\n",
       "    </tr>\n",
       "    <tr>\n",
       "      <td>3</td>\n",
       "      <td>3</td>\n",
       "      <td>4727</td>\n",
       "    </tr>\n",
       "    <tr>\n",
       "      <td>4</td>\n",
       "      <td>4</td>\n",
       "      <td>5084</td>\n",
       "    </tr>\n",
       "    <tr>\n",
       "      <td>0</td>\n",
       "      <td>0</td>\n",
       "      <td>10567</td>\n",
       "    </tr>\n",
       "    <tr>\n",
       "      <td>1</td>\n",
       "      <td>1</td>\n",
       "      <td>14094</td>\n",
       "    </tr>\n",
       "  </tbody>\n",
       "</table>\n",
       "</div>"
      ],
      "text/plain": [
       "    main_topic  nombre_documents\n",
       "13          13                 5\n",
       "11          11                32\n",
       "10          10                60\n",
       "9            9                83\n",
       "12          12               143\n",
       "7            7               161\n",
       "8            8               567\n",
       "5            5               572\n",
       "6            6               934\n",
       "2            2              1257\n",
       "3            3              4727\n",
       "4            4              5084\n",
       "0            0             10567\n",
       "1            1             14094"
      ]
     },
     "execution_count": 156,
     "metadata": {},
     "output_type": "execute_result"
    }
   ],
   "source": [
    "df_topic.sort_values(by = \"nombre_documents\", ascending = \"False\", inplace = True)\n",
    "df_topic"
   ]
  },
  {
   "cell_type": "code",
   "execution_count": 108,
   "metadata": {},
   "outputs": [],
   "source": [
    "# Etape 6 : Eventuellement retour à l'étape 3 en testant différents paramètres \n"
   ]
  },
  {
   "cell_type": "code",
   "execution_count": 159,
   "metadata": {},
   "outputs": [
    {
     "name": "stderr",
     "output_type": "stream",
     "text": [
      "/Users/kimmontalibet/opt/anaconda3/lib/python3.7/site-packages/past/builtins/misc.py:4: DeprecationWarning: Using or importing the ABCs from 'collections' instead of from 'collections.abc' is deprecated, and in 3.8 it will stop working\n",
      "  from collections import Mapping\n"
     ]
    }
   ],
   "source": [
    "# Etape 7: visualisation des topics\n",
    "\n",
    "%matplotlib inline\n",
    "# !pip install pyLDAvis\n",
    "import pyLDAvis\n",
    "import pyLDAvis.gensim\n"
   ]
  },
  {
   "cell_type": "code",
   "execution_count": 160,
   "metadata": {},
   "outputs": [
    {
     "data": {
      "text/html": [
       "\n",
       "<link rel=\"stylesheet\" type=\"text/css\" href=\"https://cdn.rawgit.com/bmabey/pyLDAvis/files/ldavis.v1.0.0.css\">\n",
       "\n",
       "\n",
       "<div id=\"ldavis_el3333948395016483450523333\"></div>\n",
       "<script type=\"text/javascript\">\n",
       "\n",
       "var ldavis_el3333948395016483450523333_data = {\"mdsDat\": {\"x\": [0.10838855439481034, 0.0989974792406936, 0.05414010884498001, 0.05548331843815989, 0.05604029018675217, 0.0721824392915519, -0.09089435548199216, 0.1088457979384012, 0.07759698471651831, 0.056759968582744166, -0.1350862809970661, 0.036693658046659486, -0.2176392075109845, -0.3236055577825241, 0.042096802091296036], \"y\": [-0.12495127024767488, 0.07613627610291535, -0.09014082634779456, 0.2615226813618862, -0.11070715408821734, -0.057482333583794155, -0.04630340737402711, 0.138387186422699, -0.0816080570104236, 0.004902190179969349, -0.015052155409297252, 0.14466041718908362, 0.08679854767600617, -0.03526965887941943, -0.15089243599191132], \"topics\": [1, 2, 3, 4, 5, 6, 7, 8, 9, 10, 11, 12, 13, 14, 15], \"cluster\": [1, 1, 1, 1, 1, 1, 1, 1, 1, 1, 1, 1, 1, 1, 1], \"Freq\": [12.049032211303711, 11.182439804077148, 10.192031860351562, 9.479000091552734, 9.033205032348633, 8.731718063354492, 7.588881969451904, 7.003082275390625, 4.9715399742126465, 4.224431991577148, 4.149699687957764, 3.811628818511963, 2.8302597999572754, 2.489713191986084, 2.263338088989258]}, \"tinfo\": {\"Category\": [\"Default\", \"Default\", \"Default\", \"Default\", \"Default\", \"Default\", \"Default\", \"Default\", \"Default\", \"Default\", \"Default\", \"Default\", \"Default\", \"Default\", \"Default\", \"Default\", \"Default\", \"Default\", \"Default\", \"Default\", \"Default\", \"Default\", \"Default\", \"Default\", \"Default\", \"Default\", \"Default\", \"Default\", \"Default\", \"Default\", \"Topic1\", \"Topic1\", \"Topic1\", \"Topic1\", \"Topic1\", \"Topic1\", \"Topic1\", \"Topic1\", \"Topic1\", \"Topic1\", \"Topic1\", \"Topic1\", \"Topic1\", \"Topic1\", \"Topic1\", \"Topic1\", \"Topic1\", \"Topic1\", \"Topic1\", \"Topic1\", \"Topic1\", \"Topic1\", \"Topic1\", \"Topic1\", \"Topic1\", \"Topic1\", \"Topic1\", \"Topic1\", \"Topic1\", \"Topic1\", \"Topic1\", \"Topic1\", \"Topic1\", \"Topic1\", \"Topic1\", \"Topic1\", \"Topic1\", \"Topic1\", \"Topic1\", \"Topic1\", \"Topic1\", \"Topic1\", \"Topic1\", \"Topic1\", \"Topic1\", \"Topic1\", \"Topic1\", \"Topic1\", \"Topic1\", \"Topic1\", \"Topic1\", \"Topic1\", \"Topic1\", \"Topic1\", \"Topic1\", \"Topic1\", \"Topic1\", \"Topic1\", \"Topic1\", \"Topic1\", \"Topic1\", \"Topic1\", \"Topic1\", \"Topic1\", \"Topic1\", \"Topic1\", \"Topic1\", \"Topic1\", \"Topic1\", \"Topic1\", \"Topic1\", \"Topic1\", \"Topic1\", \"Topic1\", \"Topic1\", \"Topic1\", \"Topic1\", \"Topic2\", \"Topic2\", \"Topic2\", \"Topic2\", \"Topic2\", \"Topic2\", \"Topic2\", \"Topic2\", \"Topic2\", \"Topic2\", \"Topic2\", \"Topic2\", \"Topic2\", \"Topic2\", \"Topic2\", \"Topic2\", \"Topic2\", \"Topic2\", \"Topic2\", \"Topic2\", \"Topic2\", \"Topic2\", \"Topic2\", \"Topic2\", \"Topic2\", \"Topic2\", \"Topic2\", \"Topic2\", \"Topic2\", \"Topic2\", \"Topic2\", \"Topic2\", \"Topic2\", \"Topic2\", \"Topic2\", \"Topic2\", \"Topic2\", \"Topic2\", \"Topic2\", \"Topic2\", \"Topic2\", \"Topic2\", \"Topic2\", \"Topic2\", \"Topic2\", \"Topic2\", \"Topic2\", \"Topic2\", \"Topic2\", \"Topic2\", \"Topic2\", \"Topic2\", \"Topic2\", \"Topic2\", \"Topic2\", \"Topic2\", \"Topic2\", \"Topic2\", \"Topic2\", \"Topic2\", \"Topic2\", \"Topic2\", \"Topic2\", \"Topic2\", \"Topic2\", \"Topic2\", \"Topic2\", \"Topic2\", \"Topic2\", \"Topic2\", \"Topic2\", \"Topic2\", \"Topic3\", \"Topic3\", \"Topic3\", \"Topic3\", \"Topic3\", \"Topic3\", \"Topic3\", \"Topic3\", \"Topic3\", \"Topic3\", \"Topic3\", \"Topic3\", \"Topic3\", \"Topic3\", \"Topic3\", \"Topic3\", \"Topic3\", \"Topic3\", \"Topic3\", \"Topic3\", \"Topic3\", \"Topic3\", \"Topic3\", \"Topic3\", \"Topic3\", \"Topic3\", \"Topic3\", \"Topic3\", \"Topic3\", \"Topic3\", \"Topic3\", \"Topic3\", \"Topic3\", \"Topic3\", \"Topic3\", \"Topic3\", \"Topic3\", \"Topic3\", \"Topic3\", \"Topic3\", \"Topic3\", \"Topic3\", \"Topic3\", \"Topic3\", \"Topic3\", \"Topic3\", \"Topic3\", \"Topic3\", \"Topic3\", \"Topic3\", \"Topic3\", \"Topic3\", \"Topic3\", \"Topic3\", \"Topic3\", \"Topic3\", \"Topic3\", \"Topic3\", \"Topic3\", \"Topic3\", \"Topic3\", \"Topic3\", \"Topic3\", \"Topic3\", \"Topic3\", \"Topic3\", \"Topic3\", \"Topic3\", \"Topic3\", \"Topic3\", \"Topic3\", \"Topic3\", \"Topic3\", \"Topic3\", \"Topic3\", \"Topic3\", \"Topic3\", \"Topic3\", \"Topic3\", \"Topic3\", \"Topic3\", \"Topic3\", \"Topic3\", \"Topic4\", \"Topic4\", \"Topic4\", \"Topic4\", \"Topic4\", \"Topic4\", \"Topic4\", \"Topic4\", \"Topic4\", \"Topic4\", \"Topic4\", \"Topic4\", \"Topic4\", \"Topic4\", \"Topic4\", \"Topic4\", \"Topic4\", \"Topic4\", \"Topic4\", \"Topic4\", \"Topic4\", \"Topic4\", \"Topic4\", \"Topic4\", \"Topic4\", \"Topic4\", \"Topic4\", \"Topic4\", \"Topic4\", \"Topic4\", \"Topic4\", \"Topic4\", \"Topic4\", \"Topic4\", \"Topic4\", \"Topic4\", \"Topic4\", \"Topic4\", \"Topic4\", \"Topic4\", \"Topic4\", \"Topic4\", \"Topic4\", \"Topic4\", \"Topic4\", \"Topic4\", \"Topic4\", \"Topic4\", \"Topic4\", \"Topic4\", \"Topic4\", \"Topic4\", \"Topic4\", \"Topic4\", \"Topic4\", \"Topic4\", \"Topic4\", \"Topic4\", \"Topic4\", \"Topic4\", \"Topic4\", \"Topic4\", \"Topic4\", \"Topic4\", \"Topic4\", \"Topic4\", \"Topic4\", \"Topic4\", \"Topic4\", \"Topic4\", \"Topic4\", \"Topic4\", \"Topic4\", \"Topic4\", \"Topic4\", \"Topic4\", \"Topic4\", \"Topic4\", \"Topic4\", \"Topic4\", \"Topic5\", \"Topic5\", \"Topic5\", \"Topic5\", \"Topic5\", \"Topic5\", \"Topic5\", \"Topic5\", \"Topic5\", \"Topic5\", \"Topic5\", \"Topic5\", \"Topic5\", \"Topic5\", \"Topic5\", \"Topic5\", \"Topic5\", \"Topic5\", \"Topic5\", \"Topic5\", \"Topic5\", \"Topic5\", \"Topic5\", \"Topic5\", \"Topic5\", \"Topic5\", \"Topic5\", \"Topic5\", \"Topic5\", \"Topic5\", \"Topic5\", \"Topic5\", \"Topic5\", \"Topic5\", \"Topic5\", \"Topic5\", \"Topic5\", \"Topic5\", \"Topic5\", \"Topic5\", \"Topic5\", \"Topic5\", \"Topic5\", \"Topic5\", \"Topic5\", \"Topic5\", \"Topic5\", \"Topic5\", \"Topic5\", \"Topic5\", \"Topic5\", \"Topic5\", \"Topic5\", \"Topic5\", \"Topic5\", \"Topic6\", \"Topic6\", \"Topic6\", \"Topic6\", \"Topic6\", \"Topic6\", \"Topic6\", \"Topic6\", \"Topic6\", \"Topic6\", \"Topic6\", \"Topic6\", \"Topic6\", \"Topic6\", \"Topic6\", \"Topic6\", \"Topic6\", \"Topic6\", \"Topic6\", \"Topic6\", \"Topic6\", \"Topic6\", \"Topic6\", \"Topic6\", \"Topic6\", \"Topic6\", \"Topic6\", \"Topic6\", \"Topic6\", \"Topic6\", \"Topic6\", \"Topic6\", \"Topic6\", \"Topic6\", \"Topic6\", \"Topic6\", \"Topic6\", \"Topic6\", \"Topic6\", \"Topic6\", \"Topic6\", \"Topic6\", \"Topic6\", \"Topic6\", \"Topic6\", \"Topic6\", \"Topic6\", \"Topic6\", \"Topic6\", \"Topic6\", \"Topic6\", \"Topic6\", \"Topic6\", \"Topic6\", \"Topic6\", \"Topic6\", \"Topic6\", \"Topic6\", \"Topic6\", \"Topic6\", \"Topic6\", \"Topic6\", \"Topic6\", \"Topic6\", \"Topic6\", \"Topic6\", \"Topic6\", \"Topic6\", \"Topic6\", \"Topic6\", \"Topic6\", \"Topic6\", \"Topic6\", \"Topic6\", \"Topic6\", \"Topic6\", \"Topic7\", \"Topic7\", \"Topic7\", \"Topic7\", \"Topic7\", \"Topic7\", \"Topic7\", \"Topic7\", \"Topic7\", \"Topic7\", \"Topic7\", \"Topic7\", \"Topic7\", \"Topic7\", \"Topic7\", \"Topic7\", \"Topic7\", \"Topic7\", \"Topic7\", \"Topic7\", \"Topic7\", \"Topic7\", \"Topic7\", \"Topic7\", \"Topic7\", \"Topic7\", \"Topic7\", \"Topic7\", \"Topic7\", \"Topic7\", \"Topic7\", \"Topic7\", \"Topic7\", \"Topic7\", \"Topic7\", \"Topic7\", \"Topic7\", \"Topic7\", \"Topic7\", \"Topic7\", \"Topic7\", \"Topic7\", \"Topic7\", \"Topic7\", \"Topic7\", \"Topic7\", \"Topic7\", \"Topic7\", \"Topic7\", \"Topic7\", \"Topic7\", \"Topic7\", \"Topic7\", \"Topic7\", \"Topic7\", \"Topic7\", \"Topic7\", \"Topic7\", \"Topic7\", \"Topic7\", \"Topic7\", \"Topic7\", \"Topic7\", \"Topic7\", \"Topic7\", \"Topic7\", \"Topic7\", \"Topic7\", \"Topic7\", \"Topic7\", \"Topic7\", \"Topic8\", \"Topic8\", \"Topic8\", \"Topic8\", \"Topic8\", \"Topic8\", \"Topic8\", \"Topic8\", \"Topic8\", \"Topic8\", \"Topic8\", \"Topic8\", \"Topic8\", \"Topic8\", \"Topic8\", \"Topic8\", \"Topic8\", \"Topic8\", \"Topic8\", \"Topic8\", \"Topic8\", \"Topic8\", \"Topic8\", \"Topic8\", \"Topic8\", \"Topic8\", \"Topic8\", \"Topic8\", \"Topic8\", \"Topic8\", \"Topic8\", \"Topic8\", \"Topic8\", \"Topic8\", \"Topic8\", \"Topic8\", \"Topic8\", \"Topic8\", \"Topic8\", \"Topic8\", \"Topic8\", \"Topic8\", \"Topic8\", \"Topic8\", \"Topic8\", \"Topic8\", \"Topic8\", \"Topic8\", \"Topic8\", \"Topic8\", \"Topic8\", \"Topic8\", \"Topic8\", \"Topic8\", \"Topic8\", \"Topic8\", \"Topic8\", \"Topic8\", \"Topic8\", \"Topic8\", \"Topic8\", \"Topic8\", \"Topic8\", \"Topic8\", \"Topic8\", \"Topic8\", \"Topic8\", \"Topic8\", \"Topic8\", \"Topic8\", \"Topic8\", \"Topic8\", \"Topic8\", \"Topic8\", \"Topic8\", \"Topic8\", \"Topic8\", \"Topic8\", \"Topic8\", \"Topic8\", \"Topic8\", \"Topic8\", \"Topic8\", \"Topic8\", \"Topic9\", \"Topic9\", \"Topic9\", \"Topic9\", \"Topic9\", \"Topic9\", \"Topic9\", \"Topic9\", \"Topic9\", \"Topic9\", \"Topic9\", \"Topic9\", \"Topic9\", \"Topic9\", \"Topic9\", \"Topic9\", \"Topic9\", \"Topic9\", \"Topic9\", \"Topic9\", \"Topic9\", \"Topic9\", \"Topic9\", \"Topic9\", \"Topic9\", \"Topic9\", \"Topic9\", \"Topic9\", \"Topic9\", \"Topic9\", \"Topic9\", \"Topic9\", \"Topic9\", \"Topic9\", \"Topic9\", \"Topic9\", \"Topic9\", \"Topic9\", \"Topic9\", \"Topic9\", \"Topic9\", \"Topic9\", \"Topic9\", \"Topic9\", \"Topic9\", \"Topic9\", \"Topic9\", \"Topic9\", \"Topic9\", \"Topic9\", \"Topic9\", \"Topic9\", \"Topic9\", \"Topic9\", \"Topic9\", \"Topic9\", \"Topic9\", \"Topic9\", \"Topic9\", \"Topic9\", \"Topic9\", \"Topic9\", \"Topic10\", \"Topic10\", \"Topic10\", \"Topic10\", \"Topic10\", \"Topic10\", \"Topic10\", \"Topic10\", \"Topic10\", \"Topic10\", \"Topic10\", \"Topic10\", \"Topic10\", \"Topic10\", \"Topic10\", \"Topic10\", \"Topic10\", \"Topic10\", \"Topic10\", \"Topic10\", \"Topic10\", \"Topic10\", \"Topic10\", \"Topic10\", \"Topic10\", \"Topic10\", \"Topic10\", \"Topic10\", \"Topic10\", \"Topic10\", \"Topic10\", \"Topic10\", \"Topic10\", \"Topic10\", \"Topic10\", \"Topic10\", \"Topic10\", \"Topic10\", \"Topic10\", \"Topic10\", \"Topic10\", \"Topic10\", \"Topic10\", \"Topic10\", \"Topic10\", \"Topic10\", \"Topic10\", \"Topic10\", \"Topic10\", \"Topic10\", \"Topic10\", \"Topic10\", \"Topic10\", \"Topic10\", \"Topic10\", \"Topic10\", \"Topic11\", \"Topic11\", \"Topic11\", \"Topic11\", \"Topic11\", \"Topic11\", \"Topic11\", \"Topic11\", \"Topic11\", \"Topic11\", \"Topic11\", \"Topic11\", \"Topic11\", \"Topic11\", \"Topic11\", \"Topic11\", \"Topic11\", \"Topic11\", \"Topic11\", \"Topic11\", \"Topic11\", \"Topic11\", \"Topic11\", \"Topic11\", \"Topic11\", \"Topic11\", \"Topic11\", \"Topic11\", \"Topic11\", \"Topic11\", \"Topic11\", \"Topic11\", \"Topic11\", \"Topic11\", \"Topic11\", \"Topic11\", \"Topic11\", \"Topic11\", \"Topic11\", \"Topic11\", \"Topic11\", \"Topic11\", \"Topic11\", \"Topic11\", \"Topic11\", \"Topic11\", \"Topic11\", \"Topic11\", \"Topic11\", \"Topic11\", \"Topic11\", \"Topic11\", \"Topic11\", \"Topic11\", \"Topic11\", \"Topic11\", \"Topic11\", \"Topic11\", \"Topic11\", \"Topic11\", \"Topic11\", \"Topic11\", \"Topic11\", \"Topic12\", \"Topic12\", \"Topic12\", \"Topic12\", \"Topic12\", \"Topic12\", \"Topic12\", \"Topic12\", \"Topic12\", \"Topic12\", \"Topic12\", \"Topic12\", \"Topic12\", \"Topic12\", \"Topic12\", \"Topic12\", \"Topic12\", \"Topic12\", \"Topic12\", \"Topic12\", \"Topic12\", \"Topic12\", \"Topic12\", \"Topic12\", \"Topic12\", \"Topic12\", \"Topic12\", \"Topic12\", \"Topic12\", \"Topic12\", \"Topic12\", \"Topic12\", \"Topic12\", \"Topic12\", \"Topic12\", \"Topic12\", \"Topic12\", \"Topic12\", \"Topic12\", \"Topic12\", \"Topic12\", \"Topic12\", \"Topic12\", \"Topic12\", \"Topic12\", \"Topic12\", \"Topic12\", \"Topic12\", \"Topic12\", \"Topic12\", \"Topic12\", \"Topic12\", \"Topic12\", \"Topic12\", \"Topic12\", \"Topic12\", \"Topic12\", \"Topic12\", \"Topic12\", \"Topic12\", \"Topic12\", \"Topic12\", \"Topic12\", \"Topic12\", \"Topic12\", \"Topic12\", \"Topic12\", \"Topic12\", \"Topic13\", \"Topic13\", \"Topic13\", \"Topic13\", \"Topic13\", \"Topic13\", \"Topic13\", \"Topic13\", \"Topic13\", \"Topic13\", \"Topic13\", \"Topic13\", \"Topic13\", \"Topic13\", \"Topic13\", \"Topic13\", \"Topic13\", \"Topic13\", \"Topic13\", \"Topic13\", \"Topic13\", \"Topic13\", \"Topic13\", \"Topic13\", \"Topic13\", \"Topic13\", \"Topic13\", \"Topic13\", \"Topic13\", \"Topic13\", \"Topic13\", \"Topic13\", \"Topic13\", \"Topic13\", \"Topic13\", \"Topic13\", \"Topic13\", \"Topic13\", \"Topic13\", \"Topic13\", \"Topic13\", \"Topic13\", \"Topic13\", \"Topic13\", \"Topic13\", \"Topic13\", \"Topic13\", \"Topic13\", \"Topic13\", \"Topic13\", \"Topic13\", \"Topic13\", \"Topic13\", \"Topic13\", \"Topic13\", \"Topic14\", \"Topic14\", \"Topic14\", \"Topic14\", \"Topic14\", \"Topic14\", \"Topic14\", \"Topic14\", \"Topic14\", \"Topic14\", \"Topic14\", \"Topic14\", \"Topic14\", \"Topic14\", \"Topic14\", \"Topic14\", \"Topic14\", \"Topic14\", \"Topic14\", \"Topic14\", \"Topic14\", \"Topic14\", \"Topic14\", \"Topic14\", \"Topic14\", \"Topic14\", \"Topic14\", \"Topic14\", \"Topic14\", \"Topic14\", \"Topic14\", \"Topic14\", \"Topic14\", \"Topic14\", \"Topic14\", \"Topic14\", \"Topic14\", \"Topic14\", \"Topic14\", \"Topic14\", \"Topic14\", \"Topic14\", \"Topic14\", \"Topic14\", \"Topic14\", \"Topic14\", \"Topic14\", \"Topic14\", \"Topic14\", \"Topic14\", \"Topic14\", \"Topic14\", \"Topic14\", \"Topic14\", \"Topic14\", \"Topic14\", \"Topic14\", \"Topic14\", \"Topic14\", \"Topic14\", \"Topic14\", \"Topic14\", \"Topic14\", \"Topic15\", \"Topic15\", \"Topic15\", \"Topic15\", \"Topic15\", \"Topic15\", \"Topic15\", \"Topic15\", \"Topic15\", \"Topic15\", \"Topic15\", \"Topic15\", \"Topic15\", \"Topic15\", \"Topic15\", \"Topic15\", \"Topic15\", \"Topic15\", \"Topic15\", \"Topic15\", \"Topic15\", \"Topic15\", \"Topic15\", \"Topic15\", \"Topic15\", \"Topic15\", \"Topic15\", \"Topic15\", \"Topic15\", \"Topic15\", \"Topic15\", \"Topic15\", \"Topic15\", \"Topic15\", \"Topic15\", \"Topic15\", \"Topic15\", \"Topic15\", \"Topic15\", \"Topic15\", \"Topic15\", \"Topic15\", \"Topic15\", \"Topic15\", \"Topic15\", \"Topic15\", \"Topic15\", \"Topic15\", \"Topic15\", \"Topic15\", \"Topic15\", \"Topic15\", \"Topic15\", \"Topic15\", \"Topic15\", \"Topic15\", \"Topic15\", \"Topic15\", \"Topic15\"], \"Freq\": [11837.0, 15888.0, 21728.0, 19450.0, 21896.0, 28898.0, 9063.0, 9908.0, 25122.0, 23876.0, 74572.0, 35324.0, 9442.0, 28103.0, 14509.0, 26267.0, 7807.0, 14883.0, 5135.0, 13067.0, 17119.0, 11504.0, 8064.0, 4254.0, 4250.0, 17673.0, 8910.0, 23077.0, 20461.0, 4020.0, 3097.731689453125, 1743.9658203125, 1221.399658203125, 1076.1370849609375, 967.0995483398438, 929.2469482421875, 927.2200927734375, 919.5189819335938, 911.336669921875, 910.7677001953125, 896.1798095703125, 700.9492797851562, 578.270263671875, 539.2833251953125, 524.9788818359375, 418.1031494140625, 413.4169616699219, 409.36370849609375, 402.3719482421875, 379.6555480957031, 1636.8485107421875, 452.4918212890625, 328.4483947753906, 315.3966064453125, 294.7357177734375, 294.3359680175781, 254.1256561279297, 250.6875, 240.71827697753906, 236.93597412109375, 1444.87255859375, 584.3036499023438, 355.078369140625, 357.4883117675781, 357.0437316894531, 729.3900146484375, 1237.73974609375, 675.6228637695312, 771.8211059570312, 769.8477783203125, 740.6900024414062, 1354.4718017578125, 2947.338623046875, 1310.9947509765625, 860.4125366210938, 1266.4879150390625, 1226.7337646484375, 2630.14013671875, 3027.84814453125, 2777.76611328125, 9269.591796875, 2411.872314453125, 5396.5625, 3394.014892578125, 1481.3701171875, 2935.281982421875, 1649.4580078125, 2415.566650390625, 4093.13818359375, 7462.40771484375, 6698.19140625, 3420.7705078125, 11225.85546875, 6264.46240234375, 3388.71630859375, 3961.807861328125, 2877.140625, 4072.96875, 4948.2802734375, 3755.51123046875, 2161.50732421875, 3504.00244140625, 3629.33447265625, 2571.01171875, 2239.991455078125, 2208.98583984375, 2166.47021484375, 1738.1744384765625, 1160.529052734375, 1082.311279296875, 1040.0638427734375, 1037.5560302734375, 1035.966796875, 1021.8574829101562, 975.63671875, 969.2860717773438, 952.3485717773438, 919.878662109375, 893.1679077148438, 667.5038452148438, 462.2129821777344, 447.30377197265625, 425.4288635253906, 354.0677490234375, 345.8982849121094, 327.7586669921875, 326.8455505371094, 326.5423889160156, 268.6058349609375, 265.15093994140625, 202.5569305419922, 201.80755615234375, 200.1927490234375, 196.4554443359375, 199.84169006347656, 234.95111083984375, 259.6962890625, 2184.790283203125, 4635.21826171875, 7898.1591796875, 505.4384460449219, 1135.01123046875, 5266.52587890625, 6740.11279296875, 2610.100341796875, 10871.72265625, 5684.32568359375, 721.5709838867188, 3255.294677734375, 14910.2412109375, 903.65234375, 2176.82763671875, 13926.1533203125, 2683.23388671875, 1055.775146484375, 1124.93896484375, 12088.5703125, 8254.24609375, 4003.07275390625, 6337.09423828125, 4808.1123046875, 9729.5830078125, 2414.800048828125, 13537.765625, 4468.76513671875, 6198.68505859375, 4616.4423828125, 2960.92919921875, 1597.06005859375, 1767.64208984375, 5137.9970703125, 4039.367431640625, 2320.984619140625, 4417.61376953125, 3739.410400390625, 3384.628662109375, 3585.617431640625, 2616.43505859375, 2466.383544921875, 853.2576904296875, 868.6600341796875, 835.2227783203125, 774.7037353515625, 707.0388793945312, 668.3977661132812, 653.0968017578125, 641.6943359375, 614.95068359375, 606.5072631835938, 585.3723754882812, 565.1944580078125, 674.0830078125, 529.646240234375, 517.9806518554688, 519.2992553710938, 478.5558776855469, 485.6641845703125, 463.8040771484375, 463.4554138183594, 459.2770690917969, 431.7515869140625, 692.4677734375, 423.99847412109375, 396.54620361328125, 393.8850402832031, 392.458740234375, 389.7388916015625, 388.3563537597656, 383.58355712890625, 721.3564453125, 707.0517578125, 706.9955444335938, 702.5182495117188, 689.4244995117188, 506.35906982421875, 918.0709228515625, 1434.891357421875, 3177.257568359375, 815.3575439453125, 491.6739501953125, 743.2337036132812, 1069.3414306640625, 890.43994140625, 3462.4765625, 2778.505615234375, 2051.064453125, 1380.927734375, 1764.1231689453125, 2526.9404296875, 2352.8916015625, 820.1793212890625, 12085.5185546875, 2126.6630859375, 3712.523681640625, 1610.4180908203125, 3164.30859375, 3145.125732421875, 1454.3731689453125, 1429.7384033203125, 4308.3525390625, 4118.603515625, 1283.5245361328125, 3481.842529296875, 1036.64111328125, 1983.99560546875, 2391.20947265625, 1648.7318115234375, 2370.67333984375, 1655.6788330078125, 3297.12890625, 2540.759765625, 2299.905029296875, 1648.03125, 2466.385498046875, 2636.100341796875, 2329.119873046875, 2079.377685546875, 2184.729736328125, 2132.313720703125, 2041.6090087890625, 2061.6162109375, 1906.839599609375, 9442.2333984375, 1007.15380859375, 298.0890808105469, 230.83230590820312, 227.19921875, 177.94761657714844, 172.41204833984375, 171.8172149658203, 162.7357940673828, 161.5829315185547, 151.91993713378906, 150.18551635742188, 136.3286895751953, 133.29054260253906, 124.96475982666016, 118.08867645263672, 117.60411071777344, 112.35079193115234, 110.9339828491211, 103.06842803955078, 97.33802795410156, 93.58547973632812, 88.71939849853516, 87.02495574951172, 82.99744415283203, 77.47594451904297, 76.87220764160156, 74.08033752441406, 72.20332336425781, 71.05528259277344, 176.33984375, 94.26419830322266, 14201.4609375, 140.47854614257812, 2534.05712890625, 15595.0537109375, 11111.5263671875, 498.0563659667969, 172.98568725585938, 470.6742858886719, 2871.293701171875, 15637.4658203125, 10068.6787109375, 6388.2041015625, 16508.994140625, 224.84426879882812, 219.13568115234375, 7757.2333984375, 729.8424072265625, 11176.6484375, 1475.7786865234375, 1365.3807373046875, 5969.47802734375, 1460.8468017578125, 1449.448486328125, 2093.26171875, 1632.9473876953125, 7075.70361328125, 1131.036376953125, 595.0244140625, 442.7593688964844, 9558.525390625, 4089.580078125, 3190.672119140625, 2377.673828125, 3444.104248046875, 3492.249755859375, 5036.537109375, 13227.2509765625, 3001.823974609375, 3894.162841796875, 3069.8994140625, 5109.72265625, 3058.361083984375, 3423.74365234375, 3376.26025390625, 3061.961181640625, 3900.260009765625, 3506.005126953125, 3056.932861328125, 9908.2509765625, 5719.744140625, 4398.87109375, 3182.9052734375, 2863.042236328125, 2500.962890625, 2366.997314453125, 2316.18896484375, 2264.026611328125, 2176.266845703125, 2122.377197265625, 2094.15087890625, 2092.35498046875, 2065.97021484375, 2055.45556640625, 2050.472412109375, 2052.21630859375, 2039.3883056640625, 2037.657470703125, 2038.9876708984375, 2025.5653076171875, 1986.346435546875, 1971.3616943359375, 1868.2125244140625, 1844.065185546875, 1832.8145751953125, 1703.196533203125, 1682.114013671875, 1662.9697265625, 1639.638916015625, 2261.523681640625, 2246.175537109375, 2464.487548828125, 2102.54638671875, 4000.75634765625, 2071.447509765625, 4225.6787109375, 3617.25341796875, 2753.8642578125, 3713.59765625, 2610.951416015625, 2259.779296875, 5323.23583984375, 3762.903564453125, 4735.07470703125, 2844.986572265625, 3819.27197265625, 4987.01171875, 3430.571044921875, 2450.531494140625, 2297.40673828125, 2329.51513671875, 2332.490966796875, 2337.161865234375, 2305.683349609375, 2787.4501953125, 1000.7671508789062, 926.3092041015625, 757.6680297851562, 752.3809814453125, 621.1372680664062, 600.5918579101562, 585.4813232421875, 519.18798828125, 480.1829833984375, 324.2351379394531, 318.3119812011719, 315.9827575683594, 309.22979736328125, 527.716552734375, 293.62774658203125, 287.63958740234375, 286.9013366699219, 285.6006774902344, 284.2069091796875, 232.81568908691406, 221.0065155029297, 207.47608947753906, 204.72935485839844, 205.827880859375, 190.83709716796875, 183.99676513671875, 181.2519989013672, 179.99925231933594, 171.03073120117188, 1491.32470703125, 781.3394165039062, 763.1475830078125, 1409.015869140625, 272.842041015625, 507.14764404296875, 252.87892150878906, 280.9029235839844, 1299.4251708984375, 834.3139038085938, 1312.1180419921875, 1142.5767822265625, 560.873046875, 2436.31982421875, 2134.71875, 1004.8945922851562, 1473.74365234375, 783.4624633789062, 546.712646484375, 4874.57275390625, 1109.080322265625, 576.884765625, 1281.326416015625, 856.3340454101562, 2538.823486328125, 4567.3095703125, 1996.2452392578125, 1691.583984375, 1508.66552734375, 1755.227294921875, 1218.9100341796875, 2050.62109375, 1167.814208984375, 1676.614990234375, 1609.1793212890625, 1251.5599365234375, 1765.0355224609375, 1344.682861328125, 2626.681396484375, 1992.5411376953125, 1716.641845703125, 1785.435546875, 1489.3682861328125, 1358.349853515625, 1378.3990478515625, 1256.1319580078125, 4004.469482421875, 3600.036376953125, 2873.48046875, 1732.2354736328125, 1569.5103759765625, 1323.8775634765625, 1022.7660522460938, 738.9144897460938, 662.671875, 548.2103881835938, 546.90283203125, 481.6927795410156, 474.5708312988281, 409.93536376953125, 403.2704162597656, 344.1787414550781, 327.6822204589844, 326.46917724609375, 273.9394836425781, 256.2095642089844, 231.43675231933594, 226.6187744140625, 221.38290405273438, 207.5503387451172, 205.87013244628906, 204.22666931152344, 200.8941192626953, 185.98606872558594, 181.6508026123047, 162.5779571533203, 4974.43359375, 1504.313720703125, 3258.186767578125, 2716.410400390625, 1633.6864013671875, 666.8727416992188, 1162.37353515625, 830.3331909179688, 414.1295166015625, 751.6100463867188, 520.9771118164062, 4659.7109375, 648.0407104492188, 5790.76220703125, 2077.02880859375, 1906.4425048828125, 3699.077392578125, 3809.6240234375, 7551.5166015625, 4380.57666015625, 4232.5703125, 1948.939697265625, 822.1217651367188, 8024.59814453125, 5461.38623046875, 5033.58642578125, 3562.446044921875, 4166.91357421875, 4715.81201171875, 3915.435302734375, 4187.26611328125, 3448.123779296875, 2830.98779296875, 2687.164794921875, 2478.253173828125, 3053.28369140625, 2266.1171875, 2416.670654296875, 2314.02099609375, 2381.435546875, 2280.821533203125, 631.0360717773438, 369.16058349609375, 347.631591796875, 342.0882873535156, 294.7254333496094, 288.6416015625, 273.6477966308594, 262.4944152832031, 250.46957397460938, 218.8939666748047, 212.5688934326172, 209.87425231933594, 209.7546844482422, 207.59579467773438, 190.62130737304688, 188.84181213378906, 179.82369995117188, 178.5815887451172, 174.9652099609375, 169.5723114013672, 167.58963012695312, 158.98533630371094, 158.91456604003906, 158.49559020996094, 155.19430541992188, 142.6317138671875, 132.3016815185547, 127.36872863769531, 124.48340606689453, 122.92512512207031, 465.1524658203125, 4051.216552734375, 477.7760009765625, 241.8950958251953, 303.3191833496094, 321.7601318359375, 388.675048828125, 290.5375061035156, 190.0452423095703, 454.24200439453125, 1464.0615234375, 257.6063537597656, 1291.9327392578125, 578.2825927734375, 5134.9130859375, 2774.620849609375, 7629.064453125, 379.35260009765625, 1092.41455078125, 2674.140380859375, 4113.95263671875, 1269.462646484375, 709.3883666992188, 1635.952880859375, 3211.451904296875, 1357.5390625, 836.7378540039062, 844.7772827148438, 1282.61572265625, 550.2999877929688, 3058.2060546875, 1587.732421875, 1403.2747802734375, 1463.206787109375, 3495.498291015625, 1284.413330078125, 1091.84375, 3102.74072265625, 1600.0135498046875, 2200.039306640625, 1458.9560546875, 3004.50537109375, 4713.32568359375, 3070.654052734375, 2662.8232421875, 1464.070556640625, 2521.89990234375, 2157.451171875, 1677.7236328125, 1850.495361328125, 1784.4434814453125, 1644.963623046875, 1501.879638671875, 1476.629150390625, 1121.0404052734375, 1117.672119140625, 1098.5216064453125, 1045.0030517578125, 1042.03515625, 956.7222290039062, 954.7150268554688, 850.7579345703125, 848.917236328125, 788.6494750976562, 788.6494750976562, 799.676513671875, 800.39306640625, 682.4071044921875, 651.8363037109375, 617.7853393554688, 556.792724609375, 554.8505859375, 546.8767700195312, 545.0199584960938, 541.6207885742188, 537.324462890625, 537.1556396484375, 537.324462890625, 537.324462890625, 537.324462890625, 521.5175170898438, 436.1556701660156, 431.89410400390625, 408.3544921875, 11173.33984375, 1129.0181884765625, 807.1504516601562, 3402.984375, 828.0894165039062, 1081.685546875, 791.4769897460938, 1137.419921875, 3390.38525390625, 589.7731323242188, 2349.521728515625, 1485.5115966796875, 3034.095703125, 4089.18408203125, 3336.172607421875, 1688.4354248046875, 1401.8223876953125, 2793.561767578125, 1068.33984375, 1791.837158203125, 1878.074462890625, 2839.154296875, 1779.86865234375, 1850.748779296875, 1825.0634765625, 1691.7978515625, 1374.13720703125, 1464.208984375, 1453.2489013671875, 1181.93212890625, 1112.8314208984375, 1091.3282470703125, 1376.3466796875, 1360.5203857421875, 1350.8748779296875, 1336.2586669921875, 1323.765625, 1297.3228759765625, 1266.0179443359375, 1251.486328125, 1241.32421875, 1237.4228515625, 1236.9705810546875, 1235.1263427734375, 1212.78466796875, 1186.0860595703125, 1148.0224609375, 942.3671875, 740.100830078125, 737.149169921875, 709.3572998046875, 599.3082275390625, 560.9481201171875, 547.8964233398438, 513.1864624023438, 504.8996887207031, 504.44683837890625, 503.62786865234375, 502.6806945800781, 500.1364440917969, 437.3445739746094, 426.7431945800781, 1431.9847412109375, 980.1841430664062, 3388.04345703125, 738.0621337890625, 1441.5751953125, 3817.781494140625, 1734.52197265625, 2834.4111328125, 1101.9068603515625, 907.9733276367188, 1010.4979248046875, 2369.879150390625, 3125.697998046875, 2110.1904296875, 1114.7535400390625, 2924.603271484375, 1448.8475341796875, 1786.4593505859375, 1513.9052734375, 1480.7852783203125, 1230.815185546875, 1406.215576171875, 1341.12939453125, 1345.1466064453125, 1241.33154296875, 1240.9224853515625, 1542.5943603515625, 1461.728271484375, 1319.196044921875, 1219.537353515625, 1083.58349609375, 1058.6204833984375, 875.3677368164062, 866.4483032226562, 657.181640625, 843.668212890625, 623.7799682617188, 608.0630493164062, 606.8904418945312, 606.477783203125, 603.64306640625, 516.256103515625, 502.6025695800781, 476.2542419433594, 476.149169921875, 470.9357604980469, 461.0352478027344, 459.83636474609375, 458.68310546875, 456.4992980957031, 456.228271484375, 454.7148742675781, 448.317626953125, 438.23968505859375, 433.2455139160156, 411.3062744140625, 962.8276977539062, 1535.3701171875, 682.7454223632812, 817.1505126953125, 4837.056640625, 1068.5802001953125, 2829.834228515625, 2001.1068115234375, 2591.32275390625, 492.9778747558594, 4784.8779296875, 852.2747802734375, 1673.3294677734375, 2994.454345703125, 651.282470703125, 1712.3182373046875, 1513.379638671875, 1226.94140625, 1603.0372314453125, 1797.366943359375, 1025.2833251953125, 1751.085693359375, 1277.0797119140625, 1491.3074951171875, 1089.7838134765625, 1165.0556640625, 1249.3685302734375, 1151.4981689453125, 1101.9969482421875, 1200.778564453125, 1238.575439453125, 1229.3734130859375, 1098.7491455078125, 1217.88525390625, 809.7838745117188, 374.5272216796875, 359.4201965332031, 349.1568908691406, 347.39801025390625, 341.0609436035156, 333.8850402832031, 325.3704833984375, 317.25006103515625, 317.1986389160156, 313.230224609375, 702.6146850585938, 299.7295227050781, 298.5982360839844, 288.34674072265625, 285.26751708984375, 283.6241760253906, 273.84674072265625, 260.2528076171875, 241.34439086914062, 238.7089385986328, 237.40139770507812, 236.67324829101562, 234.731689453125, 234.56333923339844, 234.56333923339844, 234.09555053710938, 234.09555053710938, 233.62510681152344, 365.9195251464844, 329.6105041503906, 1745.04833984375, 837.3521118164062, 2037.527099609375, 1711.085693359375, 1913.8463134765625, 722.224365234375, 1730.6318359375, 745.9713745117188, 1630.1221923828125, 1317.9857177734375, 855.103515625, 721.1109619140625, 1538.6370849609375, 1014.0842895507812, 915.6190795898438, 2242.217041015625, 1754.6201171875, 5054.30810546875, 738.6823120117188, 1601.622802734375, 2749.55810546875, 2454.474365234375, 823.4263305664062, 934.3496704101562, 1208.2608642578125, 581.3096313476562, 2080.93505859375, 1632.1744384765625, 1275.192626953125, 1181.2342529296875, 1124.7279052734375, 935.3759155273438, 993.2349243164062, 985.5081176757812, 929.060791015625, 854.166015625, 1355.905517578125, 1234.7723388671875, 1207.3927001953125, 1144.305419921875, 1107.6134033203125, 1088.851806640625, 1082.774169921875, 943.092041015625, 940.0903930664062, 910.294189453125, 906.5089111328125, 904.5980224609375, 868.7486572265625, 865.045654296875, 624.7745361328125, 615.662353515625, 614.7460327148438, 609.151123046875, 598.9007568359375, 590.0602416992188, 517.2694091796875, 460.65850830078125, 415.88690185546875, 391.6297607421875, 379.7368469238281, 374.95263671875, 374.28173828125, 369.4908752441406, 331.8082275390625, 314.331787109375, 3384.463134765625, 1042.2197265625, 1828.554931640625, 4225.89697265625, 2387.059814453125, 874.8629150390625, 920.1988525390625, 1094.466796875, 1605.4840087890625, 1643.4962158203125, 1212.3328857421875, 2444.212158203125, 1833.514404296875, 1768.2364501953125, 1559.498046875, 1545.154052734375, 1865.16455078125, 1627.5426025390625, 1311.855224609375, 1282.782470703125, 1362.574951171875, 1306.9078369140625, 1341.4300537109375, 1127.8509521484375, 1011.2591552734375, 5135.4609375, 4254.734375, 4019.890380859375, 2743.817626953125, 1515.9847412109375, 1486.0069580078125, 1414.2811279296875, 833.609619140625, 569.1744384765625, 363.420654296875, 288.3114013671875, 283.723876953125, 274.1400146484375, 4247.837890625, 232.74197387695312, 231.5048828125, 214.08554077148438, 208.6572265625, 202.83609008789062, 200.69288635253906, 196.7500762939453, 343.0653991699219, 188.8488006591797, 174.14527893066406, 171.7918701171875, 154.09471130371094, 150.66941833496094, 140.47378540039062, 140.1680145263672, 135.500244140625, 1899.7034912109375, 439.2439270019531, 679.7769165039062, 3066.00537109375, 404.3081359863281, 1800.55517578125, 210.33151245117188, 255.47512817382812, 983.2391967773438, 491.6949157714844, 1241.08984375, 413.855712890625, 521.5682373046875, 4209.43896484375, 2525.961669921875, 607.0029296875, 1294.990234375, 409.4268798828125, 907.4159545898438, 1412.5216064453125, 1880.5108642578125, 1004.9728393554688, 825.8248291015625, 1153.308837890625, 1449.11669921875, 1506.6318359375, 1167.48095703125, 740.043212890625, 946.6646118164062, 938.2061767578125, 881.3678588867188, 819.0538330078125, 853.728271484375, 2674.286376953125, 1408.814453125, 893.6917724609375, 824.7896728515625, 774.425048828125, 705.7735595703125, 678.1448364257812, 604.0814819335938, 412.8769836425781, 393.37872314453125, 339.462890625, 318.3926086425781, 250.8769989013672, 247.287109375, 2091.219482421875, 245.42636108398438, 203.48045349121094, 179.85069274902344, 179.56101989746094, 153.85301208496094, 152.14476013183594, 148.02366638183594, 142.18299865722656, 132.43348693847656, 123.85221862792969, 123.40975189208984, 121.96395111083984, 121.90401458740234, 120.95997619628906, 109.79792022705078, 216.5406494140625, 135.28631591796875, 392.6407775878906, 1033.69482421875, 315.97955322265625, 248.04959106445312, 3438.417236328125, 739.8580322265625, 1894.3653564453125, 784.3152465820312, 786.6720581054688, 248.97723388671875, 1551.4742431640625, 584.3743896484375, 848.2461547851562, 1234.9818115234375, 806.8369750976562, 1333.38330078125, 1366.9747314453125, 1852.1983642578125, 650.2507934570312, 1244.03125, 528.5972900390625, 902.3816528320312, 1030.8863525390625, 780.1068115234375, 1024.07861328125, 611.4638671875, 602.8853149414062], \"Term\": [\"environnement\", \"inform\\u00e9\", \"maire\", \"adress\\u00e9e\", \"dossier\", \"avis\", \"sant\\u00e9_publique\", \"march\\u00e9\", \"toute_personne\", \"r\\u00e9ponse\", \"relations_entre\", \"communicables\", \"d\\u00e9clarer_sans\", \"droit\", \"pr\\u00e9sent_avis\", \"dispositions\", \"sant\\u00e9\", \"courrier\", \"s\\u00e9curit\\u00e9_sociale\", \"commune\", \"personne\", \"oppos\\u00e9_directeur\", \"g\\u00e9n\\u00e9ral_collectivit\\u00e9s\", \"assurance_maladie\", \"caisse\", \"document\", \"\\u00e9lectronique\", \"objet\", \"\\u00e9met_donc\", \"caisse_primaire\", \"droit_priv\\u00e9\", \"mission_int\\u00e9r\\u00eat\", \"int\\u00e9r\\u00eat_g\\u00e9n\\u00e9ral\", \"mesures_prises\", \"pr\\u00e9rogatives\", \"telle_mission\", \"activit\\u00e9_conditions\", \"\\u00e9galement_regard\\u00e9e\", \"silence_loi\", \"priv\\u00e9e_assure\", \"faire_peser\", \"d\\u00e9claration_pr\\u00e9alable\", \"membres_gouvernement\", \"copie_pr\\u00e9f\\u00e9rence\", \"charge_excessive\", \"re\\u00e7u_subvention\", \"subventions\", \"\\u00e9tablissements_enseignement\", \"tout_organisme\", \"elles_d\\u00e9tiennent\", \"consid\\u00e9r\\u00e9s_comme\", \"jug\\u00e9_d\\u00e9cision\", \"op\\u00e9rations_effectu\\u00e9es\", \"compte_r\\u00e9sultat\", \"tenues_communiquer\", \"comptes_annuels\", \"financier_subvention\", \"soci\\u00e9t\\u00e9_anonyme\", \"pr\\u00e9voit_budget\", \"relev\\u00e9_int\\u00e9gral\", \"\\u00e9ducation\", \"alimentation\", \"vise_fa\\u00e7on\", \"abusive_lorsqu\", \"d\\u00e9lib\\u00e9r\\u00e9e_perturber\", \"am\\u00e9lioration\", \"associations\", \"etat_collectivit\\u00e9s\", \"pouvoirs\", \"l\\u00e9gislateur_entendu\", \"statuts\", \"organisme\", \"mission_service\", \"prend_acte\", \"conventions\", \"r\\u00e9sultant\", \"appara\\u00eet\", \"cadre_mission\", \"association\", \"mission\", \"service\", \"contr\\u00f4le\", \"entre\", \"termes\", \"exercice_mandat\", \"autre_part\", \"collectivit\\u00e9s_territoriales\", \"g\\u00e9n\\u00e9ral\", \"personnes\", \"ainsi\", \"administratifs\", \"sens\", \"relations_entre\", \"droit\", \"autres\", \"loi\", \"part\", \"personne\", \"dispositions\", \"\\u00e9tat\", \"enfin\", \"conseil\", \"estime\", \"pr\\u00e9sident\", \"esp\\u00e8ce\", \"si\", \"cadre\", \"arr\\u00eat\\u00e9s_municipaux\", \"conseillers_municipaux\", \"pr\\u00e9fet_police\", \"droits_information\", \"ouvert_toute\", \"ind\\u00e9pendamment_fonctions\", \"tirent_qualit\\u00e9\", \"tout_membre\", \"exerce_mandats\", \"cadre_fonction\", \"territoriales_dispose\", \"commune_font\", \"administrative_paritaire\", \"chemin\", \"budg\\u00e9taire_comptable\", \"municipale\", \"proviseur_lyc\\u00e9e\", \"actes_notari\\u00e9s\", \"ensemble_correspondances\", \"cat\\u00e9gorie_b\", \"communes_pays\", \"concernent_directement\", \"pc\", \"autonomie\", \"contrat_offre\", \"locations\", \"commissions_administratives\", \"budget_primitif\", \"parking\", \"communaux\", \"annex\\u00e9es\", \"d\\u00e9lib\\u00e9rations\", \"g\\u00e9n\\u00e9ral_collectivit\\u00e9s\", \"vu_duquel\", \"pr\\u00e9valoir\", \"d\\u00e9lib\\u00e9ration\", \"territoriales\", \"demander\", \"commune\", \"conseil_municipal\", \"communaut\\u00e9_communes\", \"comptes\", \"maire\", \"parcelles\", \"pr\\u00e9sident_communaut\\u00e9\", \"toute_personne\", \"permis_construire\", \"municipal\", \"factures\", \"fait\", \"\\u00e9met_donc\", \"points\", \"point\", \"absence_r\\u00e9ponse\", \"communicables\", \"r\\u00e9sulte\", \"relations_entre\", \"agissant\", \"estime\", \"suivants\", \"arr\\u00eat\\u00e9\", \"mairie\", \"selon_modalit\\u00e9s\", \"droit\", \"copie\", \"pr\\u00e9vues\", \"administratifs\", \"sous_r\\u00e9serve\", \"concernant\", \"articles\", \"sollicit\\u00e9s\", \"ainsi\", \"dispositions_sp\\u00e9ciales\", \"relative_informatique\", \"fichiers_libert\\u00e9s\", \"intervenant\", \"traitements_automatis\\u00e9s\", \"limites_conditions\", \"services_aide\", \"r\\u00e9utilisation_d\\u00e9finies\", \"relev\\u00e9s_bancaires\", \"copie_relev\\u00e9s\", \"charge_frais\", \"statutaires\", \"personnel_subordonn\\u00e9e\", \"sociale_enfance\", \"fond\\u00e9_loi\", \"g\\u00e9n\\u00e9rale_efface\", \"int\\u00e9ress\\u00e9_librement\", \"diff\\u00e9rentes_lois\", \"fonctionnaires_agents\", \"mani\\u00e8re_servir\", \"puissent_communiqu\\u00e9es\", \"juge_enfants\", \"publiques_comportant\", \"situation_familiale\", \"fonctions_statut\", \"adresse_administrative\", \"personnels_justifient\", \"valeur_port\\u00e9\", \"composantes_fixes\", \"diff\\u00e9rents_minist\\u00e8res\", \"besoins_laquelle\", \"souhaite_autres\", \"fins_celles\", \"examen_candidatures\", \"peuvent_utilis\\u00e9es\", \"certaines_informations\", \"action_sociale\", \"proc\\u00e9dure_disciplinaire\", \"agents\", \"appr\\u00e9ciation_jugement\", \"afin_garantir\", \"leurs_fonctions\", \"personnels\", \"indemnit\\u00e9\", \"agent\", \"personnel\", \"donn\\u00e9es_caract\\u00e8re\", \"r\\u00e9utilisation_informations\", \"traitement\", \"vie_priv\\u00e9e\", \"prise\", \"caract\\u00e8re_personnel\", \"relations_entre\", \"liste\", \"cadre\", \"obtenir\", \"loi\", \"comme\", \"mise_\\u0153uvre\", \"examen\", \"ainsi\", \"fait\", \"administratifs_examin\\u00e9\", \"objet\", \"adresse\", \"toutefois\", \"consid\\u00e8re\", \"mesure\", \"informations\", \"proc\\u00e9dure\", \"communicables\", \"communicable\", \"agissant\", \"pr\\u00e9vues\", \"conseil\", \"droit\", \"concernant\", \"janvier\", \"point\", \"estime\", \"administratifs\", \"articles\", \"dispositions\", \"d\\u00e9clarer_sans\", \"pr\\u00e9sident_universit\\u00e9\", \"exer\\u00e7ant_autorit\\u00e9\", \"insalubrit\\u00e9\", \"inexistants\", \"fond\\u00e9e_\\u00e9taler\", \"temps_r\\u00e9alisation\", \"prescrite\", \"d\\u00e9lib\\u00e9rations_conseils\", \"incomplet\", \"pau\", \"entiers_dossiers\", \"ard\\u00e8che\", \"occasionn\\u00e9\", \"textes_vigueur\", \"co\\u00fbt_correspondant\", \"surcro\\u00eet_travail\", \"photocopies_afin\", \"fils_mineur\", \"maroc\", \"partenariat\", \"familial\", \"pr\\u00e9fet_yonne\", \"grille\", \"v\\u00e9rification_comptabilit\\u00e9\", \"pr\\u00e9fet_var\", \"implicite\", \"r\\u00e9f\\u00e9renc\\u00e9e\", \"plusieurs_reprises\", \"scanner\", \"document_inexistant\", \"indiqu\\u00e9e\", \"inform\\u00e9\", \"pr\\u00e9fet_oise\", \"d\\u00e9clarer\", \"adress\\u00e9e\", \"pr\\u00e9sent_avis\", \"existait\", \"d\\u00e9tenait\", \"joint\", \"sans_objet\", \"r\\u00e9ponse\", \"courrier\", \"transmis\", \"avis\", \"aviser_demandeur\", \"nantes\", \"ma\\u00eetre\", \"accompagn\\u00e9e_pr\\u00e9sent\", \"objet\", \"communiqu\\u00e9s\", \"possession\", \"juillet\", \"adress\\u00e9\", \"communiqu\\u00e9\", \"paris\", \"client\", \"copie\", \"courriel\", \"attestation\", \"accus\\u00e9_r\\u00e9ception\", \"articles\", \"juin\", \"septembre\", \"ao\\u00fbt\", \"date\", \"octobre\", \"demandeur\", \"relations_entre\", \"f\\u00e9vrier\", \"sollicit\\u00e9s\", \"novembre\", \"maire\", \"mai\", \"oppos\\u00e9_directeur\", \"mars\", \"avril\", \"dossier\", \"concernant\", \"janvier\", \"march\\u00e9\", \"offre\", \"entreprise_attributaire\", \"offres\", \"non_retenues\", \"entreprises_non\", \"prot\\u00e9g\\u00e9_dispositions\", \"doit_toutefois\", \"exercer_respect\", \"communication_b\\u00e9n\\u00e9ficient\", \"tant_entreprises\", \"concernant_chiffre\", \"affaires_coordonn\\u00e9es\", \"concernant_prestation\", \"certificats_qualification\", \"outre_pr\\u00e9cis\\u00e9\", \"parties_ainsi\", \"syst\\u00e8me_qualit\\u00e9\", \"certifications_tierces\", \"humains_certification\", \"bancaires_r\\u00e9f\\u00e9rences\", \"demand\\u00e9e_ainsi\", \"appel_offres\", \"bordereau_prix\", \"attributaire\", \"rappelle_fois\", \"d\\u00e9tails_techniques\", \"rapport_analyse\", \"financiers_offres\", \"correspondent_march\\u00e9s\", \"moyens_techniques\", \"personne_fait\", \"acc\\u00e8s_institu\\u00e9\", \"autres_celles\", \"mentions_relatives\", \"toute_mention\", \"secret_affaires\", \"publics\", \"conduit\", \"principe\", \"soumis_droit\", \"secret_mati\\u00e8re\", \"communicables\", \"comme\", \"ainsi\", \"toute\", \"communicable\", \"relations_entre\", \"sous_r\\u00e9serve\", \"autre\", \"soci\\u00e9t\\u00e9\", \"notamment\", \"suivants\", \"conseil\", \"administratifs\", \"patrimoine\", \"d\\u00e9rogation_d\\u00e9lais\", \"archives_publiques\", \"haute_autorit\\u00e9\", \"fix\\u00e9s\", \"livre_proc\\u00e9dures\", \"porte_r\\u00e9alit\\u00e9\", \"centre_p\\u00e9nitentiaire\", \"ans_compter\", \"comptes_bancaires\", \"sous_cote\", \"avant_expiration\", \"donn\\u00e9_accord\", \"g\\u00e9n\\u00e9ral_imp\\u00f4ts\", \"h\", \"d\\u00e9lai_ans\", \"archives_france\", \"conserv\\u00e9s_archives\", \"valeur_locative\", \"nationales\", \"p\\u00e9nitentiaire\", \"populaire\", \"archives_nationales\", \"licenciement\", \"\\u00e9criture\", \"sous_cotes\", \"service_historique\", \"circonstances_particuli\\u00e8res\", \"militaires\", \"plateforme\", \"garde_sceaux\", \"fiscales\", \"d\\u00e9rogation\", \"archives\", \"r\\u00e9pertoire\", \"ans\", \"v\", \"compter_date\", \"ministre_justice\", \"\\u00e9tat_civil\", \"recherche\", \"d\\u00e9fense_nationale\", \"incluant\", \"donn\\u00e9es\", \"i\", \"d\\u00e9lai\", \"justice\", \"dispositions_l\\u00e9gislatives\", \"deuxi\\u00e8me_alin\\u00e9a\", \"informations\", \"france\", \"g\", \"peuvent\", \"mise\", \"rel\\u00e8ve\", \"dispositions\", \"secret\", \"consultation\", \"publiques\", \"sans\", \"dispose\", \"si\", \"dossiers\", \"date\", \"titre\", \"plus\", \"loi\", \"relatives\", \"relations_entre\", \"articles\", \"document\", \"ainsi\", \"demandeur\", \"\\u00e9galement\", \"personnes\", \"notamment\", \"pourrait_porter\", \"comportement\", \"divulgation_comportement\", \"nomm\\u00e9ment_d\\u00e9sign\\u00e9e\", \"facilement_identifiable\", \"portant_appr\\u00e9ciation\", \"appara\\u00eetre_comportement\", \"l\\u00e9gaux\", \"applique_tous\", \"contient_\\u00e9manent\", \"p\\u00e9titionnaire_\\u00e9labor\\u00e9s\", \"d\\u00e9partemental_incendie\", \"interpr\\u00e9t\\u00e9es\", \"portent_appr\\u00e9ciation\", \"appr\\u00e9cier_si\", \"nationalit\\u00e9_fran\\u00e7aise\", \"\\u00e9ventuelle_liste\", \"afin_conna\\u00eetre\", \"pr\\u00e9judice_auteur\", \"mari\", \"primaire\", \"met_cause\", \"pacte_civil\", \"m\\u00e9decins_interpr\\u00e9t\\u00e9\", \"constatant_infractions\", \"proc\\u00e9dure_suivie\", \"s\\u00e9curit\\u00e9_int\\u00e9rieure\", \"entendu_autoriser\", \"lettre_saisine\", \"personnes_handicap\\u00e9es\", \"pr\\u00e9judice\", \"comportement_divulgation\", \"protection_vie\", \"personne_physique\", \"porter_pr\\u00e9judice\", \"int\\u00e9ress\\u00e9e_sens\", \"visa\", \"divulgation_pourrait\", \"permis_conduire\", \"principe_unit\\u00e9\", \"secours\", \"porterait_atteinte\", \"signalement\", \"mentions\", \"faisant_appara\\u00eetre\", \"jugement_valeur\", \"s\\u00e9curit\\u00e9\", \"priv\\u00e9e\", \"personne\", \"sous_r\\u00e9serves\", \"int\\u00e9ress\\u00e9\", \"apr\\u00e8s_occultation\", \"feraient_appara\\u00eetre\", \"communicables\", \"dossier\", \"sous_r\\u00e9serve\", \"absence_r\\u00e9ponse\", \"conseil\", \"estime\", \"\\u00e9met_donc\", \"administratifs\", \"communicable\", \"personnes\", \"principe\", \"tiers\", \"dispositions\", \"\\u00e9met\", \"service\", \"ma\\u00eetre\", \"articles\", \"ainsi\", \"titre_s\\u00e9jour\", \"parcelles_cadastr\\u00e9es\", \"concurrence_consommation\", \"inspection_g\\u00e9n\\u00e9rale\", \"asile\", \"quartier\", \"inspection_travail\", \"travail_emploi\", \"form\\u00e9e\", \"services_pr\\u00e9fecture\", \"interminist\\u00e9rielle\", \"m\\u00e9decine\", \"note_synth\\u00e8se\", \"\\u00e9preuve\", \"safer\", \"rapport_audit\", \"besan\\u00e7on\", \"transmettant\", \"accords\", \"dgccrf\", \"auvergne\", \"encore_intervenue\", \"m\\u00e9diation\", \"lettres_observations\", \"r\\u00e9pression_fraudes\", \"\\u00e9lectrique\", \"ligue\", \"inspecteur_travail\", \"justificatives\", \"re\\u00e7ue\", \"aussi_longtemps\", \"conseil_d\\u00e9partemental\", \"constat\", \"affaires_sociales\", \"pr\\u00e9paratoire_d\\u00e9cision\", \"directeur_r\\u00e9gional\", \"courriers_\\u00e9lectroniques\", \"men\\u00e9e\", \"vaucluse\", \"visite\", \"cabinet\", \"achats\", \"r\\u00e9union\", \"voie_postale\", \"rapport\", \"ministre\", \"document\", \"interne\", \"lettre\", \"document_administratif\", \"d\\u00e9cision\", \"enqu\\u00eate\", \"correspondance\", \"pr\\u00e9fet\", \"pr\\u00e9sident\", \"administrative\", \"pr\\u00e9fecture\", \"d\\u00e9cision_administrative\", \"sein\", \"agr\\u00e9ment\", \"suite\", \"projet\", \"laquelle\", \"existe\", \"communicable\", \"constitue\", \"lequel\", \"point\", \"document_sollicit\\u00e9\", \"juin\", \"relatif\", \"estime\", \"relations_entre\", \"avis\", \"r\\u00e9ponse\", \"pris_connaissance\", \"fait\", \"\\u00e9met_donc\", \"date\", \"conseil\", \"adress\\u00e9e\", \"cadre\", \"portant\", \"concernant\", \"relatives_environnement\", \"iv_titre\", \"d\\u00e9cisions_activit\\u00e9s\", \"d\\u00e9tenues_re\\u00e7ues\", \"commande_publique\", \"d\\u00e9finies_titre\", \"information_relative\", \"renseignements_information\", \"vue_procurer\", \"ignominie_d\\u00e9saffection\", \"animaux_victimes\", \"avocats_lyon\", \"septembre_ordres\", \"recueil_page\", \"livre_i\", \"rejeter\", \"\\u00e9tablies_autorit\\u00e9s\", \"diversit\\u00e9_biologique\", \"notamment_air\", \"d\\u00e9chets_\\u00e9missions\", \"d\\u00e9versements_autres\", \"facteurs_notamment\", \"ainsi_interactions\", \"bruit_rayonnements\", \"rejets_susceptibles\", \"substances_\\u00e9nergie\", \"environnement_qualifie\", \"droits_propri\\u00e9t\\u00e9\", \"leurs_groupements\", \"concernent_exercice\", \"environnement\", \"exerce_conditions\", \"association_d\\u00e9fense\", \"informations_relatives\", \"\\u00e9ventuellement_d\\u00e9tenus\", \"dispositions_chapitre\", \"maritime\", \"mesures\", \"\\u00e9l\\u00e9ments\", \"quel_support\", \"ii\", \"protection\", \"\\u00e9tat\", \"articles\", \"toute_personne\", \"s\\u00e9curit\\u00e9\", \"selon\", \"dispositions\", \"acc\\u00e9der_informations\", \"informations\", \"suivants\", \"relations_entre\", \"notamment\", \"sous_r\\u00e9serve\", \"droit\", \"fait\", \"suite\", \"objet\", \"estime\", \"esp\\u00e8ce\", \"compte\", \"rapport\", \"possibilit\\u00e9s_techniques\", \"d\\u00e9livrance_copie\", \"exerce_choix\", \"demandeur_limite\", \"document_disponible\", \"conservation_document\", \"reproduction_nuise\", \"frais_lorsque\", \"consultation_gratuite\", \"reproduction_envoi\", \"support_identique\", \"celui_utilis\\u00e9\", \"compatible_frais\", \"frais_puissent\", \"exc\\u00e9der_co\\u00fbt\", \"format\", \"jour_mentionn\\u00e9es\", \"condition_derni\\u00e8res\", \"pr\\u00e9voit_sauf\", \"commissaire_enqu\\u00eateur\", \"euro_page\", \"co\\u00fbt_envoi\", \"d\\u00e9finis_arr\\u00eat\\u00e9\", \"octobre_savoir\", \"postal_peuvent\", \"exc\\u00e9der_montants\", \"conjoint_premier\", \"groupe_travail\", \"soumis_enqu\\u00eate\", \"dispose_d\\u00e9j\\u00e0\", \"enqu\\u00eate_publique\", \"plan_local\", \"sous_forme\", \"plu\", \"place\", \"\\u00e9lectronique\", \"urbanisme\", \"sans\", \"frais\", \"envoi\", \"publication\", \"demandeur\", \"communicables\", \"document\", \"modalit\\u00e9s\", \"relations_entre\", \"vertu\", \"administratifs\", \"courrier\", \"articles\", \"publique\", \"dispositions\", \"dossier\", \"ainsi\", \"maire\", \"sous_r\\u00e9serve\", \"informations_m\\u00e9dicales\", \"personne_d\\u00e9c\\u00e9d\\u00e9e\", \"faire_valoir\", \"d\\u00e9funt\", \"d\\u00e9fendre_m\\u00e9moire\", \"causes_mort\", \"patient_d\\u00e9c\\u00e9d\\u00e9\", \"causes_d\\u00e9c\\u00e8s\", \"m\\u00e9moire_d\\u00e9funt\", \"psychiatriques\", \"permettre_conna\\u00eetre\", \"automatis\\u00e9s_donn\\u00e9es\", \"contenues_appel\\u00e9es\", \"traitements_non\", \"figurer_fichiers\", \"n\\u00e9cessaires_poursuite\", \"auquel_renvoie\", \"d\\u00e9c\\u00e9d\\u00e9e\", \"d\\u00e9funt_faire\", \"avant_d\\u00e9c\\u00e8s\", \"volont\\u00e9_contraire\", \"oppos\\u00e9_vivant\", \"elles_n\\u00e9cessaires\", \"droits_sauf\", \"valoir_leurs\", \"d\\u00e9livr\\u00e9es_droit\", \"afin_permettre\", \"\\u00e9quipe_m\\u00e9dicale\", \"savoir_conna\\u00eetre\", \"oppos\\u00e9e_personne\", \"m\\u00e8re\", \"sans_consentement\", \"d\\u00e9c\\u00e9d\\u00e9\", \"p\\u00e8re\", \"sant\\u00e9_publique\", \"autorit\\u00e9_parentale\", \"qualit\\u00e9\", \"dossier_m\\u00e9dical\", \"m\\u00e9dical\", \"leurs_droits\", \"droit\", \"d\\u00e9c\\u00e8s\", \"\\u00e9tablissement\", \"dossier\", \"\\u00e9pouse\", \"esp\\u00e8ce\", \"sant\\u00e9\", \"centre_hospitalier\", \"si\", \"demandeur\", \"pr\\u00e9voit\", \"dispositions\", \"pi\\u00e8ces\", \"concernant\", \"chaque\", \"ensemble\", \"\\u00e9tat\", \"informations\", \"donc\", \"conseil\", \"articles\", \"ainsi\", \"document\", \"r\\u00e9forme\", \"isolement\", \"seuls_\\u00e9l\\u00e9ments\", \"afin_exercice\", \"faire_\\u00e9tablir\", \"devis_aupr\\u00e8s\", \"administratif_entrent\", \"reproduction_n\\u00e9cessaires\", \"non_autoris\\u00e9es\", \"p\\u00e9nale_commerciale\", \"nature_civile\", \"\\u00e9ch\\u00e9ancier\", \"proc\\u00e9dure_juridictionnelle\", \"juridictions_ordre\", \"frais_calcul\\u00e9s\", \"dossiers_instruction\", \"plus_largement\", \"affaires_formation\", \"edf\", \"am\\u00e9nager_modalit\\u00e9s\", \"caisse_allocations\", \"audition_rapports\", \"personnes_pr\\u00e9sentes\", \"d\\u00e9cisions_parquet\", \"proc\\u00e9dure_proprement\", \"expertise_m\\u00e9moires\", \"observations_parties\", \"travail_internes\", \"membres_concourant\", \"juridiction_destin\\u00e9s\", \"inviter_demandeur\", \"proc\\u00e9dure_p\\u00e9nale\", \"judiciaire\", \"r\\u00e9pondre_demandes\", \"fait_obligation\", \"obtenus_traitement\", \"premier_ministre\", \"incomp\\u00e9tente_prononcer\", \"courant\", \"d\\u00e9clare_cons\\u00e9quence\", \"automatis\\u00e9_usage\", \"prononcer\", \"autorit\\u00e9s_administratives\", \"renseignements\", \"refus\", \"d\\u00e9clarer_incomp\\u00e9tente\", \"minist\\u00e8re\", \"suite\", \"pi\\u00e8ces\", \"relations_entre\", \"identifier\", \"donc\", \"avis\", \"administratifs\", \"champ_application\", \"porte\", \"administratif\", \"pr\\u00e9sentent_caract\\u00e8re\", \"droit\", \"dossier\", \"point\", \"copie\", \"demandeur\", \"cas\", \"si\", \"r\\u00e9ponse\", \"estime\", \"\\u00e9galement\", \"informations_communiqu\\u00e9es\", \"directement_interm\\u00e9diaire\", \"m\\u00e9decin_d\\u00e9signe\", \"secteur_activit\\u00e9\", \"selon_choix\", \"sant\\u00e9_d\\u00e9tenues\", \"professionnels_\\u00e9tablissements\", \"intervenant_prise\", \"charge_th\\u00e9rapeutique\", \"aupr\\u00e8s_tiers\", \"informations_mentionnant\", \"elles_recueillies\", \"reconna\\u00eet_droit\", \"concernant_tel\", \"exception_informations\", \"recueillies_aupr\\u00e8s\", \"tel_tiers\", \"tiers_intervenant\", \"th\\u00e9rapeutique_concernant\", \"mentionnant_elles\", \"g\\u00e9n\\u00e9ral_assistance\", \"\\u00e9changes_\\u00e9crits\", \"notamment_r\\u00e9sultats\", \"adresse_suivante\", \"protocoles_prescriptions\", \"th\\u00e9rapeutiques_mis\", \"consultation_intervention\", \"exploration_hospitalisation\", \"surveillance_correspondances\", \"d\\u00e9tenus_professionnels\", \"professionnels_sant\\u00e9\", \"r\\u00e9sulte_d\\u00e9cision\", \"prise_charge\", \"sant\\u00e9_publique\", \"centre_hospitalier\", \"m\\u00e9decin\", \"directeur_centre\", \"dernier_alin\\u00e9a\", \"dossier_m\\u00e9dical\", \"effet\", \"acc\\u00e9der_informations\", \"sant\\u00e9\", \"m\\u00e9dical\", \"oppos\\u00e9_directeur\", \"vertu\", \"tiers\", \"concernant\", \"toute_personne\", \"int\\u00e9ress\\u00e9\", \"demandeur\", \"avis\", \"\\u00e9met_donc\", \"communicables\", \"ainsi\", \"sous_r\\u00e9serves\", \"s\\u00e9curit\\u00e9_sociale\", \"assurance_maladie\", \"caisse_primaire\", \"directeur_caisse\", \"accident_travail\", \"primaire_assurance\", \"cpam\", \"d\\u00e9claration_accident\", \"r\\u00e9gie_articles\", \"hameau\", \"objet_contenu\", \"t\\u00e9l\\u00e9grammes\", \"biologiques\", \"caisse\", \"fa\\u00e7ade\", \"arr\\u00eat_travail\", \"forces_police\", \"donneur\", \"retir\\u00e9\", \"ressortissants\", \"menton\", \"constate_outre\", \"moulins\", \"traitement_d\\u00e9chets\", \"p\\u00e9nalit\\u00e9s\", \"milieu\", \"\\u00e9l\\u00e9ments_communiqu\\u00e9s\", \"fa\\u00e7ades\", \"taux_incapacit\\u00e9\", \"oncle\", \"maladie\", \"finist\\u00e8re\", \"lotissement\", \"cadre_instruction\", \"manche\", \"employeur\", \"d\\u00e9comptes\", \"compris_ceux\", \"sans_incidence\", \"certificats_m\\u00e9dicaux\", \"technique\", \"rh\\u00f4ne\", \"divulgation_porterait\", \"dossier\", \"oppos\\u00e9_directeur\", \"garanti\", \"travail\", \"retraite\", \"comprend\", \"cadre\", \"dispositions\", \"ii\", \"plus\", \"consid\\u00e8re\", \"droit\", \"communicables\", \"\\u00e9met_donc\", \"constitue\", \"ma\\u00eetre\", \"personne\", \"sollicit\\u00e9s\", \"rel\\u00e8ve\", \"administratifs\", \"rapport_annuel\", \"assembl\\u00e9es_parlementaires\", \"r\\u00e9gime_sp\\u00e9cial\", \"mentionn\\u00e9_point\", \"second_alin\\u00e9a\", \"relative_fonctionnement\", \"d\\u00e9claration_honneur\", \"listes_\\u00e9lectorales\", \"liste_\\u00e9lectorale\", \"\\u00e9lectoral\", \"conna\\u00eetre_questions\", \"for\\u00eats\", \"tout_\\u00e9lecteur\", \"cada_septembre\", \"agence_r\\u00e9gionale\", \"lettre_notification\", \"droit_pr\\u00e9emption\", \"d\\u00e9placement\", \"usage_purement\", \"aide_juridictionnelle\", \"\\u00e9lectorales\", \"acquis_forme\", \"\\u00e9lecteur\", \"quel_lieu\", \"b\\u00e2tonnier\", \"association_fonci\\u00e8re\", \"certificat_nationalit\\u00e9\", \"qualit\\u00e9_\\u00e9lecteur\", \"inscription_liste\", \"contr\\u00f4les_effectu\\u00e9s\", \"leurs_repr\\u00e9sentants\", \"pr\\u00e9l\\u00e8vement\", \"d\\u00e9l\\u00e9gation_signature\", \"\\u00e9l\\u00e9ments_permettant\", \"azur\", \"ressources_humaines\", \"sant\\u00e9\", \"commercial\", \"ann\\u00e9e\", \"soins\", \"pr\\u00e9sent\\u00e9\", \"grande_instance\", \"faire\", \"usage\", \"activit\\u00e9\", \"sous\", \"mise_\\u0153uvre\", \"d\\u00e9cembre\", \"personnes\", \"dispositions\", \"saisie\", \"janvier\", \"assembl\\u00e9e_nationale\", \"courrier\", \"ainsi\", \"titre\", \"relations_entre\", \"directeur_g\\u00e9n\\u00e9ral\", \"pr\\u00e9vu\"], \"Total\": [11837.0, 15888.0, 21728.0, 19450.0, 21896.0, 28898.0, 9063.0, 9908.0, 25122.0, 23876.0, 74572.0, 35324.0, 9442.0, 28103.0, 14509.0, 26267.0, 7807.0, 14883.0, 5135.0, 13067.0, 17119.0, 11504.0, 8064.0, 4254.0, 4250.0, 17673.0, 8910.0, 23077.0, 20461.0, 4020.0, 3097.906982421875, 1744.1414794921875, 1221.5753173828125, 1076.312744140625, 967.277587890625, 929.42236328125, 927.3955078125, 919.6943969726562, 911.5120849609375, 910.943115234375, 896.3552856445312, 701.1246948242188, 578.4457397460938, 539.458740234375, 525.154296875, 418.2785339355469, 413.5932922363281, 409.5390930175781, 402.5473327636719, 379.8309326171875, 1637.6209716796875, 452.7292175292969, 328.623779296875, 315.5719909667969, 294.9111022949219, 294.5113525390625, 254.30105590820312, 250.8629913330078, 240.8936767578125, 237.1113739013672, 1452.806640625, 586.7813110351562, 355.7574768066406, 358.2105407714844, 357.7675476074219, 736.2606201171875, 1262.4427490234375, 690.7756958007812, 793.6004638671875, 795.3359375, 769.9009399414062, 1466.95947265625, 3493.55419921875, 1449.008056640625, 922.7579345703125, 1426.422119140625, 1381.704345703125, 3383.247314453125, 4075.14013671875, 3830.38720703125, 17388.892578125, 3365.241943359375, 10345.0576171875, 5934.50732421875, 1995.0762939453125, 5547.89990234375, 2467.404296875, 4599.35986328125, 10837.314453125, 29563.20703125, 26578.185546875, 8639.1044921875, 74572.3671875, 28103.8359375, 9512.57421875, 12813.3896484375, 7649.7734375, 17119.44921875, 26267.400390625, 15090.5322265625, 4803.1513671875, 20338.939453125, 26425.033203125, 10053.7744140625, 10689.5986328125, 11159.05078125, 12986.916015625, 1738.3505859375, 1160.70458984375, 1082.4866943359375, 1040.2392578125, 1037.7314453125, 1036.1422119140625, 1022.0325927734375, 975.8118286132812, 969.461181640625, 952.523681640625, 920.0537719726562, 893.343017578125, 667.7066040039062, 462.3880615234375, 447.4788513183594, 425.607666015625, 354.2428283691406, 346.0735778808594, 327.9337463378906, 327.0207214355469, 326.7186584472656, 268.7809143066406, 265.3260192871094, 202.73202514648438, 201.982666015625, 200.3678436279297, 196.6305389404297, 200.02078247070312, 235.19552612304688, 259.9667053222656, 2188.584228515625, 4679.5380859375, 8064.203125, 507.3815002441406, 1186.059814453125, 5898.5634765625, 7689.54638671875, 2904.904052734375, 13067.3056640625, 6823.072265625, 769.49853515625, 4080.969970703125, 21728.408203125, 1012.8688354492188, 2794.8154296875, 25122.009765625, 3644.369873046875, 1230.312744140625, 1345.430908203125, 27912.908203125, 20461.638671875, 8265.1044921875, 17101.888671875, 11747.826171875, 35324.5234375, 4348.529296875, 74572.3671875, 13410.970703125, 26425.033203125, 15499.0595703125, 7209.77978515625, 2364.218994140625, 2916.48779296875, 28103.8359375, 18080.09375, 5472.888671875, 26578.185546875, 20464.515625, 18313.2578125, 29025.09765625, 12554.7001953125, 29563.20703125, 853.434326171875, 868.8460693359375, 835.4036865234375, 774.880126953125, 707.2152709960938, 668.5745239257812, 653.273193359375, 641.8707275390625, 615.1270751953125, 606.6884155273438, 585.5487670898438, 565.3717651367188, 674.3057861328125, 529.8226318359375, 518.1585083007812, 519.477783203125, 478.7322692871094, 485.84429931640625, 463.98046875, 463.6318054199219, 459.4534606933594, 431.927978515625, 692.7530517578125, 424.17486572265625, 396.72259521484375, 394.0614318847656, 392.6351318359375, 389.915283203125, 388.5327453613281, 383.75994873046875, 721.9292602539062, 708.439697265625, 708.4453125, 706.240966796875, 693.2784423828125, 509.38348388671875, 943.4376831054688, 1507.4549560546875, 3612.25830078125, 855.7695922851562, 494.3097839355469, 776.205078125, 1182.850341796875, 973.9310302734375, 4836.9228515625, 3774.13818359375, 2942.9853515625, 1826.5465087890625, 2727.291259765625, 4654.48779296875, 4399.0966796875, 957.7261352539062, 74572.3671875, 4905.05810546875, 12986.916015625, 3330.32470703125, 12813.3896484375, 12680.056640625, 3036.742431640625, 2966.61669921875, 29563.20703125, 27912.908203125, 2505.2763671875, 23077.888671875, 1622.1104736328125, 7318.25830078125, 11320.6513671875, 4865.95751953125, 12152.6875, 5055.0244140625, 35324.5234375, 17321.4609375, 13410.970703125, 5472.888671875, 20338.939453125, 28103.8359375, 18313.2578125, 12194.1259765625, 17101.888671875, 26425.033203125, 26578.185546875, 29025.09765625, 26267.400390625, 9442.4296875, 1007.33056640625, 298.2653503417969, 231.00857543945312, 227.37814331054688, 178.12388610839844, 172.58831787109375, 171.99354553222656, 162.9120635986328, 161.7594757080078, 152.09620666503906, 150.36178588867188, 136.5049591064453, 133.46681213378906, 125.14103698730469, 118.26495361328125, 117.78038787841797, 112.52706909179688, 111.11026000976562, 103.24471282958984, 97.51521301269531, 93.76175689697266, 88.89567565917969, 87.20124816894531, 83.17428588867188, 77.6522216796875, 77.04849243164062, 74.25696563720703, 72.37960052490234, 71.23189544677734, 177.14862060546875, 94.77227020263672, 15888.0703125, 143.2548828125, 2888.411865234375, 19450.546875, 14509.8017578125, 547.498779296875, 179.77273559570312, 528.70947265625, 3758.61181640625, 23876.921875, 14883.1376953125, 9452.33984375, 28898.677734375, 244.59605407714844, 238.7997283935547, 14545.55078125, 957.5217895507812, 23077.888671875, 2244.12451171875, 2075.560302734375, 12888.1259765625, 2396.45361328125, 2373.7470703125, 3816.75830078125, 2870.93896484375, 18080.09375, 1832.2987060546875, 817.7443237304688, 564.2418823242188, 29025.09765625, 10716.978515625, 7793.40625, 5382.845703125, 9073.0673828125, 9387.1259765625, 16413.19921875, 74572.3671875, 8200.5341796875, 12554.7001953125, 8625.8056640625, 21728.408203125, 8758.42578125, 11504.361328125, 11236.4658203125, 9761.69921875, 21896.869140625, 18313.2578125, 12194.1259765625, 9908.515625, 5719.923828125, 4399.0439453125, 3183.078369140625, 2863.215576171875, 2501.135986328125, 2367.170654296875, 2316.3623046875, 2264.199951171875, 2176.440185546875, 2122.550537109375, 2094.32421875, 2092.5283203125, 2066.143310546875, 2055.628662109375, 2050.6455078125, 2052.389404296875, 2039.561767578125, 2037.8309326171875, 2039.1611328125, 2025.73876953125, 1986.5198974609375, 1971.53515625, 1868.3861083984375, 1844.2386474609375, 1832.9886474609375, 1703.3699951171875, 1682.2874755859375, 1663.1431884765625, 1639.8123779296875, 2276.801513671875, 2264.420166015625, 2493.83642578125, 2151.735107421875, 4440.09521484375, 2135.402099609375, 5403.06640625, 5361.27392578125, 3673.7158203125, 9530.224609375, 4109.8017578125, 2753.690673828125, 35324.5234375, 12680.056640625, 29563.20703125, 5893.8251953125, 17321.4609375, 74572.3671875, 20464.515625, 5562.45458984375, 7164.7412109375, 14295.494140625, 15499.0595703125, 20338.939453125, 26578.185546875, 2787.64306640625, 1000.9435424804688, 926.4857177734375, 757.8443603515625, 752.5575561523438, 621.3135986328125, 600.768310546875, 585.6576538085938, 519.3687744140625, 480.3593444824219, 324.4114990234375, 318.48834228515625, 316.15911865234375, 309.4061584472656, 528.0311889648438, 293.8041076660156, 287.8159484863281, 287.07769775390625, 285.77703857421875, 284.3832702636719, 232.99205017089844, 221.18287658691406, 207.6524658203125, 204.9057159423828, 206.00685119628906, 191.01345825195312, 184.17312622070312, 181.42868041992188, 180.17984008789062, 171.20709228515625, 1511.40576171875, 797.271728515625, 792.9554443359375, 1495.8873291015625, 277.83038330078125, 537.0982666015625, 256.8831481933594, 288.1300048828125, 1529.84521484375, 947.3740844726562, 1602.0987548828125, 1378.75634765625, 639.9830322265625, 3686.482421875, 3233.8154296875, 1303.0994873046875, 2155.88818359375, 1003.1561889648438, 645.737548828125, 12152.6875, 1895.949462890625, 751.5980224609375, 2473.106201171875, 1395.856689453125, 9126.294921875, 26267.400390625, 6105.82177734375, 4602.59326171875, 4152.62451171875, 7408.01611328125, 3232.097412109375, 11159.05078125, 2974.3037109375, 9073.0673828125, 8681.5576171875, 3864.251708984375, 12813.3896484375, 5253.5, 74572.3671875, 29025.09765625, 17673.103515625, 29563.20703125, 16413.19921875, 8622.966796875, 10837.314453125, 14295.494140625, 4004.646240234375, 3600.25048828125, 2873.65673828125, 1732.41259765625, 1569.687255859375, 1324.0579833984375, 1022.9425048828125, 739.1010131835938, 662.8483276367188, 548.3868408203125, 547.0792846679688, 481.8695983886719, 474.7477722167969, 410.11181640625, 403.4468688964844, 344.35516357421875, 327.8586730957031, 326.6455993652344, 274.11590576171875, 256.385986328125, 231.61318969726562, 226.7952117919922, 221.55934143066406, 207.72677612304688, 206.04656982421875, 204.40310668945312, 201.070556640625, 186.16250610351562, 181.82725524902344, 162.75439453125, 4987.08740234375, 1506.3349609375, 3336.601318359375, 2830.08154296875, 1690.5338134765625, 679.5580444335938, 1207.0013427734375, 855.8019409179688, 421.11175537109375, 784.0413818359375, 542.2272338867188, 5638.66748046875, 686.4669189453125, 7506.74072265625, 2452.21044921875, 2490.00439453125, 6123.111328125, 7043.16064453125, 17119.44921875, 9723.2119140625, 9756.076171875, 3562.57666015625, 1022.7691040039062, 35324.5234375, 21896.869140625, 20464.515625, 11747.826171875, 20338.939453125, 26425.033203125, 20461.638671875, 26578.185546875, 17321.4609375, 10837.314453125, 9530.224609375, 8918.658203125, 26267.400390625, 10808.2939453125, 17388.892578125, 14545.55078125, 29025.09765625, 29563.20703125, 631.2109375, 369.3354797363281, 347.8064880371094, 342.2634582519531, 294.90032958984375, 288.8164978027344, 273.8226623535156, 262.671875, 250.6444549560547, 219.06883239746094, 212.7437744140625, 210.04913330078125, 209.92955017089844, 207.77352905273438, 190.7961883544922, 189.0175323486328, 179.99856567382812, 178.75979614257812, 175.14059448242188, 169.7471923828125, 167.76449584960938, 159.16021728515625, 159.08944702148438, 158.67051696777344, 155.3691864013672, 142.80657958984375, 132.4765625, 127.54361724853516, 124.65828704833984, 123.10000610351562, 465.8686828613281, 4155.79296875, 479.7264709472656, 242.29908752441406, 305.91754150390625, 325.3011474609375, 395.8255615234375, 297.3728332519531, 193.6762237548828, 526.8533935546875, 2026.082763671875, 275.63177490234375, 1809.5921630859375, 708.1669311523438, 9328.0654296875, 4509.03662109375, 17673.103515625, 445.9459533691406, 1682.5418701171875, 5227.466796875, 9282.1376953125, 2212.109619140625, 1037.37939453125, 3361.39599609375, 10053.7744140625, 2945.7861328125, 1450.4329833984375, 1526.8453369140625, 2916.385498046875, 791.57666015625, 12049.326171875, 4290.67236328125, 3520.6240234375, 3809.453125, 17321.4609375, 3328.486083984375, 2537.801513671875, 17101.888671875, 5709.7548828125, 10716.978515625, 5397.46630859375, 26425.033203125, 74572.3671875, 28898.677734375, 23876.921875, 5649.12548828125, 27912.908203125, 20461.638671875, 9073.0673828125, 20338.939453125, 19450.546875, 12986.916015625, 8077.25634765625, 18313.2578125, 1121.21826171875, 1117.8499755859375, 1098.699462890625, 1045.180908203125, 1042.2130126953125, 956.8998413085938, 954.8926391601562, 850.935546875, 849.0948486328125, 788.8270874023438, 788.8270874023438, 799.865234375, 800.58447265625, 682.5874633789062, 652.013916015625, 617.9629516601562, 556.9703369140625, 555.0281982421875, 547.0543823242188, 545.1975708007812, 541.7984008789062, 537.5020751953125, 537.333251953125, 537.5020751953125, 537.5020751953125, 537.5020751953125, 521.6951293945312, 436.3333740234375, 432.07177734375, 408.53216552734375, 11837.28125, 1172.569091796875, 859.5355224609375, 4692.98486328125, 904.453125, 1384.431396484375, 908.2445678710938, 1607.3109130859375, 9206.6708984375, 623.4713134765625, 6493.90380859375, 3320.6259765625, 15090.5322265625, 29025.09765625, 25122.009765625, 6123.111328125, 4372.84765625, 26267.400390625, 2281.51318359375, 12152.6875, 15499.0595703125, 74572.3671875, 14295.494140625, 20464.515625, 28103.8359375, 27912.908203125, 12049.326171875, 23077.888671875, 26425.033203125, 10689.5986328125, 5154.53759765625, 9328.0654296875, 1376.5220947265625, 1360.69580078125, 1351.05029296875, 1336.43408203125, 1323.9410400390625, 1297.498291015625, 1266.193359375, 1251.6617431640625, 1241.4996337890625, 1237.5982666015625, 1237.14599609375, 1235.3017578125, 1212.9600830078125, 1186.261474609375, 1148.1978759765625, 942.5423583984375, 740.2760009765625, 737.3243408203125, 709.532470703125, 599.4834594726562, 561.123291015625, 548.0715942382812, 513.3616333007812, 505.0749206542969, 504.6220703125, 503.8031005859375, 502.8559265136719, 500.3116760253906, 437.5198059082031, 426.9184265136719, 1468.65966796875, 1029.7314453125, 4035.659423828125, 775.074951171875, 2205.7724609375, 8910.791015625, 3318.45947265625, 7408.01611328125, 2283.150390625, 1592.971923828125, 2015.3558349609375, 16413.19921875, 35324.5234375, 17673.103515625, 2688.717529296875, 74572.3671875, 8594.751953125, 26578.185546875, 14883.1376953125, 29025.09765625, 6498.80029296875, 26267.400390625, 21896.869140625, 29563.20703125, 21728.408203125, 20464.515625, 1542.771728515625, 1461.9053955078125, 1319.3731689453125, 1219.7144775390625, 1083.7606201171875, 1058.797607421875, 875.544677734375, 866.625244140625, 657.3585815429688, 843.9006958007812, 623.9569091796875, 608.239990234375, 607.0673828125, 606.6547241210938, 603.8200073242188, 516.4330444335938, 502.779541015625, 476.4311828613281, 476.3261413574219, 471.11273193359375, 461.21221923828125, 460.0133056640625, 458.8600769042969, 456.67626953125, 456.4052429199219, 454.891845703125, 448.49456787109375, 438.4166259765625, 433.4224548339844, 411.48321533203125, 970.7363891601562, 1562.14404296875, 703.4528198242188, 861.7888793945312, 9063.2080078125, 1400.176513671875, 5534.900390625, 3606.763916015625, 5510.35888671875, 518.2657470703125, 28103.8359375, 1430.255615234375, 6499.0517578125, 21896.869140625, 945.9463500976562, 10689.5986328125, 7807.552734375, 4927.61865234375, 11159.05078125, 16413.19921875, 3383.5693359375, 26267.400390625, 8545.7197265625, 18313.2578125, 5683.107421875, 9051.5859375, 15090.5322265625, 12152.6875, 8534.7939453125, 20338.939453125, 29025.09765625, 29563.20703125, 17673.103515625, 1218.0616455078125, 809.9600219726562, 374.7034606933594, 359.5964050292969, 349.3330993652344, 347.57421875, 341.2371520996094, 334.0612487792969, 325.54669189453125, 317.42626953125, 317.3748474121094, 313.40643310546875, 703.017822265625, 299.9057312011719, 298.77557373046875, 288.52294921875, 285.4437255859375, 283.8003845214844, 274.0247497558594, 260.42901611328125, 241.52061462402344, 238.88516235351562, 237.57762145996094, 236.84947204589844, 234.9079132080078, 234.73956298828125, 234.73956298828125, 234.2717742919922, 234.2717742919922, 233.80133056640625, 369.18377685546875, 332.20965576171875, 1858.7193603515625, 877.9411010742188, 2360.11669921875, 2073.943115234375, 2395.021240234375, 865.0031127929688, 2406.083984375, 953.6543579101562, 2491.05322265625, 2447.5029296875, 1502.20849609375, 1259.706787109375, 4412.7509765625, 2323.885009765625, 2272.8408203125, 12049.326171875, 8545.7197265625, 74572.3671875, 1687.11474609375, 8534.7939453125, 28898.677734375, 26578.185546875, 2480.508056640625, 3331.20068359375, 6401.62841796875, 1139.672119140625, 28103.8359375, 21896.869140625, 17101.888671875, 18080.09375, 16413.19921875, 5617.46435546875, 11159.05078125, 23876.921875, 26425.033203125, 8622.966796875, 1356.08251953125, 1234.9493408203125, 1207.569580078125, 1144.4822998046875, 1107.790283203125, 1089.02880859375, 1082.951171875, 943.2688598632812, 940.2672119140625, 910.4710083007812, 906.6857299804688, 904.7748413085938, 868.9254760742188, 865.2224731445312, 624.951904296875, 615.8391723632812, 614.9228515625, 609.3279418945312, 599.0775756835938, 590.237060546875, 517.4462280273438, 460.8353576660156, 416.0637512207031, 391.80975341796875, 379.9136962890625, 375.1294860839844, 374.4585876464844, 369.667724609375, 331.9850769042969, 314.5086364746094, 3444.97802734375, 1121.2567138671875, 2360.620849609375, 9063.2080078125, 4927.61865234375, 1253.0438232421875, 1437.5074462890625, 1917.2733154296875, 3606.763916015625, 3805.7900390625, 2281.51318359375, 7807.552734375, 5510.35888671875, 11504.361328125, 8594.751953125, 8918.658203125, 18313.2578125, 25122.009765625, 9756.076171875, 16413.19921875, 28898.677734375, 20461.638671875, 35324.5234375, 29563.20703125, 9723.2119140625, 5135.61572265625, 4254.88916015625, 4020.04541015625, 2743.973876953125, 1516.139892578125, 1486.162109375, 1414.436279296875, 833.7647094726562, 569.3295288085938, 363.5757751464844, 288.4665222167969, 283.8789978027344, 274.2951354980469, 4250.27001953125, 232.89707946777344, 231.6599884033203, 214.2406463623047, 208.8123321533203, 202.99119567871094, 200.84799194335938, 196.90518188476562, 343.34417724609375, 189.00390625, 174.30038452148438, 171.9469757080078, 154.24981689453125, 150.82452392578125, 140.62889099121094, 140.3231201171875, 135.65565490722656, 1911.586181640625, 444.6817932128906, 695.4634399414062, 3378.550048828125, 421.5557861328125, 2104.755126953125, 213.63011169433594, 264.9046936035156, 1238.857421875, 566.9925537109375, 1933.0247802734375, 566.247802734375, 795.6469116210938, 21896.869140625, 11504.361328125, 1169.011474609375, 4613.99267578125, 625.3504028320312, 4066.405029296875, 12986.916015625, 26267.400390625, 6493.90380859375, 3864.251708984375, 11320.6513671875, 28103.8359375, 35324.5234375, 20461.638671875, 3328.486083984375, 14545.55078125, 17119.44921875, 12554.7001953125, 9126.294921875, 26578.185546875, 2674.4912109375, 1408.989501953125, 893.8667602539062, 824.9646606445312, 774.602783203125, 705.9485473632812, 678.31982421875, 604.2564697265625, 413.052001953125, 393.5537414550781, 339.6487121582031, 318.56793212890625, 251.052001953125, 247.4621124267578, 2092.70751953125, 245.60240173339844, 203.6558380126953, 180.02569580078125, 179.73602294921875, 154.02906799316406, 152.31976318359375, 148.19866943359375, 142.35800170898438, 132.60848999023438, 124.0272216796875, 123.58477020263672, 122.13895416259766, 122.07901763916016, 121.13497924804688, 109.97293090820312, 217.49977111816406, 135.5992889404297, 403.05523681640625, 1127.97802734375, 383.27294921875, 287.7952880859375, 7807.552734375, 1170.184326171875, 4659.38037109375, 1428.4339599609375, 1505.09228515625, 314.20355224609375, 5341.75439453125, 1169.54736328125, 2495.5810546875, 5533.59765625, 3036.742431640625, 9969.1328125, 10837.314453125, 26267.400390625, 2384.429443359375, 12194.1259765625, 1464.779052734375, 14883.1376953125, 29563.20703125, 8681.5576171875, 74572.3671875, 4437.2021484375, 4678.76513671875], \"loglift\": [30.0, 29.0, 28.0, 27.0, 26.0, 25.0, 24.0, 23.0, 22.0, 21.0, 20.0, 19.0, 18.0, 17.0, 16.0, 15.0, 14.0, 13.0, 12.0, 11.0, 10.0, 9.0, 8.0, 7.0, 6.0, 5.0, 4.0, 3.0, 2.0, 1.0, 2.1161000728607178, 2.1161000728607178, 2.115999937057495, 2.115999937057495, 2.115999937057495, 2.115999937057495, 2.115999937057495, 2.115999937057495, 2.115999937057495, 2.115999937057495, 2.115999937057495, 2.1159000396728516, 2.1159000396728516, 2.1159000396728516, 2.1159000396728516, 2.115799903869629, 2.115799903869629, 2.115799903869629, 2.115799903869629, 2.1157000064849854, 2.1157000064849854, 2.1157000064849854, 2.1157000064849854, 2.115600109100342, 2.115600109100342, 2.115600109100342, 2.115499973297119, 2.115499973297119, 2.115499973297119, 2.1154000759124756, 2.1106998920440674, 2.111999988555908, 2.114300012588501, 2.1142001152038574, 2.1142001152038574, 2.106800079345703, 2.096400022506714, 2.0940001010894775, 2.088399887084961, 2.0836000442504883, 2.077500104904175, 2.036400079727173, 1.9462000131607056, 2.0160999298095703, 2.0462000370025635, 1.9973000288009644, 1.9972000122070312, 1.864400029182434, 1.819100022315979, 1.7948999404907227, 1.4871000051498413, 1.7831000089645386, 1.465399980545044, 1.5573999881744385, 1.81850004196167, 1.479599952697754, 1.7135000228881836, 1.4722000360488892, 1.1425000429153442, 0.7394999861717224, 0.7379000186920166, 1.1898000240325928, 0.22259999811649323, 0.6151999831199646, 1.0839999914169312, 0.9423999786376953, 1.1382999420166016, 0.6802999973297119, 0.44690001010894775, 0.7253000140190125, 1.3177000284194946, 0.35760000348091125, 0.13089999556541443, 0.7524999976158142, 0.5533999800682068, 0.4964999854564667, 0.325300008058548, 2.190700054168701, 2.190700054168701, 2.190700054168701, 2.190700054168701, 2.190700054168701, 2.190700054168701, 2.190700054168701, 2.1905999183654785, 2.1905999183654785, 2.1905999183654785, 2.1905999183654785, 2.1905999183654785, 2.190500020980835, 2.1903998851776123, 2.1903998851776123, 2.1903998851776123, 2.1902999877929688, 2.1902999877929688, 2.1902999877929688, 2.1902999877929688, 2.1902999877929688, 2.190200090408325, 2.190200090408325, 2.190000057220459, 2.190000057220459, 2.190000057220459, 2.1898999214172363, 2.1898999214172363, 2.1898000240325928, 2.1898000240325928, 2.1891000270843506, 2.181299924850464, 2.1700000762939453, 2.187000036239624, 2.1468000411987305, 2.077500104904175, 2.059000015258789, 2.0838000774383545, 2.0069000720977783, 2.00819993019104, 2.126499891281128, 1.9648000001907349, 1.8142999410629272, 2.07669997215271, 1.9408999681472778, 1.6008000373840332, 1.8846999406814575, 2.0378000736236572, 2.0118000507354736, 1.3539999723434448, 1.2829999923706055, 1.4658000469207764, 1.198099970817566, 1.2975000143051147, 0.9014000296592712, 1.6025999784469604, 0.484499990940094, 1.0918999910354614, 0.7408999800682068, 0.9797000288963318, 1.3008999824523926, 1.7984999418258667, 1.6900999546051025, 0.49160000681877136, 0.6920999884605408, 1.3329999446868896, 0.39629998803138733, 0.491100013256073, 0.5023999810218811, 0.09960000216960907, 0.6225000023841858, -0.2930000126361847, 2.283400058746338, 2.2832999229431152, 2.2832999229431152, 2.2832999229431152, 2.2832999229431152, 2.2832999229431152, 2.2832999229431152, 2.2832999229431152, 2.2832999229431152, 2.2832999229431152, 2.2832999229431152, 2.2832999229431152, 2.2832000255584717, 2.2832000255584717, 2.2832000255584717, 2.2832000255584717, 2.2832000255584717, 2.2832000255584717, 2.2832000255584717, 2.2832000255584717, 2.2832000255584717, 2.2832000255584717, 2.2832000255584717, 2.283099889755249, 2.283099889755249, 2.283099889755249, 2.283099889755249, 2.283099889755249, 2.283099889755249, 2.283099889755249, 2.2827999591827393, 2.281599998474121, 2.2815001010894775, 2.2783000469207764, 2.2780001163482666, 2.277600049972534, 2.2562999725341797, 2.2342000007629395, 2.1552000045776367, 2.2351999282836914, 2.2781999111175537, 2.2402000427246094, 2.1826999187469482, 2.1939001083374023, 1.9493000507354736, 1.9773000478744507, 1.9225000143051147, 2.0039000511169434, 1.8479000329971313, 1.672700047492981, 1.6577999591827393, 2.128499984741211, 0.46380001306533813, 1.4479000568389893, 1.0312999486923218, 1.5570000410079956, 0.8849999904632568, 0.8894000053405762, 1.5473999977111816, 1.5535999536514282, 0.35760000348091125, 0.3700000047683716, 1.614799976348877, 0.392300009727478, 1.835800051689148, 0.9782999753952026, 0.7286999821662903, 1.201300024986267, 0.6492000222206116, 1.1674000024795532, -0.08799999952316284, 0.36410000920295715, 0.5203999876976013, 1.083299994468689, 0.1738000065088272, -0.08299999684095383, 0.22139999270439148, 0.5146999955177307, 0.22589999437332153, -0.23350000381469727, -0.28279998898506165, -0.3610999882221222, -0.3393000066280365, 2.356100082397461, 2.3559000492095947, 2.3554999828338623, 2.355299949645996, 2.355299949645996, 2.35509991645813, 2.35509991645813, 2.35509991645813, 2.3550000190734863, 2.3550000190734863, 2.3548998832702637, 2.3548998832702637, 2.35479998588562, 2.35479998588562, 2.3547000885009766, 2.354599952697754, 2.354599952697754, 2.3545000553131104, 2.3545000553131104, 2.3543999195098877, 2.354300022125244, 2.3541998863220215, 2.354099988937378, 2.354099988937378, 2.3540000915527344, 2.353800058364868, 2.353800058364868, 2.3536999225616455, 2.3536999225616455, 2.353600025177002, 2.3515000343322754, 2.3506999015808105, 2.2439000606536865, 2.3364999294281006, 2.2251999378204346, 2.135200023651123, 2.089200019836426, 2.261399984359741, 2.3176000118255615, 2.239799976348877, 2.0868000984191895, 1.932800054550171, 1.9652999639511108, 1.9643000364303589, 1.7962000370025635, 2.271899938583374, 2.27020001411438, 1.7273999452590942, 2.0845999717712402, 1.63100004196167, 1.937000036239624, 1.9372999668121338, 1.586400032043457, 1.8610999584197998, 1.8628000020980835, 1.7553999423980713, 1.7918000221252441, 1.4178999662399292, 1.8737000226974487, 2.038100004196167, 2.113600015640259, 1.2453999519348145, 1.392699956893921, 1.4630000591278076, 1.5390000343322754, 1.3874000310897827, 1.367300033569336, 1.1747000217437744, 0.6266000270843506, 1.351099967956543, 1.1855000257492065, 1.3229999542236328, 0.9085999727249146, 1.3040000200271606, 1.1440999507904053, 1.1536999940872192, 1.1966999769210815, 0.6308000087738037, 0.7028999924659729, 0.9725000262260437, 2.4042000770568848, 2.4042000770568848, 2.4042000770568848, 2.4042000770568848, 2.4042000770568848, 2.4042000770568848, 2.4042000770568848, 2.4042000770568848, 2.4042000770568848, 2.4042000770568848, 2.4042000770568848, 2.4042000770568848, 2.4042000770568848, 2.4042000770568848, 2.4042000770568848, 2.4042000770568848, 2.4042000770568848, 2.4042000770568848, 2.4042000770568848, 2.4042000770568848, 2.4042000770568848, 2.4042000770568848, 2.4042000770568848, 2.4042000770568848, 2.4042000770568848, 2.4042000770568848, 2.4042000770568848, 2.4042000770568848, 2.4042000770568848, 2.4042000770568848, 2.3975000381469727, 2.396199941635132, 2.392400026321411, 2.3810999393463135, 2.300100088119507, 2.3738999366760254, 2.1584999561309814, 2.0107998847961426, 2.1161000728607178, 1.4617999792099, 1.950600028038025, 2.2065999507904053, 0.5117999911308289, 1.1893999576568604, 0.572700023651123, 1.6758999824523926, 0.8924000263214111, -0.30070000886917114, 0.6183000206947327, 1.5844999551773071, 1.2668999433517456, 0.5899999737739563, 0.5103999972343445, 0.24070000648498535, -0.04050000011920929, 2.4381000995635986, 2.437999963760376, 2.437999963760376, 2.437999963760376, 2.437999963760376, 2.4379000663757324, 2.4379000663757324, 2.4379000663757324, 2.4379000663757324, 2.4377999305725098, 2.437700033187866, 2.437700033187866, 2.437700033187866, 2.4375998973846436, 2.4375998973846436, 2.4375998973846436, 2.4375998973846436, 2.4375998973846436, 2.4375998973846436, 2.4375998973846436, 2.4375, 2.4374001026153564, 2.4374001026153564, 2.437299966812134, 2.437299966812134, 2.437299966812134, 2.437299966812134, 2.4372000694274902, 2.4372000694274902, 2.4372000694274902, 2.424799919128418, 2.4179999828338623, 2.399899959564209, 2.3784000873565674, 2.420099973678589, 2.3808000087738037, 2.422499895095825, 2.4128000736236572, 2.2750000953674316, 2.3111000061035156, 2.2385001182556152, 2.2502999305725098, 2.306299924850464, 2.0239999294281006, 2.022900104522705, 2.178299903869629, 2.057800054550171, 2.190999984741211, 2.271699905395508, 1.5247000455856323, 1.9019999504089355, 2.1735999584198, 1.7805999517440796, 1.9495999813079834, 1.1586999893188477, 0.6887999773025513, 1.320199966430664, 1.4372999668121338, 1.4256999492645264, 0.998199999332428, 1.4630000591278076, 0.7440999746322632, 1.5032999515533447, 0.7497000098228455, 0.7526999711990356, 1.3107999563217163, 0.45590001344680786, 1.0755000114440918, -0.907800018787384, -0.24050000309944153, 0.10649999976158142, -0.3686999976634979, 0.03849999979138374, 0.5899999737739563, 0.37610000371932983, 0.006300000008195639, 2.578399896621704, 2.578399896621704, 2.578399896621704, 2.578399896621704, 2.578399896621704, 2.5782999992370605, 2.5782999992370605, 2.578200101852417, 2.578200101852417, 2.578200101852417, 2.578200101852417, 2.5780999660491943, 2.5780999660491943, 2.5780999660491943, 2.578000068664551, 2.578000068664551, 2.577899932861328, 2.577899932861328, 2.5778000354766846, 2.5778000354766846, 2.577699899673462, 2.577699899673462, 2.577699899673462, 2.5776000022888184, 2.5776000022888184, 2.5776000022888184, 2.5776000022888184, 2.577500104904175, 2.577500104904175, 2.577399969100952, 2.575900077819824, 2.5771000385284424, 2.5546998977661133, 2.5374999046325684, 2.544300079345703, 2.5596001148223877, 2.540800094604492, 2.54830002784729, 2.561800003051758, 2.5362000465393066, 2.5385000705718994, 2.3877999782562256, 2.520900011062622, 2.3189001083374023, 2.412400007247925, 2.3113999366760254, 2.07450008392334, 1.9639999866485596, 1.7599999904632568, 1.7812000513076782, 1.743399977684021, 1.9752999544143677, 2.360100030899048, 1.0964000225067139, 1.1898000240325928, 1.1758999824523926, 1.3853000402450562, 0.9930999875068665, 0.8550999760627747, 0.9248999953269958, 0.730400025844574, 0.9643999934196472, 1.2360999584197998, 1.3125, 1.2978999614715576, 0.42640000581741333, 1.0161999464035034, 0.6050000190734863, 0.7401999831199646, 0.07800000160932541, 0.016499999910593033, 2.6584999561309814, 2.6582999229431152, 2.6582999229431152, 2.6582999229431152, 2.6582000255584717, 2.6582000255584717, 2.6582000255584717, 2.658099889755249, 2.658099889755249, 2.6579999923706055, 2.6579999923706055, 2.6579999923706055, 2.6579999923706055, 2.6579999923706055, 2.657900094985962, 2.657900094985962, 2.6577999591827393, 2.6577999591827393, 2.6577999591827393, 2.6577999591827393, 2.6577999591827393, 2.6577000617980957, 2.6577000617980957, 2.6577000617980957, 2.6577000617980957, 2.657599925994873, 2.6575000286102295, 2.657399892807007, 2.657399892807007, 2.657399892807007, 2.6572999954223633, 2.6333000659942627, 2.6547000408172607, 2.6572000980377197, 2.6503000259399414, 2.647900104522705, 2.6405999660491943, 2.6356000900268555, 2.639899969100952, 2.510499954223633, 2.333899974822998, 2.591200113296509, 2.321899890899658, 2.456199884414673, 2.0618999004364014, 2.17330002784729, 1.8186999559402466, 2.4971001148223877, 2.226900100708008, 1.9884999990463257, 1.8451000452041626, 2.1034998893737793, 2.2788000106811523, 1.9386999607086182, 1.5176000595092773, 1.8840999603271484, 2.1087000370025635, 2.0669000148773193, 1.837399959564209, 2.295300006866455, 1.287600040435791, 1.6647000312805176, 1.7389999628067017, 1.7020000219345093, 1.0583000183105469, 1.7065999507904053, 1.8154000043869019, 0.9519000053405762, 1.3867000341415405, 1.0755000114440918, 1.350600004196167, 0.4846000075340271, -0.10260000079870224, 0.41690000891685486, 0.4652999937534332, 1.308500051498413, 0.2547000050544739, 0.4092000126838684, 0.9708999991416931, 0.26170000433921814, 0.2700999975204468, 0.5925999879837036, 0.9764999747276306, 0.14100000262260437, 3.001300096511841, 3.001300096511841, 3.001300096511841, 3.001300096511841, 3.001300096511841, 3.001300096511841, 3.001300096511841, 3.001199960708618, 3.001199960708618, 3.001199960708618, 3.001199960708618, 3.001199960708618, 3.001199960708618, 3.001199960708618, 3.001199960708618, 3.001199960708618, 3.0011000633239746, 3.0011000633239746, 3.0011000633239746, 3.0011000633239746, 3.0011000633239746, 3.0011000633239746, 3.0011000633239746, 3.0011000633239746, 3.0011000633239746, 3.0011000633239746, 3.0011000633239746, 3.000999927520752, 3.000999927520752, 3.000999927520752, 2.943700075149536, 2.963599920272827, 2.9386000633239746, 2.680000066757202, 2.9131999015808105, 2.754699945449829, 2.863800048828125, 2.655600070953369, 2.002500057220459, 2.9458999633789062, 1.9847999811172485, 2.197000026702881, 1.3973000049591064, 1.041599988937378, 0.9825000166893005, 1.7131999731063843, 1.863800048828125, 0.7603999972343445, 2.2427000999450684, 1.0871000289916992, 0.8909000158309937, -0.2667999863624573, 0.9179999828338623, 0.5982999801635742, 0.2671000063419342, 0.1981000006198883, 0.830299973487854, 0.24390000104904175, 0.10090000182390213, 0.7993000149726868, 1.468500018119812, 0.8557999730110168, 3.1642000675201416, 3.1642000675201416, 3.1642000675201416, 3.1642000675201416, 3.1642000675201416, 3.1642000675201416, 3.164099931716919, 3.164099931716919, 3.164099931716919, 3.164099931716919, 3.164099931716919, 3.164099931716919, 3.164099931716919, 3.164099931716919, 3.164099931716919, 3.164099931716919, 3.1640000343322754, 3.1640000343322754, 3.1640000343322754, 3.1640000343322754, 3.1640000343322754, 3.1640000343322754, 3.1638998985290527, 3.1638998985290527, 3.1638998985290527, 3.1638998985290527, 3.1638998985290527, 3.1638998985290527, 3.1638998985290527, 3.1638998985290527, 3.1389999389648438, 3.115000009536743, 2.9893999099731445, 3.1154000759124756, 2.7388999462127686, 2.316699981689453, 2.515500068664551, 2.2035999298095703, 2.435800075531006, 2.602099895477295, 2.473900079727173, 1.2289999723434448, 0.7394000291824341, 1.0390000343322754, 2.283900022506714, -0.07429999858140945, 1.3839000463485718, 0.4643999934196472, 0.8787000179290771, 0.18870000541210175, 1.5003000497817993, 0.23690000176429749, 0.3714999854564667, 0.07429999858140945, 0.301800012588501, 0.3614000082015991, 3.181999921798706, 3.181999921798706, 3.181999921798706, 3.181999921798706, 3.181999921798706, 3.181999921798706, 3.1819000244140625, 3.1819000244140625, 3.1819000244140625, 3.1819000244140625, 3.1819000244140625, 3.18179988861084, 3.18179988861084, 3.18179988861084, 3.18179988861084, 3.18179988861084, 3.18179988861084, 3.18179988861084, 3.18179988861084, 3.18179988861084, 3.18179988861084, 3.1816999912261963, 3.1816999912261963, 3.1816999912261963, 3.1816999912261963, 3.1816999912261963, 3.1816999912261963, 3.1816999912261963, 3.1816999912261963, 3.1816999912261963, 3.1740000247955322, 3.164799928665161, 3.1522998809814453, 3.1289000511169434, 2.5541999340057373, 2.911900043487549, 2.5113000869750977, 2.5929999351501465, 2.4277000427246094, 3.1321001052856445, 1.4117000102996826, 2.664400100708008, 1.8252999782562256, 1.1926000118255615, 2.8089001178741455, 1.3507000207901, 1.5413999557495117, 1.7918000221252441, 1.2417999505996704, 0.9703999757766724, 1.9881999492645264, 0.4740000069141388, 1.2812999486923218, 0.6741999983787537, 1.5305999517440796, 1.1319999694824219, 0.6906999945640564, 0.8256000280380249, 1.13510000705719, 0.35260000824928284, 0.027899999171495438, 0.002099999925121665, 0.4043000042438507, 3.2669999599456787, 3.266900062561035, 3.2665998935699463, 3.2665998935699463, 3.2665998935699463, 3.2665998935699463, 3.2665998935699463, 3.2665998935699463, 3.2665998935699463, 3.2665998935699463, 3.2665998935699463, 3.2665998935699463, 3.2664999961853027, 3.2664999961853027, 3.2664999961853027, 3.2664999961853027, 3.2664999961853027, 3.2664999961853027, 3.2664999961853027, 3.266400098800659, 3.266400098800659, 3.266400098800659, 3.266400098800659, 3.266400098800659, 3.266400098800659, 3.266400098800659, 3.266400098800659, 3.266400098800659, 3.266400098800659, 3.266400098800659, 3.25819993019104, 3.2592999935150146, 3.2039999961853027, 3.2197999954223633, 3.1201000213623047, 3.0748000144958496, 3.042799949645996, 3.086699962615967, 2.9375998973846436, 3.0215001106262207, 2.843100070953369, 2.648200035095215, 2.7035999298095703, 2.7093000411987305, 2.2135000228881836, 2.4379000663757324, 2.3578999042510986, 1.5856000185012817, 1.683899998664856, 0.5756000280380249, 2.441200017929077, 1.593999981880188, 0.9147999882698059, 0.8848999738693237, 2.164400100708008, 1.99590003490448, 1.5996999740600586, 2.593899965286255, 0.6639999747276306, 0.6707000136375427, 0.6710000038146973, 0.5389000177383423, 0.5866000056266785, 1.4744000434875488, 0.8481000065803528, 0.07959999889135361, -0.08079999685287476, 0.9550999999046326, 3.56469988822937, 3.56469988822937, 3.56469988822937, 3.5645999908447266, 3.5645999908447266, 3.5645999908447266, 3.5645999908447266, 3.5645999908447266, 3.5645999908447266, 3.5645999908447266, 3.5645999908447266, 3.5645999908447266, 3.5645999908447266, 3.5645999908447266, 3.564500093460083, 3.564500093460083, 3.564500093460083, 3.564500093460083, 3.564500093460083, 3.564500093460083, 3.564500093460083, 3.5643999576568604, 3.5643999576568604, 3.564300060272217, 3.564300060272217, 3.564300060272217, 3.564300060272217, 3.564300060272217, 3.564300060272217, 3.564199924468994, 3.547100067138672, 3.4916999340057373, 3.3094000816345215, 2.801800012588501, 2.8399999141693115, 3.2054998874664307, 3.1187000274658203, 3.004199981689453, 2.7553999423980713, 2.725100040435791, 2.932499885559082, 2.40339994430542, 2.464400053024292, 1.6921000480651855, 1.8580000400543213, 1.8118000030517578, 1.280500054359436, 0.8281000256538391, 1.55840003490448, 1.0156999826431274, 0.5103999972343445, 0.8138999938964844, 0.2939999997615814, 0.2985999882221222, 1.3014999628067017, 3.693000078201294, 3.693000078201294, 3.693000078201294, 3.6928999423980713, 3.6928999423980713, 3.6928999423980713, 3.6928999423980713, 3.6928000450134277, 3.692699909210205, 3.6926000118255615, 3.692500114440918, 3.692500114440918, 3.6923999786376953, 3.6923999786376953, 3.6923000812530518, 3.6923000812530518, 3.6923000812530518, 3.6923000812530518, 3.692199945449829, 3.692199945449829, 3.692199945449829, 3.692199945449829, 3.692199945449829, 3.6921000480651855, 3.6921000480651855, 3.691999912261963, 3.691999912261963, 3.6919000148773193, 3.6919000148773193, 3.6919000148773193, 3.686800003051758, 3.6807000637054443, 3.6702001094818115, 3.595900058746338, 3.65120005607605, 3.536900043487549, 3.6774001121520996, 3.6568000316619873, 3.461899995803833, 3.55049991607666, 3.2499001026153564, 3.379499912261963, 3.270699977874756, 2.0439999103546143, 2.1768999099731445, 3.037600040435791, 2.4223999977111816, 3.269399881362915, 2.1930999755859375, 1.4744000434875488, 1.0562000274658203, 1.8271000385284424, 2.149899959564209, 1.409000039100647, 0.7281000018119812, 0.5382999777793884, 0.8292999863624573, 2.1893999576568604, 0.9609000086784363, 0.7889999747276306, 1.0365999937057495, 1.2821999788284302, 0.2547999918460846, 3.788300037384033, 3.7881999015808105, 3.788100004196167, 3.788100004196167, 3.788100004196167, 3.788100004196167, 3.788100004196167, 3.7880001068115234, 3.787899971008301, 3.787899971008301, 3.7878000736236572, 3.7878000736236572, 3.787600040435791, 3.787600040435791, 3.787600040435791, 3.787600040435791, 3.7874999046325684, 3.787400007247925, 3.787400007247925, 3.7871999740600586, 3.7871999740600586, 3.787100076675415, 3.787100076675415, 3.7869999408721924, 3.786900043487549, 3.786900043487549, 3.786900043487549, 3.786900043487549, 3.786900043487549, 3.7867000102996826, 3.783900022506714, 3.7860000133514404, 3.762200117111206, 3.7009999752044678, 3.5952999591827393, 3.639699935913086, 2.9681999683380127, 3.329900026321411, 2.8882999420166016, 3.188800096511841, 3.1394999027252197, 3.5555999279022217, 2.552000045776367, 3.0945000648498535, 2.709199905395508, 2.2885000705718994, 2.462899923324585, 1.7766000032424927, 1.717900037765503, 1.1363999843597412, 2.489000082015991, 1.5056999921798706, 2.7690999507904053, 0.9854000210762024, 0.43220001459121704, 1.3788000345230103, -0.49959999322891235, 1.806399941444397, 1.739300012588501], \"logprob\": [30.0, 29.0, 28.0, 27.0, 26.0, 25.0, 24.0, 23.0, 22.0, 21.0, 20.0, 19.0, 18.0, 17.0, 16.0, 15.0, 14.0, 13.0, 12.0, 11.0, 10.0, 9.0, 8.0, 7.0, 6.0, 5.0, 4.0, 3.0, 2.0, 1.0, -5.087399959564209, -5.661900043487549, -6.018099784851074, -6.144700050354004, -6.251500129699707, -6.291500091552734, -6.293600082397461, -6.302000045776367, -6.3109002113342285, -6.311600208282471, -6.327700138092041, -6.573400020599365, -6.7657999992370605, -6.835599899291992, -6.862500190734863, -7.090099811553955, -7.101399898529053, -7.111199855804443, -7.128499984741211, -7.186600208282471, -5.725299835205078, -7.011099815368652, -7.331500053405762, -7.372000217437744, -7.439799785614014, -7.441100120544434, -7.5879998207092285, -7.601600170135498, -7.642199993133545, -7.6579999923706055, -5.850100040435791, -6.75540018081665, -7.253499984741211, -7.246699810028076, -7.248000144958496, -6.533599853515625, -6.004799842834473, -6.610199928283691, -6.477099895477295, -6.479599952697754, -6.5183000564575195, -5.914700031280518, -5.137199878692627, -5.947299957275391, -6.3684000968933105, -5.981800079345703, -6.013700008392334, -5.250999927520752, -5.110199928283691, -5.196400165557861, -3.991300106048584, -5.337699890136719, -4.532299995422363, -4.996099948883057, -5.825099945068359, -5.141300201416016, -5.717599868774414, -5.33620023727417, -4.808800220489502, -4.208199977874756, -4.316199779510498, -4.9882001876831055, -3.7999000549316406, -4.383200168609619, -4.997600078582764, -4.841400146484375, -5.161300182342529, -4.813700199127197, -4.61899995803833, -4.894899845123291, -5.447299957275391, -4.964200019836426, -4.928999900817871, -5.273799896240234, -5.411600112915039, -5.425600051879883, -5.445000171661377, -5.59060001373291, -5.99459981918335, -6.064300060272217, -6.1041998863220215, -6.106599807739258, -6.108099937438965, -6.121799945831299, -6.168099880218506, -6.174600124359131, -6.192299842834473, -6.2270002365112305, -6.256400108337402, -6.547699928283691, -6.915200233459473, -6.947999954223633, -6.9980998039245605, -7.181700229644775, -7.205100059509277, -7.258900165557861, -7.26170015335083, -7.262599945068359, -7.458000183105469, -7.470900058746338, -7.740200042724609, -7.743899822235107, -7.7519001960754395, -7.7708001136779785, -7.753699779510498, -7.591800212860107, -7.491700172424316, -5.3618998527526855, -4.609799861907959, -4.0767998695373535, -6.825799942016602, -6.0167999267578125, -4.482100009918213, -4.235400199890137, -5.184100151062012, -3.7572999000549316, -4.405700206756592, -6.469799995422363, -4.963200092315674, -3.4414000511169434, -6.244800090789795, -5.365600109100342, -3.509700059890747, -5.156400203704834, -6.089200019836426, -6.025700092315674, -3.65120005607605, -4.032700061798096, -4.756400108337402, -4.296999931335449, -4.5731000900268555, -3.868299961090088, -5.2617998123168945, -3.5380001068115234, -4.646299839019775, -4.3190999031066895, -4.613800048828125, -5.0578999519348145, -5.675300121307373, -5.573800086975098, -4.506800174713135, -4.747399806976318, -5.301499843597412, -4.657800197601318, -4.82450008392334, -4.924200057983398, -4.866499900817871, -5.181600093841553, -5.240699768066406, -6.209400177001953, -6.191500186920166, -6.230800151824951, -6.306000232696533, -6.39739990234375, -6.45359992980957, -6.4766998291015625, -6.49429988861084, -6.536900043487549, -6.5507001876831055, -6.58620023727417, -6.621300220489502, -6.445099830627441, -6.686299800872803, -6.708499908447266, -6.705999851226807, -6.787700176239014, -6.772900104522705, -6.818999767303467, -6.819799900054932, -6.828800201416016, -6.890600204467773, -6.4182000160217285, -6.908699989318848, -6.9756999015808105, -6.982399940490723, -6.986000061035156, -6.993000030517578, -6.996500015258789, -7.008900165557861, -6.377299785614014, -6.39739990234375, -6.39739990234375, -6.403800010681152, -6.422599792480469, -6.731200218200684, -6.136199951171875, -5.689599990844727, -4.894700050354004, -6.254799842834473, -6.7606000900268555, -6.347499847412109, -5.983699798583984, -6.1666998863220215, -4.808700084686279, -5.028800010681152, -5.332300186157227, -5.728000164031982, -5.483099937438965, -5.123700141906738, -5.195099830627441, -6.248899936676025, -3.5587000846862793, -5.296199798583984, -4.738999843597412, -5.57420015335083, -4.898799896240234, -4.904900074005127, -5.67609977722168, -5.69320011138916, -4.590199947357178, -4.635200023651123, -5.80109977722168, -4.803100109100342, -6.014699935913086, -5.365600109100342, -5.178899765014648, -5.5507001876831055, -5.1875, -5.546500205993652, -4.857699871063232, -5.118199825286865, -5.217800140380859, -5.55109977722168, -5.1479997634887695, -5.081399917602539, -5.2052001953125, -5.318600177764893, -5.269199848175049, -5.293499946594238, -5.336999893188477, -5.327199935913086, -5.405300140380859, -3.7330000400543213, -5.971099853515625, -7.188499927520752, -7.444200038909912, -7.460100173950195, -7.704400062561035, -7.736000061035156, -7.739500045776367, -7.793799877166748, -7.800899982452393, -7.862599849700928, -7.874100208282471, -7.970900058746338, -7.9934000968933105, -8.057900428771973, -8.114500045776367, -8.118599891662598, -8.164299964904785, -8.177000045776367, -8.250499725341797, -8.307700157165527, -8.347100257873535, -8.400500297546387, -8.419699668884277, -8.467100143432617, -8.53600025177002, -8.543800354003906, -8.58080005645752, -8.606399536132812, -8.6225004196167, -7.713500022888184, -8.339799880981445, -3.3248000144958496, -7.940899848937988, -5.048399925231934, -3.2311999797821045, -3.570199966430664, -6.67519998550415, -7.732699871063232, -6.731800079345703, -4.923399925231934, -3.2284998893737793, -3.6686999797821045, -4.123700141906738, -3.174299955368042, -7.4704999923706055, -7.496200084686279, -3.9296000003814697, -6.293099880218506, -3.5643999576568604, -5.589000225067139, -5.6666998863220215, -4.191500186920166, -5.5991997718811035, -5.60699987411499, -5.239500045776367, -5.487800121307373, -4.021500110626221, -5.855000019073486, -6.497300148010254, -6.792900085449219, -3.7207000255584717, -4.569699764251709, -4.81790018081665, -5.112100124359131, -4.741499900817871, -4.72760009765625, -4.361499786376953, -3.395900011062622, -4.879000186920166, -4.61870002746582, -4.856500148773193, -4.3470001220703125, -4.860300064086914, -4.747399806976318, -4.76140022277832, -4.859099864959717, -4.617099761962891, -4.723700046539307, -4.860799789428711, -3.6366000175476074, -4.186100006103516, -4.448699951171875, -4.772200107574463, -4.8780999183654785, -5.013299942016602, -5.068399906158447, -5.090099811553955, -5.1128997802734375, -5.152400016784668, -5.177499771118164, -5.190899848937988, -5.191699981689453, -5.204400062561035, -5.209499835968018, -5.211900234222412, -5.211100101470947, -5.217400074005127, -5.218200206756592, -5.217599868774414, -5.2241997718811035, -5.24370002746582, -5.251299858093262, -5.304999828338623, -5.317999839782715, -5.32420015335083, -5.397500038146973, -5.409999847412109, -5.42140007019043, -5.435500144958496, -5.113999843597412, -5.120800018310547, -5.0279998779296875, -5.1869001388549805, -4.543499946594238, -5.2017998695373535, -4.488800048828125, -4.6442999839782715, -4.916999816894531, -4.618000030517578, -4.970300197601318, -5.114699840545654, -4.257900238037109, -4.604800224304199, -4.375, -4.884399890899658, -4.589900016784668, -4.323200225830078, -4.697299957275391, -5.033699989318848, -5.098199844360352, -5.0843000411987305, -5.083099842071533, -5.081099987030029, -5.094600200653076, -4.8709001541137695, -5.895299911499023, -5.972599983215332, -6.173600196838379, -6.180600166320801, -6.372300148010254, -6.405900001525879, -6.431399822235107, -6.551599979400635, -6.629700183868408, -7.022299766540527, -7.040800094604492, -7.048099994659424, -7.069699764251709, -6.535299777984619, -7.121500015258789, -7.142099857330322, -7.144700050354004, -7.149199962615967, -7.154099941253662, -7.353600025177002, -7.405600070953369, -7.468800067901611, -7.482100009918213, -7.476799964904785, -7.5524001121521, -7.588900089263916, -7.603899955749512, -7.610899925231934, -7.6620001792907715, -5.496399879455566, -6.1427998542785645, -6.166399955749512, -5.553199768066406, -7.194900035858154, -6.574999809265137, -7.270899772644043, -7.165800094604492, -5.634099960327148, -6.077199935913086, -5.6244001388549805, -5.762800216674805, -6.474299907684326, -5.0055999755859375, -5.137700080871582, -5.891200065612793, -5.508299827575684, -6.140100002288818, -6.499899864196777, -4.311999797821045, -5.792500019073486, -6.446199893951416, -5.648200035095215, -6.051199913024902, -4.964399814605713, -4.377099990844727, -5.204800128936768, -5.3703999519348145, -5.484799861907959, -5.333499908447266, -5.6981000900268555, -5.1778998374938965, -5.740900039672852, -5.379300117492676, -5.420300006866455, -5.6717000007629395, -5.327899932861328, -5.599899768829346, -4.930300235748291, -5.206699848175049, -5.3557000160217285, -5.316400051116943, -5.497700214385986, -5.589799880981445, -5.575099945068359, -5.668000221252441, -4.3684000968933105, -4.474800109863281, -4.700300216674805, -5.206399917602539, -5.304999828338623, -5.475200176239014, -5.73330020904541, -6.0584001541137695, -6.167300224304199, -6.356900215148926, -6.359300136566162, -6.486199855804443, -6.501100063323975, -6.647500038146973, -6.663899898529053, -6.822400093078613, -6.871500015258789, -6.875199794769287, -7.050600051879883, -7.117499828338623, -7.219200134277344, -7.240300178527832, -7.263599872589111, -7.328199863433838, -7.336299896240234, -7.344299793243408, -7.360799789428711, -7.437900066375732, -7.46150016784668, -7.572400093078613, -4.151500225067139, -5.347400188446045, -4.5746002197265625, -4.756499767303467, -5.264900207519531, -6.160900115966797, -5.605299949645996, -5.941699981689453, -6.637400150299072, -6.041299819946289, -6.407800197601318, -4.216800212860107, -6.189599990844727, -3.999500036239624, -5.024799823760986, -5.110499858856201, -4.447700023651123, -4.418300151824951, -3.7339999675750732, -4.278600215911865, -4.313000202178955, -5.088500022888184, -5.951700210571289, -3.67330002784729, -4.05810022354126, -4.139699935913086, -4.485300064086914, -4.32859992980957, -4.204899787902832, -4.390900135040283, -4.323699951171875, -4.51800012588501, -4.715199947357178, -4.767300128936768, -4.848199844360352, -4.639599800109863, -4.937699794769287, -4.8734002113342285, -4.916800022125244, -4.8881001472473145, -4.93120002746582, -6.135799884796143, -6.671999931335449, -6.732100009918213, -6.7480998039245605, -6.897200107574463, -6.918000221252441, -6.971399784088135, -7.013000011444092, -7.059899806976318, -7.1946001052856445, -7.223899841308594, -7.236700057983398, -7.237299919128418, -7.247600078582764, -7.332900047302246, -7.342299938201904, -7.391200065612793, -7.398200035095215, -7.418600082397461, -7.449900150299072, -7.461699962615967, -7.514400005340576, -7.514800071716309, -7.517499923706055, -7.53849983215332, -7.622900009155273, -7.6981000900268555, -7.736100196838379, -7.758999824523926, -7.771599769592285, -6.440800189971924, -4.276400089263916, -6.414100170135498, -7.094699859619141, -6.8684000968933105, -6.8094000816345215, -6.620500087738037, -6.911499977111816, -7.335899829864502, -6.464600086212158, -5.2941999435424805, -7.031799793243408, -5.419300079345703, -6.223100185394287, -4.039400100708008, -4.654900074005127, -3.6435000896453857, -6.644700050354004, -5.587100028991699, -4.691800117492676, -4.261099815368652, -5.4369001388549805, -6.018799781799316, -5.183199882507324, -4.508699893951416, -5.369800090789795, -5.853700160980225, -5.844099998474121, -5.426499843597412, -6.27269983291626, -4.557600021362305, -5.213099956512451, -5.336599826812744, -5.2947998046875, -4.423999786376953, -5.425099849700928, -5.587600231170654, -4.5432000160217285, -5.205399990081787, -4.88700008392334, -5.297699928283691, -4.575300216674805, -4.125100135803223, -4.553599834442139, -4.696100234985352, -5.2941999435424805, -4.750400066375732, -4.906499862670898, -5.1579999923706055, -5.059999942779541, -5.09630012512207, -5.177700042724609, -5.268700122833252, -5.285699844360352, -5.218599796295166, -5.22160005569458, -5.238900184631348, -5.28879976272583, -5.2916998863220215, -5.377099990844727, -5.379199981689453, -5.494500160217285, -5.496600151062012, -5.570300102233887, -5.570300102233887, -5.556399822235107, -5.555500030517578, -5.715000152587891, -5.760799884796143, -5.8144001960754395, -5.918399810791016, -5.921899795532227, -5.936399936676025, -5.939799785614014, -5.946000099182129, -5.953999996185303, -5.9542999267578125, -5.953999996185303, -5.953999996185303, -5.953999996185303, -5.983799934387207, -6.162600040435791, -6.172399997711182, -6.228400230407715, -2.919300079345703, -5.21150016784668, -5.547100067138672, -4.1082000732421875, -5.521500110626221, -5.254300117492676, -5.566699981689453, -5.204100131988525, -4.1118998527526855, -5.860799789428711, -4.478600025177002, -4.937099933624268, -4.222899913787842, -3.924499988555908, -4.127999782562256, -4.809000015258789, -4.995100021362305, -4.305500030517578, -5.26669979095459, -4.749599933624268, -4.702600002288818, -4.289299964904785, -4.75629997253418, -4.717199802398682, -4.731200218200684, -4.807000160217285, -5.014999866485596, -4.951499938964844, -4.959000110626221, -5.1656999588012695, -5.225900173187256, -5.2453999519348145, -4.850599765777588, -4.862100124359131, -4.869200229644775, -4.880099773406982, -4.889500141143799, -4.9096999168396, -4.934100151062012, -4.945700168609619, -4.953800201416016, -4.956999778747559, -4.957300186157227, -4.958799839019775, -4.977099895477295, -4.999300003051758, -5.031899929046631, -5.229300022125244, -5.4710001945495605, -5.474999904632568, -5.513400077819824, -5.682000160217285, -5.7480998039245605, -5.771699905395508, -5.837100028991699, -5.853400230407715, -5.854300022125244, -5.855899810791016, -5.857800006866455, -5.8628997802734375, -5.997000217437744, -6.021599769592285, -4.8109002113342285, -5.190000057220459, -3.949700117111206, -5.473700046539307, -4.804200172424316, -3.8303000926971436, -4.61929988861084, -4.128200054168701, -5.07289981842041, -5.266499996185303, -5.1595001220703125, -4.30709981918335, -4.030300140380859, -4.4232001304626465, -5.061399936676025, -4.096799850463867, -4.799200057983398, -4.589700222015381, -4.755300045013428, -4.777400016784668, -4.962299823760986, -4.829100131988525, -4.876500129699707, -4.873499870300293, -4.953800201416016, -4.954100131988525, -4.718699932098389, -4.772500038146973, -4.875100135803223, -4.953700065612793, -5.071899890899658, -5.095200061798096, -5.285200119018555, -5.295499801635742, -5.571899890899658, -5.3221001625061035, -5.624100208282471, -5.649600028991699, -5.651500225067139, -5.652200222015381, -5.656899929046631, -5.813300132751465, -5.840099811553955, -5.893899917602539, -5.894199848175049, -5.905200004577637, -5.926400184631348, -5.928999900817871, -5.93149995803833, -5.936299800872803, -5.9369001388549805, -5.940199851989746, -5.954400062561035, -5.977099895477295, -5.98859977722168, -6.040599822998047, -5.190000057220459, -4.723400115966797, -5.53380012512207, -5.354100227355957, -3.5757999420166016, -5.0858001708984375, -4.1118998527526855, -4.458399772644043, -4.199999809265137, -5.859399795532227, -3.586699962615967, -5.311999797821045, -4.63730001449585, -4.0553998947143555, -5.580900192260742, -4.614299774169922, -4.737800121307373, -4.9475998878479, -4.680200099945068, -4.565800189971924, -5.127200126647949, -4.591899871826172, -4.907599925994873, -4.752500057220459, -5.066199779510498, -4.9994001388549805, -4.929500102996826, -5.011099815368652, -5.054999828338623, -4.969200134277344, -4.938199996948242, -4.9456000328063965, -5.058000087738037, -4.869999885559082, -5.27810001373291, -6.049200057983398, -6.090400218963623, -6.1194000244140625, -6.1244001388549805, -6.142899990081787, -6.164100170135498, -6.189899921417236, -6.215199947357178, -6.215400218963623, -6.228000164031982, -5.420100212097168, -6.271999835968018, -6.2758002281188965, -6.310699939727783, -6.321499824523926, -6.327300071716309, -6.362299919128418, -6.413300037384033, -6.488699913024902, -6.49970006942749, -6.505199909210205, -6.508200168609619, -6.516499996185303, -6.517199993133545, -6.517199993133545, -6.519199848175049, -6.519199848175049, -6.521200180053711, -6.072500228881836, -6.177000045776367, -4.51039981842041, -5.244699954986572, -4.355400085449219, -4.53000020980835, -4.418000221252441, -5.392600059509277, -4.518700122833252, -5.360199928283691, -4.578499794006348, -4.791100025177002, -5.223700046539307, -5.394100189208984, -4.636300086975098, -5.053199768066406, -5.155300140380859, -4.259699821472168, -4.504899978637695, -3.446899890899658, -5.369999885559082, -4.596099853515625, -4.055699825286865, -4.1691999435424805, -5.26140022277832, -5.1350998878479, -4.877999782562256, -5.609600067138672, -4.3343000411987305, -4.577199935913086, -4.824100017547607, -4.900599956512451, -4.9496002197265625, -5.133999824523926, -5.07390022277832, -5.0817999839782715, -5.140699863433838, -5.224800109863281, -4.465000152587891, -4.558599948883057, -4.580999851226807, -4.634699821472168, -4.667300224304199, -4.684299945831299, -4.689899921417236, -4.828100204467773, -4.831200122833252, -4.863500118255615, -4.867599964141846, -4.869699954986572, -4.910200119018555, -4.914400100708008, -5.239799976348877, -5.254499912261963, -5.25600004196167, -5.265200138092041, -5.282100200653076, -5.296999931335449, -5.428699970245361, -5.544600009918213, -5.6468000411987305, -5.706900119781494, -5.73769998550415, -5.750400066375732, -5.752200126647949, -5.765100002288818, -5.872700214385986, -5.926799774169922, -3.550299882888794, -4.728099822998047, -4.165900230407715, -3.328200101852417, -3.899399995803833, -4.903200149536133, -4.85260009765625, -4.679200172424316, -4.296000003814697, -4.272600173950195, -4.576900005340576, -3.875699996948242, -4.1631999015808105, -4.19950008392334, -4.325099945068359, -4.3343000411987305, -4.146100044250488, -4.282400131225586, -4.498000144958496, -4.520400047302246, -4.460100173950195, -4.501800060272217, -4.4756999015808105, -4.649199962615967, -4.758299827575684, -3.0051000118255615, -3.19320011138916, -3.25, -3.6319000720977783, -4.225200176239014, -4.245200157165527, -4.294600009918213, -4.823299884796143, -5.204800128936768, -5.653500080108643, -5.885000228881836, -5.901000022888184, -5.935400009155273, -3.1949000358581543, -6.099100112915039, -6.104400157928467, -6.182600021362305, -6.2083001136779785, -6.236599922180176, -6.247200012207031, -6.267099857330322, -5.711100101470947, -6.30810022354126, -6.389100074768066, -6.402699947357178, -6.511499881744385, -6.533899784088135, -6.604000091552734, -6.606200218200684, -6.639999866485596, -3.9995999336242676, -5.464000225067139, -5.027299880981445, -3.520900011062622, -5.546800136566162, -4.053199768066406, -6.200300216674805, -6.005899906158447, -4.658199787139893, -5.351200103759766, -4.425300121307373, -5.523499965667725, -5.292200088500977, -3.203900098800659, -3.714600086212158, -5.140500068664551, -4.382800102233887, -5.534299850463867, -4.738399982452393, -4.295899868011475, -4.009699821472168, -4.636300086975098, -4.832600116729736, -4.498600006103516, -4.270299911499023, -4.231400012969971, -4.486400127410889, -4.942299842834473, -4.696100234985352, -4.705100059509277, -4.767499923706055, -4.84089994430542, -4.7993998527526855, -3.562299966812134, -4.203199863433838, -4.658299922943115, -4.73859977722168, -4.801599979400635, -4.894400119781494, -4.934299945831299, -5.050000190734863, -5.430500030517578, -5.478899955749512, -5.626299858093262, -5.690400123596191, -5.928699970245361, -5.9430999755859375, -3.808199882507324, -5.950699806213379, -6.1381001472473145, -6.261600017547607, -6.263199806213379, -6.417699813842773, -6.428899765014648, -6.456299781799316, -6.496600151062012, -6.567599773406982, -6.6346001625061035, -6.638199806213379, -6.650000095367432, -6.6504998207092285, -6.658199787139893, -6.755099773406982, -6.075900077819824, -6.546299934387207, -5.480800151824951, -4.512800216674805, -5.697999954223633, -5.940100193023682, -3.3108999729156494, -4.8471999168396, -3.907099962234497, -4.788899898529053, -4.785900115966797, -5.936299800872803, -4.1066999435424805, -5.083199977874756, -4.7104997634887695, -4.33489990234375, -4.7606000900268555, -4.258200168609619, -4.23330020904541, -3.9296000003814697, -4.97629976272583, -4.327600002288818, -5.183499813079834, -4.64870023727417, -4.515500068664551, -4.794300079345703, -4.52209997177124, -5.037799835205078, -5.052000045776367]}, \"token.table\": {\"Topic\": [1, 2, 3, 5, 6, 7, 9, 10, 12, 13, 15, 1, 4, 14, 1, 2, 4, 8, 9, 11, 13, 15, 8, 4, 5, 12, 1, 5, 9, 11, 13, 5, 8, 10, 15, 2, 1, 3, 7, 11, 1, 3, 4, 6, 7, 8, 9, 15, 1, 1, 2, 3, 4, 6, 7, 8, 10, 12, 13, 15, 12, 1, 2, 3, 4, 5, 6, 7, 8, 9, 10, 12, 13, 14, 15, 1, 2, 3, 5, 6, 7, 8, 9, 10, 11, 15, 1, 3, 7, 8, 9, 12, 15, 2, 2, 3, 4, 6, 10, 13, 15, 3, 13, 2, 4, 5, 7, 8, 10, 11, 12, 1, 2, 3, 4, 5, 6, 7, 8, 9, 10, 11, 12, 15, 5, 12, 8, 7, 12, 3, 15, 11, 11, 15, 3, 7, 12, 13, 1, 2, 3, 4, 7, 12, 1, 2, 3, 4, 5, 6, 7, 8, 9, 10, 11, 12, 13, 15, 1, 3, 7, 8, 12, 15, 1, 2, 3, 4, 5, 6, 7, 8, 9, 10, 11, 12, 13, 15, 9, 1, 3, 1, 5, 12, 9, 2, 10, 1, 2, 3, 4, 6, 8, 9, 10, 12, 15, 5, 6, 6, 1, 2, 3, 4, 5, 6, 7, 8, 9, 10, 11, 12, 13, 14, 15, 1, 2, 3, 6, 7, 8, 9, 10, 11, 12, 7, 5, 7, 3, 7, 7, 1, 2, 3, 5, 6, 7, 8, 9, 10, 15, 4, 6, 6, 6, 6, 4, 14, 1, 2, 3, 4, 7, 8, 9, 10, 11, 12, 14, 15, 2, 1, 2, 3, 4, 5, 6, 7, 8, 9, 10, 11, 12, 13, 15, 8, 1, 15, 15, 1, 2, 4, 6, 8, 9, 10, 12, 15, 1, 9, 15, 1, 10, 14, 2, 3, 4, 5, 7, 9, 11, 13, 14, 5, 12, 13, 11, 8, 1, 2, 3, 6, 9, 12, 11, 2, 7, 11, 13, 1, 2, 6, 10, 12, 13, 1, 2, 3, 4, 5, 6, 7, 8, 9, 10, 11, 12, 13, 15, 1, 2, 3, 4, 5, 6, 7, 8, 9, 10, 11, 12, 14, 15, 1, 2, 3, 4, 5, 6, 7, 8, 9, 10, 11, 12, 13, 15, 5, 6, 9, 8, 11, 6, 1, 2, 3, 4, 5, 6, 7, 8, 9, 10, 11, 12, 13, 15, 4, 15, 9, 1, 2, 3, 4, 5, 6, 7, 8, 9, 10, 11, 12, 13, 14, 15, 1, 15, 5, 8, 3, 14, 5, 9, 2, 2, 15, 1, 2, 3, 4, 5, 6, 8, 12, 15, 1, 2, 3, 4, 5, 6, 7, 8, 9, 10, 11, 12, 13, 14, 15, 2, 7, 14, 1, 3, 7, 15, 1, 14, 12, 14, 3, 6, 10, 11, 1, 2, 3, 4, 5, 6, 7, 8, 9, 10, 11, 12, 13, 15, 2, 11, 11, 10, 4, 5, 11, 13, 6, 3, 11, 15, 5, 7, 11, 13, 14, 5, 1, 3, 9, 12, 1, 2, 3, 5, 6, 9, 10, 11, 12, 13, 15, 1, 3, 13, 2, 6, 2, 4, 6, 7, 8, 10, 12, 13, 1, 9, 10, 12, 13, 9, 1, 2, 3, 4, 5, 6, 7, 8, 9, 10, 11, 12, 13, 15, 1, 2, 5, 8, 9, 15, 10, 2, 2, 4, 5, 8, 9, 2, 1, 2, 3, 4, 5, 6, 8, 9, 10, 15, 2, 2, 1, 2, 3, 5, 6, 7, 8, 9, 10, 11, 12, 13, 14, 15, 1, 2, 3, 4, 5, 6, 7, 8, 9, 10, 11, 12, 13, 14, 15, 5, 2, 3, 4, 5, 6, 7, 8, 9, 11, 1, 2, 3, 4, 5, 6, 7, 8, 10, 11, 15, 10, 7, 3, 7, 3, 1, 2, 3, 4, 5, 6, 7, 8, 9, 10, 11, 12, 14, 5, 14, 1, 2, 3, 4, 5, 6, 7, 8, 9, 10, 11, 12, 13, 15, 1, 6, 11, 1, 2, 1, 6, 1, 2, 3, 4, 5, 6, 7, 8, 9, 10, 11, 12, 13, 5, 5, 13, 2, 9, 8, 10, 2, 4, 5, 6, 7, 8, 11, 12, 13, 10, 15, 1, 2, 3, 4, 5, 6, 7, 8, 9, 10, 11, 12, 13, 14, 15, 5, 8, 2, 10, 2, 10, 6, 1, 2, 3, 5, 6, 7, 8, 9, 10, 11, 12, 13, 14, 15, 1, 5, 4, 8, 7, 14, 1, 2, 3, 5, 6, 7, 8, 9, 10, 12, 14, 1, 2, 3, 4, 5, 6, 7, 8, 9, 10, 11, 12, 13, 10, 13, 11, 7, 2, 1, 4, 5, 6, 7, 8, 9, 12, 15, 15, 1, 2, 5, 1, 2, 3, 4, 5, 6, 7, 8, 9, 10, 11, 12, 13, 15, 1, 3, 6, 8, 15, 5, 1, 2, 3, 6, 12, 2, 3, 4, 8, 9, 10, 15, 1, 2, 3, 4, 5, 7, 8, 9, 10, 11, 12, 15, 1, 8, 4, 10, 14, 1, 2, 3, 4, 5, 6, 7, 8, 9, 10, 11, 12, 13, 14, 15, 1, 2, 3, 6, 7, 10, 11, 1, 2, 3, 4, 5, 6, 7, 8, 9, 10, 11, 12, 13, 14, 15, 10, 5, 3, 11, 12, 13, 15, 1, 6, 7, 8, 11, 15, 12, 8, 3, 3, 13, 14, 4, 11, 13, 1, 2, 3, 4, 6, 7, 8, 11, 12, 13, 15, 8, 12, 1, 2, 3, 4, 5, 6, 7, 8, 9, 10, 11, 12, 13, 10, 1, 2, 3, 5, 6, 7, 8, 9, 10, 11, 12, 13, 14, 15, 9, 14, 1, 3, 6, 9, 3, 9, 7, 5, 6, 7, 14, 3, 7, 1, 2, 3, 4, 5, 6, 7, 8, 9, 10, 11, 12, 15, 1, 2, 3, 5, 6, 7, 8, 9, 10, 12, 15, 10, 2, 4, 1, 2, 3, 4, 5, 6, 7, 8, 9, 10, 12, 13, 5, 1, 2, 3, 4, 5, 6, 7, 8, 9, 10, 11, 12, 13, 15, 14, 6, 1, 3, 5, 6, 9, 3, 6, 12, 2, 3, 4, 5, 6, 7, 8, 9, 10, 11, 12, 13, 14, 11, 13, 1, 2, 3, 4, 5, 6, 7, 9, 10, 11, 12, 12, 1, 2, 3, 5, 6, 7, 8, 9, 10, 11, 12, 13, 14, 15, 1, 15, 2, 9, 11, 1, 2, 3, 4, 5, 6, 7, 8, 9, 10, 11, 12, 13, 14, 15, 9, 1, 2, 3, 4, 5, 6, 7, 8, 9, 10, 11, 12, 14, 15, 2, 3, 7, 8, 9, 9, 12, 14, 15, 1, 1, 12, 1, 2, 4, 5, 9, 10, 12, 1, 6, 12, 15, 4, 5, 14, 6, 11, 6, 11, 11, 11, 6, 9, 9, 10, 11, 11, 2, 3, 4, 5, 6, 8, 9, 10, 12, 15, 6, 2, 5, 8, 10, 1, 2, 10, 4, 1, 4, 10, 11, 1, 15, 7, 15, 6, 9, 15, 6, 5, 1, 4, 9, 13, 9, 12, 1, 2, 3, 5, 6, 7, 8, 9, 10, 11, 12, 13, 15, 1, 11, 13, 7, 8, 12, 13, 14, 8, 1, 2, 3, 5, 6, 7, 8, 9, 10, 11, 12, 13, 15, 6, 7, 8, 9, 10, 12, 9, 10, 1, 2, 3, 4, 5, 6, 7, 8, 9, 10, 11, 12, 13, 14, 15, 2, 7, 4, 1, 2, 3, 4, 5, 6, 8, 9, 10, 11, 12, 13, 15, 5, 5, 9, 10, 9, 2, 4, 5, 8, 10, 11, 12, 13, 15, 1, 2, 3, 4, 5, 6, 7, 8, 9, 10, 11, 12, 13, 14, 15, 1, 2, 3, 4, 5, 6, 7, 8, 9, 10, 11, 12, 13, 14, 15, 1, 9, 12, 10, 1, 3, 4, 6, 7, 8, 11, 12, 13, 3, 15, 13, 10, 10, 10, 9, 10, 2, 5, 1, 15, 4, 2, 4, 8, 1, 2, 3, 4, 5, 6, 7, 8, 9, 10, 11, 12, 15, 12, 13, 7, 9, 1, 2, 4, 5, 1, 3, 5, 6, 7, 8, 9, 10, 11, 13, 15, 1, 11, 12, 1, 2, 3, 5, 7, 8, 12, 15, 1, 2, 3, 4, 5, 6, 7, 8, 9, 10, 11, 12, 13, 15, 2, 3, 5, 9, 10, 12, 15, 4, 14, 14, 3, 5, 7, 3, 11, 4, 1, 5, 9, 14, 3, 10, 5, 6, 6, 3, 3, 3, 4, 14, 10, 8, 15, 1, 2, 3, 4, 10, 11, 13, 15, 12, 10, 10, 1, 4, 5, 6, 7, 8, 9, 14, 1, 2, 3, 4, 5, 6, 7, 8, 9, 10, 11, 12, 13, 14, 15, 2, 5, 6, 1, 2, 3, 6, 7, 11, 14, 6, 12, 6, 15, 4, 10, 1, 2, 3, 4, 5, 6, 7, 8, 9, 11, 12, 13, 15, 13, 2, 5, 10, 6, 3, 6, 14, 6, 5, 1, 3, 5, 6, 7, 8, 9, 11, 1, 2, 3, 4, 5, 6, 9, 11, 12, 9, 1, 2, 3, 5, 6, 7, 8, 9, 10, 12, 13, 14, 15, 4, 5, 6, 13, 4, 1, 3, 12, 2, 3, 4, 2, 4, 9, 1, 3, 5, 6, 7, 9, 10, 11, 13, 14, 15, 13, 13, 11, 3, 6, 9, 10, 11, 13, 2, 4, 6, 8, 10, 11, 12, 4, 15, 8, 8, 8, 8, 1, 3, 6, 8, 12, 7, 3, 13, 2, 3, 4, 6, 7, 8, 10, 11, 12, 13, 14, 3, 3, 7, 11, 1, 10, 12, 12, 9, 1, 2, 3, 4, 5, 6, 7, 8, 9, 10, 11, 12, 13, 14, 15, 2, 4, 6, 10, 11, 12, 10, 3, 7, 12, 3, 3, 7, 1, 1, 2, 3, 4, 5, 6, 7, 8, 9, 10, 11, 12, 13, 14, 15, 1, 2, 3, 4, 5, 6, 7, 8, 9, 10, 11, 12, 13, 14, 15, 12, 12, 4, 6, 7, 12, 8, 1, 2, 3, 4, 5, 6, 7, 8, 9, 10, 11, 12, 15, 1, 2, 3, 4, 5, 6, 7, 8, 9, 11, 12, 13, 15, 2, 3, 4, 5, 6, 7, 8, 11, 12, 15, 7, 8, 11, 15, 3, 7, 9, 7, 15, 6, 8, 3, 1, 2, 3, 4, 5, 6, 8, 9, 12, 15, 15, 15, 9, 6, 2, 1, 2, 3, 5, 6, 7, 8, 9, 10, 11, 12, 13, 14, 15, 1, 14, 7, 1, 11, 15, 1, 2, 3, 4, 5, 6, 7, 8, 9, 10, 11, 12, 13, 14, 15, 2, 4, 5, 7, 8, 9, 10, 15, 1, 2, 3, 4, 5, 6, 8, 9, 10, 15, 11, 14, 9, 14, 3, 5, 7, 1, 9, 15, 4, 1, 2, 3, 4, 5, 6, 7, 8, 9, 10, 11, 12, 13, 14, 15, 1, 2, 4, 5, 6, 7, 8, 9, 10, 11, 12, 13, 14, 12, 1, 13, 15, 1, 3, 5, 6, 7, 8, 9, 15, 3, 5, 7, 14, 5, 6, 8, 1, 2, 3, 4, 5, 6, 7, 8, 9, 10, 11, 12, 13, 15, 1, 3, 6, 9, 11, 12, 1, 7, 14, 6, 1, 6, 7, 8, 10, 12, 4, 6, 12, 1, 6, 8, 12, 3, 4, 5, 6, 7, 8, 9, 11, 13, 1, 2, 3, 5, 6, 8, 9, 10, 15, 1, 5, 6, 7, 8, 9, 10, 12, 15, 1, 1, 15, 1, 2, 3, 4, 5, 6, 9, 10, 11, 15, 14, 5, 10, 2, 4, 2, 7, 11, 4, 7, 8, 11, 13, 14, 13, 8, 7, 8, 4, 7, 11, 13, 14, 11, 1, 3, 4, 13, 15, 6, 7, 12, 7, 12, 5, 1, 2, 3, 4, 5, 6, 7, 8, 9, 10, 11, 12, 13, 14, 15, 9, 13, 8, 1, 2, 3, 4, 5, 6, 7, 8, 9, 10, 11, 12, 13, 14, 15, 11, 1, 2, 3, 4, 5, 6, 7, 8, 9, 10, 11, 12, 13, 15, 14, 12, 1, 2, 3, 6, 7, 10, 11, 12, 13, 15, 1, 2, 6, 9, 12, 4, 1, 2, 3, 4, 5, 6, 7, 8, 9, 10, 11, 12, 13, 14, 15, 10, 5, 5, 14, 1, 2, 3, 4, 5, 6, 7, 8, 9, 11, 12, 13, 14, 15, 11, 11, 1, 1, 4, 8, 12, 14, 5, 2, 7, 1, 2, 4, 8, 9, 10, 13, 8, 1, 2, 3, 4, 5, 6, 7, 8, 11, 12, 13, 2, 1, 2, 3, 4, 5, 6, 7, 8, 9, 10, 11, 12, 13, 15, 4, 5, 11, 6, 4, 2, 11, 2, 7, 2, 4, 7, 9, 10, 1, 2, 3, 5, 6, 7, 10, 11, 12, 13, 14, 15, 11, 5, 13, 1, 3, 7, 1, 2, 3, 4, 6, 7, 12, 13, 3, 1, 3, 6, 7, 3, 1, 3, 6, 7, 9, 10, 11, 12, 15, 7, 12, 1, 2, 3, 5, 6, 9, 10, 11, 15, 1, 3, 4, 1, 2, 3, 4, 5, 6, 7, 8, 10, 11, 12, 13, 14, 1, 2, 3, 4, 9, 10, 15, 2, 10, 6, 2, 10, 1, 2, 3, 4, 5, 6, 7, 8, 9, 10, 11, 12, 14, 15, 12, 4, 1, 2, 3, 4, 5, 6, 7, 8, 9, 10, 11, 12, 13, 14, 15, 1, 2, 3, 4, 5, 6, 7, 8, 9, 10, 11, 12, 14, 6, 1, 2, 3, 4, 5, 6, 7, 8, 9, 10, 11, 12, 7, 1, 2, 3, 4, 5, 6, 7, 8, 9, 10, 11, 12, 15, 6, 7, 3, 5, 7, 1, 3, 5, 6, 7, 9, 1, 2, 4, 7, 8, 9, 11, 12, 13, 10, 10, 7, 1, 15, 6, 10, 12, 1, 5, 8, 12, 4, 7, 14, 1, 2, 3, 5, 6, 7, 8, 9, 10, 11, 12, 13, 15, 7, 10, 1, 2, 3, 4, 5, 6, 7, 8, 9, 10, 11, 12, 13, 15, 1, 2, 3, 4, 6, 7, 8, 9, 10, 1, 3, 7, 8, 11, 13, 14, 1, 3, 6, 7, 9, 15, 1, 2, 3, 4, 5, 6, 7, 8, 9, 10, 11, 12, 13, 3, 7, 12, 12, 3, 6, 12, 7, 11, 13, 13, 1, 2, 4, 5, 6, 8, 9, 10, 1, 6, 12, 15, 1, 3, 5, 6, 9, 1, 6, 7, 13, 5, 2, 1, 2, 4, 7, 8, 9, 10, 15, 2, 4, 7, 8, 9, 10, 15, 4, 15, 2, 4, 4, 3, 7, 7, 15, 2, 7, 8, 1, 2, 3, 4, 5, 10, 11, 12, 13, 1, 2, 3, 6, 7, 8, 10, 12, 1, 2, 3, 4, 5, 7, 8, 9, 10, 11, 15, 1, 2, 3, 4, 5, 6, 7, 8, 10, 12, 15, 2, 4, 5, 8, 10, 4, 1, 2, 9, 11, 1, 3, 6, 7, 8, 9, 10, 11, 12, 15, 1, 10, 1, 2, 3, 5, 6, 7, 8, 9, 10, 11, 12, 15, 1, 2, 3, 6, 7, 9, 10, 15, 11, 1, 2, 3, 4, 5, 6, 10, 1, 2, 3, 5, 6, 12, 1, 2, 3, 5, 6, 7, 8, 9, 10, 1, 2, 3, 4, 5, 6, 9, 10, 12, 13, 15, 3, 3, 6, 7, 11, 12, 14, 6, 7, 1, 2, 3, 4, 6, 7, 8, 9, 11, 12, 13, 15, 15, 8, 15, 1, 9, 5, 1, 2, 3, 4, 5, 6, 7, 8, 9, 10, 12, 13, 15, 5, 15, 8, 1, 3, 4, 6, 9, 11, 13, 9, 13, 2, 3, 4, 5, 6, 7, 8, 9, 10, 11, 12, 13, 15, 9, 9, 1, 2, 3, 4, 5, 6, 7, 8, 9, 10, 11, 12, 13, 14, 1, 2, 3, 4, 5, 6, 8, 9, 10, 11, 12, 15, 15, 3, 1, 2, 3, 4, 5, 6, 7, 8, 9, 10, 11, 12, 13, 14, 15, 9, 1, 3, 1, 2, 3, 4, 5, 6, 7, 8, 9, 10, 11, 12, 13, 14, 15, 2, 3, 5, 6, 12, 9, 10, 10, 12, 14, 1, 15, 14, 1, 3, 4, 14, 1, 8, 1, 4, 5, 8, 14, 12, 4, 14, 15, 1, 6, 2, 6, 10, 12, 1, 2, 3, 4, 5, 6, 7, 8, 9, 10, 11, 12, 13, 14, 15, 8, 1, 3, 6, 11, 15, 1, 2, 3, 5, 6, 7, 9, 10, 11, 14, 15, 1, 13, 1, 2, 3, 4, 5, 7, 8, 9, 10, 12, 13, 15, 3, 1, 3, 6, 10, 15, 8, 1, 2, 3, 4, 6, 8, 9, 10, 11, 12, 13, 15, 1, 2, 3, 4, 5, 6, 7, 8, 9, 10, 11, 12, 13, 15, 3, 11, 3, 6, 7, 8, 9, 11, 14, 1, 2, 4, 5, 8, 12, 1, 3, 4, 7, 8, 11, 13, 15, 13, 11, 13, 11, 4, 15, 1, 2, 3, 7, 5, 6, 7, 10, 11, 14, 1, 5, 1, 5, 6, 7, 9, 13, 1, 2, 3, 4, 6, 7, 8, 9, 11, 12, 13, 1, 2, 3, 5, 6, 7, 8, 9, 10, 11, 15, 13, 1, 2, 3, 5, 7, 9, 10, 11, 12, 13, 1, 2, 3, 5, 6, 7, 8, 9, 10, 11, 12, 14, 15, 1, 2, 3, 4, 5, 6, 7, 8, 9, 10, 11, 12, 13, 14, 15, 9, 1, 2, 3, 4, 5, 6, 7, 8, 9, 11, 12, 13, 15, 6, 3, 8, 12, 1, 2, 3, 4, 5, 6, 7, 8, 9, 10, 11, 12, 13, 15, 3, 7, 8, 1, 3, 3, 1, 2, 4, 5, 6, 8, 9, 12, 14, 1, 4, 11, 13, 15, 1, 2, 3, 4, 5, 6, 7, 8, 9, 10, 11, 12, 13, 14, 15, 3, 10, 1, 3, 5, 7, 8, 10, 1, 2, 3, 4, 5, 6, 7, 8, 9, 10, 11, 12, 13, 15, 6, 6, 1, 2, 3, 6, 10, 15, 1, 2, 3, 5, 6, 7, 8, 9, 10, 11, 12, 13, 14, 15, 1, 2, 3, 5, 7, 8, 9, 10, 11, 13, 14, 15, 3, 1, 2, 9, 1, 1, 2, 3, 4, 5, 6, 7, 8, 9, 10, 11, 12, 13, 15, 1, 2, 3, 4, 5, 6, 7, 8, 9, 10, 11, 12, 13, 14, 15, 10, 4, 13, 5, 3, 6, 7, 8, 9, 7, 14, 5, 14, 1, 2, 3, 4, 5, 6, 8, 9, 14, 13, 1, 4, 1, 1, 2, 3, 5, 6, 7, 8, 9, 10, 11, 13, 15, 1, 2, 5, 9, 10, 2, 4, 13, 13, 1, 3, 5, 6, 7, 8, 9, 11, 12, 13, 14, 13, 2, 1, 2, 3, 4, 5, 6, 7, 8, 9, 10, 11, 12, 15, 8, 2, 1, 15, 1, 2, 3, 4, 5, 6, 8, 9, 10, 11, 12, 13, 3, 5, 7, 1, 2, 3, 5, 6, 7, 8, 9, 10, 12, 13, 15, 1, 2, 3, 4, 5, 6, 7, 8, 9, 10, 11, 12, 13, 14, 15, 1, 3, 4, 6, 9, 11, 13, 14, 3, 11, 8, 1, 2, 3, 4, 5, 7, 8, 9, 11, 12, 13, 14, 15, 1, 3, 4, 7, 8, 10, 12, 13, 14, 8, 12, 14, 2, 4, 10, 1, 2, 3, 4, 6, 9, 15, 15, 1, 6, 6, 3, 11, 7, 8, 1, 2, 3, 5, 6, 7, 8, 9, 10, 11, 12, 13, 15, 1, 3, 6, 7, 14, 2, 7, 8, 1, 4, 5, 8, 9, 8, 11, 11, 2, 7, 9, 4, 13, 12, 6, 1, 7, 1, 2, 3, 4, 5, 6, 7, 8, 9, 10, 11, 12, 13, 15, 1, 15, 15, 15, 8, 1, 2, 3, 4, 5, 7, 8, 9, 10, 15, 1, 2, 3, 4, 5, 6, 7, 8, 9, 10, 11, 12, 13, 14, 3, 5, 6, 7, 11, 15, 1, 2, 3, 4, 5, 6, 7, 8, 9, 10, 11, 12, 13, 14, 15, 1, 2, 3, 4, 5, 6, 7, 8, 9, 10, 11, 12, 13, 14, 15, 4, 7, 11, 8, 11, 9, 1, 2, 3, 4, 5, 6, 7, 8, 9, 11, 13, 15, 1, 1, 2, 3, 4, 5, 6, 7, 8, 9, 10, 11, 12, 13, 15, 6, 7, 12, 7, 9, 12], \"Freq\": [0.03277201950550079, 0.40926721692085266, 0.01736491546034813, 0.04690229520201683, 0.0019578090868890285, 0.30320504307746887, 0.05839378014206886, 0.021025165915489197, 0.017620280385017395, 0.08529237657785416, 0.006043671164661646, 0.9966205954551697, 0.0027916543185710907, 0.9999077320098877, 0.11801297962665558, 0.006266175769269466, 0.7623847126960754, 0.01984289102256298, 0.049085043370723724, 0.00208872533403337, 0.03968578204512596, 0.003133087884634733, 0.999197244644165, 0.7851243019104004, 0.021267475560307503, 0.19317956268787384, 0.011628669686615467, 0.9880359172821045, 0.4681103825569153, 0.0004383056075312197, 0.531226396560669, 0.03990831598639488, 0.9360314011573792, 0.025396201759576797, 0.9986594319343567, 0.9997873902320862, 0.002119906945154071, 0.9730372428894043, 0.0031798603013157845, 0.021199068054556847, 0.5193179249763489, 0.036063745617866516, 0.008014165796339512, 0.034861620515584946, 0.02684745565056801, 0.015226914547383785, 0.01923399791121483, 0.339800626039505, 0.9995735287666321, 0.05217422544956207, 0.12512440979480743, 0.13902711868286133, 0.1491807997226715, 0.0039052562788128853, 0.18870198726654053, 0.08716531842947006, 0.04858138784766197, 0.18870198726654053, 0.011247138492763042, 0.006404620595276356, 0.999305009841919, 0.25201117992401123, 0.1662265509366989, 0.0768299251794815, 0.0003762484120670706, 0.08676288276910782, 0.029798874631524086, 0.15753521025180817, 0.007713092491030693, 0.006621972192078829, 0.06719796359539032, 0.09233135730028152, 0.013996440917253494, 0.0321316123008728, 0.01049733068794012, 0.09899107366800308, 0.0031932604033499956, 0.5125182867050171, 0.10497843474149704, 0.0830247700214386, 0.0554829016327858, 0.03352923318743706, 0.04510480538010597, 0.005588205996900797, 0.04989469423890114, 0.008781466633081436, 0.18738631904125214, 0.05024125799536705, 0.031231051310896873, 0.46099749207496643, 0.06483837962150574, 0.010523506440222263, 0.19485460221767426, 1.0004394054412842, 0.02897459827363491, 0.6392906308174133, 0.05055142566561699, 0.23241327702999115, 0.0006164808291941881, 0.04007125273346901, 0.008630731143057346, 0.9998441338539124, 1.0004855394363403, 0.010014798492193222, 0.6096508502960205, 0.004172832705080509, 0.028792545199394226, 0.285421758890152, 0.06092335656285286, 0.0004172832705080509, 0.0008345665410161018, 0.002262147143483162, 0.02915085107088089, 0.0025192094035446644, 0.8017769455909729, 0.00416440749540925, 0.019999437034130096, 0.0028276839293539524, 0.09171978384256363, 0.002930508926510811, 0.002313559642061591, 0.00750621547922492, 0.032698310911655426, 0.0001542373065603897, 0.9997475147247314, 1.0007033348083496, 0.9987656474113464, 0.9980235695838928, 0.99834144115448, 0.9953272342681885, 0.004046045709401369, 0.9988972544670105, 0.0004778498550876975, 0.9991840720176697, 0.7157443165779114, 0.10564567893743515, 0.05003180727362633, 0.12838740646839142, 0.01494909729808569, 0.00941239483654499, 0.8795052170753479, 0.0005536702810786664, 0.02103946916759014, 0.07419181615114212, 0.029229801148176193, 0.33323463797569275, 0.17150138318538666, 0.009246161207556725, 0.07329820096492767, 0.04682733491063118, 0.13116127252578735, 0.0491388738155365, 0.026694562286138535, 0.04742386192083359, 0.008425937034189701, 0.059056129306554794, 0.005667001940310001, 0.009097029455006123, 0.24129058420658112, 0.005053205881267786, 0.05811186879873276, 0.6948158144950867, 0.0012633014703169465, 0.9998112916946411, 0.25240832567214966, 0.08341449499130249, 0.1457216739654541, 0.01691291481256485, 0.16016530990600586, 0.06037910655140877, 0.07715671509504318, 0.015627533197402954, 0.016642307862639427, 0.045495741069316864, 0.04157194495201111, 0.011433130130171776, 0.038155537098646164, 0.034874431788921356, 0.9993798136711121, 0.9952600598335266, 0.0034084247890859842, 0.9901385307312012, 0.009507503360509872, 0.9983526468276978, 1.0002192258834839, 0.9983623027801514, 0.0018276656046509743, 0.18779321014881134, 0.15560008585453033, 0.06266927719116211, 0.16740423440933228, 0.01309186965227127, 0.0010731040965765715, 0.001502345665358007, 0.0008584832539781928, 0.0032193122897297144, 0.40649181604385376, 0.05585569888353348, 0.9439613223075867, 0.9992899298667908, 0.06632179766893387, 0.07876874506473541, 0.00575903570279479, 0.44177377223968506, 0.009288767352700233, 0.025822771713137627, 0.045143406838178635, 0.16589738428592682, 0.01040341891348362, 0.01764865778386593, 0.029909830540418625, 0.06130586192011833, 0.02229304052889347, 0.018020208925008774, 0.0014862027019262314, 0.8880336880683899, 0.000723743811249733, 0.060070738196372986, 0.008684925734996796, 0.003618719056248665, 0.01447487622499466, 0.005789950489997864, 0.005066206678748131, 0.00723743811249733, 0.006513694301247597, 1.0000561475753784, 0.9997285604476929, 1.000228762626648, 0.952359139919281, 0.0467415526509285, 0.9988923668861389, 0.008982262574136257, 0.057823315262794495, 0.23353883624076843, 0.09768211096525192, 0.02245565690100193, 0.5470759272575378, 0.011508524417877197, 0.0005613914108835161, 0.0028069571126252413, 0.017683830112218857, 0.05815945938229561, 0.9419158697128296, 1.0006394386291504, 0.9968578815460205, 0.9994757175445557, 0.9963008165359497, 1.0014677047729492, 0.008183329366147518, 0.41069215536117554, 0.01872456632554531, 0.18044933676719666, 0.00027740097721107304, 0.18252985179424286, 0.05270618572831154, 0.08779741078615189, 0.028156200423836708, 0.0009709034347906709, 0.023301683366298676, 0.006380222737789154, 0.9997982978820801, 0.024358229711651802, 0.1235482469201088, 0.07104196399450302, 0.32933565974235535, 0.011507282964885235, 0.06866471469402313, 0.0820324569940567, 0.0007579647353850305, 0.1408780813217163, 0.05102480575442314, 0.04268719628453255, 0.023910341784358025, 0.015848353505134583, 0.014504688791930676, 1.0003379583358765, 0.6390042304992676, 0.36114662885665894, 1.0000075101852417, 0.7430419325828552, 0.02012200653553009, 0.10110081732273102, 0.0014723420608788729, 0.021839739754796028, 0.10208237916231155, 0.00515319686383009, 0.0007361710304394364, 0.004662416409701109, 0.060497790575027466, 0.9388791918754578, 0.9952682852745056, 0.9806385040283203, 0.019010763615369797, 1.0000261068344116, 0.0012228761333972216, 0.09905296564102173, 0.7276113033294678, 0.028126150369644165, 0.04769216850399971, 0.0012228761333972216, 0.050137922167778015, 0.009783009067177773, 0.03424053266644478, 0.9998705983161926, 1.0004807710647583, 0.9994826912879944, 1.0004384517669678, 0.9981353282928467, 0.00040143661317415535, 0.0164589025080204, 0.20794416964054108, 0.08390025794506073, 0.036932170391082764, 0.6543416976928711, 0.9996054172515869, 1.001321792602539, 0.23497037589550018, 0.7634751796722412, 0.0014283913187682629, 0.20370008051395416, 0.06324022263288498, 0.1258147656917572, 0.00665686558932066, 0.5691620111465454, 0.031952954828739166, 0.011325934901833534, 0.03379802778363228, 0.0490790531039238, 0.022112540900707245, 0.44063282012939453, 0.11667510867118835, 0.20620393753051758, 0.0819781944155693, 0.005213525611907244, 0.02265186980366707, 0.009707944467663765, 0.0003595534944906831, 0.00017977674724534154, 0.00017977674724534154, 0.5290290117263794, 0.00360496761277318, 0.10688729584217072, 0.08021052926778793, 0.00576794845983386, 0.04181762412190437, 0.0565979927778244, 0.020728563889861107, 0.007390183862298727, 0.005046954844146967, 0.021449558436870575, 0.020368067547678947, 0.0937291607260704, 0.007390183862298727, 0.35626527667045593, 0.056136224418878555, 0.07936862856149673, 0.0060971928760409355, 0.046464815735816956, 0.10060368478298187, 0.12352071702480316, 0.005571573041379452, 0.004835704807192087, 0.09997294098138809, 0.10848798602819443, 0.0030485964380204678, 0.008620169013738632, 0.0008409921429120004, 0.9773507714271545, 0.013942237012088299, 0.008830083534121513, 1.00140380859375, 0.9997606873512268, 0.9984666705131531, 0.01436051819473505, 0.05083277449011803, 0.034153811633586884, 0.5712718367576599, 0.012215091846883297, 0.03162774443626404, 0.008166464045643806, 0.10626783967018127, 0.015606250613927841, 0.01183445192873478, 3.460365769569762e-05, 0.09516005963087082, 0.047164786607027054, 0.0013495427556335926, 0.9198840260505676, 0.08176746964454651, 1.0001684427261353, 0.08471886068582535, 0.1321491301059723, 0.12835879623889923, 0.3136748969554901, 0.010756324045360088, 0.020693117752671242, 0.05224500223994255, 0.11258285492658615, 0.008195294067263603, 0.01628814823925495, 0.02274194173514843, 0.06433305889368057, 0.02181997150182724, 0.00778552982956171, 0.003483000211417675, 0.17481014132499695, 0.8244776725769043, 1.000128984451294, 1.0000079870224, 0.9987128376960754, 0.9989240169525146, 0.9997933506965637, 0.9990659356117249, 0.9998961091041565, 0.9989299178123474, 0.999780535697937, 0.046394944190979004, 0.09673839807510376, 0.020236093550920486, 0.03208161145448685, 0.025665288791060448, 0.016781151294708252, 0.7225766181945801, 0.039485059678554535, 0.998132586479187, 0.16678324341773987, 0.012474093586206436, 0.28590312600135803, 0.04273531958460808, 0.01632412150502205, 0.07623057067394257, 0.04096430540084839, 0.12666594982147217, 0.04134931042790413, 0.004004030022770166, 0.017248129472136497, 0.02725820429623127, 0.01763313077390194, 0.10880181193351746, 0.015631116926670074, 0.9994502067565918, 0.09234730899333954, 0.9074898958206177, 0.777359664440155, 0.001773444120772183, 0.21931591629981995, 0.0014778700424358249, 0.00047055832692421973, 0.9994658827781677, 0.9978444576263428, 0.9999886751174927, 0.8561946749687195, 0.12842920422554016, 0.012529677711427212, 0.0020882796961814165, 0.05554107204079628, 0.005518503952771425, 0.16359694302082062, 0.00017801625654101372, 0.00961287785321474, 0.21735785901546478, 0.03969762474298477, 0.009434862062335014, 0.04824240505695343, 0.08598185330629349, 0.16430900990962982, 0.16644521057605743, 0.032754991203546524, 0.0014241300523281097, 0.9999366402626038, 0.9992785453796387, 1.0001912117004395, 0.9997557401657104, 0.0010146888671442866, 0.2654426097869873, 0.24900466203689575, 0.4844124913215637, 0.9988770484924316, 0.9933577179908752, 0.005889472551643848, 0.9988623261451721, 1.0000829696655273, 0.0017636915436014533, 0.007054766174405813, 0.1252221018075943, 0.867736279964447, 0.9996941685676575, 0.003628288861364126, 0.3209019899368286, 0.3434780240058899, 0.3317868709564209, 0.23473073542118073, 0.0010557604255154729, 0.25654977560043335, 0.16258710622787476, 0.06739270687103271, 0.0042230417020618916, 0.00017596007091924548, 0.19179648160934448, 0.0024634411092847586, 0.037303537130355835, 0.04170253872871399, 0.9997062087059021, 0.9990628361701965, 0.9997158050537109, 0.9991607666015625, 0.9976372122764587, 0.0013932724250480533, 0.5688034296035767, 0.0017415904439985752, 0.31383460760116577, 0.019157495349645615, 0.004179817158728838, 0.04214648902416229, 0.048764534294605255, 0.6683136820793152, 0.1523868590593338, 0.1272592395544052, 0.03282802179455757, 0.019048357382416725, 0.9997956156730652, 0.098580002784729, 0.06798076629638672, 0.2480272799730301, 0.01482643187046051, 0.2967652380466461, 0.03320174291729927, 0.02271283231675625, 0.018138719722628593, 0.03556766360998154, 0.041245874017477036, 0.0720028355717659, 0.04029950499534607, 0.009936864487826824, 0.0006309120217338204, 0.07178356498479843, 0.005127397365868092, 0.1734769493341446, 0.02820068597793579, 0.08887488394975662, 0.6323789954185486, 0.999193549156189, 0.996793270111084, 0.9382733702659607, 0.005198190454393625, 0.027290500700473785, 0.0038986429572105408, 0.02599095180630684, 1.0001280307769775, 0.0035202361177653074, 0.8320001363754272, 0.0003061074821744114, 0.04660486429929733, 0.00573951518163085, 0.0001530537410872057, 0.003673289669677615, 0.014540105126798153, 0.060609281063079834, 0.032830026000738144, 0.9996160268783569, 1.0008611679077148, 0.002367005916312337, 0.1260286271572113, 0.14669662714004517, 0.22047793865203857, 0.007620604243129492, 0.19905942678451538, 0.20177282392978668, 0.018878314644098282, 0.023612327873706818, 0.006465967278927565, 5.773184966528788e-05, 0.0008659777813591063, 0.04549269750714302, 0.0005773184821009636, 0.018146034330129623, 0.2754460275173187, 0.09333459287881851, 5.661788964061998e-05, 0.1506885141134262, 0.018344197422266006, 0.22717928886413574, 0.005123918876051903, 0.030120717361569405, 0.08849376440048218, 0.005944878328591585, 0.0014720651088282466, 0.03796229511499405, 0.04266158118844032, 0.005067300982773304, 0.9997977614402771, 0.0037914738059043884, 0.07035290449857712, 0.6104273200035095, 0.03622964024543762, 0.061506133526563644, 0.009268047288060188, 0.1824120134115219, 0.0008425497217103839, 0.024855216965079308, 0.132791206240654, 0.013368242420256138, 0.018715539947152138, 0.6577175259590149, 0.02896452508866787, 0.10159864276647568, 0.010694594122469425, 0.016041889786720276, 0.00044560807873494923, 0.003119256580248475, 0.016487497836351395, 1.000032901763916, 0.9999304413795471, 0.0013277259422466159, 0.9984499216079712, 0.9986288547515869, 0.10574451088905334, 0.06049569696187973, 0.05238042026758194, 0.0007377523579634726, 0.008607110939919949, 0.14755047857761383, 0.054101839661598206, 0.22107979655265808, 0.010082615539431572, 0.01327954325824976, 0.041805967688560486, 0.0607416145503521, 0.223047137260437, 0.033974483609199524, 0.9626103639602661, 0.1759614646434784, 0.3431927561759949, 0.0013580267550423741, 0.07410945743322372, 0.0578131377696991, 0.04209883138537407, 0.0007760152802802622, 0.032398637384176254, 0.21592625975608826, 0.00873017217963934, 0.01881837099790573, 0.0060141184367239475, 0.004074080381542444, 0.01843036338686943, 0.9981874227523804, 0.975254237651825, 0.024294588714838028, 0.20215782523155212, 0.797604501247406, 0.9982637166976929, 0.9992519021034241, 0.005569735541939735, 0.18483877182006836, 0.12717562913894653, 0.19144600629806519, 0.08414668589830399, 0.035493411123752594, 0.04122696444392204, 0.08065195381641388, 0.027466440573334694, 0.0016381574096158147, 0.08141642808914185, 0.03707696497440338, 0.10183878988027573, 0.9998452067375183, 0.9999306201934814, 0.999742865562439, 1.0008151531219482, 0.9986974000930786, 1.0005563497543335, 0.9995601177215576, 0.003810855560004711, 0.017148850485682487, 0.749649703502655, 0.03293668106198311, 0.012249178253114223, 0.05280756950378418, 0.12167517095804214, 0.006805099081248045, 0.0027220395859330893, 1.0002864599227905, 0.9980900287628174, 0.17228037118911743, 0.03549841046333313, 0.12124525755643845, 0.1345202922821045, 0.11490274965763092, 0.01681503653526306, 0.20487794280052185, 0.09095852822065353, 0.008702518418431282, 0.011455858126282692, 0.05904929339885712, 0.003982508555054665, 0.00816168449819088, 0.00840751826763153, 0.009145019575953484, 0.02502530813217163, 0.9747838973999023, 0.8330557942390442, 0.1669335961341858, 1.000254511833191, 0.9996159672737122, 0.999729335308075, 0.10953433066606522, 0.09487086534500122, 0.21120692789554596, 0.047700434923172, 0.04381373152136803, 0.11598272621631622, 0.12702448666095734, 0.05282381549477577, 0.022701874375343323, 0.024203553795814514, 0.016165148466825485, 0.006183389574289322, 0.101849265396595, 0.025881903246045113, 0.999620795249939, 0.0006106419023126364, 0.004169042222201824, 0.9964011311531067, 0.9997739791870117, 0.9989975690841675, 0.10395116358995438, 0.028241068124771118, 0.168845534324646, 0.014721407555043697, 0.022532766684889793, 0.019528398290276527, 0.38576096296310425, 0.0072104851715266705, 0.0021030581556260586, 0.02463582530617714, 0.22232329845428467, 0.0008690753020346165, 0.16447249054908752, 0.01781604252755642, 0.15838897228240967, 0.07321958988904953, 0.3676188290119171, 0.055620819330215454, 0.0013036129530519247, 0.030852172523736954, 0.07821677625179291, 0.0028244946151971817, 0.00803894642740488, 0.041063807904720306, 0.9995975494384766, 0.9987753033638, 0.9998890161514282, 0.9992945790290833, 1.0000858306884766, 0.7167389392852783, 0.001782932784408331, 0.0008914663922041655, 0.0032687101047486067, 0.005348798353224993, 0.14144599437713623, 0.02971554547548294, 0.09598121047019958, 0.0047544874250888824, 1.0002461671829224, 0.9319887161254883, 0.005418539047241211, 0.06177134811878204, 0.0027101628948003054, 0.22339485585689545, 0.007411465980112553, 0.39136964082717896, 0.013827362097799778, 0.003097329055890441, 0.08904821425676346, 0.07527615875005722, 0.010176938027143478, 0.04889355227351189, 0.014491075649857521, 0.0653204545378685, 0.02605075016617775, 0.028982151299715042, 0.9991496205329895, 1.0005135536193848, 0.31425338983535767, 0.6834529638290405, 0.000963967468123883, 1.0001144409179688, 0.02618362382054329, 0.07481035590171814, 0.09060365706682205, 0.08935681730508804, 0.7194262742996216, 0.12225081026554108, 0.0005457625375129282, 0.6172574162483215, 0.07640675455331802, 0.02019321359694004, 0.08404742926359177, 0.07913556694984436, 0.0452861487865448, 0.010414470918476582, 0.020627370104193687, 0.6765374541282654, 0.015924060717225075, 0.005979921668767929, 0.06033673882484436, 0.00026876054471358657, 0.10172586143016815, 0.0012094223638996482, 0.0010750421788543463, 0.060605499893426895, 0.017684558406472206, 0.9827561378479004, 0.9977596402168274, 0.9998693466186523, 0.9996915459632874, 0.002314542420208454, 0.12608745694160461, 0.015320067293941975, 0.3795849680900574, 0.0006612978759221733, 0.18483275175094604, 0.003086056560277939, 0.18494296073913574, 0.0017634609248489141, 0.05279361084103584, 0.005841464269906282, 0.00760492542758584, 0.008486655540764332, 0.02468845248222351, 0.0018736772472038865, 0.0013769818469882011, 0.8984805941581726, 0.027195390313863754, 0.03132633492350578, 0.0030982091557234526, 0.019277745857834816, 0.019621990621089935, 0.0014013112522661686, 0.03442351520061493, 0.015536276623606682, 0.306887149810791, 0.02321302518248558, 0.09071967005729675, 0.06500865519046783, 0.019374649971723557, 0.004995978903025389, 0.14439597725868225, 0.10948505252599716, 0.06854239851236343, 0.07816879451274872, 0.008529720827937126, 0.02936660870909691, 0.9996752142906189, 0.9997382760047913, 0.11474628746509552, 0.30355608463287354, 0.009388333186507225, 0.5706019997596741, 0.001564722158946097, 0.0511043518781662, 0.847093403339386, 0.055750202387571335, 0.03097233548760414, 0.003097233595326543, 0.012388934381306171, 0.9983479380607605, 1.001489281654358, 1.0003204345703125, 1.000625491142273, 1.0000410079956055, 1.000009536743164, 0.07791264355182648, 0.28173768520355225, 0.6399967074394226, 0.05927158519625664, 0.0004507344856392592, 0.01667717657983303, 0.3968717157840729, 0.11493729054927826, 0.009465424343943596, 0.0024790395982563496, 0.03290361538529396, 0.029748475179076195, 0.19922463595867157, 0.13769938051700592, 0.9898520112037659, 0.009222223423421383, 0.11200157552957535, 0.0043315524235367775, 0.04764707759022713, 0.0024751729797571898, 0.01856379769742489, 0.37715446949005127, 0.07332699745893478, 0.011138278059661388, 0.0043315524235367775, 0.09065321087837219, 0.101482093334198, 0.0021657762117683887, 0.15500770509243011, 1.00019109249115, 0.18837037682533264, 0.03289248049259186, 0.07259949296712875, 0.03963087126612663, 0.17386570572853088, 0.11622771620750427, 0.0008756100432947278, 0.10636758804321289, 0.05352642387151718, 0.066660575568676, 0.001522800070233643, 0.005291730165481567, 0.07160967588424683, 0.07050564140081406, 0.7815483212471008, 0.2188624143600464, 0.005981122609227896, 0.11164762079715729, 0.7805364727973938, 0.10068222880363464, 0.9994910955429077, 0.9999492168426514, 0.9997714757919312, 0.020109422504901886, 0.1219133734703064, 0.20235106348991394, 0.6560699343681335, 0.02921236678957939, 0.9698505401611328, 0.00215016002766788, 0.056017324328422546, 0.0605439767241478, 0.0531315840780735, 0.006167564075440168, 0.09715328365564346, 0.04888784885406494, 0.4316729009151459, 0.024613672867417336, 0.11939046531915665, 0.062184888869524, 0.03660930320620537, 0.001471162075176835, 0.030224964022636414, 0.1782890260219574, 0.13371677696704865, 0.0001912972511490807, 0.013964698649942875, 0.1063612699508667, 0.5115288496017456, 0.0021042698062956333, 0.01434729341417551, 0.008608375675976276, 0.0009564862120896578, 1.000044584274292, 0.005644977558404207, 0.9935160875320435, 0.00017513886268716305, 0.08686887472867966, 0.023994024842977524, 0.3790005147457123, 0.010858609341084957, 0.019440414384007454, 0.15184539556503296, 0.28022217750549316, 0.02066638693213463, 0.010508332401514053, 0.01611277647316456, 0.0005254165735095739, 0.9998435974121094, 0.22378982603549957, 0.034915897995233536, 0.14739663898944855, 0.011365242302417755, 0.027300015091896057, 0.04792148619890213, 0.018160954117774963, 0.08822708576917648, 0.014528763480484486, 0.04323478788137436, 0.12911851704120636, 0.1877022534608841, 0.013239921070635319, 0.013357088901102543, 1.0008987188339233, 0.9994966983795166, 0.2788566052913666, 0.030923787504434586, 0.00596774835139513, 0.6607925295829773, 0.023057209327816963, 0.6969113945960999, 0.2949385941028595, 0.007815193384885788, 0.024615392088890076, 0.0038361649494618177, 0.17810764908790588, 0.004840874578803778, 0.02790353260934353, 0.24939638376235962, 0.010777796618640423, 0.012558872811496258, 0.06124163046479225, 0.13673187792301178, 0.0745312049984932, 0.023153994232416153, 0.19221925735473633, 0.5547909736633301, 0.44499725103378296, 0.023871133103966713, 0.04942333325743675, 0.0033621315378695726, 0.15701153874397278, 0.02420734614133835, 0.39269694685935974, 0.12607993185520172, 0.016474444419145584, 0.04000936448574066, 0.00033621315378695726, 0.16676172614097595, 0.9981874823570251, 0.22288772463798523, 0.18282201886177063, 0.09379502385854721, 0.0797400027513504, 0.0016723695443943143, 0.021171487867832184, 0.0012097993167117238, 0.06493775546550751, 0.02697140723466873, 0.1702614575624466, 0.07404682785272598, 0.006760642863810062, 0.05155879631638527, 0.0021349398884922266, 1.0000300407409668, 0.9967796802520752, 0.9997699856758118, 0.999235987663269, 0.9985191226005554, 0.12970034778118134, 0.1300012767314911, 0.024776477366685867, 0.2642155587673187, 0.009730033576488495, 0.030293507501482964, 0.035910848528146744, 0.1060272753238678, 0.012839632108807564, 0.02818700484931469, 0.017353566363453865, 0.03721487149596214, 0.033503416925668716, 0.006620435509830713, 0.1337127387523651, 0.9996376037597656, 0.03662949427962303, 0.03662949427962303, 0.15395160019397736, 0.05149675905704498, 0.01616007089614868, 0.11516743898391724, 0.0414775125682354, 0.44321686029434204, 0.0015082733007147908, 0.00808003544807434, 0.052466362714767456, 0.015729134902358055, 0.0005386690027080476, 0.026933450251817703, 0.002619780832901597, 0.017028573900461197, 0.36283963918685913, 0.5534287095069885, 0.06483957171440125, 1.000273585319519, 1.0006355047225952, 1.0002821683883667, 0.9995285272598267, 0.9998221397399902, 0.21705977618694305, 0.7822540402412415, 0.0006924220360815525, 0.028043091297149658, 0.8772987127304077, 0.00830906443297863, 0.00034621101804077625, 0.010732541792094707, 0.07478158175945282, 0.5288558006286621, 0.009036591276526451, 0.43633827567100525, 0.025818834081292152, 0.9999545216560364, 0.014042964205145836, 0.9830074906349182, 0.40412357449531555, 0.5956977009773254, 0.029852747917175293, 0.9709250926971436, 0.9990949630737305, 1.0002208948135376, 0.8290079832077026, 0.1711687445640564, 1.0001046657562256, 0.9992955327033997, 1.0002341270446777, 0.9993153214454651, 0.005371807608753443, 0.01841762661933899, 0.019185027107596397, 0.0061392090283334255, 0.7712381482124329, 0.03299824893474579, 0.005371807608753443, 0.010743615217506886, 0.13045819103717804, 0.0007674011285416782, 1.0006667375564575, 0.8929292559623718, 0.002712524961680174, 0.0005085984012112021, 0.10392361134290695, 0.00833415612578392, 0.9904823899269104, 0.0010684814769774675, 1.000539779663086, 0.9978545904159546, 0.002795110922306776, 1.0002235174179077, 1.0002377033233643, 0.024810494855046272, 0.9750524759292603, 1.0002706050872803, 0.9998572468757629, 0.9622230529785156, 0.03657204285264015, 0.001261104946024716, 1.0000563859939575, 0.9997828006744385, 0.03893805295228958, 0.9623261094093323, 0.9998269081115723, 0.9983827471733093, 1.000372052192688, 0.9999096989631653, 0.03862535580992699, 0.014188907109200954, 0.09853407740592957, 0.0036786054261028767, 0.21125705540180206, 0.001051030121743679, 0.036260537803173065, 0.013400633819401264, 0.020757844671607018, 0.06674041599035263, 0.060959748923778534, 0.4317106306552887, 0.0028903328347951174, 1.0004451274871826, 1.000304937362671, 1.000248908996582, 0.040384747087955475, 0.0019004585919901729, 0.06556582450866699, 0.03705894201993942, 0.8556814789772034, 0.9989933371543884, 0.450121134519577, 0.10513930767774582, 0.0926475077867508, 0.06558194011449814, 0.035809822380542755, 0.04726063832640648, 0.01873769797384739, 0.017072124406695366, 0.06245899200439453, 0.0141573715955019, 0.07869832962751389, 0.00020819665223825723, 0.011867208406329155, 0.019890515133738518, 0.2047818899154663, 0.5736605525016785, 0.0018082286696881056, 0.1925763487815857, 0.007232914678752422, 0.02519303932785988, 0.9750387072563171, 0.0867251306772232, 0.16085578501224518, 0.07755547016859055, 0.18339326977729797, 0.07247348874807358, 0.0739096999168396, 0.03126524016261101, 0.03303288668394089, 0.02883472666144371, 0.020438406616449356, 0.12870672345161438, 0.027840424329042435, 0.014804035425186157, 0.03270145133137703, 0.02739851363003254, 1.0002020597457886, 0.9991270899772644, 0.997593879699707, 0.5216984152793884, 0.04340237006545067, 0.08825470507144928, 0.042049065232276917, 0.010149774141609669, 0.046012308448553085, 0.03238261491060257, 0.07211173325777054, 0.027549387887120247, 0.018946245312690735, 0.008119819685816765, 0.0880613774061203, 0.0013533032033592463, 0.9999899864196777, 0.9999456405639648, 0.9438822865486145, 0.056093961000442505, 1.000584363937378, 0.0370376892387867, 0.3496609032154083, 0.0056498171761631966, 0.01946048066020012, 0.5700037479400635, 0.0069053322076797485, 0.004394302144646645, 0.0031387873459607363, 0.0025110298302024603, 0.20954950153827667, 0.014780723489820957, 0.09364242851734161, 0.0006548421806655824, 0.03302275389432907, 0.08980692923069, 0.11590706557035446, 0.03891633450984955, 0.11057478189468384, 0.05294866859912872, 0.16015568375587463, 0.05603577941656113, 0.011600061319768429, 0.008793595246970654, 0.0034613085445016623, 0.13733190298080444, 0.234588161110878, 0.08068107068538666, 0.0016650877660140395, 0.034512728452682495, 0.03761584684252739, 0.17846713960170746, 0.1137179285287857, 0.054985739290714264, 0.016007548198103905, 0.0279280636459589, 0.03515605628490448, 0.007644266821444035, 0.016953621059656143, 0.022705743089318275, 0.9786099791526794, 0.017371775582432747, 0.004342943895608187, 0.9997802972793579, 0.0013483372749760747, 0.48203060030937195, 0.017865469679236412, 0.012809204868972301, 0.0003370843187440187, 0.1324741393327713, 0.18168845772743225, 0.0013483372749760747, 0.17022758722305298, 0.9954109787940979, 0.005663789343088865, 1.0000770092010498, 0.9998276829719543, 1.0003907680511475, 0.9999627470970154, 0.9628430604934692, 0.03667161241173744, 0.9995242953300476, 0.9999116659164429, 0.7423275113105774, 0.2576342523097992, 0.9991103410720825, 0.045662201941013336, 0.9095910787582397, 0.04383571445941925, 0.03596316650509834, 0.17246569693088531, 0.0632636770606041, 0.19241607189178467, 0.00026250488008372486, 0.007087631616741419, 0.005512602161616087, 0.3840446174144745, 0.021000389009714127, 0.0010500195203348994, 0.0034125633537769318, 0.11287709325551987, 0.0005250097601674497, 1.0011094808578491, 0.9981937408447266, 1.0001991987228394, 0.9990659356117249, 0.04756840318441391, 0.836163341999054, 0.006689306814223528, 0.10925867408514023, 0.009360220283269882, 0.14807869493961334, 0.3034583628177643, 0.12318050116300583, 0.03893851861357689, 0.002059248508885503, 0.025834208354353905, 0.05335325747728348, 0.004867314826697111, 0.0001872044085757807, 0.29035404324531555, 0.9996036291122437, 0.9997171759605408, 0.9990464448928833, 0.01590401865541935, 0.029769059270620346, 0.0424107164144516, 0.020389767363667488, 0.8469909429550171, 0.008563701994717121, 0.0012233860325068235, 0.034662604331970215, 0.07505488395690918, 0.43309712409973145, 0.14756613969802856, 0.0028660574462264776, 0.031741585582494736, 0.04349242150783539, 0.059757299721241, 0.09035246074199677, 0.0606171153485775, 0.027048418298363686, 0.01092684455215931, 0.00823991559445858, 0.0010389458620920777, 0.008204089477658272, 0.005931910127401352, 0.002965955063700676, 0.0004237078537698835, 0.10677438229322433, 0.006779325660318136, 0.863516628742218, 0.014406067319214344, 1.002540946006775, 1.0004419088363647, 0.995527982711792, 0.1916366070508957, 0.003910951316356659, 0.8037004470825195, 0.9995167851448059, 1.0002981424331665, 0.9990076422691345, 0.9988161325454712, 0.9999139308929443, 0.011243995279073715, 0.9872227907180786, 0.9979598522186279, 0.001411541597917676, 0.020068440586328506, 0.9795907139778137, 0.9992591142654419, 1.0000420808792114, 1.0006992816925049, 0.9996941089630127, 0.999304473400116, 0.9988767504692078, 0.9994245767593384, 0.997428834438324, 0.9982172250747681, 0.09154018014669418, 0.20892184972763062, 0.001751965144649148, 0.1261414885520935, 0.48266640305519104, 0.06175677105784416, 0.006569869350641966, 0.020585590973496437, 1.0007511377334595, 0.9994713068008423, 0.9997795820236206, 0.01213112473487854, 0.09230203926563263, 0.015823205932974815, 0.5849311947822571, 0.05432634428143501, 0.16139671206474304, 0.018460407853126526, 0.06118306517601013, 0.0697515532374382, 0.1290159821510315, 0.03633909672498703, 0.36607372760772705, 0.013779589906334877, 0.037558529525995255, 0.06158135458827019, 0.16633062064647675, 0.017559831961989403, 0.00597522035241127, 0.026949463412165642, 0.019998697564005852, 0.02780306711792946, 0.019632866606116295, 0.00170720589812845, 0.11176186800003052, 0.12107536196708679, 0.7676976323127747, 0.13601234555244446, 0.012831353582441807, 0.013686777092516422, 0.04277117922902107, 0.2711692750453949, 0.004277118016034365, 0.5192421078681946, 0.9864988327026367, 0.01323271356523037, 0.20687226951122284, 0.7924798727035522, 0.9976921677589417, 0.9993770122528076, 0.5252904891967773, 0.00021742156241089106, 0.0741407498717308, 0.10740625113248825, 0.00956654828041792, 0.0004348431248217821, 0.05587734282016754, 0.06087803840637207, 0.007392332889139652, 0.005435538943856955, 0.07305364310741425, 0.06848779320716858, 0.0121756074950099, 0.9991376399993896, 0.979390025138855, 0.0003720144450198859, 0.02021278440952301, 0.9986872673034668, 0.999080240726471, 0.9999409317970276, 0.9984163641929626, 1.000205397605896, 0.9999209642410278, 0.0003092322440352291, 0.014224682934582233, 0.007421573624014854, 0.6602108478546143, 0.13606218993663788, 0.0015461612492799759, 0.1450299173593521, 0.035561706870794296, 0.06223643198609352, 0.06223643198609352, 0.0011854558251798153, 0.035563673824071884, 0.001778183737769723, 0.06816370785236359, 0.00829819031059742, 0.3236294388771057, 0.43802592158317566, 1.0002192258834839, 0.0177089162170887, 0.0050816889852285385, 0.13012203574180603, 0.0782272145152092, 0.028026284649968147, 0.12581029534339905, 0.011241312138736248, 0.3618778586387634, 0.01940281316637993, 0.000615962315350771, 0.06606195867061615, 0.15476052463054657, 0.001231924630701542, 0.9993706345558167, 0.07031436264514923, 0.8765857219696045, 0.05312640964984894, 1.001486897468567, 0.16300518810749054, 0.0011560651473701, 0.8346790671348572, 0.08522164076566696, 0.9138224124908447, 0.9918513298034668, 0.9998627305030823, 0.998336911201477, 1.0001124143600464, 0.04106087610125542, 0.19510087370872498, 0.03637055680155754, 0.4011458456516266, 0.013001239858567715, 0.147457093000412, 0.04435233026742935, 0.0947115570306778, 0.025426475331187248, 0.0008228632505051792, 0.0004937179619446397, 0.9999391436576843, 1.0003466606140137, 1.0001479387283325, 0.055401839315891266, 0.13573451340198517, 0.7251248359680176, 0.0671214610338211, 0.01171961985528469, 0.0049009318463504314, 0.07842361927032471, 0.893815279006958, 6.294030754361302e-05, 0.023917315527796745, 0.00031470152316614985, 0.00276937335729599, 0.0005664627533406019, 0.9999628663063049, 0.9988856911659241, 0.9957377910614014, 0.9992302656173706, 1.0006476640701294, 1.0012043714523315, 0.06727272272109985, 0.05830302834510803, 0.006727272644639015, 0.8498787879943848, 0.01793939433991909, 1.0005313158035278, 1.000154733657837, 0.9997149705886841, 0.0007175015634857118, 0.09296770393848419, 0.08271767944097519, 0.042742595076560974, 0.4338834583759308, 0.01250502746552229, 0.08866269141435623, 0.008097517304122448, 0.06539514660835266, 0.1344802975654602, 0.03782258182764053, 1.0005592107772827, 0.011772356927394867, 0.9815202951431274, 0.0058861784636974335, 0.9995290637016296, 0.008126034401357174, 0.9913761615753174, 1.000049352645874, 1.0001342296600342, 0.10972496122121811, 0.100376196205616, 0.17049191892147064, 0.25069448351860046, 0.008692709729075432, 0.03075251169502735, 0.04986007139086723, 0.03575491905212402, 0.010824884288012981, 0.010496857576072216, 0.031080538406968117, 0.04428361728787422, 0.03632896766066551, 0.00852869637310505, 0.10201632976531982, 0.051067743450403214, 0.8908483982086182, 0.03026236593723297, 0.007565591484308243, 0.015131182968616486, 0.005674193613231182, 0.9996271729469299, 0.05111045762896538, 0.00968408677726984, 0.9388184547424316, 1.0001667737960815, 0.23413613438606262, 0.7654604911804199, 0.9983893036842346, 0.15968187153339386, 0.10909266769886017, 0.009155713953077793, 0.46313947439193726, 0.007681488990783691, 0.03212258964776993, 0.06975413113832474, 0.07650452852249146, 0.005586537532508373, 0.0077590798027813435, 0.01489743310958147, 0.0040347217582166195, 0.018854564055800438, 0.0027156779542565346, 0.018932154402136803, 0.024073949083685875, 0.10338734835386276, 0.04665493965148926, 0.38163742423057556, 0.009424298070371151, 0.04301585629582405, 0.027153175324201584, 0.20528173446655273, 0.016049299389123917, 0.039563391357660294, 0.022580990567803383, 0.058411985635757446, 0.01651584915816784, 0.0037323953583836555, 0.0025193667970597744, 1.000849723815918, 1.0003143548965454, 0.06354689598083496, 0.683708906173706, 0.1818276047706604, 0.07096842676401138, 0.9947192668914795, 0.044310327619314194, 0.09657378494739532, 0.04743477329611778, 0.059364475309848785, 0.05510386824607849, 0.20820172131061554, 0.019882839173078537, 0.3985089063644409, 0.005680811125785112, 0.024711528792977333, 0.023291325196623802, 0.005396770313382149, 0.011645662598311901, 0.056347984820604324, 0.025218678638339043, 0.06541094928979874, 0.06462286412715912, 0.03703993558883667, 0.18047116696834564, 0.03625185042619705, 0.4302937090396881, 0.02718888781964779, 0.03625185042619705, 0.014185506850481033, 0.007092753425240517, 0.019702091813087463, 0.0011886777356266975, 0.002377355471253395, 0.2626977860927582, 0.026745248585939407, 0.01901884377002716, 0.030311280861496925, 0.6490180492401123, 0.0005943388678133488, 0.008320744149386883, 0.9975472688674927, 1.0009500980377197, 0.9957741498947144, 0.9512494206428528, 0.04823780059814453, 0.957221269607544, 0.042514536529779434, 0.999833881855011, 0.004597705788910389, 0.9977021813392639, 1.000460147857666, 0.9964026808738708, 0.9991406798362732, 0.09948913753032684, 0.11661431938409805, 0.4336340129375458, 0.04057036712765694, 0.02609551139175892, 0.22018088400363922, 0.0016309694619849324, 0.00020387118274811655, 0.0010193559573963284, 0.06075361371040344, 0.9998741149902344, 0.9995755553245544, 0.9999786615371704, 0.999495267868042, 0.998164176940918, 0.3092077970504761, 0.005463035311549902, 0.24692919850349426, 0.14149262011051178, 0.13774652779102325, 0.05517665669322014, 0.0010145637206733227, 0.0036680379416793585, 0.013969761319458485, 0.002185214078053832, 0.0173256266862154, 0.0022632575128227472, 0.02317887917160988, 0.040348418056964874, 0.023006241768598557, 0.9777652621269226, 0.99986332654953, 0.9681443572044373, 0.027661267668008804, 0.0050293211825191975, 0.013929443433880806, 0.14785762131214142, 0.0766119435429573, 0.3491494953632355, 0.007878128439188004, 0.05206415057182312, 0.04350096732378006, 0.13644003868103027, 0.06462348252534866, 0.005822964012622833, 0.019980760291218758, 0.029685700312256813, 0.03299679607152939, 0.003425273112952709, 0.015756256878376007, 0.6861984729766846, 0.2351759970188141, 0.01992782950401306, 9.204539674101397e-05, 0.00013806809147354215, 0.0012426128378137946, 0.057114169001579285, 4.602269837050699e-05, 0.00042297266190871596, 0.6754873394966125, 0.013958097435534, 0.14761745929718018, 0.00042297266190871596, 0.010151343420147896, 0.0219945777207613, 0.006767562590539455, 0.10532019287347794, 0.01818782463669777, 0.0062775094993412495, 0.9939389824867249, 0.040326811373233795, 0.9583547711372375, 0.9986372590065002, 0.9999479651451111, 0.9984945058822632, 0.12661787867546082, 0.8709108233451843, 0.0022020500618964434, 0.9976297616958618, 0.015129311941564083, 0.15253905951976776, 0.04013717547059059, 0.3004503548145294, 0.14978018403053284, 0.03461942449212074, 0.04672287777066231, 0.10724012553691864, 0.020914049819111824, 0.0015129311941564083, 0.03283950686454773, 0.05357556417584419, 0.03960319980978966, 0.0032038544304668903, 0.0016909231198951602, 0.00020624863100238144, 0.08105571568012238, 0.5332902073860168, 0.05431213974952698, 0.011618672870099545, 0.1590864509344101, 0.05266215279698372, 0.0030249799601733685, 0.01512490026652813, 0.0006874954560771585, 0.01471240259706974, 0.009143689647316933, 0.06510581821203232, 0.9988399147987366, 0.9992294311523438, 0.9995983839035034, 1.0000427961349487, 0.004662476014345884, 0.13934142887592316, 0.040496937930583954, 0.029173780232667923, 0.7714399695396423, 0.0005328544066287577, 0.007992816157639027, 0.006394253112375736, 0.061935607343912125, 0.9011067748069763, 0.037161365151405334, 1.0004814863204956, 0.013451128266751766, 0.006725564133375883, 0.9785695672035217, 0.03986882418394089, 0.06185832992196083, 0.33888500928878784, 0.09802798181772232, 0.025894183665513992, 0.056309573352336884, 0.03370353952050209, 0.00760384788736701, 0.048500217497348785, 0.008425884880125523, 0.11775688827037811, 0.11755137890577316, 0.03740271180868149, 0.008014866150915623, 0.0006221571820788085, 0.15056203305721283, 0.11447691917419434, 0.707392692565918, 0.008088042959570885, 0.018042556941509247, 0.99970942735672, 1.0009030103683472, 0.9983804225921631, 0.9990018606185913, 0.04479892551898956, 0.032157644629478455, 0.01086706668138504, 0.6154307723045349, 0.11754173785448074, 0.17919570207595825, 0.13073217868804932, 0.8491055369377136, 0.020263487473130226, 0.2503474950790405, 0.02419879101216793, 0.3225038945674896, 0.40301987528800964, 0.0007164059206843376, 0.04155154526233673, 0.05516325682401657, 0.6132434606552124, 0.05158122628927231, 0.0852523073554039, 0.10602807998657227, 0.03008904866874218, 0.015760930255055428, 0.08331295847892761, 0.014159910380840302, 0.47880253195762634, 0.025356117635965347, 0.011525508016347885, 0.024697517976164818, 0.0757390558719635, 0.020745914429426193, 0.26574528217315674, 0.7252530455589294, 0.027412371709942818, 0.0005221404135227203, 0.004177123308181763, 0.10834413766860962, 0.10468915849924088, 0.025323810055851936, 0.0023496318608522415, 0.0018274914473295212, 0.9999188780784607, 0.8435535430908203, 0.15628783404827118, 0.20158308744430542, 0.03830822557210922, 0.1071142628788948, 0.0014876981731504202, 0.007066566031426191, 0.20009540021419525, 0.0022315471433103085, 0.4146958589553833, 0.0007438490865752101, 0.027150491252541542, 0.9999793171882629, 0.9934989809989929, 0.006588189397007227, 0.8583183288574219, 0.14142745733261108, 0.9985722303390503, 0.008241166360676289, 0.9920303821563721, 0.011970850639045238, 0.0023941700346767902, 0.003990283235907555, 0.165995791554451, 0.6982995867729187, 0.11811239272356033, 0.9995283484458923, 0.9997661113739014, 1.0013153553009033, 0.9994377493858337, 0.00018147638184018433, 0.10053791850805283, 0.47020530700683594, 0.33282768726348877, 0.09618248045444489, 0.9994544982910156, 0.01256282813847065, 0.0251256562769413, 0.9170864820480347, 0.0376884862780571, 0.008375219069421291, 0.9986522793769836, 0.9989686012268066, 0.9988189339637756, 0.9997618198394775, 0.9983206987380981, 0.9999247193336487, 0.11633036285638809, 0.03623519465327263, 0.12332557141780853, 0.05141480267047882, 0.16298842430114746, 0.0878598541021347, 0.08806970715522766, 0.008883917704224586, 0.12451475858688354, 0.06498551368713379, 0.021195489913225174, 0.042530883103609085, 0.042041219770908356, 0.02665175497531891, 0.0029379886109381914, 0.9999005794525146, 0.9998467564582825, 1.0003355741500854, 0.18189604580402374, 0.0908900573849678, 0.018664922565221786, 0.3559087812900543, 0.00973822083324194, 0.08880329877138138, 0.03304039314389229, 0.10967091470956802, 0.020172027871012688, 0.012868363410234451, 0.018317129462957382, 0.007187734358012676, 0.022838447242975235, 0.00394166074693203, 0.025852657854557037, 0.9991614818572998, 0.04480479285120964, 0.06218073144555092, 0.1508803516626358, 0.4843164086341858, 0.04653805121779442, 0.05160783976316452, 0.0004766467318404466, 0.05069787800312042, 0.06343734264373779, 0.0003466521739028394, 0.0003466521739028394, 0.004116494208574295, 0.027862166985869408, 0.01234948355704546, 0.9983827471733093, 1.0011094808578491, 0.011410298757255077, 0.08437615633010864, 0.48343634605407715, 0.13872520625591278, 0.0015013550873845816, 0.011110027320683002, 0.14322927594184875, 0.02732466347515583, 0.044139839708805084, 0.05464932695031166, 0.01591171883046627, 0.015429546125233173, 0.06027166172862053, 0.08341597765684128, 0.8249984979629517, 0.9965023994445801, 0.009907186031341553, 0.12005804479122162, 0.020773131400346756, 0.3719988465309143, 0.01970784179866314, 0.08575575053691864, 0.05880394205451012, 0.1065288782119751, 0.03259783610701561, 0.028123624622821808, 0.021731890738010406, 0.06647402048110962, 0.02002742886543274, 0.036965519189834595, 0.0007457021274603903, 0.999851644039154, 1.0000133514404297, 0.9999753832817078, 1.0025383234024048, 0.023469360545277596, 0.00026077067013829947, 0.0026946302969008684, 0.297626256942749, 0.0041723307222127914, 0.06971269100904465, 0.05763031914830208, 0.01625470444560051, 0.017384711652994156, 0.07831812649965286, 0.0400717593729496, 0.15368084609508514, 0.2195689082145691, 0.01903625950217247, 0.9999710917472839, 0.9988256692886353, 0.9981018304824829, 0.9229975342750549, 0.0074985031969845295, 0.0006816820823587477, 0.023858873173594475, 0.04499101638793945, 0.9996852278709412, 1.0002588033676147, 0.9974754452705383, 0.0009872947121039033, 0.8925144076347351, 0.05331391096115112, 0.003949178848415613, 0.042453669011592865, 0.0019745894242078066, 0.004936473444104195, 0.9990916848182678, 0.01388612948358059, 0.017292160540819168, 0.005502051208168268, 0.5483711361885071, 0.008384077809751034, 0.05135247856378555, 0.12314114719629288, 0.024104224517941475, 0.033536311239004135, 0.059474553912878036, 0.11501907557249069, 0.9991686940193176, 0.37608957290649414, 0.022484326735138893, 0.1189577728509903, 0.04627588018774986, 0.0031373477540910244, 0.0924210399389267, 0.1691553294658661, 0.04392286762595177, 0.0035295162815600634, 0.0030066249892115593, 0.0763421282172203, 0.007189755327999592, 0.007320478092879057, 0.03019697219133377, 0.9947165846824646, 0.9998102784156799, 0.9993779063224792, 0.9997693300247192, 0.9993674755096436, 0.9987712502479553, 1.00006902217865, 0.016622666269540787, 0.9831119775772095, 0.7362040877342224, 0.19235149025917053, 0.002195166889578104, 0.003292750334367156, 0.0658550038933754, 0.23791652917861938, 0.06828490644693375, 0.054032113403081894, 0.000525717856362462, 0.053389567881822586, 0.4411356747150421, 5.841309393872507e-05, 0.027921458706259727, 0.007885768078267574, 0.05093621835112572, 0.05479148402810097, 0.0030374808702617884, 1.000064730644226, 0.9918653964996338, 0.007949055172502995, 0.0077736275270581245, 0.032507896423339844, 0.9596896767616272, 0.05405207350850105, 0.0034444949124008417, 0.736327052116394, 0.05802649259567261, 0.016162630170583725, 0.02517130970954895, 0.0018547280924394727, 0.10492461919784546, 0.9995465278625488, 0.043116189539432526, 0.9037491679191589, 0.01690831035375595, 0.0355074517428875, 0.9983823895454407, 0.3776766061782837, 0.004521415568888187, 0.12715327739715576, 0.2612270712852478, 0.07271174341440201, 0.011903317645192146, 0.017532018944621086, 0.001107285381294787, 0.12613825500011444, 1.0015090703964233, 0.9975687265396118, 0.09583090245723724, 0.0036391483154147863, 0.2955797016620636, 0.012130494229495525, 0.5179721117019653, 0.016173992305994034, 0.010513095185160637, 0.03760453313589096, 0.010917444713413715, 0.005769687704741955, 0.9938286542892456, 0.9953160881996155, 0.0278501994907856, 0.10519886016845703, 0.011233693920075893, 0.12099624425172806, 0.06342356652021408, 0.00035105293500237167, 0.12275151163339615, 0.01298895850777626, 0.06272146105766296, 0.1494315266609192, 0.20536597073078156, 0.06342356652021408, 0.05417916923761368, 0.09384467452764511, 0.07480372488498688, 0.10789871215820312, 0.05168257653713226, 0.017680881544947624, 0.6537392139434814, 0.00045335592585615814, 0.047585222870111465, 0.9517044425010681, 0.9987903833389282, 0.04773731902241707, 0.952165961265564, 0.07789347320795059, 0.15501061081886292, 0.008798598311841488, 0.05098011717200279, 0.0015526938950642943, 0.3239954710006714, 0.01992623880505562, 0.09652580320835114, 0.0005175646510906518, 0.011386421509087086, 0.02432553842663765, 0.009574946016073227, 0.21375419199466705, 0.006210775580257177, 0.9984455108642578, 0.9947554469108582, 0.019763898104429245, 0.37054386734962463, 0.12776367366313934, 0.08800197392702103, 0.09624668210744858, 0.013507280498743057, 0.006373565178364515, 0.18144194781780243, 0.006081199739128351, 0.005964253563433886, 0.002982126781716943, 0.07455316931009293, 0.0013448806712403893, 0.004385480657219887, 0.001052515348419547, 0.02552901767194271, 0.4843254089355469, 0.024198120459914207, 0.11941772699356079, 0.1107064038515091, 0.0037507088854908943, 0.0003629718266893178, 0.13962316513061523, 0.012583022937178612, 0.002419812139123678, 0.00048396241618320346, 0.05371982976794243, 0.022746233269572258, 0.9991731643676758, 0.08171091228723526, 0.2264382690191269, 0.0418458916246891, 0.15005095303058624, 0.11055734008550644, 0.07069232314825058, 0.01200902834534645, 0.1859542280435562, 0.06970188766717911, 0.027732189744710922, 0.017704030498862267, 0.005571198649704456, 0.9999561905860901, 0.08375358581542969, 0.09516088664531708, 0.06574206054210663, 0.014709411188960075, 0.08825646340847015, 0.09335973113775253, 0.006304033100605011, 0.09095819294452667, 0.03452208638191223, 0.11677471548318863, 0.030019206926226616, 0.28037938475608826, 0.0003001920704264194, 1.0003856420516968, 0.9997273683547974, 0.002366116503253579, 0.03135104477405548, 0.966558575630188, 0.0005320406053215265, 0.012946320697665215, 0.00815795548260212, 0.11350199580192566, 0.8264364004135132, 0.03848426789045334, 0.10792266577482224, 0.011563142761588097, 0.6576537489891052, 0.0009635952301323414, 0.13634872436523438, 0.03372583165764809, 0.021199094131588936, 0.0024089880753308535, 0.02698066644370556, 0.9996207356452942, 0.9987672567367554, 0.999838650226593, 0.9727817177772522, 0.02772175706923008, 0.137368306517601, 0.06346499174833298, 0.7991578578948975, 0.9047569036483765, 0.011732163839042187, 0.07108311355113983, 0.011732163839042187, 1.0000375509262085, 0.9973525404930115, 0.999890923500061, 0.009653497487306595, 0.10073214769363403, 0.09590540081262589, 0.3897075057029724, 0.0031478796154260635, 0.2819450795650482, 0.00020985864102840424, 0.01038800273090601, 0.04742805287241936, 0.0016788691282272339, 0.046798478811979294, 0.0033577382564544678, 0.009128850884735584, 0.9591330289840698, 0.040814172476530075, 0.06585089862346649, 0.1023167222738266, 0.07859623432159424, 0.00035403709625825286, 0.06425773352384567, 0.10125461220741272, 0.16993780434131622, 0.25915515422821045, 0.027791911736130714, 0.027791911736130714, 0.03982917219400406, 0.05558382347226143, 0.004956519231200218, 0.002301241038367152, 0.02273193933069706, 0.10797671228647232, 0.5348825454711914, 0.008638137020170689, 0.04114481061697006, 0.12002464383840561, 0.12934473156929016, 0.017048954963684082, 0.017958233132958412, 0.05507025867700577, 0.002965321531519294, 0.0016944694798439741, 0.011014051735401154, 0.11310584098100662, 0.774796187877655, 0.041938118636608124, 0.24037504196166992, 0.17052003741264343, 0.030668050050735474, 0.5409502983093262, 0.0014198170974850655, 0.015901951119303703, 1.0000624656677246, 0.008506388403475285, 0.3275948464870453, 0.0027695216704159975, 0.0817008912563324, 0.090998575091362, 0.009495503269135952, 0.17230381071567535, 0.005736866500228643, 0.14381730556488037, 0.00019782298477366567, 0.15568669140338898, 0.001186937908641994, 0.9519355893135071, 0.04776262119412422, 0.9999746680259705, 1.000391960144043, 0.003010147251188755, 0.003010147251188755, 0.9933485984802246, 0.9980278611183167, 0.017416656017303467, 0.9822994470596313, 1.0000450611114502, 0.03426036611199379, 0.2610313594341278, 0.005360465031117201, 0.017246713861823082, 0.020043479278683662, 0.37010517716407776, 0.17642922699451447, 0.11559959501028061, 0.3591415584087372, 0.017977505922317505, 0.5385080575942993, 0.08416741341352463, 0.0012045921757817268, 0.21652543544769287, 0.003011480439454317, 0.3315639793872833, 0.44750598073005676, 0.0023976494558155537, 0.021279137581586838, 0.9764426946640015, 1.0002272129058838, 0.9999278783798218, 0.9993144869804382, 0.012410087510943413, 0.03447246551513672, 0.15995223820209503, 0.04619310423731804, 0.5770690441131592, 0.07377107441425323, 0.0006894493126310408, 0.09514400362968445, 0.0014874772168695927, 0.21895664930343628, 0.13476543128490448, 0.486702561378479, 0.1377403885126114, 0.0029749544337391853, 0.0169572401791811, 0.9772790670394897, 0.02094169519841671, 0.9995504021644592, 0.991600751876831, 1.0011736154556274, 0.0024062141310423613, 0.9973757266998291, 0.9995771646499634, 0.9955804347991943, 0.0032688546925783157, 0.0032688546925783157, 0.9904629588127136, 0.9997130036354065, 0.12364055961370468, 0.0022054058499634266, 0.7658271193504333, 0.03377027437090874, 0.01378378551453352, 0.005444595590233803, 0.02412162534892559, 0.031220274046063423, 0.09213176369667053, 0.02544591575860977, 0.0008774453308433294, 0.00614211754873395, 0.00614211754873395, 0.17197929322719574, 0.18777330219745636, 0.5097957253456116, 0.0006644111126661301, 0.022589977830648422, 0.029898498207330704, 0.013952632434666157, 0.06843434274196625, 0.00398646667599678, 0.26244238018989563, 0.032556142657995224, 0.041193488985300064, 0.0026576444506645203, 0.5228915214538574, 0.25572484731674194, 0.030834190547466278, 0.1260223239660263, 0.1434287130832672, 0.06017640605568886, 9.946513455361128e-05, 0.049334704875946045, 0.31938254833221436, 0.0054705822840332985, 0.004475931171327829, 0.004873791243880987, 0.7789422869682312, 0.12415846437215805, 0.09589184075593948, 0.00035780537291429937, 0.0007156107458285987, 0.9996718168258667, 0.0008431277819909155, 0.9569500684738159, 0.022764449939131737, 0.019391939043998718, 0.08836822211742401, 0.14156648516654968, 0.33130693435668945, 0.005615371745079756, 0.002364367013797164, 0.022461486980319023, 0.05999581515789032, 0.30293452739715576, 0.016550568863749504, 0.028963496908545494, 1.000441312789917, 0.9992495179176331, 0.17675603926181793, 0.10857565701007843, 0.2731489837169647, 0.0014961212873458862, 0.0329146683216095, 0.039754077792167664, 0.10451475530862808, 0.11477387696504593, 0.003205974120646715, 0.01303762849420309, 0.0029922425746917725, 0.12888015806674957, 0.03416842594742775, 0.4240904748439789, 0.30112069845199585, 0.00018271886801812798, 0.0579218789935112, 0.0380055233836174, 0.04860321804881096, 0.09574468433856964, 1.0001176595687866, 0.03473332151770592, 0.07492473721504211, 0.07740568369626999, 0.0009923805482685566, 0.021336182951927185, 0.28927895426750183, 0.5011522173881531, 0.06789430975914001, 0.0018652282888069749, 0.24938102066516876, 0.6746531128883362, 0.005222639534622431, 0.0009326141444034874, 0.21219301223754883, 0.06078045070171356, 0.026928046718239784, 0.027081921696662903, 0.05708745867013931, 0.24173691868782043, 0.07970701903104782, 0.10509631782770157, 0.18941958248615265, 0.09801030904054642, 0.03419524058699608, 0.014448693953454494, 0.13148310780525208, 0.005538666155189276, 0.3633846342563629, 0.2528521418571472, 0.06116613745689392, 0.03804822638630867, 0.0002408115688012913, 0.0007224346627481282, 0.9989129304885864, 0.9990130662918091, 0.04293394833803177, 0.008122638799250126, 0.948028028011322, 0.9986571073532104, 1.0003083944320679, 1.0000340938568115, 0.999855101108551, 0.05781495198607445, 0.020777247846126556, 0.19566747546195984, 0.012827692553400993, 0.014453737996518612, 0.12863826751708984, 0.019873889163136482, 0.014453737996518612, 0.5113009810447693, 0.0010840303730219603, 0.0018067172495648265, 0.02131926268339157, 0.999352753162384, 1.0006353855133057, 0.9954113960266113, 0.05453338474035263, 0.9463145732879639, 1.0000061988830566, 0.0010720336576923728, 0.00032161010312847793, 0.002036863937973976, 0.0032161008566617966, 0.03194660320878029, 0.00021440672571770847, 0.19167961180210114, 0.5504893064498901, 0.1169588714838028, 0.03687795624136925, 0.04159490391612053, 0.013293216936290264, 0.010077116079628468, 0.999829113483429, 0.999816358089447, 0.9999072551727295, 0.012483624741435051, 0.0037450874224305153, 0.04057178273797035, 0.8189257979393005, 0.11547353118658066, 0.008738537319004536, 1.000085711479187, 0.9991393685340881, 1.0002611875534058, 0.035125479102134705, 0.007704944349825382, 0.1735878586769104, 0.0013596960343420506, 0.16860230267047882, 0.11784031987190247, 0.06435894221067429, 0.02674068883061409, 0.01722281612455845, 0.0024927761405706406, 0.34876203536987305, 0.02515437640249729, 0.010424336418509483, 1.000059962272644, 0.9990659356117249, 0.015192313119769096, 0.09059806168079376, 0.031125715002417564, 0.18638375401496887, 0.05576690658926964, 0.14766187965869904, 0.06299252063035965, 0.27031201124191284, 0.02352955937385559, 0.008893061429262161, 0.00018527211796026677, 0.006855068262666464, 0.023344285786151886, 0.07688792794942856, 0.1505383402109146, 0.18154177069664001, 0.16207075119018555, 0.1773713380098343, 0.06687463819980621, 0.03522752597928047, 0.06320035457611084, 0.038070403039455414, 0.03922364488244057, 0.004385002423077822, 0.06777309626340866, 0.013731627725064754, 1.0000728368759155, 1.0001771450042725, 0.17131435871124268, 0.12943752110004425, 0.08223089575767517, 0.07195203006267548, 0.07728181034326553, 0.25601980090141296, 0.04263824224472046, 0.0003806985914707184, 0.013705149292945862, 0.0005710478872060776, 0.048158369958400726, 0.012563053518533707, 0.008375369012355804, 0.0683353990316391, 0.017321785911917686, 0.9998053312301636, 0.9995303153991699, 0.9997934103012085, 0.21027153730392456, 0.01062862854450941, 0.06158030405640602, 0.00021914698299951851, 0.012381804175674915, 0.27820709347724915, 0.027393372729420662, 0.08700135350227356, 0.02826996147632599, 0.05916968360543251, 0.07045575231313705, 0.02476360835134983, 0.0035063517279922962, 0.08974068611860275, 0.03659754619002342, 0.008732190355658531, 0.15321025252342224, 0.0031753419898450375, 0.26196572184562683, 0.5723553895950317, 1.0000756978988647, 0.9995166063308716, 0.9998472929000854, 0.9998166561126709, 1.000756859779358, 0.1389876753091812, 0.8617236018180847, 1.0000433921813965, 0.06396413594484329, 0.10394172370433807, 0.1759013831615448, 0.6540333032608032, 0.9993340969085693, 0.9991875886917114, 0.02119213528931141, 0.07240646332502365, 0.0017660112353041768, 0.17483511567115784, 0.7311286926269531, 0.9999493956565857, 0.9965395331382751, 0.9994211792945862, 1.0001490116119385, 0.017996592447161674, 0.9826139211654663, 0.011390285566449165, 0.03075377084314823, 0.003417085623368621, 0.9533669352531433, 0.010177191346883774, 0.05591173097491264, 0.018176548182964325, 0.6549001336097717, 0.014532861299812794, 0.03438466787338257, 0.026846006512641907, 0.11153028905391693, 0.009465206414461136, 0.006701031234115362, 0.013192655518651009, 0.04129510372877121, 0.0019684280268847942, 0.00012564433563966304, 0.0008376289042644203, 0.9976238012313843, 0.8875353336334229, 0.03575379401445389, 0.07220863550901413, 0.0007010547560639679, 0.0028042190242558718, 0.050821781158447266, 0.5553601980209351, 0.03288467973470688, 0.000689888431224972, 0.1773013174533844, 0.000689888431224972, 0.000229962810408324, 0.008508623577654362, 0.000689888431224972, 0.16120392084121704, 0.011728103272616863, 0.07045665383338928, 0.929314374923706, 0.0005526107270270586, 0.0928386002779007, 0.0038682748563587666, 0.07294461131095886, 0.018788764253258705, 0.013262656517326832, 0.7139730453491211, 0.0005526107270270586, 0.0011052214540541172, 0.04144580289721489, 0.03868274763226509, 0.0022104429081082344, 1.0002013444900513, 0.10785380750894547, 0.7560716271400452, 0.1100437343120575, 0.018066881224513054, 0.00821221899241209, 1.0010682344436646, 0.025163251906633377, 0.009645913727581501, 0.0071295881643891335, 0.08010301738977432, 0.11700912564992905, 0.11071830987930298, 0.1908213347196579, 0.007548975758254528, 0.007968363352119923, 0.13755911588668823, 0.03355100378394127, 0.2726019024848938, 0.00890926830470562, 0.009449223056435585, 0.16036681830883026, 0.00013498890621121973, 0.041846562176942825, 0.2369055300951004, 0.0295625701546669, 0.009044256992638111, 0.009314234368503094, 0.38255855441093445, 0.04319645091891289, 0.0033747227862477303, 0.0008099334663711488, 0.06438970565795898, 0.016643792390823364, 0.9826238751411438, 0.09767064452171326, 0.004035977181047201, 0.030673425644636154, 0.02502305619418621, 0.016143908724188805, 0.03228781744837761, 0.7934730648994446, 0.0018623897340148687, 0.010642226785421371, 0.7638458609580994, 0.0029266125056892633, 0.06252308189868927, 0.15803706645965576, 0.028049763292074203, 0.0061478931456804276, 0.0017931355396285653, 0.004354757722467184, 0.012295786291360855, 0.19378671050071716, 0.3130302131175995, 0.44034284353256226, 0.9999735355377197, 0.5336962342262268, 0.46628081798553467, 0.999025285243988, 0.9967445135116577, 0.9992218017578125, 0.0018442452419549227, 0.035040657967329025, 0.0018442452419549227, 0.960851788520813, 0.16263167560100555, 0.3269011378288269, 0.21209266781806946, 0.03553985059261322, 0.16050255298614502, 0.1021975427865982, 0.21783925592899323, 0.7821484208106995, 0.1176602765917778, 0.8207167387008667, 0.0043577877804636955, 0.0007262979634106159, 0.056651242077350616, 0.999578595161438, 0.18138891458511353, 0.0010286705801263452, 0.15258613228797913, 0.10286705940961838, 0.020916301757097244, 0.007543584331870079, 0.4399281144142151, 0.0010286705801263452, 0.03874659165740013, 0.02434520423412323, 0.029831446707248688, 0.1701408475637436, 0.003430258948355913, 0.03887626901268959, 0.0375041663646698, 0.2510949671268463, 0.002286839298903942, 0.005259730387479067, 0.32061487436294556, 0.0281281229108572, 0.13926851749420166, 0.0036589428782463074, 1.0001893043518066, 0.019886933267116547, 0.6062086224555969, 0.0034287816379219294, 0.00034287816379219294, 0.005486050620675087, 0.012000735849142075, 0.2677878439426422, 0.06377533823251724, 0.013715126551687717, 0.006857563275843859, 0.3959901034832001, 0.016899900510907173, 0.11262741684913635, 0.007292422465980053, 0.038314156234264374, 0.053940776735544205, 0.12049859762191772, 0.05949690565466881, 0.08577278256416321, 0.04294426739215851, 0.0023150546476244926, 0.05081545189023018, 0.013080059550702572, 0.005517484620213509, 0.12484913319349289, 0.052351947873830795, 0.40944868326187134, 0.014499437063932419, 0.03810913860797882, 0.047219403088092804, 0.15282149612903595, 0.022583194077014923, 0.005389171186834574, 0.06954596936702728, 0.023609701544046402, 0.02014523558318615, 0.012959673069417477, 0.001026508747600019, 0.999269962310791, 0.5330989360809326, 0.003910542465746403, 0.07240253686904907, 0.06475397944450378, 0.09787857532501221, 0.010984023101627827, 0.13899677991867065, 0.007763576693832874, 0.030651750043034554, 0.003968050237745047, 0.01000638771802187, 0.017884980887174606, 0.007706068456172943, 0.9990599751472473, 0.9995818138122559, 0.9996858239173889, 1.0007914304733276, 0.1979559063911438, 0.032977715134620667, 0.14078257977962494, 0.00017922671395353973, 0.01980455219745636, 0.18379700183868408, 0.03951948881149292, 0.005735254846513271, 0.0621916688978672, 0.055201828479766846, 0.14365020394325256, 0.08898606151342392, 0.0008961335406638682, 0.02822820656001568, 0.034961625933647156, 0.943963885307312, 0.021851016208529472, 0.9994382262229919, 0.9995877742767334, 1.0003347396850586, 0.12324241548776627, 0.047175467014312744, 0.10342313349246979, 0.320597767829895, 0.13873495161533356, 0.12701086699962616, 0.06015569716691971, 0.003349737264215946, 0.07634609192609787, 1.0005460977554321, 0.01750168390572071, 0.26042506098747253, 0.17291663587093353, 0.548852801322937, 0.057428691536188126, 0.208368182182312, 0.022063450887799263, 0.3101627230644226, 0.036480359733104706, 0.05647287517786026, 0.09096194803714752, 0.012266322039067745, 0.06172987073659897, 0.02811696007847786, 0.004141875077039003, 0.025329159572720528, 0.016009939834475517, 0.07017292082309723, 0.00023895433696452528, 0.9979677796363831, 0.0014115527737885714, 0.16059169173240662, 0.013869281858205795, 0.6353104710578918, 0.18419380486011505, 0.006083018612116575, 0.9988119006156921, 0.27070996165275574, 0.07355070114135742, 0.09541712701320648, 0.02385428175330162, 0.009758570231497288, 0.09487498551607132, 0.06487642228603363, 0.00614428473636508, 0.058732133358716965, 0.037407852709293365, 0.0007228570175357163, 0.02584213949739933, 0.014818569645285606, 0.22318211197853088, 0.9987315535545349, 0.9999295473098755, 0.07062043249607086, 0.0027257008478045464, 0.04980598762631416, 0.0346907377243042, 0.8395158648490906, 0.002477909903973341, 0.06743379682302475, 0.18270650506019592, 0.060055170208215714, 0.1676560640335083, 0.02883039228618145, 0.24598675966262817, 0.01832440122961998, 0.0904492437839508, 0.06064155325293541, 0.015148172155022621, 0.01964375749230385, 0.011385561898350716, 0.03078499436378479, 0.0009773013880476356, 0.01542700082063675, 0.07754639536142349, 0.14131133258342743, 0.12917542457580566, 0.4505712687969208, 0.005039487034082413, 0.022729115560650826, 0.017278240993618965, 0.0001028466722345911, 0.1039779856801033, 0.03465932980179787, 0.0021597801242023706, 0.9993424415588379, 0.9624614715576172, 0.03766718506813049, 0.9990659356117249, 0.9985654950141907, 0.06904950737953186, 0.06398697942495346, 0.025810571387410164, 0.07859360426664352, 0.009793078526854515, 0.05635169893503189, 0.08232825249433517, 0.25379014015197754, 0.11403127014636993, 0.008797172456979752, 0.029960181564092636, 0.18606849014759064, 0.02124600112438202, 8.299219189211726e-05, 0.04013146832585335, 0.29782453179359436, 0.04574470967054367, 0.1761397123336792, 0.15046073496341705, 0.015678370371460915, 0.014065369963645935, 0.04806743189692497, 0.12116864323616028, 0.026840338483452797, 0.01709781214594841, 0.03929270803928375, 0.001935601350851357, 0.0009678006754256785, 0.004580922890454531, 0.9998819828033447, 1.0018645524978638, 1.0000449419021606, 0.9997245669364929, 0.0003266313287895173, 0.1010923981666565, 0.6041046380996704, 0.018617985770106316, 0.2756768465042114, 0.9996491074562073, 0.9998801350593567, 0.9997406005859375, 0.9976972937583923, 0.03362605720758438, 0.01500239409506321, 0.016037041321396828, 0.05328436568379402, 0.13088296353816986, 0.025348873808979988, 0.041903238743543625, 0.042420562356710434, 0.6419990062713623, 1.0001254081726074, 0.9995455741882324, 0.9965912103652954, 1.000301480293274, 0.5719093084335327, 0.018872670829296112, 0.037745341658592224, 0.004212649539113045, 0.20776787400245667, 0.05425892770290375, 0.0515628308057785, 0.02359083853662014, 0.016513586044311523, 0.007751275319606066, 0.00016850598331075162, 0.0055606975220143795, 0.10910916328430176, 0.8765146136283875, 0.0007802800973877311, 0.00013004668289795518, 0.013394808396697044, 0.9999415278434753, 0.9988729953765869, 0.9998704791069031, 0.9996548295021057, 0.0012333693448454142, 0.15148018300533295, 0.13881011307239532, 0.13387663662433624, 0.27784448862075806, 0.00011212449317099527, 0.0035879837814718485, 0.0333009734749794, 0.0008969959453679621, 0.1732323318719864, 0.08555098623037338, 0.9994617700576782, 0.9999681115150452, 0.18268610537052155, 0.07268281280994415, 0.15239201486110687, 0.06024264544248581, 0.014513524249196053, 0.1853354126214981, 0.034095264971256256, 0.04020015895366669, 0.10194022953510284, 0.045153189450502396, 0.007371949031949043, 0.013476843945682049, 0.08984562754631042, 0.9996657967567444, 1.0001928806304932, 0.9986402988433838, 0.9997928738594055, 0.1569439172744751, 0.04394429549574852, 0.06430459022521973, 0.00016966910334303975, 0.48270857334136963, 0.09823840856552124, 0.01493088062852621, 0.05022205412387848, 0.007465440314263105, 0.07414539903402328, 0.0037327201571315527, 0.0032237127888947725, 0.023883089423179626, 0.9698407649993896, 0.006087846588343382, 0.06703285127878189, 0.5543346405029297, 0.05835520476102829, 0.007921340875327587, 0.002109703840687871, 0.05497171729803085, 0.02487858198583126, 0.1327919214963913, 0.0312873050570488, 3.980573092121631e-05, 0.06480373442173004, 0.00147281214594841, 0.11683107912540436, 0.08239665627479553, 0.27110275626182556, 0.01475760992616415, 0.015577477402985096, 0.1251663863658905, 0.15727785229682922, 0.03949027135968208, 0.03252140060067177, 0.051924921572208405, 0.018720300868153572, 0.0023229571525007486, 0.0062856487929821014, 0.06285648792982101, 0.0028695352375507355, 0.006599955260753632, 0.6467956304550171, 0.012099917978048325, 0.29149800539016724, 0.027499813586473465, 0.008066612295806408, 0.0073332833126187325, 0.9982766509056091, 0.9996955990791321, 0.998920738697052, 1.0013437271118164, 0.0001057939080055803, 0.001057939138263464, 0.16821232438087463, 0.6758115291595459, 0.009415658190846443, 0.0430581234395504, 0.038614775985479355, 0.008146131411194801, 0.01079097855836153, 0.02052401937544346, 0.0003173817240167409, 0.023697836324572563, 0.0003173817240167409, 0.01733856275677681, 0.2754664123058319, 0.03055921569466591, 0.025791112333536148, 0.24707451462745667, 0.02275686338543892, 0.07563947886228561, 0.024707451462745667, 0.2806679904460907, 0.9974421262741089, 0.9988399147987366, 1.0004262924194336, 0.47250840067863464, 0.004821514245122671, 0.522832989692688, 0.2368437647819519, 0.06327234208583832, 0.020520759746432304, 0.030781138688325882, 0.13680505752563477, 0.011970442719757557, 0.4993384778499603, 1.0014686584472656, 0.015571282245218754, 0.9848836064338684, 1.0007802248001099, 1.000217318534851, 0.999112069606781, 0.015489769168198109, 0.9810187220573425, 0.1347333788871765, 0.0742313489317894, 0.04723813012242317, 0.00011635007103905082, 0.11541926860809326, 0.13089382648468018, 0.0022106512915343046, 0.06946099549531937, 0.16859124600887299, 0.00011635007103905082, 0.043980326503515244, 0.18138976395130157, 0.031414519995450974, 0.0038672355003654957, 0.5429168939590454, 0.0464068241417408, 0.2949841320514679, 0.11150528490543365, 0.010770493187010288, 0.9627164006233215, 0.025683484971523285, 0.9978708028793335, 0.0028109035920351744, 0.007592245005071163, 0.8617197871208191, 0.12906816601753235, 0.8161917328834534, 0.18357253074645996, 0.999539852142334, 0.9953063130378723, 0.003941806964576244, 0.9998883008956909, 0.9979045987129211, 1.0003572702407837, 0.9987031817436218, 0.9999667406082153, 0.994626522064209, 0.00550658255815506, 0.11492564529180527, 0.12721839547157288, 0.1327849179506302, 0.006146376486867666, 0.035602595657110214, 0.15748639404773712, 0.12420319020748138, 0.022498056292533875, 0.033167239278554916, 0.03711019828915596, 0.040937185287475586, 0.09903784096240997, 0.06563866138458252, 0.00313117285259068, 1.000332236289978, 0.9974852204322815, 0.9985929727554321, 0.9979007244110107, 1.001354455947876, 0.13747376203536987, 0.010212336666882038, 0.05689730495214462, 0.3166946768760681, 0.012456806376576424, 0.004937833175063133, 0.0012344582937657833, 0.0006733408663421869, 0.4284692704677582, 0.03086145780980587, 0.016618384048342705, 0.015749448910355568, 0.11947858333587646, 0.043338142335414886, 0.18084712326526642, 0.0706009790301323, 0.11241848766803741, 0.008472117595374584, 0.3682112693786621, 0.018790721893310547, 0.018464872613549232, 0.0034757405519485474, 0.02335263229906559, 1.0011634826660156, 0.025709720328450203, 0.014184673316776752, 0.000886542082298547, 0.024823179468512535, 0.017730841413140297, 0.9166845083236694, 0.03043958730995655, 0.2224217802286148, 0.0586586557328701, 0.001110258512198925, 0.118057481944561, 0.1102856770157814, 0.2096538096666336, 0.0914112851023674, 0.0551428385078907, 0.0255359448492527, 0.0257209874689579, 0.0193370021879673, 0.02479577250778675, 0.0032382539939135313, 0.004163469187915325, 0.014710454270243645, 0.40338900685310364, 0.040074992924928665, 0.0009285669075325131, 0.03939078375697136, 0.009383413009345531, 0.19133365154266357, 0.10541677474975586, 0.027563774958252907, 0.020819446071982384, 0.01998862437903881, 0.0036165236961096525, 0.06387563049793243, 0.05703355371952057, 0.002394725102931261, 0.04334283992648125, 0.2674570381641388, 0.6881996989250183, 1.0010899305343628, 0.999049723148346, 1.0000532865524292, 0.20772260427474976, 0.014771386049687862, 0.11878655850887299, 0.09555239975452423, 0.0027696348261088133, 0.07139503210783005, 0.025388319045305252, 0.04108291491866112, 0.009232115931808949, 0.25742217898368835, 0.0823196992278099, 0.07354918867349625, 0.9986836314201355, 0.24889777600765228, 0.028295887634158134, 0.06593538075685501, 0.006295337807387114, 0.10900874435901642, 0.07090538740158081, 0.0029157353565096855, 0.0836285948753357, 0.2010532170534134, 0.06123044341802597, 0.08276712894439697, 0.034524958580732346, 0.000596400408539921, 0.0038434695452451706, 0.8803280591964722, 0.012666590511798859, 0.10661047697067261, 1.0004310607910156, 0.91547030210495, 0.08402867615222931], \"Term\": [\"absence_r\\u00e9ponse\", \"absence_r\\u00e9ponse\", \"absence_r\\u00e9ponse\", \"absence_r\\u00e9ponse\", \"absence_r\\u00e9ponse\", \"absence_r\\u00e9ponse\", \"absence_r\\u00e9ponse\", \"absence_r\\u00e9ponse\", \"absence_r\\u00e9ponse\", \"absence_r\\u00e9ponse\", \"absence_r\\u00e9ponse\", \"abusive_lorsqu\", \"abusive_lorsqu\", \"accident_travail\", \"accompagn\\u00e9e_pr\\u00e9sent\", \"accompagn\\u00e9e_pr\\u00e9sent\", \"accompagn\\u00e9e_pr\\u00e9sent\", \"accompagn\\u00e9e_pr\\u00e9sent\", \"accompagn\\u00e9e_pr\\u00e9sent\", \"accompagn\\u00e9e_pr\\u00e9sent\", \"accompagn\\u00e9e_pr\\u00e9sent\", \"accompagn\\u00e9e_pr\\u00e9sent\", \"accords\", \"accus\\u00e9_r\\u00e9ception\", \"accus\\u00e9_r\\u00e9ception\", \"accus\\u00e9_r\\u00e9ception\", \"acc\\u00e8s_institu\\u00e9\", \"acc\\u00e8s_institu\\u00e9\", \"acc\\u00e9der_informations\", \"acc\\u00e9der_informations\", \"acc\\u00e9der_informations\", \"achats\", \"achats\", \"achats\", \"acquis_forme\", \"actes_notari\\u00e9s\", \"action_sociale\", \"action_sociale\", \"action_sociale\", \"action_sociale\", \"activit\\u00e9\", \"activit\\u00e9\", \"activit\\u00e9\", \"activit\\u00e9\", \"activit\\u00e9\", \"activit\\u00e9\", \"activit\\u00e9\", \"activit\\u00e9\", \"activit\\u00e9_conditions\", \"administratif\", \"administratif\", \"administratif\", \"administratif\", \"administratif\", \"administratif\", \"administratif\", \"administratif\", \"administratif\", \"administratif\", \"administratif\", \"administratif_entrent\", \"administratifs\", \"administratifs\", \"administratifs\", \"administratifs\", \"administratifs\", \"administratifs\", \"administratifs\", \"administratifs\", \"administratifs\", \"administratifs\", \"administratifs\", \"administratifs\", \"administratifs\", \"administratifs\", \"administratifs_examin\\u00e9\", \"administratifs_examin\\u00e9\", \"administratifs_examin\\u00e9\", \"administratifs_examin\\u00e9\", \"administratifs_examin\\u00e9\", \"administratifs_examin\\u00e9\", \"administratifs_examin\\u00e9\", \"administratifs_examin\\u00e9\", \"administratifs_examin\\u00e9\", \"administratifs_examin\\u00e9\", \"administratifs_examin\\u00e9\", \"administrative\", \"administrative\", \"administrative\", \"administrative\", \"administrative\", \"administrative\", \"administrative\", \"administrative_paritaire\", \"adresse\", \"adresse\", \"adresse\", \"adresse\", \"adresse\", \"adresse\", \"adresse\", \"adresse_administrative\", \"adresse_suivante\", \"adress\\u00e9\", \"adress\\u00e9\", \"adress\\u00e9\", \"adress\\u00e9\", \"adress\\u00e9\", \"adress\\u00e9\", \"adress\\u00e9\", \"adress\\u00e9\", \"adress\\u00e9e\", \"adress\\u00e9e\", \"adress\\u00e9e\", \"adress\\u00e9e\", \"adress\\u00e9e\", \"adress\\u00e9e\", \"adress\\u00e9e\", \"adress\\u00e9e\", \"adress\\u00e9e\", \"adress\\u00e9e\", \"adress\\u00e9e\", \"adress\\u00e9e\", \"adress\\u00e9e\", \"affaires_coordonn\\u00e9es\", \"affaires_formation\", \"affaires_sociales\", \"afin_conna\\u00eetre\", \"afin_exercice\", \"afin_garantir\", \"afin_garantir\", \"afin_permettre\", \"agence_r\\u00e9gionale\", \"agence_r\\u00e9gionale\", \"agent\", \"agent\", \"agent\", \"agent\", \"agents\", \"agents\", \"agents\", \"agents\", \"agents\", \"agents\", \"agissant\", \"agissant\", \"agissant\", \"agissant\", \"agissant\", \"agissant\", \"agissant\", \"agissant\", \"agissant\", \"agissant\", \"agissant\", \"agissant\", \"agissant\", \"agissant\", \"agr\\u00e9ment\", \"agr\\u00e9ment\", \"agr\\u00e9ment\", \"agr\\u00e9ment\", \"agr\\u00e9ment\", \"aide_juridictionnelle\", \"ainsi\", \"ainsi\", \"ainsi\", \"ainsi\", \"ainsi\", \"ainsi\", \"ainsi\", \"ainsi\", \"ainsi\", \"ainsi\", \"ainsi\", \"ainsi\", \"ainsi\", \"ainsi\", \"ainsi_interactions\", \"alimentation\", \"alimentation\", \"am\\u00e9lioration\", \"am\\u00e9lioration\", \"am\\u00e9nager_modalit\\u00e9s\", \"animaux_victimes\", \"annex\\u00e9es\", \"annex\\u00e9es\", \"ann\\u00e9e\", \"ann\\u00e9e\", \"ann\\u00e9e\", \"ann\\u00e9e\", \"ann\\u00e9e\", \"ann\\u00e9e\", \"ann\\u00e9e\", \"ann\\u00e9e\", \"ann\\u00e9e\", \"ann\\u00e9e\", \"ans\", \"ans\", \"ans_compter\", \"ao\\u00fbt\", \"ao\\u00fbt\", \"ao\\u00fbt\", \"ao\\u00fbt\", \"ao\\u00fbt\", \"ao\\u00fbt\", \"ao\\u00fbt\", \"ao\\u00fbt\", \"ao\\u00fbt\", \"ao\\u00fbt\", \"ao\\u00fbt\", \"ao\\u00fbt\", \"ao\\u00fbt\", \"ao\\u00fbt\", \"ao\\u00fbt\", \"appara\\u00eet\", \"appara\\u00eet\", \"appara\\u00eet\", \"appara\\u00eet\", \"appara\\u00eet\", \"appara\\u00eet\", \"appara\\u00eet\", \"appara\\u00eet\", \"appara\\u00eet\", \"appara\\u00eet\", \"appara\\u00eetre_comportement\", \"appel_offres\", \"applique_tous\", \"appr\\u00e9ciation_jugement\", \"appr\\u00e9ciation_jugement\", \"appr\\u00e9cier_si\", \"apr\\u00e8s_occultation\", \"apr\\u00e8s_occultation\", \"apr\\u00e8s_occultation\", \"apr\\u00e8s_occultation\", \"apr\\u00e8s_occultation\", \"apr\\u00e8s_occultation\", \"apr\\u00e8s_occultation\", \"apr\\u00e8s_occultation\", \"apr\\u00e8s_occultation\", \"apr\\u00e8s_occultation\", \"archives\", \"archives\", \"archives_france\", \"archives_nationales\", \"archives_publiques\", \"ard\\u00e8che\", \"arr\\u00eat_travail\", \"arr\\u00eat\\u00e9\", \"arr\\u00eat\\u00e9\", \"arr\\u00eat\\u00e9\", \"arr\\u00eat\\u00e9\", \"arr\\u00eat\\u00e9\", \"arr\\u00eat\\u00e9\", \"arr\\u00eat\\u00e9\", \"arr\\u00eat\\u00e9\", \"arr\\u00eat\\u00e9\", \"arr\\u00eat\\u00e9\", \"arr\\u00eat\\u00e9\", \"arr\\u00eat\\u00e9\", \"arr\\u00eat\\u00e9s_municipaux\", \"articles\", \"articles\", \"articles\", \"articles\", \"articles\", \"articles\", \"articles\", \"articles\", \"articles\", \"articles\", \"articles\", \"articles\", \"articles\", \"articles\", \"asile\", \"assembl\\u00e9e_nationale\", \"assembl\\u00e9e_nationale\", \"assembl\\u00e9es_parlementaires\", \"association\", \"association\", \"association\", \"association\", \"association\", \"association\", \"association\", \"association\", \"association\", \"association_d\\u00e9fense\", \"association_d\\u00e9fense\", \"association_fonci\\u00e8re\", \"associations\", \"associations\", \"assurance_maladie\", \"attestation\", \"attestation\", \"attestation\", \"attestation\", \"attestation\", \"attestation\", \"attestation\", \"attestation\", \"attestation\", \"attributaire\", \"audition_rapports\", \"aupr\\u00e8s_tiers\", \"auquel_renvoie\", \"aussi_longtemps\", \"automatis\\u00e9_usage\", \"automatis\\u00e9_usage\", \"automatis\\u00e9_usage\", \"automatis\\u00e9_usage\", \"automatis\\u00e9_usage\", \"automatis\\u00e9_usage\", \"automatis\\u00e9s_donn\\u00e9es\", \"autonomie\", \"autorit\\u00e9_parentale\", \"autorit\\u00e9_parentale\", \"autorit\\u00e9_parentale\", \"autorit\\u00e9s_administratives\", \"autorit\\u00e9s_administratives\", \"autorit\\u00e9s_administratives\", \"autorit\\u00e9s_administratives\", \"autorit\\u00e9s_administratives\", \"autorit\\u00e9s_administratives\", \"autre\", \"autre\", \"autre\", \"autre\", \"autre\", \"autre\", \"autre\", \"autre\", \"autre\", \"autre\", \"autre\", \"autre\", \"autre\", \"autre\", \"autre_part\", \"autre_part\", \"autre_part\", \"autre_part\", \"autre_part\", \"autre_part\", \"autre_part\", \"autre_part\", \"autre_part\", \"autre_part\", \"autre_part\", \"autre_part\", \"autre_part\", \"autre_part\", \"autres\", \"autres\", \"autres\", \"autres\", \"autres\", \"autres\", \"autres\", \"autres\", \"autres\", \"autres\", \"autres\", \"autres\", \"autres\", \"autres\", \"autres_celles\", \"autres_celles\", \"autres_celles\", \"auvergne\", \"avant_d\\u00e9c\\u00e8s\", \"avant_expiration\", \"avis\", \"avis\", \"avis\", \"avis\", \"avis\", \"avis\", \"avis\", \"avis\", \"avis\", \"avis\", \"avis\", \"avis\", \"avis\", \"avis\", \"aviser_demandeur\", \"aviser_demandeur\", \"avocats_lyon\", \"avril\", \"avril\", \"avril\", \"avril\", \"avril\", \"avril\", \"avril\", \"avril\", \"avril\", \"avril\", \"avril\", \"avril\", \"avril\", \"avril\", \"avril\", \"azur\", \"azur\", \"bancaires_r\\u00e9f\\u00e9rences\", \"besan\\u00e7on\", \"besoins_laquelle\", \"biologiques\", \"bordereau_prix\", \"bruit_rayonnements\", \"budget_primitif\", \"budg\\u00e9taire_comptable\", \"b\\u00e2tonnier\", \"cabinet\", \"cabinet\", \"cabinet\", \"cabinet\", \"cabinet\", \"cabinet\", \"cabinet\", \"cabinet\", \"cada_septembre\", \"cadre\", \"cadre\", \"cadre\", \"cadre\", \"cadre\", \"cadre\", \"cadre\", \"cadre\", \"cadre\", \"cadre\", \"cadre\", \"cadre\", \"cadre\", \"cadre\", \"cadre\", \"cadre_fonction\", \"cadre_instruction\", \"cadre_instruction\", \"cadre_mission\", \"cadre_mission\", \"cadre_mission\", \"cadre_mission\", \"caisse\", \"caisse\", \"caisse_allocations\", \"caisse_primaire\", \"caract\\u00e8re_personnel\", \"caract\\u00e8re_personnel\", \"caract\\u00e8re_personnel\", \"caract\\u00e8re_personnel\", \"cas\", \"cas\", \"cas\", \"cas\", \"cas\", \"cas\", \"cas\", \"cas\", \"cas\", \"cas\", \"cas\", \"cas\", \"cas\", \"cas\", \"cat\\u00e9gorie_b\", \"causes_d\\u00e9c\\u00e8s\", \"causes_mort\", \"celui_utilis\\u00e9\", \"centre_hospitalier\", \"centre_hospitalier\", \"centre_hospitalier\", \"centre_hospitalier\", \"centre_p\\u00e9nitentiaire\", \"certaines_informations\", \"certaines_informations\", \"certificat_nationalit\\u00e9\", \"certifications_tierces\", \"certificats_m\\u00e9dicaux\", \"certificats_m\\u00e9dicaux\", \"certificats_m\\u00e9dicaux\", \"certificats_m\\u00e9dicaux\", \"certificats_qualification\", \"champ_application\", \"champ_application\", \"champ_application\", \"champ_application\", \"chaque\", \"chaque\", \"chaque\", \"chaque\", \"chaque\", \"chaque\", \"chaque\", \"chaque\", \"chaque\", \"chaque\", \"chaque\", \"charge_excessive\", \"charge_frais\", \"charge_th\\u00e9rapeutique\", \"chemin\", \"circonstances_particuli\\u00e8res\", \"client\", \"client\", \"client\", \"client\", \"client\", \"client\", \"client\", \"client\", \"collectivit\\u00e9s_territoriales\", \"collectivit\\u00e9s_territoriales\", \"collectivit\\u00e9s_territoriales\", \"collectivit\\u00e9s_territoriales\", \"collectivit\\u00e9s_territoriales\", \"commande_publique\", \"comme\", \"comme\", \"comme\", \"comme\", \"comme\", \"comme\", \"comme\", \"comme\", \"comme\", \"comme\", \"comme\", \"comme\", \"comme\", \"comme\", \"commercial\", \"commercial\", \"commercial\", \"commercial\", \"commercial\", \"commercial\", \"commissaire_enqu\\u00eateur\", \"commissions_administratives\", \"communaut\\u00e9_communes\", \"communaut\\u00e9_communes\", \"communaut\\u00e9_communes\", \"communaut\\u00e9_communes\", \"communaut\\u00e9_communes\", \"communaux\", \"commune\", \"commune\", \"commune\", \"commune\", \"commune\", \"commune\", \"commune\", \"commune\", \"commune\", \"commune\", \"commune_font\", \"communes_pays\", \"communicable\", \"communicable\", \"communicable\", \"communicable\", \"communicable\", \"communicable\", \"communicable\", \"communicable\", \"communicable\", \"communicable\", \"communicable\", \"communicable\", \"communicable\", \"communicable\", \"communicables\", \"communicables\", \"communicables\", \"communicables\", \"communicables\", \"communicables\", \"communicables\", \"communicables\", \"communicables\", \"communicables\", \"communicables\", \"communicables\", \"communicables\", \"communicables\", \"communicables\", \"communication_b\\u00e9n\\u00e9ficient\", \"communiqu\\u00e9\", \"communiqu\\u00e9\", \"communiqu\\u00e9\", \"communiqu\\u00e9\", \"communiqu\\u00e9\", \"communiqu\\u00e9\", \"communiqu\\u00e9\", \"communiqu\\u00e9\", \"communiqu\\u00e9\", \"communiqu\\u00e9s\", \"communiqu\\u00e9s\", \"communiqu\\u00e9s\", \"communiqu\\u00e9s\", \"communiqu\\u00e9s\", \"communiqu\\u00e9s\", \"communiqu\\u00e9s\", \"communiqu\\u00e9s\", \"communiqu\\u00e9s\", \"communiqu\\u00e9s\", \"communiqu\\u00e9s\", \"compatible_frais\", \"comportement\", \"comportement_divulgation\", \"comportement_divulgation\", \"composantes_fixes\", \"comprend\", \"comprend\", \"comprend\", \"comprend\", \"comprend\", \"comprend\", \"comprend\", \"comprend\", \"comprend\", \"comprend\", \"comprend\", \"comprend\", \"comprend\", \"compris_ceux\", \"compris_ceux\", \"compte\", \"compte\", \"compte\", \"compte\", \"compte\", \"compte\", \"compte\", \"compte\", \"compte\", \"compte\", \"compte\", \"compte\", \"compte\", \"compte\", \"compte_r\\u00e9sultat\", \"compter_date\", \"compter_date\", \"comptes\", \"comptes\", \"comptes_annuels\", \"comptes_bancaires\", \"concernant\", \"concernant\", \"concernant\", \"concernant\", \"concernant\", \"concernant\", \"concernant\", \"concernant\", \"concernant\", \"concernant\", \"concernant\", \"concernant\", \"concernant\", \"concernant_chiffre\", \"concernant_prestation\", \"concernant_tel\", \"concernent_directement\", \"concernent_exercice\", \"concurrence_consommation\", \"condition_derni\\u00e8res\", \"conduit\", \"conduit\", \"conduit\", \"conduit\", \"conduit\", \"conduit\", \"conduit\", \"conduit\", \"conduit\", \"conjoint_premier\", \"conna\\u00eetre_questions\", \"conseil\", \"conseil\", \"conseil\", \"conseil\", \"conseil\", \"conseil\", \"conseil\", \"conseil\", \"conseil\", \"conseil\", \"conseil\", \"conseil\", \"conseil\", \"conseil\", \"conseil\", \"conseil_d\\u00e9partemental\", \"conseil_d\\u00e9partemental\", \"conseil_municipal\", \"conseil_municipal\", \"conseillers_municipaux\", \"conservation_document\", \"conserv\\u00e9s_archives\", \"consid\\u00e8re\", \"consid\\u00e8re\", \"consid\\u00e8re\", \"consid\\u00e8re\", \"consid\\u00e8re\", \"consid\\u00e8re\", \"consid\\u00e8re\", \"consid\\u00e8re\", \"consid\\u00e8re\", \"consid\\u00e8re\", \"consid\\u00e8re\", \"consid\\u00e8re\", \"consid\\u00e8re\", \"consid\\u00e8re\", \"consid\\u00e9r\\u00e9s_comme\", \"consid\\u00e9r\\u00e9s_comme\", \"constat\", \"constat\", \"constatant_infractions\", \"constate_outre\", \"constitue\", \"constitue\", \"constitue\", \"constitue\", \"constitue\", \"constitue\", \"constitue\", \"constitue\", \"constitue\", \"constitue\", \"constitue\", \"consultation\", \"consultation\", \"consultation\", \"consultation\", \"consultation\", \"consultation\", \"consultation\", \"consultation\", \"consultation\", \"consultation\", \"consultation\", \"consultation\", \"consultation\", \"consultation_gratuite\", \"consultation_intervention\", \"contenues_appel\\u00e9es\", \"contient_\\u00e9manent\", \"contrat_offre\", \"contr\\u00f4le\", \"contr\\u00f4le\", \"contr\\u00f4le\", \"contr\\u00f4le\", \"contr\\u00f4le\", \"contr\\u00f4le\", \"contr\\u00f4le\", \"contr\\u00f4le\", \"contr\\u00f4le\", \"contr\\u00f4les_effectu\\u00e9s\", \"conventions\", \"conventions\", \"conventions\", \"copie\", \"copie\", \"copie\", \"copie\", \"copie\", \"copie\", \"copie\", \"copie\", \"copie\", \"copie\", \"copie\", \"copie\", \"copie\", \"copie\", \"copie_pr\\u00e9f\\u00e9rence\", \"copie_relev\\u00e9s\", \"correspondance\", \"correspondance\", \"correspondance\", \"correspondent_march\\u00e9s\", \"courant\", \"courant\", \"courant\", \"courant\", \"courant\", \"courriel\", \"courriel\", \"courriel\", \"courriel\", \"courriel\", \"courriel\", \"courriel\", \"courrier\", \"courrier\", \"courrier\", \"courrier\", \"courrier\", \"courrier\", \"courrier\", \"courrier\", \"courrier\", \"courrier\", \"courrier\", \"courrier\", \"courriers_\\u00e9lectroniques\", \"courriers_\\u00e9lectroniques\", \"co\\u00fbt_correspondant\", \"co\\u00fbt_envoi\", \"cpam\", \"date\", \"date\", \"date\", \"date\", \"date\", \"date\", \"date\", \"date\", \"date\", \"date\", \"date\", \"date\", \"date\", \"date\", \"date\", \"demander\", \"demander\", \"demander\", \"demander\", \"demander\", \"demander\", \"demander\", \"demandeur\", \"demandeur\", \"demandeur\", \"demandeur\", \"demandeur\", \"demandeur\", \"demandeur\", \"demandeur\", \"demandeur\", \"demandeur\", \"demandeur\", \"demandeur\", \"demandeur\", \"demandeur\", \"demandeur\", \"demandeur_limite\", \"demand\\u00e9e_ainsi\", \"dernier_alin\\u00e9a\", \"dernier_alin\\u00e9a\", \"dernier_alin\\u00e9a\", \"dernier_alin\\u00e9a\", \"dernier_alin\\u00e9a\", \"deuxi\\u00e8me_alin\\u00e9a\", \"deuxi\\u00e8me_alin\\u00e9a\", \"deuxi\\u00e8me_alin\\u00e9a\", \"deuxi\\u00e8me_alin\\u00e9a\", \"deuxi\\u00e8me_alin\\u00e9a\", \"deuxi\\u00e8me_alin\\u00e9a\", \"devis_aupr\\u00e8s\", \"dgccrf\", \"diff\\u00e9rentes_lois\", \"diff\\u00e9rents_minist\\u00e8res\", \"directement_interm\\u00e9diaire\", \"directeur_caisse\", \"directeur_centre\", \"directeur_centre\", \"directeur_centre\", \"directeur_g\\u00e9n\\u00e9ral\", \"directeur_g\\u00e9n\\u00e9ral\", \"directeur_g\\u00e9n\\u00e9ral\", \"directeur_g\\u00e9n\\u00e9ral\", \"directeur_g\\u00e9n\\u00e9ral\", \"directeur_g\\u00e9n\\u00e9ral\", \"directeur_g\\u00e9n\\u00e9ral\", \"directeur_g\\u00e9n\\u00e9ral\", \"directeur_g\\u00e9n\\u00e9ral\", \"directeur_g\\u00e9n\\u00e9ral\", \"directeur_g\\u00e9n\\u00e9ral\", \"directeur_r\\u00e9gional\", \"directeur_r\\u00e9gional\", \"dispose\", \"dispose\", \"dispose\", \"dispose\", \"dispose\", \"dispose\", \"dispose\", \"dispose\", \"dispose\", \"dispose\", \"dispose\", \"dispose\", \"dispose\", \"dispose_d\\u00e9j\\u00e0\", \"dispositions\", \"dispositions\", \"dispositions\", \"dispositions\", \"dispositions\", \"dispositions\", \"dispositions\", \"dispositions\", \"dispositions\", \"dispositions\", \"dispositions\", \"dispositions\", \"dispositions\", \"dispositions\", \"dispositions_chapitre\", \"dispositions_chapitre\", \"dispositions_l\\u00e9gislatives\", \"dispositions_l\\u00e9gislatives\", \"dispositions_l\\u00e9gislatives\", \"dispositions_l\\u00e9gislatives\", \"dispositions_sp\\u00e9ciales\", \"diversit\\u00e9_biologique\", \"divulgation_comportement\", \"divulgation_porterait\", \"divulgation_porterait\", \"divulgation_porterait\", \"divulgation_porterait\", \"divulgation_pourrait\", \"divulgation_pourrait\", \"document\", \"document\", \"document\", \"document\", \"document\", \"document\", \"document\", \"document\", \"document\", \"document\", \"document\", \"document\", \"document\", \"document_administratif\", \"document_administratif\", \"document_administratif\", \"document_administratif\", \"document_administratif\", \"document_administratif\", \"document_administratif\", \"document_administratif\", \"document_administratif\", \"document_administratif\", \"document_administratif\", \"document_disponible\", \"document_inexistant\", \"document_inexistant\", \"document_sollicit\\u00e9\", \"document_sollicit\\u00e9\", \"document_sollicit\\u00e9\", \"document_sollicit\\u00e9\", \"document_sollicit\\u00e9\", \"document_sollicit\\u00e9\", \"document_sollicit\\u00e9\", \"document_sollicit\\u00e9\", \"document_sollicit\\u00e9\", \"document_sollicit\\u00e9\", \"document_sollicit\\u00e9\", \"document_sollicit\\u00e9\", \"doit_toutefois\", \"donc\", \"donc\", \"donc\", \"donc\", \"donc\", \"donc\", \"donc\", \"donc\", \"donc\", \"donc\", \"donc\", \"donc\", \"donc\", \"donc\", \"donneur\", \"donn\\u00e9_accord\", \"donn\\u00e9es\", \"donn\\u00e9es\", \"donn\\u00e9es\", \"donn\\u00e9es\", \"donn\\u00e9es\", \"donn\\u00e9es_caract\\u00e8re\", \"donn\\u00e9es_caract\\u00e8re\", \"donn\\u00e9es_caract\\u00e8re\", \"dossier\", \"dossier\", \"dossier\", \"dossier\", \"dossier\", \"dossier\", \"dossier\", \"dossier\", \"dossier\", \"dossier\", \"dossier\", \"dossier\", \"dossier\", \"dossier_m\\u00e9dical\", \"dossier_m\\u00e9dical\", \"dossiers\", \"dossiers\", \"dossiers\", \"dossiers\", \"dossiers\", \"dossiers\", \"dossiers\", \"dossiers\", \"dossiers\", \"dossiers\", \"dossiers\", \"dossiers_instruction\", \"droit\", \"droit\", \"droit\", \"droit\", \"droit\", \"droit\", \"droit\", \"droit\", \"droit\", \"droit\", \"droit\", \"droit\", \"droit\", \"droit\", \"droit_priv\\u00e9\", \"droit_pr\\u00e9emption\", \"droits_information\", \"droits_propri\\u00e9t\\u00e9\", \"droits_sauf\", \"d\\u00e9cembre\", \"d\\u00e9cembre\", \"d\\u00e9cembre\", \"d\\u00e9cembre\", \"d\\u00e9cembre\", \"d\\u00e9cembre\", \"d\\u00e9cembre\", \"d\\u00e9cembre\", \"d\\u00e9cembre\", \"d\\u00e9cembre\", \"d\\u00e9cembre\", \"d\\u00e9cembre\", \"d\\u00e9cembre\", \"d\\u00e9cembre\", \"d\\u00e9cembre\", \"d\\u00e9chets_\\u00e9missions\", \"d\\u00e9cision\", \"d\\u00e9cision\", \"d\\u00e9cision\", \"d\\u00e9cision\", \"d\\u00e9cision\", \"d\\u00e9cision\", \"d\\u00e9cision\", \"d\\u00e9cision\", \"d\\u00e9cision\", \"d\\u00e9cision\", \"d\\u00e9cision\", \"d\\u00e9cision\", \"d\\u00e9cision\", \"d\\u00e9cision\", \"d\\u00e9cision_administrative\", \"d\\u00e9cision_administrative\", \"d\\u00e9cision_administrative\", \"d\\u00e9cision_administrative\", \"d\\u00e9cision_administrative\", \"d\\u00e9cisions_activit\\u00e9s\", \"d\\u00e9cisions_parquet\", \"d\\u00e9claration_accident\", \"d\\u00e9claration_honneur\", \"d\\u00e9claration_pr\\u00e9alable\", \"d\\u00e9clare_cons\\u00e9quence\", \"d\\u00e9clare_cons\\u00e9quence\", \"d\\u00e9clarer\", \"d\\u00e9clarer\", \"d\\u00e9clarer\", \"d\\u00e9clarer\", \"d\\u00e9clarer\", \"d\\u00e9clarer\", \"d\\u00e9clarer\", \"d\\u00e9clarer_incomp\\u00e9tente\", \"d\\u00e9clarer_incomp\\u00e9tente\", \"d\\u00e9clarer_incomp\\u00e9tente\", \"d\\u00e9clarer_incomp\\u00e9tente\", \"d\\u00e9clarer_sans\", \"d\\u00e9comptes\", \"d\\u00e9comptes\", \"d\\u00e9c\\u00e8s\", \"d\\u00e9c\\u00e8s\", \"d\\u00e9c\\u00e9d\\u00e9\", \"d\\u00e9c\\u00e9d\\u00e9\", \"d\\u00e9c\\u00e9d\\u00e9e\", \"d\\u00e9fendre_m\\u00e9moire\", \"d\\u00e9fense_nationale\", \"d\\u00e9fense_nationale\", \"d\\u00e9finies_titre\", \"d\\u00e9finis_arr\\u00eat\\u00e9\", \"d\\u00e9funt\", \"d\\u00e9funt_faire\", \"d\\u00e9lai\", \"d\\u00e9lai\", \"d\\u00e9lai\", \"d\\u00e9lai\", \"d\\u00e9lai\", \"d\\u00e9lai\", \"d\\u00e9lai\", \"d\\u00e9lai\", \"d\\u00e9lai\", \"d\\u00e9lai\", \"d\\u00e9lai_ans\", \"d\\u00e9lib\\u00e9ration\", \"d\\u00e9lib\\u00e9ration\", \"d\\u00e9lib\\u00e9ration\", \"d\\u00e9lib\\u00e9ration\", \"d\\u00e9lib\\u00e9rations\", \"d\\u00e9lib\\u00e9rations\", \"d\\u00e9lib\\u00e9rations\", \"d\\u00e9lib\\u00e9rations_conseils\", \"d\\u00e9lib\\u00e9r\\u00e9e_perturber\", \"d\\u00e9lib\\u00e9r\\u00e9e_perturber\", \"d\\u00e9livrance_copie\", \"d\\u00e9livr\\u00e9es_droit\", \"d\\u00e9l\\u00e9gation_signature\", \"d\\u00e9l\\u00e9gation_signature\", \"d\\u00e9partemental_incendie\", \"d\\u00e9placement\", \"d\\u00e9rogation\", \"d\\u00e9rogation\", \"d\\u00e9rogation\", \"d\\u00e9rogation_d\\u00e9lais\", \"d\\u00e9tails_techniques\", \"d\\u00e9tenait\", \"d\\u00e9tenait\", \"d\\u00e9tenues_re\\u00e7ues\", \"d\\u00e9tenus_professionnels\", \"d\\u00e9versements_autres\", \"edf\", \"effet\", \"effet\", \"effet\", \"effet\", \"effet\", \"effet\", \"effet\", \"effet\", \"effet\", \"effet\", \"effet\", \"effet\", \"effet\", \"elles_d\\u00e9tiennent\", \"elles_n\\u00e9cessaires\", \"elles_recueillies\", \"employeur\", \"employeur\", \"employeur\", \"employeur\", \"employeur\", \"encore_intervenue\", \"enfin\", \"enfin\", \"enfin\", \"enfin\", \"enfin\", \"enfin\", \"enfin\", \"enfin\", \"enfin\", \"enfin\", \"enfin\", \"enfin\", \"enfin\", \"enqu\\u00eate\", \"enqu\\u00eate\", \"enqu\\u00eate\", \"enqu\\u00eate\", \"enqu\\u00eate\", \"enqu\\u00eate\", \"enqu\\u00eate_publique\", \"enqu\\u00eate_publique\", \"ensemble\", \"ensemble\", \"ensemble\", \"ensemble\", \"ensemble\", \"ensemble\", \"ensemble\", \"ensemble\", \"ensemble\", \"ensemble\", \"ensemble\", \"ensemble\", \"ensemble\", \"ensemble\", \"ensemble\", \"ensemble_correspondances\", \"entendu_autoriser\", \"entiers_dossiers\", \"entre\", \"entre\", \"entre\", \"entre\", \"entre\", \"entre\", \"entre\", \"entre\", \"entre\", \"entre\", \"entre\", \"entre\", \"entre\", \"entreprise_attributaire\", \"entreprises_non\", \"environnement\", \"environnement\", \"environnement_qualifie\", \"envoi\", \"envoi\", \"envoi\", \"envoi\", \"envoi\", \"envoi\", \"envoi\", \"envoi\", \"envoi\", \"esp\\u00e8ce\", \"esp\\u00e8ce\", \"esp\\u00e8ce\", \"esp\\u00e8ce\", \"esp\\u00e8ce\", \"esp\\u00e8ce\", \"esp\\u00e8ce\", \"esp\\u00e8ce\", \"esp\\u00e8ce\", \"esp\\u00e8ce\", \"esp\\u00e8ce\", \"esp\\u00e8ce\", \"esp\\u00e8ce\", \"esp\\u00e8ce\", \"esp\\u00e8ce\", \"estime\", \"estime\", \"estime\", \"estime\", \"estime\", \"estime\", \"estime\", \"estime\", \"estime\", \"estime\", \"estime\", \"estime\", \"estime\", \"estime\", \"estime\", \"etat_collectivit\\u00e9s\", \"etat_collectivit\\u00e9s\", \"etat_collectivit\\u00e9s\", \"euro_page\", \"examen\", \"examen\", \"examen\", \"examen\", \"examen\", \"examen\", \"examen\", \"examen\", \"examen\", \"examen_candidatures\", \"examen_candidatures\", \"exception_informations\", \"exc\\u00e9der_co\\u00fbt\", \"exc\\u00e9der_montants\", \"exerce_choix\", \"exerce_conditions\", \"exerce_conditions\", \"exerce_mandats\", \"exercer_respect\", \"exercice_mandat\", \"exercice_mandat\", \"exer\\u00e7ant_autorit\\u00e9\", \"existait\", \"existait\", \"existait\", \"existe\", \"existe\", \"existe\", \"existe\", \"existe\", \"existe\", \"existe\", \"existe\", \"existe\", \"existe\", \"existe\", \"existe\", \"existe\", \"expertise_m\\u00e9moires\", \"exploration_hospitalisation\", \"facilement_identifiable\", \"facteurs_notamment\", \"factures\", \"factures\", \"factures\", \"factures\", \"faire\", \"faire\", \"faire\", \"faire\", \"faire\", \"faire\", \"faire\", \"faire\", \"faire\", \"faire\", \"faire\", \"faire_peser\", \"faire_valoir\", \"faire_\\u00e9tablir\", \"faisant_appara\\u00eetre\", \"faisant_appara\\u00eetre\", \"faisant_appara\\u00eetre\", \"faisant_appara\\u00eetre\", \"faisant_appara\\u00eetre\", \"faisant_appara\\u00eetre\", \"faisant_appara\\u00eetre\", \"faisant_appara\\u00eetre\", \"fait\", \"fait\", \"fait\", \"fait\", \"fait\", \"fait\", \"fait\", \"fait\", \"fait\", \"fait\", \"fait\", \"fait\", \"fait\", \"fait\", \"fait_obligation\", \"fait_obligation\", \"fait_obligation\", \"fait_obligation\", \"fait_obligation\", \"fait_obligation\", \"fait_obligation\", \"familial\", \"fa\\u00e7ade\", \"fa\\u00e7ades\", \"feraient_appara\\u00eetre\", \"feraient_appara\\u00eetre\", \"feraient_appara\\u00eetre\", \"fichiers_libert\\u00e9s\", \"figurer_fichiers\", \"fils_mineur\", \"financier_subvention\", \"financiers_offres\", \"finist\\u00e8re\", \"finist\\u00e8re\", \"fins_celles\", \"fins_celles\", \"fiscales\", \"fiscales\", \"fix\\u00e9s\", \"fonctionnaires_agents\", \"fonctions_statut\", \"fond\\u00e9_loi\", \"fond\\u00e9e_\\u00e9taler\", \"forces_police\", \"format\", \"form\\u00e9e\", \"for\\u00eats\", \"frais\", \"frais\", \"frais\", \"frais\", \"frais\", \"frais\", \"frais\", \"frais\", \"frais_calcul\\u00e9s\", \"frais_lorsque\", \"frais_puissent\", \"france\", \"france\", \"france\", \"france\", \"france\", \"france\", \"france\", \"france\", \"f\\u00e9vrier\", \"f\\u00e9vrier\", \"f\\u00e9vrier\", \"f\\u00e9vrier\", \"f\\u00e9vrier\", \"f\\u00e9vrier\", \"f\\u00e9vrier\", \"f\\u00e9vrier\", \"f\\u00e9vrier\", \"f\\u00e9vrier\", \"f\\u00e9vrier\", \"f\\u00e9vrier\", \"f\\u00e9vrier\", \"f\\u00e9vrier\", \"f\\u00e9vrier\", \"g\", \"g\", \"g\", \"garanti\", \"garanti\", \"garanti\", \"garanti\", \"garanti\", \"garanti\", \"garanti\", \"garde_sceaux\", \"garde_sceaux\", \"grande_instance\", \"grande_instance\", \"grille\", \"groupe_travail\", \"g\\u00e9n\\u00e9ral\", \"g\\u00e9n\\u00e9ral\", \"g\\u00e9n\\u00e9ral\", \"g\\u00e9n\\u00e9ral\", \"g\\u00e9n\\u00e9ral\", \"g\\u00e9n\\u00e9ral\", \"g\\u00e9n\\u00e9ral\", \"g\\u00e9n\\u00e9ral\", \"g\\u00e9n\\u00e9ral\", \"g\\u00e9n\\u00e9ral\", \"g\\u00e9n\\u00e9ral\", \"g\\u00e9n\\u00e9ral\", \"g\\u00e9n\\u00e9ral\", \"g\\u00e9n\\u00e9ral_assistance\", \"g\\u00e9n\\u00e9ral_collectivit\\u00e9s\", \"g\\u00e9n\\u00e9ral_collectivit\\u00e9s\", \"g\\u00e9n\\u00e9ral_collectivit\\u00e9s\", \"g\\u00e9n\\u00e9ral_imp\\u00f4ts\", \"g\\u00e9n\\u00e9rale_efface\", \"h\", \"hameau\", \"haute_autorit\\u00e9\", \"humains_certification\", \"i\", \"i\", \"i\", \"i\", \"i\", \"i\", \"i\", \"i\", \"identifier\", \"identifier\", \"identifier\", \"identifier\", \"identifier\", \"identifier\", \"identifier\", \"identifier\", \"identifier\", \"ignominie_d\\u00e9saffection\", \"ii\", \"ii\", \"ii\", \"ii\", \"ii\", \"ii\", \"ii\", \"ii\", \"ii\", \"ii\", \"ii\", \"ii\", \"ii\", \"implicite\", \"incluant\", \"incluant\", \"incluant\", \"incomplet\", \"incomp\\u00e9tente_prononcer\", \"incomp\\u00e9tente_prononcer\", \"incomp\\u00e9tente_prononcer\", \"indemnit\\u00e9\", \"indemnit\\u00e9\", \"indiqu\\u00e9e\", \"ind\\u00e9pendamment_fonctions\", \"inexistants\", \"information_relative\", \"informations\", \"informations\", \"informations\", \"informations\", \"informations\", \"informations\", \"informations\", \"informations\", \"informations\", \"informations\", \"informations\", \"informations_communiqu\\u00e9es\", \"informations_mentionnant\", \"informations_m\\u00e9dicales\", \"informations_relatives\", \"informations_relatives\", \"informations_relatives\", \"informations_relatives\", \"informations_relatives\", \"informations_relatives\", \"inform\\u00e9\", \"inform\\u00e9\", \"inform\\u00e9\", \"inform\\u00e9\", \"inform\\u00e9\", \"inform\\u00e9\", \"inform\\u00e9\", \"insalubrit\\u00e9\", \"inscription_liste\", \"inspecteur_travail\", \"inspection_g\\u00e9n\\u00e9rale\", \"inspection_travail\", \"interminist\\u00e9rielle\", \"interne\", \"interne\", \"interne\", \"interne\", \"interne\", \"interpr\\u00e9t\\u00e9es\", \"intervenant\", \"intervenant_prise\", \"int\\u00e9ress\\u00e9\", \"int\\u00e9ress\\u00e9\", \"int\\u00e9ress\\u00e9\", \"int\\u00e9ress\\u00e9\", \"int\\u00e9ress\\u00e9\", \"int\\u00e9ress\\u00e9\", \"int\\u00e9ress\\u00e9\", \"int\\u00e9ress\\u00e9\", \"int\\u00e9ress\\u00e9\", \"int\\u00e9ress\\u00e9\", \"int\\u00e9ress\\u00e9\", \"int\\u00e9ress\\u00e9_librement\", \"int\\u00e9ress\\u00e9e_sens\", \"int\\u00e9ress\\u00e9e_sens\", \"int\\u00e9ress\\u00e9e_sens\", \"int\\u00e9r\\u00eat_g\\u00e9n\\u00e9ral\", \"inviter_demandeur\", \"inviter_demandeur\", \"isolement\", \"iv_titre\", \"janvier\", \"janvier\", \"janvier\", \"janvier\", \"janvier\", \"janvier\", \"janvier\", \"janvier\", \"janvier\", \"janvier\", \"janvier\", \"janvier\", \"janvier\", \"janvier\", \"janvier\", \"joint\", \"joint\", \"joint\", \"joint\", \"joint\", \"joint\", \"jour_mentionn\\u00e9es\", \"judiciaire\", \"judiciaire\", \"judiciaire\", \"juge_enfants\", \"jugement_valeur\", \"jugement_valeur\", \"jug\\u00e9_d\\u00e9cision\", \"juillet\", \"juillet\", \"juillet\", \"juillet\", \"juillet\", \"juillet\", \"juillet\", \"juillet\", \"juillet\", \"juillet\", \"juillet\", \"juillet\", \"juillet\", \"juillet\", \"juillet\", \"juin\", \"juin\", \"juin\", \"juin\", \"juin\", \"juin\", \"juin\", \"juin\", \"juin\", \"juin\", \"juin\", \"juin\", \"juin\", \"juin\", \"juin\", \"juridiction_destin\\u00e9s\", \"juridictions_ordre\", \"justice\", \"justice\", \"justice\", \"justice\", \"justificatives\", \"laquelle\", \"laquelle\", \"laquelle\", \"laquelle\", \"laquelle\", \"laquelle\", \"laquelle\", \"laquelle\", \"laquelle\", \"laquelle\", \"laquelle\", \"laquelle\", \"laquelle\", \"lequel\", \"lequel\", \"lequel\", \"lequel\", \"lequel\", \"lequel\", \"lequel\", \"lequel\", \"lequel\", \"lequel\", \"lequel\", \"lequel\", \"lequel\", \"lettre\", \"lettre\", \"lettre\", \"lettre\", \"lettre\", \"lettre\", \"lettre\", \"lettre\", \"lettre\", \"lettre_notification\", \"lettre_saisine\", \"lettres_observations\", \"leurs_droits\", \"leurs_droits\", \"leurs_fonctions\", \"leurs_fonctions\", \"leurs_groupements\", \"leurs_repr\\u00e9sentants\", \"leurs_repr\\u00e9sentants\", \"licenciement\", \"ligue\", \"limites_conditions\", \"liste\", \"liste\", \"liste\", \"liste\", \"liste\", \"liste\", \"liste\", \"liste\", \"liste\", \"liste\", \"liste_\\u00e9lectorale\", \"listes_\\u00e9lectorales\", \"livre_i\", \"livre_proc\\u00e9dures\", \"locations\", \"loi\", \"loi\", \"loi\", \"loi\", \"loi\", \"loi\", \"loi\", \"loi\", \"loi\", \"loi\", \"loi\", \"loi\", \"loi\", \"loi\", \"lotissement\", \"lotissement\", \"l\\u00e9gaux\", \"l\\u00e9gislateur_entendu\", \"l\\u00e9gislateur_entendu\", \"l\\u00e9gislateur_entendu\", \"mai\", \"mai\", \"mai\", \"mai\", \"mai\", \"mai\", \"mai\", \"mai\", \"mai\", \"mai\", \"mai\", \"mai\", \"mai\", \"mai\", \"mai\", \"maire\", \"maire\", \"maire\", \"maire\", \"maire\", \"maire\", \"maire\", \"maire\", \"mairie\", \"mairie\", \"mairie\", \"mairie\", \"mairie\", \"mairie\", \"mairie\", \"mairie\", \"mairie\", \"mairie\", \"maladie\", \"maladie\", \"manche\", \"manche\", \"mani\\u00e8re_servir\", \"march\\u00e9\", \"mari\", \"maritime\", \"maritime\", \"maritime\", \"maroc\", \"mars\", \"mars\", \"mars\", \"mars\", \"mars\", \"mars\", \"mars\", \"mars\", \"mars\", \"mars\", \"mars\", \"mars\", \"mars\", \"mars\", \"mars\", \"ma\\u00eetre\", \"ma\\u00eetre\", \"ma\\u00eetre\", \"ma\\u00eetre\", \"ma\\u00eetre\", \"ma\\u00eetre\", \"ma\\u00eetre\", \"ma\\u00eetre\", \"ma\\u00eetre\", \"ma\\u00eetre\", \"ma\\u00eetre\", \"ma\\u00eetre\", \"ma\\u00eetre\", \"membres_concourant\", \"membres_gouvernement\", \"mentionnant_elles\", \"mentionn\\u00e9_point\", \"mentions\", \"mentions\", \"mentions\", \"mentions\", \"mentions\", \"mentions\", \"mentions\", \"mentions\", \"mentions_relatives\", \"mentions_relatives\", \"mentions_relatives\", \"menton\", \"men\\u00e9e\", \"men\\u00e9e\", \"men\\u00e9e\", \"mesure\", \"mesure\", \"mesure\", \"mesure\", \"mesure\", \"mesure\", \"mesure\", \"mesure\", \"mesure\", \"mesure\", \"mesure\", \"mesure\", \"mesure\", \"mesure\", \"mesures\", \"mesures\", \"mesures\", \"mesures\", \"mesures\", \"mesures\", \"mesures_prises\", \"met_cause\", \"milieu\", \"militaires\", \"ministre\", \"ministre\", \"ministre\", \"ministre\", \"ministre\", \"ministre\", \"ministre_justice\", \"ministre_justice\", \"ministre_justice\", \"minist\\u00e8re\", \"minist\\u00e8re\", \"minist\\u00e8re\", \"minist\\u00e8re\", \"mise\", \"mise\", \"mise\", \"mise\", \"mise\", \"mise\", \"mise\", \"mise\", \"mise\", \"mise_\\u0153uvre\", \"mise_\\u0153uvre\", \"mise_\\u0153uvre\", \"mise_\\u0153uvre\", \"mise_\\u0153uvre\", \"mise_\\u0153uvre\", \"mise_\\u0153uvre\", \"mise_\\u0153uvre\", \"mise_\\u0153uvre\", \"mission\", \"mission\", \"mission\", \"mission\", \"mission\", \"mission\", \"mission\", \"mission\", \"mission\", \"mission_int\\u00e9r\\u00eat\", \"mission_service\", \"mission_service\", \"modalit\\u00e9s\", \"modalit\\u00e9s\", \"modalit\\u00e9s\", \"modalit\\u00e9s\", \"modalit\\u00e9s\", \"modalit\\u00e9s\", \"modalit\\u00e9s\", \"modalit\\u00e9s\", \"modalit\\u00e9s\", \"modalit\\u00e9s\", \"moulins\", \"moyens_techniques\", \"moyens_techniques\", \"municipal\", \"municipal\", \"municipale\", \"m\\u00e8re\", \"m\\u00e8re\", \"m\\u00e9decin\", \"m\\u00e9decin\", \"m\\u00e9decin\", \"m\\u00e9decin\", \"m\\u00e9decin\", \"m\\u00e9decin\", \"m\\u00e9decin_d\\u00e9signe\", \"m\\u00e9decine\", \"m\\u00e9decins_interpr\\u00e9t\\u00e9\", \"m\\u00e9diation\", \"m\\u00e9dical\", \"m\\u00e9dical\", \"m\\u00e9dical\", \"m\\u00e9dical\", \"m\\u00e9dical\", \"m\\u00e9moire_d\\u00e9funt\", \"nantes\", \"nantes\", \"nantes\", \"nantes\", \"nantes\", \"nationales\", \"nationalit\\u00e9_fran\\u00e7aise\", \"nature_civile\", \"nomm\\u00e9ment_d\\u00e9sign\\u00e9e\", \"non_autoris\\u00e9es\", \"non_retenues\", \"notamment\", \"notamment\", \"notamment\", \"notamment\", \"notamment\", \"notamment\", \"notamment\", \"notamment\", \"notamment\", \"notamment\", \"notamment\", \"notamment\", \"notamment\", \"notamment\", \"notamment\", \"notamment_air\", \"notamment_r\\u00e9sultats\", \"note_synth\\u00e8se\", \"novembre\", \"novembre\", \"novembre\", \"novembre\", \"novembre\", \"novembre\", \"novembre\", \"novembre\", \"novembre\", \"novembre\", \"novembre\", \"novembre\", \"novembre\", \"novembre\", \"novembre\", \"n\\u00e9cessaires_poursuite\", \"objet\", \"objet\", \"objet\", \"objet\", \"objet\", \"objet\", \"objet\", \"objet\", \"objet\", \"objet\", \"objet\", \"objet\", \"objet\", \"objet\", \"objet_contenu\", \"observations_parties\", \"obtenir\", \"obtenir\", \"obtenir\", \"obtenir\", \"obtenir\", \"obtenir\", \"obtenir\", \"obtenir\", \"obtenir\", \"obtenir\", \"obtenus_traitement\", \"obtenus_traitement\", \"obtenus_traitement\", \"obtenus_traitement\", \"obtenus_traitement\", \"occasionn\\u00e9\", \"octobre\", \"octobre\", \"octobre\", \"octobre\", \"octobre\", \"octobre\", \"octobre\", \"octobre\", \"octobre\", \"octobre\", \"octobre\", \"octobre\", \"octobre\", \"octobre\", \"octobre\", \"octobre_savoir\", \"offre\", \"offres\", \"oncle\", \"oppos\\u00e9_directeur\", \"oppos\\u00e9_directeur\", \"oppos\\u00e9_directeur\", \"oppos\\u00e9_directeur\", \"oppos\\u00e9_directeur\", \"oppos\\u00e9_directeur\", \"oppos\\u00e9_directeur\", \"oppos\\u00e9_directeur\", \"oppos\\u00e9_directeur\", \"oppos\\u00e9_directeur\", \"oppos\\u00e9_directeur\", \"oppos\\u00e9_directeur\", \"oppos\\u00e9_directeur\", \"oppos\\u00e9_directeur\", \"oppos\\u00e9_vivant\", \"oppos\\u00e9e_personne\", \"op\\u00e9rations_effectu\\u00e9es\", \"organisme\", \"organisme\", \"organisme\", \"organisme\", \"organisme\", \"outre_pr\\u00e9cis\\u00e9\", \"ouvert_toute\", \"pacte_civil\", \"parcelles\", \"parcelles\", \"parcelles\", \"parcelles\", \"parcelles\", \"parcelles\", \"parcelles\", \"parcelles_cadastr\\u00e9es\", \"paris\", \"paris\", \"paris\", \"paris\", \"paris\", \"paris\", \"paris\", \"paris\", \"paris\", \"paris\", \"paris\", \"parking\", \"part\", \"part\", \"part\", \"part\", \"part\", \"part\", \"part\", \"part\", \"part\", \"part\", \"part\", \"part\", \"part\", \"part\", \"partenariat\", \"parties_ainsi\", \"patient_d\\u00e9c\\u00e9d\\u00e9\", \"patrimoine\", \"pau\", \"pc\", \"permettre_conna\\u00eetre\", \"permis_conduire\", \"permis_conduire\", \"permis_construire\", \"permis_construire\", \"permis_construire\", \"permis_construire\", \"permis_construire\", \"personne\", \"personne\", \"personne\", \"personne\", \"personne\", \"personne\", \"personne\", \"personne\", \"personne\", \"personne\", \"personne\", \"personne\", \"personne_d\\u00e9c\\u00e9d\\u00e9e\", \"personne_fait\", \"personne_fait\", \"personne_physique\", \"personne_physique\", \"personne_physique\", \"personnel\", \"personnel\", \"personnel\", \"personnel\", \"personnel\", \"personnel\", \"personnel\", \"personnel\", \"personnel_subordonn\\u00e9e\", \"personnels\", \"personnels\", \"personnels\", \"personnels\", \"personnels_justifient\", \"personnes\", \"personnes\", \"personnes\", \"personnes\", \"personnes\", \"personnes\", \"personnes\", \"personnes\", \"personnes\", \"personnes_handicap\\u00e9es\", \"personnes_pr\\u00e9sentes\", \"peuvent\", \"peuvent\", \"peuvent\", \"peuvent\", \"peuvent\", \"peuvent\", \"peuvent\", \"peuvent\", \"peuvent\", \"peuvent_utilis\\u00e9es\", \"peuvent_utilis\\u00e9es\", \"photocopies_afin\", \"pi\\u00e8ces\", \"pi\\u00e8ces\", \"pi\\u00e8ces\", \"pi\\u00e8ces\", \"pi\\u00e8ces\", \"pi\\u00e8ces\", \"pi\\u00e8ces\", \"pi\\u00e8ces\", \"pi\\u00e8ces\", \"pi\\u00e8ces\", \"pi\\u00e8ces\", \"pi\\u00e8ces\", \"pi\\u00e8ces\", \"place\", \"place\", \"place\", \"place\", \"place\", \"place\", \"place\", \"plan_local\", \"plan_local\", \"plateforme\", \"plu\", \"plu\", \"plus\", \"plus\", \"plus\", \"plus\", \"plus\", \"plus\", \"plus\", \"plus\", \"plus\", \"plus\", \"plus\", \"plus\", \"plus\", \"plus\", \"plus_largement\", \"plusieurs_reprises\", \"point\", \"point\", \"point\", \"point\", \"point\", \"point\", \"point\", \"point\", \"point\", \"point\", \"point\", \"point\", \"point\", \"point\", \"point\", \"points\", \"points\", \"points\", \"points\", \"points\", \"points\", \"points\", \"points\", \"points\", \"points\", \"points\", \"points\", \"points\", \"populaire\", \"portant\", \"portant\", \"portant\", \"portant\", \"portant\", \"portant\", \"portant\", \"portant\", \"portant\", \"portant\", \"portant\", \"portant\", \"portant_appr\\u00e9ciation\", \"porte\", \"porte\", \"porte\", \"porte\", \"porte\", \"porte\", \"porte\", \"porte\", \"porte\", \"porte\", \"porte\", \"porte\", \"porte\", \"porte_r\\u00e9alit\\u00e9\", \"portent_appr\\u00e9ciation\", \"porter_pr\\u00e9judice\", \"porter_pr\\u00e9judice\", \"porter_pr\\u00e9judice\", \"porterait_atteinte\", \"porterait_atteinte\", \"porterait_atteinte\", \"porterait_atteinte\", \"porterait_atteinte\", \"porterait_atteinte\", \"possession\", \"possession\", \"possession\", \"possession\", \"possession\", \"possession\", \"possession\", \"possession\", \"possession\", \"possibilit\\u00e9s_techniques\", \"postal_peuvent\", \"pourrait_porter\", \"pouvoirs\", \"pouvoirs\", \"premier_ministre\", \"premier_ministre\", \"premier_ministre\", \"prend_acte\", \"prend_acte\", \"prend_acte\", \"prend_acte\", \"prescrite\", \"primaire\", \"primaire_assurance\", \"principe\", \"principe\", \"principe\", \"principe\", \"principe\", \"principe\", \"principe\", \"principe\", \"principe\", \"principe\", \"principe\", \"principe\", \"principe\", \"principe_unit\\u00e9\", \"principe_unit\\u00e9\", \"pris_connaissance\", \"pris_connaissance\", \"pris_connaissance\", \"pris_connaissance\", \"pris_connaissance\", \"pris_connaissance\", \"pris_connaissance\", \"pris_connaissance\", \"pris_connaissance\", \"pris_connaissance\", \"pris_connaissance\", \"pris_connaissance\", \"pris_connaissance\", \"pris_connaissance\", \"prise\", \"prise\", \"prise\", \"prise\", \"prise\", \"prise\", \"prise\", \"prise\", \"prise\", \"prise_charge\", \"prise_charge\", \"prise_charge\", \"prise_charge\", \"prise_charge\", \"prise_charge\", \"prise_charge\", \"priv\\u00e9e\", \"priv\\u00e9e\", \"priv\\u00e9e\", \"priv\\u00e9e\", \"priv\\u00e9e\", \"priv\\u00e9e\", \"priv\\u00e9e_assure\", \"proc\\u00e9dure\", \"proc\\u00e9dure\", \"proc\\u00e9dure\", \"proc\\u00e9dure\", \"proc\\u00e9dure\", \"proc\\u00e9dure\", \"proc\\u00e9dure\", \"proc\\u00e9dure\", \"proc\\u00e9dure\", \"proc\\u00e9dure\", \"proc\\u00e9dure\", \"proc\\u00e9dure\", \"proc\\u00e9dure_disciplinaire\", \"proc\\u00e9dure_disciplinaire\", \"proc\\u00e9dure_juridictionnelle\", \"proc\\u00e9dure_proprement\", \"proc\\u00e9dure_p\\u00e9nale\", \"proc\\u00e9dure_p\\u00e9nale\", \"proc\\u00e9dure_p\\u00e9nale\", \"proc\\u00e9dure_suivie\", \"professionnels_sant\\u00e9\", \"professionnels_sant\\u00e9\", \"professionnels_\\u00e9tablissements\", \"projet\", \"projet\", \"projet\", \"projet\", \"projet\", \"projet\", \"projet\", \"projet\", \"prononcer\", \"prononcer\", \"prononcer\", \"prononcer\", \"protection\", \"protection\", \"protection\", \"protection\", \"protection\", \"protection_vie\", \"protection_vie\", \"protection_vie\", \"protocoles_prescriptions\", \"prot\\u00e9g\\u00e9_dispositions\", \"proviseur_lyc\\u00e9e\", \"pr\\u00e9fecture\", \"pr\\u00e9fecture\", \"pr\\u00e9fecture\", \"pr\\u00e9fecture\", \"pr\\u00e9fecture\", \"pr\\u00e9fecture\", \"pr\\u00e9fecture\", \"pr\\u00e9fecture\", \"pr\\u00e9fet\", \"pr\\u00e9fet\", \"pr\\u00e9fet\", \"pr\\u00e9fet\", \"pr\\u00e9fet\", \"pr\\u00e9fet\", \"pr\\u00e9fet\", \"pr\\u00e9fet_oise\", \"pr\\u00e9fet_oise\", \"pr\\u00e9fet_police\", \"pr\\u00e9fet_var\", \"pr\\u00e9fet_yonne\", \"pr\\u00e9judice\", \"pr\\u00e9judice\", \"pr\\u00e9judice_auteur\", \"pr\\u00e9l\\u00e8vement\", \"pr\\u00e9paratoire_d\\u00e9cision\", \"pr\\u00e9paratoire_d\\u00e9cision\", \"pr\\u00e9paratoire_d\\u00e9cision\", \"pr\\u00e9rogatives\", \"pr\\u00e9sent_avis\", \"pr\\u00e9sent_avis\", \"pr\\u00e9sent_avis\", \"pr\\u00e9sent_avis\", \"pr\\u00e9sent_avis\", \"pr\\u00e9sent_avis\", \"pr\\u00e9sent_avis\", \"pr\\u00e9sent_avis\", \"pr\\u00e9sentent_caract\\u00e8re\", \"pr\\u00e9sentent_caract\\u00e8re\", \"pr\\u00e9sentent_caract\\u00e8re\", \"pr\\u00e9sentent_caract\\u00e8re\", \"pr\\u00e9sentent_caract\\u00e8re\", \"pr\\u00e9sentent_caract\\u00e8re\", \"pr\\u00e9sentent_caract\\u00e8re\", \"pr\\u00e9sentent_caract\\u00e8re\", \"pr\\u00e9sent\\u00e9\", \"pr\\u00e9sent\\u00e9\", \"pr\\u00e9sent\\u00e9\", \"pr\\u00e9sent\\u00e9\", \"pr\\u00e9sent\\u00e9\", \"pr\\u00e9sent\\u00e9\", \"pr\\u00e9sent\\u00e9\", \"pr\\u00e9sent\\u00e9\", \"pr\\u00e9sent\\u00e9\", \"pr\\u00e9sent\\u00e9\", \"pr\\u00e9sent\\u00e9\", \"pr\\u00e9sident\", \"pr\\u00e9sident\", \"pr\\u00e9sident\", \"pr\\u00e9sident\", \"pr\\u00e9sident\", \"pr\\u00e9sident\", \"pr\\u00e9sident\", \"pr\\u00e9sident\", \"pr\\u00e9sident\", \"pr\\u00e9sident\", \"pr\\u00e9sident\", \"pr\\u00e9sident_communaut\\u00e9\", \"pr\\u00e9sident_communaut\\u00e9\", \"pr\\u00e9sident_communaut\\u00e9\", \"pr\\u00e9sident_communaut\\u00e9\", \"pr\\u00e9sident_communaut\\u00e9\", \"pr\\u00e9sident_universit\\u00e9\", \"pr\\u00e9valoir\", \"pr\\u00e9valoir\", \"pr\\u00e9valoir\", \"pr\\u00e9valoir\", \"pr\\u00e9voit\", \"pr\\u00e9voit\", \"pr\\u00e9voit\", \"pr\\u00e9voit\", \"pr\\u00e9voit\", \"pr\\u00e9voit\", \"pr\\u00e9voit\", \"pr\\u00e9voit\", \"pr\\u00e9voit\", \"pr\\u00e9voit\", \"pr\\u00e9voit_budget\", \"pr\\u00e9voit_sauf\", \"pr\\u00e9vu\", \"pr\\u00e9vu\", \"pr\\u00e9vu\", \"pr\\u00e9vu\", \"pr\\u00e9vu\", \"pr\\u00e9vu\", \"pr\\u00e9vu\", \"pr\\u00e9vu\", \"pr\\u00e9vu\", \"pr\\u00e9vu\", \"pr\\u00e9vu\", \"pr\\u00e9vu\", \"pr\\u00e9vues\", \"pr\\u00e9vues\", \"pr\\u00e9vues\", \"pr\\u00e9vues\", \"pr\\u00e9vues\", \"pr\\u00e9vues\", \"pr\\u00e9vues\", \"pr\\u00e9vues\", \"psychiatriques\", \"publication\", \"publication\", \"publication\", \"publication\", \"publication\", \"publication\", \"publication\", \"publics\", \"publics\", \"publics\", \"publics\", \"publics\", \"publics\", \"publique\", \"publique\", \"publique\", \"publique\", \"publique\", \"publique\", \"publique\", \"publique\", \"publique\", \"publiques\", \"publiques\", \"publiques\", \"publiques\", \"publiques\", \"publiques\", \"publiques\", \"publiques\", \"publiques\", \"publiques\", \"publiques\", \"publiques_comportant\", \"puissent_communiqu\\u00e9es\", \"p\\u00e8re\", \"p\\u00e8re\", \"p\\u00e8re\", \"p\\u00e9nale_commerciale\", \"p\\u00e9nalit\\u00e9s\", \"p\\u00e9nitentiaire\", \"p\\u00e9titionnaire_\\u00e9labor\\u00e9s\", \"qualit\\u00e9\", \"qualit\\u00e9\", \"qualit\\u00e9\", \"qualit\\u00e9\", \"qualit\\u00e9\", \"qualit\\u00e9\", \"qualit\\u00e9\", \"qualit\\u00e9\", \"qualit\\u00e9\", \"qualit\\u00e9\", \"qualit\\u00e9\", \"qualit\\u00e9\", \"qualit\\u00e9_\\u00e9lecteur\", \"quartier\", \"quel_lieu\", \"quel_support\", \"quel_support\", \"rappelle_fois\", \"rapport\", \"rapport\", \"rapport\", \"rapport\", \"rapport\", \"rapport\", \"rapport\", \"rapport\", \"rapport\", \"rapport\", \"rapport\", \"rapport\", \"rapport\", \"rapport_analyse\", \"rapport_annuel\", \"rapport_audit\", \"recherche\", \"recherche\", \"recherche\", \"recherche\", \"recherche\", \"recherche\", \"reconna\\u00eet_droit\", \"recueil_page\", \"recueillies_aupr\\u00e8s\", \"refus\", \"refus\", \"refus\", \"refus\", \"refus\", \"refus\", \"refus\", \"refus\", \"refus\", \"refus\", \"refus\", \"refus\", \"refus\", \"rejeter\", \"rejets_susceptibles\", \"relatif\", \"relatif\", \"relatif\", \"relatif\", \"relatif\", \"relatif\", \"relatif\", \"relatif\", \"relatif\", \"relatif\", \"relatif\", \"relatif\", \"relatif\", \"relatif\", \"relations_entre\", \"relations_entre\", \"relations_entre\", \"relations_entre\", \"relations_entre\", \"relations_entre\", \"relations_entre\", \"relations_entre\", \"relations_entre\", \"relations_entre\", \"relations_entre\", \"relations_entre\", \"relative_fonctionnement\", \"relative_informatique\", \"relatives\", \"relatives\", \"relatives\", \"relatives\", \"relatives\", \"relatives\", \"relatives\", \"relatives\", \"relatives\", \"relatives\", \"relatives\", \"relatives\", \"relatives\", \"relatives\", \"relatives\", \"relatives_environnement\", \"relev\\u00e9_int\\u00e9gral\", \"relev\\u00e9s_bancaires\", \"rel\\u00e8ve\", \"rel\\u00e8ve\", \"rel\\u00e8ve\", \"rel\\u00e8ve\", \"rel\\u00e8ve\", \"rel\\u00e8ve\", \"rel\\u00e8ve\", \"rel\\u00e8ve\", \"rel\\u00e8ve\", \"rel\\u00e8ve\", \"rel\\u00e8ve\", \"rel\\u00e8ve\", \"rel\\u00e8ve\", \"rel\\u00e8ve\", \"rel\\u00e8ve\", \"renseignements\", \"renseignements\", \"renseignements\", \"renseignements\", \"renseignements\", \"renseignements_information\", \"reproduction_envoi\", \"reproduction_nuise\", \"reproduction_n\\u00e9cessaires\", \"ressortissants\", \"ressources_humaines\", \"ressources_humaines\", \"retir\\u00e9\", \"retraite\", \"retraite\", \"retraite\", \"retraite\", \"re\\u00e7u_subvention\", \"re\\u00e7ue\", \"rh\\u00f4ne\", \"rh\\u00f4ne\", \"rh\\u00f4ne\", \"rh\\u00f4ne\", \"rh\\u00f4ne\", \"r\\u00e9forme\", \"r\\u00e9f\\u00e9renc\\u00e9e\", \"r\\u00e9gie_articles\", \"r\\u00e9gime_sp\\u00e9cial\", \"r\\u00e9pertoire\", \"r\\u00e9pertoire\", \"r\\u00e9pondre_demandes\", \"r\\u00e9pondre_demandes\", \"r\\u00e9pondre_demandes\", \"r\\u00e9pondre_demandes\", \"r\\u00e9ponse\", \"r\\u00e9ponse\", \"r\\u00e9ponse\", \"r\\u00e9ponse\", \"r\\u00e9ponse\", \"r\\u00e9ponse\", \"r\\u00e9ponse\", \"r\\u00e9ponse\", \"r\\u00e9ponse\", \"r\\u00e9ponse\", \"r\\u00e9ponse\", \"r\\u00e9ponse\", \"r\\u00e9ponse\", \"r\\u00e9ponse\", \"r\\u00e9ponse\", \"r\\u00e9pression_fraudes\", \"r\\u00e9sultant\", \"r\\u00e9sultant\", \"r\\u00e9sultant\", \"r\\u00e9sultant\", \"r\\u00e9sultant\", \"r\\u00e9sulte\", \"r\\u00e9sulte\", \"r\\u00e9sulte\", \"r\\u00e9sulte\", \"r\\u00e9sulte\", \"r\\u00e9sulte\", \"r\\u00e9sulte\", \"r\\u00e9sulte\", \"r\\u00e9sulte\", \"r\\u00e9sulte\", \"r\\u00e9sulte\", \"r\\u00e9sulte_d\\u00e9cision\", \"r\\u00e9sulte_d\\u00e9cision\", \"r\\u00e9union\", \"r\\u00e9union\", \"r\\u00e9union\", \"r\\u00e9union\", \"r\\u00e9union\", \"r\\u00e9union\", \"r\\u00e9union\", \"r\\u00e9union\", \"r\\u00e9union\", \"r\\u00e9union\", \"r\\u00e9union\", \"r\\u00e9union\", \"r\\u00e9utilisation_d\\u00e9finies\", \"r\\u00e9utilisation_informations\", \"r\\u00e9utilisation_informations\", \"r\\u00e9utilisation_informations\", \"r\\u00e9utilisation_informations\", \"r\\u00e9utilisation_informations\", \"safer\", \"saisie\", \"saisie\", \"saisie\", \"saisie\", \"saisie\", \"saisie\", \"saisie\", \"saisie\", \"saisie\", \"saisie\", \"saisie\", \"saisie\", \"sans\", \"sans\", \"sans\", \"sans\", \"sans\", \"sans\", \"sans\", \"sans\", \"sans\", \"sans\", \"sans\", \"sans\", \"sans\", \"sans\", \"sans_consentement\", \"sans_consentement\", \"sans_incidence\", \"sans_incidence\", \"sans_incidence\", \"sans_incidence\", \"sans_incidence\", \"sans_incidence\", \"sans_incidence\", \"sans_objet\", \"sans_objet\", \"sans_objet\", \"sans_objet\", \"sans_objet\", \"sans_objet\", \"sant\\u00e9\", \"sant\\u00e9\", \"sant\\u00e9\", \"sant\\u00e9\", \"sant\\u00e9\", \"sant\\u00e9\", \"sant\\u00e9\", \"sant\\u00e9\", \"sant\\u00e9_d\\u00e9tenues\", \"sant\\u00e9_publique\", \"sant\\u00e9_publique\", \"savoir_conna\\u00eetre\", \"scanner\", \"second_alin\\u00e9a\", \"secours\", \"secours\", \"secours\", \"secours\", \"secret\", \"secret\", \"secret\", \"secret\", \"secret\", \"secret\", \"secret_affaires\", \"secret_affaires\", \"secret_mati\\u00e8re\", \"secret_mati\\u00e8re\", \"secret_mati\\u00e8re\", \"secret_mati\\u00e8re\", \"secret_mati\\u00e8re\", \"secteur_activit\\u00e9\", \"sein\", \"sein\", \"sein\", \"sein\", \"sein\", \"sein\", \"sein\", \"sein\", \"sein\", \"sein\", \"sein\", \"selon\", \"selon\", \"selon\", \"selon\", \"selon\", \"selon\", \"selon\", \"selon\", \"selon\", \"selon\", \"selon\", \"selon_choix\", \"selon_modalit\\u00e9s\", \"selon_modalit\\u00e9s\", \"selon_modalit\\u00e9s\", \"selon_modalit\\u00e9s\", \"selon_modalit\\u00e9s\", \"selon_modalit\\u00e9s\", \"selon_modalit\\u00e9s\", \"selon_modalit\\u00e9s\", \"selon_modalit\\u00e9s\", \"selon_modalit\\u00e9s\", \"sens\", \"sens\", \"sens\", \"sens\", \"sens\", \"sens\", \"sens\", \"sens\", \"sens\", \"sens\", \"sens\", \"sens\", \"sens\", \"septembre\", \"septembre\", \"septembre\", \"septembre\", \"septembre\", \"septembre\", \"septembre\", \"septembre\", \"septembre\", \"septembre\", \"septembre\", \"septembre\", \"septembre\", \"septembre\", \"septembre\", \"septembre_ordres\", \"service\", \"service\", \"service\", \"service\", \"service\", \"service\", \"service\", \"service\", \"service\", \"service\", \"service\", \"service\", \"service\", \"service_historique\", \"services_aide\", \"services_pr\\u00e9fecture\", \"seuls_\\u00e9l\\u00e9ments\", \"si\", \"si\", \"si\", \"si\", \"si\", \"si\", \"si\", \"si\", \"si\", \"si\", \"si\", \"si\", \"si\", \"si\", \"signalement\", \"signalement\", \"signalement\", \"silence_loi\", \"situation_familiale\", \"sociale_enfance\", \"soci\\u00e9t\\u00e9\", \"soci\\u00e9t\\u00e9\", \"soci\\u00e9t\\u00e9\", \"soci\\u00e9t\\u00e9\", \"soci\\u00e9t\\u00e9\", \"soci\\u00e9t\\u00e9\", \"soci\\u00e9t\\u00e9\", \"soci\\u00e9t\\u00e9\", \"soci\\u00e9t\\u00e9\", \"soci\\u00e9t\\u00e9_anonyme\", \"soins\", \"soins\", \"soins\", \"soins\", \"sollicit\\u00e9s\", \"sollicit\\u00e9s\", \"sollicit\\u00e9s\", \"sollicit\\u00e9s\", \"sollicit\\u00e9s\", \"sollicit\\u00e9s\", \"sollicit\\u00e9s\", \"sollicit\\u00e9s\", \"sollicit\\u00e9s\", \"sollicit\\u00e9s\", \"sollicit\\u00e9s\", \"sollicit\\u00e9s\", \"sollicit\\u00e9s\", \"sollicit\\u00e9s\", \"sollicit\\u00e9s\", \"souhaite_autres\", \"souhaite_autres\", \"soumis_droit\", \"soumis_droit\", \"soumis_droit\", \"soumis_droit\", \"soumis_droit\", \"soumis_enqu\\u00eate\", \"sous\", \"sous\", \"sous\", \"sous\", \"sous\", \"sous\", \"sous\", \"sous\", \"sous\", \"sous\", \"sous\", \"sous\", \"sous\", \"sous\", \"sous_cote\", \"sous_cotes\", \"sous_forme\", \"sous_forme\", \"sous_forme\", \"sous_forme\", \"sous_forme\", \"sous_forme\", \"sous_r\\u00e9serve\", \"sous_r\\u00e9serve\", \"sous_r\\u00e9serve\", \"sous_r\\u00e9serve\", \"sous_r\\u00e9serve\", \"sous_r\\u00e9serve\", \"sous_r\\u00e9serve\", \"sous_r\\u00e9serve\", \"sous_r\\u00e9serve\", \"sous_r\\u00e9serve\", \"sous_r\\u00e9serve\", \"sous_r\\u00e9serve\", \"sous_r\\u00e9serve\", \"sous_r\\u00e9serve\", \"sous_r\\u00e9serves\", \"sous_r\\u00e9serves\", \"sous_r\\u00e9serves\", \"sous_r\\u00e9serves\", \"sous_r\\u00e9serves\", \"sous_r\\u00e9serves\", \"sous_r\\u00e9serves\", \"sous_r\\u00e9serves\", \"sous_r\\u00e9serves\", \"sous_r\\u00e9serves\", \"sous_r\\u00e9serves\", \"sous_r\\u00e9serves\", \"statutaires\", \"statuts\", \"statuts\", \"substances_\\u00e9nergie\", \"subventions\", \"suite\", \"suite\", \"suite\", \"suite\", \"suite\", \"suite\", \"suite\", \"suite\", \"suite\", \"suite\", \"suite\", \"suite\", \"suite\", \"suite\", \"suivants\", \"suivants\", \"suivants\", \"suivants\", \"suivants\", \"suivants\", \"suivants\", \"suivants\", \"suivants\", \"suivants\", \"suivants\", \"suivants\", \"suivants\", \"suivants\", \"suivants\", \"support_identique\", \"surcro\\u00eet_travail\", \"surveillance_correspondances\", \"syst\\u00e8me_qualit\\u00e9\", \"s\\u00e9curit\\u00e9\", \"s\\u00e9curit\\u00e9\", \"s\\u00e9curit\\u00e9\", \"s\\u00e9curit\\u00e9\", \"s\\u00e9curit\\u00e9\", \"s\\u00e9curit\\u00e9_int\\u00e9rieure\", \"s\\u00e9curit\\u00e9_sociale\", \"tant_entreprises\", \"taux_incapacit\\u00e9\", \"technique\", \"technique\", \"technique\", \"technique\", \"technique\", \"technique\", \"technique\", \"technique\", \"technique\", \"tel_tiers\", \"telle_mission\", \"temps_r\\u00e9alisation\", \"tenues_communiquer\", \"termes\", \"termes\", \"termes\", \"termes\", \"termes\", \"termes\", \"termes\", \"termes\", \"termes\", \"termes\", \"termes\", \"termes\", \"territoriales\", \"territoriales\", \"territoriales\", \"territoriales\", \"territoriales\", \"territoriales_dispose\", \"textes_vigueur\", \"th\\u00e9rapeutique_concernant\", \"th\\u00e9rapeutiques_mis\", \"tiers\", \"tiers\", \"tiers\", \"tiers\", \"tiers\", \"tiers\", \"tiers\", \"tiers\", \"tiers\", \"tiers\", \"tiers\", \"tiers_intervenant\", \"tirent_qualit\\u00e9\", \"titre\", \"titre\", \"titre\", \"titre\", \"titre\", \"titre\", \"titre\", \"titre\", \"titre\", \"titre\", \"titre\", \"titre\", \"titre\", \"titre_s\\u00e9jour\", \"tout_membre\", \"tout_organisme\", \"tout_\\u00e9lecteur\", \"toute\", \"toute\", \"toute\", \"toute\", \"toute\", \"toute\", \"toute\", \"toute\", \"toute\", \"toute\", \"toute\", \"toute\", \"toute_mention\", \"toute_mention\", \"toute_mention\", \"toute_personne\", \"toute_personne\", \"toute_personne\", \"toute_personne\", \"toute_personne\", \"toute_personne\", \"toute_personne\", \"toute_personne\", \"toute_personne\", \"toute_personne\", \"toute_personne\", \"toute_personne\", \"toutefois\", \"toutefois\", \"toutefois\", \"toutefois\", \"toutefois\", \"toutefois\", \"toutefois\", \"toutefois\", \"toutefois\", \"toutefois\", \"toutefois\", \"toutefois\", \"toutefois\", \"toutefois\", \"toutefois\", \"traitement\", \"traitement\", \"traitement\", \"traitement\", \"traitement\", \"traitement\", \"traitement\", \"traitement_d\\u00e9chets\", \"traitements_automatis\\u00e9s\", \"traitements_non\", \"transmettant\", \"transmis\", \"transmis\", \"transmis\", \"transmis\", \"transmis\", \"transmis\", \"transmis\", \"transmis\", \"transmis\", \"transmis\", \"transmis\", \"transmis\", \"transmis\", \"travail\", \"travail\", \"travail\", \"travail\", \"travail\", \"travail\", \"travail\", \"travail\", \"travail\", \"travail_emploi\", \"travail_internes\", \"t\\u00e9l\\u00e9grammes\", \"urbanisme\", \"urbanisme\", \"urbanisme\", \"usage\", \"usage\", \"usage\", \"usage\", \"usage\", \"usage\", \"usage\", \"usage_purement\", \"v\", \"v\", \"valeur_locative\", \"valeur_port\\u00e9\", \"valoir_leurs\", \"vaucluse\", \"vaucluse\", \"vertu\", \"vertu\", \"vertu\", \"vertu\", \"vertu\", \"vertu\", \"vertu\", \"vertu\", \"vertu\", \"vertu\", \"vertu\", \"vertu\", \"vertu\", \"vie_priv\\u00e9e\", \"vie_priv\\u00e9e\", \"vie_priv\\u00e9e\", \"vie_priv\\u00e9e\", \"vie_priv\\u00e9e\", \"visa\", \"visa\", \"visa\", \"vise_fa\\u00e7on\", \"vise_fa\\u00e7on\", \"visite\", \"visite\", \"visite\", \"voie_postale\", \"voie_postale\", \"volont\\u00e9_contraire\", \"vu_duquel\", \"vu_duquel\", \"vue_procurer\", \"v\\u00e9rification_comptabilit\\u00e9\", \"\\u00e9changes_\\u00e9crits\", \"\\u00e9ch\\u00e9ancier\", \"\\u00e9criture\", \"\\u00e9ducation\", \"\\u00e9ducation\", \"\\u00e9galement\", \"\\u00e9galement\", \"\\u00e9galement\", \"\\u00e9galement\", \"\\u00e9galement\", \"\\u00e9galement\", \"\\u00e9galement\", \"\\u00e9galement\", \"\\u00e9galement\", \"\\u00e9galement\", \"\\u00e9galement\", \"\\u00e9galement\", \"\\u00e9galement\", \"\\u00e9galement\", \"\\u00e9galement_regard\\u00e9e\", \"\\u00e9lecteur\", \"\\u00e9lectoral\", \"\\u00e9lectorales\", \"\\u00e9lectrique\", \"\\u00e9lectronique\", \"\\u00e9lectronique\", \"\\u00e9lectronique\", \"\\u00e9lectronique\", \"\\u00e9lectronique\", \"\\u00e9lectronique\", \"\\u00e9lectronique\", \"\\u00e9lectronique\", \"\\u00e9lectronique\", \"\\u00e9lectronique\", \"\\u00e9l\\u00e9ments\", \"\\u00e9l\\u00e9ments\", \"\\u00e9l\\u00e9ments\", \"\\u00e9l\\u00e9ments\", \"\\u00e9l\\u00e9ments\", \"\\u00e9l\\u00e9ments\", \"\\u00e9l\\u00e9ments\", \"\\u00e9l\\u00e9ments\", \"\\u00e9l\\u00e9ments\", \"\\u00e9l\\u00e9ments\", \"\\u00e9l\\u00e9ments\", \"\\u00e9l\\u00e9ments\", \"\\u00e9l\\u00e9ments\", \"\\u00e9l\\u00e9ments_communiqu\\u00e9s\", \"\\u00e9l\\u00e9ments_permettant\", \"\\u00e9l\\u00e9ments_permettant\", \"\\u00e9l\\u00e9ments_permettant\", \"\\u00e9l\\u00e9ments_permettant\", \"\\u00e9l\\u00e9ments_permettant\", \"\\u00e9l\\u00e9ments_permettant\", \"\\u00e9met\", \"\\u00e9met\", \"\\u00e9met\", \"\\u00e9met\", \"\\u00e9met\", \"\\u00e9met\", \"\\u00e9met\", \"\\u00e9met\", \"\\u00e9met\", \"\\u00e9met\", \"\\u00e9met\", \"\\u00e9met\", \"\\u00e9met\", \"\\u00e9met\", \"\\u00e9met\", \"\\u00e9met_donc\", \"\\u00e9met_donc\", \"\\u00e9met_donc\", \"\\u00e9met_donc\", \"\\u00e9met_donc\", \"\\u00e9met_donc\", \"\\u00e9met_donc\", \"\\u00e9met_donc\", \"\\u00e9met_donc\", \"\\u00e9met_donc\", \"\\u00e9met_donc\", \"\\u00e9met_donc\", \"\\u00e9met_donc\", \"\\u00e9met_donc\", \"\\u00e9met_donc\", \"\\u00e9pouse\", \"\\u00e9pouse\", \"\\u00e9pouse\", \"\\u00e9preuve\", \"\\u00e9quipe_m\\u00e9dicale\", \"\\u00e9tablies_autorit\\u00e9s\", \"\\u00e9tablissement\", \"\\u00e9tablissement\", \"\\u00e9tablissement\", \"\\u00e9tablissement\", \"\\u00e9tablissement\", \"\\u00e9tablissement\", \"\\u00e9tablissement\", \"\\u00e9tablissement\", \"\\u00e9tablissement\", \"\\u00e9tablissement\", \"\\u00e9tablissement\", \"\\u00e9tablissement\", \"\\u00e9tablissements_enseignement\", \"\\u00e9tat\", \"\\u00e9tat\", \"\\u00e9tat\", \"\\u00e9tat\", \"\\u00e9tat\", \"\\u00e9tat\", \"\\u00e9tat\", \"\\u00e9tat\", \"\\u00e9tat\", \"\\u00e9tat\", \"\\u00e9tat\", \"\\u00e9tat\", \"\\u00e9tat\", \"\\u00e9tat\", \"\\u00e9tat_civil\", \"\\u00e9tat_civil\", \"\\u00e9tat_civil\", \"\\u00e9ventuelle_liste\", \"\\u00e9ventuellement_d\\u00e9tenus\", \"\\u00e9ventuellement_d\\u00e9tenus\"]}, \"R\": 30, \"lambda.step\": 0.01, \"plot.opts\": {\"xlab\": \"PC1\", \"ylab\": \"PC2\"}, \"topic.order\": [10, 2, 15, 5, 12, 4, 13, 9, 1, 3, 14, 11, 6, 7, 8]};\n",
       "\n",
       "function LDAvis_load_lib(url, callback){\n",
       "  var s = document.createElement('script');\n",
       "  s.src = url;\n",
       "  s.async = true;\n",
       "  s.onreadystatechange = s.onload = callback;\n",
       "  s.onerror = function(){console.warn(\"failed to load library \" + url);};\n",
       "  document.getElementsByTagName(\"head\")[0].appendChild(s);\n",
       "}\n",
       "\n",
       "if(typeof(LDAvis) !== \"undefined\"){\n",
       "   // already loaded: just create the visualization\n",
       "   !function(LDAvis){\n",
       "       new LDAvis(\"#\" + \"ldavis_el3333948395016483450523333\", ldavis_el3333948395016483450523333_data);\n",
       "   }(LDAvis);\n",
       "}else if(typeof define === \"function\" && define.amd){\n",
       "   // require.js is available: use it to load d3/LDAvis\n",
       "   require.config({paths: {d3: \"https://cdnjs.cloudflare.com/ajax/libs/d3/3.5.5/d3.min\"}});\n",
       "   require([\"d3\"], function(d3){\n",
       "      window.d3 = d3;\n",
       "      LDAvis_load_lib(\"https://cdn.rawgit.com/bmabey/pyLDAvis/files/ldavis.v1.0.0.js\", function(){\n",
       "        new LDAvis(\"#\" + \"ldavis_el3333948395016483450523333\", ldavis_el3333948395016483450523333_data);\n",
       "      });\n",
       "    });\n",
       "}else{\n",
       "    // require.js not available: dynamically load d3 & LDAvis\n",
       "    LDAvis_load_lib(\"https://cdnjs.cloudflare.com/ajax/libs/d3/3.5.5/d3.min.js\", function(){\n",
       "         LDAvis_load_lib(\"https://cdn.rawgit.com/bmabey/pyLDAvis/files/ldavis.v1.0.0.js\", function(){\n",
       "                 new LDAvis(\"#\" + \"ldavis_el3333948395016483450523333\", ldavis_el3333948395016483450523333_data);\n",
       "            })\n",
       "         });\n",
       "}\n",
       "</script>"
      ],
      "text/plain": [
       "<IPython.core.display.HTML object>"
      ]
     },
     "execution_count": 160,
     "metadata": {},
     "output_type": "execute_result"
    }
   ],
   "source": [
    "vis = pyLDAvis.gensim.prepare(topic_model=lda_model, corpus=corpus, dictionary=dictionary_LDA)\n",
    "pyLDAvis.enable_notebook()\n",
    "pyLDAvis.display(vis)"
   ]
  },
  {
   "cell_type": "markdown",
   "metadata": {},
   "source": [
    "# Partie 3 (pour aller plus loin) :  prédiction du sebs de la décision à partir du texte de l'avis "
   ]
  },
  {
   "cell_type": "code",
   "execution_count": 46,
   "metadata": {},
   "outputs": [],
   "source": [
    "# première étape: simplifier la colonne \"sens et motivation\" en un petit nombre de catégorie\n",
    "df = df.dropna(subset = [\"Sens et motivation\"])\n",
    "df[\"sens_token\"] = df[\"Sens et motivation\"].map(lambda x: word_tokenize(x.lower().replace(\"'\", \" \").replace(\"/\", \" \")))\n"
   ]
  },
  {
   "cell_type": "code",
   "execution_count": 47,
   "metadata": {},
   "outputs": [],
   "source": [
    "df[\"nb_tokens_motivation\"] = df[\"sens_token\"].map(len)"
   ]
  },
  {
   "cell_type": "code",
   "execution_count": 48,
   "metadata": {},
   "outputs": [
    {
     "data": {
      "text/plain": [
       "count    38271.000000\n",
       "mean         4.047373\n",
       "std          3.886343\n",
       "min          1.000000\n",
       "25%          1.000000\n",
       "50%          3.000000\n",
       "75%          5.000000\n",
       "max         49.000000\n",
       "Name: nb_tokens_motivation, dtype: float64"
      ]
     },
     "execution_count": 48,
     "metadata": {},
     "output_type": "execute_result"
    }
   ],
   "source": [
    "df[\"nb_tokens_motivation\"].describe()"
   ]
  },
  {
   "cell_type": "code",
   "execution_count": 49,
   "metadata": {},
   "outputs": [],
   "source": [
    "# on cherche les tokens les plus représentés: \n",
    "from sklearn.feature_extraction.text import CountVectorizer"
   ]
  },
  {
   "cell_type": "code",
   "execution_count": 50,
   "metadata": {},
   "outputs": [
    {
     "data": {
      "text/plain": [
       "CountVectorizer(analyzer='word', binary=False, decode_error='strict',\n",
       "                dtype=<class 'numpy.int64'>, encoding='utf-8', input='content',\n",
       "                lowercase=True, max_df=1.0, max_features=None, min_df=1,\n",
       "                ngram_range=(1, 1), preprocessor=None, stop_words=None,\n",
       "                strip_accents=None, token_pattern='(?u)\\\\b\\\\w\\\\w+\\\\b',\n",
       "                tokenizer=None, vocabulary=None)"
      ]
     },
     "execution_count": 50,
     "metadata": {},
     "output_type": "execute_result"
    }
   ],
   "source": [
    "vect = CountVectorizer()\n",
    "vect.fit(df[\"Sens et motivation\"])"
   ]
  },
  {
   "cell_type": "code",
   "execution_count": 51,
   "metadata": {},
   "outputs": [
    {
     "name": "stdout",
     "output_type": "stream",
     "text": [
      "Vocabulary size: 101\n",
      "Vocabulary content:\n",
      " {'défavorable': 31, 'défense': 32, 'irrecevable': 51, 'imprécise': 44, 'incompétence': 47, 'renseignement': 83, 'procédure': 73, 'sans': 86, 'objet': 65, 'sécurité': 92, 'publique': 81, 'favorable': 41, 'sauf': 87, 'préparatoire': 79, 'secret': 88, 'abusive': 1, 'vie': 97, 'privée': 72, 'commercial': 15, 'industriel': 48, 'judiciaire': 52, 'cnil': 14, 'loi': 57, 'spéciale': 91, 'mandat': 61, 'juridictionnel': 53, 'inexistant': 49, 'déliberation': 33, 'communiqué': 17, 'diplomatie': 25, 'privé': 71, 'refus': 82, 'non': 64, 'établi': 99, 'abonnement': 0, 'motivation': 63, 'inachevé': 45, 'appréciation': 3, 'comportement': 18, 'établissement': 100, 'de': 21, 'document': 27, 'si': 90, 'vous': 98, 'produisez': 74, 'un': 95, 'la': 55, 'personne': 69, 'concernée': 20, 'mal': 60, 'dirigée': 26, 'délibération': 34, 'hors': 43, 'champ': 13, 'détruit': 36, 'fiscal': 42, 'douanier': 30, 'avis': 10, 'ce': 12, 'archives': 4, 'préalable': 77, 'article': 5, 'auto': 8, 'pub': 80, 'communication': 16, 'entre': 38, 'services': 89, 'perdu': 68, 'documentation': 28, 'par': 67, 'autorité': 9, 'compétente': 19, 'laquelle': 56, 'auriez': 7, 'dû': 37, 'transmettre': 94, 'diffusion': 24, 'représentant': 84, 'légal': 58, 'demandé': 22, 'mineur': 62, 'ou': 66, 'majeur': 59, 'incapable': 46, 'révision': 85, 'prématurée': 78, 'tardive': 93, 'l311': 54, 'articles': 6, 'et': 40, 'usage': 96, 'dérogation': 35, 'propriété': 75, 'intellectuelle': 50, 'des': 23, 'affaires': 2, 'environnement': 39, 'données': 29, 'caractère': 11, 'personnel': 70, 'protocole': 76}\n"
     ]
    }
   ],
   "source": [
    "print(\"Vocabulary size: {}\".format(len(vect.vocabulary_)))\n",
    "print(\"Vocabulary content:\\n {}\".format(vect.vocabulary_))\n",
    "dict_vocabulary = vect.vocabulary_"
   ]
  },
  {
   "cell_type": "code",
   "execution_count": 83,
   "metadata": {},
   "outputs": [],
   "source": [
    "def sens_categorie(x): \n",
    "    if \"défavorable\" in x: \n",
    "        return \"defavorable\"\n",
    "    elif \"favorable\" in x: \n",
    "        return \"favorable\"\n",
    "    elif \"incompétence\" in x: \n",
    "        return \"incompetence\"\n",
    "    elif \"irrecevable\" in x: \n",
    "        return \"incompetence\"\n",
    "    elif (\"sans\" in x) and (\"objet\" in x):\n",
    "        return \"sans_objet\"\n",
    "    else: \n",
    "        return \"autre\"\n",
    "    \n",
    "df[\"sens_categorie\"] = df[\"sens_token\"].map(sens_categorie)"
   ]
  },
  {
   "cell_type": "code",
   "execution_count": 137,
   "metadata": {},
   "outputs": [
    {
     "data": {
      "text/plain": [
       "favorable       22739\n",
       "sans_objet       7128\n",
       "defavorable      5055\n",
       "incompetence     3349\n",
       "Name: sens_categorie, dtype: int64"
      ]
     },
     "execution_count": 137,
     "metadata": {},
     "output_type": "execute_result"
    }
   ],
   "source": [
    "df[\"sens_categorie\"].value_counts()"
   ]
  },
  {
   "cell_type": "code",
   "execution_count": null,
   "metadata": {},
   "outputs": [],
   "source": [
    "# model prediction using \n",
    "# - term frequency matrix from text of avis\n",
    "# - tf-idf from the text of avis"
   ]
  },
  {
   "cell_type": "code",
   "execution_count": 117,
   "metadata": {},
   "outputs": [],
   "source": [
    "from sklearn.model_selection import train_test_split\n",
    "from sklearn.feature_extraction.text import CountVectorizer, TfidfVectorizer"
   ]
  },
  {
   "cell_type": "code",
   "execution_count": 99,
   "metadata": {},
   "outputs": [],
   "source": [
    "df[\"text\"] = df[\"avis_word_token\"].map(lambda x: \" \".join(x))"
   ]
  },
  {
   "cell_type": "code",
   "execution_count": 100,
   "metadata": {},
   "outputs": [],
   "source": [
    "# split train / test data \n",
    "text_train, text_test, y_train, y_test = train_test_split(df[\"text\"], df[\"sens_categorie\"], test_size = 0.2, random_state = 42)\n"
   ]
  },
  {
   "cell_type": "code",
   "execution_count": null,
   "metadata": {},
   "outputs": [],
   "source": [
    "# First : tf matrix "
   ]
  },
  {
   "cell_type": "code",
   "execution_count": 108,
   "metadata": {},
   "outputs": [
    {
     "name": "stdout",
     "output_type": "stream",
     "text": [
      "X_train:\n",
      "<30616x8972 sparse matrix of type '<class 'numpy.int64'>'\n",
      "\twith 3622222 stored elements in Compressed Sparse Row format>\n"
     ]
    }
   ],
   "source": [
    "vect = CountVectorizer(min_df = 10).fit(text_train)\n",
    "X_train = vect.transform(text_train)\n",
    "print(\"X_train:\\n{}\".format(repr(X_train)))"
   ]
  },
  {
   "cell_type": "code",
   "execution_count": 110,
   "metadata": {},
   "outputs": [
    {
     "name": "stdout",
     "output_type": "stream",
     "text": [
      "Number of features: 8972\n",
      "First 20 features:\n",
      "['aa', 'aadecaa', 'ab', 'abandon', 'abandonné', 'abandonnée', 'abandonnés', 'abattage', 'abbaye', 'abbé', 'abf', 'abidjan', 'abonnement', 'abonnements', 'abonné', 'abonnés', 'abord', 'abords', 'abouti', 'aboutir']\n",
      "Every 2000th feature:\n",
      "['aa', 'conteste', 'images', 'pluvial', 'susmentionnés']\n"
     ]
    }
   ],
   "source": [
    "feature_names = vect.get_feature_names()\n",
    "print(\"Number of features: {}\".format(len(feature_names)))\n",
    "print(\"First 20 features:\\n{}\".format(feature_names[:20]))\n",
    "print(\"Every 2000th feature:\\n{}\".format(feature_names[::2000]))"
   ]
  },
  {
   "cell_type": "code",
   "execution_count": 111,
   "metadata": {},
   "outputs": [
    {
     "name": "stdout",
     "output_type": "stream",
     "text": [
      "Mean cross-validation accuracy: 0.77\n"
     ]
    }
   ],
   "source": [
    "from sklearn.model_selection import cross_val_score\n",
    "from sklearn.linear_model import LogisticRegression\n",
    "from sklearn.naive_bayes import MultinomialNB\n",
    "scores = cross_val_score(MultinomialNB(), X_train, y_train, cv=5)\n",
    "print(\"Mean cross-validation accuracy: {:.2f}\".format(np.mean(scores)))"
   ]
  },
  {
   "cell_type": "code",
   "execution_count": 115,
   "metadata": {},
   "outputs": [
    {
     "name": "stdout",
     "output_type": "stream",
     "text": [
      "Best cross-validation score: 0.80\n",
      "Best parameters:  {'alpha': 20}\n"
     ]
    }
   ],
   "source": [
    "from sklearn.model_selection import GridSearchCV\n",
    "param_grid = {'alpha': [0.001, 0.01, 0.1, 1, 10, 12, 14, 16, 20, 30, 40]}\n",
    "grid = GridSearchCV(MultinomialNB(), param_grid, cv=5)\n",
    "grid.fit(X_train, y_train)\n",
    "print(\"Best cross-validation score: {:.2f}\".format(grid.best_score_))\n",
    "print(\"Best parameters: \", grid.best_params_)\n",
    "\n"
   ]
  },
  {
   "cell_type": "code",
   "execution_count": 116,
   "metadata": {},
   "outputs": [
    {
     "name": "stdout",
     "output_type": "stream",
     "text": [
      "Test score: 0.81\n"
     ]
    }
   ],
   "source": [
    "X_test = vect.transform(text_test)\n",
    "print(\"Test score: {:.2f}\".format(grid.score(X_test, y_test)))"
   ]
  },
  {
   "cell_type": "code",
   "execution_count": null,
   "metadata": {},
   "outputs": [],
   "source": [
    "# Second : tf-idfmatrix "
   ]
  },
  {
   "cell_type": "code",
   "execution_count": 132,
   "metadata": {},
   "outputs": [
    {
     "name": "stdout",
     "output_type": "stream",
     "text": [
      "X_train:\n",
      "<30616x7478 sparse matrix of type '<class 'numpy.float64'>'\n",
      "\twith 3604683 stored elements in Compressed Sparse Row format>\n"
     ]
    }
   ],
   "source": [
    "vect = TfidfVectorizer(min_df = 15).fit(text_train)\n",
    "X_train = vect.transform(text_train)\n",
    "print(\"X_train:\\n{}\".format(repr(X_train)))"
   ]
  },
  {
   "cell_type": "code",
   "execution_count": 133,
   "metadata": {},
   "outputs": [
    {
     "name": "stdout",
     "output_type": "stream",
     "text": [
      "Number of features: 7478\n",
      "First 20 features:\n",
      "['aadecaa', 'ab', 'abandon', 'abandonné', 'abandonnée', 'abattage', 'abonnement', 'abonnés', 'abord', 'abords', 'abouti', 'aboutir', 'aboutissant', 'abri', 'abrogation', 'abrogeant', 'abrogé', 'absence', 'absences', 'absents']\n",
      "Every 2000th feature:\n",
      "['aadecaa', 'directive', 'lyon', 'règles']\n"
     ]
    }
   ],
   "source": [
    "feature_names = vect.get_feature_names()\n",
    "print(\"Number of features: {}\".format(len(feature_names)))\n",
    "print(\"First 20 features:\\n{}\".format(feature_names[:20]))\n",
    "print(\"Every 2000th feature:\\n{}\".format(feature_names[::2000]))"
   ]
  },
  {
   "cell_type": "code",
   "execution_count": 134,
   "metadata": {},
   "outputs": [
    {
     "name": "stdout",
     "output_type": "stream",
     "text": [
      "Mean cross-validation accuracy: 0.79\n"
     ]
    }
   ],
   "source": [
    "from sklearn.model_selection import cross_val_score\n",
    "from sklearn.linear_model import LogisticRegression\n",
    "from sklearn.naive_bayes import MultinomialNB\n",
    "scores = cross_val_score(MultinomialNB(), X_train, y_train, cv=5)\n",
    "print(\"Mean cross-validation accuracy: {:.2f}\".format(np.mean(scores)))"
   ]
  },
  {
   "cell_type": "code",
   "execution_count": 135,
   "metadata": {},
   "outputs": [
    {
     "name": "stdout",
     "output_type": "stream",
     "text": [
      "Best cross-validation score: 0.79\n",
      "Best parameters:  {'alpha': 0.8}\n"
     ]
    }
   ],
   "source": [
    "from sklearn.model_selection import GridSearchCV\n",
    "param_grid = {'alpha': [0.001, 0.01, 0.1, 0.2, 0.4, 0.5, 0.55, 0.6, 0.65, 0.7, 0.8, 1, 10, 12, 14, 16, 20, 30, 40]}\n",
    "grid = GridSearchCV(MultinomialNB(), param_grid, cv=5)\n",
    "grid.fit(X_train, y_train)\n",
    "print(\"Best cross-validation score: {:.2f}\".format(grid.best_score_))\n",
    "print(\"Best parameters: \", grid.best_params_)\n",
    "\n"
   ]
  },
  {
   "cell_type": "code",
   "execution_count": 136,
   "metadata": {},
   "outputs": [
    {
     "name": "stdout",
     "output_type": "stream",
     "text": [
      "Test score: 0.79\n"
     ]
    }
   ],
   "source": [
    "X_test = vect.transform(text_test)\n",
    "print(\"Test score: {:.2f}\".format(grid.score(X_test, y_test)))"
   ]
  },
  {
   "cell_type": "code",
   "execution_count": null,
   "metadata": {},
   "outputs": [],
   "source": []
  }
 ],
 "metadata": {
  "colab": {
   "authorship_tag": "ABX9TyNEL6x0Kfsdvmbf+E371X9g",
   "include_colab_link": true,
   "name": "ami_ia-NLP.ipynb",
   "provenance": []
  },
  "kernelspec": {
   "display_name": "Python 3",
   "language": "python",
   "name": "python3"
  },
  "language_info": {
   "codemirror_mode": {
    "name": "ipython",
    "version": 3
   },
   "file_extension": ".py",
   "mimetype": "text/x-python",
   "name": "python",
   "nbconvert_exporter": "python",
   "pygments_lexer": "ipython3",
   "version": "3.7.4"
  }
 },
 "nbformat": 4,
 "nbformat_minor": 1
}
