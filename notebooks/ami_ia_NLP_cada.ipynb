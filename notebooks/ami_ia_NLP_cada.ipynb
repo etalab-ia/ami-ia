{
 "cells": [
  {
   "cell_type": "markdown",
   "metadata": {
    "colab_type": "text",
    "id": "view-in-github"
   },
   "source": [
    "<a href=\"https://colab.research.google.com/github/etalab-ia/ami-ia/blob/master/notebooks/ami_ia_NLP.ipynb\" target=\"_parent\"><img src=\"https://colab.research.google.com/assets/colab-badge.svg\" alt=\"Open In Colab\"/></a>"
   ]
  },
  {
   "cell_type": "markdown",
   "metadata": {
    "colab_type": "text",
    "id": "MNBVSFaLObUS"
   },
   "source": [
    "# Notebook NLP\n",
    "\n",
    "Introduction au NLP avec l'example des avis rendus par la CADA (Comission d'Accès aux Documents Administratifs)\n",
    "L'objectif de ce notebook est présenter : \n",
    "- quelques étapes \"classiques\" dans la préparation de données textuelles avec le langage de programmation Python\n",
    "- un exemple d'analyse automatique à travers un modèle d'extraction de topics\n",
    "- un exemple de modèle prédictif à partir de données textuelles \n",
    "\n",
    "La page de data.gouv où l'on peut télécharger les données est ici: https://www.data.gouv.fr/fr/datasets/avis-et-conseils-de-la-cada/ . L'url de téléchargement des données utilisées ici est https://www.data.gouv.fr/fr/datasets/r/93aed7ce-db2f-4982-8127-340562061e4b . "
   ]
  },
  {
   "cell_type": "markdown",
   "metadata": {},
   "source": [
    "## Partie 0: Analyses simples du jeu de données "
   ]
  },
  {
   "cell_type": "markdown",
   "metadata": {},
   "source": [
    "importation des libraries utiles"
   ]
  },
  {
   "cell_type": "code",
   "execution_count": 147,
   "metadata": {
    "colab": {},
    "colab_type": "code",
    "id": "dC4ECExRSWdV"
   },
   "outputs": [],
   "source": [
    "# pour la manipulation de jeux de données \n",
    "import pandas as pd\n",
    "import numpy as np\n",
    "\n",
    "# commandes pour éliminer les warnings \n",
    "import warnings\n",
    "warnings.filterwarnings(\"ignore\")\n",
    "\n",
    "# pour la dataviz \n",
    "import matplotlib.pyplot as plt\n",
    "plt.style.use('fivethirtyeight')\n",
    "import matplotlib\n",
    "matplotlib.rcParams['axes.labelsize'] = 14\n",
    "matplotlib.rcParams['xtick.labelsize'] = 12\n",
    "matplotlib.rcParams['ytick.labelsize'] = 12\n",
    "matplotlib.rcParams['text.color'] = 'k'"
   ]
  },
  {
   "cell_type": "markdown",
   "metadata": {},
   "source": [
    "Plusieurs possibilités pour lire le jeu de données: \n",
    "- (Google Collab) utiliser la fonctionnalité de lecture des fichiers locaux dans Google Collab -> 1ère option\n",
    "- (hors google collab) le télécharger en local et le lire en pointant vers le chemin d'accès en local -> 2ème option \n",
    "- (avec ou sans Google Collab) : lire le fichier directement depuis l'url de téléchargement -> 3ème option "
   ]
  },
  {
   "cell_type": "code",
   "execution_count": 13,
   "metadata": {
    "colab": {
     "base_uri": "https://localhost:8080/",
     "height": 89,
     "resources": {
      "http://localhost:8080/nbextensions/google.colab/files.js": {
       "data": "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",
       "headers": [
        [
         "content-type",
         "application/javascript"
        ]
       ],
       "ok": true,
       "status": 200,
       "status_text": "OK"
      }
     }
    },
    "colab_type": "code",
    "id": "qsizPgbDOg3k",
    "outputId": "24441be5-459d-4a69-a57d-4970fd8fc3ef"
   },
   "outputs": [],
   "source": [
    "# 1ère option \n",
    "# importer un fichier depuis votre ordinateur local depuis Google Collab \n",
    "\n",
    "#from google.colab import files\n",
    "#uploaded = files.upload()\n",
    "#for fn in uploaded.keys():\n",
    "#  print('User uploaded file \"{name}\" with length {length} bytes'.format(\n",
    "#      name=fn, length=len(uploaded[fn])))"
   ]
  },
  {
   "cell_type": "code",
   "execution_count": 153,
   "metadata": {
    "colab": {},
    "colab_type": "code",
    "id": "Gog_D9PYOlS3"
   },
   "outputs": [],
   "source": [
    "# lire le jeu de données en un objet \"pandas dataframe\"\n",
    "\n",
    "# 2ème option \n",
    "path = '/Users/kimmontalibet/Desktop/datagouv/'\n",
    "df = pd.read_csv(path + \"cada-2020-05-12.csv\", sep = \",\", header = 0)\n",
    "\n",
    "# 3ème option \n",
    "#df = pd.read_csv(\"https://www.data.gouv.fr/fr/datasets/r/93aed7ce-db2f-4982-8127-340562061e4b\", sep = \",\", header = 0)"
   ]
  },
  {
   "cell_type": "markdown",
   "metadata": {},
   "source": [
    "Quel est le nombre de lignes et le nombre de colonnes de mon jeu de données ? "
   ]
  },
  {
   "cell_type": "code",
   "execution_count": 154,
   "metadata": {},
   "outputs": [
    {
     "data": {
      "text/plain": [
       "(38287, 11)"
      ]
     },
     "execution_count": 154,
     "metadata": {},
     "output_type": "execute_result"
    }
   ],
   "source": [
    "df.shape"
   ]
  },
  {
   "cell_type": "markdown",
   "metadata": {},
   "source": [
    "Quels sont les types des colonnes mon jeu de données? "
   ]
  },
  {
   "cell_type": "code",
   "execution_count": 155,
   "metadata": {},
   "outputs": [
    {
     "data": {
      "text/plain": [
       "Numéro de dossier       int64\n",
       "Administration         object\n",
       "Type                   object\n",
       "Année                   int64\n",
       "Séance                 object\n",
       "Objet                  object\n",
       "Thème et sous thème    object\n",
       "Mots clés              object\n",
       "Sens et motivation     object\n",
       "Partie                 object\n",
       "Avis                   object\n",
       "dtype: object"
      ]
     },
     "execution_count": 155,
     "metadata": {},
     "output_type": "execute_result"
    }
   ],
   "source": [
    "df.dtypes"
   ]
  },
  {
   "cell_type": "markdown",
   "metadata": {},
   "source": [
    "A quoi ressemble mon jeu de données ? "
   ]
  },
  {
   "cell_type": "code",
   "execution_count": 156,
   "metadata": {},
   "outputs": [
    {
     "data": {
      "text/html": [
       "<div>\n",
       "<style scoped>\n",
       "    .dataframe tbody tr th:only-of-type {\n",
       "        vertical-align: middle;\n",
       "    }\n",
       "\n",
       "    .dataframe tbody tr th {\n",
       "        vertical-align: top;\n",
       "    }\n",
       "\n",
       "    .dataframe thead th {\n",
       "        text-align: right;\n",
       "    }\n",
       "</style>\n",
       "<table border=\"1\" class=\"dataframe\">\n",
       "  <thead>\n",
       "    <tr style=\"text-align: right;\">\n",
       "      <th></th>\n",
       "      <th>Numéro de dossier</th>\n",
       "      <th>Administration</th>\n",
       "      <th>Type</th>\n",
       "      <th>Année</th>\n",
       "      <th>Séance</th>\n",
       "      <th>Objet</th>\n",
       "      <th>Thème et sous thème</th>\n",
       "      <th>Mots clés</th>\n",
       "      <th>Sens et motivation</th>\n",
       "      <th>Partie</th>\n",
       "      <th>Avis</th>\n",
       "    </tr>\n",
       "  </thead>\n",
       "  <tbody>\n",
       "    <tr>\n",
       "      <td>0</td>\n",
       "      <td>19840002</td>\n",
       "      <td>ministre de la défense</td>\n",
       "      <td>Avis</td>\n",
       "      <td>1984</td>\n",
       "      <td>03/03/1984</td>\n",
       "      <td>[Voir avis]</td>\n",
       "      <td>Justice, Ordre Public Et Sécurité/Défense Et D...</td>\n",
       "      <td>Armée</td>\n",
       "      <td>Défavorable/Défense</td>\n",
       "      <td>III</td>\n",
       "      <td>La commission d'accès aux documents administra...</td>\n",
       "    </tr>\n",
       "    <tr>\n",
       "      <td>1</td>\n",
       "      <td>19840003</td>\n",
       "      <td>ministre de la défense</td>\n",
       "      <td>Avis</td>\n",
       "      <td>1984</td>\n",
       "      <td>13/12/1984</td>\n",
       "      <td>[Voir avis]</td>\n",
       "      <td>Economie, Industrie, Agriculture/Secteurs Écon...</td>\n",
       "      <td>Armée</td>\n",
       "      <td>Irrecevable/Imprécise, Défavorable/Défense, In...</td>\n",
       "      <td>III</td>\n",
       "      <td>La commission d'accès aux documents administra...</td>\n",
       "    </tr>\n",
       "    <tr>\n",
       "      <td>2</td>\n",
       "      <td>19850001</td>\n",
       "      <td>ministre de l'économie, des finances et du budget</td>\n",
       "      <td>Avis</td>\n",
       "      <td>1985</td>\n",
       "      <td>05/12/1985</td>\n",
       "      <td>[Voir avis]</td>\n",
       "      <td>Justice, Ordre Public Et Sécurité/Association,...</td>\n",
       "      <td>NaN</td>\n",
       "      <td>Défavorable</td>\n",
       "      <td>III</td>\n",
       "      <td>La commission d'accès aux documents administra...</td>\n",
       "    </tr>\n",
       "    <tr>\n",
       "      <td>3</td>\n",
       "      <td>19860001</td>\n",
       "      <td>directeur départemental du travail et de l'emp...</td>\n",
       "      <td>Conseil</td>\n",
       "      <td>1986</td>\n",
       "      <td>30/01/1986</td>\n",
       "      <td>(voir avis)</td>\n",
       "      <td>Travail Et Emploi/Droit Du Travail</td>\n",
       "      <td>Licenciement, Conditions de travail</td>\n",
       "      <td>Défavorable/Procédure, Sans objet</td>\n",
       "      <td>III</td>\n",
       "      <td>La commission d'accès aux documents administra...</td>\n",
       "    </tr>\n",
       "    <tr>\n",
       "      <td>4</td>\n",
       "      <td>19870061</td>\n",
       "      <td>gouverneur de la Banque de France</td>\n",
       "      <td>Avis</td>\n",
       "      <td>1987</td>\n",
       "      <td>02/04/1987</td>\n",
       "      <td>[Voir avis]</td>\n",
       "      <td>Economie, Industrie, Agriculture/Secteurs Écon...</td>\n",
       "      <td>Banques et assurances</td>\n",
       "      <td>Défavorable/Sécurité publique, Favorable/Sauf ...</td>\n",
       "      <td>III</td>\n",
       "      <td>La commission d'accès aux documents administra...</td>\n",
       "    </tr>\n",
       "  </tbody>\n",
       "</table>\n",
       "</div>"
      ],
      "text/plain": [
       "   Numéro de dossier                                     Administration  \\\n",
       "0           19840002                             ministre de la défense   \n",
       "1           19840003                             ministre de la défense   \n",
       "2           19850001  ministre de l'économie, des finances et du budget   \n",
       "3           19860001  directeur départemental du travail et de l'emp...   \n",
       "4           19870061                  gouverneur de la Banque de France   \n",
       "\n",
       "      Type  Année      Séance        Objet  \\\n",
       "0     Avis   1984  03/03/1984  [Voir avis]   \n",
       "1     Avis   1984  13/12/1984  [Voir avis]   \n",
       "2     Avis   1985  05/12/1985  [Voir avis]   \n",
       "3  Conseil   1986  30/01/1986  (voir avis)   \n",
       "4     Avis   1987  02/04/1987  [Voir avis]   \n",
       "\n",
       "                                 Thème et sous thème  \\\n",
       "0  Justice, Ordre Public Et Sécurité/Défense Et D...   \n",
       "1  Economie, Industrie, Agriculture/Secteurs Écon...   \n",
       "2  Justice, Ordre Public Et Sécurité/Association,...   \n",
       "3                 Travail Et Emploi/Droit Du Travail   \n",
       "4  Economie, Industrie, Agriculture/Secteurs Écon...   \n",
       "\n",
       "                             Mots clés  \\\n",
       "0                                Armée   \n",
       "1                                Armée   \n",
       "2                                  NaN   \n",
       "3  Licenciement, Conditions de travail   \n",
       "4                Banques et assurances   \n",
       "\n",
       "                                  Sens et motivation Partie  \\\n",
       "0                                Défavorable/Défense    III   \n",
       "1  Irrecevable/Imprécise, Défavorable/Défense, In...    III   \n",
       "2                                        Défavorable    III   \n",
       "3                  Défavorable/Procédure, Sans objet    III   \n",
       "4  Défavorable/Sécurité publique, Favorable/Sauf ...    III   \n",
       "\n",
       "                                                Avis  \n",
       "0  La commission d'accès aux documents administra...  \n",
       "1  La commission d'accès aux documents administra...  \n",
       "2  La commission d'accès aux documents administra...  \n",
       "3  La commission d'accès aux documents administra...  \n",
       "4  La commission d'accès aux documents administra...  "
      ]
     },
     "execution_count": 156,
     "metadata": {},
     "output_type": "execute_result"
    }
   ],
   "source": [
    "df.head()"
   ]
  },
  {
   "cell_type": "markdown",
   "metadata": {},
   "source": [
    "On regarde les variables catégorielles: \n",
    "- combien de valeurs remplies (count), \n",
    "- combien de valeurs uniques / modalités (unique), \n",
    "- quelle est la modalité la plus représentée (top), \n",
    "- quelle est le nombre de fois où apparait la modalité la plus représentée (freq)"
   ]
  },
  {
   "cell_type": "code",
   "execution_count": 20,
   "metadata": {},
   "outputs": [
    {
     "data": {
      "text/html": [
       "<div>\n",
       "<style scoped>\n",
       "    .dataframe tbody tr th:only-of-type {\n",
       "        vertical-align: middle;\n",
       "    }\n",
       "\n",
       "    .dataframe tbody tr th {\n",
       "        vertical-align: top;\n",
       "    }\n",
       "\n",
       "    .dataframe thead th {\n",
       "        text-align: right;\n",
       "    }\n",
       "</style>\n",
       "<table border=\"1\" class=\"dataframe\">\n",
       "  <thead>\n",
       "    <tr style=\"text-align: right;\">\n",
       "      <th></th>\n",
       "      <th>Administration</th>\n",
       "      <th>Type</th>\n",
       "      <th>Séance</th>\n",
       "      <th>Objet</th>\n",
       "      <th>Thème et sous thème</th>\n",
       "      <th>Mots clés</th>\n",
       "      <th>Sens et motivation</th>\n",
       "      <th>Partie</th>\n",
       "      <th>Avis</th>\n",
       "    </tr>\n",
       "  </thead>\n",
       "  <tbody>\n",
       "    <tr>\n",
       "      <td>count</td>\n",
       "      <td>38286</td>\n",
       "      <td>38287</td>\n",
       "      <td>38287</td>\n",
       "      <td>38270</td>\n",
       "      <td>38206</td>\n",
       "      <td>33125</td>\n",
       "      <td>38271</td>\n",
       "      <td>36059</td>\n",
       "      <td>38286</td>\n",
       "    </tr>\n",
       "    <tr>\n",
       "      <td>unique</td>\n",
       "      <td>12850</td>\n",
       "      <td>3</td>\n",
       "      <td>569</td>\n",
       "      <td>35334</td>\n",
       "      <td>828</td>\n",
       "      <td>3615</td>\n",
       "      <td>3094</td>\n",
       "      <td>4</td>\n",
       "      <td>37519</td>\n",
       "    </tr>\n",
       "    <tr>\n",
       "      <td>top</td>\n",
       "      <td>Direction générale des finances publiques (DGFIP)</td>\n",
       "      <td>Avis</td>\n",
       "      <td>31/12/2017</td>\n",
       "      <td>Communication, par envoi postal ou par courrie...</td>\n",
       "      <td>Travail Et Emploi / Emploi Public</td>\n",
       "      <td>Marché public</td>\n",
       "      <td>Favorable</td>\n",
       "      <td>III</td>\n",
       "      <td>Monsieur X, pour l’association Regards citoyen...</td>\n",
       "    </tr>\n",
       "    <tr>\n",
       "      <td>freq</td>\n",
       "      <td>1255</td>\n",
       "      <td>35562</td>\n",
       "      <td>1450</td>\n",
       "      <td>556</td>\n",
       "      <td>3025</td>\n",
       "      <td>1838</td>\n",
       "      <td>11407</td>\n",
       "      <td>31429</td>\n",
       "      <td>132</td>\n",
       "    </tr>\n",
       "  </tbody>\n",
       "</table>\n",
       "</div>"
      ],
      "text/plain": [
       "                                           Administration   Type      Séance  \\\n",
       "count                                               38286  38287       38287   \n",
       "unique                                              12850      3         569   \n",
       "top     Direction générale des finances publiques (DGFIP)   Avis  31/12/2017   \n",
       "freq                                                 1255  35562        1450   \n",
       "\n",
       "                                                    Objet  \\\n",
       "count                                               38270   \n",
       "unique                                              35334   \n",
       "top     Communication, par envoi postal ou par courrie...   \n",
       "freq                                                  556   \n",
       "\n",
       "                      Thème et sous thème      Mots clés Sens et motivation  \\\n",
       "count                               38206          33125              38271   \n",
       "unique                                828           3615               3094   \n",
       "top     Travail Et Emploi / Emploi Public  Marché public          Favorable   \n",
       "freq                                 3025           1838              11407   \n",
       "\n",
       "       Partie                                               Avis  \n",
       "count   36059                                              38286  \n",
       "unique      4                                              37519  \n",
       "top       III  Monsieur X, pour l’association Regards citoyen...  \n",
       "freq    31429                                                132  "
      ]
     },
     "execution_count": 20,
     "metadata": {},
     "output_type": "execute_result"
    }
   ],
   "source": [
    "df.describe(include = np.object)"
   ]
  },
  {
   "cell_type": "markdown",
   "metadata": {},
   "source": [
    "### Visualisation du nombre d'avis par année"
   ]
  },
  {
   "cell_type": "markdown",
   "metadata": {},
   "source": [
    "on crée une dataframe avec une ligne par année, la colonne count donne le nombre d'avis par année \n"
   ]
  },
  {
   "cell_type": "code",
   "execution_count": 163,
   "metadata": {},
   "outputs": [],
   "source": [
    "df[\"count\"] = 1\n",
    "dfg = df.groupby(\"Année\").agg(\"sum\").reset_index()"
   ]
  },
  {
   "cell_type": "code",
   "execution_count": 164,
   "metadata": {},
   "outputs": [
    {
     "data": {
      "text/plain": [
       "Text(0.5, 1.0, \"Nombre d'avis CADA par année\")"
      ]
     },
     "execution_count": 164,
     "metadata": {},
     "output_type": "execute_result"
    },
    {
     "data": {
      "image/png": "[encoded data removed]",
      "text/plain": [
       "<Figure size 1440x576 with 1 Axes>"
      ]
     },
     "metadata": {},
     "output_type": "display_data"
    }
   ],
   "source": [
    "plt.figure(figsize=(20, 8))\n",
    "plt.plot(dfg['Année'], dfg['count'], 'b-')\n",
    "plt.xlabel('Année'); plt.ylabel(\"Nombre d'avis\"); plt.title(\"Nombre d'avis CADA par année\")"
   ]
  },
  {
   "cell_type": "markdown",
   "metadata": {},
   "source": [
    "On remarque qu'il y a très peu d'avais avant 2012, et donc que la majorité des avis sont pour la période 2012-2020\n",
    "Commbien d'avis sont compris dans cette période 2012-2020? "
   ]
  },
  {
   "cell_type": "code",
   "execution_count": 165,
   "metadata": {},
   "outputs": [
    {
     "name": "stdout",
     "output_type": "stream",
     "text": [
      "Nombre d'avis dans 20012-2020 :  35024\n",
      "Proportion d'avis dans 20012-2020 :  0.9147752500848852\n"
     ]
    }
   ],
   "source": [
    "print(\"Nombre d'avis dans 20012-2020 :  {}\".format(len(df[df[\"Année\"].isin(range(2012, 2020))])))\n",
    "print(\"Proportion d'avis dans 20012-2020 :  {}\".format(len(df[df[\"Année\"].isin(range(2012, 2020))])/len(df)))"
   ]
  },
  {
   "cell_type": "code",
   "execution_count": 166,
   "metadata": {},
   "outputs": [
    {
     "data": {
      "text/plain": [
       "Text(0.5, 1.0, \"Nombre d'avis CADA par année - Période 2012-2020\")"
      ]
     },
     "execution_count": 166,
     "metadata": {},
     "output_type": "execute_result"
    },
    {
     "data": {
      "image/png": "[encoded data removed]",
      "text/plain": [
       "<Figure size 1440x576 with 1 Axes>"
      ]
     },
     "metadata": {},
     "output_type": "display_data"
    }
   ],
   "source": [
    "plt.figure(figsize=(20, 8))\n",
    "plt.plot(dfg[dfg[\"Année\"].isin(range(2012, 2020))]['Année'], dfg[dfg[\"Année\"].isin(range(2012, 2020))]['count'], 'b-')\n",
    "\n",
    "plt.xlabel('Année'); plt.ylabel(\"Nombre d'avis\"); plt.title(\"Nombre d'avis CADA par année - Période 2012-2020\")"
   ]
  },
  {
   "cell_type": "code",
   "execution_count": null,
   "metadata": {},
   "outputs": [],
   "source": []
  },
  {
   "cell_type": "markdown",
   "metadata": {},
   "source": [
    "# Partie 1 : manipulations de données textuelles basiques\n"
   ]
  },
  {
   "cell_type": "markdown",
   "metadata": {},
   "source": [
    "importation des librairies NLP "
   ]
  },
  {
   "cell_type": "code",
   "execution_count": 23,
   "metadata": {},
   "outputs": [
    {
     "name": "stderr",
     "output_type": "stream",
     "text": [
      "[nltk_data] Downloading package punkt to\n",
      "[nltk_data]     /Users/kimmontalibet/nltk_data...\n",
      "[nltk_data]   Package punkt is already up-to-date!\n"
     ]
    }
   ],
   "source": [
    "import nltk\n",
    "nltk.download('punkt')\n",
    "from nltk.tokenize import sent_tokenize, word_tokenize"
   ]
  },
  {
   "cell_type": "markdown",
   "metadata": {},
   "source": [
    "on étudie ici les textes des avis, \n",
    "on supprime les lignes pour lesquelles l'avis n'est pas renseigné"
   ]
  },
  {
   "cell_type": "code",
   "execution_count": 168,
   "metadata": {},
   "outputs": [
    {
     "name": "stdout",
     "output_type": "stream",
     "text": [
      "(38286, 12)\n"
     ]
    }
   ],
   "source": [
    "df = df.dropna(subset = [\"Avis\"]) \n",
    "print(df.shape)"
   ]
  },
  {
   "cell_type": "markdown",
   "metadata": {},
   "source": [
    "### Tokenization \n",
    "Chaque avis (dans la colonne \"Avis\") est une chaîne de caractères, il faut donc lui appliquer un certain nombre d'opération afin de pouvoir la traiter algorithmiquement. Une première étape, la tokenization, consiste en découper la chaine de caractères en \"tokens\". Pour cela, on utilise des fonctions prédéfinies de la librairies NLTK. \n",
    "Il existe plusieurs métodes de tokenization, et le choix de la méthode va dépendre de l'objectif de l'étude. \n",
    "Les métodes les plus classques sont: \n",
    "- la tokenisation en phrases (sentence tokenization en anglais)\n",
    "- la tokenisation en mots (word tokenization en anglais)\n",
    "On crée ici deux nouvelles colonnes, correspondant à ces deux modes de tokenization \n"
   ]
  },
  {
   "cell_type": "code",
   "execution_count": 256,
   "metadata": {},
   "outputs": [],
   "source": [
    "df[\"avis_sent_token\"] = df[\"Avis\"].map(sent_tokenize)\n",
    "df[\"avis_word_token\"] = df[\"Avis\"].map(lambda x : word_tokenize(x.replace(\"'\", \" \"))) # on remplace les appostrophes par un espaces\n",
    "# car la tokenization avec la fonction \"word_tokenize\" de nltk ne les sépare pas autrement "
   ]
  },
  {
   "cell_type": "markdown",
   "metadata": {},
   "source": [
    "on regarde ce que ça donne : "
   ]
  },
  {
   "cell_type": "code",
   "execution_count": 257,
   "metadata": {},
   "outputs": [
    {
     "name": "stdout",
     "output_type": "stream",
     "text": [
      "Texte initial de l'avis\n",
      "La commission d'accès aux documents administratifs a examiné dans sa séance du 13 décembre 1984 la demande dont vous l'avez saisie par lettre du 31 octobre 1984.\n",
      "\n",
      "La commission a estimé que la communication des analyses des rejets provenant du Centre d'Etude du Bouchet à Vert-le-Petit pourrait permettre la divulgation des activités du Centre et des procédures techniques employées et serait par là de nature à porter atteinte au secret de la défense nationale. Il en va de même des « plans de secours », qui sont indissociables des activités pratiquées au Centre.\n",
      "\n",
      "En conséquence, et en application des dispositions de l'article 6 de le loi du 17 juillet 1978, la commission a rendu un avis défavorable sur ces deux points de votre demande.\n",
      "\n",
      "Sur les autres points, celle-ci a été rejetée comme irrecevable ; elle est en effet formulée en termes trop généraux et constitue plus une demande de renseignement qu'une demande d'un document administratif précis.\n",
      "\n",
      "\n",
      "Texte tokenizé en phrases\n",
      "Nombre de phrases : 5\n",
      "[\"La commission d'accès aux documents administratifs a examiné dans sa séance du 13 décembre 1984 la demande dont vous l'avez saisie par lettre du 31 octobre 1984.\", \"La commission a estimé que la communication des analyses des rejets provenant du Centre d'Etude du Bouchet à Vert-le-Petit pourrait permettre la divulgation des activités du Centre et des procédures techniques employées et serait par là de nature à porter atteinte au secret de la défense nationale.\", 'Il en va de même des « plans de secours », qui sont indissociables des activités pratiquées au Centre.', \"En conséquence, et en application des dispositions de l'article 6 de le loi du 17 juillet 1978, la commission a rendu un avis défavorable sur ces deux points de votre demande.\", \"Sur les autres points, celle-ci a été rejetée comme irrecevable ; elle est en effet formulée en termes trop généraux et constitue plus une demande de renseignement qu'une demande d'un document administratif précis.\"]\n",
      "\n",
      "\n",
      "Texte tokenizé en mots\n",
      "Nombre de mots : 172\n",
      "['La', 'commission', 'd', 'accès', 'aux', 'documents', 'administratifs', 'a', 'examiné', 'dans', 'sa', 'séance', 'du', '13', 'décembre', '1984', 'la', 'demande', 'dont', 'vous', 'l', 'avez', 'saisie', 'par', 'lettre', 'du', '31', 'octobre', '1984', '.', 'La', 'commission', 'a', 'estimé', 'que', 'la', 'communication', 'des', 'analyses', 'des', 'rejets', 'provenant', 'du', 'Centre', 'd', 'Etude', 'du', 'Bouchet', 'à', 'Vert-le-Petit', 'pourrait', 'permettre', 'la', 'divulgation', 'des', 'activités', 'du', 'Centre', 'et', 'des', 'procédures', 'techniques', 'employées', 'et', 'serait', 'par', 'là', 'de', 'nature', 'à', 'porter', 'atteinte', 'au', 'secret', 'de', 'la', 'défense', 'nationale', '.', 'Il', 'en', 'va', 'de', 'même', 'des', '«', 'plans', 'de', 'secours', '»', ',', 'qui', 'sont', 'indissociables', 'des', 'activités', 'pratiquées', 'au', 'Centre', '.', 'En', 'conséquence', ',', 'et', 'en', 'application', 'des', 'dispositions', 'de', 'l', 'article', '6', 'de', 'le', 'loi', 'du', '17', 'juillet', '1978', ',', 'la', 'commission', 'a', 'rendu', 'un', 'avis', 'défavorable', 'sur', 'ces', 'deux', 'points', 'de', 'votre', 'demande', '.', 'Sur', 'les', 'autres', 'points', ',', 'celle-ci', 'a', 'été', 'rejetée', 'comme', 'irrecevable', ';', 'elle', 'est', 'en', 'effet', 'formulée', 'en', 'termes', 'trop', 'généraux', 'et', 'constitue', 'plus', 'une', 'demande', 'de', 'renseignement', 'qu', 'une', 'demande', 'd', 'un', 'document', 'administratif', 'précis', '.']\n"
     ]
    }
   ],
   "source": [
    "numero_ligne = 1 # changer le nombre afin de visualiser différentes lignes du jeu de données \n",
    "print(\"Texte initial de l'avis\")\n",
    "print(df.loc[numero_ligne, \"Avis\"])\n",
    "print(\"\\n\")\n",
    "print(\"Texte tokenizé en phrases\")\n",
    "print(\"Nombre de phrases : {}\".format(len(df.loc[numero_ligne, \"avis_sent_token\"])))\n",
    "print(df.loc[numero_ligne, \"avis_sent_token\"])\n",
    "print(\"\\n\")\n",
    "print(\"Texte tokenizé en mots\")\n",
    "print(\"Nombre de mots : {}\".format(len(df.loc[numero_ligne, \"avis_word_token\"])))\n",
    "\n",
    "print(df.loc[numero_ligne, \"avis_word_token\"])\n"
   ]
  },
  {
   "cell_type": "markdown",
   "metadata": {},
   "source": [
    "# on calcule des métriques simples : \n",
    "- le nombre de caractères par avis\n",
    "- le nombre de phrases par avis \n",
    "- le nombre de mots par avis"
   ]
  },
  {
   "cell_type": "code",
   "execution_count": 180,
   "metadata": {},
   "outputs": [],
   "source": [
    "df[\"nb_char\"] = df[\"Avis\"].map(len)\n",
    "df[\"nb_sent_token\"] = df[\"avis_sent_token\"].map(len)\n",
    "df[\"nb_word_token\"] = df[\"avis_word_token\"].map(len)"
   ]
  },
  {
   "cell_type": "markdown",
   "metadata": {},
   "source": [
    "on regarde la moyenne, l'écart type, les quartiles de ces métriques"
   ]
  },
  {
   "cell_type": "code",
   "execution_count": 181,
   "metadata": {},
   "outputs": [
    {
     "data": {
      "text/html": [
       "<div>\n",
       "<style scoped>\n",
       "    .dataframe tbody tr th:only-of-type {\n",
       "        vertical-align: middle;\n",
       "    }\n",
       "\n",
       "    .dataframe tbody tr th {\n",
       "        vertical-align: top;\n",
       "    }\n",
       "\n",
       "    .dataframe thead th {\n",
       "        text-align: right;\n",
       "    }\n",
       "</style>\n",
       "<table border=\"1\" class=\"dataframe\">\n",
       "  <thead>\n",
       "    <tr style=\"text-align: right;\">\n",
       "      <th></th>\n",
       "      <th>nb_char</th>\n",
       "      <th>nb_word_token</th>\n",
       "      <th>nb_sent_token</th>\n",
       "    </tr>\n",
       "  </thead>\n",
       "  <tbody>\n",
       "    <tr>\n",
       "      <td>count</td>\n",
       "      <td>38286.000000</td>\n",
       "      <td>38286.000000</td>\n",
       "      <td>38286.000000</td>\n",
       "    </tr>\n",
       "    <tr>\n",
       "      <td>mean</td>\n",
       "      <td>2334.749099</td>\n",
       "      <td>416.808886</td>\n",
       "      <td>7.162879</td>\n",
       "    </tr>\n",
       "    <tr>\n",
       "      <td>std</td>\n",
       "      <td>1844.640813</td>\n",
       "      <td>332.160084</td>\n",
       "      <td>5.424005</td>\n",
       "    </tr>\n",
       "    <tr>\n",
       "      <td>min</td>\n",
       "      <td>38.000000</td>\n",
       "      <td>6.000000</td>\n",
       "      <td>1.000000</td>\n",
       "    </tr>\n",
       "    <tr>\n",
       "      <td>25%</td>\n",
       "      <td>1048.000000</td>\n",
       "      <td>187.000000</td>\n",
       "      <td>4.000000</td>\n",
       "    </tr>\n",
       "    <tr>\n",
       "      <td>50%</td>\n",
       "      <td>1725.000000</td>\n",
       "      <td>305.000000</td>\n",
       "      <td>5.000000</td>\n",
       "    </tr>\n",
       "    <tr>\n",
       "      <td>75%</td>\n",
       "      <td>3036.750000</td>\n",
       "      <td>537.000000</td>\n",
       "      <td>9.000000</td>\n",
       "    </tr>\n",
       "    <tr>\n",
       "      <td>max</td>\n",
       "      <td>37462.000000</td>\n",
       "      <td>7041.000000</td>\n",
       "      <td>152.000000</td>\n",
       "    </tr>\n",
       "  </tbody>\n",
       "</table>\n",
       "</div>"
      ],
      "text/plain": [
       "            nb_char  nb_word_token  nb_sent_token\n",
       "count  38286.000000   38286.000000   38286.000000\n",
       "mean    2334.749099     416.808886       7.162879\n",
       "std     1844.640813     332.160084       5.424005\n",
       "min       38.000000       6.000000       1.000000\n",
       "25%     1048.000000     187.000000       4.000000\n",
       "50%     1725.000000     305.000000       5.000000\n",
       "75%     3036.750000     537.000000       9.000000\n",
       "max    37462.000000    7041.000000     152.000000"
      ]
     },
     "execution_count": 181,
     "metadata": {},
     "output_type": "execute_result"
    }
   ],
   "source": [
    "df[[\"nb_char\", \"nb_word_token\", \"nb_sent_token\" ]].describe()"
   ]
  },
  {
   "cell_type": "markdown",
   "metadata": {},
   "source": [
    "une fois qu'on a divisé notre texte en une liste de mots, on peut faire plusieurs opérations de netoyage \n",
    "- retirer la ponctuation \n",
    "- mettre tous les caractères en minuscules (peut aussi être fait avant la tokenization)\n",
    "- enlever les stopwords (mots sans apport pour comprendre le sens de la phrase)\n",
    "- lemmatiser ou stemmer afin de regrouper deux termes proches en un terme unique : \n",
    "    - personnes -> personne\n",
    "    - conduisent, conduis, etc.. -> conduire\n",
    "    \n",
    "Ces étapes sont réalisées dans la partie 2 : extraction de topics"
   ]
  },
  {
   "cell_type": "markdown",
   "metadata": {},
   "source": [
    "on peut ensuite \"vectoriser ces listes de mots afin de les rendre intelligible par une machine, \n",
    "il existe plusieurs méthode de vectoriser \n",
    "    - la matrice de term frequency \n",
    "    - la matrice tf-idf\n",
    "    - les word embeddings "
   ]
  },
  {
   "cell_type": "markdown",
   "metadata": {},
   "source": [
    "Ressource: un article (en anglais) bien fait qui montre comment calculer la matrice TF et TF-IDF \"form scratch: cratch : https://towardsdatascience.com/text-summarization-using-tf-idf-e64a0644ace3"
   ]
  },
  {
   "cell_type": "markdown",
   "metadata": {},
   "source": [
    "Pour calculer automatiquement ces matrices, il existe différentes librairies. On utilise ici la librairie sklearn\n"
   ]
  },
  {
   "cell_type": "code",
   "execution_count": 189,
   "metadata": {},
   "outputs": [],
   "source": [
    "from sklearn.feature_extraction.text import CountVectorizer, TfidfVectorizer"
   ]
  },
  {
   "cell_type": "markdown",
   "metadata": {},
   "source": [
    "### La matrice de term frequency "
   ]
  },
  {
   "attachments": {},
   "cell_type": "markdown",
   "metadata": {},
   "source": [
    "![term_doc_matrix.png](./images/term_doc_matrix.png)"
   ]
  },
  {
   "cell_type": "markdown",
   "metadata": {},
   "source": [
    "Chaque document est composé d'un certains nombre de mots. L'ensemble de tous les mots distincts présents dans les documents consititue le vocabulaire du corpus (corpus = ensemble des documents). \n",
    "La term-frequency matrix est une matrice avec une ligne par document et une colonne par mot du vocabulaire. \n",
    "Pour chaque document, les colonnes donne le nombre de fois où le mot apparait dans le document. \n",
    "C'est l'approche qu'on appelle souvent \"bag of words\" ou sac de mots en français. "
   ]
  },
  {
   "cell_type": "markdown",
   "metadata": {},
   "source": [
    "Ci-dessous on calcule la matrice Term frequency à l'aide de la librairie sklearn, qui comprend un modèle \"CountVectorizer\", qui'il faut entraîner sur le corpus de données (la liste des avis). Une fois le modèle entrainé, on l'applique (avec la métode transform) sur le même corpus de données. \n",
    "Un paramètre utile au modèle CountVectorizer est \"min_df\", qui correspond au minumum de fois où un mot doit apparaitre dans le corpus afin d'être pris en compte dans la matrice. Il est par défaut à 1, mais en l'augmentant, on peut réduire considérablement le nomnbre de colonnes de la matrice et donc se débarrasser des termes qui apparaissent trop peu. "
   ]
  },
  {
   "cell_type": "code",
   "execution_count": 216,
   "metadata": {},
   "outputs": [
    {
     "name": "stdout",
     "output_type": "stream",
     "text": [
      "TF-Matrix:\n",
      "<38286x9354 sparse matrix of type '<class 'numpy.int64'>'\n",
      "\twith 6172343 stored elements in Compressed Sparse Row format>\n"
     ]
    }
   ],
   "source": [
    "vect = CountVectorizer(min_df = 15).fit(df[\"Avis\"])\n",
    "tf_matrix = vect.transform(df[\"Avis\"])\n",
    "print(\"TF-Matrix:\\n{}\".format(repr(tf_matrix)))"
   ]
  },
  {
   "cell_type": "code",
   "execution_count": 236,
   "metadata": {},
   "outputs": [
    {
     "name": "stdout",
     "output_type": "stream",
     "text": [
      "Nombre de features: 9354\n",
      "Les 20 premières features:\n",
      "['00', '000', '0001', '001', '002', '003', '004', '006', '008', '01', '011', '018', '02', '02235', '02655', '03', '033', '04', '05', '06']\n"
     ]
    }
   ],
   "source": [
    "feature_names = vect.get_feature_names()\n",
    "print(\"Nombre de features: {}\".format(len(feature_names)))\n",
    "print(\"Les 20 premières features:\\n{}\".format(feature_names[:20]))\n"
   ]
  },
  {
   "cell_type": "markdown",
   "metadata": {},
   "source": [
    "Pour visualiser la matrice, on la transforme en dataframe: \n",
    "    "
   ]
  },
  {
   "cell_type": "code",
   "execution_count": 203,
   "metadata": {},
   "outputs": [],
   "source": [
    "tf_dataframe = pd.SparseDataFrame(tf_matrix, columns = feature_names).fillna(0)"
   ]
  },
  {
   "cell_type": "code",
   "execution_count": 237,
   "metadata": {},
   "outputs": [
    {
     "data": {
      "text/html": [
       "<div>\n",
       "<style scoped>\n",
       "    .dataframe tbody tr th:only-of-type {\n",
       "        vertical-align: middle;\n",
       "    }\n",
       "\n",
       "    .dataframe tbody tr th {\n",
       "        vertical-align: top;\n",
       "    }\n",
       "\n",
       "    .dataframe thead th {\n",
       "        text-align: right;\n",
       "    }\n",
       "</style>\n",
       "<table border=\"1\" class=\"dataframe\">\n",
       "  <thead>\n",
       "    <tr style=\"text-align: right;\">\n",
       "      <th></th>\n",
       "      <th>00</th>\n",
       "      <th>000</th>\n",
       "      <th>0001</th>\n",
       "      <th>001</th>\n",
       "      <th>002</th>\n",
       "      <th>003</th>\n",
       "      <th>004</th>\n",
       "      <th>006</th>\n",
       "      <th>008</th>\n",
       "      <th>01</th>\n",
       "      <th>...</th>\n",
       "      <th>événement</th>\n",
       "      <th>événements</th>\n",
       "      <th>êtes</th>\n",
       "      <th>être</th>\n",
       "      <th>île</th>\n",
       "      <th>îles</th>\n",
       "      <th>îlot</th>\n",
       "      <th>îlots</th>\n",
       "      <th>œuvre</th>\n",
       "      <th>œuvres</th>\n",
       "    </tr>\n",
       "  </thead>\n",
       "  <tbody>\n",
       "    <tr>\n",
       "      <td>0</td>\n",
       "      <td>0</td>\n",
       "      <td>0</td>\n",
       "      <td>0</td>\n",
       "      <td>0</td>\n",
       "      <td>0</td>\n",
       "      <td>0</td>\n",
       "      <td>0</td>\n",
       "      <td>0</td>\n",
       "      <td>0</td>\n",
       "      <td>0</td>\n",
       "      <td>...</td>\n",
       "      <td>0</td>\n",
       "      <td>0</td>\n",
       "      <td>0</td>\n",
       "      <td>0</td>\n",
       "      <td>0</td>\n",
       "      <td>0</td>\n",
       "      <td>0</td>\n",
       "      <td>0</td>\n",
       "      <td>0</td>\n",
       "      <td>0</td>\n",
       "    </tr>\n",
       "    <tr>\n",
       "      <td>1</td>\n",
       "      <td>0</td>\n",
       "      <td>0</td>\n",
       "      <td>0</td>\n",
       "      <td>0</td>\n",
       "      <td>0</td>\n",
       "      <td>0</td>\n",
       "      <td>0</td>\n",
       "      <td>0</td>\n",
       "      <td>0</td>\n",
       "      <td>0</td>\n",
       "      <td>...</td>\n",
       "      <td>0</td>\n",
       "      <td>0</td>\n",
       "      <td>0</td>\n",
       "      <td>0</td>\n",
       "      <td>0</td>\n",
       "      <td>0</td>\n",
       "      <td>0</td>\n",
       "      <td>0</td>\n",
       "      <td>0</td>\n",
       "      <td>0</td>\n",
       "    </tr>\n",
       "    <tr>\n",
       "      <td>2</td>\n",
       "      <td>0</td>\n",
       "      <td>0</td>\n",
       "      <td>0</td>\n",
       "      <td>0</td>\n",
       "      <td>0</td>\n",
       "      <td>0</td>\n",
       "      <td>0</td>\n",
       "      <td>0</td>\n",
       "      <td>0</td>\n",
       "      <td>0</td>\n",
       "      <td>...</td>\n",
       "      <td>0</td>\n",
       "      <td>0</td>\n",
       "      <td>0</td>\n",
       "      <td>0</td>\n",
       "      <td>0</td>\n",
       "      <td>0</td>\n",
       "      <td>0</td>\n",
       "      <td>0</td>\n",
       "      <td>0</td>\n",
       "      <td>0</td>\n",
       "    </tr>\n",
       "    <tr>\n",
       "      <td>3</td>\n",
       "      <td>0</td>\n",
       "      <td>0</td>\n",
       "      <td>0</td>\n",
       "      <td>0</td>\n",
       "      <td>0</td>\n",
       "      <td>0</td>\n",
       "      <td>0</td>\n",
       "      <td>0</td>\n",
       "      <td>0</td>\n",
       "      <td>0</td>\n",
       "      <td>...</td>\n",
       "      <td>0</td>\n",
       "      <td>0</td>\n",
       "      <td>0</td>\n",
       "      <td>1</td>\n",
       "      <td>0</td>\n",
       "      <td>0</td>\n",
       "      <td>0</td>\n",
       "      <td>0</td>\n",
       "      <td>0</td>\n",
       "      <td>0</td>\n",
       "    </tr>\n",
       "    <tr>\n",
       "      <td>4</td>\n",
       "      <td>0</td>\n",
       "      <td>0</td>\n",
       "      <td>0</td>\n",
       "      <td>0</td>\n",
       "      <td>0</td>\n",
       "      <td>0</td>\n",
       "      <td>0</td>\n",
       "      <td>0</td>\n",
       "      <td>0</td>\n",
       "      <td>0</td>\n",
       "      <td>...</td>\n",
       "      <td>0</td>\n",
       "      <td>0</td>\n",
       "      <td>0</td>\n",
       "      <td>1</td>\n",
       "      <td>0</td>\n",
       "      <td>0</td>\n",
       "      <td>0</td>\n",
       "      <td>0</td>\n",
       "      <td>0</td>\n",
       "      <td>0</td>\n",
       "    </tr>\n",
       "  </tbody>\n",
       "</table>\n",
       "<p>5 rows × 9354 columns</p>\n",
       "</div>"
      ],
      "text/plain": [
       "   00  000  0001  001  002  003  004  006  008  01  ...  événement  \\\n",
       "0   0    0     0    0    0    0    0    0    0   0  ...          0   \n",
       "1   0    0     0    0    0    0    0    0    0   0  ...          0   \n",
       "2   0    0     0    0    0    0    0    0    0   0  ...          0   \n",
       "3   0    0     0    0    0    0    0    0    0   0  ...          0   \n",
       "4   0    0     0    0    0    0    0    0    0   0  ...          0   \n",
       "\n",
       "   événements  êtes  être  île  îles  îlot  îlots  œuvre  œuvres  \n",
       "0           0     0     0    0     0     0      0      0       0  \n",
       "1           0     0     0    0     0     0      0      0       0  \n",
       "2           0     0     0    0     0     0      0      0       0  \n",
       "3           0     0     1    0     0     0      0      0       0  \n",
       "4           0     0     1    0     0     0      0      0       0  \n",
       "\n",
       "[5 rows x 9354 columns]"
      ]
     },
     "execution_count": 237,
     "metadata": {},
     "output_type": "execute_result"
    }
   ],
   "source": [
    "tf_dataframe.head()"
   ]
  },
  {
   "cell_type": "markdown",
   "metadata": {},
   "source": [
    "On observe ce que l'on appelle une matrice sparse, ce qui signifie que la majorité des termes sont à 0.\n",
    "On voit par exemple que le document trois à une fois le mot \"être\". \n",
    "Pour vérifier, on regarde la phrase du document 3. "
   ]
  },
  {
   "cell_type": "code",
   "execution_count": 249,
   "metadata": {},
   "outputs": [
    {
     "name": "stdout",
     "output_type": "stream",
     "text": [
      "La commission d'accès aux documents administratifs a examiné dans sa séance du 30 janvier 1986 votre demande de conseil.\n",
      "\n",
      "La commission a émis un avis défavorable à la communication des courriers échangés entre le salarié et la direction départementale du travail et de l'emploi au sujet du préavis de démission.\n",
      "\n",
      "La communication de ces documents à l'entreprise en vue de les produire devant la juridiction prud'homale pourrait, en effet, être de nature à porter atteinte au déroulement de la procédure juridictionnelle en cours. \n",
      "\n"
     ]
    }
   ],
   "source": [
    "print(df.loc[3, \"Avis\"])"
   ]
  },
  {
   "cell_type": "code",
   "execution_count": 258,
   "metadata": {},
   "outputs": [
    {
     "name": "stdout",
     "output_type": "stream",
     "text": [
      "['la', 'commission', 'd', 'accès', 'aux', 'documents', 'administratifs', 'a', 'examiné', 'dans', 'sa', 'séance', 'du', '30', 'janvier', '1986', 'votre', 'demande', 'de', 'conseil', '.', 'la', 'commission', 'a', 'émis', 'un', 'avis', 'défavorable', 'à', 'la', 'communication', 'des', 'courriers', 'échangés', 'entre', 'le', 'salarié', 'et', 'la', 'direction', 'départementale', 'du', 'travail', 'et', 'de', 'l', 'emploi', 'au', 'sujet', 'du', 'préavis', 'de', 'démission', '.', 'la', 'communication', 'de', 'ces', 'documents', 'à', 'l', 'entreprise', 'en', 'vue', 'de', 'les', 'produire', 'devant', 'la', 'juridiction', 'prud', 'homale', 'pourrait', ',', 'en', 'effet', ',', 'être', 'de', 'nature', 'à', 'porter', 'atteinte', 'au', 'déroulement', 'de', 'la', 'procédure', 'juridictionnelle', 'en', 'cours', '.']\n"
     ]
    }
   ],
   "source": [
    "print([x.lower() for x in df.loc[3, \"avis_word_token\"]])"
   ]
  },
  {
   "cell_type": "markdown",
   "metadata": {},
   "source": [
    "Pour ce même document, on peut vérifier que, sur la 3ème ligne de la TF matrice correpondant à l'avis ci-dessous, les termes non nuls correspondent à ceux du document: "
   ]
  },
  {
   "cell_type": "code",
   "execution_count": 263,
   "metadata": {},
   "outputs": [
    {
     "name": "stdout",
     "output_type": "stream",
     "text": [
      "les termes non nuls ligne 3 sont :  ['1986', '30', 'accès', 'administratifs', 'atteinte', 'au', 'aux', 'avis', 'ces', 'commission', 'communication', 'conseil', 'courriers', 'cours', 'dans', 'de', 'demande', 'des', 'devant', 'direction', 'documents', 'du', 'défavorable', 'démission', 'départementale', 'déroulement', 'effet', 'emploi', 'en', 'entre', 'entreprise', 'et', 'examiné', 'janvier', 'juridiction', 'juridictionnelle', 'la', 'le', 'les', 'nature', 'porter', 'pourrait', 'procédure', 'produire', 'prud', 'sa', 'salarié', 'sujet', 'séance', 'travail', 'un', 'votre', 'vue', 'échangés', 'émis', 'être']\n",
      "les termes non nuls dans la matrice qui ne sont pas dans les word token :  set()\n",
      "les termes dans les ans les word token qui ne sont pas dans les termes non nuls de la matrice :  {'homale', 'l', 'a', '.', 'préavis', ',', 'à', 'd'}\n"
     ]
    }
   ],
   "source": [
    "termes_non_nuls = [col for col in tf_dataframe.loc[3,].index if tf_dataframe.loc[3,col]!=0]\n",
    "print(\"les termes non nuls ligne 3 sont : \", termes_non_nuls)\n",
    "print(\"les termes non nuls dans la matrice qui ne sont pas dans les word token : \", \n",
    "      set(termes_non_nuls) - set([x.lower() for x in df.loc[3, \"avis_word_token\"]]))\n",
    "print(\"les termes dans les ans les word token qui ne sont pas dans les termes non nuls de la matrice : \", \n",
    "      set([x.lower() for x in df.loc[3, \"avis_word_token\"]]) - set(termes_non_nuls))"
   ]
  },
  {
   "cell_type": "markdown",
   "metadata": {},
   "source": [
    "### La matrice tf-idf"
   ]
  },
  {
   "attachments": {},
   "cell_type": "markdown",
   "metadata": {},
   "source": [
    "![tfidf_matrix.png](./images/tfidf_matrix.png)"
   ]
  },
  {
   "cell_type": "markdown",
   "metadata": {},
   "source": [
    "La matrice TF-IDF est très similaire dans son principe à la matrice TF. Elle a le même format: une ligne par document et une colonne par mot du vocabulaire. Chaque \"case\" de la matrice sera calculée à partir de la case la matrice TF, mais sera pondérée par l'IDF (inverse document frequency). Cette pondération permet de prendre en compte la fréquence d'occurence d'un terme dans l'ensemble des documents (le corpus). L'idée derrière cette pondération est qu'un terme qui apparait dans un très grand nombre de document n'apporte pas beaucoup d'information pour décrire un document en particulier. Par exemple, dans notre cas, le mot \"avis\" apparait dans quasiment tous nos documents, il aura donc une fréquence d'apparition dans le corpus élevé et donc un IDF (son inverse) faible. \n",
    "\n",
    "Pour résumer, pour un mot donné d'un document donné, le TF-IDF: \n",
    "\n",
    "- augmente avec le nombre d'occurrences du mot dans le document\n",
    "- diminue avec le nombre d'occirrences du mot dans le corpus\n"
   ]
  },
  {
   "cell_type": "code",
   "execution_count": 265,
   "metadata": {},
   "outputs": [
    {
     "name": "stdout",
     "output_type": "stream",
     "text": [
      "TF-Matrix:\n",
      "<38286x9354 sparse matrix of type '<class 'numpy.float64'>'\n",
      "\twith 6172343 stored elements in Compressed Sparse Row format>\n"
     ]
    }
   ],
   "source": [
    "vect2 = TfidfVectorizer(min_df = 15).fit(df[\"Avis\"])\n",
    "tfidf_matrix = vect2.transform(df[\"Avis\"])\n",
    "print(\"TF-Matrix:\\n{}\".format(repr(tf_matrix)))"
   ]
  },
  {
   "cell_type": "code",
   "execution_count": 266,
   "metadata": {},
   "outputs": [
    {
     "name": "stdout",
     "output_type": "stream",
     "text": [
      "Nombre de features: 9354\n",
      "Les 20 premières features:\n",
      "['00', '000', '0001', '001', '002', '003', '004', '006', '008', '01', '011', '018', '02', '02235', '02655', '03', '033', '04', '05', '06']\n"
     ]
    }
   ],
   "source": [
    "feature_names = vect2.get_feature_names()\n",
    "print(\"Nombre de features: {}\".format(len(feature_names)))\n",
    "print(\"Les 20 premières features:\\n{}\".format(feature_names[:20]))"
   ]
  },
  {
   "cell_type": "markdown",
   "metadata": {},
   "source": [
    "Sans surprise, on obtient les mêmes features qu'avec la matrice TF. Regardons mainteant quelques lignes de cette matrice: "
   ]
  },
  {
   "cell_type": "code",
   "execution_count": 267,
   "metadata": {},
   "outputs": [],
   "source": [
    "tfidf_dataframe = pd.SparseDataFrame(tfidf_matrix, columns = feature_names).fillna(0)"
   ]
  },
  {
   "cell_type": "code",
   "execution_count": 268,
   "metadata": {},
   "outputs": [
    {
     "data": {
      "text/html": [
       "<div>\n",
       "<style scoped>\n",
       "    .dataframe tbody tr th:only-of-type {\n",
       "        vertical-align: middle;\n",
       "    }\n",
       "\n",
       "    .dataframe tbody tr th {\n",
       "        vertical-align: top;\n",
       "    }\n",
       "\n",
       "    .dataframe thead th {\n",
       "        text-align: right;\n",
       "    }\n",
       "</style>\n",
       "<table border=\"1\" class=\"dataframe\">\n",
       "  <thead>\n",
       "    <tr style=\"text-align: right;\">\n",
       "      <th></th>\n",
       "      <th>00</th>\n",
       "      <th>000</th>\n",
       "      <th>0001</th>\n",
       "      <th>001</th>\n",
       "      <th>002</th>\n",
       "      <th>003</th>\n",
       "      <th>004</th>\n",
       "      <th>006</th>\n",
       "      <th>008</th>\n",
       "      <th>01</th>\n",
       "      <th>...</th>\n",
       "      <th>événement</th>\n",
       "      <th>événements</th>\n",
       "      <th>êtes</th>\n",
       "      <th>être</th>\n",
       "      <th>île</th>\n",
       "      <th>îles</th>\n",
       "      <th>îlot</th>\n",
       "      <th>îlots</th>\n",
       "      <th>œuvre</th>\n",
       "      <th>œuvres</th>\n",
       "    </tr>\n",
       "  </thead>\n",
       "  <tbody>\n",
       "    <tr>\n",
       "      <td>0</td>\n",
       "      <td>0.0</td>\n",
       "      <td>0.0</td>\n",
       "      <td>0.0</td>\n",
       "      <td>0.0</td>\n",
       "      <td>0.0</td>\n",
       "      <td>0.0</td>\n",
       "      <td>0.0</td>\n",
       "      <td>0.0</td>\n",
       "      <td>0.0</td>\n",
       "      <td>0.0</td>\n",
       "      <td>...</td>\n",
       "      <td>0.0</td>\n",
       "      <td>0.0</td>\n",
       "      <td>0.0</td>\n",
       "      <td>0.000000</td>\n",
       "      <td>0.0</td>\n",
       "      <td>0.0</td>\n",
       "      <td>0.0</td>\n",
       "      <td>0.0</td>\n",
       "      <td>0.0</td>\n",
       "      <td>0.0</td>\n",
       "    </tr>\n",
       "    <tr>\n",
       "      <td>1</td>\n",
       "      <td>0.0</td>\n",
       "      <td>0.0</td>\n",
       "      <td>0.0</td>\n",
       "      <td>0.0</td>\n",
       "      <td>0.0</td>\n",
       "      <td>0.0</td>\n",
       "      <td>0.0</td>\n",
       "      <td>0.0</td>\n",
       "      <td>0.0</td>\n",
       "      <td>0.0</td>\n",
       "      <td>...</td>\n",
       "      <td>0.0</td>\n",
       "      <td>0.0</td>\n",
       "      <td>0.0</td>\n",
       "      <td>0.000000</td>\n",
       "      <td>0.0</td>\n",
       "      <td>0.0</td>\n",
       "      <td>0.0</td>\n",
       "      <td>0.0</td>\n",
       "      <td>0.0</td>\n",
       "      <td>0.0</td>\n",
       "    </tr>\n",
       "    <tr>\n",
       "      <td>2</td>\n",
       "      <td>0.0</td>\n",
       "      <td>0.0</td>\n",
       "      <td>0.0</td>\n",
       "      <td>0.0</td>\n",
       "      <td>0.0</td>\n",
       "      <td>0.0</td>\n",
       "      <td>0.0</td>\n",
       "      <td>0.0</td>\n",
       "      <td>0.0</td>\n",
       "      <td>0.0</td>\n",
       "      <td>...</td>\n",
       "      <td>0.0</td>\n",
       "      <td>0.0</td>\n",
       "      <td>0.0</td>\n",
       "      <td>0.000000</td>\n",
       "      <td>0.0</td>\n",
       "      <td>0.0</td>\n",
       "      <td>0.0</td>\n",
       "      <td>0.0</td>\n",
       "      <td>0.0</td>\n",
       "      <td>0.0</td>\n",
       "    </tr>\n",
       "    <tr>\n",
       "      <td>3</td>\n",
       "      <td>0.0</td>\n",
       "      <td>0.0</td>\n",
       "      <td>0.0</td>\n",
       "      <td>0.0</td>\n",
       "      <td>0.0</td>\n",
       "      <td>0.0</td>\n",
       "      <td>0.0</td>\n",
       "      <td>0.0</td>\n",
       "      <td>0.0</td>\n",
       "      <td>0.0</td>\n",
       "      <td>...</td>\n",
       "      <td>0.0</td>\n",
       "      <td>0.0</td>\n",
       "      <td>0.0</td>\n",
       "      <td>0.070411</td>\n",
       "      <td>0.0</td>\n",
       "      <td>0.0</td>\n",
       "      <td>0.0</td>\n",
       "      <td>0.0</td>\n",
       "      <td>0.0</td>\n",
       "      <td>0.0</td>\n",
       "    </tr>\n",
       "    <tr>\n",
       "      <td>4</td>\n",
       "      <td>0.0</td>\n",
       "      <td>0.0</td>\n",
       "      <td>0.0</td>\n",
       "      <td>0.0</td>\n",
       "      <td>0.0</td>\n",
       "      <td>0.0</td>\n",
       "      <td>0.0</td>\n",
       "      <td>0.0</td>\n",
       "      <td>0.0</td>\n",
       "      <td>0.0</td>\n",
       "      <td>...</td>\n",
       "      <td>0.0</td>\n",
       "      <td>0.0</td>\n",
       "      <td>0.0</td>\n",
       "      <td>0.021706</td>\n",
       "      <td>0.0</td>\n",
       "      <td>0.0</td>\n",
       "      <td>0.0</td>\n",
       "      <td>0.0</td>\n",
       "      <td>0.0</td>\n",
       "      <td>0.0</td>\n",
       "    </tr>\n",
       "  </tbody>\n",
       "</table>\n",
       "<p>5 rows × 9354 columns</p>\n",
       "</div>"
      ],
      "text/plain": [
       "    00  000  0001  001  002  003  004  006  008   01  ...  événement  \\\n",
       "0  0.0  0.0   0.0  0.0  0.0  0.0  0.0  0.0  0.0  0.0  ...        0.0   \n",
       "1  0.0  0.0   0.0  0.0  0.0  0.0  0.0  0.0  0.0  0.0  ...        0.0   \n",
       "2  0.0  0.0   0.0  0.0  0.0  0.0  0.0  0.0  0.0  0.0  ...        0.0   \n",
       "3  0.0  0.0   0.0  0.0  0.0  0.0  0.0  0.0  0.0  0.0  ...        0.0   \n",
       "4  0.0  0.0   0.0  0.0  0.0  0.0  0.0  0.0  0.0  0.0  ...        0.0   \n",
       "\n",
       "   événements  êtes      être  île  îles  îlot  îlots  œuvre  œuvres  \n",
       "0         0.0   0.0  0.000000  0.0   0.0   0.0    0.0    0.0     0.0  \n",
       "1         0.0   0.0  0.000000  0.0   0.0   0.0    0.0    0.0     0.0  \n",
       "2         0.0   0.0  0.000000  0.0   0.0   0.0    0.0    0.0     0.0  \n",
       "3         0.0   0.0  0.070411  0.0   0.0   0.0    0.0    0.0     0.0  \n",
       "4         0.0   0.0  0.021706  0.0   0.0   0.0    0.0    0.0     0.0  \n",
       "\n",
       "[5 rows x 9354 columns]"
      ]
     },
     "execution_count": 268,
     "metadata": {},
     "output_type": "execute_result"
    }
   ],
   "source": [
    "tfidf_dataframe.head()"
   ]
  },
  {
   "attachments": {},
   "cell_type": "markdown",
   "metadata": {},
   "source": [
    "Ici on voit que le terme \"être\" est encore non nul pour les document 3 et 4, mais nous avons des nombres décimals au lieu de nombres entiers. \n",
    "\n",
    "\\begin{align}\n",
    " {\\mathrm {tfidf_{{i,j}}}}={\\mathrm {tf_{{i,j}}}}\\cdot {\\mathrm {idf_{{i}}}} \\\\\n",
    " {\\mathrm {tfidf_{{être,3}}}} = 1\\cdot {\\mathrm {idf_{{être}}}} =1\\cdot 0.070411 \\\\\n",
    "\\end{align}\n",
    "\n",
    "On en déduit que: \n",
    "\\begin{align}\n",
    " {\\mathrm {idf_{{être}}}} = 0.070411 \\\\\n",
    "\\end{align}\n",
    "\n",
    "Définition de l'IDF:  \n",
    "\\begin{align}\n",
    " {\\mathrm {idf_{{i,j}}}} = {\\mathrm {log_{{10}}}} \\\\\n",
    "\\end{align}"
   ]
  },
  {
   "cell_type": "code",
   "execution_count": 288,
   "metadata": {},
   "outputs": [
    {
     "data": {
      "text/plain": [
       "32555.84671586084"
      ]
     },
     "execution_count": 288,
     "metadata": {},
     "output_type": "execute_result"
    }
   ],
   "source": [
    "import math\n",
    "len(df)/math.pow(10, 0.070411)"
   ]
  },
  {
   "cell_type": "code",
   "execution_count": 273,
   "metadata": {},
   "outputs": [
    {
     "data": {
      "text/plain": [
       "14389"
      ]
     },
     "execution_count": 273,
     "metadata": {},
     "output_type": "execute_result"
    }
   ],
   "source": [
    "len(tfidf_dataframe[tfidf_dataframe[\"être\"]>0])"
   ]
  },
  {
   "cell_type": "code",
   "execution_count": null,
   "metadata": {},
   "outputs": [],
   "source": []
  },
  {
   "cell_type": "markdown",
   "metadata": {},
   "source": [
    "### Exemple de word embeddings of word2vec\n",
    "\n",
    "A propos de word2vec: développé par une équipe de recherche de Google (article de 2013 disponible ici https://arxiv.org/abs/1301.3781), word2vec est un algorithme permettant de reprénter chaque mot dans un espace vectoriel à n dimensions (généralement n est fixé dans une valeur comprise entre 100 et 400). Les vecteurs des différents mots sont \"appris\" à l'aide d'un réseau de neurone artificiel. Ces vecteurs, appelés \"word embeddings\", permettent: \n",
    "- de rendre compte des proximités des mots dans le langage naturel (deux mots proches dans le langage, médecin et hopitaux, seront proches dans l'espace vectoriel) \n",
    "- de traduire certaines proprités linguistiques du langage naturel en propriétés mathématiques (cf. exemples dans illustration ci-dessous)\n",
    "\n"
   ]
  },
  {
   "attachments": {},
   "cell_type": "markdown",
   "metadata": {},
   "source": [
    "![word2vec.png](./images/word2vec.png)"
   ]
  },
  {
   "cell_type": "markdown",
   "metadata": {},
   "source": [
    "Entrainement du modèle à partir du texte des avis Cada. Les paramètres à fixer sont: \n",
    "- size: la taille de l'espace vectoriel (le nombre de dimensions de chaque vecteur)"
   ]
  },
  {
   "cell_type": "code",
   "execution_count": 138,
   "metadata": {},
   "outputs": [],
   "source": [
    "sentences = df[\"avis_word_token\"].tolist()\n",
    "from gensim.models import Word2Vec\n",
    "model = Word2Vec(sentences, size=100, window=5, min_count=5, workers=4)"
   ]
  },
  {
   "cell_type": "markdown",
   "metadata": {},
   "source": [
    "exemple de vecteur pour un mot donné (vous pouvez changer le mot entre guillements et voir les variations des vecteurs)"
   ]
  },
  {
   "cell_type": "code",
   "execution_count": 184,
   "metadata": {},
   "outputs": [
    {
     "data": {
      "text/plain": [
       "array([ 3.208701  ,  1.2001978 ,  0.9631643 ,  3.135135  ,  0.19943693,\n",
       "        0.835203  , -3.2388248 ,  0.5518299 ,  1.0958376 ,  0.04891345,\n",
       "       -5.2012563 ,  0.05518902,  1.0110785 ,  3.0651872 , -2.220354  ,\n",
       "        1.9727267 ,  0.22784466,  2.3178163 ,  1.0423992 , -0.54918605,\n",
       "       -0.11753737, -0.9626078 , -2.8740926 ,  1.1849428 ,  3.2807899 ,\n",
       "       -2.615599  ,  1.2137442 , -0.16939296, -3.3420463 ,  2.3324075 ,\n",
       "        0.11869113, -1.4656217 , -1.4988983 , -1.7943109 ,  2.361743  ,\n",
       "       -0.9900683 ,  0.07967577, -3.608413  ,  1.9248564 , -1.7616553 ,\n",
       "        1.2592736 ,  0.20968436,  0.80333155,  1.0737084 ,  3.0309446 ,\n",
       "        1.1651824 ,  0.5777337 ,  1.4316745 , -1.15157   , -2.2022707 ,\n",
       "        0.2308007 ,  1.5686148 ,  0.07331307, -0.01666031,  2.7159548 ,\n",
       "       -2.4429178 , -0.68058413, -0.97934747, -3.1835635 , -5.7991824 ,\n",
       "        1.7146726 ,  0.5837122 ,  1.1788157 , -0.16770494,  0.18653537,\n",
       "        0.44645214,  0.36560717, -1.4757261 , -0.7566272 , -3.7184703 ,\n",
       "        4.1772923 , -1.4889896 , -1.0746994 ,  0.5790995 ,  0.3127736 ,\n",
       "        1.1249434 ,  2.082328  ,  0.07650577,  2.3014138 , -0.9630468 ,\n",
       "        3.6522489 , -2.639066  , -0.54756796, -0.9221623 , -0.69811076,\n",
       "       -1.9948835 ,  0.8216101 ,  1.0675104 , -0.80359787, -0.1578044 ,\n",
       "       -2.0568492 ,  4.8763127 , -0.00837587,  1.3862878 ,  0.10500287,\n",
       "        1.5563806 ,  2.358201  , -1.2659893 , -1.7638551 ,  1.0306388 ],\n",
       "      dtype=float32)"
      ]
     },
     "execution_count": 184,
     "metadata": {},
     "output_type": "execute_result"
    }
   ],
   "source": [
    "model.wv['avis']"
   ]
  },
  {
   "cell_type": "markdown",
   "metadata": {},
   "source": [
    "quelques exemples de calculs des mots les plus similaires, en utilisant la fonction méthode \"most_similar\""
   ]
  },
  {
   "cell_type": "code",
   "execution_count": 139,
   "metadata": {},
   "outputs": [
    {
     "data": {
      "text/plain": [
       "[('généraliste', 0.655626118183136),\n",
       " ('agréé', 0.6517902612686157),\n",
       " ('prescripteur', 0.6218041181564331),\n",
       " ('intermédiaire', 0.6169997453689575),\n",
       " ('désigne', 0.6065273284912109),\n",
       " ('spécialistes', 0.5890629887580872),\n",
       " ('régulateur', 0.5599677562713623),\n",
       " ('docteur', 0.5592317581176758),\n",
       " ('traitant', 0.5321307182312012),\n",
       " ('spécialiste', 0.48233020305633545)]"
      ]
     },
     "execution_count": 139,
     "metadata": {},
     "output_type": "execute_result"
    }
   ],
   "source": [
    "model.most_similar(\"médecin\")"
   ]
  },
  {
   "cell_type": "code",
   "execution_count": 140,
   "metadata": {},
   "outputs": [
    {
     "data": {
      "text/plain": [
       "[('préfète', 0.7589961290359497),\n",
       " ('préfet', 0.7407832145690918),\n",
       " ('sceaux', 0.5662443041801453),\n",
       " ('académie', 0.5592095255851746),\n",
       " ('ministre', 0.5444050431251526),\n",
       " ('président', 0.5424714684486389),\n",
       " ('présidente', 0.5273807048797607),\n",
       " ('recteur', 0.5181554555892944),\n",
       " ('directeur', 0.48822686076164246),\n",
       " ('garde', 0.4639958143234253)]"
      ]
     },
     "execution_count": 140,
     "metadata": {},
     "output_type": "execute_result"
    }
   ],
   "source": [
    "model.most_similar(\"maire\")"
   ]
  },
  {
   "cell_type": "code",
   "execution_count": 145,
   "metadata": {},
   "outputs": [
    {
     "data": {
      "text/plain": [
       "[('demandée', 0.38057392835617065),\n",
       " ('obtenir', 0.3669607639312744),\n",
       " ('sollicitée', 0.3607199490070343),\n",
       " ('intéressée', 0.35437801480293274),\n",
       " ('demandé', 0.33897343277931213),\n",
       " ('demander', 0.332382470369339),\n",
       " ('reposent', 0.3322491943836212),\n",
       " ('documents', 0.3318790793418884),\n",
       " ('sollicités', 0.3279246687889099),\n",
       " ('invoquant', 0.32424890995025635)]"
      ]
     },
     "execution_count": 145,
     "metadata": {},
     "output_type": "execute_result"
    }
   ],
   "source": [
    "model.most_similar(\"demande\")"
   ]
  },
  {
   "cell_type": "markdown",
   "metadata": {},
   "source": [
    "# Partie 2 : topic extraction (non supervisé)\n"
   ]
  },
  {
   "cell_type": "markdown",
   "metadata": {},
   "source": [
    "## Un algorithme d'extraction de topiques: LDA (Latent Dirichlet Allocation) \n",
    "\n",
    "### ressource : article très pédagogique (en anglais) dont on s'inspire ici https://towardsdatascience.com/the-complete-guide-for-topics-extraction-in-python-a6aaa6cedbbc "
   ]
  },
  {
   "attachments": {},
   "cell_type": "markdown",
   "metadata": {},
   "source": [
    "### A quoi sert cet algorithme?\n",
    " \n",
    "LDA est un algorithme d'extraction de topics. A partir d'un corpus de documents, il permet de : \n",
    "- définir un nombre de topics (un topic est caractérisé par une liste de mots)\n",
    "- attribuer à chaque document un ou des topics de la liste de topics trouvés par l'algorithme \n",
    "\n"
   ]
  },
  {
   "cell_type": "markdown",
   "metadata": {},
   "source": [
    "![illustration_LDA.png](./images/illustration_LDA.png)"
   ]
  },
  {
   "cell_type": "code",
   "execution_count": 217,
   "metadata": {},
   "outputs": [
    {
     "name": "stderr",
     "output_type": "stream",
     "text": [
      "[nltk_data] Downloading package stopwords to\n",
      "[nltk_data]     /Users/kimmontalibet/nltk_data...\n",
      "[nltk_data]   Package stopwords is already up-to-date!\n"
     ]
    }
   ],
   "source": [
    "# Etape 0 : importation de la librairie avec l'algorithme \n",
    "#!pip install gensim si ce n'est pas déjà fait \n",
    "import nltk\n",
    "nltk.download('stopwords')\n",
    "from gensim import models\n",
    "from gensim.models import Phrases\n",
    "from gensim import corpora\n",
    "from nltk.corpus import stopwords"
   ]
  },
  {
   "cell_type": "markdown",
   "metadata": {},
   "source": [
    "#### Etape 1 :préparation et nettoyage des données textuelles \n",
    "\n",
    "- tokenization \n",
    "- supression de la ponctuation (pour certains cas d'usage, il peut cependant être utile de garder la ponctuation)\n"
   ]
  },
  {
   "cell_type": "markdown",
   "metadata": {},
   "source": [
    "Pour la tokenisation, nous l'avons déjà calculée dans la partie 1 (les tokens sont dans la colonne \"avis_word_token\". \n",
    "On supprime la ponctuation avec la commande ci-desous"
   ]
  },
  {
   "cell_type": "code",
   "execution_count": 220,
   "metadata": {},
   "outputs": [],
   "source": [
    "# on supprime les tokens avec la ponctuation et on mets tous les mots en minuscule \n",
    "df[\"avis_word_token\"] = df[\"avis_word_token\"].map(lambda list_word: [word.lower()  for word in list_word if word.isalpha()])"
   ]
  },
  {
   "cell_type": "markdown",
   "metadata": {},
   "source": [
    "On supprime les stopwords (les mots très courants et qui n'apporte pas d'information spécifique pour caractériser le thème du document)\n",
    "Pour cela, on utilise une liste prédéfinie de stopwords de la librairie nltk, que l'on complète avec un certain nombre de stopwords. \n"
   ]
  },
  {
   "cell_type": "code",
   "execution_count": 222,
   "metadata": {},
   "outputs": [
    {
     "name": "stdout",
     "output_type": "stream",
     "text": [
      "172\n"
     ]
    }
   ],
   "source": [
    "# création de la liste de stopwords\n",
    "custom_stopwords = [\"a\", \"dont\", \"madame\", \"monsieur\", \"peut\", \"dès\", \"lors\", \"être\", \"ce\",\n",
    "                    \"ces\", \"cet\", \"cette\", \"comme\", \"ainsi\", \"si\"]\n",
    "stopwords_fr = stopwords.words('french') + custom_stopwords\n",
    "print(len(stopwords_fr))\n",
    "#print(stopwords_fr)\n",
    "\n",
    "# on enlève les stopwords\n",
    "df[\"avis_word_token\"] = df[\"avis_word_token\"].map(lambda list_word: [word for word in list_word if word not in stopwords_fr])\n"
   ]
  },
  {
   "cell_type": "markdown",
   "metadata": {},
   "source": [
    "On regarde ce que ça donne (différence entre notre document initial et la liste des tokens \"netoyés\"). \n",
    "Vous pouvez changer le numero_doc (modifier le chiffre après le = ) et exécuter la cellule pour visualiser un autre document du corpus"
   ]
  },
  {
   "cell_type": "code",
   "execution_count": 223,
   "metadata": {},
   "outputs": [
    {
     "name": "stdout",
     "output_type": "stream",
     "text": [
      "Document initial\n",
      "La commission d'accès aux documents administratifs a examiné dans sa séance du 3 mars 1984 la demande dont vous l'avez saisie par lettre du 21 décembre 1983.\n",
      "\n",
      "La commission a émis un avis défavorable à la communication du dossier d'enquête relatif au refus de votre admission en qualité d'élève-officier de réserve interprète et du chiffre de la Marine, au motif qu'elle porterait atteinte au secret de la défense nationale, exception prévue par l'article 6 de la loi du 17 juillet 1978.\n",
      "\n",
      "\n",
      "Document tokénisé\n",
      "['commission', 'accès', 'documents', 'administratifs', 'examiné', 'séance', 'mars', 'demande', 'saisie', 'lettre', 'décembre', 'commission', 'émis', 'avis', 'défavorable', 'communication', 'dossier', 'enquête', 'relatif', 'refus', 'admission', 'qualité', 'réserve', 'interprète', 'chiffre', 'marine', 'motif', 'porterait', 'atteinte', 'secret', 'défense', 'nationale', 'exception', 'prévue', 'article', 'loi', 'juillet']\n",
      "\n",
      "\n",
      "Nombre de token dans le doc :37\n"
     ]
    }
   ],
   "source": [
    "numero_doc = 0\n",
    "\n",
    "print(\"Document initial\")\n",
    "print(df.loc[numero_doc, \"Avis\"])\n",
    "print(\"\\n\")\n",
    "print(\"Document tokénisé\")\n",
    "print(df.loc[numero_doc, \"avis_word_token\"])\n",
    "print(\"\\n\")\n",
    "print(\"Nombre de token dans le doc :{}\".format(len(df.loc[numero_doc, \"avis_word_token\"])))"
   ]
  },
  {
   "cell_type": "markdown",
   "metadata": {},
   "source": [
    "#### Etape 2: Entrainement de l'algorithme \n",
    "\n",
    "Dans l'étape ci-dessous, nous allons, à partir de notre liste de tokens netoyés, créer des bigrammes. Les bigrammes sont des paires de mots, qui peuvent être porteurs de sens et qui sont donc utile pour le topic extraction. \n"
   ]
  },
  {
   "cell_type": "code",
   "execution_count": 292,
   "metadata": {},
   "outputs": [],
   "source": [
    "# création des tokens avec bigrammes et trigrammes \n",
    "\n",
    "tokens = df['avis_word_token'].tolist()\n",
    "bigram_model = Phrases(tokens)\n",
    "tokens = list(bigram_model[tokens])"
   ]
  },
  {
   "cell_type": "markdown",
   "metadata": {},
   "source": [
    "Entrainement du modèle après avoir constitué: \n",
    "- le dictionnaire des mots du corpus \n",
    "- le corpus au format spécique du modèle LDA de gensim "
   ]
  },
  {
   "cell_type": "code",
   "execution_count": 234,
   "metadata": {},
   "outputs": [
    {
     "name": "stdout",
     "output_type": "stream",
     "text": [
      "CPU times: user 3min 7s, sys: 12 s, total: 3min 19s\n",
      "Wall time: 1min 55s\n"
     ]
    }
   ],
   "source": [
    "\n",
    "dictionary_LDA = corpora.Dictionary(tokens)\n",
    "dictionary_LDA.filter_extremes(no_below=3)\n",
    "corpus = [dictionary_LDA.doc2bow(tok) for tok in tokens]\n",
    "\n",
    "\n",
    "\n",
    "# les inputs : le corpus de documents tokenizé et le dictionnaire \n",
    "# (liste des mots apparaissant dans le dictionnaire)\n",
    "\n",
    "np.random.seed(123456)\n",
    "num_topics = 15\n",
    "%time lda_model = models.LdaModel(corpus, num_topics=num_topics, \\\n",
    "                                  id2word=dictionary_LDA, \\\n",
    "                                  passes=4, alpha=[0.01]*num_topics, \\\n",
    "                                  eta=[0.01]*len(dictionary_LDA.keys()))"
   ]
  },
  {
   "cell_type": "markdown",
   "metadata": {},
   "source": [
    "#### Etape 3 : Visualisation des topics \n",
    "\n",
    "Dans un premier temps, on peut visualiser les topics de façon très \"brute\" sous forme de listes de termes qui caractérisent chaque topic. L'interprétation de ces topics demande une réfléxion \"humaine\" pour les rendre intelligibles. "
   ]
  },
  {
   "cell_type": "code",
   "execution_count": 235,
   "metadata": {},
   "outputs": [
    {
     "name": "stdout",
     "output_type": "stream",
     "text": [
      "0: 0.022*\"point\" + 0.017*\"document\" + 0.013*\"relations_entre\" + 0.010*\"suite\" + 0.009*\"réponse\" + 0.008*\"points\" + 0.008*\"droit\" + 0.008*\"avis\" + 0.008*\"agissant\" + 0.008*\"ministre\"\n",
      "\n",
      "1: 0.031*\"relations_entre\" + 0.023*\"personne\" + 0.022*\"mentions\" + 0.022*\"communicables\" + 0.018*\"porterait_atteinte\" + 0.018*\"estime\" + 0.017*\"préjudice\" + 0.016*\"privée\" + 0.016*\"communicable\" + 0.015*\"sécurité\"\n",
      "\n",
      "2: 0.035*\"droit\" + 0.022*\"dossier\" + 0.021*\"qualité\" + 0.020*\"médical\" + 0.016*\"santé_publique\" + 0.015*\"dossier_médical\" + 0.014*\"informations_médicales\" + 0.014*\"défunt\" + 0.014*\"demandeur\" + 0.014*\"personne_décédée\"\n",
      "\n",
      "3: 0.025*\"relations_entre\" + 0.023*\"maire\" + 0.020*\"fait\" + 0.019*\"toute_personne\" + 0.017*\"communicables\" + 0.014*\"commune\" + 0.014*\"émet_donc\" + 0.013*\"estime\" + 0.010*\"articles\" + 0.010*\"sous_réserve\"\n",
      "\n",
      "4: 0.039*\"dossier\" + 0.027*\"relations_entre\" + 0.019*\"communicables\" + 0.018*\"droit\" + 0.015*\"administratifs\" + 0.015*\"dispositions\" + 0.014*\"sécurité_sociale\" + 0.013*\"procédure_disciplinaire\" + 0.013*\"intéressé\" + 0.013*\"personne\"\n",
      "\n",
      "5: 0.038*\"santé_publique\" + 0.031*\"santé\" + 0.022*\"relations_entre\" + 0.018*\"professionnels_santé\" + 0.016*\"centre_hospitalier\" + 0.016*\"avis\" + 0.013*\"concernant\" + 0.012*\"médical\" + 0.012*\"opposé_directeur\" + 0.012*\"communicables\"\n",
      "\n",
      "6: 0.031*\"marché\" + 0.015*\"entreprises_non\" + 0.014*\"communicables\" + 0.014*\"entreprise_attributaire\" + 0.014*\"relations_entre\" + 0.013*\"secret_affaires\" + 0.013*\"offre\" + 0.012*\"mentions_relatives\" + 0.012*\"communicable\" + 0.011*\"publics\"\n",
      "\n",
      "7: 0.042*\"avis\" + 0.041*\"adressée\" + 0.041*\"réponse\" + 0.037*\"informé\" + 0.030*\"objet\" + 0.029*\"courrier\" + 0.028*\"présent_avis\" + 0.025*\"déclarer_sans\" + 0.025*\"articles\" + 0.023*\"relations_entre\"\n",
      "\n",
      "8: 0.023*\"électronique\" + 0.018*\"communicables\" + 0.017*\"relations_entre\" + 0.017*\"demandeur\" + 0.016*\"sans\" + 0.016*\"sous_forme\" + 0.012*\"document\" + 0.010*\"courrier\" + 0.010*\"administratifs\" + 0.009*\"place\"\n",
      "\n",
      "9: 0.027*\"service\" + 0.017*\"relations_entre\" + 0.015*\"entre\" + 0.014*\"administratifs\" + 0.013*\"personnes\" + 0.010*\"conseil\" + 0.009*\"autres\" + 0.009*\"droit_privé\" + 0.009*\"termes\" + 0.008*\"loi\"\n",
      "\n",
      "10: 0.022*\"relations_entre\" + 0.013*\"concernant\" + 0.013*\"agents\" + 0.011*\"communicables\" + 0.010*\"agent\" + 0.010*\"liste\" + 0.010*\"estime\" + 0.008*\"émet_donc\" + 0.008*\"point\" + 0.008*\"fait\"\n",
      "\n",
      "11: 0.064*\"environnement\" + 0.020*\"relations_entre\" + 0.017*\"dispositions\" + 0.017*\"articles\" + 0.017*\"éléments\" + 0.017*\"informations_relatives\" + 0.016*\"état\" + 0.013*\"droit\" + 0.011*\"toute_personne\" + 0.010*\"ii\"\n",
      "\n",
      "12: 0.020*\"dispositions\" + 0.018*\"informations\" + 0.011*\"objet\" + 0.010*\"loi\" + 0.010*\"fait\" + 0.010*\"relations_entre\" + 0.009*\"articles\" + 0.008*\"données_caractère\" + 0.007*\"conseil\" + 0.007*\"droit\"\n",
      "\n",
      "13: 0.018*\"conseil_départemental\" + 0.016*\"dossier\" + 0.014*\"patrimoine\" + 0.011*\"président\" + 0.010*\"cadre\" + 0.009*\"judiciaire\" + 0.009*\"enfant\" + 0.008*\"caractère\" + 0.008*\"dossiers\" + 0.008*\"administratif\"\n",
      "\n",
      "14: 0.029*\"toute_personne\" + 0.027*\"général_collectivités\" + 0.027*\"relations_entre\" + 0.024*\"conseil_municipal\" + 0.024*\"territoriales\" + 0.019*\"droit\" + 0.019*\"maire\" + 0.019*\"délibérations\" + 0.019*\"commune\" + 0.018*\"fait\"\n",
      "\n"
     ]
    }
   ],
   "source": [
    "# avec 15 topics \n",
    "for i,topic in lda_model.show_topics(formatted=True, num_topics=num_topics, num_words=10):\n",
    "    print(str(i)+\": \"+ topic)\n",
    "    print()"
   ]
  },
  {
   "cell_type": "markdown",
   "metadata": {},
   "source": [
    "#### Etape 4 : Attribution des topics aux documents \n"
   ]
  },
  {
   "cell_type": "code",
   "execution_count": 227,
   "metadata": {},
   "outputs": [
    {
     "name": "stdout",
     "output_type": "stream",
     "text": [
      "[(3, 0.06815649), (4, 0.505667), (10, 0.17610063), (12, 0.24633542)]\n"
     ]
    }
   ],
   "source": [
    "# pour un document\n",
    "print(lda_model[corpus[0]])\n",
    "\n",
    "# pour tous les documents, on crée une colonne topic number \n",
    "df[\"topic_list\"] = [lda_model[i] for i in corpus]\n",
    "# la commande ci dessus nous permet, pour chaque document, d'obtenir une liste de topics avec les probabilités associées \n",
    "# que chaque document appartienne \n",
    "df[\"main_topic\"] = df[\"topic_list\"].map(lambda list_topic: list_topic[0][0])\n",
    "df[\"main_topic_proba\"] = df[\"topic_list\"].map(lambda list_topic: list_topic[0][1])"
   ]
  },
  {
   "cell_type": "code",
   "execution_count": 228,
   "metadata": {},
   "outputs": [
    {
     "data": {
      "text/html": [
       "<div>\n",
       "<style scoped>\n",
       "    .dataframe tbody tr th:only-of-type {\n",
       "        vertical-align: middle;\n",
       "    }\n",
       "\n",
       "    .dataframe tbody tr th {\n",
       "        vertical-align: top;\n",
       "    }\n",
       "\n",
       "    .dataframe thead th {\n",
       "        text-align: right;\n",
       "    }\n",
       "</style>\n",
       "<table border=\"1\" class=\"dataframe\">\n",
       "  <thead>\n",
       "    <tr style=\"text-align: right;\">\n",
       "      <th></th>\n",
       "      <th>Numéro de dossier</th>\n",
       "      <th>Administration</th>\n",
       "      <th>Type</th>\n",
       "      <th>Année</th>\n",
       "      <th>Séance</th>\n",
       "      <th>Objet</th>\n",
       "      <th>Thème et sous thème</th>\n",
       "      <th>Mots clés</th>\n",
       "      <th>Sens et motivation</th>\n",
       "      <th>Partie</th>\n",
       "      <th>Avis</th>\n",
       "      <th>count</th>\n",
       "      <th>avis_sent_token</th>\n",
       "      <th>avis_word_token</th>\n",
       "      <th>nb_char</th>\n",
       "      <th>nb_sent_token</th>\n",
       "      <th>nb_word_token</th>\n",
       "      <th>topic_list</th>\n",
       "      <th>main_topic</th>\n",
       "      <th>main_topic_proba</th>\n",
       "    </tr>\n",
       "  </thead>\n",
       "  <tbody>\n",
       "    <tr>\n",
       "      <td>0</td>\n",
       "      <td>19840002</td>\n",
       "      <td>ministre de la défense</td>\n",
       "      <td>Avis</td>\n",
       "      <td>1984</td>\n",
       "      <td>03/03/1984</td>\n",
       "      <td>[Voir avis]</td>\n",
       "      <td>Justice, Ordre Public Et Sécurité/Défense Et D...</td>\n",
       "      <td>Armée</td>\n",
       "      <td>Défavorable/Défense</td>\n",
       "      <td>III</td>\n",
       "      <td>La commission d'accès aux documents administra...</td>\n",
       "      <td>1</td>\n",
       "      <td>[La commission d'accès aux documents administr...</td>\n",
       "      <td>[commission, accès, documents, administratifs,...</td>\n",
       "      <td>487</td>\n",
       "      <td>2</td>\n",
       "      <td>85</td>\n",
       "      <td>[(3, 0.06808352), (4, 0.5057026), (10, 0.17612...</td>\n",
       "      <td>3</td>\n",
       "      <td>0.068084</td>\n",
       "    </tr>\n",
       "    <tr>\n",
       "      <td>1</td>\n",
       "      <td>19840003</td>\n",
       "      <td>ministre de la défense</td>\n",
       "      <td>Avis</td>\n",
       "      <td>1984</td>\n",
       "      <td>13/12/1984</td>\n",
       "      <td>[Voir avis]</td>\n",
       "      <td>Economie, Industrie, Agriculture/Secteurs Écon...</td>\n",
       "      <td>Armée</td>\n",
       "      <td>Irrecevable/Imprécise, Défavorable/Défense, In...</td>\n",
       "      <td>III</td>\n",
       "      <td>La commission d'accès aux documents administra...</td>\n",
       "      <td>1</td>\n",
       "      <td>[La commission d'accès aux documents administr...</td>\n",
       "      <td>[commission, accès, documents, administratifs,...</td>\n",
       "      <td>958</td>\n",
       "      <td>5</td>\n",
       "      <td>166</td>\n",
       "      <td>[(0, 0.1254243), (3, 0.14432055), (9, 0.169096...</td>\n",
       "      <td>0</td>\n",
       "      <td>0.125424</td>\n",
       "    </tr>\n",
       "    <tr>\n",
       "      <td>2</td>\n",
       "      <td>19850001</td>\n",
       "      <td>ministre de l'économie, des finances et du budget</td>\n",
       "      <td>Avis</td>\n",
       "      <td>1985</td>\n",
       "      <td>05/12/1985</td>\n",
       "      <td>[Voir avis]</td>\n",
       "      <td>Justice, Ordre Public Et Sécurité/Association,...</td>\n",
       "      <td>NaN</td>\n",
       "      <td>Défavorable</td>\n",
       "      <td>III</td>\n",
       "      <td>La commission d'accès aux documents administra...</td>\n",
       "      <td>1</td>\n",
       "      <td>[La commission d'accès aux documents administr...</td>\n",
       "      <td>[commission, accès, documents, administratifs,...</td>\n",
       "      <td>787</td>\n",
       "      <td>3</td>\n",
       "      <td>135</td>\n",
       "      <td>[(0, 0.15807939), (4, 0.05286399), (7, 0.11249...</td>\n",
       "      <td>0</td>\n",
       "      <td>0.158079</td>\n",
       "    </tr>\n",
       "    <tr>\n",
       "      <td>3</td>\n",
       "      <td>19860001</td>\n",
       "      <td>directeur départemental du travail et de l'emp...</td>\n",
       "      <td>Conseil</td>\n",
       "      <td>1986</td>\n",
       "      <td>30/01/1986</td>\n",
       "      <td>(voir avis)</td>\n",
       "      <td>Travail Et Emploi/Droit Du Travail</td>\n",
       "      <td>Licenciement, Conditions de travail</td>\n",
       "      <td>Défavorable/Procédure, Sans objet</td>\n",
       "      <td>III</td>\n",
       "      <td>La commission d'accès aux documents administra...</td>\n",
       "      <td>1</td>\n",
       "      <td>[La commission d'accès aux documents administr...</td>\n",
       "      <td>[commission, accès, documents, administratifs,...</td>\n",
       "      <td>532</td>\n",
       "      <td>3</td>\n",
       "      <td>88</td>\n",
       "      <td>[(3, 0.21685626), (4, 0.13340728), (12, 0.6454...</td>\n",
       "      <td>3</td>\n",
       "      <td>0.216856</td>\n",
       "    </tr>\n",
       "    <tr>\n",
       "      <td>4</td>\n",
       "      <td>19870061</td>\n",
       "      <td>gouverneur de la Banque de France</td>\n",
       "      <td>Avis</td>\n",
       "      <td>1987</td>\n",
       "      <td>02/04/1987</td>\n",
       "      <td>[Voir avis]</td>\n",
       "      <td>Economie, Industrie, Agriculture/Secteurs Écon...</td>\n",
       "      <td>Banques et assurances</td>\n",
       "      <td>Défavorable/Sécurité publique, Favorable/Sauf ...</td>\n",
       "      <td>III</td>\n",
       "      <td>La commission d'accès aux documents administra...</td>\n",
       "      <td>1</td>\n",
       "      <td>[La commission d'accès aux documents administr...</td>\n",
       "      <td>[commission, accès, documents, administratifs,...</td>\n",
       "      <td>1821</td>\n",
       "      <td>6</td>\n",
       "      <td>332</td>\n",
       "      <td>[(0, 0.2535904), (4, 0.2392163), (7, 0.0244689...</td>\n",
       "      <td>0</td>\n",
       "      <td>0.253590</td>\n",
       "    </tr>\n",
       "  </tbody>\n",
       "</table>\n",
       "</div>"
      ],
      "text/plain": [
       "   Numéro de dossier                                     Administration  \\\n",
       "0           19840002                             ministre de la défense   \n",
       "1           19840003                             ministre de la défense   \n",
       "2           19850001  ministre de l'économie, des finances et du budget   \n",
       "3           19860001  directeur départemental du travail et de l'emp...   \n",
       "4           19870061                  gouverneur de la Banque de France   \n",
       "\n",
       "      Type  Année      Séance        Objet  \\\n",
       "0     Avis   1984  03/03/1984  [Voir avis]   \n",
       "1     Avis   1984  13/12/1984  [Voir avis]   \n",
       "2     Avis   1985  05/12/1985  [Voir avis]   \n",
       "3  Conseil   1986  30/01/1986  (voir avis)   \n",
       "4     Avis   1987  02/04/1987  [Voir avis]   \n",
       "\n",
       "                                 Thème et sous thème  \\\n",
       "0  Justice, Ordre Public Et Sécurité/Défense Et D...   \n",
       "1  Economie, Industrie, Agriculture/Secteurs Écon...   \n",
       "2  Justice, Ordre Public Et Sécurité/Association,...   \n",
       "3                 Travail Et Emploi/Droit Du Travail   \n",
       "4  Economie, Industrie, Agriculture/Secteurs Écon...   \n",
       "\n",
       "                             Mots clés  \\\n",
       "0                                Armée   \n",
       "1                                Armée   \n",
       "2                                  NaN   \n",
       "3  Licenciement, Conditions de travail   \n",
       "4                Banques et assurances   \n",
       "\n",
       "                                  Sens et motivation Partie  \\\n",
       "0                                Défavorable/Défense    III   \n",
       "1  Irrecevable/Imprécise, Défavorable/Défense, In...    III   \n",
       "2                                        Défavorable    III   \n",
       "3                  Défavorable/Procédure, Sans objet    III   \n",
       "4  Défavorable/Sécurité publique, Favorable/Sauf ...    III   \n",
       "\n",
       "                                                Avis  count  \\\n",
       "0  La commission d'accès aux documents administra...      1   \n",
       "1  La commission d'accès aux documents administra...      1   \n",
       "2  La commission d'accès aux documents administra...      1   \n",
       "3  La commission d'accès aux documents administra...      1   \n",
       "4  La commission d'accès aux documents administra...      1   \n",
       "\n",
       "                                     avis_sent_token  \\\n",
       "0  [La commission d'accès aux documents administr...   \n",
       "1  [La commission d'accès aux documents administr...   \n",
       "2  [La commission d'accès aux documents administr...   \n",
       "3  [La commission d'accès aux documents administr...   \n",
       "4  [La commission d'accès aux documents administr...   \n",
       "\n",
       "                                     avis_word_token  nb_char  nb_sent_token  \\\n",
       "0  [commission, accès, documents, administratifs,...      487              2   \n",
       "1  [commission, accès, documents, administratifs,...      958              5   \n",
       "2  [commission, accès, documents, administratifs,...      787              3   \n",
       "3  [commission, accès, documents, administratifs,...      532              3   \n",
       "4  [commission, accès, documents, administratifs,...     1821              6   \n",
       "\n",
       "   nb_word_token                                         topic_list  \\\n",
       "0             85  [(3, 0.06808352), (4, 0.5057026), (10, 0.17612...   \n",
       "1            166  [(0, 0.1254243), (3, 0.14432055), (9, 0.169096...   \n",
       "2            135  [(0, 0.15807939), (4, 0.05286399), (7, 0.11249...   \n",
       "3             88  [(3, 0.21685626), (4, 0.13340728), (12, 0.6454...   \n",
       "4            332  [(0, 0.2535904), (4, 0.2392163), (7, 0.0244689...   \n",
       "\n",
       "   main_topic  main_topic_proba  \n",
       "0           3          0.068084  \n",
       "1           0          0.125424  \n",
       "2           0          0.158079  \n",
       "3           3          0.216856  \n",
       "4           0          0.253590  "
      ]
     },
     "execution_count": 228,
     "metadata": {},
     "output_type": "execute_result"
    }
   ],
   "source": [
    "df.head()"
   ]
  },
  {
   "cell_type": "code",
   "execution_count": 298,
   "metadata": {},
   "outputs": [
    {
     "data": {
      "text/html": [
       "<div>\n",
       "<style scoped>\n",
       "    .dataframe tbody tr th:only-of-type {\n",
       "        vertical-align: middle;\n",
       "    }\n",
       "\n",
       "    .dataframe tbody tr th {\n",
       "        vertical-align: top;\n",
       "    }\n",
       "\n",
       "    .dataframe thead th {\n",
       "        text-align: right;\n",
       "    }\n",
       "</style>\n",
       "<table border=\"1\" class=\"dataframe\">\n",
       "  <thead>\n",
       "    <tr style=\"text-align: right;\">\n",
       "      <th></th>\n",
       "      <th>main_topic</th>\n",
       "      <th>nombre_documents</th>\n",
       "    </tr>\n",
       "  </thead>\n",
       "  <tbody>\n",
       "    <tr>\n",
       "      <td>0</td>\n",
       "      <td>0</td>\n",
       "      <td>26676</td>\n",
       "    </tr>\n",
       "    <tr>\n",
       "      <td>1</td>\n",
       "      <td>3</td>\n",
       "      <td>4962</td>\n",
       "    </tr>\n",
       "    <tr>\n",
       "      <td>2</td>\n",
       "      <td>4</td>\n",
       "      <td>2216</td>\n",
       "    </tr>\n",
       "    <tr>\n",
       "      <td>3</td>\n",
       "      <td>1</td>\n",
       "      <td>2194</td>\n",
       "    </tr>\n",
       "    <tr>\n",
       "      <td>4</td>\n",
       "      <td>2</td>\n",
       "      <td>1584</td>\n",
       "    </tr>\n",
       "    <tr>\n",
       "      <td>5</td>\n",
       "      <td>5</td>\n",
       "      <td>399</td>\n",
       "    </tr>\n",
       "    <tr>\n",
       "      <td>6</td>\n",
       "      <td>6</td>\n",
       "      <td>114</td>\n",
       "    </tr>\n",
       "    <tr>\n",
       "      <td>7</td>\n",
       "      <td>7</td>\n",
       "      <td>74</td>\n",
       "    </tr>\n",
       "    <tr>\n",
       "      <td>8</td>\n",
       "      <td>9</td>\n",
       "      <td>38</td>\n",
       "    </tr>\n",
       "    <tr>\n",
       "      <td>9</td>\n",
       "      <td>10</td>\n",
       "      <td>24</td>\n",
       "    </tr>\n",
       "    <tr>\n",
       "      <td>10</td>\n",
       "      <td>8</td>\n",
       "      <td>5</td>\n",
       "    </tr>\n",
       "  </tbody>\n",
       "</table>\n",
       "</div>"
      ],
      "text/plain": [
       "    main_topic  nombre_documents\n",
       "0            0             26676\n",
       "1            3              4962\n",
       "2            4              2216\n",
       "3            1              2194\n",
       "4            2              1584\n",
       "5            5               399\n",
       "6            6               114\n",
       "7            7                74\n",
       "8            9                38\n",
       "9           10                24\n",
       "10           8                 5"
      ]
     },
     "execution_count": 298,
     "metadata": {},
     "output_type": "execute_result"
    }
   ],
   "source": [
    "df[\"nombre_documents\"] = 1\n",
    "df_topic = df.groupby([\"main_topic\"])[\"nombre_documents\"].count().sort_values(ascending = False).reset_index()\n",
    "df_topic"
   ]
  },
  {
   "cell_type": "markdown",
   "metadata": {},
   "source": [
    "#### Etape 5 : Eventuellement retour à l'étape 1 (en modifiant les étapes de netoyages) et 2 (en testant différents paramètres, avec en particulier le nombre de topics)\n"
   ]
  },
  {
   "cell_type": "markdown",
   "metadata": {},
   "source": [
    "#### Etape 6: Visualisation interactive des topics avec la librairie pyLDAvis\n"
   ]
  },
  {
   "cell_type": "code",
   "execution_count": 232,
   "metadata": {},
   "outputs": [
    {
     "name": "stderr",
     "output_type": "stream",
     "text": [
      "/Users/kimmontalibet/opt/anaconda3/lib/python3.7/site-packages/past/builtins/misc.py:4: DeprecationWarning: Using or importing the ABCs from 'collections' instead of from 'collections.abc' is deprecated, and in 3.8 it will stop working\n",
      "  from collections import Mapping\n"
     ]
    }
   ],
   "source": [
    "\n",
    "%matplotlib inline\n",
    "# !pip install pyLDAvis\n",
    "import pyLDAvis\n",
    "import pyLDAvis.gensim\n"
   ]
  },
  {
   "cell_type": "code",
   "execution_count": 233,
   "metadata": {},
   "outputs": [
    {
     "data": {
      "text/html": [
       "\n",
       "<link rel=\"stylesheet\" type=\"text/css\" href=\"https://cdn.rawgit.com/bmabey/pyLDAvis/files/ldavis.v1.0.0.css\">\n",
       "\n",
       "\n",
       "<div id=\"ldavis_el916961132346688808019022567\"></div>\n",
       "<script type=\"text/javascript\">\n",
       "\n",
       "var ldavis_el916961132346688808019022567_data = {\"mdsDat\": {\"x\": [0.07028180879820398, 0.04629606520061638, 0.07044330491238007, -0.04976273870206988, -0.0028800532212931995, 0.16120459167359782, 0.10871540913320075, 0.010044977423093307, 0.04031610320060749, 0.0735211467294302, 0.0012195019476632628, -0.2257901760691039, -0.3036099410263268], \"y\": [-0.02931926132843481, -0.10388043664858573, -0.016901785615748392, 0.05523249183174442, 0.11379884966140154, 0.0013177594310557965, -0.01943212026209197, -0.11116763963944871, 0.15241468356766108, -0.22014161314239944, 0.24730276035790444, 0.03694794924915198, -0.10617163746221113], \"topics\": [1, 2, 3, 4, 5, 6, 7, 8, 9, 10, 11, 12, 13], \"cluster\": [1, 1, 1, 1, 1, 1, 1, 1, 1, 1, 1, 1, 1], \"Freq\": [14.434260368347168, 13.359357833862305, 11.337884902954102, 10.654115676879883, 9.406167030334473, 8.154457092285156, 7.249042510986328, 6.65201473236084, 5.326041221618652, 4.254370212554932, 4.0373077392578125, 2.959826946258545, 2.175149440765381]}, \"tinfo\": {\"Category\": [\"Default\", \"Default\", \"Default\", \"Default\", \"Default\", \"Default\", \"Default\", \"Default\", \"Default\", \"Default\", \"Default\", \"Default\", \"Default\", \"Default\", \"Default\", \"Default\", \"Default\", \"Default\", \"Default\", \"Default\", \"Default\", \"Default\", \"Default\", \"Default\", \"Default\", \"Default\", \"Default\", \"Default\", \"Default\", \"Default\", \"Topic1\", \"Topic1\", \"Topic1\", \"Topic1\", \"Topic1\", \"Topic1\", \"Topic1\", \"Topic1\", \"Topic1\", \"Topic1\", \"Topic1\", \"Topic1\", \"Topic1\", \"Topic1\", \"Topic1\", \"Topic1\", \"Topic1\", \"Topic1\", \"Topic1\", \"Topic1\", \"Topic1\", \"Topic1\", \"Topic1\", \"Topic1\", \"Topic1\", \"Topic1\", \"Topic1\", \"Topic1\", \"Topic1\", \"Topic1\", \"Topic1\", \"Topic1\", \"Topic1\", \"Topic1\", \"Topic1\", \"Topic1\", \"Topic1\", \"Topic1\", \"Topic1\", \"Topic1\", \"Topic1\", \"Topic1\", \"Topic1\", \"Topic1\", \"Topic1\", \"Topic1\", \"Topic1\", \"Topic1\", \"Topic1\", \"Topic1\", \"Topic1\", \"Topic1\", \"Topic1\", \"Topic1\", \"Topic1\", \"Topic1\", \"Topic1\", \"Topic1\", \"Topic1\", \"Topic1\", \"Topic1\", \"Topic1\", \"Topic1\", \"Topic1\", \"Topic1\", \"Topic1\", \"Topic1\", \"Topic1\", \"Topic1\", \"Topic1\", \"Topic1\", \"Topic1\", \"Topic1\", \"Topic1\", \"Topic2\", \"Topic2\", \"Topic2\", \"Topic2\", \"Topic2\", \"Topic2\", \"Topic2\", \"Topic2\", \"Topic2\", \"Topic2\", \"Topic2\", \"Topic2\", \"Topic2\", \"Topic2\", \"Topic2\", \"Topic2\", \"Topic2\", \"Topic2\", \"Topic2\", \"Topic2\", \"Topic2\", \"Topic2\", \"Topic2\", \"Topic2\", \"Topic2\", \"Topic2\", \"Topic2\", \"Topic2\", \"Topic2\", \"Topic2\", \"Topic2\", \"Topic2\", \"Topic2\", \"Topic2\", \"Topic2\", \"Topic2\", \"Topic2\", \"Topic2\", \"Topic2\", \"Topic2\", \"Topic2\", \"Topic2\", \"Topic2\", \"Topic2\", \"Topic2\", \"Topic2\", \"Topic2\", \"Topic2\", \"Topic2\", \"Topic2\", \"Topic2\", \"Topic2\", \"Topic2\", \"Topic2\", \"Topic2\", \"Topic2\", \"Topic2\", \"Topic2\", \"Topic2\", \"Topic2\", \"Topic2\", \"Topic2\", \"Topic2\", \"Topic2\", \"Topic2\", \"Topic2\", \"Topic2\", \"Topic2\", \"Topic2\", \"Topic2\", \"Topic2\", \"Topic2\", \"Topic2\", \"Topic2\", \"Topic3\", \"Topic3\", \"Topic3\", \"Topic3\", \"Topic3\", \"Topic3\", \"Topic3\", \"Topic3\", \"Topic3\", \"Topic3\", \"Topic3\", \"Topic3\", \"Topic3\", \"Topic3\", \"Topic3\", \"Topic3\", \"Topic3\", \"Topic3\", \"Topic3\", \"Topic3\", \"Topic3\", \"Topic3\", \"Topic3\", \"Topic3\", \"Topic3\", \"Topic3\", \"Topic3\", \"Topic3\", \"Topic3\", \"Topic3\", \"Topic3\", \"Topic3\", \"Topic3\", \"Topic3\", \"Topic3\", \"Topic3\", \"Topic3\", \"Topic3\", \"Topic3\", \"Topic3\", \"Topic3\", \"Topic3\", \"Topic3\", \"Topic3\", \"Topic3\", \"Topic3\", \"Topic3\", \"Topic3\", \"Topic3\", \"Topic3\", \"Topic3\", \"Topic3\", \"Topic3\", \"Topic3\", \"Topic3\", \"Topic3\", \"Topic3\", \"Topic3\", \"Topic3\", \"Topic3\", \"Topic3\", \"Topic3\", \"Topic3\", \"Topic3\", \"Topic3\", \"Topic3\", \"Topic3\", \"Topic4\", \"Topic4\", \"Topic4\", \"Topic4\", \"Topic4\", \"Topic4\", \"Topic4\", \"Topic4\", \"Topic4\", \"Topic4\", \"Topic4\", \"Topic4\", \"Topic4\", \"Topic4\", \"Topic4\", \"Topic4\", \"Topic4\", \"Topic4\", \"Topic4\", \"Topic4\", \"Topic4\", \"Topic4\", \"Topic4\", \"Topic4\", \"Topic4\", \"Topic4\", \"Topic4\", \"Topic4\", \"Topic4\", \"Topic4\", \"Topic4\", \"Topic4\", \"Topic4\", \"Topic4\", \"Topic4\", \"Topic4\", \"Topic4\", \"Topic4\", \"Topic4\", \"Topic4\", \"Topic4\", \"Topic4\", \"Topic4\", \"Topic4\", \"Topic4\", \"Topic4\", \"Topic4\", \"Topic4\", \"Topic4\", \"Topic4\", \"Topic4\", \"Topic4\", \"Topic4\", \"Topic4\", \"Topic4\", \"Topic4\", \"Topic4\", \"Topic4\", \"Topic4\", \"Topic4\", \"Topic4\", \"Topic4\", \"Topic4\", \"Topic4\", \"Topic4\", \"Topic4\", \"Topic4\", \"Topic4\", \"Topic4\", \"Topic4\", \"Topic4\", \"Topic4\", \"Topic4\", \"Topic4\", \"Topic4\", \"Topic4\", \"Topic4\", \"Topic4\", \"Topic4\", \"Topic4\", \"Topic4\", \"Topic4\", \"Topic4\", \"Topic4\", \"Topic5\", \"Topic5\", \"Topic5\", \"Topic5\", \"Topic5\", \"Topic5\", \"Topic5\", \"Topic5\", \"Topic5\", \"Topic5\", \"Topic5\", \"Topic5\", \"Topic5\", \"Topic5\", \"Topic5\", \"Topic5\", \"Topic5\", \"Topic5\", \"Topic5\", \"Topic5\", \"Topic5\", \"Topic5\", \"Topic5\", \"Topic5\", \"Topic5\", \"Topic5\", \"Topic5\", \"Topic5\", \"Topic5\", \"Topic5\", \"Topic5\", \"Topic5\", \"Topic5\", \"Topic5\", \"Topic5\", \"Topic5\", \"Topic5\", \"Topic5\", \"Topic5\", \"Topic5\", \"Topic5\", \"Topic5\", \"Topic5\", \"Topic5\", \"Topic5\", \"Topic5\", \"Topic5\", \"Topic5\", \"Topic5\", \"Topic5\", \"Topic5\", \"Topic5\", \"Topic5\", \"Topic5\", \"Topic5\", \"Topic5\", \"Topic5\", \"Topic5\", \"Topic5\", \"Topic5\", \"Topic5\", \"Topic5\", \"Topic5\", \"Topic5\", \"Topic5\", \"Topic5\", \"Topic5\", \"Topic5\", \"Topic5\", \"Topic5\", \"Topic5\", \"Topic5\", \"Topic5\", \"Topic5\", \"Topic5\", \"Topic5\", \"Topic5\", \"Topic5\", \"Topic5\", \"Topic5\", \"Topic5\", \"Topic5\", \"Topic5\", \"Topic5\", \"Topic5\", \"Topic5\", \"Topic5\", \"Topic5\", \"Topic5\", \"Topic5\", \"Topic5\", \"Topic5\", \"Topic5\", \"Topic5\", \"Topic5\", \"Topic5\", \"Topic5\", \"Topic6\", \"Topic6\", \"Topic6\", \"Topic6\", \"Topic6\", \"Topic6\", \"Topic6\", \"Topic6\", \"Topic6\", \"Topic6\", \"Topic6\", \"Topic6\", \"Topic6\", \"Topic6\", \"Topic6\", \"Topic6\", \"Topic6\", \"Topic6\", \"Topic6\", \"Topic6\", \"Topic6\", \"Topic6\", \"Topic6\", \"Topic6\", \"Topic6\", \"Topic6\", \"Topic6\", \"Topic6\", \"Topic6\", \"Topic6\", \"Topic6\", \"Topic6\", \"Topic6\", \"Topic6\", \"Topic6\", \"Topic6\", \"Topic6\", \"Topic6\", \"Topic6\", \"Topic6\", \"Topic6\", \"Topic6\", \"Topic6\", \"Topic6\", \"Topic6\", \"Topic6\", \"Topic6\", \"Topic6\", \"Topic6\", \"Topic6\", \"Topic6\", \"Topic6\", \"Topic7\", \"Topic7\", \"Topic7\", \"Topic7\", \"Topic7\", \"Topic7\", \"Topic7\", \"Topic7\", \"Topic7\", \"Topic7\", \"Topic7\", \"Topic7\", \"Topic7\", \"Topic7\", \"Topic7\", \"Topic7\", \"Topic7\", \"Topic7\", \"Topic7\", \"Topic7\", \"Topic7\", \"Topic7\", \"Topic7\", \"Topic7\", \"Topic7\", \"Topic7\", \"Topic7\", \"Topic7\", \"Topic7\", \"Topic7\", \"Topic7\", \"Topic7\", \"Topic7\", \"Topic7\", \"Topic7\", \"Topic7\", \"Topic7\", \"Topic7\", \"Topic7\", \"Topic7\", \"Topic7\", \"Topic7\", \"Topic7\", \"Topic7\", \"Topic7\", \"Topic7\", \"Topic7\", \"Topic7\", \"Topic7\", \"Topic7\", \"Topic7\", \"Topic7\", \"Topic7\", \"Topic7\", \"Topic7\", \"Topic7\", \"Topic7\", \"Topic7\", \"Topic7\", \"Topic7\", \"Topic7\", \"Topic7\", \"Topic7\", \"Topic7\", \"Topic7\", \"Topic7\", \"Topic7\", \"Topic7\", \"Topic7\", \"Topic7\", \"Topic7\", \"Topic7\", \"Topic7\", \"Topic7\", \"Topic7\", \"Topic8\", \"Topic8\", \"Topic8\", \"Topic8\", \"Topic8\", \"Topic8\", \"Topic8\", \"Topic8\", \"Topic8\", \"Topic8\", \"Topic8\", \"Topic8\", \"Topic8\", \"Topic8\", \"Topic8\", \"Topic8\", \"Topic8\", \"Topic8\", \"Topic8\", \"Topic8\", \"Topic8\", \"Topic8\", \"Topic8\", \"Topic8\", \"Topic8\", \"Topic8\", \"Topic8\", \"Topic8\", \"Topic8\", \"Topic8\", \"Topic8\", \"Topic8\", \"Topic8\", \"Topic8\", \"Topic8\", \"Topic8\", \"Topic8\", \"Topic8\", \"Topic8\", \"Topic8\", \"Topic8\", \"Topic8\", \"Topic8\", \"Topic8\", \"Topic8\", \"Topic8\", \"Topic8\", \"Topic8\", \"Topic8\", \"Topic8\", \"Topic8\", \"Topic8\", \"Topic8\", \"Topic8\", \"Topic8\", \"Topic8\", \"Topic8\", \"Topic8\", \"Topic8\", \"Topic8\", \"Topic9\", \"Topic9\", \"Topic9\", \"Topic9\", \"Topic9\", \"Topic9\", \"Topic9\", \"Topic9\", \"Topic9\", \"Topic9\", \"Topic9\", \"Topic9\", \"Topic9\", \"Topic9\", \"Topic9\", \"Topic9\", \"Topic9\", \"Topic9\", \"Topic9\", \"Topic9\", \"Topic9\", \"Topic9\", \"Topic9\", \"Topic9\", \"Topic9\", \"Topic9\", \"Topic9\", \"Topic9\", \"Topic9\", \"Topic9\", \"Topic9\", \"Topic9\", \"Topic9\", \"Topic9\", \"Topic9\", \"Topic9\", \"Topic9\", \"Topic9\", \"Topic9\", \"Topic9\", \"Topic9\", \"Topic9\", \"Topic9\", \"Topic9\", \"Topic9\", \"Topic9\", \"Topic9\", \"Topic9\", \"Topic9\", \"Topic9\", \"Topic9\", \"Topic9\", \"Topic9\", \"Topic9\", \"Topic9\", \"Topic9\", \"Topic9\", \"Topic9\", \"Topic9\", \"Topic9\", \"Topic9\", \"Topic9\", \"Topic9\", \"Topic9\", \"Topic9\", \"Topic9\", \"Topic10\", \"Topic10\", \"Topic10\", \"Topic10\", \"Topic10\", \"Topic10\", \"Topic10\", \"Topic10\", \"Topic10\", \"Topic10\", \"Topic10\", \"Topic10\", \"Topic10\", \"Topic10\", \"Topic10\", \"Topic10\", \"Topic10\", \"Topic10\", \"Topic10\", \"Topic10\", \"Topic10\", \"Topic10\", \"Topic10\", \"Topic10\", \"Topic10\", \"Topic10\", \"Topic10\", \"Topic10\", \"Topic10\", \"Topic10\", \"Topic10\", \"Topic10\", \"Topic10\", \"Topic10\", \"Topic10\", \"Topic10\", \"Topic10\", \"Topic10\", \"Topic10\", \"Topic10\", \"Topic10\", \"Topic10\", \"Topic10\", \"Topic10\", \"Topic10\", \"Topic10\", \"Topic10\", \"Topic10\", \"Topic10\", \"Topic10\", \"Topic10\", \"Topic10\", \"Topic10\", \"Topic10\", \"Topic10\", \"Topic10\", \"Topic10\", \"Topic10\", \"Topic10\", \"Topic10\", \"Topic10\", \"Topic11\", \"Topic11\", \"Topic11\", \"Topic11\", \"Topic11\", \"Topic11\", \"Topic11\", \"Topic11\", \"Topic11\", \"Topic11\", \"Topic11\", \"Topic11\", \"Topic11\", \"Topic11\", \"Topic11\", \"Topic11\", \"Topic11\", \"Topic11\", \"Topic11\", \"Topic11\", \"Topic11\", \"Topic11\", \"Topic11\", \"Topic11\", \"Topic11\", \"Topic11\", \"Topic11\", \"Topic11\", \"Topic11\", \"Topic11\", \"Topic11\", \"Topic11\", \"Topic11\", \"Topic11\", \"Topic11\", \"Topic11\", \"Topic11\", \"Topic11\", \"Topic11\", \"Topic11\", \"Topic11\", \"Topic11\", \"Topic11\", \"Topic11\", \"Topic11\", \"Topic11\", \"Topic11\", \"Topic11\", \"Topic11\", \"Topic11\", \"Topic11\", \"Topic11\", \"Topic11\", \"Topic11\", \"Topic11\", \"Topic11\", \"Topic11\", \"Topic11\", \"Topic11\", \"Topic11\", \"Topic11\", \"Topic11\", \"Topic11\", \"Topic11\", \"Topic11\", \"Topic11\", \"Topic11\", \"Topic11\", \"Topic11\", \"Topic12\", \"Topic12\", \"Topic12\", \"Topic12\", \"Topic12\", \"Topic12\", \"Topic12\", \"Topic12\", \"Topic12\", \"Topic12\", \"Topic12\", \"Topic12\", \"Topic12\", \"Topic12\", \"Topic12\", \"Topic12\", \"Topic12\", \"Topic12\", \"Topic12\", \"Topic12\", \"Topic12\", \"Topic12\", \"Topic12\", \"Topic12\", \"Topic12\", \"Topic12\", \"Topic12\", \"Topic12\", \"Topic12\", \"Topic12\", \"Topic12\", \"Topic12\", \"Topic12\", \"Topic12\", \"Topic12\", \"Topic12\", \"Topic12\", \"Topic12\", \"Topic12\", \"Topic12\", \"Topic12\", \"Topic12\", \"Topic12\", \"Topic12\", \"Topic12\", \"Topic12\", \"Topic12\", \"Topic12\", \"Topic12\", \"Topic12\", \"Topic12\", \"Topic12\", \"Topic12\", \"Topic12\", \"Topic12\", \"Topic12\", \"Topic12\", \"Topic12\", \"Topic12\", \"Topic12\", \"Topic12\", \"Topic12\", \"Topic12\", \"Topic12\", \"Topic12\", \"Topic13\", \"Topic13\", \"Topic13\", \"Topic13\", \"Topic13\", \"Topic13\", \"Topic13\", \"Topic13\", \"Topic13\", \"Topic13\", \"Topic13\", \"Topic13\", \"Topic13\", \"Topic13\", \"Topic13\", \"Topic13\", \"Topic13\", \"Topic13\", \"Topic13\", \"Topic13\", \"Topic13\", \"Topic13\", \"Topic13\", \"Topic13\", \"Topic13\", \"Topic13\", \"Topic13\", \"Topic13\", \"Topic13\", \"Topic13\", \"Topic13\", \"Topic13\", \"Topic13\", \"Topic13\", \"Topic13\", \"Topic13\", \"Topic13\", \"Topic13\", \"Topic13\", \"Topic13\", \"Topic13\", \"Topic13\", \"Topic13\", \"Topic13\", \"Topic13\", \"Topic13\", \"Topic13\", \"Topic13\", \"Topic13\", \"Topic13\", \"Topic13\", \"Topic13\", \"Topic13\", \"Topic13\", \"Topic13\", \"Topic13\", \"Topic13\", \"Topic13\", \"Topic13\", \"Topic13\"], \"Freq\": [13106.0, 14814.0, 10211.0, 21258.0, 18270.0, 19523.0, 9148.0, 25178.0, 74525.0, 27503.0, 13506.0, 16075.0, 17238.0, 7597.0, 21446.0, 29182.0, 22710.0, 12082.0, 8884.0, 11157.0, 35661.0, 27545.0, 26142.0, 26527.0, 12932.0, 17296.0, 15034.0, 22038.0, 20872.0, 8007.0, 2168.67919921875, 1333.033203125, 1321.82666015625, 1073.56591796875, 872.7579345703125, 822.34765625, 741.749755859375, 705.6499633789062, 693.1812744140625, 690.8431396484375, 686.5307006835938, 681.0774536132812, 681.0774536132812, 681.0774536132812, 681.0774536132812, 679.3733520507812, 661.04638671875, 638.4334106445312, 613.0254516601562, 611.5638427734375, 552.4866333007812, 402.4774475097656, 390.54730224609375, 378.79510498046875, 365.1009521484375, 324.2950134277344, 290.23040771484375, 397.2427978515625, 275.0480651855469, 266.53533935546875, 1720.49609375, 7859.1484375, 502.0539855957031, 3541.744384765625, 1934.5948486328125, 796.09619140625, 455.02471923828125, 7050.552734375, 11338.7119140625, 6111.0869140625, 817.0284423828125, 4007.85107421875, 2559.158935546875, 15874.10546875, 4897.513671875, 16633.630859375, 1207.1927490234375, 2705.101806640625, 14486.568359375, 4241.201171875, 9437.0439453125, 12558.390625, 2096.365478515625, 1113.4044189453125, 5606.67529296875, 18125.064453125, 1817.6473388671875, 5952.54052734375, 8139.3994140625, 3644.590087890625, 4917.849609375, 5339.58251953125, 2510.952880859375, 5691.71142578125, 6480.10693359375, 4959.6796875, 5684.666015625, 3280.68408203125, 4196.853515625, 3348.840087890625, 2889.314453125, 2994.85595703125, 3020.561279296875, 2928.559326171875, 8883.9921875, 3500.86376953125, 1176.923583984375, 923.3654174804688, 920.2572021484375, 867.6996459960938, 866.9074096679688, 854.860107421875, 854.860107421875, 739.6486206054688, 759.8134155273438, 694.9631958007812, 510.0770263671875, 455.25531005859375, 411.9945983886719, 339.1593017578125, 275.2966003417969, 272.8672180175781, 264.7668151855469, 239.88954162597656, 218.03421020507812, 214.0469970703125, 205.71017456054688, 193.45391845703125, 170.177734375, 164.05442810058594, 161.8007354736328, 143.92799377441406, 125.71475982666016, 104.64002990722656, 2685.729736328125, 1945.4312744140625, 917.0679931640625, 961.1931762695312, 942.151611328125, 14009.509765625, 602.116455078125, 804.78857421875, 16213.78125, 460.47430419921875, 10971.017578125, 17075.384765625, 7152.5673828125, 2071.9287109375, 19599.59765625, 9728.517578125, 13484.76171875, 1762.477294921875, 1238.49365234375, 6449.27490234375, 1660.357421875, 6749.31494140625, 7540.9775390625, 5079.42529296875, 2919.407958984375, 4097.14794921875, 9046.5380859375, 4201.91552734375, 3495.35888671875, 3707.31103515625, 5432.345703125, 13249.1708984375, 3880.7734375, 5233.435546875, 4250.6025390625, 3365.279052734375, 3176.87060546875, 3475.13720703125, 4676.46240234375, 3710.041748046875, 4579.32568359375, 3796.547607421875, 3943.670654296875, 3677.067138671875, 4488.76171875, 3803.775146484375, 2729.335205078125, 1645.32470703125, 1490.7625732421875, 1430.6468505859375, 1427.099609375, 1257.4552001953125, 1126.4840087890625, 971.4468994140625, 969.7386474609375, 942.7015991210938, 806.6575927734375, 776.4364624023438, 627.65478515625, 608.456787109375, 521.740234375, 491.5957336425781, 490.3468933105469, 473.8540344238281, 459.75921630859375, 447.45355224609375, 389.37188720703125, 3418.219970703125, 305.2134094238281, 270.1275939941406, 264.8597106933594, 260.20556640625, 474.5211181640625, 226.1653289794922, 2681.298828125, 3150.46337890625, 810.99951171875, 649.8448486328125, 645.31103515625, 5103.34130859375, 1586.6141357421875, 6438.30224609375, 789.6010131835938, 1073.4200439453125, 2050.781982421875, 1970.4581298828125, 4171.2744140625, 4676.20556640625, 1495.0977783203125, 2361.7001953125, 7753.64208984375, 4712.2431640625, 3987.947509765625, 13558.2890625, 3578.378173828125, 8200.53515625, 5660.7666015625, 3726.40185546875, 5567.66796875, 5304.080078125, 4510.9345703125, 3065.455810546875, 4243.92919921875, 4133.55615234375, 3708.0107421875, 2831.347412109375, 3631.615234375, 2780.16162109375, 3047.256591796875, 2598.052001953125, 2674.9501953125, 1179.6175537109375, 973.9736938476562, 1069.9520263671875, 890.447265625, 789.5902709960938, 713.3433837890625, 547.621337890625, 529.8567504882812, 490.5633544921875, 380.2668151855469, 374.7184143066406, 376.9500427246094, 332.22393798828125, 272.42193603515625, 292.1974182128906, 255.7530059814453, 250.01986694335938, 193.78863525390625, 193.03114318847656, 186.99717712402344, 171.4091796875, 169.2230224609375, 164.2784423828125, 159.46453857421875, 157.04237365722656, 154.4700927734375, 288.89556884765625, 143.89402770996094, 140.49000549316406, 130.70347595214844, 471.2530822753906, 329.8217468261719, 395.9508972167969, 398.5401306152344, 254.610107421875, 1447.3240966796875, 3052.291259765625, 585.0699462890625, 887.5557861328125, 407.8074951171875, 1038.3204345703125, 1573.072998046875, 2478.341796875, 2113.361328125, 566.1422119140625, 651.7015380859375, 928.6396484375, 735.9177856445312, 3169.385986328125, 820.5128173828125, 6511.79736328125, 1359.66455078125, 1011.2020263671875, 1101.3763427734375, 1398.8948974609375, 1304.2637939453125, 1903.317138671875, 2978.551025390625, 2288.0048828125, 1659.280517578125, 1549.6029052734375, 4038.79248046875, 1641.4197998046875, 2001.5723876953125, 2991.705810546875, 1624.6025390625, 2534.92138671875, 2511.671875, 3535.619384765625, 2441.38134765625, 1980.668701171875, 3537.70947265625, 1697.8795166015625, 3142.248291015625, 1683.778564453125, 1738.85400390625, 2346.37646484375, 1819.16650390625, 2449.423095703125, 2418.527099609375, 1844.160888671875, 1856.9693603515625, 1953.9365234375, 1803.9619140625, 998.1249389648438, 609.041015625, 453.68182373046875, 432.0498352050781, 377.3625183105469, 339.0414733886719, 297.52886962890625, 293.8620910644531, 279.6116027832031, 210.75144958496094, 192.52037048339844, 187.24578857421875, 206.45152282714844, 166.05812072753906, 161.95367431640625, 160.56915283203125, 151.30836486816406, 142.95553588867188, 133.04736328125, 212.91262817382812, 130.69277954101562, 123.27208709716797, 122.09210968017578, 118.09119415283203, 115.20854949951172, 111.33427429199219, 110.4016342163086, 110.024169921875, 106.7669906616211, 105.64664459228516, 3280.80810546875, 888.06298828125, 486.50701904296875, 336.1885986328125, 349.0861511230469, 140.86257934570312, 1027.056396484375, 330.0360412597656, 392.2315979003906, 313.39422607421875, 170.80868530273438, 294.6358947753906, 254.27699279785156, 347.9731750488281, 266.87969970703125, 445.91668701171875, 2179.1123046875, 924.2930297851562, 1074.32080078125, 414.104736328125, 1569.23974609375, 551.357177734375, 558.2349853515625, 723.9216918945312, 1662.8319091796875, 1204.8660888671875, 1353.98876953125, 1753.48828125, 790.6542358398438, 1447.096435546875, 768.0191040039062, 929.437744140625, 4740.22216796875, 609.9541625976562, 639.225830078125, 884.2626953125, 751.8198852539062, 2151.259521484375, 1912.7340087890625, 1307.36083984375, 2069.853515625, 1994.800048828125, 1236.4931640625, 3315.912109375, 1617.7470703125, 1332.26806640625, 2476.169921875, 1338.3963623046875, 2329.3935546875, 1350.7236328125, 3653.12255859375, 2513.4580078125, 1716.6480712890625, 1384.318603515625, 2160.634521484375, 2516.57666015625, 2461.394775390625, 2902.634521484375, 1768.3280029296875, 1557.477783203125, 1558.6927490234375, 1597.5135498046875, 1863.774169921875, 1547.7972412109375, 1538.8837890625, 1502.875732421875, 1484.8466796875, 4802.33544921875, 4570.65185546875, 3307.202880859375, 2965.670166015625, 2459.397216796875, 2406.5947265625, 2359.439697265625, 2352.4404296875, 2291.9736328125, 2246.811279296875, 2117.23193359375, 2116.798095703125, 2117.23193359375, 2118.61474609375, 2120.0341796875, 2117.23193359375, 2118.168212890625, 2119.030517578125, 2060.55908203125, 2048.350830078125, 1914.2587890625, 1913.686279296875, 1769.7210693359375, 1747.806640625, 1727.9122314453125, 1703.02783203125, 1662.0616455078125, 1639.628173828125, 1612.949951171875, 1541.24365234375, 2587.70947265625, 10031.4296875, 2346.463134765625, 4103.24169921875, 2128.613525390625, 4122.42822265625, 2082.410400390625, 4057.06494140625, 3566.615234375, 2827.013916015625, 3586.13671875, 2594.659912109375, 2267.962646484375, 4701.18408203125, 3840.557373046875, 4578.87646484375, 3315.47216796875, 2491.0390625, 2353.106201171875, 2282.719482421875, 2185.4912109375, 2172.875, 1897.3232421875, 863.4509887695312, 1080.3543701171875, 593.8992919921875, 565.4540405273438, 561.0067138671875, 555.54833984375, 522.2188110351562, 512.7854614257812, 560.5401000976562, 479.64410400390625, 476.4898376464844, 476.4436950683594, 474.7090759277344, 471.41815185546875, 469.745361328125, 468.06585693359375, 459.1229248046875, 450.5321350097656, 458.5260009765625, 436.8782043457031, 417.2450256347656, 410.234130859375, 408.88580322265625, 405.8847961425781, 405.4300842285156, 396.6907043457031, 394.8077087402344, 384.92877197265625, 383.3912048339844, 494.0987854003906, 449.230712890625, 3740.041748046875, 1634.086669921875, 586.115966796875, 561.1525268554688, 900.9676513671875, 1238.724853515625, 795.6506958007812, 681.4461669921875, 2907.81640625, 1322.3170166015625, 949.7423095703125, 625.4097900390625, 563.7620239257812, 2052.084716796875, 1875.4730224609375, 1906.8707275390625, 774.9327392578125, 1334.531494140625, 839.0821533203125, 1028.4757080078125, 814.041259765625, 1428.60693359375, 1434.995361328125, 2291.03759765625, 5780.26416015625, 2871.3232421875, 764.83056640625, 1310.0694580078125, 1871.972412109375, 1506.369873046875, 2152.66162109375, 2416.9375, 1798.8267822265625, 1195.0621337890625, 1208.7735595703125, 2053.0244140625, 1645.2052001953125, 1550.7314453125, 1368.29248046875, 1380.884765625, 1320.1641845703125, 1463.551025390625, 1454.6741943359375, 3595.573974609375, 1545.1356201171875, 1526.719482421875, 1465.7012939453125, 1390.5562744140625, 1343.551025390625, 1321.3436279296875, 1223.757568359375, 1196.5999755859375, 1097.713134765625, 1079.12060546875, 1073.0966796875, 1060.3443603515625, 1058.693359375, 934.65283203125, 931.6774291992188, 902.1431884765625, 898.396484375, 896.50146484375, 877.8768920898438, 876.799072265625, 874.4486694335938, 875.7745971679688, 867.8573608398438, 862.5400390625, 861.7618408203125, 857.3038330078125, 823.4534912109375, 818.1566162109375, 803.8516845703125, 845.0112915039062, 8893.9990234375, 1397.5318603515625, 4351.5576171875, 2845.1484375, 1728.4290771484375, 3446.0625, 4492.50244140625, 920.4191284179688, 1490.918212890625, 6271.01025390625, 1911.6759033203125, 2259.1630859375, 4020.13818359375, 1020.6251220703125, 2131.18798828125, 3339.966064453125, 2294.592529296875, 2861.879150390625, 2373.20458984375, 2204.050537109375, 2999.394775390625, 1555.755859375, 1670.8450927734375, 2011.2149658203125, 1874.263671875, 1791.6318359375, 1634.67529296875, 1603.6771240234375, 1583.5150146484375, 1733.4222412109375, 1268.4947509765625, 1225.7271728515625, 1222.0323486328125, 1201.1021728515625, 1142.592529296875, 1046.065673828125, 1043.859130859375, 841.3453369140625, 812.6799926757812, 805.93798828125, 757.4052124023438, 712.7073974609375, 698.1273803710938, 606.655029296875, 587.3562622070312, 670.6007690429688, 472.18975830078125, 459.0839538574219, 446.4923095703125, 396.41192626953125, 348.3726501464844, 309.53436279296875, 274.6219177246094, 274.1731872558594, 270.0194091796875, 268.7166748046875, 268.2133483886719, 257.6918029785156, 249.82962036132812, 1234.1171875, 409.01507568359375, 12122.1162109375, 638.4501953125, 646.57568359375, 516.0053100585938, 589.8900146484375, 879.42041015625, 1166.270263671875, 3407.10009765625, 726.708251953125, 1173.3992919921875, 3438.918212890625, 2049.39453125, 1590.6846923828125, 3529.59765625, 4286.54150390625, 2040.0054931640625, 1607.8045654296875, 3795.281494140625, 1148.03515625, 1497.013916015625, 4234.56689453125, 1572.7000732421875, 2652.182861328125, 1753.6265869140625, 2062.476318359375, 1609.173095703125, 1783.8831787109375, 1623.193359375, 1532.6170654296875, 1492.5533447265625, 1373.79541015625, 1288.2349853515625, 1289.6279296875, 1247.6292724609375, 4138.2900390625, 3428.670166015625, 3239.4248046875, 2347.75048828125, 2211.125, 1560.8592529296875, 1506.2711181640625, 1304.51220703125, 1026.9132080078125, 913.3856811523438, 749.7337646484375, 671.7407836914062, 577.877685546875, 537.7813110351562, 506.6282653808594, 3426.66650390625, 486.0549011230469, 483.7483825683594, 495.747314453125, 466.6981201171875, 462.1311340332031, 454.0413818359375, 432.8712463378906, 417.7431640625, 392.1465759277344, 384.4095458984375, 337.7310791015625, 323.5572814941406, 300.9376220703125, 298.5476379394531, 1392.3245849609375, 316.0640869140625, 1784.69580078125, 2964.546142578125, 629.2966918945312, 1110.7999267578125, 1977.1544189453125, 1059.576416015625, 4330.74609375, 758.7949829101562, 4178.6865234375, 782.4595947265625, 2847.919189453125, 1479.572509765625, 886.4952392578125, 1693.4674072265625, 1702.1138916015625, 2725.117919921875, 2478.781982421875, 1345.3463134765625, 1245.198486328125, 2068.855224609375, 1953.45947265625, 1531.2132568359375, 1770.8916015625, 1677.8524169921875, 1413.2843017578125, 1478.8507080078125, 1344.3955078125, 1363.68310546875, 1376.97119140625, 2253.369384765625, 1597.842529296875, 1249.65869140625, 1176.8931884765625, 998.9766235351562, 855.8829956054688, 845.8756713867188, 636.7157592773438, 506.3416442871094, 488.12652587890625, 410.6954650878906, 399.8948059082031, 763.955078125, 362.8060607910156, 297.1012878417969, 287.8013000488281, 280.2585754394531, 239.3421173095703, 239.1333465576172, 237.9623565673828, 300.0007019042969, 222.7266845703125, 221.41001892089844, 220.56764221191406, 220.21510314941406, 211.91778564453125, 210.98928833007812, 204.04417419433594, 185.84976196289062, 175.3500518798828, 1535.1622314453125, 2171.324462890625, 241.11459350585938, 540.903564453125, 909.1783447265625, 1687.2386474609375, 823.71826171875, 1362.2481689453125, 929.208251953125, 884.5670166015625, 933.7542724609375, 2789.03369140625, 1289.6175537109375, 2480.513671875, 937.224853515625, 2567.586181640625, 732.096435546875, 7062.9248046875, 4021.07666015625, 1829.8594970703125, 3104.368896484375, 1304.8736572265625, 2649.14208984375, 1692.509765625, 5683.56689453125, 2742.7841796875, 3041.199462890625, 2034.5238037109375, 2875.29931640625, 1454.3900146484375, 1545.7327880859375, 1490.118896484375, 1623.7403564453125, 1565.780029296875, 1956.0272216796875, 1482.4197998046875, 1478.8267822265625, 1367.1531982421875, 1331.6961669921875, 1099.9061279296875, 616.6494750976562, 605.0892944335938, 605.0892944335938, 604.0457153320312, 603.2481689453125, 591.8511352539062, 590.6532592773438, 582.0874633789062, 576.18896484375, 575.6200561523438, 574.2506103515625, 574.1824951171875, 572.925537109375, 571.3729248046875, 570.5787353515625, 551.3914184570312, 529.5381469726562, 960.9524536132812, 1057.947509765625, 1016.4376831054688, 1038.3544921875, 931.1505126953125, 327.7242126464844, 995.9942016601562, 280.0312194824219, 275.03570556640625, 199.65858459472656, 182.447265625, 1026.7747802734375, 949.350341796875, 947.8553466796875, 879.961181640625, 947.8224487304688, 964.4507446289062, 902.8131713867188, 2904.021240234375, 997.7078247070312, 1310.89501953125, 1585.891357421875, 3831.46923828125, 1963.1275634765625, 1612.22265625, 664.2965087890625, 681.6024780273438, 2587.4443359375, 931.2410278320312, 1036.8463134765625, 1321.1207275390625, 2202.587646484375, 727.998779296875, 2168.940673828125, 2140.08935546875, 1566.7667236328125, 1540.6900634765625, 1661.03564453125, 1404.5623779296875, 1279.5399169921875, 1465.3748779296875, 1237.2440185546875, 1052.225341796875, 1123.0347900390625, 1116.02197265625, 1059.491455078125, 1025.8846435546875, 996.4228515625, 963.4044189453125, 962.298095703125, 684.3358154296875, 672.451904296875, 606.2384033203125, 589.7135620117188, 593.7705688476562, 579.955810546875, 571.2741088867188, 564.4042358398438, 543.2311401367188, 534.446533203125, 533.9613037109375, 533.0942993164062, 532.0914916992188, 442.67767333984375, 424.01519775390625, 455.2967529296875, 411.3599853515625, 403.38232421875, 402.8306884765625, 389.3450012207031, 389.0234069824219, 384.22161865234375, 379.6901550292969, 367.2432861328125, 399.8968200683594, 333.2109069824219, 375.1274719238281, 541.3231201171875, 429.19036865234375, 707.394775390625, 2288.787353515625, 816.3837280273438, 478.0117492675781, 2387.166015625, 1108.028076171875, 572.412109375, 561.1458740234375, 1110.7652587890625, 1343.230712890625, 1304.4986572265625, 950.9865112304688, 2258.052734375, 725.1129150390625, 1739.73095703125, 1659.851318359375, 761.7857666015625, 1004.5260620117188, 1415.8382568359375, 768.97900390625, 881.4894409179688, 938.8385009765625, 735.8087768554688, 671.005615234375, 720.1239624023438, 700.509765625, 653.9461059570312, 619.6878051757812], \"Term\": [\"environnement\", \"inform\\u00e9\", \"march\\u00e9\", \"maire\", \"adress\\u00e9e\", \"service\", \"sant\\u00e9_publique\", \"toute_personne\", \"relations_entre\", \"avis\", \"courrier\", \"demandeur\", \"document\", \"\\u00e9lectronique\", \"dossier\", \"droit\", \"r\\u00e9ponse\", \"oppos\\u00e9_directeur\", \"d\\u00e9clarer_sans\", \"personnes\", \"communicables\", \"fait\", \"dispositions\", \"administratifs\", \"commune\", \"personne\", \"ma\\u00eetre\", \"objet\", \"\\u00e9met_donc\", \"g\\u00e9n\\u00e9ral_collectivit\\u00e9s\", \"annex\\u00e9es\", \"r\\u00e9forme\", \"commande_publique\", \"indemnit\\u00e9\", \"principe_unit\\u00e9\", \"intervenant\", \"applique_tous\", \"\\u00e9tablies_autorit\\u00e9s\", \"notamment_air\", \"d\\u00e9chets_\\u00e9missions\", \"d\\u00e9versements_autres\", \"facteurs_notamment\", \"rejets_susceptibles\", \"substances_\\u00e9nergie\", \"bruit_rayonnements\", \"relev\\u00e9s_bancaires\", \"environnement_qualifie\", \"charge_frais\", \"contient_\\u00e9manent\", \"p\\u00e9titionnaire_\\u00e9labor\\u00e9s\", \"d\\u00e9cision_effectivement\", \"frais_acquitter\", \"pi\\u00e8ces_annex\\u00e9es\", \"azur\", \"domaine_priv\\u00e9\", \"office_fran\\u00e7ais\", \"construire\", \"d\\u00e9l\\u00e9gation_signature\", \"d\\u00e9cisions_individuelles\", \"lotissement\", \"arr\\u00eat\\u00e9s_municipaux\", \"g\\u00e9n\\u00e9ral_collectivit\\u00e9s\", \"vu_duquel\", \"permis_construire\", \"budgets_comptes\", \"mentionn\\u00e9_point\", \"adresse_suivante\", \"territoriales\", \"commune\", \"conseil_municipal\", \"parcelle\", \"d\\u00e9lib\\u00e9rations\", \"demander\", \"maire\", \"d\\u00e9lib\\u00e9ration\", \"toute_personne\", \"r\\u00e9sulte_d\\u00e9cision\", \"urbanisme\", \"fait\", \"arr\\u00eat\\u00e9\", \"\\u00e9met_donc\", \"communicables\", \"travaux\", \"factures\", \"absence_r\\u00e9ponse\", \"relations_entre\", \"pr\\u00e9sident_communaut\\u00e9\", \"point\", \"estime\", \"points\", \"agissant\", \"suivants\", \"ensemble_pi\\u00e8ces\", \"sous_r\\u00e9serve\", \"administratifs\", \"copie\", \"articles\", \"\\u00e9met\", \"droit\", \"concernant\", \"relatifs\", \"sollicit\\u00e9s\", \"communicable\", \"dossier\", \"d\\u00e9clarer_sans\", \"sans_objet\", \"assembl\\u00e9es_parlementaires\", \"proc\\u00e9der_recherches\", \"vue_procurer\", \"septembre_ordres\", \"avocats_lyon\", \"ignominie_d\\u00e9saffection\", \"animaux_victimes\", \"recueil_page\", \"isolement\", \"d\\u00e9clarer_irrecevable\", \"existait\", \"int\\u00e9ress\\u00e9_librement\", \"souhait\\u00e9s\", \"centre_d\\u00e9tention\", \"sdis\", \"tenue_donner\", \"lettre_recommand\\u00e9e\", \"quartier\", \"pi\\u00e8ces_manquantes\", \"inexistants\", \"populaire\", \"recherches_effectu\\u00e9es\", \"obtenu_traitement\", \"\\u00e9tat_obtenu\", \"devenue_sans\", \"demandes_abusives\", \"convention_collective\", \"sein_h\\u00f4pital\", \"d\\u00e9clarer\", \"obtenus_traitement\", \"renseignements_information\", \"\\u00e9ventuellement_d\\u00e9tenus\", \"pr\\u00e9sident_universit\\u00e9\", \"inform\\u00e9\", \"voie_postale\", \"r\\u00e9pondre_demandes\", \"adress\\u00e9e\", \"copie_pr\\u00e9f\\u00e9rence\", \"courrier\", \"r\\u00e9ponse\", \"transmis\", \"automatis\\u00e9_usage\", \"avis\", \"pr\\u00e9sent_avis\", \"objet\", \"fait_obligation\", \"irrecevable\", \"juillet\", \"adress\\u00e9\", \"ma\\u00eetre\", \"copie\", \"juin\", \"ao\\u00fbt\", \"mai\", \"articles\", \"date\", \"septembre\", \"novembre\", \"point\", \"relations_entre\", \"d\\u00e9cembre\", \"demandeur\", \"janvier\", \"f\\u00e9vrier\", \"\\u00e9lectronique\", \"octobre\", \"concernant\", \"mars\", \"maire\", \"sollicit\\u00e9s\", \"suivants\", \"oppos\\u00e9_directeur\", \"pr\\u00e9judice\", \"pourrait_porter\", \"divulgation_comportement\", \"nomm\\u00e9ment_d\\u00e9sign\\u00e9e\", \"facilement_identifiable\", \"comportement_divulgation\", \"proc\\u00e9dure_disciplinaire\", \"portant_appr\\u00e9ciation\", \"secteur_activit\\u00e9\", \"appara\\u00eetre_comportement\", \"feraient_appara\\u00eetre\", \"d\\u00e9rogation_d\\u00e9lais\", \"dispositions_sp\\u00e9ciales\", \"silence_loi\", \"d\\u00e9but_fin\", \"mention_couverte\", \"titre_s\\u00e9jour\", \"g\\u00e9n\\u00e9rale_efface\", \"fond\\u00e9_loi\", \"membres_gouvernement\", \"diff\\u00e9rentes_lois\", \"directement_concern\\u00e9e\", \"portent_appr\\u00e9ciation\", \"comportement\", \"sous_cote\", \"conserv\\u00e9s_archives\", \"plus_largement\", \"pr\\u00e9judice_auteur\", \"accident_travail\", \"inspection_travail\", \"personne_physique\", \"protection_vie\", \"divulgation_pourrait\", \"signalement\", \"int\\u00e9ress\\u00e9e_sens\", \"porterait_atteinte\", \"porter_pr\\u00e9judice\", \"mentions\", \"susceptible_r\\u00e9v\\u00e9ler\", \"visa\", \"faisant_appara\\u00eetre\", \"jugement_valeur\", \"s\\u00e9curit\\u00e9\", \"priv\\u00e9e\", \"enfant\", \"apr\\u00e8s_occultation\", \"personne\", \"int\\u00e9ress\\u00e9\", \"sous_r\\u00e9serves\", \"relations_entre\", \"rapport\", \"communicables\", \"dossier\", \"personnes\", \"administratifs\", \"estime\", \"conseil\", \"tiers\", \"sous_r\\u00e9serve\", \"\\u00e9met_donc\", \"communicable\", \"principe\", \"dispositions\", \"absence_r\\u00e9ponse\", \"articles\", \"\\u00e9met\", \"service\", \"publication_ligne\", \"telle_mission\", \"archives_publiques\", \"haute_autorit\\u00e9\", \"enfant_mineur\", \"r\\u00e9utilisation_d\\u00e9finies\", \"interpr\\u00e9t\\u00e9es\", \"savoir_conna\\u00eetre\", \"\\u00e9l\\u00e9ments_port\\u00e9s\", \"afin_conna\\u00eetre\", \"rendre_impossible\", \"comp\\u00e9tente_appr\\u00e9cier\", \"archives_france\", \"deux_mois\", \"d\\u00e9lai_mois\", \"cada_septembre\", \"mentions_entrant\", \"tout_\\u00e9l\\u00e9ment\", \"safer\", \"d\\u00e9lib\\u00e9ration_approuvant\", \"dgccrf\", \"auvergne\", \"adresses_\\u00e9lectroniques\", \"demandes_pr\\u00e9sent\\u00e9es\", \"r\\u00e9pression_fraudes\", \"regarder\", \"syst\\u00e9matique\", \"infraction_r\\u00e8gles\", \"utile\", \"d\\u00e9bat\", \"aussi_longtemps\", \"pr\\u00e9senter\", \"personnes_d\\u00e9c\\u00e9d\\u00e9es\", \"seule_circonstance\", \"effectue\", \"d\\u00e9lai\", \"patrimoine\", \"ans_compter\", \"d\\u00e9rogation\", \"acte_naissance\", \"\\u00e9tat_civil\", \"archives\", \"administratifs_examin\\u00e9\", \"relative_caract\\u00e8re\", \"ans\", \"saurait\", \"expiration_d\\u00e9lai\", \"fix\\u00e9s\", \"s\\u00e9ance\", \"seul\", \"document\", \"pr\\u00e9sente\", \"acte\", \"recherche\", \"autorit\\u00e9\", \"avoir\", \"plus\", \"rel\\u00e8ve\", \"cas\", \"laquelle\", \"dispose\", \"communicable\", \"constate\", \"document_administratif\", \"esp\\u00e8ce\", \"tout\", \"sens\", \"donc\", \"conseil\", \"d\\u00e9cision\", \"termes\", \"dispositions\", \"consultation\", \"droit\", \"lorsque\", \"caract\\u00e8re\", \"\\u00e9tat\", \"sans\", \"fait\", \"estime\", \"consid\\u00e8re\", \"cadre\", \"objet\", \"suite\", \"va_bordereau\", \"informations_pr\\u00e9cises\", \"afin_garantir\", \"cat\\u00e9gories\", \"demandes_subventions\", \"ministre_agriculture\", \"\\u00e9conomiques_financi\\u00e8res\", \"non_autoris\\u00e9es\", \"europ\\u00e9en_conseil\", \"insalubrit\\u00e9\", \"aides_vers\\u00e9es\", \"bases_donn\\u00e9es\", \"cnil\", \"autonomie\", \"populations\", \"redevance\", \"r\\u00e9dig\\u00e9e\", \"liste_b\\u00e9n\\u00e9ficiaires\", \"f\\u00e9d\\u00e9ration_fran\\u00e7aise\", \"financier_subvention\", \"priv\\u00e9es\", \"\\u00e9lectorales\", \"redevances\", \"conseil_constitutionnel\", \"\\u00e9lecteur\", \"m\\u00e9dicaments\", \"rappel\\u00e9e\", \"choix_directement\", \"organisme_priv\\u00e9\", \"rendues_publiques\", \"donn\\u00e9es\", \"donn\\u00e9es_personnelles\", \"listes_\\u00e9lectorales\", \"tout_organisme\", \"re\\u00e7u_subvention\", \"doivent_communiqu\\u00e9s\", \"associations\", \"liste_\\u00e9lectorale\", \"statistiques\", \"\\u00e9lectoral\", \"total\", \"susceptibles_avoir\", \"\\u00e9conomiques\", \"secret_proc\\u00e9d\\u00e9s\", \"licence\", \"politique\", \"traitement\", \"\\u00e9tablissements\", \"\\u00e9ducation\", \"chaque_ann\\u00e9e\", \"traitement_automatis\\u00e9\", \"entendu\", \"financiers\", \"subvention\", \"activit\\u00e9\", \"utilisation\", \"usage_courant\", \"nombre\", \"activit\\u00e9s\", \"minist\\u00e8re\", \"pr\\u00e9sent\", \"ligne\", \"informations\", \"financier\", \"comit\\u00e9\", \"organisme\", \"usage\", \"liste\", \"prise\", \"produits\", \"chaque\", \"relatives\", \"peuvent\", \"loi\", \"association\", \"d\\u00e9cret\", \"titre\", \"montant\", \"rel\\u00e8ve\", \"personnel\", \"dispositions\", \"notamment\", \"\\u00e9tablissement\", \"toute\", \"\\u00e9tat\", \"administratifs\", \"fait\", \"relations_entre\", \"personnes\", \"sant\\u00e9\", \"part\", \"cas_\\u00e9ch\\u00e9ant\", \"articles\", \"\\u00e9galement\", \"entre\", \"autres\", \"agissant\", \"entreprises_non\", \"entreprise_attributaire\", \"offres\", \"prix_unitaires\", \"prot\\u00e9g\\u00e9_dispositions\", \"doit_toutefois\", \"personne_fait\", \"exercer_respect\", \"b\\u00e9n\\u00e9ficient_tant\", \"retenues_toute\", \"qualification_concernant\", \"prestation_demand\\u00e9e\", \"parties_certificats\", \"humains_certification\", \"concernant_chiffre\", \"certifications_tierces\", \"affaires_coordonn\\u00e9es\", \"syst\\u00e8me_qualit\\u00e9\", \"bancaires_r\\u00e9f\\u00e9rences\", \"appel_offres\", \"rappelle_fois\", \"attributaire\", \"d\\u00e9tails_techniques\", \"rapport_analyse\", \"financiers_offres\", \"analyse_offres\", \"correspondent_march\\u00e9s\", \"d\\u00e9composition_prix\", \"regard_respect\", \"\\u00e9l\\u00e9ments_refl\\u00e8tent\", \"acc\\u00e8s_institu\\u00e9\", \"march\\u00e9\", \"moyens_techniques\", \"offre\", \"autres_celles\", \"mentions_relatives\", \"toute_mention\", \"secret_affaires\", \"publics\", \"conduit\", \"principe\", \"soumis_droit\", \"secret_mati\\u00e8re\", \"communicables\", \"communicable\", \"relations_entre\", \"sous_r\\u00e9serve\", \"autre\", \"soci\\u00e9t\\u00e9\", \"droit\", \"suivants\", \"administratifs\", \"outre_pr\\u00e9cis\\u00e9\", \"tout_administr\\u00e9\", \"procureur_r\\u00e9publique\", \"primaire_assurance\", \"cpam\", \"fonctionnaires_agents\", \"puissent_communiqu\\u00e9es\", \"juge_enfants\", \"situation_familiale\", \"mani\\u00e8re_servir\", \"fonctions_statut\", \"mentionn\\u00e9e_tables\", \"adresse_administrative\", \"personnels_justifient\", \"valeur_port\\u00e9\", \"composantes_fixes\", \"grade\", \"grade_\\u00e9chelon\", \"assistance_paris\", \"r\\u00e9gime_indemnitaire\", \"centre_national\", \"nationalit\\u00e9_fran\\u00e7aise\", \"agissant_r\\u00e9mun\\u00e9ration\", \"indice_traitement\", \"nouvelle_bonification\", \"administratif_entrent\", \"indemnit\\u00e9s_suj\\u00e9tion\", \"indiciaire_nbi\", \"pr\\u00e9f\\u00e9rence\", \"proviseur_lyc\\u00e9e\", \"recrutement\", \"\\u00e9tablissements_enseignement\", \"agents\", \"poste\", \"certaines_informations\", \"agents_publics\", \"appr\\u00e9ciation_jugement\", \"candidature\", \"fonctions\", \"fonction_publique\", \"agent\", \"judiciaire\", \"emploi\", \"territoriale\", \"r\\u00e9mun\\u00e9ration\", \"liste\", \"travail\", \"vie_priv\\u00e9e\", \"action_sociale\", \"comp\\u00e9tente_prononcer\", \"formation\", \"textes_particuliers\", \"technique_financier\", \"conseil_d\\u00e9partemental\", \"obtenir\", \"pr\\u00e9sident\", \"relations_entre\", \"concernant\", \"professionnelle\", \"contrat\", \"d\\u00e9cision\", \"administratif\", \"point\", \"estime\", \"cadre\", \"titre_liminaire\", \"leurs\", \"communicables\", \"communicable\", \"\\u00e9met_donc\", \"consid\\u00e8re\", \"notamment\", \"suite\", \"fait\", \"droit\", \"dossier_m\\u00e9dical\", \"informations_m\\u00e9dicales\", \"d\\u00e9funt\", \"personne_d\\u00e9c\\u00e9d\\u00e9e\", \"d\\u00e9fendre_m\\u00e9moire\", \"informations_communiqu\\u00e9es\", \"faire_valoir\", \"directement_interm\\u00e9diaire\", \"m\\u00e9decin_d\\u00e9signe\", \"selon_choix\", \"sant\\u00e9_d\\u00e9tenues\", \"professionnels_\\u00e9tablissements\", \"causes_mort\", \"hospitalisation\", \"intervenant_prise\", \"charge_th\\u00e9rapeutique\", \"aupr\\u00e8s_tiers\", \"informations_mentionnant\", \"elles_recueillies\", \"droits_information\", \"patient_d\\u00e9c\\u00e9d\\u00e9\", \"ind\\u00e9pendamment_fonctions\", \"ouvert_toute\", \"causes_d\\u00e9c\\u00e8s\", \"tirent_qualit\\u00e9\", \"reconna\\u00eet_droit\", \"concernant_tel\", \"tout_membre\", \"exerce_mandats\", \"cadre_fonction\", \"psychiatriques\", \"sant\\u00e9_publique\", \"directeur_centre\", \"m\\u00e9dical\", \"professionnels_sant\\u00e9\", \"dernier_alin\\u00e9a\", \"centre_hospitalier\", \"sant\\u00e9\", \"hospitalier\", \"fait_obstacle\", \"droit\", \"effet\", \"qualit\\u00e9\", \"dossier\", \"m\\u00e9decin\", \"\\u00e9tablissement\", \"concernant\", \"pi\\u00e8ces\", \"demandeur\", \"oppos\\u00e9_directeur\", \"personne\", \"relations_entre\", \"chaque\", \"tiers\", \"articles\", \"avis\", \"dispositions\", \"esp\\u00e8ce\", \"\\u00e9met_donc\", \"communicables\", \"exercice_mandat\", \"assembl\\u00e9e_nationale\", \"relatives_environnement\", \"iv_titre\", \"d\\u00e9cisions_activit\\u00e9s\", \"d\\u00e9tenues_re\\u00e7ues\", \"d\\u00e9finies_titre\", \"information_relative\", \"cas_lesquels\", \"activit\\u00e9_conditions\", \"\\u00e9galement_regard\\u00e9e\", \"r\\u00e9gime_sp\\u00e9cial\", \"livre_i\", \"lieu_conservation\", \"diversit\\u00e9_biologique\", \"interactions_entre\", \"rejeter\", \"leurs_groupements\", \"comptes_bancaires\", \"concernent_exercice\", \"circulation\", \"office_national\", \"parcelles_cadastr\\u00e9es\", \"publique_rejeter\", \"\\u00e9missions_substances\", \"for\\u00eats\", \"eau_sol\", \"inscrivent_processus\", \"comptes_annuels\", \"installations_class\\u00e9es\", \"exerce_conditions\", \"intellectuelle\", \"environnement\", \"second_alin\\u00e9a\", \"quel_support\", \"charg\\u00e9es_mission\", \"livre_ier\", \"maritime\", \"dispositions_chapitre\", \"informations_relatives\", \"lorsqu_elles\", \"mesures\", \"\\u00e9l\\u00e9ments\", \"compte\", \"protection\", \"\\u00e9tat\", \"dispositions\", \"ii\", \"selon\", \"articles\", \"acc\\u00e9der_informations\", \"iii\", \"relations_entre\", \"s\\u00e9curit\\u00e9\", \"droit\", \"esp\\u00e8ce\", \"toute_personne\", \"suite\", \"estime\", \"sous_r\\u00e9serve\", \"notamment\", \"suivants\", \"service\", \"rapport\", \"informations\", \"personnes\", \"s\\u00e9curit\\u00e9_sociale\", \"assurance_maladie\", \"caisse_primaire\", \"pr\\u00e9fet_police\", \"directeur_caisse\", \"maladie\", \"livre_proc\\u00e9dures\", \"alimentation\", \"guadeloupe\", \"communes_membres\", \"g\\u00e9n\\u00e9ral_imp\\u00f4ts\", \"d\\u00e9claration_accident\", \"caisse_allocations\", \"pacte_civil\", \"m\\u00e9decins_interpr\\u00e9t\\u00e9\", \"caisse\", \"dossier_fiscal\", \"allocations_familiales\", \"taxe_fonci\\u00e8re\", \"relev\\u00e9s_propri\\u00e9t\\u00e9\", \"ponctuelle\", \"entendu_autoriser\", \"locations\", \"familiales\", \"cadastrales\", \"contribuable_communicable\", \"m\\u00e9diation\", \"comit\\u00e9s\", \"num\\u00e9ro_adresse\", \"concouru_\\u00e9tablissement\", \"centre_p\\u00e9nitentiaire\", \"gard\", \"fiscales\", \"xxx_xxx\", \"fiscale\", \"application_quatri\\u00e8me\", \"xxx\", \"employeur\", \"oppos\\u00e9_directeur\", \"sans_incidence\", \"dossier\", \"territoire_commune\", \"ma\\u00eetre\", \"plus\", \"technique\", \"ii\", \"soci\\u00e9t\\u00e9\", \"dispositions\", \"\\u00e9met_donc\", \"loi_juillet\", \"directeur_g\\u00e9n\\u00e9ral\", \"communicables\", \"droit\", \"absence_r\\u00e9ponse\", \"estime\", \"sous_r\\u00e9serve\", \"cas_\\u00e9ch\\u00e9ant\", \"personne\", \"sollicit\\u00e9s\", \"communicable\", \"administratifs\", \"mission_int\\u00e9r\\u00eat\", \"entre_op\\u00e9rateurs\", \"pr\\u00e9rogatives\", \"priv\\u00e9e_assure\", \"examen_candidatures\", \"oppos\\u00e9_pr\\u00e9sidente\", \"actes_assembl\\u00e9es\", \"groupe_travail\", \"projet_plu\", \"\\u00e9tat_avancement\", \"rapportent_projet\", \"d\\u00e9lib\\u00e9rations_conseils\", \"commissaire_enqu\\u00eateur\", \"approbation_plu\", \"arr\\u00eat\\u00e9_ouverture\", \"va_particulier\", \"r\\u00e9vision_plu\", \"annexes_conclusions\", \"cours_temps\", \"acc\\u00e8s_varient\", \"plus_souvent\", \"\\u00e9laboration_plu\", \"lettre_candidature\", \"remise_autorit\\u00e9\", \"orange\", \"pr\\u00e9c\\u00e9dentes_phases\", \"dossier_r\\u00e9v\\u00e9l\\u00e9es\", \"loi_organique\", \"arr\\u00eatant_projet\", \"orientations_am\\u00e9nagement\", \"sans_besoin\", \"consid\\u00e9r\\u00e9s\", \"registre_enqu\\u00eate\", \"soumis_enqu\\u00eate\", \"am\\u00e9lioration\", \"enqu\\u00eate_publique\", \"etat_collectivit\\u00e9s\", \"int\\u00e9r\\u00eat_g\\u00e9n\\u00e9ral\", \"assembl\\u00e9e\", \"pouvoirs\", \"parlementaires\", \"droit_priv\\u00e9\", \"r\\u00e9sultant\", \"cadre_mission\", \"plan_local\", \"mission\", \"plu\", \"service\", \"personnes\", \"contr\\u00f4le\", \"entre\", \"d\\u00e9clarer_incomp\\u00e9tente\", \"sens\", \"proc\\u00e9dure\", \"relations_entre\", \"personne\", \"administratifs\", \"autres\", \"droit\", \"g\\u00e9n\\u00e9ral\", \"termes\", \"publique\", \"pr\\u00e9sident\", \"donc\", \"communicables\", \"cadre\", \"\\u00e9tat\", \"sous\", \"iii\", \"doit_obligatoirement\", \"besoins_laquelle\", \"souhaite_autres\", \"fins_celles\", \"traitements_automatis\\u00e9s\", \"peuvent_utilis\\u00e9es\", \"publiques_comportant\", \"derni\\u00e8re_mise\", \"publiques_soumise\", \"personnel_subordonn\\u00e9e\", \"alt\\u00e9r\\u00e9es_sens\", \"sources_date\", \"d\\u00e9natur\\u00e9_leurs\", \"jour_mentionn\\u00e9es\", \"limites_conditions\", \"condition_derni\\u00e8res\", \"pr\\u00e9voit_sauf\", \"relative_fonctionnement\", \"frais_lorsque\", \"possibilit\\u00e9s_techniques\", \"document_disponible\", \"exerce_choix\", \"compatible_frais\", \"dispose_d\\u00e9j\\u00e0\", \"conservation_document\", \"d\\u00e9tenus_professionnels\", \"seulement_certaines\", \"m\\u00e9dical_patient\", \"exceptions_pr\\u00e9vues\", \"demandeur_limite\", \"support_identique\", \"celui_utilis\\u00e9\", \"exc\\u00e9der_co\\u00fbt\", \"consultation_gratuite\", \"reproduction_nuise\", \"frais_puissent\", \"sous_forme\", \"d\\u00e9livrance_copie\", \"r\\u00e9utilisation_informations\", \"rapport_annuel\", \"\\u00e9lectronique\", \"donn\\u00e9es_caract\\u00e8re\", \"mise_\\u0153uvre\", \"fichiers_libert\\u00e9s\", \"relative_informatique\", \"sans\", \"sans_consentement\", \"place\", \"faire\", \"dispositions\", \"reproduction_envoi\", \"fait\", \"administratifs\", \"informations\", \"courrier\", \"toute_personne\", \"document\", \"loi\", \"communicables\", \"demandeur\", \"mesure\", \"sous_r\\u00e9serve\", \"objet\", \"vertu\", \"janvier\", \"ministre_budget\", \"faire_peser\", \"important\", \"envoi_peuvent\", \"bon_fonctionnement\", \"mis_charge\", \"co\\u00fbt_reproduction\", \"euro_page\", \"co\\u00fbt_envoi\", \"frais_correspondant\", \"reste_compatible\", \"d\\u00e9finis_arr\\u00eat\\u00e9\", \"octobre_savoir\", \"postal_peuvent\", \"exc\\u00e9der_montants\", \"conjoint_premier\", \"perturber_fonctionnement\", \"arr\\u00eat\\u00e9_conjoint\", \"paiement_pr\\u00e9alable\", \"fonctionnement_services\", \"dispose_moyens\", \"prestataire_service\", \"consid\\u00e9r\\u00e9e_abusive\", \"fa\\u00e7on_d\\u00e9lib\\u00e9r\\u00e9e\", \"lorsqu_vise\", \"compatible_bon\", \"abusive\", \"maladie_professionnelle\", \"incapacit\\u00e9_mat\\u00e9rielle\", \"abusif\", \"frais_reproduction\", \"seuls_\\u00e9l\\u00e9ments\", \"caract\\u00e8re_abusif\", \"premier_ministre\", \"volume\", \"venir_consulter\", \"ministre\", \"euros\", \"implique\", \"sous_responsabilit\\u00e9\", \"frais\", \"demandes\", \"porte\", \"cabinet\", \"demandeur\", \"envoi\", \"document\", \"droit\", \"compte_tenu\", \"services\", \"relations_entre\", \"tel\", \"cas_\\u00e9ch\\u00e9ant\", \"copie\", \"pr\\u00e9cise\", \"montant\", \"octobre\", \"int\\u00e9ress\\u00e9\", \"suite\", \"\\u00e9tat\"], \"Total\": [13106.0, 14814.0, 10211.0, 21258.0, 18270.0, 19523.0, 9148.0, 25178.0, 74525.0, 27503.0, 13506.0, 16075.0, 17238.0, 7597.0, 21446.0, 29182.0, 22710.0, 12082.0, 8884.0, 11157.0, 35661.0, 27545.0, 26142.0, 26527.0, 12932.0, 17296.0, 15034.0, 22038.0, 20872.0, 8007.0, 2168.8623046875, 1333.1842041015625, 1321.9776611328125, 1073.7169189453125, 872.9088134765625, 822.49853515625, 741.900634765625, 705.8008422851562, 693.3321533203125, 690.9940185546875, 686.6815795898438, 681.2283325195312, 681.2283325195312, 681.2283325195312, 681.2283325195312, 679.5242309570312, 661.197265625, 638.5842895507812, 613.1763305664062, 611.7147216796875, 552.6375122070312, 402.62841796875, 390.6986999511719, 378.946044921875, 365.2519226074219, 324.4459533691406, 290.38153076171875, 397.4537353515625, 275.1990051269531, 266.6863098144531, 1722.7369384765625, 8007.9228515625, 503.0707092285156, 3672.9208984375, 1989.0999755859375, 809.2740478515625, 457.1981201171875, 7752.15625, 12932.0419921875, 6949.470703125, 843.92333984375, 4679.83740234375, 2902.098388671875, 21258.119140625, 5925.17724609375, 25178.2578125, 1316.76220703125, 3468.889892578125, 27545.84765625, 7021.43115234375, 20872.076171875, 35661.40234375, 3173.732177734375, 1336.64892578125, 12652.0478515625, 74525.8671875, 2726.497802734375, 16529.982421875, 26875.1953125, 8009.06689453125, 12935.591796875, 15581.48046875, 4823.02587890625, 20861.693359375, 26527.69921875, 17605.775390625, 28779.24609375, 11364.2216796875, 29182.033203125, 18344.9296875, 9885.517578125, 12555.5478515625, 18001.248046875, 21446.5625, 8884.154296875, 3501.28466796875, 1177.0762939453125, 923.5180053710938, 920.4166870117188, 867.8522338867188, 867.0599975585938, 855.0126953125, 855.0126953125, 739.8012084960938, 759.97021484375, 695.1157836914062, 510.2297668457031, 455.4079284667969, 412.147705078125, 339.33160400390625, 275.44921875, 273.01983642578125, 264.919677734375, 240.04220581054688, 218.18687438964844, 214.19967651367188, 205.8628387451172, 193.60658264160156, 170.3303985595703, 164.20709228515625, 161.95391845703125, 144.08065795898438, 125.86741638183594, 104.79413604736328, 2702.01220703125, 1963.9012451171875, 922.2237548828125, 968.9774780273438, 956.243408203125, 14814.943359375, 613.1699829101562, 824.6613159179688, 18270.072265625, 472.080322265625, 13506.1572265625, 22710.197265625, 8989.8720703125, 2393.71435546875, 27503.216796875, 13801.7509765625, 22038.833984375, 2201.0830078125, 1467.6434326171875, 12628.494140625, 2242.649658203125, 15034.705078125, 17605.775390625, 10418.7353515625, 5161.017578125, 8531.6328125, 28779.24609375, 9263.2451171875, 7748.7021484375, 8595.2939453125, 16529.982421875, 74525.8671875, 9733.9296875, 16075.5390625, 11750.587890625, 8070.4990234375, 7597.9208984375, 9267.7939453125, 18344.9296875, 11164.365234375, 21258.119140625, 12555.5478515625, 15581.48046875, 12082.009765625, 4488.91455078125, 3803.931884765625, 2729.48779296875, 1645.4775390625, 1490.9154052734375, 1430.799560546875, 1427.2523193359375, 1257.608154296875, 1126.63671875, 971.599609375, 969.891357421875, 942.8543090820312, 806.810302734375, 776.5894165039062, 627.8074951171875, 608.6094970703125, 521.8929443359375, 491.7484130859375, 490.49957275390625, 474.0067138671875, 459.9118957519531, 447.6062316894531, 389.5245666503906, 3419.629638671875, 305.3660888671875, 270.2802734375, 265.0126037597656, 260.3582458496094, 474.8238220214844, 226.3181915283203, 2685.833740234375, 3171.4794921875, 813.2783203125, 650.3739013671875, 645.7942504882812, 5391.64990234375, 1637.1510009765625, 7154.12060546875, 819.8777465820312, 1142.1424560546875, 2320.75732421875, 2472.264892578125, 6079.8857421875, 7008.4248046875, 1859.0142822265625, 3479.6484375, 17296.88671875, 9844.720703125, 9613.6767578125, 74525.8671875, 8714.6513671875, 35661.40234375, 21446.5625, 11157.845703125, 26527.69921875, 26875.1953125, 20812.3125, 8956.01171875, 20861.693359375, 20872.076171875, 18001.248046875, 9545.8359375, 26142.259765625, 12652.0478515625, 28779.24609375, 11364.2216796875, 19523.197265625, 1179.76806640625, 974.1241455078125, 1070.123046875, 890.5977172851562, 789.7466430664062, 713.4938354492188, 547.7717895507812, 530.0072021484375, 490.71380615234375, 380.4172668457031, 374.8688659667969, 377.1021423339844, 332.3882751464844, 272.5724182128906, 292.3595275878906, 255.90350341796875, 250.17034912109375, 193.93930053710938, 193.18231201171875, 187.1476593017578, 171.55966186523438, 169.37350463867188, 164.42892456054688, 159.61505126953125, 157.19285583496094, 154.62062072753906, 289.19219970703125, 144.0445098876953, 140.64199829101562, 130.8539581298828, 471.8262634277344, 330.8233642578125, 398.04669189453125, 401.922119140625, 255.79527282714844, 1484.2437744140625, 3189.010498046875, 597.1349487304688, 914.6024780273438, 414.36553955078125, 1082.0767822265625, 1699.4576416015625, 2820.3408203125, 2456.30810546875, 611.2705688476562, 726.153076171875, 1082.9437255859375, 844.8184204101562, 4573.7744140625, 1064.0458984375, 17238.8046875, 2269.19287109375, 1506.937744140625, 1732.7041015625, 2461.29541015625, 2356.177490234375, 4309.36572265625, 9151.216796875, 5942.16943359375, 3533.759765625, 3275.1044921875, 18001.248046875, 3759.85546875, 5387.8310546875, 11336.330078125, 3759.3916015625, 9137.5732421875, 9021.6279296875, 20812.3125, 9235.8154296875, 6116.9931640625, 26142.259765625, 4777.77099609375, 29182.033203125, 4854.98974609375, 5426.5888671875, 15561.185546875, 6911.19775390625, 27545.84765625, 26875.1953125, 11222.205078125, 12997.3837890625, 22038.833984375, 12026.6787109375, 998.2779541015625, 609.1997680664062, 453.8348083496094, 432.2030944824219, 377.5307312011719, 339.1944580078125, 297.6818542480469, 294.01513671875, 279.76458740234375, 210.90447998046875, 192.67340087890625, 187.39881896972656, 206.6338348388672, 166.21115112304688, 162.10670471191406, 160.72254943847656, 151.46139526367188, 143.1085662841797, 133.2003936767578, 213.1620330810547, 130.8463592529297, 123.42510986328125, 122.24513244628906, 118.2444076538086, 115.361572265625, 111.48729705810547, 110.55465698242188, 110.17719268798828, 106.9200210571289, 105.79966735839844, 3306.732421875, 892.8336791992188, 489.59259033203125, 337.4561767578125, 350.65380859375, 141.114013671875, 1060.1087646484375, 334.45330810546875, 399.7303771972656, 318.6449890136719, 171.70545959472656, 300.6530456542969, 258.3069152832031, 357.8193359375, 273.44525146484375, 471.75653076171875, 2556.486328125, 1035.83056640625, 1254.6806640625, 444.76104736328125, 1938.8922119140625, 609.3030395507812, 619.13671875, 830.8419189453125, 2128.346435546875, 1516.4822998046875, 1761.39990234375, 2471.245361328125, 960.7421875, 1990.700927734375, 980.6314086914062, 1253.275146484375, 11878.298828125, 761.7789306640625, 815.4933471679688, 1304.00732421875, 1036.168701171875, 4894.38623046875, 4247.87109375, 2463.47705078125, 5359.3408203125, 5075.7939453125, 2395.449951171875, 12435.7275390625, 3824.712646484375, 2819.56884765625, 8458.919921875, 2867.3818359375, 9151.216796875, 3070.9345703125, 26142.259765625, 14546.1845703125, 6126.55078125, 3687.866455078125, 15561.185546875, 26527.69921875, 27545.84765625, 74525.8671875, 11157.845703125, 7111.615234375, 7514.23779296875, 9228.826171875, 28779.24609375, 8584.671875, 10284.0400390625, 9748.16796875, 12935.591796875, 4802.48388671875, 4570.80029296875, 3307.351318359375, 2965.818603515625, 2459.545654296875, 2406.7431640625, 2359.588134765625, 2352.5888671875, 2292.1220703125, 2246.959716796875, 2117.38037109375, 2116.946533203125, 2117.38037109375, 2118.76318359375, 2120.1826171875, 2117.38037109375, 2118.316650390625, 2119.178955078125, 2060.70751953125, 2048.499267578125, 1914.4072265625, 1913.834716796875, 1769.8695068359375, 1747.955078125, 1728.0606689453125, 1703.17626953125, 1662.2100830078125, 1639.776611328125, 1613.098388671875, 1541.39208984375, 2594.45166015625, 10211.259765625, 2365.50634765625, 4410.08251953125, 2185.673095703125, 4601.0302734375, 2159.18994140625, 5297.52783203125, 5442.0859375, 3772.42529296875, 9545.8359375, 4132.263671875, 2777.125244140625, 35661.40234375, 18001.248046875, 74525.8671875, 20861.693359375, 5646.8349609375, 7661.2490234375, 29182.033203125, 15581.48046875, 26527.69921875, 1897.4732666015625, 863.6011962890625, 1080.584716796875, 594.0491943359375, 565.6039428710938, 561.1566162109375, 555.6982421875, 522.3687133789062, 512.9354858398438, 560.7048950195312, 479.7940368652344, 476.6397705078125, 476.5936279296875, 474.8590087890625, 471.5680847167969, 469.8952941894531, 468.2178955078125, 459.2728576660156, 450.68206787109375, 458.6812744140625, 437.02813720703125, 417.39501953125, 410.3840637207031, 409.0357360839844, 406.03472900390625, 405.58001708984375, 396.84063720703125, 394.9576416015625, 385.0787048339844, 383.5411376953125, 494.29241943359375, 450.014892578125, 4231.13232421875, 1873.289794921875, 610.5087890625, 582.1660766601562, 1005.8890380859375, 1531.7183837890625, 927.017333984375, 776.5287475585938, 5236.341796875, 2056.998046875, 1301.814697265625, 723.6284790039062, 627.2107543945312, 4894.38623046875, 4268.76220703125, 4708.35205078125, 1062.4288330078125, 2650.0498046875, 1243.970703125, 1813.6212158203125, 1221.5830078125, 3741.638671875, 3806.554931640625, 10076.51171875, 74525.8671875, 18344.9296875, 1123.888427734375, 3867.92626953125, 9235.8154296875, 6335.7490234375, 16529.982421875, 26875.1953125, 12997.3837890625, 4103.97705078125, 4812.1533203125, 35661.40234375, 18001.248046875, 20872.076171875, 11222.205078125, 14546.1845703125, 12026.6787109375, 27545.84765625, 29182.033203125, 3595.7265625, 1545.2884521484375, 1526.872314453125, 1465.8541259765625, 1390.7091064453125, 1343.703857421875, 1321.4964599609375, 1223.910400390625, 1196.7528076171875, 1097.865966796875, 1079.2734375, 1073.24951171875, 1060.4971923828125, 1058.84619140625, 934.8054809570312, 931.830078125, 902.2958374023438, 898.5491333007812, 896.6541137695312, 878.029541015625, 876.9517211914062, 874.601318359375, 875.9275512695312, 868.010009765625, 862.6926879882812, 861.9144897460938, 857.4564819335938, 823.6061401367188, 818.3092651367188, 804.0043334960938, 845.2566528320312, 9148.171875, 1433.690185546875, 5436.79248046875, 3357.707275390625, 1934.773681640625, 5024.83447265625, 7111.615234375, 939.4998168945312, 2235.21728515625, 29182.033203125, 3938.2216796875, 5656.9921875, 21446.5625, 1178.0433349609375, 6126.55078125, 18344.9296875, 8811.56640625, 16075.5390625, 12082.009765625, 17296.88671875, 74525.8671875, 5359.3408203125, 8956.01171875, 28779.24609375, 27503.216796875, 26142.259765625, 11336.330078125, 20872.076171875, 35661.40234375, 1733.5748291015625, 1268.6474609375, 1225.8797607421875, 1222.1849365234375, 1201.2567138671875, 1142.7451171875, 1046.21826171875, 1044.0118408203125, 841.4978637695312, 812.83251953125, 806.0905151367188, 757.5591430664062, 712.8599243164062, 698.2799072265625, 606.8075561523438, 587.5088500976562, 670.7799072265625, 472.3423156738281, 459.23651123046875, 446.6448669433594, 396.5732116699219, 348.5252685546875, 309.6869201660156, 274.77447509765625, 274.3260803222656, 270.1719665527344, 268.8692321777344, 268.36590576171875, 257.8443603515625, 249.98220825195312, 1267.8758544921875, 411.74517822265625, 13106.1142578125, 654.4115600585938, 676.7314453125, 543.8509521484375, 633.7435913085938, 995.1321411132812, 1429.9365234375, 5056.89892578125, 837.04052734375, 1785.3717041015625, 9589.97265625, 5008.904296875, 3571.549072265625, 15561.185546875, 26142.259765625, 6974.7587890625, 4619.453125, 28779.24609375, 2313.2314453125, 4639.6611328125, 74525.8671875, 6079.8857421875, 29182.033203125, 11336.330078125, 25178.2578125, 12026.6787109375, 26875.1953125, 20861.693359375, 14546.1845703125, 15581.48046875, 19523.197265625, 8714.6513671875, 11878.298828125, 11157.845703125, 4138.4267578125, 3428.807373046875, 3239.56201171875, 2347.8876953125, 2211.26220703125, 1560.997802734375, 1506.4083251953125, 1304.6492919921875, 1027.050537109375, 913.522705078125, 749.8710327148438, 671.8779296875, 578.0147094726562, 537.9183349609375, 506.7652893066406, 3427.62548828125, 486.1919860839844, 483.8854064941406, 495.89080810546875, 466.8351745605469, 462.2681579589844, 454.17840576171875, 433.0082702636719, 417.88018798828125, 392.28363037109375, 384.546630859375, 337.8681335449219, 323.6943054199219, 301.0746765136719, 298.6846923828125, 1403.2962646484375, 316.2195739746094, 1843.9075927734375, 3113.98974609375, 643.39404296875, 1201.859130859375, 2317.675048828125, 1512.8671875, 12082.009765625, 1058.451904296875, 21446.5625, 1157.293701171875, 15034.705078125, 4309.36572265625, 1618.132568359375, 6974.7587890625, 7661.2490234375, 26142.259765625, 20872.076171875, 5967.52587890625, 4935.9521484375, 35661.40234375, 29182.033203125, 12652.0478515625, 26875.1953125, 20861.693359375, 9228.826171875, 17296.88671875, 12555.5478515625, 18001.248046875, 26527.69921875, 2253.517333984375, 1597.9903564453125, 1249.806640625, 1177.041015625, 999.1243896484375, 856.03076171875, 846.0234375, 636.863525390625, 506.48944091796875, 488.2826843261719, 410.84405517578125, 400.04266357421875, 764.2649536132812, 362.953857421875, 297.24908447265625, 287.9490966796875, 280.4063720703125, 239.48988342285156, 239.28111267089844, 238.11012268066406, 300.1941223144531, 222.8744659423828, 221.5577850341797, 220.71543884277344, 220.36317443847656, 212.0655517578125, 211.13705444335938, 204.1919403076172, 185.99752807617188, 175.49781799316406, 1545.777099609375, 2198.2919921875, 241.71224975585938, 551.770263671875, 937.4410400390625, 1820.55419921875, 873.2437133789062, 1503.938232421875, 1026.397705078125, 979.5360717773438, 1047.350341796875, 3577.20849609375, 1692.2730712890625, 3791.317626953125, 1230.717041015625, 4315.38232421875, 932.030517578125, 19523.197265625, 11157.845703125, 3701.1611328125, 10284.0400390625, 2610.31787109375, 9137.5732421875, 5525.1171875, 74525.8671875, 17296.88671875, 26527.69921875, 9748.16796875, 29182.033203125, 4779.27099609375, 6116.9931640625, 6607.5107421875, 10076.51171875, 9021.6279296875, 35661.40234375, 12997.3837890625, 15561.185546875, 5577.265625, 4639.6611328125, 1100.0599365234375, 616.8032836914062, 605.2429809570312, 605.2429809570312, 604.1994018554688, 603.402099609375, 592.0048217773438, 590.8069458007812, 582.2411499023438, 576.3426513671875, 575.7737426757812, 574.404296875, 574.336181640625, 573.0792236328125, 571.526611328125, 570.732421875, 551.5451049804688, 529.6918334960938, 961.2546997070312, 1058.3037109375, 1016.7819213867188, 1038.759765625, 931.5643310546875, 327.8778991699219, 996.5064697265625, 280.1849060058594, 275.18939208984375, 199.81227111816406, 182.60098266601562, 1027.66259765625, 950.2793579101562, 948.8931884765625, 882.3824462890625, 955.463134765625, 975.3018798828125, 914.0166625976562, 3165.9375, 1062.7576904296875, 1572.604248046875, 2087.862060546875, 7597.9208984375, 3139.338134765625, 2626.425048828125, 717.2786254882812, 746.6654052734375, 6911.19775390625, 1460.0927734375, 1873.1875, 3426.20947265625, 26142.259765625, 1034.505859375, 27545.84765625, 26527.69921875, 11878.298828125, 13506.1572265625, 25178.2578125, 17238.8046875, 12435.7275390625, 35661.40234375, 16075.5390625, 4685.7138671875, 20861.693359375, 22038.833984375, 8345.564453125, 11750.587890625, 996.5733642578125, 963.5603637695312, 962.4685668945312, 684.486083984375, 672.6023559570312, 606.3887329101562, 589.8638916015625, 593.9221801757812, 580.1060791015625, 571.4243774414062, 564.5545043945312, 543.3814086914062, 534.5968017578125, 534.111572265625, 533.2445678710938, 532.2417602539062, 442.8282165527344, 424.16552734375, 455.4619445800781, 411.5105285644531, 403.53277587890625, 402.9809875488281, 389.4954833984375, 389.173828125, 384.3720703125, 379.8404846191406, 367.3962707519531, 400.06451416015625, 333.3612976074219, 375.3033447265625, 543.4780883789062, 432.4861755371094, 745.3722534179688, 2727.827392578125, 907.4282836914062, 503.7407531738281, 4291.2451171875, 1542.9952392578125, 668.9151000976562, 674.926513671875, 2235.630859375, 3617.842529296875, 3430.6474609375, 1980.631103515625, 16075.5390625, 1534.87939453125, 17238.8046875, 29182.033203125, 2023.5400390625, 6087.3623046875, 74525.8671875, 3713.4677734375, 9228.826171875, 17605.775390625, 7037.6630859375, 2867.3818359375, 9267.7939453125, 9844.720703125, 12026.6787109375, 15561.185546875], \"loglift\": [30.0, 29.0, 28.0, 27.0, 26.0, 25.0, 24.0, 23.0, 22.0, 21.0, 20.0, 19.0, 18.0, 17.0, 16.0, 15.0, 14.0, 13.0, 12.0, 11.0, 10.0, 9.0, 8.0, 7.0, 6.0, 5.0, 4.0, 3.0, 2.0, 1.0, 1.9355000257492065, 1.9355000257492065, 1.9355000257492065, 1.9354000091552734, 1.9354000091552734, 1.9354000091552734, 1.9354000091552734, 1.9354000091552734, 1.9352999925613403, 1.9352999925613403, 1.9352999925613403, 1.9352999925613403, 1.9352999925613403, 1.9352999925613403, 1.9352999925613403, 1.9352999925613403, 1.9352999925613403, 1.9352999925613403, 1.9352999925613403, 1.9352999925613403, 1.9352999925613403, 1.9351999759674072, 1.9351999759674072, 1.9351999759674072, 1.9351999759674072, 1.9350999593734741, 1.934999942779541, 1.934999942779541, 1.934999942779541, 1.934999942779541, 1.9342999458312988, 1.9168000221252441, 1.933500051498413, 1.8991999626159668, 1.9077999591827393, 1.919100046157837, 1.930799961090088, 1.8407000303268433, 1.8041000366210938, 1.8070000410079956, 1.9032000303268433, 1.7805999517440796, 1.8098000288009644, 1.6434999704360962, 1.7451000213623047, 1.5210000276565552, 1.8487000465393066, 1.686900019645691, 1.2928999662399292, 1.431399941444397, 1.141800045967102, 0.8919000029563904, 1.520900011062622, 1.7527999877929688, 1.1217000484466553, 0.5217000246047974, 1.5300999879837036, 0.9142000079154968, 0.741100013256073, 1.1482000350952148, 0.968500018119812, 0.8646000027656555, 1.2827999591827393, 0.6366999745368958, 0.5260999798774719, 0.6686999797821045, 0.31369999051094055, 0.6930999755859375, -0.003700000001117587, 0.23479999601840973, 0.7055000066757202, 0.5023000240325928, 0.15060000121593475, -0.05550000071525574, 2.0129001140594482, 2.0127999782562256, 2.0127999782562256, 2.0127999782562256, 2.0127999782562256, 2.0127999782562256, 2.0127999782562256, 2.0127999782562256, 2.0127999782562256, 2.012700080871582, 2.012700080871582, 2.012700080871582, 2.012700080871582, 2.0125999450683594, 2.0125999450683594, 2.012399911880493, 2.012399911880493, 2.012399911880493, 2.012399911880493, 2.0123000144958496, 2.0123000144958496, 2.012200117111206, 2.012200117111206, 2.012200117111206, 2.0120999813079834, 2.01200008392334, 2.01200008392334, 2.011899948120117, 2.011699914932251, 2.0114998817443848, 2.0069000720977783, 2.003499984741211, 2.0072999000549316, 2.0048999786376953, 1.9981000423431396, 1.9571000337600708, 1.9947999715805054, 1.9886000156402588, 1.8935999870300293, 1.9881000518798828, 1.8050999641418457, 1.7278000116348267, 1.7842999696731567, 1.8686000108718872, 1.6742000579833984, 1.6632000207901, 1.5217000246047974, 1.7906999588012695, 1.8431999683380127, 1.340999960899353, 1.7122999429702759, 1.2120000123977661, 1.1650999784469604, 1.2944999933242798, 1.4431999921798706, 1.2795000076293945, 0.8557000160217285, 1.2223999500274658, 1.2168999910354614, 1.1720000505447388, 0.9000999927520752, 0.2856999933719635, 1.093400001525879, 0.8906999826431274, 0.9961000084877014, 1.138200044631958, 1.1410000324249268, 1.031999945640564, 0.6460999846458435, 0.911300003528595, 0.47780001163482666, 0.8169000148773193, 0.6389999985694885, 0.8234000205993652, 2.177000045776367, 2.177000045776367, 2.177000045776367, 2.1768999099731445, 2.1768999099731445, 2.1768999099731445, 2.1768999099731445, 2.1768999099731445, 2.1768999099731445, 2.1768999099731445, 2.1768999099731445, 2.1768999099731445, 2.176800012588501, 2.176800012588501, 2.176800012588501, 2.176800012588501, 2.1767001152038574, 2.1767001152038574, 2.1767001152038574, 2.1767001152038574, 2.1767001152038574, 2.1767001152038574, 2.1765999794006348, 2.1765999794006348, 2.176500082015991, 2.176500082015991, 2.1763999462127686, 2.1763999462127686, 2.1763999462127686, 2.176300048828125, 2.175299882888794, 2.1703999042510986, 2.1742000579833984, 2.1761999130249023, 2.176300048828125, 2.1221001148223877, 2.145699977874756, 2.0715999603271484, 2.139400005340576, 2.115000009536743, 2.053299903869629, 1.9501999616622925, 1.8003000020980835, 1.7724000215530396, 1.9592000246047974, 1.7894999980926514, 1.3746999502182007, 1.4401999711990356, 1.2970999479293823, 0.47290000319480896, 1.2869000434875488, 0.7071999907493591, 0.8450000286102295, 1.080299973487854, 0.6158000230789185, 0.5543000102043152, 0.6480000019073486, 1.1049000024795532, 0.5845999717712402, 0.557699978351593, 0.597100019454956, 0.9617000222206116, 0.20309999585151672, 0.6617000102996826, -0.06840000301599503, 0.7013000249862671, 0.18930000066757202, 2.2390999794006348, 2.2390999794006348, 2.2390999794006348, 2.2390999794006348, 2.239000082015991, 2.239000082015991, 2.2388999462127686, 2.2388999462127686, 2.2388999462127686, 2.238800048828125, 2.238800048828125, 2.238800048828125, 2.2386999130249023, 2.2386999130249023, 2.2386999130249023, 2.238600015640259, 2.238600015640259, 2.2383999824523926, 2.2383999824523926, 2.2383999824523926, 2.238300085067749, 2.238300085067749, 2.238300085067749, 2.238300085067749, 2.238300085067749, 2.2381999492645264, 2.2381999492645264, 2.2381999492645264, 2.238100051879883, 2.238100051879883, 2.23799991607666, 2.2362000942230225, 2.2339000701904297, 2.230799913406372, 2.234600067138672, 2.2139999866485596, 2.1953999996185303, 2.2188000679016113, 2.209199905395508, 2.223299980163574, 2.1979000568389893, 2.161900043487549, 2.109999895095825, 2.0887999534606934, 2.1624999046325684, 2.13100004196167, 2.0855000019073486, 2.1012001037597656, 1.8724000453948975, 1.9793000221252441, 1.2656999826431274, 1.7269999980926514, 1.8402999639511108, 1.7861000299453735, 1.6742000579833984, 1.6477999687194824, 1.4220000505447388, 1.1167999505996704, 1.2848000526428223, 1.483199954032898, 1.4909000396728516, 0.744700014591217, 1.4104000329971313, 1.2489999532699585, 0.9071000218391418, 1.4002000093460083, 0.9570000171661377, 0.9605000019073486, 0.4666000008583069, 0.9086999893188477, 1.1116000413894653, 0.23919999599456787, 1.2045999765396118, 0.010599999688565731, 1.180299997329712, 1.101099967956543, 0.3472999930381775, 0.9045000076293945, -0.18080000579357147, -0.1687999963760376, 0.4334000051021576, 0.29339998960494995, -0.18369999527931213, 0.34209999442100525, 2.3636999130249023, 2.3635001182556152, 2.3635001182556152, 2.3633999824523926, 2.3633999824523926, 2.3633999824523926, 2.363300085067749, 2.363300085067749, 2.363300085067749, 2.363100051879883, 2.36299991607666, 2.36299991607666, 2.3629000186920166, 2.3629000186920166, 2.3629000186920166, 2.362799882888794, 2.362799882888794, 2.3626999855041504, 2.3626999855041504, 2.362600088119507, 2.362600088119507, 2.362600088119507, 2.362600088119507, 2.362499952316284, 2.362499952316284, 2.3624000549316406, 2.3624000549316406, 2.3624000549316406, 2.3624000549316406, 2.3624000549316406, 2.3559000492095947, 2.3584001064300537, 2.3575000762939453, 2.359999895095825, 2.359299898147583, 2.361999988555908, 2.3320999145507812, 2.3505001068115234, 2.344899892807007, 2.3471999168395996, 2.358599901199341, 2.343600034713745, 2.348099946975708, 2.335900068283081, 2.3394999504089355, 2.307499885559082, 2.2040998935699463, 2.2499001026153564, 2.2086000442504883, 2.2923998832702637, 2.1522998809814453, 2.2639000415802, 2.2602999210357666, 2.2260000705718994, 2.117000102996826, 2.1338000297546387, 2.100800037384033, 2.020699977874756, 2.1689999103546143, 2.0448999404907227, 2.1194000244140625, 2.0648999214172363, 1.445199966430664, 2.1414999961853027, 2.120300054550171, 1.9753999710083008, 2.0429999828338623, 1.5418000221252441, 1.5658999681472778, 1.7302000522613525, 1.4124000072479248, 1.429900050163269, 1.7024999856948853, 1.0420000553131104, 1.5033999681472778, 1.6140999794006348, 1.1353000402450562, 1.6018999814987183, 0.9955000281333923, 1.5425000190734863, 0.39579999446868896, 0.6080999970436096, 1.0915000438690186, 1.3839999437332153, 0.38940000534057617, 0.008500000461935997, -0.05130000039935112, -0.8816999793052673, 0.5217000246047974, 0.8450999855995178, 0.7908999919891357, 0.6098999977111816, -0.373199999332428, 0.6506999731063843, 0.4643000066280365, 0.49410000443458557, 0.19910000264644623, 2.5065999031066895, 2.5065999031066895, 2.5065999031066895, 2.5065999031066895, 2.506500005722046, 2.506500005722046, 2.506500005722046, 2.506500005722046, 2.506500005722046, 2.506500005722046, 2.506500005722046, 2.506500005722046, 2.506500005722046, 2.506500005722046, 2.506500005722046, 2.506500005722046, 2.506500005722046, 2.506500005722046, 2.506500005722046, 2.506500005722046, 2.506500005722046, 2.506500005722046, 2.506500005722046, 2.506500005722046, 2.506500005722046, 2.506500005722046, 2.506500005722046, 2.506500005722046, 2.506500005722046, 2.506500005722046, 2.503999948501587, 2.488800048828125, 2.498500108718872, 2.434499979019165, 2.4802000522613525, 2.3968000411987305, 2.470400094985962, 2.239799976348877, 2.0841000080108643, 2.218100070953369, 1.5276000499725342, 2.0411999225616455, 2.3041000366210938, 0.4803999960422516, 0.9617999792098999, -0.2831000089645386, 0.6672999858856201, 1.6881999969482422, 1.326200008392334, -0.041600000113248825, 0.5424000024795532, 0.0044999998062849045, 2.6242001056671143, 2.6240999698638916, 2.6240999698638916, 2.624000072479248, 2.624000072479248, 2.624000072479248, 2.624000072479248, 2.624000072479248, 2.624000072479248, 2.624000072479248, 2.624000072479248, 2.624000072479248, 2.624000072479248, 2.624000072479248, 2.624000072479248, 2.624000072479248, 2.624000072479248, 2.624000072479248, 2.624000072479248, 2.624000072479248, 2.624000072479248, 2.6238999366760254, 2.6238999366760254, 2.6238999366760254, 2.6238999366760254, 2.6238999366760254, 2.6238999366760254, 2.6238999366760254, 2.6238999366760254, 2.6238999366760254, 2.6238999366760254, 2.6226000785827637, 2.5009000301361084, 2.4876999855041504, 2.5834999084472656, 2.5875000953674316, 2.5141000747680664, 2.4119999408721924, 2.4714999198913574, 2.4937000274658203, 2.036099910736084, 2.1823999881744385, 2.309000015258789, 2.4783999919891357, 2.517699956893921, 1.7551000118255615, 1.801800012588501, 1.7203999757766724, 2.308799982070923, 1.9383000135421753, 2.2304999828338623, 2.0571000576019287, 2.218400001525879, 1.6614999771118164, 1.6486999988555908, 1.1431000232696533, 0.06759999692440033, 0.7696999907493591, 2.2393999099731445, 1.541700005531311, 1.0282000303268433, 1.1878000497817993, 0.5857999920845032, 0.21559999883174896, 0.6467000246047974, 1.3904999494552612, 1.242799997329712, -0.2304999977350235, 0.23170000314712524, 0.02459999918937683, 0.5199999809265137, 0.26969999074935913, 0.414900004863739, -0.310699999332428, -0.37450000643730164, 2.710200071334839, 2.710200071334839, 2.710200071334839, 2.710099935531616, 2.710099935531616, 2.710099935531616, 2.710099935531616, 2.710099935531616, 2.710099935531616, 2.710099935531616, 2.710099935531616, 2.710099935531616, 2.710099935531616, 2.710099935531616, 2.710099935531616, 2.710099935531616, 2.710099935531616, 2.710099935531616, 2.710099935531616, 2.710099935531616, 2.710099935531616, 2.710099935531616, 2.710099935531616, 2.710099935531616, 2.710099935531616, 2.710099935531616, 2.710099935531616, 2.710099935531616, 2.710099935531616, 2.710099935531616, 2.7100000381469727, 2.6821000576019287, 2.6847000122070312, 2.487600088119507, 2.544600009918213, 2.5975000858306885, 2.3331000804901123, 2.2509000301361084, 2.68969988822937, 2.305299997329712, 1.1726000308990479, 1.9874999523162842, 1.7924000024795532, 1.0360000133514404, 2.566800117492676, 1.6542999744415283, 1.0068999528884888, 1.3646999597549438, 0.9843999743461609, 1.082800030708313, 0.6499999761581421, -0.5024999976158142, 1.4733999967575073, 1.0312999486923218, 0.049300000071525574, 0.02419999986886978, 0.02979999966919422, 0.7736999988555908, 0.14409999549388885, -0.4041999876499176, 2.932499885559082, 2.9323999881744385, 2.9323999881744385, 2.9323999881744385, 2.9323999881744385, 2.9323999881744385, 2.9323999881744385, 2.9323999881744385, 2.9323999881744385, 2.9323999881744385, 2.9323999881744385, 2.9323999881744385, 2.932300090789795, 2.932300090789795, 2.932300090789795, 2.932300090789795, 2.932300090789795, 2.9321999549865723, 2.9321999549865723, 2.9321999549865723, 2.9321999549865723, 2.9321000576019287, 2.9321000576019287, 2.931999921798706, 2.931999921798706, 2.931999921798706, 2.931999921798706, 2.931999921798706, 2.931999921798706, 2.931999921798706, 2.905600070953369, 2.9258999824523926, 2.8545000553131104, 2.907900094985962, 2.88700008392334, 2.880000114440918, 2.8608999252319336, 2.8089001178741455, 2.7286999225616455, 2.5376999378204346, 2.7911999225616455, 2.5127999782562256, 1.906999945640564, 2.0388998985290527, 2.123699903488159, 1.4490000009536743, 1.124500036239624, 1.7031999826431274, 1.8772000074386597, 0.9067000150680542, 2.2320001125335693, 1.8013999462127686, 0.06469999998807907, 1.580399990081787, 0.5343999862670898, 1.0662000179290771, 0.43050000071525574, 0.9211999773979187, 0.22020000219345093, 0.3790000081062317, 0.682200014591217, 0.5870000123977661, 0.2784999907016754, 1.020799994468689, 0.7121999859809875, 0.7416999936103821, 3.1572000980377197, 3.1572000980377197, 3.1572000980377197, 3.1572000980377197, 3.1572000980377197, 3.157099962234497, 3.157099962234497, 3.157099962234497, 3.157099962234497, 3.157099962234497, 3.1570000648498535, 3.1570000648498535, 3.1570000648498535, 3.1570000648498535, 3.1570000648498535, 3.156899929046631, 3.156899929046631, 3.156899929046631, 3.156899929046631, 3.156899929046631, 3.156899929046631, 3.156899929046631, 3.156899929046631, 3.156899929046631, 3.156899929046631, 3.156899929046631, 3.1568000316619873, 3.1568000316619873, 3.1568000316619873, 3.1568000316619873, 3.149399995803833, 3.1566998958587646, 3.1245999336242676, 3.1080000400543213, 3.1350998878479004, 3.078399896621704, 2.998300075531006, 2.801100015640259, 2.131200075149536, 2.824399948120117, 1.5217000246047974, 2.7657999992370605, 1.493499994277954, 2.088200092315674, 2.555500030517578, 1.7417000532150269, 1.652899980545044, 0.8962000012397766, 1.0266000032424927, 1.6675000190734863, 1.7799999713897705, 0.3100999891757965, 0.45329999923706055, 1.0455000400543213, 0.4375, 0.6367999911308289, 1.2807999849319458, 0.6980000138282776, 0.9229999780654907, 0.5770000219345093, 0.1988999992609024, 3.2095000743865967, 3.2095000743865967, 3.2095000743865967, 3.2095000743865967, 3.209399938583374, 3.209399938583374, 3.209399938583374, 3.209399938583374, 3.2093000411987305, 3.2093000411987305, 3.209199905395508, 3.209199905395508, 3.209199905395508, 3.209199905395508, 3.2091000080108643, 3.2091000080108643, 3.2091000080108643, 3.2090001106262207, 3.2090001106262207, 3.2090001106262207, 3.208899974822998, 3.208899974822998, 3.208899974822998, 3.208899974822998, 3.208899974822998, 3.208899974822998, 3.208899974822998, 3.208899974822998, 3.2088000774383545, 3.208699941635132, 3.202699899673462, 3.197200059890747, 3.2070999145507812, 3.18969988822937, 3.178999900817871, 3.133500099182129, 3.15120005607605, 3.110599994659424, 3.110100030899048, 3.107599973678589, 3.0947999954223633, 2.960700035095215, 2.9379000663757324, 2.7853000164031982, 2.9372000694274902, 2.6903998851776123, 2.968100070953369, 2.1928000450134277, 2.188999891281128, 2.505199909210205, 2.0118000507354736, 2.516200065612793, 1.9714000225067139, 2.0264999866485596, 0.6359999775886536, 1.3680000305175781, 1.0436999797821045, 1.642799973487854, 0.8921999931335449, 2.01990008354187, 1.8339999914169312, 1.7201999425888062, 1.3840999603271484, 1.458400011062622, 0.30640000104904175, 1.0384999513626099, 0.8561000227928162, 1.8035999536514282, 1.961400032043457, 3.51990008354187, 3.5197999477386475, 3.5197999477386475, 3.5197999477386475, 3.5197999477386475, 3.5197999477386475, 3.5197999477386475, 3.5197999477386475, 3.5197999477386475, 3.5197999477386475, 3.5197999477386475, 3.5197999477386475, 3.5197999477386475, 3.5197999477386475, 3.5197999477386475, 3.5197999477386475, 3.5197999477386475, 3.519700050354004, 3.519700050354004, 3.519700050354004, 3.519700050354004, 3.5195999145507812, 3.5195999145507812, 3.5195999145507812, 3.5195000171661377, 3.5195000171661377, 3.5195000171661377, 3.5192999839782715, 3.519200086593628, 3.519200086593628, 3.5190999507904053, 3.518899917602539, 3.5172998905181885, 3.51200008392334, 3.5088999271392822, 3.507699966430664, 3.4337000846862793, 3.456899881362915, 3.3380000591278076, 3.244999885559082, 2.835400104522705, 3.050600051879883, 3.0320000648498535, 3.4433000087738037, 3.4289000034332275, 2.537600040435791, 3.0703001022338867, 2.9286000728607178, 2.5671000480651855, 1.0461000204086304, 3.1686999797821045, 0.9783999919891357, 1.0026999711990356, 1.4943000078201294, 1.3490999937057495, 0.8015000224113464, 1.0125999450683594, 1.246000051498413, 0.3280999958515167, 0.9556000232696533, 2.026400089263916, 0.5982000231742859, 0.5370000004768372, 1.4560999870300293, 1.0816999673843384, 3.827899932861328, 3.827899932861328, 3.827899932861328, 3.827899932861328, 3.8278000354766846, 3.8278000354766846, 3.8278000354766846, 3.8278000354766846, 3.8278000354766846, 3.8278000354766846, 3.8278000354766846, 3.8278000354766846, 3.8278000354766846, 3.8278000354766846, 3.8278000354766846, 3.8278000354766846, 3.827699899673462, 3.827699899673462, 3.827699899673462, 3.827699899673462, 3.827699899673462, 3.827699899673462, 3.827699899673462, 3.827699899673462, 3.827699899673462, 3.827699899673462, 3.827699899673462, 3.827699899673462, 3.8276000022888184, 3.8276000022888184, 3.8241000175476074, 3.8203999996185303, 3.7757999897003174, 3.652600049972534, 3.7223000526428223, 3.775599956512451, 3.2416000366210938, 3.4969000816345215, 3.672300100326538, 3.643399953842163, 3.1285998821258545, 2.8373000621795654, 2.8610999584198, 3.094399929046631, 1.8653000593185425, 3.078200101852417, 1.534600019454956, 0.9611999988555908, 2.851099967956543, 2.026400089263916, -0.13539999723434448, 2.2534000873565674, 1.479599952697754, 0.8967000246047974, 1.5700000524520874, 2.375699996948242, 1.2732000350952148, 1.1851999759674072, 0.9161999821662903, 0.6047999858856201], \"logprob\": [30.0, 29.0, 28.0, 27.0, 26.0, 25.0, 24.0, 23.0, 22.0, 21.0, 20.0, 19.0, 18.0, 17.0, 16.0, 15.0, 14.0, 13.0, 12.0, 11.0, 10.0, 9.0, 8.0, 7.0, 6.0, 5.0, 4.0, 3.0, 2.0, 1.0, -5.6118998527526855, -6.098599910736084, -6.10699987411499, -6.315000057220459, -6.52209997177124, -6.581600189208984, -6.684800148010254, -6.7347002029418945, -6.752500057220459, -6.755899906158447, -6.7621002197265625, -6.770100116729736, -6.770100116729736, -6.770100116729736, -6.770100116729736, -6.772600173950195, -6.800000190734863, -6.834799766540527, -6.875400066375732, -6.877799987792969, -6.979400157928467, -7.29610013961792, -7.326200008392334, -7.356800079345703, -7.393599987030029, -7.5121002197265625, -7.6230998039245605, -7.309199810028076, -7.676799774169922, -7.7083001136779785, -5.843400001525879, -4.3242998123168945, -7.075099945068359, -5.121399879455566, -5.726099967956543, -6.614099979400635, -7.173399925231934, -4.4328999519348145, -3.9577999114990234, -4.575900077819824, -6.588099956512451, -4.997799873352051, -5.446300029754639, -3.621299982070923, -4.797299861907959, -3.5745999813079834, -6.197700023651123, -5.390900135040283, -3.7128000259399414, -4.941199779510498, -4.14139986038208, -3.855600118637085, -5.6458001136779785, -6.278600215911865, -4.662099838256836, -3.4886999130249023, -5.78849983215332, -4.602200031280518, -4.289299964904785, -5.092800140380859, -4.7932000160217285, -4.710899829864502, -5.465400218963623, -4.646999835968018, -4.517300128936768, -4.7846999168396, -4.6483001708984375, -5.197999954223633, -4.951700210571289, -5.1774001121521, -5.324999809265137, -5.289100170135498, -5.280600070953369, -5.311500072479248, -4.1244001388549805, -5.055600166320801, -6.145699977874756, -6.388400077819824, -6.39169979095459, -6.450500011444092, -6.451499938964844, -6.4654998779296875, -6.4654998779296875, -6.610199928283691, -6.5833001136779785, -6.672500133514404, -6.981800079345703, -7.0954999923706055, -7.195400238037109, -7.389900207519531, -7.598499774932861, -7.607399940490723, -7.637499809265137, -7.736199855804443, -7.831699848175049, -7.850200176239014, -7.889900207519531, -7.951399803161621, -8.07960033416748, -8.11620044708252, -8.130000114440918, -8.247099876403809, -8.382399559020996, -8.565899848937988, -5.320700168609619, -5.643199920654297, -6.395199775695801, -6.348199844360352, -6.368199825286865, -3.6689000129699707, -6.815899848937988, -6.5258002281188965, -3.5227999687194824, -7.084099769592285, -3.9133999347686768, -3.4709999561309814, -4.34119987487793, -5.5802001953125, -3.3331000804901123, -4.033599853515625, -3.7070999145507812, -5.7418999671936035, -6.094699859619141, -4.444699764251709, -5.801599979400635, -4.399199962615967, -4.288300037384033, -4.6834001541137695, -5.237299919128418, -4.8983001708984375, -4.106299877166748, -4.8730998039245605, -5.057199954986572, -4.998300075531006, -4.616300106048584, -3.7246999740600586, -4.952600002288818, -4.653600215911865, -4.861599922180176, -5.095099925994873, -5.152699947357178, -5.063000202178955, -4.76609992980957, -4.997600078582764, -4.787099838256836, -4.9745001792907715, -4.936500072479248, -5.006499767303467, -4.64300012588501, -4.808599948883057, -5.140500068664551, -5.646599769592285, -5.745299816131592, -5.786399841308594, -5.788899898529053, -5.915500164031982, -6.0254998207092285, -6.173500061035156, -6.175300121307373, -6.20359992980957, -6.359399795532227, -6.397600173950195, -6.610300064086914, -6.64139986038208, -6.795199871063232, -6.854700088500977, -6.8572001457214355, -6.89139986038208, -6.921599864959717, -6.948800086975098, -7.087800025939941, -4.915500164031982, -7.331299781799316, -7.453400135040283, -7.473100185394287, -7.490900039672852, -6.889999866485596, -7.631100177764893, -5.158299922943115, -4.997000217437744, -6.354100227355957, -6.5756001472473145, -6.582600116729736, -4.514699935913086, -5.683000087738037, -4.282299995422363, -6.380799770355225, -6.073699951171875, -5.426400184631348, -5.466300010681152, -4.716400146484375, -4.602099895477295, -5.742400169372559, -5.285200119018555, -4.096399784088135, -4.594399929046631, -4.761300086975098, -3.537600040435791, -4.869699954986572, -4.04040002822876, -4.410999774932861, -4.829100131988525, -4.427599906921387, -4.476099967956543, -4.6381001472473145, -5.024400234222412, -4.699100017547607, -4.725399971008301, -4.834099769592285, -5.103799819946289, -4.854899883270264, -5.122099876403809, -5.030300140380859, -5.189799785614014, -5.160600185394287, -5.917200088500977, -6.108699798583984, -6.014800071716309, -6.198400020599365, -6.318600177764893, -6.420199871063232, -6.684500217437744, -6.71750020980835, -6.794600009918213, -7.049300193786621, -7.063899993896484, -7.058000087738037, -7.184299945831299, -7.382800102233887, -7.312699794769287, -7.445899963378906, -7.468599796295166, -7.723400115966797, -7.72730016708374, -7.758999824523926, -7.846099853515625, -7.85890007019043, -7.888599872589111, -7.918300151824951, -7.933599948883057, -7.950099945068359, -7.324100017547607, -8.020999908447266, -8.045000076293945, -8.117199897766113, -6.834700107574463, -7.1915998458862305, -7.008800029754639, -7.002299785614014, -7.450399875640869, -5.712699890136719, -4.9664998054504395, -6.6184000968933105, -6.201700210571289, -6.979300022125244, -6.0447998046875, -5.629300117492676, -5.174799919128418, -5.334099769592285, -6.651299953460693, -6.510499954223633, -6.156400203704834, -6.388999938964844, -4.928800106048584, -6.280200004577637, -4.208799839019775, -5.775100231170654, -6.071199893951416, -5.985799789428711, -5.746699810028076, -5.816699981689453, -5.438799858093262, -4.990900039672852, -5.254700183868408, -5.576000213623047, -5.644400119781494, -4.686399936676025, -5.5868000984191895, -5.388400077819824, -4.986499786376953, -5.597099781036377, -5.152200222015381, -5.161399841308594, -4.819499969482422, -5.189799785614014, -5.398900032043457, -4.818900108337402, -5.552999973297119, -4.937399864196777, -5.561299800872803, -5.529099941253662, -5.229499816894531, -5.484000205993652, -5.186500072479248, -5.19920015335083, -5.470300197601318, -5.463399887084961, -5.412499904632568, -5.492400169372559, -5.959700107574463, -6.453700065612793, -6.7480998039245605, -6.796999931335449, -6.932300090789795, -7.039400100708008, -7.170000076293945, -7.182400226593018, -7.232100009918213, -7.514900207519531, -7.605299949645996, -7.6331000328063965, -7.5355000495910645, -7.753200054168701, -7.778200149536133, -7.786799907684326, -7.846199989318848, -7.9029998779296875, -7.974800109863281, -7.504700183868408, -7.992700099945068, -8.05109977722168, -8.060799598693848, -8.094099998474121, -8.118800163269043, -8.152999877929688, -8.161399841308594, -8.164799690246582, -8.194899559020996, -8.205400466918945, -4.769700050354004, -6.076499938964844, -6.678299903869629, -7.047900199890137, -7.010200023651123, -7.917799949645996, -5.931099891662598, -7.066299915313721, -6.893700122833252, -7.118100166320801, -7.724999904632568, -7.179800033569336, -7.327099800109863, -7.013400077819824, -7.27869987487793, -6.765399932861328, -5.178899765014648, -6.036499977111816, -5.886099815368652, -6.839399814605713, -5.507199764251709, -6.553199768066406, -6.540800094604492, -6.280900001525879, -5.4492998123168945, -5.771399974822998, -5.654699802398682, -5.396200180053711, -6.192699909210205, -5.588200092315674, -6.221700191497803, -6.031000137329102, -4.401700019836426, -6.452199935913086, -6.405300140380859, -6.0808000564575195, -6.243000030517578, -5.191699981689453, -5.309299945831299, -5.689799785614014, -5.230299949645996, -5.267199993133545, -5.745500087738037, -4.759099960327148, -5.476799964904785, -5.670899868011475, -5.05109977722168, -5.666299819946289, -5.112199783325195, -5.657100200653076, -4.662199974060059, -5.036099910736084, -5.417399883270264, -5.632599830627441, -5.187399864196777, -5.034900188446045, -5.05709981918335, -4.892199993133545, -5.387800216674805, -5.514699935913086, -5.513899803161621, -5.489299774169922, -5.33519983291626, -5.520999908447266, -5.526700019836426, -5.5503997802734375, -5.5625, -4.2459001541137695, -4.295300006866455, -4.618899822235107, -4.72790002822876, -4.91510009765625, -4.936800003051758, -4.956600189208984, -4.959499835968018, -4.985599994659424, -5.005499839782715, -5.064899921417236, -5.065100193023682, -5.064899921417236, -5.064199924468994, -5.063600063323975, -5.064899921417236, -5.0644001960754395, -5.064000129699707, -5.0920000076293945, -5.0980000495910645, -5.1656999588012695, -5.165999889373779, -5.244200229644775, -5.2565999031066895, -5.268099784851074, -5.282599925994873, -5.3069000244140625, -5.320499897003174, -5.336900234222412, -5.382400035858154, -4.864200115203857, -3.5092999935150146, -4.962100028991699, -4.403200149536133, -5.059500217437744, -4.398499965667725, -5.081500053405762, -4.4145002365112305, -4.543399810791016, -4.7758002281188965, -4.537899971008301, -4.861499786376953, -4.996099948883057, -4.267199993133545, -4.469399929046631, -4.293499946594238, -4.616399765014648, -4.902299880981445, -4.9593000411987305, -4.98960018157959, -5.033100128173828, -5.038899898529053, -5.05679988861084, -5.844099998474121, -5.619999885559082, -6.218299865722656, -6.267399787902832, -6.275300025939941, -6.285099983215332, -6.3470001220703125, -6.365200042724609, -6.276100158691406, -6.432000160217285, -6.438600063323975, -6.438700199127197, -6.442299842834473, -6.4492998123168945, -6.452899932861328, -6.456399917602539, -6.4756999015808105, -6.49459981918335, -6.4770002365112305, -6.525400161743164, -6.571400165557861, -6.5883002281188965, -6.591599941253662, -6.598999977111816, -6.600100040435791, -6.6219000816345215, -6.6265997886657715, -6.6519999504089355, -6.656000137329102, -6.402299880981445, -6.497499942779541, -4.378200054168701, -5.206200122833252, -6.231500148773193, -6.275100231170654, -5.801599979400635, -5.4832000732421875, -5.925899982452393, -6.0808000564575195, -4.629899978637695, -5.417900085449219, -5.748899936676025, -6.166600227355957, -6.270400047302246, -4.978400230407715, -5.068399906158447, -5.051799774169922, -5.952300071716309, -5.408699989318848, -5.872700214385986, -5.6691999435424805, -5.9029998779296875, -5.34060001373291, -5.336100101470947, -4.868299961090088, -3.9428000450134277, -4.642499923706055, -5.965400218963623, -5.427199840545654, -5.070300102233887, -5.287600040435791, -4.930600166320801, -4.814799785614014, -5.110199928283691, -5.519100189208984, -5.507699966430664, -4.978000164031982, -5.199399948120117, -5.258600234985352, -5.383699893951416, -5.374599933624268, -5.41949987411499, -5.316400051116943, -5.322500228881836, -4.331600189208984, -5.176199913024902, -5.188199996948242, -5.229000091552734, -5.281599998474121, -5.315999984741211, -5.332699775695801, -5.40939998626709, -5.4319000244140625, -5.518099784851074, -5.535200119018555, -5.540800094604492, -5.552700042724609, -5.554299831390381, -5.678899765014648, -5.68209981918335, -5.714300155639648, -5.718500137329102, -5.720600128173828, -5.741600036621094, -5.742800235748291, -5.745500087738037, -5.74399995803833, -5.7530999183654785, -5.759200096130371, -5.7600998878479, -5.7652997970581055, -5.805600166320801, -5.811999797821045, -5.829699993133545, -5.779699802398682, -3.4260001182556152, -5.276599884033203, -4.1407999992370605, -4.565700054168701, -5.0640997886657715, -4.374100208282471, -4.10890007019043, -5.694300174713135, -5.211999893188477, -3.775399923324585, -4.963399887084961, -4.796299934387207, -4.21999979019165, -5.59089994430542, -4.854700088500977, -4.405399799346924, -4.780799865722656, -4.559899806976318, -4.747099876403809, -4.821000099182129, -4.512899875640869, -5.169400215148926, -5.0980000495910645, -4.912600040435791, -4.983099937438965, -5.028200149536133, -5.119900226593018, -5.138999938964844, -5.151700019836426, -4.838900089263916, -5.151199817657471, -5.185500144958496, -5.188499927520752, -5.2058000564575195, -5.25570011138916, -5.343999862670898, -5.346099853515625, -5.561800003051758, -5.596399784088135, -5.604800224304199, -5.666900157928467, -5.727700233459473, -5.7484002113342285, -5.888800144195557, -5.921199798583984, -5.788599967956543, -6.139400005340576, -6.167600154876709, -6.195400238037109, -6.314300060272217, -6.44350004196167, -6.561699867248535, -6.681399822235107, -6.683000087738037, -6.698299884796143, -6.703100204467773, -6.704999923706055, -6.744999885559082, -6.776000022888184, -5.178699970245361, -6.2829999923706055, -2.8940000534057617, -5.837699890136719, -5.825099945068359, -6.0507001876831055, -5.916800022125244, -5.517499923706055, -5.235199928283691, -4.1631999015808105, -5.7083001136779785, -5.229100227355957, -4.153900146484375, -4.671500205993652, -4.924900054931641, -4.127799987792969, -3.9335999488830566, -4.67609977722168, -4.9141998291015625, -4.055300235748291, -5.250999927520752, -4.985599994659424, -3.94569993019104, -4.936200141906738, -4.413599967956543, -4.827300071716309, -4.66510009765625, -4.913300037384033, -4.810200214385986, -4.904600143432617, -4.962100028991699, -4.988500118255615, -5.071499824523926, -5.135799884796143, -5.134699821472168, -5.167799949645996, -3.7441000938415527, -3.9321999549865723, -3.989000082015991, -4.3109002113342285, -4.3709001541137695, -4.719099998474121, -4.754700183868408, -4.898499965667725, -5.137800216674805, -5.255000114440918, -5.452400207519531, -5.562300205230713, -5.712800025939941, -5.7846999168396, -5.844299793243408, -3.932800054550171, -5.885799884796143, -5.890600204467773, -5.866099834442139, -5.926400184631348, -5.936299800872803, -5.95389986038208, -6.001699924468994, -6.037300109863281, -6.100500106811523, -6.1203999519348145, -6.249899864196777, -6.292699813842773, -6.365200042724609, -6.373199939727783, -4.833399772644043, -6.316199779510498, -4.585100173950195, -4.077600002288818, -5.627500057220459, -5.059299945831299, -4.482699871063232, -5.106500148773193, -3.6986000537872314, -5.440400123596191, -3.7344000339508057, -5.4096999168396, -4.117800235748291, -4.772600173950195, -5.284800052642822, -4.637599945068359, -4.632500171661377, -4.161900043487549, -4.2565999031066895, -4.867700099945068, -4.945099830627441, -4.437399864196777, -4.494800090789795, -4.73829984664917, -4.592899799346924, -4.646900177001953, -4.81850004196167, -4.773099899291992, -4.8684000968933105, -4.8541998863220215, -4.8445000648498535, -4.299600124359131, -4.6433000564575195, -4.889100074768066, -4.949100017547607, -5.11299991607666, -5.267600059509277, -5.279399871826172, -5.563399791717529, -5.792500019073486, -5.82919979095459, -6.0019001960754395, -6.028600215911865, -5.381199836730957, -6.125899791717529, -6.325699806213379, -6.357500076293945, -6.383999824523926, -6.541900157928467, -6.542699813842773, -6.547599792480469, -6.315999984741211, -6.613800048828125, -6.619699954986572, -6.623600006103516, -6.625199794769287, -6.663599967956543, -6.667900085449219, -6.701399803161621, -6.7947998046875, -6.853000164031982, -4.6834001541137695, -4.336699962615967, -6.5345001220703125, -5.726500034332275, -5.207200050354004, -4.588900089263916, -5.3059000968933105, -4.8028998374938965, -5.185400009155273, -5.2347002029418945, -5.180500030517578, -4.086299896240234, -4.857699871063232, -4.203499794006348, -5.176799774169922, -4.169000148773193, -5.423799991607666, -3.157099962234497, -3.7204999923706055, -4.507800102233887, -3.9791998863220215, -4.845900058746338, -4.137800216674805, -4.5858001708984375, -3.3743999004364014, -4.103000164031982, -3.9997000694274902, -4.401700019836426, -4.055799961090088, -4.737400054931641, -4.676499843597412, -4.713099956512451, -4.627299785614014, -4.663599967956543, -4.441100120544434, -4.718299865722656, -4.720799922943115, -4.799300193786621, -4.825500011444092, -4.706299781799316, -5.284999847412109, -5.303899765014648, -5.303899765014648, -5.305699825286865, -5.307000160217285, -5.326099872589111, -5.328100204467773, -5.342700004577637, -5.35290002822876, -5.353899955749512, -5.356200218200684, -5.356400012969971, -5.35860013961792, -5.361299991607666, -5.36269998550415, -5.396900177001953, -5.437300205230713, -4.841400146484375, -4.745200157165527, -4.785200119018555, -4.763899803161621, -4.872900009155273, -5.917099952697754, -4.805600166320801, -6.074399948120117, -6.092400074005127, -6.412700176239014, -6.502799987792969, -4.775100231170654, -4.853499889373779, -4.855100154876709, -4.9293999671936035, -4.855100154876709, -4.837800025939941, -4.903800010681152, -3.7355000972747803, -4.803800106048584, -4.530799865722656, -4.340400218963623, -3.4583001136779785, -4.126999855041504, -4.32390022277832, -5.210599899291992, -5.184899806976318, -3.8508999347686768, -4.872799873352051, -4.765399932861328, -4.523099899291992, -4.011899948120117, -5.11899995803833, -4.027299880981445, -4.0406999588012695, -4.352499961853027, -4.36929988861084, -4.294099807739258, -4.4618000984191895, -4.555099964141846, -4.419400215148926, -4.588699817657471, -4.7505998611450195, -4.685500144958496, -4.691800117492676, -4.743800163269043, -4.776000022888184, -4.497099876403809, -4.530799865722656, -4.5320000648498535, -4.872799873352051, -4.8902997970581055, -4.99399995803833, -5.021599769592285, -5.014800071716309, -5.038300037384033, -5.053400039672852, -5.065499782562256, -5.103700160980225, -5.119999885559082, -5.120999813079834, -5.122600078582764, -5.124499797821045, -5.3084001541137695, -5.351500034332275, -5.280300140380859, -5.381800174713135, -5.401400089263916, -5.4028000831604, -5.436800003051758, -5.437600135803223, -5.450099945068359, -5.461900234222412, -5.495299816131592, -5.410099983215332, -5.59250020980835, -5.473999977111816, -5.1072998046875, -5.339399814605713, -4.839700222015381, -3.6654999256134033, -4.696400165557861, -5.231599807739258, -3.6233999729156494, -4.390900135040283, -5.051400184631348, -5.071300029754639, -4.388500213623047, -4.198400020599365, -4.227700233459473, -4.543799877166748, -3.678999900817871, -4.814899921417236, -3.9398000240325928, -3.986799955368042, -4.765600204467773, -4.488999843597412, -4.1458001136779785, -4.756199836730957, -4.619699954986572, -4.556600093841553, -4.800300121307373, -4.892499923706055, -4.821899890899658, -4.8495001792907715, -4.9182000160217285, -4.972099781036377]}, \"token.table\": {\"Topic\": [1, 2, 3, 5, 6, 7, 8, 9, 10, 11, 13, 13, 3, 4, 6, 9, 11, 8, 9, 1, 2, 4, 5, 6, 7, 4, 8, 11, 3, 7, 8, 1, 2, 3, 5, 7, 9, 11, 9, 1, 2, 5, 6, 9, 11, 1, 2, 3, 4, 5, 7, 8, 9, 10, 11, 12, 13, 7, 1, 2, 3, 4, 5, 6, 7, 8, 9, 10, 11, 12, 13, 1, 3, 4, 5, 6, 7, 9, 7, 1, 9, 4, 1, 2, 3, 4, 6, 8, 11, 1, 2, 3, 4, 5, 6, 7, 8, 9, 10, 12, 13, 6, 4, 5, 3, 7, 8, 2, 3, 4, 5, 7, 3, 7, 1, 2, 3, 4, 5, 6, 7, 8, 9, 11, 12, 13, 7, 5, 10, 10, 12, 1, 2, 5, 6, 11, 6, 2, 11, 1, 2, 3, 4, 6, 3, 4, 1, 2, 3, 4, 5, 6, 7, 8, 9, 10, 11, 12, 13, 3, 6, 3, 10, 1, 11, 3, 7, 1, 3, 5, 6, 7, 2, 3, 4, 4, 4, 11, 1, 2, 3, 4, 5, 7, 8, 9, 10, 11, 13, 13, 11, 1, 13, 1, 2, 3, 4, 5, 6, 7, 8, 9, 10, 11, 12, 13, 2, 9, 11, 9, 2, 7, 1, 2, 4, 5, 9, 11, 13, 1, 2, 5, 9, 10, 6, 8, 4, 2, 5, 7, 5, 1, 2, 3, 4, 5, 7, 8, 9, 13, 1, 2, 3, 4, 5, 6, 7, 8, 9, 11, 13, 1, 2, 3, 4, 5, 6, 7, 8, 9, 10, 11, 12, 13, 3, 5, 6, 9, 4, 1, 2, 3, 4, 5, 6, 7, 8, 9, 10, 11, 12, 2, 1, 2, 3, 4, 5, 7, 8, 9, 12, 13, 1, 6, 5, 12, 13, 1, 1, 5, 13, 6, 1, 2, 3, 4, 6, 7, 9, 13, 4, 10, 1, 2, 3, 4, 5, 6, 7, 8, 9, 10, 11, 12, 8, 3, 4, 5, 9, 11, 12, 10, 11, 10, 10, 2, 5, 6, 7, 1, 3, 4, 5, 6, 7, 8, 9, 11, 2, 13, 1, 3, 4, 5, 6, 7, 8, 9, 12, 13, 9, 1, 2, 3, 4, 5, 6, 7, 8, 9, 10, 12, 13, 5, 8, 8, 12, 13, 2, 6, 8, 7, 1, 8, 10, 1, 5, 7, 8, 6, 1, 2, 3, 4, 5, 6, 7, 8, 12, 13, 1, 5, 1, 8, 3, 4, 5, 9, 5, 9, 5, 1, 2, 3, 5, 7, 8, 9, 10, 1, 11, 1, 2, 4, 5, 6, 9, 11, 12, 13, 10, 1, 2, 3, 4, 5, 6, 7, 8, 9, 10, 11, 12, 13, 1, 2, 3, 4, 5, 6, 7, 8, 9, 10, 11, 12, 13, 13, 12, 3, 8, 3, 7, 1, 2, 3, 4, 5, 6, 7, 8, 9, 10, 12, 13, 2, 3, 4, 5, 6, 7, 8, 13, 9, 9, 4, 1, 3, 4, 7, 8, 9, 1, 2, 3, 4, 5, 6, 7, 8, 9, 10, 12, 13, 6, 8, 9, 10, 12, 1, 2, 3, 4, 6, 8, 13, 1, 2, 3, 4, 5, 6, 7, 8, 9, 10, 11, 12, 13, 5, 1, 2, 3, 7, 12, 1, 2, 11, 13, 12, 3, 1, 2, 3, 4, 5, 6, 7, 8, 9, 10, 11, 12, 13, 13, 5, 6, 9, 11, 1, 2, 3, 4, 5, 6, 7, 8, 9, 10, 11, 12, 13, 1, 1, 2, 3, 4, 5, 6, 7, 8, 9, 10, 11, 12, 13, 12, 13, 1, 1, 2, 4, 5, 6, 7, 9, 11, 10, 1, 2, 3, 4, 5, 7, 9, 10, 11, 2, 1, 2, 3, 4, 5, 6, 7, 8, 9, 10, 11, 12, 13, 2, 7, 6, 1, 2, 3, 4, 6, 7, 8, 9, 11, 12, 13, 11, 13, 13, 7, 1, 2, 3, 4, 5, 7, 8, 9, 10, 11, 12, 1, 3, 4, 8, 12, 13, 1, 2, 3, 4, 5, 6, 7, 8, 9, 10, 11, 13, 2, 4, 5, 1, 2, 3, 4, 5, 6, 7, 8, 9, 10, 12, 13, 12, 13, 4, 5, 7, 8, 12, 4, 2, 4, 3, 3, 8, 10, 6, 8, 1, 2, 3, 5, 6, 7, 8, 9, 10, 12, 1, 2, 3, 4, 5, 6, 8, 9, 11, 12, 13, 12, 13, 1, 3, 4, 5, 6, 7, 8, 9, 10, 11, 12, 13, 9, 10, 12, 3, 9, 3, 3, 7, 1, 2, 3, 4, 5, 6, 7, 8, 9, 12, 13, 1, 2, 3, 4, 5, 7, 10, 12, 12, 12, 6, 5, 1, 1, 2, 3, 4, 5, 6, 7, 8, 9, 11, 12, 13, 4, 5, 6, 9, 12, 5, 12, 5, 12, 1, 2, 3, 4, 6, 7, 8, 9, 10, 11, 12, 13, 10, 8, 11, 1, 2, 3, 4, 5, 6, 7, 8, 9, 10, 11, 12, 13, 5, 9, 11, 8, 4, 3, 1, 2, 3, 4, 5, 6, 7, 8, 9, 10, 11, 12, 13, 1, 1, 2, 3, 4, 5, 6, 7, 8, 9, 10, 11, 1, 9, 1, 10, 1, 2, 9, 1, 2, 4, 5, 7, 9, 11, 12, 2, 2, 6, 2, 3, 4, 5, 7, 8, 9, 11, 12, 8, 9, 13, 8, 4, 7, 4, 1, 2, 4, 6, 11, 13, 4, 1, 2, 7, 13, 11, 12, 13, 1, 12, 1, 3, 4, 9, 3, 6, 9, 12, 1, 9, 4, 12, 1, 2, 3, 4, 5, 6, 7, 8, 9, 10, 12, 8, 2, 3, 5, 7, 3, 7, 8, 10, 3, 7, 8, 4, 1, 9, 11, 1, 2, 3, 6, 7, 8, 13, 4, 5, 7, 10, 1, 2, 3, 4, 5, 6, 7, 8, 9, 11, 12, 11, 6, 6, 1, 9, 11, 1, 1, 2, 4, 6, 8, 12, 13, 13, 1, 2, 3, 4, 5, 6, 7, 8, 9, 10, 11, 12, 13, 1, 2, 3, 4, 5, 6, 7, 8, 9, 10, 11, 12, 13, 9, 11, 13, 5, 1, 2, 9, 13, 11, 12, 12, 13, 13, 12, 9, 12, 8, 6, 9, 2, 1, 3, 4, 3, 1, 1, 2, 6, 13, 3, 4, 5, 7, 11, 12, 13, 8, 1, 2, 3, 5, 6, 7, 8, 1, 2, 3, 4, 5, 6, 7, 8, 9, 12, 13, 2, 5, 12, 1, 3, 4, 5, 6, 7, 8, 9, 11, 13, 10, 13, 3, 5, 12, 1, 2, 5, 6, 9, 5, 1, 2, 5, 6, 13, 6, 12, 2, 10, 5, 6, 10, 3, 4, 5, 6, 7, 8, 7, 13, 1, 2, 3, 5, 7, 7, 3, 2, 5, 6, 7, 9, 1, 2, 5, 7, 8, 9, 12, 13, 1, 13, 12, 12, 13, 2, 13, 5, 1, 2, 3, 4, 5, 6, 7, 8, 9, 10, 11, 12, 10, 7, 7, 11, 10, 1, 2, 3, 4, 5, 6, 7, 8, 9, 10, 11, 1, 6, 11, 12, 13, 10, 3, 4, 6, 8, 8, 6, 2, 1, 3, 4, 5, 6, 7, 8, 9, 10, 11, 12, 1, 2, 3, 4, 5, 7, 8, 9, 10, 11, 12, 13, 2, 4, 8, 13, 13, 13, 1, 7, 7, 7, 8, 2, 9, 1, 3, 4, 5, 6, 7, 8, 9, 10, 11, 12, 8, 8, 8, 5, 3, 4, 5, 8, 9, 11, 1, 2, 3, 4, 7, 8, 10, 13, 4, 5, 9, 3, 9, 5, 9, 9, 4, 1, 8, 1, 2, 3, 4, 7, 8, 10, 12, 13, 2, 3, 1, 5, 11, 1, 2, 4, 5, 13, 2, 9, 1, 2, 3, 4, 5, 6, 7, 8, 9, 10, 11, 12, 12, 3, 4, 7, 7, 3, 7, 1, 2, 3, 4, 5, 6, 7, 8, 9, 10, 11, 12, 13, 1, 2, 3, 4, 5, 6, 7, 8, 9, 10, 11, 12, 13, 1, 2, 3, 4, 5, 6, 7, 8, 9, 10, 11, 11, 2, 1, 2, 3, 4, 5, 6, 7, 8, 9, 10, 11, 12, 13, 9, 4, 5, 9, 1, 2, 4, 5, 9, 13, 12, 1, 2, 5, 6, 7, 9, 10, 5, 5, 12, 5, 12, 9, 1, 9, 10, 10, 1, 2, 3, 4, 5, 6, 7, 8, 9, 10, 11, 12, 1, 2, 3, 4, 5, 6, 7, 8, 9, 10, 11, 12, 13, 11, 3, 4, 9, 13, 1, 3, 4, 5, 6, 7, 8, 9, 12, 13, 1, 1, 2, 3, 4, 5, 6, 7, 8, 9, 10, 12, 1, 2, 4, 6, 7, 12, 13, 10, 13, 7, 5, 6, 9, 1, 9, 10, 1, 2, 3, 4, 5, 6, 7, 8, 9, 10, 11, 12, 13, 1, 2, 3, 6, 7, 8, 9, 10, 11, 13, 3, 3, 1, 9, 7, 1, 3, 4, 5, 6, 7, 12, 4, 3, 5, 6, 7, 1, 2, 3, 4, 5, 6, 7, 8, 9, 10, 11, 12, 3, 4, 5, 7, 9, 2, 3, 5, 13, 5, 13, 2, 3, 4, 5, 7, 13, 1, 2, 3, 4, 5, 6, 7, 8, 9, 11, 12, 1, 2, 3, 4, 5, 6, 7, 9, 11, 11, 1, 2, 5, 6, 7, 13, 6, 13, 2, 3, 7, 8, 10, 8, 10, 10, 3, 8, 10, 12, 5, 7, 1, 2, 3, 4, 5, 6, 7, 8, 9, 13, 3, 5, 1, 2, 3, 4, 5, 6, 7, 8, 9, 10, 11, 12, 13, 1, 7, 1, 2, 3, 4, 5, 6, 7, 8, 9, 10, 11, 12, 13, 10, 1, 2, 3, 4, 5, 6, 7, 8, 9, 12, 1, 2, 3, 4, 5, 7, 8, 10, 12, 2, 2, 5, 1, 2, 3, 4, 5, 6, 7, 8, 9, 10, 13, 13, 1, 9, 5, 6, 6, 1, 2, 3, 4, 5, 6, 7, 8, 9, 10, 12, 11, 11, 2, 5, 10, 11, 5, 11, 7, 8, 10, 13, 1, 2, 4, 10, 9, 4, 5, 9, 11, 1, 2, 3, 4, 5, 6, 7, 8, 9, 10, 11, 12, 13, 6, 8, 3, 4, 1, 2, 1, 2, 3, 4, 5, 6, 7, 8, 9, 10, 11, 12, 13, 8, 6, 3, 5, 1, 2, 3, 4, 5, 7, 8, 12, 12, 7, 1, 2, 3, 4, 5, 7, 8, 9, 11, 12, 3, 4, 13, 1, 3, 4, 5, 7, 8, 9, 12, 12, 1, 2, 3, 4, 6, 7, 8, 9, 10, 11, 13, 1, 2, 1, 2, 4, 5, 9, 12, 13, 1, 11, 1, 11, 1, 2, 3, 4, 5, 7, 8, 10, 12, 13, 3, 11, 1, 2, 3, 4, 5, 6, 7, 8, 9, 10, 11, 12, 13, 1, 2, 3, 5, 6, 7, 9, 10, 11, 3, 4, 5, 10, 2, 5, 3, 1, 2, 3, 4, 5, 6, 7, 8, 9, 12, 13, 3, 3, 6, 1, 3, 5, 6, 9, 12, 13, 1, 2, 7, 10, 3, 9, 11, 3, 4, 5, 13, 13, 6, 7, 1, 3, 4, 5, 6, 8, 11, 12, 13, 1, 1, 2, 3, 4, 5, 7, 8, 12, 1, 3, 4, 5, 7, 9, 11, 11, 5, 6, 7, 2, 1, 2, 3, 4, 5, 6, 7, 8, 9, 10, 11, 3, 1, 2, 3, 4, 5, 6, 7, 8, 9, 2, 3, 5, 7, 10, 8, 12, 8, 11, 1, 2, 3, 4, 5, 6, 7, 9, 1, 3, 6, 7, 1, 2, 3, 4, 5, 6, 7, 8, 9, 10, 12, 13, 11, 10, 7, 3, 3, 11, 1, 3, 5, 6, 8, 9, 11, 12, 1, 2, 3, 6, 7, 8, 10, 12, 1, 2, 3, 4, 5, 7, 8, 9, 11, 12, 4, 5, 1, 2, 3, 4, 5, 6, 7, 9, 11, 1, 2, 6, 7, 9, 2, 10, 12, 8, 4, 1, 4, 5, 6, 7, 9, 11, 13, 1, 2, 3, 4, 5, 6, 7, 9, 11, 12, 9, 12, 12, 7, 1, 6, 1, 2, 3, 4, 5, 7, 8, 9, 2, 9, 11, 12, 6, 5, 1, 2, 3, 4, 5, 6, 7, 8, 9, 11, 6, 1, 2, 9, 12, 11, 2, 3, 4, 5, 7, 9, 2, 8, 7, 2, 5, 5, 6, 4, 11, 9, 1, 1, 2, 3, 4, 5, 6, 7, 8, 9, 11, 1, 2, 3, 4, 5, 6, 7, 8, 9, 10, 11, 13, 3, 4, 5, 6, 7, 9, 12, 5, 12, 1, 2, 3, 4, 5, 6, 7, 8, 9, 10, 12, 13, 9, 1, 10, 1, 2, 3, 4, 5, 6, 7, 8, 9, 10, 11, 12, 13, 11, 4, 5, 2, 5, 12, 13, 12, 13, 13, 6, 5, 9, 5, 1, 7, 9, 5, 7, 1, 2, 4, 1, 2, 3, 4, 5, 6, 7, 8, 9, 10, 11, 12, 13, 4, 2, 4, 5, 7, 9, 11, 1, 4, 8, 4, 4, 5, 12, 11, 4, 1, 2, 3, 4, 5, 6, 7, 8, 9, 12, 13, 9, 11, 8, 12, 3, 4, 5, 10, 2, 2, 3, 5, 8, 12, 8, 5, 8, 10, 12, 4, 5, 9, 13, 4, 2, 9, 12, 1, 5, 6, 1, 5, 6, 9, 5, 6, 3, 2, 1, 2, 3, 4, 5, 6, 7, 8, 9, 11, 12, 8, 1, 2, 3, 4, 5, 6, 7, 8, 9, 10, 11, 12, 1, 2, 3, 4, 5, 6, 7, 8, 9, 10, 13, 2, 1, 2, 3, 4, 5, 6, 7, 8, 9, 10, 11, 12, 13, 1, 2, 3, 4, 5, 6, 7, 8, 9, 10, 11, 13, 1, 2, 3, 4, 5, 6, 7, 8, 9, 12, 3, 4, 12, 12, 13, 3, 3, 7, 1, 2, 3, 4, 5, 6, 9, 10, 11, 1, 2, 3, 4, 5, 6, 7, 8, 9, 10, 11, 12, 13, 12, 2, 1, 3, 4, 5, 6, 11, 9, 11, 12, 1, 2, 3, 4, 5, 6, 7, 8, 9, 10, 11, 12, 3, 4, 5, 12, 13, 1, 4, 7, 8, 13, 1, 2, 3, 4, 5, 6, 7, 8, 9, 10, 11, 12, 13, 1, 3, 5, 6, 7, 8, 9, 10, 11, 12, 2, 5, 1, 1, 2, 5, 1, 2, 3, 4, 5, 6, 7, 8, 9, 10, 11, 13, 1, 2, 3, 4, 5, 6, 7, 8, 9, 10, 11, 12, 13, 12, 13, 3, 8, 1, 5, 6, 4, 1, 2, 3, 4, 5, 6, 7, 8, 9, 1, 2, 3, 5, 9, 10, 10, 1, 2, 3, 5, 6, 7, 9, 10, 13, 2, 7, 1, 2, 3, 4, 5, 6, 7, 8, 9, 11, 13, 4, 2, 1, 3, 4, 5, 6, 7, 8, 9, 11, 12, 1, 2, 4, 6, 9, 10, 1, 2, 3, 7, 9, 1, 6, 9, 11, 12, 13, 1, 7, 8, 1, 3, 4, 5, 6, 7, 8, 9, 10, 12, 8, 1, 2, 3, 4, 5, 6, 7, 8, 9, 10, 11, 12, 1, 2, 3, 5, 7, 8, 9, 11, 12, 13, 3, 2, 5, 1, 2, 3, 4, 5, 6, 7, 8, 9, 11, 12, 7, 8, 5, 9, 4, 1, 2, 3, 4, 5, 6, 7, 8, 9, 10, 11, 13, 3, 6, 7, 1, 2, 3, 4, 5, 6, 7, 8, 9, 11, 12, 13, 2, 3, 4, 5, 7, 8, 9, 12, 2, 5, 7, 12, 12, 1, 2, 3, 4, 5, 6, 7, 8, 9, 10, 13, 1, 2, 3, 4, 5, 7, 8, 10, 11, 13, 1, 2, 4, 5, 6, 9, 1, 4, 11, 1, 2, 4, 5, 13, 2, 5, 7, 12, 4, 5, 9, 5, 11, 7, 2, 13, 1, 3, 4, 5, 7, 8, 9, 12, 13, 1, 3, 5, 7, 10, 1, 2, 3, 1, 2, 5, 9, 13, 1, 4, 2, 1, 2, 3, 4, 6, 7, 8, 9, 10, 13, 6, 8, 10, 5, 9, 5, 3, 5, 7, 1, 2, 3, 4, 5, 6, 7, 8, 9, 10, 11, 12, 13, 9, 11, 5, 5, 12, 5, 1, 2, 3, 6, 7, 9, 12, 13, 1, 2, 3, 4, 5, 6, 7, 8, 9, 10, 11, 12, 4, 6, 1, 2, 3, 4, 5, 6, 7, 8, 9, 10, 11, 12, 13, 1, 2, 3, 4, 5, 6, 7, 8, 9, 10, 11, 12, 13, 9, 1, 1, 2, 3, 4, 5, 6, 7, 8, 9, 11, 12, 2, 4, 5, 7, 8, 9, 2, 7, 1, 2, 3, 4, 5, 6, 7, 8, 9, 11, 12, 13, 11, 3, 4, 2, 2, 5], \"Freq\": [0.44316935539245605, 7.903858931967989e-05, 0.2197272777557373, 0.0024501963052898645, 0.03983544930815697, 0.04939911887049675, 0.08876033127307892, 0.03461890295147896, 0.12100807577371597, 0.001027501653879881, 0.9991917610168457, 0.9989213943481445, 1.000370979309082, 0.00038543788832612336, 0.9975132942199707, 0.002312627388164401, 0.9995375275611877, 0.5036244988441467, 0.4962754547595978, 0.18514367938041687, 0.07565010339021683, 0.6708970069885254, 0.007299571763724089, 0.004645181819796562, 0.055742181837558746, 0.9846378564834595, 0.014479968696832657, 0.9999722838401794, 0.2597821056842804, 0.729460597038269, 0.01035363506525755, 0.01832408457994461, 0.1113540530204773, 0.05591195076704025, 0.7813577651977539, 0.01597484201192856, 0.014565298333764076, 0.0023492416366934776, 1.0002059936523438, 0.058288268744945526, 0.030184997245669365, 0.8233218193054199, 0.008326895534992218, 0.07806465029716492, 0.0010408619418740273, 0.09659473598003387, 0.17535416781902313, 0.2760525941848755, 0.08049561083316803, 0.0011048417072743177, 0.23769880831241608, 0.01483644638210535, 0.03961646929383278, 0.005366374272853136, 0.0004735036054626107, 0.06392298638820648, 0.008680899627506733, 0.998569905757904, 0.24427297711372375, 0.014286953024566174, 0.2098938226699829, 0.035585444420576096, 0.09488195925951004, 0.08191438019275665, 0.03679173067212105, 0.010140344500541687, 0.0078031644225120544, 0.05190800875425339, 0.11463489383459091, 0.08067039400339127, 0.017264973372220993, 0.00070913415402174, 0.009573310613632202, 0.8786172270774841, 0.026237962767481804, 0.07481365650892258, 0.00460937200114131, 0.00567307323217392, 0.9987544417381287, 0.9951921701431274, 0.00437447102740407, 0.997391402721405, 0.006688517052680254, 0.7401958703994751, 0.11370478570461273, 0.06420975923538208, 0.0031213078182190657, 0.004459011368453503, 0.06777697056531906, 0.023973632603883743, 0.8874622583389282, 0.03305952996015549, 0.01543507818132639, 0.00010946864495053887, 0.0022988414857536554, 0.007717539090663195, 0.015325609594583511, 0.003612465225160122, 0.004214542917907238, 0.00010946864495053887, 0.006677587050944567, 0.9998505115509033, 0.9989031553268433, 1.0003639459609985, 0.3118589520454407, 0.5553495287895203, 0.13272625207901, 0.0011817167978733778, 0.09926420450210571, 0.014416944235563278, 0.0009453734382987022, 0.883924126625061, 0.036072179675102234, 0.9636425375938416, 0.3801913559436798, 0.08928853273391724, 0.17734016478061676, 0.00649371137842536, 0.11479954421520233, 0.06130372732877731, 0.08580975979566574, 0.014610850252211094, 0.0029376314487308264, 0.00015461217844858766, 0.06601940095424652, 0.0010822851909324527, 0.9990641474723816, 1.0016950368881226, 1.000268816947937, 1.0002368688583374, 1.0003929138183594, 0.0010667337337508798, 0.008533869870007038, 0.016001006588339806, 0.005333668552339077, 0.9696609973907471, 0.9998965263366699, 0.9999851584434509, 0.9979544878005981, 1.0000635385513306, 0.008179684169590473, 0.026174988597631454, 0.925940215587616, 0.03926248103380203, 0.020095959305763245, 0.9796780347824097, 0.11470606178045273, 0.5655861496925354, 0.07421017438173294, 0.024801310151815414, 0.02828899398446083, 0.006200327537953854, 0.020732345059514046, 0.059871915727853775, 0.022669948637485504, 0.044564854353666306, 0.0007750409422442317, 0.0005812807357870042, 0.03700820729136467, 0.9993828535079956, 0.9997562766075134, 0.07571602612733841, 0.9244011640548706, 1.000133991241455, 1.0001270771026611, 0.10438527166843414, 0.8957250118255615, 0.16438442468643188, 0.6788042187690735, 0.01638096570968628, 0.08391652256250381, 0.056614913046360016, 0.07355287671089172, 0.0005884230486117303, 0.9255894422531128, 0.9988318681716919, 0.9998850226402283, 1.0000132322311401, 0.6040078997612, 0.21519829332828522, 0.0008545266464352608, 0.04457780718803406, 0.018514743074774742, 0.024354008957743645, 0.02221769280731678, 0.005839265417307615, 0.004842317663133144, 0.018799586221575737, 0.04073243588209152, 0.9996097683906555, 0.9991620182991028, 0.9984112977981567, 0.001160943298600614, 0.19753818213939667, 0.3143584728240967, 0.10587490350008011, 0.026546908542513847, 0.06476889550685883, 0.006115518044680357, 0.032975152134895325, 0.06987674534320831, 0.13186585903167725, 0.00034747261088341475, 0.02428833581507206, 0.021786533296108246, 0.0036137152928858995, 0.0009742812253534794, 0.09353099763393402, 0.9051072597503662, 0.9994896650314331, 0.9999352097511292, 1.0007054805755615, 0.07974455505609512, 0.14641623198986053, 0.01045830175280571, 0.4230383038520813, 0.2039368897676468, 0.13621938228607178, 0.00026145754964090884, 0.006603096146136522, 0.005659796763211489, 0.9687685370445251, 0.017922690138220787, 1.0000561475753784, 1.0000863075256348, 0.9996721148490906, 0.998248815536499, 0.8656003475189209, 0.047624729573726654, 0.08689424395561218, 0.9987296462059021, 0.016657894477248192, 0.014220153912901878, 0.03087804839015007, 0.5683998465538025, 0.08450834453105927, 0.03250321000814438, 0.013813864439725876, 0.16657894849777222, 0.0723196417093277, 0.04480385780334473, 0.046220581978559494, 0.23216545581817627, 0.18169470131397247, 0.027626095339655876, 0.4411320686340332, 0.0014167227782309055, 0.002833445556461811, 0.005135620478540659, 0.016292313113808632, 0.0007083613891154528, 0.11314946413040161, 0.022260593250393867, 0.15561898052692413, 0.06021644175052643, 0.1541828215122223, 0.03795585036277771, 0.041648849844932556, 0.11991997063159943, 0.01620817370712757, 0.0013335839612409472, 0.2087571769952774, 0.011694504879415035, 0.057138942182064056, 0.007320399396121502, 0.009608023799955845, 0.97407066822052, 0.009150499477982521, 0.9977948069572449, 0.09653416275978088, 0.7126439213752747, 0.020324895158410072, 0.04210416600108147, 0.023779036477208138, 0.006035657599568367, 0.007453673519194126, 0.06813748180866241, 0.01083509624004364, 0.0040358914993703365, 0.006435610819607973, 0.0016361722955480218, 0.9999307990074158, 0.0004244162410032004, 0.3166145086288452, 0.029284721240401268, 0.5534387826919556, 0.019523147493600845, 0.017401065677404404, 0.04668578505516052, 0.009337157011032104, 0.004244162235409021, 0.0029709136579185724, 1.0001423358917236, 1.000141978263855, 0.9978718161582947, 1.0003188848495483, 0.9991044402122498, 0.999664843082428, 0.9728018045425415, 0.024634256958961487, 0.002513699699193239, 0.9999467730522156, 0.06260630488395691, 0.21912208199501038, 0.0353422686457634, 0.06462586671113968, 0.027264036238193512, 0.0742187649011612, 0.036856938153505325, 0.4801499843597412, 1.0003770589828491, 0.9992769956588745, 0.027851758524775505, 0.08563261479139328, 0.19142313301563263, 0.14287491142749786, 0.09355729073286057, 0.014464449137449265, 0.1384124755859375, 0.03300664201378822, 0.06916776299476624, 0.08517098426818848, 0.11402294784784317, 0.004385497886687517, 0.9999946355819702, 0.22340518236160278, 0.006594013422727585, 0.08071072399616241, 0.003692647675052285, 0.6543899178504944, 0.03165126591920853, 0.9998174905776978, 0.00029174715746194124, 0.9999745488166809, 0.9998264908790588, 0.016974398866295815, 0.013057230040431023, 0.1612567901611328, 0.8088954091072083, 0.05012356862425804, 0.14244675636291504, 0.32045912742614746, 0.13876120746135712, 0.006265446078032255, 0.1984672248363495, 0.033170007169246674, 0.00847677979618311, 0.10190563648939133, 0.05098123848438263, 0.9485193490982056, 0.009087590500712395, 0.06193024292588234, 0.38504454493522644, 0.12066300213336945, 0.004038929007947445, 0.1539841592311859, 0.13395780324935913, 0.016660582274198532, 0.05654500424861908, 0.05805960297584534, 0.9994083642959595, 0.1122569665312767, 0.00010835614375537261, 0.23664981126785278, 0.02719739079475403, 0.1731531172990799, 0.008451779372990131, 0.06793930381536484, 0.03770793601870537, 0.028606021776795387, 0.15310722589492798, 0.05927081033587456, 0.09546176344156265, 0.9995300769805908, 0.9999884963035583, 0.9995311498641968, 0.999058723449707, 0.001053859363310039, 0.9990227818489075, 0.3142392039299011, 0.6857937574386597, 0.9999356269836426, 0.0014252157416194677, 0.006413470953702927, 0.9919502139091492, 0.011465846560895443, 0.009827868081629276, 0.9598551392555237, 0.018017759546637535, 0.999820351600647, 0.00820996519178152, 0.014180848374962807, 0.025376254692673683, 0.005784293636679649, 0.38624152541160583, 0.14442074298858643, 0.07930079847574234, 0.29033422470092773, 0.04515480622649193, 0.0009329505846835673, 0.06970034539699554, 0.9308369159698486, 0.999085009098053, 1.0001823902130127, 0.02022613026201725, 0.025742346420884132, 0.0036774780601263046, 0.9487893581390381, 0.9983917474746704, 0.9985545873641968, 0.9969325661659241, 0.003678754670545459, 0.07725384831428528, 0.003678754670545459, 0.7835747599601746, 0.05027631297707558, 0.07357509434223175, 0.007357509341090918, 1.0009443759918213, 1.0000169277191162, 0.9996533393859863, 0.8768143653869629, 0.0420660562813282, 0.04941214993596077, 0.0027837830130010843, 0.0009279277292080224, 0.0011599096469581127, 0.004948947578668594, 0.018790535628795624, 0.0030930922366678715, 0.9994277954101562, 0.16782169044017792, 0.0001666551106609404, 0.20598572492599487, 0.22437332570552826, 0.001999861327931285, 0.2133740931749344, 0.09138255566358566, 0.0018887579208239913, 0.008610513992607594, 0.07577252388000488, 0.005944032222032547, 0.0027220335323363543, 5.55517035536468e-05, 0.3521454334259033, 0.00025237369118258357, 0.22996851801872253, 0.0010094947647303343, 0.010767944157123566, 0.13182319700717926, 0.057569243013858795, 0.04441777244210243, 0.01399271935224533, 0.05801790952682495, 0.05484921857714653, 0.04108082875609398, 0.004150145221501589, 1.0004199743270874, 0.9993942379951477, 0.9995234608650208, 0.0002924293221440166, 1.0001400709152222, 1.0002228021621704, 0.1816764622926712, 0.12837138772010803, 0.0005989333731122315, 0.08045671880245209, 0.06787911802530289, 0.06448516249656677, 0.004392178263515234, 0.012377956882119179, 0.40907150506973267, 0.007985778152942657, 0.038331735879182816, 0.004392178263515234, 0.004941834602504969, 0.09537740796804428, 0.372614324092865, 0.02372080646455288, 0.12404004484415054, 0.0009883668972179294, 0.001482550404034555, 0.3765677809715271, 1.0006036758422852, 0.9994850158691406, 0.9997291564941406, 0.14716704189777374, 0.04113130271434784, 0.03471633046865463, 0.5037640929222107, 0.25622159242630005, 0.017358165234327316, 0.18255725502967834, 0.25489333271980286, 0.08830777555704117, 0.004578921943902969, 0.017498023808002472, 0.08274766057729721, 0.15650101006031036, 0.1820666491985321, 0.022458521649241447, 0.007849580608308315, 0.0004905987880192697, 5.4510976042365655e-05, 0.9999138712882996, 0.9994676113128662, 0.9985561966896057, 1.0010555982589722, 1.0004688501358032, 0.01908586546778679, 0.041352707892656326, 0.01908586546778679, 0.057787757366895676, 0.7493852972984314, 0.11318977922201157, 0.9995457530021667, 0.06409667432308197, 0.14952687919139862, 0.21674670279026031, 0.16989943385124207, 0.060637183487415314, 0.10171863436698914, 0.05679330602288246, 0.06255912035703659, 0.020708894357085228, 0.0577542744576931, 0.03848683461546898, 0.000624630250968039, 0.00038438785122707486, 0.997933030128479, 0.000534525141119957, 0.3223186731338501, 0.29158347845077515, 0.3819182217121124, 0.0034744134172797203, 0.879347562789917, 0.000575583428144455, 0.11871407926082611, 0.0014389584539458156, 0.9994917511940002, 0.9989629983901978, 0.09614866226911545, 0.000980199547484517, 0.1833864152431488, 0.1643170863389969, 0.1305447518825531, 0.04375254362821579, 0.12190117686986923, 0.016217846423387527, 0.044108979403972626, 0.11789126694202423, 0.00044554524356499314, 0.055960480123758316, 0.02432676963508129, 0.9987278580665588, 0.0009097972651943564, 0.0004548986325971782, 0.01091756671667099, 0.9875848889350891, 0.010106771253049374, 0.12154722213745117, 0.0648961141705513, 0.4364529550075531, 0.08032223582267761, 0.01994757540524006, 0.02659676782786846, 0.16277220845222473, 0.011968545615673065, 0.0007979029905982316, 0.05771498382091522, 0.003723547328263521, 0.0034575797617435455, 0.9986861348152161, 0.14106996357440948, 0.14253509044647217, 0.10883736610412598, 0.3553958535194397, 0.00041860525379888713, 0.07158149778842926, 0.0020930261816829443, 0.04667448624968529, 0.026162827387452126, 0.002511631464585662, 0.00041860525379888713, 0.021767472848296165, 0.08100011199712753, 0.9921889901161194, 0.007326290011405945, 0.9997124075889587, 0.029473157599568367, 0.06825362890958786, 0.0005170729127712548, 0.09100483357906342, 0.4656241834163666, 0.33868277072906494, 0.006204875186085701, 0.0002585364563856274, 0.9985784888267517, 0.007835378870368004, 0.04322967678308487, 0.09699659049510956, 0.07592211663722992, 0.13671384751796722, 0.001080741873010993, 0.09402454644441605, 0.04971412941813469, 0.49443942308425903, 1.0010533332824707, 0.2817257344722748, 0.428325355052948, 0.09968319535255432, 0.012893496081233025, 5.679954483639449e-05, 0.008803929202258587, 0.03243253752589226, 0.0422588586807251, 0.0024991799145936966, 0.01431348454207182, 0.0021015831734985113, 0.02158382721245289, 0.05333477258682251, 0.9744104743003845, 0.02330111898481846, 0.9998736381530762, 0.00784827210009098, 0.8122962117195129, 0.031837332993745804, 0.0027394911739975214, 0.007552111055701971, 0.016807150095701218, 0.0015548464143648744, 0.00392413605004549, 0.0002961612190119922, 0.11409611254930496, 0.0010365642374381423, 0.998825192451477, 0.9998171329498291, 1.0002307891845703, 0.9989322423934937, 0.1852482557296753, 0.4536207318305969, 0.037459876388311386, 0.16614048182964325, 0.0019431635737419128, 0.022346381098031998, 0.008744236081838608, 0.001187488785944879, 0.09197640419006348, 0.031090617179870605, 0.0003238605859223753, 0.8817757368087769, 0.011026504449546337, 0.08373251557350159, 0.0034457824658602476, 0.014127708040177822, 0.00585783040151, 0.17386052012443542, 0.06412661820650101, 0.0370386503636837, 0.19790799915790558, 0.06771992146968842, 0.0420139916241169, 0.003040486015379429, 0.0058045643381774426, 0.004146117251366377, 0.02211262658238411, 0.010503497906029224, 0.37121570110321045, 0.9994401931762695, 0.9961466789245605, 0.9985942244529724, 0.019781608134508133, 0.3255256414413452, 0.09181651473045349, 0.1028270348906517, 0.005785187240689993, 0.022954128682613373, 0.014494070783257484, 0.1780344694852829, 0.006034012418240309, 0.015302753075957298, 0.07694920897483826, 0.14046184718608856, 0.9993552565574646, 0.0009730820311233401, 0.0031011379323899746, 0.010337126441299915, 0.09303414076566696, 0.8931277394294739, 1.0003267526626587, 0.9978999495506287, 1.0002845525741577, 0.9967377781867981, 1.000191569328308, 0.9986456036567688, 1.0000731945037842, 0.9998814463615417, 0.025110026821494102, 0.9751060605049133, 0.0016207612352445722, 0.44145485758781433, 0.016207613050937653, 0.05530847609043121, 0.00040519030881114304, 0.04619169607758522, 0.1608605533838272, 0.0010129758156836033, 0.2522309720516205, 0.02491920441389084, 0.0006106675136834383, 0.00610667560249567, 0.08396678417921066, 0.4732673466205597, 0.11846949905157089, 0.01343468576669693, 0.19907762110233307, 0.00030533375684171915, 0.0009160013287328184, 0.09526413679122925, 0.008244011551141739, 1.0003724098205566, 0.9986796975135803, 0.057187099009752274, 0.13893213868141174, 0.13533642888069153, 0.13973543047904968, 0.034733034670352936, 0.016218949109315872, 0.06854801625013351, 0.16398735344409943, 0.10423735529184341, 0.048542093485593796, 0.0842696875333786, 0.0083389887586236, 0.8154208064079285, 0.17623159289360046, 0.00839198101311922, 1.0002350807189941, 1.000317096710205, 0.9998213052749634, 0.9971985816955566, 0.0024591826368123293, 0.07193074375391006, 0.18823811411857605, 0.11282684653997421, 0.377752423286438, 0.0075991349294781685, 0.003886580467224121, 0.01635844260454178, 0.029874460771679878, 0.009107359685003757, 0.08150216937065125, 0.10093507170677185, 0.274693101644516, 0.0033408619929105043, 0.16964155435562134, 0.3715780973434448, 0.004825689364224672, 0.13511930406093597, 0.039162326604127884, 0.0016704309964552522, 0.9992309808731079, 0.9999455213546753, 1.000106692314148, 0.9991920590400696, 0.9993102550506592, 0.035137783735990524, 0.06140798702836037, 0.057417575269937515, 0.27844199538230896, 0.03037145920097828, 0.02017374336719513, 0.11461345851421356, 0.15529347956180573, 0.023609928786754608, 0.17358286678791046, 0.046776480972766876, 0.0034361868165433407, 0.003024133387953043, 0.9922181963920593, 0.0024193066637963057, 0.0018144800560548902, 0.0003024133329745382, 0.37460124492645264, 0.6252910494804382, 0.9945861101150513, 0.005600146949291229, 0.136572003364563, 0.13204912841320038, 0.2639583945274353, 0.012636058032512665, 0.0007926677935756743, 0.012682684697210789, 0.1874426305294037, 0.006294715218245983, 0.1948564052581787, 0.03539028763771057, 9.32550392462872e-05, 0.01734543778002262, 0.999605119228363, 1.0000760555267334, 0.9993508458137512, 0.1438213735818863, 0.0037009073421359062, 0.03820843994617462, 0.10766898840665817, 0.03635798767209053, 0.07823307067155838, 0.04985944554209709, 0.21489249169826508, 0.09087783843278885, 0.06692474335432053, 0.09851952642202377, 0.014049740508198738, 0.056884314864873886, 0.21385391056537628, 0.006429594475775957, 0.7796581983566284, 0.9999663829803467, 1.0011160373687744, 1.0003066062927246, 0.16272975504398346, 0.3987084627151489, 0.06102366000413895, 0.049722980707883835, 0.018697485327720642, 0.007294073700904846, 0.04027150571346283, 0.055476054549217224, 0.04766831174492836, 0.023423222824931145, 0.1030416339635849, 0.03143642842769623, 0.0006164005608297884, 1.0000087022781372, 0.10101977735757828, 0.155914768576622, 0.07568362355232239, 0.2642971873283386, 0.13512612879276276, 0.006279900204390287, 0.20268920063972473, 0.03702975809574127, 0.0008661931497044861, 0.011477058753371239, 0.009528124704957008, 0.9988464117050171, 0.9997863173484802, 0.999276876449585, 1.0001816749572754, 0.0011102836579084396, 0.9940739870071411, 0.005181323736906052, 0.008811186999082565, 0.28004252910614014, 0.019154755398631096, 0.02451808750629425, 0.15400423109531403, 0.012259043753147125, 0.49993911385536194, 0.0015323804691433907, 0.9998334050178528, 0.9999826550483704, 1.0001362562179565, 0.004965298343449831, 0.0024826491717249155, 0.1915186494588852, 0.472412645816803, 0.10568992048501968, 0.12235913425683975, 0.00035466416738927364, 0.10001529008150101, 0.00035466416738927364, 1.0002092123031616, 0.9997913837432861, 0.999298095703125, 1.0000836849212646, 0.9749072194099426, 0.024254776537418365, 0.9987702369689941, 0.8266419172286987, 0.0629517063498497, 0.00016877132293302566, 0.00286911241710186, 0.1073385626077652, 0.00016877132293302566, 0.9992110133171082, 0.856440007686615, 0.009615718387067318, 0.13205586373806, 0.0017094610957428813, 0.9998933672904968, 0.9390663504600525, 0.06116163730621338, 0.9988583922386169, 0.9994146823883057, 0.007653598207980394, 0.008746969513595104, 0.9709135890007019, 0.013120454736053944, 1.0001544952392578, 1.0000736713409424, 1.0002230405807495, 0.9993400573730469, 1.0004637241363525, 1.0004863739013672, 0.9968909621238708, 0.003909376449882984, 0.0284392312169075, 0.001015686895698309, 0.018282363191246986, 0.36615511775016785, 0.03961178660392761, 0.008125495165586472, 0.019805893301963806, 0.485498309135437, 0.01015686895698309, 0.00025392172392457724, 0.023106876760721207, 1.0003857612609863, 0.1920396238565445, 0.0322626568377018, 0.04608950763940811, 0.7297505736351013, 0.16591013967990875, 0.03701580688357353, 0.09716649353504181, 0.7006563544273376, 0.8041896224021912, 0.028509732335805893, 0.16729295253753662, 1.0003207921981812, 0.004943549633026123, 0.0681111291050911, 0.9266409277915955, 0.520627498626709, 0.010988951660692692, 0.005805484019219875, 0.3605620265007019, 0.08086209744215012, 0.017001774162054062, 0.00435411324724555, 0.09026706963777542, 0.9043118953704834, 0.004923658445477486, 0.9996072053909302, 0.09966900199651718, 0.0932512879371643, 0.01828075386583805, 0.061843398958444595, 0.14964935183525085, 0.013418850488960743, 0.0949043333530426, 0.10861489921808243, 0.0583428293466568, 0.3018268942832947, 0.0001944761024788022, 1.000006079673767, 1.0000437498092651, 0.9998992681503296, 0.00022890079708304256, 0.9249117970466614, 0.07485055923461914, 0.9997016787528992, 0.012378823012113571, 0.3602888882160187, 0.011727306060492992, 0.0019545508548617363, 0.003909101709723473, 0.137470081448555, 0.4723498225212097, 0.999289870262146, 0.028404254466295242, 0.004322386346757412, 0.1556941270828247, 0.26393020153045654, 0.01367285568267107, 0.02231762744486332, 0.046399496495723724, 0.1442265659570694, 0.15472379326820374, 0.021876567974686623, 0.1156458929181099, 0.005998414009809494, 0.022758688777685165, 0.3028443157672882, 0.017525453120470047, 0.1973567008972168, 0.09000864624977112, 0.05246473476290703, 0.028390491381287575, 0.08993422985076904, 0.04543222859501839, 0.06638091057538986, 0.06589719653129578, 0.017041737213730812, 0.024632379412651062, 0.0020837057381868362, 0.0561126284301281, 0.943608283996582, 1.0001310110092163, 1.000841498374939, 0.049254849553108215, 0.21711020171642303, 0.014906072989106178, 0.7180838584899902, 0.9998754858970642, 0.9967087507247925, 0.9972999691963196, 0.0022665909491479397, 0.9995413422584534, 0.9992685914039612, 0.9732813835144043, 0.026816505938768387, 0.9996220469474792, 0.9997497200965881, 0.9996684193611145, 0.9995496869087219, 0.10711544752120972, 0.03508954122662544, 0.8578469753265381, 1.0000567436218262, 0.999664843082428, 0.8326793909072876, 0.024688607081770897, 0.09800628572702408, 0.04414023831486702, 0.09514888375997543, 0.27231261134147644, 0.22999177873134613, 0.0008756032329984009, 0.015760857611894608, 0.38555726408958435, 0.9994184374809265, 0.9996243119239807, 0.03059346228837967, 0.03274793177843094, 0.8837632536888123, 0.006463407538831234, 0.009910558350384235, 0.016804859042167664, 0.020252009853720665, 0.5259231925010681, 0.02287096157670021, 0.07551047205924988, 0.08890632539987564, 0.08934196084737778, 0.02933291532099247, 0.053147755563259125, 0.009220990352332592, 0.021273624151945114, 0.07874145358800888, 0.00569958845153451, 0.8005149960517883, 0.057244546711444855, 0.14174839854240417, 0.018790120258927345, 0.0004473837907426059, 0.1368994414806366, 0.07337094098329544, 0.0013421514304354787, 0.004473838023841381, 0.66704922914505, 0.06710757315158844, 0.029079947620630264, 0.0013421514304354787, 1.0002866983413696, 0.9995533227920532, 1.0001120567321777, 0.07389039546251297, 0.9257211685180664, 0.04594508931040764, 0.024941619485616684, 0.8007572293281555, 0.10633005946874619, 0.022316185757517815, 0.9992398619651794, 0.0032303042244166136, 0.009690912440419197, 0.9012548923492432, 0.0742969959974289, 0.009690912440419197, 0.9999648928642273, 0.9995985627174377, 0.021759605035185814, 0.9776279330253601, 0.021150734275579453, 0.010846530087292194, 0.968052864074707, 0.07457223534584045, 0.8711931109428406, 0.047347452491521835, 0.007102117873728275, 0.8769797682762146, 0.12233932316303253, 0.9997209310531616, 0.998759388923645, 0.006472371052950621, 0.030204396694898605, 0.08198336511850357, 0.02265329845249653, 0.8586678504943848, 1.0004292726516724, 0.9989814758300781, 0.05787917599081993, 0.2668873071670532, 0.0008038774249143898, 0.6744531989097595, 0.9993634819984436, 0.16460677981376648, 0.10019543021917343, 0.054123423993587494, 0.004920311272144318, 0.07067356258630753, 0.0008946020971052349, 0.10735224932432175, 0.49695146083831787, 0.9984391927719116, 0.9992573261260986, 0.9997350573539734, 0.9879469871520996, 0.012034791521728039, 0.0036800012458115816, 0.9954403042793274, 0.9984955191612244, 0.19404004514217377, 0.41695067286491394, 0.09441795200109482, 0.05625426769256592, 0.011275635100901127, 0.009788737632334232, 0.08574438840150833, 0.055882543325424194, 0.01920575089752674, 0.041880927979946136, 0.014249429106712341, 0.0002478161477483809, 0.9993056058883667, 0.9995346069335938, 0.9994059205055237, 1.0002143383026123, 0.9999507665634155, 0.007323292549699545, 0.24208712577819824, 0.06737428903579712, 0.03243172541260719, 0.08097469061613083, 0.008160240016877651, 0.1301453709602356, 0.08160240203142166, 0.044358231127262115, 0.0014646585332229733, 0.3042305111885071, 0.9814030528068542, 0.014985159039497375, 0.00012487632920965552, 0.002872155513614416, 0.0004995053168386221, 1.0001720190048218, 1.000511646270752, 0.9993288516998291, 0.020223526284098625, 0.9792444705963135, 1.0001453161239624, 1.0001118183135986, 0.9999851584434509, 0.01089643407613039, 0.14079339802265167, 0.012903671711683273, 0.08086301386356354, 0.0728340595960617, 0.03412304446101189, 0.05233155936002731, 0.29248324036598206, 0.24273240566253662, 0.015627780929207802, 0.044445980340242386, 0.21984364092350006, 0.003017461858689785, 0.060995832085609436, 0.010130050592124462, 0.011207714676856995, 0.03319207951426506, 0.00969898421317339, 0.3226528763771057, 0.0178892370313406, 0.2870899438858032, 0.015733906999230385, 0.008836852386593819, 0.0044848741963505745, 0.13753613829612732, 0.0014949580654501915, 0.8551160097122192, 0.9995131492614746, 0.9989162087440491, 1.0002636909484863, 1.0004016160964966, 0.9999126195907593, 1.0001072883605957, 0.9993124604225159, 0.9990677833557129, 0.9999886751174927, 0.0005893099587410688, 0.10136131942272186, 0.0803145319223404, 0.39904704689979553, 0.028455253690481186, 0.015658807009458542, 0.1061599850654602, 0.1086014062166214, 0.027697568759322166, 0.00016837427392601967, 0.13192124664783478, 1.0002204179763794, 0.9993888735771179, 0.9998133182525635, 0.9996720552444458, 0.003163994522765279, 0.00019774965767282993, 0.1928059160709381, 0.02372995764017105, 0.6737330555915833, 0.10619156062602997, 0.0016199859092012048, 0.9456667900085449, 0.0016874853754416108, 0.00026999766123481095, 0.0020924818236380816, 0.04414461553096771, 0.0002024982386501506, 0.004252463113516569, 0.9996910095214844, 1.0004528760910034, 0.9986365437507629, 0.9985940456390381, 1.0000711679458618, 0.00728605967015028, 0.9933328032493591, 0.9991338849067688, 1.00041663646698, 0.999393880367279, 1.0002081394195557, 0.0011173501843586564, 0.07516719400882721, 0.4786321520805359, 0.019705994054675102, 0.04794447869062424, 0.14088769257068634, 0.11021135747432709, 0.055156465619802475, 0.07120567560195923, 0.9991042613983154, 0.9987701177597046, 0.005984288174659014, 0.08776956051588058, 0.9056223034858704, 0.001362728769890964, 0.8435291647911072, 0.09675374627113342, 0.027935940772294998, 0.02929866872727871, 1.0000392198562622, 0.9998486638069153, 0.13743993639945984, 0.3617691397666931, 0.07888966798782349, 0.05786944553256035, 0.043061673641204834, 0.005616740323603153, 0.07327292859554291, 0.07310272753238678, 0.03370044007897377, 0.017105527222156525, 0.030806969851255417, 0.08731477707624435, 0.9998617768287659, 0.25619858503341675, 0.10111822932958603, 0.6426841020584106, 0.9992941617965698, 0.7968401908874512, 0.20305266976356506, 0.16644898056983948, 0.51067054271698, 0.08892588317394257, 0.030169866979122162, 0.017024990171194077, 0.005067904479801655, 0.02201370894908905, 0.04030567780137062, 0.025260334834456444, 0.025814637541770935, 0.06699135899543762, 0.0011086040176451206, 0.0001583720149938017, 0.14233973622322083, 0.48748719692230225, 0.059700142592191696, 0.05355736240744591, 0.042711518704891205, 0.003839237615466118, 0.08302351087331772, 0.0457829087972641, 0.02034795843064785, 0.019004225730895996, 0.03330538421869278, 0.0065267039462924, 0.0023995235096663237, 0.13526669144630432, 0.17997828125953674, 0.050088293850421906, 0.46947163343429565, 0.06395454704761505, 0.047541432082653046, 0.021223854273557663, 0.0011319388868287206, 0.00622566370293498, 0.00084895413601771, 0.024336686357855797, 0.997482419013977, 1.0003031492233276, 0.136113703250885, 0.0016624574782326818, 0.10494262725114822, 0.04405512288212776, 0.2672400176525116, 0.12032035738229752, 0.2512388825416565, 0.0041561434045434, 0.00228587887249887, 0.0504971444606781, 0.00103903585113585, 0.00020780718477908522, 0.016001151874661446, 0.999275267124176, 0.02194223552942276, 0.9764294624328613, 0.9995991587638855, 0.01117073092609644, 0.020745644345879555, 0.07021602243185043, 0.7412578463554382, 0.001595818786881864, 0.1539965122938156, 0.9990785717964172, 0.0453580878674984, 0.09316796064376831, 0.439483106136322, 0.0014302099589258432, 0.4192558526992798, 0.0006129471585154533, 0.0008172628586180508, 0.9992413520812988, 0.9866847991943359, 0.011959816329181194, 0.9947046041488647, 0.006127543747425079, 1.0001964569091797, 0.0694287121295929, 0.9309758543968201, 0.9997289180755615, 0.9999809265136719, 0.03272828087210655, 0.00016082693764474243, 0.14723706245422363, 0.12512335181236267, 0.26665106415748596, 0.13557711243629456, 0.03578399494290352, 0.009327962063252926, 0.025008589029312134, 0.027742646634578705, 0.09183218330144882, 0.1029292419552803, 0.1989099085330963, 0.004524488002061844, 0.08060292154550552, 0.1355670690536499, 0.06920791417360306, 0.07423511892557144, 0.12467478215694427, 0.02513604424893856, 0.018768247216939926, 0.22538654506206512, 0.02279001474380493, 0.015416773967444897, 0.004524488002061844, 0.9990599751472473, 0.0023893704637885094, 0.1302206963300705, 0.8685361742973328, 0.9990320205688477, 0.10463462024927139, 0.22327545285224915, 0.3468596339225769, 0.17899110913276672, 0.019773472100496292, 0.03171994164586067, 0.020597366616129875, 0.03192591667175293, 0.04140070453286171, 0.0006179210031405091, 1.0011762380599976, 0.17101064324378967, 0.48021289706230164, 0.08708766847848892, 0.041375432163476944, 0.020511901006102562, 0.0053916992619633675, 0.06235617771744728, 0.053916994482278824, 0.05368257313966751, 0.017933260649442673, 0.006563807837665081, 0.7467264533042908, 0.21540005505084991, 0.0014582664007321, 0.013500723987817764, 9.408169717062265e-05, 0.012795111164450645, 0.00997265987098217, 1.0000014305114746, 0.9998387694358826, 1.0005263090133667, 0.015375183895230293, 0.9823469519615173, 0.002252415521070361, 0.09144514054059982, 0.8832997679710388, 0.02512229233980179, 0.19938437640666962, 0.33230727910995483, 0.06341605633497238, 0.043352220207452774, 0.025079796090722084, 0.14420881867408752, 0.061087217181921005, 0.08876456320285797, 0.017466286197304726, 0.02427366003394127, 0.00017914139607455581, 0.0002687120868358761, 0.00017914139607455581, 0.15138308703899384, 0.448894739151001, 0.14360108971595764, 0.047290585935115814, 0.0006651277653872967, 0.013302555307745934, 0.00352517724968493, 0.1894283890724182, 0.0012637428008019924, 0.0006651277653872967, 0.9999858140945435, 0.9989985227584839, 0.9835975766181946, 0.016063779592514038, 0.998657763004303, 0.013838178478181362, 0.8999009728431702, 0.0005591183435171843, 0.03494489565491676, 0.034805115312337875, 0.014956415630877018, 0.0008386775152757764, 0.9993190765380859, 0.06150796264410019, 0.0039121671579778194, 0.8958863019943237, 0.03868698701262474, 0.04695122316479683, 0.2695426940917969, 0.07682927697896957, 0.09006098657846451, 0.06935976445674896, 0.01621951349079609, 0.077896349132061, 0.10926830023527145, 0.013658537529408932, 0.005121951457113028, 0.0004268292977940291, 0.2245122194290161, 0.010642041452229023, 0.1831551343202591, 0.044248487800359726, 0.10530020296573639, 0.657006025314331, 0.08528993278741837, 0.10789409279823303, 0.250510036945343, 0.5562487840652466, 0.9994267225265503, 0.9994246363639832, 0.1301049292087555, 0.0552569180727005, 0.08439238369464874, 0.7268796563148499, 0.003014013869687915, 0.9993589520454407, 0.007614913862198591, 0.02094101347029209, 0.019418029114603996, 0.059015579521656036, 0.22463995218276978, 0.024367723613977432, 0.010280133225023746, 0.0003807456814683974, 0.014849081635475159, 0.004568948410451412, 0.6137620210647583, 0.00046345836017280817, 0.014367208816111088, 0.04866312816739082, 0.05074869096279144, 0.033369001001119614, 0.027807502076029778, 0.013672021217644215, 0.21573986113071442, 0.595080554485321, 0.9997704029083252, 0.04080377519130707, 0.07846879959106445, 0.4666277766227722, 0.09311630576848984, 0.08649004995822906, 0.23401138186454773, 0.9917538166046143, 0.008032106794416904, 0.06366489082574844, 0.007639786694198847, 0.020372765138745308, 0.8666913509368896, 0.04244326055049896, 1.0002065896987915, 1.0004631280899048, 1.0003902912139893, 0.10005899518728256, 0.8004719614982605, 0.09950719773769379, 1.0009394884109497, 0.9956291317939758, 0.9990535974502563, 0.0072837769985198975, 0.025088565424084663, 0.01294893678277731, 0.027111835777759552, 0.7093589305877686, 0.02063736878335476, 0.1448662281036377, 0.013353590853512287, 0.021851330995559692, 0.017400134354829788, 0.9997097849845886, 0.9999485015869141, 0.11446300148963928, 0.03987300023436546, 0.1269061267375946, 0.016086691990494728, 0.17276008427143097, 0.14498648047447205, 0.0949389860033989, 0.061253175139427185, 0.10538846254348755, 0.033617064356803894, 0.04901628941297531, 0.003643567208200693, 0.03712313622236252, 0.9995209574699402, 0.9999144673347473, 0.12681357562541962, 0.43128252029418945, 0.06910758465528488, 0.11506296694278717, 0.002675882773473859, 0.007445935159921646, 0.028736654669046402, 0.03967287391424179, 0.06782781332731247, 0.028736654669046402, 0.08074185997247696, 0.001745140994898975, 0.00011634273687377572, 0.9997519850730896, 0.018648900091648102, 0.6118744611740112, 0.02046387828886509, 0.08866167813539505, 0.059531278908252716, 0.04487533122301102, 0.02055462636053562, 0.039974890649318695, 0.044784583151340485, 0.05063788592815399, 0.0178639218211174, 0.00026270473608747125, 0.00026270473608747125, 0.16419045627117157, 0.175486758351326, 0.37698128819465637, 0.1324031800031662, 0.11637819558382034, 0.016024988144636154, 0.9980602264404297, 0.9903756380081177, 0.009165430441498756, 0.16746164858341217, 0.37495437264442444, 0.10509512573480606, 0.057510990649461746, 0.033233366906642914, 0.014998175203800201, 0.03269386291503906, 0.048339445143938065, 0.033341266214847565, 0.054597675800323486, 0.07768838852643967, 0.9988836646080017, 0.9986255168914795, 0.9984928965568542, 0.06961321085691452, 0.9303680658340454, 0.9998937845230103, 0.0020691922400146723, 0.3043367862701416, 0.07540136575698853, 0.00016553536988794804, 0.008194001391530037, 0.008442304097115993, 0.02342325448989868, 0.1964077204465866, 0.022098971530795097, 0.35846686363220215, 0.0009932122193276882, 0.9999640583992004, 0.9983519315719604, 0.03604274243116379, 0.677910327911377, 0.004601201042532921, 0.2806732654571533, 1.0007480382919312, 0.9971634149551392, 0.999750554561615, 1.0000827312469482, 1.0001518726348877, 0.998985767364502, 0.9680973887443542, 0.011849417351186275, 0.007109650410711765, 0.01421930082142353, 1.0010110139846802, 0.0009547903318889439, 0.02386975847184658, 0.08306676149368286, 0.8917741775512695, 0.026083815842866898, 0.12709206342697144, 0.23076193034648895, 0.08863174170255661, 0.2074728012084961, 0.0009315648931078613, 0.008783325552940369, 0.07878377288579941, 0.053764600306749344, 0.033536337316036224, 0.11950646340847015, 0.02288988046348095, 0.001596968388184905, 0.999820351600647, 1.0000550746917725, 0.0429600328207016, 0.9570366740226746, 0.9643551111221313, 0.035666435956954956, 0.012314355000853539, 0.004971993155777454, 0.44828876852989197, 0.07405956834554672, 0.026016242802143097, 0.0017344161169603467, 0.005607945844531059, 0.1274217814207077, 0.013181562535464764, 0.08550671488046646, 0.15858344733715057, 0.031046049669384956, 0.011331519111990929, 1.000099539756775, 0.9997507333755493, 0.9982002973556519, 0.0014892955077812076, 0.0006512675317935646, 0.08336224406957626, 0.07782647013664246, 0.013676618225872517, 0.4399312138557434, 0.2689734995365143, 0.08140844106674194, 0.03386591374874115, 0.9994054436683655, 1.000296950340271, 0.0041226595640182495, 0.0006273612380027771, 0.3339354395866394, 0.008155696094036102, 0.15845352411270142, 0.00044811517000198364, 0.019358575344085693, 0.11184954643249512, 0.36037421226501465, 0.002599067986011505, 0.005024536047130823, 0.9948581457138062, 1.0003879070281982, 0.000834916194435209, 0.05802667513489723, 0.3130935728549957, 0.515978217124939, 0.025882402434945107, 0.029222067445516586, 0.002087290631607175, 0.0546870119869709, 0.9993336200714111, 0.2250451147556305, 0.0892009362578392, 0.11916156113147736, 0.010781284421682358, 0.05413339287042618, 0.10962863266468048, 0.26045313477516174, 0.0005674359854310751, 0.08693119883537292, 0.031095493584871292, 0.013278002850711346, 1.000771164894104, 0.9991435408592224, 0.10196523368358612, 0.041640251874923706, 0.049647994339466095, 0.17243334650993347, 0.0005338494083844125, 0.5536018013954163, 0.0800774097442627, 0.23807258903980255, 0.7613447904586792, 0.21458524465560913, 0.7853820323944092, 0.08145049959421158, 0.041073329746723175, 0.028774535283446312, 0.44159629940986633, 0.044090013951063156, 0.003712843405082822, 0.00023205271281767637, 0.3434379994869232, 0.0016243689460679889, 0.0139231625944376, 0.9999524354934692, 0.9993533492088318, 0.36013346910476685, 0.3286149799823761, 0.037568099796772, 0.0027223259676247835, 0.04198431596159935, 0.08415012061595917, 0.13024817407131195, 0.007320031989365816, 0.0003629768034443259, 0.0047186980955302715, 6.049613148206845e-05, 0.0021173646673560143, 6.049613148206845e-05, 0.45510920882225037, 0.31389424204826355, 0.0009988679084926844, 0.022849103435873985, 0.09951221942901611, 0.07503995299339294, 0.0002497169771231711, 0.03233834728598595, 0.00012485848856158555, 0.012718425132334232, 0.04027501121163368, 0.9454029202461243, 0.9994199275970459, 1.0006662607192993, 0.9993417859077454, 0.9995164275169373, 0.059755485504865646, 0.0635448545217514, 0.027108585461974144, 0.16614939272403717, 0.1489514708518982, 0.06879168003797531, 0.03206392005085945, 0.015157489106059074, 0.02565113455057144, 0.012534077279269695, 0.3801031708717346, 0.9986532926559448, 0.9693669080734253, 0.030540861189365387, 0.0050077433697879314, 0.9464635252952576, 0.003523967694491148, 0.00760435126721859, 0.03746534138917923, 0.9997130036354065, 0.9997910857200623, 0.021886629983782768, 0.08861415833234787, 0.8722622394561768, 0.017082247883081436, 1.0000178813934326, 0.09596379846334457, 0.9034889340400696, 0.007331842090934515, 0.12280835956335068, 0.03079373762011528, 0.8391293287277222, 1.000047206878662, 1.0000252723693848, 0.999917209148407, 0.2138105034828186, 0.2965691089630127, 0.027132248505949974, 0.012151895090937614, 0.3756611943244934, 0.016761235892772675, 0.025875156745314598, 0.02933216094970703, 0.002828458324074745, 1.0001044273376465, 0.2700176239013672, 0.06897572427988052, 0.05696971341967583, 0.13041827082633972, 0.45034322142601013, 0.00023541203700006008, 0.0007062361110001802, 0.022364143282175064, 0.04009460285305977, 0.6671969890594482, 0.00014268541417550296, 0.05536194145679474, 0.0520801767706871, 0.02682485803961754, 0.15838080644607544, 0.9999651312828064, 1.0011742115020752, 1.0000611543655396, 0.999458909034729, 0.9994391202926636, 0.02551981993019581, 0.02950163744390011, 0.14044950902462006, 0.2637048065662384, 0.011764456517994404, 0.06750988215208054, 0.13990654051303864, 0.004705782514065504, 0.007963632233440876, 0.002714874455705285, 0.30641883611679077, 0.9998232126235962, 0.029226982966065407, 0.11041304469108582, 0.19200503826141357, 0.04668198525905609, 0.5305508971214294, 0.021920235827565193, 0.00202965154312551, 0.015425351448357105, 0.0515531487762928, 0.04715770483016968, 0.012456752359867096, 0.08986657112836838, 0.6806725263595581, 0.16994570195674896, 0.8473043441772461, 0.15248499810695648, 0.999767541885376, 0.9990336894989014, 0.0011199621949344873, 0.00027999054873362184, 0.05795804411172867, 0.20523308217525482, 0.16183453798294067, 0.003079896094277501, 0.12487578392028809, 0.44546496868133545, 0.00662151537835598, 0.9932273030281067, 0.999778151512146, 0.9985890984535217, 0.07843513041734695, 0.0007104630931280553, 0.15232329070568085, 0.22663773596286774, 0.15758071839809418, 0.02486620843410492, 0.054421473294496536, 0.09335485100746155, 0.059678900986909866, 0.008383464999496937, 0.03893337771296501, 0.10458017140626907, 0.9996908903121948, 1.0000478029251099, 0.9997956156730652, 1.0000190734863281, 0.9986240267753601, 1.000154733657837, 0.01835552044212818, 0.040790047496557236, 0.7831688523292542, 0.004079004749655724, 0.001019751187413931, 0.0805603414773941, 0.055066563189029694, 0.017335768789052963, 0.14932887256145477, 0.7049105763435364, 0.0636151134967804, 0.027895011007785797, 0.001594000612385571, 0.052022386342287064, 7.24545752746053e-05, 0.0005796366021968424, 0.014542615972459316, 0.08328952640295029, 0.016746042296290398, 0.5993320345878601, 0.19302017986774445, 0.05905183404684067, 0.011898503638803959, 0.00264411186799407, 0.00616959435865283, 0.013220559805631638, 0.9975111484527588, 0.003022761084139347, 0.09467562288045883, 0.29801979660987854, 0.13427264988422394, 0.0018855731468647718, 0.010717994533479214, 0.04872718080878258, 0.22736042737960815, 0.023123081773519516, 0.16116689145565033, 0.6667894721031189, 0.1903540939092636, 0.1092977225780487, 0.008068959228694439, 0.025307191535830498, 0.9851048588752747, 0.014640623703598976, 0.9990116953849792, 0.9996963739395142, 1.0001965761184692, 0.00441007362678647, 0.01617027074098587, 0.19257321953773499, 0.6554471850395203, 0.12862715125083923, 0.000183753072633408, 0.002205036813393235, 0.000183753072633408, 0.20416159927845, 0.007113117258995771, 0.2587963938713074, 0.035565588623285294, 0.15906141698360443, 0.01619369350373745, 0.0031782013829797506, 0.0895950123667717, 0.2255009561777115, 0.0009080575546249747, 1.0008207559585571, 0.9999918341636658, 0.9995858073234558, 1.0005429983139038, 1.0004663467407227, 0.999820351600647, 0.005126398988068104, 0.016793375834822655, 0.20982882380485535, 0.07442117482423782, 0.07442117482423782, 0.19922247529029846, 0.3993288278579712, 0.02068236842751503, 0.9998241662979126, 0.9560661315917969, 0.02068767510354519, 0.02364305593073368, 0.9997872710227966, 0.9949829578399658, 0.023408854380249977, 0.20092599093914032, 0.41057294607162476, 0.12128999084234238, 0.0005737463943660259, 0.02134336717426777, 0.004360472783446312, 0.01962212659418583, 0.14779707789421082, 0.05003068596124649, 1.000025749206543, 0.06897007673978806, 0.0986655205488205, 0.07280174642801285, 0.7596287131309509, 1.0003795623779297, 0.04732487350702286, 0.01962250843644142, 0.6354230046272278, 0.1656370460987091, 0.004039928317070007, 0.1281234323978424, 0.9968669414520264, 1.0000991821289062, 0.9994084239006042, 1.0002686977386475, 1.0017262697219849, 0.9979947209358215, 0.9999390244483948, 0.9959861636161804, 0.997053325176239, 1.0003280639648438, 0.999664843082428, 0.29224568605422974, 0.14243057370185852, 0.06292032450437546, 0.03338216617703438, 0.04309334233403206, 0.20403584837913513, 0.10631714761257172, 0.018815403804183006, 0.08901911228895187, 0.007688014302402735, 0.24320414662361145, 0.17777720093727112, 0.18192340433597565, 0.019214805215597153, 0.038952916860580444, 0.061441753059625626, 0.07755696773529053, 0.0402410626411438, 0.0568259060382843, 0.007594678550958633, 0.07626882195472717, 0.019000114873051643, 0.020762868225574493, 0.8602340817451477, 0.024019787088036537, 0.08712261915206909, 0.0016284602461382747, 0.0056996108032763, 1.0005817413330078, 0.08705371618270874, 0.9133943915367126, 0.13948556780815125, 0.06915174424648285, 0.08451879769563675, 0.04176686331629753, 0.3930419683456421, 0.06225626915693283, 0.03644749894738197, 0.05713392049074173, 0.0035462433006614447, 0.1075693815946579, 0.00039402703987434506, 0.004925337620079517, 1.0000981092453003, 0.9992285370826721, 1.0003530979156494, 0.019778789952397346, 0.0027318771462887526, 0.07605545967817307, 0.325530469417572, 0.25450167059898376, 0.011910984292626381, 0.033547449856996536, 0.05201493948698044, 0.039229754358530045, 0.10217220336198807, 0.041524533182382584, 0.010053307749330997, 0.03103412501513958, 1.0012892484664917, 1.000349760055542, 1.0018935203552246, 0.9943357110023499, 0.005421677604317665, 0.7037175893783569, 0.2957933843135834, 0.9884119033813477, 0.01127855945378542, 0.9990177750587463, 1.0000178813934326, 0.9952836632728577, 0.0028518156614154577, 0.9969537258148193, 0.9998618364334106, 1.0006948709487915, 0.9992619156837463, 0.10044470429420471, 0.899219274520874, 0.001212619012221694, 0.9761583209037781, 0.023039761930704117, 0.056582510471343994, 0.7518649101257324, 0.062130678445100784, 0.023161401972174644, 0.001761323306709528, 0.011580700986087322, 0.03377337381243706, 0.024834658950567245, 0.012241196818649769, 0.010479873977601528, 0.0004843639035243541, 0.0017172902589663863, 0.009379046969115734, 0.9987730979919434, 0.001181842410005629, 0.05791027471423149, 0.09809291362762451, 0.015363950282335281, 0.06500133126974106, 0.7622883319854736, 0.9166423678398132, 0.07822217047214508, 0.004556631203740835, 0.9993078708648682, 0.04578392952680588, 0.12081869691610336, 0.8336490392684937, 0.9985507726669312, 0.9990562796592712, 0.025899996981024742, 0.0008681563194841146, 0.061928484588861465, 0.26319605112075806, 0.10533630102872849, 0.03906703367829323, 0.09549719840288162, 0.02141452208161354, 0.006945250555872917, 0.37432006001472473, 0.0054983231239020824, 0.006469238083809614, 0.9930280447006226, 0.36230573058128357, 0.6376307010650635, 0.045349251478910446, 0.2258014678955078, 0.011337312869727612, 0.7170850038528442, 0.9999186992645264, 0.09097792208194733, 0.03529437258839607, 0.21893760561943054, 0.6317833662033081, 0.02292025089263916, 0.9997466206550598, 0.001202426035888493, 0.9722161293029785, 0.021534357219934464, 0.0050283269956707954, 0.8978822827339172, 0.08400432765483856, 0.004131360445171595, 0.013771201483905315, 0.9999864101409912, 0.9983691573143005, 0.9749216437339783, 0.02444944530725479, 0.02944769896566868, 0.204623743891716, 0.7658289074897766, 0.00036008458118885756, 0.14511409401893616, 0.8166718482971191, 0.03744879737496376, 0.9725578427314758, 0.027947064489126205, 0.9994348287582397, 1.0019644498825073, 0.00476246839389205, 0.00021647584799211472, 0.012555599212646484, 0.3225490152835846, 0.13659626245498657, 0.031605470925569534, 0.019915778189897537, 0.09633175283670425, 0.3480931520462036, 0.02532767318189144, 0.0019482825882732868, 1.0001220703125, 0.03655237331986427, 0.0005471912445500493, 0.11863105744123459, 0.27742594480514526, 0.08930160850286484, 0.004705844447016716, 0.039178892970085144, 0.011162701062858105, 0.07157261669635773, 0.04289979115128517, 0.2899019122123718, 0.01794787310063839, 0.1713835448026657, 0.4510432779788971, 0.06917287409305573, 0.08775663375854492, 0.005678370129317045, 0.011227686889469624, 0.05355735495686531, 0.09033770859241486, 0.010324309580028057, 0.048395201563835144, 0.0007743232417851686, 1.0001702308654785, 0.015366335399448872, 0.10438863933086395, 0.13701649010181427, 0.03600844740867615, 0.06525570154190063, 0.10249345749616623, 0.060389697551727295, 0.01956646703183651, 0.07037781924009323, 0.00015366334991995245, 0.3617747724056244, 0.016800526529550552, 0.010449107736349106, 0.08148027956485748, 0.20008666813373566, 0.06423143297433853, 0.1549111008644104, 0.17955231666564941, 0.015934651717543602, 0.05289647355675697, 0.0009856485994532704, 0.017741674557328224, 0.004599693231284618, 0.06258868426084518, 0.16509613394737244, 0.0009398090769536793, 0.08082357794046402, 0.01033790037035942, 0.7715832591056824, 0.0037592363078147173, 0.004699045326560736, 0.08082357794046402, 0.04135160148143768, 0.0065786633640527725, 0.0009398090769536793, 0.007464132737368345, 0.992729663848877, 0.9993118047714233, 0.006936637684702873, 0.9919392466545105, 0.9994251132011414, 0.9992409944534302, 1.000125765800476, 0.10716268420219421, 0.09228260070085526, 0.0009136891458183527, 0.025974877178668976, 0.10598793625831604, 0.3071300685405731, 0.13731442391872406, 0.22215698659420013, 0.001044216100126505, 0.23853996396064758, 0.3024161159992218, 0.12528325617313385, 0.00804425310343504, 0.005495578516274691, 0.03329205513000488, 0.050336312502622604, 0.026044264435768127, 0.0687345564365387, 0.10704431682825089, 0.0025486741214990616, 0.00669026980176568, 0.02556638792157173, 0.9995985627174377, 0.9996415972709656, 0.002903977409005165, 0.23280218243598938, 0.0009679924696683884, 0.06461349874734879, 0.6279851198196411, 0.0706634446978569, 0.019935833290219307, 0.9804805517196655, 0.9992961287498474, 0.10004902631044388, 0.08713947236537933, 0.08839456737041473, 0.10237991809844971, 0.08803597092628479, 0.009323565289378166, 0.06078247353434563, 0.0044824834913015366, 0.06329266726970673, 0.0008964966400526464, 0.2451021820306778, 0.15007354319095612, 0.9988011717796326, 0.02463725209236145, 0.05622347071766853, 0.9172638654708862, 0.0018951732199639082, 0.1155681386590004, 0.01481642760336399, 0.01481642760336399, 0.02222464233636856, 0.8312016129493713, 0.2728445827960968, 0.00014380423817783594, 0.20343506336212158, 0.005991843529045582, 0.04443551227450371, 0.15890368819236755, 0.05330343917012215, 0.04390822723507881, 0.07779809832572937, 0.08043450862169266, 4.793474727193825e-05, 0.053830720484256744, 0.004889344330877066, 0.19493062794208527, 0.4148256778717041, 0.00832147803157568, 0.1173328384757042, 0.07135667651891708, 0.1046425849199295, 0.004576812963932753, 0.0342220775783062, 0.002184387994930148, 0.04764046147465706, 0.017511803656816483, 0.9806610345840454, 0.999664843082428, 0.07462310045957565, 0.054161928594112396, 0.8714052438735962, 0.09778260439634323, 0.21410731971263885, 0.1692071408033371, 0.14999985694885254, 0.009645223617553711, 0.009562075138092041, 0.1097559854388237, 0.048808153718709946, 0.1337859034538269, 0.0006651877774856985, 0.0024113059043884277, 0.05437910184264183, 0.3427145481109619, 0.253121018409729, 0.03144758939743042, 0.0003850725188385695, 0.010910388082265854, 0.14023058116436005, 0.06976230442523956, 0.023938674479722977, 0.09581887722015381, 0.005583551712334156, 0.01976705528795719, 0.006161160301417112, 0.00019253625941928476, 0.9986537098884583, 0.0010523220989853144, 0.9635583162307739, 0.0365908220410347, 0.0199565589427948, 0.9811974167823792, 0.9999155402183533, 0.9993354082107544, 0.14692460000514984, 0.04197845980525017, 0.015523283742368221, 0.6928632259368896, 0.019896039739251137, 0.05903220921754837, 0.021207867190241814, 0.0013118268689140677, 0.0010931889992207289, 0.04934303089976311, 0.00016447677626274526, 0.6860326528549194, 0.005592210218310356, 0.2587219774723053, 0.9998968839645386, 1.0002201795578003, 0.06983358412981033, 0.05067570134997368, 0.00556196691468358, 0.11432932317256927, 0.14770112931728363, 0.03028182126581669, 0.02719183824956417, 0.5475447773933411, 0.0061799632385373116, 0.3331742584705353, 0.6663485169410706, 0.13733793795108795, 0.019658174365758896, 0.04173995926976204, 0.25582557916641235, 0.0740547701716423, 0.01777314394712448, 0.046317894011735916, 0.17288422584533691, 0.023158947005867958, 0.0045779310166835785, 0.207084059715271, 0.9998725652694702, 0.9999273419380188, 0.003923496231436729, 0.07045945525169373, 0.32385191321372986, 0.2169366478919983, 0.002452185144647956, 0.0011443530675023794, 0.00016347900964319706, 0.09236564487218857, 0.2527385652065277, 0.03612885996699333, 0.2151571363210678, 0.052709177136421204, 0.0008640848682262003, 0.0008640848682262003, 0.05443734675645828, 0.675714373588562, 0.04422158747911453, 0.009673472493886948, 0.06771430373191833, 0.8637028932571411, 0.015201170928776264, 0.9095534086227417, 0.014318596571683884, 0.003482901956886053, 0.06604614108800888, 0.006320822052657604, 0.0002579927386250347, 0.00827074609696865, 0.5668217539787292, 0.4245649576187134, 0.0004466273821890354, 0.3422282338142395, 0.0020098232198506594, 0.12382744252681732, 0.14247412979602814, 0.07123706489801407, 0.18657858669757843, 0.003238048404455185, 0.1257256120443344, 0.002233136910945177, 1.0003561973571777, 0.07625086605548859, 0.12814874947071075, 0.10024920850992203, 0.11620868742465973, 0.29270875453948975, 0.00721132243052125, 0.04161287844181061, 0.005319828167557716, 0.10285001248121262, 0.027190232649445534, 0.043977245688438416, 0.05839988961815834, 0.0896691158413887, 0.0007309982320293784, 0.05750519409775734, 0.024366607889533043, 0.29118096828460693, 0.1442503184080124, 0.11159906536340714, 0.26486504077911377, 0.013888966292142868, 0.0019493286963552237, 1.000205159187317, 0.005823926534503698, 0.9958914518356323, 0.09389816969633102, 0.11491221189498901, 0.01808803342282772, 0.4322507977485657, 0.21838639676570892, 0.0034580063074827194, 0.06889412552118301, 0.001862003467977047, 0.020482037216424942, 0.026600047945976257, 0.0013300024438649416, 0.9993038773536682, 0.9992640614509583, 0.9956848621368408, 0.00296334782615304, 1.0003129243850708, 0.08785567432641983, 0.007863624952733517, 0.0029827544931322336, 0.16703425347805023, 0.37528473138809204, 0.10493872314691544, 0.05911276862025261, 0.07402653992176056, 0.05314726009964943, 0.009219422936439514, 0.0008134784875437617, 0.05694349482655525, 0.021767422556877136, 0.9642505049705505, 0.013430963270366192, 0.6606493592262268, 0.00011915041977772489, 0.04487999156117439, 0.015966156497597694, 0.03364013507962227, 0.0061561050824820995, 0.04011397436261177, 0.050321195274591446, 0.08189605921506882, 0.00011915041977772489, 0.06596961617469788, 0.00015886723122093827, 0.01916693150997162, 0.03950734809041023, 0.024252036586403847, 0.8523417115211487, 0.04224548488855362, 0.016819961369037628, 0.004302780609577894, 0.0011734856525436044, 0.09489955008029938, 0.8092249631881714, 0.08819469064474106, 0.007220617961138487, 0.9996699690818787, 0.00011123628792120144, 0.7956731915473938, 0.10278233140707016, 0.01245846413075924, 0.0003337088564876467, 0.00889890268445015, 0.033704593777656555, 0.015239371918141842, 0.0030033797957003117, 0.02780907228589058, 0.00011123628792120144, 0.0016398195875808597, 0.10705679655075073, 0.19794964790344238, 0.0007027798565104604, 0.026471374556422234, 0.4392373859882355, 0.02436303347349167, 0.15250322222709656, 0.049194589257240295, 0.0009370397892780602, 0.6604211926460266, 0.04726296663284302, 0.09042981266975403, 0.001575432252138853, 0.17329753935337067, 0.027097433805465698, 0.7797883749008179, 0.0051889801397919655, 0.21476611495018005, 0.10809050500392914, 0.016406595706939697, 0.0357084721326828, 0.7257505655288696, 0.11484616249799728, 0.1254683881998062, 0.768706738948822, 0.10162371397018433, 0.0039741117507219315, 0.9954352378845215, 0.79460209608078, 0.20507986843585968, 0.9997215867042542, 1.0001767873764038, 0.9987953305244446, 0.05161385238170624, 0.9489008188247681, 0.20837415754795074, 0.08795091509819031, 0.05943276733160019, 0.1470242142677307, 0.04697106033563614, 0.17218726873397827, 0.08591390401124954, 0.1268937587738037, 0.0651843249797821, 0.004672547802329063, 0.4266885817050934, 0.08559258282184601, 0.4050249457359314, 0.07815898209810257, 0.00262664258480072, 0.05691058933734894, 0.9394624829292297, 0.017939560115337372, 0.9817832112312317, 0.08485519140958786, 0.015428216196596622, 0.8992446064949036, 0.9978716373443604, 0.0019877920858561993, 0.9995473027229309, 0.024593612179160118, 0.06687736511230469, 0.0025888013187795877, 0.0025888013187795877, 0.018984543159604073, 0.0064720031805336475, 0.022004811093211174, 0.0004314668767619878, 0.8530099987983704, 0.0025888013187795877, 0.02825956605374813, 0.01991014927625656, 0.9521546959877014, 0.9833263754844666, 0.015485454350709915, 1.0010687112808228, 0.027895543724298477, 0.855994701385498, 0.11556725203990936, 0.1741476058959961, 0.02982059307396412, 0.18253463506698608, 0.14502592384815216, 0.18032139539718628, 0.028888698667287827, 0.04077034071087837, 0.11508885025978088, 0.020967604592442513, 0.0009318935335613787, 0.02399625815451145, 0.019103817641735077, 0.03832412138581276, 0.9998877048492432, 1.0005632638931274, 0.9968657493591309, 0.9822843670845032, 0.015691444277763367, 0.996555745601654, 0.016715098172426224, 0.418140709400177, 0.0001316149573540315, 0.011582115665078163, 0.04448585584759712, 0.0030271438881754875, 0.5042169094085693, 0.0015793794300407171, 0.022314975038170815, 0.06631927192211151, 0.13576680421829224, 0.0013555826153606176, 0.06986463814973831, 0.18196089565753937, 0.09301382303237915, 0.03972899913787842, 0.35860374569892883, 0.0030239918269217014, 0.014702857472002506, 0.013555825687944889, 1.0005831718444824, 0.9997456073760986, 0.28871312737464905, 0.011439410969614983, 0.22861222922801971, 0.03414224088191986, 0.02463873103260994, 0.10814642906188965, 0.08641155064105988, 0.055701129138469696, 0.060628876090049744, 0.0818357840180397, 0.0030798413790762424, 0.0018479048740118742, 0.014871234074234962, 0.4521351754665375, 0.010252933017909527, 0.1980636715888977, 0.002012257929891348, 0.001437327009625733, 0.03435211628675461, 0.0743098109960556, 0.0768490880727768, 0.007617833558470011, 0.11877112835645676, 4.791090395883657e-05, 0.02328469790518284, 0.0009103071643039584, 0.9988113641738892, 1.0002821683883667, 0.03639894723892212, 0.15081895887851715, 0.09156865626573563, 0.019260428845882416, 0.28025558590888977, 0.000816119892988354, 0.05174200236797333, 0.34783029556274414, 0.007181854918599129, 0.0001632239727769047, 0.01403726264834404, 0.030893083661794662, 0.0057924529537558556, 0.8920378088951111, 0.00868867989629507, 0.04151258245110512, 0.020273586735129356, 0.0022221487015485764, 0.9977447390556335, 0.05051029101014137, 0.046333231031894684, 0.03315942734479904, 0.1507597267627716, 0.13887116312980652, 0.10596878826618195, 0.04678306728601456, 0.06201326847076416, 0.22684647142887115, 0.09504417330026627, 0.00385574740357697, 0.039842721074819565, 0.9994210600852966, 0.04066254943609238, 0.9592664837837219, 0.9987388253211975, 0.9917671084403992, 0.008256126195192337], \"Term\": [\"absence_r\\u00e9ponse\", \"absence_r\\u00e9ponse\", \"absence_r\\u00e9ponse\", \"absence_r\\u00e9ponse\", \"absence_r\\u00e9ponse\", \"absence_r\\u00e9ponse\", \"absence_r\\u00e9ponse\", \"absence_r\\u00e9ponse\", \"absence_r\\u00e9ponse\", \"absence_r\\u00e9ponse\", \"abusif\", \"abusive\", \"accident_travail\", \"acc\\u00e8s_institu\\u00e9\", \"acc\\u00e8s_institu\\u00e9\", \"acc\\u00e8s_institu\\u00e9\", \"acc\\u00e8s_varient\", \"acc\\u00e9der_informations\", \"acc\\u00e9der_informations\", \"acte\", \"acte\", \"acte\", \"acte\", \"acte\", \"acte\", \"acte_naissance\", \"acte_naissance\", \"actes_assembl\\u00e9es\", \"action_sociale\", \"action_sociale\", \"action_sociale\", \"activit\\u00e9\", \"activit\\u00e9\", \"activit\\u00e9\", \"activit\\u00e9\", \"activit\\u00e9\", \"activit\\u00e9\", \"activit\\u00e9\", \"activit\\u00e9_conditions\", \"activit\\u00e9s\", \"activit\\u00e9s\", \"activit\\u00e9s\", \"activit\\u00e9s\", \"activit\\u00e9s\", \"activit\\u00e9s\", \"administratif\", \"administratif\", \"administratif\", \"administratif\", \"administratif\", \"administratif\", \"administratif\", \"administratif\", \"administratif\", \"administratif\", \"administratif\", \"administratif\", \"administratif_entrent\", \"administratifs\", \"administratifs\", \"administratifs\", \"administratifs\", \"administratifs\", \"administratifs\", \"administratifs\", \"administratifs\", \"administratifs\", \"administratifs\", \"administratifs\", \"administratifs\", \"administratifs\", \"administratifs_examin\\u00e9\", \"administratifs_examin\\u00e9\", \"administratifs_examin\\u00e9\", \"administratifs_examin\\u00e9\", \"administratifs_examin\\u00e9\", \"administratifs_examin\\u00e9\", \"administratifs_examin\\u00e9\", \"adresse_administrative\", \"adresse_suivante\", \"adresse_suivante\", \"adresses_\\u00e9lectroniques\", \"adress\\u00e9\", \"adress\\u00e9\", \"adress\\u00e9\", \"adress\\u00e9\", \"adress\\u00e9\", \"adress\\u00e9\", \"adress\\u00e9\", \"adress\\u00e9e\", \"adress\\u00e9e\", \"adress\\u00e9e\", \"adress\\u00e9e\", \"adress\\u00e9e\", \"adress\\u00e9e\", \"adress\\u00e9e\", \"adress\\u00e9e\", \"adress\\u00e9e\", \"adress\\u00e9e\", \"adress\\u00e9e\", \"adress\\u00e9e\", \"affaires_coordonn\\u00e9es\", \"afin_conna\\u00eetre\", \"afin_garantir\", \"agent\", \"agent\", \"agent\", \"agents\", \"agents\", \"agents\", \"agents\", \"agents\", \"agents_publics\", \"agents_publics\", \"agissant\", \"agissant\", \"agissant\", \"agissant\", \"agissant\", \"agissant\", \"agissant\", \"agissant\", \"agissant\", \"agissant\", \"agissant\", \"agissant\", \"agissant_r\\u00e9mun\\u00e9ration\", \"aides_vers\\u00e9es\", \"alimentation\", \"allocations_familiales\", \"alt\\u00e9r\\u00e9es_sens\", \"am\\u00e9lioration\", \"am\\u00e9lioration\", \"am\\u00e9lioration\", \"am\\u00e9lioration\", \"am\\u00e9lioration\", \"analyse_offres\", \"animaux_victimes\", \"annexes_conclusions\", \"annex\\u00e9es\", \"ans\", \"ans\", \"ans\", \"ans\", \"ans_compter\", \"ans_compter\", \"ao\\u00fbt\", \"ao\\u00fbt\", \"ao\\u00fbt\", \"ao\\u00fbt\", \"ao\\u00fbt\", \"ao\\u00fbt\", \"ao\\u00fbt\", \"ao\\u00fbt\", \"ao\\u00fbt\", \"ao\\u00fbt\", \"ao\\u00fbt\", \"ao\\u00fbt\", \"ao\\u00fbt\", \"appara\\u00eetre_comportement\", \"appel_offres\", \"application_quatri\\u00e8me\", \"application_quatri\\u00e8me\", \"applique_tous\", \"approbation_plu\", \"appr\\u00e9ciation_jugement\", \"appr\\u00e9ciation_jugement\", \"apr\\u00e8s_occultation\", \"apr\\u00e8s_occultation\", \"apr\\u00e8s_occultation\", \"apr\\u00e8s_occultation\", \"apr\\u00e8s_occultation\", \"archives\", \"archives\", \"archives\", \"archives_france\", \"archives_publiques\", \"arr\\u00eatant_projet\", \"arr\\u00eat\\u00e9\", \"arr\\u00eat\\u00e9\", \"arr\\u00eat\\u00e9\", \"arr\\u00eat\\u00e9\", \"arr\\u00eat\\u00e9\", \"arr\\u00eat\\u00e9\", \"arr\\u00eat\\u00e9\", \"arr\\u00eat\\u00e9\", \"arr\\u00eat\\u00e9\", \"arr\\u00eat\\u00e9\", \"arr\\u00eat\\u00e9\", \"arr\\u00eat\\u00e9_conjoint\", \"arr\\u00eat\\u00e9_ouverture\", \"arr\\u00eat\\u00e9s_municipaux\", \"arr\\u00eat\\u00e9s_municipaux\", \"articles\", \"articles\", \"articles\", \"articles\", \"articles\", \"articles\", \"articles\", \"articles\", \"articles\", \"articles\", \"articles\", \"articles\", \"articles\", \"assembl\\u00e9e\", \"assembl\\u00e9e\", \"assembl\\u00e9e\", \"assembl\\u00e9e_nationale\", \"assembl\\u00e9es_parlementaires\", \"assistance_paris\", \"association\", \"association\", \"association\", \"association\", \"association\", \"association\", \"association\", \"associations\", \"associations\", \"associations\", \"associations\", \"assurance_maladie\", \"attributaire\", \"aupr\\u00e8s_tiers\", \"aussi_longtemps\", \"automatis\\u00e9_usage\", \"automatis\\u00e9_usage\", \"automatis\\u00e9_usage\", \"autonomie\", \"autorit\\u00e9\", \"autorit\\u00e9\", \"autorit\\u00e9\", \"autorit\\u00e9\", \"autorit\\u00e9\", \"autorit\\u00e9\", \"autorit\\u00e9\", \"autorit\\u00e9\", \"autorit\\u00e9\", \"autre\", \"autre\", \"autre\", \"autre\", \"autre\", \"autre\", \"autre\", \"autre\", \"autre\", \"autre\", \"autre\", \"autres\", \"autres\", \"autres\", \"autres\", \"autres\", \"autres\", \"autres\", \"autres\", \"autres\", \"autres\", \"autres\", \"autres\", \"autres\", \"autres_celles\", \"autres_celles\", \"autres_celles\", \"autres_celles\", \"auvergne\", \"avis\", \"avis\", \"avis\", \"avis\", \"avis\", \"avis\", \"avis\", \"avis\", \"avis\", \"avis\", \"avis\", \"avis\", \"avocats_lyon\", \"avoir\", \"avoir\", \"avoir\", \"avoir\", \"avoir\", \"avoir\", \"avoir\", \"avoir\", \"avoir\", \"avoir\", \"azur\", \"bancaires_r\\u00e9f\\u00e9rences\", \"bases_donn\\u00e9es\", \"besoins_laquelle\", \"bon_fonctionnement\", \"bruit_rayonnements\", \"budgets_comptes\", \"budgets_comptes\", \"budgets_comptes\", \"b\\u00e9n\\u00e9ficient_tant\", \"cabinet\", \"cabinet\", \"cabinet\", \"cabinet\", \"cabinet\", \"cabinet\", \"cabinet\", \"cabinet\", \"cada_septembre\", \"cadastrales\", \"cadre\", \"cadre\", \"cadre\", \"cadre\", \"cadre\", \"cadre\", \"cadre\", \"cadre\", \"cadre\", \"cadre\", \"cadre\", \"cadre\", \"cadre_fonction\", \"cadre_mission\", \"cadre_mission\", \"cadre_mission\", \"cadre_mission\", \"cadre_mission\", \"cadre_mission\", \"caisse\", \"caisse\", \"caisse_allocations\", \"caisse_primaire\", \"candidature\", \"candidature\", \"candidature\", \"candidature\", \"caract\\u00e8re\", \"caract\\u00e8re\", \"caract\\u00e8re\", \"caract\\u00e8re\", \"caract\\u00e8re\", \"caract\\u00e8re\", \"caract\\u00e8re\", \"caract\\u00e8re\", \"caract\\u00e8re\", \"caract\\u00e8re_abusif\", \"caract\\u00e8re_abusif\", \"cas\", \"cas\", \"cas\", \"cas\", \"cas\", \"cas\", \"cas\", \"cas\", \"cas\", \"cas\", \"cas_lesquels\", \"cas_\\u00e9ch\\u00e9ant\", \"cas_\\u00e9ch\\u00e9ant\", \"cas_\\u00e9ch\\u00e9ant\", \"cas_\\u00e9ch\\u00e9ant\", \"cas_\\u00e9ch\\u00e9ant\", \"cas_\\u00e9ch\\u00e9ant\", \"cas_\\u00e9ch\\u00e9ant\", \"cas_\\u00e9ch\\u00e9ant\", \"cas_\\u00e9ch\\u00e9ant\", \"cas_\\u00e9ch\\u00e9ant\", \"cas_\\u00e9ch\\u00e9ant\", \"cas_\\u00e9ch\\u00e9ant\", \"cat\\u00e9gories\", \"causes_d\\u00e9c\\u00e8s\", \"causes_mort\", \"celui_utilis\\u00e9\", \"celui_utilis\\u00e9\", \"centre_d\\u00e9tention\", \"centre_hospitalier\", \"centre_hospitalier\", \"centre_national\", \"centre_p\\u00e9nitentiaire\", \"centre_p\\u00e9nitentiaire\", \"centre_p\\u00e9nitentiaire\", \"certaines_informations\", \"certaines_informations\", \"certaines_informations\", \"certaines_informations\", \"certifications_tierces\", \"chaque\", \"chaque\", \"chaque\", \"chaque\", \"chaque\", \"chaque\", \"chaque\", \"chaque\", \"chaque\", \"chaque\", \"chaque_ann\\u00e9e\", \"chaque_ann\\u00e9e\", \"charge_frais\", \"charge_th\\u00e9rapeutique\", \"charg\\u00e9es_mission\", \"charg\\u00e9es_mission\", \"charg\\u00e9es_mission\", \"charg\\u00e9es_mission\", \"choix_directement\", \"circulation\", \"cnil\", \"comit\\u00e9\", \"comit\\u00e9\", \"comit\\u00e9\", \"comit\\u00e9\", \"comit\\u00e9\", \"comit\\u00e9\", \"comit\\u00e9\", \"comit\\u00e9s\", \"commande_publique\", \"commissaire_enqu\\u00eateur\", \"commune\", \"commune\", \"commune\", \"commune\", \"commune\", \"commune\", \"commune\", \"commune\", \"commune\", \"communes_membres\", \"communicable\", \"communicable\", \"communicable\", \"communicable\", \"communicable\", \"communicable\", \"communicable\", \"communicable\", \"communicable\", \"communicable\", \"communicable\", \"communicable\", \"communicable\", \"communicables\", \"communicables\", \"communicables\", \"communicables\", \"communicables\", \"communicables\", \"communicables\", \"communicables\", \"communicables\", \"communicables\", \"communicables\", \"communicables\", \"communicables\", \"compatible_bon\", \"compatible_frais\", \"comportement\", \"comportement\", \"comportement_divulgation\", \"composantes_fixes\", \"compte\", \"compte\", \"compte\", \"compte\", \"compte\", \"compte\", \"compte\", \"compte\", \"compte\", \"compte\", \"compte\", \"compte\", \"compte_tenu\", \"compte_tenu\", \"compte_tenu\", \"compte_tenu\", \"compte_tenu\", \"compte_tenu\", \"compte_tenu\", \"compte_tenu\", \"comptes_annuels\", \"comptes_bancaires\", \"comp\\u00e9tente_appr\\u00e9cier\", \"comp\\u00e9tente_prononcer\", \"comp\\u00e9tente_prononcer\", \"comp\\u00e9tente_prononcer\", \"comp\\u00e9tente_prononcer\", \"comp\\u00e9tente_prononcer\", \"comp\\u00e9tente_prononcer\", \"concernant\", \"concernant\", \"concernant\", \"concernant\", \"concernant\", \"concernant\", \"concernant\", \"concernant\", \"concernant\", \"concernant\", \"concernant\", \"concernant\", \"concernant_chiffre\", \"concernant_tel\", \"concernent_exercice\", \"concouru_\\u00e9tablissement\", \"condition_derni\\u00e8res\", \"conduit\", \"conduit\", \"conduit\", \"conduit\", \"conduit\", \"conduit\", \"conjoint_premier\", \"conseil\", \"conseil\", \"conseil\", \"conseil\", \"conseil\", \"conseil\", \"conseil\", \"conseil\", \"conseil\", \"conseil\", \"conseil\", \"conseil\", \"conseil\", \"conseil_constitutionnel\", \"conseil_d\\u00e9partemental\", \"conseil_d\\u00e9partemental\", \"conseil_d\\u00e9partemental\", \"conseil_d\\u00e9partemental\", \"conseil_d\\u00e9partemental\", \"conseil_municipal\", \"conseil_municipal\", \"conseil_municipal\", \"conseil_municipal\", \"conservation_document\", \"conserv\\u00e9s_archives\", \"consid\\u00e8re\", \"consid\\u00e8re\", \"consid\\u00e8re\", \"consid\\u00e8re\", \"consid\\u00e8re\", \"consid\\u00e8re\", \"consid\\u00e8re\", \"consid\\u00e8re\", \"consid\\u00e8re\", \"consid\\u00e8re\", \"consid\\u00e8re\", \"consid\\u00e8re\", \"consid\\u00e8re\", \"consid\\u00e9r\\u00e9e_abusive\", \"consid\\u00e9r\\u00e9s\", \"consid\\u00e9r\\u00e9s\", \"consid\\u00e9r\\u00e9s\", \"consid\\u00e9r\\u00e9s\", \"constate\", \"constate\", \"constate\", \"constate\", \"constate\", \"constate\", \"constate\", \"constate\", \"constate\", \"constate\", \"constate\", \"constate\", \"constate\", \"construire\", \"consultation\", \"consultation\", \"consultation\", \"consultation\", \"consultation\", \"consultation\", \"consultation\", \"consultation\", \"consultation\", \"consultation\", \"consultation\", \"consultation\", \"consultation\", \"consultation_gratuite\", \"consultation_gratuite\", \"contient_\\u00e9manent\", \"contrat\", \"contrat\", \"contrat\", \"contrat\", \"contrat\", \"contrat\", \"contrat\", \"contrat\", \"contribuable_communicable\", \"contr\\u00f4le\", \"contr\\u00f4le\", \"contr\\u00f4le\", \"contr\\u00f4le\", \"contr\\u00f4le\", \"contr\\u00f4le\", \"contr\\u00f4le\", \"contr\\u00f4le\", \"contr\\u00f4le\", \"convention_collective\", \"copie\", \"copie\", \"copie\", \"copie\", \"copie\", \"copie\", \"copie\", \"copie\", \"copie\", \"copie\", \"copie\", \"copie\", \"copie\", \"copie_pr\\u00e9f\\u00e9rence\", \"copie_pr\\u00e9f\\u00e9rence\", \"correspondent_march\\u00e9s\", \"courrier\", \"courrier\", \"courrier\", \"courrier\", \"courrier\", \"courrier\", \"courrier\", \"courrier\", \"courrier\", \"courrier\", \"courrier\", \"cours_temps\", \"co\\u00fbt_envoi\", \"co\\u00fbt_reproduction\", \"cpam\", \"date\", \"date\", \"date\", \"date\", \"date\", \"date\", \"date\", \"date\", \"date\", \"date\", \"date\", \"demander\", \"demander\", \"demander\", \"demander\", \"demander\", \"demander\", \"demandes\", \"demandes\", \"demandes\", \"demandes\", \"demandes\", \"demandes\", \"demandes\", \"demandes\", \"demandes\", \"demandes\", \"demandes\", \"demandes\", \"demandes_abusives\", \"demandes_pr\\u00e9sent\\u00e9es\", \"demandes_subventions\", \"demandeur\", \"demandeur\", \"demandeur\", \"demandeur\", \"demandeur\", \"demandeur\", \"demandeur\", \"demandeur\", \"demandeur\", \"demandeur\", \"demandeur\", \"demandeur\", \"demandeur_limite\", \"demandeur_limite\", \"dernier_alin\\u00e9a\", \"dernier_alin\\u00e9a\", \"dernier_alin\\u00e9a\", \"dernier_alin\\u00e9a\", \"derni\\u00e8re_mise\", \"deux_mois\", \"devenue_sans\", \"dgccrf\", \"diff\\u00e9rentes_lois\", \"directement_concern\\u00e9e\", \"directement_interm\\u00e9diaire\", \"directeur_caisse\", \"directeur_centre\", \"directeur_centre\", \"directeur_g\\u00e9n\\u00e9ral\", \"directeur_g\\u00e9n\\u00e9ral\", \"directeur_g\\u00e9n\\u00e9ral\", \"directeur_g\\u00e9n\\u00e9ral\", \"directeur_g\\u00e9n\\u00e9ral\", \"directeur_g\\u00e9n\\u00e9ral\", \"directeur_g\\u00e9n\\u00e9ral\", \"directeur_g\\u00e9n\\u00e9ral\", \"directeur_g\\u00e9n\\u00e9ral\", \"directeur_g\\u00e9n\\u00e9ral\", \"dispose\", \"dispose\", \"dispose\", \"dispose\", \"dispose\", \"dispose\", \"dispose\", \"dispose\", \"dispose\", \"dispose\", \"dispose\", \"dispose_d\\u00e9j\\u00e0\", \"dispose_moyens\", \"dispositions\", \"dispositions\", \"dispositions\", \"dispositions\", \"dispositions\", \"dispositions\", \"dispositions\", \"dispositions\", \"dispositions\", \"dispositions\", \"dispositions\", \"dispositions\", \"dispositions_chapitre\", \"dispositions_chapitre\", \"dispositions_chapitre\", \"dispositions_sp\\u00e9ciales\", \"diversit\\u00e9_biologique\", \"divulgation_comportement\", \"divulgation_pourrait\", \"divulgation_pourrait\", \"document\", \"document\", \"document\", \"document\", \"document\", \"document\", \"document\", \"document\", \"document\", \"document\", \"document\", \"document_administratif\", \"document_administratif\", \"document_administratif\", \"document_administratif\", \"document_administratif\", \"document_administratif\", \"document_administratif\", \"document_administratif\", \"document_disponible\", \"doit_obligatoirement\", \"doit_toutefois\", \"doivent_communiqu\\u00e9s\", \"domaine_priv\\u00e9\", \"donc\", \"donc\", \"donc\", \"donc\", \"donc\", \"donc\", \"donc\", \"donc\", \"donc\", \"donc\", \"donc\", \"donc\", \"donn\\u00e9es\", \"donn\\u00e9es\", \"donn\\u00e9es\", \"donn\\u00e9es\", \"donn\\u00e9es\", \"donn\\u00e9es_caract\\u00e8re\", \"donn\\u00e9es_caract\\u00e8re\", \"donn\\u00e9es_personnelles\", \"donn\\u00e9es_personnelles\", \"dossier\", \"dossier\", \"dossier\", \"dossier\", \"dossier\", \"dossier\", \"dossier\", \"dossier\", \"dossier\", \"dossier\", \"dossier\", \"dossier\", \"dossier_fiscal\", \"dossier_m\\u00e9dical\", \"dossier_r\\u00e9v\\u00e9l\\u00e9es\", \"droit\", \"droit\", \"droit\", \"droit\", \"droit\", \"droit\", \"droit\", \"droit\", \"droit\", \"droit\", \"droit\", \"droit\", \"droit\", \"droit_priv\\u00e9\", \"droit_priv\\u00e9\", \"droit_priv\\u00e9\", \"droits_information\", \"d\\u00e9bat\", \"d\\u00e9but_fin\", \"d\\u00e9cembre\", \"d\\u00e9cembre\", \"d\\u00e9cembre\", \"d\\u00e9cembre\", \"d\\u00e9cembre\", \"d\\u00e9cembre\", \"d\\u00e9cembre\", \"d\\u00e9cembre\", \"d\\u00e9cembre\", \"d\\u00e9cembre\", \"d\\u00e9cembre\", \"d\\u00e9cembre\", \"d\\u00e9cembre\", \"d\\u00e9chets_\\u00e9missions\", \"d\\u00e9cision\", \"d\\u00e9cision\", \"d\\u00e9cision\", \"d\\u00e9cision\", \"d\\u00e9cision\", \"d\\u00e9cision\", \"d\\u00e9cision\", \"d\\u00e9cision\", \"d\\u00e9cision\", \"d\\u00e9cision\", \"d\\u00e9cision\", \"d\\u00e9cision_effectivement\", \"d\\u00e9cisions_activit\\u00e9s\", \"d\\u00e9cisions_individuelles\", \"d\\u00e9claration_accident\", \"d\\u00e9clarer\", \"d\\u00e9clarer\", \"d\\u00e9clarer\", \"d\\u00e9clarer_incomp\\u00e9tente\", \"d\\u00e9clarer_incomp\\u00e9tente\", \"d\\u00e9clarer_incomp\\u00e9tente\", \"d\\u00e9clarer_incomp\\u00e9tente\", \"d\\u00e9clarer_incomp\\u00e9tente\", \"d\\u00e9clarer_incomp\\u00e9tente\", \"d\\u00e9clarer_incomp\\u00e9tente\", \"d\\u00e9clarer_incomp\\u00e9tente\", \"d\\u00e9clarer_irrecevable\", \"d\\u00e9clarer_sans\", \"d\\u00e9composition_prix\", \"d\\u00e9cret\", \"d\\u00e9cret\", \"d\\u00e9cret\", \"d\\u00e9cret\", \"d\\u00e9cret\", \"d\\u00e9cret\", \"d\\u00e9cret\", \"d\\u00e9cret\", \"d\\u00e9cret\", \"d\\u00e9fendre_m\\u00e9moire\", \"d\\u00e9finies_titre\", \"d\\u00e9finis_arr\\u00eat\\u00e9\", \"d\\u00e9funt\", \"d\\u00e9lai\", \"d\\u00e9lai\", \"d\\u00e9lai_mois\", \"d\\u00e9lib\\u00e9ration\", \"d\\u00e9lib\\u00e9ration\", \"d\\u00e9lib\\u00e9ration\", \"d\\u00e9lib\\u00e9ration\", \"d\\u00e9lib\\u00e9ration\", \"d\\u00e9lib\\u00e9ration\", \"d\\u00e9lib\\u00e9ration_approuvant\", \"d\\u00e9lib\\u00e9rations\", \"d\\u00e9lib\\u00e9rations\", \"d\\u00e9lib\\u00e9rations\", \"d\\u00e9lib\\u00e9rations\", \"d\\u00e9lib\\u00e9rations_conseils\", \"d\\u00e9livrance_copie\", \"d\\u00e9livrance_copie\", \"d\\u00e9l\\u00e9gation_signature\", \"d\\u00e9natur\\u00e9_leurs\", \"d\\u00e9rogation\", \"d\\u00e9rogation\", \"d\\u00e9rogation\", \"d\\u00e9rogation\", \"d\\u00e9rogation_d\\u00e9lais\", \"d\\u00e9tails_techniques\", \"d\\u00e9tenues_re\\u00e7ues\", \"d\\u00e9tenus_professionnels\", \"d\\u00e9versements_autres\", \"eau_sol\", \"effectue\", \"effectue\", \"effet\", \"effet\", \"effet\", \"effet\", \"effet\", \"effet\", \"effet\", \"effet\", \"effet\", \"effet\", \"effet\", \"elles_recueillies\", \"emploi\", \"emploi\", \"emploi\", \"emploi\", \"employeur\", \"employeur\", \"employeur\", \"employeur\", \"enfant\", \"enfant\", \"enfant\", \"enfant_mineur\", \"enqu\\u00eate_publique\", \"enqu\\u00eate_publique\", \"enqu\\u00eate_publique\", \"ensemble_pi\\u00e8ces\", \"ensemble_pi\\u00e8ces\", \"ensemble_pi\\u00e8ces\", \"ensemble_pi\\u00e8ces\", \"ensemble_pi\\u00e8ces\", \"ensemble_pi\\u00e8ces\", \"ensemble_pi\\u00e8ces\", \"entendu\", \"entendu\", \"entendu\", \"entendu_autoriser\", \"entre\", \"entre\", \"entre\", \"entre\", \"entre\", \"entre\", \"entre\", \"entre\", \"entre\", \"entre\", \"entre\", \"entre_op\\u00e9rateurs\", \"entreprise_attributaire\", \"entreprises_non\", \"environnement\", \"environnement\", \"environnement\", \"environnement_qualifie\", \"envoi\", \"envoi\", \"envoi\", \"envoi\", \"envoi\", \"envoi\", \"envoi\", \"envoi_peuvent\", \"esp\\u00e8ce\", \"esp\\u00e8ce\", \"esp\\u00e8ce\", \"esp\\u00e8ce\", \"esp\\u00e8ce\", \"esp\\u00e8ce\", \"esp\\u00e8ce\", \"esp\\u00e8ce\", \"esp\\u00e8ce\", \"esp\\u00e8ce\", \"esp\\u00e8ce\", \"esp\\u00e8ce\", \"esp\\u00e8ce\", \"estime\", \"estime\", \"estime\", \"estime\", \"estime\", \"estime\", \"estime\", \"estime\", \"estime\", \"estime\", \"estime\", \"estime\", \"estime\", \"etat_collectivit\\u00e9s\", \"etat_collectivit\\u00e9s\", \"euro_page\", \"europ\\u00e9en_conseil\", \"euros\", \"euros\", \"euros\", \"euros\", \"examen_candidatures\", \"exceptions_pr\\u00e9vues\", \"exc\\u00e9der_co\\u00fbt\", \"exc\\u00e9der_co\\u00fbt\", \"exc\\u00e9der_montants\", \"exerce_choix\", \"exerce_conditions\", \"exerce_conditions\", \"exerce_mandats\", \"exercer_respect\", \"exercice_mandat\", \"existait\", \"expiration_d\\u00e9lai\", \"expiration_d\\u00e9lai\", \"expiration_d\\u00e9lai\", \"facilement_identifiable\", \"facteurs_notamment\", \"factures\", \"factures\", \"factures\", \"factures\", \"faire\", \"faire\", \"faire\", \"faire\", \"faire\", \"faire\", \"faire_peser\", \"faire_valoir\", \"faisant_appara\\u00eetre\", \"faisant_appara\\u00eetre\", \"faisant_appara\\u00eetre\", \"faisant_appara\\u00eetre\", \"faisant_appara\\u00eetre\", \"faisant_appara\\u00eetre\", \"faisant_appara\\u00eetre\", \"fait\", \"fait\", \"fait\", \"fait\", \"fait\", \"fait\", \"fait\", \"fait\", \"fait\", \"fait\", \"fait\", \"fait_obligation\", \"fait_obligation\", \"fait_obligation\", \"fait_obstacle\", \"fait_obstacle\", \"fait_obstacle\", \"fait_obstacle\", \"fait_obstacle\", \"fait_obstacle\", \"fait_obstacle\", \"fait_obstacle\", \"fait_obstacle\", \"fait_obstacle\", \"familiales\", \"fa\\u00e7on_d\\u00e9lib\\u00e9r\\u00e9e\", \"feraient_appara\\u00eetre\", \"fichiers_libert\\u00e9s\", \"fichiers_libert\\u00e9s\", \"financier\", \"financier\", \"financier\", \"financier\", \"financier\", \"financier_subvention\", \"financiers\", \"financiers\", \"financiers\", \"financiers\", \"financiers\", \"financiers_offres\", \"fins_celles\", \"fiscale\", \"fiscale\", \"fiscales\", \"fiscales\", \"fiscales\", \"fix\\u00e9s\", \"fix\\u00e9s\", \"fix\\u00e9s\", \"fix\\u00e9s\", \"fonction_publique\", \"fonction_publique\", \"fonctionnaires_agents\", \"fonctionnement_services\", \"fonctions\", \"fonctions\", \"fonctions\", \"fonctions\", \"fonctions\", \"fonctions_statut\", \"fond\\u00e9_loi\", \"formation\", \"formation\", \"formation\", \"formation\", \"for\\u00eats\", \"frais\", \"frais\", \"frais\", \"frais\", \"frais\", \"frais\", \"frais\", \"frais\", \"frais_acquitter\", \"frais_correspondant\", \"frais_lorsque\", \"frais_puissent\", \"frais_puissent\", \"frais_reproduction\", \"frais_reproduction\", \"f\\u00e9d\\u00e9ration_fran\\u00e7aise\", \"f\\u00e9vrier\", \"f\\u00e9vrier\", \"f\\u00e9vrier\", \"f\\u00e9vrier\", \"f\\u00e9vrier\", \"f\\u00e9vrier\", \"f\\u00e9vrier\", \"f\\u00e9vrier\", \"f\\u00e9vrier\", \"f\\u00e9vrier\", \"f\\u00e9vrier\", \"f\\u00e9vrier\", \"gard\", \"grade\", \"grade_\\u00e9chelon\", \"groupe_travail\", \"guadeloupe\", \"g\\u00e9n\\u00e9ral\", \"g\\u00e9n\\u00e9ral\", \"g\\u00e9n\\u00e9ral\", \"g\\u00e9n\\u00e9ral\", \"g\\u00e9n\\u00e9ral\", \"g\\u00e9n\\u00e9ral\", \"g\\u00e9n\\u00e9ral\", \"g\\u00e9n\\u00e9ral\", \"g\\u00e9n\\u00e9ral\", \"g\\u00e9n\\u00e9ral\", \"g\\u00e9n\\u00e9ral\", \"g\\u00e9n\\u00e9ral_collectivit\\u00e9s\", \"g\\u00e9n\\u00e9ral_collectivit\\u00e9s\", \"g\\u00e9n\\u00e9ral_collectivit\\u00e9s\", \"g\\u00e9n\\u00e9ral_collectivit\\u00e9s\", \"g\\u00e9n\\u00e9ral_collectivit\\u00e9s\", \"g\\u00e9n\\u00e9ral_imp\\u00f4ts\", \"g\\u00e9n\\u00e9rale_efface\", \"haute_autorit\\u00e9\", \"hospitalier\", \"hospitalier\", \"hospitalisation\", \"humains_certification\", \"ignominie_d\\u00e9saffection\", \"ii\", \"ii\", \"ii\", \"ii\", \"ii\", \"ii\", \"ii\", \"ii\", \"ii\", \"ii\", \"ii\", \"iii\", \"iii\", \"iii\", \"iii\", \"iii\", \"iii\", \"iii\", \"iii\", \"iii\", \"iii\", \"iii\", \"iii\", \"implique\", \"implique\", \"implique\", \"implique\", \"important\", \"incapacit\\u00e9_mat\\u00e9rielle\", \"indemnit\\u00e9\", \"indemnit\\u00e9s_suj\\u00e9tion\", \"indice_traitement\", \"indiciaire_nbi\", \"ind\\u00e9pendamment_fonctions\", \"inexistants\", \"information_relative\", \"informations\", \"informations\", \"informations\", \"informations\", \"informations\", \"informations\", \"informations\", \"informations\", \"informations\", \"informations\", \"informations\", \"informations_communiqu\\u00e9es\", \"informations_mentionnant\", \"informations_m\\u00e9dicales\", \"informations_pr\\u00e9cises\", \"informations_relatives\", \"informations_relatives\", \"informations_relatives\", \"informations_relatives\", \"informations_relatives\", \"informations_relatives\", \"inform\\u00e9\", \"inform\\u00e9\", \"inform\\u00e9\", \"inform\\u00e9\", \"inform\\u00e9\", \"inform\\u00e9\", \"inform\\u00e9\", \"inform\\u00e9\", \"infraction_r\\u00e8gles\", \"insalubrit\\u00e9\", \"inscrivent_processus\", \"inspection_travail\", \"installations_class\\u00e9es\", \"intellectuelle\", \"intellectuelle\", \"interactions_entre\", \"interpr\\u00e9t\\u00e9es\", \"intervenant\", \"intervenant_prise\", \"int\\u00e9ress\\u00e9\", \"int\\u00e9ress\\u00e9\", \"int\\u00e9ress\\u00e9\", \"int\\u00e9ress\\u00e9\", \"int\\u00e9ress\\u00e9\", \"int\\u00e9ress\\u00e9\", \"int\\u00e9ress\\u00e9\", \"int\\u00e9ress\\u00e9\", \"int\\u00e9ress\\u00e9\", \"int\\u00e9ress\\u00e9_librement\", \"int\\u00e9ress\\u00e9e_sens\", \"int\\u00e9r\\u00eat_g\\u00e9n\\u00e9ral\", \"int\\u00e9r\\u00eat_g\\u00e9n\\u00e9ral\", \"int\\u00e9r\\u00eat_g\\u00e9n\\u00e9ral\", \"irrecevable\", \"irrecevable\", \"irrecevable\", \"irrecevable\", \"irrecevable\", \"isolement\", \"iv_titre\", \"janvier\", \"janvier\", \"janvier\", \"janvier\", \"janvier\", \"janvier\", \"janvier\", \"janvier\", \"janvier\", \"janvier\", \"janvier\", \"janvier\", \"jour_mentionn\\u00e9es\", \"judiciaire\", \"judiciaire\", \"judiciaire\", \"juge_enfants\", \"jugement_valeur\", \"jugement_valeur\", \"juillet\", \"juillet\", \"juillet\", \"juillet\", \"juillet\", \"juillet\", \"juillet\", \"juillet\", \"juillet\", \"juillet\", \"juillet\", \"juillet\", \"juillet\", \"juin\", \"juin\", \"juin\", \"juin\", \"juin\", \"juin\", \"juin\", \"juin\", \"juin\", \"juin\", \"juin\", \"juin\", \"juin\", \"laquelle\", \"laquelle\", \"laquelle\", \"laquelle\", \"laquelle\", \"laquelle\", \"laquelle\", \"laquelle\", \"laquelle\", \"laquelle\", \"laquelle\", \"lettre_candidature\", \"lettre_recommand\\u00e9e\", \"leurs\", \"leurs\", \"leurs\", \"leurs\", \"leurs\", \"leurs\", \"leurs\", \"leurs\", \"leurs\", \"leurs\", \"leurs\", \"leurs\", \"leurs\", \"leurs_groupements\", \"licence\", \"licence\", \"lieu_conservation\", \"ligne\", \"ligne\", \"ligne\", \"ligne\", \"ligne\", \"ligne\", \"limites_conditions\", \"liste\", \"liste\", \"liste\", \"liste\", \"liste\", \"liste\", \"liste\", \"liste_b\\u00e9n\\u00e9ficiaires\", \"liste_\\u00e9lectorale\", \"liste_\\u00e9lectorale\", \"listes_\\u00e9lectorales\", \"listes_\\u00e9lectorales\", \"livre_i\", \"livre_ier\", \"livre_ier\", \"livre_proc\\u00e9dures\", \"locations\", \"loi\", \"loi\", \"loi\", \"loi\", \"loi\", \"loi\", \"loi\", \"loi\", \"loi\", \"loi\", \"loi\", \"loi\", \"loi_juillet\", \"loi_juillet\", \"loi_juillet\", \"loi_juillet\", \"loi_juillet\", \"loi_juillet\", \"loi_juillet\", \"loi_juillet\", \"loi_juillet\", \"loi_juillet\", \"loi_juillet\", \"loi_juillet\", \"loi_juillet\", \"loi_organique\", \"lorsqu_elles\", \"lorsqu_elles\", \"lorsqu_elles\", \"lorsqu_vise\", \"lorsque\", \"lorsque\", \"lorsque\", \"lorsque\", \"lorsque\", \"lorsque\", \"lorsque\", \"lorsque\", \"lorsque\", \"lorsque\", \"lotissement\", \"mai\", \"mai\", \"mai\", \"mai\", \"mai\", \"mai\", \"mai\", \"mai\", \"mai\", \"mai\", \"mai\", \"maire\", \"maire\", \"maire\", \"maire\", \"maire\", \"maire\", \"maire\", \"maladie\", \"maladie_professionnelle\", \"mani\\u00e8re_servir\", \"march\\u00e9\", \"march\\u00e9\", \"march\\u00e9\", \"maritime\", \"maritime\", \"maritime\", \"mars\", \"mars\", \"mars\", \"mars\", \"mars\", \"mars\", \"mars\", \"mars\", \"mars\", \"mars\", \"mars\", \"mars\", \"mars\", \"ma\\u00eetre\", \"ma\\u00eetre\", \"ma\\u00eetre\", \"ma\\u00eetre\", \"ma\\u00eetre\", \"ma\\u00eetre\", \"ma\\u00eetre\", \"ma\\u00eetre\", \"ma\\u00eetre\", \"ma\\u00eetre\", \"membres_gouvernement\", \"mention_couverte\", \"mentionn\\u00e9_point\", \"mentionn\\u00e9_point\", \"mentionn\\u00e9e_tables\", \"mentions\", \"mentions\", \"mentions\", \"mentions\", \"mentions\", \"mentions\", \"mentions\", \"mentions_entrant\", \"mentions_relatives\", \"mentions_relatives\", \"mentions_relatives\", \"mentions_relatives\", \"mesure\", \"mesure\", \"mesure\", \"mesure\", \"mesure\", \"mesure\", \"mesure\", \"mesure\", \"mesure\", \"mesure\", \"mesure\", \"mesure\", \"mesures\", \"mesures\", \"mesures\", \"mesures\", \"mesures\", \"ministre\", \"ministre\", \"ministre\", \"ministre\", \"ministre_agriculture\", \"ministre_budget\", \"minist\\u00e8re\", \"minist\\u00e8re\", \"minist\\u00e8re\", \"minist\\u00e8re\", \"minist\\u00e8re\", \"mis_charge\", \"mise_\\u0153uvre\", \"mise_\\u0153uvre\", \"mise_\\u0153uvre\", \"mise_\\u0153uvre\", \"mise_\\u0153uvre\", \"mise_\\u0153uvre\", \"mise_\\u0153uvre\", \"mise_\\u0153uvre\", \"mise_\\u0153uvre\", \"mise_\\u0153uvre\", \"mise_\\u0153uvre\", \"mission\", \"mission\", \"mission\", \"mission\", \"mission\", \"mission\", \"mission\", \"mission\", \"mission\", \"mission_int\\u00e9r\\u00eat\", \"montant\", \"montant\", \"montant\", \"montant\", \"montant\", \"montant\", \"moyens_techniques\", \"moyens_techniques\", \"m\\u00e9decin\", \"m\\u00e9decin\", \"m\\u00e9decin\", \"m\\u00e9decin\", \"m\\u00e9decin\", \"m\\u00e9decin_d\\u00e9signe\", \"m\\u00e9decins_interpr\\u00e9t\\u00e9\", \"m\\u00e9diation\", \"m\\u00e9dical\", \"m\\u00e9dical\", \"m\\u00e9dical\", \"m\\u00e9dical_patient\", \"m\\u00e9dicaments\", \"nationalit\\u00e9_fran\\u00e7aise\", \"nombre\", \"nombre\", \"nombre\", \"nombre\", \"nombre\", \"nombre\", \"nombre\", \"nombre\", \"nombre\", \"nombre\", \"nomm\\u00e9ment_d\\u00e9sign\\u00e9e\", \"non_autoris\\u00e9es\", \"notamment\", \"notamment\", \"notamment\", \"notamment\", \"notamment\", \"notamment\", \"notamment\", \"notamment\", \"notamment\", \"notamment\", \"notamment\", \"notamment\", \"notamment\", \"notamment_air\", \"nouvelle_bonification\", \"novembre\", \"novembre\", \"novembre\", \"novembre\", \"novembre\", \"novembre\", \"novembre\", \"novembre\", \"novembre\", \"novembre\", \"novembre\", \"novembre\", \"novembre\", \"num\\u00e9ro_adresse\", \"objet\", \"objet\", \"objet\", \"objet\", \"objet\", \"objet\", \"objet\", \"objet\", \"objet\", \"objet\", \"obtenir\", \"obtenir\", \"obtenir\", \"obtenir\", \"obtenir\", \"obtenir\", \"obtenir\", \"obtenir\", \"obtenir\", \"obtenu_traitement\", \"obtenus_traitement\", \"obtenus_traitement\", \"octobre\", \"octobre\", \"octobre\", \"octobre\", \"octobre\", \"octobre\", \"octobre\", \"octobre\", \"octobre\", \"octobre\", \"octobre\", \"octobre_savoir\", \"office_fran\\u00e7ais\", \"office_national\", \"offre\", \"offre\", \"offres\", \"oppos\\u00e9_directeur\", \"oppos\\u00e9_directeur\", \"oppos\\u00e9_directeur\", \"oppos\\u00e9_directeur\", \"oppos\\u00e9_directeur\", \"oppos\\u00e9_directeur\", \"oppos\\u00e9_directeur\", \"oppos\\u00e9_directeur\", \"oppos\\u00e9_directeur\", \"oppos\\u00e9_directeur\", \"oppos\\u00e9_directeur\", \"oppos\\u00e9_pr\\u00e9sidente\", \"orange\", \"organisme\", \"organisme\", \"organisme\", \"organisme\", \"organisme_priv\\u00e9\", \"orientations_am\\u00e9nagement\", \"outre_pr\\u00e9cis\\u00e9\", \"ouvert_toute\", \"pacte_civil\", \"paiement_pr\\u00e9alable\", \"parcelle\", \"parcelle\", \"parcelle\", \"parcelle\", \"parcelles_cadastr\\u00e9es\", \"parlementaires\", \"parlementaires\", \"parlementaires\", \"parlementaires\", \"part\", \"part\", \"part\", \"part\", \"part\", \"part\", \"part\", \"part\", \"part\", \"part\", \"part\", \"part\", \"part\", \"parties_certificats\", \"patient_d\\u00e9c\\u00e9d\\u00e9\", \"patrimoine\", \"patrimoine\", \"permis_construire\", \"permis_construire\", \"personne\", \"personne\", \"personne\", \"personne\", \"personne\", \"personne\", \"personne\", \"personne\", \"personne\", \"personne\", \"personne\", \"personne\", \"personne\", \"personne_d\\u00e9c\\u00e9d\\u00e9e\", \"personne_fait\", \"personne_physique\", \"personne_physique\", \"personnel\", \"personnel\", \"personnel\", \"personnel\", \"personnel\", \"personnel\", \"personnel\", \"personnel\", \"personnel_subordonn\\u00e9e\", \"personnels_justifient\", \"personnes\", \"personnes\", \"personnes\", \"personnes\", \"personnes\", \"personnes\", \"personnes\", \"personnes\", \"personnes\", \"personnes\", \"personnes_d\\u00e9c\\u00e9d\\u00e9es\", \"personnes_d\\u00e9c\\u00e9d\\u00e9es\", \"perturber_fonctionnement\", \"peuvent\", \"peuvent\", \"peuvent\", \"peuvent\", \"peuvent\", \"peuvent\", \"peuvent\", \"peuvent\", \"peuvent_utilis\\u00e9es\", \"pi\\u00e8ces\", \"pi\\u00e8ces\", \"pi\\u00e8ces\", \"pi\\u00e8ces\", \"pi\\u00e8ces\", \"pi\\u00e8ces\", \"pi\\u00e8ces\", \"pi\\u00e8ces\", \"pi\\u00e8ces\", \"pi\\u00e8ces\", \"pi\\u00e8ces\", \"pi\\u00e8ces_annex\\u00e9es\", \"pi\\u00e8ces_manquantes\", \"place\", \"place\", \"place\", \"place\", \"place\", \"place\", \"place\", \"plan_local\", \"plan_local\", \"plu\", \"plu\", \"plus\", \"plus\", \"plus\", \"plus\", \"plus\", \"plus\", \"plus\", \"plus\", \"plus\", \"plus\", \"plus_largement\", \"plus_souvent\", \"point\", \"point\", \"point\", \"point\", \"point\", \"point\", \"point\", \"point\", \"point\", \"point\", \"point\", \"point\", \"point\", \"points\", \"points\", \"points\", \"points\", \"points\", \"points\", \"points\", \"points\", \"points\", \"politique\", \"politique\", \"politique\", \"ponctuelle\", \"populaire\", \"populations\", \"portant_appr\\u00e9ciation\", \"porte\", \"porte\", \"porte\", \"porte\", \"porte\", \"porte\", \"porte\", \"porte\", \"porte\", \"porte\", \"porte\", \"portent_appr\\u00e9ciation\", \"porter_pr\\u00e9judice\", \"porter_pr\\u00e9judice\", \"porterait_atteinte\", \"porterait_atteinte\", \"porterait_atteinte\", \"porterait_atteinte\", \"porterait_atteinte\", \"possibilit\\u00e9s_techniques\", \"postal_peuvent\", \"poste\", \"poste\", \"poste\", \"poste\", \"pourrait_porter\", \"pouvoirs\", \"pouvoirs\", \"premier_ministre\", \"premier_ministre\", \"premier_ministre\", \"premier_ministre\", \"prestataire_service\", \"prestation_demand\\u00e9e\", \"primaire_assurance\", \"principe\", \"principe\", \"principe\", \"principe\", \"principe\", \"principe\", \"principe\", \"principe\", \"principe\", \"principe_unit\\u00e9\", \"prise\", \"prise\", \"prise\", \"prise\", \"prise\", \"prise\", \"prise\", \"prise\", \"priv\\u00e9e\", \"priv\\u00e9e\", \"priv\\u00e9e\", \"priv\\u00e9e\", \"priv\\u00e9e\", \"priv\\u00e9e\", \"priv\\u00e9e\", \"priv\\u00e9e_assure\", \"priv\\u00e9es\", \"prix_unitaires\", \"procureur_r\\u00e9publique\", \"proc\\u00e9der_recherches\", \"proc\\u00e9dure\", \"proc\\u00e9dure\", \"proc\\u00e9dure\", \"proc\\u00e9dure\", \"proc\\u00e9dure\", \"proc\\u00e9dure\", \"proc\\u00e9dure\", \"proc\\u00e9dure\", \"proc\\u00e9dure\", \"proc\\u00e9dure\", \"proc\\u00e9dure\", \"proc\\u00e9dure_disciplinaire\", \"produits\", \"produits\", \"produits\", \"produits\", \"produits\", \"produits\", \"produits\", \"produits\", \"produits\", \"professionnelle\", \"professionnelle\", \"professionnelle\", \"professionnelle\", \"professionnelle\", \"professionnels_sant\\u00e9\", \"professionnels_sant\\u00e9\", \"professionnels_\\u00e9tablissements\", \"projet_plu\", \"protection\", \"protection\", \"protection\", \"protection\", \"protection\", \"protection\", \"protection\", \"protection\", \"protection_vie\", \"protection_vie\", \"prot\\u00e9g\\u00e9_dispositions\", \"proviseur_lyc\\u00e9e\", \"pr\\u00e9cise\", \"pr\\u00e9cise\", \"pr\\u00e9cise\", \"pr\\u00e9cise\", \"pr\\u00e9cise\", \"pr\\u00e9cise\", \"pr\\u00e9cise\", \"pr\\u00e9cise\", \"pr\\u00e9cise\", \"pr\\u00e9cise\", \"pr\\u00e9cise\", \"pr\\u00e9cise\", \"pr\\u00e9c\\u00e9dentes_phases\", \"pr\\u00e9fet_police\", \"pr\\u00e9f\\u00e9rence\", \"pr\\u00e9judice\", \"pr\\u00e9judice_auteur\", \"pr\\u00e9rogatives\", \"pr\\u00e9sent\", \"pr\\u00e9sent\", \"pr\\u00e9sent\", \"pr\\u00e9sent\", \"pr\\u00e9sent\", \"pr\\u00e9sent\", \"pr\\u00e9sent\", \"pr\\u00e9sent\", \"pr\\u00e9sent_avis\", \"pr\\u00e9sent_avis\", \"pr\\u00e9sent_avis\", \"pr\\u00e9sent_avis\", \"pr\\u00e9sent_avis\", \"pr\\u00e9sent_avis\", \"pr\\u00e9sent_avis\", \"pr\\u00e9sent_avis\", \"pr\\u00e9sente\", \"pr\\u00e9sente\", \"pr\\u00e9sente\", \"pr\\u00e9sente\", \"pr\\u00e9sente\", \"pr\\u00e9sente\", \"pr\\u00e9sente\", \"pr\\u00e9sente\", \"pr\\u00e9sente\", \"pr\\u00e9sente\", \"pr\\u00e9senter\", \"pr\\u00e9senter\", \"pr\\u00e9sident\", \"pr\\u00e9sident\", \"pr\\u00e9sident\", \"pr\\u00e9sident\", \"pr\\u00e9sident\", \"pr\\u00e9sident\", \"pr\\u00e9sident\", \"pr\\u00e9sident\", \"pr\\u00e9sident\", \"pr\\u00e9sident_communaut\\u00e9\", \"pr\\u00e9sident_communaut\\u00e9\", \"pr\\u00e9sident_communaut\\u00e9\", \"pr\\u00e9sident_communaut\\u00e9\", \"pr\\u00e9sident_communaut\\u00e9\", \"pr\\u00e9sident_universit\\u00e9\", \"pr\\u00e9sident_universit\\u00e9\", \"pr\\u00e9voit_sauf\", \"psychiatriques\", \"publication_ligne\", \"publics\", \"publics\", \"publics\", \"publics\", \"publics\", \"publics\", \"publics\", \"publics\", \"publique\", \"publique\", \"publique\", \"publique\", \"publique\", \"publique\", \"publique\", \"publique\", \"publique\", \"publique\", \"publique_rejeter\", \"publiques_comportant\", \"publiques_soumise\", \"puissent_communiqu\\u00e9es\", \"p\\u00e9titionnaire_\\u00e9labor\\u00e9s\", \"qualification_concernant\", \"qualit\\u00e9\", \"qualit\\u00e9\", \"qualit\\u00e9\", \"qualit\\u00e9\", \"qualit\\u00e9\", \"qualit\\u00e9\", \"qualit\\u00e9\", \"qualit\\u00e9\", \"quartier\", \"quel_support\", \"quel_support\", \"quel_support\", \"rappelle_fois\", \"rappel\\u00e9e\", \"rapport\", \"rapport\", \"rapport\", \"rapport\", \"rapport\", \"rapport\", \"rapport\", \"rapport\", \"rapport\", \"rapport\", \"rapport_analyse\", \"rapport_annuel\", \"rapport_annuel\", \"rapport_annuel\", \"rapport_annuel\", \"rapportent_projet\", \"recherche\", \"recherche\", \"recherche\", \"recherche\", \"recherche\", \"recherche\", \"recherches_effectu\\u00e9es\", \"reconna\\u00eet_droit\", \"recrutement\", \"recueil_page\", \"redevance\", \"redevances\", \"regard_respect\", \"regarder\", \"registre_enqu\\u00eate\", \"rejeter\", \"rejets_susceptibles\", \"relatifs\", \"relatifs\", \"relatifs\", \"relatifs\", \"relatifs\", \"relatifs\", \"relatifs\", \"relatifs\", \"relatifs\", \"relatifs\", \"relations_entre\", \"relations_entre\", \"relations_entre\", \"relations_entre\", \"relations_entre\", \"relations_entre\", \"relations_entre\", \"relations_entre\", \"relations_entre\", \"relations_entre\", \"relations_entre\", \"relations_entre\", \"relative_caract\\u00e8re\", \"relative_caract\\u00e8re\", \"relative_caract\\u00e8re\", \"relative_caract\\u00e8re\", \"relative_caract\\u00e8re\", \"relative_caract\\u00e8re\", \"relative_fonctionnement\", \"relative_informatique\", \"relative_informatique\", \"relatives\", \"relatives\", \"relatives\", \"relatives\", \"relatives\", \"relatives\", \"relatives\", \"relatives\", \"relatives\", \"relatives\", \"relatives\", \"relatives\", \"relatives_environnement\", \"relev\\u00e9s_bancaires\", \"relev\\u00e9s_propri\\u00e9t\\u00e9\", \"rel\\u00e8ve\", \"rel\\u00e8ve\", \"rel\\u00e8ve\", \"rel\\u00e8ve\", \"rel\\u00e8ve\", \"rel\\u00e8ve\", \"rel\\u00e8ve\", \"rel\\u00e8ve\", \"rel\\u00e8ve\", \"rel\\u00e8ve\", \"rel\\u00e8ve\", \"rel\\u00e8ve\", \"rel\\u00e8ve\", \"remise_autorit\\u00e9\", \"rendre_impossible\", \"rendues_publiques\", \"renseignements_information\", \"renseignements_information\", \"reproduction_envoi\", \"reproduction_envoi\", \"reproduction_nuise\", \"reproduction_nuise\", \"reste_compatible\", \"retenues_toute\", \"re\\u00e7u_subvention\", \"re\\u00e7u_subvention\", \"r\\u00e9dig\\u00e9e\", \"r\\u00e9forme\", \"r\\u00e9gime_indemnitaire\", \"r\\u00e9gime_sp\\u00e9cial\", \"r\\u00e9mun\\u00e9ration\", \"r\\u00e9mun\\u00e9ration\", \"r\\u00e9pondre_demandes\", \"r\\u00e9pondre_demandes\", \"r\\u00e9pondre_demandes\", \"r\\u00e9ponse\", \"r\\u00e9ponse\", \"r\\u00e9ponse\", \"r\\u00e9ponse\", \"r\\u00e9ponse\", \"r\\u00e9ponse\", \"r\\u00e9ponse\", \"r\\u00e9ponse\", \"r\\u00e9ponse\", \"r\\u00e9ponse\", \"r\\u00e9ponse\", \"r\\u00e9ponse\", \"r\\u00e9ponse\", \"r\\u00e9pression_fraudes\", \"r\\u00e9sultant\", \"r\\u00e9sultant\", \"r\\u00e9sultant\", \"r\\u00e9sultant\", \"r\\u00e9sultant\", \"r\\u00e9sultant\", \"r\\u00e9sulte_d\\u00e9cision\", \"r\\u00e9sulte_d\\u00e9cision\", \"r\\u00e9sulte_d\\u00e9cision\", \"r\\u00e9utilisation_d\\u00e9finies\", \"r\\u00e9utilisation_informations\", \"r\\u00e9utilisation_informations\", \"r\\u00e9utilisation_informations\", \"r\\u00e9vision_plu\", \"safer\", \"sans\", \"sans\", \"sans\", \"sans\", \"sans\", \"sans\", \"sans\", \"sans\", \"sans\", \"sans\", \"sans\", \"sans_besoin\", \"sans_besoin\", \"sans_consentement\", \"sans_consentement\", \"sans_incidence\", \"sans_incidence\", \"sans_incidence\", \"sans_incidence\", \"sans_objet\", \"sant\\u00e9\", \"sant\\u00e9\", \"sant\\u00e9\", \"sant\\u00e9\", \"sant\\u00e9\", \"sant\\u00e9_d\\u00e9tenues\", \"sant\\u00e9_publique\", \"sant\\u00e9_publique\", \"sant\\u00e9_publique\", \"sant\\u00e9_publique\", \"saurait\", \"saurait\", \"saurait\", \"saurait\", \"savoir_conna\\u00eetre\", \"sdis\", \"second_alin\\u00e9a\", \"second_alin\\u00e9a\", \"secret_affaires\", \"secret_affaires\", \"secret_affaires\", \"secret_mati\\u00e8re\", \"secret_mati\\u00e8re\", \"secret_mati\\u00e8re\", \"secret_mati\\u00e8re\", \"secret_proc\\u00e9d\\u00e9s\", \"secret_proc\\u00e9d\\u00e9s\", \"secteur_activit\\u00e9\", \"sein_h\\u00f4pital\", \"selon\", \"selon\", \"selon\", \"selon\", \"selon\", \"selon\", \"selon\", \"selon\", \"selon\", \"selon\", \"selon\", \"selon_choix\", \"sens\", \"sens\", \"sens\", \"sens\", \"sens\", \"sens\", \"sens\", \"sens\", \"sens\", \"sens\", \"sens\", \"sens\", \"septembre\", \"septembre\", \"septembre\", \"septembre\", \"septembre\", \"septembre\", \"septembre\", \"septembre\", \"septembre\", \"septembre\", \"septembre\", \"septembre_ordres\", \"service\", \"service\", \"service\", \"service\", \"service\", \"service\", \"service\", \"service\", \"service\", \"service\", \"service\", \"service\", \"service\", \"services\", \"services\", \"services\", \"services\", \"services\", \"services\", \"services\", \"services\", \"services\", \"services\", \"services\", \"services\", \"seul\", \"seul\", \"seul\", \"seul\", \"seul\", \"seul\", \"seul\", \"seul\", \"seul\", \"seul\", \"seule_circonstance\", \"seule_circonstance\", \"seulement_certaines\", \"seuls_\\u00e9l\\u00e9ments\", \"seuls_\\u00e9l\\u00e9ments\", \"signalement\", \"silence_loi\", \"situation_familiale\", \"soci\\u00e9t\\u00e9\", \"soci\\u00e9t\\u00e9\", \"soci\\u00e9t\\u00e9\", \"soci\\u00e9t\\u00e9\", \"soci\\u00e9t\\u00e9\", \"soci\\u00e9t\\u00e9\", \"soci\\u00e9t\\u00e9\", \"soci\\u00e9t\\u00e9\", \"soci\\u00e9t\\u00e9\", \"sollicit\\u00e9s\", \"sollicit\\u00e9s\", \"sollicit\\u00e9s\", \"sollicit\\u00e9s\", \"sollicit\\u00e9s\", \"sollicit\\u00e9s\", \"sollicit\\u00e9s\", \"sollicit\\u00e9s\", \"sollicit\\u00e9s\", \"sollicit\\u00e9s\", \"sollicit\\u00e9s\", \"sollicit\\u00e9s\", \"sollicit\\u00e9s\", \"souhaite_autres\", \"souhait\\u00e9s\", \"soumis_droit\", \"soumis_droit\", \"soumis_droit\", \"soumis_droit\", \"soumis_droit\", \"soumis_droit\", \"soumis_enqu\\u00eate\", \"soumis_enqu\\u00eate\", \"sources_date\", \"sous\", \"sous\", \"sous\", \"sous\", \"sous\", \"sous\", \"sous\", \"sous\", \"sous\", \"sous\", \"sous\", \"sous\", \"sous_cote\", \"sous_forme\", \"sous_forme\", \"sous_forme\", \"sous_forme\", \"sous_responsabilit\\u00e9\", \"sous_responsabilit\\u00e9\", \"sous_responsabilit\\u00e9\", \"sous_responsabilit\\u00e9\", \"sous_responsabilit\\u00e9\", \"sous_r\\u00e9serve\", \"sous_r\\u00e9serve\", \"sous_r\\u00e9serve\", \"sous_r\\u00e9serve\", \"sous_r\\u00e9serve\", \"sous_r\\u00e9serve\", \"sous_r\\u00e9serve\", \"sous_r\\u00e9serve\", \"sous_r\\u00e9serve\", \"sous_r\\u00e9serve\", \"sous_r\\u00e9serve\", \"sous_r\\u00e9serve\", \"sous_r\\u00e9serve\", \"sous_r\\u00e9serves\", \"sous_r\\u00e9serves\", \"sous_r\\u00e9serves\", \"sous_r\\u00e9serves\", \"sous_r\\u00e9serves\", \"sous_r\\u00e9serves\", \"sous_r\\u00e9serves\", \"sous_r\\u00e9serves\", \"sous_r\\u00e9serves\", \"sous_r\\u00e9serves\", \"statistiques\", \"statistiques\", \"substances_\\u00e9nergie\", \"subvention\", \"subvention\", \"subvention\", \"suite\", \"suite\", \"suite\", \"suite\", \"suite\", \"suite\", \"suite\", \"suite\", \"suite\", \"suite\", \"suite\", \"suite\", \"suivants\", \"suivants\", \"suivants\", \"suivants\", \"suivants\", \"suivants\", \"suivants\", \"suivants\", \"suivants\", \"suivants\", \"suivants\", \"suivants\", \"suivants\", \"support_identique\", \"support_identique\", \"susceptible_r\\u00e9v\\u00e9ler\", \"susceptible_r\\u00e9v\\u00e9ler\", \"susceptibles_avoir\", \"susceptibles_avoir\", \"syst\\u00e8me_qualit\\u00e9\", \"syst\\u00e9matique\", \"s\\u00e9ance\", \"s\\u00e9ance\", \"s\\u00e9ance\", \"s\\u00e9ance\", \"s\\u00e9ance\", \"s\\u00e9ance\", \"s\\u00e9ance\", \"s\\u00e9ance\", \"s\\u00e9ance\", \"s\\u00e9curit\\u00e9\", \"s\\u00e9curit\\u00e9\", \"s\\u00e9curit\\u00e9\", \"s\\u00e9curit\\u00e9\", \"s\\u00e9curit\\u00e9\", \"s\\u00e9curit\\u00e9_sociale\", \"taxe_fonci\\u00e8re\", \"technique\", \"technique\", \"technique\", \"technique\", \"technique\", \"technique\", \"technique\", \"technique\", \"technique\", \"technique_financier\", \"technique_financier\", \"tel\", \"tel\", \"tel\", \"tel\", \"tel\", \"tel\", \"tel\", \"tel\", \"tel\", \"tel\", \"tel\", \"telle_mission\", \"tenue_donner\", \"termes\", \"termes\", \"termes\", \"termes\", \"termes\", \"termes\", \"termes\", \"termes\", \"termes\", \"termes\", \"territoire_commune\", \"territoire_commune\", \"territoire_commune\", \"territoire_commune\", \"territoire_commune\", \"territoire_commune\", \"territoriale\", \"territoriale\", \"territoriale\", \"territoriale\", \"territoriale\", \"territoriales\", \"territoriales\", \"territoriales\", \"territoriales\", \"territoriales\", \"territoriales\", \"textes_particuliers\", \"textes_particuliers\", \"textes_particuliers\", \"tiers\", \"tiers\", \"tiers\", \"tiers\", \"tiers\", \"tiers\", \"tiers\", \"tiers\", \"tiers\", \"tiers\", \"tirent_qualit\\u00e9\", \"titre\", \"titre\", \"titre\", \"titre\", \"titre\", \"titre\", \"titre\", \"titre\", \"titre\", \"titre\", \"titre\", \"titre\", \"titre_liminaire\", \"titre_liminaire\", \"titre_liminaire\", \"titre_liminaire\", \"titre_liminaire\", \"titre_liminaire\", \"titre_liminaire\", \"titre_liminaire\", \"titre_liminaire\", \"titre_liminaire\", \"titre_s\\u00e9jour\", \"total\", \"total\", \"tout\", \"tout\", \"tout\", \"tout\", \"tout\", \"tout\", \"tout\", \"tout\", \"tout\", \"tout\", \"tout\", \"tout_administr\\u00e9\", \"tout_membre\", \"tout_organisme\", \"tout_organisme\", \"tout_\\u00e9l\\u00e9ment\", \"toute\", \"toute\", \"toute\", \"toute\", \"toute\", \"toute\", \"toute\", \"toute\", \"toute\", \"toute\", \"toute\", \"toute\", \"toute_mention\", \"toute_mention\", \"toute_mention\", \"toute_personne\", \"toute_personne\", \"toute_personne\", \"toute_personne\", \"toute_personne\", \"toute_personne\", \"toute_personne\", \"toute_personne\", \"toute_personne\", \"toute_personne\", \"toute_personne\", \"toute_personne\", \"traitement\", \"traitement\", \"traitement\", \"traitement\", \"traitement\", \"traitement\", \"traitement\", \"traitement\", \"traitement_automatis\\u00e9\", \"traitement_automatis\\u00e9\", \"traitement_automatis\\u00e9\", \"traitement_automatis\\u00e9\", \"traitements_automatis\\u00e9s\", \"transmis\", \"transmis\", \"transmis\", \"transmis\", \"transmis\", \"transmis\", \"transmis\", \"transmis\", \"transmis\", \"transmis\", \"transmis\", \"travail\", \"travail\", \"travail\", \"travail\", \"travail\", \"travail\", \"travail\", \"travail\", \"travail\", \"travail\", \"travaux\", \"travaux\", \"travaux\", \"travaux\", \"travaux\", \"travaux\", \"urbanisme\", \"urbanisme\", \"urbanisme\", \"usage\", \"usage\", \"usage\", \"usage\", \"usage\", \"usage_courant\", \"usage_courant\", \"usage_courant\", \"usage_courant\", \"utile\", \"utilisation\", \"utilisation\", \"va_bordereau\", \"va_particulier\", \"valeur_port\\u00e9\", \"venir_consulter\", \"venir_consulter\", \"vertu\", \"vertu\", \"vertu\", \"vertu\", \"vertu\", \"vertu\", \"vertu\", \"vertu\", \"vertu\", \"vie_priv\\u00e9e\", \"vie_priv\\u00e9e\", \"vie_priv\\u00e9e\", \"vie_priv\\u00e9e\", \"vie_priv\\u00e9e\", \"visa\", \"visa\", \"visa\", \"voie_postale\", \"voie_postale\", \"volume\", \"volume\", \"volume\", \"vu_duquel\", \"vu_duquel\", \"vue_procurer\", \"xxx\", \"xxx\", \"xxx\", \"xxx\", \"xxx\", \"xxx\", \"xxx\", \"xxx\", \"xxx\", \"xxx\", \"xxx_xxx\", \"xxx_xxx\", \"xxx_xxx\", \"\\u00e9conomiques\", \"\\u00e9conomiques\", \"\\u00e9conomiques_financi\\u00e8res\", \"\\u00e9ducation\", \"\\u00e9ducation\", \"\\u00e9ducation\", \"\\u00e9galement\", \"\\u00e9galement\", \"\\u00e9galement\", \"\\u00e9galement\", \"\\u00e9galement\", \"\\u00e9galement\", \"\\u00e9galement\", \"\\u00e9galement\", \"\\u00e9galement\", \"\\u00e9galement\", \"\\u00e9galement\", \"\\u00e9galement\", \"\\u00e9galement\", \"\\u00e9galement_regard\\u00e9e\", \"\\u00e9laboration_plu\", \"\\u00e9lecteur\", \"\\u00e9lectoral\", \"\\u00e9lectoral\", \"\\u00e9lectorales\", \"\\u00e9lectronique\", \"\\u00e9lectronique\", \"\\u00e9lectronique\", \"\\u00e9lectronique\", \"\\u00e9lectronique\", \"\\u00e9lectronique\", \"\\u00e9lectronique\", \"\\u00e9lectronique\", \"\\u00e9l\\u00e9ments\", \"\\u00e9l\\u00e9ments\", \"\\u00e9l\\u00e9ments\", \"\\u00e9l\\u00e9ments\", \"\\u00e9l\\u00e9ments\", \"\\u00e9l\\u00e9ments\", \"\\u00e9l\\u00e9ments\", \"\\u00e9l\\u00e9ments\", \"\\u00e9l\\u00e9ments\", \"\\u00e9l\\u00e9ments\", \"\\u00e9l\\u00e9ments\", \"\\u00e9l\\u00e9ments\", \"\\u00e9l\\u00e9ments_port\\u00e9s\", \"\\u00e9l\\u00e9ments_refl\\u00e8tent\", \"\\u00e9met\", \"\\u00e9met\", \"\\u00e9met\", \"\\u00e9met\", \"\\u00e9met\", \"\\u00e9met\", \"\\u00e9met\", \"\\u00e9met\", \"\\u00e9met\", \"\\u00e9met\", \"\\u00e9met\", \"\\u00e9met\", \"\\u00e9met\", \"\\u00e9met_donc\", \"\\u00e9met_donc\", \"\\u00e9met_donc\", \"\\u00e9met_donc\", \"\\u00e9met_donc\", \"\\u00e9met_donc\", \"\\u00e9met_donc\", \"\\u00e9met_donc\", \"\\u00e9met_donc\", \"\\u00e9met_donc\", \"\\u00e9met_donc\", \"\\u00e9met_donc\", \"\\u00e9met_donc\", \"\\u00e9missions_substances\", \"\\u00e9tablies_autorit\\u00e9s\", \"\\u00e9tablissement\", \"\\u00e9tablissement\", \"\\u00e9tablissement\", \"\\u00e9tablissement\", \"\\u00e9tablissement\", \"\\u00e9tablissement\", \"\\u00e9tablissement\", \"\\u00e9tablissement\", \"\\u00e9tablissement\", \"\\u00e9tablissement\", \"\\u00e9tablissement\", \"\\u00e9tablissements\", \"\\u00e9tablissements\", \"\\u00e9tablissements\", \"\\u00e9tablissements\", \"\\u00e9tablissements\", \"\\u00e9tablissements\", \"\\u00e9tablissements_enseignement\", \"\\u00e9tablissements_enseignement\", \"\\u00e9tat\", \"\\u00e9tat\", \"\\u00e9tat\", \"\\u00e9tat\", \"\\u00e9tat\", \"\\u00e9tat\", \"\\u00e9tat\", \"\\u00e9tat\", \"\\u00e9tat\", \"\\u00e9tat\", \"\\u00e9tat\", \"\\u00e9tat\", \"\\u00e9tat_avancement\", \"\\u00e9tat_civil\", \"\\u00e9tat_civil\", \"\\u00e9tat_obtenu\", \"\\u00e9ventuellement_d\\u00e9tenus\", \"\\u00e9ventuellement_d\\u00e9tenus\"]}, \"R\": 30, \"lambda.step\": 0.01, \"plot.opts\": {\"xlab\": \"PC1\", \"ylab\": \"PC2\"}, \"topic.order\": [4, 1, 5, 13, 10, 7, 11, 6, 12, 8, 2, 3, 9]};\n",
       "\n",
       "function LDAvis_load_lib(url, callback){\n",
       "  var s = document.createElement('script');\n",
       "  s.src = url;\n",
       "  s.async = true;\n",
       "  s.onreadystatechange = s.onload = callback;\n",
       "  s.onerror = function(){console.warn(\"failed to load library \" + url);};\n",
       "  document.getElementsByTagName(\"head\")[0].appendChild(s);\n",
       "}\n",
       "\n",
       "if(typeof(LDAvis) !== \"undefined\"){\n",
       "   // already loaded: just create the visualization\n",
       "   !function(LDAvis){\n",
       "       new LDAvis(\"#\" + \"ldavis_el916961132346688808019022567\", ldavis_el916961132346688808019022567_data);\n",
       "   }(LDAvis);\n",
       "}else if(typeof define === \"function\" && define.amd){\n",
       "   // require.js is available: use it to load d3/LDAvis\n",
       "   require.config({paths: {d3: \"https://cdnjs.cloudflare.com/ajax/libs/d3/3.5.5/d3.min\"}});\n",
       "   require([\"d3\"], function(d3){\n",
       "      window.d3 = d3;\n",
       "      LDAvis_load_lib(\"https://cdn.rawgit.com/bmabey/pyLDAvis/files/ldavis.v1.0.0.js\", function(){\n",
       "        new LDAvis(\"#\" + \"ldavis_el916961132346688808019022567\", ldavis_el916961132346688808019022567_data);\n",
       "      });\n",
       "    });\n",
       "}else{\n",
       "    // require.js not available: dynamically load d3 & LDAvis\n",
       "    LDAvis_load_lib(\"https://cdnjs.cloudflare.com/ajax/libs/d3/3.5.5/d3.min.js\", function(){\n",
       "         LDAvis_load_lib(\"https://cdn.rawgit.com/bmabey/pyLDAvis/files/ldavis.v1.0.0.js\", function(){\n",
       "                 new LDAvis(\"#\" + \"ldavis_el916961132346688808019022567\", ldavis_el916961132346688808019022567_data);\n",
       "            })\n",
       "         });\n",
       "}\n",
       "</script>"
      ],
      "text/plain": [
       "<IPython.core.display.HTML object>"
      ]
     },
     "execution_count": 233,
     "metadata": {},
     "output_type": "execute_result"
    }
   ],
   "source": [
    "vis = pyLDAvis.gensim.prepare(topic_model=lda_model, corpus=corpus, dictionary=dictionary_LDA)\n",
    "pyLDAvis.enable_notebook()\n",
    "pyLDAvis.display(vis)"
   ]
  },
  {
   "cell_type": "markdown",
   "metadata": {},
   "source": [
    "# Partie 3 (pour aller plus loin) :  prédiction du sens de la décision à partir du texte de l'avis "
   ]
  },
  {
   "cell_type": "code",
   "execution_count": 46,
   "metadata": {},
   "outputs": [],
   "source": [
    "# première étape: simplifier la colonne \"sens et motivation\" en un petit nombre de catégorie\n",
    "df = df.dropna(subset = [\"Sens et motivation\"]) # on supprime les colonnes qui n'ont pas de valeur pour sens et motivation\n",
    "\n",
    "# on \n",
    "df[\"sens_token\"] = df[\"Sens et motivation\"].map(lambda x: word_tokenize(x.lower().replace(\"'\", \" \").replace(\"/\", \" \")))\n"
   ]
  },
  {
   "cell_type": "code",
   "execution_count": 47,
   "metadata": {},
   "outputs": [],
   "source": [
    "df[\"nb_tokens_motivation\"] = df[\"sens_token\"].map(len)"
   ]
  },
  {
   "cell_type": "code",
   "execution_count": 48,
   "metadata": {},
   "outputs": [
    {
     "data": {
      "text/plain": [
       "count    38271.000000\n",
       "mean         4.047373\n",
       "std          3.886343\n",
       "min          1.000000\n",
       "25%          1.000000\n",
       "50%          3.000000\n",
       "75%          5.000000\n",
       "max         49.000000\n",
       "Name: nb_tokens_motivation, dtype: float64"
      ]
     },
     "execution_count": 48,
     "metadata": {},
     "output_type": "execute_result"
    }
   ],
   "source": [
    "df[\"nb_tokens_motivation\"].describe()"
   ]
  },
  {
   "cell_type": "code",
   "execution_count": 49,
   "metadata": {},
   "outputs": [],
   "source": [
    "# on cherche les tokens les plus représentés: \n",
    "from sklearn.feature_extraction.text import CountVectorizer"
   ]
  },
  {
   "cell_type": "code",
   "execution_count": 50,
   "metadata": {},
   "outputs": [
    {
     "data": {
      "text/plain": [
       "CountVectorizer(analyzer='word', binary=False, decode_error='strict',\n",
       "                dtype=<class 'numpy.int64'>, encoding='utf-8', input='content',\n",
       "                lowercase=True, max_df=1.0, max_features=None, min_df=1,\n",
       "                ngram_range=(1, 1), preprocessor=None, stop_words=None,\n",
       "                strip_accents=None, token_pattern='(?u)\\\\b\\\\w\\\\w+\\\\b',\n",
       "                tokenizer=None, vocabulary=None)"
      ]
     },
     "execution_count": 50,
     "metadata": {},
     "output_type": "execute_result"
    }
   ],
   "source": [
    "vect = CountVectorizer()\n",
    "vect.fit(df[\"Sens et motivation\"])"
   ]
  },
  {
   "cell_type": "code",
   "execution_count": 51,
   "metadata": {},
   "outputs": [
    {
     "name": "stdout",
     "output_type": "stream",
     "text": [
      "Vocabulary size: 101\n",
      "Vocabulary content:\n",
      " {'défavorable': 31, 'défense': 32, 'irrecevable': 51, 'imprécise': 44, 'incompétence': 47, 'renseignement': 83, 'procédure': 73, 'sans': 86, 'objet': 65, 'sécurité': 92, 'publique': 81, 'favorable': 41, 'sauf': 87, 'préparatoire': 79, 'secret': 88, 'abusive': 1, 'vie': 97, 'privée': 72, 'commercial': 15, 'industriel': 48, 'judiciaire': 52, 'cnil': 14, 'loi': 57, 'spéciale': 91, 'mandat': 61, 'juridictionnel': 53, 'inexistant': 49, 'déliberation': 33, 'communiqué': 17, 'diplomatie': 25, 'privé': 71, 'refus': 82, 'non': 64, 'établi': 99, 'abonnement': 0, 'motivation': 63, 'inachevé': 45, 'appréciation': 3, 'comportement': 18, 'établissement': 100, 'de': 21, 'document': 27, 'si': 90, 'vous': 98, 'produisez': 74, 'un': 95, 'la': 55, 'personne': 69, 'concernée': 20, 'mal': 60, 'dirigée': 26, 'délibération': 34, 'hors': 43, 'champ': 13, 'détruit': 36, 'fiscal': 42, 'douanier': 30, 'avis': 10, 'ce': 12, 'archives': 4, 'préalable': 77, 'article': 5, 'auto': 8, 'pub': 80, 'communication': 16, 'entre': 38, 'services': 89, 'perdu': 68, 'documentation': 28, 'par': 67, 'autorité': 9, 'compétente': 19, 'laquelle': 56, 'auriez': 7, 'dû': 37, 'transmettre': 94, 'diffusion': 24, 'représentant': 84, 'légal': 58, 'demandé': 22, 'mineur': 62, 'ou': 66, 'majeur': 59, 'incapable': 46, 'révision': 85, 'prématurée': 78, 'tardive': 93, 'l311': 54, 'articles': 6, 'et': 40, 'usage': 96, 'dérogation': 35, 'propriété': 75, 'intellectuelle': 50, 'des': 23, 'affaires': 2, 'environnement': 39, 'données': 29, 'caractère': 11, 'personnel': 70, 'protocole': 76}\n"
     ]
    }
   ],
   "source": [
    "print(\"Vocabulary size: {}\".format(len(vect.vocabulary_)))\n",
    "print(\"Vocabulary content:\\n {}\".format(vect.vocabulary_))\n",
    "dict_vocabulary = vect.vocabulary_"
   ]
  },
  {
   "cell_type": "code",
   "execution_count": 83,
   "metadata": {},
   "outputs": [],
   "source": [
    "def sens_categorie(x): \n",
    "    if \"défavorable\" in x: \n",
    "        return \"defavorable\"\n",
    "    elif \"favorable\" in x: \n",
    "        return \"favorable\"\n",
    "    elif \"incompétence\" in x: \n",
    "        return \"incompetence\"\n",
    "    elif \"irrecevable\" in x: \n",
    "        return \"incompetence\"\n",
    "    elif (\"sans\" in x) and (\"objet\" in x):\n",
    "        return \"sans_objet\"\n",
    "    else: \n",
    "        return \"autre\"\n",
    "    \n",
    "df[\"sens_categorie\"] = df[\"sens_token\"].map(sens_categorie)"
   ]
  },
  {
   "cell_type": "code",
   "execution_count": 137,
   "metadata": {},
   "outputs": [
    {
     "data": {
      "text/plain": [
       "favorable       22739\n",
       "sans_objet       7128\n",
       "defavorable      5055\n",
       "incompetence     3349\n",
       "Name: sens_categorie, dtype: int64"
      ]
     },
     "execution_count": 137,
     "metadata": {},
     "output_type": "execute_result"
    }
   ],
   "source": [
    "df[\"sens_categorie\"].value_counts()"
   ]
  },
  {
   "cell_type": "code",
   "execution_count": null,
   "metadata": {},
   "outputs": [],
   "source": [
    "# model prediction using \n",
    "# - term frequency matrix from text of avis\n",
    "# - tf-idf from the text of avis"
   ]
  },
  {
   "cell_type": "code",
   "execution_count": 117,
   "metadata": {},
   "outputs": [],
   "source": [
    "from sklearn.model_selection import train_test_split\n",
    "from sklearn.feature_extraction.text import CountVectorizer, TfidfVectorizer"
   ]
  },
  {
   "cell_type": "code",
   "execution_count": 99,
   "metadata": {},
   "outputs": [],
   "source": [
    "df[\"text\"] = df[\"avis_word_token\"].map(lambda x: \" \".join(x))"
   ]
  },
  {
   "cell_type": "code",
   "execution_count": 100,
   "metadata": {},
   "outputs": [],
   "source": [
    "# split train / test data \n",
    "text_train, text_test, y_train, y_test = train_test_split(df[\"text\"], df[\"sens_categorie\"], test_size = 0.2, random_state = 42)\n"
   ]
  },
  {
   "cell_type": "code",
   "execution_count": null,
   "metadata": {},
   "outputs": [],
   "source": [
    "# First : tf matrix "
   ]
  },
  {
   "cell_type": "code",
   "execution_count": 108,
   "metadata": {},
   "outputs": [
    {
     "name": "stdout",
     "output_type": "stream",
     "text": [
      "X_train:\n",
      "<30616x8972 sparse matrix of type '<class 'numpy.int64'>'\n",
      "\twith 3622222 stored elements in Compressed Sparse Row format>\n"
     ]
    }
   ],
   "source": [
    "vect = CountVectorizer(min_df = 10).fit(text_train)\n",
    "X_train = vect.transform(text_train)\n",
    "print(\"X_train:\\n{}\".format(repr(X_train)))"
   ]
  },
  {
   "cell_type": "code",
   "execution_count": 110,
   "metadata": {},
   "outputs": [
    {
     "name": "stdout",
     "output_type": "stream",
     "text": [
      "Number of features: 8972\n",
      "First 20 features:\n",
      "['aa', 'aadecaa', 'ab', 'abandon', 'abandonné', 'abandonnée', 'abandonnés', 'abattage', 'abbaye', 'abbé', 'abf', 'abidjan', 'abonnement', 'abonnements', 'abonné', 'abonnés', 'abord', 'abords', 'abouti', 'aboutir']\n",
      "Every 2000th feature:\n",
      "['aa', 'conteste', 'images', 'pluvial', 'susmentionnés']\n"
     ]
    }
   ],
   "source": [
    "feature_names = vect.get_feature_names()\n",
    "print(\"Number of features: {}\".format(len(feature_names)))\n",
    "print(\"First 20 features:\\n{}\".format(feature_names[:20]))\n",
    "print(\"Every 2000th feature:\\n{}\".format(feature_names[::2000]))"
   ]
  },
  {
   "cell_type": "code",
   "execution_count": 111,
   "metadata": {},
   "outputs": [
    {
     "name": "stdout",
     "output_type": "stream",
     "text": [
      "Mean cross-validation accuracy: 0.77\n"
     ]
    }
   ],
   "source": [
    "from sklearn.model_selection import cross_val_score\n",
    "from sklearn.linear_model import LogisticRegression\n",
    "from sklearn.naive_bayes import MultinomialNB\n",
    "scores = cross_val_score(MultinomialNB(), X_train, y_train, cv=5)\n",
    "print(\"Mean cross-validation accuracy: {:.2f}\".format(np.mean(scores)))"
   ]
  },
  {
   "cell_type": "code",
   "execution_count": 115,
   "metadata": {},
   "outputs": [
    {
     "name": "stdout",
     "output_type": "stream",
     "text": [
      "Best cross-validation score: 0.80\n",
      "Best parameters:  {'alpha': 20}\n"
     ]
    }
   ],
   "source": [
    "from sklearn.model_selection import GridSearchCV\n",
    "param_grid = {'alpha': [0.001, 0.01, 0.1, 1, 10, 12, 14, 16, 20, 30, 40]}\n",
    "grid = GridSearchCV(MultinomialNB(), param_grid, cv=5)\n",
    "grid.fit(X_train, y_train)\n",
    "print(\"Best cross-validation score: {:.2f}\".format(grid.best_score_))\n",
    "print(\"Best parameters: \", grid.best_params_)\n",
    "\n"
   ]
  },
  {
   "cell_type": "code",
   "execution_count": 116,
   "metadata": {},
   "outputs": [
    {
     "name": "stdout",
     "output_type": "stream",
     "text": [
      "Test score: 0.81\n"
     ]
    }
   ],
   "source": [
    "X_test = vect.transform(text_test)\n",
    "print(\"Test score: {:.2f}\".format(grid.score(X_test, y_test)))"
   ]
  },
  {
   "cell_type": "code",
   "execution_count": null,
   "metadata": {},
   "outputs": [],
   "source": [
    "# Second : tf-idfmatrix "
   ]
  },
  {
   "cell_type": "code",
   "execution_count": 132,
   "metadata": {},
   "outputs": [
    {
     "name": "stdout",
     "output_type": "stream",
     "text": [
      "X_train:\n",
      "<30616x7478 sparse matrix of type '<class 'numpy.float64'>'\n",
      "\twith 3604683 stored elements in Compressed Sparse Row format>\n"
     ]
    }
   ],
   "source": [
    "vect = TfidfVectorizer(min_df = 15).fit(text_train)\n",
    "X_train = vect.transform(text_train)\n",
    "print(\"X_train:\\n{}\".format(repr(X_train)))"
   ]
  },
  {
   "cell_type": "code",
   "execution_count": 133,
   "metadata": {},
   "outputs": [
    {
     "name": "stdout",
     "output_type": "stream",
     "text": [
      "Number of features: 7478\n",
      "First 20 features:\n",
      "['aadecaa', 'ab', 'abandon', 'abandonné', 'abandonnée', 'abattage', 'abonnement', 'abonnés', 'abord', 'abords', 'abouti', 'aboutir', 'aboutissant', 'abri', 'abrogation', 'abrogeant', 'abrogé', 'absence', 'absences', 'absents']\n",
      "Every 2000th feature:\n",
      "['aadecaa', 'directive', 'lyon', 'règles']\n"
     ]
    }
   ],
   "source": [
    "feature_names = vect.get_feature_names()\n",
    "print(\"Number of features: {}\".format(len(feature_names)))\n",
    "print(\"First 20 features:\\n{}\".format(feature_names[:20]))\n",
    "print(\"Every 2000th feature:\\n{}\".format(feature_names[::2000]))"
   ]
  },
  {
   "cell_type": "code",
   "execution_count": 134,
   "metadata": {},
   "outputs": [
    {
     "name": "stdout",
     "output_type": "stream",
     "text": [
      "Mean cross-validation accuracy: 0.79\n"
     ]
    }
   ],
   "source": [
    "from sklearn.model_selection import cross_val_score\n",
    "from sklearn.linear_model import LogisticRegression\n",
    "from sklearn.naive_bayes import MultinomialNB\n",
    "scores = cross_val_score(MultinomialNB(), X_train, y_train, cv=5)\n",
    "print(\"Mean cross-validation accuracy: {:.2f}\".format(np.mean(scores)))"
   ]
  },
  {
   "cell_type": "code",
   "execution_count": 135,
   "metadata": {},
   "outputs": [
    {
     "name": "stdout",
     "output_type": "stream",
     "text": [
      "Best cross-validation score: 0.79\n",
      "Best parameters:  {'alpha': 0.8}\n"
     ]
    }
   ],
   "source": [
    "from sklearn.model_selection import GridSearchCV\n",
    "param_grid = {'alpha': [0.001, 0.01, 0.1, 0.2, 0.4, 0.5, 0.55, 0.6, 0.65, 0.7, 0.8, 1, 10, 12, 14, 16, 20, 30, 40]}\n",
    "grid = GridSearchCV(MultinomialNB(), param_grid, cv=5)\n",
    "grid.fit(X_train, y_train)\n",
    "print(\"Best cross-validation score: {:.2f}\".format(grid.best_score_))\n",
    "print(\"Best parameters: \", grid.best_params_)\n",
    "\n"
   ]
  },
  {
   "cell_type": "code",
   "execution_count": 136,
   "metadata": {},
   "outputs": [
    {
     "name": "stdout",
     "output_type": "stream",
     "text": [
      "Test score: 0.79\n"
     ]
    }
   ],
   "source": [
    "X_test = vect.transform(text_test)\n",
    "print(\"Test score: {:.2f}\".format(grid.score(X_test, y_test)))"
   ]
  },
  {
   "cell_type": "code",
   "execution_count": null,
   "metadata": {},
   "outputs": [],
   "source": []
  }
 ],
 "metadata": {
  "colab": {
   "authorship_tag": "ABX9TyNEL6x0Kfsdvmbf+E371X9g",
   "include_colab_link": true,
   "name": "ami_ia-NLP.ipynb",
   "provenance": []
  },
  "kernelspec": {
   "display_name": "Python 3",
   "language": "python",
   "name": "python3"
  },
  "language_info": {
   "codemirror_mode": {
    "name": "ipython",
    "version": 3
   },
   "file_extension": ".py",
   "mimetype": "text/x-python",
   "name": "python",
   "nbconvert_exporter": "python",
   "pygments_lexer": "ipython3",
   "version": "3.7.4"
  }
 },
 "nbformat": 4,
 "nbformat_minor": 1
}
