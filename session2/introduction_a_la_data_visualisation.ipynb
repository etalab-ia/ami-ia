{
  "nbformat": 4,
  "nbformat_minor": 0,
  "metadata": {
    "colab": {
      "name": "Copie de ami_ia-dataviz.ipynb",
      "provenance": [],
      "include_colab_link": true
    },
    "kernelspec": {
      "display_name": "ami-ia",
      "language": "python",
      "name": "ami-ia"
    },
    "language_info": {
      "codemirror_mode": {
        "name": "ipython",
        "version": 3
      },
      "file_extension": ".py",
      "mimetype": "text/x-python",
      "name": "python",
      "nbconvert_exporter": "python",
      "pygments_lexer": "ipython3",
      "version": "3.8.3"
    }
  },
  "cells": [
    {
      "cell_type": "markdown",
      "metadata": {
        "id": "view-in-github",
        "colab_type": "text"
      },
      "source": [
        "<a href=\"https://colab.research.google.com/github/etalab-ia/ami-ia/blob/master/session2/introduction_a_la_data_visualisation.ipynb\" target=\"_parent\"><img src=\"https://colab.research.google.com/assets/colab-badge.svg\" alt=\"Open In Colab\"/></a>"
      ]
    },
    {
      "cell_type": "markdown",
      "metadata": {
        "colab_type": "text",
        "id": "uWQqsdyX9gzj"
      },
      "source": [
        "# Premiers pas avec Jupyter Notebook et Pandas \n",
        "## Introduction\n",
        "La visualisation de données est la **représentation graphique des données**. L'information est communiquée sous forme visuelle pour **faciliter son assimilation, permettre la prise de décision, faire des opérations de contrôle**. \n",
        "\n",
        "Il y a plusieurs raisons intéressantes de travailler avec Python et Pandas pour analyser et visualiser nos données. Les deux raisons principales sont :\n",
        "- L'**automatisation** des traitements,\n",
        "- La manipulation d'un **grand nombre** de données. \n",
        "\n",
        "En effet les outils généralement maitrisés par les acteurs métier opérationnels, come **Excel**, ne sont pas adaptés à ces deux raisons. Dès lors, on peut considérer qu'il devient intéressant de consacrer du temps à apprendre un outil informatique permettant d'automatiser des traitements ennuyant. Un outil parfait pour ce genre d'utilisation est **Python** car il sait s'adapter à de nombreux cas de figure. En effet de nombreuses bibliothèques existent pour des utilisations très variées et sont maintenues par la communauté. Voir à ce sujet le site pour [automatiser les trucs ennuyants](https://automatetheboringstuff.com/). Pour une introduction à Python on peut consulter [OpenClassRoom](https://openclassrooms.com/fr/courses/235344-apprenez-a-programmer-en-python) et compléter avec un cours sur les [librairies pour la DataScience](https://openclassrooms.com/fr/courses/4452741-decouvrez-les-librairies-python-pour-la-data-science).\n",
        "\n",
        "Dans le cadre de l'analyse de données, les bibliothèques fréquemment utilisés sont Numpy (calcul numérique) Pandas (création de tables de données), scipy (outils mathématiques) et Matplotlib (visualisation de données). \n",
        "\n",
        "## Objectif \n",
        "L'objectif de ce Notebook est de faire un rapide tour des différents outils à notre disposition et d'en présenter l'utilisation lors d'un cas d'usage de la vie de tous les jours. L'idée n'est pas de sortir de ce Notebook en étant un expert de Python mais d'avoir une idée des cas d'usage du langage dans votre travail de tous les jours. \n",
        "1. Charger et comprendre les données\n",
        "2. Agréger et nettoyer les données\n",
        "3. Visualiser et présenter les données\n",
        "\n",
        "## Cas d'usage\n",
        "Un exemple avec le jeu de données Alim'Confiance de datagouv à télécharger [ici](https://dgal.opendatasoft.com/explore/dataset/export_alimconfiance/export/?disjunctive.app_libelle_activite_etablissement&disjunctive.filtre&disjunctive.ods_type_activite) \n",
        "\n",
        "### Situation \n",
        "Notre but est de contrôler l'inspection des restaurants. On s'est fixé les KPI suivants et on aimerait pouvoir les suivre :\n",
        "* Taux de contrôles à améliorer ou à corriger par rapport aux controles effectués. \n",
        "\n",
        "* Nombre de controles mensuels par région : nous voulons contrôler que les régions effectuent assez de contrôles par rapport au nombre de restaurants de la région\n"
      ]
    },
    {
      "cell_type": "markdown",
      "metadata": {
        "id": "pnZgXeKvhCdn",
        "colab_type": "text"
      },
      "source": [
        "# 0. Pour visualiser des données, il nous faut des données \n"
      ]
    },
    {
      "cell_type": "markdown",
      "metadata": {
        "id": "6bTHUa8yPDLC",
        "colab_type": "text"
      },
      "source": [
        "## Commençons par charger les bibliothèques qui vont nous être utiles pour le projet "
      ]
    },
    {
      "cell_type": "code",
      "metadata": {
        "colab_type": "code",
        "id": "weMUWEo_-c5o",
        "outputId": "1b9b7d3e-a0ea-4f92-d26a-4313461c3e57",
        "colab": {
          "base_uri": "https://localhost:8080/",
          "height": 70
        }
      },
      "source": [
        "import numpy as np #pour faire des calculs sur les matrices\n",
        "import pandas as pd # pour manipuler des tableaux de donnée\n",
        "import matplotlib.pyplot as plt # pour les graph\n",
        "import seaborn as sns # pour faire des graph plus esthétiques"
      ],
      "execution_count": 1,
      "outputs": [
        {
          "output_type": "stream",
          "text": [
            "/usr/local/lib/python3.6/dist-packages/statsmodels/tools/_testing.py:19: FutureWarning: pandas.util.testing is deprecated. Use the functions in the public API at pandas.testing instead.\n",
            "  import pandas.util.testing as tm\n"
          ],
          "name": "stderr"
        }
      ]
    },
    {
      "cell_type": "markdown",
      "metadata": {
        "id": "m0nW3yeVNlMP",
        "colab_type": "text"
      },
      "source": [
        "## Les données sont récupérées depuis data.gouv et importées dans le github pour pouvoir les garder sous la main"
      ]
    },
    {
      "cell_type": "markdown",
      "metadata": {
        "id": "FkA36U2cOJOJ",
        "colab_type": "text"
      },
      "source": [
        "![import des données](https://github.com/etalab-ia/ami-ia/blob/master/session2/images/data_datagouv.PNG?raw=true)\n",
        "\n",
        "![copie sur Git](https://github.com/etalab-ia/ami-ia/blob/master/session2/images/data_on_git.PNG?raw=true)"
      ]
    },
    {
      "cell_type": "markdown",
      "metadata": {
        "id": "kX3nfbEEPHvA",
        "colab_type": "text"
      },
      "source": [
        "Vous pouvez les retrouver [ici](https://github.com/etalab-ia/ami-ia/tree/master/session2/data)"
      ]
    },
    {
      "cell_type": "markdown",
      "metadata": {
        "id": "gQ0cusKOPB70",
        "colab_type": "text"
      },
      "source": [
        "## Charger les données \n",
        "L'avantage avec Pandas c'est qu'on peut très facilement charger les données depuis différents formats (csv, txt, json, zip) et différentes locations (local, en ligne), pour ensuite pouvoir les manipuler grâce à un objet DataFrame"
      ]
    },
    {
      "cell_type": "code",
      "metadata": {
        "colab_type": "code",
        "id": "oEUcivtuY0S6",
        "colab": {}
      },
      "source": [
        "# lire le jeu de données en un objet \"pandas dataframe\"\n",
        "df = pd.read_csv('https://raw.githubusercontent.com/etalab-ia/ami-ia/master/session2/data/export_alimconfiance.csv', sep = \";\", header = 0)"
      ],
      "execution_count": 0,
      "outputs": []
    },
    {
      "cell_type": "markdown",
      "metadata": {
        "id": "jSjSVt-PhCd3",
        "colab_type": "text"
      },
      "source": [
        "## Comprendre les données "
      ]
    },
    {
      "cell_type": "code",
      "metadata": {
        "colab_type": "code",
        "id": "v4fFBEoYaB1h",
        "outputId": "151b167f-2e23-46c4-ce85-3e520dcb4f47",
        "colab": {
          "base_uri": "https://localhost:8080/",
          "height": 316
        }
      },
      "source": [
        "# commande qui permet de visualiser les n premieres lignes d'une dataframe (5 par défaut)\n",
        "df.head()"
      ],
      "execution_count": 3,
      "outputs": [
        {
          "output_type": "execute_result",
          "data": {
            "text/html": [
              "<div>\n",
              "<style scoped>\n",
              "    .dataframe tbody tr th:only-of-type {\n",
              "        vertical-align: middle;\n",
              "    }\n",
              "\n",
              "    .dataframe tbody tr th {\n",
              "        vertical-align: top;\n",
              "    }\n",
              "\n",
              "    .dataframe thead th {\n",
              "        text-align: right;\n",
              "    }\n",
              "</style>\n",
              "<table border=\"1\" class=\"dataframe\">\n",
              "  <thead>\n",
              "    <tr style=\"text-align: right;\">\n",
              "      <th></th>\n",
              "      <th>APP_Libelle_etablissement</th>\n",
              "      <th>SIRET</th>\n",
              "      <th>Code_postal</th>\n",
              "      <th>Libelle_commune</th>\n",
              "      <th>Numero_inspection</th>\n",
              "      <th>Date_inspection</th>\n",
              "      <th>APP_Libelle_activite_etablissement</th>\n",
              "      <th>Synthese_eval_sanit</th>\n",
              "      <th>Agrement</th>\n",
              "      <th>geores</th>\n",
              "      <th>filtre</th>\n",
              "      <th>ods_adresse</th>\n",
              "      <th>ods_type_activite</th>\n",
              "    </tr>\n",
              "  </thead>\n",
              "  <tbody>\n",
              "    <tr>\n",
              "      <th>0</th>\n",
              "      <td>LE GAULOIS</td>\n",
              "      <td>84752155600013</td>\n",
              "      <td>13100.0</td>\n",
              "      <td>AIX EN PROVENCE</td>\n",
              "      <td>2</td>\n",
              "      <td>2019-05-22T13:00:00+02:00</td>\n",
              "      <td>Restaurant</td>\n",
              "      <td>Très satisfaisant</td>\n",
              "      <td>NaN</td>\n",
              "      <td>43.531956,5.4468</td>\n",
              "      <td>Restaurant</td>\n",
              "      <td>34 rue Jacques de la Roque</td>\n",
              "      <td>Autres</td>\n",
              "    </tr>\n",
              "    <tr>\n",
              "      <th>1</th>\n",
              "      <td>LE CARDEUR DE BACCHUS</td>\n",
              "      <td>82183401700013</td>\n",
              "      <td>13100.0</td>\n",
              "      <td>AIX EN PROVENCE</td>\n",
              "      <td>3</td>\n",
              "      <td>2019-05-24T13:30:00+02:00</td>\n",
              "      <td>Restaurant</td>\n",
              "      <td>Très satisfaisant</td>\n",
              "      <td>NaN</td>\n",
              "      <td>43.529969,5.446457</td>\n",
              "      <td>Restaurant</td>\n",
              "      <td>14 Forum des cardeurs</td>\n",
              "      <td>Autres</td>\n",
              "    </tr>\n",
              "    <tr>\n",
              "      <th>2</th>\n",
              "      <td>CARREFOUR BAR</td>\n",
              "      <td>40829886700016</td>\n",
              "      <td>13100.0</td>\n",
              "      <td>AIX EN PROVENCE</td>\n",
              "      <td>6</td>\n",
              "      <td>2019-05-21T12:30:00+02:00</td>\n",
              "      <td>Restaurant</td>\n",
              "      <td>Très satisfaisant</td>\n",
              "      <td>NaN</td>\n",
              "      <td>43.525265,5.453713</td>\n",
              "      <td>Restaurant</td>\n",
              "      <td>2 rue Roux Alpherand</td>\n",
              "      <td>Autres</td>\n",
              "    </tr>\n",
              "    <tr>\n",
              "      <th>3</th>\n",
              "      <td>LES FILS A MAMAN</td>\n",
              "      <td>83283779300021</td>\n",
              "      <td>13100.0</td>\n",
              "      <td>AIX EN PROVENCE</td>\n",
              "      <td>0</td>\n",
              "      <td>2019-06-13T13:45:00+02:00</td>\n",
              "      <td>Restaurant</td>\n",
              "      <td>Très satisfaisant</td>\n",
              "      <td>NaN</td>\n",
              "      <td>43.528498,5.447157</td>\n",
              "      <td>Restaurant</td>\n",
              "      <td>42 rue Verrerie</td>\n",
              "      <td>Autres</td>\n",
              "    </tr>\n",
              "    <tr>\n",
              "      <th>4</th>\n",
              "      <td>LE FOURNIL DES CORDELIERS</td>\n",
              "      <td>48466238200023</td>\n",
              "      <td>13100.0</td>\n",
              "      <td>AIX EN PROVENCE</td>\n",
              "      <td>1</td>\n",
              "      <td>2019-06-07T11:30:00+02:00</td>\n",
              "      <td>Boulangerie-Pâtisserie</td>\n",
              "      <td>Très satisfaisant</td>\n",
              "      <td>NaN</td>\n",
              "      <td>43.52948,5.444981</td>\n",
              "      <td>Boulangerie-Pâtisserie</td>\n",
              "      <td>67 rue des Cordeliers</td>\n",
              "      <td>Autres</td>\n",
              "    </tr>\n",
              "  </tbody>\n",
              "</table>\n",
              "</div>"
            ],
            "text/plain": [
              "   APP_Libelle_etablissement  ... ods_type_activite\n",
              "0                 LE GAULOIS  ...            Autres\n",
              "1      LE CARDEUR DE BACCHUS  ...            Autres\n",
              "2              CARREFOUR BAR  ...            Autres\n",
              "3           LES FILS A MAMAN  ...            Autres\n",
              "4  LE FOURNIL DES CORDELIERS  ...            Autres\n",
              "\n",
              "[5 rows x 13 columns]"
            ]
          },
          "metadata": {
            "tags": []
          },
          "execution_count": 3
        }
      ]
    },
    {
      "cell_type": "code",
      "metadata": {
        "colab_type": "code",
        "id": "YSHhWabKaFOf",
        "outputId": "83a82b90-fd9d-4070-9880-299cb2b8217d",
        "colab": {
          "base_uri": "https://localhost:8080/",
          "height": 353
        }
      },
      "source": [
        "# On aimerait savoir combien de lignes d'inspection on a dans les données. \n",
        "# La commande suivante nous donne des infos sur le tableau: nombre de lignes et de colonnes. Types des variables dans chacune des colonnes. \n",
        "df.info()"
      ],
      "execution_count": 4,
      "outputs": [
        {
          "output_type": "stream",
          "text": [
            "<class 'pandas.core.frame.DataFrame'>\n",
            "RangeIndex: 38634 entries, 0 to 38633\n",
            "Data columns (total 13 columns):\n",
            " #   Column                              Non-Null Count  Dtype  \n",
            "---  ------                              --------------  -----  \n",
            " 0   APP_Libelle_etablissement           38633 non-null  object \n",
            " 1   SIRET                               38634 non-null  object \n",
            " 2   Code_postal                         38611 non-null  float64\n",
            " 3   Libelle_commune                     38634 non-null  object \n",
            " 4   Numero_inspection                   38634 non-null  object \n",
            " 5   Date_inspection                     38634 non-null  object \n",
            " 6   APP_Libelle_activite_etablissement  38634 non-null  object \n",
            " 7   Synthese_eval_sanit                 38634 non-null  object \n",
            " 8   Agrement                            9083 non-null   object \n",
            " 9   geores                              37462 non-null  object \n",
            " 10  filtre                              27957 non-null  object \n",
            " 11  ods_adresse                         37388 non-null  object \n",
            " 12  ods_type_activite                   38634 non-null  object \n",
            "dtypes: float64(1), object(12)\n",
            "memory usage: 3.8+ MB\n"
          ],
          "name": "stdout"
        }
      ]
    },
    {
      "cell_type": "code",
      "metadata": {
        "colab_type": "code",
        "id": "Dlk4T_D7ecZL",
        "outputId": "f1ff384d-5292-47c9-ed4d-46047317741a",
        "colab": {
          "base_uri": "https://localhost:8080/",
          "height": 34
        }
      },
      "source": [
        "# Regardons le nombre de valeurs de valeurs différentes qu'il y a dans les activités etablissement\n",
        "nb_values = len(df[\"APP_Libelle_activite_etablissement\"].unique())\n",
        "print(\"Il y a \"+ str(nb_values)+\" valeurs différentes de type d'établissement\")      "
      ],
      "execution_count": 5,
      "outputs": [
        {
          "output_type": "stream",
          "text": [
            "Il y a 109 valeurs différentes de type d'établissement\n"
          ],
          "name": "stdout"
        }
      ]
    },
    {
      "cell_type": "code",
      "metadata": {
        "id": "jQbZaU5PhCeK",
        "colab_type": "code",
        "outputId": "5f53fa21-a306-45c8-ba38-d37eda3c535f",
        "colab": {
          "base_uri": "https://localhost:8080/",
          "height": 370
        }
      },
      "source": [
        "# Et regardons les types le plus représentés dans notre jeu de données\n",
        "df[\"APP_Libelle_activite_etablissement\"].value_counts().head(20)"
      ],
      "execution_count": 6,
      "outputs": [
        {
          "output_type": "execute_result",
          "data": {
            "text/plain": [
              "Restaurant                                                     14800\n",
              "Restauration collective                                         6449\n",
              "Producteur fermier                                              1792\n",
              "Transformation de lait ou produits laitiers                     1351\n",
              "Boucherie-Charcuterie                                           1242\n",
              "Transformation de produits carnés                               1156\n",
              "Boulangerie-Pâtisserie                                          1054\n",
              "Alimentation générale                                            938\n",
              "Chaîne d'abattage de volaille/lagomorphe/petit gibier            936\n",
              "Purification/Expédition de coquillages                           867\n",
              "Découpe de viande de boucherie                                   675\n",
              "Libre service                                                    467\n",
              "Transport de denrées alimentaires                                427\n",
              "Traiteur                                                         381\n",
              "Entreposage de distribution de denrées alimentaires              367\n",
              "VH, VSM, préparation viandes boucherie                           363\n",
              "Chaîne d'abattage d'animaux boucherie/Gibier ongulé élevage      362\n",
              "Mareyage et préparation de produits de la pêche                  348\n",
              "_                                                                337\n",
              "Centre d'emballage des oeufs                                     322\n",
              "Name: APP_Libelle_activite_etablissement, dtype: int64"
            ]
          },
          "metadata": {
            "tags": []
          },
          "execution_count": 6
        }
      ]
    },
    {
      "cell_type": "code",
      "metadata": {
        "colab_type": "code",
        "id": "JcXaPAD8J6Ug",
        "colab": {}
      },
      "source": [
        "# On limite notre analyse aux restaurants \n",
        "df = df[df[\"APP_Libelle_activite_etablissement\"]==\"Restaurant\"]"
      ],
      "execution_count": 0,
      "outputs": []
    },
    {
      "cell_type": "code",
      "metadata": {
        "id": "qlzTYMEIhCeW",
        "colab_type": "code",
        "outputId": "bf94b6c0-32f5-4df2-e4c5-f42df3a93825",
        "colab": {
          "base_uri": "https://localhost:8080/",
          "height": 333
        }
      },
      "source": [
        "df_copy = df.copy() #faisons une copie de notre dataFrame pour une réutilisation plus tard\n",
        "# Regardons à nouveau notre dataFrame\n",
        "df.head()"
      ],
      "execution_count": 8,
      "outputs": [
        {
          "output_type": "execute_result",
          "data": {
            "text/html": [
              "<div>\n",
              "<style scoped>\n",
              "    .dataframe tbody tr th:only-of-type {\n",
              "        vertical-align: middle;\n",
              "    }\n",
              "\n",
              "    .dataframe tbody tr th {\n",
              "        vertical-align: top;\n",
              "    }\n",
              "\n",
              "    .dataframe thead th {\n",
              "        text-align: right;\n",
              "    }\n",
              "</style>\n",
              "<table border=\"1\" class=\"dataframe\">\n",
              "  <thead>\n",
              "    <tr style=\"text-align: right;\">\n",
              "      <th></th>\n",
              "      <th>APP_Libelle_etablissement</th>\n",
              "      <th>SIRET</th>\n",
              "      <th>Code_postal</th>\n",
              "      <th>Libelle_commune</th>\n",
              "      <th>Numero_inspection</th>\n",
              "      <th>Date_inspection</th>\n",
              "      <th>APP_Libelle_activite_etablissement</th>\n",
              "      <th>Synthese_eval_sanit</th>\n",
              "      <th>Agrement</th>\n",
              "      <th>geores</th>\n",
              "      <th>filtre</th>\n",
              "      <th>ods_adresse</th>\n",
              "      <th>ods_type_activite</th>\n",
              "    </tr>\n",
              "  </thead>\n",
              "  <tbody>\n",
              "    <tr>\n",
              "      <th>0</th>\n",
              "      <td>LE GAULOIS</td>\n",
              "      <td>84752155600013</td>\n",
              "      <td>13100.0</td>\n",
              "      <td>AIX EN PROVENCE</td>\n",
              "      <td>2</td>\n",
              "      <td>2019-05-22T13:00:00+02:00</td>\n",
              "      <td>Restaurant</td>\n",
              "      <td>Très satisfaisant</td>\n",
              "      <td>NaN</td>\n",
              "      <td>43.531956,5.4468</td>\n",
              "      <td>Restaurant</td>\n",
              "      <td>34 rue Jacques de la Roque</td>\n",
              "      <td>Autres</td>\n",
              "    </tr>\n",
              "    <tr>\n",
              "      <th>1</th>\n",
              "      <td>LE CARDEUR DE BACCHUS</td>\n",
              "      <td>82183401700013</td>\n",
              "      <td>13100.0</td>\n",
              "      <td>AIX EN PROVENCE</td>\n",
              "      <td>3</td>\n",
              "      <td>2019-05-24T13:30:00+02:00</td>\n",
              "      <td>Restaurant</td>\n",
              "      <td>Très satisfaisant</td>\n",
              "      <td>NaN</td>\n",
              "      <td>43.529969,5.446457</td>\n",
              "      <td>Restaurant</td>\n",
              "      <td>14 Forum des cardeurs</td>\n",
              "      <td>Autres</td>\n",
              "    </tr>\n",
              "    <tr>\n",
              "      <th>2</th>\n",
              "      <td>CARREFOUR BAR</td>\n",
              "      <td>40829886700016</td>\n",
              "      <td>13100.0</td>\n",
              "      <td>AIX EN PROVENCE</td>\n",
              "      <td>6</td>\n",
              "      <td>2019-05-21T12:30:00+02:00</td>\n",
              "      <td>Restaurant</td>\n",
              "      <td>Très satisfaisant</td>\n",
              "      <td>NaN</td>\n",
              "      <td>43.525265,5.453713</td>\n",
              "      <td>Restaurant</td>\n",
              "      <td>2 rue Roux Alpherand</td>\n",
              "      <td>Autres</td>\n",
              "    </tr>\n",
              "    <tr>\n",
              "      <th>3</th>\n",
              "      <td>LES FILS A MAMAN</td>\n",
              "      <td>83283779300021</td>\n",
              "      <td>13100.0</td>\n",
              "      <td>AIX EN PROVENCE</td>\n",
              "      <td>0</td>\n",
              "      <td>2019-06-13T13:45:00+02:00</td>\n",
              "      <td>Restaurant</td>\n",
              "      <td>Très satisfaisant</td>\n",
              "      <td>NaN</td>\n",
              "      <td>43.528498,5.447157</td>\n",
              "      <td>Restaurant</td>\n",
              "      <td>42 rue Verrerie</td>\n",
              "      <td>Autres</td>\n",
              "    </tr>\n",
              "    <tr>\n",
              "      <th>5</th>\n",
              "      <td>LA CAVE DES OURS</td>\n",
              "      <td>84995458100013</td>\n",
              "      <td>13100.0</td>\n",
              "      <td>AIX EN PROVENCE</td>\n",
              "      <td>4</td>\n",
              "      <td>2019-06-13T13:30:00+02:00</td>\n",
              "      <td>Restaurant</td>\n",
              "      <td>Très satisfaisant</td>\n",
              "      <td>NaN</td>\n",
              "      <td>43.532264,5.44666</td>\n",
              "      <td>Restaurant</td>\n",
              "      <td>20 rue Jacques de la Roque</td>\n",
              "      <td>Autres</td>\n",
              "    </tr>\n",
              "  </tbody>\n",
              "</table>\n",
              "</div>"
            ],
            "text/plain": [
              "  APP_Libelle_etablissement  ... ods_type_activite\n",
              "0                LE GAULOIS  ...            Autres\n",
              "1     LE CARDEUR DE BACCHUS  ...            Autres\n",
              "2             CARREFOUR BAR  ...            Autres\n",
              "3          LES FILS A MAMAN  ...            Autres\n",
              "5          LA CAVE DES OURS  ...            Autres\n",
              "\n",
              "[5 rows x 13 columns]"
            ]
          },
          "metadata": {
            "tags": []
          },
          "execution_count": 8
        }
      ]
    },
    {
      "cell_type": "markdown",
      "metadata": {
        "id": "6jru8mV_PfGg",
        "colab_type": "text"
      },
      "source": [
        "# 1. Object N°1: Visualiser le taux de contrôles à améliorer ou à corriger par rapport aux controles effectués."
      ]
    },
    {
      "cell_type": "markdown",
      "metadata": {
        "id": "1uy2fdNuhCeb",
        "colab_type": "text"
      },
      "source": [
        "## Comment ont évolué les résultats d'inspections au fil du temps ? Nettoyage des données \n",
        "### Avant tout, un peu de préparation pour la date \n",
        "Pour que le logiciel comprenne nos données il faut que ces données soient correctement formatées. Le code ci-dessous illustre par exemple la transformation nécessaire pour la date. "
      ]
    },
    {
      "cell_type": "code",
      "metadata": {
        "id": "0D-Tl81uhCei",
        "colab_type": "code",
        "colab": {}
      },
      "source": [
        "# Pour pouvoir regarder les données en fonction de la date il va falloir transformer la colonne de Date_inspection\n",
        "#dans un format que Python comprend \n",
        "from datetime import datetime # on importe la librairie datetime \n",
        "def transform_date (string_date):\n",
        "    #cette fonction prend l'objet string de la colonne Date_inspection et le transforme en object datetime\n",
        "  datestr = string_date.split('+')[0] #remove the last bit of the data (ms) we don't need that\n",
        "  return datetime.strptime(datestr,'%Y-%m-%dT%H:%M:%S') #convert the data into datetime object\n",
        "# on applique cette fonction à notre colonne\n",
        "df['Date_inspection'] = df['Date_inspection'].apply(lambda x : transform_date(x))"
      ],
      "execution_count": 0,
      "outputs": []
    },
    {
      "cell_type": "markdown",
      "metadata": {
        "id": "cjb8NPpPsbXP",
        "colab_type": "text"
      },
      "source": [
        "### Maintenant on peut visualiser les données "
      ]
    },
    {
      "cell_type": "code",
      "metadata": {
        "colab_type": "code",
        "id": "u7XdulWVr-yK",
        "outputId": "98686dff-fb69-43ca-d873-406c9940e0d7",
        "colab": {
          "base_uri": "https://localhost:8080/",
          "height": 424
        }
      },
      "source": [
        "# regardons dans un premier temps la situation sur les bilans d'inspection\n",
        "df['Synthese_eval_sanit'].value_counts().plot(kind='bar')"
      ],
      "execution_count": 10,
      "outputs": [
        {
          "output_type": "execute_result",
          "data": {
            "text/plain": [
              "<matplotlib.axes._subplots.AxesSubplot at 0x7f591b0cb390>"
            ]
          },
          "metadata": {
            "tags": []
          },
          "execution_count": 10
        },
        {
          "output_type": "display_data",
          "data": {
            "image/png": "[encoded data removed]",
            "text/plain": [
              "<Figure size 432x288 with 1 Axes>"
            ]
          },
          "metadata": {
            "tags": [],
            "needs_background": "light"
          }
        }
      ]
    },
    {
      "cell_type": "markdown",
      "metadata": {
        "id": "4jquJ9EfspM0",
        "colab_type": "text"
      },
      "source": [
        "### Et ça donne quoi en fonction du temps ? "
      ]
    },
    {
      "cell_type": "code",
      "metadata": {
        "id": "ra_f5zHBhCer",
        "colab_type": "code",
        "outputId": "80783ec9-a0d7-4570-d9ef-638e84233ea8",
        "colab": {
          "base_uri": "https://localhost:8080/",
          "height": 195
        }
      },
      "source": [
        "# Groupons les valeurs par mois et par résultat d'inspection en utilisant notre colonne de date précédemment transformée\n",
        "grouped = df.groupby([pd.Grouper(key = 'Date_inspection', freq = 'm'), 'Synthese_eval_sanit'])['filtre'].count()\n",
        "#Il est plus pratique pour présenter les données de unstack le tableau. ce qui donne :\n",
        "df_eval = grouped.unstack('Synthese_eval_sanit').reset_index().fillna(value = 0)\n",
        "# On créé une varible qui liste les colonne numériques\n",
        "num_cols = [col for col in df_eval.columns if df_eval[col].dtype == \"float\"]\n",
        "\n",
        "df_eval.head()"
      ],
      "execution_count": 11,
      "outputs": [
        {
          "output_type": "execute_result",
          "data": {
            "text/html": [
              "<div>\n",
              "<style scoped>\n",
              "    .dataframe tbody tr th:only-of-type {\n",
              "        vertical-align: middle;\n",
              "    }\n",
              "\n",
              "    .dataframe tbody tr th {\n",
              "        vertical-align: top;\n",
              "    }\n",
              "\n",
              "    .dataframe thead th {\n",
              "        text-align: right;\n",
              "    }\n",
              "</style>\n",
              "<table border=\"1\" class=\"dataframe\">\n",
              "  <thead>\n",
              "    <tr style=\"text-align: right;\">\n",
              "      <th>Synthese_eval_sanit</th>\n",
              "      <th>Date_inspection</th>\n",
              "      <th>A améliorer</th>\n",
              "      <th>A corriger de manière urgente</th>\n",
              "      <th>Satisfaisant</th>\n",
              "      <th>Très satisfaisant</th>\n",
              "    </tr>\n",
              "  </thead>\n",
              "  <tbody>\n",
              "    <tr>\n",
              "      <th>0</th>\n",
              "      <td>2019-05-31</td>\n",
              "      <td>32.0</td>\n",
              "      <td>4.0</td>\n",
              "      <td>463.0</td>\n",
              "      <td>281.0</td>\n",
              "    </tr>\n",
              "    <tr>\n",
              "      <th>1</th>\n",
              "      <td>2019-06-30</td>\n",
              "      <td>79.0</td>\n",
              "      <td>6.0</td>\n",
              "      <td>977.0</td>\n",
              "      <td>548.0</td>\n",
              "    </tr>\n",
              "    <tr>\n",
              "      <th>2</th>\n",
              "      <td>2019-07-31</td>\n",
              "      <td>106.0</td>\n",
              "      <td>8.0</td>\n",
              "      <td>1259.0</td>\n",
              "      <td>748.0</td>\n",
              "    </tr>\n",
              "    <tr>\n",
              "      <th>3</th>\n",
              "      <td>2019-08-31</td>\n",
              "      <td>78.0</td>\n",
              "      <td>6.0</td>\n",
              "      <td>913.0</td>\n",
              "      <td>483.0</td>\n",
              "    </tr>\n",
              "    <tr>\n",
              "      <th>4</th>\n",
              "      <td>2019-09-30</td>\n",
              "      <td>90.0</td>\n",
              "      <td>8.0</td>\n",
              "      <td>838.0</td>\n",
              "      <td>395.0</td>\n",
              "    </tr>\n",
              "  </tbody>\n",
              "</table>\n",
              "</div>"
            ],
            "text/plain": [
              "Synthese_eval_sanit Date_inspection  ...  Très satisfaisant\n",
              "0                        2019-05-31  ...              281.0\n",
              "1                        2019-06-30  ...              548.0\n",
              "2                        2019-07-31  ...              748.0\n",
              "3                        2019-08-31  ...              483.0\n",
              "4                        2019-09-30  ...              395.0\n",
              "\n",
              "[5 rows x 5 columns]"
            ]
          },
          "metadata": {
            "tags": []
          },
          "execution_count": 11
        }
      ]
    },
    {
      "cell_type": "markdown",
      "metadata": {
        "id": "UwQtxCIgW40X",
        "colab_type": "text"
      },
      "source": [
        "#### Etes vous capable de donner le nombre de controles ayant eu un résultat \"Très satisfaisant\" en aout ? "
      ]
    },
    {
      "cell_type": "code",
      "metadata": {
        "id": "_7Ww3IMHtGVH",
        "colab_type": "code",
        "outputId": "1a7b0071-1ac7-4221-e5fc-d34c7a145356",
        "colab": {
          "base_uri": "https://localhost:8080/",
          "height": 294
        }
      },
      "source": [
        "# On peut maintenant visualiser nos données par mois \n",
        "\n",
        "fig, ax = plt.subplots()\n",
        "#convert the date in some strings\n",
        "labels = [i.strftime('%m_%Y') for i in df_eval['Date_inspection']]\n",
        "width = 0.35     # the width of the bars: can also be len(x) sequence\n",
        "\n",
        "color_dict = {'A améliorer':'darkorange',\n",
        " 'A corriger de manière urgente': 'red',\n",
        " 'Satisfaisant':'yellowgreen',\n",
        " 'Très satisfaisant':'green'}\n",
        "\n",
        "# On créé une varible qui liste les colonne numériques\n",
        "num_cols = [col for col in df_eval.columns if df_eval[col].dtype == \"float\"]\n",
        "\n",
        "bot = np.zeros(df_eval.shape[0])\n",
        "for n in num_cols:\n",
        "    m = n\n",
        "    ax.bar(labels, df_eval[m], width, bottom = bot, label=n , color = color_dict[n])\n",
        "    bot += df_eval[m]\n",
        "\n",
        "\n",
        "#ax.set_ylabel('Scores')\n",
        "#ax.set_title('Scores by group and gender')\n",
        "ax.legend(loc='center left', bbox_to_anchor=(1, 0.5))\n",
        "\n",
        "plt.xticks(rotation=45)\n",
        "plt.show()"
      ],
      "execution_count": 12,
      "outputs": [
        {
          "output_type": "display_data",
          "data": {
            "image/png": "[encoded data removed]",
            "text/plain": [
              "<Figure size 432x288 with 1 Axes>"
            ]
          },
          "metadata": {
            "tags": [],
            "needs_background": "light"
          }
        }
      ]
    },
    {
      "cell_type": "markdown",
      "metadata": {
        "id": "eZwcrF2tPx9v",
        "colab_type": "text"
      },
      "source": [
        "### OK ! Maintenant on aimerait bien normaliser un peu les données. Cela nous permettrait de mieux comparer les données d'un mois sur l'autre. Que donnerait la visualisation en pourcentage ? \n",
        "\n"
      ]
    },
    {
      "cell_type": "code",
      "metadata": {
        "id": "7pyjHaWuhCew",
        "colab_type": "code",
        "outputId": "ede99eb7-1b6a-4a4f-c134-0ea4dd7f329f",
        "colab": {
          "base_uri": "https://localhost:8080/",
          "height": 229
        }
      },
      "source": [
        "#On fait la somme totale des inspections d'un mois  \n",
        "df_eval['Total inspections'] = df_eval.sum(axis = 1)\n",
        "# On calcule un ratio sur le nombre de résultats d'un certain type par rapport au nombre d'inspection totale\n",
        "for n in num_cols:\n",
        "    df_eval[n+'_ratio'] = df_eval[n]/df_eval['Total inspections']*100\n",
        "df_eval.head()"
      ],
      "execution_count": 13,
      "outputs": [
        {
          "output_type": "execute_result",
          "data": {
            "text/html": [
              "<div>\n",
              "<style scoped>\n",
              "    .dataframe tbody tr th:only-of-type {\n",
              "        vertical-align: middle;\n",
              "    }\n",
              "\n",
              "    .dataframe tbody tr th {\n",
              "        vertical-align: top;\n",
              "    }\n",
              "\n",
              "    .dataframe thead th {\n",
              "        text-align: right;\n",
              "    }\n",
              "</style>\n",
              "<table border=\"1\" class=\"dataframe\">\n",
              "  <thead>\n",
              "    <tr style=\"text-align: right;\">\n",
              "      <th>Synthese_eval_sanit</th>\n",
              "      <th>Date_inspection</th>\n",
              "      <th>A améliorer</th>\n",
              "      <th>A corriger de manière urgente</th>\n",
              "      <th>Satisfaisant</th>\n",
              "      <th>Très satisfaisant</th>\n",
              "      <th>Total inspections</th>\n",
              "      <th>A améliorer_ratio</th>\n",
              "      <th>A corriger de manière urgente_ratio</th>\n",
              "      <th>Satisfaisant_ratio</th>\n",
              "      <th>Très satisfaisant_ratio</th>\n",
              "    </tr>\n",
              "  </thead>\n",
              "  <tbody>\n",
              "    <tr>\n",
              "      <th>0</th>\n",
              "      <td>2019-05-31</td>\n",
              "      <td>32.0</td>\n",
              "      <td>4.0</td>\n",
              "      <td>463.0</td>\n",
              "      <td>281.0</td>\n",
              "      <td>780.0</td>\n",
              "      <td>4.102564</td>\n",
              "      <td>0.512821</td>\n",
              "      <td>59.358974</td>\n",
              "      <td>36.025641</td>\n",
              "    </tr>\n",
              "    <tr>\n",
              "      <th>1</th>\n",
              "      <td>2019-06-30</td>\n",
              "      <td>79.0</td>\n",
              "      <td>6.0</td>\n",
              "      <td>977.0</td>\n",
              "      <td>548.0</td>\n",
              "      <td>1610.0</td>\n",
              "      <td>4.906832</td>\n",
              "      <td>0.372671</td>\n",
              "      <td>60.683230</td>\n",
              "      <td>34.037267</td>\n",
              "    </tr>\n",
              "    <tr>\n",
              "      <th>2</th>\n",
              "      <td>2019-07-31</td>\n",
              "      <td>106.0</td>\n",
              "      <td>8.0</td>\n",
              "      <td>1259.0</td>\n",
              "      <td>748.0</td>\n",
              "      <td>2121.0</td>\n",
              "      <td>4.997643</td>\n",
              "      <td>0.377181</td>\n",
              "      <td>59.358793</td>\n",
              "      <td>35.266384</td>\n",
              "    </tr>\n",
              "    <tr>\n",
              "      <th>3</th>\n",
              "      <td>2019-08-31</td>\n",
              "      <td>78.0</td>\n",
              "      <td>6.0</td>\n",
              "      <td>913.0</td>\n",
              "      <td>483.0</td>\n",
              "      <td>1480.0</td>\n",
              "      <td>5.270270</td>\n",
              "      <td>0.405405</td>\n",
              "      <td>61.689189</td>\n",
              "      <td>32.635135</td>\n",
              "    </tr>\n",
              "    <tr>\n",
              "      <th>4</th>\n",
              "      <td>2019-09-30</td>\n",
              "      <td>90.0</td>\n",
              "      <td>8.0</td>\n",
              "      <td>838.0</td>\n",
              "      <td>395.0</td>\n",
              "      <td>1331.0</td>\n",
              "      <td>6.761833</td>\n",
              "      <td>0.601052</td>\n",
              "      <td>62.960180</td>\n",
              "      <td>29.676935</td>\n",
              "    </tr>\n",
              "  </tbody>\n",
              "</table>\n",
              "</div>"
            ],
            "text/plain": [
              "Synthese_eval_sanit Date_inspection  ...  Très satisfaisant_ratio\n",
              "0                        2019-05-31  ...                36.025641\n",
              "1                        2019-06-30  ...                34.037267\n",
              "2                        2019-07-31  ...                35.266384\n",
              "3                        2019-08-31  ...                32.635135\n",
              "4                        2019-09-30  ...                29.676935\n",
              "\n",
              "[5 rows x 10 columns]"
            ]
          },
          "metadata": {
            "tags": []
          },
          "execution_count": 13
        }
      ]
    },
    {
      "cell_type": "markdown",
      "metadata": {
        "id": "WsTVB1ioX1X9",
        "colab_type": "text"
      },
      "source": [
        "#### Toujours pour Aout, êtes vous capable de donner le ratio d'inspections ayant eu un résultat très satisfaisant. "
      ]
    },
    {
      "cell_type": "code",
      "metadata": {
        "id": "CU6EwDdHhCe0",
        "colab_type": "code",
        "outputId": "a74cb1b4-b013-4bcf-afdd-035d271ac3bb",
        "colab": {
          "base_uri": "https://localhost:8080/",
          "height": 330
        }
      },
      "source": [
        "fig, ax = plt.subplots()\n",
        "#convert the date in some strings\n",
        "labels = [i.strftime('%m_%Y') for i in df_eval['Date_inspection']]\n",
        "width = 0.35     # the width of the bars: can also be len(x) sequence\n",
        "\n",
        "color_dict = {'A améliorer':'darkorange',\n",
        " 'A corriger de manière urgente': 'red',\n",
        " 'Satisfaisant':'yellowgreen',\n",
        " 'Très satisfaisant':'green'}\n",
        "\n",
        "bot = np.zeros(df_eval.shape[0])\n",
        "for n in num_cols:\n",
        "    m = n+ '_ratio'\n",
        "    ax.bar(labels, df_eval[m], width, bottom = bot, label=n , color = color_dict[n])\n",
        "    bot += df_eval[m]\n",
        "\n",
        "\n",
        "#ax.set_ylabel('Scores')\n",
        "#ax.set_title('Scores by group and gender')\n",
        "ax.legend(loc='center left', bbox_to_anchor=(1, 0.5))\n",
        "\n",
        "rects = ax.patches\n",
        "\n",
        "# Make some labels for the total number of inspections\n",
        "N_insp = [str(int(i)) for i in df_eval['Total inspections'].values]\n",
        "\n",
        "for rect, N_insp in zip(rects, N_insp):\n",
        "    height = 100\n",
        "    ax.text(rect.get_x() + rect.get_width() / 2, height + 5, N_insp,\n",
        "            ha='center', va='bottom', rotation = 45)\n",
        "\n",
        "plt.xticks(rotation=45)\n",
        "plt.show()"
      ],
      "execution_count": 14,
      "outputs": [
        {
          "output_type": "display_data",
          "data": {
            "image/png": "[encoded data removed]",
            "text/plain": [
              "<Figure size 432x288 with 1 Axes>"
            ]
          },
          "metadata": {
            "tags": [],
            "needs_background": "light"
          }
        }
      ]
    },
    {
      "cell_type": "markdown",
      "metadata": {
        "id": "wypNFQBYYSnd",
        "colab_type": "text"
      },
      "source": [
        "Objectif 1 : Taux de contrôles à améliorer ou à corriger par rapport aux controles effectués.\n",
        "Conclusion : Observez-vous des choses intéressantes dans ce graphique ? Peut-on tirer des conclusions ? "
      ]
    },
    {
      "cell_type": "markdown",
      "metadata": {
        "id": "C7qcp5gIhCe4",
        "colab_type": "text"
      },
      "source": [
        "# 2. Objectif N°2: Nombre de controles mensuels par région\n",
        "Pour cela il va falloir :\n",
        "1. Connaître la région à laquelle le restaurant appartient \n",
        "2. Calculer le nombre de contrôles mensuels pour chacune des régions\n",
        "3. Calculer le ratio de controles par rapport au nombre d'habitants \n",
        "4. Sortir une liste par région où il n'y a pas assez eu de contrôle mensuels.\n"
      ]
    },
    {
      "cell_type": "code",
      "metadata": {
        "id": "PtgpigXOY-dD",
        "colab_type": "code",
        "outputId": "e71d8d0f-9f77-4e65-bae4-dfbabaa5a7cc",
        "colab": {
          "base_uri": "https://localhost:8080/",
          "height": 333
        }
      },
      "source": [
        "df.head()"
      ],
      "execution_count": 15,
      "outputs": [
        {
          "output_type": "execute_result",
          "data": {
            "text/html": [
              "<div>\n",
              "<style scoped>\n",
              "    .dataframe tbody tr th:only-of-type {\n",
              "        vertical-align: middle;\n",
              "    }\n",
              "\n",
              "    .dataframe tbody tr th {\n",
              "        vertical-align: top;\n",
              "    }\n",
              "\n",
              "    .dataframe thead th {\n",
              "        text-align: right;\n",
              "    }\n",
              "</style>\n",
              "<table border=\"1\" class=\"dataframe\">\n",
              "  <thead>\n",
              "    <tr style=\"text-align: right;\">\n",
              "      <th></th>\n",
              "      <th>APP_Libelle_etablissement</th>\n",
              "      <th>SIRET</th>\n",
              "      <th>Code_postal</th>\n",
              "      <th>Libelle_commune</th>\n",
              "      <th>Numero_inspection</th>\n",
              "      <th>Date_inspection</th>\n",
              "      <th>APP_Libelle_activite_etablissement</th>\n",
              "      <th>Synthese_eval_sanit</th>\n",
              "      <th>Agrement</th>\n",
              "      <th>geores</th>\n",
              "      <th>filtre</th>\n",
              "      <th>ods_adresse</th>\n",
              "      <th>ods_type_activite</th>\n",
              "    </tr>\n",
              "  </thead>\n",
              "  <tbody>\n",
              "    <tr>\n",
              "      <th>0</th>\n",
              "      <td>LE GAULOIS</td>\n",
              "      <td>84752155600013</td>\n",
              "      <td>13100.0</td>\n",
              "      <td>AIX EN PROVENCE</td>\n",
              "      <td>2</td>\n",
              "      <td>2019-05-22 13:00:00</td>\n",
              "      <td>Restaurant</td>\n",
              "      <td>Très satisfaisant</td>\n",
              "      <td>NaN</td>\n",
              "      <td>43.531956,5.4468</td>\n",
              "      <td>Restaurant</td>\n",
              "      <td>34 rue Jacques de la Roque</td>\n",
              "      <td>Autres</td>\n",
              "    </tr>\n",
              "    <tr>\n",
              "      <th>1</th>\n",
              "      <td>LE CARDEUR DE BACCHUS</td>\n",
              "      <td>82183401700013</td>\n",
              "      <td>13100.0</td>\n",
              "      <td>AIX EN PROVENCE</td>\n",
              "      <td>3</td>\n",
              "      <td>2019-05-24 13:30:00</td>\n",
              "      <td>Restaurant</td>\n",
              "      <td>Très satisfaisant</td>\n",
              "      <td>NaN</td>\n",
              "      <td>43.529969,5.446457</td>\n",
              "      <td>Restaurant</td>\n",
              "      <td>14 Forum des cardeurs</td>\n",
              "      <td>Autres</td>\n",
              "    </tr>\n",
              "    <tr>\n",
              "      <th>2</th>\n",
              "      <td>CARREFOUR BAR</td>\n",
              "      <td>40829886700016</td>\n",
              "      <td>13100.0</td>\n",
              "      <td>AIX EN PROVENCE</td>\n",
              "      <td>6</td>\n",
              "      <td>2019-05-21 12:30:00</td>\n",
              "      <td>Restaurant</td>\n",
              "      <td>Très satisfaisant</td>\n",
              "      <td>NaN</td>\n",
              "      <td>43.525265,5.453713</td>\n",
              "      <td>Restaurant</td>\n",
              "      <td>2 rue Roux Alpherand</td>\n",
              "      <td>Autres</td>\n",
              "    </tr>\n",
              "    <tr>\n",
              "      <th>3</th>\n",
              "      <td>LES FILS A MAMAN</td>\n",
              "      <td>83283779300021</td>\n",
              "      <td>13100.0</td>\n",
              "      <td>AIX EN PROVENCE</td>\n",
              "      <td>0</td>\n",
              "      <td>2019-06-13 13:45:00</td>\n",
              "      <td>Restaurant</td>\n",
              "      <td>Très satisfaisant</td>\n",
              "      <td>NaN</td>\n",
              "      <td>43.528498,5.447157</td>\n",
              "      <td>Restaurant</td>\n",
              "      <td>42 rue Verrerie</td>\n",
              "      <td>Autres</td>\n",
              "    </tr>\n",
              "    <tr>\n",
              "      <th>5</th>\n",
              "      <td>LA CAVE DES OURS</td>\n",
              "      <td>84995458100013</td>\n",
              "      <td>13100.0</td>\n",
              "      <td>AIX EN PROVENCE</td>\n",
              "      <td>4</td>\n",
              "      <td>2019-06-13 13:30:00</td>\n",
              "      <td>Restaurant</td>\n",
              "      <td>Très satisfaisant</td>\n",
              "      <td>NaN</td>\n",
              "      <td>43.532264,5.44666</td>\n",
              "      <td>Restaurant</td>\n",
              "      <td>20 rue Jacques de la Roque</td>\n",
              "      <td>Autres</td>\n",
              "    </tr>\n",
              "  </tbody>\n",
              "</table>\n",
              "</div>"
            ],
            "text/plain": [
              "  APP_Libelle_etablissement  ... ods_type_activite\n",
              "0                LE GAULOIS  ...            Autres\n",
              "1     LE CARDEUR DE BACCHUS  ...            Autres\n",
              "2             CARREFOUR BAR  ...            Autres\n",
              "3          LES FILS A MAMAN  ...            Autres\n",
              "5          LA CAVE DES OURS  ...            Autres\n",
              "\n",
              "[5 rows x 13 columns]"
            ]
          },
          "metadata": {
            "tags": []
          },
          "execution_count": 15
        }
      ]
    },
    {
      "cell_type": "markdown",
      "metadata": {
        "id": "qd4LnHzHRfqg",
        "colab_type": "text"
      },
      "source": [
        "## Charger et agréger les données\n",
        "On récupère les données sur data.gouv.fr : [pour les zipcode](https://www.data.gouv.fr/en/datasets/regions-departements-villes-et-villages-de-france-et-doutre-mer/) et [pour la population](https://www.insee.fr/fr/statistiques/4265429?sommaire=4265511#consulter). Pour les informations sur les restaurants, on récupère l'information [ici](https://www.data.gouv.fr/fr/datasets/r/dc3c9f86-cf5d-4625-acb3-178cbae894bc) mais le fichier est trop gros et il faut le pré-traiter avant. Vous trouverez [ici](https://github.com/etalab-ia/ami-ia/blob/master/session2/outils-du-datascientist.ipynb) les manipulations nécessaires pour le modifier avant utilisation. "
      ]
    },
    {
      "cell_type": "code",
      "metadata": {
        "colab_type": "code",
        "id": "k1pkR__WZvYR",
        "colab": {}
      },
      "source": [
        "# On charge les données dans des dataFrames \n",
        "df_cities = pd.read_csv('https://raw.githubusercontent.com/etalab-ia/ami-ia/master/session2/data/cities.csv')\n",
        "df_departments = pd.read_csv('https://raw.githubusercontent.com/etalab-ia/ami-ia/master/session2/data/departments.csv')\n",
        "df_regions = pd.read_csv('https://raw.githubusercontent.com/etalab-ia/ami-ia/master/session2/data/regions.csv')\n",
        "df_pop_regions = pd.read_csv('https://raw.githubusercontent.com/etalab-ia/ami-ia/master/session2/data/pop_regions.csv')\n",
        "cp_restaurant = pd.read_csv('https://raw.githubusercontent.com/etalab-ia/ami-ia/master/session2/data/info_restaurants.csv')"
      ],
      "execution_count": 0,
      "outputs": []
    },
    {
      "cell_type": "code",
      "metadata": {
        "id": "7gDb4md2ZsOW",
        "colab_type": "code",
        "outputId": "3375decf-a6bc-4f78-b315-abeb202db618",
        "colab": {
          "base_uri": "https://localhost:8080/",
          "height": 195
        }
      },
      "source": [
        "df_cities.head()"
      ],
      "execution_count": 17,
      "outputs": [
        {
          "output_type": "execute_result",
          "data": {
            "text/html": [
              "<div>\n",
              "<style scoped>\n",
              "    .dataframe tbody tr th:only-of-type {\n",
              "        vertical-align: middle;\n",
              "    }\n",
              "\n",
              "    .dataframe tbody tr th {\n",
              "        vertical-align: top;\n",
              "    }\n",
              "\n",
              "    .dataframe thead th {\n",
              "        text-align: right;\n",
              "    }\n",
              "</style>\n",
              "<table border=\"1\" class=\"dataframe\">\n",
              "  <thead>\n",
              "    <tr style=\"text-align: right;\">\n",
              "      <th></th>\n",
              "      <th>id</th>\n",
              "      <th>department_code</th>\n",
              "      <th>insee_code</th>\n",
              "      <th>zip_code</th>\n",
              "      <th>name</th>\n",
              "      <th>slug</th>\n",
              "      <th>gps_lat</th>\n",
              "      <th>gps_lng</th>\n",
              "    </tr>\n",
              "  </thead>\n",
              "  <tbody>\n",
              "    <tr>\n",
              "      <th>0</th>\n",
              "      <td>1</td>\n",
              "      <td>01</td>\n",
              "      <td>01001</td>\n",
              "      <td>1400.0</td>\n",
              "      <td>L'Abergement-Clémenciat</td>\n",
              "      <td>l abergement clemenciat</td>\n",
              "      <td>46.156782</td>\n",
              "      <td>4.924699</td>\n",
              "    </tr>\n",
              "    <tr>\n",
              "      <th>1</th>\n",
              "      <td>2</td>\n",
              "      <td>01</td>\n",
              "      <td>01002</td>\n",
              "      <td>1640.0</td>\n",
              "      <td>L'Abergement-de-Varey</td>\n",
              "      <td>l abergement de varey</td>\n",
              "      <td>46.010086</td>\n",
              "      <td>5.428759</td>\n",
              "    </tr>\n",
              "    <tr>\n",
              "      <th>2</th>\n",
              "      <td>3</td>\n",
              "      <td>01</td>\n",
              "      <td>01004</td>\n",
              "      <td>1500.0</td>\n",
              "      <td>Ambérieu-en-Bugey</td>\n",
              "      <td>amberieu en bugey</td>\n",
              "      <td>45.958409</td>\n",
              "      <td>5.375992</td>\n",
              "    </tr>\n",
              "    <tr>\n",
              "      <th>3</th>\n",
              "      <td>4</td>\n",
              "      <td>01</td>\n",
              "      <td>01005</td>\n",
              "      <td>1330.0</td>\n",
              "      <td>Ambérieux-en-Dombes</td>\n",
              "      <td>amberieux en dombes</td>\n",
              "      <td>46.000120</td>\n",
              "      <td>4.910602</td>\n",
              "    </tr>\n",
              "    <tr>\n",
              "      <th>4</th>\n",
              "      <td>5</td>\n",
              "      <td>01</td>\n",
              "      <td>01006</td>\n",
              "      <td>1300.0</td>\n",
              "      <td>Ambléon</td>\n",
              "      <td>ambleon</td>\n",
              "      <td>45.746427</td>\n",
              "      <td>5.602492</td>\n",
              "    </tr>\n",
              "  </tbody>\n",
              "</table>\n",
              "</div>"
            ],
            "text/plain": [
              "   id department_code insee_code  ...                     slug    gps_lat   gps_lng\n",
              "0   1              01      01001  ...  l abergement clemenciat  46.156782  4.924699\n",
              "1   2              01      01002  ...    l abergement de varey  46.010086  5.428759\n",
              "2   3              01      01004  ...        amberieu en bugey  45.958409  5.375992\n",
              "3   4              01      01005  ...      amberieux en dombes  46.000120  4.910602\n",
              "4   5              01      01006  ...                  ambleon  45.746427  5.602492\n",
              "\n",
              "[5 rows x 8 columns]"
            ]
          },
          "metadata": {
            "tags": []
          },
          "execution_count": 17
        }
      ]
    },
    {
      "cell_type": "code",
      "metadata": {
        "id": "bGz_0yFRZyWt",
        "colab_type": "code",
        "outputId": "032e3192-51c6-4760-c303-8d2ccb377f86",
        "colab": {
          "base_uri": "https://localhost:8080/",
          "height": 195
        }
      },
      "source": [
        "df_departments.head()"
      ],
      "execution_count": 18,
      "outputs": [
        {
          "output_type": "execute_result",
          "data": {
            "text/html": [
              "<div>\n",
              "<style scoped>\n",
              "    .dataframe tbody tr th:only-of-type {\n",
              "        vertical-align: middle;\n",
              "    }\n",
              "\n",
              "    .dataframe tbody tr th {\n",
              "        vertical-align: top;\n",
              "    }\n",
              "\n",
              "    .dataframe thead th {\n",
              "        text-align: right;\n",
              "    }\n",
              "</style>\n",
              "<table border=\"1\" class=\"dataframe\">\n",
              "  <thead>\n",
              "    <tr style=\"text-align: right;\">\n",
              "      <th></th>\n",
              "      <th>id</th>\n",
              "      <th>region_code</th>\n",
              "      <th>code</th>\n",
              "      <th>name</th>\n",
              "      <th>slug</th>\n",
              "    </tr>\n",
              "  </thead>\n",
              "  <tbody>\n",
              "    <tr>\n",
              "      <th>0</th>\n",
              "      <td>1</td>\n",
              "      <td>84</td>\n",
              "      <td>01</td>\n",
              "      <td>Ain</td>\n",
              "      <td>ain</td>\n",
              "    </tr>\n",
              "    <tr>\n",
              "      <th>1</th>\n",
              "      <td>2</td>\n",
              "      <td>32</td>\n",
              "      <td>02</td>\n",
              "      <td>Aisne</td>\n",
              "      <td>aisne</td>\n",
              "    </tr>\n",
              "    <tr>\n",
              "      <th>2</th>\n",
              "      <td>3</td>\n",
              "      <td>84</td>\n",
              "      <td>03</td>\n",
              "      <td>Allier</td>\n",
              "      <td>allier</td>\n",
              "    </tr>\n",
              "    <tr>\n",
              "      <th>3</th>\n",
              "      <td>4</td>\n",
              "      <td>93</td>\n",
              "      <td>04</td>\n",
              "      <td>Alpes-de-Haute-Provence</td>\n",
              "      <td>alpes de haute provence</td>\n",
              "    </tr>\n",
              "    <tr>\n",
              "      <th>4</th>\n",
              "      <td>5</td>\n",
              "      <td>93</td>\n",
              "      <td>05</td>\n",
              "      <td>Hautes-Alpes</td>\n",
              "      <td>hautes alpes</td>\n",
              "    </tr>\n",
              "  </tbody>\n",
              "</table>\n",
              "</div>"
            ],
            "text/plain": [
              "   id region_code code                     name                     slug\n",
              "0   1          84   01                      Ain                      ain\n",
              "1   2          32   02                    Aisne                    aisne\n",
              "2   3          84   03                   Allier                   allier\n",
              "3   4          93   04  Alpes-de-Haute-Provence  alpes de haute provence\n",
              "4   5          93   05             Hautes-Alpes             hautes alpes"
            ]
          },
          "metadata": {
            "tags": []
          },
          "execution_count": 18
        }
      ]
    },
    {
      "cell_type": "markdown",
      "metadata": {
        "id": "rHABQd9IQxvG",
        "colab_type": "text"
      },
      "source": [
        "### Comment lier ensemble ces différents DataFrame ?"
      ]
    },
    {
      "cell_type": "code",
      "metadata": {
        "colab_type": "code",
        "id": "jt06y6LFas31",
        "outputId": "d77cd4e5-143d-4011-8d8e-044d813ee11a",
        "colab": {
          "base_uri": "https://localhost:8080/",
          "height": 467
        }
      },
      "source": [
        "# On renomme les colonnes pour les infos de régions pour mieux les utiliser plus tard\n",
        "df_regions.columns = ['id', 'region_code', 'region_name', 'slug']\n",
        "# On joint les données en utilisant les colonnes en commun entre les dataFrame\n",
        "df_with_regions = pd.merge(df, df_cities, how= 'left', left_on = 'Code_postal', right_on = 'zip_code')\n",
        "df_with_regions = pd.merge(df_with_regions, df_departments, how= 'left', left_on = 'department_code', right_on = 'code')\n",
        "df_with_regions = pd.merge(df_with_regions, df_regions, how= 'left', on = 'region_code')\n",
        "\n",
        "# Observons le résultat\n",
        "df_with_regions.head()"
      ],
      "execution_count": 19,
      "outputs": [
        {
          "output_type": "execute_result",
          "data": {
            "text/html": [
              "<div>\n",
              "<style scoped>\n",
              "    .dataframe tbody tr th:only-of-type {\n",
              "        vertical-align: middle;\n",
              "    }\n",
              "\n",
              "    .dataframe tbody tr th {\n",
              "        vertical-align: top;\n",
              "    }\n",
              "\n",
              "    .dataframe thead th {\n",
              "        text-align: right;\n",
              "    }\n",
              "</style>\n",
              "<table border=\"1\" class=\"dataframe\">\n",
              "  <thead>\n",
              "    <tr style=\"text-align: right;\">\n",
              "      <th></th>\n",
              "      <th>APP_Libelle_etablissement</th>\n",
              "      <th>SIRET</th>\n",
              "      <th>Code_postal</th>\n",
              "      <th>Libelle_commune</th>\n",
              "      <th>Numero_inspection</th>\n",
              "      <th>Date_inspection</th>\n",
              "      <th>APP_Libelle_activite_etablissement</th>\n",
              "      <th>Synthese_eval_sanit</th>\n",
              "      <th>Agrement</th>\n",
              "      <th>geores</th>\n",
              "      <th>filtre</th>\n",
              "      <th>ods_adresse</th>\n",
              "      <th>ods_type_activite</th>\n",
              "      <th>id_x</th>\n",
              "      <th>department_code</th>\n",
              "      <th>insee_code</th>\n",
              "      <th>zip_code</th>\n",
              "      <th>name_x</th>\n",
              "      <th>slug_x</th>\n",
              "      <th>gps_lat</th>\n",
              "      <th>gps_lng</th>\n",
              "      <th>id_y</th>\n",
              "      <th>region_code</th>\n",
              "      <th>code</th>\n",
              "      <th>name_y</th>\n",
              "      <th>slug_y</th>\n",
              "      <th>id</th>\n",
              "      <th>region_name</th>\n",
              "      <th>slug</th>\n",
              "    </tr>\n",
              "  </thead>\n",
              "  <tbody>\n",
              "    <tr>\n",
              "      <th>0</th>\n",
              "      <td>LE GAULOIS</td>\n",
              "      <td>84752155600013</td>\n",
              "      <td>13100.0</td>\n",
              "      <td>AIX EN PROVENCE</td>\n",
              "      <td>2</td>\n",
              "      <td>2019-05-22 13:00:00</td>\n",
              "      <td>Restaurant</td>\n",
              "      <td>Très satisfaisant</td>\n",
              "      <td>NaN</td>\n",
              "      <td>43.531956,5.4468</td>\n",
              "      <td>Restaurant</td>\n",
              "      <td>34 rue Jacques de la Roque</td>\n",
              "      <td>Autres</td>\n",
              "      <td>4359.0</td>\n",
              "      <td>13</td>\n",
              "      <td>13001</td>\n",
              "      <td>13100.0</td>\n",
              "      <td>Aix-en-Provence</td>\n",
              "      <td>aix en provence</td>\n",
              "      <td>43.533834</td>\n",
              "      <td>5.509247</td>\n",
              "      <td>13.0</td>\n",
              "      <td>93</td>\n",
              "      <td>13</td>\n",
              "      <td>Bouches-du-Rhône</td>\n",
              "      <td>bouches du rhone</td>\n",
              "      <td>17.0</td>\n",
              "      <td>Provence-Alpes-Côte d'Azur</td>\n",
              "      <td>provence alpes cote dazur</td>\n",
              "    </tr>\n",
              "    <tr>\n",
              "      <th>1</th>\n",
              "      <td>LE GAULOIS</td>\n",
              "      <td>84752155600013</td>\n",
              "      <td>13100.0</td>\n",
              "      <td>AIX EN PROVENCE</td>\n",
              "      <td>2</td>\n",
              "      <td>2019-05-22 13:00:00</td>\n",
              "      <td>Restaurant</td>\n",
              "      <td>Très satisfaisant</td>\n",
              "      <td>NaN</td>\n",
              "      <td>43.531956,5.4468</td>\n",
              "      <td>Restaurant</td>\n",
              "      <td>34 rue Jacques de la Roque</td>\n",
              "      <td>Autres</td>\n",
              "      <td>4376.0</td>\n",
              "      <td>13</td>\n",
              "      <td>13012</td>\n",
              "      <td>13100.0</td>\n",
              "      <td>Beaurecueil</td>\n",
              "      <td>beaurecueil</td>\n",
              "      <td>43.523233</td>\n",
              "      <td>5.546260</td>\n",
              "      <td>13.0</td>\n",
              "      <td>93</td>\n",
              "      <td>13</td>\n",
              "      <td>Bouches-du-Rhône</td>\n",
              "      <td>bouches du rhone</td>\n",
              "      <td>17.0</td>\n",
              "      <td>Provence-Alpes-Côte d'Azur</td>\n",
              "      <td>provence alpes cote dazur</td>\n",
              "    </tr>\n",
              "    <tr>\n",
              "      <th>2</th>\n",
              "      <td>LE GAULOIS</td>\n",
              "      <td>84752155600013</td>\n",
              "      <td>13100.0</td>\n",
              "      <td>AIX EN PROVENCE</td>\n",
              "      <td>2</td>\n",
              "      <td>2019-05-22 13:00:00</td>\n",
              "      <td>Restaurant</td>\n",
              "      <td>Très satisfaisant</td>\n",
              "      <td>NaN</td>\n",
              "      <td>43.531956,5.4468</td>\n",
              "      <td>Restaurant</td>\n",
              "      <td>34 rue Jacques de la Roque</td>\n",
              "      <td>Autres</td>\n",
              "      <td>4471.0</td>\n",
              "      <td>13</td>\n",
              "      <td>13090</td>\n",
              "      <td>13100.0</td>\n",
              "      <td>Saint-Antonin-sur-Bayon</td>\n",
              "      <td>saint antonin sur bayon</td>\n",
              "      <td>43.517019</td>\n",
              "      <td>5.594303</td>\n",
              "      <td>13.0</td>\n",
              "      <td>93</td>\n",
              "      <td>13</td>\n",
              "      <td>Bouches-du-Rhône</td>\n",
              "      <td>bouches du rhone</td>\n",
              "      <td>17.0</td>\n",
              "      <td>Provence-Alpes-Côte d'Azur</td>\n",
              "      <td>provence alpes cote dazur</td>\n",
              "    </tr>\n",
              "    <tr>\n",
              "      <th>3</th>\n",
              "      <td>LE GAULOIS</td>\n",
              "      <td>84752155600013</td>\n",
              "      <td>13100.0</td>\n",
              "      <td>AIX EN PROVENCE</td>\n",
              "      <td>2</td>\n",
              "      <td>2019-05-22 13:00:00</td>\n",
              "      <td>Restaurant</td>\n",
              "      <td>Très satisfaisant</td>\n",
              "      <td>NaN</td>\n",
              "      <td>43.531956,5.4468</td>\n",
              "      <td>Restaurant</td>\n",
              "      <td>34 rue Jacques de la Roque</td>\n",
              "      <td>Autres</td>\n",
              "      <td>4476.0</td>\n",
              "      <td>13</td>\n",
              "      <td>13095</td>\n",
              "      <td>13100.0</td>\n",
              "      <td>Saint-Marc-Jaumegarde</td>\n",
              "      <td>saint marc jaumegarde</td>\n",
              "      <td>43.553539</td>\n",
              "      <td>5.527096</td>\n",
              "      <td>13.0</td>\n",
              "      <td>93</td>\n",
              "      <td>13</td>\n",
              "      <td>Bouches-du-Rhône</td>\n",
              "      <td>bouches du rhone</td>\n",
              "      <td>17.0</td>\n",
              "      <td>Provence-Alpes-Côte d'Azur</td>\n",
              "      <td>provence alpes cote dazur</td>\n",
              "    </tr>\n",
              "    <tr>\n",
              "      <th>4</th>\n",
              "      <td>LE GAULOIS</td>\n",
              "      <td>84752155600013</td>\n",
              "      <td>13100.0</td>\n",
              "      <td>AIX EN PROVENCE</td>\n",
              "      <td>2</td>\n",
              "      <td>2019-05-22 13:00:00</td>\n",
              "      <td>Restaurant</td>\n",
              "      <td>Très satisfaisant</td>\n",
              "      <td>NaN</td>\n",
              "      <td>43.531956,5.4468</td>\n",
              "      <td>Restaurant</td>\n",
              "      <td>34 rue Jacques de la Roque</td>\n",
              "      <td>Autres</td>\n",
              "      <td>4491.0</td>\n",
              "      <td>13</td>\n",
              "      <td>13109</td>\n",
              "      <td>13100.0</td>\n",
              "      <td>Le Tholonet</td>\n",
              "      <td>le tholonet</td>\n",
              "      <td>43.520782</td>\n",
              "      <td>5.504442</td>\n",
              "      <td>13.0</td>\n",
              "      <td>93</td>\n",
              "      <td>13</td>\n",
              "      <td>Bouches-du-Rhône</td>\n",
              "      <td>bouches du rhone</td>\n",
              "      <td>17.0</td>\n",
              "      <td>Provence-Alpes-Côte d'Azur</td>\n",
              "      <td>provence alpes cote dazur</td>\n",
              "    </tr>\n",
              "  </tbody>\n",
              "</table>\n",
              "</div>"
            ],
            "text/plain": [
              "  APP_Libelle_etablissement  ...                       slug\n",
              "0                LE GAULOIS  ...  provence alpes cote dazur\n",
              "1                LE GAULOIS  ...  provence alpes cote dazur\n",
              "2                LE GAULOIS  ...  provence alpes cote dazur\n",
              "3                LE GAULOIS  ...  provence alpes cote dazur\n",
              "4                LE GAULOIS  ...  provence alpes cote dazur\n",
              "\n",
              "[5 rows x 29 columns]"
            ]
          },
          "metadata": {
            "tags": []
          },
          "execution_count": 19
        }
      ]
    },
    {
      "cell_type": "markdown",
      "metadata": {
        "id": "ea05JNxIQ9aI",
        "colab_type": "text"
      },
      "source": [
        "### Oups ... Vous ne trouvez pas qu'il y a quelque chose de bizarre ??"
      ]
    },
    {
      "cell_type": "markdown",
      "metadata": {
        "id": "Uc4TFcc1Q8DK",
        "colab_type": "text"
      },
      "source": [
        "## Nettoyer les données"
      ]
    },
    {
      "cell_type": "markdown",
      "metadata": {
        "id": "VST69Gy2hCfC",
        "colab_type": "text"
      },
      "source": [
        "### Avec le merge on a généré des duplicates. La raison est que des villes avec des noms différents partagent le même zip code. Il faut donc supprimer cette information peu utile et enlever les duplicates."
      ]
    },
    {
      "cell_type": "code",
      "metadata": {
        "colab_type": "code",
        "id": "4gQKrq_EbRKJ",
        "colab": {}
      },
      "source": [
        "# on garde uniquement les colonnes du départ + les colonnes d'info sur les régions\n",
        "columns = df.columns.tolist()\n",
        "columns += ['region_name', 'region_code']\n",
        "df_with_regions = df_with_regions.filter(items=columns)\n",
        "# On enlève les duplicates\n",
        "df_with_regions.drop_duplicates(ignore_index=True, inplace= True)"
      ],
      "execution_count": 0,
      "outputs": []
    },
    {
      "cell_type": "markdown",
      "metadata": {
        "id": "LOlEoT8ohCfH",
        "colab_type": "text"
      },
      "source": [
        "### Un classique : nettoyage des nan ! "
      ]
    },
    {
      "cell_type": "code",
      "metadata": {
        "colab_type": "code",
        "id": "kZBUpqsQcT9I",
        "outputId": "bb8b0013-ea75-4d83-ae66-20d21a497757",
        "colab": {
          "base_uri": "https://localhost:8080/",
          "height": 286
        }
      },
      "source": [
        "# C'est toujours utile de regarder combien il y a de NAN dans la table et où sont les Nan (Not A Number)\n",
        "df_with_regions.isna().sum()"
      ],
      "execution_count": 21,
      "outputs": [
        {
          "output_type": "execute_result",
          "data": {
            "text/plain": [
              "APP_Libelle_etablissement                 1\n",
              "SIRET                                     0\n",
              "Code_postal                               6\n",
              "Libelle_commune                           0\n",
              "Numero_inspection                         0\n",
              "Date_inspection                           0\n",
              "APP_Libelle_activite_etablissement        0\n",
              "Synthese_eval_sanit                       0\n",
              "Agrement                              14807\n",
              "geores                                  469\n",
              "filtre                                    0\n",
              "ods_adresse                             138\n",
              "ods_type_activite                         0\n",
              "region_name                              35\n",
              "region_code                              35\n",
              "dtype: int64"
            ]
          },
          "metadata": {
            "tags": []
          },
          "execution_count": 21
        }
      ]
    },
    {
      "cell_type": "code",
      "metadata": {
        "colab_type": "code",
        "id": "rXt4YJ4BcchI",
        "outputId": "f3137d22-eff4-47f4-821d-c025cec88ac6",
        "colab": {
          "base_uri": "https://localhost:8080/",
          "height": 286
        }
      },
      "source": [
        "# La colonne region_code nous intéresse, nettoyons les Nan dedans\n",
        "df_with_regions.dropna(subset=['region_code'], inplace=True)\n",
        "df_with_regions.isna().sum()"
      ],
      "execution_count": 22,
      "outputs": [
        {
          "output_type": "execute_result",
          "data": {
            "text/plain": [
              "APP_Libelle_etablissement                 1\n",
              "SIRET                                     0\n",
              "Code_postal                               6\n",
              "Libelle_commune                           0\n",
              "Numero_inspection                         0\n",
              "Date_inspection                           0\n",
              "APP_Libelle_activite_etablissement        0\n",
              "Synthese_eval_sanit                       0\n",
              "Agrement                              14772\n",
              "geores                                  444\n",
              "filtre                                    0\n",
              "ods_adresse                             137\n",
              "ods_type_activite                         0\n",
              "region_name                               0\n",
              "region_code                               0\n",
              "dtype: int64"
            ]
          },
          "metadata": {
            "tags": []
          },
          "execution_count": 22
        }
      ]
    },
    {
      "cell_type": "markdown",
      "metadata": {
        "id": "49Tu-Uq0hCfP",
        "colab_type": "text"
      },
      "source": [
        "## Visualiser les données : Comment les contrôles évoluent-ils par région et par mois ? "
      ]
    },
    {
      "cell_type": "code",
      "metadata": {
        "colab_type": "code",
        "id": "74wgh2ln2MQV",
        "colab": {}
      },
      "source": [
        "# On groupe les données par mois et par région\n",
        "grouped = df_with_regions.groupby([pd.Grouper(key = 'Date_inspection', freq = 'm'),'region_code'])['Synthese_eval_sanit'].count()"
      ],
      "execution_count": 0,
      "outputs": []
    },
    {
      "cell_type": "code",
      "metadata": {
        "id": "STBS35sRUS6d",
        "colab_type": "code",
        "colab": {
          "base_uri": "https://localhost:8080/",
          "height": 195
        },
        "outputId": "13930ef8-ba63-41ea-c13a-fab85324cbb8"
      },
      "source": [
        "# Un peu de transformation\n",
        "df_inspections = grouped.unstack('region_code').reset_index().melt('Date_inspection', var_name = 'region_code', value_name = 'control_count')\n",
        "df_inspections.head()"
      ],
      "execution_count": 24,
      "outputs": [
        {
          "output_type": "execute_result",
          "data": {
            "text/html": [
              "<div>\n",
              "<style scoped>\n",
              "    .dataframe tbody tr th:only-of-type {\n",
              "        vertical-align: middle;\n",
              "    }\n",
              "\n",
              "    .dataframe tbody tr th {\n",
              "        vertical-align: top;\n",
              "    }\n",
              "\n",
              "    .dataframe thead th {\n",
              "        text-align: right;\n",
              "    }\n",
              "</style>\n",
              "<table border=\"1\" class=\"dataframe\">\n",
              "  <thead>\n",
              "    <tr style=\"text-align: right;\">\n",
              "      <th></th>\n",
              "      <th>Date_inspection</th>\n",
              "      <th>region_code</th>\n",
              "      <th>control_count</th>\n",
              "    </tr>\n",
              "  </thead>\n",
              "  <tbody>\n",
              "    <tr>\n",
              "      <th>0</th>\n",
              "      <td>2019-05-31</td>\n",
              "      <td>01</td>\n",
              "      <td>6.0</td>\n",
              "    </tr>\n",
              "    <tr>\n",
              "      <th>1</th>\n",
              "      <td>2019-06-30</td>\n",
              "      <td>01</td>\n",
              "      <td>17.0</td>\n",
              "    </tr>\n",
              "    <tr>\n",
              "      <th>2</th>\n",
              "      <td>2019-07-31</td>\n",
              "      <td>01</td>\n",
              "      <td>13.0</td>\n",
              "    </tr>\n",
              "    <tr>\n",
              "      <th>3</th>\n",
              "      <td>2019-08-31</td>\n",
              "      <td>01</td>\n",
              "      <td>8.0</td>\n",
              "    </tr>\n",
              "    <tr>\n",
              "      <th>4</th>\n",
              "      <td>2019-09-30</td>\n",
              "      <td>01</td>\n",
              "      <td>12.0</td>\n",
              "    </tr>\n",
              "  </tbody>\n",
              "</table>\n",
              "</div>"
            ],
            "text/plain": [
              "  Date_inspection region_code  control_count\n",
              "0      2019-05-31          01            6.0\n",
              "1      2019-06-30          01           17.0\n",
              "2      2019-07-31          01           13.0\n",
              "3      2019-08-31          01            8.0\n",
              "4      2019-09-30          01           12.0"
            ]
          },
          "metadata": {
            "tags": []
          },
          "execution_count": 24
        }
      ]
    },
    {
      "cell_type": "code",
      "metadata": {
        "colab_type": "code",
        "id": "LujY2_Cww_gP",
        "outputId": "b01c5f18-abcd-4b1e-a895-97140f46d7d7",
        "colab": {
          "base_uri": "https://localhost:8080/",
          "height": 386
        }
      },
      "source": [
        "# Et on affiche le graphe !\n",
        "sns.relplot(x = 'Date_inspection', y= 'control_count', hue = 'region_code', data= df_inspections, kind = 'line')"
      ],
      "execution_count": 25,
      "outputs": [
        {
          "output_type": "execute_result",
          "data": {
            "text/plain": [
              "<seaborn.axisgrid.FacetGrid at 0x7f5918abdeb8>"
            ]
          },
          "metadata": {
            "tags": []
          },
          "execution_count": 25
        },
        {
          "output_type": "display_data",
          "data": {
            "image/png": "[encoded data removed]",
            "text/plain": [
              "<Figure size 456.625x360 with 1 Axes>"
            ]
          },
          "metadata": {
            "tags": [],
            "needs_background": "light"
          }
        }
      ]
    },
    {
      "cell_type": "markdown",
      "metadata": {
        "id": "EX-W70xfhCfa",
        "colab_type": "text"
      },
      "source": [
        "### Bon ... on ne comprend pas grand chose avec ce graphe. Mais on sent qu'une région se démarque des autres par le nombre de contrôles, c'est l'Ile de France. Il faudrait ramener le nombre de contrôles par rapport à la population de la région ou au nombre de restaurants de la région"
      ]
    },
    {
      "cell_type": "markdown",
      "metadata": {
        "id": "X1Ul3c02RT-V",
        "colab_type": "text"
      },
      "source": [
        "## Charger et nettoyer les données "
      ]
    },
    {
      "cell_type": "code",
      "metadata": {
        "id": "Sawd7xwdhCfa",
        "colab_type": "code",
        "outputId": "40ea0d79-fc82-41a1-965b-489f6b1bcb3d",
        "colab": {
          "base_uri": "https://localhost:8080/",
          "height": 400
        }
      },
      "source": [
        "# On joint les données en utilisant les colonnes en commun entre les dataFrame\n",
        "restaurants_with_regions = pd.merge(cp_restaurant, df_cities, how= 'left', left_on = 'codePostalEtablissement', right_on = 'zip_code')\n",
        "restaurants_with_regions = pd.merge(restaurants_with_regions, df_departments, how= 'left', left_on = 'department_code', right_on = 'code')\n",
        "restaurants_with_regions = pd.merge(restaurants_with_regions, df_regions, how= 'left', on = 'region_code')\n",
        "\n",
        "# Observons le résultat\n",
        "restaurants_with_regions.head()"
      ],
      "execution_count": 26,
      "outputs": [
        {
          "output_type": "execute_result",
          "data": {
            "text/html": [
              "<div>\n",
              "<style scoped>\n",
              "    .dataframe tbody tr th:only-of-type {\n",
              "        vertical-align: middle;\n",
              "    }\n",
              "\n",
              "    .dataframe tbody tr th {\n",
              "        vertical-align: top;\n",
              "    }\n",
              "\n",
              "    .dataframe thead th {\n",
              "        text-align: right;\n",
              "    }\n",
              "</style>\n",
              "<table border=\"1\" class=\"dataframe\">\n",
              "  <thead>\n",
              "    <tr style=\"text-align: right;\">\n",
              "      <th></th>\n",
              "      <th>Unnamed: 0</th>\n",
              "      <th>siret</th>\n",
              "      <th>enseigne1Etablissement</th>\n",
              "      <th>codePostalEtablissement</th>\n",
              "      <th>id_x</th>\n",
              "      <th>department_code</th>\n",
              "      <th>insee_code</th>\n",
              "      <th>zip_code</th>\n",
              "      <th>name_x</th>\n",
              "      <th>slug_x</th>\n",
              "      <th>gps_lat</th>\n",
              "      <th>gps_lng</th>\n",
              "      <th>id_y</th>\n",
              "      <th>region_code</th>\n",
              "      <th>code</th>\n",
              "      <th>name_y</th>\n",
              "      <th>slug_y</th>\n",
              "      <th>id</th>\n",
              "      <th>region_name</th>\n",
              "      <th>slug</th>\n",
              "    </tr>\n",
              "  </thead>\n",
              "  <tbody>\n",
              "    <tr>\n",
              "      <th>0</th>\n",
              "      <td>12558</td>\n",
              "      <td>1555034600017</td>\n",
              "      <td>LE CINTRA - L'ADAGIO</td>\n",
              "      <td>21000.0</td>\n",
              "      <td>6955.0</td>\n",
              "      <td>21</td>\n",
              "      <td>21231</td>\n",
              "      <td>21000.0</td>\n",
              "      <td>Dijon</td>\n",
              "      <td>dijon</td>\n",
              "      <td>47.325183</td>\n",
              "      <td>5.035673</td>\n",
              "      <td>20.0</td>\n",
              "      <td>27</td>\n",
              "      <td>21</td>\n",
              "      <td>Côte-d'Or</td>\n",
              "      <td>cote dor</td>\n",
              "      <td>8.0</td>\n",
              "      <td>Bourgogne-Franche-Comté</td>\n",
              "      <td>bourgogne franche comte</td>\n",
              "    </tr>\n",
              "    <tr>\n",
              "      <th>1</th>\n",
              "      <td>12559</td>\n",
              "      <td>1555034600025</td>\n",
              "      <td>LA TRATTORIA</td>\n",
              "      <td>73440.0</td>\n",
              "      <td>29532.0</td>\n",
              "      <td>73</td>\n",
              "      <td>73244</td>\n",
              "      <td>73440.0</td>\n",
              "      <td>Saint-Jean-de-Belleville</td>\n",
              "      <td>saint jean de belleville</td>\n",
              "      <td>45.402507</td>\n",
              "      <td>6.448191</td>\n",
              "      <td>74.0</td>\n",
              "      <td>84</td>\n",
              "      <td>73</td>\n",
              "      <td>Savoie</td>\n",
              "      <td>savoie</td>\n",
              "      <td>16.0</td>\n",
              "      <td>Auvergne-Rhône-Alpes</td>\n",
              "      <td>auvergne rhone alpes</td>\n",
              "    </tr>\n",
              "    <tr>\n",
              "      <th>2</th>\n",
              "      <td>12559</td>\n",
              "      <td>1555034600025</td>\n",
              "      <td>LA TRATTORIA</td>\n",
              "      <td>73440.0</td>\n",
              "      <td>29544.0</td>\n",
              "      <td>73</td>\n",
              "      <td>73257</td>\n",
              "      <td>73440.0</td>\n",
              "      <td>Les Belleville</td>\n",
              "      <td>les belleville</td>\n",
              "      <td>45.380402</td>\n",
              "      <td>6.504104</td>\n",
              "      <td>74.0</td>\n",
              "      <td>84</td>\n",
              "      <td>73</td>\n",
              "      <td>Savoie</td>\n",
              "      <td>savoie</td>\n",
              "      <td>16.0</td>\n",
              "      <td>Auvergne-Rhône-Alpes</td>\n",
              "      <td>auvergne rhone alpes</td>\n",
              "    </tr>\n",
              "    <tr>\n",
              "      <th>3</th>\n",
              "      <td>13201</td>\n",
              "      <td>1565125000019</td>\n",
              "      <td>NaN</td>\n",
              "      <td>21000.0</td>\n",
              "      <td>6955.0</td>\n",
              "      <td>21</td>\n",
              "      <td>21231</td>\n",
              "      <td>21000.0</td>\n",
              "      <td>Dijon</td>\n",
              "      <td>dijon</td>\n",
              "      <td>47.325183</td>\n",
              "      <td>5.035673</td>\n",
              "      <td>20.0</td>\n",
              "      <td>27</td>\n",
              "      <td>21</td>\n",
              "      <td>Côte-d'Or</td>\n",
              "      <td>cote dor</td>\n",
              "      <td>8.0</td>\n",
              "      <td>Bourgogne-Franche-Comté</td>\n",
              "      <td>bourgogne franche comte</td>\n",
              "    </tr>\n",
              "    <tr>\n",
              "      <th>4</th>\n",
              "      <td>14480</td>\n",
              "      <td>1605002300015</td>\n",
              "      <td>NaN</td>\n",
              "      <td>21210.0</td>\n",
              "      <td>6866.0</td>\n",
              "      <td>21</td>\n",
              "      <td>21139</td>\n",
              "      <td>21210.0</td>\n",
              "      <td>Champeau-en-Morvan</td>\n",
              "      <td>champeau en morvan</td>\n",
              "      <td>47.273896</td>\n",
              "      <td>4.150100</td>\n",
              "      <td>20.0</td>\n",
              "      <td>27</td>\n",
              "      <td>21</td>\n",
              "      <td>Côte-d'Or</td>\n",
              "      <td>cote dor</td>\n",
              "      <td>8.0</td>\n",
              "      <td>Bourgogne-Franche-Comté</td>\n",
              "      <td>bourgogne franche comte</td>\n",
              "    </tr>\n",
              "  </tbody>\n",
              "</table>\n",
              "</div>"
            ],
            "text/plain": [
              "   Unnamed: 0          siret  ...              region_name                     slug\n",
              "0       12558  1555034600017  ...  Bourgogne-Franche-Comté  bourgogne franche comte\n",
              "1       12559  1555034600025  ...     Auvergne-Rhône-Alpes     auvergne rhone alpes\n",
              "2       12559  1555034600025  ...     Auvergne-Rhône-Alpes     auvergne rhone alpes\n",
              "3       13201  1565125000019  ...  Bourgogne-Franche-Comté  bourgogne franche comte\n",
              "4       14480  1605002300015  ...  Bourgogne-Franche-Comté  bourgogne franche comte\n",
              "\n",
              "[5 rows x 20 columns]"
            ]
          },
          "metadata": {
            "tags": []
          },
          "execution_count": 26
        }
      ]
    },
    {
      "cell_type": "code",
      "metadata": {
        "id": "jBIfY8XjhCfg",
        "colab_type": "code",
        "colab": {}
      },
      "source": [
        "# on garde uniquement les colonnes du départ + les colonnes d'info sur les régions\n",
        "columns = cp_restaurant.columns.tolist()\n",
        "columns += ['region_name', 'region_code']\n",
        "restaurants_with_regions = restaurants_with_regions.filter(items=columns)\n",
        "# on enlève les duplicates\n",
        "restaurants_with_regions.drop_duplicates(ignore_index=True, inplace= True)"
      ],
      "execution_count": 0,
      "outputs": []
    },
    {
      "cell_type": "code",
      "metadata": {
        "id": "mOuPxDjqhCfk",
        "colab_type": "code",
        "outputId": "e276c892-97f3-4c22-f3a8-f629eeec2831",
        "colab": {
          "base_uri": "https://localhost:8080/",
          "height": 195
        }
      },
      "source": [
        "restaurants_with_regions.head()"
      ],
      "execution_count": 28,
      "outputs": [
        {
          "output_type": "execute_result",
          "data": {
            "text/html": [
              "<div>\n",
              "<style scoped>\n",
              "    .dataframe tbody tr th:only-of-type {\n",
              "        vertical-align: middle;\n",
              "    }\n",
              "\n",
              "    .dataframe tbody tr th {\n",
              "        vertical-align: top;\n",
              "    }\n",
              "\n",
              "    .dataframe thead th {\n",
              "        text-align: right;\n",
              "    }\n",
              "</style>\n",
              "<table border=\"1\" class=\"dataframe\">\n",
              "  <thead>\n",
              "    <tr style=\"text-align: right;\">\n",
              "      <th></th>\n",
              "      <th>Unnamed: 0</th>\n",
              "      <th>siret</th>\n",
              "      <th>enseigne1Etablissement</th>\n",
              "      <th>codePostalEtablissement</th>\n",
              "      <th>region_name</th>\n",
              "      <th>region_code</th>\n",
              "    </tr>\n",
              "  </thead>\n",
              "  <tbody>\n",
              "    <tr>\n",
              "      <th>0</th>\n",
              "      <td>12558</td>\n",
              "      <td>1555034600017</td>\n",
              "      <td>LE CINTRA - L'ADAGIO</td>\n",
              "      <td>21000.0</td>\n",
              "      <td>Bourgogne-Franche-Comté</td>\n",
              "      <td>27</td>\n",
              "    </tr>\n",
              "    <tr>\n",
              "      <th>1</th>\n",
              "      <td>12559</td>\n",
              "      <td>1555034600025</td>\n",
              "      <td>LA TRATTORIA</td>\n",
              "      <td>73440.0</td>\n",
              "      <td>Auvergne-Rhône-Alpes</td>\n",
              "      <td>84</td>\n",
              "    </tr>\n",
              "    <tr>\n",
              "      <th>2</th>\n",
              "      <td>13201</td>\n",
              "      <td>1565125000019</td>\n",
              "      <td>NaN</td>\n",
              "      <td>21000.0</td>\n",
              "      <td>Bourgogne-Franche-Comté</td>\n",
              "      <td>27</td>\n",
              "    </tr>\n",
              "    <tr>\n",
              "      <th>3</th>\n",
              "      <td>14480</td>\n",
              "      <td>1605002300015</td>\n",
              "      <td>NaN</td>\n",
              "      <td>21210.0</td>\n",
              "      <td>Bourgogne-Franche-Comté</td>\n",
              "      <td>27</td>\n",
              "    </tr>\n",
              "    <tr>\n",
              "      <th>4</th>\n",
              "      <td>14481</td>\n",
              "      <td>1605002300023</td>\n",
              "      <td>LOISEAU DES SENS</td>\n",
              "      <td>21210.0</td>\n",
              "      <td>Bourgogne-Franche-Comté</td>\n",
              "      <td>27</td>\n",
              "    </tr>\n",
              "  </tbody>\n",
              "</table>\n",
              "</div>"
            ],
            "text/plain": [
              "   Unnamed: 0          siret  ...              region_name  region_code\n",
              "0       12558  1555034600017  ...  Bourgogne-Franche-Comté           27\n",
              "1       12559  1555034600025  ...     Auvergne-Rhône-Alpes           84\n",
              "2       13201  1565125000019  ...  Bourgogne-Franche-Comté           27\n",
              "3       14480  1605002300015  ...  Bourgogne-Franche-Comté           27\n",
              "4       14481  1605002300023  ...  Bourgogne-Franche-Comté           27\n",
              "\n",
              "[5 rows x 6 columns]"
            ]
          },
          "metadata": {
            "tags": []
          },
          "execution_count": 28
        }
      ]
    },
    {
      "cell_type": "markdown",
      "metadata": {
        "id": "d57IMsW2RyC5",
        "colab_type": "text"
      },
      "source": [
        "## Visualiser les données"
      ]
    },
    {
      "cell_type": "markdown",
      "metadata": {
        "id": "O7e4VYLPhCfo",
        "colab_type": "text"
      },
      "source": [
        "### Maintenant que l'on a les informations sur tous les restaurants de France, groupons les par région pour connaître le nombre de restaurants par région "
      ]
    },
    {
      "cell_type": "code",
      "metadata": {
        "id": "C6KRHpNihCfp",
        "colab_type": "code",
        "colab": {
          "base_uri": "https://localhost:8080/",
          "height": 195
        },
        "outputId": "cf523cdb-0f00-46e0-9324-6324e494a08e"
      },
      "source": [
        "nb_rest_regions = restaurants_with_regions.groupby(['region_code'])['siret'].count().reset_index(level = 'region_code')\n",
        "nb_rest_regions.columns = ['region_code','nb restaurant total']\n",
        "nb_rest_regions = pd.merge(nb_rest_regions, df_regions, how= 'left', on = 'region_code')\n",
        "nb_rest_regions.head()"
      ],
      "execution_count": 29,
      "outputs": [
        {
          "output_type": "execute_result",
          "data": {
            "text/html": [
              "<div>\n",
              "<style scoped>\n",
              "    .dataframe tbody tr th:only-of-type {\n",
              "        vertical-align: middle;\n",
              "    }\n",
              "\n",
              "    .dataframe tbody tr th {\n",
              "        vertical-align: top;\n",
              "    }\n",
              "\n",
              "    .dataframe thead th {\n",
              "        text-align: right;\n",
              "    }\n",
              "</style>\n",
              "<table border=\"1\" class=\"dataframe\">\n",
              "  <thead>\n",
              "    <tr style=\"text-align: right;\">\n",
              "      <th></th>\n",
              "      <th>region_code</th>\n",
              "      <th>nb restaurant total</th>\n",
              "      <th>id</th>\n",
              "      <th>region_name</th>\n",
              "      <th>slug</th>\n",
              "    </tr>\n",
              "  </thead>\n",
              "  <tbody>\n",
              "    <tr>\n",
              "      <th>0</th>\n",
              "      <td>01</td>\n",
              "      <td>3016</td>\n",
              "      <td>1</td>\n",
              "      <td>Guadeloupe</td>\n",
              "      <td>guadeloupe</td>\n",
              "    </tr>\n",
              "    <tr>\n",
              "      <th>1</th>\n",
              "      <td>02</td>\n",
              "      <td>1830</td>\n",
              "      <td>2</td>\n",
              "      <td>Martinique</td>\n",
              "      <td>martinique</td>\n",
              "    </tr>\n",
              "    <tr>\n",
              "      <th>2</th>\n",
              "      <td>03</td>\n",
              "      <td>686</td>\n",
              "      <td>3</td>\n",
              "      <td>Guyane</td>\n",
              "      <td>guyane</td>\n",
              "    </tr>\n",
              "    <tr>\n",
              "      <th>3</th>\n",
              "      <td>04</td>\n",
              "      <td>2580</td>\n",
              "      <td>4</td>\n",
              "      <td>La Réunion</td>\n",
              "      <td>la reunion</td>\n",
              "    </tr>\n",
              "    <tr>\n",
              "      <th>4</th>\n",
              "      <td>06</td>\n",
              "      <td>372</td>\n",
              "      <td>5</td>\n",
              "      <td>Mayotte</td>\n",
              "      <td>mayotte</td>\n",
              "    </tr>\n",
              "  </tbody>\n",
              "</table>\n",
              "</div>"
            ],
            "text/plain": [
              "  region_code  nb restaurant total  id region_name        slug\n",
              "0          01                 3016   1  Guadeloupe  guadeloupe\n",
              "1          02                 1830   2  Martinique  martinique\n",
              "2          03                  686   3      Guyane      guyane\n",
              "3          04                 2580   4  La Réunion  la reunion\n",
              "4          06                  372   5     Mayotte     mayotte"
            ]
          },
          "metadata": {
            "tags": []
          },
          "execution_count": 29
        }
      ]
    },
    {
      "cell_type": "markdown",
      "metadata": {
        "id": "NrVlWS2QT_j7",
        "colab_type": "text"
      },
      "source": [
        "### On peut maintenant ajouter ces informations à notre tableau df_inspections. Sur quelle colonne va-t-on s'appuyer cette fois ci ? "
      ]
    },
    {
      "cell_type": "code",
      "metadata": {
        "id": "OCtzVr4uhCft",
        "colab_type": "code",
        "outputId": "79ee0601-1826-4f4a-b23a-0ba75cf4d907",
        "colab": {
          "base_uri": "https://localhost:8080/",
          "height": 195
        }
      },
      "source": [
        "#clean 'COM' region\n",
        "df_inspections.loc[df_inspections['region_code'] == 'COM','region_code'] = '100'\n",
        "nb_rest_regions.loc[nb_rest_regions['region_code'] == 'COM','region_code'] = '100'\n",
        "# merge the inspection list with the population data\n",
        "df_inspections = pd.merge(df_inspections, nb_rest_regions, how= 'left', left_on='region_code', right_on='region_code')\n",
        "# this is what we obtained :\n",
        "df_inspections.head()"
      ],
      "execution_count": 30,
      "outputs": [
        {
          "output_type": "execute_result",
          "data": {
            "text/html": [
              "<div>\n",
              "<style scoped>\n",
              "    .dataframe tbody tr th:only-of-type {\n",
              "        vertical-align: middle;\n",
              "    }\n",
              "\n",
              "    .dataframe tbody tr th {\n",
              "        vertical-align: top;\n",
              "    }\n",
              "\n",
              "    .dataframe thead th {\n",
              "        text-align: right;\n",
              "    }\n",
              "</style>\n",
              "<table border=\"1\" class=\"dataframe\">\n",
              "  <thead>\n",
              "    <tr style=\"text-align: right;\">\n",
              "      <th></th>\n",
              "      <th>Date_inspection</th>\n",
              "      <th>region_code</th>\n",
              "      <th>control_count</th>\n",
              "      <th>nb restaurant total</th>\n",
              "      <th>id</th>\n",
              "      <th>region_name</th>\n",
              "      <th>slug</th>\n",
              "    </tr>\n",
              "  </thead>\n",
              "  <tbody>\n",
              "    <tr>\n",
              "      <th>0</th>\n",
              "      <td>2019-05-31</td>\n",
              "      <td>01</td>\n",
              "      <td>6.0</td>\n",
              "      <td>3016</td>\n",
              "      <td>1</td>\n",
              "      <td>Guadeloupe</td>\n",
              "      <td>guadeloupe</td>\n",
              "    </tr>\n",
              "    <tr>\n",
              "      <th>1</th>\n",
              "      <td>2019-06-30</td>\n",
              "      <td>01</td>\n",
              "      <td>17.0</td>\n",
              "      <td>3016</td>\n",
              "      <td>1</td>\n",
              "      <td>Guadeloupe</td>\n",
              "      <td>guadeloupe</td>\n",
              "    </tr>\n",
              "    <tr>\n",
              "      <th>2</th>\n",
              "      <td>2019-07-31</td>\n",
              "      <td>01</td>\n",
              "      <td>13.0</td>\n",
              "      <td>3016</td>\n",
              "      <td>1</td>\n",
              "      <td>Guadeloupe</td>\n",
              "      <td>guadeloupe</td>\n",
              "    </tr>\n",
              "    <tr>\n",
              "      <th>3</th>\n",
              "      <td>2019-08-31</td>\n",
              "      <td>01</td>\n",
              "      <td>8.0</td>\n",
              "      <td>3016</td>\n",
              "      <td>1</td>\n",
              "      <td>Guadeloupe</td>\n",
              "      <td>guadeloupe</td>\n",
              "    </tr>\n",
              "    <tr>\n",
              "      <th>4</th>\n",
              "      <td>2019-09-30</td>\n",
              "      <td>01</td>\n",
              "      <td>12.0</td>\n",
              "      <td>3016</td>\n",
              "      <td>1</td>\n",
              "      <td>Guadeloupe</td>\n",
              "      <td>guadeloupe</td>\n",
              "    </tr>\n",
              "  </tbody>\n",
              "</table>\n",
              "</div>"
            ],
            "text/plain": [
              "  Date_inspection region_code  control_count  ...  id  region_name        slug\n",
              "0      2019-05-31          01            6.0  ...   1   Guadeloupe  guadeloupe\n",
              "1      2019-06-30          01           17.0  ...   1   Guadeloupe  guadeloupe\n",
              "2      2019-07-31          01           13.0  ...   1   Guadeloupe  guadeloupe\n",
              "3      2019-08-31          01            8.0  ...   1   Guadeloupe  guadeloupe\n",
              "4      2019-09-30          01           12.0  ...   1   Guadeloupe  guadeloupe\n",
              "\n",
              "[5 rows x 7 columns]"
            ]
          },
          "metadata": {
            "tags": []
          },
          "execution_count": 30
        }
      ]
    },
    {
      "cell_type": "code",
      "metadata": {
        "id": "6hbXlWPJhCfx",
        "colab_type": "code",
        "colab": {}
      },
      "source": [
        "# calculate the ratio for the population \n",
        "df_inspections['ratio_control_for1000'] = df_inspections['control_count'] / df_inspections['nb restaurant total'] * 1000"
      ],
      "execution_count": 0,
      "outputs": []
    },
    {
      "cell_type": "markdown",
      "metadata": {
        "id": "r_sT4c8RR4x4",
        "colab_type": "text"
      },
      "source": [
        "### Regardons ce que cela donne ? "
      ]
    },
    {
      "cell_type": "code",
      "metadata": {
        "colab_type": "code",
        "id": "qE1ZfYkgNek_",
        "outputId": "69510410-fa88-43e5-de71-16b124d26764",
        "colab": {
          "base_uri": "https://localhost:8080/",
          "height": 413
        }
      },
      "source": [
        "sns.set_style(\"whitegrid\")\n",
        "g = sns.relplot(x = 'Date_inspection', y= 'ratio_control_for1000', hue = 'region_name', data= df_inspections, kind = 'line')\n",
        "#g.set(ylim=(0, 30))\n",
        "g.set_xticklabels(rotation=45, horizontalalignment='right')"
      ],
      "execution_count": 32,
      "outputs": [
        {
          "output_type": "execute_result",
          "data": {
            "text/plain": [
              "<seaborn.axisgrid.FacetGrid at 0x7f5916132588>"
            ]
          },
          "metadata": {
            "tags": []
          },
          "execution_count": 32
        },
        {
          "output_type": "display_data",
          "data": {
            "image/png": "[encoded data removed]",
            "text/plain": [
              "<Figure size 533.875x360 with 1 Axes>"
            ]
          },
          "metadata": {
            "tags": []
          }
        }
      ]
    },
    {
      "cell_type": "markdown",
      "metadata": {
        "id": "IGqUawaCR_Br",
        "colab_type": "text"
      },
      "source": [
        "### Mieux ! On sent qu'il y a des mauvais élèves au fond de la classe. Pourrait-on regarder quel est le classement des gens qui n'ont pas fait leur quotat d'inspections par mois ?"
      ]
    },
    {
      "cell_type": "code",
      "metadata": {
        "colab_type": "code",
        "id": "dMeHDBa7ioZJ",
        "outputId": "2d661ef9-e668-4c1b-d121-42163bb70705",
        "colab": {
          "base_uri": "https://localhost:8080/",
          "height": 195
        }
      },
      "source": [
        "# let's have a look at the regions that did less that 3 inspection per 100 00 restaurants\n",
        "df_few_inspections = df_inspections[df_inspections['ratio_control_for1000'] < 3.0]\n",
        "df_few_inspections.head()"
      ],
      "execution_count": 33,
      "outputs": [
        {
          "output_type": "execute_result",
          "data": {
            "text/html": [
              "<div>\n",
              "<style scoped>\n",
              "    .dataframe tbody tr th:only-of-type {\n",
              "        vertical-align: middle;\n",
              "    }\n",
              "\n",
              "    .dataframe tbody tr th {\n",
              "        vertical-align: top;\n",
              "    }\n",
              "\n",
              "    .dataframe thead th {\n",
              "        text-align: right;\n",
              "    }\n",
              "</style>\n",
              "<table border=\"1\" class=\"dataframe\">\n",
              "  <thead>\n",
              "    <tr style=\"text-align: right;\">\n",
              "      <th></th>\n",
              "      <th>Date_inspection</th>\n",
              "      <th>region_code</th>\n",
              "      <th>control_count</th>\n",
              "      <th>nb restaurant total</th>\n",
              "      <th>id</th>\n",
              "      <th>region_name</th>\n",
              "      <th>slug</th>\n",
              "      <th>ratio_control_for1000</th>\n",
              "    </tr>\n",
              "  </thead>\n",
              "  <tbody>\n",
              "    <tr>\n",
              "      <th>0</th>\n",
              "      <td>2019-05-31</td>\n",
              "      <td>01</td>\n",
              "      <td>6.0</td>\n",
              "      <td>3016</td>\n",
              "      <td>1</td>\n",
              "      <td>Guadeloupe</td>\n",
              "      <td>guadeloupe</td>\n",
              "      <td>1.989390</td>\n",
              "    </tr>\n",
              "    <tr>\n",
              "      <th>3</th>\n",
              "      <td>2019-08-31</td>\n",
              "      <td>01</td>\n",
              "      <td>8.0</td>\n",
              "      <td>3016</td>\n",
              "      <td>1</td>\n",
              "      <td>Guadeloupe</td>\n",
              "      <td>guadeloupe</td>\n",
              "      <td>2.652520</td>\n",
              "    </tr>\n",
              "    <tr>\n",
              "      <th>7</th>\n",
              "      <td>2019-12-31</td>\n",
              "      <td>01</td>\n",
              "      <td>7.0</td>\n",
              "      <td>3016</td>\n",
              "      <td>1</td>\n",
              "      <td>Guadeloupe</td>\n",
              "      <td>guadeloupe</td>\n",
              "      <td>2.320955</td>\n",
              "    </tr>\n",
              "    <tr>\n",
              "      <th>8</th>\n",
              "      <td>2020-01-31</td>\n",
              "      <td>01</td>\n",
              "      <td>9.0</td>\n",
              "      <td>3016</td>\n",
              "      <td>1</td>\n",
              "      <td>Guadeloupe</td>\n",
              "      <td>guadeloupe</td>\n",
              "      <td>2.984085</td>\n",
              "    </tr>\n",
              "    <tr>\n",
              "      <th>10</th>\n",
              "      <td>2020-03-31</td>\n",
              "      <td>01</td>\n",
              "      <td>9.0</td>\n",
              "      <td>3016</td>\n",
              "      <td>1</td>\n",
              "      <td>Guadeloupe</td>\n",
              "      <td>guadeloupe</td>\n",
              "      <td>2.984085</td>\n",
              "    </tr>\n",
              "  </tbody>\n",
              "</table>\n",
              "</div>"
            ],
            "text/plain": [
              "   Date_inspection region_code  ...        slug  ratio_control_for1000\n",
              "0       2019-05-31          01  ...  guadeloupe               1.989390\n",
              "3       2019-08-31          01  ...  guadeloupe               2.652520\n",
              "7       2019-12-31          01  ...  guadeloupe               2.320955\n",
              "8       2020-01-31          01  ...  guadeloupe               2.984085\n",
              "10      2020-03-31          01  ...  guadeloupe               2.984085\n",
              "\n",
              "[5 rows x 8 columns]"
            ]
          },
          "metadata": {
            "tags": []
          },
          "execution_count": 33
        }
      ]
    },
    {
      "cell_type": "code",
      "metadata": {
        "id": "VmCRJD1ChCf9",
        "colab_type": "code",
        "outputId": "e819148b-c0cd-4566-ca8a-c96c8bdecfe6",
        "colab": {
          "base_uri": "https://localhost:8080/",
          "height": 370
        }
      },
      "source": [
        "df_few_inspections.groupby(['region_name'])['ratio_control_for1000'].count().sort_values(ascending = False)"
      ],
      "execution_count": 34,
      "outputs": [
        {
          "output_type": "execute_result",
          "data": {
            "text/plain": [
              "region_name\n",
              "La Réunion                    9\n",
              "Bretagne                      7\n",
              "Auvergne-Rhône-Alpes          6\n",
              "Occitanie                     6\n",
              "Provence-Alpes-Côte d'Azur    6\n",
              "Corse                         6\n",
              "Martinique                    5\n",
              "Guadeloupe                    5\n",
              "Centre-Val de Loire           5\n",
              "Pays de la Loire              4\n",
              "Nouvelle-Aquitaine            4\n",
              "Normandie                     4\n",
              "Bourgogne-Franche-Comté       4\n",
              "Guyane                        3\n",
              "Grand Est                     3\n",
              "Collectivités d'Outre-Mer     3\n",
              "Hauts-de-France               2\n",
              "Mayotte                       1\n",
              "Île-de-France                 1\n",
              "Name: ratio_control_for1000, dtype: int64"
            ]
          },
          "metadata": {
            "tags": []
          },
          "execution_count": 34
        }
      ]
    },
    {
      "cell_type": "code",
      "metadata": {
        "id": "_4YuZgdfhCgB",
        "colab_type": "code",
        "outputId": "15e53640-528c-4911-feb2-9871f5c713fb",
        "colab": {
          "base_uri": "https://localhost:8080/",
          "height": 425
        }
      },
      "source": [
        "data = df_few_inspections.groupby(['region_name'])['ratio_control_for1000'].count().sort_values(ascending = False)\n",
        "data.plot(kind = 'bar')"
      ],
      "execution_count": 35,
      "outputs": [
        {
          "output_type": "execute_result",
          "data": {
            "text/plain": [
              "<matplotlib.axes._subplots.AxesSubplot at 0x7f5915ff0400>"
            ]
          },
          "metadata": {
            "tags": []
          },
          "execution_count": 35
        },
        {
          "output_type": "display_data",
          "data": {
            "image/png": "[encoded data removed]",
            "text/plain": [
              "<Figure size 432x288 with 1 Axes>"
            ]
          },
          "metadata": {
            "tags": []
          }
        }
      ]
    },
    {
      "cell_type": "markdown",
      "metadata": {
        "id": "nMTIwfbwhCgF",
        "colab_type": "text"
      },
      "source": [
        "### OK très bien mais avec ce système ceux qui n'ont pas du tout inspecté n'apparaissent même pas. Est-on vraiment sûr que tout le monde inspectait bien tous les mois ? "
      ]
    },
    {
      "cell_type": "code",
      "metadata": {
        "id": "IfnGt8dMhCgF",
        "colab_type": "code",
        "outputId": "fbd6f604-6d93-455b-dd86-07656a46bdb6",
        "colab": {
          "base_uri": "https://localhost:8080/",
          "height": 370
        }
      },
      "source": [
        "# let's check that everyone was indeed inspecting stuff\n",
        "df_inspections.groupby(['region_name'])['ratio_control_for1000'].count().sort_values(ascending = False)"
      ],
      "execution_count": 36,
      "outputs": [
        {
          "output_type": "execute_result",
          "data": {
            "text/plain": [
              "region_name\n",
              "Normandie                     13\n",
              "Île-de-France                 12\n",
              "Bretagne                      12\n",
              "Provence-Alpes-Côte d'Azur    12\n",
              "Hauts-de-France               12\n",
              "Occitanie                     12\n",
              "Auvergne-Rhône-Alpes          12\n",
              "Nouvelle-Aquitaine            11\n",
              "Martinique                    11\n",
              "La Réunion                    11\n",
              "Guyane                        11\n",
              "Guadeloupe                    11\n",
              "Grand Est                     11\n",
              "Corse                         11\n",
              "Centre-Val de Loire           11\n",
              "Pays de la Loire              11\n",
              "Bourgogne-Franche-Comté       11\n",
              "Mayotte                        9\n",
              "Collectivités d'Outre-Mer      7\n",
              "Name: ratio_control_for1000, dtype: int64"
            ]
          },
          "metadata": {
            "tags": []
          },
          "execution_count": 36
        }
      ]
    },
    {
      "cell_type": "code",
      "metadata": {
        "id": "86TQM_tOhCgJ",
        "colab_type": "code",
        "outputId": "a23b0a9b-96bc-44bb-ac1e-6d53de4e3ebd",
        "colab": {
          "base_uri": "https://localhost:8080/",
          "height": 269
        }
      },
      "source": [
        "# let's check that everyone was indeed inspecting stuff\n",
        "df_inspections.groupby(['Date_inspection'])['ratio_control_for1000'].count().sort_values(ascending = False)"
      ],
      "execution_count": 37,
      "outputs": [
        {
          "output_type": "execute_result",
          "data": {
            "text/plain": [
              "Date_inspection\n",
              "2020-02-29    19\n",
              "2019-10-31    19\n",
              "2019-09-30    19\n",
              "2019-08-31    19\n",
              "2019-07-31    19\n",
              "2019-06-30    19\n",
              "2020-01-31    18\n",
              "2019-12-31    18\n",
              "2019-11-30    18\n",
              "2019-05-31    18\n",
              "2020-03-31    17\n",
              "2020-04-30     6\n",
              "2020-05-31     2\n",
              "Name: ratio_control_for1000, dtype: int64"
            ]
          },
          "metadata": {
            "tags": []
          },
          "execution_count": 37
        }
      ]
    },
    {
      "cell_type": "code",
      "metadata": {
        "id": "iNfevf4BhCgN",
        "colab_type": "code",
        "outputId": "91a21021-7d58-4ed3-bfd0-4c4e2d3ff06b",
        "colab": {
          "base_uri": "https://localhost:8080/",
          "height": 235
        }
      },
      "source": [
        "# looks like that due to the coronavirus, people were not inspecting in april or may 2020: let's remove these months for the analysis\n",
        "df_inspections = df_inspections[df_inspections['Date_inspection'] < '2020-04']\n",
        "# let's check that we removed everything \n",
        "df_inspections.groupby(['Date_inspection'])['ratio_control_for1000'].count().sort_values(ascending = False)"
      ],
      "execution_count": 38,
      "outputs": [
        {
          "output_type": "execute_result",
          "data": {
            "text/plain": [
              "Date_inspection\n",
              "2020-02-29    19\n",
              "2019-10-31    19\n",
              "2019-09-30    19\n",
              "2019-08-31    19\n",
              "2019-07-31    19\n",
              "2019-06-30    19\n",
              "2020-01-31    18\n",
              "2019-12-31    18\n",
              "2019-11-30    18\n",
              "2019-05-31    18\n",
              "2020-03-31    17\n",
              "Name: ratio_control_for1000, dtype: int64"
            ]
          },
          "metadata": {
            "tags": []
          },
          "execution_count": 38
        }
      ]
    },
    {
      "cell_type": "code",
      "metadata": {
        "id": "DEheYQWYhCgR",
        "colab_type": "code",
        "outputId": "739330b1-545b-4f06-d895-6485e5f2c05e",
        "colab": {
          "base_uri": "https://localhost:8080/",
          "height": 195
        }
      },
      "source": [
        "# let's have a look at the regions that did less that 1 inspection per 100 000 inhabitants \n",
        "df_few_inspections = df_inspections[df_inspections['ratio_control_for1000'] <  3.0]\n",
        "df_few_inspections.head()"
      ],
      "execution_count": 39,
      "outputs": [
        {
          "output_type": "execute_result",
          "data": {
            "text/html": [
              "<div>\n",
              "<style scoped>\n",
              "    .dataframe tbody tr th:only-of-type {\n",
              "        vertical-align: middle;\n",
              "    }\n",
              "\n",
              "    .dataframe tbody tr th {\n",
              "        vertical-align: top;\n",
              "    }\n",
              "\n",
              "    .dataframe thead th {\n",
              "        text-align: right;\n",
              "    }\n",
              "</style>\n",
              "<table border=\"1\" class=\"dataframe\">\n",
              "  <thead>\n",
              "    <tr style=\"text-align: right;\">\n",
              "      <th></th>\n",
              "      <th>Date_inspection</th>\n",
              "      <th>region_code</th>\n",
              "      <th>control_count</th>\n",
              "      <th>nb restaurant total</th>\n",
              "      <th>id</th>\n",
              "      <th>region_name</th>\n",
              "      <th>slug</th>\n",
              "      <th>ratio_control_for1000</th>\n",
              "    </tr>\n",
              "  </thead>\n",
              "  <tbody>\n",
              "    <tr>\n",
              "      <th>0</th>\n",
              "      <td>2019-05-31</td>\n",
              "      <td>01</td>\n",
              "      <td>6.0</td>\n",
              "      <td>3016</td>\n",
              "      <td>1</td>\n",
              "      <td>Guadeloupe</td>\n",
              "      <td>guadeloupe</td>\n",
              "      <td>1.989390</td>\n",
              "    </tr>\n",
              "    <tr>\n",
              "      <th>3</th>\n",
              "      <td>2019-08-31</td>\n",
              "      <td>01</td>\n",
              "      <td>8.0</td>\n",
              "      <td>3016</td>\n",
              "      <td>1</td>\n",
              "      <td>Guadeloupe</td>\n",
              "      <td>guadeloupe</td>\n",
              "      <td>2.652520</td>\n",
              "    </tr>\n",
              "    <tr>\n",
              "      <th>7</th>\n",
              "      <td>2019-12-31</td>\n",
              "      <td>01</td>\n",
              "      <td>7.0</td>\n",
              "      <td>3016</td>\n",
              "      <td>1</td>\n",
              "      <td>Guadeloupe</td>\n",
              "      <td>guadeloupe</td>\n",
              "      <td>2.320955</td>\n",
              "    </tr>\n",
              "    <tr>\n",
              "      <th>8</th>\n",
              "      <td>2020-01-31</td>\n",
              "      <td>01</td>\n",
              "      <td>9.0</td>\n",
              "      <td>3016</td>\n",
              "      <td>1</td>\n",
              "      <td>Guadeloupe</td>\n",
              "      <td>guadeloupe</td>\n",
              "      <td>2.984085</td>\n",
              "    </tr>\n",
              "    <tr>\n",
              "      <th>10</th>\n",
              "      <td>2020-03-31</td>\n",
              "      <td>01</td>\n",
              "      <td>9.0</td>\n",
              "      <td>3016</td>\n",
              "      <td>1</td>\n",
              "      <td>Guadeloupe</td>\n",
              "      <td>guadeloupe</td>\n",
              "      <td>2.984085</td>\n",
              "    </tr>\n",
              "  </tbody>\n",
              "</table>\n",
              "</div>"
            ],
            "text/plain": [
              "   Date_inspection region_code  ...        slug  ratio_control_for1000\n",
              "0       2019-05-31          01  ...  guadeloupe               1.989390\n",
              "3       2019-08-31          01  ...  guadeloupe               2.652520\n",
              "7       2019-12-31          01  ...  guadeloupe               2.320955\n",
              "8       2020-01-31          01  ...  guadeloupe               2.984085\n",
              "10      2020-03-31          01  ...  guadeloupe               2.984085\n",
              "\n",
              "[5 rows x 8 columns]"
            ]
          },
          "metadata": {
            "tags": []
          },
          "execution_count": 39
        }
      ]
    },
    {
      "cell_type": "code",
      "metadata": {
        "id": "b6-DXL2yhCgV",
        "colab_type": "code",
        "outputId": "38e3dc4a-db2d-4155-e7ee-d974a7cc25d6",
        "colab": {
          "base_uri": "https://localhost:8080/",
          "height": 425
        }
      },
      "source": [
        "data = df_few_inspections.groupby(['region_name'])['ratio_control_for1000'].count().sort_values(ascending = False)\n",
        "data.plot(kind = 'bar')"
      ],
      "execution_count": 40,
      "outputs": [
        {
          "output_type": "execute_result",
          "data": {
            "text/plain": [
              "<matplotlib.axes._subplots.AxesSubplot at 0x7f5916048a58>"
            ]
          },
          "metadata": {
            "tags": []
          },
          "execution_count": 40
        },
        {
          "output_type": "display_data",
          "data": {
            "image/png": "[encoded data removed]",
            "text/plain": [
              "<Figure size 432x288 with 1 Axes>"
            ]
          },
          "metadata": {
            "tags": []
          }
        }
      ]
    },
    {
      "cell_type": "markdown",
      "metadata": {
        "id": "JB3O41nBTbuJ",
        "colab_type": "text"
      },
      "source": [
        "### Et si on essayait de remettre ça sur une échelle de temps ? (ou la méthode Essai/Erreur..)"
      ]
    },
    {
      "cell_type": "code",
      "metadata": {
        "id": "Pk1BEyDqhCgY",
        "colab_type": "code",
        "outputId": "b705cf78-ea2f-49d3-b140-b2e413ba7385",
        "colab": {
          "base_uri": "https://localhost:8080/",
          "height": 443
        }
      },
      "source": [
        "#We might want to see this on a timescale\n",
        "grouped = df_few_inspections.groupby(['Date_inspection','region_name'])['ratio_control_for1000'].count().sort_values(ascending = False)\n",
        "#Before ploting we need to do some transforming of our \n",
        "df_grouped_few_inspections = grouped.unstack('region_name').reset_index().melt('Date_inspection', var_name = 'Nom de la région', value_name = 'few_control_count')\n",
        "grouped.unstack('region_name').reset_index()"
      ],
      "execution_count": 41,
      "outputs": [
        {
          "output_type": "execute_result",
          "data": {
            "text/html": [
              "<div>\n",
              "<style scoped>\n",
              "    .dataframe tbody tr th:only-of-type {\n",
              "        vertical-align: middle;\n",
              "    }\n",
              "\n",
              "    .dataframe tbody tr th {\n",
              "        vertical-align: top;\n",
              "    }\n",
              "\n",
              "    .dataframe thead th {\n",
              "        text-align: right;\n",
              "    }\n",
              "</style>\n",
              "<table border=\"1\" class=\"dataframe\">\n",
              "  <thead>\n",
              "    <tr style=\"text-align: right;\">\n",
              "      <th>region_name</th>\n",
              "      <th>Date_inspection</th>\n",
              "      <th>Auvergne-Rhône-Alpes</th>\n",
              "      <th>Bourgogne-Franche-Comté</th>\n",
              "      <th>Bretagne</th>\n",
              "      <th>Centre-Val de Loire</th>\n",
              "      <th>Collectivités d'Outre-Mer</th>\n",
              "      <th>Corse</th>\n",
              "      <th>Grand Est</th>\n",
              "      <th>Guadeloupe</th>\n",
              "      <th>Guyane</th>\n",
              "      <th>Hauts-de-France</th>\n",
              "      <th>La Réunion</th>\n",
              "      <th>Martinique</th>\n",
              "      <th>Mayotte</th>\n",
              "      <th>Normandie</th>\n",
              "      <th>Nouvelle-Aquitaine</th>\n",
              "      <th>Occitanie</th>\n",
              "      <th>Pays de la Loire</th>\n",
              "      <th>Provence-Alpes-Côte d'Azur</th>\n",
              "    </tr>\n",
              "  </thead>\n",
              "  <tbody>\n",
              "    <tr>\n",
              "      <th>0</th>\n",
              "      <td>2019-05-31</td>\n",
              "      <td>1.0</td>\n",
              "      <td>1.0</td>\n",
              "      <td>1.0</td>\n",
              "      <td>1.0</td>\n",
              "      <td>1.0</td>\n",
              "      <td>1.0</td>\n",
              "      <td>1.0</td>\n",
              "      <td>1.0</td>\n",
              "      <td>NaN</td>\n",
              "      <td>NaN</td>\n",
              "      <td>1.0</td>\n",
              "      <td>1.0</td>\n",
              "      <td>NaN</td>\n",
              "      <td>NaN</td>\n",
              "      <td>1.0</td>\n",
              "      <td>1.0</td>\n",
              "      <td>1.0</td>\n",
              "      <td>1.0</td>\n",
              "    </tr>\n",
              "    <tr>\n",
              "      <th>1</th>\n",
              "      <td>2019-06-30</td>\n",
              "      <td>NaN</td>\n",
              "      <td>NaN</td>\n",
              "      <td>NaN</td>\n",
              "      <td>NaN</td>\n",
              "      <td>NaN</td>\n",
              "      <td>NaN</td>\n",
              "      <td>NaN</td>\n",
              "      <td>NaN</td>\n",
              "      <td>NaN</td>\n",
              "      <td>NaN</td>\n",
              "      <td>1.0</td>\n",
              "      <td>NaN</td>\n",
              "      <td>NaN</td>\n",
              "      <td>NaN</td>\n",
              "      <td>NaN</td>\n",
              "      <td>NaN</td>\n",
              "      <td>NaN</td>\n",
              "      <td>NaN</td>\n",
              "    </tr>\n",
              "    <tr>\n",
              "      <th>2</th>\n",
              "      <td>2019-07-31</td>\n",
              "      <td>NaN</td>\n",
              "      <td>NaN</td>\n",
              "      <td>NaN</td>\n",
              "      <td>NaN</td>\n",
              "      <td>NaN</td>\n",
              "      <td>NaN</td>\n",
              "      <td>NaN</td>\n",
              "      <td>NaN</td>\n",
              "      <td>NaN</td>\n",
              "      <td>NaN</td>\n",
              "      <td>1.0</td>\n",
              "      <td>NaN</td>\n",
              "      <td>1.0</td>\n",
              "      <td>NaN</td>\n",
              "      <td>NaN</td>\n",
              "      <td>NaN</td>\n",
              "      <td>NaN</td>\n",
              "      <td>NaN</td>\n",
              "    </tr>\n",
              "    <tr>\n",
              "      <th>3</th>\n",
              "      <td>2019-08-31</td>\n",
              "      <td>1.0</td>\n",
              "      <td>NaN</td>\n",
              "      <td>NaN</td>\n",
              "      <td>NaN</td>\n",
              "      <td>NaN</td>\n",
              "      <td>NaN</td>\n",
              "      <td>NaN</td>\n",
              "      <td>1.0</td>\n",
              "      <td>NaN</td>\n",
              "      <td>NaN</td>\n",
              "      <td>1.0</td>\n",
              "      <td>NaN</td>\n",
              "      <td>NaN</td>\n",
              "      <td>NaN</td>\n",
              "      <td>NaN</td>\n",
              "      <td>NaN</td>\n",
              "      <td>NaN</td>\n",
              "      <td>NaN</td>\n",
              "    </tr>\n",
              "    <tr>\n",
              "      <th>4</th>\n",
              "      <td>2019-09-30</td>\n",
              "      <td>1.0</td>\n",
              "      <td>NaN</td>\n",
              "      <td>1.0</td>\n",
              "      <td>NaN</td>\n",
              "      <td>1.0</td>\n",
              "      <td>NaN</td>\n",
              "      <td>NaN</td>\n",
              "      <td>NaN</td>\n",
              "      <td>NaN</td>\n",
              "      <td>NaN</td>\n",
              "      <td>NaN</td>\n",
              "      <td>1.0</td>\n",
              "      <td>NaN</td>\n",
              "      <td>NaN</td>\n",
              "      <td>NaN</td>\n",
              "      <td>NaN</td>\n",
              "      <td>1.0</td>\n",
              "      <td>1.0</td>\n",
              "    </tr>\n",
              "    <tr>\n",
              "      <th>5</th>\n",
              "      <td>2019-10-31</td>\n",
              "      <td>NaN</td>\n",
              "      <td>1.0</td>\n",
              "      <td>1.0</td>\n",
              "      <td>1.0</td>\n",
              "      <td>1.0</td>\n",
              "      <td>1.0</td>\n",
              "      <td>NaN</td>\n",
              "      <td>NaN</td>\n",
              "      <td>NaN</td>\n",
              "      <td>NaN</td>\n",
              "      <td>NaN</td>\n",
              "      <td>1.0</td>\n",
              "      <td>NaN</td>\n",
              "      <td>NaN</td>\n",
              "      <td>NaN</td>\n",
              "      <td>1.0</td>\n",
              "      <td>NaN</td>\n",
              "      <td>1.0</td>\n",
              "    </tr>\n",
              "    <tr>\n",
              "      <th>6</th>\n",
              "      <td>2019-11-30</td>\n",
              "      <td>NaN</td>\n",
              "      <td>NaN</td>\n",
              "      <td>1.0</td>\n",
              "      <td>NaN</td>\n",
              "      <td>NaN</td>\n",
              "      <td>1.0</td>\n",
              "      <td>NaN</td>\n",
              "      <td>NaN</td>\n",
              "      <td>NaN</td>\n",
              "      <td>NaN</td>\n",
              "      <td>1.0</td>\n",
              "      <td>1.0</td>\n",
              "      <td>NaN</td>\n",
              "      <td>NaN</td>\n",
              "      <td>1.0</td>\n",
              "      <td>1.0</td>\n",
              "      <td>NaN</td>\n",
              "      <td>1.0</td>\n",
              "    </tr>\n",
              "    <tr>\n",
              "      <th>7</th>\n",
              "      <td>2019-12-31</td>\n",
              "      <td>1.0</td>\n",
              "      <td>1.0</td>\n",
              "      <td>NaN</td>\n",
              "      <td>1.0</td>\n",
              "      <td>NaN</td>\n",
              "      <td>NaN</td>\n",
              "      <td>1.0</td>\n",
              "      <td>1.0</td>\n",
              "      <td>1.0</td>\n",
              "      <td>NaN</td>\n",
              "      <td>1.0</td>\n",
              "      <td>NaN</td>\n",
              "      <td>NaN</td>\n",
              "      <td>1.0</td>\n",
              "      <td>NaN</td>\n",
              "      <td>1.0</td>\n",
              "      <td>1.0</td>\n",
              "      <td>NaN</td>\n",
              "    </tr>\n",
              "    <tr>\n",
              "      <th>8</th>\n",
              "      <td>2020-01-31</td>\n",
              "      <td>NaN</td>\n",
              "      <td>NaN</td>\n",
              "      <td>NaN</td>\n",
              "      <td>1.0</td>\n",
              "      <td>NaN</td>\n",
              "      <td>1.0</td>\n",
              "      <td>NaN</td>\n",
              "      <td>1.0</td>\n",
              "      <td>NaN</td>\n",
              "      <td>NaN</td>\n",
              "      <td>1.0</td>\n",
              "      <td>NaN</td>\n",
              "      <td>NaN</td>\n",
              "      <td>NaN</td>\n",
              "      <td>1.0</td>\n",
              "      <td>NaN</td>\n",
              "      <td>NaN</td>\n",
              "      <td>NaN</td>\n",
              "    </tr>\n",
              "    <tr>\n",
              "      <th>9</th>\n",
              "      <td>2020-02-29</td>\n",
              "      <td>NaN</td>\n",
              "      <td>NaN</td>\n",
              "      <td>1.0</td>\n",
              "      <td>NaN</td>\n",
              "      <td>NaN</td>\n",
              "      <td>1.0</td>\n",
              "      <td>NaN</td>\n",
              "      <td>NaN</td>\n",
              "      <td>1.0</td>\n",
              "      <td>NaN</td>\n",
              "      <td>1.0</td>\n",
              "      <td>NaN</td>\n",
              "      <td>NaN</td>\n",
              "      <td>NaN</td>\n",
              "      <td>NaN</td>\n",
              "      <td>NaN</td>\n",
              "      <td>NaN</td>\n",
              "      <td>NaN</td>\n",
              "    </tr>\n",
              "    <tr>\n",
              "      <th>10</th>\n",
              "      <td>2020-03-31</td>\n",
              "      <td>1.0</td>\n",
              "      <td>1.0</td>\n",
              "      <td>1.0</td>\n",
              "      <td>1.0</td>\n",
              "      <td>NaN</td>\n",
              "      <td>1.0</td>\n",
              "      <td>1.0</td>\n",
              "      <td>1.0</td>\n",
              "      <td>1.0</td>\n",
              "      <td>1.0</td>\n",
              "      <td>1.0</td>\n",
              "      <td>1.0</td>\n",
              "      <td>NaN</td>\n",
              "      <td>1.0</td>\n",
              "      <td>1.0</td>\n",
              "      <td>1.0</td>\n",
              "      <td>1.0</td>\n",
              "      <td>1.0</td>\n",
              "    </tr>\n",
              "  </tbody>\n",
              "</table>\n",
              "</div>"
            ],
            "text/plain": [
              "region_name Date_inspection  ...  Provence-Alpes-Côte d'Azur\n",
              "0                2019-05-31  ...                         1.0\n",
              "1                2019-06-30  ...                         NaN\n",
              "2                2019-07-31  ...                         NaN\n",
              "3                2019-08-31  ...                         NaN\n",
              "4                2019-09-30  ...                         1.0\n",
              "5                2019-10-31  ...                         1.0\n",
              "6                2019-11-30  ...                         1.0\n",
              "7                2019-12-31  ...                         NaN\n",
              "8                2020-01-31  ...                         NaN\n",
              "9                2020-02-29  ...                         NaN\n",
              "10               2020-03-31  ...                         1.0\n",
              "\n",
              "[11 rows x 19 columns]"
            ]
          },
          "metadata": {
            "tags": []
          },
          "execution_count": 41
        }
      ]
    },
    {
      "cell_type": "code",
      "metadata": {
        "id": "mvipNvaAhCgc",
        "colab_type": "code",
        "outputId": "5a03ff7b-edab-4cf9-84f0-b70f3baffa4b",
        "colab": {
          "base_uri": "https://localhost:8080/",
          "height": 195
        }
      },
      "source": [
        "df_grouped_few_inspections = grouped.unstack('region_name').reset_index().fillna(value = 0).melt('Date_inspection', var_name = 'Nom de la région', value_name = 'few_control_count')\n",
        "df_grouped_few_inspections.head()"
      ],
      "execution_count": 42,
      "outputs": [
        {
          "output_type": "execute_result",
          "data": {
            "text/html": [
              "<div>\n",
              "<style scoped>\n",
              "    .dataframe tbody tr th:only-of-type {\n",
              "        vertical-align: middle;\n",
              "    }\n",
              "\n",
              "    .dataframe tbody tr th {\n",
              "        vertical-align: top;\n",
              "    }\n",
              "\n",
              "    .dataframe thead th {\n",
              "        text-align: right;\n",
              "    }\n",
              "</style>\n",
              "<table border=\"1\" class=\"dataframe\">\n",
              "  <thead>\n",
              "    <tr style=\"text-align: right;\">\n",
              "      <th></th>\n",
              "      <th>Date_inspection</th>\n",
              "      <th>Nom de la région</th>\n",
              "      <th>few_control_count</th>\n",
              "    </tr>\n",
              "  </thead>\n",
              "  <tbody>\n",
              "    <tr>\n",
              "      <th>0</th>\n",
              "      <td>2019-05-31</td>\n",
              "      <td>Auvergne-Rhône-Alpes</td>\n",
              "      <td>1.0</td>\n",
              "    </tr>\n",
              "    <tr>\n",
              "      <th>1</th>\n",
              "      <td>2019-06-30</td>\n",
              "      <td>Auvergne-Rhône-Alpes</td>\n",
              "      <td>0.0</td>\n",
              "    </tr>\n",
              "    <tr>\n",
              "      <th>2</th>\n",
              "      <td>2019-07-31</td>\n",
              "      <td>Auvergne-Rhône-Alpes</td>\n",
              "      <td>0.0</td>\n",
              "    </tr>\n",
              "    <tr>\n",
              "      <th>3</th>\n",
              "      <td>2019-08-31</td>\n",
              "      <td>Auvergne-Rhône-Alpes</td>\n",
              "      <td>1.0</td>\n",
              "    </tr>\n",
              "    <tr>\n",
              "      <th>4</th>\n",
              "      <td>2019-09-30</td>\n",
              "      <td>Auvergne-Rhône-Alpes</td>\n",
              "      <td>1.0</td>\n",
              "    </tr>\n",
              "  </tbody>\n",
              "</table>\n",
              "</div>"
            ],
            "text/plain": [
              "  Date_inspection      Nom de la région  few_control_count\n",
              "0      2019-05-31  Auvergne-Rhône-Alpes                1.0\n",
              "1      2019-06-30  Auvergne-Rhône-Alpes                0.0\n",
              "2      2019-07-31  Auvergne-Rhône-Alpes                0.0\n",
              "3      2019-08-31  Auvergne-Rhône-Alpes                1.0\n",
              "4      2019-09-30  Auvergne-Rhône-Alpes                1.0"
            ]
          },
          "metadata": {
            "tags": []
          },
          "execution_count": 42
        }
      ]
    },
    {
      "cell_type": "code",
      "metadata": {
        "id": "H2fqhZqGhCgf",
        "colab_type": "code",
        "outputId": "cd2af42e-65ec-4950-8895-d87f3713c0ac",
        "colab": {
          "base_uri": "https://localhost:8080/",
          "height": 266
        }
      },
      "source": [
        "df_grouped_few_inspections = grouped.unstack('region_name').reset_index().fillna(value = 0)\n",
        "df_grouped_few_inspections.head()"
      ],
      "execution_count": 43,
      "outputs": [
        {
          "output_type": "execute_result",
          "data": {
            "text/html": [
              "<div>\n",
              "<style scoped>\n",
              "    .dataframe tbody tr th:only-of-type {\n",
              "        vertical-align: middle;\n",
              "    }\n",
              "\n",
              "    .dataframe tbody tr th {\n",
              "        vertical-align: top;\n",
              "    }\n",
              "\n",
              "    .dataframe thead th {\n",
              "        text-align: right;\n",
              "    }\n",
              "</style>\n",
              "<table border=\"1\" class=\"dataframe\">\n",
              "  <thead>\n",
              "    <tr style=\"text-align: right;\">\n",
              "      <th>region_name</th>\n",
              "      <th>Date_inspection</th>\n",
              "      <th>Auvergne-Rhône-Alpes</th>\n",
              "      <th>Bourgogne-Franche-Comté</th>\n",
              "      <th>Bretagne</th>\n",
              "      <th>Centre-Val de Loire</th>\n",
              "      <th>Collectivités d'Outre-Mer</th>\n",
              "      <th>Corse</th>\n",
              "      <th>Grand Est</th>\n",
              "      <th>Guadeloupe</th>\n",
              "      <th>Guyane</th>\n",
              "      <th>Hauts-de-France</th>\n",
              "      <th>La Réunion</th>\n",
              "      <th>Martinique</th>\n",
              "      <th>Mayotte</th>\n",
              "      <th>Normandie</th>\n",
              "      <th>Nouvelle-Aquitaine</th>\n",
              "      <th>Occitanie</th>\n",
              "      <th>Pays de la Loire</th>\n",
              "      <th>Provence-Alpes-Côte d'Azur</th>\n",
              "    </tr>\n",
              "  </thead>\n",
              "  <tbody>\n",
              "    <tr>\n",
              "      <th>0</th>\n",
              "      <td>2019-05-31</td>\n",
              "      <td>1.0</td>\n",
              "      <td>1.0</td>\n",
              "      <td>1.0</td>\n",
              "      <td>1.0</td>\n",
              "      <td>1.0</td>\n",
              "      <td>1.0</td>\n",
              "      <td>1.0</td>\n",
              "      <td>1.0</td>\n",
              "      <td>0.0</td>\n",
              "      <td>0.0</td>\n",
              "      <td>1.0</td>\n",
              "      <td>1.0</td>\n",
              "      <td>0.0</td>\n",
              "      <td>0.0</td>\n",
              "      <td>1.0</td>\n",
              "      <td>1.0</td>\n",
              "      <td>1.0</td>\n",
              "      <td>1.0</td>\n",
              "    </tr>\n",
              "    <tr>\n",
              "      <th>1</th>\n",
              "      <td>2019-06-30</td>\n",
              "      <td>0.0</td>\n",
              "      <td>0.0</td>\n",
              "      <td>0.0</td>\n",
              "      <td>0.0</td>\n",
              "      <td>0.0</td>\n",
              "      <td>0.0</td>\n",
              "      <td>0.0</td>\n",
              "      <td>0.0</td>\n",
              "      <td>0.0</td>\n",
              "      <td>0.0</td>\n",
              "      <td>1.0</td>\n",
              "      <td>0.0</td>\n",
              "      <td>0.0</td>\n",
              "      <td>0.0</td>\n",
              "      <td>0.0</td>\n",
              "      <td>0.0</td>\n",
              "      <td>0.0</td>\n",
              "      <td>0.0</td>\n",
              "    </tr>\n",
              "    <tr>\n",
              "      <th>2</th>\n",
              "      <td>2019-07-31</td>\n",
              "      <td>0.0</td>\n",
              "      <td>0.0</td>\n",
              "      <td>0.0</td>\n",
              "      <td>0.0</td>\n",
              "      <td>0.0</td>\n",
              "      <td>0.0</td>\n",
              "      <td>0.0</td>\n",
              "      <td>0.0</td>\n",
              "      <td>0.0</td>\n",
              "      <td>0.0</td>\n",
              "      <td>1.0</td>\n",
              "      <td>0.0</td>\n",
              "      <td>1.0</td>\n",
              "      <td>0.0</td>\n",
              "      <td>0.0</td>\n",
              "      <td>0.0</td>\n",
              "      <td>0.0</td>\n",
              "      <td>0.0</td>\n",
              "    </tr>\n",
              "    <tr>\n",
              "      <th>3</th>\n",
              "      <td>2019-08-31</td>\n",
              "      <td>1.0</td>\n",
              "      <td>0.0</td>\n",
              "      <td>0.0</td>\n",
              "      <td>0.0</td>\n",
              "      <td>0.0</td>\n",
              "      <td>0.0</td>\n",
              "      <td>0.0</td>\n",
              "      <td>1.0</td>\n",
              "      <td>0.0</td>\n",
              "      <td>0.0</td>\n",
              "      <td>1.0</td>\n",
              "      <td>0.0</td>\n",
              "      <td>0.0</td>\n",
              "      <td>0.0</td>\n",
              "      <td>0.0</td>\n",
              "      <td>0.0</td>\n",
              "      <td>0.0</td>\n",
              "      <td>0.0</td>\n",
              "    </tr>\n",
              "    <tr>\n",
              "      <th>4</th>\n",
              "      <td>2019-09-30</td>\n",
              "      <td>1.0</td>\n",
              "      <td>0.0</td>\n",
              "      <td>1.0</td>\n",
              "      <td>0.0</td>\n",
              "      <td>1.0</td>\n",
              "      <td>0.0</td>\n",
              "      <td>0.0</td>\n",
              "      <td>0.0</td>\n",
              "      <td>0.0</td>\n",
              "      <td>0.0</td>\n",
              "      <td>0.0</td>\n",
              "      <td>1.0</td>\n",
              "      <td>0.0</td>\n",
              "      <td>0.0</td>\n",
              "      <td>0.0</td>\n",
              "      <td>0.0</td>\n",
              "      <td>1.0</td>\n",
              "      <td>1.0</td>\n",
              "    </tr>\n",
              "  </tbody>\n",
              "</table>\n",
              "</div>"
            ],
            "text/plain": [
              "region_name Date_inspection  ...  Provence-Alpes-Côte d'Azur\n",
              "0                2019-05-31  ...                         1.0\n",
              "1                2019-06-30  ...                         0.0\n",
              "2                2019-07-31  ...                         0.0\n",
              "3                2019-08-31  ...                         0.0\n",
              "4                2019-09-30  ...                         1.0\n",
              "\n",
              "[5 rows x 19 columns]"
            ]
          },
          "metadata": {
            "tags": []
          },
          "execution_count": 43
        }
      ]
    },
    {
      "cell_type": "code",
      "metadata": {
        "id": "kuOZslcuhCgl",
        "colab_type": "code",
        "outputId": "45897bf9-3768-4498-e8cc-a610fdc9f17a",
        "colab": {
          "base_uri": "https://localhost:8080/",
          "height": 356
        }
      },
      "source": [
        "fig, ax = plt.subplots()\n",
        "#convert the date in some strings\n",
        "labels = [i.strftime('%m_%Y') for i in df_grouped_few_inspections['Date_inspection']]\n",
        "width = 0.35     # the width of the bars: can also be len(x) sequence\n",
        "\n",
        "regions = df_grouped_few_inspections.columns[1:].tolist()\n",
        "bot = np.zeros(df_grouped_few_inspections.shape[0])\n",
        "for r in regions:\n",
        "    ax.bar(labels, df_grouped_few_inspections[r], width, bottom = bot, label=r)\n",
        "    bot = df_grouped_few_inspections[r]\n",
        "\n",
        "\n",
        "#ax.set_ylabel('Scores')\n",
        "#ax.set_title('Scores by group and gender')\n",
        "ax.legend()\n",
        "\n",
        "plt.xticks(rotation=45)\n",
        "plt.show()"
      ],
      "execution_count": 44,
      "outputs": [
        {
          "output_type": "display_data",
          "data": {
            "image/png": "[encoded data removed]",
            "text/plain": [
              "<Figure size 432x288 with 1 Axes>"
            ]
          },
          "metadata": {
            "tags": []
          }
        }
      ]
    },
    {
      "cell_type": "markdown",
      "metadata": {
        "id": "yoA0p6U-TklO",
        "colab_type": "text"
      },
      "source": [
        "#### Pas très utile ... cette visualisation n'est pas exploitable :'("
      ]
    },
    {
      "cell_type": "markdown",
      "metadata": {
        "id": "ui9ChPQSTrob",
        "colab_type": "text"
      },
      "source": [
        "#3. Pour information un peu de visualisation géographique"
      ]
    },
    {
      "cell_type": "code",
      "metadata": {
        "id": "gAttvG7RhCgu",
        "colab_type": "code",
        "colab": {
          "base_uri": "https://localhost:8080/",
          "height": 252
        },
        "outputId": "ae9f93ed-33d7-4db6-9895-40d4e54c92a6"
      },
      "source": [
        "from shapely.geometry import Point\n",
        "!pip install geopandas\n",
        "import geopandas as gpd\n",
        "from geopandas import GeoDataFrame"
      ],
      "execution_count": 45,
      "outputs": [
        {
          "output_type": "stream",
          "text": [
            "Requirement already satisfied: geopandas in /usr/local/lib/python3.6/dist-packages (0.7.0)\n",
            "Requirement already satisfied: fiona in /usr/local/lib/python3.6/dist-packages (from geopandas) (1.8.13.post1)\n",
            "Requirement already satisfied: pandas>=0.23.0 in /usr/local/lib/python3.6/dist-packages (from geopandas) (1.0.4)\n",
            "Requirement already satisfied: pyproj>=2.2.0 in /usr/local/lib/python3.6/dist-packages (from geopandas) (2.6.1.post1)\n",
            "Requirement already satisfied: shapely in /usr/local/lib/python3.6/dist-packages (from geopandas) (1.7.0)\n",
            "Requirement already satisfied: click<8,>=4.0 in /usr/local/lib/python3.6/dist-packages (from fiona->geopandas) (7.1.2)\n",
            "Requirement already satisfied: click-plugins>=1.0 in /usr/local/lib/python3.6/dist-packages (from fiona->geopandas) (1.1.1)\n",
            "Requirement already satisfied: cligj>=0.5 in /usr/local/lib/python3.6/dist-packages (from fiona->geopandas) (0.5.0)\n",
            "Requirement already satisfied: attrs>=17 in /usr/local/lib/python3.6/dist-packages (from fiona->geopandas) (19.3.0)\n",
            "Requirement already satisfied: six>=1.7 in /usr/local/lib/python3.6/dist-packages (from fiona->geopandas) (1.12.0)\n",
            "Requirement already satisfied: munch in /usr/local/lib/python3.6/dist-packages (from fiona->geopandas) (2.5.0)\n",
            "Requirement already satisfied: python-dateutil>=2.6.1 in /usr/local/lib/python3.6/dist-packages (from pandas>=0.23.0->geopandas) (2.8.1)\n",
            "Requirement already satisfied: pytz>=2017.2 in /usr/local/lib/python3.6/dist-packages (from pandas>=0.23.0->geopandas) (2018.9)\n",
            "Requirement already satisfied: numpy>=1.13.3 in /usr/local/lib/python3.6/dist-packages (from pandas>=0.23.0->geopandas) (1.18.4)\n"
          ],
          "name": "stdout"
        }
      ]
    },
    {
      "cell_type": "code",
      "metadata": {
        "colab_type": "code",
        "id": "2-qiBoqEsabF",
        "scrolled": true,
        "colab": {}
      },
      "source": [
        "# créer une variable latitude et longitude à partir de la colonne geo res\n",
        "set(type(x) for x in df[\"geores\"].values.tolist())\n",
        "df[\"lat\"] = df[\"geores\"].map(lambda x: float(x.split(\",\")[0] if pd.isnull(x)==False else x))\n",
        "df[\"long\"] = df[\"geores\"].map(lambda x: float(x.split(\",\")[1] if pd.isnull(x)==False else x))"
      ],
      "execution_count": 0,
      "outputs": []
    },
    {
      "cell_type": "code",
      "metadata": {
        "colab_type": "code",
        "id": "Whuf_uV7ATSd",
        "colab": {}
      },
      "source": [
        "geo_df = df.dropna(subset =[\"lat\", \"long\"])"
      ],
      "execution_count": 0,
      "outputs": []
    },
    {
      "cell_type": "code",
      "metadata": {
        "colab_type": "code",
        "id": "_LXph7_YB0dl",
        "outputId": "3f597b7b-8aa9-4b79-ae43-61c56d7cc006",
        "colab": {
          "base_uri": "https://localhost:8080/",
          "height": 350
        }
      },
      "source": [
        "geometry = [Point(xy) for xy in zip(geo_df['long'], geo_df['lat'])]\n",
        "gdf = GeoDataFrame(geo_df, geometry=geometry)   \n",
        "\n",
        "#this is a simple map that goes with geopandas\n",
        "world = gpd.read_file(gpd.datasets.get_path('naturalearth_lowres'))\n",
        "gdf.plot(ax=world.plot(figsize=(10, 6)), marker='o', color='red', markersize=15)\n",
        "plt.title(\"Répartition des restaurants notés \")"
      ],
      "execution_count": 48,
      "outputs": [
        {
          "output_type": "execute_result",
          "data": {
            "text/plain": [
              "Text(0.5, 1.0, 'Répartition des restaurants notés ')"
            ]
          },
          "metadata": {
            "tags": []
          },
          "execution_count": 48
        },
        {
          "output_type": "display_data",
          "data": {
            "image/png": "[encoded data removed]",
            "text/plain": [
              "<Figure size 720x432 with 1 Axes>"
            ]
          },
          "metadata": {
            "tags": []
          }
        }
      ]
    },
    {
      "cell_type": "code",
      "metadata": {
        "colab_type": "code",
        "id": "IGFsg7PIG8hm",
        "colab": {}
      },
      "source": [
        "geo_df_fr = geo_df[(geo_df.lat>41.12)&(geo_df.lat<51.84)&(geo_df.long<11.3)&(geo_df.long>-6.25)]"
      ],
      "execution_count": 0,
      "outputs": []
    },
    {
      "cell_type": "code",
      "metadata": {
        "colab_type": "code",
        "id": "PU8Z1AagawZ9",
        "outputId": "4c10ff8b-24c4-43d1-eccc-843b778b4ce2",
        "colab": {
          "base_uri": "https://localhost:8080/",
          "height": 402
        }
      },
      "source": [
        "sns.lmplot('long', 'lat', data=geo_df_fr, hue='Synthese_eval_sanit', fit_reg=False)\n",
        "plt.title(\"Répartition des notes sanitaires sur le territoire\")"
      ],
      "execution_count": 50,
      "outputs": [
        {
          "output_type": "execute_result",
          "data": {
            "text/plain": [
              "Text(0.5, 1.0, 'Répartition des notes sanitaires sur le territoire')"
            ]
          },
          "metadata": {
            "tags": []
          },
          "execution_count": 50
        },
        {
          "output_type": "display_data",
          "data": {
            "image/png": "[encoded data removed]",
            "text/plain": [
              "<Figure size 547.375x360 with 1 Axes>"
            ]
          },
          "metadata": {
            "tags": []
          }
        }
      ]
    },
    {
      "cell_type": "markdown",
      "metadata": {
        "id": "kT1CejLHhChG",
        "colab_type": "text"
      },
      "source": [
        "## Pour info, 1ere approche. on fait ici on fait le ratio du nombre de restaurant par rapport à la population "
      ]
    },
    {
      "cell_type": "code",
      "metadata": {
        "id": "h9-JajnNhChI",
        "colab_type": "code",
        "outputId": "cb8290f0-7905-46bb-9961-94f2d875307a",
        "colab": {
          "base_uri": "https://localhost:8080/",
          "height": 249
        }
      },
      "source": [
        "# at this point it would be interesting to link with the region population\n",
        "#clean 'COM' region\n",
        "df_inspections = df_inspections[df_inspections.region_code != 'COM']\n",
        "# convert region_codes to int in order to merge\n",
        "df_inspections['region_code_int'] = df_inspections['region_code'].astype('int64')\n",
        "# merge the inspection list with the population data\n",
        "df_inspections = pd.merge(df_inspections, df_pop_regions, how= 'left', left_on='region_code_int', right_on='Code région')\n",
        "# this is what we obtained :\n",
        "df_inspections.head()"
      ],
      "execution_count": 51,
      "outputs": [
        {
          "output_type": "execute_result",
          "data": {
            "text/html": [
              "<div>\n",
              "<style scoped>\n",
              "    .dataframe tbody tr th:only-of-type {\n",
              "        vertical-align: middle;\n",
              "    }\n",
              "\n",
              "    .dataframe tbody tr th {\n",
              "        vertical-align: top;\n",
              "    }\n",
              "\n",
              "    .dataframe thead th {\n",
              "        text-align: right;\n",
              "    }\n",
              "</style>\n",
              "<table border=\"1\" class=\"dataframe\">\n",
              "  <thead>\n",
              "    <tr style=\"text-align: right;\">\n",
              "      <th></th>\n",
              "      <th>Date_inspection</th>\n",
              "      <th>region_code</th>\n",
              "      <th>control_count</th>\n",
              "      <th>nb restaurant total</th>\n",
              "      <th>id</th>\n",
              "      <th>region_name</th>\n",
              "      <th>slug</th>\n",
              "      <th>ratio_control_for1000</th>\n",
              "      <th>region_code_int</th>\n",
              "      <th>Code région</th>\n",
              "      <th>Nom de la région</th>\n",
              "      <th>Nombre d'arrondissements</th>\n",
              "      <th>Nombre de cantons</th>\n",
              "      <th>Nombre de communes</th>\n",
              "      <th>Population municipale</th>\n",
              "      <th>Population totale</th>\n",
              "    </tr>\n",
              "  </thead>\n",
              "  <tbody>\n",
              "    <tr>\n",
              "      <th>0</th>\n",
              "      <td>2019-05-31</td>\n",
              "      <td>01</td>\n",
              "      <td>6.0</td>\n",
              "      <td>3016</td>\n",
              "      <td>1</td>\n",
              "      <td>Guadeloupe</td>\n",
              "      <td>guadeloupe</td>\n",
              "      <td>1.989390</td>\n",
              "      <td>1</td>\n",
              "      <td>1.0</td>\n",
              "      <td>Guadeloupe</td>\n",
              "      <td>2.0</td>\n",
              "      <td>21.0</td>\n",
              "      <td>32.0</td>\n",
              "      <td>390253.0</td>\n",
              "      <td>396153.0</td>\n",
              "    </tr>\n",
              "    <tr>\n",
              "      <th>1</th>\n",
              "      <td>2019-06-30</td>\n",
              "      <td>01</td>\n",
              "      <td>17.0</td>\n",
              "      <td>3016</td>\n",
              "      <td>1</td>\n",
              "      <td>Guadeloupe</td>\n",
              "      <td>guadeloupe</td>\n",
              "      <td>5.636605</td>\n",
              "      <td>1</td>\n",
              "      <td>1.0</td>\n",
              "      <td>Guadeloupe</td>\n",
              "      <td>2.0</td>\n",
              "      <td>21.0</td>\n",
              "      <td>32.0</td>\n",
              "      <td>390253.0</td>\n",
              "      <td>396153.0</td>\n",
              "    </tr>\n",
              "    <tr>\n",
              "      <th>2</th>\n",
              "      <td>2019-07-31</td>\n",
              "      <td>01</td>\n",
              "      <td>13.0</td>\n",
              "      <td>3016</td>\n",
              "      <td>1</td>\n",
              "      <td>Guadeloupe</td>\n",
              "      <td>guadeloupe</td>\n",
              "      <td>4.310345</td>\n",
              "      <td>1</td>\n",
              "      <td>1.0</td>\n",
              "      <td>Guadeloupe</td>\n",
              "      <td>2.0</td>\n",
              "      <td>21.0</td>\n",
              "      <td>32.0</td>\n",
              "      <td>390253.0</td>\n",
              "      <td>396153.0</td>\n",
              "    </tr>\n",
              "    <tr>\n",
              "      <th>3</th>\n",
              "      <td>2019-08-31</td>\n",
              "      <td>01</td>\n",
              "      <td>8.0</td>\n",
              "      <td>3016</td>\n",
              "      <td>1</td>\n",
              "      <td>Guadeloupe</td>\n",
              "      <td>guadeloupe</td>\n",
              "      <td>2.652520</td>\n",
              "      <td>1</td>\n",
              "      <td>1.0</td>\n",
              "      <td>Guadeloupe</td>\n",
              "      <td>2.0</td>\n",
              "      <td>21.0</td>\n",
              "      <td>32.0</td>\n",
              "      <td>390253.0</td>\n",
              "      <td>396153.0</td>\n",
              "    </tr>\n",
              "    <tr>\n",
              "      <th>4</th>\n",
              "      <td>2019-09-30</td>\n",
              "      <td>01</td>\n",
              "      <td>12.0</td>\n",
              "      <td>3016</td>\n",
              "      <td>1</td>\n",
              "      <td>Guadeloupe</td>\n",
              "      <td>guadeloupe</td>\n",
              "      <td>3.978780</td>\n",
              "      <td>1</td>\n",
              "      <td>1.0</td>\n",
              "      <td>Guadeloupe</td>\n",
              "      <td>2.0</td>\n",
              "      <td>21.0</td>\n",
              "      <td>32.0</td>\n",
              "      <td>390253.0</td>\n",
              "      <td>396153.0</td>\n",
              "    </tr>\n",
              "  </tbody>\n",
              "</table>\n",
              "</div>"
            ],
            "text/plain": [
              "  Date_inspection region_code  ...  Population municipale  Population totale\n",
              "0      2019-05-31          01  ...               390253.0           396153.0\n",
              "1      2019-06-30          01  ...               390253.0           396153.0\n",
              "2      2019-07-31          01  ...               390253.0           396153.0\n",
              "3      2019-08-31          01  ...               390253.0           396153.0\n",
              "4      2019-09-30          01  ...               390253.0           396153.0\n",
              "\n",
              "[5 rows x 16 columns]"
            ]
          },
          "metadata": {
            "tags": []
          },
          "execution_count": 51
        }
      ]
    },
    {
      "cell_type": "code",
      "metadata": {
        "id": "W3zXai9dhChL",
        "colab_type": "code",
        "colab": {}
      },
      "source": [
        "# calculate the ratio for the population \n",
        "df_inspections['ratio_control_for100000'] = df_inspections['control_count'] / df_inspections['Population totale'] * 100000"
      ],
      "execution_count": 0,
      "outputs": []
    },
    {
      "cell_type": "code",
      "metadata": {
        "colab_type": "code",
        "outputId": "c74c7cd6-a49f-487e-afff-1f65d5ecc5f2",
        "id": "ieGJT_VchChP",
        "colab": {
          "base_uri": "https://localhost:8080/",
          "height": 390
        }
      },
      "source": [
        "sns.set_style(\"whitegrid\")\n",
        "g = sns.relplot(x = 'Date_inspection', y= 'ratio_control_for100000', hue = 'Nom de la région', data= df_inspections, kind = 'line')\n",
        "g.set(ylim=(0, 2))"
      ],
      "execution_count": 53,
      "outputs": [
        {
          "output_type": "execute_result",
          "data": {
            "text/plain": [
              "<seaborn.axisgrid.FacetGrid at 0x7f590c4c1908>"
            ]
          },
          "metadata": {
            "tags": []
          },
          "execution_count": 53
        },
        {
          "output_type": "display_data",
          "data": {
            "image/png": "[encoded data removed]",
            "text/plain": [
              "<Figure size 533.875x360 with 1 Axes>"
            ]
          },
          "metadata": {
            "tags": []
          }
        }
      ]
    }
  ]
}