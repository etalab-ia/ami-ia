{
 "cells": [
  {
   "cell_type": "markdown",
   "metadata": {
    "colab_type": "text",
    "id": "view-in-github"
   },
   "source": [
    "<a href=\"https://colab.research.google.com/github/etalab-ia/ami-ia/blob/master/notebooks/intro-ML.ipynb\" target=\"_parent\"><img src=\"https://colab.research.google.com/assets/colab-badge.svg\" alt=\"Open In Colab\"/></a>"
   ]
  },
  {
   "cell_type": "markdown",
   "metadata": {
    "colab_type": "text",
    "id": "MNBVSFaLObUS"
   },
   "source": [
    "# Introduction à l'apprentissage supervisé\n",
    "\n",
    "Une introduction au *machine learning* avec l'examples des données de contrôles sanitaires de la direction générale de l'alimentation : https://www.data.gouv.fr/fr/datasets/resultats-des-controles-officiels-sanitaires-dispositif-dinformation-alimconfiance/.\n",
    "\n",
    "### Contexte\n",
    "\n",
    "La publication des résultats des contrôles sanitaires dans le secteur alimentaire (restaurants, cantines, abattoirs, etc.) est une attente légitime des citoyens qui participe à l’amélioration de la confiance du consommateur. Prévue par la loi d’Avenir pour l’agriculture, l’alimentation et la forêt, du 13 octobre 2014, cette mesure s’inscrit dans une évolution vers une plus grande transparence de l’action de l’État.\n",
    "\n",
    "Il s’agit de rendre public le résultat des contrôles officiels en sécurité sanitaire des aliments réalisés dans tous les établissements de la chaîne alimentaire : abattoirs, commerces de détail (métiers de bouche, restaurants, supermarchés, marchés, vente à la ferme, etc.), restaurants collectifs et établissements agroalimentaires, depuis le 1er mars 2017.\n",
    "\n",
    "### Notre objectif\n",
    "\n",
    "Peut-on anticiper quel sera le résultat d'un nouveau contrôle (satisfaisant ou non) à partir des caractéristiques de l'établissement ?"
   ]
  },
  {
   "cell_type": "markdown",
   "metadata": {
    "colab_type": "text",
    "id": "OTZVkmLg-x8A"
   },
   "source": [
    "## 1. Importation et exploration des données"
   ]
  },
  {
   "cell_type": "markdown",
   "metadata": {},
   "source": [
    "Importer les librairies standards"
   ]
  },
  {
   "cell_type": "code",
   "execution_count": null,
   "metadata": {
    "colab": {},
    "colab_type": "code",
    "id": "dC4ECExRSWdV"
   },
   "outputs": [],
   "source": [
    "import pandas as pd\n",
    "import numpy as np\n",
    "import matplotlib.pyplot as plt\n",
    "\n",
    "np.random.seed(123)\n",
    "\n",
    "%matplotlib inline"
   ]
  },
  {
   "cell_type": "markdown",
   "metadata": {
    "colab_type": "text",
    "id": "GtQZkftO-MIF"
   },
   "source": [
    "### Importer un jeu de données\n",
    "\n",
    "Grâce à la librairie pandas. Par exemple, depuis internet.\n"
   ]
  },
  {
   "cell_type": "code",
   "execution_count": null,
   "metadata": {
    "colab": {},
    "colab_type": "code",
    "id": "qsizPgbDOg3k"
   },
   "outputs": [],
   "source": [
    "df = pd.read_csv('https://raw.githubusercontent.com/etalab-ia/ami-ia/master/session2/data/export_alimconfiance.csv',\n",
    "                 sep=';')"
   ]
  },
  {
   "cell_type": "markdown",
   "metadata": {
    "colab_type": "text",
    "id": "CZfpM6DiKyGQ"
   },
   "source": [
    "Quelle est la taille de mes données ?"
   ]
  },
  {
   "cell_type": "code",
   "execution_count": null,
   "metadata": {
    "colab": {
     "base_uri": "https://localhost:8080/",
     "height": 35
    },
    "colab_type": "code",
    "id": "llpw2wKyKyOY",
    "outputId": "b9c07839-ea0c-46f5-fa6d-faab762165d0"
   },
   "outputs": [],
   "source": [
    "df.shape"
   ]
  },
  {
   "cell_type": "markdown",
   "metadata": {
    "colab_type": "text",
    "id": "dku59y3t91YG"
   },
   "source": [
    "### A quoi ressemble mon jeu de données ?\n"
   ]
  },
  {
   "cell_type": "code",
   "execution_count": null,
   "metadata": {
    "colab": {
     "base_uri": "https://localhost:8080/",
     "height": 330
    },
    "colab_type": "code",
    "id": "Gog_D9PYOlS3",
    "outputId": "e4409bf1-1ffe-42f8-ae0d-05766eee8472"
   },
   "outputs": [],
   "source": [
    "df.sample(5)"
   ]
  },
  {
   "cell_type": "markdown",
   "metadata": {
    "colab_type": "text",
    "id": "ce2RyKNL3KwM"
   },
   "source": [
    "### Explorer le contenu de chaque colonne"
   ]
  },
  {
   "cell_type": "markdown",
   "metadata": {
    "colab_type": "text",
    "id": "8etCdi8u-Ze0"
   },
   "source": [
    "Quels résultats pour les contrôles ?"
   ]
  },
  {
   "cell_type": "code",
   "execution_count": null,
   "metadata": {
    "colab": {
     "base_uri": "https://localhost:8080/",
     "height": 106
    },
    "colab_type": "code",
    "id": "wxcnLj10g9JJ",
    "outputId": "f1134466-7525-45f6-ec9b-a1c12a162cbe"
   },
   "outputs": [],
   "source": [
    "df['Synthese_eval_sanit'].value_counts()"
   ]
  },
  {
   "cell_type": "markdown",
   "metadata": {
    "colab_type": "text",
    "id": "6AfQhFCh-nZA"
   },
   "source": [
    "Quels types d'établissements ?"
   ]
  },
  {
   "cell_type": "code",
   "execution_count": null,
   "metadata": {
    "colab": {
     "base_uri": "https://localhost:8080/",
     "height": 231
    },
    "colab_type": "code",
    "id": "m8S-Ebnjg_dT",
    "outputId": "ec525c13-ce4f-47b3-ae42-5a352b729b95"
   },
   "outputs": [],
   "source": [
    "df['APP_Libelle_activite_etablissement'].value_counts()"
   ]
  },
  {
   "cell_type": "markdown",
   "metadata": {
    "colab_type": "text",
    "id": "lDqa37_-T7lw"
   },
   "source": [
    "Certaines établissements appartiennent à plusieurs types, mais quelle proportion ?"
   ]
  },
  {
   "cell_type": "code",
   "execution_count": null,
   "metadata": {
    "colab": {
     "base_uri": "https://localhost:8080/",
     "height": 35
    },
    "colab_type": "code",
    "id": "gm2W3iqQTlnM",
    "outputId": "5625f227-9321-4530-92a2-2f43f1f37e8d"
   },
   "outputs": [],
   "source": [
    "(df['APP_Libelle_activite_etablissement'].str.contains('\\|')).sum() / len(df)"
   ]
  },
  {
   "cell_type": "markdown",
   "metadata": {
    "colab_type": "text",
    "id": "P9O6f5--UE3K"
   },
   "source": [
    "On fait le choix (arbitraire) de ne garder que le premier type renseigné"
   ]
  },
  {
   "cell_type": "code",
   "execution_count": null,
   "metadata": {
    "colab": {},
    "colab_type": "code",
    "id": "8dl4bsz4UFCu"
   },
   "outputs": [],
   "source": [
    "df['APP_Libelle_activite_etablissement'] = df['APP_Libelle_activite_etablissement'].str.split('\\|').str[0]"
   ]
  },
  {
   "cell_type": "markdown",
   "metadata": {
    "colab_type": "text",
    "id": "axWu4KZl_rOb"
   },
   "source": [
    "Et à quoi correspond la colonne `ods_type_activite` ?\n"
   ]
  },
  {
   "cell_type": "code",
   "execution_count": null,
   "metadata": {
    "colab": {
     "base_uri": "https://localhost:8080/",
     "height": 160
    },
    "colab_type": "code",
    "id": "VNaQsx9UTlWP",
    "outputId": "7061ae89-8e12-4ecd-c30b-38bf24d32a0f"
   },
   "outputs": [],
   "source": [
    "df['ods_type_activite'].value_counts()"
   ]
  },
  {
   "cell_type": "markdown",
   "metadata": {
    "colab_type": "text",
    "id": "bi-ltQvR_c6L"
   },
   "source": [
    "Où se situent géographiquement les contrôles ?"
   ]
  },
  {
   "cell_type": "code",
   "execution_count": null,
   "metadata": {
    "colab": {
     "base_uri": "https://localhost:8080/",
     "height": 135
    },
    "colab_type": "code",
    "id": "pISo6nS0BCWG",
    "outputId": "b7d1a3a7-7c6e-4c20-cfc7-089455e57523"
   },
   "outputs": [],
   "source": [
    "df['latitude'] = df['geores'].str.split(',').str[0].astype(float)\n",
    "df['longitude'] = df['geores'].str.split(',').str[1].astype(float)\n",
    "df.sample(1)"
   ]
  },
  {
   "cell_type": "code",
   "execution_count": null,
   "metadata": {
    "colab": {
     "base_uri": "https://localhost:8080/",
     "height": 227
    },
    "colab_type": "code",
    "id": "moo-9UM3Ssja",
    "outputId": "0216769b-f95e-42ec-cb6e-dd16b4988e67"
   },
   "outputs": [],
   "source": [
    "!pip install geopandas\n",
    "import geopandas\n",
    "world = geopandas.read_file(geopandas.datasets.get_path('naturalearth_lowres'))\n",
    "base = world.plot(color='white', edgecolor='black')\n",
    "gdf = geopandas.GeoDataFrame(df, geometry=geopandas.points_from_xy(df['longitude'], df['latitude']))\n",
    "gdf.plot(ax=base)"
   ]
  },
  {
   "cell_type": "markdown",
   "metadata": {
    "colab_type": "text",
    "id": "k6M_Zz3E_iUJ"
   },
   "source": [
    "Exploration de l'étrange colonne `Agrement`"
   ]
  },
  {
   "cell_type": "code",
   "execution_count": null,
   "metadata": {
    "colab": {
     "base_uri": "https://localhost:8080/",
     "height": 35
    },
    "colab_type": "code",
    "id": "ttAMen-tS5LU",
    "outputId": "d25778a8-477d-4abd-a1b9-4fc45e92049c"
   },
   "outputs": [],
   "source": [
    "df['Agrement'].count() / len(df['Agrement'])"
   ]
  },
  {
   "cell_type": "markdown",
   "metadata": {
    "colab_type": "text",
    "id": "OfWrQ3aILl8U"
   },
   "source": [
    "## 2. Feature engineering\n",
    "\n",
    "Le feature engineerng consiste choisir quelles features conserver, en ajouter de nouvelles, et les transformer sous un format adapté pour l'entraînement des modèles. Contrairement à ce qu'on peut penser, **c'est la phase la plus complexe et la plus longue.** Elle requiert une connaissance métier, une expérience dans la création de ces features, et beaucoup d'imagination !\n",
    "\n",
    "A garder en tête : les algorithmes d'apprentissage, supervisés ou non, **ne savent travailler qu'avec des données numériques.**"
   ]
  },
  {
   "cell_type": "markdown",
   "metadata": {
    "colab_type": "text",
    "id": "Scd2eCCcLr8a"
   },
   "source": [
    "#### Simplifions notre valeur cible sous un format numérique"
   ]
  },
  {
   "cell_type": "code",
   "execution_count": null,
   "metadata": {
    "colab": {
     "base_uri": "https://localhost:8080/",
     "height": 71
    },
    "colab_type": "code",
    "id": "2qMKIBi-Tu70",
    "outputId": "7e9d03e9-6795-4f8f-ed95-cd0feb393754"
   },
   "outputs": [],
   "source": [
    "simplification = {'Très satisfaisant': 1,\n",
    "                  'Satisfaisant': 1,\n",
    "                  'A améliorer': 0,\n",
    "                  'A corriger de manière urgente': 0}\n",
    "df['Synthese_eval_sanit'] = df['Synthese_eval_sanit'].map(simplification)\n",
    "df['Synthese_eval_sanit'].value_counts()"
   ]
  },
  {
   "cell_type": "markdown",
   "metadata": {
    "colab_type": "text",
    "id": "MuKiNXzwvuXt"
   },
   "source": [
    "### Créer de nouvelles features"
   ]
  },
  {
   "cell_type": "markdown",
   "metadata": {
    "colab_type": "text",
    "id": "Mc9Zz8dzRw_C"
   },
   "source": [
    "Utilisons l'agrément comme un marqueur de qualité"
   ]
  },
  {
   "cell_type": "code",
   "execution_count": null,
   "metadata": {
    "colab": {
     "base_uri": "https://localhost:8080/",
     "height": 53
    },
    "colab_type": "code",
    "id": "kU4t8M9oR6eo",
    "outputId": "e8d10992-f588-4081-8a9f-c12acd7c56bf"
   },
   "outputs": [],
   "source": [
    "df['has_agrement'] = pd.notnull(df['Agrement']).astype(int)\n",
    "df['has_agrement'].sample(1)"
   ]
  },
  {
   "cell_type": "markdown",
   "metadata": {
    "colab_type": "text",
    "id": "g2M-ur3WNKg_"
   },
   "source": [
    "Ne serait-il pas possible de prendre en compte les contrôles passés d'un restaurant ?"
   ]
  },
  {
   "cell_type": "code",
   "execution_count": null,
   "metadata": {
    "colab": {
     "base_uri": "https://localhost:8080/",
     "height": 283
    },
    "colab_type": "code",
    "id": "q9UQObozQI8l",
    "outputId": "dc9240d2-cd5d-4ab8-ee94-08257364c94f"
   },
   "outputs": [],
   "source": [
    "df['SIRET'].value_counts().hist(bins=100)"
   ]
  },
  {
   "cell_type": "code",
   "execution_count": null,
   "metadata": {
    "colab": {},
    "colab_type": "code",
    "id": "q7N99jcZPmRV"
   },
   "outputs": [],
   "source": [
    "df['count_controls_siret'] = df.groupby('SIRET')['Synthese_eval_sanit'].transform(lambda x: x.count())"
   ]
  },
  {
   "cell_type": "markdown",
   "metadata": {
    "colab_type": "text",
    "id": "FHF4xHVkbt3D"
   },
   "source": [
    "On peut aussi utiliser de l'information géographique, mais le niveau du code postal est trop précis.\n",
    "Prenons plutôt les codes des départements."
   ]
  },
  {
   "cell_type": "code",
   "execution_count": null,
   "metadata": {
    "colab": {
     "base_uri": "https://localhost:8080/",
     "height": 35
    },
    "colab_type": "code",
    "id": "XqLLRm-tbyfk",
    "outputId": "da700275-e518-4a56-a6dd-a259597ba296"
   },
   "outputs": [],
   "source": [
    "df['Code_postal'].nunique()"
   ]
  },
  {
   "cell_type": "code",
   "execution_count": null,
   "metadata": {
    "colab": {
     "base_uri": "https://localhost:8080/",
     "height": 35
    },
    "colab_type": "code",
    "id": "UToya6Dmb2OK",
    "outputId": "e9d516ce-9a7f-44bf-ecf4-b7f85c5e4fe3"
   },
   "outputs": [],
   "source": [
    "sum(df['Code_postal'].isnull())"
   ]
  },
  {
   "cell_type": "code",
   "execution_count": null,
   "metadata": {
    "colab": {
     "base_uri": "https://localhost:8080/",
     "height": 53
    },
    "colab_type": "code",
    "id": "3IHoRLAecp6F",
    "outputId": "318cf896-c79a-4462-ab57-17786a4467ef"
   },
   "outputs": [],
   "source": [
    "df = df[df['Code_postal'].notnull()]\n",
    "df['dept'] = np.floor(df['Code_postal'] / 1000)\n",
    "df['dept'].sample(1)"
   ]
  },
  {
   "cell_type": "markdown",
   "metadata": {
    "colab_type": "text",
    "id": "z6C_eRyhXLUp"
   },
   "source": [
    "On dispose de la date d'inspection : on peut donc en tirer de nouvelles features temporelles."
   ]
  },
  {
   "cell_type": "code",
   "execution_count": null,
   "metadata": {
    "colab": {
     "base_uri": "https://localhost:8080/",
     "height": 53
    },
    "colab_type": "code",
    "id": "N6yGek9EOA4U",
    "outputId": "dbb8263e-64c2-49d2-b5b8-ffa5778223e5"
   },
   "outputs": [],
   "source": [
    "df['Date_inspection'].sample(1)"
   ]
  },
  {
   "cell_type": "code",
   "execution_count": null,
   "metadata": {
    "colab": {
     "base_uri": "https://localhost:8080/",
     "height": 53
    },
    "colab_type": "code",
    "id": "OZANGyS9OEqe",
    "outputId": "0036b214-804e-48ec-ca25-602e66bbfd37"
   },
   "outputs": [],
   "source": [
    "df['Date_inspection'] = pd.to_datetime(df['Date_inspection'],\n",
    "                                       format='%Y-%m-%dT%H:%M:%S', utc=True)\n",
    "df['Date_inspection'].sample(1)"
   ]
  },
  {
   "cell_type": "code",
   "execution_count": null,
   "metadata": {
    "colab": {},
    "colab_type": "code",
    "id": "YkR83PK6V_Nr"
   },
   "outputs": [],
   "source": [
    "df['year'] = df['Date_inspection'].dt.year\n",
    "df['month'] = df['Date_inspection'].dt.month\n",
    "df['weekday'] = df['Date_inspection'].dt.weekday"
   ]
  },
  {
   "cell_type": "markdown",
   "metadata": {
    "colab_type": "text",
    "id": "Rrj06y-LN_WC"
   },
   "source": [
    "Peut-on utiliser des informations transverses à plusieurs zones ou groupes ?"
   ]
  },
  {
   "cell_type": "markdown",
   "metadata": {
    "colab_type": "text",
    "id": "KC--9xTBnB0H"
   },
   "source": [
    "- Par département"
   ]
  },
  {
   "cell_type": "code",
   "execution_count": null,
   "metadata": {
    "colab": {},
    "colab_type": "code",
    "id": "7K3Nby4KOAW0"
   },
   "outputs": [],
   "source": [
    "df['count_controls_dept'] = df.groupby('dept')['Synthese_eval_sanit'].transform(lambda x: x.count())\n",
    "df['score_controls_dept'] = df.groupby('dept')['Synthese_eval_sanit'].transform(lambda x: x.mean())"
   ]
  },
  {
   "cell_type": "markdown",
   "metadata": {
    "colab_type": "text",
    "id": "GleWXRocnEoq"
   },
   "source": [
    "- Par secteur d'activité (Restaurant, Boucherie-Charcuterie, Boulangerie-Pâtisserie, etc.)"
   ]
  },
  {
   "cell_type": "code",
   "execution_count": null,
   "metadata": {
    "colab": {},
    "colab_type": "code",
    "id": "mYRirHsyR8w4"
   },
   "outputs": [],
   "source": [
    "col = 'APP_Libelle_activite_etablissement'\n",
    "df[col] = df[col].fillna('NA')\n",
    "df['count_controls_activite'] = df.groupby(col)['Synthese_eval_sanit'].transform(lambda x: x.count())\n",
    "df['score_controls_activite'] = df.groupby(col)['Synthese_eval_sanit'].transform(lambda x: x.mean())"
   ]
  },
  {
   "cell_type": "markdown",
   "metadata": {
    "colab_type": "text",
    "id": "nMaCyqvFni92"
   },
   "source": [
    "- Par type de produits vendus (Viandes et produits carnés, \n",
    "Produits de la mer et d'eau douce, Lait et produits laitiers, etc.)"
   ]
  },
  {
   "cell_type": "code",
   "execution_count": null,
   "metadata": {
    "colab": {},
    "colab_type": "code",
    "id": "M0o5aQz2S5YA"
   },
   "outputs": [],
   "source": [
    "df['ods_type_activite'] = df['ods_type_activite'].fillna('NA')\n",
    "df['count_controls_produit'] = df.groupby('ods_type_activite')['Synthese_eval_sanit'].transform(\n",
    "                                                                                   lambda x: x.count())\n",
    "df['score_controls_produit'] = df.groupby('ods_type_activite')['Synthese_eval_sanit'].transform(\n",
    "                                                                                   lambda x: x.mean())"
   ]
  },
  {
   "cell_type": "markdown",
   "metadata": {
    "colab_type": "text",
    "id": "wCAt_6P3n0mi"
   },
   "source": [
    "- Par jour de la semaine !"
   ]
  },
  {
   "cell_type": "code",
   "execution_count": null,
   "metadata": {
    "colab": {},
    "colab_type": "code",
    "id": "zujLmey-m1Na"
   },
   "outputs": [],
   "source": [
    "df['count_controls_wday'] = df.groupby('weekday')['Synthese_eval_sanit'].transform(lambda x: x.count())\n",
    "df['score_controls_wday'] = df.groupby('weekday')['Synthese_eval_sanit'].transform(lambda x: x.mean())"
   ]
  },
  {
   "cell_type": "markdown",
   "metadata": {
    "colab_type": "text",
    "id": "ezhu1oDSSOBe"
   },
   "source": [
    "A quoi ressemblent nos ajouts ?"
   ]
  },
  {
   "cell_type": "code",
   "execution_count": null,
   "metadata": {
    "colab": {
     "base_uri": "https://localhost:8080/",
     "height": 135
    },
    "colab_type": "code",
    "id": "FUkTnmb3SKhu",
    "outputId": "d2a5afaf-f52e-4e21-c8c3-a7636b63c199"
   },
   "outputs": [],
   "source": [
    "df.sample(1)"
   ]
  },
  {
   "cell_type": "markdown",
   "metadata": {
    "colab_type": "text",
    "id": "rJ7xYyH0zCi4"
   },
   "source": [
    "### Supprimer des features inutiles ou inutilisables"
   ]
  },
  {
   "cell_type": "code",
   "execution_count": null,
   "metadata": {
    "colab": {},
    "colab_type": "code",
    "id": "_1ytqDZpYX4x"
   },
   "outputs": [],
   "source": [
    "drop_cols = ['APP_Libelle_etablissement', 'Code_postal', 'SIRET', 'Libelle_commune',\n",
    "             'filtre', 'Numero_inspection', 'Date_inspection',\n",
    "             'Agrement', 'geores', 'ods_adresse', 'geometry']\n",
    "df = df.drop(drop_cols, axis=1)"
   ]
  },
  {
   "cell_type": "markdown",
   "metadata": {
    "colab_type": "text",
    "id": "UN3RDHWVXrYS"
   },
   "source": [
    "### Encoder les colonnes catégorielles\n",
    "\n",
    "Il est nécessaire de transformer les catégories en nombres. Mais comment faire ?\n",
    "\n",
    "| Etablissement | Activité           |\n",
    "| :------ | :-------------     | \n",
    "| A       | Restaurant         |\n",
    "| B       | Producteur Fermier |\n",
    "| C       | Boucherie          |\n",
    "| D       | Restaurant         |\n",
    "\n",
    "devient :\n",
    "\n",
    "| Etablissement | Activité_Restaurant | Activité_ProducteurFermier | Activité_Boucherie |\n",
    "| :------ | :-: | :-: | :-: | \n",
    "| A       | 1 | 0 | 0 |\n",
    "| B       | 0 | 1 | 0 |\n",
    "| C       | 0 | 0 | 1 |\n",
    "| D       | 1 | 0 | 0 |\n"
   ]
  },
  {
   "cell_type": "markdown",
   "metadata": {
    "colab_type": "text",
    "id": "0kdfd3H_zyZS"
   },
   "source": [
    "- **Etape 1 :** on créer un encodeur, qui va directement transformer toutes les colonnes catégorielles"
   ]
  },
  {
   "cell_type": "code",
   "execution_count": null,
   "metadata": {
    "colab": {},
    "colab_type": "code",
    "id": "Hbkn7jQwXrfl"
   },
   "outputs": [],
   "source": [
    "from sklearn.preprocessing import OneHotEncoder\n",
    "categorical_features = ['dept', 'APP_Libelle_activite_etablissement', 'ods_type_activite', 'month', 'weekday']\n",
    "encoder = OneHotEncoder(drop='first', sparse=False).fit(df[categorical_features])"
   ]
  },
  {
   "cell_type": "markdown",
   "metadata": {
    "colab_type": "text",
    "id": "9rwtOc5xz8aV"
   },
   "source": [
    "- **Etape 2 :** on fusionne les encodages avec le dataframe originel"
   ]
  },
  {
   "cell_type": "code",
   "execution_count": null,
   "metadata": {
    "colab": {
     "base_uri": "https://localhost:8080/",
     "height": 35
    },
    "colab_type": "code",
    "id": "7U86CQFgLMxF",
    "outputId": "6b974740-1164-45a4-fe70-1a27cf6af84a"
   },
   "outputs": [],
   "source": [
    "df = pd.concat([df,\n",
    "                pd.DataFrame(data=encoder.transform(df[categorical_features]), \n",
    "                             columns=encoder.get_feature_names(categorical_features), \n",
    "                             index=df.index)], axis=1)\n",
    "df.shape"
   ]
  },
  {
   "cell_type": "code",
   "execution_count": null,
   "metadata": {
    "colab": {
     "base_uri": "https://localhost:8080/",
     "height": 165
    },
    "colab_type": "code",
    "id": "SUunBEZ-8QX3",
    "outputId": "97af1250-9121-48b2-c521-a722d9323cae"
   },
   "outputs": [],
   "source": [
    "df.sample(1)"
   ]
  },
  {
   "cell_type": "markdown",
   "metadata": {
    "colab_type": "text",
    "id": "bUodOzkK7HfG"
   },
   "source": [
    "## 3. Entraîner et comparer des modèles\n",
    "\n",
    "Une fois que nos données sont sélectionnées et mises en forme, la phase d'apprentissage consiste à choisir le modèle et à optimiser ses paramètres."
   ]
  },
  {
   "cell_type": "markdown",
   "metadata": {
    "colab_type": "text",
    "id": "UfbDasJv-i9X"
   },
   "source": [
    "### Un dernier nettoyage du jeu de données"
   ]
  },
  {
   "cell_type": "code",
   "execution_count": null,
   "metadata": {
    "colab": {
     "base_uri": "https://localhost:8080/",
     "height": 35
    },
    "colab_type": "code",
    "id": "ndkyZ1po-nLS",
    "outputId": "1a1f66ec-8aa7-4054-abb1-2bca87ce0fc5"
   },
   "outputs": [],
   "source": [
    "df.shape"
   ]
  },
  {
   "cell_type": "markdown",
   "metadata": {
    "colab_type": "text",
    "id": "oVzLsieJ1L-q"
   },
   "source": [
    "Suppression des lignes contenant des NaN"
   ]
  },
  {
   "cell_type": "code",
   "execution_count": null,
   "metadata": {
    "colab": {
     "base_uri": "https://localhost:8080/",
     "height": 35
    },
    "colab_type": "code",
    "id": "-fRu1Hs8-nR4",
    "outputId": "1d407346-f2b6-40f4-b61f-c8f8975593ca"
   },
   "outputs": [],
   "source": [
    "df = df.dropna()\n",
    "df.shape"
   ]
  },
  {
   "cell_type": "markdown",
   "metadata": {
    "colab_type": "text",
    "id": "vjFWA6f51OoN"
   },
   "source": [
    "Suppression des colonnes avec une seule valeur différente"
   ]
  },
  {
   "cell_type": "code",
   "execution_count": null,
   "metadata": {
    "colab": {
     "base_uri": "https://localhost:8080/",
     "height": 35
    },
    "colab_type": "code",
    "id": "ayl0aL2SfO5m",
    "outputId": "d792596a-8e12-424b-fd7a-096e01206931"
   },
   "outputs": [],
   "source": [
    "for col in df.columns:\n",
    "    if len(df[col].unique()) == 1:\n",
    "        df.drop(col, inplace=True, axis=1)\n",
    "df.shape"
   ]
  },
  {
   "cell_type": "markdown",
   "metadata": {
    "colab_type": "text",
    "id": "OuY5OPS6726N"
   },
   "source": [
    "### Séparation en jeux de données \"train\" et \"test\""
   ]
  },
  {
   "cell_type": "code",
   "execution_count": null,
   "metadata": {
    "colab": {},
    "colab_type": "code",
    "id": "qbrde2DeN4Jz"
   },
   "outputs": [],
   "source": [
    "from sklearn.model_selection import train_test_split\n",
    "features = [col for col in df.columns if col not in categorical_features\n",
    "            and col != 'Synthese_eval_sanit']\n",
    "\n",
    "df_train, df_test = train_test_split(df, test_size=0.2)\n",
    "\n",
    "X_train = df_train[features]\n",
    "y_train = df_train['Synthese_eval_sanit']\n",
    "\n",
    "X_test = df_test[features]\n",
    "y_test = df_test['Synthese_eval_sanit']"
   ]
  },
  {
   "cell_type": "markdown",
   "metadata": {
    "colab_type": "text",
    "id": "GS04nFp09g1G"
   },
   "source": [
    "### Echantillonner pour équilibrer les classes\n"
   ]
  },
  {
   "cell_type": "code",
   "execution_count": null,
   "metadata": {
    "colab": {
     "base_uri": "https://localhost:8080/",
     "height": 35
    },
    "colab_type": "code",
    "id": "ioSkssE_8wNm",
    "outputId": "df532418-3217-4a73-e2d6-edebbca92451"
   },
   "outputs": [],
   "source": [
    "y_train.mean(), y_test.mean()"
   ]
  },
  {
   "cell_type": "markdown",
   "metadata": {
    "colab_type": "text",
    "id": "P5hFY_SP1yHP"
   },
   "source": [
    "Les deux catégories que nous cherchons à prédire ne sont pas équilibrées ! L'algorithme pourrait utiliser cette faille pour facilement obtenir de bons résultats."
   ]
  },
  {
   "cell_type": "code",
   "execution_count": null,
   "metadata": {
    "colab": {
     "base_uri": "https://localhost:8080/",
     "height": 198
    },
    "colab_type": "code",
    "id": "tidHCIX9Czab",
    "outputId": "75d80eda-3669-45ec-d462-e362333a2d62"
   },
   "outputs": [],
   "source": [
    "import warnings\n",
    "warnings.filterwarnings(\"ignore\")\n",
    "from imblearn.under_sampling import RandomUnderSampler\n",
    "\n",
    "sampler = RandomUnderSampler()\n",
    "X_train, y_train = sampler.fit_resample(X_train, y_train)\n",
    "X_test, y_test = sampler.fit_resample(X_test, y_test)\n",
    "\n",
    "y_train.mean(), y_test.mean()"
   ]
  },
  {
   "cell_type": "markdown",
   "metadata": {
    "colab_type": "text",
    "id": "WxNazQyp9yBB"
   },
   "source": [
    "### Un modèle simple : la méthode des k plus proches voisins\n",
    "\n",
    "<img src=\"https://res.cloudinary.com/dyd911kmh/image/upload/f_auto,q_auto:best/v1531424125/Knn_k1_z96jba.png\" alt=\"knn\" style=\"width: 400px;\"/>"
   ]
  },
  {
   "cell_type": "code",
   "execution_count": null,
   "metadata": {
    "colab": {
     "base_uri": "https://localhost:8080/",
     "height": 35
    },
    "colab_type": "code",
    "id": "W3XKVJ4iDs5V",
    "outputId": "5100240e-0f10-477f-a28c-f60e1e01c495"
   },
   "outputs": [],
   "source": [
    "from sklearn.neighbors import KNeighborsClassifier\n",
    "\n",
    "knn_model = KNeighborsClassifier(n_neighbors=5)\n",
    "knn_model.fit(X_train, y_train)\n",
    "knn_model.score(X_test, y_test)"
   ]
  },
  {
   "cell_type": "markdown",
   "metadata": {
    "colab_type": "text",
    "id": "SCkk2cZcAe8l"
   },
   "source": [
    "### Un modèle plus avancé : l'arbre de décision\n",
    "\n",
    "![dtree.png](https://lh3.googleusercontent.com/proxy/HY3WZSAsJwXPEED7DhDT_UtOknP6W_CvquMfUBwBq_ieSubhG5g9JpnDM1w9-gnzSJSvp5n2SRs2_bO82x9fllc)"
   ]
  },
  {
   "cell_type": "code",
   "execution_count": null,
   "metadata": {
    "colab": {
     "base_uri": "https://localhost:8080/",
     "height": 35
    },
    "colab_type": "code",
    "id": "SPev_pC69xSa",
    "outputId": "37e3e017-2eac-404f-fbd9-0eb776680a66"
   },
   "outputs": [],
   "source": [
    "from sklearn.tree import DecisionTreeClassifier\n",
    "\n",
    "dt_model = DecisionTreeClassifier(max_depth=10)\n",
    "dt_model.fit(X_train, y_train)\n",
    "dt_model.score(X_test, y_test)"
   ]
  },
  {
   "cell_type": "markdown",
   "metadata": {
    "colab_type": "text",
    "id": "jrVn9keQDpOU"
   },
   "source": [
    "L'arbre de décision présente l'intérêt d'être interprétable :"
   ]
  },
  {
   "cell_type": "code",
   "execution_count": null,
   "metadata": {
    "colab": {
     "base_uri": "https://localhost:8080/",
     "height": 588
    },
    "colab_type": "code",
    "id": "N9ZvN2lZ9rwN",
    "outputId": "8e30b131-3d29-40ff-dc81-28d23027332f"
   },
   "outputs": [],
   "source": [
    "from io import StringIO  \n",
    "from IPython.display import Image  \n",
    "from sklearn.tree import export_graphviz\n",
    "import pydotplus\n",
    "\n",
    "def plot_dt(dt, max_depth):\n",
    "    dot_data = StringIO()\n",
    "    export_graphviz(dt, out_file=dot_data, filled=True, rounded=True, feature_names=features, max_depth=max_depth)\n",
    "    graph = pydotplus.graph_from_dot_data(dot_data.getvalue())  \n",
    "    return Image(graph.create_png())\n",
    "    \n",
    "plot_dt(dt_model, max_depth=3)"
   ]
  },
  {
   "cell_type": "markdown",
   "metadata": {
    "colab_type": "text",
    "id": "WBD_FtXdFYOu"
   },
   "source": [
    "### S'appuyer sur un ensemble de modèles\n",
    "\n",
    "Et si on utilisait plutôt une forêt pleine d'arbres ?"
   ]
  },
  {
   "cell_type": "code",
   "execution_count": null,
   "metadata": {
    "colab": {
     "base_uri": "https://localhost:8080/",
     "height": 35
    },
    "colab_type": "code",
    "id": "gQt_BpkH9pNu",
    "outputId": "4da8532d-cbc9-4514-92cc-5f72fa789628"
   },
   "outputs": [],
   "source": [
    "from sklearn.ensemble import RandomForestClassifier\n",
    "\n",
    "rf_model = RandomForestClassifier(n_estimators=100, max_depth=8)\n",
    "rf_model.fit(X_train, y_train)\n",
    "rf_model.score(X_test, y_test)"
   ]
  },
  {
   "cell_type": "markdown",
   "metadata": {
    "colab_type": "text",
    "id": "l3hW3kZMGNrT"
   },
   "source": [
    "### La notion d'hyperparamètres"
   ]
  },
  {
   "cell_type": "markdown",
   "metadata": {
    "colab_type": "text",
    "id": "nCtidWZjGWrH"
   },
   "source": [
    "Le concept d'**hyperparamètres** : des paramètres que le modèle ne peut pas apprendre. Par exemple :\n",
    "- la profondeur de l'arbre `max_depth`\n",
    "- le nombre d'arbres dans la forêt `n_estimators`\n",
    "- le nombre de voisins à considérer `n_neighbors`\n",
    "\n",
    "Comment les optimiser ? En testant !"
   ]
  },
  {
   "cell_type": "code",
   "execution_count": null,
   "metadata": {
    "colab": {
     "base_uri": "https://localhost:8080/",
     "height": 281
    },
    "colab_type": "code",
    "id": "fu7kqUKVGcnU",
    "outputId": "87e3e2ea-21c5-4b2e-f8bb-5aec4caeae47"
   },
   "outputs": [],
   "source": [
    "scores = []\n",
    "steps = range(1, 51, 2)\n",
    "for n in steps:\n",
    "  repetitions = range(10)\n",
    "  step_score = []\n",
    "  for i in repetitions:\n",
    "    model = DecisionTreeClassifier(max_depth=n)\n",
    "    model.fit(X_train, y_train)\n",
    "    step_score.append(model.score(X_test, y_test))\n",
    "  scores.append(np.mean(step_score))\n",
    "plt.plot(steps, scores)\n",
    "plt.title(\"Justesse en fonction de la profondeur de l'arbre\")\n",
    "plt.show()"
   ]
  },
  {
   "cell_type": "markdown",
   "metadata": {
    "colab_type": "text",
    "id": "y7PGioGxIyzg"
   },
   "source": [
    "### Les réseaux de neurones\n",
    "\n",
    "<img src=\"https://cdn.futura-sciences.com/buildsv6/images/largeoriginal/a/9/a/a9aa3489dd_50034221_reseauneuronal-schema.jpg\" alt=\"knn\" style=\"width: 500px;\"/>"
   ]
  },
  {
   "cell_type": "code",
   "execution_count": null,
   "metadata": {
    "colab": {},
    "colab_type": "code",
    "id": "JdcDK48sYL6n"
   },
   "outputs": [],
   "source": [
    "from sklearn.preprocessing import MinMaxScaler\n",
    "scaler = MinMaxScaler()\n",
    "X_train_norm = scaler.fit_transform(X_train)\n",
    "X_test_norm = scaler.transform(X_test)"
   ]
  },
  {
   "cell_type": "code",
   "execution_count": null,
   "metadata": {
    "colab": {
     "base_uri": "https://localhost:8080/",
     "height": 1000
    },
    "colab_type": "code",
    "id": "PzDm_th6J7i6",
    "outputId": "9c2ed7d5-3c87-4584-d314-6a70cc7a492f"
   },
   "outputs": [],
   "source": [
    "from tensorflow.keras.models import Sequential\n",
    "from tensorflow.keras.layers import Dense\n",
    "\n",
    "nn_model = Sequential([\n",
    "              Dense(124, name='hidden', activation='relu', input_shape=(len(features),)),\n",
    "              Dense(1, name='output', activation='sigmoid'),\n",
    "           ])\n",
    "\n",
    "nn_model.compile(optimizer='adam', loss='mean_squared_error', metrics=['accuracy'])\n",
    "history = nn_model.fit(X_train_norm, y_train, batch_size=200, epochs=100, validation_data=(X_test_norm, y_test))"
   ]
  },
  {
   "cell_type": "markdown",
   "metadata": {
    "colab_type": "text",
    "id": "i2gzc2VKDvBK"
   },
   "source": [
    "### La notion d'overfitting"
   ]
  },
  {
   "cell_type": "markdown",
   "metadata": {
    "colab_type": "text",
    "id": "DQ5Sg5ehjPDF"
   },
   "source": [
    "On peut visualiser l'évolution de la performance de lu réseau de neurones au cours de l'entraînement :"
   ]
  },
  {
   "cell_type": "code",
   "execution_count": null,
   "metadata": {
    "colab": {
     "base_uri": "https://localhost:8080/",
     "height": 299
    },
    "colab_type": "code",
    "id": "LOKd7eq3gYs5",
    "outputId": "30b8e6df-4908-4737-a638-89de11f228fd"
   },
   "outputs": [],
   "source": [
    "plt.plot(history.history['accuracy'], label='Justesse (train)')\n",
    "plt.plot(history.history['val_accuracy'], label='Justesse (test)')\n",
    "plt.title(\"Evolution de la performance pendant l'entraînement\")\n",
    "plt.legend()\n",
    "plt.plot()"
   ]
  },
  {
   "cell_type": "markdown",
   "metadata": {
    "colab_type": "text",
    "id": "5F9acbk_ky-d"
   },
   "source": [
    "L'importante notion d'**overfitting (surapprentissage)** : lorsque l'algorithme \"colle trop\" aux données d'entraînement.\n",
    "\n",
    "<img src=\"https://upload.wikimedia.org/wikipedia/commons/thumb/1/19/Overfitting.svg/1200px-Overfitting.svg.png\" alt=\"knn\" style=\"width: 300px;\"/>"
   ]
  },
  {
   "cell_type": "markdown",
   "metadata": {
    "colab_type": "text",
    "id": "vfXFw3_JuMha"
   },
   "source": [
    "## 4. Tester et valider le modèle"
   ]
  },
  {
   "cell_type": "markdown",
   "metadata": {
    "colab_type": "text",
    "id": "YmB_U2n8Haua"
   },
   "source": [
    "On prédit en utilisant le modèle, sur les données de test non vues en entraînement\n",
    "\n"
   ]
  },
  {
   "cell_type": "code",
   "execution_count": null,
   "metadata": {
    "colab": {},
    "colab_type": "code",
    "id": "Xmf06AnZFWlb"
   },
   "outputs": [],
   "source": [
    "y_pred = rf_model.predict(X_test)\n",
    "y_fake = np.random.choice([0, 1], size=len(y_test), p=[1 - y_test.mean(), y_test.mean()])"
   ]
  },
  {
   "cell_type": "markdown",
   "metadata": {
    "colab_type": "text",
    "id": "uz01Z4J3ELFW"
   },
   "source": [
    "### Matrice de confusion\n",
    "\n"
   ]
  },
  {
   "cell_type": "code",
   "execution_count": null,
   "metadata": {
    "colab": {
     "base_uri": "https://localhost:8080/",
     "height": 112
    },
    "colab_type": "code",
    "id": "-9ZtfS4lEs8S",
    "outputId": "a74ec65b-9922-4187-ff17-5e68cd0fe23d"
   },
   "outputs": [],
   "source": [
    "from sklearn.metrics import confusion_matrix\n",
    "pd.DataFrame(confusion_matrix(y_test, y_pred), index=['Vrai label 0', 'Vrai label 1'], columns=['Label prédit 0', 'Label prédit 1'])"
   ]
  },
  {
   "cell_type": "markdown",
   "metadata": {
    "colab_type": "text",
    "id": "y1dIOTVWEtVe"
   },
   "source": [
    "### Utiliser différentes métriques"
   ]
  },
  {
   "cell_type": "code",
   "execution_count": null,
   "metadata": {
    "colab": {
     "base_uri": "https://localhost:8080/",
     "height": 175
    },
    "colab_type": "code",
    "id": "Q_Ej6UnpH2oo",
    "outputId": "7df80c37-c837-4199-8f02-c7f02b76df6d"
   },
   "outputs": [],
   "source": [
    "from sklearn.metrics import accuracy_score, precision_score, recall_score, f1_score\n",
    "\n",
    "res = []\n",
    "for metric in [accuracy_score, precision_score, recall_score, f1_score]:\n",
    "  res.append([metric.__name__, metric(y_test, y_pred), metric(y_test, y_fake)])\n",
    "pd.DataFrame(res, columns = ['Métrique', 'Score du modèle', \"Score de l'aléatoire\"])"
   ]
  }
 ],
 "metadata": {
  "colab": {
   "collapsed_sections": [],
   "include_colab_link": true,
   "name": "Introduction-ML.ipynb",
   "provenance": []
  },
  "kernelspec": {
   "display_name": "Python 3",
   "language": "python",
   "name": "python3"
  },
  "language_info": {
   "codemirror_mode": {
    "name": "ipython",
    "version": 3
   },
   "file_extension": ".py",
   "mimetype": "text/x-python",
   "name": "python",
   "nbconvert_exporter": "python",
   "pygments_lexer": "ipython3",
   "version": "3.6.6"
  }
 },
 "nbformat": 4,
 "nbformat_minor": 1
}
