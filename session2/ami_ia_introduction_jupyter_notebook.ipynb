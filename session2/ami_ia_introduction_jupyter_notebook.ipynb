{
 "cells": [
  {
   "cell_type": "code",
   "execution_count": null,
   "metadata": {},
   "outputs": [],
   "source": [
    "# Le fonctionnement : des cellules de codes, que l'on exécute une à une \n",
    "# et qui permet d'avoir les sorties directement \n",
    "\n",
    "# les différents types de cellules: code et markdown \n",
    "\n",
    "# comment exécuter une cellule de code \n",
    "#- CTRL + ENTER \n",
    "\n"
   ]
  },
  {
   "cell_type": "code",
   "execution_count": null,
   "metadata": {},
   "outputs": [],
   "source": [
    "# Les librairies? à quoi ca sert \n",
    "# Comment les installer \n",
    "# !pip instal "
   ]
  },
  {
   "cell_type": "code",
   "execution_count": null,
   "metadata": {},
   "outputs": [],
   "source": [
    "# les objets: \n",
    "# le nommage des objets "
   ]
  },
  {
   "cell_type": "code",
   "execution_count": null,
   "metadata": {},
   "outputs": [],
   "source": [
    "# les fonctions "
   ]
  },
  {
   "cell_type": "code",
   "execution_count": null,
   "metadata": {},
   "outputs": [],
   "source": [
    "# pandas : une librairie pour la manipulation de jeux de données \n",
    "# les dataframes : les lignes et les colonnes \n",
    "    # charger un jeu de donner: à partir d'un csv ou d'un fichier excel \n",
    "    # enregistrer une dataframe sur votre disque (au format csv, excel, etc.. )\n",
    "    \n",
    "    # "
   ]
  }
 ],
 "metadata": {
  "kernelspec": {
   "display_name": "Python 3",
   "language": "python",
   "name": "python3"
  },
  "language_info": {
   "codemirror_mode": {
    "name": "ipython",
    "version": 3
   },
   "file_extension": ".py",
   "mimetype": "text/x-python",
   "name": "python",
   "nbconvert_exporter": "python",
   "pygments_lexer": "ipython3",
   "version": "3.7.4"
  }
 },
 "nbformat": 4,
 "nbformat_minor": 2
}
