{
  "nbformat": 4,
  "nbformat_minor": 0,
  "metadata": {
    "colab": {
      "name": "Introduction-ML.ipynb",
      "provenance": [],
      "collapsed_sections": [],
      "include_colab_link": true
    },
    "kernelspec": {
      "name": "python3",
      "display_name": "Python 3"
    }
  },
  "cells": [
    {
      "cell_type": "markdown",
      "metadata": {
        "id": "view-in-github",
        "colab_type": "text"
      },
      "source": [
        "<a href=\"https://colab.research.google.com/github/etalab-ia/ami-ia/blob/master/notebooks/intro-ML.ipynb\" target=\"_parent\"><img src=\"https://colab.research.google.com/assets/colab-badge.svg\" alt=\"Open In Colab\"/></a>"
      ]
    },
    {
      "cell_type": "markdown",
      "metadata": {
        "id": "MNBVSFaLObUS",
        "colab_type": "text"
      },
      "source": [
        "# Introduction à l'apprentissage supervisé\n",
        "\n",
        "Une introduction au *machine learning* avec l'examples des données de contrôles sanitaires de la direction générale de l'alimentation : https://www.data.gouv.fr/fr/datasets/resultats-des-controles-officiels-sanitaires-dispositif-dinformation-alimconfiance/."
      ]
    },
    {
      "cell_type": "code",
      "metadata": {
        "id": "dC4ECExRSWdV",
        "colab_type": "code",
        "colab": {}
      },
      "source": [
        "import pandas as pd\n",
        "import numpy as np\n",
        "import matplotlib.pyplot as plt\n",
        "\n",
        "np.random.seed(123)\n",
        "\n",
        "%matplotlib inline"
      ],
      "execution_count": 0,
      "outputs": []
    },
    {
      "cell_type": "markdown",
      "metadata": {
        "id": "OTZVkmLg-x8A",
        "colab_type": "text"
      },
      "source": [
        "## 1. Importation et exploration des données"
      ]
    },
    {
      "cell_type": "markdown",
      "metadata": {
        "id": "GtQZkftO-MIF",
        "colab_type": "text"
      },
      "source": [
        "### Importer un jeu de données\n",
        "\n",
        "Grâce à la librairie pandas. Par exemple, depuis internet.\n"
      ]
    },
    {
      "cell_type": "code",
      "metadata": {
        "id": "qsizPgbDOg3k",
        "colab_type": "code",
        "colab": {}
      },
      "source": [
        "df = pd.read_csv('https://raw.githubusercontent.com/etalab-ia/ami-ia/master/data/export_alimconfiance.csv',\n",
        "                 sep=';')"
      ],
      "execution_count": 0,
      "outputs": []
    },
    {
      "cell_type": "markdown",
      "metadata": {
        "id": "CZfpM6DiKyGQ",
        "colab_type": "text"
      },
      "source": [
        "Quelle est la taille de mes données ?"
      ]
    },
    {
      "cell_type": "code",
      "metadata": {
        "id": "llpw2wKyKyOY",
        "colab_type": "code",
        "outputId": "b9c07839-ea0c-46f5-fa6d-faab762165d0",
        "colab": {
          "base_uri": "https://localhost:8080/",
          "height": 35
        }
      },
      "source": [
        "df.shape"
      ],
      "execution_count": 3,
      "outputs": [
        {
          "output_type": "execute_result",
          "data": {
            "text/plain": [
              "(38634, 13)"
            ]
          },
          "metadata": {
            "tags": []
          },
          "execution_count": 3
        }
      ]
    },
    {
      "cell_type": "markdown",
      "metadata": {
        "id": "dku59y3t91YG",
        "colab_type": "text"
      },
      "source": [
        "### A quoi ressemble mon jeu de données ?\n"
      ]
    },
    {
      "cell_type": "code",
      "metadata": {
        "id": "Gog_D9PYOlS3",
        "colab_type": "code",
        "outputId": "e4409bf1-1ffe-42f8-ae0d-05766eee8472",
        "colab": {
          "base_uri": "https://localhost:8080/",
          "height": 330
        }
      },
      "source": [
        "df.sample(5)"
      ],
      "execution_count": 4,
      "outputs": [
        {
          "output_type": "execute_result",
          "data": {
            "text/html": [
              "<div>\n",
              "<style scoped>\n",
              "    .dataframe tbody tr th:only-of-type {\n",
              "        vertical-align: middle;\n",
              "    }\n",
              "\n",
              "    .dataframe tbody tr th {\n",
              "        vertical-align: top;\n",
              "    }\n",
              "\n",
              "    .dataframe thead th {\n",
              "        text-align: right;\n",
              "    }\n",
              "</style>\n",
              "<table border=\"1\" class=\"dataframe\">\n",
              "  <thead>\n",
              "    <tr style=\"text-align: right;\">\n",
              "      <th></th>\n",
              "      <th>APP_Libelle_etablissement</th>\n",
              "      <th>SIRET</th>\n",
              "      <th>Code_postal</th>\n",
              "      <th>Libelle_commune</th>\n",
              "      <th>Numero_inspection</th>\n",
              "      <th>Date_inspection</th>\n",
              "      <th>APP_Libelle_activite_etablissement</th>\n",
              "      <th>Synthese_eval_sanit</th>\n",
              "      <th>Agrement</th>\n",
              "      <th>geores</th>\n",
              "      <th>filtre</th>\n",
              "      <th>ods_adresse</th>\n",
              "      <th>ods_type_activite</th>\n",
              "    </tr>\n",
              "  </thead>\n",
              "  <tbody>\n",
              "    <tr>\n",
              "      <th>33908</th>\n",
              "      <td>LE JARDIN DU VAL</td>\n",
              "      <td>42467832400015</td>\n",
              "      <td>95100.0</td>\n",
              "      <td>Argenteuil</td>\n",
              "      <td>19-084916-1</td>\n",
              "      <td>2019-12-17T01:00:00+01:00</td>\n",
              "      <td>Boucherie-Charcuterie</td>\n",
              "      <td>Satisfaisant</td>\n",
              "      <td>NaN</td>\n",
              "      <td>48.944926,2.207438</td>\n",
              "      <td>Boucherie-Charcuterie</td>\n",
              "      <td>25 rue des Grives</td>\n",
              "      <td>Autres</td>\n",
              "    </tr>\n",
              "    <tr>\n",
              "      <th>30790</th>\n",
              "      <td>MIDI VIANDES</td>\n",
              "      <td>38480603000035</td>\n",
              "      <td>83260.0</td>\n",
              "      <td>La Crau</td>\n",
              "      <td>19-105066-1</td>\n",
              "      <td>2019-11-26T01:00:00+01:00</td>\n",
              "      <td>Transformation de produits carnés</td>\n",
              "      <td>Très satisfaisant</td>\n",
              "      <td>83047003</td>\n",
              "      <td>43.14235,6.056487</td>\n",
              "      <td>NaN</td>\n",
              "      <td>route de Toulon</td>\n",
              "      <td>Viandes et produits carnés</td>\n",
              "    </tr>\n",
              "    <tr>\n",
              "      <th>24780</th>\n",
              "      <td>LA FERME DU MOULIN SAINT JACQUES</td>\n",
              "      <td>49062500100022</td>\n",
              "      <td>97121.0</td>\n",
              "      <td>Anse-Bertrand</td>\n",
              "      <td>19-094318-1</td>\n",
              "      <td>2019-09-12T02:00:00+02:00</td>\n",
              "      <td>Centre d'emballage des oeufs</td>\n",
              "      <td>Satisfaisant</td>\n",
              "      <td>97102001</td>\n",
              "      <td>16.4868468783,-61.4697680943</td>\n",
              "      <td>NaN</td>\n",
              "      <td>BP 164</td>\n",
              "      <td>Œufs et ovoproduits</td>\n",
              "    </tr>\n",
              "    <tr>\n",
              "      <th>29634</th>\n",
              "      <td>SOCIETE EUROPEENNE DE PATISSERIE</td>\n",
              "      <td>38053782900018</td>\n",
              "      <td>93120.0</td>\n",
              "      <td>La Courneuve</td>\n",
              "      <td>20-025383-1</td>\n",
              "      <td>2020-03-10T01:00:00+01:00</td>\n",
              "      <td>Boulangerie-Pâtisserie</td>\n",
              "      <td>A améliorer</td>\n",
              "      <td>NaN</td>\n",
              "      <td>48.92252,2.383716</td>\n",
              "      <td>Boulangerie-Pâtisserie</td>\n",
              "      <td>40 BOULEVARD PASTEUR</td>\n",
              "      <td>Autres</td>\n",
              "    </tr>\n",
              "    <tr>\n",
              "      <th>36578</th>\n",
              "      <td>Napoli Mia</td>\n",
              "      <td>33942423600018</td>\n",
              "      <td>84000.0</td>\n",
              "      <td>Avignon</td>\n",
              "      <td>19-051633-1</td>\n",
              "      <td>2019-06-07T02:00:00+02:00</td>\n",
              "      <td>Restaurant</td>\n",
              "      <td>Satisfaisant</td>\n",
              "      <td>NaN</td>\n",
              "      <td>43.942753,4.820783</td>\n",
              "      <td>Restaurant</td>\n",
              "      <td>8 ter route de Montfavet</td>\n",
              "      <td>Autres</td>\n",
              "    </tr>\n",
              "  </tbody>\n",
              "</table>\n",
              "</div>"
            ],
            "text/plain": [
              "              APP_Libelle_etablissement  ...           ods_type_activite\n",
              "33908                  LE JARDIN DU VAL  ...                      Autres\n",
              "30790                      MIDI VIANDES  ...  Viandes et produits carnés\n",
              "24780  LA FERME DU MOULIN SAINT JACQUES  ...         Œufs et ovoproduits\n",
              "29634  SOCIETE EUROPEENNE DE PATISSERIE  ...                      Autres\n",
              "36578                        Napoli Mia  ...                      Autres\n",
              "\n",
              "[5 rows x 13 columns]"
            ]
          },
          "metadata": {
            "tags": []
          },
          "execution_count": 4
        }
      ]
    },
    {
      "cell_type": "markdown",
      "metadata": {
        "id": "_u0EKQcRNx7v",
        "colab_type": "text"
      },
      "source": [
        "Quels types de données ?\n"
      ]
    },
    {
      "cell_type": "code",
      "metadata": {
        "id": "7bNMMctSBjp-",
        "colab_type": "code",
        "outputId": "b92e4ff7-2439-4868-edbd-ce98c1b74043",
        "colab": {
          "base_uri": "https://localhost:8080/",
          "height": 267
        }
      },
      "source": [
        "df.dtypes"
      ],
      "execution_count": 5,
      "outputs": [
        {
          "output_type": "execute_result",
          "data": {
            "text/plain": [
              "APP_Libelle_etablissement              object\n",
              "SIRET                                  object\n",
              "Code_postal                           float64\n",
              "Libelle_commune                        object\n",
              "Numero_inspection                      object\n",
              "Date_inspection                        object\n",
              "APP_Libelle_activite_etablissement     object\n",
              "Synthese_eval_sanit                    object\n",
              "Agrement                               object\n",
              "geores                                 object\n",
              "filtre                                 object\n",
              "ods_adresse                            object\n",
              "ods_type_activite                      object\n",
              "dtype: object"
            ]
          },
          "metadata": {
            "tags": []
          },
          "execution_count": 5
        }
      ]
    },
    {
      "cell_type": "markdown",
      "metadata": {
        "id": "ce2RyKNL3KwM",
        "colab_type": "text"
      },
      "source": [
        "### Explorer le contenu de chaque colonne"
      ]
    },
    {
      "cell_type": "markdown",
      "metadata": {
        "id": "8etCdi8u-Ze0",
        "colab_type": "text"
      },
      "source": [
        "Quels résultats pour les contrôles ?"
      ]
    },
    {
      "cell_type": "code",
      "metadata": {
        "id": "wxcnLj10g9JJ",
        "colab_type": "code",
        "outputId": "f1134466-7525-45f6-ec9b-a1c12a162cbe",
        "colab": {
          "base_uri": "https://localhost:8080/",
          "height": 106
        }
      },
      "source": [
        "df['Synthese_eval_sanit'].value_counts()"
      ],
      "execution_count": 6,
      "outputs": [
        {
          "output_type": "execute_result",
          "data": {
            "text/plain": [
              "Satisfaisant                     20122\n",
              "Très satisfaisant                15732\n",
              "A améliorer                       2647\n",
              "A corriger de manière urgente      133\n",
              "Name: Synthese_eval_sanit, dtype: int64"
            ]
          },
          "metadata": {
            "tags": []
          },
          "execution_count": 6
        }
      ]
    },
    {
      "cell_type": "markdown",
      "metadata": {
        "id": "6AfQhFCh-nZA",
        "colab_type": "text"
      },
      "source": [
        "Quels types d'établissements ?"
      ]
    },
    {
      "cell_type": "code",
      "metadata": {
        "id": "m8S-Ebnjg_dT",
        "colab_type": "code",
        "outputId": "ec525c13-ce4f-47b3-ae42-5a352b729b95",
        "colab": {
          "base_uri": "https://localhost:8080/",
          "height": 231
        }
      },
      "source": [
        "df['filtre'].value_counts()"
      ],
      "execution_count": 7,
      "outputs": [
        {
          "output_type": "execute_result",
          "data": {
            "text/plain": [
              "Restaurant                                                                                        14800\n",
              "Restauration collective                                                                            6449\n",
              "Boucherie-Charcuterie                                                                              1519\n",
              "Boulangerie-Pâtisserie                                                                             1058\n",
              "Alimentation générale                                                                               938\n",
              "                                                                                                  ...  \n",
              "Chocolatier|Glacier                                                                                   1\n",
              "Boucherie-Charcuterie|Fromagerie|Glacier|Poissonnerie                                                 1\n",
              "Boucherie-Charcuterie|Boulangerie-Pâtisserie|Fromagerie|Glacier                                       1\n",
              "Rayon boucherie-charcuterie|Rayon pain/viennoiserie/pâtisserie|Rayon fromagerie|Rayon traiteur        1\n",
              "Boucherie-Charcuterie|Boulangerie-Pâtisserie|Fromagerie|Poissonnerie|Traiteur                         1\n",
              "Name: filtre, Length: 63, dtype: int64"
            ]
          },
          "metadata": {
            "tags": []
          },
          "execution_count": 7
        }
      ]
    },
    {
      "cell_type": "markdown",
      "metadata": {
        "id": "lDqa37_-T7lw",
        "colab_type": "text"
      },
      "source": [
        "Certaines établissements appartiennent à plusieurs types, mais quelle proportion ?"
      ]
    },
    {
      "cell_type": "code",
      "metadata": {
        "id": "gm2W3iqQTlnM",
        "colab_type": "code",
        "outputId": "5625f227-9321-4530-92a2-2f43f1f37e8d",
        "colab": {
          "base_uri": "https://localhost:8080/",
          "height": 35
        }
      },
      "source": [
        "(df['filtre'].str.contains('\\|')).sum() / len(df)"
      ],
      "execution_count": 8,
      "outputs": [
        {
          "output_type": "execute_result",
          "data": {
            "text/plain": [
              "0.014624424082414454"
            ]
          },
          "metadata": {
            "tags": []
          },
          "execution_count": 8
        }
      ]
    },
    {
      "cell_type": "markdown",
      "metadata": {
        "id": "P9O6f5--UE3K",
        "colab_type": "text"
      },
      "source": [
        "On fait le choix (arbitraire) de ne garder que le premier"
      ]
    },
    {
      "cell_type": "code",
      "metadata": {
        "id": "8dl4bsz4UFCu",
        "colab_type": "code",
        "colab": {}
      },
      "source": [
        "df['filtre'] = df['filtre'].str.split('\\|').str[0]"
      ],
      "execution_count": 0,
      "outputs": []
    },
    {
      "cell_type": "markdown",
      "metadata": {
        "id": "axWu4KZl_rOb",
        "colab_type": "text"
      },
      "source": [
        "Et à quoi correspond la colonne `ods_type_activite` ?\n"
      ]
    },
    {
      "cell_type": "code",
      "metadata": {
        "id": "VNaQsx9UTlWP",
        "colab_type": "code",
        "outputId": "7061ae89-8e12-4ecd-c30b-38bf24d32a0f",
        "colab": {
          "base_uri": "https://localhost:8080/",
          "height": 160
        }
      },
      "source": [
        "df['ods_type_activite'].value_counts()"
      ],
      "execution_count": 10,
      "outputs": [
        {
          "output_type": "execute_result",
          "data": {
            "text/plain": [
              "Autres                                              29744\n",
              "Viandes et produits carnés                           2685\n",
              "Produits de la mer et d'eau douce                    1789\n",
              "Lait et produits laitiers                            1587\n",
              "Abattoirs                                            1446\n",
              "Transport et entreposage de denrées alimentaires     1021\n",
              "Œufs et ovoproduits                                   362\n",
              "Name: ods_type_activite, dtype: int64"
            ]
          },
          "metadata": {
            "tags": []
          },
          "execution_count": 10
        }
      ]
    },
    {
      "cell_type": "markdown",
      "metadata": {
        "id": "bi-ltQvR_c6L",
        "colab_type": "text"
      },
      "source": [
        "Où se situent les contrôles ?"
      ]
    },
    {
      "cell_type": "code",
      "metadata": {
        "id": "pISo6nS0BCWG",
        "colab_type": "code",
        "outputId": "b7d1a3a7-7c6e-4c20-cfc7-089455e57523",
        "colab": {
          "base_uri": "https://localhost:8080/",
          "height": 135
        }
      },
      "source": [
        "df['latitude'] = df['geores'].str.split(',').str[0].astype(float)\n",
        "df['longitude'] = df['geores'].str.split(',').str[1].astype(float)\n",
        "df.sample(1)"
      ],
      "execution_count": 11,
      "outputs": [
        {
          "output_type": "execute_result",
          "data": {
            "text/html": [
              "<div>\n",
              "<style scoped>\n",
              "    .dataframe tbody tr th:only-of-type {\n",
              "        vertical-align: middle;\n",
              "    }\n",
              "\n",
              "    .dataframe tbody tr th {\n",
              "        vertical-align: top;\n",
              "    }\n",
              "\n",
              "    .dataframe thead th {\n",
              "        text-align: right;\n",
              "    }\n",
              "</style>\n",
              "<table border=\"1\" class=\"dataframe\">\n",
              "  <thead>\n",
              "    <tr style=\"text-align: right;\">\n",
              "      <th></th>\n",
              "      <th>APP_Libelle_etablissement</th>\n",
              "      <th>SIRET</th>\n",
              "      <th>Code_postal</th>\n",
              "      <th>Libelle_commune</th>\n",
              "      <th>Numero_inspection</th>\n",
              "      <th>Date_inspection</th>\n",
              "      <th>APP_Libelle_activite_etablissement</th>\n",
              "      <th>Synthese_eval_sanit</th>\n",
              "      <th>Agrement</th>\n",
              "      <th>geores</th>\n",
              "      <th>filtre</th>\n",
              "      <th>ods_adresse</th>\n",
              "      <th>ods_type_activite</th>\n",
              "      <th>latitude</th>\n",
              "      <th>longitude</th>\n",
              "    </tr>\n",
              "  </thead>\n",
              "  <tbody>\n",
              "    <tr>\n",
              "      <th>2287</th>\n",
              "      <td>L'APEROTHERAPEUTE (L'APEROTHERAPEUTE)</td>\n",
              "      <td>84961868100019</td>\n",
              "      <td>14830.0</td>\n",
              "      <td>LANGRUNE SUR MER</td>\n",
              "      <td>15436427</td>\n",
              "      <td>2020-01-15T01:00:00+01:00</td>\n",
              "      <td>_</td>\n",
              "      <td>Satisfaisant</td>\n",
              "      <td>NaN</td>\n",
              "      <td>49.325161,-0.369683</td>\n",
              "      <td>NaN</td>\n",
              "      <td>52 RUE DU GENERAL LECLERC</td>\n",
              "      <td>Autres</td>\n",
              "      <td>49.325161</td>\n",
              "      <td>-0.369683</td>\n",
              "    </tr>\n",
              "  </tbody>\n",
              "</table>\n",
              "</div>"
            ],
            "text/plain": [
              "                  APP_Libelle_etablissement  ... longitude\n",
              "2287  L'APEROTHERAPEUTE (L'APEROTHERAPEUTE)  ... -0.369683\n",
              "\n",
              "[1 rows x 15 columns]"
            ]
          },
          "metadata": {
            "tags": []
          },
          "execution_count": 11
        }
      ]
    },
    {
      "cell_type": "code",
      "metadata": {
        "id": "moo-9UM3Ssja",
        "colab_type": "code",
        "outputId": "0216769b-f95e-42ec-cb6e-dd16b4988e67",
        "colab": {
          "base_uri": "https://localhost:8080/",
          "height": 227
        }
      },
      "source": [
        "# !pip install geopandas\n",
        "import geopandas\n",
        "world = geopandas.read_file(geopandas.datasets.get_path('naturalearth_lowres'))\n",
        "base = world.plot(color='white', edgecolor='black')\n",
        "gdf = geopandas.GeoDataFrame(df, geometry=geopandas.points_from_xy(df['longitude'], df['latitude']))\n",
        "gdf.plot(ax=base)"
      ],
      "execution_count": 12,
      "outputs": [
        {
          "output_type": "execute_result",
          "data": {
            "text/plain": [
              "<matplotlib.axes._subplots.AxesSubplot at 0x7f73656385c0>"
            ]
          },
          "metadata": {
            "tags": []
          },
          "execution_count": 12
        },
        {
          "output_type": "display_data",
          "data": {
            "image/png": "[encoded data removed]",
            "text/plain": [
              "<Figure size 432x288 with 1 Axes>"
            ]
          },
          "metadata": {
            "tags": [],
            "needs_background": "light"
          }
        }
      ]
    },
    {
      "cell_type": "markdown",
      "metadata": {
        "id": "k6M_Zz3E_iUJ",
        "colab_type": "text"
      },
      "source": [
        "Exploration de l'étrange colonne `Agrement`"
      ]
    },
    {
      "cell_type": "code",
      "metadata": {
        "id": "ttAMen-tS5LU",
        "colab_type": "code",
        "outputId": "d25778a8-477d-4abd-a1b9-4fc45e92049c",
        "colab": {
          "base_uri": "https://localhost:8080/",
          "height": 35
        }
      },
      "source": [
        "df['Agrement'].count() / len(df['Agrement'])"
      ],
      "execution_count": 13,
      "outputs": [
        {
          "output_type": "execute_result",
          "data": {
            "text/plain": [
              "0.2351037945850805"
            ]
          },
          "metadata": {
            "tags": []
          },
          "execution_count": 13
        }
      ]
    },
    {
      "cell_type": "markdown",
      "metadata": {
        "id": "OfWrQ3aILl8U",
        "colab_type": "text"
      },
      "source": [
        "## 2. Feature engineering\n",
        "\n",
        "Le feature engineerng consiste choisir quelles features conserver, en ajouter de nouvelles, et les transformer sous un format adapté pour l'entraînement des modèles. Contrairement à ce qu'on peut penser, **c'est la phase la plus complexe et la plus longue.**\n",
        "\n",
        "A garder en tête : les algorithmes d'apprentissage, supervisés ou non, **ne savent travailler qu'avec des données numériques.**"
      ]
    },
    {
      "cell_type": "markdown",
      "metadata": {
        "id": "Scd2eCCcLr8a",
        "colab_type": "text"
      },
      "source": [
        "#### Simplifions notre valeur cible sous un format numérique"
      ]
    },
    {
      "cell_type": "code",
      "metadata": {
        "id": "2qMKIBi-Tu70",
        "colab_type": "code",
        "outputId": "7e9d03e9-6795-4f8f-ed95-cd0feb393754",
        "colab": {
          "base_uri": "https://localhost:8080/",
          "height": 71
        }
      },
      "source": [
        "simplification = {'Très satisfaisant': 1,\n",
        "                  'Satisfaisant': 1,\n",
        "                  'A améliorer': 0,\n",
        "                  'A corriger de manière urgente': 0}\n",
        "df['Synthese_eval_sanit'] = df['Synthese_eval_sanit'].map(simplification)\n",
        "df['Synthese_eval_sanit'].value_counts()"
      ],
      "execution_count": 14,
      "outputs": [
        {
          "output_type": "execute_result",
          "data": {
            "text/plain": [
              "1    35854\n",
              "0     2780\n",
              "Name: Synthese_eval_sanit, dtype: int64"
            ]
          },
          "metadata": {
            "tags": []
          },
          "execution_count": 14
        }
      ]
    },
    {
      "cell_type": "markdown",
      "metadata": {
        "id": "MuKiNXzwvuXt",
        "colab_type": "text"
      },
      "source": [
        "### Créer de nouvelles features"
      ]
    },
    {
      "cell_type": "markdown",
      "metadata": {
        "id": "Mc9Zz8dzRw_C",
        "colab_type": "text"
      },
      "source": [
        "Utilisons l'agrément comme un marqueur de qualité"
      ]
    },
    {
      "cell_type": "code",
      "metadata": {
        "id": "kU4t8M9oR6eo",
        "colab_type": "code",
        "outputId": "e8d10992-f588-4081-8a9f-c12acd7c56bf",
        "colab": {
          "base_uri": "https://localhost:8080/",
          "height": 53
        }
      },
      "source": [
        "df['has_agrement'] = pd.notnull(df['Agrement']).astype(int)\n",
        "df['has_agrement'].sample(1)"
      ],
      "execution_count": 15,
      "outputs": [
        {
          "output_type": "execute_result",
          "data": {
            "text/plain": [
              "4129    0\n",
              "Name: has_agrement, dtype: int64"
            ]
          },
          "metadata": {
            "tags": []
          },
          "execution_count": 15
        }
      ]
    },
    {
      "cell_type": "markdown",
      "metadata": {
        "id": "g2M-ur3WNKg_",
        "colab_type": "text"
      },
      "source": [
        "Ne serait-il pas possible de prendre en compte les contrôles passés d'un restaurant ?"
      ]
    },
    {
      "cell_type": "code",
      "metadata": {
        "id": "q9UQObozQI8l",
        "colab_type": "code",
        "outputId": "dc9240d2-cd5d-4ab8-ee94-08257364c94f",
        "colab": {
          "base_uri": "https://localhost:8080/",
          "height": 283
        }
      },
      "source": [
        "df['SIRET'].value_counts().hist(bins=100)"
      ],
      "execution_count": 16,
      "outputs": [
        {
          "output_type": "execute_result",
          "data": {
            "text/plain": [
              "<matplotlib.axes._subplots.AxesSubplot at 0x7f735abddb00>"
            ]
          },
          "metadata": {
            "tags": []
          },
          "execution_count": 16
        },
        {
          "output_type": "display_data",
          "data": {
            "image/png": "[encoded data removed]",
            "text/plain": [
              "<Figure size 432x288 with 1 Axes>"
            ]
          },
          "metadata": {
            "tags": [],
            "needs_background": "light"
          }
        }
      ]
    },
    {
      "cell_type": "code",
      "metadata": {
        "id": "q7N99jcZPmRV",
        "colab_type": "code",
        "colab": {}
      },
      "source": [
        "df['count_controls_siret'] = df.groupby('SIRET')['Synthese_eval_sanit'].transform(lambda x: x.count())"
      ],
      "execution_count": 0,
      "outputs": []
    },
    {
      "cell_type": "markdown",
      "metadata": {
        "id": "FHF4xHVkbt3D",
        "colab_type": "text"
      },
      "source": [
        "On peut aussi utiliser de l'information géographique, mais le niveau du code postal est trop précis.\n",
        "\n",
        "Prenons plutôt les codes des départements."
      ]
    },
    {
      "cell_type": "code",
      "metadata": {
        "id": "XqLLRm-tbyfk",
        "colab_type": "code",
        "outputId": "da700275-e518-4a56-a6dd-a259597ba296",
        "colab": {
          "base_uri": "https://localhost:8080/",
          "height": 35
        }
      },
      "source": [
        "df['Code_postal'].nunique()"
      ],
      "execution_count": 18,
      "outputs": [
        {
          "output_type": "execute_result",
          "data": {
            "text/plain": [
              "5239"
            ]
          },
          "metadata": {
            "tags": []
          },
          "execution_count": 18
        }
      ]
    },
    {
      "cell_type": "code",
      "metadata": {
        "id": "UToya6Dmb2OK",
        "colab_type": "code",
        "outputId": "e9d516ce-9a7f-44bf-ecf4-b7f85c5e4fe3",
        "colab": {
          "base_uri": "https://localhost:8080/",
          "height": 35
        }
      },
      "source": [
        "sum(df['Code_postal'].isnull())"
      ],
      "execution_count": 19,
      "outputs": [
        {
          "output_type": "execute_result",
          "data": {
            "text/plain": [
              "23"
            ]
          },
          "metadata": {
            "tags": []
          },
          "execution_count": 19
        }
      ]
    },
    {
      "cell_type": "code",
      "metadata": {
        "id": "3IHoRLAecp6F",
        "colab_type": "code",
        "outputId": "318cf896-c79a-4462-ab57-17786a4467ef",
        "colab": {
          "base_uri": "https://localhost:8080/",
          "height": 53
        }
      },
      "source": [
        "df = df[df['Code_postal'].notnull()]\n",
        "df['dept'] = np.floor(df['Code_postal'] / 1000)\n",
        "df['dept'].sample(1)"
      ],
      "execution_count": 20,
      "outputs": [
        {
          "output_type": "execute_result",
          "data": {
            "text/plain": [
              "31809    76.0\n",
              "Name: dept, dtype: float64"
            ]
          },
          "metadata": {
            "tags": []
          },
          "execution_count": 20
        }
      ]
    },
    {
      "cell_type": "markdown",
      "metadata": {
        "id": "z6C_eRyhXLUp",
        "colab_type": "text"
      },
      "source": [
        "On dispose de la date d'inspection : on peut donc en tirer de nouvelles features."
      ]
    },
    {
      "cell_type": "code",
      "metadata": {
        "id": "N6yGek9EOA4U",
        "colab_type": "code",
        "outputId": "dbb8263e-64c2-49d2-b5b8-ffa5778223e5",
        "colab": {
          "base_uri": "https://localhost:8080/",
          "height": 53
        }
      },
      "source": [
        "df['Date_inspection'].sample(1)"
      ],
      "execution_count": 21,
      "outputs": [
        {
          "output_type": "execute_result",
          "data": {
            "text/plain": [
              "9137    2020-03-10T01:00:00+01:00\n",
              "Name: Date_inspection, dtype: object"
            ]
          },
          "metadata": {
            "tags": []
          },
          "execution_count": 21
        }
      ]
    },
    {
      "cell_type": "code",
      "metadata": {
        "id": "OZANGyS9OEqe",
        "colab_type": "code",
        "outputId": "0036b214-804e-48ec-ca25-602e66bbfd37",
        "colab": {
          "base_uri": "https://localhost:8080/",
          "height": 53
        }
      },
      "source": [
        "df['Date_inspection'] = pd.to_datetime(df['Date_inspection'],\n",
        "                                       format='%Y-%m-%dT%H:%M:%S', utc=True)\n",
        "df['Date_inspection'].sample(1)"
      ],
      "execution_count": 22,
      "outputs": [
        {
          "output_type": "execute_result",
          "data": {
            "text/plain": [
              "23963   2020-03-03 00:00:00+00:00\n",
              "Name: Date_inspection, dtype: datetime64[ns, UTC]"
            ]
          },
          "metadata": {
            "tags": []
          },
          "execution_count": 22
        }
      ]
    },
    {
      "cell_type": "code",
      "metadata": {
        "id": "YkR83PK6V_Nr",
        "colab_type": "code",
        "colab": {}
      },
      "source": [
        "df['year'] = df['Date_inspection'].dt.year\n",
        "df['month'] = df['Date_inspection'].dt.month\n",
        "df['weekday'] = df['Date_inspection'].dt.weekday"
      ],
      "execution_count": 0,
      "outputs": []
    },
    {
      "cell_type": "markdown",
      "metadata": {
        "id": "Rrj06y-LN_WC",
        "colab_type": "text"
      },
      "source": [
        "Peut-on utiliser des informations transverses à plusieurs zones ou groupes ?"
      ]
    },
    {
      "cell_type": "markdown",
      "metadata": {
        "id": "KC--9xTBnB0H",
        "colab_type": "text"
      },
      "source": [
        "- Par département"
      ]
    },
    {
      "cell_type": "code",
      "metadata": {
        "id": "7K3Nby4KOAW0",
        "colab_type": "code",
        "colab": {}
      },
      "source": [
        "df['count_controls_dept'] = df.groupby('dept')['Synthese_eval_sanit'].transform(lambda x: x.count())\n",
        "df['score_controls_dept'] = df.groupby('dept')['Synthese_eval_sanit'].transform(lambda x: x.mean())"
      ],
      "execution_count": 0,
      "outputs": []
    },
    {
      "cell_type": "markdown",
      "metadata": {
        "id": "GleWXRocnEoq",
        "colab_type": "text"
      },
      "source": [
        "- Par secteur d'activité (Restaurant, Boucherie-Charcuterie, Boulangerie-Pâtisserie, etc.)"
      ]
    },
    {
      "cell_type": "code",
      "metadata": {
        "id": "mYRirHsyR8w4",
        "colab_type": "code",
        "colab": {}
      },
      "source": [
        "df['filtre'] = df['filtre'].fillna('NA')\n",
        "df['count_controls_filtre'] = df.groupby('filtre')['Synthese_eval_sanit'].transform(lambda x: x.count())\n",
        "df['score_controls_filtre'] = df.groupby('filtre')['Synthese_eval_sanit'].transform(lambda x: x.mean())"
      ],
      "execution_count": 0,
      "outputs": []
    },
    {
      "cell_type": "markdown",
      "metadata": {
        "id": "nMaCyqvFni92",
        "colab_type": "text"
      },
      "source": [
        "- Par type de produits vendus (Viandes et produits carnés, \n",
        "Produits de la mer et d'eau douce, Lait et produits laitiers, etc.)"
      ]
    },
    {
      "cell_type": "code",
      "metadata": {
        "id": "M0o5aQz2S5YA",
        "colab_type": "code",
        "colab": {}
      },
      "source": [
        "df['ods_type_activite'] = df['ods_type_activite'].fillna('NA')\n",
        "df['count_controls_activite'] = df.groupby('ods_type_activite')['Synthese_eval_sanit'].transform(\n",
        "                                                                                   lambda x: x.count())\n",
        "df['score_controls_activite'] = df.groupby('ods_type_activite')['Synthese_eval_sanit'].transform(\n",
        "                                                                                   lambda x: x.mean())"
      ],
      "execution_count": 0,
      "outputs": []
    },
    {
      "cell_type": "markdown",
      "metadata": {
        "id": "wCAt_6P3n0mi",
        "colab_type": "text"
      },
      "source": [
        "- Par jour de la semaine !"
      ]
    },
    {
      "cell_type": "code",
      "metadata": {
        "id": "zujLmey-m1Na",
        "colab_type": "code",
        "colab": {}
      },
      "source": [
        "df['count_controls_wday'] = df.groupby('weekday')['Synthese_eval_sanit'].transform(lambda x: x.count())\n",
        "df['score_controls_wday'] = df.groupby('weekday')['Synthese_eval_sanit'].transform(lambda x: x.mean())"
      ],
      "execution_count": 0,
      "outputs": []
    },
    {
      "cell_type": "markdown",
      "metadata": {
        "id": "ezhu1oDSSOBe",
        "colab_type": "text"
      },
      "source": [
        "A quoi ressemblent nos ajouts ?"
      ]
    },
    {
      "cell_type": "code",
      "metadata": {
        "id": "FUkTnmb3SKhu",
        "colab_type": "code",
        "outputId": "d2a5afaf-f52e-4e21-c8c3-a7636b63c199",
        "colab": {
          "base_uri": "https://localhost:8080/",
          "height": 135
        }
      },
      "source": [
        "df.sample(1)"
      ],
      "execution_count": 28,
      "outputs": [
        {
          "output_type": "execute_result",
          "data": {
            "text/html": [
              "<div>\n",
              "<style scoped>\n",
              "    .dataframe tbody tr th:only-of-type {\n",
              "        vertical-align: middle;\n",
              "    }\n",
              "\n",
              "    .dataframe tbody tr th {\n",
              "        vertical-align: top;\n",
              "    }\n",
              "\n",
              "    .dataframe thead th {\n",
              "        text-align: right;\n",
              "    }\n",
              "</style>\n",
              "<table border=\"1\" class=\"dataframe\">\n",
              "  <thead>\n",
              "    <tr style=\"text-align: right;\">\n",
              "      <th></th>\n",
              "      <th>APP_Libelle_etablissement</th>\n",
              "      <th>SIRET</th>\n",
              "      <th>Code_postal</th>\n",
              "      <th>Libelle_commune</th>\n",
              "      <th>Numero_inspection</th>\n",
              "      <th>Date_inspection</th>\n",
              "      <th>APP_Libelle_activite_etablissement</th>\n",
              "      <th>Synthese_eval_sanit</th>\n",
              "      <th>Agrement</th>\n",
              "      <th>geores</th>\n",
              "      <th>filtre</th>\n",
              "      <th>ods_adresse</th>\n",
              "      <th>ods_type_activite</th>\n",
              "      <th>latitude</th>\n",
              "      <th>longitude</th>\n",
              "      <th>geometry</th>\n",
              "      <th>has_agrement</th>\n",
              "      <th>count_controls_siret</th>\n",
              "      <th>dept</th>\n",
              "      <th>year</th>\n",
              "      <th>month</th>\n",
              "      <th>weekday</th>\n",
              "      <th>count_controls_dept</th>\n",
              "      <th>score_controls_dept</th>\n",
              "      <th>count_controls_filtre</th>\n",
              "      <th>score_controls_filtre</th>\n",
              "      <th>count_controls_activite</th>\n",
              "      <th>score_controls_activite</th>\n",
              "      <th>count_controls_wday</th>\n",
              "      <th>score_controls_wday</th>\n",
              "    </tr>\n",
              "  </thead>\n",
              "  <tbody>\n",
              "    <tr>\n",
              "      <th>35632</th>\n",
              "      <td>COMMUNAUTE DE COMMUNES DU CELLOIS, COE</td>\n",
              "      <td>20006975500011</td>\n",
              "      <td>79500.0</td>\n",
              "      <td>Marcillé</td>\n",
              "      <td>19-060142-1</td>\n",
              "      <td>2019-07-02 00:00:00+00:00</td>\n",
              "      <td>Restauration collective</td>\n",
              "      <td>1</td>\n",
              "      <td>NaN</td>\n",
              "      <td>46.204047,-0.114799</td>\n",
              "      <td>Restauration collective</td>\n",
              "      <td>21 route des Ecoles</td>\n",
              "      <td>Autres</td>\n",
              "      <td>46.204047</td>\n",
              "      <td>-0.114799</td>\n",
              "      <td>POINT (-0.11480 46.20405)</td>\n",
              "      <td>0</td>\n",
              "      <td>7</td>\n",
              "      <td>79.0</td>\n",
              "      <td>2019</td>\n",
              "      <td>7</td>\n",
              "      <td>1</td>\n",
              "      <td>220</td>\n",
              "      <td>0.972727</td>\n",
              "      <td>6444</td>\n",
              "      <td>0.950031</td>\n",
              "      <td>29728</td>\n",
              "      <td>0.921051</td>\n",
              "      <td>10146</td>\n",
              "      <td>0.927952</td>\n",
              "    </tr>\n",
              "  </tbody>\n",
              "</table>\n",
              "</div>"
            ],
            "text/plain": [
              "                    APP_Libelle_etablissement  ... score_controls_wday\n",
              "35632  COMMUNAUTE DE COMMUNES DU CELLOIS, COE  ...            0.927952\n",
              "\n",
              "[1 rows x 30 columns]"
            ]
          },
          "metadata": {
            "tags": []
          },
          "execution_count": 28
        }
      ]
    },
    {
      "cell_type": "markdown",
      "metadata": {
        "id": "rJ7xYyH0zCi4",
        "colab_type": "text"
      },
      "source": [
        "### Supprimer des features inutiles ou inutilisables"
      ]
    },
    {
      "cell_type": "code",
      "metadata": {
        "id": "_1ytqDZpYX4x",
        "colab_type": "code",
        "colab": {}
      },
      "source": [
        "drop_cols = ['APP_Libelle_etablissement', 'Code_postal', 'SIRET', 'Libelle_commune',\n",
        "             'APP_Libelle_activite_etablissement', 'Numero_inspection', 'Date_inspection',\n",
        "             'Agrement', 'geores', 'ods_adresse', 'geometry']\n",
        "df = df.drop(drop_cols, axis=1)"
      ],
      "execution_count": 0,
      "outputs": []
    },
    {
      "cell_type": "markdown",
      "metadata": {
        "id": "UN3RDHWVXrYS",
        "colab_type": "text"
      },
      "source": [
        "### Encoder les colonnes catégorielles\n",
        "\n",
        "Il est nécessaire de transformer les catégories en nombres. Mais comment faire ?\n",
        "\n",
        "| Etablissement | Activité           |\n",
        "| :------ | :-------------     | \n",
        "| A       | Restaurant         |\n",
        "| B       | Producteur Fermier |\n",
        "| C       | Boucherie          |\n",
        "| D       | Restaurant         |\n",
        "\n",
        "devient :\n",
        "\n",
        "| Etablissement | Activité_Restaurant | Activité_ProducteurFermier | Activité_Boucherie |\n",
        "| :------ | :-: | :-: | :-: | \n",
        "| A       | 1 | 0 | 0 |\n",
        "| B       | 0 | 1 | 0 |\n",
        "| C       | 0 | 0 | 1 |\n",
        "| D       | 1 | 0 | 0 |\n"
      ]
    },
    {
      "cell_type": "markdown",
      "metadata": {
        "id": "jAh1VxOSzokl",
        "colab_type": "text"
      },
      "source": [
        "- **Etape 1 :** on transforme les features à encoder sous format de catégories"
      ]
    },
    {
      "cell_type": "code",
      "metadata": {
        "id": "yGJXptV4aK8m",
        "colab_type": "code",
        "colab": {}
      },
      "source": [
        "# for c in categorical_features:\n",
        "# df[c] = df[c].astype('category').cat.codes\n",
        "# print('Nombre de catégories de la colonne \"{}\" : {}'.format(c, df[c].nunique()))\n",
        "# df.sample(1)"
      ],
      "execution_count": 0,
      "outputs": []
    },
    {
      "cell_type": "markdown",
      "metadata": {
        "id": "0kdfd3H_zyZS",
        "colab_type": "text"
      },
      "source": [
        "- **Etape 2 :** on créer un encodeur, qui va directement transformer toutes les colonnes catégorielles"
      ]
    },
    {
      "cell_type": "code",
      "metadata": {
        "id": "Hbkn7jQwXrfl",
        "colab_type": "code",
        "colab": {}
      },
      "source": [
        "from sklearn.preprocessing import OneHotEncoder\n",
        "categorical_features = ['dept', 'filtre', 'ods_type_activite', 'month', 'weekday']\n",
        "encoder = OneHotEncoder(drop='first', sparse=False).fit(df[categorical_features])"
      ],
      "execution_count": 0,
      "outputs": []
    },
    {
      "cell_type": "markdown",
      "metadata": {
        "id": "9rwtOc5xz8aV",
        "colab_type": "text"
      },
      "source": [
        "- **Etape 3 :** on fusionne les encodages avec le dataframe originel"
      ]
    },
    {
      "cell_type": "code",
      "metadata": {
        "id": "7U86CQFgLMxF",
        "colab_type": "code",
        "outputId": "6b974740-1164-45a4-fe70-1a27cf6af84a",
        "colab": {
          "base_uri": "https://localhost:8080/",
          "height": 35
        }
      },
      "source": [
        "df = pd.concat([df,\n",
        "                pd.DataFrame(data=encoder.transform(df[categorical_features]), \n",
        "                             columns=encoder.get_feature_names(categorical_features), \n",
        "                             index=df.index)], axis=1)\n",
        "df.shape"
      ],
      "execution_count": 32,
      "outputs": [
        {
          "output_type": "execute_result",
          "data": {
            "text/plain": [
              "(38611, 156)"
            ]
          },
          "metadata": {
            "tags": []
          },
          "execution_count": 32
        }
      ]
    },
    {
      "cell_type": "code",
      "metadata": {
        "id": "SUunBEZ-8QX3",
        "colab_type": "code",
        "outputId": "97af1250-9121-48b2-c521-a722d9323cae",
        "colab": {
          "base_uri": "https://localhost:8080/",
          "height": 165
        }
      },
      "source": [
        "df.sample(1)"
      ],
      "execution_count": 33,
      "outputs": [
        {
          "output_type": "execute_result",
          "data": {
            "text/html": [
              "<div>\n",
              "<style scoped>\n",
              "    .dataframe tbody tr th:only-of-type {\n",
              "        vertical-align: middle;\n",
              "    }\n",
              "\n",
              "    .dataframe tbody tr th {\n",
              "        vertical-align: top;\n",
              "    }\n",
              "\n",
              "    .dataframe thead th {\n",
              "        text-align: right;\n",
              "    }\n",
              "</style>\n",
              "<table border=\"1\" class=\"dataframe\">\n",
              "  <thead>\n",
              "    <tr style=\"text-align: right;\">\n",
              "      <th></th>\n",
              "      <th>Synthese_eval_sanit</th>\n",
              "      <th>filtre</th>\n",
              "      <th>ods_type_activite</th>\n",
              "      <th>latitude</th>\n",
              "      <th>longitude</th>\n",
              "      <th>has_agrement</th>\n",
              "      <th>count_controls_siret</th>\n",
              "      <th>dept</th>\n",
              "      <th>year</th>\n",
              "      <th>month</th>\n",
              "      <th>weekday</th>\n",
              "      <th>count_controls_dept</th>\n",
              "      <th>score_controls_dept</th>\n",
              "      <th>count_controls_filtre</th>\n",
              "      <th>score_controls_filtre</th>\n",
              "      <th>count_controls_activite</th>\n",
              "      <th>score_controls_activite</th>\n",
              "      <th>count_controls_wday</th>\n",
              "      <th>score_controls_wday</th>\n",
              "      <th>dept_2.0</th>\n",
              "      <th>dept_3.0</th>\n",
              "      <th>dept_4.0</th>\n",
              "      <th>dept_5.0</th>\n",
              "      <th>dept_6.0</th>\n",
              "      <th>dept_7.0</th>\n",
              "      <th>dept_8.0</th>\n",
              "      <th>dept_9.0</th>\n",
              "      <th>dept_10.0</th>\n",
              "      <th>dept_11.0</th>\n",
              "      <th>dept_12.0</th>\n",
              "      <th>dept_13.0</th>\n",
              "      <th>dept_14.0</th>\n",
              "      <th>dept_15.0</th>\n",
              "      <th>dept_16.0</th>\n",
              "      <th>dept_17.0</th>\n",
              "      <th>dept_18.0</th>\n",
              "      <th>dept_19.0</th>\n",
              "      <th>dept_20.0</th>\n",
              "      <th>dept_21.0</th>\n",
              "      <th>dept_22.0</th>\n",
              "      <th>...</th>\n",
              "      <th>filtre_Boulangerie-Pâtisserie</th>\n",
              "      <th>filtre_Chocolatier</th>\n",
              "      <th>filtre_Fromagerie</th>\n",
              "      <th>filtre_Glacier</th>\n",
              "      <th>filtre_Libre service</th>\n",
              "      <th>filtre_NA</th>\n",
              "      <th>filtre_Poissonnerie</th>\n",
              "      <th>filtre_Primeur</th>\n",
              "      <th>filtre_Rayon boucherie-charcuterie</th>\n",
              "      <th>filtre_Rayon fromagerie</th>\n",
              "      <th>filtre_Rayon fruits &amp; légumes</th>\n",
              "      <th>filtre_Rayon pain/viennoiserie/pâtisserie</th>\n",
              "      <th>filtre_Rayon poissonnerie</th>\n",
              "      <th>filtre_Rayon traiteur</th>\n",
              "      <th>filtre_Restaurant</th>\n",
              "      <th>filtre_Restauration collective</th>\n",
              "      <th>filtre_Traiteur</th>\n",
              "      <th>ods_type_activite_Autres</th>\n",
              "      <th>ods_type_activite_Lait et produits laitiers</th>\n",
              "      <th>ods_type_activite_Produits de la mer et d'eau douce</th>\n",
              "      <th>ods_type_activite_Transport et entreposage de denrées alimentaires</th>\n",
              "      <th>ods_type_activite_Viandes et produits carnés</th>\n",
              "      <th>ods_type_activite_Œufs et ovoproduits</th>\n",
              "      <th>month_2</th>\n",
              "      <th>month_3</th>\n",
              "      <th>month_4</th>\n",
              "      <th>month_5</th>\n",
              "      <th>month_6</th>\n",
              "      <th>month_7</th>\n",
              "      <th>month_8</th>\n",
              "      <th>month_9</th>\n",
              "      <th>month_10</th>\n",
              "      <th>month_11</th>\n",
              "      <th>month_12</th>\n",
              "      <th>weekday_1</th>\n",
              "      <th>weekday_2</th>\n",
              "      <th>weekday_3</th>\n",
              "      <th>weekday_4</th>\n",
              "      <th>weekday_5</th>\n",
              "      <th>weekday_6</th>\n",
              "    </tr>\n",
              "  </thead>\n",
              "  <tbody>\n",
              "    <tr>\n",
              "      <th>7695</th>\n",
              "      <td>1</td>\n",
              "      <td>Restaurant</td>\n",
              "      <td>Autres</td>\n",
              "      <td>48.890165</td>\n",
              "      <td>2.359238</td>\n",
              "      <td>0</td>\n",
              "      <td>1</td>\n",
              "      <td>75.0</td>\n",
              "      <td>2020</td>\n",
              "      <td>2</td>\n",
              "      <td>2</td>\n",
              "      <td>5951</td>\n",
              "      <td>0.963872</td>\n",
              "      <td>14794</td>\n",
              "      <td>0.918886</td>\n",
              "      <td>29728</td>\n",
              "      <td>0.921051</td>\n",
              "      <td>7861</td>\n",
              "      <td>0.92431</td>\n",
              "      <td>0.0</td>\n",
              "      <td>0.0</td>\n",
              "      <td>0.0</td>\n",
              "      <td>0.0</td>\n",
              "      <td>0.0</td>\n",
              "      <td>0.0</td>\n",
              "      <td>0.0</td>\n",
              "      <td>0.0</td>\n",
              "      <td>0.0</td>\n",
              "      <td>0.0</td>\n",
              "      <td>0.0</td>\n",
              "      <td>0.0</td>\n",
              "      <td>0.0</td>\n",
              "      <td>0.0</td>\n",
              "      <td>0.0</td>\n",
              "      <td>0.0</td>\n",
              "      <td>0.0</td>\n",
              "      <td>0.0</td>\n",
              "      <td>0.0</td>\n",
              "      <td>0.0</td>\n",
              "      <td>0.0</td>\n",
              "      <td>...</td>\n",
              "      <td>0.0</td>\n",
              "      <td>0.0</td>\n",
              "      <td>0.0</td>\n",
              "      <td>0.0</td>\n",
              "      <td>0.0</td>\n",
              "      <td>0.0</td>\n",
              "      <td>0.0</td>\n",
              "      <td>0.0</td>\n",
              "      <td>0.0</td>\n",
              "      <td>0.0</td>\n",
              "      <td>0.0</td>\n",
              "      <td>0.0</td>\n",
              "      <td>0.0</td>\n",
              "      <td>0.0</td>\n",
              "      <td>1.0</td>\n",
              "      <td>0.0</td>\n",
              "      <td>0.0</td>\n",
              "      <td>1.0</td>\n",
              "      <td>0.0</td>\n",
              "      <td>0.0</td>\n",
              "      <td>0.0</td>\n",
              "      <td>0.0</td>\n",
              "      <td>0.0</td>\n",
              "      <td>1.0</td>\n",
              "      <td>0.0</td>\n",
              "      <td>0.0</td>\n",
              "      <td>0.0</td>\n",
              "      <td>0.0</td>\n",
              "      <td>0.0</td>\n",
              "      <td>0.0</td>\n",
              "      <td>0.0</td>\n",
              "      <td>0.0</td>\n",
              "      <td>0.0</td>\n",
              "      <td>0.0</td>\n",
              "      <td>0.0</td>\n",
              "      <td>1.0</td>\n",
              "      <td>0.0</td>\n",
              "      <td>0.0</td>\n",
              "      <td>0.0</td>\n",
              "      <td>0.0</td>\n",
              "    </tr>\n",
              "  </tbody>\n",
              "</table>\n",
              "<p>1 rows × 156 columns</p>\n",
              "</div>"
            ],
            "text/plain": [
              "      Synthese_eval_sanit      filtre  ... weekday_5  weekday_6\n",
              "7695                    1  Restaurant  ...       0.0        0.0\n",
              "\n",
              "[1 rows x 156 columns]"
            ]
          },
          "metadata": {
            "tags": []
          },
          "execution_count": 33
        }
      ]
    },
    {
      "cell_type": "markdown",
      "metadata": {
        "id": "bUodOzkK7HfG",
        "colab_type": "text"
      },
      "source": [
        "## 3. Entraîner et comparer des modèles\n",
        "\n",
        "Une fois que nos données sont sélectionnées et mises en forme, la phase d'apprentissage consiste à choisir le modèle et à optimiser ses paramètres."
      ]
    },
    {
      "cell_type": "markdown",
      "metadata": {
        "id": "UfbDasJv-i9X",
        "colab_type": "text"
      },
      "source": [
        "### Un dernier nettoyage du jeu de données"
      ]
    },
    {
      "cell_type": "code",
      "metadata": {
        "id": "ndkyZ1po-nLS",
        "colab_type": "code",
        "outputId": "1a1f66ec-8aa7-4054-abb1-2bca87ce0fc5",
        "colab": {
          "base_uri": "https://localhost:8080/",
          "height": 35
        }
      },
      "source": [
        "df.shape"
      ],
      "execution_count": 34,
      "outputs": [
        {
          "output_type": "execute_result",
          "data": {
            "text/plain": [
              "(38611, 156)"
            ]
          },
          "metadata": {
            "tags": []
          },
          "execution_count": 34
        }
      ]
    },
    {
      "cell_type": "markdown",
      "metadata": {
        "id": "oVzLsieJ1L-q",
        "colab_type": "text"
      },
      "source": [
        "Suppression des lignes contenant des NaN"
      ]
    },
    {
      "cell_type": "code",
      "metadata": {
        "id": "-fRu1Hs8-nR4",
        "colab_type": "code",
        "outputId": "1d407346-f2b6-40f4-b61f-c8f8975593ca",
        "colab": {
          "base_uri": "https://localhost:8080/",
          "height": 35
        }
      },
      "source": [
        "df = df.dropna()\n",
        "df.shape"
      ],
      "execution_count": 35,
      "outputs": [
        {
          "output_type": "execute_result",
          "data": {
            "text/plain": [
              "(37448, 156)"
            ]
          },
          "metadata": {
            "tags": []
          },
          "execution_count": 35
        }
      ]
    },
    {
      "cell_type": "markdown",
      "metadata": {
        "id": "vjFWA6f51OoN",
        "colab_type": "text"
      },
      "source": [
        "Suppression des colonnes avec une seule valeur différente"
      ]
    },
    {
      "cell_type": "code",
      "metadata": {
        "id": "ayl0aL2SfO5m",
        "colab_type": "code",
        "outputId": "d792596a-8e12-424b-fd7a-096e01206931",
        "colab": {
          "base_uri": "https://localhost:8080/",
          "height": 35
        }
      },
      "source": [
        "for col in df.columns:\n",
        "    if len(df[col].unique()) == 1:\n",
        "        df.drop(col, inplace=True, axis=1)\n",
        "df.shape"
      ],
      "execution_count": 36,
      "outputs": [
        {
          "output_type": "execute_result",
          "data": {
            "text/plain": [
              "(37448, 155)"
            ]
          },
          "metadata": {
            "tags": []
          },
          "execution_count": 36
        }
      ]
    },
    {
      "cell_type": "markdown",
      "metadata": {
        "id": "OuY5OPS6726N",
        "colab_type": "text"
      },
      "source": [
        "### Séparation en jeux de données \"train\" et \"test\""
      ]
    },
    {
      "cell_type": "code",
      "metadata": {
        "id": "qbrde2DeN4Jz",
        "colab_type": "code",
        "colab": {}
      },
      "source": [
        "from sklearn.model_selection import train_test_split\n",
        "features = [col for col in df.columns if col not in categorical_features\n",
        "            and col != 'Synthese_eval_sanit']\n",
        "\n",
        "df_train, df_test = train_test_split(df, test_size=0.2)\n",
        "\n",
        "X_train = df_train[features]\n",
        "y_train = df_train['Synthese_eval_sanit']\n",
        "\n",
        "X_test = df_test[features]\n",
        "y_test = df_test['Synthese_eval_sanit']"
      ],
      "execution_count": 0,
      "outputs": []
    },
    {
      "cell_type": "markdown",
      "metadata": {
        "id": "GS04nFp09g1G",
        "colab_type": "text"
      },
      "source": [
        "### Echantillonner pour équilibrer les classes\n"
      ]
    },
    {
      "cell_type": "code",
      "metadata": {
        "id": "ioSkssE_8wNm",
        "colab_type": "code",
        "outputId": "df532418-3217-4a73-e2d6-edebbca92451",
        "colab": {
          "base_uri": "https://localhost:8080/",
          "height": 35
        }
      },
      "source": [
        "y_train.mean(), y_test.mean()"
      ],
      "execution_count": 38,
      "outputs": [
        {
          "output_type": "execute_result",
          "data": {
            "text/plain": [
              "(0.928867080579478, 0.92630173564753)"
            ]
          },
          "metadata": {
            "tags": []
          },
          "execution_count": 38
        }
      ]
    },
    {
      "cell_type": "markdown",
      "metadata": {
        "id": "P5hFY_SP1yHP",
        "colab_type": "text"
      },
      "source": [
        "Les deux catégories que nous cherchons à prédire ne sont pas équilibrées ! L'algorithme pourrait utiliser cette faille pour facilement obtenir de bons résultats."
      ]
    },
    {
      "cell_type": "code",
      "metadata": {
        "id": "tidHCIX9Czab",
        "colab_type": "code",
        "outputId": "75d80eda-3669-45ec-d462-e362333a2d62",
        "colab": {
          "base_uri": "https://localhost:8080/",
          "height": 198
        }
      },
      "source": [
        "from imblearn.under_sampling import RandomUnderSampler\n",
        "sampler = RandomUnderSampler()\n",
        "X_train, y_train = sampler.fit_resample(X_train, y_train)\n",
        "X_test, y_test = sampler.fit_resample(X_test, y_test)\n",
        "\n",
        "y_train.mean(), y_test.mean()"
      ],
      "execution_count": 39,
      "outputs": [
        {
          "output_type": "stream",
          "text": [
            "/usr/local/lib/python3.6/dist-packages/sklearn/externals/six.py:31: FutureWarning: The module is deprecated in version 0.21 and will be removed in version 0.23 since we've dropped support for Python 2.7. Please rely on the official version of six (https://pypi.org/project/six/).\n",
            "  \"(https://pypi.org/project/six/).\", FutureWarning)\n",
            "/usr/local/lib/python3.6/dist-packages/sklearn/utils/deprecation.py:144: FutureWarning: The sklearn.neighbors.base module is  deprecated in version 0.22 and will be removed in version 0.24. The corresponding classes / functions should instead be imported from sklearn.neighbors. Anything that cannot be imported from sklearn.neighbors is now part of the private API.\n",
            "  warnings.warn(message, FutureWarning)\n",
            "/usr/local/lib/python3.6/dist-packages/sklearn/utils/deprecation.py:87: FutureWarning: Function safe_indexing is deprecated; safe_indexing is deprecated in version 0.22 and will be removed in version 0.24.\n",
            "  warnings.warn(msg, category=FutureWarning)\n",
            "/usr/local/lib/python3.6/dist-packages/sklearn/utils/deprecation.py:87: FutureWarning: Function safe_indexing is deprecated; safe_indexing is deprecated in version 0.22 and will be removed in version 0.24.\n",
            "  warnings.warn(msg, category=FutureWarning)\n"
          ],
          "name": "stderr"
        },
        {
          "output_type": "execute_result",
          "data": {
            "text/plain": [
              "(0.5, 0.5)"
            ]
          },
          "metadata": {
            "tags": []
          },
          "execution_count": 39
        }
      ]
    },
    {
      "cell_type": "markdown",
      "metadata": {
        "id": "WxNazQyp9yBB",
        "colab_type": "text"
      },
      "source": [
        "### Un modèle simple : la méthode des k plus proches voisins"
      ]
    },
    {
      "cell_type": "code",
      "metadata": {
        "id": "W3XKVJ4iDs5V",
        "colab_type": "code",
        "outputId": "5100240e-0f10-477f-a28c-f60e1e01c495",
        "colab": {
          "base_uri": "https://localhost:8080/",
          "height": 35
        }
      },
      "source": [
        "from sklearn.neighbors import KNeighborsClassifier\n",
        "\n",
        "knn_model = KNeighborsClassifier(n_neighbors=5)\n",
        "knn_model.fit(X_train, y_train)\n",
        "knn_model.score(X_test, y_test)"
      ],
      "execution_count": 40,
      "outputs": [
        {
          "output_type": "execute_result",
          "data": {
            "text/plain": [
              "0.5996376811594203"
            ]
          },
          "metadata": {
            "tags": []
          },
          "execution_count": 40
        }
      ]
    },
    {
      "cell_type": "markdown",
      "metadata": {
        "id": "SCkk2cZcAe8l",
        "colab_type": "text"
      },
      "source": [
        "### Un modèle plus avancé : l'arbre de décision"
      ]
    },
    {
      "cell_type": "code",
      "metadata": {
        "id": "SPev_pC69xSa",
        "colab_type": "code",
        "outputId": "37e3e017-2eac-404f-fbd9-0eb776680a66",
        "colab": {
          "base_uri": "https://localhost:8080/",
          "height": 35
        }
      },
      "source": [
        "from sklearn.tree import DecisionTreeClassifier\n",
        "\n",
        "dt_model = DecisionTreeClassifier(max_depth=10)\n",
        "dt_model.fit(X_train, y_train)\n",
        "dt_model.score(X_test, y_test)"
      ],
      "execution_count": 41,
      "outputs": [
        {
          "output_type": "execute_result",
          "data": {
            "text/plain": [
              "0.6286231884057971"
            ]
          },
          "metadata": {
            "tags": []
          },
          "execution_count": 41
        }
      ]
    },
    {
      "cell_type": "markdown",
      "metadata": {
        "id": "jrVn9keQDpOU",
        "colab_type": "text"
      },
      "source": [
        "L'arbre de décision présente l'intérêt d'être interprétable :"
      ]
    },
    {
      "cell_type": "code",
      "metadata": {
        "id": "N9ZvN2lZ9rwN",
        "colab_type": "code",
        "outputId": "8e30b131-3d29-40ff-dc81-28d23027332f",
        "colab": {
          "base_uri": "https://localhost:8080/",
          "height": 588
        }
      },
      "source": [
        "from io import StringIO  \n",
        "from IPython.display import Image  \n",
        "from sklearn.tree import export_graphviz\n",
        "import pydotplus\n",
        "\n",
        "def plot_dt(dt, max_depth):\n",
        "    dot_data = StringIO()\n",
        "    export_graphviz(dt, out_file=dot_data, filled=True, rounded=True, feature_names=features, max_depth=max_depth)\n",
        "    graph = pydotplus.graph_from_dot_data(dot_data.getvalue())  \n",
        "    return Image(graph.create_png())\n",
        "    \n",
        "plot_dt(dt_model, max_depth=3)"
      ],
      "execution_count": 42,
      "outputs": [
        {
          "output_type": "execute_result",
          "data": {
            "image/png": "[encoded data removed]",
            "text/plain": [
              "<IPython.core.display.Image object>"
            ]
          },
          "metadata": {
            "tags": []
          },
          "execution_count": 42
        }
      ]
    },
    {
      "cell_type": "markdown",
      "metadata": {
        "id": "WBD_FtXdFYOu",
        "colab_type": "text"
      },
      "source": [
        "### S'appuyer sur un ensemble de modèles\n",
        "\n",
        "Et si on utilisait plutôt une forêt pleine d'arbres ?"
      ]
    },
    {
      "cell_type": "code",
      "metadata": {
        "id": "gQt_BpkH9pNu",
        "colab_type": "code",
        "outputId": "4da8532d-cbc9-4514-92cc-5f72fa789628",
        "colab": {
          "base_uri": "https://localhost:8080/",
          "height": 35
        }
      },
      "source": [
        "from sklearn.ensemble import RandomForestClassifier\n",
        "\n",
        "rf_model = RandomForestClassifier(n_estimators=100, max_depth=8)\n",
        "rf_model.fit(X_train, y_train)\n",
        "rf_model.score(X_test, y_test)"
      ],
      "execution_count": 43,
      "outputs": [
        {
          "output_type": "execute_result",
          "data": {
            "text/plain": [
              "0.6784420289855072"
            ]
          },
          "metadata": {
            "tags": []
          },
          "execution_count": 43
        }
      ]
    },
    {
      "cell_type": "markdown",
      "metadata": {
        "id": "l3hW3kZMGNrT",
        "colab_type": "text"
      },
      "source": [
        "### La notion d'hyperparamètres"
      ]
    },
    {
      "cell_type": "markdown",
      "metadata": {
        "id": "nCtidWZjGWrH",
        "colab_type": "text"
      },
      "source": [
        "Le concept d'**hyperparamètres** : des paramètres que le modèle ne peut pas apprendre. Par exemple :\n",
        "- la profondeur de l'arbre `max_depth`\n",
        "- le nombre d'arbres dans la forêt `n_estimators`\n",
        "- le nombre de voisins à considérer `n_neighbors`\n",
        "\n",
        "Comment les optimiser ? En testant !"
      ]
    },
    {
      "cell_type": "code",
      "metadata": {
        "id": "fu7kqUKVGcnU",
        "colab_type": "code",
        "outputId": "87e3e2ea-21c5-4b2e-f8bb-5aec4caeae47",
        "colab": {
          "base_uri": "https://localhost:8080/",
          "height": 281
        }
      },
      "source": [
        "scores = []\n",
        "steps = range(1, 51, 2)\n",
        "for n in steps:\n",
        "  repetitions = range(10)\n",
        "  step_score = []\n",
        "  for i in repetitions:\n",
        "    model = DecisionTreeClassifier(max_depth=n)\n",
        "    model.fit(X_train, y_train)\n",
        "    step_score.append(model.score(X_test, y_test))\n",
        "  scores.append(np.mean(step_score))\n",
        "plt.plot(steps, scores)\n",
        "plt.title(\"Justesse en fonction de la profondeur de l'arbre\")\n",
        "plt.show()"
      ],
      "execution_count": 44,
      "outputs": [
        {
          "output_type": "display_data",
          "data": {
            "image/png": "[encoded data removed]",
            "text/plain": [
              "<Figure size 432x288 with 1 Axes>"
            ]
          },
          "metadata": {
            "tags": [],
            "needs_background": "light"
          }
        }
      ]
    },
    {
      "cell_type": "markdown",
      "metadata": {
        "id": "y7PGioGxIyzg",
        "colab_type": "text"
      },
      "source": [
        "### Les réseaux de neurones"
      ]
    },
    {
      "cell_type": "code",
      "metadata": {
        "id": "JdcDK48sYL6n",
        "colab_type": "code",
        "colab": {}
      },
      "source": [
        "from sklearn.preprocessing import MinMaxScaler\n",
        "scaler = MinMaxScaler()\n",
        "X_train_norm = scaler.fit_transform(X_train)\n",
        "X_test_norm = scaler.transform(X_test)"
      ],
      "execution_count": 0,
      "outputs": []
    },
    {
      "cell_type": "code",
      "metadata": {
        "id": "PzDm_th6J7i6",
        "colab_type": "code",
        "outputId": "9c2ed7d5-3c87-4584-d314-6a70cc7a492f",
        "colab": {
          "base_uri": "https://localhost:8080/",
          "height": 1000
        }
      },
      "source": [
        "from tensorflow.keras.models import Sequential\n",
        "from tensorflow.keras.layers import Dense\n",
        "\n",
        "nn_model = Sequential([\n",
        "              Dense(124, name='hidden', activation='relu', input_shape=(len(features),)),\n",
        "              Dense(1, name='output', activation='sigmoid'),\n",
        "           ])\n",
        "\n",
        "nn_model.compile(optimizer='adam', loss='mean_squared_error', metrics=['accuracy'])\n",
        "history = nn_model.fit(X_train_norm, y_train, batch_size=200, epochs=100, validation_data=(X_test_norm, y_test))"
      ],
      "execution_count": 46,
      "outputs": [
        {
          "output_type": "stream",
          "text": [
            "Epoch 1/100\n",
            "22/22 [==============================] - 0s 10ms/step - loss: 0.2425 - accuracy: 0.5814 - val_loss: 0.2323 - val_accuracy: 0.6377\n",
            "Epoch 2/100\n",
            "22/22 [==============================] - 0s 4ms/step - loss: 0.2261 - accuracy: 0.6527 - val_loss: 0.2208 - val_accuracy: 0.6603\n",
            "Epoch 3/100\n",
            "22/22 [==============================] - 0s 4ms/step - loss: 0.2157 - accuracy: 0.6736 - val_loss: 0.2145 - val_accuracy: 0.6685\n",
            "Epoch 4/100\n",
            "22/22 [==============================] - 0s 4ms/step - loss: 0.2097 - accuracy: 0.6856 - val_loss: 0.2113 - val_accuracy: 0.6522\n",
            "Epoch 5/100\n",
            "22/22 [==============================] - 0s 4ms/step - loss: 0.2059 - accuracy: 0.6851 - val_loss: 0.2112 - val_accuracy: 0.6639\n",
            "Epoch 6/100\n",
            "22/22 [==============================] - 0s 4ms/step - loss: 0.2032 - accuracy: 0.6985 - val_loss: 0.2088 - val_accuracy: 0.6612\n",
            "Epoch 7/100\n",
            "22/22 [==============================] - 0s 4ms/step - loss: 0.2013 - accuracy: 0.6969 - val_loss: 0.2079 - val_accuracy: 0.6621\n",
            "Epoch 8/100\n",
            "22/22 [==============================] - 0s 4ms/step - loss: 0.1995 - accuracy: 0.7006 - val_loss: 0.2077 - val_accuracy: 0.6612\n",
            "Epoch 9/100\n",
            "22/22 [==============================] - 0s 4ms/step - loss: 0.1982 - accuracy: 0.7020 - val_loss: 0.2080 - val_accuracy: 0.6658\n",
            "Epoch 10/100\n",
            "22/22 [==============================] - 0s 4ms/step - loss: 0.1972 - accuracy: 0.7030 - val_loss: 0.2075 - val_accuracy: 0.6621\n",
            "Epoch 11/100\n",
            "22/22 [==============================] - 0s 4ms/step - loss: 0.1952 - accuracy: 0.7081 - val_loss: 0.2075 - val_accuracy: 0.6667\n",
            "Epoch 12/100\n",
            "22/22 [==============================] - 0s 4ms/step - loss: 0.1939 - accuracy: 0.7119 - val_loss: 0.2075 - val_accuracy: 0.6649\n",
            "Epoch 13/100\n",
            "22/22 [==============================] - 0s 4ms/step - loss: 0.1921 - accuracy: 0.7128 - val_loss: 0.2074 - val_accuracy: 0.6649\n",
            "Epoch 14/100\n",
            "22/22 [==============================] - 0s 4ms/step - loss: 0.1907 - accuracy: 0.7177 - val_loss: 0.2069 - val_accuracy: 0.6630\n",
            "Epoch 15/100\n",
            "22/22 [==============================] - 0s 4ms/step - loss: 0.1900 - accuracy: 0.7142 - val_loss: 0.2071 - val_accuracy: 0.6667\n",
            "Epoch 16/100\n",
            "22/22 [==============================] - 0s 4ms/step - loss: 0.1878 - accuracy: 0.7187 - val_loss: 0.2071 - val_accuracy: 0.6667\n",
            "Epoch 17/100\n",
            "22/22 [==============================] - 0s 4ms/step - loss: 0.1855 - accuracy: 0.7316 - val_loss: 0.2079 - val_accuracy: 0.6685\n",
            "Epoch 18/100\n",
            "22/22 [==============================] - 0s 4ms/step - loss: 0.1842 - accuracy: 0.7321 - val_loss: 0.2071 - val_accuracy: 0.6685\n",
            "Epoch 19/100\n",
            "22/22 [==============================] - 0s 4ms/step - loss: 0.1820 - accuracy: 0.7386 - val_loss: 0.2079 - val_accuracy: 0.6694\n",
            "Epoch 20/100\n",
            "22/22 [==============================] - 0s 4ms/step - loss: 0.1806 - accuracy: 0.7344 - val_loss: 0.2073 - val_accuracy: 0.6703\n",
            "Epoch 21/100\n",
            "22/22 [==============================] - 0s 4ms/step - loss: 0.1791 - accuracy: 0.7410 - val_loss: 0.2073 - val_accuracy: 0.6694\n",
            "Epoch 22/100\n",
            "22/22 [==============================] - 0s 4ms/step - loss: 0.1767 - accuracy: 0.7466 - val_loss: 0.2077 - val_accuracy: 0.6676\n",
            "Epoch 23/100\n",
            "22/22 [==============================] - 0s 4ms/step - loss: 0.1744 - accuracy: 0.7532 - val_loss: 0.2076 - val_accuracy: 0.6730\n",
            "Epoch 24/100\n",
            "22/22 [==============================] - 0s 4ms/step - loss: 0.1724 - accuracy: 0.7567 - val_loss: 0.2073 - val_accuracy: 0.6803\n",
            "Epoch 25/100\n",
            "22/22 [==============================] - 0s 4ms/step - loss: 0.1706 - accuracy: 0.7593 - val_loss: 0.2082 - val_accuracy: 0.6649\n",
            "Epoch 26/100\n",
            "22/22 [==============================] - 0s 4ms/step - loss: 0.1683 - accuracy: 0.7684 - val_loss: 0.2082 - val_accuracy: 0.6830\n",
            "Epoch 27/100\n",
            "22/22 [==============================] - 0s 4ms/step - loss: 0.1672 - accuracy: 0.7682 - val_loss: 0.2092 - val_accuracy: 0.6712\n",
            "Epoch 28/100\n",
            "22/22 [==============================] - 0s 4ms/step - loss: 0.1647 - accuracy: 0.7724 - val_loss: 0.2085 - val_accuracy: 0.6748\n",
            "Epoch 29/100\n",
            "22/22 [==============================] - 0s 4ms/step - loss: 0.1621 - accuracy: 0.7853 - val_loss: 0.2087 - val_accuracy: 0.6775\n",
            "Epoch 30/100\n",
            "22/22 [==============================] - 0s 4ms/step - loss: 0.1600 - accuracy: 0.7872 - val_loss: 0.2101 - val_accuracy: 0.6685\n",
            "Epoch 31/100\n",
            "22/22 [==============================] - 0s 4ms/step - loss: 0.1581 - accuracy: 0.7907 - val_loss: 0.2092 - val_accuracy: 0.6784\n",
            "Epoch 32/100\n",
            "22/22 [==============================] - 0s 4ms/step - loss: 0.1564 - accuracy: 0.7916 - val_loss: 0.2114 - val_accuracy: 0.6667\n",
            "Epoch 33/100\n",
            "22/22 [==============================] - 0s 4ms/step - loss: 0.1538 - accuracy: 0.7999 - val_loss: 0.2132 - val_accuracy: 0.6603\n",
            "Epoch 34/100\n",
            "22/22 [==============================] - 0s 4ms/step - loss: 0.1521 - accuracy: 0.7966 - val_loss: 0.2114 - val_accuracy: 0.6812\n",
            "Epoch 35/100\n",
            "22/22 [==============================] - 0s 4ms/step - loss: 0.1506 - accuracy: 0.8060 - val_loss: 0.2129 - val_accuracy: 0.6830\n",
            "Epoch 36/100\n",
            "22/22 [==============================] - 0s 4ms/step - loss: 0.1485 - accuracy: 0.8062 - val_loss: 0.2115 - val_accuracy: 0.6721\n",
            "Epoch 37/100\n",
            "22/22 [==============================] - 0s 4ms/step - loss: 0.1464 - accuracy: 0.8116 - val_loss: 0.2121 - val_accuracy: 0.6757\n",
            "Epoch 38/100\n",
            "22/22 [==============================] - 0s 4ms/step - loss: 0.1448 - accuracy: 0.8160 - val_loss: 0.2130 - val_accuracy: 0.6748\n",
            "Epoch 39/100\n",
            "22/22 [==============================] - 0s 4ms/step - loss: 0.1429 - accuracy: 0.8189 - val_loss: 0.2135 - val_accuracy: 0.6766\n",
            "Epoch 40/100\n",
            "22/22 [==============================] - 0s 4ms/step - loss: 0.1411 - accuracy: 0.8189 - val_loss: 0.2146 - val_accuracy: 0.6676\n",
            "Epoch 41/100\n",
            "22/22 [==============================] - 0s 4ms/step - loss: 0.1393 - accuracy: 0.8240 - val_loss: 0.2138 - val_accuracy: 0.6712\n",
            "Epoch 42/100\n",
            "22/22 [==============================] - 0s 4ms/step - loss: 0.1375 - accuracy: 0.8311 - val_loss: 0.2148 - val_accuracy: 0.6793\n",
            "Epoch 43/100\n",
            "22/22 [==============================] - 0s 4ms/step - loss: 0.1361 - accuracy: 0.8313 - val_loss: 0.2152 - val_accuracy: 0.6694\n",
            "Epoch 44/100\n",
            "22/22 [==============================] - 0s 4ms/step - loss: 0.1343 - accuracy: 0.8360 - val_loss: 0.2157 - val_accuracy: 0.6667\n",
            "Epoch 45/100\n",
            "22/22 [==============================] - 0s 4ms/step - loss: 0.1329 - accuracy: 0.8362 - val_loss: 0.2160 - val_accuracy: 0.6694\n",
            "Epoch 46/100\n",
            "22/22 [==============================] - 0s 4ms/step - loss: 0.1311 - accuracy: 0.8386 - val_loss: 0.2161 - val_accuracy: 0.6685\n",
            "Epoch 47/100\n",
            "22/22 [==============================] - 0s 4ms/step - loss: 0.1296 - accuracy: 0.8437 - val_loss: 0.2162 - val_accuracy: 0.6694\n",
            "Epoch 48/100\n",
            "22/22 [==============================] - 0s 4ms/step - loss: 0.1282 - accuracy: 0.8456 - val_loss: 0.2172 - val_accuracy: 0.6694\n",
            "Epoch 49/100\n",
            "22/22 [==============================] - 0s 4ms/step - loss: 0.1292 - accuracy: 0.8386 - val_loss: 0.2173 - val_accuracy: 0.6712\n",
            "Epoch 50/100\n",
            "22/22 [==============================] - 0s 4ms/step - loss: 0.1259 - accuracy: 0.8475 - val_loss: 0.2201 - val_accuracy: 0.6603\n",
            "Epoch 51/100\n",
            "22/22 [==============================] - 0s 4ms/step - loss: 0.1254 - accuracy: 0.8466 - val_loss: 0.2189 - val_accuracy: 0.6630\n",
            "Epoch 52/100\n",
            "22/22 [==============================] - 0s 4ms/step - loss: 0.1236 - accuracy: 0.8505 - val_loss: 0.2187 - val_accuracy: 0.6685\n",
            "Epoch 53/100\n",
            "22/22 [==============================] - 0s 4ms/step - loss: 0.1215 - accuracy: 0.8522 - val_loss: 0.2195 - val_accuracy: 0.6676\n",
            "Epoch 54/100\n",
            "22/22 [==============================] - 0s 4ms/step - loss: 0.1202 - accuracy: 0.8548 - val_loss: 0.2205 - val_accuracy: 0.6676\n",
            "Epoch 55/100\n",
            "22/22 [==============================] - 0s 4ms/step - loss: 0.1193 - accuracy: 0.8562 - val_loss: 0.2216 - val_accuracy: 0.6694\n",
            "Epoch 56/100\n",
            "22/22 [==============================] - 0s 4ms/step - loss: 0.1181 - accuracy: 0.8573 - val_loss: 0.2203 - val_accuracy: 0.6649\n",
            "Epoch 57/100\n",
            "22/22 [==============================] - 0s 4ms/step - loss: 0.1166 - accuracy: 0.8620 - val_loss: 0.2210 - val_accuracy: 0.6703\n",
            "Epoch 58/100\n",
            "22/22 [==============================] - 0s 4ms/step - loss: 0.1152 - accuracy: 0.8618 - val_loss: 0.2214 - val_accuracy: 0.6630\n",
            "Epoch 59/100\n",
            "22/22 [==============================] - 0s 4ms/step - loss: 0.1145 - accuracy: 0.8632 - val_loss: 0.2218 - val_accuracy: 0.6667\n",
            "Epoch 60/100\n",
            "22/22 [==============================] - 0s 4ms/step - loss: 0.1129 - accuracy: 0.8656 - val_loss: 0.2221 - val_accuracy: 0.6685\n",
            "Epoch 61/100\n",
            "22/22 [==============================] - 0s 4ms/step - loss: 0.1129 - accuracy: 0.8627 - val_loss: 0.2229 - val_accuracy: 0.6658\n",
            "Epoch 62/100\n",
            "22/22 [==============================] - 0s 4ms/step - loss: 0.1110 - accuracy: 0.8691 - val_loss: 0.2223 - val_accuracy: 0.6603\n",
            "Epoch 63/100\n",
            "22/22 [==============================] - 0s 4ms/step - loss: 0.1101 - accuracy: 0.8724 - val_loss: 0.2240 - val_accuracy: 0.6567\n",
            "Epoch 64/100\n",
            "22/22 [==============================] - 0s 4ms/step - loss: 0.1091 - accuracy: 0.8714 - val_loss: 0.2241 - val_accuracy: 0.6612\n",
            "Epoch 65/100\n",
            "22/22 [==============================] - 0s 4ms/step - loss: 0.1084 - accuracy: 0.8735 - val_loss: 0.2245 - val_accuracy: 0.6585\n",
            "Epoch 66/100\n",
            "22/22 [==============================] - 0s 4ms/step - loss: 0.1075 - accuracy: 0.8756 - val_loss: 0.2255 - val_accuracy: 0.6576\n",
            "Epoch 67/100\n",
            "22/22 [==============================] - 0s 4ms/step - loss: 0.1061 - accuracy: 0.8754 - val_loss: 0.2254 - val_accuracy: 0.6549\n",
            "Epoch 68/100\n",
            "22/22 [==============================] - 0s 4ms/step - loss: 0.1049 - accuracy: 0.8785 - val_loss: 0.2260 - val_accuracy: 0.6567\n",
            "Epoch 69/100\n",
            "22/22 [==============================] - 0s 4ms/step - loss: 0.1042 - accuracy: 0.8773 - val_loss: 0.2258 - val_accuracy: 0.6639\n",
            "Epoch 70/100\n",
            "22/22 [==============================] - 0s 4ms/step - loss: 0.1036 - accuracy: 0.8773 - val_loss: 0.2264 - val_accuracy: 0.6513\n",
            "Epoch 71/100\n",
            "22/22 [==============================] - 0s 4ms/step - loss: 0.1021 - accuracy: 0.8799 - val_loss: 0.2269 - val_accuracy: 0.6549\n",
            "Epoch 72/100\n",
            "22/22 [==============================] - 0s 4ms/step - loss: 0.1012 - accuracy: 0.8834 - val_loss: 0.2275 - val_accuracy: 0.6567\n",
            "Epoch 73/100\n",
            "22/22 [==============================] - 0s 4ms/step - loss: 0.1005 - accuracy: 0.8834 - val_loss: 0.2276 - val_accuracy: 0.6558\n",
            "Epoch 74/100\n",
            "22/22 [==============================] - 0s 4ms/step - loss: 0.1003 - accuracy: 0.8817 - val_loss: 0.2289 - val_accuracy: 0.6504\n",
            "Epoch 75/100\n",
            "22/22 [==============================] - 0s 4ms/step - loss: 0.0997 - accuracy: 0.8874 - val_loss: 0.2285 - val_accuracy: 0.6612\n",
            "Epoch 76/100\n",
            "22/22 [==============================] - 0s 4ms/step - loss: 0.0984 - accuracy: 0.8857 - val_loss: 0.2288 - val_accuracy: 0.6567\n",
            "Epoch 77/100\n",
            "22/22 [==============================] - 0s 4ms/step - loss: 0.0974 - accuracy: 0.8895 - val_loss: 0.2300 - val_accuracy: 0.6522\n",
            "Epoch 78/100\n",
            "22/22 [==============================] - 0s 4ms/step - loss: 0.0964 - accuracy: 0.8864 - val_loss: 0.2306 - val_accuracy: 0.6567\n",
            "Epoch 79/100\n",
            "22/22 [==============================] - 0s 4ms/step - loss: 0.0954 - accuracy: 0.8902 - val_loss: 0.2300 - val_accuracy: 0.6540\n",
            "Epoch 80/100\n",
            "22/22 [==============================] - 0s 4ms/step - loss: 0.0952 - accuracy: 0.8900 - val_loss: 0.2306 - val_accuracy: 0.6486\n",
            "Epoch 81/100\n",
            "22/22 [==============================] - 0s 4ms/step - loss: 0.0943 - accuracy: 0.8928 - val_loss: 0.2307 - val_accuracy: 0.6558\n",
            "Epoch 82/100\n",
            "22/22 [==============================] - 0s 4ms/step - loss: 0.0941 - accuracy: 0.8932 - val_loss: 0.2313 - val_accuracy: 0.6612\n",
            "Epoch 83/100\n",
            "22/22 [==============================] - 0s 4ms/step - loss: 0.0939 - accuracy: 0.8907 - val_loss: 0.2324 - val_accuracy: 0.6540\n",
            "Epoch 84/100\n",
            "22/22 [==============================] - 0s 4ms/step - loss: 0.0921 - accuracy: 0.8935 - val_loss: 0.2327 - val_accuracy: 0.6513\n",
            "Epoch 85/100\n",
            "22/22 [==============================] - 0s 5ms/step - loss: 0.0915 - accuracy: 0.8930 - val_loss: 0.2335 - val_accuracy: 0.6476\n",
            "Epoch 86/100\n",
            "22/22 [==============================] - 0s 4ms/step - loss: 0.0913 - accuracy: 0.8958 - val_loss: 0.2325 - val_accuracy: 0.6540\n",
            "Epoch 87/100\n",
            "22/22 [==============================] - 0s 4ms/step - loss: 0.0897 - accuracy: 0.8970 - val_loss: 0.2330 - val_accuracy: 0.6549\n",
            "Epoch 88/100\n",
            "22/22 [==============================] - 0s 4ms/step - loss: 0.0892 - accuracy: 0.8989 - val_loss: 0.2338 - val_accuracy: 0.6540\n",
            "Epoch 89/100\n",
            "22/22 [==============================] - 0s 4ms/step - loss: 0.0888 - accuracy: 0.8989 - val_loss: 0.2338 - val_accuracy: 0.6549\n",
            "Epoch 90/100\n",
            "22/22 [==============================] - 0s 4ms/step - loss: 0.0878 - accuracy: 0.9024 - val_loss: 0.2365 - val_accuracy: 0.6449\n",
            "Epoch 91/100\n",
            "22/22 [==============================] - 0s 4ms/step - loss: 0.0876 - accuracy: 0.9019 - val_loss: 0.2353 - val_accuracy: 0.6522\n",
            "Epoch 92/100\n",
            "22/22 [==============================] - 0s 5ms/step - loss: 0.0871 - accuracy: 0.8996 - val_loss: 0.2354 - val_accuracy: 0.6531\n",
            "Epoch 93/100\n",
            "22/22 [==============================] - 0s 4ms/step - loss: 0.0864 - accuracy: 0.8989 - val_loss: 0.2363 - val_accuracy: 0.6513\n",
            "Epoch 94/100\n",
            "22/22 [==============================] - 0s 4ms/step - loss: 0.0856 - accuracy: 0.9040 - val_loss: 0.2360 - val_accuracy: 0.6486\n",
            "Epoch 95/100\n",
            "22/22 [==============================] - 0s 4ms/step - loss: 0.0851 - accuracy: 0.9047 - val_loss: 0.2362 - val_accuracy: 0.6486\n",
            "Epoch 96/100\n",
            "22/22 [==============================] - 0s 4ms/step - loss: 0.0847 - accuracy: 0.9015 - val_loss: 0.2379 - val_accuracy: 0.6504\n",
            "Epoch 97/100\n",
            "22/22 [==============================] - 0s 4ms/step - loss: 0.0845 - accuracy: 0.9033 - val_loss: 0.2368 - val_accuracy: 0.6540\n",
            "Epoch 98/100\n",
            "22/22 [==============================] - 0s 4ms/step - loss: 0.0843 - accuracy: 0.9029 - val_loss: 0.2374 - val_accuracy: 0.6522\n",
            "Epoch 99/100\n",
            "22/22 [==============================] - 0s 4ms/step - loss: 0.0828 - accuracy: 0.9054 - val_loss: 0.2394 - val_accuracy: 0.6522\n",
            "Epoch 100/100\n",
            "22/22 [==============================] - 0s 4ms/step - loss: 0.0832 - accuracy: 0.9050 - val_loss: 0.2386 - val_accuracy: 0.6486\n"
          ],
          "name": "stdout"
        }
      ]
    },
    {
      "cell_type": "markdown",
      "metadata": {
        "id": "i2gzc2VKDvBK",
        "colab_type": "text"
      },
      "source": [
        "### La notion d'overfitting"
      ]
    },
    {
      "cell_type": "markdown",
      "metadata": {
        "id": "DQ5Sg5ehjPDF",
        "colab_type": "text"
      },
      "source": [
        "On peut visualiser l'évolution de la performance de lu réseau de neurones au cours de l'entraînement :"
      ]
    },
    {
      "cell_type": "code",
      "metadata": {
        "id": "LOKd7eq3gYs5",
        "colab_type": "code",
        "outputId": "30b8e6df-4908-4737-a638-89de11f228fd",
        "colab": {
          "base_uri": "https://localhost:8080/",
          "height": 299
        }
      },
      "source": [
        "plt.plot(history.history['accuracy'], label='Justesse (train)')\n",
        "plt.plot(history.history['val_accuracy'], label='Justesse (test)')\n",
        "plt.title(\"Evolution de la performance pendant l'entraînement\")\n",
        "plt.legend()\n",
        "plt.plot()"
      ],
      "execution_count": 47,
      "outputs": [
        {
          "output_type": "execute_result",
          "data": {
            "text/plain": [
              "[]"
            ]
          },
          "metadata": {
            "tags": []
          },
          "execution_count": 47
        },
        {
          "output_type": "display_data",
          "data": {
            "image/png": "[encoded data removed]",
            "text/plain": [
              "<Figure size 432x288 with 1 Axes>"
            ]
          },
          "metadata": {
            "tags": [],
            "needs_background": "light"
          }
        }
      ]
    },
    {
      "cell_type": "markdown",
      "metadata": {
        "id": "5F9acbk_ky-d",
        "colab_type": "text"
      },
      "source": [
        "L'importante notion d'overfitting : lorsque l'algorithme \"colle trop\" aux données d'entraînement."
      ]
    },
    {
      "cell_type": "markdown",
      "metadata": {
        "id": "vfXFw3_JuMha",
        "colab_type": "text"
      },
      "source": [
        "## 4. Tester et valider le modèle"
      ]
    },
    {
      "cell_type": "markdown",
      "metadata": {
        "id": "YmB_U2n8Haua",
        "colab_type": "text"
      },
      "source": [
        "On prédit en utilisant le modèle, sur les données de test non vues en entraînement\n",
        "\n"
      ]
    },
    {
      "cell_type": "code",
      "metadata": {
        "id": "Xmf06AnZFWlb",
        "colab_type": "code",
        "colab": {}
      },
      "source": [
        "y_pred = rf_model.predict(X_test)\n",
        "y_fake = np.random.choice([0, 1], size=len(y_test), p=[1 - y_test.mean(), y_test.mean()])"
      ],
      "execution_count": 0,
      "outputs": []
    },
    {
      "cell_type": "markdown",
      "metadata": {
        "id": "uz01Z4J3ELFW",
        "colab_type": "text"
      },
      "source": [
        "### Matrice de confusion\n",
        "\n"
      ]
    },
    {
      "cell_type": "code",
      "metadata": {
        "id": "-9ZtfS4lEs8S",
        "colab_type": "code",
        "outputId": "a74ec65b-9922-4187-ff17-5e68cd0fe23d",
        "colab": {
          "base_uri": "https://localhost:8080/",
          "height": 112
        }
      },
      "source": [
        "from sklearn.metrics import confusion_matrix\n",
        "pd.DataFrame(confusion_matrix(y_test, y_pred), index=['Vrai label 0', 'Vrai label 1'], columns=['Label prédit 0', 'Label prédit 1'])"
      ],
      "execution_count": 49,
      "outputs": [
        {
          "output_type": "execute_result",
          "data": {
            "text/html": [
              "<div>\n",
              "<style scoped>\n",
              "    .dataframe tbody tr th:only-of-type {\n",
              "        vertical-align: middle;\n",
              "    }\n",
              "\n",
              "    .dataframe tbody tr th {\n",
              "        vertical-align: top;\n",
              "    }\n",
              "\n",
              "    .dataframe thead th {\n",
              "        text-align: right;\n",
              "    }\n",
              "</style>\n",
              "<table border=\"1\" class=\"dataframe\">\n",
              "  <thead>\n",
              "    <tr style=\"text-align: right;\">\n",
              "      <th></th>\n",
              "      <th>Label prédit 0</th>\n",
              "      <th>Label prédit 1</th>\n",
              "    </tr>\n",
              "  </thead>\n",
              "  <tbody>\n",
              "    <tr>\n",
              "      <th>Vrai label 0</th>\n",
              "      <td>376</td>\n",
              "      <td>176</td>\n",
              "    </tr>\n",
              "    <tr>\n",
              "      <th>Vrai label 1</th>\n",
              "      <td>179</td>\n",
              "      <td>373</td>\n",
              "    </tr>\n",
              "  </tbody>\n",
              "</table>\n",
              "</div>"
            ],
            "text/plain": [
              "              Label prédit 0  Label prédit 1\n",
              "Vrai label 0             376             176\n",
              "Vrai label 1             179             373"
            ]
          },
          "metadata": {
            "tags": []
          },
          "execution_count": 49
        }
      ]
    },
    {
      "cell_type": "markdown",
      "metadata": {
        "id": "y1dIOTVWEtVe",
        "colab_type": "text"
      },
      "source": [
        "### Utiliser différentes métriques"
      ]
    },
    {
      "cell_type": "code",
      "metadata": {
        "id": "Q_Ej6UnpH2oo",
        "colab_type": "code",
        "outputId": "7df80c37-c837-4199-8f02-c7f02b76df6d",
        "colab": {
          "base_uri": "https://localhost:8080/",
          "height": 175
        }
      },
      "source": [
        "from sklearn.metrics import accuracy_score, precision_score, recall_score, f1_score\n",
        "\n",
        "res = []\n",
        "for metric in [accuracy_score, precision_score, recall_score, f1_score]:\n",
        "  res.append([metric.__name__, metric(y_test, y_pred), metric(y_test, y_fake)])\n",
        "pd.DataFrame(res, columns = ['Métrique', 'Score du modèle', \"Score de l'aléatoire\"])"
      ],
      "execution_count": 50,
      "outputs": [
        {
          "output_type": "execute_result",
          "data": {
            "text/html": [
              "<div>\n",
              "<style scoped>\n",
              "    .dataframe tbody tr th:only-of-type {\n",
              "        vertical-align: middle;\n",
              "    }\n",
              "\n",
              "    .dataframe tbody tr th {\n",
              "        vertical-align: top;\n",
              "    }\n",
              "\n",
              "    .dataframe thead th {\n",
              "        text-align: right;\n",
              "    }\n",
              "</style>\n",
              "<table border=\"1\" class=\"dataframe\">\n",
              "  <thead>\n",
              "    <tr style=\"text-align: right;\">\n",
              "      <th></th>\n",
              "      <th>Métrique</th>\n",
              "      <th>Score du modèle</th>\n",
              "      <th>Score de l'aléatoire</th>\n",
              "    </tr>\n",
              "  </thead>\n",
              "  <tbody>\n",
              "    <tr>\n",
              "      <th>0</th>\n",
              "      <td>accuracy_score</td>\n",
              "      <td>0.678442</td>\n",
              "      <td>0.484601</td>\n",
              "    </tr>\n",
              "    <tr>\n",
              "      <th>1</th>\n",
              "      <td>precision_score</td>\n",
              "      <td>0.679417</td>\n",
              "      <td>0.484794</td>\n",
              "    </tr>\n",
              "    <tr>\n",
              "      <th>2</th>\n",
              "      <td>recall_score</td>\n",
              "      <td>0.675725</td>\n",
              "      <td>0.490942</td>\n",
              "    </tr>\n",
              "    <tr>\n",
              "      <th>3</th>\n",
              "      <td>f1_score</td>\n",
              "      <td>0.677566</td>\n",
              "      <td>0.487849</td>\n",
              "    </tr>\n",
              "  </tbody>\n",
              "</table>\n",
              "</div>"
            ],
            "text/plain": [
              "          Métrique  Score du modèle  Score de l'aléatoire\n",
              "0   accuracy_score         0.678442              0.484601\n",
              "1  precision_score         0.679417              0.484794\n",
              "2     recall_score         0.675725              0.490942\n",
              "3         f1_score         0.677566              0.487849"
            ]
          },
          "metadata": {
            "tags": []
          },
          "execution_count": 50
        }
      ]
    }
  ]
}