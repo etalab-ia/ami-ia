{
 "cells": [
  {
   "cell_type": "markdown",
   "metadata": {},
   "source": [
    "# Les outils du data scientist\n",
    "\n",
    "Une introduction rapide au langage Python"
   ]
  },
  {
   "cell_type": "markdown",
   "metadata": {},
   "source": [
    "### Python, un langage de programmation populaire pour la data science\n",
    "\n",
    "<img src=\"https://miro.medium.com/max/1400/1*HbpxooExwK4W7lAP7Vwt3w.jpeg\" style=\"width: 400px\">\n",
    "\n",
    "Source : [Stack Overflow Developer Survey, 2019](https://insights.stackoverflow.com/survey/2019)"
   ]
  },
  {
   "cell_type": "markdown",
   "metadata": {},
   "source": [
    "### Les notebooks, une interface simple et lisible de programmation \n",
    "\n",
    "Le fonctionnement : des cellules de codes, que l'on exécute une à une et qui permet d'observer les sorties directement en dessous. Chaque cellule est exécutée en appuyant sur **CTRL + ENTRER**.\n",
    "\n",
    "Il existe deux types de cellules :"
   ]
  },
  {
   "cell_type": "code",
   "execution_count": 4,
   "metadata": {},
   "outputs": [
    {
     "data": {
      "text/plain": [
       "8"
      ]
     },
     "execution_count": 4,
     "metadata": {},
     "output_type": "execute_result"
    }
   ],
   "source": [
    "# Des cellules de code :\n",
    "x = 3\n",
    "y = 5\n",
    "x + y"
   ]
  },
  {
   "cell_type": "markdown",
   "metadata": {},
   "source": [
    "Des cellules de texte (en format Markdown)"
   ]
  },
  {
   "cell_type": "markdown",
   "metadata": {},
   "source": [
    "## Les librairies\n",
    "\n",
    "Une librairie est un ensemble de méthodes pré-écrites et que l'on peut facilement importer pour éviter de réécrire des portions de codes fréquemment utiles. Elles permettent aussi de compléter les types de données disponibles \"nativement\" dans le langage, pour permettre différents usages.\n",
    "\n",
    "**Quelques exemple :**"
   ]
  },
  {
   "cell_type": "code",
   "execution_count": 6,
   "metadata": {},
   "outputs": [
    {
     "data": {
      "text/plain": [
       "array([14, 13, 12, 11])"
      ]
     },
     "execution_count": 6,
     "metadata": {},
     "output_type": "execute_result"
    }
   ],
   "source": [
    "# Numpy : permet de manipuler des vecteurs et des matrices\n",
    "import numpy as np\n",
    "x = np.array([1, 2, 3, 4])\n",
    "y = np.array([4, 3, 2, 1])\n",
    "z = 2 * x + 3 * y\n",
    "z"
   ]
  },
  {
   "cell_type": "code",
   "execution_count": 10,
   "metadata": {},
   "outputs": [
    {
     "data": {
      "text/html": [
       "<div>\n",
       "<style scoped>\n",
       "    .dataframe tbody tr th:only-of-type {\n",
       "        vertical-align: middle;\n",
       "    }\n",
       "\n",
       "    .dataframe tbody tr th {\n",
       "        vertical-align: top;\n",
       "    }\n",
       "\n",
       "    .dataframe thead th {\n",
       "        text-align: right;\n",
       "    }\n",
       "</style>\n",
       "<table border=\"1\" class=\"dataframe\">\n",
       "  <thead>\n",
       "    <tr style=\"text-align: right;\">\n",
       "      <th></th>\n",
       "      <th>age</th>\n",
       "      <th>taille</th>\n",
       "    </tr>\n",
       "  </thead>\n",
       "  <tbody>\n",
       "    <tr>\n",
       "      <th>0</th>\n",
       "      <td>10</td>\n",
       "      <td>123</td>\n",
       "    </tr>\n",
       "    <tr>\n",
       "      <th>1</th>\n",
       "      <td>15</td>\n",
       "      <td>156</td>\n",
       "    </tr>\n",
       "    <tr>\n",
       "      <th>2</th>\n",
       "      <td>34</td>\n",
       "      <td>172</td>\n",
       "    </tr>\n",
       "    <tr>\n",
       "      <th>3</th>\n",
       "      <td>48</td>\n",
       "      <td>178</td>\n",
       "    </tr>\n",
       "    <tr>\n",
       "      <th>4</th>\n",
       "      <td>53</td>\n",
       "      <td>165</td>\n",
       "    </tr>\n",
       "    <tr>\n",
       "      <th>5</th>\n",
       "      <td>60</td>\n",
       "      <td>157</td>\n",
       "    </tr>\n",
       "  </tbody>\n",
       "</table>\n",
       "</div>"
      ],
      "text/plain": [
       "   age  taille\n",
       "0   10     123\n",
       "1   15     156\n",
       "2   34     172\n",
       "3   48     178\n",
       "4   53     165\n",
       "5   60     157"
      ]
     },
     "execution_count": 10,
     "metadata": {},
     "output_type": "execute_result"
    }
   ],
   "source": [
    "# Pandas : permet de manipuler des tableaux de données, semblables à des tableurs Excel\n",
    "import pandas as pd\n",
    "df = pd.DataFrame({'age': [10, 15, 34, 48, 53, 60], 'taille': [123, 156, 172, 178, 165, 157]})\n",
    "df"
   ]
  },
  {
   "cell_type": "code",
   "execution_count": 14,
   "metadata": {},
   "outputs": [
    {
     "data": {
      "image/png": "[encoded data removed]",
      "text/plain": [
       "<Figure size 432x288 with 1 Axes>"
      ]
     },
     "metadata": {
      "needs_background": "light"
     },
     "output_type": "display_data"
    }
   ],
   "source": [
    "# Matplotlib : permet de dessiner toute sortes de graphiques\n",
    "import matplotlib.pyplot as plt\n",
    "plt.plot(df['age'], df['taille'])\n",
    "plt.show()"
   ]
  },
  {
   "cell_type": "markdown",
   "metadata": {},
   "source": [
    "Julien pour vos avis : il faut peut-être essayer de gagner du temps en ne brossant pas tout. Je propose de ne pas évoquer ce que Robin proposait:\n",
    "- les objets et le nommage des objets\n",
    "- les fonctions\n",
    "- l'installation des packages\n",
    "- trop détailler pandas"
   ]
  }
 ],
 "metadata": {
  "kernelspec": {
   "display_name": "Python 3",
   "language": "python",
   "name": "python3"
  },
  "language_info": {
   "codemirror_mode": {
    "name": "ipython",
    "version": 3
   },
   "file_extension": ".py",
   "mimetype": "text/x-python",
   "name": "python",
   "nbconvert_exporter": "python",
   "pygments_lexer": "ipython3",
   "version": "3.6.6"
  }
 },
 "nbformat": 4,
 "nbformat_minor": 2
}
