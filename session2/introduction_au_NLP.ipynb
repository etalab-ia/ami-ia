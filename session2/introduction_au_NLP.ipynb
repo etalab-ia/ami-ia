{
 "cells": [
  {
   "cell_type": "markdown",
   "metadata": {
    "colab_type": "text",
    "id": "view-in-github"
   },
   "source": [
    "<a href=\"https://colab.research.google.com/github/etalab-ia/ami-ia/blob/master/notebooks/ami_ia_NLP.ipynb\" target=\"_parent\"><img src=\"https://colab.research.google.com/assets/colab-badge.svg\" alt=\"Open In Colab\"/></a>"
   ]
  },
  {
   "cell_type": "markdown",
   "metadata": {
    "colab_type": "text",
    "id": "MNBVSFaLObUS"
   },
   "source": [
    "# Notebook NLP\n",
    "\n",
    "Introduction au NLP avec l'example des avis rendus par la CADA (Comission d'Accès aux Documents Administratifs)\n",
    "L'objectif de ce notebook est présenter des exemples d'utilisation de modèles de traitement du langage naturel, à partir d'un jeu de données textuelles. Nous allons analyser les avis CADA et tenter de répondre à deux questions: \n",
    "\n",
    "### 1- Puis-je dégager les thèmes principaux traités par les avis CADA? \n",
    "### 2 - Puis-je classer automatiquement les avis en avis Favorable / Défavorable à partir du texte de l'avis? \n",
    "\n",
    "Concernant la première question, on se met dans la peau d'un agent de la CADA, qui doit faire un rapport présentant les principaux thèmes abordés dans les avis CADA, et la proportion représentée par chacun de ces thèmes. \n",
    "\n",
    "Concernant la deuxième question, l'intérêt de ce type d'analyse serait de vérifier automatiquement la cohérence des métadonnées. Est-ce qu'un avis classé dans le SI comme favorable correspond bien à un avis défavorable au regard du texte de l'avis. \n",
    "\n",
    "\n",
    "A la fin du notebook, on présente quelques étapes classiques de traitement de langage naturel. \n",
    "\n",
    "La page de data.gouv où l'on peut télécharger les données est ici: https://www.data.gouv.fr/fr/datasets/avis-et-conseils-de-la-cada/ . L'url de téléchargement des données utilisées ici est https://www.data.gouv.fr/fr/datasets/r/93aed7ce-db2f-4982-8127-340562061e4b . "
   ]
  },
  {
   "cell_type": "markdown",
   "metadata": {},
   "source": [
    "## Partie 0: Analyses simples du jeu de données "
   ]
  },
  {
   "cell_type": "markdown",
   "metadata": {},
   "source": [
    "importation des libraries utiles"
   ]
  },
  {
   "cell_type": "code",
   "execution_count": 1,
   "metadata": {
    "colab": {},
    "colab_type": "code",
    "id": "dC4ECExRSWdV"
   },
   "outputs": [],
   "source": [
    "# pour la manipulation de jeux de données \n",
    "import pandas as pd\n",
    "import numpy as np\n",
    "\n",
    "# commandes pour éliminer les warnings \n",
    "import warnings\n",
    "warnings.filterwarnings(\"ignore\")\n",
    "\n",
    "# pour la dataviz \n",
    "import matplotlib.pyplot as plt\n",
    "plt.style.use('fivethirtyeight')\n",
    "import matplotlib\n",
    "matplotlib.rcParams['axes.labelsize'] = 14\n",
    "matplotlib.rcParams['xtick.labelsize'] = 12\n",
    "matplotlib.rcParams['ytick.labelsize'] = 12\n",
    "matplotlib.rcParams['text.color'] = 'k'"
   ]
  },
  {
   "cell_type": "markdown",
   "metadata": {},
   "source": [
    "Lecture du jeu de données à partir de l'url "
   ]
  },
  {
   "cell_type": "code",
   "execution_count": 6,
   "metadata": {
    "colab": {},
    "colab_type": "code",
    "id": "Gog_D9PYOlS3"
   },
   "outputs": [],
   "source": [
    "# lire le jeu de données en un objet \"pandas dataframe\"\n",
    "# (ici on a coupé le jeu de données en 2 parties), on lit chacun des deux parties puis on les concatène \n",
    "df1 = pd.read_csv('https://raw.githubusercontent.com/etalab-ia/ami-ia/master/session2/data/cada-2020-05-12_part1.csv')\n",
    "df2 = pd.read_csv('https://raw.githubusercontent.com/etalab-ia/ami-ia/master/session2/data/cada-2020-05-12_part2.csv')\n",
    "df = pd.concat([df1, df2])"
   ]
  },
  {
   "cell_type": "markdown",
   "metadata": {},
   "source": [
    "Quel est le nombre de lignes et le nombre de colonnes de mon jeu de données ? "
   ]
  },
  {
   "cell_type": "code",
   "execution_count": 7,
   "metadata": {},
   "outputs": [
    {
     "data": {
      "text/plain": [
       "(38287, 11)"
      ]
     },
     "execution_count": 7,
     "metadata": {},
     "output_type": "execute_result"
    }
   ],
   "source": [
    "df.shape"
   ]
  },
  {
   "cell_type": "markdown",
   "metadata": {},
   "source": [
    "Quels sont les types des colonnes mon jeu de données? "
   ]
  },
  {
   "cell_type": "code",
   "execution_count": 8,
   "metadata": {},
   "outputs": [
    {
     "data": {
      "text/plain": [
       "Numéro de dossier       int64\n",
       "Administration         object\n",
       "Type                   object\n",
       "Année                   int64\n",
       "Séance                 object\n",
       "Objet                  object\n",
       "Thème et sous thème    object\n",
       "Mots clés              object\n",
       "Sens et motivation     object\n",
       "Partie                 object\n",
       "Avis                   object\n",
       "dtype: object"
      ]
     },
     "execution_count": 8,
     "metadata": {},
     "output_type": "execute_result"
    }
   ],
   "source": [
    "df.dtypes"
   ]
  },
  {
   "cell_type": "markdown",
   "metadata": {},
   "source": [
    "A quoi ressemble mon jeu de données ? "
   ]
  },
  {
   "cell_type": "code",
   "execution_count": 6,
   "metadata": {},
   "outputs": [
    {
     "data": {
      "text/html": [
       "<div>\n",
       "<style scoped>\n",
       "    .dataframe tbody tr th:only-of-type {\n",
       "        vertical-align: middle;\n",
       "    }\n",
       "\n",
       "    .dataframe tbody tr th {\n",
       "        vertical-align: top;\n",
       "    }\n",
       "\n",
       "    .dataframe thead th {\n",
       "        text-align: right;\n",
       "    }\n",
       "</style>\n",
       "<table border=\"1\" class=\"dataframe\">\n",
       "  <thead>\n",
       "    <tr style=\"text-align: right;\">\n",
       "      <th></th>\n",
       "      <th>Numéro de dossier</th>\n",
       "      <th>Administration</th>\n",
       "      <th>Type</th>\n",
       "      <th>Année</th>\n",
       "      <th>Séance</th>\n",
       "      <th>Objet</th>\n",
       "      <th>Thème et sous thème</th>\n",
       "      <th>Mots clés</th>\n",
       "      <th>Sens et motivation</th>\n",
       "      <th>Partie</th>\n",
       "      <th>Avis</th>\n",
       "    </tr>\n",
       "  </thead>\n",
       "  <tbody>\n",
       "    <tr>\n",
       "      <td>0</td>\n",
       "      <td>19840002</td>\n",
       "      <td>ministre de la défense</td>\n",
       "      <td>Avis</td>\n",
       "      <td>1984</td>\n",
       "      <td>03/03/1984</td>\n",
       "      <td>[Voir avis]</td>\n",
       "      <td>Justice, Ordre Public Et Sécurité/Défense Et D...</td>\n",
       "      <td>Armée</td>\n",
       "      <td>Défavorable/Défense</td>\n",
       "      <td>III</td>\n",
       "      <td>La commission d'accès aux documents administra...</td>\n",
       "    </tr>\n",
       "    <tr>\n",
       "      <td>1</td>\n",
       "      <td>19840003</td>\n",
       "      <td>ministre de la défense</td>\n",
       "      <td>Avis</td>\n",
       "      <td>1984</td>\n",
       "      <td>13/12/1984</td>\n",
       "      <td>[Voir avis]</td>\n",
       "      <td>Economie, Industrie, Agriculture/Secteurs Écon...</td>\n",
       "      <td>Armée</td>\n",
       "      <td>Irrecevable/Imprécise, Défavorable/Défense, In...</td>\n",
       "      <td>III</td>\n",
       "      <td>La commission d'accès aux documents administra...</td>\n",
       "    </tr>\n",
       "    <tr>\n",
       "      <td>2</td>\n",
       "      <td>19850001</td>\n",
       "      <td>ministre de l'économie, des finances et du budget</td>\n",
       "      <td>Avis</td>\n",
       "      <td>1985</td>\n",
       "      <td>05/12/1985</td>\n",
       "      <td>[Voir avis]</td>\n",
       "      <td>Justice, Ordre Public Et Sécurité/Association,...</td>\n",
       "      <td>NaN</td>\n",
       "      <td>Défavorable</td>\n",
       "      <td>III</td>\n",
       "      <td>La commission d'accès aux documents administra...</td>\n",
       "    </tr>\n",
       "    <tr>\n",
       "      <td>3</td>\n",
       "      <td>19860001</td>\n",
       "      <td>directeur départemental du travail et de l'emp...</td>\n",
       "      <td>Conseil</td>\n",
       "      <td>1986</td>\n",
       "      <td>30/01/1986</td>\n",
       "      <td>(voir avis)</td>\n",
       "      <td>Travail Et Emploi/Droit Du Travail</td>\n",
       "      <td>Licenciement, Conditions de travail</td>\n",
       "      <td>Défavorable/Procédure, Sans objet</td>\n",
       "      <td>III</td>\n",
       "      <td>La commission d'accès aux documents administra...</td>\n",
       "    </tr>\n",
       "    <tr>\n",
       "      <td>4</td>\n",
       "      <td>19870061</td>\n",
       "      <td>gouverneur de la Banque de France</td>\n",
       "      <td>Avis</td>\n",
       "      <td>1987</td>\n",
       "      <td>02/04/1987</td>\n",
       "      <td>[Voir avis]</td>\n",
       "      <td>Economie, Industrie, Agriculture/Secteurs Écon...</td>\n",
       "      <td>Banques et assurances</td>\n",
       "      <td>Défavorable/Sécurité publique, Favorable/Sauf ...</td>\n",
       "      <td>III</td>\n",
       "      <td>La commission d'accès aux documents administra...</td>\n",
       "    </tr>\n",
       "  </tbody>\n",
       "</table>\n",
       "</div>"
      ],
      "text/plain": [
       "   Numéro de dossier                                     Administration  \\\n",
       "0           19840002                             ministre de la défense   \n",
       "1           19840003                             ministre de la défense   \n",
       "2           19850001  ministre de l'économie, des finances et du budget   \n",
       "3           19860001  directeur départemental du travail et de l'emp...   \n",
       "4           19870061                  gouverneur de la Banque de France   \n",
       "\n",
       "      Type  Année      Séance        Objet  \\\n",
       "0     Avis   1984  03/03/1984  [Voir avis]   \n",
       "1     Avis   1984  13/12/1984  [Voir avis]   \n",
       "2     Avis   1985  05/12/1985  [Voir avis]   \n",
       "3  Conseil   1986  30/01/1986  (voir avis)   \n",
       "4     Avis   1987  02/04/1987  [Voir avis]   \n",
       "\n",
       "                                 Thème et sous thème  \\\n",
       "0  Justice, Ordre Public Et Sécurité/Défense Et D...   \n",
       "1  Economie, Industrie, Agriculture/Secteurs Écon...   \n",
       "2  Justice, Ordre Public Et Sécurité/Association,...   \n",
       "3                 Travail Et Emploi/Droit Du Travail   \n",
       "4  Economie, Industrie, Agriculture/Secteurs Écon...   \n",
       "\n",
       "                             Mots clés  \\\n",
       "0                                Armée   \n",
       "1                                Armée   \n",
       "2                                  NaN   \n",
       "3  Licenciement, Conditions de travail   \n",
       "4                Banques et assurances   \n",
       "\n",
       "                                  Sens et motivation Partie  \\\n",
       "0                                Défavorable/Défense    III   \n",
       "1  Irrecevable/Imprécise, Défavorable/Défense, In...    III   \n",
       "2                                        Défavorable    III   \n",
       "3                  Défavorable/Procédure, Sans objet    III   \n",
       "4  Défavorable/Sécurité publique, Favorable/Sauf ...    III   \n",
       "\n",
       "                                                Avis  \n",
       "0  La commission d'accès aux documents administra...  \n",
       "1  La commission d'accès aux documents administra...  \n",
       "2  La commission d'accès aux documents administra...  \n",
       "3  La commission d'accès aux documents administra...  \n",
       "4  La commission d'accès aux documents administra...  "
      ]
     },
     "execution_count": 6,
     "metadata": {},
     "output_type": "execute_result"
    }
   ],
   "source": [
    "df.head()"
   ]
  },
  {
   "cell_type": "markdown",
   "metadata": {},
   "source": [
    "On regarde les variables catégorielles: \n",
    "- combien de valeurs remplies (count), \n",
    "- combien de valeurs uniques / modalités (unique), \n",
    "- quelle est la modalité la plus représentée (top), \n",
    "- quelle est le nombre de fois où apparait la modalité la plus représentée (freq)"
   ]
  },
  {
   "cell_type": "code",
   "execution_count": 7,
   "metadata": {},
   "outputs": [
    {
     "data": {
      "text/html": [
       "<div>\n",
       "<style scoped>\n",
       "    .dataframe tbody tr th:only-of-type {\n",
       "        vertical-align: middle;\n",
       "    }\n",
       "\n",
       "    .dataframe tbody tr th {\n",
       "        vertical-align: top;\n",
       "    }\n",
       "\n",
       "    .dataframe thead th {\n",
       "        text-align: right;\n",
       "    }\n",
       "</style>\n",
       "<table border=\"1\" class=\"dataframe\">\n",
       "  <thead>\n",
       "    <tr style=\"text-align: right;\">\n",
       "      <th></th>\n",
       "      <th>Administration</th>\n",
       "      <th>Type</th>\n",
       "      <th>Séance</th>\n",
       "      <th>Objet</th>\n",
       "      <th>Thème et sous thème</th>\n",
       "      <th>Mots clés</th>\n",
       "      <th>Sens et motivation</th>\n",
       "      <th>Partie</th>\n",
       "      <th>Avis</th>\n",
       "    </tr>\n",
       "  </thead>\n",
       "  <tbody>\n",
       "    <tr>\n",
       "      <td>count</td>\n",
       "      <td>38286</td>\n",
       "      <td>38287</td>\n",
       "      <td>38287</td>\n",
       "      <td>38270</td>\n",
       "      <td>38206</td>\n",
       "      <td>33125</td>\n",
       "      <td>38271</td>\n",
       "      <td>36059</td>\n",
       "      <td>38286</td>\n",
       "    </tr>\n",
       "    <tr>\n",
       "      <td>unique</td>\n",
       "      <td>12850</td>\n",
       "      <td>3</td>\n",
       "      <td>569</td>\n",
       "      <td>35334</td>\n",
       "      <td>828</td>\n",
       "      <td>3615</td>\n",
       "      <td>3094</td>\n",
       "      <td>4</td>\n",
       "      <td>37519</td>\n",
       "    </tr>\n",
       "    <tr>\n",
       "      <td>top</td>\n",
       "      <td>Direction générale des finances publiques (DGFIP)</td>\n",
       "      <td>Avis</td>\n",
       "      <td>31/12/2017</td>\n",
       "      <td>Communication, par envoi postal ou par courrie...</td>\n",
       "      <td>Travail Et Emploi / Emploi Public</td>\n",
       "      <td>Marché public</td>\n",
       "      <td>Favorable</td>\n",
       "      <td>III</td>\n",
       "      <td>Monsieur X, pour l’association Regards citoyen...</td>\n",
       "    </tr>\n",
       "    <tr>\n",
       "      <td>freq</td>\n",
       "      <td>1255</td>\n",
       "      <td>35562</td>\n",
       "      <td>1450</td>\n",
       "      <td>556</td>\n",
       "      <td>3025</td>\n",
       "      <td>1838</td>\n",
       "      <td>11407</td>\n",
       "      <td>31429</td>\n",
       "      <td>132</td>\n",
       "    </tr>\n",
       "  </tbody>\n",
       "</table>\n",
       "</div>"
      ],
      "text/plain": [
       "                                           Administration   Type      Séance  \\\n",
       "count                                               38286  38287       38287   \n",
       "unique                                              12850      3         569   \n",
       "top     Direction générale des finances publiques (DGFIP)   Avis  31/12/2017   \n",
       "freq                                                 1255  35562        1450   \n",
       "\n",
       "                                                    Objet  \\\n",
       "count                                               38270   \n",
       "unique                                              35334   \n",
       "top     Communication, par envoi postal ou par courrie...   \n",
       "freq                                                  556   \n",
       "\n",
       "                      Thème et sous thème      Mots clés Sens et motivation  \\\n",
       "count                               38206          33125              38271   \n",
       "unique                                828           3615               3094   \n",
       "top     Travail Et Emploi / Emploi Public  Marché public          Favorable   \n",
       "freq                                 3025           1838              11407   \n",
       "\n",
       "       Partie                                               Avis  \n",
       "count   36059                                              38286  \n",
       "unique      4                                              37519  \n",
       "top       III  Monsieur X, pour l’association Regards citoyen...  \n",
       "freq    31429                                                132  "
      ]
     },
     "execution_count": 7,
     "metadata": {},
     "output_type": "execute_result"
    }
   ],
   "source": [
    "df.describe(include = np.object)"
   ]
  },
  {
   "cell_type": "markdown",
   "metadata": {},
   "source": [
    "### Visualisation du nombre d'avis par année"
   ]
  },
  {
   "cell_type": "markdown",
   "metadata": {},
   "source": [
    "on crée une dataframe avec une ligne par année, la colonne count donne le nombre d'avis par année \n"
   ]
  },
  {
   "cell_type": "code",
   "execution_count": 8,
   "metadata": {},
   "outputs": [],
   "source": [
    "df[\"count\"] = 1\n",
    "dfg = df.groupby(\"Année\").agg(\"sum\").reset_index()"
   ]
  },
  {
   "cell_type": "code",
   "execution_count": 9,
   "metadata": {},
   "outputs": [
    {
     "data": {
      "text/plain": [
       "Text(0.5, 1.0, \"Nombre d'avis CADA par année\")"
      ]
     },
     "execution_count": 9,
     "metadata": {},
     "output_type": "execute_result"
    },
    {
     "data": {
      "image/png": "[encoded data removed]",
      "text/plain": [
       "<Figure size 1440x576 with 1 Axes>"
      ]
     },
     "metadata": {
      "needs_background": "light"
     },
     "output_type": "display_data"
    }
   ],
   "source": [
    "plt.figure(figsize=(20, 8))\n",
    "plt.plot(dfg['Année'], dfg['count'], 'b-')\n",
    "plt.xlabel('Année'); plt.ylabel(\"Nombre d'avis\"); plt.title(\"Nombre d'avis CADA par année\")"
   ]
  },
  {
   "cell_type": "markdown",
   "metadata": {},
   "source": [
    "On remarque qu'il y a très peu d'avais avant 2012, et donc que la majorité des avis sont pour la période 2012-2020\n",
    "Commbien d'avis sont compris dans cette période 2012-2020? "
   ]
  },
  {
   "cell_type": "code",
   "execution_count": 10,
   "metadata": {},
   "outputs": [
    {
     "name": "stdout",
     "output_type": "stream",
     "text": [
      "Nombre d'avis dans 20012-2020 :  35024\n",
      "Proportion d'avis dans 20012-2020 :  0.9147752500848852\n"
     ]
    }
   ],
   "source": [
    "print(\"Nombre d'avis dans 20012-2020 :  {}\".format(len(df[df[\"Année\"].isin(range(2012, 2020))])))\n",
    "print(\"Proportion d'avis dans 20012-2020 :  {}\".format(len(df[df[\"Année\"].isin(range(2012, 2020))])/len(df)))"
   ]
  },
  {
   "cell_type": "code",
   "execution_count": null,
   "metadata": {},
   "outputs": [],
   "source": []
  },
  {
   "cell_type": "markdown",
   "metadata": {},
   "source": [
    "# Partie 1 : topic extraction (non supervisé)\n"
   ]
  },
  {
   "cell_type": "markdown",
   "metadata": {},
   "source": [
    "## Un algorithme d'extraction de topiques: LDA (Latent Dirichlet Allocation) \n",
    "\n",
    "### ressource : article très pédagogique (en anglais) dont on s'inspire ici https://towardsdatascience.com/the-complete-guide-for-topics-extraction-in-python-a6aaa6cedbbc "
   ]
  },
  {
   "cell_type": "markdown",
   "metadata": {},
   "source": [
    "### A quoi sert cet algorithme?\n",
    " \n",
    "LDA est un algorithme d'extraction de topics. A partir d'un corpus de documents, il permet de : \n",
    "- définir un nombre de topics (un topic est caractérisé par une liste de mots)\n",
    "- attribuer à chaque document un ou des topics de la liste de topics trouvés par l'algorithme \n",
    "\n"
   ]
  },
  {
   "cell_type": "markdown",
   "metadata": {},
   "source": [
    "![illustration_LDA.png](./images/illustration_LDA.png)"
   ]
  },
  {
   "cell_type": "markdown",
   "metadata": {},
   "source": [
    "### Quel est l'intérêt pour l'analyse des données CADA? \n",
    "\n",
    "Dans le jeu de données, nous avons la colonne \"Thème et sous thème\". On se met dans la situation où on a perdu cette colonne (pour tout ou une partie des données). On a besoin d'avoir une idée des thématiques abordées dans les avis rendus par la CADA. Une analyse automatique nous permet de réaliser cet objectif. \n"
   ]
  },
  {
   "cell_type": "code",
   "execution_count": 11,
   "metadata": {},
   "outputs": [
    {
     "name": "stderr",
     "output_type": "stream",
     "text": [
      "[nltk_data] Downloading package stopwords to\n",
      "[nltk_data]     /Users/kimmontalibet/nltk_data...\n",
      "[nltk_data]   Package stopwords is already up-to-date!\n",
      "[nltk_data] Downloading package punkt to\n",
      "[nltk_data]     /Users/kimmontalibet/nltk_data...\n",
      "[nltk_data]   Package punkt is already up-to-date!\n"
     ]
    }
   ],
   "source": [
    "# Etape 0 : importation de la librairie avec l'algorithme \n",
    "#!pip install gensim si ce n'est pas déjà fait \n",
    "import nltk\n",
    "nltk.download('stopwords')\n",
    "nltk.download('punkt')\n",
    "from nltk.corpus import stopwords\n",
    "from nltk.tokenize import sent_tokenize, word_tokenize\n",
    "\n",
    "from gensim import models\n",
    "from gensim.models import Phrases\n",
    "from gensim import corpora"
   ]
  },
  {
   "cell_type": "markdown",
   "metadata": {},
   "source": [
    "#### Etape 1 :préparation et nettoyage des données textuelles \n",
    "\n",
    "- tokenization \n",
    "- supression de la ponctuation (pour certains cas d'usage, il peut cependant être utile de garder la ponctuation)\n"
   ]
  },
  {
   "cell_type": "markdown",
   "metadata": {},
   "source": [
    "Pour la tokenisation, nous l'avons déjà calculée dans la partie 1 (les tokens sont dans la colonne \"avis_word_token\". \n",
    "On supprime la ponctuation avec la commande ci-desous"
   ]
  },
  {
   "cell_type": "code",
   "execution_count": 14,
   "metadata": {},
   "outputs": [],
   "source": [
    "# on retire les Avis \"vides\"\n",
    "df = df.dropna(subset = [\"Avis\"]) \n",
    "# on tokenize \n",
    "df[\"avis_word_token\"] = df[\"Avis\"].map(lambda x : word_tokenize(x.replace(\"'\", \" \"))) # on remplace les appostrophes par un espaces\n",
    "# car la tokenization avec la fonction \"word_tokenize\" de nltk ne les sépare pas autrement \n",
    "df[\"avis_word_token\"] = df[\"avis_word_token\"].map(lambda list_word: [word.lower()  for word in list_word if word.isalpha()])"
   ]
  },
  {
   "cell_type": "markdown",
   "metadata": {},
   "source": [
    "On supprime les stopwords (les mots très courants et qui n'apporte pas d'information spécifique pour caractériser le thème du document)\n",
    "Pour cela, on utilise une liste prédéfinie de stopwords de la librairie nltk, que l'on complète avec un certain nombre de stopwords. \n"
   ]
  },
  {
   "cell_type": "code",
   "execution_count": 15,
   "metadata": {},
   "outputs": [
    {
     "name": "stdout",
     "output_type": "stream",
     "text": [
      "172\n"
     ]
    }
   ],
   "source": [
    "# création de la liste de stopwords\n",
    "custom_stopwords = [\"a\", \"dont\", \"madame\", \"monsieur\", \"peut\", \"dès\", \"lors\", \"être\", \"ce\",\n",
    "                    \"ces\", \"cet\", \"cette\", \"comme\", \"ainsi\", \"si\"]\n",
    "stopwords_fr = stopwords.words('french') + custom_stopwords\n",
    "print(len(stopwords_fr))\n",
    "#print(stopwords_fr)\n",
    "\n",
    "# on enlève les stopwords\n",
    "df[\"avis_word_token\"] = df[\"avis_word_token\"].map(lambda list_word: [word for word in list_word if word not in stopwords_fr])\n"
   ]
  },
  {
   "cell_type": "markdown",
   "metadata": {},
   "source": [
    "On regarde ce que ça donne (différence entre notre document initial et la liste des tokens \"netoyés\"). \n",
    "Vous pouvez changer le numero_doc (modifier le chiffre après le = ) et exécuter la cellule pour visualiser un autre document du corpus"
   ]
  },
  {
   "cell_type": "code",
   "execution_count": 16,
   "metadata": {},
   "outputs": [
    {
     "name": "stdout",
     "output_type": "stream",
     "text": [
      "Document initial\n",
      "La commission d'accès aux documents administratifs a examiné dans sa séance du 3 mars 1984 la demande dont vous l'avez saisie par lettre du 21 décembre 1983.\n",
      "\n",
      "La commission a émis un avis défavorable à la communication du dossier d'enquête relatif au refus de votre admission en qualité d'élève-officier de réserve interprète et du chiffre de la Marine, au motif qu'elle porterait atteinte au secret de la défense nationale, exception prévue par l'article 6 de la loi du 17 juillet 1978.\n",
      "\n",
      "\n",
      "Document tokénisé\n",
      "['commission', 'accès', 'documents', 'administratifs', 'examiné', 'séance', 'mars', 'demande', 'saisie', 'lettre', 'décembre', 'commission', 'émis', 'avis', 'défavorable', 'communication', 'dossier', 'enquête', 'relatif', 'refus', 'admission', 'qualité', 'réserve', 'interprète', 'chiffre', 'marine', 'motif', 'porterait', 'atteinte', 'secret', 'défense', 'nationale', 'exception', 'prévue', 'article', 'loi', 'juillet']\n",
      "\n",
      "\n",
      "Nombre de token dans le doc :37\n"
     ]
    }
   ],
   "source": [
    "numero_doc = 0\n",
    "\n",
    "print(\"Document initial\")\n",
    "print(df.loc[numero_doc, \"Avis\"])\n",
    "print(\"\\n\")\n",
    "print(\"Document tokénisé\")\n",
    "print(df.loc[numero_doc, \"avis_word_token\"])\n",
    "print(\"\\n\")\n",
    "print(\"Nombre de token dans le doc :{}\".format(len(df.loc[numero_doc, \"avis_word_token\"])))"
   ]
  },
  {
   "cell_type": "markdown",
   "metadata": {},
   "source": [
    "#### Etape 2: Entrainement de l'algorithme \n",
    "\n",
    "Dans l'étape ci-dessous, nous allons, à partir de notre liste de tokens netoyés, créer des bigrammes. Les bigrammes sont des paires de mots, qui peuvent être porteurs de sens et qui sont donc utile pour le topic extraction. \n"
   ]
  },
  {
   "cell_type": "code",
   "execution_count": 17,
   "metadata": {},
   "outputs": [],
   "source": [
    "# création des tokens avec bigrammes \n",
    "tokens = df['avis_word_token'].tolist()\n",
    "bigram_model = Phrases(tokens)\n",
    "tokens = list(bigram_model[tokens])"
   ]
  },
  {
   "cell_type": "markdown",
   "metadata": {},
   "source": [
    "Entrainement du modèle après avoir constitué: \n",
    "- le dictionnaire des mots du corpus (ici les tokens \"simples\" (monogrammes) et bigrammes )\n",
    "- le corpus au format spécique du modèle LDA de gensim "
   ]
  },
  {
   "cell_type": "code",
   "execution_count": 18,
   "metadata": {},
   "outputs": [
    {
     "name": "stdout",
     "output_type": "stream",
     "text": [
      "CPU times: user 3min 2s, sys: 1.21 s, total: 3min 3s\n",
      "Wall time: 1min 37s\n"
     ]
    }
   ],
   "source": [
    "dictionary_LDA = corpora.Dictionary(tokens)\n",
    "dictionary_LDA.filter_extremes(no_below=3)\n",
    "corpus = [dictionary_LDA.doc2bow(tok) for tok in tokens]\n",
    "\n",
    "\n",
    "\n",
    "# les inputs : le corpus de documents tokenizé et le dictionnaire \n",
    "# (liste des mots apparaissant dans le dictionnaire)\n",
    "\n",
    "np.random.seed(123456)\n",
    "num_topics = 15\n",
    "%time lda_model = models.LdaModel(corpus, num_topics=num_topics, \\\n",
    "                                  id2word=dictionary_LDA, \\\n",
    "                                  passes=4, alpha=[0.01]*num_topics, \\\n",
    "                                  eta=[0.01]*len(dictionary_LDA.keys()))"
   ]
  },
  {
   "cell_type": "markdown",
   "metadata": {},
   "source": [
    "#### Etape 3 : Visualisation des topics \n",
    "\n",
    "Dans un premier temps, on peut visualiser les topics de façon très \"brute\" sous forme de listes de termes qui caractérisent chaque topic. L'interprétation de ces topics demande une réfléxion \"humaine\" pour les rendre intelligibles. "
   ]
  },
  {
   "cell_type": "code",
   "execution_count": 19,
   "metadata": {},
   "outputs": [
    {
     "name": "stdout",
     "output_type": "stream",
     "text": [
      "0: 0.022*\"point\" + 0.017*\"document\" + 0.013*\"relations_entre\" + 0.010*\"suite\" + 0.009*\"réponse\" + 0.008*\"points\" + 0.008*\"droit\" + 0.008*\"avis\" + 0.008*\"agissant\" + 0.008*\"ministre\"\n",
      "\n",
      "1: 0.031*\"relations_entre\" + 0.023*\"personne\" + 0.022*\"mentions\" + 0.022*\"communicables\" + 0.018*\"porterait_atteinte\" + 0.018*\"estime\" + 0.017*\"préjudice\" + 0.016*\"privée\" + 0.016*\"communicable\" + 0.015*\"sécurité\"\n",
      "\n",
      "2: 0.035*\"droit\" + 0.022*\"dossier\" + 0.021*\"qualité\" + 0.020*\"médical\" + 0.016*\"santé_publique\" + 0.015*\"dossier_médical\" + 0.014*\"informations_médicales\" + 0.014*\"défunt\" + 0.014*\"demandeur\" + 0.014*\"personne_décédée\"\n",
      "\n",
      "3: 0.025*\"relations_entre\" + 0.023*\"maire\" + 0.020*\"fait\" + 0.019*\"toute_personne\" + 0.017*\"communicables\" + 0.014*\"commune\" + 0.014*\"émet_donc\" + 0.013*\"estime\" + 0.010*\"articles\" + 0.010*\"sous_réserve\"\n",
      "\n",
      "4: 0.039*\"dossier\" + 0.027*\"relations_entre\" + 0.019*\"communicables\" + 0.018*\"droit\" + 0.015*\"administratifs\" + 0.015*\"dispositions\" + 0.014*\"sécurité_sociale\" + 0.013*\"procédure_disciplinaire\" + 0.013*\"intéressé\" + 0.013*\"personne\"\n",
      "\n",
      "5: 0.038*\"santé_publique\" + 0.031*\"santé\" + 0.022*\"relations_entre\" + 0.018*\"professionnels_santé\" + 0.016*\"centre_hospitalier\" + 0.016*\"avis\" + 0.013*\"concernant\" + 0.012*\"médical\" + 0.012*\"opposé_directeur\" + 0.012*\"communicables\"\n",
      "\n",
      "6: 0.031*\"marché\" + 0.015*\"entreprises_non\" + 0.014*\"communicables\" + 0.014*\"entreprise_attributaire\" + 0.014*\"relations_entre\" + 0.013*\"secret_affaires\" + 0.013*\"offre\" + 0.012*\"mentions_relatives\" + 0.012*\"communicable\" + 0.011*\"publics\"\n",
      "\n",
      "7: 0.042*\"avis\" + 0.041*\"adressée\" + 0.041*\"réponse\" + 0.037*\"informé\" + 0.030*\"objet\" + 0.029*\"courrier\" + 0.028*\"présent_avis\" + 0.025*\"déclarer_sans\" + 0.025*\"articles\" + 0.023*\"relations_entre\"\n",
      "\n",
      "8: 0.023*\"électronique\" + 0.018*\"communicables\" + 0.017*\"relations_entre\" + 0.017*\"demandeur\" + 0.016*\"sans\" + 0.016*\"sous_forme\" + 0.012*\"document\" + 0.010*\"courrier\" + 0.010*\"administratifs\" + 0.009*\"place\"\n",
      "\n",
      "9: 0.027*\"service\" + 0.017*\"relations_entre\" + 0.015*\"entre\" + 0.014*\"administratifs\" + 0.013*\"personnes\" + 0.010*\"conseil\" + 0.009*\"autres\" + 0.009*\"droit_privé\" + 0.009*\"termes\" + 0.008*\"loi\"\n",
      "\n",
      "10: 0.022*\"relations_entre\" + 0.013*\"concernant\" + 0.013*\"agents\" + 0.011*\"communicables\" + 0.010*\"agent\" + 0.010*\"liste\" + 0.010*\"estime\" + 0.008*\"émet_donc\" + 0.008*\"point\" + 0.008*\"fait\"\n",
      "\n",
      "11: 0.064*\"environnement\" + 0.020*\"relations_entre\" + 0.017*\"dispositions\" + 0.017*\"articles\" + 0.017*\"éléments\" + 0.017*\"informations_relatives\" + 0.016*\"état\" + 0.013*\"droit\" + 0.011*\"toute_personne\" + 0.010*\"ii\"\n",
      "\n",
      "12: 0.020*\"dispositions\" + 0.018*\"informations\" + 0.011*\"objet\" + 0.010*\"loi\" + 0.010*\"fait\" + 0.010*\"relations_entre\" + 0.009*\"articles\" + 0.008*\"données_caractère\" + 0.007*\"conseil\" + 0.007*\"droit\"\n",
      "\n",
      "13: 0.018*\"conseil_départemental\" + 0.016*\"dossier\" + 0.014*\"patrimoine\" + 0.011*\"président\" + 0.010*\"cadre\" + 0.009*\"judiciaire\" + 0.009*\"enfant\" + 0.008*\"caractère\" + 0.008*\"dossiers\" + 0.008*\"administratif\"\n",
      "\n",
      "14: 0.029*\"toute_personne\" + 0.027*\"général_collectivités\" + 0.027*\"relations_entre\" + 0.024*\"conseil_municipal\" + 0.024*\"territoriales\" + 0.019*\"droit\" + 0.019*\"maire\" + 0.019*\"délibérations\" + 0.019*\"commune\" + 0.018*\"fait\"\n",
      "\n"
     ]
    }
   ],
   "source": [
    "# avec 15 topics \n",
    "for i,topic in lda_model.show_topics(formatted=True, num_topics=num_topics, num_words=10):\n",
    "    print(str(i)+\": \"+ topic)\n",
    "    print()"
   ]
  },
  {
   "cell_type": "markdown",
   "metadata": {},
   "source": [
    "Exemples d'interprétation des topics ci-dessus:\n",
    "- topic 0: difficile à interpréter, topic un peu \"fourre-tout\"\n",
    "- topic 1: relation entre administration et personnes privées\n",
    "- topic 2: dossiers médicaux \n",
    "- topic 3: mairie et conseil municipal \n",
    "- topic 4: sécurité sociale \n",
    "- topic 5: santé publique \n",
    "etc..."
   ]
  },
  {
   "cell_type": "markdown",
   "metadata": {},
   "source": [
    "#### Etape 4 : Attribution des topics aux documents \n"
   ]
  },
  {
   "cell_type": "code",
   "execution_count": 20,
   "metadata": {},
   "outputs": [
    {
     "name": "stdout",
     "output_type": "stream",
     "text": [
      "[(1, 0.20341153), (3, 0.24806829), (10, 0.07011849), (12, 0.17497297), (13, 0.29927886)]\n"
     ]
    }
   ],
   "source": [
    "# pour un document\n",
    "print(lda_model[corpus[0]])\n",
    "\n",
    "# pour tous les documents, on crée une colonne topic number \n",
    "df[\"topic_list\"] = [lda_model[i] for i in corpus]\n",
    "# la commande ci dessus nous permet, pour chaque document, d'obtenir une liste de topics avec les probabilités associées \n",
    "# que chaque document appartienne \n",
    "df[\"main_topic\"] = df[\"topic_list\"].map(lambda list_topic: list_topic[0][0])\n",
    "df[\"main_topic_proba\"] = df[\"topic_list\"].map(lambda list_topic: list_topic[0][1])"
   ]
  },
  {
   "cell_type": "code",
   "execution_count": 21,
   "metadata": {},
   "outputs": [
    {
     "data": {
      "text/html": [
       "<div>\n",
       "<style scoped>\n",
       "    .dataframe tbody tr th:only-of-type {\n",
       "        vertical-align: middle;\n",
       "    }\n",
       "\n",
       "    .dataframe tbody tr th {\n",
       "        vertical-align: top;\n",
       "    }\n",
       "\n",
       "    .dataframe thead th {\n",
       "        text-align: right;\n",
       "    }\n",
       "</style>\n",
       "<table border=\"1\" class=\"dataframe\">\n",
       "  <thead>\n",
       "    <tr style=\"text-align: right;\">\n",
       "      <th></th>\n",
       "      <th>Numéro de dossier</th>\n",
       "      <th>Administration</th>\n",
       "      <th>Type</th>\n",
       "      <th>Année</th>\n",
       "      <th>Séance</th>\n",
       "      <th>Objet</th>\n",
       "      <th>Thème et sous thème</th>\n",
       "      <th>Mots clés</th>\n",
       "      <th>Sens et motivation</th>\n",
       "      <th>Partie</th>\n",
       "      <th>Avis</th>\n",
       "      <th>count</th>\n",
       "      <th>avis_word_token</th>\n",
       "      <th>topic_list</th>\n",
       "      <th>main_topic</th>\n",
       "      <th>main_topic_proba</th>\n",
       "    </tr>\n",
       "  </thead>\n",
       "  <tbody>\n",
       "    <tr>\n",
       "      <td>0</td>\n",
       "      <td>19840002</td>\n",
       "      <td>ministre de la défense</td>\n",
       "      <td>Avis</td>\n",
       "      <td>1984</td>\n",
       "      <td>03/03/1984</td>\n",
       "      <td>[Voir avis]</td>\n",
       "      <td>Justice, Ordre Public Et Sécurité/Défense Et D...</td>\n",
       "      <td>Armée</td>\n",
       "      <td>Défavorable/Défense</td>\n",
       "      <td>III</td>\n",
       "      <td>La commission d'accès aux documents administra...</td>\n",
       "      <td>1</td>\n",
       "      <td>[commission, accès, documents, administratifs,...</td>\n",
       "      <td>[(1, 0.20349617), (3, 0.24827641), (10, 0.0700...</td>\n",
       "      <td>1</td>\n",
       "      <td>0.203496</td>\n",
       "    </tr>\n",
       "    <tr>\n",
       "      <td>1</td>\n",
       "      <td>19840003</td>\n",
       "      <td>ministre de la défense</td>\n",
       "      <td>Avis</td>\n",
       "      <td>1984</td>\n",
       "      <td>13/12/1984</td>\n",
       "      <td>[Voir avis]</td>\n",
       "      <td>Economie, Industrie, Agriculture/Secteurs Écon...</td>\n",
       "      <td>Armée</td>\n",
       "      <td>Irrecevable/Imprécise, Défavorable/Défense, In...</td>\n",
       "      <td>III</td>\n",
       "      <td>La commission d'accès aux documents administra...</td>\n",
       "      <td>1</td>\n",
       "      <td>[commission, accès, documents, administratifs,...</td>\n",
       "      <td>[(0, 0.25220433), (1, 0.047230873), (3, 0.1926...</td>\n",
       "      <td>0</td>\n",
       "      <td>0.252204</td>\n",
       "    </tr>\n",
       "    <tr>\n",
       "      <td>2</td>\n",
       "      <td>19850001</td>\n",
       "      <td>ministre de l'économie, des finances et du budget</td>\n",
       "      <td>Avis</td>\n",
       "      <td>1985</td>\n",
       "      <td>05/12/1985</td>\n",
       "      <td>[Voir avis]</td>\n",
       "      <td>Justice, Ordre Public Et Sécurité/Association,...</td>\n",
       "      <td>NaN</td>\n",
       "      <td>Défavorable</td>\n",
       "      <td>III</td>\n",
       "      <td>La commission d'accès aux documents administra...</td>\n",
       "      <td>1</td>\n",
       "      <td>[commission, accès, documents, administratifs,...</td>\n",
       "      <td>[(0, 0.1729052), (10, 0.39351776), (11, 0.1330...</td>\n",
       "      <td>0</td>\n",
       "      <td>0.172905</td>\n",
       "    </tr>\n",
       "    <tr>\n",
       "      <td>3</td>\n",
       "      <td>19860001</td>\n",
       "      <td>directeur départemental du travail et de l'emp...</td>\n",
       "      <td>Conseil</td>\n",
       "      <td>1986</td>\n",
       "      <td>30/01/1986</td>\n",
       "      <td>(voir avis)</td>\n",
       "      <td>Travail Et Emploi/Droit Du Travail</td>\n",
       "      <td>Licenciement, Conditions de travail</td>\n",
       "      <td>Défavorable/Procédure, Sans objet</td>\n",
       "      <td>III</td>\n",
       "      <td>La commission d'accès aux documents administra...</td>\n",
       "      <td>1</td>\n",
       "      <td>[commission, accès, documents, administratifs,...</td>\n",
       "      <td>[(3, 0.14169867), (4, 0.12759621), (10, 0.1081...</td>\n",
       "      <td>3</td>\n",
       "      <td>0.141699</td>\n",
       "    </tr>\n",
       "    <tr>\n",
       "      <td>4</td>\n",
       "      <td>19870061</td>\n",
       "      <td>gouverneur de la Banque de France</td>\n",
       "      <td>Avis</td>\n",
       "      <td>1987</td>\n",
       "      <td>02/04/1987</td>\n",
       "      <td>[Voir avis]</td>\n",
       "      <td>Economie, Industrie, Agriculture/Secteurs Écon...</td>\n",
       "      <td>Banques et assurances</td>\n",
       "      <td>Défavorable/Sécurité publique, Favorable/Sauf ...</td>\n",
       "      <td>III</td>\n",
       "      <td>La commission d'accès aux documents administra...</td>\n",
       "      <td>1</td>\n",
       "      <td>[commission, accès, documents, administratifs,...</td>\n",
       "      <td>[(0, 0.59537977), (1, 0.10921103), (3, 0.10284...</td>\n",
       "      <td>0</td>\n",
       "      <td>0.595380</td>\n",
       "    </tr>\n",
       "  </tbody>\n",
       "</table>\n",
       "</div>"
      ],
      "text/plain": [
       "   Numéro de dossier                                     Administration  \\\n",
       "0           19840002                             ministre de la défense   \n",
       "1           19840003                             ministre de la défense   \n",
       "2           19850001  ministre de l'économie, des finances et du budget   \n",
       "3           19860001  directeur départemental du travail et de l'emp...   \n",
       "4           19870061                  gouverneur de la Banque de France   \n",
       "\n",
       "      Type  Année      Séance        Objet  \\\n",
       "0     Avis   1984  03/03/1984  [Voir avis]   \n",
       "1     Avis   1984  13/12/1984  [Voir avis]   \n",
       "2     Avis   1985  05/12/1985  [Voir avis]   \n",
       "3  Conseil   1986  30/01/1986  (voir avis)   \n",
       "4     Avis   1987  02/04/1987  [Voir avis]   \n",
       "\n",
       "                                 Thème et sous thème  \\\n",
       "0  Justice, Ordre Public Et Sécurité/Défense Et D...   \n",
       "1  Economie, Industrie, Agriculture/Secteurs Écon...   \n",
       "2  Justice, Ordre Public Et Sécurité/Association,...   \n",
       "3                 Travail Et Emploi/Droit Du Travail   \n",
       "4  Economie, Industrie, Agriculture/Secteurs Écon...   \n",
       "\n",
       "                             Mots clés  \\\n",
       "0                                Armée   \n",
       "1                                Armée   \n",
       "2                                  NaN   \n",
       "3  Licenciement, Conditions de travail   \n",
       "4                Banques et assurances   \n",
       "\n",
       "                                  Sens et motivation Partie  \\\n",
       "0                                Défavorable/Défense    III   \n",
       "1  Irrecevable/Imprécise, Défavorable/Défense, In...    III   \n",
       "2                                        Défavorable    III   \n",
       "3                  Défavorable/Procédure, Sans objet    III   \n",
       "4  Défavorable/Sécurité publique, Favorable/Sauf ...    III   \n",
       "\n",
       "                                                Avis  count  \\\n",
       "0  La commission d'accès aux documents administra...      1   \n",
       "1  La commission d'accès aux documents administra...      1   \n",
       "2  La commission d'accès aux documents administra...      1   \n",
       "3  La commission d'accès aux documents administra...      1   \n",
       "4  La commission d'accès aux documents administra...      1   \n",
       "\n",
       "                                     avis_word_token  \\\n",
       "0  [commission, accès, documents, administratifs,...   \n",
       "1  [commission, accès, documents, administratifs,...   \n",
       "2  [commission, accès, documents, administratifs,...   \n",
       "3  [commission, accès, documents, administratifs,...   \n",
       "4  [commission, accès, documents, administratifs,...   \n",
       "\n",
       "                                          topic_list  main_topic  \\\n",
       "0  [(1, 0.20349617), (3, 0.24827641), (10, 0.0700...           1   \n",
       "1  [(0, 0.25220433), (1, 0.047230873), (3, 0.1926...           0   \n",
       "2  [(0, 0.1729052), (10, 0.39351776), (11, 0.1330...           0   \n",
       "3  [(3, 0.14169867), (4, 0.12759621), (10, 0.1081...           3   \n",
       "4  [(0, 0.59537977), (1, 0.10921103), (3, 0.10284...           0   \n",
       "\n",
       "   main_topic_proba  \n",
       "0          0.203496  \n",
       "1          0.252204  \n",
       "2          0.172905  \n",
       "3          0.141699  \n",
       "4          0.595380  "
      ]
     },
     "execution_count": 21,
     "metadata": {},
     "output_type": "execute_result"
    }
   ],
   "source": [
    "df.head()"
   ]
  },
  {
   "cell_type": "code",
   "execution_count": 22,
   "metadata": {},
   "outputs": [
    {
     "data": {
      "text/html": [
       "<div>\n",
       "<style scoped>\n",
       "    .dataframe tbody tr th:only-of-type {\n",
       "        vertical-align: middle;\n",
       "    }\n",
       "\n",
       "    .dataframe tbody tr th {\n",
       "        vertical-align: top;\n",
       "    }\n",
       "\n",
       "    .dataframe thead th {\n",
       "        text-align: right;\n",
       "    }\n",
       "</style>\n",
       "<table border=\"1\" class=\"dataframe\">\n",
       "  <thead>\n",
       "    <tr style=\"text-align: right;\">\n",
       "      <th></th>\n",
       "      <th>main_topic</th>\n",
       "      <th>nombre_documents</th>\n",
       "    </tr>\n",
       "  </thead>\n",
       "  <tbody>\n",
       "    <tr>\n",
       "      <td>0</td>\n",
       "      <td>0</td>\n",
       "      <td>18918</td>\n",
       "    </tr>\n",
       "    <tr>\n",
       "      <td>1</td>\n",
       "      <td>3</td>\n",
       "      <td>7281</td>\n",
       "    </tr>\n",
       "    <tr>\n",
       "      <td>2</td>\n",
       "      <td>1</td>\n",
       "      <td>5974</td>\n",
       "    </tr>\n",
       "    <tr>\n",
       "      <td>3</td>\n",
       "      <td>2</td>\n",
       "      <td>2005</td>\n",
       "    </tr>\n",
       "    <tr>\n",
       "      <td>4</td>\n",
       "      <td>4</td>\n",
       "      <td>1628</td>\n",
       "    </tr>\n",
       "    <tr>\n",
       "      <td>5</td>\n",
       "      <td>7</td>\n",
       "      <td>1346</td>\n",
       "    </tr>\n",
       "    <tr>\n",
       "      <td>6</td>\n",
       "      <td>5</td>\n",
       "      <td>666</td>\n",
       "    </tr>\n",
       "    <tr>\n",
       "      <td>7</td>\n",
       "      <td>6</td>\n",
       "      <td>211</td>\n",
       "    </tr>\n",
       "    <tr>\n",
       "      <td>8</td>\n",
       "      <td>9</td>\n",
       "      <td>104</td>\n",
       "    </tr>\n",
       "    <tr>\n",
       "      <td>9</td>\n",
       "      <td>10</td>\n",
       "      <td>78</td>\n",
       "    </tr>\n",
       "    <tr>\n",
       "      <td>10</td>\n",
       "      <td>8</td>\n",
       "      <td>42</td>\n",
       "    </tr>\n",
       "    <tr>\n",
       "      <td>11</td>\n",
       "      <td>14</td>\n",
       "      <td>20</td>\n",
       "    </tr>\n",
       "    <tr>\n",
       "      <td>12</td>\n",
       "      <td>11</td>\n",
       "      <td>6</td>\n",
       "    </tr>\n",
       "    <tr>\n",
       "      <td>13</td>\n",
       "      <td>12</td>\n",
       "      <td>5</td>\n",
       "    </tr>\n",
       "    <tr>\n",
       "      <td>14</td>\n",
       "      <td>13</td>\n",
       "      <td>2</td>\n",
       "    </tr>\n",
       "  </tbody>\n",
       "</table>\n",
       "</div>"
      ],
      "text/plain": [
       "    main_topic  nombre_documents\n",
       "0            0             18918\n",
       "1            3              7281\n",
       "2            1              5974\n",
       "3            2              2005\n",
       "4            4              1628\n",
       "5            7              1346\n",
       "6            5               666\n",
       "7            6               211\n",
       "8            9               104\n",
       "9           10                78\n",
       "10           8                42\n",
       "11          14                20\n",
       "12          11                 6\n",
       "13          12                 5\n",
       "14          13                 2"
      ]
     },
     "execution_count": 22,
     "metadata": {},
     "output_type": "execute_result"
    }
   ],
   "source": [
    "df[\"nombre_documents\"] = 1\n",
    "df_topic = df.groupby([\"main_topic\"])[\"nombre_documents\"].count().sort_values(ascending = False).reset_index()\n",
    "df_topic"
   ]
  },
  {
   "cell_type": "markdown",
   "metadata": {},
   "source": [
    "#### Etape 5 : Eventuellement retour à l'étape 1 (en modifiant les étapes de netoyages) et 2 (en testant différents paramètres, avec en particulier le nombre de topics)\n"
   ]
  },
  {
   "cell_type": "markdown",
   "metadata": {},
   "source": [
    "#### Etape 6: Visualisation interactive des topics avec la librairie pyLDAvis\n"
   ]
  },
  {
   "cell_type": "code",
   "execution_count": 23,
   "metadata": {},
   "outputs": [
    {
     "name": "stderr",
     "output_type": "stream",
     "text": [
      "/Users/kimmontalibet/opt/anaconda3/lib/python3.7/site-packages/past/builtins/misc.py:4: DeprecationWarning: Using or importing the ABCs from 'collections' instead of from 'collections.abc' is deprecated, and in 3.8 it will stop working\n",
      "  from collections import Mapping\n"
     ]
    }
   ],
   "source": [
    "\n",
    "%matplotlib inline\n",
    "# !pip install pyLDAvis\n",
    "import pyLDAvis\n",
    "import pyLDAvis.gensim\n"
   ]
  },
  {
   "cell_type": "code",
   "execution_count": 24,
   "metadata": {},
   "outputs": [
    {
     "name": "stdout",
     "output_type": "stream",
     "text": [
      "CPU times: user 7.88 ms, sys: 461 µs, total: 8.34 ms\n",
      "Wall time: 8.35 ms\n"
     ]
    },
    {
     "data": {
      "text/html": [
       "\n",
       "<link rel=\"stylesheet\" type=\"text/css\" href=\"https://cdn.rawgit.com/bmabey/pyLDAvis/files/ldavis.v1.0.0.css\">\n",
       "\n",
       "\n",
       "<div id=\"ldavis_el256041126816341287293598441\"></div>\n",
       "<script type=\"text/javascript\">\n",
       "\n",
       "var ldavis_el256041126816341287293598441_data = {\"mdsDat\": {\"x\": [-0.06604150157807677, -0.05023841426219363, 0.09052784702738384, -0.057719911380282984, -0.16360815665021555, -0.14331889146347987, -0.06718221500486574, -0.0016550704020923427, 0.15925847727929157, -0.10499145641824095, -0.08971241806674662, 0.057403913536001785, 0.19978921344532194, 0.010870237099101602, 0.22661834683909587], \"y\": [-0.12005519081557901, 0.16674723983777975, -0.1800307006365999, 0.009080978580784143, -0.05578282548937838, 0.13933568960418194, -0.033055836918976976, 0.020382590927594216, -0.08115764068047385, -0.16051119890223953, 0.0943944469215148, 0.15374757692620344, -0.0468722817820711, -0.04521314564156787, 0.13899029806882934], \"topics\": [1, 2, 3, 4, 5, 6, 7, 8, 9, 10, 11, 12, 13, 14, 15], \"cluster\": [1, 1, 1, 1, 1, 1, 1, 1, 1, 1, 1, 1, 1, 1, 1], \"Freq\": [12.712957382202148, 10.156085014343262, 9.168302536010742, 8.074921607971191, 8.056061744689941, 7.740643501281738, 7.093138217926025, 6.228691577911377, 5.031149864196777, 4.867067337036133, 4.789281845092773, 4.73336935043335, 4.462969779968262, 4.131950378417969, 2.7534117698669434]}, \"tinfo\": {\"Category\": [\"Default\", \"Default\", \"Default\", \"Default\", \"Default\", \"Default\", \"Default\", \"Default\", \"Default\", \"Default\", \"Default\", \"Default\", \"Default\", \"Default\", \"Default\", \"Default\", \"Default\", \"Default\", \"Default\", \"Default\", \"Default\", \"Default\", \"Default\", \"Default\", \"Default\", \"Default\", \"Default\", \"Default\", \"Default\", \"Default\", \"Topic1\", \"Topic1\", \"Topic1\", \"Topic1\", \"Topic1\", \"Topic1\", \"Topic1\", \"Topic1\", \"Topic1\", \"Topic1\", \"Topic1\", \"Topic1\", \"Topic1\", \"Topic1\", \"Topic1\", \"Topic1\", \"Topic1\", \"Topic1\", \"Topic1\", \"Topic1\", \"Topic1\", \"Topic1\", \"Topic1\", \"Topic1\", \"Topic1\", \"Topic1\", \"Topic1\", \"Topic1\", \"Topic1\", \"Topic1\", \"Topic1\", \"Topic1\", \"Topic1\", \"Topic1\", \"Topic1\", \"Topic1\", \"Topic1\", \"Topic1\", \"Topic1\", \"Topic1\", \"Topic1\", \"Topic1\", \"Topic1\", \"Topic1\", \"Topic1\", \"Topic1\", \"Topic1\", \"Topic1\", \"Topic1\", \"Topic1\", \"Topic1\", \"Topic1\", \"Topic1\", \"Topic1\", \"Topic1\", \"Topic1\", \"Topic1\", \"Topic1\", \"Topic1\", \"Topic1\", \"Topic1\", \"Topic1\", \"Topic1\", \"Topic1\", \"Topic1\", \"Topic1\", \"Topic1\", \"Topic1\", \"Topic1\", \"Topic1\", \"Topic1\", \"Topic1\", \"Topic1\", \"Topic1\", \"Topic1\", \"Topic1\", \"Topic1\", \"Topic1\", \"Topic1\", \"Topic1\", \"Topic1\", \"Topic1\", \"Topic2\", \"Topic2\", \"Topic2\", \"Topic2\", \"Topic2\", \"Topic2\", \"Topic2\", \"Topic2\", \"Topic2\", \"Topic2\", \"Topic2\", \"Topic2\", \"Topic2\", \"Topic2\", \"Topic2\", \"Topic2\", \"Topic2\", \"Topic2\", \"Topic2\", \"Topic2\", \"Topic2\", \"Topic2\", \"Topic2\", \"Topic2\", \"Topic2\", \"Topic2\", \"Topic2\", \"Topic2\", \"Topic2\", \"Topic2\", \"Topic2\", \"Topic2\", \"Topic2\", \"Topic2\", \"Topic2\", \"Topic2\", \"Topic2\", \"Topic2\", \"Topic2\", \"Topic2\", \"Topic2\", \"Topic2\", \"Topic2\", \"Topic2\", \"Topic2\", \"Topic2\", \"Topic2\", \"Topic2\", \"Topic2\", \"Topic2\", \"Topic2\", \"Topic2\", \"Topic2\", \"Topic2\", \"Topic2\", \"Topic2\", \"Topic2\", \"Topic2\", \"Topic2\", \"Topic2\", \"Topic2\", \"Topic2\", \"Topic2\", \"Topic2\", \"Topic2\", \"Topic2\", \"Topic2\", \"Topic2\", \"Topic2\", \"Topic2\", \"Topic2\", \"Topic2\", \"Topic2\", \"Topic3\", \"Topic3\", \"Topic3\", \"Topic3\", \"Topic3\", \"Topic3\", \"Topic3\", \"Topic3\", \"Topic3\", \"Topic3\", \"Topic3\", \"Topic3\", \"Topic3\", \"Topic3\", \"Topic3\", \"Topic3\", \"Topic3\", \"Topic3\", \"Topic3\", \"Topic3\", \"Topic3\", \"Topic3\", \"Topic3\", \"Topic3\", \"Topic3\", \"Topic3\", \"Topic3\", \"Topic3\", \"Topic3\", \"Topic3\", \"Topic3\", \"Topic3\", \"Topic3\", \"Topic3\", \"Topic3\", \"Topic3\", \"Topic3\", \"Topic3\", \"Topic3\", \"Topic3\", \"Topic3\", \"Topic3\", \"Topic3\", \"Topic3\", \"Topic3\", \"Topic3\", \"Topic3\", \"Topic3\", \"Topic3\", \"Topic3\", \"Topic3\", \"Topic3\", \"Topic3\", \"Topic3\", \"Topic3\", \"Topic3\", \"Topic3\", \"Topic3\", \"Topic3\", \"Topic3\", \"Topic3\", \"Topic3\", \"Topic3\", \"Topic3\", \"Topic3\", \"Topic3\", \"Topic3\", \"Topic3\", \"Topic3\", \"Topic3\", \"Topic3\", \"Topic3\", \"Topic3\", \"Topic3\", \"Topic3\", \"Topic3\", \"Topic3\", \"Topic3\", \"Topic3\", \"Topic3\", \"Topic4\", \"Topic4\", \"Topic4\", \"Topic4\", \"Topic4\", \"Topic4\", \"Topic4\", \"Topic4\", \"Topic4\", \"Topic4\", \"Topic4\", \"Topic4\", \"Topic4\", \"Topic4\", \"Topic4\", \"Topic4\", \"Topic4\", \"Topic4\", \"Topic4\", \"Topic4\", \"Topic4\", \"Topic4\", \"Topic4\", \"Topic4\", \"Topic4\", \"Topic4\", \"Topic4\", \"Topic4\", \"Topic4\", \"Topic4\", \"Topic4\", \"Topic4\", \"Topic4\", \"Topic4\", \"Topic4\", \"Topic4\", \"Topic4\", \"Topic4\", \"Topic4\", \"Topic4\", \"Topic4\", \"Topic4\", \"Topic4\", \"Topic4\", \"Topic4\", \"Topic4\", \"Topic4\", \"Topic4\", \"Topic4\", \"Topic4\", \"Topic4\", \"Topic4\", \"Topic4\", \"Topic4\", \"Topic4\", \"Topic4\", \"Topic4\", \"Topic4\", \"Topic4\", \"Topic4\", \"Topic4\", \"Topic4\", \"Topic4\", \"Topic4\", \"Topic4\", \"Topic4\", \"Topic4\", \"Topic4\", \"Topic4\", \"Topic4\", \"Topic4\", \"Topic5\", \"Topic5\", \"Topic5\", \"Topic5\", \"Topic5\", \"Topic5\", \"Topic5\", \"Topic5\", \"Topic5\", \"Topic5\", \"Topic5\", \"Topic5\", \"Topic5\", \"Topic5\", \"Topic5\", \"Topic5\", \"Topic5\", \"Topic5\", \"Topic5\", \"Topic5\", \"Topic5\", \"Topic5\", \"Topic5\", \"Topic5\", \"Topic5\", \"Topic5\", \"Topic5\", \"Topic5\", \"Topic5\", \"Topic5\", \"Topic5\", \"Topic5\", \"Topic5\", \"Topic5\", \"Topic5\", \"Topic5\", \"Topic5\", \"Topic5\", \"Topic5\", \"Topic5\", \"Topic5\", \"Topic5\", \"Topic5\", \"Topic5\", \"Topic5\", \"Topic5\", \"Topic5\", \"Topic5\", \"Topic5\", \"Topic5\", \"Topic5\", \"Topic5\", \"Topic5\", \"Topic6\", \"Topic6\", \"Topic6\", \"Topic6\", \"Topic6\", \"Topic6\", \"Topic6\", \"Topic6\", \"Topic6\", \"Topic6\", \"Topic6\", \"Topic6\", \"Topic6\", \"Topic6\", \"Topic6\", \"Topic6\", \"Topic6\", \"Topic6\", \"Topic6\", \"Topic6\", \"Topic6\", \"Topic6\", \"Topic6\", \"Topic6\", \"Topic6\", \"Topic6\", \"Topic6\", \"Topic6\", \"Topic6\", \"Topic6\", \"Topic6\", \"Topic6\", \"Topic6\", \"Topic6\", \"Topic6\", \"Topic6\", \"Topic6\", \"Topic6\", \"Topic6\", \"Topic6\", \"Topic6\", \"Topic6\", \"Topic6\", \"Topic6\", \"Topic6\", \"Topic6\", \"Topic6\", \"Topic6\", \"Topic6\", \"Topic6\", \"Topic6\", \"Topic6\", \"Topic6\", \"Topic6\", \"Topic6\", \"Topic6\", \"Topic6\", \"Topic6\", \"Topic6\", \"Topic6\", \"Topic6\", \"Topic6\", \"Topic6\", \"Topic6\", \"Topic6\", \"Topic6\", \"Topic6\", \"Topic6\", \"Topic6\", \"Topic6\", \"Topic6\", \"Topic6\", \"Topic6\", \"Topic6\", \"Topic6\", \"Topic6\", \"Topic6\", \"Topic6\", \"Topic6\", \"Topic6\", \"Topic6\", \"Topic6\", \"Topic7\", \"Topic7\", \"Topic7\", \"Topic7\", \"Topic7\", \"Topic7\", \"Topic7\", \"Topic7\", \"Topic7\", \"Topic7\", \"Topic7\", \"Topic7\", \"Topic7\", \"Topic7\", \"Topic7\", \"Topic7\", \"Topic7\", \"Topic7\", \"Topic7\", \"Topic7\", \"Topic7\", \"Topic7\", \"Topic7\", \"Topic7\", \"Topic7\", \"Topic7\", \"Topic7\", \"Topic7\", \"Topic7\", \"Topic7\", \"Topic7\", \"Topic7\", \"Topic7\", \"Topic7\", \"Topic7\", \"Topic7\", \"Topic7\", \"Topic7\", \"Topic7\", \"Topic7\", \"Topic7\", \"Topic7\", \"Topic7\", \"Topic7\", \"Topic7\", \"Topic7\", \"Topic7\", \"Topic7\", \"Topic7\", \"Topic7\", \"Topic7\", \"Topic7\", \"Topic7\", \"Topic7\", \"Topic7\", \"Topic7\", \"Topic7\", \"Topic7\", \"Topic7\", \"Topic7\", \"Topic7\", \"Topic7\", \"Topic7\", \"Topic7\", \"Topic7\", \"Topic7\", \"Topic7\", \"Topic7\", \"Topic7\", \"Topic7\", \"Topic7\", \"Topic8\", \"Topic8\", \"Topic8\", \"Topic8\", \"Topic8\", \"Topic8\", \"Topic8\", \"Topic8\", \"Topic8\", \"Topic8\", \"Topic8\", \"Topic8\", \"Topic8\", \"Topic8\", \"Topic8\", \"Topic8\", \"Topic8\", \"Topic8\", \"Topic8\", \"Topic8\", \"Topic8\", \"Topic8\", \"Topic8\", \"Topic8\", \"Topic8\", \"Topic8\", \"Topic8\", \"Topic8\", \"Topic8\", \"Topic8\", \"Topic8\", \"Topic8\", \"Topic8\", \"Topic8\", \"Topic8\", \"Topic8\", \"Topic8\", \"Topic8\", \"Topic8\", \"Topic8\", \"Topic8\", \"Topic8\", \"Topic8\", \"Topic8\", \"Topic8\", \"Topic8\", \"Topic8\", \"Topic8\", \"Topic8\", \"Topic8\", \"Topic8\", \"Topic8\", \"Topic8\", \"Topic8\", \"Topic8\", \"Topic8\", \"Topic8\", \"Topic8\", \"Topic8\", \"Topic8\", \"Topic8\", \"Topic8\", \"Topic8\", \"Topic8\", \"Topic8\", \"Topic8\", \"Topic8\", \"Topic8\", \"Topic8\", \"Topic9\", \"Topic9\", \"Topic9\", \"Topic9\", \"Topic9\", \"Topic9\", \"Topic9\", \"Topic9\", \"Topic9\", \"Topic9\", \"Topic9\", \"Topic9\", \"Topic9\", \"Topic9\", \"Topic9\", \"Topic9\", \"Topic9\", \"Topic9\", \"Topic9\", \"Topic9\", \"Topic9\", \"Topic9\", \"Topic9\", \"Topic9\", \"Topic9\", \"Topic9\", \"Topic9\", \"Topic9\", \"Topic9\", \"Topic9\", \"Topic9\", \"Topic9\", \"Topic9\", \"Topic9\", \"Topic9\", \"Topic9\", \"Topic9\", \"Topic9\", \"Topic9\", \"Topic9\", \"Topic9\", \"Topic9\", \"Topic9\", \"Topic9\", \"Topic9\", \"Topic9\", \"Topic9\", \"Topic9\", \"Topic9\", \"Topic9\", \"Topic9\", \"Topic9\", \"Topic9\", \"Topic9\", \"Topic9\", \"Topic9\", \"Topic9\", \"Topic9\", \"Topic9\", \"Topic9\", \"Topic9\", \"Topic9\", \"Topic9\", \"Topic10\", \"Topic10\", \"Topic10\", \"Topic10\", \"Topic10\", \"Topic10\", \"Topic10\", \"Topic10\", \"Topic10\", \"Topic10\", \"Topic10\", \"Topic10\", \"Topic10\", \"Topic10\", \"Topic10\", \"Topic10\", \"Topic10\", \"Topic10\", \"Topic10\", \"Topic10\", \"Topic10\", \"Topic10\", \"Topic10\", \"Topic10\", \"Topic10\", \"Topic10\", \"Topic10\", \"Topic10\", \"Topic10\", \"Topic10\", \"Topic10\", \"Topic10\", \"Topic10\", \"Topic10\", \"Topic10\", \"Topic10\", \"Topic10\", \"Topic10\", \"Topic10\", \"Topic10\", \"Topic10\", \"Topic10\", \"Topic10\", \"Topic10\", \"Topic10\", \"Topic10\", \"Topic10\", \"Topic10\", \"Topic10\", \"Topic10\", \"Topic10\", \"Topic10\", \"Topic10\", \"Topic10\", \"Topic10\", \"Topic10\", \"Topic10\", \"Topic10\", \"Topic10\", \"Topic10\", \"Topic10\", \"Topic10\", \"Topic10\", \"Topic10\", \"Topic10\", \"Topic10\", \"Topic10\", \"Topic10\", \"Topic11\", \"Topic11\", \"Topic11\", \"Topic11\", \"Topic11\", \"Topic11\", \"Topic11\", \"Topic11\", \"Topic11\", \"Topic11\", \"Topic11\", \"Topic11\", \"Topic11\", \"Topic11\", \"Topic11\", \"Topic11\", \"Topic11\", \"Topic11\", \"Topic11\", \"Topic11\", \"Topic11\", \"Topic11\", \"Topic11\", \"Topic11\", \"Topic11\", \"Topic11\", \"Topic11\", \"Topic11\", \"Topic11\", \"Topic11\", \"Topic11\", \"Topic11\", \"Topic11\", \"Topic11\", \"Topic11\", \"Topic11\", \"Topic11\", \"Topic11\", \"Topic11\", \"Topic11\", \"Topic11\", \"Topic11\", \"Topic11\", \"Topic11\", \"Topic11\", \"Topic11\", \"Topic11\", \"Topic11\", \"Topic11\", \"Topic11\", \"Topic11\", \"Topic11\", \"Topic11\", \"Topic11\", \"Topic11\", \"Topic11\", \"Topic11\", \"Topic11\", \"Topic12\", \"Topic12\", \"Topic12\", \"Topic12\", \"Topic12\", \"Topic12\", \"Topic12\", \"Topic12\", \"Topic12\", \"Topic12\", \"Topic12\", \"Topic12\", \"Topic12\", \"Topic12\", \"Topic12\", \"Topic12\", \"Topic12\", \"Topic12\", \"Topic12\", \"Topic12\", \"Topic12\", \"Topic12\", \"Topic12\", \"Topic12\", \"Topic12\", \"Topic12\", \"Topic12\", \"Topic12\", \"Topic12\", \"Topic12\", \"Topic12\", \"Topic12\", \"Topic12\", \"Topic12\", \"Topic12\", \"Topic12\", \"Topic12\", \"Topic12\", \"Topic12\", \"Topic12\", \"Topic12\", \"Topic12\", \"Topic12\", \"Topic12\", \"Topic12\", \"Topic12\", \"Topic12\", \"Topic12\", \"Topic12\", \"Topic12\", \"Topic12\", \"Topic12\", \"Topic12\", \"Topic12\", \"Topic12\", \"Topic12\", \"Topic12\", \"Topic12\", \"Topic12\", \"Topic12\", \"Topic12\", \"Topic12\", \"Topic12\", \"Topic12\", \"Topic12\", \"Topic12\", \"Topic13\", \"Topic13\", \"Topic13\", \"Topic13\", \"Topic13\", \"Topic13\", \"Topic13\", \"Topic13\", \"Topic13\", \"Topic13\", \"Topic13\", \"Topic13\", \"Topic13\", \"Topic13\", \"Topic13\", \"Topic13\", \"Topic13\", \"Topic13\", \"Topic13\", \"Topic13\", \"Topic13\", \"Topic13\", \"Topic13\", \"Topic13\", \"Topic13\", \"Topic13\", \"Topic13\", \"Topic13\", \"Topic13\", \"Topic13\", \"Topic13\", \"Topic13\", \"Topic13\", \"Topic13\", \"Topic13\", \"Topic13\", \"Topic13\", \"Topic13\", \"Topic13\", \"Topic13\", \"Topic13\", \"Topic13\", \"Topic13\", \"Topic13\", \"Topic13\", \"Topic13\", \"Topic13\", \"Topic13\", \"Topic13\", \"Topic13\", \"Topic13\", \"Topic13\", \"Topic13\", \"Topic13\", \"Topic13\", \"Topic13\", \"Topic13\", \"Topic13\", \"Topic13\", \"Topic13\", \"Topic13\", \"Topic13\", \"Topic13\", \"Topic14\", \"Topic14\", \"Topic14\", \"Topic14\", \"Topic14\", \"Topic14\", \"Topic14\", \"Topic14\", \"Topic14\", \"Topic14\", \"Topic14\", \"Topic14\", \"Topic14\", \"Topic14\", \"Topic14\", \"Topic14\", \"Topic14\", \"Topic14\", \"Topic14\", \"Topic14\", \"Topic14\", \"Topic14\", \"Topic14\", \"Topic14\", \"Topic14\", \"Topic14\", \"Topic14\", \"Topic14\", \"Topic14\", \"Topic14\", \"Topic14\", \"Topic14\", \"Topic14\", \"Topic14\", \"Topic14\", \"Topic14\", \"Topic14\", \"Topic14\", \"Topic14\", \"Topic14\", \"Topic14\", \"Topic14\", \"Topic14\", \"Topic14\", \"Topic14\", \"Topic14\", \"Topic14\", \"Topic14\", \"Topic14\", \"Topic14\", \"Topic14\", \"Topic14\", \"Topic14\", \"Topic14\", \"Topic14\", \"Topic14\", \"Topic14\", \"Topic14\", \"Topic15\", \"Topic15\", \"Topic15\", \"Topic15\", \"Topic15\", \"Topic15\", \"Topic15\", \"Topic15\", \"Topic15\", \"Topic15\", \"Topic15\", \"Topic15\", \"Topic15\", \"Topic15\", \"Topic15\", \"Topic15\", \"Topic15\", \"Topic15\", \"Topic15\", \"Topic15\", \"Topic15\", \"Topic15\", \"Topic15\", \"Topic15\", \"Topic15\", \"Topic15\", \"Topic15\", \"Topic15\", \"Topic15\", \"Topic15\", \"Topic15\", \"Topic15\", \"Topic15\", \"Topic15\", \"Topic15\", \"Topic15\", \"Topic15\", \"Topic15\", \"Topic15\", \"Topic15\", \"Topic15\", \"Topic15\", \"Topic15\", \"Topic15\", \"Topic15\", \"Topic15\", \"Topic15\", \"Topic15\", \"Topic15\", \"Topic15\", \"Topic15\", \"Topic15\", \"Topic15\", \"Topic15\", \"Topic15\", \"Topic15\", \"Topic15\"], \"Freq\": [13164.0, 19120.0, 15826.0, 23191.0, 28409.0, 21971.0, 10306.0, 8786.0, 28935.0, 23534.0, 9487.0, 25613.0, 14677.0, 14976.0, 36580.0, 8055.0, 13046.0, 22645.0, 7018.0, 7693.0, 14902.0, 6800.0, 25977.0, 16963.0, 16457.0, 9009.0, 18279.0, 7249.0, 16383.0, 76698.0, 1350.55126953125, 892.09033203125, 758.1732177734375, 730.2781982421875, 626.6050415039062, 625.1112670898438, 564.8058471679688, 544.4140014648438, 514.1275634765625, 467.5885314941406, 468.570556640625, 411.0244140625, 401.40228271484375, 397.61016845703125, 373.1560363769531, 333.3584899902344, 332.3481140136719, 312.4007568359375, 296.689697265625, 313.4775390625, 268.6600341796875, 255.19924926757812, 238.0751190185547, 230.56558227539062, 222.5695037841797, 219.81442260742188, 218.07522583007812, 204.65753173828125, 203.36761474609375, 255.8042449951172, 482.88751220703125, 849.9886474609375, 349.43792724609375, 243.10057067871094, 3618.6396484375, 927.1150512695312, 1014.9541015625, 460.1820983886719, 403.93218994140625, 846.9329223632812, 549.5330810546875, 797.8599853515625, 1699.52392578125, 592.9506225585938, 2554.333740234375, 1132.002685546875, 2521.021484375, 3171.5068359375, 12117.462890625, 1368.934814453125, 1047.3736572265625, 4647.16357421875, 7241.470703125, 888.4859619140625, 2539.56005859375, 10691.7890625, 9943.1064453125, 764.0599365234375, 7089.07080078125, 8925.1044921875, 1461.352294921875, 6664.79931640625, 4158.357421875, 12928.734375, 4046.844970703125, 4495.22021484375, 4436.060546875, 5026.98828125, 2792.663818359375, 4256.62841796875, 3139.751708984375, 5478.18701171875, 4541.83349609375, 2496.826416015625, 3692.229248046875, 2645.770263671875, 3852.167236328125, 3885.43994140625, 2309.003173828125, 2523.052978515625, 2594.197998046875, 2600.358642578125, 3382.54931640625, 1704.44482421875, 1066.0343017578125, 960.8762817382812, 821.0131225585938, 789.4136962890625, 918.87451171875, 739.6689453125, 682.124755859375, 669.2943725585938, 669.2943725585938, 667.2681274414062, 654.576416015625, 653.25634765625, 643.7481689453125, 637.1792602539062, 636.52978515625, 634.9259033203125, 635.0026245117188, 633.5245971679688, 631.7871704101562, 630.9269409179688, 609.4861450195312, 606.589599609375, 324.5494079589844, 297.9973449707031, 285.85040283203125, 277.81976318359375, 266.167236328125, 287.655029296875, 359.43115234375, 475.337646484375, 489.0804748535156, 414.8536376953125, 2152.39013671875, 908.128662109375, 1842.52978515625, 721.8572998046875, 891.5160522460938, 2819.991455078125, 2153.58837890625, 7537.7431640625, 1787.3912353515625, 1382.980712890625, 1977.968505859375, 2179.815673828125, 2616.673583984375, 2474.30322265625, 2179.22314453125, 8422.107421875, 988.4158325195312, 1176.0042724609375, 4256.994140625, 2141.282470703125, 1994.3553466796875, 4772.67529296875, 1824.5655517578125, 2627.123046875, 2616.744873046875, 2466.052978515625, 2257.840087890625, 1816.4920654296875, 4036.8271484375, 2050.815185546875, 3703.757080078125, 3037.4267578125, 3003.453369140625, 3995.350830078125, 2500.453369140625, 2202.052490234375, 1916.06640625, 2064.056396484375, 1989.60546875, 9486.669921875, 1226.03955078125, 691.8611450195312, 607.1473388671875, 462.5164489746094, 376.609130859375, 362.29522705078125, 282.7406311035156, 178.2921142578125, 166.0559539794922, 172.95254516601562, 152.8925018310547, 152.7718963623047, 149.13504028320312, 132.92022705078125, 124.57561492919922, 124.1083755493164, 109.50439453125, 108.11054992675781, 99.237060546875, 98.05610656738281, 135.4175262451172, 93.45628356933594, 90.73957824707031, 86.60842895507812, 82.79129791259766, 81.78282165527344, 79.6503677368164, 96.36406707763672, 77.80361938476562, 425.5777587890625, 580.9974975585938, 90.54700469970703, 408.0584716796875, 13764.548828125, 15615.88671875, 522.5167846679688, 309.5282897949219, 1335.533447265625, 1308.65771484375, 10918.5048828125, 10529.712890625, 15574.8037109375, 6325.56787109375, 15965.55078125, 1681.4796142578125, 8572.212890625, 2058.8203125, 11261.033203125, 1447.7674560546875, 1483.4031982421875, 1076.6929931640625, 1400.9840087890625, 6225.6611328125, 2257.248291015625, 7482.15087890625, 1477.2659912109375, 4591.78125, 9412.166015625, 1999.7081298828125, 2608.974853515625, 3313.78466796875, 2466.072021484375, 3415.036865234375, 3465.504150390625, 3200.859619140625, 3622.0712890625, 3063.648193359375, 4330.68017578125, 3525.1767578125, 8580.9609375, 3047.660888671875, 3498.860107421875, 4446.23388671875, 2959.5390625, 3027.847900390625, 3614.851318359375, 2932.92333984375, 3026.370849609375, 2994.63818359375, 2201.441650390625, 1929.058837890625, 1160.165283203125, 952.0558471679688, 936.3942260742188, 907.1152954101562, 906.0655517578125, 904.097900390625, 852.5320434570312, 851.7589721679688, 839.9529418945312, 839.9529418945312, 806.351806640625, 765.7051391601562, 726.8973999023438, 494.4013977050781, 457.5484313964844, 404.754150390625, 351.7857360839844, 309.4048767089844, 309.14825439453125, 305.33099365234375, 298.14080810546875, 291.8543395996094, 268.45208740234375, 264.7349548339844, 235.8195037841797, 213.73779296875, 201.75291442871094, 197.72740173339844, 901.1686401367188, 442.7027282714844, 2250.114501953125, 2071.24365234375, 1770.187255859375, 1607.7156982421875, 1258.2738037109375, 1106.1158447265625, 600.1869506835938, 1744.3662109375, 1375.4554443359375, 2046.4290771484375, 2573.3642578125, 7172.19384765625, 1034.136474609375, 1507.100830078125, 5743.12451171875, 1797.0609130859375, 2816.754638671875, 3205.47705078125, 1288.8226318359375, 1892.171630859375, 1839.4444580078125, 1546.9769287109375, 1573.776123046875, 2621.21923828125, 1426.37890625, 3119.9150390625, 4424.685546875, 2462.212158203125, 2780.56396484375, 2720.247802734375, 2387.2919921875, 2268.208740234375, 2468.16748046875, 1764.1182861328125, 2125.277099609375, 1857.582763671875, 1737.7620849609375, 1600.96728515625, 1623.0291748046875, 4816.61962890625, 4584.24609375, 3317.043701171875, 2974.490478515625, 2466.72265625, 2413.767822265625, 2366.45361328125, 2359.43701171875, 2298.790771484375, 2253.494384765625, 2123.52978515625, 2123.52978515625, 2123.09423828125, 2125.333740234375, 2126.340087890625, 2124.468505859375, 2124.91650390625, 2123.52978515625, 2066.68798828125, 2054.44091796875, 1919.950927734375, 1919.380859375, 1774.9844970703125, 1753.0013427734375, 1733.0513916015625, 1708.0927734375, 1667.0052490234375, 1644.4971923828125, 1617.7471923828125, 1539.377685546875, 10246.17578125, 2353.115478515625, 4412.564453125, 2564.67822265625, 2166.988037109375, 4139.93359375, 2091.55029296875, 4424.21337890625, 3653.309326171875, 2870.7431640625, 2670.40625, 3547.525146484375, 2282.008056640625, 3888.726318359375, 4764.22021484375, 4575.572265625, 3391.015625, 2512.83544921875, 2341.66943359375, 2215.281494140625, 2165.381103515625, 2207.679443359375, 2171.439208984375, 1474.09033203125, 1214.5447998046875, 869.07080078125, 458.4635925292969, 406.5887756347656, 594.9100341796875, 387.46563720703125, 358.3457946777344, 760.155029296875, 313.5361633300781, 299.74530029296875, 292.67095947265625, 256.02685546875, 247.0621795654297, 235.9346923828125, 233.9305877685547, 215.7323455810547, 196.3285675048828, 190.2814483642578, 176.80287170410156, 172.56939697265625, 161.7185516357422, 169.1903533935547, 149.73385620117188, 147.22268676757812, 144.6168670654297, 143.4168243408203, 139.96524047851562, 134.1468048095703, 133.62049865722656, 221.8506622314453, 348.0796813964844, 768.3980712890625, 1640.2401123046875, 1342.6201171875, 805.6069946289062, 2904.639892578125, 708.904296875, 350.05352783203125, 1125.869140625, 728.8527221679688, 712.639892578125, 527.4375, 477.36328125, 1222.5650634765625, 1951.3836669921875, 793.9046020507812, 2608.45458984375, 993.2863159179688, 917.4221801757812, 2232.874755859375, 793.4728393554688, 8446.8515625, 2021.08837890625, 4676.77001953125, 1404.4384765625, 1527.254150390625, 1037.2451171875, 2756.999755859375, 4173.51904296875, 1904.349609375, 2998.11767578125, 1357.976806640625, 1130.7386474609375, 4351.142578125, 1828.112060546875, 2663.777587890625, 3214.37548828125, 1655.0750732421875, 2317.741943359375, 2125.791748046875, 5271.90966796875, 2325.16162109375, 1863.875244140625, 1967.522216796875, 1756.6484375, 1841.8427734375, 2321.336181640625, 2227.5087890625, 1993.9423828125, 1816.9334716796875, 1722.30517578125, 1605.0841064453125, 949.1876220703125, 863.6939086914062, 844.0108642578125, 744.4205322265625, 588.6588134765625, 578.1875, 561.1541137695312, 560.7029418945312, 555.6878051757812, 538.1604614257812, 512.9021606445312, 494.6530456542969, 479.7749938964844, 476.8409118652344, 476.5730285644531, 474.8402404785156, 494.31256103515625, 471.5477600097656, 469.8759460449219, 468.2069091796875, 459.250732421875, 458.6568298339844, 451.714111328125, 451.865966796875, 428.2298889160156, 417.2738037109375, 410.3486022949219, 409.0003356933594, 405.99847412109375, 1013.3909301757812, 641.4827270507812, 3790.402587890625, 629.1185302734375, 1700.700439453125, 953.7395629882812, 594.0755615234375, 1098.847900390625, 2914.159912109375, 780.3119506835938, 3006.082763671875, 655.9872436523438, 2086.88916015625, 2163.236083984375, 623.0994262695312, 821.1689453125, 1606.4410400390625, 3899.558349609375, 6348.4482421875, 1302.0404052734375, 1369.1624755859375, 1302.3663330078125, 2906.16015625, 808.5933837890625, 2327.028564453125, 2478.857421875, 3086.591796875, 1387.98681640625, 2161.4267578125, 2295.405029296875, 1780.7283935546875, 1591.1610107421875, 1701.0870361328125, 1802.9029541015625, 1811.0318603515625, 1133.878662109375, 1336.694091796875, 1356.515625, 1272.8095703125, 1256.266357421875, 1206.8048095703125, 2749.29443359375, 1657.3760986328125, 1501.6846923828125, 1266.672607421875, 978.55859375, 976.8427734375, 460.88665771484375, 289.3468017578125, 282.8402099609375, 275.3300476074219, 230.1003875732422, 151.16233825683594, 150.8789825439453, 140.97422790527344, 137.49127197265625, 135.1389617919922, 129.0941619873047, 106.01580047607422, 101.692626953125, 99.22760772705078, 82.70841217041016, 81.76492309570312, 79.14612579345703, 76.5440444946289, 75.65222930908203, 73.11896514892578, 57.291954040527344, 55.26301956176758, 53.23530960083008, 50.92433547973633, 3170.310302734375, 808.5233154296875, 4357.93701171875, 507.8390808105469, 2604.8544921875, 1588.8541259765625, 3529.336669921875, 3078.519775390625, 4684.27587890625, 5755.90380859375, 1818.3055419921875, 1935.3677978515625, 526.13427734375, 564.842041015625, 3920.03857421875, 2303.149658203125, 4032.7841796875, 564.7855834960938, 877.27392578125, 1083.0504150390625, 3894.937255859375, 5783.67041015625, 3006.185302734375, 3999.348876953125, 2764.6875, 5611.36767578125, 4598.1552734375, 7839.68896484375, 3892.792724609375, 2684.951171875, 3366.050048828125, 3186.893310546875, 2087.341796875, 2762.328125, 2614.521484375, 2335.383056640625, 2158.809326171875, 2163.107177734375, 2134.573486328125, 2788.197265625, 2603.25537109375, 2459.604248046875, 2208.9189453125, 1678.7947998046875, 1599.703857421875, 1576.4273681640625, 1185.225341796875, 1181.0025634765625, 1092.63916015625, 1019.5526123046875, 960.5230102539062, 958.08349609375, 927.5841064453125, 909.2008666992188, 898.3341064453125, 874.0921020507812, 865.277099609375, 535.6563110351562, 521.0276489257812, 510.0430908203125, 457.70135498046875, 441.80133056640625, 430.92529296875, 429.9819030761719, 407.5245666503906, 386.253662109375, 382.38641357421875, 378.968017578125, 378.2493896484375, 511.47119140625, 2854.757568359375, 1522.466552734375, 1137.99609375, 945.6649169921875, 1847.414306640625, 1033.6883544921875, 1336.3153076171875, 1592.21875, 1836.343505859375, 791.3601684570312, 7969.06396484375, 844.9532470703125, 1026.854736328125, 2192.369384765625, 2780.551513671875, 2560.8896484375, 1589.68505859375, 3776.18896484375, 5624.5224609375, 1507.21142578125, 3924.894775390625, 3134.847412109375, 3080.78466796875, 2628.11083984375, 2131.734130859375, 1752.1702880859375, 1987.768798828125, 2105.6298828125, 1796.450439453125, 1710.838623046875, 1530.477783203125, 1538.9720458984375, 1999.283935546875, 1722.2200927734375, 1149.9346923828125, 1030.5638427734375, 1028.0948486328125, 1026.522705078125, 1012.5413208007812, 966.7628173828125, 960.4421997070312, 943.6537475585938, 911.4818725585938, 885.0174560546875, 425.2012939453125, 339.07080078125, 257.4088439941406, 258.4408264160156, 250.8181610107422, 244.83465576171875, 242.96009826660156, 220.45372009277344, 218.1335906982422, 193.388427734375, 132.94271850585938, 122.15164947509766, 113.78470611572266, 110.00396728515625, 108.61882019042969, 107.5548324584961, 103.5033950805664, 93.41345977783203, 2602.8017578125, 396.95745849609375, 1087.442138671875, 922.4887084960938, 307.6329040527344, 284.1512756347656, 2484.978759765625, 1911.058349609375, 3763.535888671875, 4893.935546875, 5475.4462890625, 793.7835083007812, 4832.81396484375, 1049.1082763671875, 492.7733459472656, 3381.856201171875, 2401.744140625, 1724.029296875, 2474.511474609375, 1137.1085205078125, 1991.2799072265625, 5854.54638671875, 3736.337646484375, 1491.0599365234375, 3853.82373046875, 3873.2978515625, 1953.2232666015625, 5324.39697265625, 3504.9736328125, 2807.27392578125, 1298.659912109375, 1946.42138671875, 1208.27294921875, 1222.8770751953125, 1244.7020263671875, 1411.8858642578125, 1290.2596435546875, 1238.3570556640625, 1563.6004638671875, 1300.8726806640625, 1253.665283203125, 1249.8870849609375, 1228.48388671875, 1168.634765625, 1069.9093017578125, 1067.6378173828125, 860.5521850585938, 833.12451171875, 824.4060668945312, 816.5499877929688, 774.9273681640625, 728.9508666992188, 685.91943359375, 622.6639404296875, 620.4920043945312, 611.574462890625, 609.4982299804688, 605.697265625, 600.8925170898438, 600.8925170898438, 600.8925170898438, 600.7535400390625, 600.8925170898438, 583.2158813476562, 526.2766723632812, 482.9346618652344, 469.5266418457031, 456.6740417480469, 1767.5399169921875, 12518.94921875, 661.5799560546875, 1191.650634765625, 3290.892333984375, 1191.278564453125, 3328.009033203125, 1576.4735107421875, 1758.7958984375, 3164.600830078125, 1166.5135498046875, 1891.7906494140625, 3427.929931640625, 1511.624267578125, 3380.612548828125, 1632.2943115234375, 4002.345947265625, 2485.119384765625, 1771.315673828125, 2193.999267578125, 1560.5643310546875, 1146.36376953125, 1479.921142578125, 1560.8690185546875, 1533.7392578125, 1389.1131591796875, 1361.3447265625, 1318.126708984375, 1844.6036376953125, 1004.889892578125, 900.9672241210938, 696.7847900390625, 658.8052978515625, 610.642578125, 534.266357421875, 521.32177734375, 505.14166259765625, 435.4967041015625, 417.96087646484375, 425.43505859375, 376.1570739746094, 367.07891845703125, 341.2972717285156, 338.10479736328125, 329.24554443359375, 325.5005187988281, 314.4989929199219, 314.4480285644531, 297.1311950683594, 294.8493957519531, 288.9139099121094, 287.12646484375, 285.8269348144531, 282.793212890625, 281.16351318359375, 264.9714660644531, 250.78895568847656, 239.17481994628906, 1474.07470703125, 3519.881103515625, 2676.722412109375, 907.5374145507812, 623.69287109375, 1789.96728515625, 604.7174682617188, 842.5012817382812, 1213.21240234375, 1217.708740234375, 665.2261352539062, 670.7327880859375, 1083.057861328125, 646.4784545898438, 663.3665161132812, 733.9224243164062, 1545.642578125, 1277.9017333984375, 882.0525512695312, 1619.1922607421875, 2134.947021484375, 3030.651123046875, 1445.2130126953125, 1935.0433349609375, 1508.874267578125, 1211.8431396484375, 1056.1817626953125, 877.8710327148438, 1185.29150390625, 1220.7978515625, 1048.2216796875, 938.6720581054688, 950.9642333984375, 1017.0315551757812, 899.546875, 881.7076416015625, 3251.28564453125, 1488.6575927734375, 1419.8876953125, 1279.3599853515625, 1165.1458740234375, 1139.2894287109375, 1081.798583984375, 1045.140380859375, 1027.4375, 1021.7021484375, 1020.4490966796875, 889.8939819335938, 887.0612182617188, 858.9461059570312, 855.375, 853.570068359375, 820.4933471679688, 816.255126953125, 804.9699096679688, 589.5313720703125, 580.9356689453125, 580.0681762695312, 574.7893676757812, 565.1170654296875, 556.7753295898438, 434.6639709472656, 426.22589111328125, 392.395263671875, 358.3066711425781, 353.79248046875, 398.2203369140625, 601.6732177734375, 980.537841796875, 2008.12353515625, 1028.135009765625, 5703.47265625, 6959.6171875, 1156.3858642578125, 954.2022094726562, 3003.590087890625, 1117.0341796875, 850.642822265625, 1251.2559814453125, 1889.0272216796875, 2181.0927734375, 1675.610107421875, 2130.588134765625, 2857.552978515625, 1899.578125, 3968.468017578125, 2455.7421875, 1825.8148193359375, 2129.536376953125, 1837.7701416015625, 1461.7745361328125, 1550.9466552734375, 1239.5322265625, 1363.085205078125, 1467.6817626953125, 1250.8553466796875, 1297.217041015625, 1250.9049072265625, 1233.5982666015625, 1395.2642822265625, 1369.4649658203125, 1354.6673583984375, 1340.547607421875, 1313.7689208984375, 1282.065673828125, 1267.348876953125, 1257.0601806640625, 1252.6494140625, 1253.109130859375, 1250.7825927734375, 1228.15771484375, 1377.740966796875, 1201.119873046875, 1162.56884765625, 568.0587158203125, 564.1386108398438, 554.8414916992188, 546.5008544921875, 519.6956787109375, 511.297607421875, 510.8412170410156, 510.0118103027344, 509.05255126953125, 506.47802734375, 487.5694885253906, 435.6116027832031, 432.1459045410156, 405.6025390625, 402.91644287109375, 607.8255615234375, 468.5971984863281, 931.6478881835938, 1352.640869140625, 888.7708740234375, 637.0104370117188, 2713.670166015625, 874.7702026367188, 1452.3966064453125, 3918.0966796875, 609.5819091796875, 2725.473876953125, 671.1246337890625, 1233.96728515625, 2858.495361328125, 1159.12255859375, 903.4752197265625, 982.1386108398438, 3059.884033203125, 1956.7301025390625, 2931.419677734375, 1773.60302734375, 1382.9268798828125, 1694.046142578125, 1269.5184326171875, 1419.0938720703125, 1336.1505126953125, 1364.2127685546875, 1618.0760498046875, 1553.398681640625, 1473.7535400390625, 1400.4132080078125, 1123.79296875, 929.2653198242188, 919.7999877929688, 1637.3192138671875, 662.1268920898438, 610.3275146484375, 548.05029296875, 545.7024536132812, 505.468017578125, 499.9334716796875, 489.4234619140625, 488.1573791503906, 486.9267578125, 484.6082763671875, 484.3208312988281, 482.71405029296875, 464.96453857421875, 436.6334533691406, 403.2029113769531, 374.1960144042969, 359.2862854003906, 331.38079833984375, 331.04327392578125, 329.9226379394531, 327.09649658203125, 324.143310546875, 500.128662109375, 438.2021789550781, 602.8782958984375, 2409.029541015625, 1707.880126953125, 2229.669677734375, 672.2996215820312, 3972.533447265625, 620.016357421875, 1826.1676025390625, 753.5075073242188, 2531.8466796875, 1528.5841064453125, 1558.920166015625, 1125.690673828125, 968.6555786132812, 1296.5216064453125, 992.4661254882812, 1043.241943359375, 1038.3214111328125, 1033.8106689453125, 661.9615478515625, 857.33935546875, 797.54541015625, 752.2636108398438, 703.254150390625, 677.7261352539062], \"Term\": [\"environnement\", \"adress\\u00e9e\", \"inform\\u00e9\", \"dossier\", \"avis\", \"maire\", \"march\\u00e9\", \"sant\\u00e9_publique\", \"droit\", \"r\\u00e9ponse\", \"d\\u00e9clarer_sans\", \"toute_personne\", \"courrier\", \"pr\\u00e9sent_avis\", \"communicables\", \"g\\u00e9n\\u00e9ral_collectivit\\u00e9s\", \"commune\", \"objet\", \"sant\\u00e9\", \"territoriales\", \"ma\\u00eetre\", \"conseil_municipal\", \"dispositions\", \"personne\", \"point\", \"\\u00e9lectronique\", \"service\", \"mentions\", \"demandeur\", \"relations_entre\", \"commande_publique\", \"principe_unit\\u00e9\", \"applique_tous\", \"d\\u00e9claration_pr\\u00e9alable\", \"contient_\\u00e9manent\", \"p\\u00e9titionnaire_\\u00e9labor\\u00e9s\", \"d\\u00e9cision_effectivement\", \"existaient\", \"vu_duquel\", \"adresse_suivante\", \"chemin\", \"frais_acquitter\", \"d\\u00e9cision_expresse\", \"raisonnable\", \"domaine_priv\\u00e9\", \"frais_calcul\\u00e9s\", \"office_fran\\u00e7ais\", \"c\\u00f4te\", \"construire\", \"zac\", \"pc\", \"lecture\", \"parking\", \"rapportent_gestion\", \"figurer_dossier\", \"contradictoire\", \"aviation_civile\", \"droit_pr\\u00e9emption\", \"chsct\", \"terrains\", \"terrain\", \"parcelle\", \"actes_notari\\u00e9s\", \"pr\\u00e9l\\u00e8vements\", \"permis_construire\", \"d\\u00e9livr\\u00e9\", \"parcelles\", \"circulation\", \"gestion_domaine\", \"autorisations\", \"propri\\u00e9t\\u00e9\", \"plans\", \"plan\", \"application_quatri\\u00e8me\", \"travaux\", \"am\\u00e9nagement\", \"urbanisme\", \"projet\", \"maire\", \"prises\", \"domaine\", \"arr\\u00eat\\u00e9\", \"commune\", \"accompagn\\u00e9e_pr\\u00e9sent\", \"autorisation\", \"fait\", \"toute_personne\", \"construction\", \"\\u00e9met_donc\", \"communicables\", \"mairie\", \"estime\", \"absence_r\\u00e9ponse\", \"relations_entre\", \"agissant\", \"suivants\", \"point\", \"sous_r\\u00e9serve\", \"points\", \"copie\", \"relatifs\", \"articles\", \"administratifs\", \"territoriales\", \"concernant\", \"date\", \"dossier\", \"avis\", \"g\\u00e9n\\u00e9ral_collectivit\\u00e9s\", \"sollicit\\u00e9s\", \"ma\\u00eetre\", \"communicable\", \"donn\\u00e9es_caract\\u00e8re\", \"r\\u00e9utilisation_informations\", \"administrations_mentionn\\u00e9es\", \"publication_ligne\", \"relative_informatique\", \"fichiers_libert\\u00e9s\", \"donn\\u00e9es_personnelles\", \"haute_autorit\\u00e9\", \"besoins_laquelle\", \"fins_celles\", \"souhaite_autres\", \"peuvent_utilis\\u00e9es\", \"publiques_comportant\", \"derni\\u00e8re_mise\", \"publiques_soumise\", \"personnel_subordonn\\u00e9e\", \"alt\\u00e9r\\u00e9es_sens\", \"d\\u00e9natur\\u00e9_leurs\", \"sources_date\", \"jour_mentionn\\u00e9es\", \"limites_conditions\", \"condition_derni\\u00e8res\", \"pr\\u00e9voit_sauf\", \"r\\u00e9utilisation_d\\u00e9finies\", \"personnes_d\\u00e9c\\u00e9d\\u00e9es\", \"caract\\u00e8re_personnel\", \"nationale_informatique\", \"libert\\u00e9s\", \"propri\\u00e9t\\u00e9_intellectuelle\", \"europ\\u00e9en_conseil\", \"identification_personnes\", \"base_donn\\u00e9es\", \"r\\u00e9utilisation\", \"fichier\", \"administratifs_examin\\u00e9\", \"informations_contenues\", \"relative_caract\\u00e8re\", \"ferait\", \"dispositions_l\\u00e9gislatives\", \"faire\", \"traitement\", \"informations\", \"peuvent\", \"premier_alin\\u00e9a\", \"mise_\\u0153uvre\", \"pr\\u00e9voit\", \"prise\", \"s\\u00e9ance\", \"donn\\u00e9es\", \"dispositions\", \"dispositions_pr\\u00e9cit\\u00e9es\", \"personnes_physiques\", \"loi\", \"lorsque\", \"publiques\", \"objet\", \"pr\\u00e9vu\", \"cas_\\u00e9ch\\u00e9ant\", \"titre\", \"rel\\u00e8ve\", \"sans\", \"nom\", \"fait\", \"fondement\", \"articles\", \"conseil\", \"droit\", \"relations_entre\", \"personne\", \"consid\\u00e8re\", \"sens\", \"administratifs\", \"communicable\", \"d\\u00e9clarer_sans\", \"visa\", \"enfant_mineur\", \"copie_relev\\u00e9s\", \"savoir_conna\\u00eetre\", \"communes_membres\", \"centre_d\\u00e9tention\", \"lettre_recommand\\u00e9e\", \"locations\", \"personnes_handicap\\u00e9es\", \"devenue_sans\", \"naturalisation\", \"pau\", \"samu\", \"pr\\u00e9senterait_risque\", \"cr\\u00e9teil\", \"appel_t\\u00e9l\\u00e9phonique\", \"certificat_nationalit\\u00e9\", \"enregistr\\u00e9\", \"circonstances_d\\u00e9c\\u00e8s\", \"caisse_r\\u00e9gionale\", \"urgences\", \"mises_demeure\", \"commissariat\", \"t\\u00e9l\\u00e9grammes\", \"comit\\u00e9s_techniques\", \"d\\u00e9claration_attestant\", \"fer\", \"union_d\\u00e9partementale\", \"pr\\u00e9fet_var\", \"strasbourg\", \"centre_p\\u00e9nitentiaire\", \"chemin_rural\", \"pr\\u00e9sident_tribunal\", \"inform\\u00e9\", \"adress\\u00e9e\", \"accus\\u00e9_r\\u00e9ception\", \"parcelles_cadastr\\u00e9es\", \"ministre_justice\", \"garde_sceaux\", \"courrier\", \"pr\\u00e9sent_avis\", \"r\\u00e9ponse\", \"transmis\", \"avis\", \"adress\\u00e9\", \"ma\\u00eetre\", \"client\", \"objet\", \"justice\", \"communiqu\\u00e9s\", \"xxx_xxx\", \"ministre_int\\u00e9rieur\", \"juillet\", \"paris\", \"copie\", \"communiqu\\u00e9\", \"juin\", \"articles\", \"sans_objet\", \"document_sollicit\\u00e9\", \"septembre\", \"ao\\u00fbt\", \"date\", \"octobre\", \"novembre\", \"oppos\\u00e9_directeur\", \"f\\u00e9vrier\", \"demandeur\", \"mars\", \"relations_entre\", \"mai\", \"sollicit\\u00e9s\", \"maire\", \"\\u00e9lectronique\", \"avril\", \"conseil\", \"janvier\", \"dossier\", \"concernant\", \"fait_obligation\", \"obtenus_traitement\", \"assembl\\u00e9es_parlementaires\", \"\\u00e9ventuellement_d\\u00e9tenus\", \"\\u00e9tablir_document\", \"proc\\u00e9der_recherches\", \"renseignements_information\", \"vue_procurer\", \"septembre_ordres\", \"avocats_lyon\", \"ignominie_d\\u00e9saffection\", \"animaux_victimes\", \"r\\u00e9pondre_demandes\", \"faire_peser\", \"recueil_page\", \"membres_gouvernement\", \"afin_garantir\", \"souhait\\u00e9s\", \"perturber_fonctionnement\", \"consid\\u00e9r\\u00e9e_abusive\", \"fa\\u00e7on_d\\u00e9lib\\u00e9r\\u00e9e\", \"lorsqu_vise\", \"abusif\", \"abusive\", \"tenue_donner\", \"incapacit\\u00e9_mat\\u00e9rielle\", \"quartier\", \"pi\\u00e8ces_manquantes\", \"n\\u00eemes\", \"affaires_sociales\", \"association_d\\u00e9fense\", \"dossiers_rapports\", \"automatis\\u00e9_usage\", \"courant\", \"traitement_automatis\\u00e9\", \"usage_courant\", \"irrecevable\", \"prend_acte\", \"honneur\", \"premier_ministre\", \"cabinet\", \"d\\u00e9clarer\", \"ministre\", \"point\", \"euros\", \"prononcer\", \"document\", \"existe\", \"points\", \"suite\", \"minist\\u00e8re\", \"mesure\", \"ann\\u00e9e\", \"demandes\", \"sans_objet\", \"agissant\", \"mentionn\\u00e9s_points\", \"r\\u00e9ponse\", \"relations_entre\", \"\\u00e9tat\", \"droit\", \"avis\", \"adress\\u00e9e\", \"demandeur\", \"fait\", \"rapport\", \"administratifs\", \"objet\", \"service\", \"part\", \"suivants\", \"entreprises_non\", \"entreprise_attributaire\", \"offres\", \"prix_unitaires\", \"prot\\u00e9g\\u00e9_dispositions\", \"doit_toutefois\", \"personne_fait\", \"exercer_respect\", \"b\\u00e9n\\u00e9ficient_tant\", \"retenues_toute\", \"parties_certificats\", \"qualification_concernant\", \"prestation_demand\\u00e9e\", \"syst\\u00e8me_qualit\\u00e9\", \"concernant_chiffre\", \"affaires_coordonn\\u00e9es\", \"humains_certification\", \"certifications_tierces\", \"bancaires_r\\u00e9f\\u00e9rences\", \"appel_offres\", \"rappelle_fois\", \"attributaire\", \"d\\u00e9tails_techniques\", \"rapport_analyse\", \"financiers_offres\", \"analyse_offres\", \"correspondent_march\\u00e9s\", \"d\\u00e9composition_prix\", \"regard_respect\", \"global_forfaitaire\", \"march\\u00e9\", \"moyens_techniques\", \"offre\", \"acc\\u00e8s_institu\\u00e9\", \"autres_celles\", \"mentions_relatives\", \"toute_mention\", \"secret_affaires\", \"publics\", \"conduit\", \"soumis_droit\", \"principe\", \"secret_mati\\u00e8re\", \"communicable\", \"communicables\", \"relations_entre\", \"sous_r\\u00e9serve\", \"autre\", \"suivants\", \"soci\\u00e9t\\u00e9\", \"occultation\", \"droit\", \"notamment\", \"assembl\\u00e9e_nationale\", \"va_bordereau\", \"parlementaires\", \"demandes_subventions\", \"liste_\\u00e9lectorale\", \"listes_\\u00e9lectorales\", \"\\u00e9lectoral\", \"seulement_certaines\", \"enseignement_sup\\u00e9rieur\", \"\\u00e9conomiques\", \"comptes_annuels\", \"institut_national\", \"insalubrit\\u00e9\", \"tout_\\u00e9lecteur\", \"repr\\u00e9sentant_etat\", \"aides_vers\\u00e9es\", \"\\u00e9l\\u00e9ments_notation\", \"populations\", \"unit\\u00e9s\", \"usage_purement\", \"liste_b\\u00e9n\\u00e9ficiaires\", \"f\\u00e9d\\u00e9ration_fran\\u00e7aise\", \"caisses\", \"\\u00e9lectorales\", \"\\u00e9preuves\", \"aides\", \"conseil_constitutionnel\", \"\\u00e9lecteur\", \"rappel\\u00e9e\", \"recherche_scientifique\", \"mode_calcul\", \"union\", \"examen_candidatures\", \"consid\\u00e9r\\u00e9s\", \"organisme\", \"organismes\", \"droit_priv\\u00e9\", \"am\\u00e9lioration\", \"\\u00e9conomiques_financi\\u00e8res\", \"int\\u00e9r\\u00eat_g\\u00e9n\\u00e9ral\", \"pouvoirs\", \"statuts\", \"d\\u00e9veloppement\", \"citoyens\", \"r\\u00e9sultant\", \"activit\\u00e9\", \"missions\", \"mission\", \"\\u00e9tablissements\", \"activit\\u00e9s\", \"cadre_mission\", \"comit\\u00e9\", \"service\", \"contr\\u00f4le\", \"entre\", \"membres\", \"mission_service\", \"strat\\u00e9gie_commerciale\", \"termes\", \"personnes\", \"association\", \"autres\", \"collectivit\\u00e9s_territoriales\", \"entreprises\", \"administratifs\", \"autre_part\", \"loi\", \"conseil\", \"g\\u00e9n\\u00e9ral\", \"pr\\u00e9sident\", \"sens\", \"relations_entre\", \"cadre\", \"part\", \"d\\u00e9cision\", \"\\u00e9tablissement\", \"rel\\u00e8ve\", \"dispositions\", \"estime\", \"personne\", \"\\u00e9tat\", \"juillet\", \"\\u00e9ducation\", \"isolement\", \"tout_administr\\u00e9\", \"traitements_automatis\\u00e9s\", \"relev\\u00e9s_bancaires\", \"agents_publics\", \"int\\u00e9ress\\u00e9_librement\", \"fonctionnaires_agents\", \"mani\\u00e8re_servir\", \"puissent_communiqu\\u00e9es\", \"institut\", \"situation_familiale\", \"jug\\u00e9_d\\u00e9cision\", \"fonctions_statut\", \"mentionn\\u00e9e_tables\", \"adresse_administrative\", \"personnels_justifient\", \"recrutement\", \"valeur_port\\u00e9\", \"composantes_fixes\", \"grade\", \"grade_\\u00e9chelon\", \"r\\u00e9gime_indemnitaire\", \"assistance_paris\", \"\\u00e9tablissements_enseignement\", \"adresse_personnelle\", \"nationalit\\u00e9_fran\\u00e7aise\", \"agissant_r\\u00e9mun\\u00e9ration\", \"indice_traitement\", \"nouvelle_bonification\", \"activit\\u00e9_conditions\", \"r\\u00e9mun\\u00e9ration\", \"agents\", \"g\\u00e9n\\u00e9ral_assistance\", \"poste\", \"appr\\u00e9ciation_jugement\", \"certaines_informations\", \"emploi\", \"liste\", \"fonctions\", \"agent\", \"fonction_publique\", \"travail\", \"vie_priv\\u00e9e\", \"territoriale\", \"professionnelle\", \"obtenir\", \"concernant\", \"relations_entre\", \"personnel\", \"titre_liminaire\", \"contrat\", \"estime\", \"formation\", \"point\", \"\\u00e9met_donc\", \"communicables\", \"qualit\\u00e9\", \"sous_r\\u00e9serve\", \"fait\", \"notamment\", \"\\u00e9met\", \"suivants\", \"toute_personne\", \"droit\", \"directeur_g\\u00e9n\\u00e9ral\", \"agissant\", \"communicable\", \"relatifs\", \"janvier\", \"avril\", \"divulgation_comportement\", \"nomm\\u00e9ment_d\\u00e9sign\\u00e9e\", \"facilement_identifiable\", \"portant_appr\\u00e9ciation\", \"appara\\u00eetre_comportement\", \"feraient_appara\\u00eetre\", \"d\\u00e9partemental_incendie\", \"concurrence_consommation\", \"autre_parent\", \"sdis\", \"commissions_d\\u00e9partementales\", \"ais\\u00e9ment_identifiable\", \"porteraient_appr\\u00e9ciation\", \"dgccrf\", \"loi_organique\", \"ferait_appara\\u00eetre\", \"r\\u00e9pression_fraudes\", \"inspecteur_travail\", \"appr\\u00e9ciations_jugements\", \"services_int\\u00e9ress\\u00e9s\", \"tierce_personne\", \"tous_fonctionnaires\", \"partenaires\", \"doit_occult\\u00e9e\", \"solde\", \"donn\\u00e9es_nominatives\", \"pr\\u00e9sidente_communaut\\u00e9\", \"adresse_t\\u00e9l\\u00e9phone\", \"civils\", \"clichy\", \"protection_vie\", \"divulgation_pourrait\", \"pr\\u00e9judice\", \"secours\", \"personne_physique\", \"porter_pr\\u00e9judice\", \"pourrait_porter\", \"comportement\", \"porterait_atteinte\", \"mentions\", \"faisant_appara\\u00eetre\", \"jugement_valeur\", \"lorsqu_agit\", \"signalement\", \"s\\u00e9curit\\u00e9\", \"apr\\u00e8s_occultation\", \"priv\\u00e9e\", \"font_appara\\u00eetre\", \"pu_prendre\", \"occultation_mentions\", \"sous_r\\u00e9serves\", \"personne\", \"rapport\", \"communicable\", \"personnes\", \"communicables\", \"estime\", \"relations_entre\", \"sous_r\\u00e9serve\", \"int\\u00e9ress\\u00e9\", \"\\u00e9met_donc\", \"administratifs\", \"tiers\", \"conseil\", \"service\", \"absence_r\\u00e9ponse\", \"document\", \"fait\", \"dispositions\", \"proc\\u00e9dure_disciplinaire\", \"assurance_maladie\", \"caisse_primaire\", \"secteur_activit\\u00e9\", \"directeur_caisse\", \"susceptible_r\\u00e9v\\u00e9ler\", \"dispositions_sp\\u00e9ciales\", \"maladie\", \"mention_couverte\", \"actes_assembl\\u00e9es\", \"titre_s\\u00e9jour\", \"g\\u00e9n\\u00e9rale_efface\", \"fond\\u00e9_loi\", \"accident_travail\", \"primaire_assurance\", \"diff\\u00e9rentes_lois\", \"directement_concern\\u00e9e\", \"cpam\", \"pr\\u00e9fectoral\", \"d\\u00e9lib\\u00e9rations_conseils\", \"d\\u00e9claration_accident\", \"concernent_directement\", \"inspection_travail\", \"personnes_pr\\u00e9sentes\", \"primaire\", \"relev\\u00e9_int\\u00e9gral\", \"pr\\u00e9cise_circonstance\", \"constatant_infractions\", \"proc\\u00e9dure_suivie\", \"licenciement\", \"constituant_dossier\", \"s\\u00e9curit\\u00e9_sociale\", \"employeur\", \"d\\u00e9but_fin\", \"statutaires\", \"cadre_instruction\", \"comp\\u00e9tente_interpr\\u00e9ter\", \"technique_financier\", \"caisse\", \"composant_dossier\", \"sans_incidence\", \"dossier\", \"int\\u00e9ress\\u00e9e_sens\", \"indemnit\\u00e9\", \"agent\", \"int\\u00e9ress\\u00e9\", \"principe\", \"cours\", \"droit\", \"relations_entre\", \"lorsqu\", \"communicables\", \"administratifs\", \"dispositions\", \"personne\", \"cadre\", \"administratif\", \"ma\\u00eetre\", \"\\u00e9met_donc\", \"oppos\\u00e9_directeur\", \"loi\", \"toutefois\", \"conseil\", \"budgets_comptes\", \"arr\\u00eat\\u00e9s_municipaux\", \"conseillers_municipaux\", \"droits_information\", \"ouvert_toute\", \"ind\\u00e9pendamment_fonctions\", \"tirent_qualit\\u00e9\", \"tout_membre\", \"exerce_mandats\", \"cadre_fonction\", \"territoriales_dispose\", \"commune_font\", \"re\\u00e7u_subvention\", \"budget_comptes\", \"budget_principal\", \"financier_subvention\", \"grand_livre\", \"pr\\u00e9voit_budget\", \"avocat_client\", \"professions_judiciaires\", \"r\\u00e9forme_certaines\", \"caisses_primaires\", \"d\\u00e9partement_essonne\", \"justificatives\", \"convocations_adress\\u00e9es\", \"attribu\\u00e9_subvention\", \"syndicats_mixtes\", \"obtenue_aussi\", \"comptes_r\\u00e9sultat\", \"immeubles_situ\\u00e9s\", \"comptes\", \"tout_organisme\", \"pr\\u00e9valoir\", \"subvention\", \"physique_morale\", \"organe_d\\u00e9lib\\u00e9rant\", \"demander\", \"annex\\u00e9es\", \"d\\u00e9lib\\u00e9rations\", \"conseil_municipal\", \"g\\u00e9n\\u00e9ral_collectivit\\u00e9s\", \"silence_loi\", \"territoriales\", \"factures\", \"correspondances_\\u00e9chang\\u00e9es\", \"d\\u00e9lib\\u00e9ration\", \"r\\u00e9sulte\", \"selon_modalit\\u00e9s\", \"compte\", \"textes_particuliers\", \"ensemble_pi\\u00e8ces\", \"toute_personne\", \"commune\", \"affaires\", \"maire\", \"droit\", \"pr\\u00e9vues\", \"relations_entre\", \"fait\", \"communicables\", \"comp\\u00e9tente_prononcer\", \"\\u00e9met_donc\", \"pr\\u00e9sident_communaut\\u00e9\", \"tel\", \"titre_liminaire\", \"objet\", \"estime\", \"administratifs\", \"mission_int\\u00e9r\\u00eat\", \"exerce_conditions\", \"relatives_environnement\", \"iv_titre\", \"d\\u00e9cisions_activit\\u00e9s\", \"d\\u00e9tenues_re\\u00e7ues\", \"d\\u00e9finies_titre\", \"information_relative\", \"cas_lesquels\", \"telle_mission\", \"\\u00e9galement_regard\\u00e9e\", \"priv\\u00e9e_assure\", \"r\\u00e9gime_sp\\u00e9cial\", \"livre_i\", \"rejeter\", \"\\u00e9tablies_autorit\\u00e9s\", \"diversit\\u00e9_biologique\", \"notamment_air\", \"d\\u00e9chets_\\u00e9missions\", \"d\\u00e9versements_autres\", \"substances_\\u00e9nergie\", \"bruit_rayonnements\", \"facteurs_notamment\", \"interactions_entre\", \"rejets_susceptibles\", \"environnement_qualifie\", \"alimentation\", \"leurs_groupements\", \"comptes_bancaires\", \"concernent_exercice\", \"exercice_mandat\", \"environnement\", \"quel_support\", \"dispositions_chapitre\", \"informations_relatives\", \"mesures\", \"\\u00e9l\\u00e9ments\", \"protection\", \"iii\", \"\\u00e9tat\", \"acc\\u00e9der_informations\", \"ii\", \"dispositions\", \"selon\", \"articles\", \"s\\u00e9curit\\u00e9\", \"relations_entre\", \"droit\", \"esp\\u00e8ce\", \"toute_personne\", \"personnes\", \"mesure_o\\u00f9\", \"notamment\", \"sous_r\\u00e9serve\", \"estime\", \"suite\", \"informations\", \"suivants\", \"judiciaire\", \"d\\u00e9rogation_d\\u00e9lais\", \"procureur_r\\u00e9publique\", \"proc\\u00e9dure_juridictionnelle\", \"services_aide\", \"aide_sociale\", \"sociale_enfance\", \"ans_compter\", \"enfance\", \"juge_enfants\", \"n\\u00e9e\", \"permis_conduire\", \"mineurs\", \"judiciaires\", \"transmis_procureur\", \"administratif_entrent\", \"proc\\u00e9dure_p\\u00e9nale\", \"sous_cote\", \"p\\u00e9nale_commerciale\", \"nature_civile\", \"juridictions_ordre\", \"d\\u00e9lai_ans\", \"archives_france\", \"grande_instance\", \"dossiers_instruction\", \"plus_largement\", \"affaires_formation\", \"ceux_\\u00e9labor\\u00e9s\", \"alg\\u00e9rie\", \"caisse_allocations\", \"archives\", \"conseil_d\\u00e9partemental\", \"patrimoine\", \"archives_publiques\", \"familles\", \"enfant\", \"n\\u00e9\", \"\\u00e9tat_civil\", \"enfants\", \"autorit\\u00e9_parentale\", \"fix\\u00e9s\", \"parents\", \"d\\u00e9fense_nationale\", \"r\\u00e9publique\", \"juge\", \"action_sociale\", \"dossiers\", \"instruction\", \"autorit\\u00e9_judiciaire\", \"caract\\u00e8re\", \"pr\\u00e9sident\", \"dossier\", \"proc\\u00e9dure\", \"cadre\", \"administratif\", \"cas\", \"consultation\", \"champ_application\", \"pi\\u00e8ces\", \"esp\\u00e8ce\", \"donc\", \"secret\", \"suite\", \"articles\", \"rel\\u00e8ve\", \"relations_entre\", \"professionnels_sant\\u00e9\", \"sans_consentement\", \"outre_pr\\u00e9cis\\u00e9\", \"informations_communiqu\\u00e9es\", \"directement_interm\\u00e9diaire\", \"m\\u00e9decin_d\\u00e9signe\", \"r\\u00e9forme\", \"selon_choix\", \"sant\\u00e9_d\\u00e9tenues\", \"professionnels_\\u00e9tablissements\", \"entre_op\\u00e9rateurs\", \"intervenant_prise\", \"charge_th\\u00e9rapeutique\", \"aupr\\u00e8s_tiers\", \"informations_mentionnant\", \"elles_recueillies\", \"reconna\\u00eet_droit\", \"concernant_tel\", \"psychiatriques\", \"exception_informations\", \"recueillies_aupr\\u00e8s\", \"tel_tiers\", \"tiers_intervenant\", \"th\\u00e9rapeutique_concernant\", \"mentionnant_elles\", \"\\u00e9changes_\\u00e9crits\", \"interpr\\u00e9t\\u00e9es\", \"notamment_r\\u00e9sultats\", \"protocoles_prescriptions\", \"th\\u00e9rapeutiques_mis\", \"\\u00e9tablissements_sant\\u00e9\", \"informations_pr\\u00e9cises\", \"docteur\", \"prise_charge\", \"m\\u00e9decin\", \"sant\\u00e9\", \"sant\\u00e9_publique\", \"soins\", \"r\\u00e9sulte_d\\u00e9cision\", \"centre_hospitalier\", \"directeur_centre\", \"sans_besoin\", \"dernier_alin\\u00e9a\", \"dossier_m\\u00e9dical\", \"m\\u00e9dical\", \"effet\", \"oppos\\u00e9_directeur\", \"avis\", \"tiers\", \"relations_entre\", \"concernant\", \"vertu\", \"communicables\", \"toute_personne\", \"int\\u00e9ress\\u00e9\", \"demandeur\", \"directeur_g\\u00e9n\\u00e9ral\", \"sous_r\\u00e9serves\", \"\\u00e9met_donc\", \"\\u00e9tablissement\", \"administratifs\", \"dossier\", \"articles\", \"possibilit\\u00e9s_techniques\", \"exerce_choix\", \"demandeur_limite\", \"document_disponible\", \"conservation_document\", \"reproduction_nuise\", \"frais_lorsque\", \"consultation_gratuite\", \"support_identique\", \"reproduction_envoi\", \"celui_utilis\\u00e9\", \"compatible_frais\", \"d\\u00e9livrance_copie\", \"frais_puissent\", \"exc\\u00e9der_co\\u00fbt\", \"euro_page\", \"co\\u00fbt_reproduction\", \"co\\u00fbt_envoi\", \"frais_correspondant\", \"d\\u00e9finis_arr\\u00eat\\u00e9\", \"octobre_savoir\", \"postal_peuvent\", \"exc\\u00e9der_montants\", \"conjoint_premier\", \"groupe_travail\", \"venir_consulter\", \"paiement_pr\\u00e9alable\", \"dispose_d\\u00e9j\\u00e0\", \"arr\\u00eat\\u00e9_conjoint\", \"projet_plu\", \"commissaire_enqu\\u00eateur\", \"support_papier\", \"ministre_budget\", \"enqu\\u00eate_publique\", \"format\", \"envoi_peuvent\", \"sous_forme\", \"plan_local\", \"place\", \"\\u00e9lectronique\", \"bon_fonctionnement\", \"sans\", \"plu\", \"frais\", \"demandeur\", \"modalit\\u00e9s\", \"envoi\", \"publication\", \"communicables\", \"document\", \"relations_entre\", \"courrier\", \"vertu\", \"administratifs\", \"conseil_municipal\", \"sous_r\\u00e9serve\", \"copie\", \"articles\", \"d\\u00e9funt\", \"personne_d\\u00e9c\\u00e9d\\u00e9e\", \"d\\u00e9fendre_m\\u00e9moire\", \"faire_valoir\", \"causes_mort\", \"patient_d\\u00e9c\\u00e9d\\u00e9\", \"causes_d\\u00e9c\\u00e8s\", \"informations_m\\u00e9dicales\", \"permettre_conna\\u00eetre\", \"relative_fonctionnement\", \"n\\u00e9cessaires_poursuite\", \"leurs_droits\", \"d\\u00e9funt_faire\", \"avant_d\\u00e9c\\u00e8s\", \"volont\\u00e9_contraire\", \"oppos\\u00e9_vivant\", \"elles_n\\u00e9cessaires\", \"droits_sauf\", \"valoir_leurs\", \"d\\u00e9livr\\u00e9es_droit\", \"\\u00e9quipe_m\\u00e9dicale\", \"oppos\\u00e9e_personne\", \"peuvent_pr\\u00e9valoir\", \"m\\u00e9moire_d\\u00e9funt\", \"national_ordre\", \"\\u00e9ventuelle_liste\", \"objectifs_invoqu\\u00e9s\", \"d\\u00e9tenus_professionnels\", \"comp\\u00e9tente_appr\\u00e9cier\", \"doit_pr\\u00e9ciser\", \"auquel_renvoie\", \"afin_permettre\", \"d\\u00e9c\\u00e9d\\u00e9\", \"qualit\\u00e9\", \"dossier_m\\u00e9dical\", \"m\\u00e9dical\", \"m\\u00e8re\", \"droit\", \"profit\", \"sant\\u00e9_publique\", \"d\\u00e9c\\u00e8s\", \"dossier\", \"esp\\u00e8ce\", \"demandeur\", \"pi\\u00e8ces\", \"\\u00e9tablissement\", \"dispositions\", \"autres\", \"\\u00e9tat\", \"concernant\", \"conseil\", \"droits\", \"document\", \"ensemble\", \"donc\", \"articles\", \"chaque\"], \"Total\": [13164.0, 19120.0, 15826.0, 23191.0, 28409.0, 21971.0, 10306.0, 8786.0, 28935.0, 23534.0, 9487.0, 25613.0, 14677.0, 14976.0, 36580.0, 8055.0, 13046.0, 22645.0, 7018.0, 7693.0, 14902.0, 6800.0, 25977.0, 16963.0, 16457.0, 9009.0, 18279.0, 7249.0, 16383.0, 76698.0, 1350.71484375, 892.25390625, 758.3367919921875, 730.4420166015625, 626.7686157226562, 625.2748413085938, 564.9694213867188, 544.5775756835938, 514.2911376953125, 467.75201416015625, 468.7378234863281, 411.1878967285156, 401.5657653808594, 397.7738037109375, 373.3195495605469, 333.52197265625, 332.5115966796875, 312.5642395019531, 296.8531799316406, 313.66558837890625, 268.8235168457031, 255.3627471923828, 238.2398223876953, 230.7290802001953, 222.73300170898438, 219.97792053222656, 218.23883056640625, 204.82102966308594, 203.53111267089844, 256.0121765136719, 483.28094482421875, 856.3831176757812, 350.3805847167969, 243.3358612060547, 3762.291015625, 943.0257568359375, 1040.1578369140625, 469.52557373046875, 411.0469970703125, 898.0889892578125, 570.2092895507812, 849.0115966796875, 1928.7957763671875, 634.51025390625, 3223.811767578125, 1330.8203125, 3373.04833984375, 4415.47607421875, 21971.779296875, 1693.7952880859375, 1242.3404541015625, 7362.89013671875, 13046.9365234375, 1039.757080078125, 4117.80615234375, 27832.53125, 25613.98828125, 884.7109985351562, 20761.796875, 36580.93359375, 2400.5107421875, 26503.3515625, 12568.7890625, 76698.2265625, 13256.8955078125, 15980.0361328125, 16457.1328125, 21079.51953125, 7940.546875, 18104.591796875, 10204.8876953125, 29939.826171875, 27102.4453125, 7693.78369140625, 18861.76953125, 9039.001953125, 23191.890625, 28409.271484375, 8055.5419921875, 12742.26953125, 14902.349609375, 17086.681640625, 3382.71484375, 1704.6103515625, 1066.1998291015625, 961.0418701171875, 821.1787109375, 789.5792846679688, 919.0724487304688, 739.8345336914062, 682.2903442382812, 669.4599609375, 669.4599609375, 667.4337158203125, 654.7420043945312, 653.4219360351562, 643.9137573242188, 637.3448486328125, 636.6953735351562, 635.0914916992188, 635.168212890625, 633.690185546875, 631.9527587890625, 631.092529296875, 609.6517333984375, 606.7551879882812, 324.7149353027344, 298.1628723144531, 286.0159912109375, 277.9853820800781, 266.3327941894531, 287.84307861328125, 360.0553894042969, 477.84478759765625, 493.65777587890625, 418.572998046875, 2355.01904296875, 967.463623046875, 2059.0498046875, 760.7595825195312, 960.090576171875, 3457.161376953125, 2633.419677734375, 12111.13671875, 2363.451904296875, 1718.334228515625, 2854.957763671875, 3297.31494140625, 4281.712890625, 4032.41357421875, 3436.685302734375, 25977.302734375, 1193.6895751953125, 1543.35693359375, 13152.6728515625, 4678.45263671875, 4186.9794921875, 22645.669921875, 4359.55322265625, 8687.8388671875, 8630.900390625, 8838.7783203125, 7340.3837890625, 4559.7919921875, 27832.53125, 6100.44287109375, 29939.826171875, 20629.876953125, 28935.86328125, 76698.2265625, 16963.482421875, 10881.916015625, 8346.5419921875, 27102.4453125, 17086.681640625, 9487.13671875, 1226.2059326171875, 692.0286254882812, 607.3121948242188, 462.68121337890625, 376.7739562988281, 362.4600830078125, 282.90545654296875, 178.45689392089844, 166.22073364257812, 173.13186645507812, 153.05728149414062, 152.93667602539062, 149.29981994628906, 133.0850067138672, 124.74039459228516, 124.27315521240234, 109.66917419433594, 108.27538299560547, 99.40184020996094, 98.22088623046875, 135.64671325683594, 93.62106323242188, 90.90435791015625, 86.77320861816406, 82.9560775756836, 81.9476089477539, 79.81514739990234, 96.56749725341797, 77.96839904785156, 428.2596130371094, 593.2677001953125, 90.75146484375, 415.32916259765625, 15826.9033203125, 19120.7109375, 562.20849609375, 329.4274597167969, 1545.8953857421875, 1528.9407958984375, 14677.1201171875, 14976.5205078125, 23534.869140625, 9448.1865234375, 28409.271484375, 2309.528564453125, 14902.349609375, 3014.407470703125, 22645.669921875, 2177.478271484375, 2255.94140625, 1549.7901611328125, 2136.091796875, 12949.5595703125, 3800.802978515625, 18104.591796875, 2310.900390625, 10574.3720703125, 29939.826171875, 3604.70703125, 5480.767578125, 7841.6279296875, 5266.04345703125, 9039.001953125, 9524.443359375, 8569.3349609375, 10694.08984375, 8232.208984375, 16383.9794921875, 11317.322265625, 76698.2265625, 8706.71484375, 12742.26953125, 21971.779296875, 9009.783203125, 10443.984375, 20629.876953125, 12103.888671875, 23191.890625, 18861.76953125, 2201.607421875, 1929.224853515625, 1160.3309326171875, 952.2215576171875, 936.5599365234375, 907.281005859375, 906.2312622070312, 904.2636108398438, 852.69775390625, 851.9246826171875, 840.11865234375, 840.11865234375, 806.517578125, 765.870849609375, 727.0631103515625, 494.5670166015625, 457.71405029296875, 404.9197998046875, 351.9522399902344, 309.57049560546875, 309.3138732910156, 305.4966125488281, 298.3065185546875, 292.0199890136719, 268.61773681640625, 264.90057373046875, 235.98513793945312, 213.90342712402344, 201.91854858398438, 197.89767456054688, 904.6513061523438, 443.11761474609375, 2329.439697265625, 2236.33056640625, 1969.3265380859375, 1780.7994384765625, 1426.2421875, 1269.140625, 653.5565795898438, 2273.336669921875, 1748.89208984375, 2783.297119140625, 3995.47998046875, 16457.1328125, 1344.106201171875, 2228.2978515625, 16279.267578125, 3513.59814453125, 7940.546875, 11644.2060546875, 2075.866455078125, 4649.37646484375, 4387.86181640625, 3457.298828125, 3604.70703125, 13256.8955078125, 2954.147705078125, 23534.869140625, 76698.2265625, 15374.353515625, 28935.86328125, 28409.271484375, 19120.7109375, 16383.9794921875, 27832.53125, 8543.318359375, 27102.4453125, 22645.669921875, 18279.359375, 7397.7900390625, 15980.0361328125, 4816.78076171875, 4584.4072265625, 3317.20458984375, 2974.6513671875, 2466.8837890625, 2413.9287109375, 2366.614501953125, 2359.597900390625, 2298.95166015625, 2253.6552734375, 2123.690673828125, 2123.690673828125, 2123.255126953125, 2125.49462890625, 2126.5009765625, 2124.62939453125, 2125.077392578125, 2123.690673828125, 2066.848876953125, 2054.601806640625, 1920.112060546875, 1919.5419921875, 1775.1456298828125, 1753.1624755859375, 1733.2125244140625, 1708.25390625, 1667.1663818359375, 1644.6583251953125, 1617.9083251953125, 1539.538818359375, 10306.99609375, 2371.638427734375, 4538.86669921875, 2597.012451171875, 2202.97607421875, 4624.34326171875, 2162.85009765625, 5606.2138671875, 5548.6923828125, 3804.37255859375, 4157.8681640625, 10776.87109375, 2851.1845703125, 17086.681640625, 36580.93359375, 76698.2265625, 21079.51953125, 5532.9775390625, 15980.0361328125, 7145.890625, 4431.7255859375, 28935.86328125, 14805.2666015625, 1474.2542724609375, 1214.7086181640625, 869.236083984375, 458.6273193359375, 406.7525329589844, 595.1569213867188, 387.6293640136719, 358.509521484375, 760.5170288085938, 313.7002258300781, 299.9090576171875, 292.8348693847656, 256.1905822753906, 247.22592163085938, 236.09852600097656, 234.09432983398438, 215.89610290527344, 196.49354553222656, 190.4451904296875, 176.9666290283203, 172.73313903808594, 161.88232421875, 169.37257385253906, 149.89759826660156, 147.3864288330078, 144.78062438964844, 143.58395385742188, 140.12899780273438, 134.310546875, 133.78424072265625, 222.80723571777344, 351.2400817871094, 792.676513671875, 1732.64599609375, 1415.4295654296875, 838.137939453125, 3152.59814453125, 742.3517456054688, 360.13726806640625, 1235.5413818359375, 797.6171875, 785.9063720703125, 570.8468627929688, 512.5276489257812, 1448.920654296875, 2479.03564453125, 935.67724609375, 3837.610595703125, 1247.8472900390625, 1138.091064453125, 3332.421875, 960.1468505859375, 18279.359375, 3284.744384765625, 9924.2998046875, 2145.339111328125, 2443.714599609375, 1468.3155517578125, 5808.67236328125, 10643.40625, 4146.7783203125, 9624.5615234375, 2500.286865234375, 1815.51708984375, 27102.4453125, 5421.7890625, 13152.6728515625, 20629.876953125, 4470.44677734375, 9814.9609375, 8346.5419921875, 76698.2265625, 12887.13671875, 7397.7900390625, 9049.34765625, 6499.7685546875, 8838.7783203125, 25977.302734375, 26503.3515625, 16963.482421875, 15374.353515625, 12949.5595703125, 1605.24755859375, 949.3504028320312, 863.856689453125, 844.1736450195312, 744.5833129882812, 588.8215942382812, 578.3502807617188, 561.31689453125, 560.86572265625, 555.8505859375, 538.3251953125, 513.0650634765625, 494.8158264160156, 479.937744140625, 477.003662109375, 476.73577880859375, 475.00299072265625, 494.4825134277344, 471.71051025390625, 470.0386962890625, 468.36981201171875, 459.4134826660156, 458.819580078125, 451.8768615722656, 452.02874755859375, 428.3926696777344, 417.4365539550781, 410.5113525390625, 409.1630859375, 406.1612243652344, 1018.9845581054688, 646.8572387695312, 4234.625, 648.6087036132812, 1905.266357421875, 1018.2120971679688, 613.783447265625, 1350.4879150390625, 5280.3466796875, 930.681884765625, 6292.21142578125, 765.6795043945312, 4512.068359375, 4840.47216796875, 726.6212768554688, 1137.9609375, 3522.302978515625, 18861.76953125, 76698.2265625, 3254.72802734375, 4071.0146484375, 3990.15283203125, 26503.3515625, 1322.6201171875, 16457.1328125, 20761.796875, 36580.93359375, 5869.09765625, 21079.51953125, 27832.53125, 14805.2666015625, 11168.615234375, 15980.0361328125, 25613.98828125, 28935.86328125, 4458.302734375, 13256.8955078125, 17086.681640625, 10204.8876953125, 12103.888671875, 10443.984375, 2749.4599609375, 1657.5416259765625, 1501.8502197265625, 1266.838134765625, 978.7239990234375, 977.0084838867188, 461.0521240234375, 289.51226806640625, 283.00567626953125, 275.4955139160156, 230.26583862304688, 151.32778930664062, 151.0452117919922, 141.13967895507812, 137.6568145751953, 135.30442810058594, 129.25962829589844, 106.18199920654297, 101.85911560058594, 99.39306640625, 82.8738784790039, 81.93038177490234, 79.31158447265625, 76.70950317382812, 75.81768798828125, 73.284423828125, 57.45740509033203, 55.428470611572266, 53.40076446533203, 51.089786529541016, 3196.646728515625, 819.3355712890625, 4520.16845703125, 518.2394409179688, 2704.7021484375, 1649.367431640625, 3815.93701171875, 3425.51708984375, 5458.66064453125, 7249.72705078125, 2334.4853515625, 2500.139404296875, 610.6729736328125, 660.2571411132812, 6184.22412109375, 3508.01416015625, 6898.05810546875, 713.3980712890625, 1256.6044921875, 1760.5665283203125, 9735.935546875, 16963.482421875, 8543.318359375, 17086.681640625, 10643.40625, 36580.93359375, 26503.3515625, 76698.2265625, 21079.51953125, 10740.3642578125, 20761.796875, 27102.4453125, 8713.4931640625, 20629.876953125, 18279.359375, 12568.7890625, 16279.267578125, 27832.53125, 25977.302734375, 2788.353271484375, 2603.41259765625, 2459.76025390625, 2209.07470703125, 1678.951416015625, 1599.85986328125, 1576.5833740234375, 1185.38134765625, 1181.160400390625, 1092.795166015625, 1019.7097778320312, 960.6790161132812, 958.239501953125, 927.7401123046875, 909.3568725585938, 898.4901123046875, 874.2481079101562, 865.43310546875, 535.8123168945312, 521.1836547851562, 510.19915771484375, 457.8573913574219, 441.9573669433594, 431.0813293457031, 430.137939453125, 407.68060302734375, 386.4096984863281, 382.5431213378906, 379.1240539550781, 378.40545654296875, 511.90765380859375, 3028.2041015625, 1592.8741455078125, 1180.137939453125, 1011.0137939453125, 2200.942138671875, 1163.2127685546875, 1691.416748046875, 2181.6103515625, 2646.84521484375, 937.1864013671875, 23191.890625, 1057.38427734375, 1417.091796875, 6292.21142578125, 10740.3642578125, 10776.87109375, 3558.233642578125, 28935.86328125, 76698.2265625, 3171.824462890625, 36580.93359375, 27102.4453125, 25977.302734375, 16963.482421875, 12887.13671875, 7141.36572265625, 14902.349609375, 20761.796875, 10694.08984375, 13152.6728515625, 7781.3603515625, 20629.876953125, 1999.447998046875, 1722.39013671875, 1150.09912109375, 1030.7276611328125, 1028.2586669921875, 1026.6865234375, 1012.705078125, 966.9265747070312, 960.60595703125, 943.8175048828125, 911.6456298828125, 885.1812133789062, 425.3651123046875, 339.2367858886719, 257.5726318359375, 258.6054992675781, 250.9819793701172, 244.99847412109375, 243.12387084960938, 220.6186065673828, 218.29779052734375, 193.5522003173828, 133.1064910888672, 122.31541442871094, 113.9484634399414, 110.16773223876953, 108.78257751464844, 107.71858978271484, 103.66938018798828, 93.57721710205078, 2694.87060546875, 409.3453063964844, 1172.9239501953125, 992.9779052734375, 319.4942321777344, 295.5784606933594, 2862.795166015625, 2174.24462890625, 4656.96630859375, 6800.353515625, 8055.5419921875, 927.1751098632812, 7693.78369140625, 1344.58447265625, 558.7028198242188, 5864.0849609375, 4040.666748046875, 2910.757568359375, 5261.87890625, 1929.009765625, 4763.33544921875, 25613.98828125, 13046.9365234375, 3224.113037109375, 21971.779296875, 28935.86328125, 5856.4228515625, 76698.2265625, 27832.53125, 36580.93359375, 2695.701171875, 20761.796875, 2792.197021484375, 3485.12353515625, 4071.0146484375, 22645.669921875, 26503.3515625, 27102.4453125, 1563.765869140625, 1301.0382080078125, 1253.8304443359375, 1250.05224609375, 1228.6490478515625, 1168.7999267578125, 1070.074462890625, 1067.802978515625, 860.7173461914062, 833.2896728515625, 824.5712280273438, 816.7152099609375, 775.092529296875, 729.1160278320312, 686.0846557617188, 622.8291015625, 620.6571655273438, 611.7396240234375, 609.6633911132812, 605.8624267578125, 601.0576782226562, 601.0576782226562, 601.0576782226562, 600.918701171875, 601.0576782226562, 583.3810424804688, 526.4418334960938, 483.0998229980469, 469.6918029785156, 456.8392028808594, 1778.27197265625, 13164.0986328125, 688.74560546875, 1393.4385986328125, 5030.5439453125, 1729.721923828125, 9737.142578125, 3511.48193359375, 4333.146484375, 15374.353515625, 2282.99072265625, 6529.494140625, 25977.302734375, 4591.8232421875, 29939.826171875, 6184.22412109375, 76698.2265625, 28935.86328125, 11177.017578125, 25613.98828125, 10643.40625, 3976.33447265625, 14805.2666015625, 21079.51953125, 26503.3515625, 11644.2060546875, 12111.13671875, 15980.0361328125, 1844.7705078125, 1005.0548095703125, 901.1321411132812, 696.94970703125, 658.97021484375, 610.8074951171875, 534.4312744140625, 521.4866943359375, 505.3065490722656, 435.6615905761719, 418.1266174316406, 425.61663818359375, 376.32196044921875, 367.24456787109375, 341.4621887207031, 338.2696838378906, 329.4104309082031, 325.6654052734375, 314.66387939453125, 314.6129150390625, 297.29608154296875, 295.0143127441406, 289.07879638671875, 287.2913818359375, 285.9918212890625, 282.9580993652344, 281.3283996582031, 265.1363525390625, 250.95382690429688, 239.33969116210938, 1499.997802734375, 3642.78515625, 2791.234619140625, 928.793212890625, 635.0914306640625, 1962.5244140625, 644.2147827148438, 948.8511962890625, 1431.7503662109375, 1446.4788818359375, 761.1068725585938, 784.2994384765625, 1409.03662109375, 761.5486450195312, 794.4436645507812, 986.9141845703125, 3076.739013671875, 2356.9296875, 1480.6124267578125, 5058.56640625, 9814.9609375, 23191.890625, 4996.833984375, 12887.13671875, 7141.36572265625, 5558.6494140625, 4849.32568359375, 2496.11376953125, 9036.6083984375, 11177.017578125, 8283.3203125, 5878.021484375, 11644.2060546875, 29939.826171875, 8838.7783203125, 76698.2265625, 3251.45166015625, 1488.8236083984375, 1420.0537109375, 1279.5260009765625, 1165.3118896484375, 1139.4554443359375, 1081.96484375, 1045.306396484375, 1027.603515625, 1021.8681640625, 1020.6151123046875, 890.0599975585938, 887.2272338867188, 859.1121215820312, 855.541015625, 853.736083984375, 820.6593627929688, 816.421142578125, 805.135986328125, 589.6973876953125, 581.1016845703125, 580.2341918945312, 574.9553833007812, 565.2830810546875, 556.9413452148438, 434.8299560546875, 426.3918762207031, 392.561279296875, 358.47265625, 353.9584655761719, 399.16754150390625, 611.7528076171875, 1030.218017578125, 2201.466796875, 1095.255615234375, 7018.443359375, 8786.7841796875, 1253.3980712890625, 1071.4017333984375, 4775.4716796875, 1384.9674072265625, 1025.469482421875, 1867.7923583984375, 3597.062744140625, 5528.7080078125, 3658.018310546875, 10694.08984375, 28409.271484375, 8713.4931640625, 76698.2265625, 18861.76953125, 8516.8447265625, 36580.93359375, 25613.98828125, 10740.3642578125, 16383.9794921875, 4458.302734375, 9735.935546875, 20761.796875, 6499.7685546875, 27102.4453125, 23191.890625, 29939.826171875, 1395.427978515625, 1369.628662109375, 1354.8310546875, 1340.7113037109375, 1313.9326171875, 1282.2293701171875, 1267.5125732421875, 1257.223876953125, 1252.8131103515625, 1253.2728271484375, 1250.9462890625, 1228.3214111328125, 1377.9254150390625, 1201.2835693359375, 1162.7325439453125, 568.222412109375, 564.3023071289062, 555.0051879882812, 546.66455078125, 519.859375, 511.46124267578125, 511.0048522949219, 510.1754455566406, 509.2161865234375, 506.6419372558594, 487.7346496582031, 435.7752380371094, 432.3095397949219, 405.76617431640625, 403.080078125, 608.0894775390625, 469.5769348144531, 949.8717041015625, 1478.6732177734375, 943.8893432617188, 666.1431884765625, 3918.269775390625, 1044.10400390625, 2218.53369140625, 9009.783203125, 664.8347778320312, 7340.3837890625, 785.7659912109375, 2322.175048828125, 16383.9794921875, 2690.53125, 1602.9019775390625, 1974.7635498046875, 36580.93359375, 16279.267578125, 76698.2265625, 14677.1201171875, 8516.8447265625, 27102.4453125, 6800.353515625, 21079.51953125, 18104.591796875, 29939.826171875, 1618.240966796875, 1553.5635986328125, 1473.91845703125, 1400.578125, 1123.9578857421875, 929.4302368164062, 919.9649047851562, 1637.693603515625, 662.2918090820312, 610.492431640625, 548.2152099609375, 545.8673706054688, 505.6329345703125, 500.098388671875, 489.58837890625, 488.3222961425781, 487.0916748046875, 484.773193359375, 484.4857482910156, 482.87896728515625, 465.12945556640625, 436.7983703613281, 403.3678283691406, 374.3609313964844, 359.4528503417969, 331.54571533203125, 331.20819091796875, 330.0875549316406, 327.26141357421875, 324.3082275390625, 531.6253051757812, 473.7601318359375, 745.8645629882812, 5869.09765625, 3597.062744140625, 5528.7080078125, 1050.4505615234375, 28935.86328125, 952.009521484375, 8786.7841796875, 1474.3846435546875, 23191.890625, 11177.017578125, 16383.9794921875, 9036.6083984375, 6499.7685546875, 25977.302734375, 9624.5615234375, 15374.353515625, 18861.76953125, 20629.876953125, 1969.2506103515625, 16279.267578125, 9051.515625, 8283.3203125, 29939.826171875, 5552.73974609375], \"loglift\": [30.0, 29.0, 28.0, 27.0, 26.0, 25.0, 24.0, 23.0, 22.0, 21.0, 20.0, 19.0, 18.0, 17.0, 16.0, 15.0, 14.0, 13.0, 12.0, 11.0, 10.0, 9.0, 8.0, 7.0, 6.0, 5.0, 4.0, 3.0, 2.0, 1.0, 2.0624001026153564, 2.0624001026153564, 2.062299966812134, 2.062299966812134, 2.062299966812134, 2.062299966812134, 2.062299966812134, 2.0622000694274902, 2.0622000694274902, 2.0622000694274902, 2.0622000694274902, 2.0622000694274902, 2.0620999336242676, 2.0620999336242676, 2.0620999336242676, 2.0620999336242676, 2.0620999336242676, 2.062000036239624, 2.062000036239624, 2.0618999004364014, 2.0618999004364014, 2.0618999004364014, 2.0618999004364014, 2.061800003051758, 2.061800003051758, 2.061800003051758, 2.061800003051758, 2.061800003051758, 2.0617001056671143, 2.0617001056671143, 2.0617001056671143, 2.0550999641418457, 2.0599000453948975, 2.0615999698638916, 2.0236001014709473, 2.0455000400543213, 2.0380001068115234, 2.0423998832702637, 2.045099973678589, 2.0039000511169434, 2.025599956512451, 2.0004000663757324, 1.9359999895095825, 1.9947999715805054, 1.829800009727478, 1.9006999731063843, 1.771399974822998, 1.731600046157837, 1.4673999547958374, 1.8495999574661255, 1.891800045967102, 1.6023999452590942, 1.4737999439239502, 1.9053000211715698, 1.579200029373169, 1.1058000326156616, 1.1162999868392944, 1.9158999919891357, 0.9879999756813049, 0.6518999934196472, 1.5662000179290771, 0.6820999979972839, 0.9564999938011169, 0.28209999203681946, 0.8759999871253967, 0.7942000031471252, 0.7516000270843506, 0.6291000247001648, 1.0176000595092773, 0.6148999929428101, 0.8838000297546387, 0.36410000920295715, 0.27630001306533813, 0.9372000098228455, 0.43160000443458557, 0.8339999914169312, 0.26739999651908875, 0.0731000006198883, 0.8130000233650208, 0.4431000053882599, 0.314300000667572, 0.17990000545978546, 2.2869999408721924, 2.2869999408721924, 2.286900043487549, 2.286900043487549, 2.286900043487549, 2.286900043487549, 2.286900043487549, 2.286900043487549, 2.286900043487549, 2.286799907684326, 2.286799907684326, 2.286799907684326, 2.286799907684326, 2.286799907684326, 2.286799907684326, 2.286799907684326, 2.286799907684326, 2.286799907684326, 2.286799907684326, 2.286799907684326, 2.286799907684326, 2.286799907684326, 2.286799907684326, 2.286799907684326, 2.286600112915039, 2.2864999771118164, 2.2864999771118164, 2.2864999771118164, 2.2864999771118164, 2.286400079727173, 2.285399913787842, 2.2818000316619873, 2.2778000831604004, 2.2781999111175537, 2.1970999240875244, 2.22379994392395, 2.1760001182556152, 2.234600067138672, 2.2130000591278076, 2.083400011062622, 2.085900068283081, 1.8128999471664429, 2.007699966430664, 2.069999933242798, 1.9200999736785889, 1.8732000589370728, 1.794600009918213, 1.798699975013733, 1.8315999507904053, 1.1606999635696411, 2.098400115966797, 2.0153000354766846, 1.159000039100647, 1.5054999589920044, 1.5454000234603882, 0.7300000190734863, 1.416100025177002, 1.0910999774932861, 1.0937000513076782, 1.010599970817566, 1.1081000566482544, 1.3667000532150269, 0.3564000129699707, 1.1970000267028809, 0.1973000019788742, 0.37139999866485596, 0.021800000220537186, -0.6676999926567078, 0.3725000023841858, 0.6894000172615051, 0.815500020980835, -0.28790000081062317, 0.13670000433921814, 2.389400005340576, 2.3893001079559326, 2.38919997215271, 2.3891000747680664, 2.3891000747680664, 2.3889999389648438, 2.3889999389648438, 2.3887999057769775, 2.3884999752044678, 2.388400077819824, 2.388400077819824, 2.3882999420166016, 2.3882999420166016, 2.3882999420166016, 2.388200044631958, 2.3880999088287354, 2.3880999088287354, 2.3879001140594482, 2.3879001140594482, 2.3877999782562256, 2.387700080871582, 2.387700080871582, 2.387700080871582, 2.3875999450683594, 2.387500047683716, 2.387399911880493, 2.387399911880493, 2.387399911880493, 2.3873000144958496, 2.3873000144958496, 2.3831000328063965, 2.368499994277954, 2.387200117111206, 2.371799945831299, 2.249799966812134, 2.1868999004364014, 2.316200017929077, 2.3271000385284424, 2.2430999279022217, 2.233799934387207, 2.093600034713745, 2.037100076675415, 1.9766000509262085, 1.9881999492645264, 1.813099980354309, 2.072000026702881, 1.836400032043457, 2.0081000328063965, 1.6907999515533447, 1.9812999963760376, 1.9701999425888062, 2.0251998901367188, 1.9675999879837036, 1.656999945640564, 1.868399977684021, 1.5058000087738037, 1.9420000314712524, 1.555299997329712, 1.232200026512146, 1.8001999855041504, 1.6470999717712402, 1.5281000137329102, 1.6308000087738037, 1.416100025177002, 1.3783999681472778, 1.4046000242233276, 1.3068000078201294, 1.4010000228881836, 1.0587999820709229, 1.2230000495910645, 0.19910000264644623, 1.3396999835968018, 1.0968999862670898, 0.791700005531311, 1.2761000394821167, 1.1512000560760498, 0.6477000117301941, 0.9718999862670898, 0.3529999852180481, 0.5490999817848206, 2.5162999629974365, 2.5162999629974365, 2.5162999629974365, 2.516200065612793, 2.516200065612793, 2.516200065612793, 2.516200065612793, 2.516200065612793, 2.516200065612793, 2.516200065612793, 2.516200065612793, 2.516200065612793, 2.516200065612793, 2.516200065612793, 2.516200065612793, 2.5160999298095703, 2.5160000324249268, 2.5160000324249268, 2.515899896621704, 2.515899896621704, 2.515899896621704, 2.515899896621704, 2.515899896621704, 2.5157999992370605, 2.5157999992370605, 2.5157999992370605, 2.515700101852417, 2.5155999660491943, 2.5155999660491943, 2.515500068664551, 2.512500047683716, 2.515500068664551, 2.481800079345703, 2.43969988822937, 2.4098000526428223, 2.4142000675201416, 2.3910999298095703, 2.3789000511169434, 2.4312000274658203, 2.251499891281128, 2.27620005607605, 2.208899974822998, 2.0764999389648438, 1.6858999729156494, 2.254199981689453, 2.1254000663757324, 1.4744999408721924, 1.845900058746338, 1.4800000190734863, 1.2265000343322754, 2.039799928665161, 1.617400050163269, 1.6469999551773071, 1.7122000455856323, 1.687600016593933, 0.8955000042915344, 1.7883000373840332, 0.49570000171661377, -0.33629998564720154, 0.6848000288009644, 0.17399999499320984, 0.1703999936580658, 0.4357999861240387, 0.5390999913215637, 0.09369999915361404, 0.9388999938964844, -0.02930000051856041, 0.015699999406933784, 0.1632000058889389, 0.98580002784729, 0.22939999401569366, 2.518699884414673, 2.518699884414673, 2.518699884414673, 2.518699884414673, 2.518699884414673, 2.518699884414673, 2.518699884414673, 2.518699884414673, 2.518699884414673, 2.518699884414673, 2.518699884414673, 2.518699884414673, 2.518699884414673, 2.518699884414673, 2.518699884414673, 2.518699884414673, 2.518699884414673, 2.518699884414673, 2.518699884414673, 2.518699884414673, 2.518699884414673, 2.518699884414673, 2.518699884414673, 2.518699884414673, 2.518699884414673, 2.518699884414673, 2.5185999870300293, 2.5185999870300293, 2.5185999870300293, 2.5185999870300293, 2.5127999782562256, 2.5109000205993652, 2.490499973297119, 2.506200075149536, 2.5023000240325928, 2.408099889755249, 2.4851999282836914, 2.2820000648498535, 2.100800037384033, 2.2372000217437744, 2.0759999752044678, 1.4076000452041626, 2.296099901199341, 1.0384999513626099, 0.4803999960422516, -0.3003999888896942, 0.6916000247001648, 1.7294000387191772, 0.5982999801635742, 1.347599983215332, 1.8026000261306763, -0.0544000007212162, 0.5992000102996826, 2.5585999488830566, 2.5585999488830566, 2.558500051498413, 2.558300018310547, 2.558300018310547, 2.558300018310547, 2.558300018310547, 2.558199882507324, 2.558199882507324, 2.558199882507324, 2.5580999851226807, 2.5580999851226807, 2.558000087738037, 2.558000087738037, 2.558000087738037, 2.558000087738037, 2.5578999519348145, 2.557800054550171, 2.557800054550171, 2.557800054550171, 2.5576999187469482, 2.5576999187469482, 2.5576000213623047, 2.5576000213623047, 2.5576000213623047, 2.5576000213623047, 2.557499885559082, 2.557499885559082, 2.557499885559082, 2.557499885559082, 2.5543999671936035, 2.5495998859405518, 2.527600049972534, 2.5039000511169434, 2.5058999061584473, 2.5190999507904053, 2.476799964904785, 2.5125999450683594, 2.5302999019622803, 2.4656999111175537, 2.4684998989105225, 2.4607999324798584, 2.479599952697754, 2.487600088119507, 2.3887999057769775, 2.3194000720977783, 2.394399881362915, 2.172600030899048, 2.3304998874664307, 2.343100070953369, 2.1582999229431152, 2.368000030517578, 1.7867000102996826, 2.072999954223633, 1.8063000440597534, 2.134999990463257, 2.088599920272827, 2.2111001014709473, 1.8135000467300415, 1.622499942779541, 1.780500054359436, 1.3924000263214111, 1.9483000040054321, 2.085200071334839, 0.7294999957084656, 1.471500039100647, 0.9617999792098999, 0.6995999813079834, 1.565000057220459, 1.115399956703186, 1.190999984741211, -0.11879999935626984, 0.8461999893188477, 1.1801999807357788, 1.0327999591827393, 1.2503000497817993, 0.9902999997138977, 0.1436000019311905, 0.08229999989271164, 0.41769999265670776, 0.42309999465942383, 0.5412999987602234, 2.645900011062622, 2.645900011062622, 2.645900011062622, 2.6458001136779785, 2.6458001136779785, 2.6458001136779785, 2.6458001136779785, 2.6458001136779785, 2.6458001136779785, 2.645699977874756, 2.645699977874756, 2.645699977874756, 2.645699977874756, 2.645699977874756, 2.645699977874756, 2.645699977874756, 2.645699977874756, 2.645699977874756, 2.645699977874756, 2.645699977874756, 2.645699977874756, 2.645699977874756, 2.645699977874756, 2.645699977874756, 2.645699977874756, 2.645699977874756, 2.645699977874756, 2.6456000804901123, 2.6456000804901123, 2.6456000804901123, 2.640500068664551, 2.637700080871582, 2.5352001190185547, 2.615499973297119, 2.5325000286102295, 2.5806000232696533, 2.6133999824523926, 2.4398000240325928, 2.0515999794006348, 2.4697999954223633, 1.9074000120162964, 2.4914000034332275, 1.875, 1.8406000137329102, 2.492300033569336, 2.3197999000549316, 1.8609000444412231, 1.0698000192642212, 0.15440000593662262, 1.7299000024795532, 1.5563000440597534, 1.5263999700546265, 0.43560001254081726, 2.1540000438690186, 0.6898999810218811, 0.5206999778747559, 0.1736000031232834, 1.204200029373169, 0.3684999942779541, 0.15070000290870667, 0.5281000137329102, 0.6973999738693237, 0.4059999883174896, -0.007699999958276749, -0.1251000016927719, 1.276900053024292, 0.3517000079154968, 0.11270000040531158, 0.5644000172615051, 0.3806999921798706, 0.4880000054836273, 2.775899887084961, 2.775899887084961, 2.775899887084961, 2.775899887084961, 2.7757999897003174, 2.7757999897003174, 2.775599956512451, 2.775399923324585, 2.775399923324585, 2.775399923324585, 2.7753000259399414, 2.774899959564209, 2.774899959564209, 2.7748000621795654, 2.7748000621795654, 2.7748000621795654, 2.7746999263763428, 2.774399995803833, 2.774399995803833, 2.7743000984191895, 2.7739999294281006, 2.7739999294281006, 2.773900032043457, 2.7737998962402344, 2.7737998962402344, 2.773699998855591, 2.773099899291992, 2.7730000019073486, 2.772900104522705, 2.7727999687194824, 2.767699956893921, 2.762700080871582, 2.739500045776367, 2.75570011138916, 2.7383999824523926, 2.738600015640259, 2.6979000568389893, 2.6691999435424805, 2.622999906539917, 2.545300006866455, 2.526099920272827, 2.5199999809265137, 2.627000093460083, 2.6198999881744385, 2.3201000690460205, 2.3552000522613525, 2.2392001152038574, 2.5423998832702637, 2.4166998863220215, 2.29010009765625, 1.8598999977111816, 1.7000000476837158, 1.7315000295639038, 1.323799967765808, 1.4279999732971191, 0.9013000130653381, 1.024399995803833, 0.4952999949455261, 1.0867999792099, 1.3897000551223755, 0.95660001039505, 0.6353999972343445, 1.347000002861023, 0.7652999758720398, 0.8313000202178955, 1.093000054359436, 0.7556999921798706, 0.22130000591278076, 0.2770000100135803, 2.989500045776367, 2.989500045776367, 2.989500045776367, 2.989500045776367, 2.9893999099731445, 2.9893999099731445, 2.9893999099731445, 2.9893999099731445, 2.9893999099731445, 2.9893999099731445, 2.9893999099731445, 2.9893999099731445, 2.9893999099731445, 2.9893999099731445, 2.9893999099731445, 2.989300012588501, 2.989300012588501, 2.989300012588501, 2.9892001152038574, 2.9892001152038574, 2.9892001152038574, 2.9892001152038574, 2.9892001152038574, 2.9892001152038574, 2.9892001152038574, 2.9890999794006348, 2.9890999794006348, 2.9890999794006348, 2.9890999794006348, 2.9890999794006348, 2.9886999130249023, 2.930500030517578, 2.9442999362945557, 2.953200101852417, 2.9226999282836914, 2.8143999576568604, 2.871500015258789, 2.7539000511169434, 2.6745998859405518, 2.6238999366760254, 2.8203999996185303, 1.9213000535964966, 2.765199899673462, 2.6673998832702637, 1.9351999759674072, 1.638200044631958, 1.5525000095367432, 2.183799982070923, 0.9531999826431274, 0.376800000667572, 2.245500087738037, 0.7573000192642212, 0.8324999809265137, 0.8575000166893005, 1.1246999502182007, 1.1901999711990356, 1.5844999551773071, 0.9750000238418579, 0.7009999752044678, 1.2056000232696533, 0.9498999714851379, 1.3633999824523926, 0.3939000070095062, 3.022599935531616, 3.022599935531616, 3.0225000381469727, 3.0225000381469727, 3.0225000381469727, 3.0225000381469727, 3.0225000381469727, 3.0225000381469727, 3.0225000381469727, 3.0225000381469727, 3.0225000381469727, 3.0225000381469727, 3.0223000049591064, 3.022200107574463, 3.0220000743865967, 3.0220000743865967, 3.0220000743865967, 3.0220000743865967, 3.0220000743865967, 3.021899938583374, 3.021899938583374, 3.0218000411987305, 3.021399974822998, 3.0213000774383545, 3.021199941635132, 3.021199941635132, 3.021199941635132, 3.021199941635132, 3.0211000442504883, 3.020900011062622, 2.9879000186920166, 2.9918999671936035, 2.947000026702881, 2.9489998817443848, 2.984800100326538, 2.983299970626831, 2.8810999393463135, 2.893699884414673, 2.8097000122070312, 2.693700075149536, 2.6366000175476074, 2.867300033569336, 2.5576999187469482, 2.7744998931884766, 2.8970999717712402, 2.4723000526428223, 2.502500057220459, 2.4988999366760254, 2.268199920654297, 2.4941999912261963, 2.1505000591278076, 1.5468000173568726, 1.7721999883651733, 2.251499891281128, 1.281999945640564, 1.0117000341415405, 1.9246000051498413, 0.35510000586509705, 0.9506999850273132, 0.4553999900817871, 2.2923998832702637, 0.6556000113487244, 2.184999942779541, 1.9753999710083008, 1.8377000093460083, 0.2476000040769577, 0.0003000000142492354, -0.06319999694824219, 3.0387001037597656, 3.0387001037597656, 3.0387001037597656, 3.0387001037597656, 3.0387001037597656, 3.038599967956543, 3.038599967956543, 3.038599967956543, 3.038599967956543, 3.038599967956543, 3.038599967956543, 3.038599967956543, 3.038599967956543, 3.038599967956543, 3.0385000705718994, 3.0385000705718994, 3.0385000705718994, 3.0385000705718994, 3.0385000705718994, 3.0385000705718994, 3.0385000705718994, 3.0385000705718994, 3.0385000705718994, 3.0385000705718994, 3.0385000705718994, 3.0385000705718994, 3.0385000705718994, 3.0383999347686768, 3.0383999347686768, 3.0383999347686768, 3.0327000617980957, 2.9885001182556152, 2.998500108718872, 2.8824000358581543, 2.6143999099731445, 2.6658999919891357, 1.9651999473571777, 2.2379000186920166, 2.1370999813079834, 1.4580999612808228, 2.367300033569336, 1.7999999523162842, 1.0134999752044678, 1.9277000427246094, 0.857699990272522, 1.7067999839782715, 0.08579999953508377, 0.5839999914169312, 1.1966999769210815, 0.5813999772071838, 1.118899941444397, 1.7949999570846558, 0.73580002784729, 0.435699999332428, 0.1891999989748001, 0.9125999808311462, 0.8531000018119812, 0.5436999797821045, 3.0504000186920166, 3.0504000186920166, 3.0504000186920166, 3.050299882888794, 3.050299882888794, 3.050299882888794, 3.0501999855041504, 3.0501999855041504, 3.0501999855041504, 3.0501999855041504, 3.050100088119507, 3.050100088119507, 3.050100088119507, 3.050100088119507, 3.049999952316284, 3.049999952316284, 3.049999952316284, 3.049999952316284, 3.049999952316284, 3.049999952316284, 3.049999952316284, 3.049999952316284, 3.049999952316284, 3.049999952316284, 3.049999952316284, 3.049999952316284, 3.0499000549316406, 3.0499000549316406, 3.0499000549316406, 3.049799919128418, 3.033099889755249, 3.016200065612793, 3.0085999965667725, 3.027400016784668, 3.032399892807007, 2.9584999084472656, 2.987299919128418, 2.9316999912261963, 2.8849000930786133, 2.8784000873565674, 2.9158999919891357, 2.8940999507904053, 2.787400007247925, 2.886699914932251, 2.8701999187469482, 2.7544000148773193, 2.3620998859405518, 2.4384000301361084, 2.532599925994873, 1.9113999605178833, 1.5250999927520752, 1.0154999494552612, 1.809999942779541, 1.1543999910354614, 1.496000051498413, 1.5273000001907349, 1.5263999700546265, 2.005500078201294, 1.0191999673843384, 0.8361999988555908, 0.9833999872207642, 1.215999960899353, 0.5454000234603882, -0.33180001378059387, 0.765500009059906, -1.4151999950408936, 3.109299898147583, 3.1092000007629395, 3.1092000007629395, 3.1092000007629395, 3.1092000007629395, 3.1092000007629395, 3.1092000007629395, 3.1092000007629395, 3.1092000007629395, 3.1092000007629395, 3.1092000007629395, 3.1092000007629395, 3.1092000007629395, 3.1092000007629395, 3.1092000007629395, 3.1092000007629395, 3.1092000007629395, 3.1092000007629395, 3.109100103378296, 3.109100103378296, 3.109100103378296, 3.109100103378296, 3.109100103378296, 3.109100103378296, 3.109100103378296, 3.1089999675750732, 3.1089999675750732, 3.1089000701904297, 3.1089000701904297, 3.1089000701904297, 3.1070001125335693, 3.0927000045776367, 3.0599000453948975, 3.017400026321411, 3.046099901199341, 2.901900053024292, 2.876199960708618, 3.0288000106811523, 2.993499994277954, 2.645699977874756, 2.894399881362915, 2.9223999977111816, 2.708699941635132, 2.4653000831604004, 2.1791999340057373, 2.3285999298095703, 1.4960999488830566, 0.8126000165939331, 1.5860999822616577, 0.14790000021457672, 1.0706000328063965, 1.5693000555038452, 0.26570001244544983, 0.4747999906539917, 1.1150000095367432, 0.7519000172615051, 1.829300045967102, 1.1433000564575195, 0.45989999175071716, 1.461400032043457, 0.07000000029802322, 0.18940000236034393, -0.07989999651908875, 3.186300039291382, 3.186300039291382, 3.186300039291382, 3.186300039291382, 3.186300039291382, 3.186300039291382, 3.186300039291382, 3.186300039291382, 3.186300039291382, 3.186300039291382, 3.186300039291382, 3.186300039291382, 3.186300039291382, 3.186300039291382, 3.186300039291382, 3.1861000061035156, 3.1861000061035156, 3.1861000061035156, 3.1861000061035156, 3.1861000061035156, 3.1861000061035156, 3.1861000061035156, 3.1861000061035156, 3.1861000061035156, 3.1861000061035156, 3.1861000061035156, 3.186000108718872, 3.186000108718872, 3.186000108718872, 3.186000108718872, 3.186000108718872, 3.184299945831299, 3.1670000553131104, 3.0973000526428223, 3.126300096511841, 3.141700029373169, 2.8190999031066895, 3.009500026702881, 2.7627999782562256, 2.3536999225616455, 3.0996999740600586, 2.19569993019104, 3.028700113296509, 2.5541999340057373, 1.4404000043869019, 2.3443000316619873, 2.613100051879883, 2.4879000186920166, 0.705299973487854, 1.0678000450134277, -0.07800000160932541, 1.073099970817566, 1.3686000108718872, 0.4138999879360199, 1.5081000328063965, 0.48809999227523804, 0.5799999833106995, 0.09780000150203705, 3.5922000408172607, 3.5922000408172607, 3.5922000408172607, 3.5922000408172607, 3.5922000408172607, 3.5922000408172607, 3.5922000408172607, 3.592099905014038, 3.592099905014038, 3.592099905014038, 3.5920000076293945, 3.5920000076293945, 3.5920000076293945, 3.5920000076293945, 3.5920000076293945, 3.5920000076293945, 3.5920000076293945, 3.5920000076293945, 3.5920000076293945, 3.5920000076293945, 3.5920000076293945, 3.5920000076293945, 3.591900110244751, 3.591900110244751, 3.591900110244751, 3.5917999744415283, 3.5917999744415283, 3.5917999744415283, 3.5917999744415283, 3.5917999744415283, 3.5313000679016113, 3.5143001079559326, 3.379499912261963, 2.701900005340576, 2.8475000858306885, 2.6842000484466553, 3.1461000442504883, 1.6066999435424805, 3.1635000705718994, 2.0213000774383545, 2.921099901199341, 1.377500057220459, 1.6028000116348267, 1.2400000095367432, 1.5094000101089478, 1.6886999607086182, 0.5947999954223633, 1.3203999996185303, 0.9020000100135803, 0.692799985408783, 0.598800003528595, 2.5020999908447266, 0.6485000252723694, 1.1632000207901, 1.1934000253677368, -0.15889999270439148, 1.4889999628067017], \"logprob\": [30.0, 29.0, 28.0, 27.0, 26.0, 25.0, 24.0, 23.0, 22.0, 21.0, 20.0, 19.0, 18.0, 17.0, 16.0, 15.0, 14.0, 13.0, 12.0, 11.0, 10.0, 9.0, 8.0, 7.0, 6.0, 5.0, 4.0, 3.0, 2.0, 1.0, -5.958600044250488, -6.373300075531006, -6.535900115966797, -6.573400020599365, -6.726500034332275, -6.728899955749512, -6.830399990081787, -6.867099761962891, -6.9243998527526855, -7.0192999839782715, -7.017199993133545, -7.148200035095215, -7.171899795532227, -7.181399822235107, -7.244800090789795, -7.357600212097168, -7.3607001304626465, -7.422599792480469, -7.4741997718811035, -7.419099807739258, -7.573400020599365, -7.624800205230713, -7.694300174713135, -7.72629976272583, -7.761600017547607, -7.774099826812744, -7.7820000648498535, -7.8454999923706055, -7.851799964904785, -7.622399806976318, -6.987100124359131, -6.421599864959717, -7.310500144958496, -7.673399925231934, -4.9730000495910645, -6.334799766540527, -6.244200229644775, -7.035200119018555, -7.165599822998047, -6.42519998550415, -6.857800006866455, -6.484899997711182, -5.728700160980225, -6.781700134277344, -5.321300029754639, -6.1350998878479, -5.334400177001953, -5.104899883270264, -3.764400005340576, -5.945099830627441, -6.212800025939941, -4.722799777984619, -4.279300212860107, -6.377299785614014, -5.327099800109863, -3.8896000385284424, -3.9621999263763428, -6.528200149536133, -4.30049991607666, -4.070199966430664, -5.879700183868408, -4.362199783325195, -4.834000110626221, -3.6995999813079834, -4.861199855804443, -4.756100177764893, -4.7692999839782715, -4.6442999839782715, -5.232100009918213, -4.8105998039245605, -5.1149001121521, -4.558300018310547, -4.745800018310547, -5.344099998474121, -4.952899932861328, -5.286099910736084, -4.9105000495910645, -4.901899814605713, -5.422299861907959, -5.333600044250488, -5.305799961090088, -5.303400039672852, -4.815899848937988, -5.501299858093262, -5.970600128173828, -6.074399948120117, -6.231800079345703, -6.270999908447266, -6.119100093841553, -6.336100101470947, -6.417099952697754, -6.436100006103516, -6.436100006103516, -6.4390997886657715, -6.4583001136779785, -6.460299968719482, -6.474999904632568, -6.485199928283691, -6.486299991607666, -6.488800048828125, -6.488699913024902, -6.491000175476074, -6.49370002746582, -6.495100021362305, -6.529699802398682, -6.53439998626709, -7.159900188446045, -7.245200157165527, -7.286799907684326, -7.315299987792969, -7.3582000732421875, -7.2804999351501465, -7.057799816131592, -6.778299808502197, -6.749800205230713, -6.914400100708008, -5.26800012588501, -6.130899906158447, -5.423399925231934, -6.360499858856201, -6.149400234222412, -4.997799873352051, -5.267399787902832, -4.014599800109863, -5.453800201416016, -5.710299968719482, -5.352499961853027, -5.255300045013428, -5.0725998878479, -5.128600120544434, -5.2555999755859375, -3.903700113296509, -6.046199798583984, -5.872399806976318, -4.585999965667725, -5.273099899291992, -5.344200134277344, -4.47160005569458, -5.433199882507324, -5.068699836730957, -5.0725998878479, -5.131899833679199, -5.220099925994873, -5.437600135803223, -4.639100074768066, -5.316299915313721, -4.725200176239014, -4.923500061035156, -4.934800148010254, -4.649400234222412, -5.118100166320801, -5.245200157165527, -5.384300231933594, -5.309899806976318, -5.34660005569458, -3.682300090789795, -5.728400230407715, -6.300600051879883, -6.43120002746582, -6.7032999992370605, -6.90880012512207, -6.947500228881836, -7.195400238037109, -7.656599998474121, -7.72760009765625, -7.686999797821045, -7.810200214385986, -7.810999870300293, -7.835100173950195, -7.950200080871582, -8.01509952545166, -8.018799781799316, -8.144000053405762, -8.156800270080566, -8.242500305175781, -8.254400253295898, -7.931600093841553, -8.302499771118164, -8.331999778747559, -8.378600120544434, -8.423700332641602, -8.43589973449707, -8.462300300598145, -8.27180004119873, -8.485799789428711, -6.786499977111816, -6.475200176239014, -8.334099769592285, -6.82859992980957, -3.3101000785827637, -3.1839001178741455, -6.581299781799316, -7.104899883270264, -5.642899990081787, -5.6631999015808105, -3.541800022125244, -3.578000068664551, -3.1865999698638916, -4.087600231170654, -3.161799907684326, -5.412499904632568, -3.7836999893188477, -5.210100173950195, -3.5109000205993652, -5.56220006942749, -5.537899971008301, -5.85830020904541, -5.59499979019165, -4.103499889373779, -5.118100166320801, -3.9196999073028564, -5.541999816894531, -4.4079999923706055, -3.690200090408325, -5.239200115203857, -4.973299980163574, -4.734099864959717, -5.029600143432617, -4.703999996185303, -4.6894001960754395, -4.768799781799316, -4.645199775695801, -4.812600135803223, -4.4664998054504395, -4.672299861907959, -3.7827000617980957, -4.817800045013428, -4.679800033569336, -4.440199851989746, -4.8471999168396, -4.824399948120117, -4.647200107574463, -4.856200218200684, -4.824900150299072, -4.835400104522705, -5.01609992980957, -5.148200035095215, -5.656700134277344, -5.854400157928467, -5.8709001541137695, -5.902699947357178, -5.903900146484375, -5.906000137329102, -5.964799880981445, -5.965700149536133, -5.979599952697754, -5.979599952697754, -6.020500183105469, -6.072199821472168, -6.124199867248535, -6.5096001625061035, -6.587100028991699, -6.709700107574463, -6.849999904632568, -6.978300094604492, -6.9791998863220215, -6.991600036621094, -7.015399932861328, -7.0366997718811035, -7.120299816131592, -7.134300231933594, -7.249899864196777, -7.348199844360352, -7.405900001525879, -7.42609977722168, -5.909299850463867, -6.620100021362305, -4.994200229644775, -5.077099800109863, -5.234099864959717, -5.330399990081787, -5.575500011444092, -5.704400062561035, -6.315700054168701, -5.248799800872803, -5.486400127410889, -5.089099884033203, -4.860000133514404, -3.8350000381469727, -5.771699905395508, -5.394999980926514, -4.057199954986572, -5.219099998474121, -4.769599914550781, -4.640399932861328, -5.551499843597412, -5.167500019073486, -5.195799827575684, -5.368899822235107, -5.351799964904785, -4.841599941253662, -5.450099945068359, -4.667399883270264, -4.317999839782715, -4.904200077056885, -4.782599925994873, -4.804500102996826, -4.935100078582764, -4.986199855804443, -4.901800155639648, -5.237599849700928, -5.051300048828125, -5.185999870300293, -5.252600193023682, -5.33459997177124, -5.320899963378906, -4.230800151824951, -4.280300140380859, -4.603799819946289, -4.712800025939941, -4.900000095367432, -4.9217000007629395, -4.941500186920166, -4.944499969482422, -4.9704999923706055, -4.9903998374938965, -5.049799919128418, -5.049799919128418, -5.050000190734863, -5.048999786376953, -5.048500061035156, -5.0493998527526855, -5.049200057983398, -5.049799919128418, -5.076900005340576, -5.082900047302246, -5.150599956512451, -5.150899887084961, -5.229100227355957, -5.241600036621094, -5.252999782562256, -5.267499923706055, -5.291900157928467, -5.305500030517578, -5.321899890899658, -5.371500015258789, -3.4760000705718994, -4.947199821472168, -4.318399906158447, -4.861100196838379, -5.029600143432617, -4.382199764251709, -5.065000057220459, -4.315800189971924, -4.507299900054932, -4.748300075531006, -4.820700168609619, -4.536600112915039, -4.977799892425537, -4.444799900054932, -4.241799831390381, -4.282199859619141, -4.5817999839782715, -4.881499767303467, -4.952000141143799, -5.007500171661377, -5.030300140380859, -5.011000156402588, -5.027500152587891, -5.374899864196777, -5.568600177764893, -5.903299808502197, -6.542799949645996, -6.662899971008301, -6.282299995422363, -6.711100101470947, -6.7891998291015625, -6.037199974060059, -6.922800064086914, -6.967800140380859, -6.991700172424316, -7.125400066375732, -7.161099910736084, -7.207200050354004, -7.215700149536133, -7.2967000007629395, -7.390900135040283, -7.4222002029418945, -7.495699882507324, -7.519899845123291, -7.584799766540527, -7.539700031280518, -7.661799907684326, -7.678800106048584, -7.696599960327148, -7.704999923706055, -7.729300022125244, -7.7718000411987305, -7.775700092315674, -7.268700122833252, -6.818299770355225, -6.026400089263916, -5.268099784851074, -5.468299865722656, -5.979100227355957, -4.696599960327148, -6.10699987411499, -6.812600135803223, -5.644400119781494, -6.07919979095459, -6.1016998291015625, -6.402699947357178, -6.502399921417236, -5.561999797821045, -5.094399929046631, -5.99370002746582, -4.804200172424316, -5.769700050354004, -5.849100112915039, -4.959700107574463, -5.99429988861084, -3.629199981689453, -5.059299945831299, -4.220300197601318, -5.423299789428711, -5.3394999504089355, -5.726399898529053, -4.748799800872803, -4.334199905395508, -5.118800163269043, -4.664999961853027, -5.456999778747559, -5.640100002288818, -4.292500019073486, -5.1596999168396, -4.783199787139893, -4.595300197601318, -5.259099960327148, -4.922399997711182, -5.008800029754639, -4.100599765777588, -4.9191999435424805, -5.1402997970581055, -5.08620023727417, -5.19950008392334, -5.152200222015381, -4.92080020904541, -4.962100028991699, -5.072800159454346, -5.165800094604492, -5.219299793243408, -5.202400207519531, -5.727700233459473, -5.8221001625061035, -5.845200061798096, -5.970699787139893, -6.20550012588501, -6.223499774932861, -6.253399848937988, -6.254199981689453, -6.2631001472473145, -6.295199871063232, -6.343299865722656, -6.379499912261963, -6.409999847412109, -6.416200160980225, -6.4166998863220215, -6.420400142669678, -6.380199909210205, -6.427299976348877, -6.4309000968933105, -6.4344000816345215, -6.453800201416016, -6.454999923706055, -6.470300197601318, -6.46999979019165, -6.52370023727417, -6.549600124359131, -6.566299915313721, -6.5696001052856445, -6.577000141143799, -5.662300109863281, -6.11959981918335, -4.343100070953369, -6.138999938964844, -5.144599914550781, -5.7230000495910645, -6.196300029754639, -5.581299781799316, -4.605999946594238, -5.923699855804443, -4.574999809265137, -6.0971999168396, -4.939899921417236, -4.9039998054504395, -6.148600101470947, -5.872600078582764, -5.201600074768066, -4.314700126647949, -3.827399969100952, -5.4116997718811035, -5.361400127410889, -5.411399841308594, -4.608799934387207, -5.8881001472473145, -4.830999851226807, -4.7677998542785645, -4.548500061035156, -5.347700119018555, -4.904799938201904, -4.844699859619141, -5.098599910736084, -5.211100101470947, -5.1442999839782715, -5.08620023727417, -5.081699848175049, -5.550000190734863, -5.38539981842041, -5.370699882507324, -5.4344000816345215, -5.447500228881836, -5.487599849700928, -4.534299850463867, -5.04040002822876, -5.138999938964844, -5.309199810028076, -5.567299842834473, -5.5690999031066895, -6.320199966430664, -6.785799980163574, -6.808499813079834, -6.835400104522705, -7.014900207519531, -7.434999942779541, -7.4369001388549805, -7.504799842834473, -7.529799938201904, -7.547100067138672, -7.592800140380859, -7.78980016708374, -7.831399917602539, -7.855999946594238, -8.038100242614746, -8.049500465393066, -8.082099914550781, -8.115500450134277, -8.12720012664795, -8.161299705505371, -8.405200004577637, -8.441300392150879, -8.478699684143066, -8.52299976348877, -4.3917999267578125, -5.758200168609619, -4.073599815368652, -6.223199844360352, -4.5883002281188965, -5.082600116729736, -4.2845001220703125, -4.421199798583984, -4.001399993896484, -3.7953999042510986, -4.947700023651123, -4.885300159454346, -6.18779993057251, -6.116799831390381, -4.179500102996826, -4.711400032043457, -4.151199817657471, -6.1168999671936035, -5.676599979400635, -5.46589994430542, -4.185999870300293, -3.790600061416626, -4.445000171661377, -4.1595001220703125, -4.52869987487793, -3.8208000659942627, -4.019999980926514, -3.4863998889923096, -4.186500072479248, -4.558000087738037, -4.331900119781494, -4.386600017547607, -4.809700012207031, -4.529600143432617, -4.58459997177124, -4.697500228881836, -4.776100158691406, -4.774099826812744, -4.787399768829346, -4.306700229644775, -4.375400066375732, -4.43209981918335, -4.539599895477295, -4.814000129699707, -4.862299919128418, -4.876999855041504, -5.162199974060059, -5.165800094604492, -5.243500232696533, -5.31279993057251, -5.372399806976318, -5.374899864196777, -5.407299995422363, -5.427299976348877, -5.439300060272217, -5.466700077056885, -5.476799964904785, -5.956399917602539, -5.984099864959717, -6.00540018081665, -6.113699913024902, -6.14900016784668, -6.173900127410889, -6.17609977722168, -6.229800224304199, -6.283400058746338, -6.293399810791016, -6.3024001121521, -6.304299831390381, -6.002600193023682, -4.283100128173828, -4.911799907684326, -5.2027997970581055, -5.388000011444092, -4.718299865722656, -5.298999786376953, -5.042200088500977, -4.867000102996826, -4.724299907684326, -5.566100120544434, -3.256500005722046, -5.5005998611450195, -5.305600166320801, -4.547100067138672, -4.309500217437744, -4.3917999267578125, -4.868599891662598, -4.003399848937988, -3.6050000190734863, -4.921899795532227, -3.9647998809814453, -4.189499855041504, -4.206900119781494, -4.365799903869629, -4.575200080871582, -4.771299839019775, -4.645100116729736, -4.587500095367432, -4.746300220489502, -4.795100212097168, -4.906499862670898, -4.901000022888184, -4.606200218200684, -4.755300045013428, -5.159299850463867, -5.268899917602539, -5.271299839019775, -5.272799968719482, -5.286499977111816, -5.332799911499023, -5.339300155639648, -5.35699987411499, -5.391600131988525, -5.42110013961792, -6.154200077056885, -6.380499839782715, -6.656000137329102, -6.6519999504089355, -6.682000160217285, -6.706099987030029, -6.713799953460693, -6.810999870300293, -6.821599960327148, -6.941999912261963, -7.316800117492676, -7.401500225067139, -7.472400188446045, -7.506199836730957, -7.518899917602539, -7.52869987487793, -7.5671000480651855, -7.6697001457214355, -4.342400074005127, -6.222899913787842, -5.215099811553955, -5.3796000480651855, -6.477799892425537, -6.557199954986572, -4.388700008392334, -4.651299953460693, -3.973599910736084, -3.7109999656677246, -3.5987000465393066, -5.529900074005127, -3.7235000133514404, -5.250999927520752, -6.006700038909912, -4.08050012588501, -4.422800064086914, -4.754300117492676, -4.392899990081787, -5.170499801635742, -4.610199928283691, -3.5316998958587646, -3.9809000492095947, -4.899499893188477, -3.949899911880493, -3.9449000358581543, -4.629499912261963, -3.626699924468994, -4.0447998046875, -4.26669979095459, -5.037600040435791, -4.632999897003174, -5.109799861907959, -5.097799777984619, -5.080100059509277, -4.953999996185303, -5.044099807739258, -5.08519983291626, -4.835899829864502, -5.019800186157227, -5.05679988861084, -5.059800148010254, -5.077099800109863, -5.126999855041504, -5.2153000831604, -5.217400074005127, -5.433000087738037, -5.465400218963623, -5.475900173187256, -5.485499858856201, -5.537799835205078, -5.598999977111816, -5.659800052642822, -5.7565999031066895, -5.7600998878479, -5.774600028991699, -5.7779998779296875, -5.784200191497803, -5.792200088500977, -5.792200088500977, -5.792200088500977, -5.792399883270264, -5.792200088500977, -5.822000026702881, -5.924799919128418, -6.010700225830078, -6.038899898529053, -6.0665998458862305, -4.7133002281188965, -2.7555999755859375, -5.696000099182129, -5.107500076293945, -4.091700077056885, -5.107800006866455, -4.08050012588501, -4.827700138092041, -4.718200206756592, -4.130799770355225, -5.128799915313721, -4.645299911499023, -4.050899982452393, -4.869699954986572, -4.064799785614014, -4.792900085449219, -3.8959999084472656, -4.372499942779541, -4.711100101470947, -4.497099876403809, -4.837800025939941, -5.146299839019775, -4.890900135040283, -4.837600231170654, -4.855100154876709, -4.95419979095459, -4.974400043487549, -5.0065999031066895, -4.65880012512207, -5.266200065612793, -5.375400066375732, -5.632400035858154, -5.688399791717529, -5.7642998695373535, -5.8979997634887695, -5.922500133514404, -5.953999996185303, -6.102399826049805, -6.143499851226807, -6.125699996948242, -6.248899936676025, -6.2733001708984375, -6.346099853515625, -6.355500221252441, -6.3821001052856445, -6.393499851226807, -6.4278998374938965, -6.427999973297119, -6.4847002029418945, -6.492400169372559, -6.512700080871582, -6.518899917602539, -6.523499965667725, -6.53410005569458, -6.539899826049805, -6.5991997718811035, -6.654200077056885, -6.701700210571289, -4.8831000328063965, -4.012700080871582, -4.286499977111816, -5.368100166320801, -5.743199825286865, -4.688899993896484, -5.774099826812744, -5.442500114440918, -5.0777997970581055, -5.074100017547607, -5.678699970245361, -5.670499801635742, -5.191299915313721, -5.707300186157227, -5.68149995803833, -5.58050012588501, -4.835700035095215, -5.025899887084961, -5.396599769592285, -4.7891998291015625, -4.512700080871582, -4.162300109863281, -4.9028000831604, -4.611000061035156, -4.8597002029418945, -5.078999996185303, -5.216400146484375, -5.401400089263916, -5.101099967956543, -5.071599960327148, -5.223999977111816, -5.334400177001953, -5.321400165557861, -5.254199981689453, -5.376999855041504, -5.396999835968018, -4.033199787139893, -4.8144001960754395, -4.861700057983398, -4.96589994430542, -5.0594000816345215, -5.081900119781494, -5.133699893951416, -5.168099880218506, -5.185200214385986, -5.190800189971924, -5.191999912261963, -5.32889986038208, -5.332099914550781, -5.364299774169922, -5.368500232696533, -5.37060022354126, -5.410099983215332, -5.415299892425537, -5.429200172424316, -5.740699768066406, -5.75540018081665, -5.756899833679199, -5.765999794006348, -5.7829999923706055, -5.797900199890137, -6.045499801635742, -6.065100193023682, -6.147799968719482, -6.23859977722168, -6.251299858093262, -6.132999897003174, -5.720300197601318, -5.231900215148926, -4.515100002288818, -5.184500217437744, -3.4711999893188477, -3.272200107574463, -5.066999912261963, -5.259200096130371, -4.112500190734863, -5.101600170135498, -5.374000072479248, -4.988100051879883, -4.576200008392334, -4.432499885559082, -4.696100234985352, -4.455900192260742, -4.162300109863281, -4.5706000328063965, -3.833899974822998, -4.313899993896484, -4.610300064086914, -4.456399917602539, -4.603700160980225, -4.832600116729736, -4.773399829864502, -4.997499942779541, -4.902500152587891, -4.82859992980957, -4.988500118255615, -4.952099800109863, -4.988399982452393, -5.002299785614014, -4.80210018157959, -4.820799827575684, -4.831699848175049, -4.842100143432617, -4.862299919128418, -4.88670015335083, -4.8983001708984375, -4.906400203704834, -4.909999847412109, -4.909599781036377, -4.911399841308594, -4.929699897766113, -4.814799785614014, -4.952000141143799, -4.984600067138672, -5.700699806213379, -5.707699775695801, -5.724299907684326, -5.7393999099731445, -5.789700031280518, -5.806000232696533, -5.8069000244140625, -5.808499813079834, -5.810400009155273, -5.815499782562256, -5.853499889373779, -5.96619987487793, -5.9741997718811035, -6.037600040435791, -6.0441999435424805, -5.6331000328063965, -5.893199920654297, -5.205999851226807, -4.833199977874756, -5.2530999183654785, -5.58620023727417, -4.136899948120117, -5.269000053405762, -4.76200008392334, -3.7695999145507812, -5.630199909210205, -4.132599830627441, -5.533999919891357, -4.925000190734863, -4.08489990234375, -4.987599849700928, -5.236700057983398, -5.153200149536133, -4.0167999267578125, -4.463900089263916, -4.059700012207031, -4.56220006942749, -4.810999870300293, -4.608099937438965, -4.896599769592285, -4.785200119018555, -4.845399856567383, -4.8246002197265625, -4.2480998039245605, -4.288899898529053, -4.3414998054504395, -4.392499923706055, -4.612599849700928, -4.802700042724609, -4.812900066375732, -4.236199855804443, -5.141600131988525, -5.223100185394287, -5.330699920654297, -5.335000038146973, -5.411600112915039, -5.422599792480469, -5.44379997253418, -5.446400165557861, -5.44890022277832, -5.453700065612793, -5.4542999267578125, -5.457600116729736, -5.495100021362305, -5.558000087738037, -5.637599945068359, -5.712299823760986, -5.752900123596191, -5.833799839019775, -5.834799766540527, -5.838200092315674, -5.846799850463867, -5.855899810791016, -5.4222002029418945, -5.5543999671936035, -5.235300064086914, -3.850100040435791, -4.1940999031066895, -3.927500009536743, -5.126399993896484, -3.349900007247925, -5.207300186157227, -4.127099990844727, -5.01230001449585, -3.8004000186920166, -4.304999828338623, -4.285299777984619, -4.610899925231934, -4.761199951171875, -4.469600200653076, -4.7368998527526855, -4.686999797821045, -4.691699981689453, -4.696100234985352, -5.141900062561035, -4.883200168609619, -4.95550012588501, -5.013999938964844, -5.081299781799316, -5.118299961090088]}, \"token.table\": {\"Topic\": [1, 3, 4, 5, 6, 7, 8, 9, 10, 11, 12, 13, 14, 15, 4, 4, 9, 1, 4, 9, 11, 13, 1, 3, 4, 6, 2, 5, 6, 11, 13, 9, 1, 2, 7, 8, 10, 12, 1, 2, 3, 4, 6, 7, 8, 11, 12, 7, 13, 1, 2, 4, 5, 6, 7, 11, 1, 2, 3, 4, 6, 7, 8, 9, 10, 11, 12, 13, 14, 12, 1, 2, 3, 4, 5, 6, 7, 8, 9, 10, 11, 12, 13, 14, 2, 5, 7, 8, 12, 2, 7, 7, 1, 8, 1, 2, 3, 4, 5, 8, 11, 12, 13, 14, 1, 2, 3, 4, 5, 6, 7, 8, 10, 11, 12, 13, 14, 15, 5, 6, 7, 8, 10, 11, 12, 5, 12, 4, 4, 2, 15, 7, 8, 9, 13, 14, 2, 4, 7, 8, 7, 1, 2, 3, 4, 5, 6, 7, 8, 9, 10, 11, 12, 13, 14, 15, 7, 12, 6, 6, 8, 12, 11, 2, 4, 6, 1, 3, 5, 10, 11, 14, 5, 4, 1, 10, 1, 3, 4, 6, 7, 8, 10, 11, 12, 13, 12, 1, 2, 3, 4, 5, 6, 7, 8, 9, 10, 11, 12, 13, 14, 15, 8, 5, 3, 1, 9, 12, 1, 7, 8, 8, 1, 2, 5, 7, 8, 2, 3, 12, 12, 2, 12, 1, 2, 3, 4, 6, 7, 9, 10, 11, 14, 15, 14, 10, 1, 2, 3, 4, 5, 6, 7, 8, 9, 10, 11, 12, 13, 14, 15, 6, 4, 7, 1, 2, 3, 4, 6, 8, 10, 11, 12, 14, 4, 11, 9, 5, 10, 13, 2, 15, 4, 7, 1, 2, 3, 6, 11, 12, 1, 4, 6, 7, 11, 1, 9, 12, 12, 13, 1, 2, 3, 4, 5, 6, 7, 8, 9, 11, 12, 13, 14, 15, 8, 1, 2, 3, 4, 6, 7, 8, 9, 10, 11, 12, 15, 1, 2, 3, 4, 5, 6, 7, 8, 10, 11, 12, 13, 14, 15, 2, 5, 11, 15, 1, 1, 2, 3, 4, 5, 6, 7, 8, 9, 10, 11, 12, 13, 14, 10, 4, 1, 2, 3, 4, 5, 6, 7, 8, 9, 10, 11, 12, 13, 14, 15, 5, 2, 6, 2, 9, 14, 11, 10, 10, 10, 5, 1, 3, 4, 5, 7, 8, 10, 11, 14, 1, 2, 3, 4, 5, 6, 7, 8, 9, 10, 11, 12, 13, 14, 15, 10, 1, 9, 11, 2, 4, 6, 8, 11, 3, 4, 6, 9, 12, 9, 3, 6, 10, 1, 2, 4, 5, 6, 7, 8, 9, 10, 11, 12, 13, 14, 2, 1, 2, 4, 5, 6, 7, 8, 11, 12, 13, 14, 15, 11, 1, 2, 4, 5, 6, 7, 8, 9, 10, 11, 13, 14, 15, 15, 15, 14, 3, 5, 13, 15, 3, 12, 1, 7, 15, 3, 5, 12, 2, 11, 12, 1, 2, 4, 5, 6, 7, 8, 13, 15, 13, 1, 3, 1, 3, 1, 11, 4, 6, 7, 11, 8, 8, 1, 3, 7, 8, 9, 12, 13, 15, 1, 2, 6, 10, 11, 13, 14, 3, 6, 7, 13, 3, 1, 14, 3, 8, 1, 2, 3, 4, 5, 7, 10, 11, 14, 10, 3, 1, 2, 3, 4, 5, 6, 7, 8, 9, 10, 11, 12, 13, 14, 15, 1, 2, 3, 4, 5, 6, 7, 8, 9, 10, 11, 12, 13, 14, 15, 1, 2, 3, 4, 5, 6, 7, 8, 11, 12, 15, 1, 2, 3, 4, 5, 6, 7, 8, 10, 12, 13, 14, 8, 13, 9, 14, 15, 7, 1, 2, 3, 4, 5, 6, 7, 8, 10, 11, 13, 15, 4, 6, 10, 6, 11, 10, 15, 1, 6, 9, 11, 1, 2, 7, 8, 10, 11, 12, 13, 1, 2, 3, 4, 5, 6, 7, 8, 9, 10, 11, 12, 13, 14, 15, 5, 13, 9, 11, 8, 2, 1, 2, 3, 4, 5, 6, 8, 11, 12, 13, 15, 14, 1, 2, 3, 4, 5, 6, 7, 8, 9, 10, 11, 12, 13, 14, 15, 6, 4, 6, 7, 11, 12, 1, 10, 14, 10, 14, 1, 2, 4, 5, 6, 7, 8, 9, 10, 11, 12, 13, 14, 15, 4, 5, 6, 11, 12, 9, 9, 1, 3, 5, 11, 1, 1, 2, 3, 4, 5, 7, 8, 9, 10, 11, 12, 13, 14, 15, 14, 1, 1, 1, 2, 3, 4, 5, 6, 7, 10, 1, 2, 3, 4, 6, 7, 8, 11, 12, 10, 1, 2, 3, 4, 5, 6, 7, 8, 9, 10, 11, 12, 13, 14, 15, 3, 1, 4, 5, 8, 10, 13, 5, 4, 7, 1, 2, 3, 4, 5, 6, 7, 8, 10, 11, 12, 13, 14, 15, 1, 2, 3, 4, 5, 6, 7, 8, 9, 10, 11, 12, 13, 14, 14, 14, 9, 3, 1, 1, 2, 3, 4, 5, 6, 7, 8, 9, 10, 11, 12, 13, 14, 15, 1, 2, 10, 12, 14, 15, 1, 2, 3, 4, 5, 6, 9, 10, 11, 12, 13, 14, 15, 6, 1, 2, 3, 4, 5, 6, 7, 8, 9, 10, 11, 12, 13, 14, 15, 14, 12, 13, 15, 2, 3, 8, 9, 9, 13, 9, 5, 7, 13, 15, 1, 2, 3, 4, 6, 7, 8, 13, 15, 14, 1, 2, 4, 5, 6, 7, 8, 9, 10, 11, 12, 13, 14, 15, 2, 9, 11, 2, 11, 1, 2, 6, 8, 10, 13, 14, 15, 9, 11, 8, 8, 12, 12, 13, 15, 1, 2, 3, 4, 5, 6, 7, 8, 10, 11, 12, 13, 14, 15, 14, 1, 2, 3, 4, 5, 7, 8, 10, 11, 12, 13, 14, 8, 15, 5, 1, 5, 6, 10, 11, 1, 1, 2, 3, 4, 5, 6, 7, 8, 9, 10, 11, 12, 13, 14, 15, 2, 4, 5, 6, 7, 11, 2, 8, 2, 1, 3, 5, 8, 9, 10, 11, 12, 13, 14, 15, 13, 15, 1, 3, 4, 5, 6, 9, 11, 12, 13, 14, 12, 4, 1, 2, 4, 5, 6, 7, 8, 9, 10, 11, 12, 13, 14, 15, 6, 8, 10, 11, 1, 2, 3, 4, 6, 7, 8, 9, 12, 13, 15, 10, 15, 3, 9, 11, 1, 2, 3, 4, 5, 6, 7, 8, 9, 10, 11, 12, 13, 14, 15, 1, 1, 11, 9, 3, 1, 1, 4, 7, 13, 14, 3, 5, 2, 12, 15, 12, 15, 15, 2, 11, 12, 11, 14, 15, 15, 12, 1, 3, 4, 5, 7, 10, 14, 1, 3, 4, 6, 7, 10, 14, 9, 14, 1, 2, 15, 2, 10, 8, 12, 5, 11, 15, 1, 6, 10, 11, 11, 1, 2, 4, 5, 6, 7, 11, 12, 13, 14, 15, 15, 13, 3, 6, 7, 8, 7, 9, 13, 12, 8, 12, 13, 15, 3, 12, 15, 11, 14, 3, 6, 1, 2, 3, 4, 5, 6, 7, 8, 9, 10, 11, 12, 13, 14, 15, 1, 3, 5, 7, 10, 12, 13, 14, 1, 2, 3, 4, 5, 6, 7, 8, 10, 11, 12, 13, 14, 15, 13, 5, 1, 2, 3, 4, 5, 6, 7, 11, 5, 11, 14, 11, 1, 2, 3, 4, 5, 6, 10, 13, 14, 15, 9, 14, 1, 2, 4, 5, 6, 7, 8, 9, 10, 11, 12, 13, 14, 15, 1, 2, 3, 4, 5, 6, 7, 8, 9, 10, 11, 12, 13, 14, 15, 14, 2, 1, 3, 4, 7, 10, 14, 5, 6, 13, 14, 14, 14, 11, 10, 5, 9, 11, 1, 1, 3, 4, 6, 7, 8, 10, 15, 8, 11, 1, 5, 10, 2, 4, 6, 7, 8, 12, 14, 15, 4, 15, 1, 3, 4, 5, 6, 7, 8, 12, 13, 1, 2, 3, 4, 5, 6, 7, 8, 10, 11, 12, 13, 14, 15, 4, 7, 8, 12, 4, 3, 8, 1, 2, 4, 7, 8, 8, 2, 4, 14, 2, 1, 10, 5, 2, 1, 2, 5, 7, 12, 7, 13, 7, 3, 4, 6, 7, 8, 7, 1, 2, 3, 4, 5, 6, 7, 8, 9, 10, 11, 12, 14, 15, 9, 2, 5, 6, 7, 8, 2, 4, 14, 3, 4, 6, 7, 1, 3, 4, 6, 7, 10, 12, 14, 15, 1, 1, 14, 14, 14, 6, 1, 2, 3, 4, 5, 6, 7, 8, 9, 10, 11, 12, 13, 14, 15, 3, 12, 1, 10, 5, 7, 7, 10, 12, 14, 1, 2, 3, 4, 5, 6, 7, 8, 9, 10, 11, 12, 13, 15, 7, 12, 1, 5, 10, 14, 9, 2, 4, 7, 5, 2, 4, 1, 2, 3, 4, 5, 6, 7, 8, 9, 11, 12, 13, 14, 1, 2, 4, 6, 7, 8, 9, 10, 11, 14, 10, 4, 1, 3, 4, 9, 7, 10, 11, 1, 2, 4, 5, 6, 7, 8, 9, 10, 11, 12, 13, 14, 15, 13, 2, 15, 13, 15, 1, 13, 2, 6, 7, 11, 13, 14, 15, 1, 3, 4, 5, 7, 10, 12, 13, 14, 15, 6, 8, 9, 7, 6, 1, 2, 3, 4, 9, 11, 12, 11, 13, 13, 1, 2, 3, 4, 7, 8, 9, 12, 13, 14, 15, 7, 2, 9, 6, 7, 11, 13, 1, 3, 4, 14, 7, 11, 1, 2, 3, 4, 5, 6, 7, 8, 9, 10, 11, 12, 13, 14, 15, 2, 12, 12, 2, 7, 12, 12, 7, 8, 7, 1, 2, 3, 4, 5, 6, 7, 8, 9, 10, 11, 12, 13, 14, 15, 1, 2, 3, 4, 5, 6, 7, 8, 9, 10, 11, 12, 13, 14, 15, 12, 3, 12, 10, 1, 3, 15, 11, 2, 9, 2, 1, 2, 3, 4, 5, 6, 7, 10, 6, 6, 6, 11, 3, 1, 2, 4, 5, 6, 7, 8, 9, 10, 11, 12, 13, 14, 15, 8, 1, 2, 4, 6, 7, 8, 9, 11, 12, 14, 6, 8, 11, 14, 4, 1, 2, 4, 5, 6, 7, 8, 10, 11, 12, 13, 14, 1, 2, 3, 4, 5, 6, 7, 8, 9, 10, 11, 12, 13, 14, 15, 1, 2, 3, 4, 5, 7, 10, 14, 1, 2, 3, 4, 7, 10, 14, 9, 7, 5, 10, 11, 1, 2, 3, 4, 5, 6, 7, 8, 9, 10, 11, 12, 13, 14, 15, 1, 3, 5, 7, 8, 9, 10, 11, 13, 14, 15, 1, 2, 3, 4, 5, 6, 7, 8, 10, 4, 9, 13, 7, 1, 4, 5, 7, 10, 14, 1, 2, 5, 6, 7, 8, 9, 11, 12, 13, 2, 5, 6, 7, 8, 1, 2, 3, 4, 5, 6, 7, 8, 9, 10, 11, 12, 13, 14, 15, 1, 2, 3, 4, 5, 6, 7, 8, 9, 10, 11, 12, 15, 2, 4, 6, 11, 12, 12, 3, 4, 6, 8, 12, 14, 2, 14, 3, 4, 7, 8, 9, 12, 13, 3, 12, 3, 4, 6, 8, 12, 2, 4, 5, 6, 7, 9, 10, 11, 13, 14, 3, 2, 4, 5, 6, 7, 8, 10, 11, 13, 14, 11, 2, 6, 8, 4, 6, 7, 8, 12, 1, 2, 4, 5, 6, 7, 10, 14, 1, 6, 5, 14, 12, 15, 9, 13, 15, 13, 8, 9, 13, 15, 15, 15, 2, 7, 3, 12, 1, 2, 3, 4, 5, 6, 7, 8, 12, 13, 8, 1, 2, 3, 4, 5, 6, 7, 8, 9, 10, 11, 12, 13, 14, 15, 11, 13, 7, 1, 2, 3, 4, 5, 6, 7, 8, 9, 10, 11, 12, 13, 14, 15, 3, 12, 15, 15, 12, 4, 15, 1, 2, 3, 4, 5, 6, 7, 8, 10, 11, 12, 13, 1, 2, 4, 6, 7, 10, 12, 13, 14, 15, 10, 4, 1, 2, 5, 6, 7, 8, 1, 2, 5, 7, 8, 11, 12, 1, 2, 3, 4, 5, 6, 7, 8, 9, 10, 11, 12, 13, 14, 15, 14, 1, 4, 5, 6, 5, 1, 2, 3, 4, 5, 6, 7, 8, 9, 11, 12, 13, 15, 15, 15, 1, 10, 4, 6, 10, 2, 4, 6, 11, 13, 10, 14, 1, 2, 1, 2, 3, 3, 10, 8, 12, 15, 1, 2, 3, 4, 5, 6, 7, 8, 9, 10, 12, 13, 15, 1, 6, 1, 2, 3, 4, 5, 6, 7, 8, 9, 10, 11, 12, 13, 14, 15, 8, 5, 15, 2, 12, 3, 1, 15, 12, 1, 3, 14, 2, 4, 6, 7, 8, 9, 10, 11, 12, 13, 15, 15, 5, 2, 8, 2, 3, 4, 6, 7, 8, 9, 10, 13, 2, 7, 1, 2, 4, 6, 7, 8, 11, 12, 14, 15, 2, 3, 2, 6, 7, 8, 12, 9, 4, 2, 4, 5, 6, 7, 8, 10, 11, 12, 14, 15, 15, 2, 10, 11, 1, 3, 4, 5, 6, 7, 8, 9, 10, 12, 13, 14, 15, 4, 1, 2, 3, 4, 6, 7, 10, 11, 14, 1, 3, 4, 5, 6, 11, 14, 1, 14, 1, 11, 14, 1, 14, 12, 1, 3, 4, 5, 6, 7, 8, 9, 10, 11, 13, 14, 15, 1, 3, 4, 5, 6, 7, 9, 10, 14, 6, 8, 5, 8, 12, 8, 1, 2, 5, 7, 8, 11, 12, 14, 14, 1, 3, 7, 9, 13, 8, 13, 4, 6, 11, 2, 6, 10, 11, 2, 4, 12, 14, 4, 7, 5, 9, 9, 1, 2, 4, 5, 6, 7, 8, 9, 10, 11, 12, 13, 14, 15, 1, 1, 2, 3, 4, 6, 7, 8, 9, 11, 13, 14, 9, 12, 13, 15, 1, 2, 3, 4, 6, 10, 13, 15, 1, 2, 6, 7, 8, 11, 12, 11, 5, 12, 4, 1, 2, 3, 4, 5, 6, 7, 8, 9, 11, 12, 13, 14, 9, 12, 12, 9, 2, 3, 4, 7, 9, 13, 13, 10, 1, 2, 3, 4, 5, 10, 15, 1, 2, 3, 4, 5, 6, 10, 11, 14, 14, 1, 2, 4, 6, 7, 11, 12, 13, 1, 2, 2, 1, 2, 3, 5, 7, 8, 11, 12, 1, 7, 8, 13, 5, 9, 9, 3, 2, 8, 1, 1, 3, 4, 5, 7, 9, 10, 13, 15, 3, 1, 3, 4, 5, 6, 7, 8, 9, 10, 11, 12, 13, 14, 1, 3, 4, 5, 7, 10, 11, 3, 7, 8, 2, 10, 11, 2, 6, 7, 8, 11, 12, 14, 15, 10, 2, 1, 2, 4, 6, 7, 8, 10, 11, 13, 1, 2, 6, 7, 8, 9, 10, 11, 12, 13, 14, 13, 1, 2, 4, 5, 6, 7, 8, 11, 12, 15, 1, 2, 3, 4, 5, 6, 7, 10, 14, 2, 1, 2, 5, 6, 7, 10, 11, 14, 1, 2, 3, 4, 5, 6, 7, 10, 11, 14, 2, 2, 7, 12, 1, 5, 1, 2, 3, 4, 6, 7, 8, 9, 10, 11, 12, 13, 15, 4, 2, 11, 1, 5, 6, 1, 2, 3, 4, 5, 6, 7, 8, 9, 10, 11, 12, 13, 14, 5, 1, 6, 13, 7, 4, 13, 5, 11, 11, 1, 2, 3, 4, 5, 6, 7, 8, 9, 10, 11, 12, 13, 14, 15, 1, 2, 3, 4, 5, 6, 7, 8, 9, 10, 11, 12, 13, 14, 2, 5, 8, 15, 2, 11, 9, 7, 1, 2, 3, 4, 5, 6, 7, 8, 9, 10, 11, 12, 13, 14, 15, 4, 14, 14, 6, 5, 10, 13, 10, 7, 11, 6, 7, 4, 1, 2, 3, 4, 5, 6, 7, 8, 9, 10, 11, 12, 13, 14, 15, 8, 1, 4, 8, 12, 2, 4, 6, 7, 8, 11, 13, 1, 2, 6, 7, 9, 10, 11, 12, 14, 2, 13, 2, 14, 2, 2, 3, 1, 2, 3, 4, 5, 6, 7, 8, 10, 11, 12, 13, 14, 15, 1, 4, 11, 13, 14, 13, 2, 9, 11, 1, 3, 4, 5, 1, 2, 3, 4, 6, 8, 11, 13, 15, 13, 9, 13, 15, 3, 8, 1, 8, 1, 2, 5, 6, 8, 9, 12, 14, 15, 5, 6, 1, 2, 5, 6, 8, 11, 9, 1, 2, 4, 5, 6, 7, 8, 10, 11, 12, 13, 14, 15, 13, 1, 2, 7, 10, 11, 12, 13, 14, 15, 1, 2, 4, 5, 6, 7, 8, 9, 10, 11, 12, 14, 15, 1, 2, 3, 4, 5, 6, 7, 8, 9, 10, 11, 12, 13, 14, 15, 4, 1, 2, 3, 4, 5, 6, 7, 8, 9, 10, 11, 12, 13, 15, 12, 8, 6, 8, 12, 9, 10, 13, 7, 12, 1, 2, 3, 4, 5, 6, 7, 8, 9, 10, 11, 6, 13, 15, 8, 1, 2, 3, 4, 5, 6, 7, 8, 9, 10, 11, 12, 13, 14, 15, 2, 4, 1, 2, 4, 5, 6, 7, 8, 2, 12, 2, 4, 6, 7, 10, 14, 1, 2, 4, 5, 6, 7, 8, 9, 10, 11, 12, 13, 14, 15, 1, 2, 4, 5, 6, 7, 8, 9, 10, 11, 13, 14, 7, 9, 1, 4, 6, 7, 10, 3, 9, 1, 6, 11, 1, 6, 10, 1, 2, 3, 4, 5, 6, 7, 8, 10, 11, 12, 13, 14, 15, 1, 2, 3, 4, 5, 6, 7, 8, 9, 10, 11, 12, 13, 14, 15, 14, 2, 14, 9, 10, 5, 1, 2, 3, 4, 5, 6, 7, 8, 10, 11, 12, 13, 14, 1, 2, 3, 4, 7, 8, 11, 12, 6, 9, 4, 7, 9, 1, 2, 3, 4, 5, 6, 7, 8, 10, 11, 12, 13, 14, 15, 13, 11, 4, 2, 4, 5, 6, 8, 10, 11, 12, 13, 14, 1, 1, 1, 3, 4, 7, 8, 10, 14, 1, 4, 5, 6, 7, 10, 11, 14, 10, 7, 10, 13, 13, 8, 2, 5, 6, 7, 8, 9, 12, 13, 15, 13, 10, 1, 2, 3, 4, 5, 6, 7, 8, 9, 10, 11, 12, 13, 14, 15, 2, 4, 6, 7, 8, 10, 13, 14, 9, 8, 7, 10, 6, 10, 6, 5, 7, 8, 1, 2, 4, 5, 6, 7, 8, 10, 11, 13, 14, 1, 2, 3, 4, 5, 6, 7, 8, 9, 10, 11, 12, 13, 14, 15, 2, 3, 4, 6, 7, 11, 12, 13, 15, 2, 4, 6, 7, 7, 1, 2, 3, 4, 5, 6, 7, 8, 9, 10, 11, 12, 13, 15, 12, 3, 4, 6, 7, 8, 9, 11, 13, 14, 1, 2, 3, 4, 5, 6, 11, 12, 3, 3, 6, 7, 3, 6, 1, 14, 3, 4, 6, 7, 6, 6, 7, 15, 14, 1, 2, 4, 6, 7, 8, 10, 11, 12, 13, 14, 1, 2, 6, 7, 8, 9, 12, 3, 15, 1, 4, 3, 9, 13, 1, 13, 6, 6, 11, 7, 11, 6, 6, 6, 1, 2, 3, 4, 5, 6, 7, 10, 11, 14, 1, 2, 3, 4, 5, 6, 7, 8, 9, 11, 12, 13, 14, 15, 6, 1, 2, 3, 4, 5, 6, 7, 8, 9, 10, 11, 12, 13, 14, 15, 1, 2, 3, 4, 5, 6, 7, 8, 9, 10, 11, 12, 13, 14, 15, 6, 15, 11, 4, 1, 2, 3, 4, 6, 7, 8, 10, 11, 12, 13, 15, 1, 2, 3, 4, 6, 7, 8, 10, 11, 15, 7, 6, 13, 1, 2, 3, 4, 5, 6, 7, 8, 9, 10, 11, 12, 13, 14, 15, 2, 12, 14, 15, 4], \"Freq\": [0.3308194577693939, 0.0006364972796291113, 0.0005569350905716419, 0.0381898358464241, 0.0009547459194436669, 0.07271981239318848, 0.18577764928340912, 0.12149141728878021, 0.08346070349216461, 0.04320225119590759, 0.007319718599319458, 0.07781179249286652, 0.017185427248477936, 0.019890539348125458, 0.998972475528717, 0.9999315738677979, 1.0002801418304443, 0.8540456295013428, 0.024044077843427658, 0.0028852892573922873, 0.016349973157048225, 0.1019468903541565, 0.010672197677195072, 0.9302598834037781, 0.05158228799700737, 0.008893498219549656, 0.0011551735224202275, 0.9876733422279358, 0.011166676878929138, 0.5111715793609619, 0.4888324737548828, 1.0001873970031738, 0.996059775352478, 0.002854039426892996, 0.16516126692295074, 0.008106074295938015, 0.0830872654914856, 0.7437323331832886, 0.02904355153441429, 0.006454122718423605, 0.006857505068182945, 0.052843127399683, 0.7869995832443237, 0.009681183844804764, 0.08995433151721954, 0.014925158582627773, 0.0036304439418017864, 0.9941269159317017, 0.00490684574469924, 0.1151050254702568, 0.002635992830619216, 0.0017573286313563585, 0.0008786643156781793, 0.805735170841217, 0.005271985661238432, 0.06853581964969635, 0.024785175919532776, 0.015823304653167725, 0.1578129529953003, 0.014563040807843208, 0.029686197638511658, 0.01974412240087986, 0.0698745921254158, 0.24533122777938843, 0.14997132122516632, 0.0015403216239064932, 0.21130411326885223, 0.021984590217471123, 0.03766786679625511, 0.9992027282714844, 0.16758635640144348, 0.07615549117326736, 0.0008855289779603481, 0.0784062072634697, 0.07563893496990204, 0.16053901612758636, 0.041066404432058334, 0.11759086698293686, 0.11567221581935883, 0.04567853361368179, 0.005128688644617796, 0.005239379592239857, 0.04785545915365219, 0.06250358372926712, 0.9137930274009705, 0.08152800053358078, 0.0016985000111162663, 0.0021231251303106546, 0.00042462500277906656, 0.9998126029968262, 1.0005542039871216, 0.999083399772644, 1.0005301237106323, 0.9922698736190796, 0.02121645025908947, 0.005195865407586098, 0.7278541922569275, 0.056721530854701996, 0.012556674890220165, 0.1030513346195221, 0.003896899288520217, 0.0004329888033680618, 0.002597932703793049, 0.06668027490377426, 0.012185739353299141, 0.000784489675424993, 0.8167060613632202, 0.1248384565114975, 0.003190258052200079, 0.0005752923898398876, 0.0037132510915398598, 0.005909821949899197, 0.01375471893697977, 0.0011505847796797752, 0.004811536520719528, 0.006119019351899624, 0.0035563530400395393, 0.0027195641305297613, 0.35234495997428894, 0.08653542399406433, 0.00713374512270093, 0.0009304884588345885, 0.46245276927948, 0.016748791560530663, 0.07350859045982361, 0.9997037649154663, 0.9988327026367188, 1.0005170106887817, 1.0006247758865356, 0.07387705147266388, 0.9245184659957886, 0.47773346304893494, 0.049426183104515076, 0.34836718440055847, 0.12396277487277985, 0.0003178532642778009, 0.008501343429088593, 0.00023614842211827636, 0.8950024843215942, 0.09611240774393082, 1.000303030014038, 0.3052750825881958, 0.06306152045726776, 0.0005280270706862211, 0.19770842790603638, 0.06675770878791809, 0.012823515571653843, 0.10085317492485046, 0.13343998789787292, 0.0015840813284739852, 0.03220965340733528, 0.0039224871434271336, 0.018480949103832245, 0.013426974415779114, 0.04465600475668907, 0.005431135650724173, 0.9987543225288391, 1.0003151893615723, 1.00151526927948, 0.9995970726013184, 0.9978339076042175, 1.0001839399337769, 0.9991607069969177, 1.0004785060882568, 0.044453319162130356, 0.9550728797912598, 0.8506031632423401, 0.003757081227377057, 0.10144118964672089, 0.0007514162571169436, 0.027050985023379326, 0.01577974110841751, 0.9998513460159302, 0.9998587965965271, 0.12096154689788818, 0.8789259195327759, 0.0015953100519254804, 0.12944801151752472, 0.4191107451915741, 0.15975891053676605, 0.1431221067905426, 0.012990381568670273, 0.12648530304431915, 0.001823211438022554, 0.0004558028595056385, 0.004785930272191763, 0.9990667104721069, 0.13007868826389313, 0.00892510637640953, 0.4682832658290863, 0.1528661847114563, 0.004747397266328335, 0.01993906870484352, 0.019369380548596382, 0.02943386323750019, 0.031902510672807693, 0.024496570229530334, 0.013102816417813301, 0.014621983282268047, 0.03854886442422867, 0.017660317942500114, 0.02582584135234356, 1.0002820491790771, 0.9997071027755737, 0.9978019595146179, 0.934579074382782, 0.03309639170765877, 0.03309639170765877, 0.9995558857917786, 0.9369364380836487, 0.06285527348518372, 1.0013831853866577, 0.11830054968595505, 0.05359157547354698, 0.08580353111028671, 0.08580353111028671, 0.6564967632293701, 0.012000017799437046, 0.004666673485189676, 0.9826681017875671, 0.9997274279594421, 0.022609984502196312, 0.9776126742362976, 0.631138026714325, 0.0013581623788923025, 0.11585124582052231, 0.011951828375458717, 0.012359277345240116, 0.07972412556409836, 0.028657225891947746, 0.014532336965203285, 0.01100111473351717, 0.07415566593408585, 0.019150089472532272, 1.0005762577056885, 0.9997735023498535, 0.18296699225902557, 0.12371481209993362, 0.31436389684677124, 0.0012024118332192302, 0.007782276254147291, 0.010053498670458794, 0.014629343524575233, 0.03744176775217056, 0.02575165219604969, 0.024950044229626656, 0.11292650550603867, 0.033968131989240646, 0.04121600463986397, 0.04555804654955864, 0.023480430245399475, 0.99982750415802, 0.9997147917747498, 1.000272512435913, 0.08826129138469696, 0.006269927602261305, 0.06800460070371628, 0.03134963661432266, 0.45915162563323975, 0.005064172204583883, 0.19340315461158752, 0.14444948732852936, 0.001446906360797584, 0.002170359482988715, 0.9959638714790344, 0.003316194750368595, 0.9998415112495422, 0.999717652797699, 0.9984774589538574, 0.9998694658279419, 0.05831174552440643, 0.9405120611190796, 0.9658975005149841, 0.033913735300302505, 0.6168333292007446, 0.15833674371242523, 0.011413844302296638, 0.000971391040366143, 0.1092814952135086, 0.10296744853258133, 0.9431136846542358, 0.0022269508335739374, 0.0022269508335739374, 0.005567376967519522, 0.04676596820354462, 0.018235696479678154, 0.38565123081207275, 0.5956994295120239, 0.8420447707176208, 0.1583154797554016, 0.05873871594667435, 0.12127285450696945, 0.030724866315722466, 0.0437377505004406, 0.4541858434677124, 0.014458760619163513, 0.007771584205329418, 0.19067491590976715, 0.0003614690212998539, 0.0032532212790101767, 0.035604700446128845, 0.0016266106395050883, 0.02512209676206112, 0.012470681220293045, 0.9999799132347107, 0.002951055532321334, 0.09406489133834839, 0.033752694725990295, 0.24844197928905487, 0.33715808391571045, 0.033568255603313446, 0.029694994911551476, 0.16175472736358643, 0.013833072036504745, 0.026190616190433502, 0.0012910867808386683, 0.01715300977230072, 0.12135617434978485, 0.06795115023851395, 0.001454611774533987, 0.02732592076063156, 0.036988697946071625, 0.31149470806121826, 0.03366387262940407, 0.10171891748905182, 0.008208165876567364, 0.021195771172642708, 0.06867845356464386, 0.0061301495879888535, 0.09070543199777603, 0.10306963324546814, 0.006355039309710264, 0.9836693406105042, 0.009986490942537785, 0.9998032450675964, 0.9989056587219238, 0.13675113022327423, 0.054559651762247086, 0.5619996190071106, 0.09574338793754578, 0.006652757525444031, 0.01115832943469286, 0.014889505691826344, 0.0001055993270711042, 0.0003167979884892702, 0.0014431908493861556, 0.007004755549132824, 0.00017599888087715954, 0.1006009578704834, 0.008588745258748531, 0.99949049949646, 1.0000884532928467, 0.14046363532543182, 0.02872467041015625, 0.2899276614189148, 0.03226738050580025, 0.005553435999900103, 0.021543502807617188, 0.11556892096996307, 0.021160505712032318, 0.1337612122297287, 0.09029120951890945, 0.007372665219008923, 0.05180015414953232, 0.0344696044921875, 0.01417083665728569, 0.012926101684570312, 1.0000730752944946, 0.9940466284751892, 0.004185459576547146, 0.9995744824409485, 0.08272732049226761, 0.9175211787223816, 0.9999040365219116, 0.9993020296096802, 0.9977768063545227, 0.9997759461402893, 1.000020980834961, 0.057750847190618515, 0.025730576366186142, 0.7862120270729065, 0.01543834526091814, 0.06232517212629318, 0.00228716223500669, 0.045171454548835754, 0.0017153717344626784, 0.0028589528519660234, 0.0612238384783268, 0.14526112377643585, 0.04834277927875519, 0.06029267981648445, 0.008380449377000332, 0.18041245639324188, 0.05276579409837723, 0.026382897049188614, 0.1654362827539444, 0.0016295318491756916, 0.06293097138404846, 0.15014971792697906, 0.03034033067524433, 0.000698370800819248, 0.0058197565376758575, 1.0001933574676514, 0.09813979268074036, 0.8391860723495483, 0.06224606931209564, 0.07982182502746582, 0.0006001641158945858, 0.670083224773407, 0.24066580832004547, 0.009002462029457092, 0.005500523839145899, 0.04583770036697388, 0.2186458259820938, 0.7297361493110657, 0.9985806941986084, 1.0000975131988525, 0.9977511167526245, 0.9978002905845642, 0.9971470236778259, 0.09291169792413712, 0.22516261041164398, 0.0075120097026228905, 0.011861068196594715, 0.20835942029953003, 0.00019768446509260684, 0.02905961684882641, 0.004942111670970917, 0.004942111670970917, 0.001976844621822238, 0.3200511634349823, 0.04645584896206856, 0.04665353521704674, 0.9994537234306335, 0.035260364413261414, 0.3155442774295807, 0.10056399554014206, 0.006476393435150385, 0.01241308730095625, 0.03597996383905411, 0.014032186008989811, 0.021587977185845375, 0.21803857386112213, 0.050551846623420715, 0.08599211275577545, 0.10362229496240616, 1.0003284215927124, 0.11729039251804352, 0.3023766875267029, 0.008287446573376656, 0.005985377822071314, 0.042242955416440964, 0.04604136943817139, 0.2137470543384552, 0.06192564219236374, 0.026819096878170967, 0.01565406657755375, 0.06031419336795807, 0.09898894280195236, 0.00023020684602670372, 1.0000381469726562, 1.000037431716919, 1.0000429153442383, 0.9987306594848633, 0.2347412109375, 0.6290478110313416, 0.13632161915302277, 0.9793218374252319, 0.02022695727646351, 0.0162923913449049, 0.9677680134773254, 0.014663152396678925, 1.0030165910720825, 1.000145673751831, 0.9994857311248779, 0.3429330885410309, 0.3052745461463928, 0.3517467975616455, 0.003601825563237071, 0.24420377612113953, 0.27427902817726135, 0.14911557734012604, 0.034757617861032486, 0.12822498381137848, 0.00018009127234108746, 0.04376218095421791, 0.12210188806056976, 0.9997438788414001, 1.0005593299865723, 1.00273859500885, 0.9973905086517334, 0.9959574341773987, 0.9797123670578003, 0.01916828565299511, 0.025364484637975693, 0.9306815266609192, 0.039022285491228104, 0.0039022285491228104, 0.9924951791763306, 0.9982425570487976, 0.003980882000178099, 0.6830529570579529, 0.002985661383718252, 0.13933086395263672, 0.11577731370925903, 0.012937866151332855, 0.04047229886054993, 0.0013269606279209256, 0.0003999540931545198, 0.041595228016376495, 0.5431376695632935, 0.023997247219085693, 0.21757502853870392, 0.04439490661025047, 0.1283852756023407, 0.02499617636203766, 0.8259153366088867, 0.07707154005765915, 0.07082249969244003, 1.000529408454895, 1.0002111196517944, 0.9998528361320496, 1.0010521411895752, 0.9988455176353455, 0.5549961924552917, 0.0621601864695549, 0.031195063143968582, 0.00038323173066601157, 0.0009197561303153634, 0.0005365243996493518, 0.2863507568836212, 0.0004598780651576817, 0.0630032941699028, 0.9997952580451965, 1.000599980354309, 0.15216529369354248, 0.11646497994661331, 0.0005852511385455728, 0.005325785372406244, 0.22760416567325592, 0.0002926255692727864, 0.07941857725381851, 0.23404192924499512, 0.0616854690015316, 0.035232119262218475, 0.01357782632112503, 0.0441279374063015, 0.0030433060601353645, 0.02317594550549984, 0.0032774063292890787, 0.2439795583486557, 0.025040367618203163, 8.20099376142025e-05, 0.0008747726678848267, 0.13023178279399872, 0.00295235775411129, 0.08438822627067566, 0.1533859223127365, 0.10729633271694183, 0.07673396170139313, 0.01771414652466774, 0.0056586856953799725, 0.0582270547747612, 0.0836501345038414, 0.00975918211042881, 0.0025963906664401293, 0.09303732961416245, 0.6391448378562927, 0.11077933013439178, 0.0406767874956131, 0.0025963906664401293, 0.031156687065958977, 0.05236054211854935, 0.0008654635166749358, 0.009087366983294487, 0.017309270799160004, 0.01329821813851595, 0.04078119993209839, 0.6573752164840698, 0.01950405351817608, 0.03235899657011032, 0.09707698971033096, 0.010195299983024597, 0.006205834913998842, 0.08776823431253433, 0.03368881717324257, 0.0013298217672854662, 0.999738335609436, 0.8988423943519592, 0.10129857808351517, 0.6936559677124023, 0.07140576094388962, 0.2349967360496521, 0.9999176859855652, 0.006461570039391518, 0.07373791933059692, 0.07449810206890106, 0.031357619911432266, 0.05872426927089691, 0.05777404084801674, 0.012733094394207, 0.0007601847173646092, 0.4703643023967743, 0.19935844838619232, 0.003610877553001046, 0.010642586275935173, 0.0011132259387522936, 0.03302570432424545, 0.9659090638160706, 1.0003032684326172, 1.0006561279296875, 1.003189206123352, 0.999201238155365, 0.04814252629876137, 0.060178156942129135, 0.8889173269271851, 0.0025790638756006956, 0.00037096100277267396, 0.02151573821902275, 0.32830047607421875, 0.002596727106720209, 0.4818783402442932, 0.0007419220055453479, 0.15988418459892273, 0.005193454213440418, 0.19573985040187836, 0.0010073286248371005, 0.158786803483963, 0.06091687083244324, 0.0795789584517479, 0.002014657249674201, 0.20676745474338531, 0.037324175238609314, 0.0064150928519666195, 0.016647430136799812, 0.018290966749191284, 0.02709183841943741, 0.13021047413349152, 0.004188366234302521, 0.055031951516866684, 0.9997644424438477, 0.9994841814041138, 1.0003114938735962, 1.0003520250320435, 0.9982305765151978, 0.9998533725738525, 0.04231972619891167, 0.015508471056818962, 0.028388386592268944, 0.004731397610157728, 0.7546579241752625, 0.0015771326143294573, 0.01025136187672615, 0.001314277178607881, 0.026548398658633232, 0.0044685425236821175, 0.11013642698526382, 0.9995754361152649, 0.04944285377860069, 0.1472136676311493, 0.17523129284381866, 0.004798865411430597, 0.09350515902042389, 0.1557934582233429, 0.011488192714750767, 0.1338834911584854, 0.07460054010152817, 0.04304436594247818, 0.006592380348592997, 0.028259985148906708, 0.01837141439318657, 0.007658794987946749, 0.0501214824616909, 0.9959329962730408, 0.018667034804821014, 0.0008235456771217287, 0.0010980608640238643, 0.01290221605449915, 0.9662936329841614, 0.09367159754037857, 0.719668447971344, 0.1867550015449524, 0.9999138116836548, 1.0000512599945068, 0.059272650629282, 0.2023540735244751, 0.1163398027420044, 0.045212626457214355, 0.046958643943071365, 0.10862057656049728, 0.15006548166275024, 0.11882098764181137, 0.04144490882754326, 0.039882682263851166, 0.030325541272759438, 0.0035839276388287544, 0.02076840214431286, 0.016357414424419403, 0.9981571435928345, 0.0023086077999323606, 0.9465292096138, 0.03289766237139702, 0.017891710624098778, 0.9985802173614502, 0.9982269406318665, 0.863558828830719, 0.004521250259131193, 0.11077063530683517, 0.021475939080119133, 1.0004945993423462, 0.09609583765268326, 0.08227948099374771, 0.13465790450572968, 0.016909567639231682, 0.07052526623010635, 0.0004124284896533936, 0.009073426015675068, 0.10207604616880417, 0.09568340331315994, 0.03402534872293472, 0.21776223182678223, 0.04681063070893288, 0.09114669263362885, 0.0020621423609554768, 0.9998219013214111, 1.0003691911697388, 1.0001003742218018, 0.06115053966641426, 0.0005012339097447693, 0.009774061851203442, 0.0035086374264210463, 0.4450957477092743, 0.15011955797672272, 0.32630330324172974, 0.0037592544686049223, 0.025877203792333603, 0.0003044376790057868, 0.026790516451001167, 0.06849847733974457, 0.6152685880661011, 0.009133130311965942, 0.13973690569400787, 0.09041799604892731, 0.02374614030122757, 1.0004522800445557, 0.23513372242450714, 0.004253064747899771, 0.41326531767845154, 0.024800337851047516, 0.010273636318743229, 0.0011046921135857701, 0.03606819733977318, 0.071694515645504, 0.004363534040749073, 0.049987319856882095, 0.0038111878093332052, 0.014858108945190907, 0.0488273911178112, 0.0737934336066246, 0.007732844911515713, 0.999485969543457, 0.026847904548048973, 0.01431888248771429, 0.034007344394922256, 0.008949301205575466, 0.8824011087417603, 0.034007344394922256, 0.999900221824646, 0.9260706305503845, 0.0737815797328949, 0.003202263033017516, 0.0004087995330337435, 0.7439470291137695, 0.04585368186235428, 0.013422251679003239, 0.02132570929825306, 0.001975864404812455, 0.01696518063545227, 0.0009538655867800117, 0.01539811585098505, 0.014239850454032421, 6.813326035626233e-05, 0.12086839973926544, 0.0013626650907099247, 0.13208800554275513, 0.0022483065258711576, 0.04524717107415199, 0.10876183211803436, 0.013489839620888233, 0.003934536594897509, 0.06351465731859207, 0.001405191607773304, 0.4468509256839752, 0.0328814834356308, 0.033162523061037064, 0.06829231232404709, 0.02950902283191681, 0.01882956735789776, 0.9999906420707703, 0.9994642734527588, 0.9994995594024658, 1.0020811557769775, 0.9981948137283325, 0.2927314341068268, 0.07290627807378769, 0.3778071999549866, 0.04436330497264862, 0.00011063168494729325, 0.0024338969960808754, 0.045801516622304916, 0.00033189504756592214, 0.02699413150548935, 0.001770106959156692, 0.0022126336116343737, 0.0710255429148674, 0.008408008143305779, 0.05122246965765953, 0.001991370227187872, 0.0003493089461699128, 0.06986179202795029, 0.8680327534675598, 0.03982122242450714, 0.01816406659781933, 0.003493089694529772, 0.2591618597507477, 0.060741059482097626, 0.0017354588489979506, 0.4474591612815857, 0.037890851497650146, 0.0017354588489979506, 0.13883671164512634, 0.00028924315120093524, 0.001156972604803741, 0.003470917697995901, 0.0020247020293027163, 0.043097227811813354, 0.0028924315702170134, 0.9986321926116943, 0.02026369795203209, 0.04309087246656418, 0.26434358954429626, 0.13842791318893433, 0.01849367469549179, 0.0012817399110645056, 0.03149418160319328, 0.03515629470348358, 0.031066933646798134, 0.004699713084846735, 0.005126959644258022, 0.04217534512281418, 0.09466564655303955, 0.1744387000799179, 0.09515392780303955, 1.0001246929168701, 0.07763175666332245, 0.6697746515274048, 0.2521693706512451, 0.9993542432785034, 0.9992383718490601, 0.9990103244781494, 0.9994544982910156, 0.9997162222862244, 0.9997323751449585, 1.0000289678573608, 0.007220386527478695, 0.0028881547041237354, 0.8065171837806702, 0.1833978146314621, 0.0006729018059559166, 0.015925342217087746, 0.3844512403011322, 0.0210842564702034, 0.029831981286406517, 0.25435689091682434, 0.0056075151078403, 0.27813273668289185, 0.010317827574908733, 0.9992839694023132, 0.046540629118680954, 0.3242061138153076, 0.0006929126102477312, 0.027408542111516, 0.0893472284078598, 0.0194015521556139, 0.08218713104724884, 0.11860353499650955, 0.043653491884469986, 0.13196134567260742, 0.007314077112823725, 0.016976358368992805, 0.04176723212003708, 0.049928199499845505, 0.012917684391140938, 0.13132978975772858, 0.8554377555847168, 0.929078996181488, 0.07082664966583252, 0.006701909936964512, 0.8276858925819397, 0.036022767424583435, 0.0343472883105278, 0.026807639747858047, 0.05193980038166046, 0.006701909936964512, 0.009215125814080238, 0.9996299743652344, 0.99894118309021, 0.9998326897621155, 0.9873854517936707, 0.013425512239336967, 0.012618687935173512, 0.9522256255149841, 0.03494406118988991, 0.06959772855043411, 0.11456289142370224, 0.07629335671663284, 0.35277998447418213, 0.003624241566285491, 0.00030713912565261126, 0.01443553902208805, 0.13262267410755157, 0.003439958207309246, 0.01197842601686716, 0.046992287039756775, 0.000491422601044178, 0.12021425366401672, 0.05264364555478096, 1.0002152919769287, 0.06641405820846558, 0.03192983567714691, 0.4760282039642334, 0.06750879436731339, 0.011677196249365807, 0.0237193051725626, 0.21894744038581848, 0.03284211456775665, 0.025178955867886543, 0.028828078880906105, 0.006568423006683588, 0.01040000282227993, 1.0037869215011597, 0.9990496039390564, 1.0000295639038086, 0.842764139175415, 0.011269052512943745, 0.13764342665672302, 0.006439458578824997, 0.0008049323223531246, 0.9991440176963806, 0.02824954129755497, 0.16829000413417816, 0.01859157904982567, 0.13859176635742188, 0.019195200875401497, 0.15223364531993866, 0.04659967124462128, 0.02523142844438553, 0.000724347191862762, 0.024869253858923912, 0.03042258322238922, 0.1265193074941635, 0.08752528578042984, 0.04213286191225052, 0.09078484773635864, 0.6340411901473999, 0.272646427154541, 0.0005819561192765832, 0.08903928101062775, 0.0011639122385531664, 0.0026188024785369635, 1.0000842809677124, 0.9961189031600952, 0.9999211430549622, 0.16609254479408264, 0.13047663867473602, 4.3118521716678515e-05, 0.009356718510389328, 0.343611478805542, 0.00017247408686671406, 0.010003496892750263, 0.1306922286748886, 0.0539412684738636, 0.04643864557147026, 0.10917609184980392, 0.525150716304779, 0.47483184933662415, 0.2600155472755432, 0.07117925584316254, 0.0032501944806426764, 0.027626652270555496, 0.035427119582891464, 0.00877552479505539, 0.04322758689522743, 0.5024800300598145, 0.01365081686526537, 0.03445206210017204, 1.0000286102294922, 0.9997345805168152, 0.07554639130830765, 0.10378124564886093, 0.09610910713672638, 0.07630669325590134, 0.03787687420845032, 0.0625866949558258, 0.0013132492313161492, 0.13049550354480743, 0.13384774327278137, 0.08587958663702011, 3.455919068073854e-05, 0.027543675154447556, 0.031345184892416, 0.1373036652803421, 0.9214621782302856, 0.0003171986900269985, 0.07327289879322052, 0.005075179040431976, 1.0008738040924072, 0.18890434503555298, 0.03808555379509926, 0.0010156147181987762, 0.05738223344087601, 0.0050780740566551685, 0.041640207171440125, 0.01472641434520483, 0.18687312304973602, 0.1305065006017685, 0.336168497800827, 1.0002641677856445, 1.0004678964614868, 0.0355890616774559, 0.9642940759658813, 0.9989118576049805, 0.20399260520935059, 0.1310591697692871, 0.1372474581003189, 0.05702068656682968, 0.0026521249674260616, 0.21747423708438873, 0.04143945127725601, 0.05724169686436653, 0.012708098627626896, 0.00044202079880051315, 0.003536166390404105, 0.07978475838899612, 0.025526702404022217, 0.006077785976231098, 0.023758618161082268, 1.000054121017456, 0.9985911250114441, 0.9994717240333557, 0.999609649181366, 1.0006393194198608, 0.9993948936462402, 0.25150027871131897, 0.7350993752479553, 0.0039521474391222, 0.0017964305588975549, 0.0071857222355902195, 0.9999855756759644, 0.9995996952056885, 0.016956226900219917, 0.4720613360404968, 0.5113998055458069, 0.1917238086462021, 0.8084577918052673, 1.0000553131103516, 0.010645571164786816, 0.2207181751728058, 0.7686102390289307, 0.9999304413795471, 1.0002704858779907, 0.9998511075973511, 0.998748242855072, 0.9999514818191528, 0.25101956725120544, 0.04843040183186531, 0.00017052958719432354, 0.0023874142207205296, 0.0005115887615829706, 0.5767310857772827, 0.12073495239019394, 0.10006514191627502, 0.001288392348214984, 0.0015031244838610291, 0.04466427117586136, 0.026841508224606514, 0.8082515001296997, 0.01717856526374817, 0.9996476173400879, 1.000054121017456, 0.9830060005187988, 0.01696666330099106, 1.0002506971359253, 0.9998559355735779, 0.9991999268531799, 0.9998869299888611, 0.9999454617500305, 0.9999179840087891, 1.000171184539795, 0.9997347593307495, 0.05605706572532654, 0.9231898188591003, 0.005255349911749363, 0.014014266431331635, 1.0002270936965942, 0.06888975948095322, 0.31683820486068726, 0.02405674196779728, 0.000820116198156029, 0.000820116198156029, 0.04100580886006355, 0.002186976373195648, 0.04291941225528717, 0.4581715762615204, 0.018042555078864098, 0.026243718340992928, 0.9998117685317993, 1.0003091096878052, 0.14809462428092957, 0.007404731120914221, 0.8137799501419067, 0.03035939857363701, 0.0006277959910221398, 0.9555054903030396, 0.043317921459674835, 0.9993933439254761, 0.037196990102529526, 0.912090539932251, 0.0025477390736341476, 0.048407040536403656, 0.9999586343765259, 0.8472147583961487, 0.1522611826658249, 0.08521152287721634, 0.9150094985961914, 0.9974566698074341, 0.9993201494216919, 0.19609975814819336, 0.05678607150912285, 0.1386508196592331, 0.1770974099636078, 0.06407766789197922, 0.0704854354262352, 0.04518580436706543, 0.023090055212378502, 0.048831600695848465, 0.034027449786663055, 0.0026514895725995302, 0.009059255942702293, 0.031155003234744072, 0.014583192765712738, 0.08816202729940414, 0.05059479922056198, 0.02393280901014805, 0.37515729665756226, 0.001469558454118669, 0.4179844260215759, 0.05815252661705017, 0.03275015950202942, 0.03967807814478874, 0.1194038912653923, 0.0010076278122141957, 0.022671625018119812, 0.04776155576109886, 0.006045766640454531, 0.4712674915790558, 0.039499007165431976, 0.0019144926918670535, 0.046552401036024094, 0.019447214901447296, 0.08534607291221619, 0.0964299738407135, 0.032949429005384445, 0.009773989208042622, 0.999397337436676, 0.9999111890792847, 0.036353278905153275, 0.0011016145581379533, 0.008262109011411667, 0.011566952802240849, 0.31451094150543213, 0.622963011264801, 0.004406458232551813, 0.001652421778999269, 1.0000455379486084, 0.9509956240653992, 0.04899689927697182, 0.9993468523025513, 0.009981895796954632, 0.001247736974619329, 0.36184370517730713, 0.0068625533021986485, 0.01559671200811863, 0.004990947898477316, 0.012477369047701359, 0.018716054037213326, 0.5633532404899597, 0.004367079120129347, 0.043534182012081146, 0.9562508463859558, 0.07175438106060028, 0.08526425063610077, 0.04795554652810097, 0.023709366098046303, 0.08624841272830963, 0.019862186163663864, 0.07184385508298874, 0.10172659903764725, 0.014672965742647648, 0.1584501415491104, 0.1092420220375061, 0.02657238394021988, 0.0460766926407814, 0.13679857552051544, 0.2514776289463043, 0.041956957429647446, 0.006036972161382437, 0.05727577582001686, 0.028751080855727196, 0.08406484127044678, 0.1096465066075325, 0.17348749935626984, 0.04003267362713814, 0.04867308959364891, 0.05787947401404381, 0.023921502754092216, 0.03814611956477165, 0.017054446041584015, 0.021619906648993492, 0.99960857629776, 1.0005451440811157, 0.0014879776863381267, 0.039431408047676086, 0.7692844271659851, 0.014879776164889336, 0.13019804656505585, 0.044639330357313156, 0.03027716837823391, 0.9688693881034851, 1.0005131959915161, 1.000230073928833, 0.999656081199646, 0.9995409846305847, 0.9999706149101257, 0.999369204044342, 0.9997466206550598, 0.00618578027933836, 0.9942235946655273, 0.9989393949508667, 0.20491814613342285, 0.16393451392650604, 0.5114415287971497, 0.002561476780101657, 0.07172135263681412, 0.03956058621406555, 0.0028460852336138487, 0.0028460852336138487, 1.000099778175354, 0.9999040365219116, 0.11378980427980423, 0.10560883581638336, 0.7801666855812073, 0.8156980872154236, 0.0020247825887054205, 0.038760121911764145, 0.0020247825887054205, 0.06855335086584091, 0.0141734778881073, 0.05785093083977699, 0.0005785092944279313, 1.0001686811447144, 0.9995872378349304, 0.03683895617723465, 0.014135877601802349, 0.002998519456014037, 0.010708998888731003, 0.0038552393671125174, 0.027843395248055458, 0.7787583470344543, 0.0017134397057816386, 0.12251093983650208, 0.3841547966003418, 0.14504610002040863, 0.004706722684204578, 0.08867321163415909, 0.03075537644326687, 0.002515042433515191, 0.08245746791362762, 0.07771481573581696, 0.1259317696094513, 0.02493485063314438, 0.00743733998388052, 0.0019042465137317777, 0.01677892729640007, 0.007006189785897732, 0.9997240900993347, 0.017320340499281883, 0.0015745764831081033, 0.982535719871521, 0.998985230922699, 1.0023159980773926, 0.9999912977218628, 0.017088184133172035, 0.9490514993667603, 0.002628951333463192, 0.019717136397957802, 0.011830281466245651, 0.9977500438690186, 0.991463840007782, 0.0023890696465969086, 0.007167208474129438, 0.9992663264274597, 1.0011987686157227, 0.9976586103439331, 0.999877393245697, 0.9993129372596741, 0.0052555035799741745, 0.06832154840230942, 0.028905270621180534, 0.02496364340186119, 0.8737275004386902, 0.8567553162574768, 0.14366324245929718, 0.9994354248046875, 0.02578754350543022, 0.006446885876357555, 0.03545787185430527, 0.8380951881408691, 0.09347984939813614, 1.0001296997070312, 0.08228910714387894, 0.3362050950527191, 0.00032784504583105445, 0.0031145280227065086, 0.011146731674671173, 0.029506053775548935, 0.0037702179979532957, 0.22424601018428802, 0.14474359154701233, 0.020818160846829414, 0.008523971773684025, 0.0016392252873629332, 0.047045763581991196, 0.08704286068677902, 0.9997500777244568, 0.019624387845396996, 0.011213935911655426, 0.13737070560455322, 0.03924877569079399, 0.7919842004776001, 0.0561506487429142, 0.002118892502039671, 0.9418476819992065, 0.015121500007808208, 0.003024300094693899, 0.37047675251960754, 0.6116646528244019, 0.011196400038897991, 0.09818381071090698, 0.012918923050165176, 0.08138921111822128, 0.0331585668027401, 0.18990816175937653, 0.0008612615056335926, 0.531398355960846, 0.041340552270412445, 0.9995430111885071, 0.9984349608421326, 1.0006135702133179, 0.999595582485199, 0.9997639656066895, 1.0007269382476807, 0.20091812312602997, 0.008381711319088936, 0.37219658493995667, 0.0365636982023716, 0.008017289452254772, 0.05940082296729088, 0.07215560227632523, 0.0618303045630455, 0.038507282733917236, 0.027453141286969185, 0.019435852766036987, 0.03134031221270561, 0.04385214298963547, 0.004130118526518345, 0.0159131046384573, 0.8561482429504395, 0.14389047026634216, 0.9828559756278992, 0.01702968217432499, 0.9996500015258789, 0.9992104172706604, 0.9990999698638916, 1.0000717639923096, 0.998985767364502, 0.9987329840660095, 0.00603966461494565, 0.0008947651367634535, 0.1241486668586731, 0.17291337251663208, 0.006263356190174818, 0.37020906805992126, 0.05100161209702492, 0.03869859129190445, 0.0015658390475437045, 0.01096087321639061, 0.04026443138718605, 0.06621262431144714, 0.10871396958827972, 0.0022369129583239555, 0.9697680473327637, 0.029293470084667206, 0.2866349518299103, 0.007820703089237213, 0.6796563267707825, 0.025820733979344368, 1.0003341436386108, 1.0002236366271973, 0.9180536270141602, 0.08109474182128906, 0.9999635815620422, 0.9970688223838806, 0.9998587965965271, 0.018071843311190605, 0.16417810320854187, 0.001684663468040526, 0.0024504195898771286, 0.07672876119613647, 0.004135082941502333, 0.06355775892734528, 0.10368337482213974, 0.16065563261508942, 0.28976210951805115, 0.0003063024487346411, 0.09801678359508514, 0.016846634447574615, 0.018231555819511414, 0.015462204813957214, 0.024924151599407196, 0.12600542604923248, 0.050309862941503525, 0.06877219676971436, 0.001153895864263177, 0.2358563244342804, 0.40594059228897095, 0.05354076996445656, 0.9938316345214844, 1.0003753900527954, 0.002117011696100235, 0.05080828070640564, 0.22299189865589142, 0.7247236967086792, 0.999601423740387, 1.0003052949905396, 1.0001845359802246, 0.00041284316102974117, 0.6224023699760437, 0.004706412088125944, 0.03327515721321106, 0.015605472028255463, 0.039798080921173096, 0.02468802034854889, 0.009082549251616001, 0.0008256863220594823, 0.112375907599926, 0.019321059808135033, 0.02683480642735958, 0.03839441388845444, 0.052265945822000504, 0.9995889067649841, 0.9385365843772888, 0.060984205454587936, 0.9993676543235779, 0.9995764493942261, 0.01634647138416767, 0.984057605266571, 0.25862014293670654, 0.012125925160944462, 0.0009939282899722457, 0.6542035937309265, 0.015306496061384678, 0.058641768991947174, 0.00019878566672559828, 0.0001263671147171408, 0.8697215914726257, 0.054021939635276794, 6.31835573585704e-05, 6.31835573585704e-05, 0.07512524724006653, 6.31835573585704e-05, 6.31835573585704e-05, 0.0006318355444818735, 0.00018955065752379596, 0.9992560744285583, 0.9982859492301941, 1.0000964403152466, 0.9993959069252014, 1.0005638599395752, 0.32712048292160034, 0.0008485615835525095, 0.07382486015558243, 0.001697123167105019, 0.042852360755205154, 0.011455581523478031, 0.5422308444976807, 1.0001353025436401, 0.9990809559822083, 0.999932587146759, 0.0003724268462974578, 0.004469122271984816, 0.11442814767360687, 0.0009310671011917293, 0.07122663408517838, 0.2499915212392807, 0.2589297592639923, 0.04376015439629555, 0.13612201809883118, 0.11247290670871735, 0.0073554301634430885, 0.9993943572044373, 0.20049475133419037, 0.7991418242454529, 0.9113413691520691, 0.025090215727686882, 0.06151149794459343, 0.002428085310384631, 0.0035057158675044775, 0.09044747054576874, 0.8820381164550781, 0.023838868364691734, 0.9996309280395508, 0.9999582171440125, 0.11533483117818832, 0.14185523986816406, 0.24231882393360138, 0.12194427847862244, 0.004874466452747583, 0.042217835783958435, 0.10376830399036407, 0.029081562533974648, 0.042796164751052856, 0.02585945837199688, 0.02511589601635933, 0.0076008629985153675, 0.07840455323457718, 0.0038004314992576838, 0.015036489814519882, 1.0004888772964478, 1.000124454498291, 0.9993340373039246, 0.06293712556362152, 0.10195814073085785, 0.8345462679862976, 0.9984813928604126, 0.22598740458488464, 0.773956835269928, 1.0003721714019775, 0.13799697160720825, 0.0052511440590023994, 0.48078855872154236, 0.02718239091336727, 0.004015580751001835, 0.13297750055789948, 0.028726845979690552, 0.04556139558553696, 0.01984623447060585, 0.027800172567367554, 0.028031840920448303, 0.014903982169926167, 0.02741405926644802, 0.008494497276842594, 0.011042846366763115, 0.10544361174106598, 0.035368531942367554, 0.43425747752189636, 0.09608135372400284, 0.005863232538104057, 0.03697619214653969, 0.04860808700323105, 0.028275910764932632, 0.015320058912038803, 0.04964833706617355, 0.015036353841423988, 0.04255571961402893, 0.03281518816947937, 0.04038064926862717, 0.013428693637251854, 0.999004065990448, 0.6649894118309021, 0.3347909450531006, 0.9974213242530823, 0.9985795021057129, 1.0003341436386108, 1.0002429485321045, 0.9997933506965637, 1.000052571296692, 0.9989284873008728, 1.0000747442245483, 0.045451562851667404, 0.17233717441558838, 0.04469403624534607, 0.05037548020482063, 0.015150520019233227, 0.11362890154123306, 0.5518577098846436, 0.006438971031457186, 1.0015449523925781, 1.0006084442138672, 0.9997363090515137, 0.9998408555984497, 0.9974397420883179, 0.02843528427183628, 0.3236604630947113, 0.023797444999217987, 0.12582993507385254, 0.20254437625408173, 0.04516192153096199, 0.027598952874541283, 0.13008762896060944, 0.039839811623096466, 0.0044097499921917915, 0.018931513652205467, 0.022504931315779686, 0.006994775962084532, 0.00022809051733929664, 0.9952285885810852, 0.11476045101881027, 0.23771807551383972, 0.00630551902577281, 0.06715378165245056, 0.0018916557310149074, 0.0025222075637429953, 0.47512087225914, 0.016394350677728653, 0.0226998683065176, 0.05517329275608063, 0.011462763883173466, 0.8613448143005371, 0.00163753773085773, 0.1244528666138649, 0.9983744025230408, 0.11029287427663803, 0.4576299488544464, 0.0014962211716920137, 0.019450874999165535, 0.00021374587959144264, 0.03206188231706619, 0.1908750683069229, 0.07267360389232635, 0.03184813633561134, 0.04445914551615715, 0.022015826776623726, 0.016672179102897644, 0.14356735348701477, 0.026301538571715355, 0.3500746190547943, 0.13977716863155365, 0.004364447668194771, 0.008958603255450726, 0.07086484879255295, 0.04950202256441116, 0.013897319324314594, 0.05019114539027214, 0.04307020455598831, 0.02308562956750393, 0.06293992698192596, 0.005398132372647524, 0.007924918085336685, 0.5514801144599915, 4.551292659016326e-05, 0.20235048234462738, 0.00022756464022677392, 0.015610934235155582, 0.0044147539883852005, 0.1754068285226822, 0.050428323447704315, 0.6086204648017883, 0.014580230228602886, 0.08789796382188797, 0.0066652484238147736, 0.0066652484238147736, 0.14288626611232758, 0.13247181475162506, 0.9996783137321472, 1.000239372253418, 0.9940820932388306, 0.0025225584395229816, 0.003395751817151904, 0.17433452606201172, 0.02783343940973282, 0.3114694356918335, 0.022178390994668007, 0.13404230773448944, 0.017053503543138504, 0.05796424299478531, 0.03437208756804466, 0.01776038482785225, 0.05928964167833328, 0.016523342579603195, 0.017053503543138504, 0.0880950465798378, 0.002739163814112544, 0.019527588039636612, 0.17406651377677917, 0.5752112865447998, 0.04247652366757393, 0.0004026210808660835, 0.04918687418103218, 0.1334017813205719, 0.00013420703180599958, 0.006441937293857336, 0.008522146381437778, 0.006844558287411928, 0.003288072068244219, 0.034027256071567535, 0.0013983803801238537, 0.006991901434957981, 0.13098162412643433, 0.011653169058263302, 0.6544420123100281, 0.11653169244527817, 0.00046612677397206426, 0.04334979131817818, 0.9988535046577454, 0.9998642206192017, 1.0001052618026733, 0.999992311000824, 0.30837997794151306, 0.48271113634109497, 0.08124170452356339, 0.09715154021978378, 0.028096089139580727, 0.002031042706221342, 0.0011034897761419415, 0.08483078330755234, 0.03696690872311592, 0.0002758724440354854, 0.028552798554301262, 0.7939609289169312, 0.013103941455483437, 0.0001379362220177427, 0.0005517448880709708, 0.040553249418735504, 0.006271160673350096, 0.8952622413635254, 0.00021624691726174206, 0.0454118549823761, 0.052764248102903366, 0.02387416921555996, 0.27423033118247986, 0.026670243591070175, 0.40693628787994385, 0.014625617302954197, 0.0008603304158896208, 0.02537974715232849, 0.0245194174349308, 0.0004301652079448104, 0.027315489947795868, 0.0023659085854887962, 0.05527622997760773, 0.08818386495113373, 0.005377064924687147, 0.023659085854887962, 0.028166644275188446, 0.038226161152124405, 0.08651183545589447, 0.03596276789903641, 0.163467139005661, 0.007796125020831823, 0.046022284775972366, 0.0035208305343985558, 0.09430795907974243, 0.008550588972866535, 0.2882051169872284, 0.041746992617845535, 0.15793439745903015, 0.09654731303453445, 0.06937531381845474, 0.01792195625603199, 0.6885499954223633, 0.1277662068605423, 0.999144434928894, 0.03353789821267128, 0.643977701663971, 0.12238829582929611, 0.05481193959712982, 0.01551753468811512, 0.1293962150812149, 0.018949927762150764, 0.9811851382255554, 0.6558706760406494, 0.09035192430019379, 0.05617736279964447, 0.1413796991109848, 0.010299182496964931, 0.037451572716236115, 0.008426603861153126, 0.8642240762710571, 0.13584360480308533, 0.00048172654351219535, 0.6209455132484436, 0.2235211282968521, 0.004817265551537275, 0.15029868483543396, 0.6928298473358154, 0.11138518899679184, 0.021716607734560966, 0.08511509746313095, 0.03642785921692848, 0.00630482193082571, 0.033975984901189804, 0.007705893367528915, 0.00035026788827963173, 0.00455348240211606, 0.9933661818504333, 0.000781736453063786, 0.04117145016789436, 0.02397325076162815, 0.6795895099639893, 0.00859910063445568, 0.0299665629863739, 0.0002605788176879287, 0.18891963362693787, 0.0010423152707517147, 0.025797301903367043, 1.0001497268676758, 0.33105337619781494, 0.6248683929443359, 0.04378579929471016, 0.005343723110854626, 0.8485832214355469, 0.05664346367120743, 0.004274978302419186, 0.08549956977367401, 0.008548497222363949, 0.19141201674938202, 0.017468668520450592, 0.0018583690980449319, 0.2821004092693329, 0.04794592037796974, 0.019327038899064064, 0.4307699501514435, 0.004488184582442045, 0.9963769912719727, 0.9921411275863647, 0.007589689921587706, 0.3598455786705017, 0.6397255063056946, 0.0018260577926412225, 0.9385936856269836, 0.05934687703847885, 0.9996002912521362, 0.05227261036634445, 0.14976374804973602, 0.39448636770248413, 0.40334922075271606, 0.9990358948707581, 0.9987401962280273, 0.9999440908432007, 0.998954176902771, 0.9996257424354553, 0.9980518221855164, 0.34804219007492065, 0.3982637822628021, 0.02105359174311161, 0.004824781324714422, 0.018202584236860275, 0.03223831206560135, 0.04210718348622322, 0.0649152398109436, 0.011842645704746246, 0.058555301278829575, 0.9996732473373413, 0.10928543657064438, 0.08422678709030151, 0.027625303715467453, 0.023707779124379158, 0.14663700759410858, 0.09125131368637085, 0.12029503285884857, 0.08010663092136383, 0.04018840193748474, 0.010469247587025166, 0.09996442496776581, 0.01999288611114025, 0.06369355320930481, 0.0715285986661911, 0.011077139526605606, 1.0004255771636963, 0.9985702037811279, 0.9996030330657959, 0.12498052418231964, 0.018787922337651253, 0.3735412359237671, 0.08647111803293228, 0.006301539018750191, 0.10105801373720169, 0.050412312150001526, 0.03034074418246746, 0.019838178530335426, 0.023339033126831055, 0.0672164186835289, 0.04667806625366211, 0.028240231797099113, 0.010035784915089607, 0.012836468406021595, 0.055881984531879425, 0.9391278028488159, 0.00620910944417119, 0.9996074438095093, 0.999697208404541, 1.0004034042358398, 0.9993714094161987, 0.006579624488949776, 0.21076877415180206, 0.4972694516181946, 0.08204659074544907, 0.04579241946339607, 0.008787551894783974, 0.002252086065709591, 0.0013247565366327763, 0.06235187500715256, 0.03510604798793793, 0.017354311421513557, 0.030425243079662323, 0.004826387856155634, 0.33188512921333313, 0.007097628898918629, 0.0005678103188984096, 0.4559516906738281, 0.013059637509286404, 0.020441170781850815, 0.024415843188762665, 0.0317973792552948, 0.10987129807472229, 1.0026124715805054, 0.9998834729194641, 0.0031590403523296118, 0.07220663875341415, 0.48852303624153137, 0.0009025829494930804, 0.06656549125909805, 0.36847949028015137, 0.10223981738090515, 0.005111990962177515, 0.16017571091651917, 0.06418388336896896, 0.6151428818702698, 0.01760796830058098, 0.03464793786406517, 0.18216288089752197, 0.04084228351712227, 0.36390578746795654, 0.031287916004657745, 0.013754084706306458, 0.012389175593852997, 0.045671962201595306, 0.04136724770069122, 0.07181522250175476, 0.02057863026857376, 0.036222588270902634, 0.026248253881931305, 0.03590761125087738, 0.06373076140880585, 0.014279049821197987, 0.9990981817245483, 0.9984614253044128, 0.0030844705179333687, 0.9722691178321838, 0.02467576414346695, 0.9999383091926575, 0.004956008400768042, 0.002805287716910243, 0.33869174122810364, 0.020198073238134384, 0.002805287716910243, 0.02085264027118683, 0.11249203979969025, 0.05451609194278717, 0.16794322431087494, 0.02188124507665634, 0.005891104228794575, 0.19926895201206207, 0.04768989235162735, 0.9993399977684021, 1.0004615783691406, 0.03721516206860542, 0.9608277678489685, 0.02260797843337059, 0.9488285779953003, 0.028259972110390663, 0.001193121075630188, 0.002386242151260376, 0.9616555571556091, 0.03460051119327545, 0.9999621510505676, 0.9997484683990479, 1.0005158185958862, 0.9925464391708374, 0.007006210274994373, 0.9758134484291077, 0.02307342179119587, 0.000961392535828054, 0.9410265684127808, 0.060711391270160675, 0.0025500464253127575, 0.8555405735969543, 0.14280259609222412, 0.02920435555279255, 0.008156171068549156, 0.5938218832015991, 0.03683432191610336, 0.004998943768441677, 0.001052409177646041, 0.027888843789696693, 0.06577557325363159, 0.007629966828972101, 0.0031572275329381227, 0.07287933677434921, 0.12707841396331787, 0.021311286836862564, 0.9989933371543884, 0.9997283816337585, 0.027170276269316673, 0.15626288950443268, 0.022439133375883102, 0.21641598641872406, 0.00013517550542019308, 0.2519671320915222, 0.05582748353481293, 0.17248395085334778, 0.0021628080867230892, 0.0037849140353500843, 0.011895444244146347, 0.0027035099919885397, 0.00567737128585577, 0.0012165795778855681, 0.0698857381939888, 0.9960713982582092, 1.000145673751831, 0.9995371103286743, 0.04084214195609093, 0.9590737819671631, 1.0004140138626099, 1.0006564855575562, 0.9995594024658203, 0.9985511898994446, 0.9619138836860657, 0.031629662960767746, 0.006644887384027243, 0.14737540483474731, 0.08223547041416168, 0.11754661798477173, 0.0011200529988855124, 0.34096771478652954, 0.1549210250377655, 0.06838218867778778, 0.01037522777915001, 0.003360158996656537, 0.06396092474460602, 0.009667825885117054, 0.999637246131897, 0.9997403621673584, 0.03697264939546585, 0.9631374478340149, 0.37145960330963135, 0.06329254060983658, 0.0009217360056936741, 0.0030724534299224615, 0.4000334143638611, 0.022428909316658974, 0.021507173776626587, 0.011368077248334885, 0.10538514703512192, 0.999458909034729, 0.9999936819076538, 0.006858706474304199, 0.07290899008512497, 0.015126735903322697, 0.39216768741607666, 0.0015032781520858407, 0.2597852647304535, 0.1466635763645172, 0.07469413429498672, 0.011932270601391792, 0.01841515675187111, 1.000877857208252, 0.9986720681190491, 0.7619754076004028, 0.05248299986124039, 0.030453098937869072, 0.1529134213924408, 0.0019438148010522127, 0.9998113512992859, 1.0001356601715088, 0.7560974955558777, 0.049503862857818604, 0.0004231099446769804, 0.07319802045822144, 0.06769759207963943, 0.003384879557415843, 0.017347507178783417, 0.0025386596098542213, 0.003384879557415843, 0.0016924397787079215, 0.024540375918149948, 0.9990881085395813, 0.9993501901626587, 0.9640236496925354, 0.03755936399102211, 0.2464420199394226, 0.08432367444038391, 0.0005533049115911126, 0.04758422449231148, 0.002766524674370885, 0.0033198297023773193, 0.00387313449755311, 0.1672087460756302, 0.02755458652973175, 0.1311332732439041, 0.12205906957387924, 0.038620684295892715, 0.12460426986217499, 1.0004514455795288, 0.08744514733552933, 0.11494078487157822, 0.033355362713336945, 0.021185163408517838, 0.06761222332715988, 0.0054089780896902084, 0.013973193243145943, 0.0013522445224225521, 0.654486358165741, 0.8813789486885071, 0.0010369163937866688, 0.0072584147565066814, 0.004147665575146675, 0.0331813246011734, 0.06480727344751358, 0.00829533115029335, 0.16186127066612244, 0.8380391001701355, 0.9399164915084839, 0.015311922878026962, 0.04475792869925499, 0.14508135616779327, 0.8539438247680664, 1.000148057937622, 0.26954877376556396, 0.007473962847143412, 0.43579888343811035, 0.08689241111278534, 0.001701389905065298, 0.1413976550102234, 0.0013368063373491168, 0.00650174031034112, 0.03706599399447441, 6.076392674003728e-05, 0.0040711830370128155, 0.006562503986060619, 0.0015190981794148684, 0.35173898935317993, 0.02052755281329155, 0.3547614514827728, 0.10805301368236542, 0.0018890387145802379, 0.08966636657714844, 0.02430563047528267, 0.04672222211956978, 0.002392782364040613, 0.997488260269165, 1.0001277923583984, 0.030314652249217033, 0.9633996486663818, 0.006062930449843407, 0.999700665473938, 0.0007327804923988879, 0.03828778117895126, 0.015754779800772667, 0.0005495853838510811, 0.8580859303474426, 0.03242553770542145, 0.05404255911707878, 0.9996932744979858, 0.9999905228614807, 0.004198887851089239, 0.05563526600599289, 0.8927885293960571, 0.038839712738990784, 0.00892263650894165, 0.9248056411743164, 0.07494882494211197, 0.015044811181724072, 0.9139722585678101, 0.07146285474300385, 0.8048492670059204, 0.001745876856148243, 0.19204646348953247, 0.001745876856148243, 0.004398820456117392, 0.7671542763710022, 0.041348911821842194, 0.18650999665260315, 0.8714558482170105, 0.12843336164951324, 0.9998798370361328, 0.9996793270111084, 0.9996075630187988, 0.18641774356365204, 0.07952215522527695, 0.00018558262672740966, 0.3292235732078552, 0.0007423305069096386, 0.0013918696204200387, 0.09279131144285202, 0.23763854801654816, 0.0009279131190851331, 0.000649539171718061, 0.0002783739473670721, 0.03488953411579132, 0.034518368542194366, 0.0009279131190851331, 0.9997154474258423, 0.3075871765613556, 0.6112039685249329, 0.028259718790650368, 0.03059523180127144, 0.017282802611589432, 0.0002335513854632154, 0.0004671027709264308, 0.0021019624546170235, 0.0002335513854632154, 0.0009342055418528616, 0.0011677569709718227, 0.03861062228679657, 0.0031796982511878014, 0.9121191501617432, 0.04542426019906998, 0.8082440495491028, 0.005903901066631079, 0.0047231209464371204, 0.08737773448228836, 0.053135111927986145, 0.01771170273423195, 0.009446241892874241, 0.012988582253456116, 0.012612245045602322, 0.09509922564029694, 0.1536664366722107, 0.10176777094602585, 0.5846573114395142, 0.05102885514497757, 0.001159746665507555, 1.000348687171936, 0.9997810125350952, 0.9998533725738525, 0.9996902942657471, 0.08285246044397354, 0.11026982218027115, 0.03282078355550766, 0.018811911344528198, 0.07945030927658081, 0.12668021023273468, 0.036623191088438034, 0.014409123919904232, 0.030019007623195648, 0.01741102524101734, 0.289183109998703, 0.01801140420138836, 0.14369098842144012, 0.9998732805252075, 1.0000721216201782, 0.9987540245056152, 0.9996727705001831, 0.02196911908686161, 0.03427182510495186, 0.019332826137542725, 0.7214658856391907, 0.20299465954303741, 0.9998610615730286, 1.000128984451294, 0.9971960186958313, 0.1964266002178192, 0.08823440968990326, 0.04726843535900116, 0.0031512288842350245, 0.0031512288842350245, 0.011554506607353687, 0.6512539982795715, 0.7183823585510254, 0.003170666052028537, 0.0009059045696631074, 0.021968185901641846, 0.0083796177059412, 0.04393637180328369, 0.002038285369053483, 0.14018873870372772, 0.060922082513570786, 0.9998013377189636, 0.00044877303298562765, 0.0008975460659712553, 0.6763009428977966, 0.12924663722515106, 0.006731595378369093, 0.01750214770436287, 0.0744963213801384, 0.09424234181642532, 0.9645581245422363, 0.03507484123110771, 0.9987504482269287, 0.0210737232118845, 0.28762784600257874, 0.0019934603478759527, 0.008543401956558228, 0.09710999578237534, 0.000854340149089694, 0.4488133490085602, 0.1335618495941162, 0.0025026225484907627, 0.005630900617688894, 0.9916641712188721, 0.9986814856529236, 1.0000470876693726, 0.9989397525787354, 1.0003502368927002, 1.0004053115844727, 0.035839371383190155, 0.9641233682632446, 0.9986197352409363, 0.11437904089689255, 0.7031005620956421, 0.00020031354506500065, 0.024838879704475403, 0.00020031354506500065, 0.06349939852952957, 0.046138886362314224, 0.047340769320726395, 0.0003338559181429446, 0.9993612766265869, 0.010392297990620136, 0.1654616892337799, 0.08252707123756409, 0.05175771936774254, 0.23617006838321686, 0.043403126299381256, 0.04707099869847298, 0.010494183748960495, 0.1185944601893425, 0.0033622141927480698, 0.21752506494522095, 0.005807460751384497, 0.007335739675909281, 0.2614428699016571, 0.17477276921272278, 0.006804677192121744, 0.10744227468967438, 0.013609354384243488, 0.43263423442840576, 0.0032232683151960373, 0.9823533892631531, 0.016854101791977882, 0.9920392036437988, 0.058827344328165054, 0.9267438054084778, 0.014493693597614765, 0.6611440181732178, 0.028204767033457756, 0.016376961022615433, 0.003942601848393679, 0.009401588700711727, 0.06672095507383347, 0.0415489561855793, 0.17286792397499084, 1.0000061988830566, 0.9989309906959534, 0.01123968418687582, 0.41862088441848755, 0.28535035252571106, 0.07340201735496521, 0.0011469065211713314, 0.10436849296092987, 0.09679891169071198, 0.00711082061752677, 0.0020644317846745253, 0.062153980135917664, 0.16494710743427277, 0.012294194661080837, 0.0027320431545376778, 0.11525806784629822, 0.1992684006690979, 0.33348003029823303, 0.05105505511164665, 0.02014881744980812, 0.005634839180856943, 0.032955270260572433, 0.9998310804367065, 0.04058556258678436, 0.012732725590467453, 0.07082578539848328, 0.07798794656991959, 0.01034533977508545, 0.005570567212998867, 0.6979125142097473, 0.07639635354280472, 0.0063663627952337265, 0.0015915906988084316, 0.0238003171980381, 0.38333702087402344, 0.004557507578283548, 0.012153353542089462, 0.02228114940226078, 0.019749199971556664, 0.0238003171980381, 0.013166133314371109, 0.4972747266292572, 0.9999564290046692, 0.008830909617245197, 0.14742211997509003, 0.658353328704834, 0.03586430475115776, 0.14850345253944397, 0.0003604452940635383, 0.00018022264703176916, 0.000540667911991477, 0.0019106852123513818, 0.47623831033706665, 0.16646845638751984, 0.0009553426061756909, 0.00310486345551908, 0.0033436992671340704, 0.08789151906967163, 0.043468087911605835, 0.17912673950195312, 0.037258364260196686, 1.0003939867019653, 1.000133991241455, 1.000268816947937, 0.9978901743888855, 0.9995604753494263, 1.000145673751831, 0.008859965018928051, 0.0526486374437809, 0.013460331596434116, 0.019423769786953926, 0.05043364688754082, 0.23649291694164276, 0.11824645847082138, 0.0015334554482251406, 0.015334554947912693, 0.013119563460350037, 0.03799561783671379, 0.022149913012981415, 0.4104549288749695, 1.0000629425048828, 0.039201702922582626, 0.9611676335334778, 1.0005686283111572, 0.9999416470527649, 0.997687816619873, 0.02844328060746193, 0.001872808556072414, 0.09855654835700989, 0.20647715032100677, 0.030901342630386353, 0.0010534548200666904, 0.0015216569881886244, 0.3518539071083069, 0.008544689044356346, 0.00023410106950905174, 0.12220075726509094, 0.024112410843372345, 0.08345703035593033, 0.04073358699679375, 0.9999073147773743, 1.0011742115020752, 1.0016127824783325, 0.9991965293884277, 0.9990242123603821, 0.999913215637207, 0.9998250007629395, 1.0000566244125366, 0.9998766183853149, 0.9999040365219116, 0.3076956868171692, 0.0012738993391394615, 0.07163234055042267, 0.02381211891770363, 0.19941425323486328, 0.06438091397285461, 0.12474414706230164, 0.011661078780889511, 0.00019598452490754426, 0.027241848409175873, 0.07888376712799072, 0.06408693641424179, 0.018912505358457565, 0.005879535339772701, 0.00019598452490754426, 0.16856974363327026, 0.05208725482225418, 0.11188003420829773, 0.057693641632795334, 0.05966239795088768, 0.06873691827058792, 0.08276592940092087, 0.10221879184246063, 0.07333937287330627, 0.0694149062037468, 0.0521785207092762, 0.011499614454805851, 0.051735226064920425, 0.038214702159166336, 0.8950730562210083, 0.09421821683645248, 0.010684539563953876, 0.9991933703422546, 0.999782383441925, 1.0001351833343506, 1.0007834434509277, 0.999216616153717, 0.05611635372042656, 0.27899783849716187, 0.00022627561702392995, 0.05159084126353264, 0.00803278386592865, 0.20839984714984894, 0.026587385684251785, 0.01776263490319252, 0.10046637058258057, 0.013576536439359188, 0.02636110968887806, 0.10182403028011322, 0.009277299977838993, 0.055890075862407684, 0.045028846710920334, 0.9997448325157166, 0.9997823238372803, 0.999821126461029, 0.9995827078819275, 0.9997092485427856, 0.9991416335105896, 1.0000325441360474, 0.9986358284950256, 1.000393271446228, 0.9998806118965149, 0.007729680743068457, 0.9909451007843018, 0.9993582367897034, 0.05264528840780258, 0.0022094876039773226, 0.6617839932441711, 0.13256925344467163, 0.012874513864517212, 0.004206524230539799, 0.02328459918498993, 0.031017806380987167, 0.0020820170175284147, 0.023454559966921806, 0.007265814580023289, 0.018950603902339935, 0.010325104929506779, 0.009007910266518593, 0.008370558731257915, 0.9979914426803589, 0.07484748214483261, 0.0459589809179306, 0.030201615765690804, 0.8482714891433716, 0.004141013603657484, 0.0075918580405414104, 0.8440765738487244, 0.04555114731192589, 0.00345084466971457, 0.08903179317712784, 0.005521351471543312, 0.0004949677968397737, 0.21456855535507202, 0.001237419550307095, 0.015591486357152462, 0.14576801657676697, 0.5944563746452332, 0.0019798711873590946, 0.022273551672697067, 0.0032172908540815115, 0.10920273512601852, 0.8904222846031189, 0.99056476354599, 0.008102779276669025, 1.0004035234451294, 0.9996419548988342, 0.9979918003082275, 0.025884205475449562, 0.307613343000412, 0.00040869798976927996, 0.011716009117662907, 0.04386691749095917, 0.00681163277477026, 0.05898874253034592, 0.04155096039175987, 0.00340581638738513, 0.003678281791508198, 0.09250197559595108, 0.003542049089446664, 0.3712339997291565, 0.02874509058892727, 0.09556598216295242, 0.0019503262592479587, 0.0009751631296239793, 0.8298637866973877, 0.07216206938028336, 1.0001184940338135, 0.15471841394901276, 0.8440156579017639, 0.0010670236079022288, 0.008045036345720291, 0.5548301339149475, 0.4366512894630432, 0.0005548301269300282, 0.0017097808886319399, 0.001282335608266294, 0.009403795003890991, 0.0034195617772638798, 0.09546276181936264, 0.029208756983280182, 0.00356204342097044, 0.8125733733177185, 0.04331444948911667, 0.9994127154350281, 0.00011380727664800361, 0.7920986413955688, 0.2078120857477188, 1.0006890296936035, 0.9982013702392578, 0.019296100363135338, 0.9802418947219849, 0.12129931896924973, 0.25297626852989197, 0.16161900758743286, 0.0027220044285058975, 0.04831557720899582, 0.12385119497776031, 0.1597476303577423, 0.029771922156214714, 0.09986353665590286, 0.7891243696212769, 0.2108374834060669, 0.002455119974911213, 0.0035073142498731613, 0.8003690838813782, 0.10872673988342285, 0.0315658263862133, 0.05331117659807205, 0.9999662041664124, 0.00849335826933384, 0.17836052179336548, 0.0037022330798208714, 0.03571566194295883, 0.17705385386943817, 0.047911252826452255, 0.0010888921096920967, 0.009364471770823002, 0.3292809724807739, 0.07252021133899689, 0.0002177784190280363, 0.02656896784901619, 0.1099781021475792, 0.9997068643569946, 0.011337255127727985, 0.027827806770801544, 0.0013742126757279038, 0.592285692691803, 0.01065014861524105, 0.029889125376939774, 0.0123679144307971, 0.2593826353549957, 0.05462495610117912, 0.07152662426233292, 0.229556143283844, 0.057628657668828964, 0.0038339230231940746, 0.25471627712249756, 0.03366663679480553, 0.08794061094522476, 0.06361915916204453, 0.007667846046388149, 0.08183029294013977, 0.01054328866302967, 0.07571998238563538, 0.02180543728172779, 0.15711022913455963, 0.03557934612035751, 0.4226163327693939, 0.07230641692876816, 0.01058453693985939, 0.008161570876836777, 0.06210445240139961, 0.03889498487114906, 0.04029775410890579, 0.02792787365615368, 0.011859782040119171, 0.017598386853933334, 0.038767460733652115, 0.005738604348152876, 0.05049971863627434, 1.0003544092178345, 0.012801324017345905, 0.01723255217075348, 0.03692689538002014, 0.0950799211859703, 0.0908128097653389, 0.4621059000492096, 0.056457120925188065, 0.14305752515792847, 0.0008205976919271052, 0.0007658911636099219, 0.04753996059298515, 0.011543073691427708, 0.02264849655330181, 0.0022429670207202435, 1.0000451803207397, 0.9960453510284424, 0.9985787868499756, 0.8557271957397461, 0.1438833326101303, 0.0701054185628891, 0.8563646674156189, 0.07334105670452118, 0.999873161315918, 0.999193012714386, 0.23216140270233154, 0.06675165146589279, 0.1091536432504654, 0.003218633122742176, 0.30996835231781006, 0.10481548309326172, 0.002658870769664645, 0.00041982170660048723, 0.06899069994688034, 0.001679286826401949, 0.09991756826639175, 0.07020913809537888, 0.9222927689552307, 0.007180480286478996, 1.0024045705795288, 0.1980023980140686, 0.0009417474502697587, 0.2745978534221649, 0.016637537628412247, 0.032411810010671616, 0.01247815415263176, 0.06913995742797852, 0.05352264642715454, 0.08970144391059875, 0.08130419999361038, 0.06129206344485283, 0.04512539878487587, 0.029822003096342087, 0.0329611599445343, 0.001961973961442709, 0.9993129372596741, 1.0001980066299438, 0.0009620314813219011, 0.009860822930932045, 0.0028860943857580423, 0.6421560049057007, 0.12843120098114014, 0.00024050787033047527, 0.215254545211792, 0.9997351765632629, 1.0010274648666382, 0.2296932190656662, 0.046449072659015656, 0.02654232829809189, 0.0002552146906964481, 0.004593864548951387, 0.6926526427268982, 0.2384779155254364, 0.023340189829468727, 0.00668895710259676, 0.16086705029010773, 0.012571443803608418, 0.10251656919717789, 0.18468162417411804, 0.04815100133419037, 0.022865796461701393, 0.07405292242765427, 0.002561728237196803, 0.034725647419691086, 0.06731652468442917, 0.02115797810256481, 0.17286475002765656, 0.008627830073237419, 0.00041084905387833714, 0.11688655614852905, 0.00020542452693916857, 0.08422406017780304, 0.40006428956985474, 0.05320495367050171, 0.0014379717176780105, 0.006573584862053394, 0.13999681174755096, 0.01550955232232809, 0.06429190188646317, 0.9356944561004639, 0.029265573248267174, 0.0025448324158787727, 0.9072327613830566, 0.040717318654060364, 0.020358659327030182, 0.9947237372398376, 0.0070050968788564205, 0.2935336232185364, 0.7062514424324036, 0.9999040365219116, 0.002014143392443657, 0.06848087906837463, 0.928520143032074, 0.11662452667951584, 0.011937267147004604, 0.06930485367774963, 0.27524417638778687, 0.006269212346524, 0.03847407177090645, 0.03478124737739563, 0.13714975118637085, 0.016918284818530083, 0.11928679049015045, 0.08167152106761932, 0.03692823648452759, 0.030057867988944054, 0.025248607620596886, 0.2812884747982025, 0.0005632027168758214, 0.12703350186347961, 0.10156422853469849, 0.14655786752700806, 0.0041927313432097435, 0.1064453199505806, 0.015143895521759987, 0.0027534356340765953, 0.0731537789106369, 0.08247791230678558, 0.006132652051746845, 0.01770959608256817, 0.025907326489686966, 0.009136400185525417, 1.000149130821228, 0.002129576401785016, 0.9987713694572449, 1.0000876188278198, 1.0019986629486084, 0.9997673034667969, 0.07935693860054016, 0.613528311252594, 0.05728578940033913, 0.018847273662686348, 0.0662134438753128, 0.00247990433126688, 0.03843851760029793, 0.0061997608281672, 0.10341200977563858, 0.0002479904214851558, 0.0002479904214851558, 0.01016760803759098, 0.00371985649690032, 0.06791474670171738, 0.0021021231077611446, 0.006468070670962334, 0.0019404212944209576, 0.0009702106472104788, 0.6338709592819214, 0.2638972997665405, 0.02279995009303093, 0.057129569351673126, 0.9428030252456665, 0.2075183391571045, 0.0023648813366889954, 0.7898703813552856, 0.008894950151443481, 0.13801519572734833, 0.0008608016069047153, 0.32853928208351135, 0.014059759676456451, 0.012625090777873993, 0.021233106032013893, 0.04705715551972389, 0.3509201407432556, 0.019511504098773003, 0.040457677096128464, 0.002295471029356122, 0.010616553016006947, 0.005451743490993977, 0.999596357345581, 0.9996523857116699, 0.9977003335952759, 0.285435289144516, 0.00275450199842453, 0.0008607818745076656, 0.47463512420654297, 0.04751516133546829, 0.07712605595588684, 0.042694780975580215, 0.06473080068826675, 0.00034431274980306625, 0.003959596622735262, 0.9994186758995056, 0.9999524354934692, 0.034405820071697235, 0.011009861715137959, 0.0068811639212071896, 0.8573930263519287, 0.05917800962924957, 0.026148421689867973, 0.004128698259592056, 0.32454773783683777, 0.00012997505837120116, 0.010527979582548141, 0.0019496259046718478, 0.0005199002334848046, 0.6281694769859314, 0.017416657879948616, 0.01689675822854042, 0.9992917776107788, 0.4105733633041382, 0.5894215703010559, 0.9994992017745972, 1.000117301940918, 1.0015218257904053, 0.18683665990829468, 0.10741960257291794, 0.0006885871989652514, 0.09709079563617706, 0.2395135909318924, 0.12647052109241486, 0.002524819690734148, 0.21805262565612793, 0.021346203982830048, 1.0000776052474976, 1.0002912282943726, 0.04738787189126015, 0.30321285128593445, 0.08886674046516418, 0.05376032367348671, 0.011122825555503368, 0.12686972320079803, 0.10300199687480927, 0.03765539824962616, 0.0006951765972189605, 0.07635356485843658, 0.07612183690071106, 0.03649677336215973, 0.0009269021102227271, 0.035569868981838226, 0.0020855297334492207, 0.026529012247920036, 0.010071199387311935, 0.2512887120246887, 0.33627980947494507, 0.05576005578041077, 0.3058205544948578, 0.00908864289522171, 0.0049127801321446896, 1.0002846717834473, 1.000849723815918, 1.0001659393310547, 1.0000759363174438, 0.029315102845430374, 0.9698413610458374, 0.9990862011909485, 0.9672422409057617, 0.005085881799459457, 0.027741173282265663, 0.38818633556365967, 0.05801517516374588, 0.0034356226678937674, 0.007144533563405275, 0.0006636998150497675, 0.0703912228345871, 0.06223161891102791, 0.22858603298664093, 0.08565632253885269, 0.07175766676664352, 0.023932235315442085, 0.14920270442962646, 0.18801340460777283, 0.0012851223582401872, 0.03983879089355469, 0.009766929782927036, 0.03354169428348541, 0.13840767741203308, 0.09779781103134155, 0.19662371277809143, 0.024931373074650764, 0.024160299450159073, 0.034312766045331955, 0.012337174266576767, 0.03559788689017296, 0.014007833786308765, 0.8179478645324707, 0.009873094037175179, 0.03645450249314308, 0.031897686421871185, 0.055820953100919724, 0.012151500210165977, 0.023163797333836555, 0.012151500210165977, 0.0007594687631353736, 0.003046726807951927, 0.8987843990325928, 0.016756998375058174, 0.08124604821205139, 0.9997943043708801, 0.0010584042174741626, 0.04551137983798981, 0.6695464849472046, 0.06869043409824371, 0.009631478227674961, 0.0010584042174741626, 0.00010584041592665017, 0.058635592460632324, 0.05916479229927063, 0.003175212536007166, 0.0026460103690624237, 0.0560954213142395, 0.02254400961101055, 0.002116808434948325, 0.9986464381217957, 0.021497901529073715, 0.07202905416488647, 0.0035460456274449825, 0.46253731846809387, 0.06959114223718643, 0.29565155506134033, 0.0002216278517153114, 0.04964463785290718, 0.025487203150987625, 0.7922298908233643, 0.016129974275827408, 0.0031019181478768587, 0.0055834525264799595, 0.15230417251586914, 0.0055834525264799595, 0.02512553706765175, 0.0003101917973253876, 1.0026136636734009, 0.0028470554389059544, 0.9907752871513367, 0.005694110877811909, 0.9941233396530151, 0.997662365436554, 0.7473951578140259, 0.25259050726890564, 0.995232343673706, 0.902965247631073, 0.013477093540132046, 0.08367028832435608, 1.0001885890960693, 1.0002398490905762, 1.0006136894226074, 0.9989973902702332, 1.0005440711975098, 0.21827332675457, 0.16555427014827728, 0.030527736991643906, 0.030997395515441895, 0.019490785896778107, 0.03933381661772728, 0.008923492394387722, 0.05694597214460373, 0.05330612510442734, 0.21439865231513977, 0.16238407790660858, 0.00020659141591750085, 0.08904089778661728, 0.00020659141591750085, 0.4468572437763214, 0.3177376091480255, 0.11507141590118408, 0.03098871186375618, 0.999832034111023, 0.9987981915473938, 0.9994339346885681, 0.9997084736824036, 0.6949328184127808, 0.2677781879901886, 0.037424422800540924, 0.9978780150413513, 1.0003910064697266, 1.000955581665039, 0.971851646900177, 0.02776719070971012, 0.9998458027839661, 0.9993072152137756, 0.9990794062614441, 0.9983763694763184, 1.0006831884384155, 0.00011099046241724864, 0.0022198092192411423, 0.32853177189826965, 0.03252020478248596, 0.009545180015265942, 0.10544093698263168, 0.06270961463451385, 0.009767160750925541, 0.014206779189407825, 0.43486061692237854, 0.01294014137238264, 0.06603579968214035, 0.027009977027773857, 0.0775381475687027, 0.19061033427715302, 0.008421361446380615, 0.10434272885322571, 0.10639671981334686, 0.00010269953054375947, 0.3417840600013733, 0.004826878197491169, 0.02505868673324585, 0.019307512789964676, 0.01550762914121151, 1.0004812479019165, 0.2077249437570572, 0.005640806630253792, 0.000895366130862385, 0.06375007331371307, 0.11201030761003494, 0.0054617333225905895, 0.14245276153087616, 0.15901702642440796, 0.039575181901454926, 0.07324095070362091, 0.05434872582554817, 0.04799162596464157, 0.03715769574046135, 0.02533886209130287, 0.02533886209130287, 0.3414444327354431, 0.00024082693562377244, 0.009777573868632317, 0.011222535744309425, 0.0332341194152832, 0.0004816538712475449, 0.11940199881792068, 0.16212469339370728, 0.1014363095164299, 0.09372984617948532, 0.013389977626502514, 0.0025046002119779587, 0.0707067921757698, 0.023023055866360664, 0.01724320836365223, 0.9973781108856201, 0.9997217059135437, 1.000274419784546, 0.9994021058082581, 0.05384807288646698, 0.07231026887893677, 0.11292710155248642, 0.02338544838130474, 0.27031731605529785, 0.050924889743328094, 0.06907938420772552, 0.0004615548823494464, 0.0024616261944174767, 0.0029231810476630926, 0.19246838986873627, 0.1490822285413742, 0.05128832533955574, 0.011219321750104427, 0.0016027601668611169, 0.005609660875052214, 0.7957704663276672, 0.08254215121269226, 0.014424841850996017, 0.0048082806169986725, 0.007212420925498009, 0.02564416266977787, 0.9999364018440247, 0.0025052137207239866, 0.997075080871582, 0.05918947979807854, 0.06758007407188416, 0.005983991548418999, 0.16013681888580322, 0.11057375371456146, 0.11818382889032364, 0.03551368787884712, 0.002211475046351552, 0.019968319684267044, 0.02822882868349552, 0.20586231350898743, 0.055612094700336456, 0.007349902763962746, 0.055742181837558746, 0.06784024834632874, 0.0727195143699646, 0.8884428143501282, 0.038994524627923965, 0.9983540177345276, 0.9997673034667969], \"Term\": [\"absence_r\\u00e9ponse\", \"absence_r\\u00e9ponse\", \"absence_r\\u00e9ponse\", \"absence_r\\u00e9ponse\", \"absence_r\\u00e9ponse\", \"absence_r\\u00e9ponse\", \"absence_r\\u00e9ponse\", \"absence_r\\u00e9ponse\", \"absence_r\\u00e9ponse\", \"absence_r\\u00e9ponse\", \"absence_r\\u00e9ponse\", \"absence_r\\u00e9ponse\", \"absence_r\\u00e9ponse\", \"absence_r\\u00e9ponse\", \"abusif\", \"abusive\", \"accident_travail\", \"accompagn\\u00e9e_pr\\u00e9sent\", \"accompagn\\u00e9e_pr\\u00e9sent\", \"accompagn\\u00e9e_pr\\u00e9sent\", \"accompagn\\u00e9e_pr\\u00e9sent\", \"accompagn\\u00e9e_pr\\u00e9sent\", \"accus\\u00e9_r\\u00e9ception\", \"accus\\u00e9_r\\u00e9ception\", \"accus\\u00e9_r\\u00e9ception\", \"accus\\u00e9_r\\u00e9ception\", \"acc\\u00e8s_institu\\u00e9\", \"acc\\u00e8s_institu\\u00e9\", \"acc\\u00e8s_institu\\u00e9\", \"acc\\u00e9der_informations\", \"acc\\u00e9der_informations\", \"actes_assembl\\u00e9es\", \"actes_notari\\u00e9s\", \"actes_notari\\u00e9s\", \"action_sociale\", \"action_sociale\", \"action_sociale\", \"action_sociale\", \"activit\\u00e9\", \"activit\\u00e9\", \"activit\\u00e9\", \"activit\\u00e9\", \"activit\\u00e9\", \"activit\\u00e9\", \"activit\\u00e9\", \"activit\\u00e9\", \"activit\\u00e9\", \"activit\\u00e9_conditions\", \"activit\\u00e9_conditions\", \"activit\\u00e9s\", \"activit\\u00e9s\", \"activit\\u00e9s\", \"activit\\u00e9s\", \"activit\\u00e9s\", \"activit\\u00e9s\", \"activit\\u00e9s\", \"administratif\", \"administratif\", \"administratif\", \"administratif\", \"administratif\", \"administratif\", \"administratif\", \"administratif\", \"administratif\", \"administratif\", \"administratif\", \"administratif\", \"administratif\", \"administratif_entrent\", \"administratifs\", \"administratifs\", \"administratifs\", \"administratifs\", \"administratifs\", \"administratifs\", \"administratifs\", \"administratifs\", \"administratifs\", \"administratifs\", \"administratifs\", \"administratifs\", \"administratifs\", \"administratifs\", \"administratifs_examin\\u00e9\", \"administratifs_examin\\u00e9\", \"administratifs_examin\\u00e9\", \"administratifs_examin\\u00e9\", \"administratifs_examin\\u00e9\", \"administrations_mentionn\\u00e9es\", \"adresse_administrative\", \"adresse_personnelle\", \"adresse_suivante\", \"adresse_t\\u00e9l\\u00e9phone\", \"adress\\u00e9\", \"adress\\u00e9\", \"adress\\u00e9\", \"adress\\u00e9\", \"adress\\u00e9\", \"adress\\u00e9\", \"adress\\u00e9\", \"adress\\u00e9\", \"adress\\u00e9\", \"adress\\u00e9\", \"adress\\u00e9e\", \"adress\\u00e9e\", \"adress\\u00e9e\", \"adress\\u00e9e\", \"adress\\u00e9e\", \"adress\\u00e9e\", \"adress\\u00e9e\", \"adress\\u00e9e\", \"adress\\u00e9e\", \"adress\\u00e9e\", \"adress\\u00e9e\", \"adress\\u00e9e\", \"adress\\u00e9e\", \"adress\\u00e9e\", \"affaires\", \"affaires\", \"affaires\", \"affaires\", \"affaires\", \"affaires\", \"affaires\", \"affaires_coordonn\\u00e9es\", \"affaires_formation\", \"affaires_sociales\", \"afin_garantir\", \"afin_permettre\", \"afin_permettre\", \"agent\", \"agent\", \"agent\", \"agent\", \"agent\", \"agents\", \"agents\", \"agents\", \"agents\", \"agents_publics\", \"agissant\", \"agissant\", \"agissant\", \"agissant\", \"agissant\", \"agissant\", \"agissant\", \"agissant\", \"agissant\", \"agissant\", \"agissant\", \"agissant\", \"agissant\", \"agissant\", \"agissant\", \"agissant_r\\u00e9mun\\u00e9ration\", \"aide_sociale\", \"aides\", \"aides_vers\\u00e9es\", \"ais\\u00e9ment_identifiable\", \"alg\\u00e9rie\", \"alimentation\", \"alt\\u00e9r\\u00e9es_sens\", \"am\\u00e9lioration\", \"am\\u00e9lioration\", \"am\\u00e9nagement\", \"am\\u00e9nagement\", \"am\\u00e9nagement\", \"am\\u00e9nagement\", \"am\\u00e9nagement\", \"am\\u00e9nagement\", \"analyse_offres\", \"animaux_victimes\", \"annex\\u00e9es\", \"annex\\u00e9es\", \"ann\\u00e9e\", \"ann\\u00e9e\", \"ann\\u00e9e\", \"ann\\u00e9e\", \"ann\\u00e9e\", \"ann\\u00e9e\", \"ann\\u00e9e\", \"ann\\u00e9e\", \"ann\\u00e9e\", \"ann\\u00e9e\", \"ans_compter\", \"ao\\u00fbt\", \"ao\\u00fbt\", \"ao\\u00fbt\", \"ao\\u00fbt\", \"ao\\u00fbt\", \"ao\\u00fbt\", \"ao\\u00fbt\", \"ao\\u00fbt\", \"ao\\u00fbt\", \"ao\\u00fbt\", \"ao\\u00fbt\", \"ao\\u00fbt\", \"ao\\u00fbt\", \"ao\\u00fbt\", \"ao\\u00fbt\", \"appara\\u00eetre_comportement\", \"appel_offres\", \"appel_t\\u00e9l\\u00e9phonique\", \"application_quatri\\u00e8me\", \"application_quatri\\u00e8me\", \"application_quatri\\u00e8me\", \"applique_tous\", \"appr\\u00e9ciation_jugement\", \"appr\\u00e9ciation_jugement\", \"appr\\u00e9ciations_jugements\", \"apr\\u00e8s_occultation\", \"apr\\u00e8s_occultation\", \"apr\\u00e8s_occultation\", \"apr\\u00e8s_occultation\", \"apr\\u00e8s_occultation\", \"archives\", \"archives\", \"archives\", \"archives_france\", \"archives_publiques\", \"archives_publiques\", \"arr\\u00eat\\u00e9\", \"arr\\u00eat\\u00e9\", \"arr\\u00eat\\u00e9\", \"arr\\u00eat\\u00e9\", \"arr\\u00eat\\u00e9\", \"arr\\u00eat\\u00e9\", \"arr\\u00eat\\u00e9\", \"arr\\u00eat\\u00e9\", \"arr\\u00eat\\u00e9\", \"arr\\u00eat\\u00e9\", \"arr\\u00eat\\u00e9\", \"arr\\u00eat\\u00e9_conjoint\", \"arr\\u00eat\\u00e9s_municipaux\", \"articles\", \"articles\", \"articles\", \"articles\", \"articles\", \"articles\", \"articles\", \"articles\", \"articles\", \"articles\", \"articles\", \"articles\", \"articles\", \"articles\", \"articles\", \"assembl\\u00e9e_nationale\", \"assembl\\u00e9es_parlementaires\", \"assistance_paris\", \"association\", \"association\", \"association\", \"association\", \"association\", \"association\", \"association\", \"association\", \"association\", \"association\", \"association_d\\u00e9fense\", \"association_d\\u00e9fense\", \"assurance_maladie\", \"attributaire\", \"attribu\\u00e9_subvention\", \"aupr\\u00e8s_tiers\", \"auquel_renvoie\", \"auquel_renvoie\", \"automatis\\u00e9_usage\", \"automatis\\u00e9_usage\", \"autorisation\", \"autorisation\", \"autorisation\", \"autorisation\", \"autorisation\", \"autorisation\", \"autorisations\", \"autorisations\", \"autorisations\", \"autorisations\", \"autorisations\", \"autorit\\u00e9_judiciaire\", \"autorit\\u00e9_judiciaire\", \"autorit\\u00e9_judiciaire\", \"autorit\\u00e9_parentale\", \"autorit\\u00e9_parentale\", \"autre\", \"autre\", \"autre\", \"autre\", \"autre\", \"autre\", \"autre\", \"autre\", \"autre\", \"autre\", \"autre\", \"autre\", \"autre\", \"autre\", \"autre_parent\", \"autre_part\", \"autre_part\", \"autre_part\", \"autre_part\", \"autre_part\", \"autre_part\", \"autre_part\", \"autre_part\", \"autre_part\", \"autre_part\", \"autre_part\", \"autre_part\", \"autres\", \"autres\", \"autres\", \"autres\", \"autres\", \"autres\", \"autres\", \"autres\", \"autres\", \"autres\", \"autres\", \"autres\", \"autres\", \"autres\", \"autres_celles\", \"autres_celles\", \"autres_celles\", \"avant_d\\u00e9c\\u00e8s\", \"aviation_civile\", \"avis\", \"avis\", \"avis\", \"avis\", \"avis\", \"avis\", \"avis\", \"avis\", \"avis\", \"avis\", \"avis\", \"avis\", \"avis\", \"avis\", \"avocat_client\", \"avocats_lyon\", \"avril\", \"avril\", \"avril\", \"avril\", \"avril\", \"avril\", \"avril\", \"avril\", \"avril\", \"avril\", \"avril\", \"avril\", \"avril\", \"avril\", \"avril\", \"bancaires_r\\u00e9f\\u00e9rences\", \"base_donn\\u00e9es\", \"base_donn\\u00e9es\", \"besoins_laquelle\", \"bon_fonctionnement\", \"bon_fonctionnement\", \"bruit_rayonnements\", \"budget_comptes\", \"budget_principal\", \"budgets_comptes\", \"b\\u00e9n\\u00e9ficient_tant\", \"cabinet\", \"cabinet\", \"cabinet\", \"cabinet\", \"cabinet\", \"cabinet\", \"cabinet\", \"cabinet\", \"cabinet\", \"cadre\", \"cadre\", \"cadre\", \"cadre\", \"cadre\", \"cadre\", \"cadre\", \"cadre\", \"cadre\", \"cadre\", \"cadre\", \"cadre\", \"cadre\", \"cadre\", \"cadre\", \"cadre_fonction\", \"cadre_instruction\", \"cadre_instruction\", \"cadre_instruction\", \"cadre_mission\", \"cadre_mission\", \"cadre_mission\", \"cadre_mission\", \"cadre_mission\", \"caisse\", \"caisse\", \"caisse\", \"caisse\", \"caisse_allocations\", \"caisse_primaire\", \"caisse_r\\u00e9gionale\", \"caisses\", \"caisses_primaires\", \"caract\\u00e8re\", \"caract\\u00e8re\", \"caract\\u00e8re\", \"caract\\u00e8re\", \"caract\\u00e8re\", \"caract\\u00e8re\", \"caract\\u00e8re\", \"caract\\u00e8re\", \"caract\\u00e8re\", \"caract\\u00e8re\", \"caract\\u00e8re\", \"caract\\u00e8re\", \"caract\\u00e8re\", \"caract\\u00e8re_personnel\", \"cas\", \"cas\", \"cas\", \"cas\", \"cas\", \"cas\", \"cas\", \"cas\", \"cas\", \"cas\", \"cas\", \"cas\", \"cas_lesquels\", \"cas_\\u00e9ch\\u00e9ant\", \"cas_\\u00e9ch\\u00e9ant\", \"cas_\\u00e9ch\\u00e9ant\", \"cas_\\u00e9ch\\u00e9ant\", \"cas_\\u00e9ch\\u00e9ant\", \"cas_\\u00e9ch\\u00e9ant\", \"cas_\\u00e9ch\\u00e9ant\", \"cas_\\u00e9ch\\u00e9ant\", \"cas_\\u00e9ch\\u00e9ant\", \"cas_\\u00e9ch\\u00e9ant\", \"cas_\\u00e9ch\\u00e9ant\", \"cas_\\u00e9ch\\u00e9ant\", \"cas_\\u00e9ch\\u00e9ant\", \"causes_d\\u00e9c\\u00e8s\", \"causes_mort\", \"celui_utilis\\u00e9\", \"centre_d\\u00e9tention\", \"centre_hospitalier\", \"centre_hospitalier\", \"centre_hospitalier\", \"centre_p\\u00e9nitentiaire\", \"centre_p\\u00e9nitentiaire\", \"certaines_informations\", \"certaines_informations\", \"certaines_informations\", \"certificat_nationalit\\u00e9\", \"certifications_tierces\", \"ceux_\\u00e9labor\\u00e9s\", \"champ_application\", \"champ_application\", \"champ_application\", \"chaque\", \"chaque\", \"chaque\", \"chaque\", \"chaque\", \"chaque\", \"chaque\", \"chaque\", \"chaque\", \"charge_th\\u00e9rapeutique\", \"chemin\", \"chemin_rural\", \"chsct\", \"circonstances_d\\u00e9c\\u00e8s\", \"circulation\", \"circulation\", \"citoyens\", \"citoyens\", \"citoyens\", \"citoyens\", \"civils\", \"clichy\", \"client\", \"client\", \"client\", \"client\", \"client\", \"client\", \"client\", \"client\", \"collectivit\\u00e9s_territoriales\", \"collectivit\\u00e9s_territoriales\", \"collectivit\\u00e9s_territoriales\", \"collectivit\\u00e9s_territoriales\", \"collectivit\\u00e9s_territoriales\", \"collectivit\\u00e9s_territoriales\", \"collectivit\\u00e9s_territoriales\", \"comit\\u00e9\", \"comit\\u00e9\", \"comit\\u00e9\", \"comit\\u00e9\", \"comit\\u00e9s_techniques\", \"commande_publique\", \"commissaire_enqu\\u00eateur\", \"commissariat\", \"commissions_d\\u00e9partementales\", \"commune\", \"commune\", \"commune\", \"commune\", \"commune\", \"commune\", \"commune\", \"commune\", \"commune\", \"commune_font\", \"communes_membres\", \"communicable\", \"communicable\", \"communicable\", \"communicable\", \"communicable\", \"communicable\", \"communicable\", \"communicable\", \"communicable\", \"communicable\", \"communicable\", \"communicable\", \"communicable\", \"communicable\", \"communicable\", \"communicables\", \"communicables\", \"communicables\", \"communicables\", \"communicables\", \"communicables\", \"communicables\", \"communicables\", \"communicables\", \"communicables\", \"communicables\", \"communicables\", \"communicables\", \"communicables\", \"communicables\", \"communiqu\\u00e9\", \"communiqu\\u00e9\", \"communiqu\\u00e9\", \"communiqu\\u00e9\", \"communiqu\\u00e9\", \"communiqu\\u00e9\", \"communiqu\\u00e9\", \"communiqu\\u00e9\", \"communiqu\\u00e9\", \"communiqu\\u00e9\", \"communiqu\\u00e9\", \"communiqu\\u00e9s\", \"communiqu\\u00e9s\", \"communiqu\\u00e9s\", \"communiqu\\u00e9s\", \"communiqu\\u00e9s\", \"communiqu\\u00e9s\", \"communiqu\\u00e9s\", \"communiqu\\u00e9s\", \"communiqu\\u00e9s\", \"communiqu\\u00e9s\", \"communiqu\\u00e9s\", \"compatible_frais\", \"comportement\", \"comportement\", \"composant_dossier\", \"composant_dossier\", \"composant_dossier\", \"composantes_fixes\", \"compte\", \"compte\", \"compte\", \"compte\", \"compte\", \"compte\", \"compte\", \"compte\", \"compte\", \"compte\", \"compte\", \"compte\", \"comptes\", \"comptes\", \"comptes\", \"comptes_annuels\", \"comptes_bancaires\", \"comptes_r\\u00e9sultat\", \"comp\\u00e9tente_appr\\u00e9cier\", \"comp\\u00e9tente_interpr\\u00e9ter\", \"comp\\u00e9tente_interpr\\u00e9ter\", \"comp\\u00e9tente_interpr\\u00e9ter\", \"comp\\u00e9tente_interpr\\u00e9ter\", \"comp\\u00e9tente_prononcer\", \"comp\\u00e9tente_prononcer\", \"comp\\u00e9tente_prononcer\", \"comp\\u00e9tente_prononcer\", \"comp\\u00e9tente_prononcer\", \"comp\\u00e9tente_prononcer\", \"comp\\u00e9tente_prononcer\", \"comp\\u00e9tente_prononcer\", \"concernant\", \"concernant\", \"concernant\", \"concernant\", \"concernant\", \"concernant\", \"concernant\", \"concernant\", \"concernant\", \"concernant\", \"concernant\", \"concernant\", \"concernant\", \"concernant\", \"concernant\", \"concernant_chiffre\", \"concernant_tel\", \"concernent_directement\", \"concernent_exercice\", \"concurrence_consommation\", \"condition_derni\\u00e8res\", \"conduit\", \"conduit\", \"conduit\", \"conduit\", \"conduit\", \"conduit\", \"conduit\", \"conduit\", \"conduit\", \"conduit\", \"conduit\", \"conjoint_premier\", \"conseil\", \"conseil\", \"conseil\", \"conseil\", \"conseil\", \"conseil\", \"conseil\", \"conseil\", \"conseil\", \"conseil\", \"conseil\", \"conseil\", \"conseil\", \"conseil\", \"conseil\", \"conseil_constitutionnel\", \"conseil_d\\u00e9partemental\", \"conseil_d\\u00e9partemental\", \"conseil_d\\u00e9partemental\", \"conseil_d\\u00e9partemental\", \"conseil_d\\u00e9partemental\", \"conseil_municipal\", \"conseil_municipal\", \"conseil_municipal\", \"conseillers_municipaux\", \"conservation_document\", \"consid\\u00e8re\", \"consid\\u00e8re\", \"consid\\u00e8re\", \"consid\\u00e8re\", \"consid\\u00e8re\", \"consid\\u00e8re\", \"consid\\u00e8re\", \"consid\\u00e8re\", \"consid\\u00e8re\", \"consid\\u00e8re\", \"consid\\u00e8re\", \"consid\\u00e8re\", \"consid\\u00e8re\", \"consid\\u00e8re\", \"consid\\u00e9r\\u00e9e_abusive\", \"consid\\u00e9r\\u00e9s\", \"consid\\u00e9r\\u00e9s\", \"consid\\u00e9r\\u00e9s\", \"consid\\u00e9r\\u00e9s\", \"constatant_infractions\", \"constituant_dossier\", \"construction\", \"construction\", \"construction\", \"construction\", \"construire\", \"consultation\", \"consultation\", \"consultation\", \"consultation\", \"consultation\", \"consultation\", \"consultation\", \"consultation\", \"consultation\", \"consultation\", \"consultation\", \"consultation\", \"consultation\", \"consultation\", \"consultation_gratuite\", \"contient_\\u00e9manent\", \"contradictoire\", \"contrat\", \"contrat\", \"contrat\", \"contrat\", \"contrat\", \"contrat\", \"contrat\", \"contrat\", \"contr\\u00f4le\", \"contr\\u00f4le\", \"contr\\u00f4le\", \"contr\\u00f4le\", \"contr\\u00f4le\", \"contr\\u00f4le\", \"contr\\u00f4le\", \"contr\\u00f4le\", \"contr\\u00f4le\", \"convocations_adress\\u00e9es\", \"copie\", \"copie\", \"copie\", \"copie\", \"copie\", \"copie\", \"copie\", \"copie\", \"copie\", \"copie\", \"copie\", \"copie\", \"copie\", \"copie\", \"copie\", \"copie_relev\\u00e9s\", \"correspondances_\\u00e9chang\\u00e9es\", \"correspondances_\\u00e9chang\\u00e9es\", \"correspondances_\\u00e9chang\\u00e9es\", \"correspondances_\\u00e9chang\\u00e9es\", \"correspondances_\\u00e9chang\\u00e9es\", \"correspondances_\\u00e9chang\\u00e9es\", \"correspondent_march\\u00e9s\", \"courant\", \"courant\", \"courrier\", \"courrier\", \"courrier\", \"courrier\", \"courrier\", \"courrier\", \"courrier\", \"courrier\", \"courrier\", \"courrier\", \"courrier\", \"courrier\", \"courrier\", \"courrier\", \"cours\", \"cours\", \"cours\", \"cours\", \"cours\", \"cours\", \"cours\", \"cours\", \"cours\", \"cours\", \"cours\", \"cours\", \"cours\", \"cours\", \"co\\u00fbt_envoi\", \"co\\u00fbt_reproduction\", \"cpam\", \"cr\\u00e9teil\", \"c\\u00f4te\", \"date\", \"date\", \"date\", \"date\", \"date\", \"date\", \"date\", \"date\", \"date\", \"date\", \"date\", \"date\", \"date\", \"date\", \"date\", \"demander\", \"demander\", \"demander\", \"demander\", \"demander\", \"demander\", \"demandes\", \"demandes\", \"demandes\", \"demandes\", \"demandes\", \"demandes\", \"demandes\", \"demandes\", \"demandes\", \"demandes\", \"demandes\", \"demandes\", \"demandes\", \"demandes_subventions\", \"demandeur\", \"demandeur\", \"demandeur\", \"demandeur\", \"demandeur\", \"demandeur\", \"demandeur\", \"demandeur\", \"demandeur\", \"demandeur\", \"demandeur\", \"demandeur\", \"demandeur\", \"demandeur\", \"demandeur\", \"demandeur_limite\", \"dernier_alin\\u00e9a\", \"dernier_alin\\u00e9a\", \"dernier_alin\\u00e9a\", \"derni\\u00e8re_mise\", \"devenue_sans\", \"dgccrf\", \"diff\\u00e9rentes_lois\", \"directement_concern\\u00e9e\", \"directement_interm\\u00e9diaire\", \"directeur_caisse\", \"directeur_centre\", \"directeur_centre\", \"directeur_centre\", \"directeur_centre\", \"directeur_g\\u00e9n\\u00e9ral\", \"directeur_g\\u00e9n\\u00e9ral\", \"directeur_g\\u00e9n\\u00e9ral\", \"directeur_g\\u00e9n\\u00e9ral\", \"directeur_g\\u00e9n\\u00e9ral\", \"directeur_g\\u00e9n\\u00e9ral\", \"directeur_g\\u00e9n\\u00e9ral\", \"directeur_g\\u00e9n\\u00e9ral\", \"directeur_g\\u00e9n\\u00e9ral\", \"dispose_d\\u00e9j\\u00e0\", \"dispositions\", \"dispositions\", \"dispositions\", \"dispositions\", \"dispositions\", \"dispositions\", \"dispositions\", \"dispositions\", \"dispositions\", \"dispositions\", \"dispositions\", \"dispositions\", \"dispositions\", \"dispositions\", \"dispositions_chapitre\", \"dispositions_chapitre\", \"dispositions_chapitre\", \"dispositions_l\\u00e9gislatives\", \"dispositions_l\\u00e9gislatives\", \"dispositions_pr\\u00e9cit\\u00e9es\", \"dispositions_pr\\u00e9cit\\u00e9es\", \"dispositions_pr\\u00e9cit\\u00e9es\", \"dispositions_pr\\u00e9cit\\u00e9es\", \"dispositions_pr\\u00e9cit\\u00e9es\", \"dispositions_pr\\u00e9cit\\u00e9es\", \"dispositions_pr\\u00e9cit\\u00e9es\", \"dispositions_pr\\u00e9cit\\u00e9es\", \"dispositions_sp\\u00e9ciales\", \"diversit\\u00e9_biologique\", \"divulgation_comportement\", \"divulgation_pourrait\", \"divulgation_pourrait\", \"docteur\", \"docteur\", \"docteur\", \"document\", \"document\", \"document\", \"document\", \"document\", \"document\", \"document\", \"document\", \"document\", \"document\", \"document\", \"document\", \"document\", \"document\", \"document_disponible\", \"document_sollicit\\u00e9\", \"document_sollicit\\u00e9\", \"document_sollicit\\u00e9\", \"document_sollicit\\u00e9\", \"document_sollicit\\u00e9\", \"document_sollicit\\u00e9\", \"document_sollicit\\u00e9\", \"document_sollicit\\u00e9\", \"document_sollicit\\u00e9\", \"document_sollicit\\u00e9\", \"document_sollicit\\u00e9\", \"document_sollicit\\u00e9\", \"doit_occult\\u00e9e\", \"doit_pr\\u00e9ciser\", \"doit_toutefois\", \"domaine\", \"domaine\", \"domaine\", \"domaine\", \"domaine\", \"domaine_priv\\u00e9\", \"donc\", \"donc\", \"donc\", \"donc\", \"donc\", \"donc\", \"donc\", \"donc\", \"donc\", \"donc\", \"donc\", \"donc\", \"donc\", \"donc\", \"donc\", \"donn\\u00e9es\", \"donn\\u00e9es\", \"donn\\u00e9es\", \"donn\\u00e9es\", \"donn\\u00e9es\", \"donn\\u00e9es\", \"donn\\u00e9es_caract\\u00e8re\", \"donn\\u00e9es_nominatives\", \"donn\\u00e9es_personnelles\", \"dossier\", \"dossier\", \"dossier\", \"dossier\", \"dossier\", \"dossier\", \"dossier\", \"dossier\", \"dossier\", \"dossier\", \"dossier\", \"dossier_m\\u00e9dical\", \"dossier_m\\u00e9dical\", \"dossiers\", \"dossiers\", \"dossiers\", \"dossiers\", \"dossiers\", \"dossiers\", \"dossiers\", \"dossiers\", \"dossiers\", \"dossiers\", \"dossiers_instruction\", \"dossiers_rapports\", \"droit\", \"droit\", \"droit\", \"droit\", \"droit\", \"droit\", \"droit\", \"droit\", \"droit\", \"droit\", \"droit\", \"droit\", \"droit\", \"droit\", \"droit_priv\\u00e9\", \"droit_priv\\u00e9\", \"droit_priv\\u00e9\", \"droit_priv\\u00e9\", \"droit_pr\\u00e9emption\", \"droits\", \"droits\", \"droits\", \"droits\", \"droits\", \"droits\", \"droits\", \"droits\", \"droits\", \"droits\", \"droits_information\", \"droits_sauf\", \"d\\u00e9but_fin\", \"d\\u00e9but_fin\", \"d\\u00e9chets_\\u00e9missions\", \"d\\u00e9cision\", \"d\\u00e9cision\", \"d\\u00e9cision\", \"d\\u00e9cision\", \"d\\u00e9cision\", \"d\\u00e9cision\", \"d\\u00e9cision\", \"d\\u00e9cision\", \"d\\u00e9cision\", \"d\\u00e9cision\", \"d\\u00e9cision\", \"d\\u00e9cision\", \"d\\u00e9cision\", \"d\\u00e9cision\", \"d\\u00e9cision\", \"d\\u00e9cision_effectivement\", \"d\\u00e9cision_expresse\", \"d\\u00e9cisions_activit\\u00e9s\", \"d\\u00e9claration_accident\", \"d\\u00e9claration_attestant\", \"d\\u00e9claration_pr\\u00e9alable\", \"d\\u00e9clarer\", \"d\\u00e9clarer\", \"d\\u00e9clarer\", \"d\\u00e9clarer\", \"d\\u00e9clarer\", \"d\\u00e9clarer_sans\", \"d\\u00e9composition_prix\", \"d\\u00e9c\\u00e8s\", \"d\\u00e9c\\u00e8s\", \"d\\u00e9c\\u00e8s\", \"d\\u00e9c\\u00e9d\\u00e9\", \"d\\u00e9c\\u00e9d\\u00e9\", \"d\\u00e9fendre_m\\u00e9moire\", \"d\\u00e9fense_nationale\", \"d\\u00e9fense_nationale\", \"d\\u00e9fense_nationale\", \"d\\u00e9finies_titre\", \"d\\u00e9finis_arr\\u00eat\\u00e9\", \"d\\u00e9funt\", \"d\\u00e9funt_faire\", \"d\\u00e9lai_ans\", \"d\\u00e9lib\\u00e9ration\", \"d\\u00e9lib\\u00e9ration\", \"d\\u00e9lib\\u00e9ration\", \"d\\u00e9lib\\u00e9ration\", \"d\\u00e9lib\\u00e9ration\", \"d\\u00e9lib\\u00e9ration\", \"d\\u00e9lib\\u00e9ration\", \"d\\u00e9lib\\u00e9rations\", \"d\\u00e9lib\\u00e9rations\", \"d\\u00e9lib\\u00e9rations\", \"d\\u00e9lib\\u00e9rations\", \"d\\u00e9lib\\u00e9rations\", \"d\\u00e9lib\\u00e9rations\", \"d\\u00e9lib\\u00e9rations\", \"d\\u00e9lib\\u00e9rations_conseils\", \"d\\u00e9livrance_copie\", \"d\\u00e9livr\\u00e9\", \"d\\u00e9livr\\u00e9\", \"d\\u00e9livr\\u00e9es_droit\", \"d\\u00e9natur\\u00e9_leurs\", \"d\\u00e9partement_essonne\", \"d\\u00e9partemental_incendie\", \"d\\u00e9rogation_d\\u00e9lais\", \"d\\u00e9tails_techniques\", \"d\\u00e9tenues_re\\u00e7ues\", \"d\\u00e9tenus_professionnels\", \"d\\u00e9veloppement\", \"d\\u00e9veloppement\", \"d\\u00e9veloppement\", \"d\\u00e9veloppement\", \"d\\u00e9versements_autres\", \"effet\", \"effet\", \"effet\", \"effet\", \"effet\", \"effet\", \"effet\", \"effet\", \"effet\", \"effet\", \"effet\", \"elles_n\\u00e9cessaires\", \"elles_recueillies\", \"emploi\", \"emploi\", \"emploi\", \"emploi\", \"employeur\", \"employeur\", \"employeur\", \"enfance\", \"enfant\", \"enfant\", \"enfant\", \"enfant\", \"enfant_mineur\", \"enfants\", \"enfants\", \"enqu\\u00eate_publique\", \"enqu\\u00eate_publique\", \"enregistr\\u00e9\", \"enseignement_sup\\u00e9rieur\", \"ensemble\", \"ensemble\", \"ensemble\", \"ensemble\", \"ensemble\", \"ensemble\", \"ensemble\", \"ensemble\", \"ensemble\", \"ensemble\", \"ensemble\", \"ensemble\", \"ensemble\", \"ensemble\", \"ensemble\", \"ensemble_pi\\u00e8ces\", \"ensemble_pi\\u00e8ces\", \"ensemble_pi\\u00e8ces\", \"ensemble_pi\\u00e8ces\", \"ensemble_pi\\u00e8ces\", \"ensemble_pi\\u00e8ces\", \"ensemble_pi\\u00e8ces\", \"ensemble_pi\\u00e8ces\", \"entre\", \"entre\", \"entre\", \"entre\", \"entre\", \"entre\", \"entre\", \"entre\", \"entre\", \"entre\", \"entre\", \"entre\", \"entre\", \"entre\", \"entre_op\\u00e9rateurs\", \"entreprise_attributaire\", \"entreprises\", \"entreprises\", \"entreprises\", \"entreprises\", \"entreprises\", \"entreprises\", \"entreprises\", \"entreprises\", \"entreprises_non\", \"environnement\", \"environnement\", \"environnement_qualifie\", \"envoi\", \"envoi\", \"envoi\", \"envoi\", \"envoi\", \"envoi\", \"envoi\", \"envoi\", \"envoi\", \"envoi\", \"envoi_peuvent\", \"envoi_peuvent\", \"esp\\u00e8ce\", \"esp\\u00e8ce\", \"esp\\u00e8ce\", \"esp\\u00e8ce\", \"esp\\u00e8ce\", \"esp\\u00e8ce\", \"esp\\u00e8ce\", \"esp\\u00e8ce\", \"esp\\u00e8ce\", \"esp\\u00e8ce\", \"esp\\u00e8ce\", \"esp\\u00e8ce\", \"esp\\u00e8ce\", \"esp\\u00e8ce\", \"estime\", \"estime\", \"estime\", \"estime\", \"estime\", \"estime\", \"estime\", \"estime\", \"estime\", \"estime\", \"estime\", \"estime\", \"estime\", \"estime\", \"estime\", \"euro_page\", \"europ\\u00e9en_conseil\", \"euros\", \"euros\", \"euros\", \"euros\", \"euros\", \"euros\", \"examen_candidatures\", \"examen_candidatures\", \"exception_informations\", \"exc\\u00e9der_co\\u00fbt\", \"exc\\u00e9der_montants\", \"exerce_choix\", \"exerce_conditions\", \"exerce_mandats\", \"exercer_respect\", \"exercice_mandat\", \"exercice_mandat\", \"existaient\", \"existe\", \"existe\", \"existe\", \"existe\", \"existe\", \"existe\", \"existe\", \"existe\", \"facilement_identifiable\", \"facteurs_notamment\", \"factures\", \"factures\", \"factures\", \"faire\", \"faire\", \"faire\", \"faire\", \"faire\", \"faire\", \"faire\", \"faire\", \"faire_peser\", \"faire_valoir\", \"faisant_appara\\u00eetre\", \"faisant_appara\\u00eetre\", \"faisant_appara\\u00eetre\", \"faisant_appara\\u00eetre\", \"faisant_appara\\u00eetre\", \"faisant_appara\\u00eetre\", \"faisant_appara\\u00eetre\", \"faisant_appara\\u00eetre\", \"faisant_appara\\u00eetre\", \"fait\", \"fait\", \"fait\", \"fait\", \"fait\", \"fait\", \"fait\", \"fait\", \"fait\", \"fait\", \"fait\", \"fait\", \"fait\", \"fait\", \"fait_obligation\", \"familles\", \"familles\", \"familles\", \"fa\\u00e7on_d\\u00e9lib\\u00e9r\\u00e9e\", \"fer\", \"feraient_appara\\u00eetre\", \"ferait\", \"ferait\", \"ferait\", \"ferait\", \"ferait\", \"ferait_appara\\u00eetre\", \"fichier\", \"fichier\", \"fichier\", \"fichiers_libert\\u00e9s\", \"figurer_dossier\", \"financier_subvention\", \"financiers_offres\", \"fins_celles\", \"fix\\u00e9s\", \"fix\\u00e9s\", \"fix\\u00e9s\", \"fix\\u00e9s\", \"fix\\u00e9s\", \"fonction_publique\", \"fonction_publique\", \"fonctionnaires_agents\", \"fonctions\", \"fonctions\", \"fonctions\", \"fonctions\", \"fonctions\", \"fonctions_statut\", \"fondement\", \"fondement\", \"fondement\", \"fondement\", \"fondement\", \"fondement\", \"fondement\", \"fondement\", \"fondement\", \"fondement\", \"fondement\", \"fondement\", \"fondement\", \"fondement\", \"fond\\u00e9_loi\", \"font_appara\\u00eetre\", \"font_appara\\u00eetre\", \"font_appara\\u00eetre\", \"font_appara\\u00eetre\", \"font_appara\\u00eetre\", \"format\", \"format\", \"format\", \"formation\", \"formation\", \"formation\", \"formation\", \"frais\", \"frais\", \"frais\", \"frais\", \"frais\", \"frais\", \"frais\", \"frais\", \"frais\", \"frais_acquitter\", \"frais_calcul\\u00e9s\", \"frais_correspondant\", \"frais_lorsque\", \"frais_puissent\", \"f\\u00e9d\\u00e9ration_fran\\u00e7aise\", \"f\\u00e9vrier\", \"f\\u00e9vrier\", \"f\\u00e9vrier\", \"f\\u00e9vrier\", \"f\\u00e9vrier\", \"f\\u00e9vrier\", \"f\\u00e9vrier\", \"f\\u00e9vrier\", \"f\\u00e9vrier\", \"f\\u00e9vrier\", \"f\\u00e9vrier\", \"f\\u00e9vrier\", \"f\\u00e9vrier\", \"f\\u00e9vrier\", \"f\\u00e9vrier\", \"garde_sceaux\", \"garde_sceaux\", \"gestion_domaine\", \"gestion_domaine\", \"global_forfaitaire\", \"grade\", \"grade_\\u00e9chelon\", \"grand_livre\", \"grande_instance\", \"groupe_travail\", \"g\\u00e9n\\u00e9ral\", \"g\\u00e9n\\u00e9ral\", \"g\\u00e9n\\u00e9ral\", \"g\\u00e9n\\u00e9ral\", \"g\\u00e9n\\u00e9ral\", \"g\\u00e9n\\u00e9ral\", \"g\\u00e9n\\u00e9ral\", \"g\\u00e9n\\u00e9ral\", \"g\\u00e9n\\u00e9ral\", \"g\\u00e9n\\u00e9ral\", \"g\\u00e9n\\u00e9ral\", \"g\\u00e9n\\u00e9ral\", \"g\\u00e9n\\u00e9ral\", \"g\\u00e9n\\u00e9ral\", \"g\\u00e9n\\u00e9ral_assistance\", \"g\\u00e9n\\u00e9ral_assistance\", \"g\\u00e9n\\u00e9ral_collectivit\\u00e9s\", \"g\\u00e9n\\u00e9ral_collectivit\\u00e9s\", \"g\\u00e9n\\u00e9ral_collectivit\\u00e9s\", \"g\\u00e9n\\u00e9ral_collectivit\\u00e9s\", \"g\\u00e9n\\u00e9rale_efface\", \"haute_autorit\\u00e9\", \"honneur\", \"honneur\", \"humains_certification\", \"identification_personnes\", \"ignominie_d\\u00e9saffection\", \"ii\", \"ii\", \"ii\", \"ii\", \"ii\", \"ii\", \"ii\", \"ii\", \"ii\", \"ii\", \"ii\", \"ii\", \"ii\", \"iii\", \"iii\", \"iii\", \"iii\", \"iii\", \"iii\", \"iii\", \"iii\", \"iii\", \"iii\", \"immeubles_situ\\u00e9s\", \"incapacit\\u00e9_mat\\u00e9rielle\", \"indemnit\\u00e9\", \"indemnit\\u00e9\", \"indemnit\\u00e9\", \"indemnit\\u00e9\", \"indice_traitement\", \"ind\\u00e9pendamment_fonctions\", \"information_relative\", \"informations\", \"informations\", \"informations\", \"informations\", \"informations\", \"informations\", \"informations\", \"informations\", \"informations\", \"informations\", \"informations\", \"informations\", \"informations\", \"informations\", \"informations_communiqu\\u00e9es\", \"informations_contenues\", \"informations_contenues\", \"informations_mentionnant\", \"informations_m\\u00e9dicales\", \"informations_pr\\u00e9cises\", \"informations_pr\\u00e9cises\", \"informations_relatives\", \"informations_relatives\", \"informations_relatives\", \"informations_relatives\", \"informations_relatives\", \"informations_relatives\", \"informations_relatives\", \"inform\\u00e9\", \"inform\\u00e9\", \"inform\\u00e9\", \"inform\\u00e9\", \"inform\\u00e9\", \"inform\\u00e9\", \"inform\\u00e9\", \"inform\\u00e9\", \"inform\\u00e9\", \"inform\\u00e9\", \"insalubrit\\u00e9\", \"inspecteur_travail\", \"inspection_travail\", \"institut\", \"institut_national\", \"instruction\", \"instruction\", \"instruction\", \"instruction\", \"instruction\", \"instruction\", \"instruction\", \"interactions_entre\", \"interpr\\u00e9t\\u00e9es\", \"intervenant_prise\", \"int\\u00e9ress\\u00e9\", \"int\\u00e9ress\\u00e9\", \"int\\u00e9ress\\u00e9\", \"int\\u00e9ress\\u00e9\", \"int\\u00e9ress\\u00e9\", \"int\\u00e9ress\\u00e9\", \"int\\u00e9ress\\u00e9\", \"int\\u00e9ress\\u00e9\", \"int\\u00e9ress\\u00e9\", \"int\\u00e9ress\\u00e9\", \"int\\u00e9ress\\u00e9\", \"int\\u00e9ress\\u00e9_librement\", \"int\\u00e9ress\\u00e9e_sens\", \"int\\u00e9ress\\u00e9e_sens\", \"int\\u00e9r\\u00eat_g\\u00e9n\\u00e9ral\", \"int\\u00e9r\\u00eat_g\\u00e9n\\u00e9ral\", \"int\\u00e9r\\u00eat_g\\u00e9n\\u00e9ral\", \"int\\u00e9r\\u00eat_g\\u00e9n\\u00e9ral\", \"irrecevable\", \"irrecevable\", \"irrecevable\", \"irrecevable\", \"isolement\", \"iv_titre\", \"janvier\", \"janvier\", \"janvier\", \"janvier\", \"janvier\", \"janvier\", \"janvier\", \"janvier\", \"janvier\", \"janvier\", \"janvier\", \"janvier\", \"janvier\", \"janvier\", \"janvier\", \"jour_mentionn\\u00e9es\", \"judiciaire\", \"judiciaires\", \"juge\", \"juge\", \"juge\", \"juge_enfants\", \"jugement_valeur\", \"jugement_valeur\", \"jug\\u00e9_d\\u00e9cision\", \"juillet\", \"juillet\", \"juillet\", \"juillet\", \"juillet\", \"juillet\", \"juillet\", \"juillet\", \"juillet\", \"juillet\", \"juillet\", \"juillet\", \"juillet\", \"juillet\", \"juillet\", \"juin\", \"juin\", \"juin\", \"juin\", \"juin\", \"juin\", \"juin\", \"juin\", \"juin\", \"juin\", \"juin\", \"juin\", \"juin\", \"juin\", \"juin\", \"juridictions_ordre\", \"justice\", \"justice\", \"justificatives\", \"lecture\", \"lettre_recommand\\u00e9e\", \"leurs_droits\", \"leurs_groupements\", \"libert\\u00e9s\", \"licenciement\", \"limites_conditions\", \"liste\", \"liste\", \"liste\", \"liste\", \"liste\", \"liste\", \"liste\", \"liste\", \"liste_b\\u00e9n\\u00e9ficiaires\", \"liste_\\u00e9lectorale\", \"listes_\\u00e9lectorales\", \"livre_i\", \"locations\", \"loi\", \"loi\", \"loi\", \"loi\", \"loi\", \"loi\", \"loi\", \"loi\", \"loi\", \"loi\", \"loi\", \"loi\", \"loi\", \"loi\", \"loi_organique\", \"lorsqu\", \"lorsqu\", \"lorsqu\", \"lorsqu\", \"lorsqu\", \"lorsqu\", \"lorsqu\", \"lorsqu\", \"lorsqu\", \"lorsqu\", \"lorsqu_agit\", \"lorsqu_agit\", \"lorsqu_agit\", \"lorsqu_agit\", \"lorsqu_vise\", \"lorsque\", \"lorsque\", \"lorsque\", \"lorsque\", \"lorsque\", \"lorsque\", \"lorsque\", \"lorsque\", \"lorsque\", \"lorsque\", \"lorsque\", \"lorsque\", \"mai\", \"mai\", \"mai\", \"mai\", \"mai\", \"mai\", \"mai\", \"mai\", \"mai\", \"mai\", \"mai\", \"mai\", \"mai\", \"mai\", \"mai\", \"maire\", \"maire\", \"maire\", \"maire\", \"maire\", \"maire\", \"maire\", \"maire\", \"mairie\", \"mairie\", \"mairie\", \"mairie\", \"mairie\", \"mairie\", \"mairie\", \"maladie\", \"mani\\u00e8re_servir\", \"march\\u00e9\", \"march\\u00e9\", \"march\\u00e9\", \"mars\", \"mars\", \"mars\", \"mars\", \"mars\", \"mars\", \"mars\", \"mars\", \"mars\", \"mars\", \"mars\", \"mars\", \"mars\", \"mars\", \"mars\", \"ma\\u00eetre\", \"ma\\u00eetre\", \"ma\\u00eetre\", \"ma\\u00eetre\", \"ma\\u00eetre\", \"ma\\u00eetre\", \"ma\\u00eetre\", \"ma\\u00eetre\", \"ma\\u00eetre\", \"ma\\u00eetre\", \"ma\\u00eetre\", \"membres\", \"membres\", \"membres\", \"membres\", \"membres\", \"membres\", \"membres\", \"membres\", \"membres\", \"membres_gouvernement\", \"mention_couverte\", \"mentionnant_elles\", \"mentionn\\u00e9e_tables\", \"mentionn\\u00e9s_points\", \"mentionn\\u00e9s_points\", \"mentionn\\u00e9s_points\", \"mentionn\\u00e9s_points\", \"mentionn\\u00e9s_points\", \"mentionn\\u00e9s_points\", \"mentions\", \"mentions\", \"mentions\", \"mentions\", \"mentions\", \"mentions\", \"mentions\", \"mentions\", \"mentions\", \"mentions\", \"mentions_relatives\", \"mentions_relatives\", \"mentions_relatives\", \"mentions_relatives\", \"mentions_relatives\", \"mesure\", \"mesure\", \"mesure\", \"mesure\", \"mesure\", \"mesure\", \"mesure\", \"mesure\", \"mesure\", \"mesure\", \"mesure\", \"mesure\", \"mesure\", \"mesure\", \"mesure\", \"mesure_o\\u00f9\", \"mesure_o\\u00f9\", \"mesure_o\\u00f9\", \"mesure_o\\u00f9\", \"mesure_o\\u00f9\", \"mesure_o\\u00f9\", \"mesure_o\\u00f9\", \"mesure_o\\u00f9\", \"mesure_o\\u00f9\", \"mesure_o\\u00f9\", \"mesure_o\\u00f9\", \"mesure_o\\u00f9\", \"mesure_o\\u00f9\", \"mesures\", \"mesures\", \"mesures\", \"mesures\", \"mesures\", \"mineurs\", \"ministre\", \"ministre\", \"ministre\", \"ministre\", \"ministre\", \"ministre\", \"ministre_budget\", \"ministre_budget\", \"ministre_int\\u00e9rieur\", \"ministre_int\\u00e9rieur\", \"ministre_int\\u00e9rieur\", \"ministre_int\\u00e9rieur\", \"ministre_int\\u00e9rieur\", \"ministre_int\\u00e9rieur\", \"ministre_int\\u00e9rieur\", \"ministre_justice\", \"ministre_justice\", \"minist\\u00e8re\", \"minist\\u00e8re\", \"minist\\u00e8re\", \"minist\\u00e8re\", \"minist\\u00e8re\", \"mise_\\u0153uvre\", \"mise_\\u0153uvre\", \"mise_\\u0153uvre\", \"mise_\\u0153uvre\", \"mise_\\u0153uvre\", \"mise_\\u0153uvre\", \"mise_\\u0153uvre\", \"mise_\\u0153uvre\", \"mise_\\u0153uvre\", \"mise_\\u0153uvre\", \"mises_demeure\", \"mission\", \"mission\", \"mission\", \"mission\", \"mission\", \"mission\", \"mission\", \"mission\", \"mission\", \"mission\", \"mission_int\\u00e9r\\u00eat\", \"mission_service\", \"mission_service\", \"mission_service\", \"missions\", \"missions\", \"missions\", \"missions\", \"missions\", \"modalit\\u00e9s\", \"modalit\\u00e9s\", \"modalit\\u00e9s\", \"modalit\\u00e9s\", \"modalit\\u00e9s\", \"modalit\\u00e9s\", \"modalit\\u00e9s\", \"modalit\\u00e9s\", \"mode_calcul\", \"mode_calcul\", \"moyens_techniques\", \"moyens_techniques\", \"m\\u00e8re\", \"m\\u00e8re\", \"m\\u00e9decin\", \"m\\u00e9decin\", \"m\\u00e9decin\", \"m\\u00e9decin_d\\u00e9signe\", \"m\\u00e9dical\", \"m\\u00e9dical\", \"m\\u00e9dical\", \"m\\u00e9dical\", \"m\\u00e9moire_d\\u00e9funt\", \"national_ordre\", \"nationale_informatique\", \"nationalit\\u00e9_fran\\u00e7aise\", \"naturalisation\", \"nature_civile\", \"nom\", \"nom\", \"nom\", \"nom\", \"nom\", \"nom\", \"nom\", \"nom\", \"nom\", \"nom\", \"nomm\\u00e9ment_d\\u00e9sign\\u00e9e\", \"notamment\", \"notamment\", \"notamment\", \"notamment\", \"notamment\", \"notamment\", \"notamment\", \"notamment\", \"notamment\", \"notamment\", \"notamment\", \"notamment\", \"notamment\", \"notamment\", \"notamment\", \"notamment_air\", \"notamment_r\\u00e9sultats\", \"nouvelle_bonification\", \"novembre\", \"novembre\", \"novembre\", \"novembre\", \"novembre\", \"novembre\", \"novembre\", \"novembre\", \"novembre\", \"novembre\", \"novembre\", \"novembre\", \"novembre\", \"novembre\", \"novembre\", \"n\\u00e9\", \"n\\u00e9\", \"n\\u00e9\", \"n\\u00e9cessaires_poursuite\", \"n\\u00e9e\", \"n\\u00eemes\", \"objectifs_invoqu\\u00e9s\", \"objet\", \"objet\", \"objet\", \"objet\", \"objet\", \"objet\", \"objet\", \"objet\", \"objet\", \"objet\", \"objet\", \"objet\", \"obtenir\", \"obtenir\", \"obtenir\", \"obtenir\", \"obtenir\", \"obtenir\", \"obtenir\", \"obtenir\", \"obtenir\", \"obtenir\", \"obtenue_aussi\", \"obtenus_traitement\", \"occultation\", \"occultation\", \"occultation\", \"occultation\", \"occultation\", \"occultation\", \"occultation_mentions\", \"occultation_mentions\", \"occultation_mentions\", \"occultation_mentions\", \"occultation_mentions\", \"occultation_mentions\", \"occultation_mentions\", \"octobre\", \"octobre\", \"octobre\", \"octobre\", \"octobre\", \"octobre\", \"octobre\", \"octobre\", \"octobre\", \"octobre\", \"octobre\", \"octobre\", \"octobre\", \"octobre\", \"octobre\", \"octobre_savoir\", \"office_fran\\u00e7ais\", \"offre\", \"offre\", \"offre\", \"offres\", \"oppos\\u00e9_directeur\", \"oppos\\u00e9_directeur\", \"oppos\\u00e9_directeur\", \"oppos\\u00e9_directeur\", \"oppos\\u00e9_directeur\", \"oppos\\u00e9_directeur\", \"oppos\\u00e9_directeur\", \"oppos\\u00e9_directeur\", \"oppos\\u00e9_directeur\", \"oppos\\u00e9_directeur\", \"oppos\\u00e9_directeur\", \"oppos\\u00e9_directeur\", \"oppos\\u00e9_directeur\", \"oppos\\u00e9_vivant\", \"oppos\\u00e9e_personne\", \"organe_d\\u00e9lib\\u00e9rant\", \"organe_d\\u00e9lib\\u00e9rant\", \"organisme\", \"organisme\", \"organisme\", \"organismes\", \"organismes\", \"organismes\", \"organismes\", \"outre_pr\\u00e9cis\\u00e9\", \"ouvert_toute\", \"paiement_pr\\u00e9alable\", \"parcelle\", \"parcelle\", \"parcelles\", \"parcelles\", \"parcelles\", \"parcelles_cadastr\\u00e9es\", \"parcelles_cadastr\\u00e9es\", \"parents\", \"parents\", \"parents\", \"paris\", \"paris\", \"paris\", \"paris\", \"paris\", \"paris\", \"paris\", \"paris\", \"paris\", \"paris\", \"paris\", \"paris\", \"paris\", \"parking\", \"parlementaires\", \"part\", \"part\", \"part\", \"part\", \"part\", \"part\", \"part\", \"part\", \"part\", \"part\", \"part\", \"part\", \"part\", \"part\", \"part\", \"partenaires\", \"parties_certificats\", \"patient_d\\u00e9c\\u00e9d\\u00e9\", \"patrimoine\", \"patrimoine\", \"pau\", \"pc\", \"permettre_conna\\u00eetre\", \"permis_conduire\", \"permis_construire\", \"permis_construire\", \"permis_construire\", \"personne\", \"personne\", \"personne\", \"personne\", \"personne\", \"personne\", \"personne\", \"personne\", \"personne\", \"personne\", \"personne\", \"personne_d\\u00e9c\\u00e9d\\u00e9e\", \"personne_fait\", \"personne_physique\", \"personne_physique\", \"personnel\", \"personnel\", \"personnel\", \"personnel\", \"personnel\", \"personnel\", \"personnel\", \"personnel\", \"personnel\", \"personnel_subordonn\\u00e9e\", \"personnels_justifient\", \"personnes\", \"personnes\", \"personnes\", \"personnes\", \"personnes\", \"personnes\", \"personnes\", \"personnes\", \"personnes\", \"personnes\", \"personnes_d\\u00e9c\\u00e9d\\u00e9es\", \"personnes_handicap\\u00e9es\", \"personnes_physiques\", \"personnes_physiques\", \"personnes_physiques\", \"personnes_physiques\", \"personnes_physiques\", \"personnes_pr\\u00e9sentes\", \"perturber_fonctionnement\", \"peuvent\", \"peuvent\", \"peuvent\", \"peuvent\", \"peuvent\", \"peuvent\", \"peuvent\", \"peuvent\", \"peuvent\", \"peuvent\", \"peuvent\", \"peuvent_pr\\u00e9valoir\", \"peuvent_utilis\\u00e9es\", \"physique_morale\", \"physique_morale\", \"pi\\u00e8ces\", \"pi\\u00e8ces\", \"pi\\u00e8ces\", \"pi\\u00e8ces\", \"pi\\u00e8ces\", \"pi\\u00e8ces\", \"pi\\u00e8ces\", \"pi\\u00e8ces\", \"pi\\u00e8ces\", \"pi\\u00e8ces\", \"pi\\u00e8ces\", \"pi\\u00e8ces\", \"pi\\u00e8ces\", \"pi\\u00e8ces_manquantes\", \"place\", \"place\", \"place\", \"place\", \"place\", \"place\", \"place\", \"place\", \"place\", \"plan\", \"plan\", \"plan\", \"plan\", \"plan\", \"plan\", \"plan\", \"plan_local\", \"plan_local\", \"plans\", \"plans\", \"plans\", \"plu\", \"plu\", \"plus_largement\", \"point\", \"point\", \"point\", \"point\", \"point\", \"point\", \"point\", \"point\", \"point\", \"point\", \"point\", \"point\", \"point\", \"points\", \"points\", \"points\", \"points\", \"points\", \"points\", \"points\", \"points\", \"points\", \"populations\", \"portant_appr\\u00e9ciation\", \"porter_pr\\u00e9judice\", \"porter_pr\\u00e9judice\", \"porter_pr\\u00e9judice\", \"porteraient_appr\\u00e9ciation\", \"porterait_atteinte\", \"porterait_atteinte\", \"porterait_atteinte\", \"porterait_atteinte\", \"porterait_atteinte\", \"porterait_atteinte\", \"porterait_atteinte\", \"possibilit\\u00e9s_techniques\", \"postal_peuvent\", \"poste\", \"poste\", \"poste\", \"poste\", \"poste\", \"pourrait_porter\", \"pourrait_porter\", \"pouvoirs\", \"pouvoirs\", \"pouvoirs\", \"premier_alin\\u00e9a\", \"premier_alin\\u00e9a\", \"premier_alin\\u00e9a\", \"premier_alin\\u00e9a\", \"premier_ministre\", \"premier_ministre\", \"premier_ministre\", \"premier_ministre\", \"prend_acte\", \"prend_acte\", \"prestation_demand\\u00e9e\", \"primaire\", \"primaire_assurance\", \"principe\", \"principe\", \"principe\", \"principe\", \"principe\", \"principe\", \"principe\", \"principe\", \"principe\", \"principe\", \"principe\", \"principe\", \"principe\", \"principe\", \"principe_unit\\u00e9\", \"prise\", \"prise\", \"prise\", \"prise\", \"prise\", \"prise\", \"prise\", \"prise\", \"prise\", \"prise\", \"prise\", \"prise_charge\", \"prise_charge\", \"prise_charge\", \"prise_charge\", \"prises\", \"prises\", \"prises\", \"prises\", \"prises\", \"prises\", \"prises\", \"prises\", \"priv\\u00e9e\", \"priv\\u00e9e\", \"priv\\u00e9e\", \"priv\\u00e9e\", \"priv\\u00e9e\", \"priv\\u00e9e\", \"priv\\u00e9e\", \"priv\\u00e9e_assure\", \"prix_unitaires\", \"procureur_r\\u00e9publique\", \"proc\\u00e9der_recherches\", \"proc\\u00e9dure\", \"proc\\u00e9dure\", \"proc\\u00e9dure\", \"proc\\u00e9dure\", \"proc\\u00e9dure\", \"proc\\u00e9dure\", \"proc\\u00e9dure\", \"proc\\u00e9dure\", \"proc\\u00e9dure\", \"proc\\u00e9dure\", \"proc\\u00e9dure\", \"proc\\u00e9dure\", \"proc\\u00e9dure\", \"proc\\u00e9dure_disciplinaire\", \"proc\\u00e9dure_juridictionnelle\", \"proc\\u00e9dure_p\\u00e9nale\", \"proc\\u00e9dure_suivie\", \"professionnelle\", \"professionnelle\", \"professionnelle\", \"professionnelle\", \"professionnelle\", \"professionnels_sant\\u00e9\", \"professionnels_\\u00e9tablissements\", \"professions_judiciaires\", \"profit\", \"profit\", \"profit\", \"profit\", \"profit\", \"profit\", \"profit\", \"projet\", \"projet\", \"projet\", \"projet\", \"projet\", \"projet\", \"projet\", \"projet\", \"projet\", \"projet_plu\", \"prononcer\", \"prononcer\", \"prononcer\", \"prononcer\", \"prononcer\", \"prononcer\", \"prononcer\", \"prononcer\", \"propri\\u00e9t\\u00e9\", \"propri\\u00e9t\\u00e9\", \"propri\\u00e9t\\u00e9_intellectuelle\", \"protection\", \"protection\", \"protection\", \"protection\", \"protection\", \"protection\", \"protection\", \"protection\", \"protection_vie\", \"protection_vie\", \"protection_vie\", \"protocoles_prescriptions\", \"prot\\u00e9g\\u00e9_dispositions\", \"pr\\u00e9cise_circonstance\", \"pr\\u00e9fectoral\", \"pr\\u00e9fet_var\", \"pr\\u00e9judice\", \"pr\\u00e9judice\", \"pr\\u00e9l\\u00e8vements\", \"pr\\u00e9sent_avis\", \"pr\\u00e9sent_avis\", \"pr\\u00e9sent_avis\", \"pr\\u00e9sent_avis\", \"pr\\u00e9sent_avis\", \"pr\\u00e9sent_avis\", \"pr\\u00e9sent_avis\", \"pr\\u00e9sent_avis\", \"pr\\u00e9sent_avis\", \"pr\\u00e9senterait_risque\", \"pr\\u00e9sident\", \"pr\\u00e9sident\", \"pr\\u00e9sident\", \"pr\\u00e9sident\", \"pr\\u00e9sident\", \"pr\\u00e9sident\", \"pr\\u00e9sident\", \"pr\\u00e9sident\", \"pr\\u00e9sident\", \"pr\\u00e9sident\", \"pr\\u00e9sident\", \"pr\\u00e9sident\", \"pr\\u00e9sident\", \"pr\\u00e9sident_communaut\\u00e9\", \"pr\\u00e9sident_communaut\\u00e9\", \"pr\\u00e9sident_communaut\\u00e9\", \"pr\\u00e9sident_communaut\\u00e9\", \"pr\\u00e9sident_communaut\\u00e9\", \"pr\\u00e9sident_communaut\\u00e9\", \"pr\\u00e9sident_communaut\\u00e9\", \"pr\\u00e9sident_tribunal\", \"pr\\u00e9sident_tribunal\", \"pr\\u00e9sidente_communaut\\u00e9\", \"pr\\u00e9valoir\", \"pr\\u00e9valoir\", \"pr\\u00e9valoir\", \"pr\\u00e9voit\", \"pr\\u00e9voit\", \"pr\\u00e9voit\", \"pr\\u00e9voit\", \"pr\\u00e9voit\", \"pr\\u00e9voit\", \"pr\\u00e9voit\", \"pr\\u00e9voit\", \"pr\\u00e9voit_budget\", \"pr\\u00e9voit_sauf\", \"pr\\u00e9vu\", \"pr\\u00e9vu\", \"pr\\u00e9vu\", \"pr\\u00e9vu\", \"pr\\u00e9vu\", \"pr\\u00e9vu\", \"pr\\u00e9vu\", \"pr\\u00e9vu\", \"pr\\u00e9vu\", \"pr\\u00e9vues\", \"pr\\u00e9vues\", \"pr\\u00e9vues\", \"pr\\u00e9vues\", \"pr\\u00e9vues\", \"pr\\u00e9vues\", \"pr\\u00e9vues\", \"pr\\u00e9vues\", \"pr\\u00e9vues\", \"pr\\u00e9vues\", \"pr\\u00e9vues\", \"psychiatriques\", \"pu_prendre\", \"pu_prendre\", \"pu_prendre\", \"pu_prendre\", \"pu_prendre\", \"pu_prendre\", \"pu_prendre\", \"pu_prendre\", \"pu_prendre\", \"pu_prendre\", \"publication\", \"publication\", \"publication\", \"publication\", \"publication\", \"publication\", \"publication\", \"publication\", \"publication\", \"publication_ligne\", \"publics\", \"publics\", \"publics\", \"publics\", \"publics\", \"publics\", \"publics\", \"publics\", \"publiques\", \"publiques\", \"publiques\", \"publiques\", \"publiques\", \"publiques\", \"publiques\", \"publiques\", \"publiques\", \"publiques\", \"publiques_comportant\", \"publiques_soumise\", \"puissent_communiqu\\u00e9es\", \"p\\u00e9nale_commerciale\", \"p\\u00e9titionnaire_\\u00e9labor\\u00e9s\", \"qualification_concernant\", \"qualit\\u00e9\", \"qualit\\u00e9\", \"qualit\\u00e9\", \"qualit\\u00e9\", \"qualit\\u00e9\", \"qualit\\u00e9\", \"qualit\\u00e9\", \"qualit\\u00e9\", \"qualit\\u00e9\", \"qualit\\u00e9\", \"qualit\\u00e9\", \"qualit\\u00e9\", \"qualit\\u00e9\", \"quartier\", \"quel_support\", \"quel_support\", \"raisonnable\", \"rappelle_fois\", \"rappel\\u00e9e\", \"rapport\", \"rapport\", \"rapport\", \"rapport\", \"rapport\", \"rapport\", \"rapport\", \"rapport\", \"rapport\", \"rapport\", \"rapport\", \"rapport\", \"rapport\", \"rapport\", \"rapport_analyse\", \"rapportent_gestion\", \"recherche_scientifique\", \"reconna\\u00eet_droit\", \"recrutement\", \"recueil_page\", \"recueillies_aupr\\u00e8s\", \"regard_respect\", \"rejeter\", \"rejets_susceptibles\", \"relatifs\", \"relatifs\", \"relatifs\", \"relatifs\", \"relatifs\", \"relatifs\", \"relatifs\", \"relatifs\", \"relatifs\", \"relatifs\", \"relatifs\", \"relatifs\", \"relatifs\", \"relatifs\", \"relatifs\", \"relations_entre\", \"relations_entre\", \"relations_entre\", \"relations_entre\", \"relations_entre\", \"relations_entre\", \"relations_entre\", \"relations_entre\", \"relations_entre\", \"relations_entre\", \"relations_entre\", \"relations_entre\", \"relations_entre\", \"relations_entre\", \"relative_caract\\u00e8re\", \"relative_caract\\u00e8re\", \"relative_caract\\u00e8re\", \"relative_fonctionnement\", \"relative_informatique\", \"relatives_environnement\", \"relev\\u00e9_int\\u00e9gral\", \"relev\\u00e9s_bancaires\", \"rel\\u00e8ve\", \"rel\\u00e8ve\", \"rel\\u00e8ve\", \"rel\\u00e8ve\", \"rel\\u00e8ve\", \"rel\\u00e8ve\", \"rel\\u00e8ve\", \"rel\\u00e8ve\", \"rel\\u00e8ve\", \"rel\\u00e8ve\", \"rel\\u00e8ve\", \"rel\\u00e8ve\", \"rel\\u00e8ve\", \"rel\\u00e8ve\", \"rel\\u00e8ve\", \"renseignements_information\", \"reproduction_envoi\", \"reproduction_nuise\", \"repr\\u00e9sentant_etat\", \"retenues_toute\", \"re\\u00e7u_subvention\", \"r\\u00e9forme\", \"r\\u00e9forme_certaines\", \"r\\u00e9gime_indemnitaire\", \"r\\u00e9gime_sp\\u00e9cial\", \"r\\u00e9mun\\u00e9ration\", \"r\\u00e9mun\\u00e9ration\", \"r\\u00e9pondre_demandes\", \"r\\u00e9ponse\", \"r\\u00e9ponse\", \"r\\u00e9ponse\", \"r\\u00e9ponse\", \"r\\u00e9ponse\", \"r\\u00e9ponse\", \"r\\u00e9ponse\", \"r\\u00e9ponse\", \"r\\u00e9ponse\", \"r\\u00e9ponse\", \"r\\u00e9ponse\", \"r\\u00e9ponse\", \"r\\u00e9ponse\", \"r\\u00e9ponse\", \"r\\u00e9ponse\", \"r\\u00e9pression_fraudes\", \"r\\u00e9publique\", \"r\\u00e9publique\", \"r\\u00e9publique\", \"r\\u00e9publique\", \"r\\u00e9sultant\", \"r\\u00e9sultant\", \"r\\u00e9sultant\", \"r\\u00e9sultant\", \"r\\u00e9sultant\", \"r\\u00e9sultant\", \"r\\u00e9sultant\", \"r\\u00e9sulte\", \"r\\u00e9sulte\", \"r\\u00e9sulte\", \"r\\u00e9sulte\", \"r\\u00e9sulte\", \"r\\u00e9sulte\", \"r\\u00e9sulte\", \"r\\u00e9sulte\", \"r\\u00e9sulte\", \"r\\u00e9sulte_d\\u00e9cision\", \"r\\u00e9sulte_d\\u00e9cision\", \"r\\u00e9utilisation\", \"r\\u00e9utilisation\", \"r\\u00e9utilisation_d\\u00e9finies\", \"r\\u00e9utilisation_informations\", \"samu\", \"sans\", \"sans\", \"sans\", \"sans\", \"sans\", \"sans\", \"sans\", \"sans\", \"sans\", \"sans\", \"sans\", \"sans\", \"sans\", \"sans\", \"sans_besoin\", \"sans_besoin\", \"sans_besoin\", \"sans_besoin\", \"sans_besoin\", \"sans_consentement\", \"sans_incidence\", \"sans_incidence\", \"sans_incidence\", \"sans_objet\", \"sans_objet\", \"sans_objet\", \"sans_objet\", \"sant\\u00e9\", \"sant\\u00e9\", \"sant\\u00e9\", \"sant\\u00e9\", \"sant\\u00e9\", \"sant\\u00e9\", \"sant\\u00e9\", \"sant\\u00e9\", \"sant\\u00e9\", \"sant\\u00e9_d\\u00e9tenues\", \"sant\\u00e9_publique\", \"sant\\u00e9_publique\", \"sant\\u00e9_publique\", \"savoir_conna\\u00eetre\", \"sdis\", \"secours\", \"secours\", \"secret\", \"secret\", \"secret\", \"secret\", \"secret\", \"secret\", \"secret\", \"secret\", \"secret\", \"secret_affaires\", \"secret_affaires\", \"secret_mati\\u00e8re\", \"secret_mati\\u00e8re\", \"secret_mati\\u00e8re\", \"secret_mati\\u00e8re\", \"secret_mati\\u00e8re\", \"secret_mati\\u00e8re\", \"secteur_activit\\u00e9\", \"selon\", \"selon\", \"selon\", \"selon\", \"selon\", \"selon\", \"selon\", \"selon\", \"selon\", \"selon\", \"selon\", \"selon\", \"selon\", \"selon_choix\", \"selon_modalit\\u00e9s\", \"selon_modalit\\u00e9s\", \"selon_modalit\\u00e9s\", \"selon_modalit\\u00e9s\", \"selon_modalit\\u00e9s\", \"selon_modalit\\u00e9s\", \"selon_modalit\\u00e9s\", \"selon_modalit\\u00e9s\", \"selon_modalit\\u00e9s\", \"sens\", \"sens\", \"sens\", \"sens\", \"sens\", \"sens\", \"sens\", \"sens\", \"sens\", \"sens\", \"sens\", \"sens\", \"sens\", \"septembre\", \"septembre\", \"septembre\", \"septembre\", \"septembre\", \"septembre\", \"septembre\", \"septembre\", \"septembre\", \"septembre\", \"septembre\", \"septembre\", \"septembre\", \"septembre\", \"septembre\", \"septembre_ordres\", \"service\", \"service\", \"service\", \"service\", \"service\", \"service\", \"service\", \"service\", \"service\", \"service\", \"service\", \"service\", \"service\", \"service\", \"services_aide\", \"services_int\\u00e9ress\\u00e9s\", \"seulement_certaines\", \"signalement\", \"signalement\", \"silence_loi\", \"silence_loi\", \"silence_loi\", \"situation_familiale\", \"sociale_enfance\", \"soci\\u00e9t\\u00e9\", \"soci\\u00e9t\\u00e9\", \"soci\\u00e9t\\u00e9\", \"soci\\u00e9t\\u00e9\", \"soci\\u00e9t\\u00e9\", \"soci\\u00e9t\\u00e9\", \"soci\\u00e9t\\u00e9\", \"soci\\u00e9t\\u00e9\", \"soci\\u00e9t\\u00e9\", \"soci\\u00e9t\\u00e9\", \"soci\\u00e9t\\u00e9\", \"soins\", \"soins\", \"soins\", \"solde\", \"sollicit\\u00e9s\", \"sollicit\\u00e9s\", \"sollicit\\u00e9s\", \"sollicit\\u00e9s\", \"sollicit\\u00e9s\", \"sollicit\\u00e9s\", \"sollicit\\u00e9s\", \"sollicit\\u00e9s\", \"sollicit\\u00e9s\", \"sollicit\\u00e9s\", \"sollicit\\u00e9s\", \"sollicit\\u00e9s\", \"sollicit\\u00e9s\", \"sollicit\\u00e9s\", \"sollicit\\u00e9s\", \"souhaite_autres\", \"souhait\\u00e9s\", \"soumis_droit\", \"soumis_droit\", \"soumis_droit\", \"soumis_droit\", \"soumis_droit\", \"soumis_droit\", \"soumis_droit\", \"sources_date\", \"sous_cote\", \"sous_forme\", \"sous_forme\", \"sous_forme\", \"sous_forme\", \"sous_forme\", \"sous_forme\", \"sous_r\\u00e9serve\", \"sous_r\\u00e9serve\", \"sous_r\\u00e9serve\", \"sous_r\\u00e9serve\", \"sous_r\\u00e9serve\", \"sous_r\\u00e9serve\", \"sous_r\\u00e9serve\", \"sous_r\\u00e9serve\", \"sous_r\\u00e9serve\", \"sous_r\\u00e9serve\", \"sous_r\\u00e9serve\", \"sous_r\\u00e9serve\", \"sous_r\\u00e9serve\", \"sous_r\\u00e9serve\", \"sous_r\\u00e9serves\", \"sous_r\\u00e9serves\", \"sous_r\\u00e9serves\", \"sous_r\\u00e9serves\", \"sous_r\\u00e9serves\", \"sous_r\\u00e9serves\", \"sous_r\\u00e9serves\", \"sous_r\\u00e9serves\", \"sous_r\\u00e9serves\", \"sous_r\\u00e9serves\", \"sous_r\\u00e9serves\", \"sous_r\\u00e9serves\", \"statutaires\", \"statutaires\", \"statuts\", \"statuts\", \"statuts\", \"statuts\", \"statuts\", \"strasbourg\", \"strasbourg\", \"strat\\u00e9gie_commerciale\", \"strat\\u00e9gie_commerciale\", \"substances_\\u00e9nergie\", \"subvention\", \"subvention\", \"subvention\", \"suite\", \"suite\", \"suite\", \"suite\", \"suite\", \"suite\", \"suite\", \"suite\", \"suite\", \"suite\", \"suite\", \"suite\", \"suite\", \"suite\", \"suivants\", \"suivants\", \"suivants\", \"suivants\", \"suivants\", \"suivants\", \"suivants\", \"suivants\", \"suivants\", \"suivants\", \"suivants\", \"suivants\", \"suivants\", \"suivants\", \"suivants\", \"support_identique\", \"support_papier\", \"support_papier\", \"susceptible_r\\u00e9v\\u00e9ler\", \"syndicats_mixtes\", \"syst\\u00e8me_qualit\\u00e9\", \"s\\u00e9ance\", \"s\\u00e9ance\", \"s\\u00e9ance\", \"s\\u00e9ance\", \"s\\u00e9ance\", \"s\\u00e9ance\", \"s\\u00e9ance\", \"s\\u00e9ance\", \"s\\u00e9ance\", \"s\\u00e9ance\", \"s\\u00e9ance\", \"s\\u00e9ance\", \"s\\u00e9ance\", \"s\\u00e9curit\\u00e9\", \"s\\u00e9curit\\u00e9\", \"s\\u00e9curit\\u00e9\", \"s\\u00e9curit\\u00e9\", \"s\\u00e9curit\\u00e9\", \"s\\u00e9curit\\u00e9\", \"s\\u00e9curit\\u00e9\", \"s\\u00e9curit\\u00e9\", \"s\\u00e9curit\\u00e9_sociale\", \"s\\u00e9curit\\u00e9_sociale\", \"technique_financier\", \"technique_financier\", \"technique_financier\", \"tel\", \"tel\", \"tel\", \"tel\", \"tel\", \"tel\", \"tel\", \"tel\", \"tel\", \"tel\", \"tel\", \"tel\", \"tel\", \"tel\", \"tel_tiers\", \"telle_mission\", \"tenue_donner\", \"termes\", \"termes\", \"termes\", \"termes\", \"termes\", \"termes\", \"termes\", \"termes\", \"termes\", \"termes\", \"terrain\", \"terrains\", \"territoriale\", \"territoriale\", \"territoriale\", \"territoriale\", \"territoriale\", \"territoriale\", \"territoriale\", \"territoriales\", \"territoriales\", \"territoriales\", \"territoriales\", \"territoriales\", \"territoriales\", \"territoriales\", \"territoriales\", \"territoriales_dispose\", \"textes_particuliers\", \"textes_particuliers\", \"th\\u00e9rapeutique_concernant\", \"th\\u00e9rapeutiques_mis\", \"tierce_personne\", \"tiers\", \"tiers\", \"tiers\", \"tiers\", \"tiers\", \"tiers\", \"tiers\", \"tiers\", \"tiers\", \"tiers_intervenant\", \"tirent_qualit\\u00e9\", \"titre\", \"titre\", \"titre\", \"titre\", \"titre\", \"titre\", \"titre\", \"titre\", \"titre\", \"titre\", \"titre\", \"titre\", \"titre\", \"titre\", \"titre\", \"titre_liminaire\", \"titre_liminaire\", \"titre_liminaire\", \"titre_liminaire\", \"titre_liminaire\", \"titre_liminaire\", \"titre_liminaire\", \"titre_liminaire\", \"titre_s\\u00e9jour\", \"tous_fonctionnaires\", \"tout_administr\\u00e9\", \"tout_membre\", \"tout_organisme\", \"tout_organisme\", \"tout_\\u00e9lecteur\", \"toute_mention\", \"toute_mention\", \"toute_mention\", \"toute_personne\", \"toute_personne\", \"toute_personne\", \"toute_personne\", \"toute_personne\", \"toute_personne\", \"toute_personne\", \"toute_personne\", \"toute_personne\", \"toute_personne\", \"toute_personne\", \"toutefois\", \"toutefois\", \"toutefois\", \"toutefois\", \"toutefois\", \"toutefois\", \"toutefois\", \"toutefois\", \"toutefois\", \"toutefois\", \"toutefois\", \"toutefois\", \"toutefois\", \"toutefois\", \"toutefois\", \"traitement\", \"traitement\", \"traitement\", \"traitement\", \"traitement\", \"traitement\", \"traitement\", \"traitement\", \"traitement\", \"traitement_automatis\\u00e9\", \"traitement_automatis\\u00e9\", \"traitement_automatis\\u00e9\", \"traitement_automatis\\u00e9\", \"traitements_automatis\\u00e9s\", \"transmis\", \"transmis\", \"transmis\", \"transmis\", \"transmis\", \"transmis\", \"transmis\", \"transmis\", \"transmis\", \"transmis\", \"transmis\", \"transmis\", \"transmis\", \"transmis\", \"transmis_procureur\", \"travail\", \"travail\", \"travail\", \"travail\", \"travail\", \"travail\", \"travail\", \"travail\", \"travail\", \"travaux\", \"travaux\", \"travaux\", \"travaux\", \"travaux\", \"travaux\", \"travaux\", \"travaux\", \"t\\u00e9l\\u00e9grammes\", \"union\", \"union\", \"union\", \"union_d\\u00e9partementale\", \"unit\\u00e9s\", \"urbanisme\", \"urbanisme\", \"urgences\", \"usage_courant\", \"usage_courant\", \"usage_courant\", \"usage_purement\", \"va_bordereau\", \"valeur_port\\u00e9\", \"valoir_leurs\", \"venir_consulter\", \"vertu\", \"vertu\", \"vertu\", \"vertu\", \"vertu\", \"vertu\", \"vertu\", \"vertu\", \"vertu\", \"vertu\", \"vertu\", \"vie_priv\\u00e9e\", \"vie_priv\\u00e9e\", \"vie_priv\\u00e9e\", \"vie_priv\\u00e9e\", \"vie_priv\\u00e9e\", \"vie_priv\\u00e9e\", \"vie_priv\\u00e9e\", \"visa\", \"volont\\u00e9_contraire\", \"vu_duquel\", \"vue_procurer\", \"xxx_xxx\", \"xxx_xxx\", \"xxx_xxx\", \"zac\", \"\\u00e9changes_\\u00e9crits\", \"\\u00e9conomiques\", \"\\u00e9conomiques_financi\\u00e8res\", \"\\u00e9conomiques_financi\\u00e8res\", \"\\u00e9ducation\", \"\\u00e9galement_regard\\u00e9e\", \"\\u00e9lecteur\", \"\\u00e9lectoral\", \"\\u00e9lectorales\", \"\\u00e9lectronique\", \"\\u00e9lectronique\", \"\\u00e9lectronique\", \"\\u00e9lectronique\", \"\\u00e9lectronique\", \"\\u00e9lectronique\", \"\\u00e9lectronique\", \"\\u00e9lectronique\", \"\\u00e9lectronique\", \"\\u00e9lectronique\", \"\\u00e9l\\u00e9ments\", \"\\u00e9l\\u00e9ments\", \"\\u00e9l\\u00e9ments\", \"\\u00e9l\\u00e9ments\", \"\\u00e9l\\u00e9ments\", \"\\u00e9l\\u00e9ments\", \"\\u00e9l\\u00e9ments\", \"\\u00e9l\\u00e9ments\", \"\\u00e9l\\u00e9ments\", \"\\u00e9l\\u00e9ments\", \"\\u00e9l\\u00e9ments\", \"\\u00e9l\\u00e9ments\", \"\\u00e9l\\u00e9ments\", \"\\u00e9l\\u00e9ments\", \"\\u00e9l\\u00e9ments_notation\", \"\\u00e9met\", \"\\u00e9met\", \"\\u00e9met\", \"\\u00e9met\", \"\\u00e9met\", \"\\u00e9met\", \"\\u00e9met\", \"\\u00e9met\", \"\\u00e9met\", \"\\u00e9met\", \"\\u00e9met\", \"\\u00e9met\", \"\\u00e9met\", \"\\u00e9met\", \"\\u00e9met\", \"\\u00e9met_donc\", \"\\u00e9met_donc\", \"\\u00e9met_donc\", \"\\u00e9met_donc\", \"\\u00e9met_donc\", \"\\u00e9met_donc\", \"\\u00e9met_donc\", \"\\u00e9met_donc\", \"\\u00e9met_donc\", \"\\u00e9met_donc\", \"\\u00e9met_donc\", \"\\u00e9met_donc\", \"\\u00e9met_donc\", \"\\u00e9met_donc\", \"\\u00e9met_donc\", \"\\u00e9preuves\", \"\\u00e9quipe_m\\u00e9dicale\", \"\\u00e9tablies_autorit\\u00e9s\", \"\\u00e9tablir_document\", \"\\u00e9tablissement\", \"\\u00e9tablissement\", \"\\u00e9tablissement\", \"\\u00e9tablissement\", \"\\u00e9tablissement\", \"\\u00e9tablissement\", \"\\u00e9tablissement\", \"\\u00e9tablissement\", \"\\u00e9tablissement\", \"\\u00e9tablissement\", \"\\u00e9tablissement\", \"\\u00e9tablissement\", \"\\u00e9tablissements\", \"\\u00e9tablissements\", \"\\u00e9tablissements\", \"\\u00e9tablissements\", \"\\u00e9tablissements\", \"\\u00e9tablissements\", \"\\u00e9tablissements\", \"\\u00e9tablissements\", \"\\u00e9tablissements\", \"\\u00e9tablissements\", \"\\u00e9tablissements_enseignement\", \"\\u00e9tablissements_sant\\u00e9\", \"\\u00e9tablissements_sant\\u00e9\", \"\\u00e9tat\", \"\\u00e9tat\", \"\\u00e9tat\", \"\\u00e9tat\", \"\\u00e9tat\", \"\\u00e9tat\", \"\\u00e9tat\", \"\\u00e9tat\", \"\\u00e9tat\", \"\\u00e9tat\", \"\\u00e9tat\", \"\\u00e9tat\", \"\\u00e9tat\", \"\\u00e9tat\", \"\\u00e9tat\", \"\\u00e9tat_civil\", \"\\u00e9tat_civil\", \"\\u00e9tat_civil\", \"\\u00e9ventuelle_liste\", \"\\u00e9ventuellement_d\\u00e9tenus\"]}, \"R\": 30, \"lambda.step\": 0.01, \"plot.opts\": {\"xlab\": \"PC1\", \"ylab\": \"PC2\"}, \"topic.order\": [4, 13, 8, 1, 7, 10, 11, 2, 5, 15, 12, 14, 6, 9, 3]};\n",
       "\n",
       "function LDAvis_load_lib(url, callback){\n",
       "  var s = document.createElement('script');\n",
       "  s.src = url;\n",
       "  s.async = true;\n",
       "  s.onreadystatechange = s.onload = callback;\n",
       "  s.onerror = function(){console.warn(\"failed to load library \" + url);};\n",
       "  document.getElementsByTagName(\"head\")[0].appendChild(s);\n",
       "}\n",
       "\n",
       "if(typeof(LDAvis) !== \"undefined\"){\n",
       "   // already loaded: just create the visualization\n",
       "   !function(LDAvis){\n",
       "       new LDAvis(\"#\" + \"ldavis_el256041126816341287293598441\", ldavis_el256041126816341287293598441_data);\n",
       "   }(LDAvis);\n",
       "}else if(typeof define === \"function\" && define.amd){\n",
       "   // require.js is available: use it to load d3/LDAvis\n",
       "   require.config({paths: {d3: \"https://cdnjs.cloudflare.com/ajax/libs/d3/3.5.5/d3.min\"}});\n",
       "   require([\"d3\"], function(d3){\n",
       "      window.d3 = d3;\n",
       "      LDAvis_load_lib(\"https://cdn.rawgit.com/bmabey/pyLDAvis/files/ldavis.v1.0.0.js\", function(){\n",
       "        new LDAvis(\"#\" + \"ldavis_el256041126816341287293598441\", ldavis_el256041126816341287293598441_data);\n",
       "      });\n",
       "    });\n",
       "}else{\n",
       "    // require.js not available: dynamically load d3 & LDAvis\n",
       "    LDAvis_load_lib(\"https://cdnjs.cloudflare.com/ajax/libs/d3/3.5.5/d3.min.js\", function(){\n",
       "         LDAvis_load_lib(\"https://cdn.rawgit.com/bmabey/pyLDAvis/files/ldavis.v1.0.0.js\", function(){\n",
       "                 new LDAvis(\"#\" + \"ldavis_el256041126816341287293598441\", ldavis_el256041126816341287293598441_data);\n",
       "            })\n",
       "         });\n",
       "}\n",
       "</script>"
      ],
      "text/plain": [
       "<IPython.core.display.HTML object>"
      ]
     },
     "execution_count": 24,
     "metadata": {},
     "output_type": "execute_result"
    }
   ],
   "source": [
    "vis = pyLDAvis.gensim.prepare(topic_model=lda_model, corpus=corpus, dictionary=dictionary_LDA)\n",
    "pyLDAvis.enable_notebook()\n",
    "%time  pyLDAvis.display(vis)"
   ]
  },
  {
   "cell_type": "markdown",
   "metadata": {},
   "source": [
    "# Partie 2 :  prédiction de la conclusion de la décision à partir du texte de l'avis "
   ]
  },
  {
   "cell_type": "markdown",
   "metadata": {},
   "source": [
    "La partie précédente présentait un exemple de modèle non supervisé à partir de données textuelles. Des modèles non supervisés ont l'avantage de pouvoir être entrâiné à partir d'un ensemble de documents textuels \"bruts\". \n",
    "Nous présentons ici un exemple de modèle non supervisé. Il faut alors, en plus du texte brut, avoir une variable \"à prédire\". Dans beaucoup de cas, cette variable \"à prédire\" n'est pas directement disponible et il faut la construire (en annotant ou labelisant à la main les documents). Ici nous allons considérer la variable \"Sens et motivation\", qui renseigne la conclusion de l'avis rendu par la Cada. Nous allons voir si nous arrivons à entraîner un modèle à prédire, à partir du texte de la décision, à prédire la conclusion de l'avis. \n",
    "\n",
    "L'intérêt: on peut imaginer que le \"Sens et motivation\" est parfois renseigné de façon erronée et donc vérifier de façon automatique la cohérence de ce qui est renseigné. "
   ]
  },
  {
   "cell_type": "code",
   "execution_count": null,
   "metadata": {},
   "outputs": [],
   "source": [
    "# librairies de machine learning\n",
    "from sklearn.model_selection import train_test_split\n",
    "from sklearn.model_selection import cross_val_score, GridSearchCV\n",
    "from sklearn.linear_model import LogisticRegression\n",
    "from sklearn.naive_bayes import MultinomialNB"
   ]
  },
  {
   "cell_type": "markdown",
   "metadata": {},
   "source": [
    "#### Première étape: simplifier la colonne \"sens et motivation\" en un petit nombre de catégorie\n",
    "\n",
    "La colonne \"Sens et motivation\" comporte 3094 modalités (valeurs distinctes) comme vu dans la partie 0 de description des données. Etant donnée que notre jeu de données comporte 38 000 lignes, il y a donc relativement peu d'observations en moyenne par modalité. \n",
    "Il est donc préférable de simplifier la colonne \"Sens et motivation\" afin d'obtenir un nombre beaucoup plus restreint de modalités à prédire. \n",
    "Pour cela, nous allons donc tokeniser le texte de cette colonne afin de regarder quels sont les termes qui apparaissent le plus grand nombre de fois\n"
   ]
  },
  {
   "cell_type": "code",
   "execution_count": null,
   "metadata": {},
   "outputs": [],
   "source": [
    "df = df.dropna(subset = [\"Sens et motivation\"]) # on supprime les colonnes qui n'ont pas de valeur pour sens et motivation\n",
    "df[\"sens_token\"] = df[\"Sens et motivation\"].map(lambda x: word_tokenize(x.lower().replace(\"'\", \" \").replace(\"/\", \" \")))\n",
    "df[\"nb_tokens_motivation\"] = df[\"sens_token\"].map(len)"
   ]
  },
  {
   "cell_type": "markdown",
   "metadata": {},
   "source": [
    "On regarde combien de tokens par observation sont contenus dans la colonne \"Sens et motivation\""
   ]
  },
  {
   "cell_type": "code",
   "execution_count": null,
   "metadata": {},
   "outputs": [],
   "source": [
    "df[\"nb_tokens_motivation\"].describe()"
   ]
  },
  {
   "cell_type": "markdown",
   "metadata": {},
   "source": [
    "On crée ici la matrice TF à l'aide de la même fonction que celle utilisée en partie 1. "
   ]
  },
  {
   "cell_type": "code",
   "execution_count": null,
   "metadata": {},
   "outputs": [],
   "source": [
    "vect = CountVectorizer()\n",
    "vect.fit(df[\"Sens et motivation\"])"
   ]
  },
  {
   "cell_type": "code",
   "execution_count": null,
   "metadata": {},
   "outputs": [],
   "source": [
    "print(\"Vocabulary size: {}\".format(len(vect.vocabulary_)))\n",
    "print(\"Vocabulary content:\\n {}\".format(vect.vocabulary_))\n",
    "dict_vocabulary = vect.vocabulary_"
   ]
  },
  {
   "cell_type": "markdown",
   "metadata": {},
   "source": [
    "On retient les 4 catégories suivantes: \n",
    "    - défavorable\n",
    "    - favorable\n",
    "    - incompétence \n",
    "    - irrecevable \n",
    "    - sans object \n",
    "    \n",
    "La fonction \"sens_categorie\" écrite ci-dessous permet de calculer cette nouvelle variable. "
   ]
  },
  {
   "cell_type": "code",
   "execution_count": null,
   "metadata": {},
   "outputs": [],
   "source": [
    "def sens_categorie(x): \n",
    "    if \"défavorable\" in x: \n",
    "        return \"defavorable\"\n",
    "    elif \"favorable\" in x: \n",
    "        return \"favorable\"\n",
    "    elif \"incompétence\" in x: \n",
    "        return \"incompetence\"\n",
    "    elif \"irrecevable\" in x: \n",
    "        return \"incompetence\"\n",
    "    elif (\"sans\" in x) and (\"objet\" in x):\n",
    "        return \"sans_objet\"\n",
    "    else: \n",
    "        return \"autre\"\n",
    "    \n",
    "df[\"sens_categorie\"] = df[\"sens_token\"].map(sens_categorie)"
   ]
  },
  {
   "cell_type": "code",
   "execution_count": null,
   "metadata": {},
   "outputs": [],
   "source": [
    "df[\"sens_categorie\"].value_counts()"
   ]
  },
  {
   "cell_type": "markdown",
   "metadata": {},
   "source": [
    "#### Entraînement du modèle en utilisant comme features explicatives\n",
    " - term frequency matrix \n",
    " - tf-idf"
   ]
  },
  {
   "cell_type": "code",
   "execution_count": null,
   "metadata": {},
   "outputs": [],
   "source": [
    "df[\"text\"] = df[\"avis_word_token\"].map(lambda x: \" \".join(x))"
   ]
  },
  {
   "cell_type": "code",
   "execution_count": null,
   "metadata": {},
   "outputs": [],
   "source": [
    "# split train / test data \n",
    "text_train, text_test, y_train, y_test = train_test_split(df[\"text\"], df[\"sens_categorie\"], test_size = 0.2, random_state = 42)\n"
   ]
  },
  {
   "cell_type": "markdown",
   "metadata": {},
   "source": [
    "#### First : tf matrix "
   ]
  },
  {
   "cell_type": "code",
   "execution_count": null,
   "metadata": {},
   "outputs": [],
   "source": [
    "vect = CountVectorizer(min_df = 10).fit(text_train)\n",
    "X_train = vect.transform(text_train)\n",
    "print(\"X_train:\\n{}\".format(repr(X_train)))"
   ]
  },
  {
   "cell_type": "code",
   "execution_count": null,
   "metadata": {},
   "outputs": [],
   "source": [
    "feature_names = vect.get_feature_names()\n",
    "print(\"Number of features: {}\".format(len(feature_names)))\n",
    "print(\"First 20 features:\\n{}\".format(feature_names[:20]))\n",
    "print(\"Every 2000th feature:\\n{}\".format(feature_names[::2000]))"
   ]
  },
  {
   "cell_type": "code",
   "execution_count": null,
   "metadata": {},
   "outputs": [],
   "source": [
    "\n",
    "scores = cross_val_score(MultinomialNB(), X_train, y_train, cv=5)\n",
    "print(\"Mean cross-validation accuracy: {:.2f}\".format(np.mean(scores)))"
   ]
  },
  {
   "cell_type": "code",
   "execution_count": null,
   "metadata": {},
   "outputs": [],
   "source": [
    "\n",
    "param_grid = {'alpha': [0.001, 0.01, 0.1, 1, 10, 12, 14, 16, 20, 30, 40]}\n",
    "grid = GridSearchCV(MultinomialNB(), param_grid, cv=5)\n",
    "grid.fit(X_train, y_train)\n",
    "print(\"Best cross-validation score: {:.2f}\".format(grid.best_score_))\n",
    "print(\"Best parameters: \", grid.best_params_)\n",
    "\n"
   ]
  },
  {
   "cell_type": "code",
   "execution_count": null,
   "metadata": {},
   "outputs": [],
   "source": [
    "X_test = vect.transform(text_test)\n",
    "print(\"Test score: {:.2f}\".format(grid.score(X_test, y_test)))"
   ]
  },
  {
   "cell_type": "markdown",
   "metadata": {},
   "source": [
    "#### Second : tf-idf matrix "
   ]
  },
  {
   "cell_type": "code",
   "execution_count": null,
   "metadata": {},
   "outputs": [],
   "source": [
    "vect = TfidfVectorizer(min_df = 15).fit(text_train)\n",
    "X_train = vect.transform(text_train)\n",
    "print(\"X_train:\\n{}\".format(repr(X_train)))"
   ]
  },
  {
   "cell_type": "code",
   "execution_count": null,
   "metadata": {},
   "outputs": [],
   "source": [
    "feature_names = vect.get_feature_names()\n",
    "print(\"Number of features: {}\".format(len(feature_names)))\n",
    "print(\"First 20 features:\\n{}\".format(feature_names[:20]))\n",
    "print(\"Every 2000th feature:\\n{}\".format(feature_names[::2000]))"
   ]
  },
  {
   "cell_type": "code",
   "execution_count": null,
   "metadata": {},
   "outputs": [],
   "source": [
    "from sklearn.model_selection import cross_val_score\n",
    "from sklearn.linear_model import LogisticRegression\n",
    "from sklearn.naive_bayes import MultinomialNB\n",
    "scores = cross_val_score(MultinomialNB(), X_train, y_train, cv=5)\n",
    "print(\"Mean cross-validation accuracy: {:.2f}\".format(np.mean(scores)))"
   ]
  },
  {
   "cell_type": "code",
   "execution_count": null,
   "metadata": {},
   "outputs": [],
   "source": [
    "from sklearn.model_selection import GridSearchCV\n",
    "param_grid = {'alpha': [0.001, 0.01, 0.1, 0.2, 0.4, 0.5, 0.55, 0.6, 0.65, 0.7, 0.8, 1, 10, 12, 14, 16, 20, 30, 40]}\n",
    "grid = GridSearchCV(MultinomialNB(), param_grid, cv=5)\n",
    "grid.fit(X_train, y_train)\n",
    "print(\"Best cross-validation score: {:.2f}\".format(grid.best_score_))\n",
    "print(\"Best parameters: \", grid.best_params_)\n",
    "\n"
   ]
  },
  {
   "cell_type": "code",
   "execution_count": null,
   "metadata": {},
   "outputs": [],
   "source": [
    "X_test = vect.transform(text_test)\n",
    "print(\"Test score: {:.2f}\".format(grid.score(X_test, y_test)))"
   ]
  },
  {
   "cell_type": "code",
   "execution_count": null,
   "metadata": {},
   "outputs": [],
   "source": []
  },
  {
   "cell_type": "code",
   "execution_count": null,
   "metadata": {},
   "outputs": [],
   "source": []
  },
  {
   "cell_type": "markdown",
   "metadata": {},
   "source": [
    "# Partie 4 : Pour aller plus loin:  manipulations de données textuelles basiques\n"
   ]
  },
  {
   "cell_type": "markdown",
   "metadata": {},
   "source": [
    "importation des librairies NLP "
   ]
  },
  {
   "cell_type": "code",
   "execution_count": null,
   "metadata": {},
   "outputs": [],
   "source": [
    "import nltk\n",
    "nltk.download('punkt')\n",
    "from nltk.tokenize import sent_tokenize, word_tokenize"
   ]
  },
  {
   "cell_type": "markdown",
   "metadata": {},
   "source": [
    "on étudie ici les textes des avis, \n",
    "on supprime les lignes pour lesquelles l'avis n'est pas renseigné"
   ]
  },
  {
   "cell_type": "code",
   "execution_count": null,
   "metadata": {
    "scrolled": true
   },
   "outputs": [],
   "source": [
    "df = df.dropna(subset = [\"Avis\"]) \n",
    "print(df.shape)"
   ]
  },
  {
   "cell_type": "markdown",
   "metadata": {},
   "source": [
    "### Découpage du texte \n",
    "Chaque avis (dans la colonne \"Avis\") est une chaîne de caractères, il faut donc lui appliquer un certain nombre d'opération afin de pouvoir la traiter algorithmiquement. Une première étape, la tokenization, consiste en découper la chaine de caractères en \"tokens\". Pour cela, on utilise des fonctions prédéfinies de la librairies NLTK. \n",
    "Il existe plusieurs métodes de tokenization, et le choix de la méthode va dépendre de l'objectif de l'étude. \n",
    "Les métodes les plus classques sont: \n",
    "- la tokenisation en phrases (sentence tokenization en anglais)\n",
    "- la tokenisation en mots (word tokenization en anglais)\n",
    "\n",
    "\n",
    "On crée ici deux nouvelles colonnes, correspondant à ces deux modes de tokenization \n",
    "\n",
    "### Le terme consacré en NLP pour ce découpage est la tokénisation "
   ]
  },
  {
   "cell_type": "code",
   "execution_count": null,
   "metadata": {},
   "outputs": [],
   "source": [
    "df[\"avis_sent_token\"] = df[\"Avis\"].map(sent_tokenize)\n",
    "df[\"avis_word_token\"] = df[\"Avis\"].map(lambda x : word_tokenize(x.replace(\"'\", \" \"))) # on remplace les appostrophes par un espaces\n",
    "# car la tokenization avec la fonction \"word_tokenize\" de nltk ne les sépare pas autrement "
   ]
  },
  {
   "cell_type": "markdown",
   "metadata": {},
   "source": [
    "on regarde ce que ça donne : "
   ]
  },
  {
   "cell_type": "code",
   "execution_count": null,
   "metadata": {},
   "outputs": [],
   "source": [
    "numero_ligne = 1 # changer le nombre afin de visualiser différentes lignes du jeu de données \n",
    "print(\"Texte initial de l'avis\")\n",
    "print(df.loc[numero_ligne, \"Avis\"])\n",
    "print(\"\\n\")\n",
    "print(\"Texte tokenizé en phrases\")\n",
    "print(\"Nombre de phrases : {}\".format(len(df.loc[numero_ligne, \"avis_sent_token\"])))\n",
    "print(df.loc[numero_ligne, \"avis_sent_token\"])\n",
    "print(\"\\n\")\n",
    "print(\"Texte tokenizé en mots\")\n",
    "print(\"Nombre de mots : {}\".format(len(df.loc[numero_ligne, \"avis_word_token\"])))\n",
    "\n",
    "print(df.loc[numero_ligne, \"avis_word_token\"])\n"
   ]
  },
  {
   "cell_type": "markdown",
   "metadata": {},
   "source": [
    "# on calcule des métriques simples : \n",
    "- le nombre de caractères par avis\n",
    "- le nombre de phrases par avis \n",
    "- le nombre de mots par avis"
   ]
  },
  {
   "cell_type": "code",
   "execution_count": null,
   "metadata": {},
   "outputs": [],
   "source": [
    "df[\"nb_char\"] = df[\"Avis\"].map(len)\n",
    "df[\"nb_sent_token\"] = df[\"avis_sent_token\"].map(len)\n",
    "df[\"nb_word_token\"] = df[\"avis_word_token\"].map(len)"
   ]
  },
  {
   "cell_type": "markdown",
   "metadata": {},
   "source": [
    "on regarde la moyenne, l'écart type, les quartiles de ces métriques"
   ]
  },
  {
   "cell_type": "code",
   "execution_count": null,
   "metadata": {
    "scrolled": true
   },
   "outputs": [],
   "source": [
    "df[[\"nb_char\", \"nb_word_token\", \"nb_sent_token\" ]].describe()"
   ]
  },
  {
   "cell_type": "markdown",
   "metadata": {},
   "source": [
    "une fois qu'on a divisé notre texte en une liste de mots, on peut faire plusieurs opérations de netoyage \n",
    "- retirer la ponctuation \n",
    "- mettre tous les caractères en minuscules (peut aussi être fait avant la tokenization)\n",
    "- enlever les stopwords (mots sans apport pour comprendre le sens de la phrase)\n",
    "- lemmatiser ou stemmer afin de regrouper deux termes proches en un terme unique : \n",
    "    - personnes -> personne\n",
    "    - conduisent, conduis, etc.. -> conduire\n",
    "    \n",
    "Ces étapes sont réalisées dans la partie 2 : extraction de topics"
   ]
  },
  {
   "cell_type": "markdown",
   "metadata": {},
   "source": [
    "### Vectorisation"
   ]
  },
  {
   "cell_type": "markdown",
   "metadata": {},
   "source": [
    "on peut ensuite \"vectoriser ces listes de mots afin de les rendre intelligible par une machine, \n",
    "il existe plusieurs méthode de vectoriser \n",
    "    - la matrice de term frequency \n",
    "    - la matrice tf-idf\n",
    "    - les word embeddings \n",
    "    \n",
    "Une fois que ces documents sont vectorisés, on peut utiliser ces features numériques nouvellement crées pour faire de la modélisation."
   ]
  },
  {
   "cell_type": "markdown",
   "metadata": {},
   "source": [
    "Ressource: un article (en anglais) bien fait qui montre comment calculer la matrice TF et TF-IDF \"form scratch: cratch : https://towardsdatascience.com/text-summarization-using-tf-idf-e64a0644ace3"
   ]
  },
  {
   "cell_type": "markdown",
   "metadata": {},
   "source": [
    "Pour calculer automatiquement ces matrices, il existe différentes librairies. On utilise ici la librairie sklearn\n"
   ]
  },
  {
   "cell_type": "code",
   "execution_count": null,
   "metadata": {},
   "outputs": [],
   "source": [
    "from sklearn.feature_extraction.text import CountVectorizer, TfidfVectorizer"
   ]
  },
  {
   "cell_type": "markdown",
   "metadata": {},
   "source": [
    "### La matrice de term frequency (matrice d'occurrence de termes)"
   ]
  },
  {
   "cell_type": "markdown",
   "metadata": {},
   "source": [
    "![term_doc_matrix.png](./images/term_doc_matrix.png)"
   ]
  },
  {
   "cell_type": "markdown",
   "metadata": {},
   "source": [
    "Chaque document est composé d'un certains nombre de mots. L'ensemble de tous les mots distincts présents dans les documents consititue le vocabulaire du corpus (corpus = ensemble des documents). \n",
    "La term-frequency matrix est une matrice avec une ligne par document et une colonne par mot du vocabulaire. \n",
    "Pour chaque document, les colonnes donne le nombre de fois où le mot apparait dans le document. \n",
    "C'est l'approche qu'on appelle souvent \"bag of words\" ou sac de mots en français. "
   ]
  },
  {
   "cell_type": "markdown",
   "metadata": {},
   "source": [
    "Ci-dessous on calcule la matrice Term frequency à l'aide de la librairie sklearn, qui comprend un modèle \"CountVectorizer\", qui'il faut entraîner sur le corpus de données (la liste des avis). Une fois le modèle entrainé, on l'applique (avec la métode transform) sur le même corpus de données. \n",
    "Un paramètre utile au modèle CountVectorizer est \"min_df\", qui correspond au minumum de fois où un mot doit apparaitre dans le corpus afin d'être pris en compte dans la matrice. Il est par défaut à 1, mais en l'augmentant, on peut réduire considérablement le nomnbre de colonnes de la matrice et donc se débarrasser des termes qui apparaissent trop peu. "
   ]
  },
  {
   "cell_type": "code",
   "execution_count": null,
   "metadata": {},
   "outputs": [],
   "source": [
    "vect = CountVectorizer(min_df = 15).fit(df[\"Avis\"])\n",
    "tf_matrix = vect.transform(df[\"Avis\"])\n",
    "print(\"TF-Matrix:\\n{}\".format(repr(tf_matrix)))"
   ]
  },
  {
   "cell_type": "code",
   "execution_count": null,
   "metadata": {},
   "outputs": [],
   "source": [
    "feature_names = vect.get_feature_names()\n",
    "print(\"Nombre de features: {}\".format(len(feature_names)))\n",
    "print(\"Les 20 premières features:\\n{}\".format(feature_names[:20]))\n"
   ]
  },
  {
   "cell_type": "markdown",
   "metadata": {},
   "source": [
    "Pour visualiser la matrice, on la transforme en dataframe: \n",
    "    "
   ]
  },
  {
   "cell_type": "code",
   "execution_count": null,
   "metadata": {},
   "outputs": [],
   "source": [
    "tf_dataframe = pd.SparseDataFrame(tf_matrix, columns = feature_names).fillna(0)"
   ]
  },
  {
   "cell_type": "code",
   "execution_count": null,
   "metadata": {},
   "outputs": [],
   "source": [
    "tf_dataframe.head()"
   ]
  },
  {
   "cell_type": "code",
   "execution_count": null,
   "metadata": {},
   "outputs": [],
   "source": [
    "set(tf_dataframe[\"être\"])"
   ]
  },
  {
   "cell_type": "markdown",
   "metadata": {},
   "source": [
    "On observe ce que l'on appelle une matrice sparse, ce qui signifie que la majorité des termes sont à 0.\n",
    "On voit par exemple que les documents 3 et 4 ont chacun une fois le mot \"être\". "
   ]
  },
  {
   "cell_type": "markdown",
   "metadata": {},
   "source": [
    "On peut regarder quels sont les termes les plus fréquents: "
   ]
  },
  {
   "cell_type": "code",
   "execution_count": null,
   "metadata": {},
   "outputs": [],
   "source": [
    "sum_words = tf_matrix.sum(axis=0)\n",
    "words_freq = [(word, sum_words[0, idx]) for word, idx in vect.vocabulary_.items()]\n",
    "words_freq =sorted(words_freq, key = lambda x: x[1], reverse=True)"
   ]
  },
  {
   "cell_type": "code",
   "execution_count": null,
   "metadata": {},
   "outputs": [],
   "source": [
    "words_freq[0:20]"
   ]
  },
  {
   "cell_type": "markdown",
   "metadata": {},
   "source": [
    "### La matrice tf-idf"
   ]
  },
  {
   "cell_type": "markdown",
   "metadata": {},
   "source": [
    "![tfidf_matrix.png](./images/tfidf_matrix.png)"
   ]
  },
  {
   "cell_type": "markdown",
   "metadata": {},
   "source": [
    "La matrice TF-IDF est très similaire dans son principe à la matrice TF. Elle a le même format: une ligne par document et une colonne par mot du vocabulaire. Chaque \"case\" de la matrice sera calculée à partir de la case la matrice TF, mais sera pondérée par l'IDF (inverse document frequency). Cette pondération permet de prendre en compte la fréquence d'occurence d'un terme dans l'ensemble des documents (le corpus). L'idée derrière cette pondération est qu'un terme qui apparait dans un très grand nombre de document n'apporte pas beaucoup d'information pour décrire un document en particulier. Par exemple, dans notre cas, le mot \"avis\" apparait dans quasiment tous nos documents, il aura donc une fréquence d'apparition dans le corpus élevé et donc un IDF (son inverse) faible. \n",
    "\n",
    "Pour résumer, pour un mot donné d'un document donné, le TF-IDF: \n",
    "\n",
    "- augmente avec le nombre d'occurrences du mot dans le document\n",
    "- diminue avec le nombre d'occirrences du mot dans le corpus\n"
   ]
  },
  {
   "cell_type": "code",
   "execution_count": null,
   "metadata": {},
   "outputs": [],
   "source": [
    "vect2 = TfidfVectorizer(min_df = 15).fit(df[\"Avis\"])\n",
    "tfidf_matrix = vect2.transform(df[\"Avis\"])\n",
    "print(\"TF-Matrix:\\n{}\".format(repr(tf_matrix)))"
   ]
  },
  {
   "cell_type": "code",
   "execution_count": null,
   "metadata": {},
   "outputs": [],
   "source": [
    "feature_names = vect2.get_feature_names()\n",
    "print(\"Nombre de features: {}\".format(len(feature_names)))\n",
    "print(\"Les 20 premières features:\\n{}\".format(feature_names[:20]))"
   ]
  },
  {
   "cell_type": "markdown",
   "metadata": {},
   "source": [
    "Sans surprise, on obtient les mêmes features qu'avec la matrice TF. Regardons mainteant quelques lignes de cette matrice: "
   ]
  },
  {
   "cell_type": "code",
   "execution_count": null,
   "metadata": {},
   "outputs": [],
   "source": [
    "tfidf_matrix_dense = tfidf_matrix.todense()\n",
    "tfidf_matrix_dense[tfidf_matrix_dense == 0] = np.nan\n",
    "mean_words = np.nanmean(tfidf_matrix_dense, axis=0)\n",
    "words_mean_tfidf = [(word, mean_words[0, idx]) for word, idx in vect2.vocabulary_.items()]\n",
    "words_freq =sorted(words_mean_tfidf, key = lambda x: x[1], reverse=True)"
   ]
  },
  {
   "cell_type": "code",
   "execution_count": null,
   "metadata": {},
   "outputs": [],
   "source": [
    "words_freq[0:20]"
   ]
  },
  {
   "cell_type": "markdown",
   "metadata": {},
   "source": [
    "Il est intéressant de comparer ici les termes remontés avec la matrice TF et ceux avec la matrice TFIDF. La matrice TF remonte beaucoup de termes \"inutiles\" (de, et, etc...), alors que la matrice TFIDF remonte des termes plus intéressants. "
   ]
  },
  {
   "cell_type": "code",
   "execution_count": null,
   "metadata": {},
   "outputs": [],
   "source": [
    "tfidf_dataframe = pd.SparseDataFrame(tfidf_matrix, columns = feature_names).fillna(0)"
   ]
  },
  {
   "cell_type": "code",
   "execution_count": null,
   "metadata": {},
   "outputs": [],
   "source": [
    "tfidf_dataframe.head()"
   ]
  },
  {
   "cell_type": "markdown",
   "metadata": {},
   "source": [
    "Ici on voit que le terme \"être\" est encore non nul pour les document 3 et 4, mais nous avons des nombres décimals au lieu de nombres entiers. \n",
    "\n",
    "\\begin{align}\n",
    " {\\mathrm {tfidf_{{i,j}}}}={\\mathrm {tf_{{i,j}}}}\\cdot {\\mathrm {idf_{{i}}}} \\\\\n",
    " {\\mathrm {tfidf_{{être,3}}}} = 1\\cdot {\\mathrm {idf_{{être}}}} =1\\cdot 0.070411 \\\\\n",
    "\\end{align}\n",
    "\n",
    "On en déduit que: \n",
    "\\begin{align}\n",
    " {\\mathrm {idf_{{être}}}} = 0.070411 \\\\\n",
    "\\end{align}\n",
    "\n",
    "Définition de l'IDF:  \n",
    "\\begin{align}\n",
    " {\\mathrm {idf_{{i,j}}}} = {\\mathrm {log_{{10}}}} {\\|D\\| \\over \\| \\{ d_{j} : t_{i} \\in d_{j} \\} \\| } \\\\\n",
    "\\end{align}"
   ]
  },
  {
   "cell_type": "code",
   "execution_count": null,
   "metadata": {},
   "outputs": [],
   "source": []
  },
  {
   "cell_type": "code",
   "execution_count": null,
   "metadata": {},
   "outputs": [],
   "source": [
    "import math\n",
    "len(df)/math.pow(10, 0.070411)"
   ]
  },
  {
   "cell_type": "code",
   "execution_count": null,
   "metadata": {},
   "outputs": [],
   "source": [
    "len(tfidf_dataframe[tfidf_dataframe[\"être\"]>0])"
   ]
  },
  {
   "cell_type": "markdown",
   "metadata": {},
   "source": [
    "### Exemple de word embeddings of word2vec\n",
    "\n",
    "A propos de word2vec: développé par une équipe de recherche de Google (article de 2013 disponible ici https://arxiv.org/abs/1301.3781), word2vec est un algorithme permettant de reprénter chaque mot dans un espace vectoriel à n dimensions (généralement n est fixé dans une valeur comprise entre 100 et 400). Les vecteurs des différents mots sont \"appris\" à l'aide d'un réseau de neurone artificiel. Ces vecteurs, appelés \"word embeddings\", permettent: \n",
    "- de rendre compte des proximités des mots dans le langage naturel (deux mots proches dans le langage, médecin et hopitaux, seront proches dans l'espace vectoriel) \n",
    "- de traduire certaines proprités linguistiques du langage naturel en propriétés mathématiques (cf. exemples dans illustration ci-dessous)\n",
    "\n"
   ]
  },
  {
   "cell_type": "markdown",
   "metadata": {},
   "source": [
    "![word2vec.png](./images/word2vec.png)"
   ]
  },
  {
   "cell_type": "markdown",
   "metadata": {},
   "source": [
    "Entrainement du modèle à partir du texte des avis Cada. Les paramètres à fixer sont: \n",
    "- size: la taille de l'espace vectoriel (le nombre de dimensions de chaque vecteur)"
   ]
  },
  {
   "cell_type": "code",
   "execution_count": null,
   "metadata": {},
   "outputs": [],
   "source": [
    "sentences = df[\"avis_word_token\"].tolist()\n",
    "from gensim.models import Word2Vec\n",
    "model = Word2Vec(sentences, size=100, window=5, min_count=5, workers=4)"
   ]
  },
  {
   "cell_type": "markdown",
   "metadata": {},
   "source": [
    "exemple de vecteur pour un mot donné (vous pouvez changer le mot entre guillements et voir les variations des vecteurs)"
   ]
  },
  {
   "cell_type": "code",
   "execution_count": null,
   "metadata": {},
   "outputs": [],
   "source": [
    "model.wv['avis']"
   ]
  },
  {
   "cell_type": "markdown",
   "metadata": {},
   "source": [
    "quelques exemples de calculs des mots les plus similaires, en utilisant la fonction méthode \"most_similar\""
   ]
  },
  {
   "cell_type": "code",
   "execution_count": null,
   "metadata": {},
   "outputs": [],
   "source": [
    "model.most_similar(\"médecin\")"
   ]
  },
  {
   "cell_type": "code",
   "execution_count": null,
   "metadata": {},
   "outputs": [],
   "source": [
    "model.most_similar(\"maire\")"
   ]
  },
  {
   "cell_type": "code",
   "execution_count": null,
   "metadata": {
    "scrolled": true
   },
   "outputs": [],
   "source": [
    "model.most_similar(\"demande\")"
   ]
  }
 ],
 "metadata": {
  "colab": {
   "authorship_tag": "ABX9TyNEL6x0Kfsdvmbf+E371X9g",
   "include_colab_link": true,
   "name": "ami_ia-NLP.ipynb",
   "provenance": []
  },
  "kernelspec": {
   "display_name": "Python 3",
   "language": "python",
   "name": "python3"
  },
  "language_info": {
   "codemirror_mode": {
    "name": "ipython",
    "version": 3
   },
   "file_extension": ".py",
   "mimetype": "text/x-python",
   "name": "python",
   "nbconvert_exporter": "python",
   "pygments_lexer": "ipython3",
   "version": "3.7.4"
  }
 },
 "nbformat": 4,
 "nbformat_minor": 1
}
