{
 "cells": [
  {
   "cell_type": "markdown",
   "metadata": {
    "colab_type": "text",
    "id": "view-in-github"
   },
   "source": [
    "<a href=\"https://colab.research.google.com/github/etalab-ia/ami-ia/blob/master/notebooks/ami_ia_NLP.ipynb\" target=\"_parent\"><img src=\"https://colab.research.google.com/assets/colab-badge.svg\" alt=\"Open In Colab\"/></a>"
   ]
  },
  {
   "cell_type": "markdown",
   "metadata": {
    "colab_type": "text",
    "id": "MNBVSFaLObUS"
   },
   "source": [
    "# Notebook NLP\n",
    "\n",
    "Introduction au NLP avec l'example des avis rendus par la CADA (Comission d'Accès aux Documents Administratifs)\n",
    "L'objectif de ce notebook est présenter des exemples d'utilisation de modèles de traitement du langage naturel, à partir d'un jeu de données textuelles. Nous allons analyser les avis CADA et tenter de répondre à deux questions: \n",
    "\n",
    "### 1- Puis-je dégager les thèmes principaux traités par les avis CADA? \n",
    "### 2 - Puis-je classer automatiquement les avis en avis Favorable / Défavorable à partir du texte de l'avis? \n",
    "\n",
    "Concernant la première question, on se met dans la peau d'un agent de la CADA, qui doit faire un rapport présentant les principaux thèmes abordés dans les avis CADA, et la proportion représentée par chacun de ces thèmes. \n",
    "\n",
    "Concernant la deuxième question, l'intérêt de ce type d'analyse serait de vérifier automatiquement la cohérence des métadonnées. Est-ce qu'un avis classé dans le SI comme favorable correspond bien à un avis défavorable au regard du texte de l'avis. \n",
    "\n",
    "\n",
    "A la fin du notebook, on présente quelques étapes classiques de traitement de langage naturel. \n",
    "\n",
    "La page de data.gouv où l'on peut télécharger les données est ici: https://www.data.gouv.fr/fr/datasets/avis-et-conseils-de-la-cada/ . L'url de téléchargement des données utilisées ici est https://www.data.gouv.fr/fr/datasets/r/93aed7ce-db2f-4982-8127-340562061e4b . "
   ]
  },
  {
   "cell_type": "markdown",
   "metadata": {},
   "source": [
    "# TO DO :\n",
    "## Partie 1: \n",
    "Voir comment retrouver les termes décrits dans la première partie\n",
    "## partie 2: \n",
    "- faire un schéma ou mieux expliquer la démarche\n",
    "- faire une ou deux viz de résultats afin d'avoir une conclusion claire \n",
    "(nombre d'avis par classe prédite, exemple d'avis pour lequel on s'est trompé et est-ce qu'on arrive à comprendre pk on sest trompé)\n",
    "## partie 3\n",
    "- régler le problème du calcul du TF IDF"
   ]
  },
  {
   "cell_type": "markdown",
   "metadata": {},
   "source": [
    "## Partie 0: Analyses simples du jeu de données "
   ]
  },
  {
   "cell_type": "markdown",
   "metadata": {},
   "source": [
    "importation des libraries utiles"
   ]
  },
  {
   "cell_type": "code",
   "execution_count": 4,
   "metadata": {
    "colab": {},
    "colab_type": "code",
    "id": "dC4ECExRSWdV"
   },
   "outputs": [],
   "source": [
    "# pour la manipulation de jeux de données \n",
    "import pandas as pd\n",
    "import numpy as np\n",
    "\n",
    "# commandes pour éliminer les warnings \n",
    "import warnings\n",
    "warnings.filterwarnings(\"ignore\")\n",
    "\n",
    "# pour la dataviz \n",
    "import matplotlib.pyplot as plt\n",
    "plt.style.use('fivethirtyeight')\n",
    "import matplotlib\n",
    "matplotlib.rcParams['axes.labelsize'] = 14\n",
    "matplotlib.rcParams['xtick.labelsize'] = 12\n",
    "matplotlib.rcParams['ytick.labelsize'] = 12\n",
    "matplotlib.rcParams['text.color'] = 'k'"
   ]
  },
  {
   "cell_type": "markdown",
   "metadata": {},
   "source": [
    "Lecture du jeu de données à partir de l'url "
   ]
  },
  {
   "cell_type": "code",
   "execution_count": 5,
   "metadata": {
    "colab": {},
    "colab_type": "code",
    "id": "Gog_D9PYOlS3"
   },
   "outputs": [],
   "source": [
    "# lire le jeu de données en un objet \"pandas dataframe\"\n",
    "df = pd.read_csv(\"https://www.data.gouv.fr/fr/datasets/r/ff3d14f4-b19b-4c33-a03c-e7819223da93\")"
   ]
  },
  {
   "cell_type": "markdown",
   "metadata": {},
   "source": [
    "Quel est le nombre de lignes et le nombre de colonnes de mon jeu de données ? "
   ]
  },
  {
   "cell_type": "code",
   "execution_count": 6,
   "metadata": {},
   "outputs": [
    {
     "data": {
      "text/plain": [
       "(39097, 11)"
      ]
     },
     "execution_count": 6,
     "metadata": {},
     "output_type": "execute_result"
    }
   ],
   "source": [
    "df.shape"
   ]
  },
  {
   "cell_type": "markdown",
   "metadata": {},
   "source": [
    "Quels sont les types des colonnes mon jeu de données? "
   ]
  },
  {
   "cell_type": "code",
   "execution_count": 7,
   "metadata": {},
   "outputs": [
    {
     "data": {
      "text/plain": [
       "Numéro de dossier       int64\n",
       "Administration         object\n",
       "Type                   object\n",
       "Année                   int64\n",
       "Séance                 object\n",
       "Objet                  object\n",
       "Thème et sous thème    object\n",
       "Mots clés              object\n",
       "Sens et motivation     object\n",
       "Partie                 object\n",
       "Avis                   object\n",
       "dtype: object"
      ]
     },
     "execution_count": 7,
     "metadata": {},
     "output_type": "execute_result"
    }
   ],
   "source": [
    "df.dtypes"
   ]
  },
  {
   "cell_type": "markdown",
   "metadata": {},
   "source": [
    "A quoi ressemble mon jeu de données ? "
   ]
  },
  {
   "cell_type": "code",
   "execution_count": 8,
   "metadata": {},
   "outputs": [
    {
     "data": {
      "text/html": [
       "<div>\n",
       "<style scoped>\n",
       "    .dataframe tbody tr th:only-of-type {\n",
       "        vertical-align: middle;\n",
       "    }\n",
       "\n",
       "    .dataframe tbody tr th {\n",
       "        vertical-align: top;\n",
       "    }\n",
       "\n",
       "    .dataframe thead th {\n",
       "        text-align: right;\n",
       "    }\n",
       "</style>\n",
       "<table border=\"1\" class=\"dataframe\">\n",
       "  <thead>\n",
       "    <tr style=\"text-align: right;\">\n",
       "      <th></th>\n",
       "      <th>Numéro de dossier</th>\n",
       "      <th>Administration</th>\n",
       "      <th>Type</th>\n",
       "      <th>Année</th>\n",
       "      <th>Séance</th>\n",
       "      <th>Objet</th>\n",
       "      <th>Thème et sous thème</th>\n",
       "      <th>Mots clés</th>\n",
       "      <th>Sens et motivation</th>\n",
       "      <th>Partie</th>\n",
       "      <th>Avis</th>\n",
       "    </tr>\n",
       "  </thead>\n",
       "  <tbody>\n",
       "    <tr>\n",
       "      <td>0</td>\n",
       "      <td>19840002</td>\n",
       "      <td>ministre de la défense</td>\n",
       "      <td>Avis</td>\n",
       "      <td>1984</td>\n",
       "      <td>03/03/1984</td>\n",
       "      <td>[Voir avis]</td>\n",
       "      <td>Justice, Ordre Public Et Sécurité/Défense Et D...</td>\n",
       "      <td>Armée</td>\n",
       "      <td>Défavorable/Défense</td>\n",
       "      <td>III</td>\n",
       "      <td>La commission d'accès aux documents administra...</td>\n",
       "    </tr>\n",
       "    <tr>\n",
       "      <td>1</td>\n",
       "      <td>19840003</td>\n",
       "      <td>ministre de la défense</td>\n",
       "      <td>Avis</td>\n",
       "      <td>1984</td>\n",
       "      <td>13/12/1984</td>\n",
       "      <td>[Voir avis]</td>\n",
       "      <td>Economie, Industrie, Agriculture/Secteurs Écon...</td>\n",
       "      <td>Armée</td>\n",
       "      <td>Irrecevable/Imprécise, Défavorable/Défense, In...</td>\n",
       "      <td>III</td>\n",
       "      <td>La commission d'accès aux documents administra...</td>\n",
       "    </tr>\n",
       "    <tr>\n",
       "      <td>2</td>\n",
       "      <td>19850001</td>\n",
       "      <td>ministre de l'économie, des finances et du budget</td>\n",
       "      <td>Avis</td>\n",
       "      <td>1985</td>\n",
       "      <td>05/12/1985</td>\n",
       "      <td>[Voir avis]</td>\n",
       "      <td>Justice, Ordre Public Et Sécurité/Association,...</td>\n",
       "      <td>NaN</td>\n",
       "      <td>Défavorable</td>\n",
       "      <td>III</td>\n",
       "      <td>La commission d'accès aux documents administra...</td>\n",
       "    </tr>\n",
       "    <tr>\n",
       "      <td>3</td>\n",
       "      <td>19860001</td>\n",
       "      <td>directeur départemental du travail et de l'emp...</td>\n",
       "      <td>Conseil</td>\n",
       "      <td>1986</td>\n",
       "      <td>30/01/1986</td>\n",
       "      <td>(voir avis)</td>\n",
       "      <td>Travail Et Emploi/Droit Du Travail</td>\n",
       "      <td>Licenciement, Conditions de travail</td>\n",
       "      <td>Défavorable/Procédure, Sans objet</td>\n",
       "      <td>III</td>\n",
       "      <td>La commission d'accès aux documents administra...</td>\n",
       "    </tr>\n",
       "    <tr>\n",
       "      <td>4</td>\n",
       "      <td>19870061</td>\n",
       "      <td>gouverneur de la Banque de France</td>\n",
       "      <td>Avis</td>\n",
       "      <td>1987</td>\n",
       "      <td>02/04/1987</td>\n",
       "      <td>[Voir avis]</td>\n",
       "      <td>Economie, Industrie, Agriculture/Secteurs Écon...</td>\n",
       "      <td>Banques et assurances</td>\n",
       "      <td>Défavorable/Sécurité publique, Favorable/Sauf ...</td>\n",
       "      <td>III</td>\n",
       "      <td>La commission d'accès aux documents administra...</td>\n",
       "    </tr>\n",
       "  </tbody>\n",
       "</table>\n",
       "</div>"
      ],
      "text/plain": [
       "   Numéro de dossier                                     Administration  \\\n",
       "0           19840002                             ministre de la défense   \n",
       "1           19840003                             ministre de la défense   \n",
       "2           19850001  ministre de l'économie, des finances et du budget   \n",
       "3           19860001  directeur départemental du travail et de l'emp...   \n",
       "4           19870061                  gouverneur de la Banque de France   \n",
       "\n",
       "      Type  Année      Séance        Objet  \\\n",
       "0     Avis   1984  03/03/1984  [Voir avis]   \n",
       "1     Avis   1984  13/12/1984  [Voir avis]   \n",
       "2     Avis   1985  05/12/1985  [Voir avis]   \n",
       "3  Conseil   1986  30/01/1986  (voir avis)   \n",
       "4     Avis   1987  02/04/1987  [Voir avis]   \n",
       "\n",
       "                                 Thème et sous thème  \\\n",
       "0  Justice, Ordre Public Et Sécurité/Défense Et D...   \n",
       "1  Economie, Industrie, Agriculture/Secteurs Écon...   \n",
       "2  Justice, Ordre Public Et Sécurité/Association,...   \n",
       "3                 Travail Et Emploi/Droit Du Travail   \n",
       "4  Economie, Industrie, Agriculture/Secteurs Écon...   \n",
       "\n",
       "                             Mots clés  \\\n",
       "0                                Armée   \n",
       "1                                Armée   \n",
       "2                                  NaN   \n",
       "3  Licenciement, Conditions de travail   \n",
       "4                Banques et assurances   \n",
       "\n",
       "                                  Sens et motivation Partie  \\\n",
       "0                                Défavorable/Défense    III   \n",
       "1  Irrecevable/Imprécise, Défavorable/Défense, In...    III   \n",
       "2                                        Défavorable    III   \n",
       "3                  Défavorable/Procédure, Sans objet    III   \n",
       "4  Défavorable/Sécurité publique, Favorable/Sauf ...    III   \n",
       "\n",
       "                                                Avis  \n",
       "0  La commission d'accès aux documents administra...  \n",
       "1  La commission d'accès aux documents administra...  \n",
       "2  La commission d'accès aux documents administra...  \n",
       "3  La commission d'accès aux documents administra...  \n",
       "4  La commission d'accès aux documents administra...  "
      ]
     },
     "execution_count": 8,
     "metadata": {},
     "output_type": "execute_result"
    }
   ],
   "source": [
    "df.head()"
   ]
  },
  {
   "cell_type": "markdown",
   "metadata": {},
   "source": [
    "Ci-dessus, le texte des avis est tronqué, nous allons donc regarder un avis complet à l'aide de la commande ci-dessous(changer le numero après le \"numero_doc = \" puis réexécuter la cellule afin de visualiser un nouvel exemple)"
   ]
  },
  {
   "cell_type": "code",
   "execution_count": 70,
   "metadata": {},
   "outputs": [
    {
     "name": "stdout",
     "output_type": "stream",
     "text": [
      "Date de l'avis\n",
      "08/02/1990\n",
      "\n",
      "\n",
      "Texte de l'avis\n",
      "communication de la liste des personnels handicapés employés par la commune.\n",
      "         \n",
      "La Commission a estimé que la communication de cette liste risque de porter atteinte à la vie privée des personnes concernées au sens de l'article 6 bis de la loi\n",
      "du 17 juillet 1978 et s'est, en conséquence, prononcée défavorablement à cette communication.\n"
     ]
    }
   ],
   "source": [
    "numero_doc = 10\n",
    "print(\"Date de l'avis\")\n",
    "print(df.loc[numero_doc, \"Séance\"])\n",
    "print(\"\\n\")\n",
    "print(\"Texte de l'avis\")\n",
    "print(df.loc[numero_doc, \"Avis\"])"
   ]
  },
  {
   "cell_type": "markdown",
   "metadata": {},
   "source": [
    "On regarde les variables catégorielles: \n",
    "- combien de valeurs remplies (count), \n",
    "- combien de valeurs uniques / modalités (unique), \n",
    "- quelle est la modalité la plus représentée (top), \n",
    "- quelle est le nombre de fois où apparait la modalité la plus représentée (freq)"
   ]
  },
  {
   "cell_type": "code",
   "execution_count": 25,
   "metadata": {},
   "outputs": [
    {
     "data": {
      "text/html": [
       "<div>\n",
       "<style scoped>\n",
       "    .dataframe tbody tr th:only-of-type {\n",
       "        vertical-align: middle;\n",
       "    }\n",
       "\n",
       "    .dataframe tbody tr th {\n",
       "        vertical-align: top;\n",
       "    }\n",
       "\n",
       "    .dataframe thead th {\n",
       "        text-align: right;\n",
       "    }\n",
       "</style>\n",
       "<table border=\"1\" class=\"dataframe\">\n",
       "  <thead>\n",
       "    <tr style=\"text-align: right;\">\n",
       "      <th></th>\n",
       "      <th>Administration</th>\n",
       "      <th>Type</th>\n",
       "      <th>Séance</th>\n",
       "      <th>Objet</th>\n",
       "      <th>Thème et sous thème</th>\n",
       "      <th>Mots clés</th>\n",
       "      <th>Sens et motivation</th>\n",
       "      <th>Partie</th>\n",
       "      <th>Avis</th>\n",
       "      <th>avis_word_token</th>\n",
       "    </tr>\n",
       "  </thead>\n",
       "  <tbody>\n",
       "    <tr>\n",
       "      <td>count</td>\n",
       "      <td>39095</td>\n",
       "      <td>39096</td>\n",
       "      <td>39096</td>\n",
       "      <td>39079</td>\n",
       "      <td>39015</td>\n",
       "      <td>33866</td>\n",
       "      <td>39081</td>\n",
       "      <td>36868</td>\n",
       "      <td>39096</td>\n",
       "      <td>39096</td>\n",
       "    </tr>\n",
       "    <tr>\n",
       "      <td>unique</td>\n",
       "      <td>13001</td>\n",
       "      <td>3</td>\n",
       "      <td>570</td>\n",
       "      <td>36098</td>\n",
       "      <td>828</td>\n",
       "      <td>3661</td>\n",
       "      <td>3134</td>\n",
       "      <td>4</td>\n",
       "      <td>38328</td>\n",
       "      <td>38072</td>\n",
       "    </tr>\n",
       "    <tr>\n",
       "      <td>top</td>\n",
       "      <td>Direction générale des finances publiques (DGFIP)</td>\n",
       "      <td>Avis</td>\n",
       "      <td>31/12/2017</td>\n",
       "      <td>Communication, par envoi postal ou par courrie...</td>\n",
       "      <td>Travail Et Emploi / Emploi Public</td>\n",
       "      <td>Marché public</td>\n",
       "      <td>Favorable</td>\n",
       "      <td>III</td>\n",
       "      <td>Monsieur X, pour l’association Regards citoyen...</td>\n",
       "      <td>[x, association, regards, citoyens, saisi, com...</td>\n",
       "    </tr>\n",
       "    <tr>\n",
       "      <td>freq</td>\n",
       "      <td>1285</td>\n",
       "      <td>36371</td>\n",
       "      <td>1450</td>\n",
       "      <td>556</td>\n",
       "      <td>3174</td>\n",
       "      <td>1888</td>\n",
       "      <td>11609</td>\n",
       "      <td>31428</td>\n",
       "      <td>132</td>\n",
       "      <td>151</td>\n",
       "    </tr>\n",
       "  </tbody>\n",
       "</table>\n",
       "</div>"
      ],
      "text/plain": [
       "                                           Administration   Type      Séance  \\\n",
       "count                                               39095  39096       39096   \n",
       "unique                                              13001      3         570   \n",
       "top     Direction générale des finances publiques (DGFIP)   Avis  31/12/2017   \n",
       "freq                                                 1285  36371        1450   \n",
       "\n",
       "                                                    Objet  \\\n",
       "count                                               39079   \n",
       "unique                                              36098   \n",
       "top     Communication, par envoi postal ou par courrie...   \n",
       "freq                                                  556   \n",
       "\n",
       "                      Thème et sous thème      Mots clés Sens et motivation  \\\n",
       "count                               39015          33866              39081   \n",
       "unique                                828           3661               3134   \n",
       "top     Travail Et Emploi / Emploi Public  Marché public          Favorable   \n",
       "freq                                 3174           1888              11609   \n",
       "\n",
       "       Partie                                               Avis  \\\n",
       "count   36868                                              39096   \n",
       "unique      4                                              38328   \n",
       "top       III  Monsieur X, pour l’association Regards citoyen...   \n",
       "freq    31428                                                132   \n",
       "\n",
       "                                          avis_word_token  \n",
       "count                                               39096  \n",
       "unique                                              38072  \n",
       "top     [x, association, regards, citoyens, saisi, com...  \n",
       "freq                                                  151  "
      ]
     },
     "execution_count": 25,
     "metadata": {},
     "output_type": "execute_result"
    }
   ],
   "source": [
    "df.describe(include = np.object)"
   ]
  },
  {
   "cell_type": "markdown",
   "metadata": {},
   "source": [
    "### Visualisation du nombre d'avis par année"
   ]
  },
  {
   "cell_type": "markdown",
   "metadata": {},
   "source": [
    "on crée une dataframe avec une ligne par année, la colonne count donne le nombre d'avis par année \n"
   ]
  },
  {
   "cell_type": "code",
   "execution_count": 10,
   "metadata": {},
   "outputs": [],
   "source": [
    "df[\"count\"] = 1\n",
    "dfg = df.groupby(\"Année\").agg(\"sum\").reset_index()"
   ]
  },
  {
   "cell_type": "code",
   "execution_count": 11,
   "metadata": {},
   "outputs": [
    {
     "data": {
      "text/plain": [
       "Text(0.5, 1.0, \"Nombre d'avis CADA par année\")"
      ]
     },
     "execution_count": 11,
     "metadata": {},
     "output_type": "execute_result"
    },
    {
     "data": {
      "image/png": "[encoded data removed]",
      "text/plain": [
       "<Figure size 1440x576 with 1 Axes>"
      ]
     },
     "metadata": {},
     "output_type": "display_data"
    }
   ],
   "source": [
    "plt.figure(figsize=(20, 8))\n",
    "plt.plot(dfg['Année'], dfg['count'], 'b-')\n",
    "plt.xlabel('Année'); plt.ylabel(\"Nombre d'avis\"); plt.title(\"Nombre d'avis CADA par année\")"
   ]
  },
  {
   "cell_type": "markdown",
   "metadata": {},
   "source": [
    "On remarque qu'il y a très peu d'avais avant 2012, et donc que la majorité des avis sont pour la période 2012-2020\n",
    "Commbien d'avis sont compris dans cette période 2012-2020? "
   ]
  },
  {
   "cell_type": "code",
   "execution_count": 13,
   "metadata": {},
   "outputs": [
    {
     "name": "stdout",
     "output_type": "stream",
     "text": [
      "Nombre d'avis dans 20012-2020 :  35024\n",
      "Proportion d'avis dans 20012-2020 :  0.8958232089418625\n"
     ]
    }
   ],
   "source": [
    "print(\"Nombre d'avis dans 20012-2020 :  {}\".format(len(df[df[\"Année\"].isin(range(2012, 2020))])))\n",
    "print(\"Proportion d'avis dans 20012-2020 :  {}\".format(len(df[df[\"Année\"].isin(range(2012, 2020))])/len(df)))"
   ]
  },
  {
   "cell_type": "markdown",
   "metadata": {},
   "source": [
    "# Partie 1 : topic extraction (non supervisé)\n"
   ]
  },
  {
   "cell_type": "markdown",
   "metadata": {},
   "source": [
    "## Un algorithme d'extraction de topiques: LDA (Latent Dirichlet Allocation) \n",
    "\n",
    "### ressource : article très pédagogique (en anglais) dont on s'inspire ici https://towardsdatascience.com/the-complete-guide-for-topics-extraction-in-python-a6aaa6cedbbc "
   ]
  },
  {
   "cell_type": "markdown",
   "metadata": {},
   "source": [
    "### A quoi sert cet algorithme?\n",
    " \n",
    "LDA est un algorithme d'extraction de topics. A partir d'un corpus de documents, il permet de : \n",
    "- définir un nombre de topics (un topic est caractérisé par une liste de mots)\n",
    "- attribuer à chaque document un ou des topics de la liste de topics trouvés par l'algorithme \n",
    "\n"
   ]
  },
  {
   "cell_type": "markdown",
   "metadata": {},
   "source": [
    "![illustration_LDA.png](./images/illustration_LDA.png)"
   ]
  },
  {
   "cell_type": "markdown",
   "metadata": {},
   "source": [
    "### Quel est l'intérêt pour l'analyse des données CADA? \n",
    "\n",
    "Dans le jeu de données, nous avons la colonne \"Thème et sous thème\". On se met dans la situation où on a perdu cette colonne (pour tout ou une partie des données). On a besoin d'avoir une idée des thématiques abordées dans les avis rendus par la CADA. Une analyse automatique nous permet de réaliser cet objectif. \n"
   ]
  },
  {
   "cell_type": "code",
   "execution_count": 14,
   "metadata": {},
   "outputs": [
    {
     "name": "stderr",
     "output_type": "stream",
     "text": [
      "[nltk_data] Downloading package stopwords to\n",
      "[nltk_data]     /Users/kimmontalibet/nltk_data...\n",
      "[nltk_data]   Package stopwords is already up-to-date!\n",
      "[nltk_data] Downloading package punkt to\n",
      "[nltk_data]     /Users/kimmontalibet/nltk_data...\n",
      "[nltk_data]   Package punkt is already up-to-date!\n"
     ]
    }
   ],
   "source": [
    "# Etape 0 : importation de la librairie avec l'algorithme \n",
    "#!pip install gensim si ce n'est pas déjà fait \n",
    "import nltk\n",
    "nltk.download('stopwords')\n",
    "nltk.download('punkt')\n",
    "from nltk.corpus import stopwords\n",
    "from nltk.tokenize import sent_tokenize, word_tokenize\n",
    "\n",
    "from gensim import models\n",
    "from gensim.models import Phrases\n",
    "from gensim import corpora"
   ]
  },
  {
   "cell_type": "markdown",
   "metadata": {},
   "source": [
    "#### Etape 1 :préparation et nettoyage des données textuelles \n",
    "\n",
    "- tokenization (découpage du texte initial en mots)\n",
    "- supression de la ponctuation (pour certains cas d'usage, il peut cependant être utile de garder la ponctuation)\n"
   ]
  },
  {
   "cell_type": "markdown",
   "metadata": {},
   "source": [
    "Pour la tokenisation, nous utilisons une fonction de la librairie NLTK. "
   ]
  },
  {
   "cell_type": "code",
   "execution_count": 16,
   "metadata": {},
   "outputs": [],
   "source": [
    "# on retire les Avis \"vides\"\n",
    "df = df.dropna(subset = [\"Avis\"]) \n",
    "# on tokenize \n",
    "df[\"avis_word_token\"] = df[\"Avis\"].map(lambda x : word_tokenize(x.replace(\"'\", \" \"))) # on remplace les appostrophes par un espaces\n",
    "# car la tokenization avec la fonction \"word_tokenize\" de nltk ne les sépare pas autrement \n",
    "df[\"avis_word_token\"] = df[\"avis_word_token\"].map(lambda list_word: [word.lower()  for word in list_word if word.isalpha()])"
   ]
  },
  {
   "cell_type": "markdown",
   "metadata": {},
   "source": [
    "On supprime les stopwords (les mots très courants et qui n'apportent pas d'informations spécifiques pour caractériser le thème du document)\n",
    "Pour cela, on utilise une liste prédéfinie de stopwords de la librairie nltk, que l'on complète avec un certain nombre de stopwords. \n"
   ]
  },
  {
   "cell_type": "code",
   "execution_count": 17,
   "metadata": {},
   "outputs": [
    {
     "name": "stdout",
     "output_type": "stream",
     "text": [
      "172\n"
     ]
    }
   ],
   "source": [
    "# création de la liste de stopwords\n",
    "custom_stopwords = [\"a\", \"dont\", \"madame\", \"monsieur\", \"peut\", \"dès\", \"lors\", \"être\", \"ce\",\n",
    "                    \"ces\", \"cet\", \"cette\", \"comme\", \"ainsi\", \"si\"]\n",
    "stopwords_fr = stopwords.words('french') + custom_stopwords\n",
    "print(len(stopwords_fr))\n",
    "#print(stopwords_fr)\n",
    "\n",
    "# on enlève les stopwords\n",
    "df[\"avis_word_token\"] = df[\"avis_word_token\"].map(lambda list_word: [word for word in list_word if word not in stopwords_fr])\n"
   ]
  },
  {
   "cell_type": "markdown",
   "metadata": {},
   "source": [
    "On regarde ce que ça donne (différence entre notre document initial et la liste des tokens \"netoyés\"). \n",
    "Vous pouvez changer le numero_doc (modifier le chiffre après le = ) et exécuter la cellule pour visualiser un autre document du corpus"
   ]
  },
  {
   "cell_type": "code",
   "execution_count": 18,
   "metadata": {},
   "outputs": [
    {
     "name": "stdout",
     "output_type": "stream",
     "text": [
      "Document initial\n",
      "La commission d'accès aux documents administratifs a examiné dans sa séance du 3 mars 1984 la demande dont vous l'avez saisie par lettre du 21 décembre 1983.\n",
      "\n",
      "La commission a émis un avis défavorable à la communication du dossier d'enquête relatif au refus de votre admission en qualité d'élève-officier de réserve interprète et du chiffre de la Marine, au motif qu'elle porterait atteinte au secret de la défense nationale, exception prévue par l'article 6 de la loi du 17 juillet 1978.\n",
      "\n",
      "\n",
      "Document tokénisé\n",
      "['commission', 'accès', 'documents', 'administratifs', 'examiné', 'séance', 'mars', 'demande', 'saisie', 'lettre', 'décembre', 'commission', 'émis', 'avis', 'défavorable', 'communication', 'dossier', 'enquête', 'relatif', 'refus', 'admission', 'qualité', 'réserve', 'interprète', 'chiffre', 'marine', 'motif', 'porterait', 'atteinte', 'secret', 'défense', 'nationale', 'exception', 'prévue', 'article', 'loi', 'juillet']\n",
      "\n",
      "\n",
      "Nombre de token dans le doc :37\n"
     ]
    }
   ],
   "source": [
    "numero_doc = 0\n",
    "\n",
    "print(\"Document initial\")\n",
    "print(df.loc[numero_doc, \"Avis\"])\n",
    "print(\"\\n\")\n",
    "print(\"Document tokénisé\")\n",
    "print(df.loc[numero_doc, \"avis_word_token\"])\n",
    "print(\"\\n\")\n",
    "print(\"Nombre de token dans le doc :{}\".format(len(df.loc[numero_doc, \"avis_word_token\"])))"
   ]
  },
  {
   "cell_type": "markdown",
   "metadata": {},
   "source": [
    "#### Etape 2: Entrainement de l'algorithme \n",
    "\n",
    "Dans l'étape ci-dessous, nous allons, à partir de notre liste de tokens netoyés, créer des bigrammes. Les bigrammes sont des paires de mots, qui peuvent être porteurs de sens et qui sont donc utile pour le topic extraction. \n"
   ]
  },
  {
   "cell_type": "code",
   "execution_count": 19,
   "metadata": {},
   "outputs": [],
   "source": [
    "# création des tokens avec bigrammes \n",
    "tokens = df['avis_word_token'].tolist()\n",
    "bigram_model = Phrases(tokens)\n",
    "tokens = list(bigram_model[tokens])"
   ]
  },
  {
   "cell_type": "markdown",
   "metadata": {},
   "source": [
    "Entrainement du modèle après avoir constitué: \n",
    "- le dictionnaire des mots du corpus (ici les tokens \"simples\" (monogrammes) et bigrammes )\n",
    "- le corpus au format spécique du modèle LDA de gensim "
   ]
  },
  {
   "cell_type": "code",
   "execution_count": 20,
   "metadata": {},
   "outputs": [
    {
     "name": "stdout",
     "output_type": "stream",
     "text": [
      "CPU times: user 3min 12s, sys: 754 ms, total: 3min 13s\n",
      "Wall time: 1min 39s\n"
     ]
    }
   ],
   "source": [
    "dictionary_LDA = corpora.Dictionary(tokens)\n",
    "dictionary_LDA.filter_extremes(no_below=3)\n",
    "corpus = [dictionary_LDA.doc2bow(tok) for tok in tokens]\n",
    "\n",
    "\n",
    "\n",
    "# les inputs : le corpus de documents tokenizé et le dictionnaire \n",
    "# (liste des mots apparaissant dans le dictionnaire)\n",
    "\n",
    "np.random.seed(123456)\n",
    "num_topics = 15\n",
    "%time lda_model = models.LdaModel(corpus, num_topics=num_topics, \\\n",
    "                                  id2word=dictionary_LDA, \\\n",
    "                                  passes=4, alpha=[0.01]*num_topics, \\\n",
    "                                  eta=[0.01]*len(dictionary_LDA.keys()))"
   ]
  },
  {
   "cell_type": "markdown",
   "metadata": {},
   "source": [
    "#### Etape 3 : Visualisation des topics \n",
    "\n",
    "Dans un premier temps, on peut visualiser les topics de façon très \"brute\" sous forme de listes de termes qui caractérisent chaque topic. L'interprétation de ces topics demande une réfléxion \"humaine\" pour les rendre intelligibles. "
   ]
  },
  {
   "cell_type": "code",
   "execution_count": 21,
   "metadata": {},
   "outputs": [
    {
     "name": "stdout",
     "output_type": "stream",
     "text": [
      "0: 0.059*\"relations_entre\" + 0.019*\"point\" + 0.018*\"émet_donc\" + 0.017*\"estime\" + 0.014*\"administratifs\" + 0.013*\"communicables\" + 0.012*\"avis\" + 0.011*\"concernant\" + 0.011*\"absence_réponse\" + 0.010*\"fait\"\n",
      "\n",
      "1: 0.050*\"santé_publique\" + 0.035*\"santé\" + 0.027*\"professionnels_santé\" + 0.022*\"avis\" + 0.016*\"toute_personne\" + 0.015*\"concernant\" + 0.015*\"effet\" + 0.015*\"tiers\" + 0.014*\"vertu\" + 0.012*\"médical\"\n",
      "\n",
      "2: 0.021*\"relations_entre\" + 0.019*\"électronique\" + 0.017*\"demandeur\" + 0.015*\"sous_forme\" + 0.014*\"sans\" + 0.012*\"document\" + 0.008*\"fait\" + 0.008*\"courrier\" + 0.008*\"communicables\" + 0.008*\"sous_réserve\"\n",
      "\n",
      "3: 0.016*\"relations_entre\" + 0.016*\"communicables\" + 0.015*\"personne\" + 0.013*\"mentions\" + 0.011*\"préjudice\" + 0.010*\"estime\" + 0.010*\"communicable\" + 0.010*\"privée\" + 0.009*\"conseil\" + 0.009*\"sous_réserve\"\n",
      "\n",
      "4: 0.096*\"environnement\" + 0.026*\"informations_relatives\" + 0.024*\"articles\" + 0.024*\"éléments\" + 0.019*\"état\" + 0.018*\"toute_personne\" + 0.015*\"dispositions\" + 0.014*\"ii\" + 0.012*\"informations\" + 0.012*\"sous_réserve\"\n",
      "\n",
      "5: 0.059*\"dossier\" + 0.024*\"sécurité_sociale\" + 0.022*\"assurance_maladie\" + 0.020*\"dispositions\" + 0.019*\"droit\" + 0.019*\"sans_consentement\" + 0.019*\"personne\" + 0.018*\"autorité_parentale\" + 0.018*\"relations_entre\" + 0.016*\"réforme\"\n",
      "\n",
      "6: 0.030*\"marché\" + 0.016*\"communicables\" + 0.015*\"entreprises_non\" + 0.014*\"entreprise_attributaire\" + 0.014*\"secret_affaires\" + 0.013*\"offre\" + 0.013*\"mentions_relatives\" + 0.012*\"principe\" + 0.012*\"communicable\" + 0.011*\"offres\"\n",
      "\n",
      "7: 0.048*\"avis\" + 0.044*\"adressée\" + 0.042*\"réponse\" + 0.039*\"informé\" + 0.035*\"objet\" + 0.031*\"présent_avis\" + 0.028*\"déclarer_sans\" + 0.028*\"courrier\" + 0.026*\"articles\" + 0.023*\"maître\"\n",
      "\n",
      "8: 0.044*\"maire\" + 0.033*\"relations_entre\" + 0.025*\"permis_construire\" + 0.023*\"commune\" + 0.022*\"articles\" + 0.020*\"fait\" + 0.019*\"toute_personne\" + 0.019*\"communicables\" + 0.015*\"dossier\" + 0.013*\"urbanisme\"\n",
      "\n",
      "9: 0.012*\"informations\" + 0.009*\"relations_entre\" + 0.008*\"données\" + 0.008*\"dispositions\" + 0.006*\"notamment\" + 0.006*\"objet\" + 0.006*\"relève\" + 0.005*\"patrimoine\" + 0.005*\"secret\" + 0.005*\"titre\"\n",
      "\n",
      "10: 0.032*\"relations_entre\" + 0.025*\"toute_personne\" + 0.020*\"maire\" + 0.019*\"fait\" + 0.017*\"commune\" + 0.017*\"général_collectivités\" + 0.015*\"territoriales\" + 0.013*\"communicables\" + 0.013*\"conseil_municipal\" + 0.013*\"droit\"\n",
      "\n",
      "11: 0.022*\"relations_entre\" + 0.014*\"sécurité\" + 0.011*\"document\" + 0.011*\"rapport\" + 0.009*\"communicable\" + 0.009*\"décision\" + 0.008*\"publique\" + 0.008*\"conseil\" + 0.007*\"suite\" + 0.007*\"dossier\"\n",
      "\n",
      "12: 0.030*\"relations_entre\" + 0.028*\"service\" + 0.019*\"dispositions\" + 0.017*\"administratifs\" + 0.017*\"droit\" + 0.016*\"loi\" + 0.014*\"personnes\" + 0.012*\"personne\" + 0.011*\"données_caractère\" + 0.011*\"sens\"\n",
      "\n",
      "13: 0.024*\"communicables\" + 0.019*\"conseil_municipal\" + 0.018*\"enquête_publique\" + 0.017*\"publique\" + 0.016*\"délibération\" + 0.015*\"urbanisme\" + 0.015*\"projet\" + 0.013*\"relations_entre\" + 0.013*\"environnement\" + 0.013*\"plan_local\"\n",
      "\n",
      "14: 0.024*\"droit\" + 0.018*\"médical\" + 0.017*\"santé_publique\" + 0.014*\"dossier_médical\" + 0.014*\"centre_hospitalier\" + 0.013*\"dossier\" + 0.013*\"qualité\" + 0.012*\"établissement\" + 0.011*\"espèce\" + 0.010*\"demandeur\"\n",
      "\n"
     ]
    }
   ],
   "source": [
    "# avec 15 topics \n",
    "for i,topic in lda_model.show_topics(formatted=True, num_topics=num_topics, num_words=10):\n",
    "    print(str(i)+\": \"+ topic)\n",
    "    print()"
   ]
  },
  {
   "cell_type": "markdown",
   "metadata": {},
   "source": [
    "### A vous de jouer ! Essayer de donner une interprétation intelligibles des topics décrits par les listes de termes ci-dessus: \n",
    "- topic 0: \n",
    "- topic 1:\n",
    "- topic 2:\n",
    "- topic 3: \n",
    "- topic 4:\n",
    "- topic 5: \n"
   ]
  },
  {
   "cell_type": "markdown",
   "metadata": {},
   "source": [
    "#### Etape 4 : Attribution des topics aux documents \n"
   ]
  },
  {
   "cell_type": "markdown",
   "metadata": {},
   "source": [
    "Attribution des topics pour un document en particulier (faire varier le numéro entre crocher puis refaire tourner la cellule pour voir comment évolue le résultat)"
   ]
  },
  {
   "cell_type": "code",
   "execution_count": 27,
   "metadata": {},
   "outputs": [
    {
     "name": "stdout",
     "output_type": "stream",
     "text": [
      "Texte de l'avis numéro 1\n",
      "La commission d'accès aux documents administratifs a examiné dans sa séance du 13 décembre 1984 la demande dont vous l'avez saisie par lettre du 31 octobre 1984.\n",
      "\n",
      "La commission a estimé que la communication des analyses des rejets provenant du Centre d'Etude du Bouchet à Vert-le-Petit pourrait permettre la divulgation des activités du Centre et des procédures techniques employées et serait par là de nature à porter atteinte au secret de la défense nationale. Il en va de même des « plans de secours », qui sont indissociables des activités pratiquées au Centre.\n",
      "\n",
      "En conséquence, et en application des dispositions de l'article 6 de le loi du 17 juillet 1978, la commission a rendu un avis défavorable sur ces deux points de votre demande.\n",
      "\n",
      "Sur les autres points, celle-ci a été rejetée comme irrecevable ; elle est en effet formulée en termes trop généraux et constitue plus une demande de renseignement qu'une demande d'un document administratif précis.\n",
      "\n",
      "\n",
      "Topics et probilité associé\n",
      "[(0, 0.21215327), (3, 0.037655912), (4, 0.076576665), (9, 0.43254915), (11, 0.19026378), (12, 0.049028967)]\n"
     ]
    }
   ],
   "source": [
    "numero_doc = 1\n",
    "print(\"Texte de l'avis numéro {}\".format(numero_doc))\n",
    "print(df.loc[numero_doc, \"Avis\"])\n",
    "print(\"\\n\")\n",
    "print(\"Topics et probilités associées\")\n",
    "print(lda_model[corpus[numero_doc]])"
   ]
  },
  {
   "cell_type": "markdown",
   "metadata": {},
   "source": [
    "Nous allons maintenant attribuer les topics du LDA à l'ensemble des documents, en rajoutant une colonne \"topic_list\" au jeu de données initial"
   ]
  },
  {
   "cell_type": "code",
   "execution_count": 40,
   "metadata": {},
   "outputs": [],
   "source": [
    "df[\"topic_list\"] = [lda_model[i] for i in corpus]\n",
    "# la commande ci dessus nous permet, pour chaque document, d'obtenir une liste de topics avec les probabilités associées \n",
    "# que chaque document appartienne \n",
    "def topic_majoritaire(list_topic, is_proba): \n",
    "    proba = [x[1] for x in list_topic]\n",
    "    max_index = proba.index(max(proba))\n",
    "    return list_topic[max_index][is_proba]\n",
    "df[\"main_topic\"] = df[\"topic_list\"].map(lambda list_topic: topic_majoritaire(list_topic, 0))\n",
    "df[\"main_topic_proba\"] = df[\"topic_list\"].map(lambda list_topic: topic_majoritaire(list_topic, 1))"
   ]
  },
  {
   "cell_type": "code",
   "execution_count": 41,
   "metadata": {},
   "outputs": [
    {
     "data": {
      "text/html": [
       "<div>\n",
       "<style scoped>\n",
       "    .dataframe tbody tr th:only-of-type {\n",
       "        vertical-align: middle;\n",
       "    }\n",
       "\n",
       "    .dataframe tbody tr th {\n",
       "        vertical-align: top;\n",
       "    }\n",
       "\n",
       "    .dataframe thead th {\n",
       "        text-align: right;\n",
       "    }\n",
       "</style>\n",
       "<table border=\"1\" class=\"dataframe\">\n",
       "  <thead>\n",
       "    <tr style=\"text-align: right;\">\n",
       "      <th></th>\n",
       "      <th>Numéro de dossier</th>\n",
       "      <th>Administration</th>\n",
       "      <th>Type</th>\n",
       "      <th>Année</th>\n",
       "      <th>Séance</th>\n",
       "      <th>Objet</th>\n",
       "      <th>Thème et sous thème</th>\n",
       "      <th>Mots clés</th>\n",
       "      <th>Sens et motivation</th>\n",
       "      <th>Partie</th>\n",
       "      <th>Avis</th>\n",
       "      <th>count</th>\n",
       "      <th>avis_word_token</th>\n",
       "      <th>topic_list</th>\n",
       "      <th>main_topic</th>\n",
       "      <th>main_topic_proba</th>\n",
       "    </tr>\n",
       "  </thead>\n",
       "  <tbody>\n",
       "    <tr>\n",
       "      <td>0</td>\n",
       "      <td>19840002</td>\n",
       "      <td>ministre de la défense</td>\n",
       "      <td>Avis</td>\n",
       "      <td>1984</td>\n",
       "      <td>03/03/1984</td>\n",
       "      <td>[Voir avis]</td>\n",
       "      <td>Justice, Ordre Public Et Sécurité/Défense Et D...</td>\n",
       "      <td>Armée</td>\n",
       "      <td>Défavorable/Défense</td>\n",
       "      <td>III</td>\n",
       "      <td>La commission d'accès aux documents administra...</td>\n",
       "      <td>1</td>\n",
       "      <td>[commission, accès, documents, administratifs,...</td>\n",
       "      <td>[(9, 0.19451253), (11, 0.6775157), (14, 0.1229...</td>\n",
       "      <td>11</td>\n",
       "      <td>0.677516</td>\n",
       "    </tr>\n",
       "    <tr>\n",
       "      <td>1</td>\n",
       "      <td>19840003</td>\n",
       "      <td>ministre de la défense</td>\n",
       "      <td>Avis</td>\n",
       "      <td>1984</td>\n",
       "      <td>13/12/1984</td>\n",
       "      <td>[Voir avis]</td>\n",
       "      <td>Economie, Industrie, Agriculture/Secteurs Écon...</td>\n",
       "      <td>Armée</td>\n",
       "      <td>Irrecevable/Imprécise, Défavorable/Défense, In...</td>\n",
       "      <td>III</td>\n",
       "      <td>La commission d'accès aux documents administra...</td>\n",
       "      <td>1</td>\n",
       "      <td>[commission, accès, documents, administratifs,...</td>\n",
       "      <td>[(0, 0.21213436), (3, 0.037693128), (4, 0.0765...</td>\n",
       "      <td>9</td>\n",
       "      <td>0.432543</td>\n",
       "    </tr>\n",
       "    <tr>\n",
       "      <td>2</td>\n",
       "      <td>19850001</td>\n",
       "      <td>ministre de l'économie, des finances et du budget</td>\n",
       "      <td>Avis</td>\n",
       "      <td>1985</td>\n",
       "      <td>05/12/1985</td>\n",
       "      <td>[Voir avis]</td>\n",
       "      <td>Justice, Ordre Public Et Sécurité/Association,...</td>\n",
       "      <td>NaN</td>\n",
       "      <td>Défavorable</td>\n",
       "      <td>III</td>\n",
       "      <td>La commission d'accès aux documents administra...</td>\n",
       "      <td>1</td>\n",
       "      <td>[commission, accès, documents, administratifs,...</td>\n",
       "      <td>[(0, 0.30352), (4, 0.051652644), (10, 0.050711...</td>\n",
       "      <td>11</td>\n",
       "      <td>0.591303</td>\n",
       "    </tr>\n",
       "    <tr>\n",
       "      <td>3</td>\n",
       "      <td>19860001</td>\n",
       "      <td>directeur départemental du travail et de l'emp...</td>\n",
       "      <td>Conseil</td>\n",
       "      <td>1986</td>\n",
       "      <td>30/01/1986</td>\n",
       "      <td>(voir avis)</td>\n",
       "      <td>Travail Et Emploi/Droit Du Travail</td>\n",
       "      <td>Licenciement, Conditions de travail</td>\n",
       "      <td>Défavorable/Procédure, Sans objet</td>\n",
       "      <td>III</td>\n",
       "      <td>La commission d'accès aux documents administra...</td>\n",
       "      <td>1</td>\n",
       "      <td>[commission, accès, documents, administratifs,...</td>\n",
       "      <td>[(3, 0.16086166), (11, 0.8337456)]</td>\n",
       "      <td>11</td>\n",
       "      <td>0.833746</td>\n",
       "    </tr>\n",
       "    <tr>\n",
       "      <td>4</td>\n",
       "      <td>19870061</td>\n",
       "      <td>gouverneur de la Banque de France</td>\n",
       "      <td>Avis</td>\n",
       "      <td>1987</td>\n",
       "      <td>02/04/1987</td>\n",
       "      <td>[Voir avis]</td>\n",
       "      <td>Economie, Industrie, Agriculture/Secteurs Écon...</td>\n",
       "      <td>Banques et assurances</td>\n",
       "      <td>Défavorable/Sécurité publique, Favorable/Sauf ...</td>\n",
       "      <td>III</td>\n",
       "      <td>La commission d'accès aux documents administra...</td>\n",
       "      <td>1</td>\n",
       "      <td>[commission, accès, documents, administratifs,...</td>\n",
       "      <td>[(0, 0.32351983), (3, 0.0439162), (9, 0.041097...</td>\n",
       "      <td>11</td>\n",
       "      <td>0.554580</td>\n",
       "    </tr>\n",
       "  </tbody>\n",
       "</table>\n",
       "</div>"
      ],
      "text/plain": [
       "   Numéro de dossier                                     Administration  \\\n",
       "0           19840002                             ministre de la défense   \n",
       "1           19840003                             ministre de la défense   \n",
       "2           19850001  ministre de l'économie, des finances et du budget   \n",
       "3           19860001  directeur départemental du travail et de l'emp...   \n",
       "4           19870061                  gouverneur de la Banque de France   \n",
       "\n",
       "      Type  Année      Séance        Objet  \\\n",
       "0     Avis   1984  03/03/1984  [Voir avis]   \n",
       "1     Avis   1984  13/12/1984  [Voir avis]   \n",
       "2     Avis   1985  05/12/1985  [Voir avis]   \n",
       "3  Conseil   1986  30/01/1986  (voir avis)   \n",
       "4     Avis   1987  02/04/1987  [Voir avis]   \n",
       "\n",
       "                                 Thème et sous thème  \\\n",
       "0  Justice, Ordre Public Et Sécurité/Défense Et D...   \n",
       "1  Economie, Industrie, Agriculture/Secteurs Écon...   \n",
       "2  Justice, Ordre Public Et Sécurité/Association,...   \n",
       "3                 Travail Et Emploi/Droit Du Travail   \n",
       "4  Economie, Industrie, Agriculture/Secteurs Écon...   \n",
       "\n",
       "                             Mots clés  \\\n",
       "0                                Armée   \n",
       "1                                Armée   \n",
       "2                                  NaN   \n",
       "3  Licenciement, Conditions de travail   \n",
       "4                Banques et assurances   \n",
       "\n",
       "                                  Sens et motivation Partie  \\\n",
       "0                                Défavorable/Défense    III   \n",
       "1  Irrecevable/Imprécise, Défavorable/Défense, In...    III   \n",
       "2                                        Défavorable    III   \n",
       "3                  Défavorable/Procédure, Sans objet    III   \n",
       "4  Défavorable/Sécurité publique, Favorable/Sauf ...    III   \n",
       "\n",
       "                                                Avis  count  \\\n",
       "0  La commission d'accès aux documents administra...      1   \n",
       "1  La commission d'accès aux documents administra...      1   \n",
       "2  La commission d'accès aux documents administra...      1   \n",
       "3  La commission d'accès aux documents administra...      1   \n",
       "4  La commission d'accès aux documents administra...      1   \n",
       "\n",
       "                                     avis_word_token  \\\n",
       "0  [commission, accès, documents, administratifs,...   \n",
       "1  [commission, accès, documents, administratifs,...   \n",
       "2  [commission, accès, documents, administratifs,...   \n",
       "3  [commission, accès, documents, administratifs,...   \n",
       "4  [commission, accès, documents, administratifs,...   \n",
       "\n",
       "                                          topic_list  main_topic  \\\n",
       "0  [(9, 0.19451253), (11, 0.6775157), (14, 0.1229...          11   \n",
       "1  [(0, 0.21213436), (3, 0.037693128), (4, 0.0765...           9   \n",
       "2  [(0, 0.30352), (4, 0.051652644), (10, 0.050711...          11   \n",
       "3                 [(3, 0.16086166), (11, 0.8337456)]          11   \n",
       "4  [(0, 0.32351983), (3, 0.0439162), (9, 0.041097...          11   \n",
       "\n",
       "   main_topic_proba  \n",
       "0          0.677516  \n",
       "1          0.432543  \n",
       "2          0.591303  \n",
       "3          0.833746  \n",
       "4          0.554580  "
      ]
     },
     "execution_count": 41,
     "metadata": {},
     "output_type": "execute_result"
    }
   ],
   "source": [
    "df.head()"
   ]
  },
  {
   "cell_type": "markdown",
   "metadata": {},
   "source": [
    "On regarde le nombre de documents par \"topic majoritaire\""
   ]
  },
  {
   "cell_type": "code",
   "execution_count": 42,
   "metadata": {},
   "outputs": [
    {
     "data": {
      "text/html": [
       "<div>\n",
       "<style scoped>\n",
       "    .dataframe tbody tr th:only-of-type {\n",
       "        vertical-align: middle;\n",
       "    }\n",
       "\n",
       "    .dataframe tbody tr th {\n",
       "        vertical-align: top;\n",
       "    }\n",
       "\n",
       "    .dataframe thead th {\n",
       "        text-align: right;\n",
       "    }\n",
       "</style>\n",
       "<table border=\"1\" class=\"dataframe\">\n",
       "  <thead>\n",
       "    <tr style=\"text-align: right;\">\n",
       "      <th></th>\n",
       "      <th>main_topic</th>\n",
       "      <th>nombre_documents</th>\n",
       "    </tr>\n",
       "  </thead>\n",
       "  <tbody>\n",
       "    <tr>\n",
       "      <td>0</td>\n",
       "      <td>7</td>\n",
       "      <td>7183</td>\n",
       "    </tr>\n",
       "    <tr>\n",
       "      <td>1</td>\n",
       "      <td>0</td>\n",
       "      <td>5145</td>\n",
       "    </tr>\n",
       "    <tr>\n",
       "      <td>2</td>\n",
       "      <td>10</td>\n",
       "      <td>4777</td>\n",
       "    </tr>\n",
       "    <tr>\n",
       "      <td>3</td>\n",
       "      <td>3</td>\n",
       "      <td>4484</td>\n",
       "    </tr>\n",
       "    <tr>\n",
       "      <td>4</td>\n",
       "      <td>11</td>\n",
       "      <td>3541</td>\n",
       "    </tr>\n",
       "    <tr>\n",
       "      <td>5</td>\n",
       "      <td>9</td>\n",
       "      <td>2373</td>\n",
       "    </tr>\n",
       "    <tr>\n",
       "      <td>6</td>\n",
       "      <td>6</td>\n",
       "      <td>2245</td>\n",
       "    </tr>\n",
       "    <tr>\n",
       "      <td>7</td>\n",
       "      <td>12</td>\n",
       "      <td>1988</td>\n",
       "    </tr>\n",
       "    <tr>\n",
       "      <td>8</td>\n",
       "      <td>2</td>\n",
       "      <td>1551</td>\n",
       "    </tr>\n",
       "    <tr>\n",
       "      <td>9</td>\n",
       "      <td>8</td>\n",
       "      <td>1260</td>\n",
       "    </tr>\n",
       "    <tr>\n",
       "      <td>10</td>\n",
       "      <td>1</td>\n",
       "      <td>1225</td>\n",
       "    </tr>\n",
       "    <tr>\n",
       "      <td>11</td>\n",
       "      <td>14</td>\n",
       "      <td>1140</td>\n",
       "    </tr>\n",
       "    <tr>\n",
       "      <td>12</td>\n",
       "      <td>4</td>\n",
       "      <td>889</td>\n",
       "    </tr>\n",
       "    <tr>\n",
       "      <td>13</td>\n",
       "      <td>5</td>\n",
       "      <td>692</td>\n",
       "    </tr>\n",
       "    <tr>\n",
       "      <td>14</td>\n",
       "      <td>13</td>\n",
       "      <td>603</td>\n",
       "    </tr>\n",
       "  </tbody>\n",
       "</table>\n",
       "</div>"
      ],
      "text/plain": [
       "    main_topic  nombre_documents\n",
       "0            7              7183\n",
       "1            0              5145\n",
       "2           10              4777\n",
       "3            3              4484\n",
       "4           11              3541\n",
       "5            9              2373\n",
       "6            6              2245\n",
       "7           12              1988\n",
       "8            2              1551\n",
       "9            8              1260\n",
       "10           1              1225\n",
       "11          14              1140\n",
       "12           4               889\n",
       "13           5               692\n",
       "14          13               603"
      ]
     },
     "execution_count": 42,
     "metadata": {},
     "output_type": "execute_result"
    }
   ],
   "source": [
    "df[\"nombre_documents\"] = 1\n",
    "df_topic = df.groupby([\"main_topic\"])[\"nombre_documents\"].count().sort_values(ascending = False).reset_index()\n",
    "df_topic"
   ]
  },
  {
   "cell_type": "markdown",
   "metadata": {},
   "source": [
    "#### Etape 5 : Eventuellement retour à l'étape 1 (en modifiant les étapes de netoyages) et 2 (en testant différents paramètres, avec en particulier le nombre de topics)\n"
   ]
  },
  {
   "cell_type": "markdown",
   "metadata": {},
   "source": [
    "#### Etape 6: Visualisation interactive des topics avec la librairie pyLDAvis\n",
    "La librairie PyLDAvis permet de visualiser les topics extraits via un modèle LDA. \n",
    "Chaque topic est représenté dans le plan par un disque dont l'aire est proportionnelle \"l'importance\" du topic dans l'ensemble des documents (plus précisemment, la métrique utilisée ici pour caractérier l'importance du topic est la distribution marginale du topic dans le corpus). \n",
    "En cliquant sur un cercle dans la partie de gauche (représentant un topic), on obtient à droite les mots caractérisant le topic classés du plus pertinent (en haut) au moins pertinent (en bas).\n",
    "Ce classement par la pertinence (relevance en anglais) d'un mot pour un topic donné dépend d'un facteur lambda que l'on peut faire varier grâce au curseur en haut à droite. Plus lambda est proche de 0, plus les termes pertinents seront rares (mais seront exclusifs i.e. qui ne se retrouveront pas dans d'autres topics). Plus lambda est proche de 1, plus les termes pertinents seront fréquents (mais seront davantage communs à d'autres topics). \n",
    "\n",
    "\n",
    "Voir cette présentation en anglais sur cet outil de visualisation https://speakerdeck.com/bmabey/visualizing-topic-models et le papier de recherche associé https://nlp.stanford.edu/events/illvi2014/papers/sievert-illvi2014.pdf "
   ]
  },
  {
   "cell_type": "code",
   "execution_count": 43,
   "metadata": {},
   "outputs": [
    {
     "name": "stdout",
     "output_type": "stream",
     "text": [
      "Requirement already satisfied: pyLDAvis in /Users/kimmontalibet/opt/anaconda3/lib/python3.7/site-packages (2.1.2)\n",
      "Requirement already satisfied: joblib>=0.8.4 in /Users/kimmontalibet/opt/anaconda3/lib/python3.7/site-packages (from pyLDAvis) (0.13.2)\n",
      "Requirement already satisfied: numpy>=1.9.2 in /Users/kimmontalibet/opt/anaconda3/lib/python3.7/site-packages (from pyLDAvis) (1.17.2)\n",
      "Requirement already satisfied: numexpr in /Users/kimmontalibet/opt/anaconda3/lib/python3.7/site-packages (from pyLDAvis) (2.7.0)\n",
      "Requirement already satisfied: wheel>=0.23.0 in /Users/kimmontalibet/opt/anaconda3/lib/python3.7/site-packages (from pyLDAvis) (0.33.6)\n",
      "Requirement already satisfied: pandas>=0.17.0 in /Users/kimmontalibet/opt/anaconda3/lib/python3.7/site-packages (from pyLDAvis) (0.25.1)\n",
      "Requirement already satisfied: scipy>=0.18.0 in /Users/kimmontalibet/opt/anaconda3/lib/python3.7/site-packages (from pyLDAvis) (1.3.1)\n",
      "Requirement already satisfied: jinja2>=2.7.2 in /Users/kimmontalibet/opt/anaconda3/lib/python3.7/site-packages (from pyLDAvis) (2.10.3)\n",
      "Requirement already satisfied: funcy in /Users/kimmontalibet/opt/anaconda3/lib/python3.7/site-packages (from pyLDAvis) (1.14)\n",
      "Requirement already satisfied: pytest in /Users/kimmontalibet/opt/anaconda3/lib/python3.7/site-packages (from pyLDAvis) (5.2.1)\n",
      "Requirement already satisfied: future in /Users/kimmontalibet/opt/anaconda3/lib/python3.7/site-packages (from pyLDAvis) (0.17.1)\n",
      "Requirement already satisfied: pytz>=2017.2 in /Users/kimmontalibet/opt/anaconda3/lib/python3.7/site-packages (from pandas>=0.17.0->pyLDAvis) (2019.3)\n",
      "Requirement already satisfied: python-dateutil>=2.6.1 in /Users/kimmontalibet/opt/anaconda3/lib/python3.7/site-packages (from pandas>=0.17.0->pyLDAvis) (2.8.0)\n",
      "Requirement already satisfied: MarkupSafe>=0.23 in /Users/kimmontalibet/opt/anaconda3/lib/python3.7/site-packages (from jinja2>=2.7.2->pyLDAvis) (1.1.1)\n",
      "Requirement already satisfied: py>=1.5.0 in /Users/kimmontalibet/opt/anaconda3/lib/python3.7/site-packages (from pytest->pyLDAvis) (1.8.0)\n",
      "Requirement already satisfied: packaging in /Users/kimmontalibet/opt/anaconda3/lib/python3.7/site-packages (from pytest->pyLDAvis) (19.2)\n",
      "Requirement already satisfied: attrs>=17.4.0 in /Users/kimmontalibet/opt/anaconda3/lib/python3.7/site-packages (from pytest->pyLDAvis) (19.2.0)\n",
      "Requirement already satisfied: more-itertools>=4.0.0 in /Users/kimmontalibet/opt/anaconda3/lib/python3.7/site-packages (from pytest->pyLDAvis) (7.2.0)\n",
      "Requirement already satisfied: atomicwrites>=1.0 in /Users/kimmontalibet/opt/anaconda3/lib/python3.7/site-packages (from pytest->pyLDAvis) (1.3.0)\n",
      "Requirement already satisfied: pluggy<1.0,>=0.12 in /Users/kimmontalibet/opt/anaconda3/lib/python3.7/site-packages (from pytest->pyLDAvis) (0.13.0)\n",
      "Requirement already satisfied: wcwidth in /Users/kimmontalibet/opt/anaconda3/lib/python3.7/site-packages (from pytest->pyLDAvis) (0.1.7)\n",
      "Requirement already satisfied: importlib-metadata>=0.12 in /Users/kimmontalibet/opt/anaconda3/lib/python3.7/site-packages (from pytest->pyLDAvis) (0.23)\n",
      "Requirement already satisfied: six>=1.5 in /Users/kimmontalibet/opt/anaconda3/lib/python3.7/site-packages (from python-dateutil>=2.6.1->pandas>=0.17.0->pyLDAvis) (1.12.0)\n",
      "Requirement already satisfied: pyparsing>=2.0.2 in /Users/kimmontalibet/opt/anaconda3/lib/python3.7/site-packages (from packaging->pytest->pyLDAvis) (2.4.2)\n",
      "Requirement already satisfied: zipp>=0.5 in /Users/kimmontalibet/opt/anaconda3/lib/python3.7/site-packages (from importlib-metadata>=0.12->pytest->pyLDAvis) (0.6.0)\n"
     ]
    },
    {
     "name": "stderr",
     "output_type": "stream",
     "text": [
      "/Users/kimmontalibet/opt/anaconda3/lib/python3.7/site-packages/past/builtins/misc.py:4: DeprecationWarning: Using or importing the ABCs from 'collections' instead of from 'collections.abc' is deprecated, and in 3.8 it will stop working\n",
      "  from collections import Mapping\n"
     ]
    }
   ],
   "source": [
    "\n",
    "%matplotlib inline\n",
    "!pip install pyLDAvis\n",
    "import pyLDAvis\n",
    "import pyLDAvis.gensim\n"
   ]
  },
  {
   "cell_type": "code",
   "execution_count": 45,
   "metadata": {},
   "outputs": [
    {
     "name": "stdout",
     "output_type": "stream",
     "text": [
      "CPU times: user 56.3 s, sys: 2.09 s, total: 58.4 s\n",
      "Wall time: 13min 47s\n"
     ]
    },
    {
     "data": {
      "text/html": [
       "\n",
       "<link rel=\"stylesheet\" type=\"text/css\" href=\"https://cdn.rawgit.com/bmabey/pyLDAvis/files/ldavis.v1.0.0.css\">\n",
       "\n",
       "\n",
       "<div id=\"ldavis_el604241128659538721393204255\"></div>\n",
       "<script type=\"text/javascript\">\n",
       "\n",
       "var ldavis_el604241128659538721393204255_data = {\"mdsDat\": {\"x\": [0.013839410482452148, -0.1370821204907481, -0.07751081965201602, -0.04099939385900154, 0.00810580478324841, 0.049553335629839365, -0.096658496115726, -0.053114389084756033, -0.024448236007365336, 0.21136510769396513, -0.05231794024675397, 0.1827706822093898, 0.2604101341634582, -0.09219321414938454, -0.15171986535660176], \"y\": [-0.06970677518437841, 0.07565775552825017, -0.05501849933830018, -0.017046032409272906, 0.14396338929134603, 0.2957568945901783, -0.06824865339950696, -0.12128288097795317, 0.007240911907726357, -0.006471007048828065, 0.018980922079236878, -0.22833749785003857, 0.07241534768154052, -0.07296197580491383, 0.025058100934914247], \"topics\": [1, 2, 3, 4, 5, 6, 7, 8, 9, 10, 11, 12, 13, 14, 15], \"cluster\": [1, 1, 1, 1, 1, 1, 1, 1, 1, 1, 1, 1, 1, 1, 1], \"Freq\": [11.251699447631836, 10.427140235900879, 10.340106964111328, 9.80868911743164, 9.282881736755371, 8.970939636230469, 7.85606575012207, 7.8277997970581055, 4.795058250427246, 4.419052600860596, 3.3925230503082275, 3.15315318107605, 3.039471387863159, 2.9127488136291504, 2.5226826667785645]}, \"tinfo\": {\"Category\": [\"Default\", \"Default\", \"Default\", \"Default\", \"Default\", \"Default\", \"Default\", \"Default\", \"Default\", \"Default\", \"Default\", \"Default\", \"Default\", \"Default\", \"Default\", \"Default\", \"Default\", \"Default\", \"Default\", \"Default\", \"Default\", \"Default\", \"Default\", \"Default\", \"Default\", \"Default\", \"Default\", \"Default\", \"Default\", \"Default\", \"Topic1\", \"Topic1\", \"Topic1\", \"Topic1\", \"Topic1\", \"Topic1\", \"Topic1\", \"Topic1\", \"Topic1\", \"Topic1\", \"Topic1\", \"Topic1\", \"Topic1\", \"Topic1\", \"Topic1\", \"Topic1\", \"Topic1\", \"Topic1\", \"Topic1\", \"Topic1\", \"Topic1\", \"Topic1\", \"Topic1\", \"Topic1\", \"Topic1\", \"Topic1\", \"Topic1\", \"Topic1\", \"Topic1\", \"Topic1\", \"Topic1\", \"Topic1\", \"Topic1\", \"Topic1\", \"Topic1\", \"Topic1\", \"Topic1\", \"Topic1\", \"Topic1\", \"Topic1\", \"Topic1\", \"Topic1\", \"Topic1\", \"Topic1\", \"Topic1\", \"Topic1\", \"Topic1\", \"Topic1\", \"Topic1\", \"Topic1\", \"Topic1\", \"Topic1\", \"Topic1\", \"Topic1\", \"Topic1\", \"Topic1\", \"Topic1\", \"Topic1\", \"Topic1\", \"Topic1\", \"Topic1\", \"Topic1\", \"Topic1\", \"Topic1\", \"Topic1\", \"Topic1\", \"Topic1\", \"Topic1\", \"Topic1\", \"Topic1\", \"Topic2\", \"Topic2\", \"Topic2\", \"Topic2\", \"Topic2\", \"Topic2\", \"Topic2\", \"Topic2\", \"Topic2\", \"Topic2\", \"Topic2\", \"Topic2\", \"Topic2\", \"Topic2\", \"Topic2\", \"Topic2\", \"Topic2\", \"Topic2\", \"Topic2\", \"Topic2\", \"Topic2\", \"Topic2\", \"Topic2\", \"Topic2\", \"Topic2\", \"Topic2\", \"Topic2\", \"Topic2\", \"Topic2\", \"Topic2\", \"Topic2\", \"Topic2\", \"Topic2\", \"Topic2\", \"Topic2\", \"Topic2\", \"Topic2\", \"Topic2\", \"Topic2\", \"Topic2\", \"Topic2\", \"Topic2\", \"Topic2\", \"Topic2\", \"Topic2\", \"Topic2\", \"Topic2\", \"Topic2\", \"Topic2\", \"Topic2\", \"Topic2\", \"Topic2\", \"Topic2\", \"Topic2\", \"Topic2\", \"Topic2\", \"Topic2\", \"Topic2\", \"Topic2\", \"Topic2\", \"Topic2\", \"Topic2\", \"Topic2\", \"Topic2\", \"Topic2\", \"Topic2\", \"Topic2\", \"Topic2\", \"Topic2\", \"Topic2\", \"Topic2\", \"Topic2\", \"Topic2\", \"Topic2\", \"Topic2\", \"Topic2\", \"Topic2\", \"Topic2\", \"Topic2\", \"Topic2\", \"Topic3\", \"Topic3\", \"Topic3\", \"Topic3\", \"Topic3\", \"Topic3\", \"Topic3\", \"Topic3\", \"Topic3\", \"Topic3\", \"Topic3\", \"Topic3\", \"Topic3\", \"Topic3\", \"Topic3\", \"Topic3\", \"Topic3\", \"Topic3\", \"Topic3\", \"Topic3\", \"Topic3\", \"Topic3\", \"Topic3\", \"Topic3\", \"Topic3\", \"Topic3\", \"Topic3\", \"Topic3\", \"Topic3\", \"Topic3\", \"Topic3\", \"Topic3\", \"Topic3\", \"Topic3\", \"Topic3\", \"Topic3\", \"Topic3\", \"Topic3\", \"Topic3\", \"Topic3\", \"Topic3\", \"Topic3\", \"Topic3\", \"Topic3\", \"Topic3\", \"Topic3\", \"Topic3\", \"Topic3\", \"Topic3\", \"Topic3\", \"Topic3\", \"Topic3\", \"Topic3\", \"Topic3\", \"Topic3\", \"Topic3\", \"Topic3\", \"Topic3\", \"Topic3\", \"Topic3\", \"Topic3\", \"Topic3\", \"Topic3\", \"Topic3\", \"Topic3\", \"Topic3\", \"Topic3\", \"Topic3\", \"Topic3\", \"Topic3\", \"Topic3\", \"Topic3\", \"Topic3\", \"Topic3\", \"Topic3\", \"Topic3\", \"Topic3\", \"Topic3\", \"Topic3\", \"Topic3\", \"Topic3\", \"Topic3\", \"Topic3\", \"Topic4\", \"Topic4\", \"Topic4\", \"Topic4\", \"Topic4\", \"Topic4\", \"Topic4\", \"Topic4\", \"Topic4\", \"Topic4\", \"Topic4\", \"Topic4\", \"Topic4\", \"Topic4\", \"Topic4\", \"Topic4\", \"Topic4\", \"Topic4\", \"Topic4\", \"Topic4\", \"Topic4\", \"Topic4\", \"Topic4\", \"Topic4\", \"Topic4\", \"Topic4\", \"Topic4\", \"Topic4\", \"Topic4\", \"Topic4\", \"Topic4\", \"Topic4\", \"Topic4\", \"Topic4\", \"Topic4\", \"Topic4\", \"Topic4\", \"Topic4\", \"Topic4\", \"Topic4\", \"Topic4\", \"Topic4\", \"Topic4\", \"Topic4\", \"Topic4\", \"Topic4\", \"Topic4\", \"Topic4\", \"Topic4\", \"Topic4\", \"Topic4\", \"Topic4\", \"Topic4\", \"Topic4\", \"Topic4\", \"Topic4\", \"Topic4\", \"Topic4\", \"Topic4\", \"Topic4\", \"Topic4\", \"Topic4\", \"Topic4\", \"Topic4\", \"Topic4\", \"Topic4\", \"Topic4\", \"Topic4\", \"Topic4\", \"Topic4\", \"Topic4\", \"Topic4\", \"Topic4\", \"Topic4\", \"Topic4\", \"Topic4\", \"Topic4\", \"Topic4\", \"Topic4\", \"Topic4\", \"Topic5\", \"Topic5\", \"Topic5\", \"Topic5\", \"Topic5\", \"Topic5\", \"Topic5\", \"Topic5\", \"Topic5\", \"Topic5\", \"Topic5\", \"Topic5\", \"Topic5\", \"Topic5\", \"Topic5\", \"Topic5\", \"Topic5\", \"Topic5\", \"Topic5\", \"Topic5\", \"Topic5\", \"Topic5\", \"Topic5\", \"Topic5\", \"Topic5\", \"Topic5\", \"Topic5\", \"Topic5\", \"Topic5\", \"Topic5\", \"Topic5\", \"Topic5\", \"Topic5\", \"Topic5\", \"Topic5\", \"Topic5\", \"Topic5\", \"Topic5\", \"Topic5\", \"Topic5\", \"Topic5\", \"Topic5\", \"Topic5\", \"Topic5\", \"Topic5\", \"Topic5\", \"Topic5\", \"Topic5\", \"Topic5\", \"Topic5\", \"Topic5\", \"Topic5\", \"Topic5\", \"Topic5\", \"Topic5\", \"Topic5\", \"Topic5\", \"Topic5\", \"Topic5\", \"Topic5\", \"Topic5\", \"Topic5\", \"Topic5\", \"Topic5\", \"Topic5\", \"Topic5\", \"Topic5\", \"Topic5\", \"Topic5\", \"Topic5\", \"Topic5\", \"Topic5\", \"Topic5\", \"Topic5\", \"Topic5\", \"Topic5\", \"Topic5\", \"Topic5\", \"Topic5\", \"Topic5\", \"Topic5\", \"Topic5\", \"Topic5\", \"Topic5\", \"Topic6\", \"Topic6\", \"Topic6\", \"Topic6\", \"Topic6\", \"Topic6\", \"Topic6\", \"Topic6\", \"Topic6\", \"Topic6\", \"Topic6\", \"Topic6\", \"Topic6\", \"Topic6\", \"Topic6\", \"Topic6\", \"Topic6\", \"Topic6\", \"Topic6\", \"Topic6\", \"Topic6\", \"Topic6\", \"Topic6\", \"Topic6\", \"Topic6\", \"Topic6\", \"Topic6\", \"Topic6\", \"Topic6\", \"Topic6\", \"Topic6\", \"Topic6\", \"Topic6\", \"Topic6\", \"Topic6\", \"Topic6\", \"Topic6\", \"Topic6\", \"Topic6\", \"Topic6\", \"Topic6\", \"Topic6\", \"Topic6\", \"Topic6\", \"Topic6\", \"Topic6\", \"Topic6\", \"Topic6\", \"Topic6\", \"Topic6\", \"Topic6\", \"Topic6\", \"Topic6\", \"Topic6\", \"Topic6\", \"Topic6\", \"Topic6\", \"Topic6\", \"Topic6\", \"Topic6\", \"Topic6\", \"Topic6\", \"Topic6\", \"Topic6\", \"Topic6\", \"Topic6\", \"Topic6\", \"Topic6\", \"Topic6\", \"Topic6\", \"Topic6\", \"Topic6\", \"Topic6\", \"Topic6\", \"Topic6\", \"Topic6\", \"Topic7\", \"Topic7\", \"Topic7\", \"Topic7\", \"Topic7\", \"Topic7\", \"Topic7\", \"Topic7\", \"Topic7\", \"Topic7\", \"Topic7\", \"Topic7\", \"Topic7\", \"Topic7\", \"Topic7\", \"Topic7\", \"Topic7\", \"Topic7\", \"Topic7\", \"Topic7\", \"Topic7\", \"Topic7\", \"Topic7\", \"Topic7\", \"Topic7\", \"Topic7\", \"Topic7\", \"Topic7\", \"Topic7\", \"Topic7\", \"Topic7\", \"Topic7\", \"Topic7\", \"Topic7\", \"Topic7\", \"Topic7\", \"Topic7\", \"Topic7\", \"Topic7\", \"Topic7\", \"Topic7\", \"Topic7\", \"Topic7\", \"Topic7\", \"Topic7\", \"Topic7\", \"Topic7\", \"Topic7\", \"Topic7\", \"Topic7\", \"Topic7\", \"Topic8\", \"Topic8\", \"Topic8\", \"Topic8\", \"Topic8\", \"Topic8\", \"Topic8\", \"Topic8\", \"Topic8\", \"Topic8\", \"Topic8\", \"Topic8\", \"Topic8\", \"Topic8\", \"Topic8\", \"Topic8\", \"Topic8\", \"Topic8\", \"Topic8\", \"Topic8\", \"Topic8\", \"Topic8\", \"Topic8\", \"Topic8\", \"Topic8\", \"Topic8\", \"Topic8\", \"Topic8\", \"Topic8\", \"Topic8\", \"Topic8\", \"Topic8\", \"Topic8\", \"Topic8\", \"Topic8\", \"Topic8\", \"Topic8\", \"Topic8\", \"Topic8\", \"Topic8\", \"Topic8\", \"Topic8\", \"Topic8\", \"Topic8\", \"Topic8\", \"Topic8\", \"Topic8\", \"Topic8\", \"Topic8\", \"Topic8\", \"Topic8\", \"Topic8\", \"Topic8\", \"Topic8\", \"Topic8\", \"Topic8\", \"Topic8\", \"Topic8\", \"Topic8\", \"Topic8\", \"Topic8\", \"Topic8\", \"Topic8\", \"Topic8\", \"Topic8\", \"Topic8\", \"Topic8\", \"Topic9\", \"Topic9\", \"Topic9\", \"Topic9\", \"Topic9\", \"Topic9\", \"Topic9\", \"Topic9\", \"Topic9\", \"Topic9\", \"Topic9\", \"Topic9\", \"Topic9\", \"Topic9\", \"Topic9\", \"Topic9\", \"Topic9\", \"Topic9\", \"Topic9\", \"Topic9\", \"Topic9\", \"Topic9\", \"Topic9\", \"Topic9\", \"Topic9\", \"Topic9\", \"Topic9\", \"Topic9\", \"Topic9\", \"Topic9\", \"Topic9\", \"Topic9\", \"Topic9\", \"Topic9\", \"Topic9\", \"Topic9\", \"Topic9\", \"Topic9\", \"Topic9\", \"Topic9\", \"Topic9\", \"Topic9\", \"Topic9\", \"Topic9\", \"Topic9\", \"Topic9\", \"Topic9\", \"Topic9\", \"Topic9\", \"Topic9\", \"Topic10\", \"Topic10\", \"Topic10\", \"Topic10\", \"Topic10\", \"Topic10\", \"Topic10\", \"Topic10\", \"Topic10\", \"Topic10\", \"Topic10\", \"Topic10\", \"Topic10\", \"Topic10\", \"Topic10\", \"Topic10\", \"Topic10\", \"Topic10\", \"Topic10\", \"Topic10\", \"Topic10\", \"Topic10\", \"Topic10\", \"Topic10\", \"Topic10\", \"Topic10\", \"Topic10\", \"Topic10\", \"Topic10\", \"Topic10\", \"Topic10\", \"Topic10\", \"Topic10\", \"Topic10\", \"Topic10\", \"Topic10\", \"Topic10\", \"Topic10\", \"Topic10\", \"Topic10\", \"Topic10\", \"Topic10\", \"Topic10\", \"Topic10\", \"Topic10\", \"Topic10\", \"Topic10\", \"Topic10\", \"Topic10\", \"Topic10\", \"Topic10\", \"Topic10\", \"Topic10\", \"Topic10\", \"Topic10\", \"Topic10\", \"Topic10\", \"Topic10\", \"Topic10\", \"Topic10\", \"Topic11\", \"Topic11\", \"Topic11\", \"Topic11\", \"Topic11\", \"Topic11\", \"Topic11\", \"Topic11\", \"Topic11\", \"Topic11\", \"Topic11\", \"Topic11\", \"Topic11\", \"Topic11\", \"Topic11\", \"Topic11\", \"Topic11\", \"Topic11\", \"Topic11\", \"Topic11\", \"Topic11\", \"Topic11\", \"Topic11\", \"Topic11\", \"Topic11\", \"Topic11\", \"Topic11\", \"Topic11\", \"Topic11\", \"Topic11\", \"Topic11\", \"Topic11\", \"Topic11\", \"Topic11\", \"Topic11\", \"Topic11\", \"Topic11\", \"Topic11\", \"Topic11\", \"Topic11\", \"Topic11\", \"Topic11\", \"Topic11\", \"Topic11\", \"Topic11\", \"Topic11\", \"Topic11\", \"Topic11\", \"Topic11\", \"Topic11\", \"Topic11\", \"Topic11\", \"Topic11\", \"Topic11\", \"Topic11\", \"Topic11\", \"Topic11\", \"Topic11\", \"Topic11\", \"Topic11\", \"Topic11\", \"Topic11\", \"Topic11\", \"Topic11\", \"Topic11\", \"Topic11\", \"Topic11\", \"Topic11\", \"Topic11\", \"Topic11\", \"Topic11\", \"Topic11\", \"Topic11\", \"Topic11\", \"Topic11\", \"Topic11\", \"Topic12\", \"Topic12\", \"Topic12\", \"Topic12\", \"Topic12\", \"Topic12\", \"Topic12\", \"Topic12\", \"Topic12\", \"Topic12\", \"Topic12\", \"Topic12\", \"Topic12\", \"Topic12\", \"Topic12\", \"Topic12\", \"Topic12\", \"Topic12\", \"Topic12\", \"Topic12\", \"Topic12\", \"Topic12\", \"Topic12\", \"Topic12\", \"Topic12\", \"Topic12\", \"Topic12\", \"Topic12\", \"Topic12\", \"Topic12\", \"Topic12\", \"Topic12\", \"Topic12\", \"Topic12\", \"Topic12\", \"Topic12\", \"Topic12\", \"Topic12\", \"Topic12\", \"Topic12\", \"Topic12\", \"Topic12\", \"Topic12\", \"Topic12\", \"Topic12\", \"Topic12\", \"Topic12\", \"Topic12\", \"Topic12\", \"Topic12\", \"Topic12\", \"Topic12\", \"Topic12\", \"Topic12\", \"Topic12\", \"Topic12\", \"Topic12\", \"Topic12\", \"Topic12\", \"Topic13\", \"Topic13\", \"Topic13\", \"Topic13\", \"Topic13\", \"Topic13\", \"Topic13\", \"Topic13\", \"Topic13\", \"Topic13\", \"Topic13\", \"Topic13\", \"Topic13\", \"Topic13\", \"Topic13\", \"Topic13\", \"Topic13\", \"Topic13\", \"Topic13\", \"Topic13\", \"Topic13\", \"Topic13\", \"Topic13\", \"Topic13\", \"Topic13\", \"Topic13\", \"Topic13\", \"Topic13\", \"Topic13\", \"Topic13\", \"Topic13\", \"Topic13\", \"Topic13\", \"Topic13\", \"Topic13\", \"Topic13\", \"Topic13\", \"Topic13\", \"Topic13\", \"Topic13\", \"Topic13\", \"Topic13\", \"Topic13\", \"Topic13\", \"Topic13\", \"Topic13\", \"Topic13\", \"Topic13\", \"Topic13\", \"Topic13\", \"Topic13\", \"Topic13\", \"Topic13\", \"Topic13\", \"Topic13\", \"Topic13\", \"Topic13\", \"Topic14\", \"Topic14\", \"Topic14\", \"Topic14\", \"Topic14\", \"Topic14\", \"Topic14\", \"Topic14\", \"Topic14\", \"Topic14\", \"Topic14\", \"Topic14\", \"Topic14\", \"Topic14\", \"Topic14\", \"Topic14\", \"Topic14\", \"Topic14\", \"Topic14\", \"Topic14\", \"Topic14\", \"Topic14\", \"Topic14\", \"Topic14\", \"Topic14\", \"Topic14\", \"Topic14\", \"Topic14\", \"Topic14\", \"Topic14\", \"Topic14\", \"Topic14\", \"Topic14\", \"Topic14\", \"Topic14\", \"Topic14\", \"Topic14\", \"Topic14\", \"Topic14\", \"Topic14\", \"Topic14\", \"Topic14\", \"Topic14\", \"Topic14\", \"Topic14\", \"Topic14\", \"Topic14\", \"Topic14\", \"Topic14\", \"Topic14\", \"Topic14\", \"Topic14\", \"Topic14\", \"Topic14\", \"Topic14\", \"Topic14\", \"Topic14\", \"Topic14\", \"Topic14\", \"Topic14\", \"Topic14\", \"Topic14\", \"Topic14\", \"Topic15\", \"Topic15\", \"Topic15\", \"Topic15\", \"Topic15\", \"Topic15\", \"Topic15\", \"Topic15\", \"Topic15\", \"Topic15\", \"Topic15\", \"Topic15\", \"Topic15\", \"Topic15\", \"Topic15\", \"Topic15\", \"Topic15\", \"Topic15\", \"Topic15\", \"Topic15\", \"Topic15\", \"Topic15\", \"Topic15\", \"Topic15\", \"Topic15\", \"Topic15\", \"Topic15\", \"Topic15\", \"Topic15\", \"Topic15\", \"Topic15\", \"Topic15\", \"Topic15\", \"Topic15\", \"Topic15\", \"Topic15\", \"Topic15\", \"Topic15\", \"Topic15\", \"Topic15\", \"Topic15\", \"Topic15\", \"Topic15\", \"Topic15\", \"Topic15\", \"Topic15\", \"Topic15\", \"Topic15\", \"Topic15\", \"Topic15\", \"Topic15\", \"Topic15\", \"Topic15\", \"Topic15\", \"Topic15\", \"Topic15\", \"Topic15\", \"Topic15\", \"Topic15\", \"Topic15\", \"Topic15\"], \"Freq\": [12981.0, 79291.0, 22276.0, 22994.0, 30826.0, 17530.0, 21280.0, 9622.0, 10636.0, 25629.0, 24870.0, 9924.0, 36354.0, 13079.0, 17998.0, 32815.0, 24641.0, 15798.0, 29319.0, 17656.0, 7670.0, 26193.0, 7219.0, 16215.0, 8492.0, 6213.0, 27448.0, 18798.0, 8036.0, 17219.0, 1732.5819091796875, 1735.599365234375, 1556.1192626953125, 1515.7216796875, 1344.1585693359375, 1279.33203125, 1223.4373779296875, 920.2619018554688, 820.5107421875, 816.8729858398438, 809.1541137695312, 719.5424194335938, 709.8342895507812, 703.1272583007812, 692.3116455078125, 681.5504150390625, 659.3599853515625, 617.2063598632812, 587.1519775390625, 569.3838500976562, 557.7460327148438, 417.86138916015625, 398.3237609863281, 394.8847961425781, 318.06890869140625, 300.9413757324219, 280.90863037109375, 264.7425537109375, 243.64498901367188, 242.1385040283203, 2852.7607421875, 4963.53759765625, 2602.2451171875, 2945.049560546875, 853.3885498046875, 3218.726806640625, 3139.08544921875, 3821.200439453125, 1913.5643310546875, 998.0176391601562, 6159.49072265625, 3120.1015625, 2072.78076171875, 3474.066162109375, 1547.48681640625, 4146.3125, 4546.1328125, 2331.438232421875, 6867.7548828125, 2305.416259765625, 3880.674072265625, 4015.659912109375, 1116.9727783203125, 7326.95849609375, 2282.769775390625, 4570.84423828125, 4774.7041015625, 7614.54052734375, 4343.23681640625, 4172.0849609375, 3111.722900390625, 3820.421630859375, 3698.69873046875, 2786.08349609375, 2645.731201171875, 3341.93994140625, 2921.072998046875, 2653.8828125, 2722.5556640625, 2613.68798828125, 1969.65283203125, 1064.762939453125, 1042.0572509765625, 1023.12744140625, 1013.5872192382812, 1086.5240478515625, 968.4606323242188, 946.7803955078125, 803.7697143554688, 658.4689331054688, 657.556396484375, 456.6247253417969, 366.8429260253906, 364.89739990234375, 296.861572265625, 1730.79296875, 271.17047119140625, 257.20697021484375, 250.02574157714844, 241.15975952148438, 231.0538330078125, 199.8540802001953, 198.1629180908203, 194.87841796875, 241.25587463378906, 187.5662841796875, 175.8099365234375, 190.27366638183594, 172.52386474609375, 170.135498046875, 1982.0654296875, 1006.8274536132812, 390.2823486328125, 317.90618896484375, 4515.05859375, 279.64434814453125, 2679.326416015625, 1185.498291015625, 1209.6396484375, 1069.40771484375, 305.7586669921875, 2077.592041015625, 402.77099609375, 426.4205017089844, 7332.32470703125, 1350.68505859375, 6721.24267578125, 2570.814697265625, 783.1763916015625, 5673.8818359375, 2331.741455078125, 861.00390625, 1545.4013671875, 4523.3505859375, 1956.4891357421875, 1071.82275390625, 7567.3857421875, 10853.6376953125, 2603.71337890625, 8610.2255859375, 8276.2626953125, 2463.384033203125, 13797.2294921875, 5015.12109375, 2556.912841796875, 1713.3758544921875, 4868.16162109375, 2923.9287109375, 5591.4365234375, 5842.09033203125, 3848.936279296875, 4585.12158203125, 2204.99267578125, 2331.52734375, 3103.915283203125, 3875.26611328125, 2786.332763671875, 2562.488525390625, 2638.3984375, 2495.968505859375, 2276.484130859375, 1645.93017578125, 1405.0115966796875, 1305.709228515625, 1235.345703125, 868.0634155273438, 612.8944702148438, 545.6152954101562, 411.2929382324219, 396.3861389160156, 392.9605712890625, 373.3967590332031, 352.43060302734375, 264.0369567871094, 237.00927734375, 226.66139221191406, 211.55325317382812, 210.9171905517578, 223.33152770996094, 199.0225372314453, 198.6004638671875, 192.38433837890625, 198.67445373535156, 239.37274169921875, 182.91912841796875, 178.1567840576172, 225.6091766357422, 263.9383239746094, 167.01368713378906, 163.92318725585938, 411.17962646484375, 296.11883544921875, 513.3470458984375, 3403.125732421875, 1494.391357421875, 607.2073974609375, 790.6306762695312, 536.9359741210938, 1219.2591552734375, 273.55401611328125, 537.5946044921875, 291.9773254394531, 292.1274108886719, 1197.471923828125, 1265.6763916015625, 866.407958984375, 317.6310119628906, 1916.5279541015625, 1807.4364013671875, 929.5379638671875, 409.55511474609375, 713.3993530273438, 485.0660095214844, 1357.833740234375, 5327.029296875, 1565.5255126953125, 1886.91455078125, 2003.111572265625, 1092.8250732421875, 1547.6298828125, 2231.578125, 1661.2967529296875, 1441.7030029296875, 1078.926025390625, 1307.6436767578125, 1534.8365478515625, 2413.026611328125, 1608.8829345703125, 3366.058349609375, 2133.794189453125, 2601.6689453125, 1610.555419921875, 1898.7998046875, 1381.7498779296875, 1649.3048095703125, 3727.239501953125, 2534.078857421875, 2029.200927734375, 1788.0692138671875, 1913.7550048828125, 1695.417236328125, 1790.3006591796875, 1586.020751953125, 824.958984375, 793.0126342773438, 593.7052001953125, 593.194580078125, 479.0978088378906, 432.40032958984375, 424.4853515625, 392.18719482421875, 384.6919250488281, 380.54107666015625, 372.8645324707031, 372.3932189941406, 349.9588317871094, 415.1445617675781, 338.3330383300781, 333.24359130859375, 333.3073425292969, 329.130859375, 329.270263671875, 313.36541748046875, 299.70733642578125, 296.0911560058594, 294.1298828125, 277.71722412109375, 266.96978759765625, 266.7208557128906, 264.5408630371094, 263.3798828125, 262.21923828125, 262.0115661621094, 262.0115661621094, 789.0264282226562, 352.12933349609375, 505.6542053222656, 469.66058349609375, 1673.8209228515625, 1789.5965576171875, 476.447021484375, 1945.294677734375, 5552.78662109375, 973.8218383789062, 546.2006225585938, 491.5979919433594, 739.587158203125, 4504.05615234375, 1388.407470703125, 3415.8291015625, 1293.7457275390625, 954.18408203125, 3497.860595703125, 1362.419921875, 4618.51806640625, 813.1156005859375, 1182.857421875, 1348.065185546875, 1547.327880859375, 1909.4329833984375, 2925.36669921875, 8934.8193359375, 3645.78857421875, 2027.612060546875, 2519.419189453125, 932.9825439453125, 1358.10302734375, 3393.481201171875, 1588.5509033203125, 1697.33984375, 2276.9296875, 1728.3155517578125, 2714.863525390625, 1872.5989990234375, 1826.6414794921875, 2577.94189453125, 1898.5911865234375, 1727.30322265625, 1992.56103515625, 1980.8642578125, 1778.33740234375, 1660.800048828125, 1597.5562744140625, 1890.1385498046875, 1303.1495361328125, 1178.1768798828125, 726.7822265625, 790.993896484375, 646.7027587890625, 631.002685546875, 394.8958435058594, 316.24786376953125, 298.1982116699219, 271.9315490722656, 244.58995056152344, 240.0462188720703, 172.27944946289062, 144.5211944580078, 143.28419494628906, 137.46615600585938, 181.4648895263672, 128.0179443359375, 126.38463592529297, 126.24622344970703, 117.09136199951172, 114.78385925292969, 110.02471160888672, 109.0199966430664, 107.37565612792969, 105.35350799560547, 104.25112915039062, 101.66191101074219, 101.16996765136719, 371.5071716308594, 726.21435546875, 234.5795440673828, 304.439697265625, 987.8140869140625, 348.96759033203125, 1981.25830078125, 320.0506896972656, 1629.805419921875, 299.6968688964844, 218.48162841796875, 216.07098388671875, 694.5553588867188, 1708.4444580078125, 1427.1832275390625, 1136.4896240234375, 7399.2490234375, 1999.6102294921875, 22754.333984375, 1257.185302734375, 719.064697265625, 901.211181640625, 6795.333984375, 1530.4425048828125, 3061.539794921875, 2133.312744140625, 4355.15673828125, 3579.77734375, 6631.7880859375, 1608.963623046875, 1164.7236328125, 5480.53662109375, 4383.5400390625, 3090.103515625, 1560.7891845703125, 5158.61669921875, 4568.41943359375, 3301.4453125, 2576.4814453125, 3373.866943359375, 3708.85302734375, 3764.15380859375, 2967.98486328125, 2396.421875, 2906.207763671875, 2444.0205078125, 2441.724853515625, 2588.944091796875, 2451.34228515625, 2387.106689453125, 2238.38916015625, 2210.093017578125, 2120.15283203125, 2053.3798828125, 1108.1767578125, 882.0828857421875, 10633.55078125, 672.10693359375, 669.3981323242188, 495.2400207519531, 466.74322509765625, 298.9683532714844, 267.6224060058594, 226.3602752685547, 207.747314453125, 184.3624725341797, 178.4555206298828, 172.80609130859375, 1641.1832275390625, 137.81568908691406, 131.18649291992188, 130.48338317871094, 169.15158081054688, 110.93771362304688, 110.80897521972656, 104.04572296142578, 88.12804412841797, 74.23062896728516, 71.43029022216797, 70.78196716308594, 70.71073150634766, 70.67884063720703, 68.75750732421875, 68.0853042602539, 152.2385711669922, 596.1116333007812, 188.33639526367188, 78.52344512939453, 763.5307006835938, 14657.3466796875, 476.6097717285156, 16365.8837890625, 6884.51806640625, 10599.8955078125, 15767.0341796875, 11547.048828125, 534.8369750976562, 1181.4586181640625, 17846.908203125, 2196.2265625, 13041.1572265625, 2485.13037109375, 8654.6240234375, 1696.467041015625, 1745.3560791015625, 1800.3057861328125, 2522.15966796875, 537.4740600585938, 3191.720947265625, 7381.2724609375, 4774.00927734375, 4561.2607421875, 9907.9755859375, 4039.321533203125, 3937.87158203125, 3545.309326171875, 3482.626953125, 4785.98876953125, 3169.170654296875, 5152.65087890625, 3778.525390625, 3069.598876953125, 3358.037109375, 3557.788330078125, 3201.21630859375, 2764.861572265625, 3187.173583984375, 2856.52001953125, 2789.861328125, 2799.365478515625, 5014.939453125, 4503.095703125, 3723.456298828125, 3042.451171875, 2740.00732421875, 2564.863037109375, 2513.68359375, 2449.728515625, 2387.239013671875, 2285.64404296875, 2286.55908203125, 2285.239990234375, 2284.756591796875, 2283.907470703125, 2283.485595703125, 2284.54931640625, 2283.907470703125, 2229.531982421875, 2186.5419921875, 2088.260986328125, 1980.90478515625, 1863.3687744140625, 1860.021240234375, 1818.1634521484375, 1706.9974365234375, 1696.5791015625, 1662.494140625, 1621.52392578125, 1568.0162353515625, 1536.294677734375, 2664.019287109375, 9734.0791015625, 2538.317138671875, 4406.7021484375, 2565.58544921875, 2324.5224609375, 4341.1162109375, 2231.401611328125, 4476.31103515625, 3720.181396484375, 2919.255615234375, 4020.86328125, 2745.108642578125, 5164.15673828125, 3947.5693359375, 3586.83154296875, 2685.906982421875, 2523.976318359375, 2426.1005859375, 2355.6953125, 2294.707275390625, 3739.803955078125, 1869.2877197265625, 1793.4658203125, 1415.41162109375, 1170.234375, 1158.615234375, 1074.15185546875, 1038.605224609375, 897.8283081054688, 861.2139892578125, 861.0869140625, 859.0462036132812, 843.0637817382812, 774.8070678710938, 765.9913940429688, 751.5112915039062, 751.5112915039062, 750.2935180664062, 748.948974609375, 734.9320068359375, 733.4632568359375, 722.6815795898438, 715.1019287109375, 714.5491943359375, 712.7177124023438, 712.8073120117188, 711.1194458007812, 708.2036743164062, 787.2677001953125, 683.8189697265625, 725.3197021484375, 1546.0419921875, 2393.4765625, 2824.53955078125, 1601.5091552734375, 803.1538696289062, 2350.398193359375, 2875.3896484375, 1186.9683837890625, 2330.35498046875, 2098.52490234375, 9029.6748046875, 2351.407958984375, 5264.841796875, 4644.708984375, 3497.6259765625, 1124.296630859375, 2620.090576171875, 6214.3046875, 2067.044677734375, 5578.49609375, 9780.345703125, 1288.916748046875, 3059.99072265625, 5429.10107421875, 2601.529541015625, 3928.361083984375, 3319.580810546875, 2078.20166015625, 2866.0634765625, 1758.370361328125, 2077.861572265625, 1952.279541015625, 2112.51953125, 2056.47265625, 2011.844970703125, 2046.5423583984375, 1274.5206298828125, 1252.3446044921875, 1250.856689453125, 1237.137451171875, 1232.085205078125, 1219.6641845703125, 1179.6536865234375, 1157.111328125, 1201.6820068359375, 1154.4017333984375, 1147.958740234375, 1147.9857177734375, 1143.6470947265625, 1141.907470703125, 1121.0330810546875, 1088.4859619140625, 1075.6556396484375, 1020.6762084960938, 1014.5850830078125, 992.6449584960938, 990.4857788085938, 975.8953247070312, 976.6115112304688, 937.662109375, 938.5057983398438, 910.2671508789062, 910.2666015625, 888.0545654296875, 800.081298828125, 767.2720336914062, 1035.1895751953125, 3048.669189453125, 1593.94384765625, 3802.402099609375, 2847.204833984375, 3501.9794921875, 4218.6484375, 2428.333984375, 1361.70654296875, 1518.3878173828125, 1655.8570556640625, 1644.831787109375, 1660.516845703125, 1588.2149658203125, 1644.8629150390625, 1557.2730712890625, 1486.0042724609375, 1395.2001953125, 1189.6048583984375, 1175.42138671875, 1696.8402099609375, 1609.91748046875, 1548.7529296875, 1425.6673583984375, 1386.367431640625, 1243.366455078125, 937.717529296875, 853.2467041015625, 752.259765625, 731.5651245117188, 611.0151977539062, 586.2000122070312, 567.1039428710938, 562.4428100585938, 559.7096557617188, 557.216796875, 556.8200073242188, 555.041748046875, 546.0435791015625, 538.5486450195312, 532.5390625, 524.5536499023438, 504.2661437988281, 456.6149597167969, 585.6921997070312, 428.232421875, 426.6980895996094, 390.18646240234375, 359.0317077636719, 358.7420349121094, 776.2321166992188, 507.0732727050781, 2640.33203125, 3336.510986328125, 1026.7979736328125, 842.0762939453125, 1095.7921142578125, 2509.734375, 2385.880615234375, 3184.455078125, 2178.46337890625, 4418.25146484375, 719.7011108398438, 1997.59619140625, 1080.88525390625, 2479.9951171875, 925.0581665039062, 1908.0225830078125, 1029.962158203125, 1499.995849609375, 1847.6456298828125, 1500.3192138671875, 1747.125, 1486.474609375, 1415.031982421875, 1244.0806884765625, 1123.8013916015625, 1205.8214111328125, 1084.24365234375, 1054.70263671875, 3590.305908203125, 797.9589233398438, 670.3650512695312, 586.2952270507812, 559.6957397460938, 427.6640930175781, 312.2961730957031, 309.8027038574219, 289.2244873046875, 287.21044921875, 252.61849975585938, 245.72520446777344, 212.8500213623047, 210.66549682617188, 195.4898223876953, 187.47769165039062, 161.67913818359375, 159.8658905029297, 135.65225219726562, 136.11351013183594, 132.1378631591797, 132.11761474609375, 126.32733917236328, 121.3597412109375, 116.29263305664062, 114.87078094482422, 113.9738998413086, 113.81855773925781, 113.43392181396484, 113.03347778320312, 812.4222412109375, 181.2820281982422, 812.894775390625, 353.79266357421875, 147.27346801757812, 242.2074432373047, 633.731689453125, 597.793212890625, 589.9453735351562, 1911.8082275390625, 269.2032775878906, 190.673583984375, 579.3775024414062, 583.2756958007812, 1568.3880615234375, 6211.68994140625, 1420.01513671875, 562.3600463867188, 3287.204345703125, 1597.4185791015625, 335.8445129394531, 508.5513916015625, 685.2432250976562, 929.1425170898438, 3124.23193359375, 2734.693359375, 2829.307373046875, 4624.72607421875, 1364.5213623046875, 2732.963623046875, 2152.856201171875, 1375.0748291015625, 1325.547119140625, 1394.768798828125, 1185.914794921875, 1155.9422607421875, 1540.75732421875, 1494.032958984375, 1182.9022216796875, 1229.260986328125, 993.7499389648438, 996.4664306640625, 1087.4788818359375, 954.8692016601562, 988.6181640625, 988.8379516601562, 3213.078857421875, 2952.904296875, 2077.6767578125, 2046.80615234375, 1356.0789794921875, 1212.6654052734375, 1162.4683837890625, 972.3294067382812, 847.4463500976562, 646.781005859375, 603.1472778320312, 588.1821899414062, 540.0577392578125, 495.539306640625, 490.709228515625, 487.6225280761719, 483.8589782714844, 457.3163757324219, 429.03912353515625, 415.5655212402344, 397.47216796875, 388.3596496582031, 370.64227294921875, 360.4243469238281, 322.18841552734375, 312.4134826660156, 301.1706237792969, 292.10302734375, 274.69244384765625, 252.316162109375, 2386.85546875, 2513.443115234375, 1989.6473388671875, 2004.977294921875, 1489.12451171875, 606.7353515625, 920.7819213867188, 801.2261352539062, 1580.852783203125, 7755.60595703125, 733.8389282226562, 505.68310546875, 2504.705322265625, 2661.3408203125, 2537.782958984375, 615.2909545898438, 1542.6131591796875, 959.4114990234375, 755.9284057617188, 1997.4449462890625, 2311.07421875, 1271.4827880859375, 1288.449462890625, 1041.128173828125, 1213.5399169921875, 978.921875, 1106.2681884765625, 972.940185546875, 996.5016479492188, 3469.532470703125, 1457.481201171875, 1344.497314453125, 1318.3287353515625, 1256.3338623046875, 1235.0877685546875, 1213.583984375, 1018.78955078125, 1015.5499877929688, 1006.1489868164062, 1002.010986328125, 999.9724731445312, 979.9795532226562, 953.8665771484375, 644.1640625, 634.408935546875, 633.442626953125, 627.3583984375, 616.2889404296875, 606.7632446289062, 470.9480285644531, 388.0686950683594, 379.631103515625, 373.7938232421875, 368.6217956542969, 366.60479736328125, 350.3041076660156, 342.7961730957031, 323.9910583496094, 226.90359497070312, 445.5392150878906, 829.8030395507812, 6346.90576171875, 4401.923828125, 847.3493041992188, 471.3453674316406, 1308.2022705078125, 825.0492553710938, 1916.4461669921875, 1298.010986328125, 987.0142822265625, 777.2355346679688, 1341.7255859375, 1846.0084228515625, 1536.46875, 1780.8114013671875, 2768.572509765625, 908.076416015625, 1917.8238525390625, 2016.8681640625, 1265.923583984375, 1291.602294921875, 1288.162109375, 1296.8035888671875, 1218.5185546875, 1226.3026123046875, 1106.3026123046875, 1120.9664306640625, 1085.7969970703125, 1025.7529296875, 1016.8096313476562, 995.5481567382812, 877.422607421875, 803.4327392578125, 723.3861083984375, 635.2568359375, 562.5743408203125, 553.113525390625, 552.5795288085938, 551.004150390625, 546.9973754882812, 541.8814697265625, 541.8814697265625, 541.8814697265625, 541.8814697265625, 541.7440185546875, 514.3590698242188, 304.6736755371094, 296.6815490722656, 260.9538879394531, 230.60142517089844, 267.6038513183594, 217.74745178222656, 200.27622985839844, 180.46632385253906, 179.60125732421875, 169.7834014892578, 178.986328125, 11633.94921875, 1108.04736328125, 584.9995727539062, 433.8247375488281, 3214.230712890625, 1019.6404418945312, 447.169189453125, 600.1215209960938, 2882.52685546875, 540.1231689453125, 760.0863037109375, 1007.8036499023438, 1746.52197265625, 2297.939697265625, 2935.11279296875, 1188.0775146484375, 2245.02734375, 1046.8662109375, 1872.0574951171875, 1420.64404296875, 938.2697143554688, 1413.52880859375, 1302.714599609375, 702.9220581054688, 881.189208984375, 1383.157958984375, 1134.841796875, 877.6887817382812, 866.404296875, 885.0142211914062, 972.41552734375, 869.0990600585938, 1872.0198974609375, 1342.2529296875, 1001.4100341796875, 833.3515625, 754.9146728515625, 622.1986694335938, 567.0228881835938, 540.3176879882812, 498.46697998046875, 462.4906005859375, 416.738525390625, 407.4051208496094, 357.6238098144531, 309.0805358886719, 276.2771301269531, 275.1566162109375, 270.99383544921875, 270.6317443847656, 261.99053955078125, 261.6172790527344, 257.1112060546875, 253.59701538085938, 245.03660583496094, 237.23654174804688, 236.75033569335938, 224.59449768066406, 224.3983917236328, 212.9912567138672, 211.89976501464844, 197.73089599609375, 1633.5654296875, 272.1308288574219, 1630.7218017578125, 1996.27880859375, 1686.6175537109375, 1783.475341796875, 347.3128967285156, 476.6401672363281, 1116.4373779296875, 2565.332763671875, 353.4151306152344, 590.3499145507812, 369.53497314453125, 1345.083984375, 652.149658203125, 1242.9879150390625, 1029.2044677734375, 1114.3681640625, 446.1639099121094, 1416.1751708984375, 772.3888549804688, 1046.1309814453125, 917.770263671875, 796.8684692382812, 741.4254150390625, 680.7545166015625, 665.4469604492188, 565.2659301757812, 588.69140625, 570.8759155273438, 576.3621215820312], \"Term\": [\"environnement\", \"relations_entre\", \"maire\", \"dossier\", \"avis\", \"inform\\u00e9\", \"adress\\u00e9e\", \"sant\\u00e9_publique\", \"d\\u00e9clarer_sans\", \"toute_personne\", \"r\\u00e9ponse\", \"march\\u00e9\", \"communicables\", \"commune\", \"pr\\u00e9sent_avis\", \"articles\", \"objet\", \"courrier\", \"droit\", \"personne\", \"conseil_municipal\", \"dispositions\", \"sant\\u00e9\", \"ma\\u00eetre\", \"g\\u00e9n\\u00e9ral_collectivit\\u00e9s\", \"d\\u00e9lib\\u00e9ration\", \"fait\", \"service\", \"territoriales\", \"demandeur\", \"nomm\\u00e9ment_d\\u00e9sign\\u00e9e\", \"comportement_divulgation\", \"facilement_identifiable\", \"portant_appr\\u00e9ciation\", \"secteur_activit\\u00e9\", \"commande_publique\", \"feraient_appara\\u00eetre\", \"publication_ligne\", \"intervenant\", \"\\u00e9galement_regard\\u00e9e\", \"silence_loi\", \"familles\", \"aide_sociale\", \"services_aide\", \"font_appara\\u00eetre\", \"juge_enfants\", \"mention_couverte\", \"listes_\\u00e9lectorales\", \"signalement\", \"sociale_enfance\", \"enfance\", \"alimentation\", \"\\u00e9lectoral\", \"portent_appr\\u00e9ciation\", \"intercommunal\", \"rendre_impossible\", \"autre_parent\", \"ceux_\\u00e9labor\\u00e9s\", \"tout_\\u00e9lecteur\", \"va_particulier\", \"personne_physique\", \"pr\\u00e9judice\", \"jugement_valeur\", \"divulgation_comportement\", \"divulgation_pourrait\", \"protection_vie\", \"comportement\", \"pourrait_porter\", \"secret_vie\", \"action_sociale\", \"mentions\", \"conseil_d\\u00e9partemental\", \"faisant_appara\\u00eetre\", \"vie_priv\\u00e9e\", \"porter_pr\\u00e9judice\", \"porterait_atteinte\", \"priv\\u00e9e\", \"apr\\u00e8s_occultation\", \"personne\", \"agents\", \"tiers\", \"sous_r\\u00e9serves\", \"r\\u00e9sulte_d\\u00e9cision\", \"communicables\", \"occultation\", \"communicable\", \"estime\", \"relations_entre\", \"conseil\", \"sous_r\\u00e9serve\", \"consid\\u00e8re\", \"fait\", \"administratifs\", \"pr\\u00e9sident\", \"cas_\\u00e9ch\\u00e9ant\", \"dispositions\", \"service\", \"agissant\", \"articles\", \"\\u00e9met_donc\", \"budgets_comptes\", \"droits_information\", \"tirent_qualit\\u00e9\", \"tout_membre\", \"cadre_fonction\", \"ouvert_toute\", \"territoriales_dispose\", \"commune_font\", \"subvention\", \"charge_frais\", \"actes_assembl\\u00e9es\", \"jug\\u00e9_d\\u00e9cision\", \"re\\u00e7u_subvention\", \"caisse_allocations\", \"\\u00e9tablissements_enseignement\", \"arr\\u00eat\\u00e9s_municipaux\", \"grand_livre\", \"lotissement\", \"budget_primitif\", \"financier_subvention\", \"budget_principal\", \"budg\\u00e9taires\", \"cada_septembre\", \"convention_conclue\", \"avocat_client\", \"pr\\u00e9voit_budget\", \"cat\\u00e9gorie_b\", \"rapport_direct\", \"acte_notari\\u00e9\", \"doivent_communiqu\\u00e9s\", \"exercice_mandat\", \"r\\u00e9pondre_demandes\", \"domaine_priv\\u00e9\", \"exercices\", \"d\\u00e9lib\\u00e9rations\", \"comptes_annuels\", \"comptes\", \"conseillers_municipaux\", \"pr\\u00e9valoir\", \"indemnit\\u00e9\", \"physique_morale\", \"annex\\u00e9es\", \"municipale\", \"facture\", \"g\\u00e9n\\u00e9ral_collectivit\\u00e9s\", \"factures\", \"territoriales\", \"demander\", \"budget\", \"conseil_municipal\", \"pr\\u00e9sident_communaut\\u00e9\", \"m\\u00e9tropole\", \"textes_particuliers\", \"d\\u00e9lib\\u00e9ration\", \"convention\", \"municipal\", \"commune\", \"toute_personne\", \"titre_liminaire\", \"maire\", \"fait\", \"r\\u00e9sulte\", \"relations_entre\", \"point\", \"compte\", \"comp\\u00e9tente_prononcer\", \"\\u00e9met_donc\", \"points\", \"droit\", \"communicables\", \"suivants\", \"estime\", \"ensemble_pi\\u00e8ces\", \"pr\\u00e9vues\", \"absence_r\\u00e9ponse\", \"administratifs\", \"agissant\", \"copie\", \"articles\", \"concernant\", \"patrimoine\", \"strat\\u00e9gie_commerciale\", \"entre_op\\u00e9rateurs\", \"d\\u00e9tail_quantitatif\", \"archives\", \"archives_publiques\", \"d\\u00e9rogation_d\\u00e9lais\", \"fix\\u00e9s\", \"secret_proc\\u00e9d\\u00e9s\", \"ans_compter\", \"gestion_fonction\", \"assistance_paris\", \"\\u00e9conomiques_financi\\u00e8res\", \"d\\u00e9lai_ans\", \"avant_expiration\", \"conserv\\u00e9s_archives\", \"comportent_donn\\u00e9es\", \"publier\", \"repris\", \"sous_cote\", \"strat\\u00e9gie\", \"n\\u00e9gociations\", \"nationales\", \"mod\\u00e8le\", \"objets\", \"orange\", \"scientifique\", \"archives_d\\u00e9partementales\", \"op\\u00e9rateurs\", \"d\\u00e9penses_recettes\", \"conservation\", \"licence\", \"ans\", \"donn\\u00e9es\", \"autorit\\u00e9s_mentionn\\u00e9es\", \"d\\u00e9rogation\", \"mentionn\\u00e9_point\", \"enseignement_sup\\u00e9rieur\", \"sans_besoin\", \"institut_national\", \"diffusion\", \"fixe\", \"cat\\u00e9gories\", \"recherche\", \"d\\u00e9fense_nationale\", \"ligne\", \"propri\\u00e9t\\u00e9_intellectuelle\", \"nombre\", \"peuvent\", \"usage\", \"obligations\", \"moyens\", \"politique\", \"traitement\", \"informations\", \"ni\", \"i\", \"tout\", \"regard\", \"elles\", \"secret\", \"protection\", \"d\\u00e9cret\", \"france\", \"modalit\\u00e9s\", \"toute\", \"rel\\u00e8ve\", \"selon\", \"dispositions\", \"titre\", \"notamment\", \"conditions\", \"sans\", \"information\", \"relatives\", \"relations_entre\", \"objet\", \"\\u00e9tat\", \"\\u00e9galement\", \"loi\", \"date\", \"articles\", \"demandeur\", \"isolement\", \"proc\\u00e9dure_juridictionnelle\", \"pr\\u00e9paratoires_d\\u00e9cision\", \"atteinte_d\\u00e9roulement\", \"titre_s\\u00e9jour\", \"leurs_groupements\", \"transmis_procureur\", \"urgence\", \"seule_circonstance\", \"proc\\u00e9dure_p\\u00e9nale\", \"concernent_exercice\", \"administratif_entrent\", \"pr\\u00e9paratoire_exclu\", \"p\\u00e9titionnaire\", \"pr\\u00e9paratoire_d\\u00e9cision\", \"nature_civile\", \"p\\u00e9nale_commerciale\", \"inscrivent_processus\", \"placement_judiciaire\", \"juridictions_ordre\", \"dossiers_instruction\", \"plus_largement\", \"affaires_formation\", \"lettre_recommand\\u00e9e\", \"audition_rapports\", \"aviation_civile\", \"d\\u00e9cisions_parquet\", \"mises_cause\", \"proc\\u00e9dure_proprement\", \"observations_parties\", \"expertise_m\\u00e9moires\", \"r\\u00e9publique\", \"document_achev\\u00e9\", \"aussi_longtemps\", \"constat\", \"d\\u00e9cision_administrative\", \"pr\\u00e9paratoire\", \"perdu_caract\\u00e8re\", \"judiciaire\", \"s\\u00e9curit\\u00e9\", \"visa\", \"application_quatri\\u00e8me\", \"visite\", \"nature_porter\", \"rapport\", \"instruction\", \"publique\", \"caract\\u00e8re_pr\\u00e9paratoire\", \"affaires_\\u00e9trang\\u00e8res\", \"d\\u00e9cision\", \"rev\\u00eatent_caract\\u00e8re\", \"document\", \"pr\\u00e9sentent_caract\\u00e8re\", \"exception\", \"administrative\", \"pr\\u00e9fet\", \"proc\\u00e9dure\", \"suite\", \"relations_entre\", \"communicable\", \"administratif\", \"personnes\", \"\\u00e9tude\", \"contr\\u00f4le\", \"conseil\", \"document_administratif\", \"porterait_atteinte\", \"cadre\", \"fondement\", \"dossier\", \"sens\", \"donc\", \"estime\", \"consid\\u00e8re\", \"esp\\u00e8ce\", \"dispositions\", \"fait\", \"sous_r\\u00e9serve\", \"administratifs\", \"articles\", \"proc\\u00e9dure_disciplinaire\", \"assembl\\u00e9es_parlementaires\", \"regard_respect\", \"statutaires\", \"dispositions_sp\\u00e9ciales\", \"relative_fonctionnement\", \"int\\u00e9ress\\u00e9_librement\", \"communes_membres\", \"dispose_aucune\", \"loire\", \"compte_r\\u00e9sultat\", \"sdis\", \"dossier_fiscal\", \"tableau_avancement\", \"acquis_forme\", \"remplacement\", \"certificat_urbanisme\", \"affaires_sociales\", \"tels_exclus\", \"mise_recouvrement\", \"sein_h\\u00f4pital\", \"partenariat\", \"li\\u00e9\", \"martinique\", \"metz\", \"grille\", \"d\\u00e9tenu_h\\u00f4pital\", \"r\\u00e9gularisation\", \"homme\", \"cong\\u00e9_longue\", \"cap\", \"d\\u00e9clarer_irrecevable\", \"ressources_humaines\", \"g\\u00e9n\\u00e9ral_agence\", \"accompagn\\u00e9e_pr\\u00e9sent\", \"agent_concern\\u00e9\", \"ministre_int\\u00e9rieur\", \"recteur_acad\\u00e9mie\", \"poste\", \"mutation\", \"donne_comp\\u00e9tence\", \"yvelines\", \"comp\\u00e9tente_interpr\\u00e9ter\", \"transmettre\", \"alin\\u00e9a\", \"irrecevable\", \"point\", \"prend_note\", \"relations_entre\", \"possession\", \"sollicit\\u00e9s_existent\", \"usage_courant\", \"\\u00e9met_donc\", \"existe\", \"points\", \"directeur_g\\u00e9n\\u00e9ral\", \"absence_r\\u00e9ponse\", \"int\\u00e9ress\\u00e9\", \"estime\", \"cours\", \"courant\", \"administratifs\", \"concernant\", \"oppos\\u00e9_directeur\", \"directeur\", \"communicables\", \"avis\", \"suivants\", \"avril\", \"copie\", \"r\\u00e9ponse\", \"fait\", \"document\", \"suite\", \"adress\\u00e9e\", \"agissant\", \"sollicit\\u00e9s\", \"sous_r\\u00e9serve\", \"pr\\u00e9sent_avis\", \"dossier\", \"ma\\u00eetre\", \"articles\", \"communicable\", \"conseil\", \"pr\\u00e9sident_universit\\u00e9\", \"pr\\u00e9fet_police\", \"d\\u00e9clarer_sans\", \"d\\u00e9but_fin\", \"primaire_assurance\", \"cpam\", \"nationalit\\u00e9_fran\\u00e7aise\", \"primaire\", \"alg\\u00e9rie\", \"certificat_nationalit\\u00e9\", \"proc\\u00e9dure_suivie\", \"urssaf\", \"stationnement\", \"r\\u00e9unie\", \"caisse_primaire\", \"pu_retrouv\\u00e9s\", \"fiche_individuelle\", \"titre_iv\", \"devenue_sans\", \"feuille\", \"convocations_adress\\u00e9es\", \"aff\\u00e9rente\", \"retir\\u00e9\", \"amiens\", \"ca\", \"moyens_mat\\u00e9riels\", \"immeuble_sis\", \"contrat_location\", \"scp\", \"signatures\", \"recherches_effectu\\u00e9es\", \"accident_travail\", \"vaucluse\", \"arrondissement_paris\", \"centre_p\\u00e9nitentiaire\", \"inform\\u00e9\", \"strasbourg\", \"adress\\u00e9e\", \"transmis\", \"courrier\", \"r\\u00e9ponse\", \"pr\\u00e9sent_avis\", \"joint\", \"xxx_xxx\", \"avis\", \"d\\u00e9clarer\", \"objet\", \"sans_objet\", \"ma\\u00eetre\", \"communiqu\\u00e9s\", \"adress\\u00e9\", \"communiqu\\u00e9\", \"paris\", \"existait\", \"ao\\u00fbt\", \"copie\", \"juillet\", \"juin\", \"articles\", \"date\", \"septembre\", \"f\\u00e9vrier\", \"octobre\", \"demandeur\", \"mai\", \"maire\", \"sollicit\\u00e9s\", \"novembre\", \"mars\", \"janvier\", \"d\\u00e9cembre\", \"\\u00e9lectronique\", \"conseil\", \"oppos\\u00e9_directeur\", \"avril\", \"concernant\", \"entreprises_non\", \"entreprise_attributaire\", \"offres\", \"prix_unitaires\", \"acc\\u00e8s_institu\\u00e9\", \"exercer_respect\", \"personne_fait\", \"b\\u00e9n\\u00e9ficient_tant\", \"retenues_toute\", \"syst\\u00e8me_qualit\\u00e9\", \"concernant_chiffre\", \"humains_certification\", \"affaires_coordonn\\u00e9es\", \"qualification_concernant\", \"prestation_demand\\u00e9e\", \"parties_certificats\", \"certifications_tierces\", \"bancaires_r\\u00e9f\\u00e9rences\", \"appel_offres\", \"attributaire\", \"rappelle_fois\", \"d\\u00e9tails_techniques\", \"rapport_analyse\", \"financiers_offres\", \"correspondent_march\\u00e9s\", \"analyse_offres\", \"outre_pr\\u00e9cis\\u00e9\", \"d\\u00e9composition_prix\", \"motifs_conduit\", \"permet_refuser\", \"prot\\u00e9g\\u00e9_dispositions\", \"march\\u00e9\", \"moyens_techniques\", \"offre\", \"doit_toutefois\", \"autres_celles\", \"mentions_relatives\", \"toute_mention\", \"secret_affaires\", \"publics\", \"conduit\", \"principe\", \"soumis_droit\", \"communicables\", \"communicable\", \"sous_r\\u00e9serve\", \"autre\", \"soci\\u00e9t\\u00e9\", \"droit\", \"suivants\", \"administratifs\", \"donn\\u00e9es_caract\\u00e8re\", \"r\\u00e9utilisation_informations\", \"mission_int\\u00e9r\\u00eat\", \"assembl\\u00e9e_nationale\", \"administrations_mentionn\\u00e9es\", \"int\\u00e9r\\u00eat_g\\u00e9n\\u00e9ral\", \"relative_informatique\", \"fichiers_libert\\u00e9s\", \"pr\\u00e9rogatives\", \"r\\u00e9gime_sp\\u00e9cial\", \"telle_mission\", \"activit\\u00e9_conditions\", \"priv\\u00e9e_assure\", \"pouvoirs\", \"besoins_laquelle\", \"fins_celles\", \"souhaite_autres\", \"traitements_automatis\\u00e9s\", \"peuvent_utilis\\u00e9es\", \"publiques_comportant\", \"derni\\u00e8re_mise\", \"publiques_soumise\", \"personnel_subordonn\\u00e9e\", \"alt\\u00e9r\\u00e9es_sens\", \"d\\u00e9natur\\u00e9_leurs\", \"sources_date\", \"jour_mentionn\\u00e9es\", \"condition_derni\\u00e8res\", \"parlementaires\", \"pr\\u00e9voit_sauf\", \"second_alin\\u00e9a\", \"organisme\", \"mission_service\", \"droit_priv\\u00e9\", \"consid\\u00e9r\\u00e9s\", \"haute_autorit\\u00e9\", \"rapport_annuel\", \"cadre_mission\", \"r\\u00e9sultant\", \"mise_\\u0153uvre\", \"respect\", \"service\", \"mission\", \"loi\", \"personnes\", \"sens\", \"prend_acte\", \"termes\", \"dispositions\", \"doit\", \"administratifs\", \"relations_entre\", \"premier_alin\\u00e9a\", \"entre\", \"droit\", \"part\", \"personne\", \"janvier\", \"autre_part\", \"cadre\", \"contr\\u00f4le\", \"priv\\u00e9e\", \"sous\", \"autres\", \"donc\", \"d\\u00e9cembre\", \"conseil\", \"possibilit\\u00e9s_techniques\", \"d\\u00e9livrance_copie\", \"exerce_choix\", \"demandeur_limite\", \"revanche_d\\u00e9tail\", \"va_bordereau\", \"reproduction_envoi\", \"frais_lorsque\", \"document_disponible\", \"conservation_document\", \"consultation_gratuite\", \"reproduction_nuise\", \"support_identique\", \"celui_utilis\\u00e9\", \"compatible_frais\", \"frais_puissent\", \"exc\\u00e9der_co\\u00fbt\", \"montant_total\", \"ind\\u00e9pendamment_fonctions\", \"renseignements_information\", \"vue_procurer\", \"exerce_mandats\", \"proc\\u00e9der_recherches\", \"avocats_lyon\", \"septembre_ordres\", \"animaux_victimes\", \"ignominie_d\\u00e9saffection\", \"ministre_budget\", \"recueil_page\", \"important\", \"\\u00e9ventuellement_d\\u00e9tenus\", \"sous_forme\", \"place\", \"\\u00e9lectronique\", \"sans\", \"demandeur\", \"relations_entre\", \"document\", \"agent\", \"vertu\", \"courrier\", \"sous_r\\u00e9serve\", \"fait\", \"administratifs\", \"communicables\", \"dispositions\", \"droit\", \"copie\", \"cas_\\u00e9ch\\u00e9ant\", \"pr\\u00e9cise\", \"informations_m\\u00e9dicales\", \"d\\u00e9funt\", \"personne_d\\u00e9c\\u00e9d\\u00e9e\", \"d\\u00e9fendre_m\\u00e9moire\", \"faire_valoir\", \"causes_mort\", \"patient_d\\u00e9c\\u00e9d\\u00e9\", \"causes_d\\u00e9c\\u00e8s\", \"permettre_conna\\u00eetre\", \"d\\u00e9c\\u00e9d\\u00e9\", \"auquel_renvoie\", \"avant_d\\u00e9c\\u00e8s\", \"d\\u00e9funt_faire\", \"volont\\u00e9_contraire\", \"elles_n\\u00e9cessaires\", \"droits_sauf\", \"valoir_leurs\", \"d\\u00e9livr\\u00e9es_droit\", \"pr\\u00e9sident_tribunal\", \"copie_pr\\u00e9f\\u00e9rence\", \"d\\u00e9c\\u00e9d\\u00e9e\", \"n\\u00e9cessaires_poursuite\", \"oppos\\u00e9e_personne\", \"\\u00e9quipe_m\\u00e9dicale\", \"centre_d\\u00e9tention\", \"m\\u00e9moire_d\\u00e9funt\", \"oppos\\u00e9_vivant\", \"savoir_conna\\u00eetre\", \"national_ordre\", \"comp\\u00e9tente_appr\\u00e9cier\", \"p\\u00e8re\", \"permis_conduire\", \"dossier_m\\u00e9dical\", \"m\\u00e9dical\", \"d\\u00e9c\\u00e8s\", \"m\\u00e8re\", \"directeur_centre\", \"centre_hospitalier\", \"qualit\\u00e9\", \"sant\\u00e9_publique\", \"\\u00e9tablissement\", \"droit\", \"hospitalier\", \"esp\\u00e8ce\", \"fait_obstacle\", \"dossier\", \"droits\", \"demandeur\", \"int\\u00e9gralit\\u00e9_dossier\", \"pi\\u00e8ces\", \"concernant\", \"oppos\\u00e9_directeur\", \"dispositions\", \"conseil\", \"articles\", \"\\u00e9tat\", \"autres\", \"document\", \"ensemble\", \"sant\\u00e9\", \"permis_construire\", \"principe_unit\\u00e9\", \"applique_tous\", \"vu_duquel\", \"livre_proc\\u00e9dures\", \"d\\u00e9cision_expresse\", \"construire\", \"g\\u00e9n\\u00e9ral_imp\\u00f4ts\", \"pc\", \"valeur_locative\", \"doivent_obligatoirement\", \"pr\\u00e9judice_auteur\", \"lettre_saisine\", \"penser\", \"note_synth\\u00e8se\", \"qualit\\u00e9_administrateur\", \"k\", \"contre_permis\", \"alpes\", \"relev\\u00e9s_propri\\u00e9t\\u00e9\", \"r\\u00e9f\\u00e9rences_cadastrales\", \"sise\", \"m\\u00e9diation\", \"bailleur\", \"personnes_appel\\u00e9es\", \"contr\\u00f4le_recouvrement\", \"service_instructeur\", \"droits_taxes\", \"occasion_leurs\", \"contentieux_imp\\u00f4ts\", \"fiscales\", \"taxe_fonci\\u00e8re\", \"d\\u00e9livr\\u00e9\", \"immeubles\", \"acte_vente\", \"habitation\", \"parcelle\", \"autorisations\", \"propri\\u00e9taire\", \"urbanisme\", \"immeuble\", \"d\\u00e9livr\\u00e9es\", \"porte_atteinte\", \"parcelles\", \"prise\", \"maire\", \"autorisation\", \"\\u00e9ducation\", \"commune\", \"nom\", \"propri\\u00e9taires\", \"construction\", \"d\\u00e9claration\", \"travaux\", \"articles\", \"toute_personne\", \"fait\", \"relations_entre\", \"arr\\u00eat\\u00e9\", \"communicables\", \"dossier\", \"vertu\", \"principe\", \"agissant\", \"cas_\\u00e9ch\\u00e9ant\", \"pi\\u00e8ces\", \"droit\", \"dispositions\", \"ma\\u00eetre\", \"sous_r\\u00e9serve\", \"territoriales\", \"sous_r\\u00e9serves\", \"\\u00e9met_donc\", \"g\\u00e9n\\u00e9ral_collectivit\\u00e9s\", \"pr\\u00e9sent_avis\", \"copie\", \"s\\u00e9curit\\u00e9_sociale\", \"assurance_maladie\", \"r\\u00e9forme\", \"directeur_caisse\", \"maladie\", \"limites_conditions\", \"r\\u00e9utilisation_d\\u00e9finies\", \"g\\u00e9n\\u00e9ral_assistance\", \"maladie_professionnelle\", \"parentale\", \"afin_conna\\u00eetre\", \"d\\u00e9claration_accident\", \"\\u00e9ch\\u00e9ancier\", \"pr\\u00e9fectoral\", \"doit_pr\\u00e9ciser\", \"personnes_d\\u00e9c\\u00e9d\\u00e9es\", \"allocations_familiales\", \"p\\u00e8re_m\\u00e8re\", \"reconna\\u00eet\", \"pi\\u00e8ces_manquantes\", \"r\\u00e9gie_articles\", \"devant_comit\\u00e9\", \"caisses_primaires\", \"reconnaissance_maladie\", \"ind\\u00e9pendants\", \"titulaires_autorit\\u00e9\", \"s\\u00e9paration\", \"savoie\", \"fils_mineur\", \"sup\\u00e9rieur_recherche\", \"autorit\\u00e9_parentale\", \"sans_consentement\", \"caisse\", \"cadre_instruction\", \"employeur\", \"interpr\\u00e9t\\u00e9es\", \"sans_incidence\", \"int\\u00e9ress\\u00e9e_sens\", \"enfant\", \"dossier\", \"l\\u00e9gaux\", \"va_diff\\u00e9remment\", \"personne\", \"dispositions\", \"droit\", \"enfant_mineur\", \"oppos\\u00e9_directeur\", \"comprend\", \"technique\", \"communicables\", \"relations_entre\", \"consid\\u00e8re\", \"cadre\", \"\\u00e9gard\", \"sous_r\\u00e9serve\", \"fondement\", \"ma\\u00eetre\", \"tiers\", \"\\u00e9met_donc\", \"professionnels_sant\\u00e9\", \"informations_communiqu\\u00e9es\", \"directement_interm\\u00e9diaire\", \"m\\u00e9decin_d\\u00e9signe\", \"sant\\u00e9_d\\u00e9tenues\", \"professionnels_\\u00e9tablissements\", \"selon_choix\", \"intervenant_prise\", \"charge_th\\u00e9rapeutique\", \"aupr\\u00e8s_tiers\", \"informations_mentionnant\", \"elles_recueillies\", \"concernant_tel\", \"reconna\\u00eet_droit\", \"exception_informations\", \"recueillies_aupr\\u00e8s\", \"tel_tiers\", \"tiers_intervenant\", \"th\\u00e9rapeutique_concernant\", \"mentionnant_elles\", \"\\u00e9changes_\\u00e9crits\", \"notamment_r\\u00e9sultats\", \"protocoles_prescriptions\", \"consultation_intervention\", \"exploration_hospitalisation\", \"th\\u00e9rapeutiques_mis\", \"non_autoris\\u00e9es\", \"surveillance_correspondances\", \"d\\u00e9tenus_professionnels\", \"m\\u00e9dical_patient\", \"\\u00e9tablissements_sant\\u00e9\", \"psychiatriques\", \"sant\\u00e9_publique\", \"sant\\u00e9\", \"sup\\u00e9rieur\", \"examen_candidatures\", \"dernier_alin\\u00e9a\", \"m\\u00e9decin\", \"effet\", \"acc\\u00e9der_informations\", \"rendu\", \"docteur\", \"dossier_m\\u00e9dical\", \"tiers\", \"m\\u00e9dical\", \"vertu\", \"avis\", \"prise_charge\", \"concernant\", \"toute_personne\", \"centre_hospitalier\", \"int\\u00e9ress\\u00e9\", \"sous_r\\u00e9serves\", \"demandeur\", \"oppos\\u00e9_directeur\", \"communicables\", \"objet\", \"d\\u00e9cisions_activit\\u00e9s\", \"iv_titre\", \"relatives_environnement\", \"information_relative\", \"d\\u00e9tenues_re\\u00e7ues\", \"d\\u00e9finies_titre\", \"cas_lesquels\", \"livre_i\", \"rejeter\", \"diversit\\u00e9_biologique\", \"notamment_air\", \"\\u00e9tablies_autorit\\u00e9s\", \"d\\u00e9chets_\\u00e9missions\", \"d\\u00e9versements_autres\", \"facteurs_notamment\", \"rejets_susceptibles\", \"substances_\\u00e9nergie\", \"bruit_rayonnements\", \"interactions_entre\", \"environnement_qualifie\", \"publique_rejeter\", \"\\u00e9missions_substances\", \"\\u00e9missions\", \"concernent_directement\", \"ext\\u00e9rieure_france\", \"installations_class\\u00e9es\", \"autorit\\u00e9s_publiques\", \"membres_gouvernement\", \"n\\u00eemes\", \"titre_pr\\u00e9liminaire\", \"future\", \"environnement\", \"exerce_conditions\", \"quel_support\", \"intellectuelle\", \"informations_relatives\", \"dispositions_chapitre\", \"droits_propri\\u00e9t\\u00e9\", \"lorsqu_elles\", \"\\u00e9l\\u00e9ments\", \"avoir_incidences\", \"vis\\u00e9s\", \"acc\\u00e9der_informations\", \"ii\", \"\\u00e9tat\", \"articles\", \"selon\", \"toute_personne\", \"protection\", \"dispositions\", \"informations\", \"mesure_o\\u00f9\", \"sous_r\\u00e9serve\", \"suivants\", \"vie\", \"autorit\\u00e9_administrative\", \"droit\", \"notamment\", \"iii\", \"compte\", \"s\\u00e9curit\\u00e9\", \"estime\", \"fait\", \"enqu\\u00eate_publique\", \"plan_local\", \"plu\", \"informations_pr\\u00e9cises\", \"commissaire_enqu\\u00eateur\", \"groupe_travail\", \"soumis_enqu\\u00eate\", \"projet_am\\u00e9nagement\", \"\\u00e9tat_avancement\", \"projet_plu\", \"rapportent_projet\", \"local_urbanisme\", \"approbation_plu\", \"plan_occupation\", \"arr\\u00eat\\u00e9_ouverture\", \"zac\", \"d\\u00e9claration_utilit\\u00e9\", \"r\\u00e9vision_plu\", \"annexes_conclusions\", \"rapport_conclusions\", \"communes_pays\", \"mentionn\\u00e9e_tables\", \"\\u00e9changes_courriers\", \"projet_plan\", \"\\u00e9laboration_plu\", \"remise_autorit\\u00e9\", \"registre_enqu\\u00eate\", \"cours_temps\", \"acc\\u00e8s_varient\", \"pr\\u00e9c\\u00e9dentes_phases\", \"urbanisme\", \"perpignan\", \"projet\", \"conseil_municipal\", \"d\\u00e9lib\\u00e9ration\", \"publique\", \"d\\u00e9veloppement_durable\", \"rapport_pr\\u00e9sentation\", \"proc\\u00e9dure\", \"communicables\", \"r\\u00e9vision\", \"plan\", \"porter\", \"environnement\", \"enqu\\u00eate\", \"commune\", \"sens\", \"dossier\", \"\\u00e9laboration\", \"relations_entre\", \"date\", \"articles\", \"maire\", \"notamment\", \"toute_personne\", \"suivants\", \"\\u00e9tat\", \"informations_relatives\", \"avis\", \"arr\\u00eat\\u00e9\", \"administratifs\"], \"Total\": [12981.0, 79291.0, 22276.0, 22994.0, 30826.0, 17530.0, 21280.0, 9622.0, 10636.0, 25629.0, 24870.0, 9924.0, 36354.0, 13079.0, 17998.0, 32815.0, 24641.0, 15798.0, 29319.0, 17656.0, 7670.0, 26193.0, 7219.0, 16215.0, 8492.0, 6213.0, 27448.0, 18798.0, 8036.0, 17219.0, 1732.7510986328125, 1735.78271484375, 1556.2884521484375, 1515.8927001953125, 1344.327392578125, 1279.5008544921875, 1223.606201171875, 920.4307861328125, 820.6796264648438, 817.0418701171875, 809.322998046875, 719.71142578125, 710.0032348632812, 703.296142578125, 692.482421875, 681.7193603515625, 659.5288696289062, 617.37548828125, 587.3209228515625, 569.552734375, 557.9149780273438, 418.0302734375, 398.49267578125, 395.05364990234375, 318.2377624511719, 301.1156005859375, 281.0774841308594, 264.9114074707031, 243.81385803222656, 242.30734252929688, 2859.01708984375, 5166.50146484375, 2681.203369140625, 3043.978759765625, 870.67431640625, 3575.314697265625, 3563.320068359375, 4435.70166015625, 2120.20263671875, 1071.9547119140625, 8367.9140625, 3879.53466796875, 2491.65283203125, 4663.27783203125, 1805.9400634765625, 6204.20361328125, 7244.138671875, 3699.137939453125, 17656.689453125, 4089.14794921875, 9331.4560546875, 10536.85546875, 1347.9871826171875, 36354.40625, 4816.7939453125, 17752.2890625, 26104.87109375, 79291.875, 21616.126953125, 20855.6796875, 11007.28515625, 27448.896484375, 26767.38671875, 10355.7119140625, 8733.1240234375, 26193.369140625, 18798.365234375, 13244.4072265625, 32815.96875, 20947.19921875, 1969.8214111328125, 1064.93115234375, 1042.2254638671875, 1023.2955322265625, 1013.7553100585938, 1086.71240234375, 968.6287231445312, 946.948486328125, 803.9381713867188, 658.6370239257812, 657.7244873046875, 456.79278564453125, 367.010986328125, 365.0654602050781, 297.0296630859375, 1731.7926025390625, 271.346435546875, 257.3750305175781, 250.19381713867188, 241.3278350830078, 231.221923828125, 200.02230834960938, 198.33099365234375, 195.04649353027344, 241.46450805664062, 187.73435974121094, 175.97801208496094, 190.45684814453125, 172.6919403076172, 170.30357360839844, 1999.76123046875, 1009.5758666992188, 390.89202880859375, 318.9372863769531, 4656.6845703125, 280.8323669433594, 2784.357177734375, 1218.36376953125, 1252.8798828125, 1105.3514404296875, 307.9798278808594, 2253.627685546875, 409.6679382324219, 435.3251953125, 8492.744140625, 1455.21435546875, 8036.54833984375, 2952.746337890625, 842.302001953125, 7670.60693359375, 2857.04541015625, 944.908203125, 1829.1954345703125, 6213.82421875, 2502.14453125, 1224.7353515625, 13079.9052734375, 25629.234375, 4096.72998046875, 22276.80078125, 27448.896484375, 4413.9541015625, 79291.875, 16288.900390625, 5372.36669921875, 2626.194091796875, 20947.19921875, 7748.92529296875, 29319.166015625, 36354.40625, 16341.40625, 26104.87109375, 4982.2626953125, 5748.79345703125, 12914.5537109375, 26767.38671875, 13244.4072265625, 19407.142578125, 32815.96875, 19243.958984375, 2276.656005859375, 1646.097900390625, 1405.1793212890625, 1305.876953125, 1235.5362548828125, 868.2311401367188, 613.0621948242188, 545.7830200195312, 411.4656982421875, 396.5538024902344, 393.12823486328125, 373.5644226074219, 352.5987548828125, 264.2046203613281, 237.1769561767578, 226.82907104492188, 211.72137451171875, 211.0849151611328, 223.51412963867188, 199.1902313232422, 198.76820373535156, 192.5520477294922, 198.85069274902344, 239.58953857421875, 183.08688354492188, 178.324462890625, 225.8251953125, 264.1911926269531, 167.18141174316406, 164.09088134765625, 412.140869140625, 297.7406921386719, 519.1641845703125, 3578.82177734375, 1556.8360595703125, 634.68505859375, 837.720458984375, 561.0064697265625, 1334.0423583984375, 278.2540588378906, 576.6636352539062, 299.7561340332031, 300.666015625, 1466.5538330078125, 1565.1767578125, 1031.6314697265625, 330.2989501953125, 2797.958251953125, 2656.999267578125, 1198.4801025390625, 448.724853515625, 889.75830078125, 553.4176635742188, 2068.869140625, 12161.3603515625, 2592.612060546875, 3470.553955078125, 3940.46240234375, 1768.587646484375, 3086.3857421875, 5599.85546875, 3495.846923828125, 2779.8271484375, 1826.910400390625, 2761.54150390625, 3745.85205078125, 9127.3525390625, 4253.9931640625, 26193.369140625, 8917.001953125, 14981.0537109375, 4699.50341796875, 7196.93310546875, 3222.195068359375, 5519.7568359375, 79291.875, 24641.513671875, 14886.4013671875, 8704.125, 12718.3955078125, 9539.01171875, 32815.96875, 17219.62109375, 825.1259155273438, 793.1795654296875, 593.8721313476562, 593.3615112304688, 479.2647399902344, 432.56793212890625, 424.65228271484375, 392.35418701171875, 384.85888671875, 380.7082214355469, 373.0314636230469, 372.5601501464844, 350.1257629394531, 415.3428649902344, 338.4999694824219, 333.4105224609375, 333.4742736816406, 329.29779052734375, 329.4408264160156, 313.5323486328125, 299.874267578125, 296.2580871582031, 294.29681396484375, 277.8851318359375, 267.13671875, 266.8877868652344, 264.7077941894531, 263.54681396484375, 262.38616943359375, 262.1784973144531, 262.1784973144531, 803.8743896484375, 353.7783508300781, 515.45166015625, 477.9027404785156, 1795.5882568359375, 1993.661865234375, 491.55767822265625, 2217.690185546875, 7046.6474609375, 1129.6298828125, 600.5228881835938, 535.3348999023438, 908.667236328125, 9365.8154296875, 2159.43359375, 7643.8681640625, 2064.701171875, 1425.9810791015625, 9037.6328125, 2486.93701171875, 16532.763671875, 1241.3834228515625, 2252.173095703125, 2917.458251953125, 3695.23095703125, 5433.01220703125, 11507.7080078125, 79291.875, 17752.2890625, 6885.64697265625, 10756.8837890625, 1650.5673828125, 3417.67724609375, 21616.126953125, 5333.24169921875, 6204.20361328125, 12330.27734375, 6566.00927734375, 22994.6484375, 8980.5263671875, 8760.791015625, 26104.87109375, 11007.28515625, 11185.814453125, 26193.369140625, 27448.896484375, 20855.6796875, 26767.38671875, 32815.96875, 1890.30712890625, 1303.318115234375, 1178.345458984375, 726.953369140625, 791.1923217773438, 646.8713989257812, 631.1713256835938, 395.064453125, 316.41650390625, 298.3686218261719, 272.10015869140625, 244.75857543945312, 240.21485900878906, 172.4481201171875, 144.6898193359375, 143.45281982421875, 137.63478088378906, 181.6882781982422, 128.1865692138672, 126.55327606201172, 126.41485595703125, 117.25999450683594, 114.95271301269531, 110.19334411621094, 109.18865966796875, 107.5442886352539, 105.52215576171875, 104.41976165771484, 101.8305435180664, 101.3386001586914, 373.5277099609375, 738.5353393554688, 235.9090576171875, 306.98223876953125, 1024.327392578125, 354.37322998046875, 2109.595947265625, 328.40673828125, 1807.529052734375, 310.3937072753906, 226.3780517578125, 224.98989868164062, 818.2108154296875, 2292.88623046875, 1964.33251953125, 1602.494384765625, 16288.900390625, 3594.6767578125, 79291.875, 2032.140380859375, 1015.6157836914062, 1372.8399658203125, 20947.19921875, 2886.014892578125, 7748.92529296875, 4665.5078125, 12914.5537109375, 9945.7255859375, 26104.87109375, 3338.533935546875, 2187.316650390625, 26767.38671875, 19243.958984375, 11311.630859375, 3736.581298828125, 36354.40625, 30826.7421875, 16341.40625, 10242.7451171875, 19407.142578125, 24870.7109375, 27448.896484375, 16532.763671875, 11507.7080078125, 21280.701171875, 13244.4072265625, 13351.173828125, 20855.6796875, 17998.77734375, 22994.6484375, 16215.15625, 32815.96875, 17752.2890625, 21616.126953125, 1108.3450927734375, 882.2512817382812, 10636.0908203125, 672.2753295898438, 669.5665283203125, 495.4084167480469, 466.91156005859375, 299.1366882324219, 267.7907409667969, 226.52862548828125, 207.91566467285156, 184.53082275390625, 178.6256561279297, 172.9744415283203, 1642.9427490234375, 137.98403930664062, 131.35488891601562, 130.65174865722656, 169.40267944335938, 111.10608673095703, 110.97733306884766, 104.21408081054688, 88.29640197753906, 74.39913177490234, 71.59864807128906, 70.95032501220703, 70.87908935546875, 70.84722137451172, 68.9258804321289, 68.25439453125, 152.9115447998047, 607.988037109375, 190.20997619628906, 78.77295684814453, 801.8432006835938, 17530.693359375, 514.742431640625, 21280.701171875, 9699.9306640625, 15798.26953125, 24870.7109375, 17998.77734375, 618.9849853515625, 1499.686767578125, 30826.7421875, 3132.18505859375, 24641.513671875, 3667.168701171875, 16215.15625, 2511.64599609375, 2626.25927734375, 2727.36279296875, 4107.14404296875, 653.1807250976562, 6510.09423828125, 19407.142578125, 11070.2724609375, 11263.9052734375, 32815.96875, 9539.01171875, 9420.2373046875, 8691.09375, 9454.3154296875, 17219.62109375, 8924.4541015625, 22276.80078125, 13351.173828125, 8750.8916015625, 11459.06640625, 13298.349609375, 10681.140625, 8451.087890625, 21616.126953125, 11311.630859375, 10242.7451171875, 19243.958984375, 5015.1064453125, 4503.2626953125, 3723.622802734375, 3042.61767578125, 2740.173828125, 2565.029541015625, 2513.850341796875, 2449.89501953125, 2387.405517578125, 2285.810546875, 2286.7255859375, 2285.406494140625, 2284.923095703125, 2284.073974609375, 2283.652099609375, 2284.7158203125, 2284.073974609375, 2229.698486328125, 2186.70849609375, 2088.427490234375, 1981.071044921875, 1863.5350341796875, 1860.1875, 1818.3297119140625, 1707.1636962890625, 1696.745361328125, 1662.660400390625, 1621.690185546875, 1568.1824951171875, 1536.4609375, 2666.32080078125, 9924.84765625, 2553.104736328125, 4492.78564453125, 2589.195556640625, 2387.003662109375, 5006.0830078125, 2324.313232421875, 5752.57568359375, 5621.388671875, 3792.195556640625, 10220.9140625, 4379.97900390625, 36354.40625, 17752.2890625, 20855.6796875, 6066.173828125, 7889.59521484375, 29319.166015625, 16341.40625, 26767.38671875, 3739.972900390625, 1869.456298828125, 1793.6343994140625, 1415.5887451171875, 1170.4029541015625, 1158.7838134765625, 1074.3204345703125, 1038.7738037109375, 897.997314453125, 861.3825073242188, 861.2554321289062, 859.2147216796875, 843.2322998046875, 774.97607421875, 766.159912109375, 751.6798095703125, 751.6798095703125, 750.4620361328125, 749.1174926757812, 735.1005249023438, 733.6317749023438, 722.85009765625, 715.2704467773438, 714.7177124023438, 712.88623046875, 712.975830078125, 711.2879638671875, 708.3721923828125, 787.4581909179688, 683.9874877929688, 725.5097045898438, 1575.9224853515625, 2480.333740234375, 2951.18896484375, 1645.6846923828125, 807.339599609375, 2533.85400390625, 3288.827392578125, 1306.2138671875, 3183.351806640625, 2795.806640625, 18798.365234375, 3542.03466796875, 12718.3955078125, 10756.8837890625, 8980.5263671875, 1424.42138671875, 5784.9580078125, 26193.369140625, 4058.163818359375, 26767.38671875, 79291.875, 1833.9871826171875, 9467.302734375, 29319.166015625, 7404.8701171875, 17656.689453125, 13298.349609375, 5024.41064453125, 12330.27734375, 3417.67724609375, 7244.138671875, 5660.9814453125, 9311.927734375, 8760.791015625, 10681.140625, 21616.126953125, 1274.6895751953125, 1252.5135498046875, 1251.025634765625, 1237.306396484375, 1232.254150390625, 1219.8331298828125, 1179.8226318359375, 1157.2802734375, 1201.857421875, 1154.5706787109375, 1148.127685546875, 1148.1546630859375, 1143.8160400390625, 1142.076416015625, 1121.2020263671875, 1088.6549072265625, 1075.8245849609375, 1020.8450317382812, 1014.75390625, 992.81396484375, 990.65478515625, 976.0641479492188, 976.7803344726562, 937.8311157226562, 938.676025390625, 910.4375, 910.4376220703125, 888.223388671875, 800.2505493164062, 767.4408569335938, 1035.4322509765625, 3753.4755859375, 2046.4608154296875, 8451.087890625, 7196.93310546875, 17219.62109375, 79291.875, 16532.763671875, 5080.05615234375, 8764.5927734375, 15798.26953125, 20855.6796875, 27448.896484375, 26767.38671875, 36354.40625, 26193.369140625, 29319.166015625, 19407.142578125, 8733.1240234375, 7048.75048828125, 1697.0084228515625, 1610.0867919921875, 1548.921142578125, 1425.8355712890625, 1386.53564453125, 1243.53466796875, 937.8860473632812, 853.414794921875, 752.4278564453125, 731.733642578125, 611.1832885742188, 586.3681030273438, 567.2720336914062, 562.6109008789062, 559.8777465820312, 557.3848876953125, 556.9880981445312, 555.2098388671875, 546.211669921875, 538.7169189453125, 532.7071533203125, 524.7217407226562, 504.4342041015625, 456.78302001953125, 585.910888671875, 428.4004821777344, 426.86614990234375, 390.3545227050781, 359.19976806640625, 358.91009521484375, 833.2003173828125, 529.0003051757812, 3982.217041015625, 5986.97802734375, 1343.2686767578125, 1042.282470703125, 1577.7166748046875, 5451.505859375, 5948.00390625, 9622.4755859375, 6875.8349609375, 29319.166015625, 977.5491943359375, 11185.814453125, 2633.83349609375, 22994.6484375, 2134.537353515625, 17219.62109375, 3032.823486328125, 9499.0654296875, 19243.958984375, 11311.630859375, 26193.369140625, 21616.126953125, 32815.96875, 14886.4013671875, 9311.927734375, 16532.763671875, 9355.6806640625, 7219.830078125, 3590.60302734375, 798.1272583007812, 670.5333862304688, 586.4635620117188, 559.8643188476562, 427.8324279785156, 312.46453857421875, 309.9712219238281, 289.392822265625, 287.3788146972656, 252.78684997558594, 245.8935546875, 213.01837158203125, 210.8338623046875, 195.65817260742188, 187.6460418701172, 161.8474884033203, 160.03424072265625, 135.8206024169922, 136.28256225585938, 132.30621337890625, 132.2859649658203, 126.49568176269531, 121.52811431884766, 116.46097564697266, 115.03912353515625, 114.14224243164062, 113.98690032958984, 113.60226440429688, 113.20182037353516, 820.7353515625, 181.55287170410156, 900.5602416992188, 376.69281005859375, 149.78587341308594, 270.89801025390625, 845.3402709960938, 822.1051635742188, 815.45703125, 3545.52880859375, 321.60113525390625, 209.99078369140625, 899.0724487304688, 909.8131103515625, 3413.785400390625, 22276.80078125, 3444.810791015625, 927.5870361328125, 13079.9052734375, 4713.0966796875, 454.353515625, 946.6809692382812, 1764.9637451171875, 3164.489990234375, 32815.96875, 25629.234375, 27448.896484375, 79291.875, 7072.046875, 36354.40625, 22994.6484375, 8764.5927734375, 10220.9140625, 13244.4072265625, 8733.1240234375, 9499.0654296875, 29319.166015625, 26193.369140625, 16215.15625, 20855.6796875, 8036.54833984375, 10536.85546875, 20947.19921875, 8492.744140625, 17998.77734375, 19407.142578125, 3213.240234375, 2953.0654296875, 2077.83740234375, 2046.96728515625, 1356.2403564453125, 1212.826171875, 1162.629150390625, 972.5098876953125, 847.60693359375, 646.9419555664062, 603.307861328125, 588.3428344726562, 540.2183227539062, 495.6999206542969, 490.8698425292969, 487.78314208984375, 484.01959228515625, 457.47698974609375, 429.20001220703125, 415.72613525390625, 397.63287353515625, 388.520263671875, 370.8028869628906, 360.5849609375, 322.3490295410156, 312.5740966796875, 301.33123779296875, 292.2636413574219, 274.8530578613281, 252.47679138183594, 2499.3603515625, 2709.868408203125, 2220.43017578125, 2319.034912109375, 1699.814453125, 640.706787109375, 1024.5244140625, 1000.1090087890625, 2566.975830078125, 22994.6484375, 973.5582275390625, 602.10107421875, 17656.689453125, 26193.369140625, 29319.166015625, 911.458740234375, 11311.630859375, 3386.2861328125, 1687.4486083984375, 36354.40625, 79291.875, 11007.28515625, 12330.27734375, 5606.86865234375, 20855.6796875, 6566.00927734375, 16215.15625, 9331.4560546875, 20947.19921875, 3469.70166015625, 1457.650146484375, 1344.666259765625, 1318.4976806640625, 1256.5028076171875, 1235.2567138671875, 1213.7529296875, 1018.9583740234375, 1015.7188110351562, 1006.3178100585938, 1002.1798095703125, 1000.1412963867188, 980.1483764648438, 954.035400390625, 644.3328857421875, 634.5777587890625, 633.6114501953125, 627.5272216796875, 616.457763671875, 606.9320678710938, 471.11688232421875, 388.237548828125, 379.7999572753906, 373.9626770019531, 368.7906494140625, 366.7736511230469, 350.4729919433594, 342.96502685546875, 324.159912109375, 227.0724639892578, 455.13909912109375, 901.20458984375, 9622.4755859375, 7219.830078125, 1049.9276123046875, 509.71002197265625, 2081.509765625, 1112.474609375, 3828.21435546875, 2305.972900390625, 1809.712158203125, 1224.4332275390625, 3982.217041015625, 9331.4560546875, 5986.97802734375, 8764.5927734375, 30826.7421875, 1739.7347412109375, 19243.958984375, 25629.234375, 5451.505859375, 9945.7255859375, 10536.85546875, 17219.62109375, 11311.630859375, 36354.40625, 24641.513671875, 1121.13525390625, 1085.9681396484375, 1025.921875, 1016.9784545898438, 995.7169799804688, 877.5914306640625, 803.6015625, 723.554931640625, 635.4256591796875, 562.7431640625, 553.2823486328125, 552.7483520507812, 551.1729736328125, 547.1661987304688, 542.05029296875, 542.05029296875, 542.05029296875, 542.05029296875, 541.912841796875, 514.5278930664062, 304.84246826171875, 296.850341796875, 261.1230773925781, 230.7702178955078, 267.8055725097656, 217.9261016845703, 200.4463653564453, 180.63511657714844, 179.77005004882812, 169.9521942138672, 179.18128967285156, 12981.203125, 1163.4093017578125, 645.71826171875, 469.5499267578125, 4576.72216796875, 1259.946533203125, 545.6303100585938, 862.2682495117188, 10018.6259765625, 748.8311767578125, 1291.648193359375, 2305.972900390625, 6518.14013671875, 14886.4013671875, 32815.96875, 4253.9931640625, 25629.234375, 3495.846923828125, 26193.369140625, 12161.3603515625, 4061.412841796875, 20855.6796875, 16341.40625, 1433.3873291015625, 3665.7998046875, 29319.166015625, 14981.0537109375, 4375.951171875, 5372.36669921875, 7046.6474609375, 26104.87109375, 27448.896484375, 1872.1859130859375, 1342.4189453125, 1001.5760498046875, 833.517578125, 755.0806884765625, 622.3646850585938, 567.1889038085938, 540.4837036132812, 498.6329650878906, 462.6565856933594, 416.9045104980469, 407.57110595703125, 357.789794921875, 309.24652099609375, 276.443115234375, 275.3228454589844, 271.159912109375, 270.7977294921875, 262.1565246582031, 261.78326416015625, 257.2774353027344, 253.7630157470703, 245.20260620117188, 237.4025421142578, 236.9163360595703, 224.760498046875, 224.56439208984375, 213.15725708007812, 212.06576538085938, 197.8968963623047, 3545.52880859375, 305.6173400878906, 4419.7607421875, 7670.60693359375, 6213.82421875, 7643.8681640625, 478.5986633300781, 922.275634765625, 5433.01220703125, 36354.40625, 521.6181640625, 1642.974853515625, 590.4686889648438, 12981.203125, 2322.44287109375, 13079.9052734375, 8980.5263671875, 22994.6484375, 1152.9501953125, 79291.875, 9539.01171875, 32815.96875, 22276.80078125, 14981.0537109375, 25629.234375, 16341.40625, 14886.4013671875, 4576.72216796875, 30826.7421875, 7072.046875, 26767.38671875], \"loglift\": [30.0, 29.0, 28.0, 27.0, 26.0, 25.0, 24.0, 23.0, 22.0, 21.0, 20.0, 19.0, 18.0, 17.0, 16.0, 15.0, 14.0, 13.0, 12.0, 11.0, 10.0, 9.0, 8.0, 7.0, 6.0, 5.0, 4.0, 3.0, 2.0, 1.0, 2.1846001148223877, 2.184499979019165, 2.184499979019165, 2.184499979019165, 2.184499979019165, 2.184499979019165, 2.184499979019165, 2.184499979019165, 2.1844000816345215, 2.1844000816345215, 2.1844000816345215, 2.1844000816345215, 2.1844000816345215, 2.1844000816345215, 2.1844000816345215, 2.1844000816345215, 2.1844000816345215, 2.1844000816345215, 2.1844000816345215, 2.1844000816345215, 2.184299945831299, 2.1842000484466553, 2.1842000484466553, 2.1842000484466553, 2.1840999126434326, 2.1840999126434326, 2.184000015258789, 2.184000015258789, 2.184000015258789, 2.184000015258789, 2.182499885559082, 2.1445999145507812, 2.1547999382019043, 2.151599884033203, 2.164599895477295, 2.0796000957489014, 2.0578999519348145, 2.0355000495910645, 2.0820999145507812, 2.1131999492645264, 1.8782000541687012, 1.9667999744415283, 2.0006000995635986, 1.8903000354766846, 2.0302000045776367, 1.781599998474121, 1.7187000513076782, 1.7230000495910645, 1.240399956703186, 1.6116000413894653, 1.3072999715805054, 1.2200000286102295, 1.9967000484466553, 0.5828999876976013, 1.4378999471664429, 0.8277999758720398, 0.48590001463890076, -0.15839999914169312, 0.579800009727478, 0.5753999948501587, 0.9212999939918518, 0.2126999944448471, 0.2054000049829483, 0.8716999888420105, 0.9904999732971191, 0.1256999969482422, 0.32280001044273376, 0.5770999789237976, -0.30469998717308044, 0.10339999943971634, 2.260699987411499, 2.2606000900268555, 2.2606000900268555, 2.2606000900268555, 2.2606000900268555, 2.2606000900268555, 2.2606000900268555, 2.2606000900268555, 2.260499954223633, 2.260499954223633, 2.260499954223633, 2.2604000568389893, 2.2602999210357666, 2.2602999210357666, 2.260200023651123, 2.260200023651123, 2.2600998878479004, 2.2600998878479004, 2.2600998878479004, 2.2600998878479004, 2.259999990463257, 2.2599000930786133, 2.2599000930786133, 2.2599000930786133, 2.2599000930786133, 2.2599000930786133, 2.2597999572753906, 2.2597999572753906, 2.2597999572753906, 2.2597999572753906, 2.2518999576568604, 2.257999897003174, 2.259200096130371, 2.257499933242798, 2.2298998832702637, 2.256500005722046, 2.2223000526428223, 2.2334001064300537, 2.225600004196167, 2.2276999950408936, 2.253499984741211, 2.1793999671936035, 2.243799924850464, 2.2400999069213867, 2.113800048828125, 2.186199903488159, 2.0820000171661377, 2.1222000122070312, 2.187999963760376, 1.9592000246047974, 2.0576000213623047, 2.167799949645996, 2.0922000408172607, 1.9431999921798706, 2.0148000717163086, 2.1273999214172363, 1.7135000228881836, 1.4014999866485596, 1.8075000047683716, 1.3101999759674072, 1.0618000030517578, 1.6775000095367432, 0.5120999813079834, 1.0827000141143799, 1.5183000564575195, 1.8336999416351318, 0.8015000224113464, 1.2861000299453735, 0.6037999987602234, 0.4325000047683716, 0.8148999810218811, 0.5214999914169312, 1.4456000328063965, 1.358299970626831, 0.835099995136261, 0.32820001244544983, 0.7019000053405762, 0.2361000031232834, -0.25999999046325684, 0.21819999814033508, 2.2690999507904053, 2.2690000534057617, 2.2690000534057617, 2.2690000534057617, 2.2690000534057617, 2.268899917602539, 2.268899917602539, 2.2688000202178955, 2.268699884414673, 2.268699884414673, 2.268699884414673, 2.268699884414673, 2.268699884414673, 2.2685000896453857, 2.268399953842163, 2.268399953842163, 2.2683000564575195, 2.2683000564575195, 2.2683000564575195, 2.2683000564575195, 2.2683000564575195, 2.2683000564575195, 2.2683000564575195, 2.268199920654297, 2.268199920654297, 2.268199920654297, 2.268199920654297, 2.268199920654297, 2.2681000232696533, 2.2681000232696533, 2.2667999267578125, 2.263700008392334, 2.2578999996185303, 2.2188000679016113, 2.2281999588012695, 2.224900007247925, 2.2112998962402344, 2.2253000736236572, 2.1791999340057373, 2.2520999908447266, 2.1989998817443848, 2.242799997329712, 2.240299940109253, 2.0664000511169434, 2.0566999912261963, 2.094599962234497, 2.2300000190734863, 1.8907999992370605, 1.8839000463485718, 2.015000104904175, 2.177799940109253, 2.0481998920440674, 2.1373000144958496, 1.8480000495910645, 1.4436999559402466, 1.7647000551223755, 1.6598000526428223, 1.5924999713897705, 1.7877000570297241, 1.5788999795913696, 1.3490999937057495, 1.5252000093460083, 1.6125999689102173, 1.7424999475479126, 1.5216000080108643, 1.3768999576568604, 0.9387000203132629, 1.2968000173568726, 0.21739999949932098, 0.8391000032424927, 0.5184999704360962, 1.1983000040054321, 0.9366999864578247, 1.4223999977111816, 1.0612000226974487, -0.7882999777793884, -0.005499999970197678, 0.27630001306533813, 0.6865000128746033, 0.3752000033855438, 0.541700005531311, -0.6394000053405762, -0.11569999903440475, 2.321700096130371, 2.321700096130371, 2.3215999603271484, 2.3215999603271484, 2.3215999603271484, 2.321500062942505, 2.321500062942505, 2.321500062942505, 2.321500062942505, 2.321500062942505, 2.321500062942505, 2.321500062942505, 2.3213999271392822, 2.3213999271392822, 2.3213999271392822, 2.3213999271392822, 2.3213999271392822, 2.3213999271392822, 2.3213999271392822, 2.3213999271392822, 2.3213000297546387, 2.3213000297546387, 2.3213000297546387, 2.3213000297546387, 2.3213000297546387, 2.3213000297546387, 2.3213000297546387, 2.3213000297546387, 2.3213000297546387, 2.3213000297546387, 2.3213000297546387, 2.303299903869629, 2.317199945449829, 2.3027000427246094, 2.304500102996826, 2.251699924468994, 2.213900089263916, 2.2906999588012695, 2.1907999515533447, 2.0836000442504883, 2.1735000610351562, 2.227099895477295, 2.2367000579833984, 2.115999937057495, 1.5898000001907349, 1.8802000284194946, 1.5163999795913696, 1.8545000553131104, 1.9200999736785889, 1.3726999759674072, 1.7201000452041626, 1.0465999841690063, 1.898800015449524, 1.677899956703186, 1.5499000549316406, 1.4514000415802002, 1.2762000560760498, 0.9523000121116638, 0.1386999934911728, 0.7390000224113464, 1.0993000268936157, 0.8704000115394592, 1.7513999938964844, 1.3990000486373901, 0.47029998898506165, 1.11080002784729, 1.0256999731063843, 0.6327000260353088, 0.9871000051498413, 0.18539999425411224, 0.7541999816894531, 0.7541000247001648, 0.006800000090152025, 0.5644999742507935, 0.4537999927997589, -0.2542000114917755, -0.3068999946117401, -0.14000000059604645, -0.4580000042915344, -0.7005000114440918, 2.3768999576568604, 2.3768999576568604, 2.3768999576568604, 2.376800060272217, 2.376699924468994, 2.376699924468994, 2.376699924468994, 2.3766000270843506, 2.376499891281128, 2.3763999938964844, 2.3763999938964844, 2.376300096511841, 2.376300096511841, 2.375999927520752, 2.3757998943328857, 2.3757998943328857, 2.3757998943328857, 2.3757998943328857, 2.375699996948242, 2.375699996948242, 2.375699996948242, 2.3756000995635986, 2.375499963760376, 2.375499963760376, 2.375499963760376, 2.3754000663757324, 2.3754000663757324, 2.3754000663757324, 2.3752999305725098, 2.3752999305725098, 2.3715999126434326, 2.3601999282836914, 2.371299982070923, 2.3687000274658203, 2.3406999111175537, 2.361599922180176, 2.314199924468994, 2.3512001037597656, 2.2734999656677246, 2.341900110244751, 2.3415000438690186, 2.3366000652313232, 2.213200092315674, 2.0827999114990234, 2.057499885559082, 2.033400058746338, 1.5879000425338745, 1.7905000448226929, 1.128600001335144, 1.8968000411987305, 2.0316998958587646, 1.9560999870300293, 1.2511999607086182, 1.7426999807357788, 1.4484000205993652, 1.594499945640564, 1.2899999618530273, 1.3552000522613525, 1.0068000555038452, 1.6470999717712402, 1.7467999458312988, 0.7910000085830688, 0.8977000117301941, 1.0793999433517456, 1.503999948501587, 0.4244000017642975, 0.46779999136924744, 0.7777000069618225, 0.9969000220298767, 0.6273999810218811, 0.4740000069141388, 0.3901999890804291, 0.659500002861023, 0.8080000281333923, 0.38600000739097595, 0.6870999932289124, 0.6780999898910522, 0.2906000018119812, 0.3833000063896179, 0.11180000007152557, 0.3968000113964081, -0.32089999318122864, 0.25200000405311584, 0.023000000044703484, 2.4110000133514404, 2.4110000133514404, 2.410900115966797, 2.410900115966797, 2.410900115966797, 2.410799980163574, 2.410799980163574, 2.410599946975708, 2.410599946975708, 2.410399913787842, 2.410399913787842, 2.4103000164031982, 2.4102001190185547, 2.4102001190185547, 2.410099983215332, 2.4100000858306885, 2.409899950027466, 2.409899950027466, 2.4096999168395996, 2.4096999168395996, 2.4096999168395996, 2.409600019454956, 2.4093000888824463, 2.408900022506714, 2.408799886703491, 2.408799886703491, 2.408799886703491, 2.408799886703491, 2.4086999893188477, 2.4086999893188477, 2.4068000316619873, 2.3914999961853027, 2.4012999534606934, 2.4079999923706055, 2.3622000217437744, 2.2321999073028564, 2.334199905395508, 2.1486001014709473, 2.0683000087738037, 2.0120999813079834, 1.955399990081787, 1.9673000574111938, 2.2651000022888184, 2.1726999282836914, 1.8645999431610107, 2.0562000274658203, 1.774899959564209, 2.0220999717712402, 1.7833000421524048, 2.0188000202178955, 2.0025999546051025, 1.9958000183105469, 1.9235999584197998, 2.216200113296509, 1.6984000205993652, 1.4444999694824219, 1.570099949836731, 1.507200002670288, 1.2136000394821167, 1.551900029182434, 1.5390000343322754, 1.5145000219345093, 1.412500023841858, 1.1308000087738037, 1.3759000301361084, 0.9470999836921692, 1.148900032043457, 1.3636000156402588, 1.1837999820709229, 1.0927000045776367, 1.2062000036239624, 1.2939000129699707, 0.4968999922275543, 1.034999966621399, 1.1105999946594238, 0.48339998722076416, 2.5439000129699707, 2.543800115585327, 2.543800115585327, 2.543800115585327, 2.543800115585327, 2.543800115585327, 2.543800115585327, 2.543800115585327, 2.543800115585327, 2.543800115585327, 2.543800115585327, 2.543800115585327, 2.543800115585327, 2.543800115585327, 2.543800115585327, 2.543800115585327, 2.543800115585327, 2.543800115585327, 2.543800115585327, 2.543800115585327, 2.543800115585327, 2.543800115585327, 2.543800115585327, 2.543800115585327, 2.543800115585327, 2.543800115585327, 2.543800115585327, 2.543800115585327, 2.543800115585327, 2.543800115585327, 2.5429999828338623, 2.5244998931884766, 2.538100004196167, 2.5244998931884766, 2.5346999168395996, 2.517400026321411, 2.401400089263916, 2.5030999183654785, 2.2929999828338623, 2.1310999393463135, 2.2822999954223633, 1.6109000444412231, 2.07669997215271, 0.5922999978065491, 1.0405000448226929, 0.7835000157356262, 1.729200005531311, 1.4041999578475952, 0.051899999380111694, 0.6069999933242798, 0.08730000257492065, 2.5473999977111816, 2.5473999977111816, 2.5473999977111816, 2.5473999977111816, 2.547300100326538, 2.547300100326538, 2.547300100326538, 2.547300100326538, 2.547300100326538, 2.547300100326538, 2.547300100326538, 2.547300100326538, 2.547300100326538, 2.547300100326538, 2.547300100326538, 2.547300100326538, 2.547300100326538, 2.547300100326538, 2.547300100326538, 2.547300100326538, 2.547300100326538, 2.547300100326538, 2.547300100326538, 2.547300100326538, 2.547300100326538, 2.547300100326538, 2.547300100326538, 2.547300100326538, 2.5471999645233154, 2.5471999645233154, 2.5471999645233154, 2.5283000469207764, 2.5118000507354736, 2.5035998821258545, 2.5202999114990234, 2.54229998588562, 2.4723000526428223, 2.413100004196167, 2.4518001079559326, 2.235599994659424, 2.2606000900268555, 1.8142000436782837, 2.1377999782562256, 1.6655000448226929, 1.7077000141143799, 1.6045000553131104, 2.3108999729156494, 1.7553999423980713, 1.1088000535964966, 1.8729000091552734, 0.979200005531311, 0.4546999931335449, 2.1947999000549316, 1.4180999994277954, 0.8610000014305115, 1.5015000104904175, 1.044600009918213, 1.1597000360488892, 1.6647000312805176, 1.0884000062942505, 1.8828999996185303, 1.2985999584197998, 1.4829000234603882, 1.0641000270843506, 1.0981999635696411, 0.8780999779701233, 0.19020000100135803, 3.0374999046325684, 3.037400007247925, 3.037400007247925, 3.037400007247925, 3.037400007247925, 3.037400007247925, 3.037400007247925, 3.037400007247925, 3.037400007247925, 3.037400007247925, 3.037400007247925, 3.037400007247925, 3.037400007247925, 3.037400007247925, 3.037400007247925, 3.037400007247925, 3.037400007247925, 3.037400007247925, 3.037400007247925, 3.037400007247925, 3.037400007247925, 3.037400007247925, 3.037400007247925, 3.037400007247925, 3.037400007247925, 3.037400007247925, 3.037400007247925, 3.037400007247925, 3.037400007247925, 3.037400007247925, 3.037400007247925, 2.8296000957489014, 2.7876999378204346, 2.2388999462127686, 2.110300064086914, 1.4449000358581543, 0.10400000214576721, 1.1194000244140625, 1.7209999561309814, 1.284500002861023, 0.7820000052452087, 0.4975999891757965, 0.23240000009536743, 0.21299999952316284, -0.05810000002384186, 0.2150000035762787, 0.055399999022483826, 0.4050000011920929, 1.044100046157837, 1.246399998664856, 3.1191000938415527, 3.1191000938415527, 3.1191000938415527, 3.1191000938415527, 3.1191000938415527, 3.1191000938415527, 3.1191000938415527, 3.11899995803833, 3.11899995803833, 3.11899995803833, 3.11899995803833, 3.11899995803833, 3.1189000606536865, 3.1189000606536865, 3.1189000606536865, 3.1189000606536865, 3.1189000606536865, 3.1189000606536865, 3.1189000606536865, 3.1189000606536865, 3.1189000606536865, 3.1189000606536865, 3.1189000606536865, 3.1189000606536865, 3.1189000606536865, 3.1189000606536865, 3.1189000606536865, 3.118799924850464, 3.118799924850464, 3.118799924850464, 3.0483999252319336, 3.076900005340576, 2.7083001136779785, 2.534600019454956, 2.850600004196167, 2.905900001525879, 2.754699945449829, 2.3434998989105225, 2.2058000564575195, 2.013400077819824, 1.9699000120162964, 1.226699948310852, 2.812999963760376, 1.3964999914169312, 2.228600025177002, 0.8921999931335449, 2.283099889755249, 0.9193000197410583, 2.039299964904785, 1.2734999656677246, 0.7760000228881836, 1.0990999937057495, 0.4117000102996826, 0.4422000050544739, -0.02449999935925007, 0.6371999979019165, 1.004699945449829, 0.5011000037193298, 0.9641000032424927, 1.1957000494003296, 3.383500099182129, 3.3833999633789062, 3.3833000659942627, 3.3833000659942627, 3.3833000659942627, 3.38319993019104, 3.3831000328063965, 3.3831000328063965, 3.382999897003174, 3.382999897003174, 3.3828999996185303, 3.3828999996185303, 3.3828001022338867, 3.3828001022338867, 3.382699966430664, 3.382699966430664, 3.3826000690460205, 3.382499933242798, 3.3824000358581543, 3.3824000358581543, 3.3822999000549316, 3.3822999000549316, 3.3822999000549316, 3.382200002670288, 3.382200002670288, 3.3821001052856445, 3.3821001052856445, 3.3821001052856445, 3.3821001052856445, 3.3821001052856445, 3.3733999729156494, 3.3821001052856445, 3.2811999320983887, 3.3208999633789062, 3.3666999340057373, 3.2716000080108643, 3.0954999923706055, 3.065000057220459, 3.0599000453948975, 2.7660000324249268, 3.2058000564575195, 3.287100076675415, 2.944200038909912, 2.938999891281128, 2.605799913406372, 2.1064999103546143, 2.4974000453948975, 2.88319993019104, 2.0025999546051025, 2.3015999794006348, 3.081399917602539, 2.762200117111206, 2.4375, 2.158099889755249, 1.0319000482559204, 1.145900011062622, 1.111299991607666, 0.5418999791145325, 1.7382999658584595, 0.7957000136375427, 1.0151000022888184, 1.5313999652862549, 1.340999960899353, 1.132699966430664, 1.3869999647140503, 1.2773000001907349, 0.4375999867916107, 0.519599974155426, 0.7656000256538391, 0.5523999929428101, 1.2933000326156616, 1.0252000093460083, 0.4255000054836273, 1.198199987411499, 0.48179998993873596, 0.4066999852657318, 3.456700086593628, 3.456700086593628, 3.456700086593628, 3.456700086593628, 3.4565999507904053, 3.4565999507904053, 3.4565999507904053, 3.4565999507904053, 3.4565999507904053, 3.4565000534057617, 3.4565000534057617, 3.4565000534057617, 3.4565000534057617, 3.456399917602539, 3.456399917602539, 3.456399917602539, 3.456399917602539, 3.456399917602539, 3.456399917602539, 3.456399917602539, 3.456399917602539, 3.456399917602539, 3.4563000202178955, 3.4563000202178955, 3.4563000202178955, 3.4563000202178955, 3.456199884414673, 3.456199884414673, 3.456199884414673, 3.4560999870300293, 3.4107000827789307, 3.381500005722046, 3.3469998836517334, 3.311199903488159, 3.324399948120117, 3.4022998809814453, 3.3499999046325684, 3.234999895095825, 2.9719998836517334, 2.3698999881744385, 3.174099922180176, 3.2822999954223633, 1.5038000345230103, 1.1700999736785889, 1.0097999572753906, 3.063800096511841, 1.464400053024292, 2.1956000328063965, 2.653700113296509, 0.5552999973297119, -0.0786999985575676, 1.2984000444412231, 1.198099970817566, 1.7731000185012817, 0.6126999855041504, 1.5535999536514282, 0.7717999815940857, 1.1958999633789062, 0.41130000352859497, 3.4934000968933105, 3.4934000968933105, 3.4934000968933105, 3.4934000968933105, 3.4934000968933105, 3.4934000968933105, 3.493299961090088, 3.493299961090088, 3.493299961090088, 3.493299961090088, 3.493299961090088, 3.493299961090088, 3.493299961090088, 3.493299961090088, 3.4932000637054443, 3.4932000637054443, 3.4932000637054443, 3.4932000637054443, 3.4932000637054443, 3.4932000637054443, 3.4930999279022217, 3.4930999279022217, 3.493000030517578, 3.493000030517578, 3.493000030517578, 3.493000030517578, 3.493000030517578, 3.493000030517578, 3.493000030517578, 3.4927000999450684, 3.4721999168395996, 3.410900115966797, 3.077399969100952, 2.998699903488159, 3.279099941253662, 3.4151999950408936, 3.0290000438690186, 3.1946001052856445, 2.8015999794006348, 2.918800115585327, 2.887200117111206, 3.0390000343322754, 2.405600070953369, 1.8731000423431396, 2.1333999633789062, 1.8997999429702759, 1.083400011062622, 2.8433001041412354, 1.1875, 0.9513000249862671, 2.033400058746338, 1.4522000551223755, 1.391800045967102, 0.9072999954223633, 1.2653000354766846, 0.10419999808073044, 0.39010000228881836, 3.535900115966797, 3.535900115966797, 3.535900115966797, 3.535900115966797, 3.535900115966797, 3.535900115966797, 3.535900115966797, 3.535799980163574, 3.535799980163574, 3.535799980163574, 3.535799980163574, 3.535799980163574, 3.535799980163574, 3.535799980163574, 3.535799980163574, 3.535799980163574, 3.535799980163574, 3.535799980163574, 3.535799980163574, 3.5357000827789307, 3.5355000495910645, 3.5355000495910645, 3.535399913787842, 3.5353000164031982, 3.5353000164031982, 3.5353000164031982, 3.5352001190185547, 3.535099983215332, 3.535099983215332, 3.535099983215332, 3.5350000858306885, 3.426500082015991, 3.487299919128418, 3.437299966812134, 3.456899881362915, 3.1826999187469482, 3.32450008392334, 3.337100028991699, 3.1735999584198, 2.290299892425537, 3.209399938583374, 3.0058000087738037, 2.7083001136779785, 2.219099998474121, 1.6676000356674194, 1.121899962425232, 2.2606000900268555, 1.101099967956543, 2.3303000926971436, 0.897599995136261, 1.3889000415802002, 2.0708000659942627, 0.8445000052452087, 1.0068000555038452, 2.823499917984009, 2.1105000972747803, 0.4821999967098236, 0.9557999968528748, 1.9294999837875366, 1.711400032043457, 1.461400032043457, 0.2460000067949295, 0.08340000361204147, 3.679800033569336, 3.6796998977661133, 3.6796998977661133, 3.6796000003814697, 3.6796000003814697, 3.6796000003814697, 3.6796000003814697, 3.679500102996826, 3.679500102996826, 3.679500102996826, 3.6793999671936035, 3.6793999671936035, 3.6793999671936035, 3.67930006980896, 3.6791999340057373, 3.6791999340057373, 3.6791999340057373, 3.6791999340057373, 3.6791999340057373, 3.6791999340057373, 3.6791999340057373, 3.6791999340057373, 3.6791999340057373, 3.6791000366210938, 3.6791000366210938, 3.6791000366210938, 3.6791000366210938, 3.6791000366210938, 3.6791000366210938, 3.678999900817871, 2.904900074005127, 3.563800096511841, 2.682800054550171, 2.333699941635132, 2.3757998943328857, 2.2244999408721924, 3.3592000007629395, 3.0197999477386475, 2.0975000858306885, 1.0285999774932861, 3.290600061416626, 2.6563000679016113, 3.211199998855591, 1.4127999544143677, 2.4096999168395996, 1.326300024986267, 1.5135999917984009, 0.652899980545044, 2.7304999828338623, -0.34529998898506165, 1.166200041770935, 0.23399999737739563, 0.49050000309944153, 0.7459999918937683, 0.13689999282360077, 0.5016000270843506, 0.5720999836921692, 1.5884000062942505, -0.2784000039100647, 1.163100004196167, -0.15839999914169312], \"logprob\": [30.0, 29.0, 28.0, 27.0, 26.0, 25.0, 24.0, 23.0, 22.0, 21.0, 20.0, 19.0, 18.0, 17.0, 16.0, 15.0, 14.0, 13.0, 12.0, 11.0, 10.0, 9.0, 8.0, 7.0, 6.0, 5.0, 4.0, 3.0, 2.0, 1.0, -5.604300022125244, -5.60260009765625, -5.7118000984191895, -5.738100051879883, -5.8582000732421875, -5.907599925994873, -5.952300071716309, -6.236999988555908, -6.351799964904785, -6.356200218200684, -6.365699768066406, -6.483099937438965, -6.496699810028076, -6.506199836730957, -6.521699905395508, -6.537300109863281, -6.570400238037109, -6.636499881744385, -6.686399936676025, -6.717100143432617, -6.737800121307373, -7.026599884033203, -7.074399948120117, -7.083099842071533, -7.2993998527526855, -7.354800224304199, -7.423699855804443, -7.482900142669678, -7.565999984741211, -7.572199821472168, -5.1057000160217285, -4.551799774169922, -5.1975998878479, -5.073800086975098, -6.3125, -4.985000133514404, -5.010000228881836, -4.813399791717529, -5.505000114440918, -6.155900001525879, -4.335999965667725, -5.01609992980957, -5.425099849700928, -4.908599853515625, -5.717299938201904, -4.7316999435424805, -4.639699935913086, -5.307499885559082, -4.227099895477295, -5.318699836730957, -4.797900199890137, -4.763700008392334, -6.043300151824951, -4.162399768829346, -5.32859992980957, -4.634200096130371, -4.59060001373291, -4.123899936676025, -4.685299873352051, -4.725500106811523, -5.018799781799316, -4.813600063323975, -4.8460001945495605, -5.129300117492676, -5.181000232696533, -4.947400093078613, -5.081999778747559, -5.1778998374938965, -5.152400016784668, -5.19320011138916, -5.400000095367432, -6.015100002288818, -6.036600112915039, -6.054999828338623, -6.064300060272217, -5.994900226593018, -6.109899997711182, -6.132500171661377, -6.296299934387207, -6.495699882507324, -6.497099876403809, -6.861700057983398, -7.080699920654297, -7.085999965667725, -7.292300224304199, -5.529300212860107, -7.382800102233887, -7.435699939727783, -7.464000225067139, -7.500100135803223, -7.542900085449219, -7.688000202178955, -7.696499824523926, -7.713200092315674, -7.49970006942749, -7.751500129699707, -7.816199779510498, -7.737100124359131, -7.835100173950195, -7.848999977111816, -5.393700122833252, -6.071000099182129, -7.018700122833252, -7.223800182342529, -4.570400238037109, -7.352099895477295, -5.092299938201904, -5.907700061798096, -5.887499809265137, -6.010700225830078, -7.262800216674805, -5.34660005569458, -6.987199783325195, -6.930200099945068, -4.0854997634887695, -5.777200222015381, -4.172599792480469, -5.133600234985352, -6.322199821472168, -4.3420000076293945, -5.231200218200684, -6.227499961853027, -5.642600059509277, -4.568600177764893, -5.406700134277344, -6.008500099182129, -4.053999900817871, -3.6933000087738037, -5.1209001541137695, -3.9249000549316406, -3.964400053024292, -5.176300048828125, -3.453399896621704, -4.465400218963623, -5.138999938964844, -5.539400100708008, -4.495100021362305, -5.004899978637695, -4.356599807739258, -4.31279993057251, -4.730000019073486, -4.554999828338623, -5.287099838256836, -5.231299877166748, -4.945199966430664, -4.723199844360352, -5.053100109100342, -5.136899948120117, -5.107699871063232, -5.1631999015808105, -5.246799945831299, -5.571199893951416, -5.729400157928467, -5.802700042724609, -5.858099937438965, -6.210899829864502, -6.559000015258789, -6.675300121307373, -6.957900047302246, -6.994800090789795, -7.003499984741211, -7.054599761962891, -7.112400054931641, -7.401100158691406, -7.509099960327148, -7.553800106048584, -7.622700214385986, -7.625699996948242, -7.568600177764893, -7.683800220489502, -7.6859002113342285, -7.717700004577637, -7.685500144958496, -7.499199867248535, -7.768199920654297, -7.79449987411499, -7.5584001541137695, -7.401500225067139, -7.859099864959717, -7.877799987792969, -6.958199977874756, -7.286499977111816, -6.736299991607666, -4.844799995422363, -5.667699813842773, -6.568299770355225, -6.3043999671936035, -6.691299915313721, -5.871200084686279, -7.365699768066406, -6.690100193023682, -7.30049991607666, -7.300000190734863, -5.889200210571289, -5.833899974822998, -6.212900161743164, -7.216300010681152, -5.418900012969971, -5.477499961853027, -6.142499923706055, -6.962100028991699, -6.407199859619141, -6.792900085449219, -5.763599872589111, -4.396699905395508, -5.621200084686279, -5.434500217437744, -5.374800205230713, -5.9807000160217285, -5.632699966430664, -5.26669979095459, -5.5619001388549805, -5.70359992980957, -5.993500232696533, -5.801199913024902, -5.640999794006348, -5.188600063323975, -5.593900203704834, -4.8557000160217285, -5.311600208282471, -5.11329984664917, -5.592899799346924, -5.428199768066406, -5.746099948883057, -5.5690999031066895, -4.753799915313721, -5.139599800109863, -5.361800193786621, -5.48829984664917, -5.420400142669678, -5.541500091552734, -5.487100124359131, -5.6082000732421875, -6.209099769592285, -6.248600006103516, -6.538099765777588, -6.538899898529053, -6.752500057220459, -6.855100154876709, -6.873600006103516, -6.952700138092041, -6.9720001220703125, -6.982900142669678, -7.003200054168701, -7.004499912261963, -7.0665998458862305, -6.8958001136779785, -7.100399971008301, -7.115600109100342, -7.1153998374938965, -7.127999782562256, -7.127600193023682, -7.17710018157959, -7.22160005569458, -7.233799934387207, -7.2403998374938965, -7.297800064086914, -7.337299823760986, -7.338200092315674, -7.346499919891357, -7.350900173187256, -7.355299949645996, -7.356100082397461, -7.356100082397461, -6.253699779510498, -7.060500144958496, -6.698599815368652, -6.77239990234375, -5.5015997886657715, -5.434700012207031, -6.7581000328063965, -5.35129976272583, -4.3024001121521, -6.0432000160217285, -6.621500015258789, -6.726799964904785, -6.318399906158447, -4.51170015335083, -5.688499927520752, -4.788300037384033, -5.759200096130371, -6.063600063323975, -4.764500141143799, -5.707399845123291, -4.486599922180176, -6.223599910736084, -5.848800182342529, -5.7179999351501465, -5.5802001953125, -5.369900226593018, -4.943299770355225, -3.82669997215271, -4.723100185394287, -5.309800148010254, -5.092700004577637, -6.086100101470947, -5.710599899291992, -4.7947998046875, -5.553899765014648, -5.487599849700928, -5.193900108337402, -5.4695000648498535, -5.01800012588501, -5.389400005340576, -5.4141998291015625, -5.069699764251709, -5.3755998611450195, -5.470099925994873, -5.327300071716309, -5.333199977874756, -5.440999984741211, -5.509399890899658, -5.5482001304626465, -5.324900150299072, -5.696800231933594, -5.797599792480469, -6.280700206756592, -6.196100234985352, -6.397500038146973, -6.421999931335449, -6.890699863433838, -7.112800121307373, -7.171599864959717, -7.263800144195557, -7.369800090789795, -7.388500213623047, -7.720200061798096, -7.895899772644043, -7.9045000076293945, -7.946000099182129, -7.668300151824951, -8.017200469970703, -8.029999732971191, -8.031100273132324, -8.106399536132812, -8.126299858093262, -8.168600082397461, -8.177800178527832, -8.192999839782715, -8.211999893188477, -8.222599983215332, -8.247699737548828, -8.252599716186523, -6.9517998695373535, -6.281499862670898, -7.411600112915039, -7.150899887084961, -5.973899841308594, -7.014400005340576, -5.277900218963623, -7.100900173187256, -5.473100185394287, -7.166600227355957, -7.482699871063232, -7.49370002746582, -6.326099872589111, -5.426000118255615, -5.605899810791016, -5.833700180053711, -3.960200071334839, -5.268599987030029, -2.8368000984191895, -5.732699871063232, -6.291399955749512, -6.0655999183654785, -4.045400142669678, -5.535999774932861, -4.842700004577637, -5.20389986038208, -4.490200042724609, -4.686299800872803, -4.069699764251709, -5.486000061035156, -5.809100151062012, -4.26039981842041, -4.483699798583984, -4.833399772644043, -5.51639986038208, -4.320899963378906, -4.442399978637695, -4.767199993133545, -5.015200138092041, -4.745500087738037, -4.650899887084961, -4.636099815368652, -4.873700141906738, -5.087600231170654, -4.894800186157227, -5.067999839782715, -5.068900108337402, -5.010300159454346, -5.065000057220459, -5.0914998054504395, -5.155799865722656, -5.168600082397461, -5.210100173950195, -5.242099761962891, -5.824699878692627, -6.0528998374938965, -3.5634000301361084, -6.32480001449585, -6.328800201416016, -6.630099773406982, -6.6894001960754395, -7.134799957275391, -7.24560022354126, -7.413000106811523, -7.498799800872803, -7.618299961090088, -7.6508002281188965, -7.683000087738037, -5.432000160217285, -7.909299850463867, -7.958600044250488, -7.963900089263916, -7.704400062561035, -8.126199722290039, -8.127400398254395, -8.190299987792969, -8.356399536132812, -8.527999877929688, -8.566499710083008, -8.575599670410156, -8.576600074768066, -8.57699966430664, -8.604599952697754, -8.614399909973145, -7.809700012207031, -6.444699764251709, -7.59689998626709, -8.471799850463867, -6.197199821472168, -3.242500066757202, -6.668499946594238, -3.132200002670288, -3.9981000423431396, -3.5666000843048096, -3.1695001125335693, -3.4809999465942383, -6.553199768066406, -5.760700225830078, -3.045599937438965, -5.140699863433838, -3.359299898147583, -5.017099857330322, -3.7692999839782715, -5.398900032043457, -5.370500087738037, -5.3394999504089355, -5.002299785614014, -6.548299789428711, -4.766900062561035, -3.928499937057495, -4.364200115203857, -4.409800052642822, -3.6340999603271484, -4.531300067901611, -4.55679988861084, -4.661799907684326, -4.679599761962891, -4.361700057983398, -4.773900032043457, -4.287899971008301, -4.598100185394287, -4.8059000968933105, -4.716100215911865, -4.658299922943115, -4.763899803161621, -4.910399913787842, -4.7683000564575195, -4.877799987792969, -4.901400089263916, -4.8979997634887695, -4.182300090789795, -4.289899826049805, -4.480100154876709, -4.682000160217285, -4.786799907684326, -4.852799892425537, -4.873000144958496, -4.89870023727417, -4.924600124359131, -4.968100070953369, -4.967700004577637, -4.968200206756592, -4.968500137329102, -4.968800067901611, -4.968999862670898, -4.968500137329102, -4.968800067901611, -4.9928998947143555, -5.012400150299072, -5.0584001541137695, -5.111199855804443, -5.172299861907959, -5.174099922180176, -5.196899890899658, -5.260000228881836, -5.26609992980957, -5.286399841308594, -5.311299800872803, -5.344900131225586, -5.365300178527832, -4.814899921417236, -3.5190999507904053, -4.8632001876831055, -4.311600208282471, -4.852499961853027, -4.951200008392334, -4.326600074768066, -4.992099761962891, -4.295899868011475, -4.480899810791016, -4.723400115966797, -4.403200149536133, -4.784900188446045, -4.1529998779296875, -4.421599864959717, -4.517399787902832, -4.806700229644775, -4.868899822235107, -4.908400058746338, -4.937900066375732, -4.964099884033203, -4.472099781036377, -5.165599822998047, -5.206999778747559, -5.443699836730957, -5.633900165557861, -5.643899917602539, -5.719600200653076, -5.753200054168701, -5.898900032043457, -5.940499782562256, -5.940700054168701, -5.942999839782715, -5.9618000984191895, -6.046199798583984, -6.057700157165527, -6.0767998695373535, -6.0767998695373535, -6.078400135040283, -6.0802001953125, -6.099100112915039, -6.101099967956543, -6.115900039672852, -6.126399993896484, -6.127200126647949, -6.129799842834473, -6.129700183868408, -6.131999969482422, -6.136099815368652, -6.030300140380859, -6.171199798583984, -6.112299919128418, -5.355400085449219, -4.918399810791016, -4.752799987792969, -5.320199966430664, -6.010300159454346, -4.936500072479248, -4.734899997711182, -5.619699954986572, -4.945099830627441, -5.049900054931641, -3.59060001373291, -4.936100006103516, -4.130099773406982, -4.25540018081665, -4.539000034332275, -5.673999786376953, -4.827899932861328, -3.9642999172210693, -5.065000057220459, -4.072199821472168, -3.510699987411499, -5.537300109863281, -4.672699928283691, -4.099299907684326, -4.835000038146973, -4.422900199890137, -4.591300010681152, -5.059599876403809, -4.7382001876831055, -5.2266998291015625, -5.059800148010254, -5.122099876403809, -5.0432000160217285, -5.070099830627441, -5.092100143432617, -5.074999809265137, -5.0584001541137695, -5.076000213623047, -5.077199935913086, -5.088200092315674, -5.092299938201904, -5.102399826049805, -5.135799884796143, -5.155099868774414, -5.117300033569336, -5.157400131225586, -5.163000106811523, -5.163000106811523, -5.166800022125244, -5.168300151824951, -5.186800003051758, -5.21619987487793, -5.228099822998047, -5.2804999351501465, -5.286499977111816, -5.3084001541137695, -5.3105998039245605, -5.325399875640869, -5.324699878692627, -5.3653998374938965, -5.364500045776367, -5.394999980926514, -5.394999980926514, -5.4197001457214355, -5.524099826812744, -5.565899848937988, -5.26639986038208, -4.186299800872803, -4.834799766540527, -3.965399980545044, -4.254700183868408, -4.047699928283691, -3.8615000247955322, -4.41379976272583, -4.992300033569336, -4.883399963378906, -4.7967000007629395, -4.803400039672852, -4.793900012969971, -4.838399887084961, -4.803400039672852, -4.858099937438965, -4.904900074005127, -4.9679999351501465, -5.127399921417236, -5.139400005340576, -4.6905999183654785, -4.743199825286865, -4.781899929046631, -4.864699840545654, -4.8927001953125, -5.001500129699707, -5.283699989318848, -5.3780999183654785, -5.504000186920166, -5.531899929046631, -5.711999893188477, -5.753399848937988, -5.786600112915039, -5.7947998046875, -5.799699783325195, -5.804200172424316, -5.804900169372559, -5.80810022354126, -5.824399948120117, -5.838200092315674, -5.8495001792907715, -5.86460018157959, -5.9039998054504395, -6.003300189971924, -5.754300117492676, -6.067399978637695, -6.071000099182129, -6.1605000495910645, -6.24370002746582, -6.244500160217285, -5.472700119018555, -5.898499965667725, -4.2484002113342285, -4.014400005340576, -5.19290018081665, -5.391200065612793, -5.127900123596191, -4.299200057983398, -4.349800109863281, -4.061100006103516, -4.440700054168701, -3.733599901199341, -5.548299789428711, -4.527400016784668, -5.141600131988525, -4.311100006103516, -5.297299861907959, -4.573299884796143, -5.189799785614014, -4.813899993896484, -4.605400085449219, -4.813700199127197, -4.661399841308594, -4.82289981842041, -4.872200012207031, -5.000999927520752, -5.10260009765625, -5.032199859619141, -5.138500213623047, -5.166100025177002, -3.676800012588501, -5.180699825286865, -5.354899883270264, -5.488900184631348, -5.535399913787842, -5.8043999671936035, -6.118800163269043, -6.126800060272217, -6.1956000328063965, -6.202499866485596, -6.330900192260742, -6.358500003814697, -6.502200126647949, -6.512499809265137, -6.587200164794922, -6.6290998458862305, -6.777100086212158, -6.788400173187256, -6.952700138092041, -6.9492998123168945, -6.978899955749512, -6.979100227355957, -7.023900032043457, -7.064000129699707, -7.106599807739258, -7.118899822235107, -7.126800060272217, -7.128200054168701, -7.131499767303467, -7.1350998878479, -5.162700176239014, -6.662700176239014, -5.162199974060059, -5.99399995803833, -6.870500087738037, -6.373000144958496, -5.411099910736084, -5.4695000648498535, -5.482699871063232, -4.307000160217285, -6.267300128936768, -6.612199783325195, -5.500800132751465, -5.494100093841553, -4.505000114440918, -3.1285998821258545, -4.604300022125244, -5.530600070953369, -3.765000104904175, -4.486599922180176, -6.04610013961792, -5.631199836730957, -5.333000183105469, -5.028500080108643, -3.8157999515533447, -3.9489998817443848, -3.9149999618530273, -3.4235999584198, -4.644199848175049, -3.9495999813079834, -4.188199996948242, -4.636499881744385, -4.6732001304626465, -4.622300148010254, -4.7845001220703125, -4.810100078582764, -4.52269983291626, -4.553500175476074, -4.7870001792907715, -4.748600006103516, -4.961299896240234, -4.958499908447266, -4.871099948883057, -5.001200199127197, -4.966400146484375, -4.96619987487793, -3.714600086212158, -3.7990000247955322, -4.150599956512451, -4.165500164031982, -4.577199935913086, -4.689000129699707, -4.731299877166748, -4.909900188446045, -5.047399997711182, -5.317599773406982, -5.387400150299072, -5.412499904632568, -5.497900009155273, -5.583899974822998, -5.593699932098389, -5.599999904632568, -5.607800006866455, -5.6641998291015625, -5.728000164031982, -5.759900093078613, -5.804500102996826, -5.827700138092041, -5.874300003051758, -5.902299880981445, -6.014400005340576, -6.045300006866455, -6.081900119781494, -6.112500190734863, -6.173900127410889, -6.258900165557861, -4.011899948120117, -3.960200071334839, -4.193900108337402, -4.186200141906738, -4.48360013961792, -5.381499767303467, -4.964399814605713, -5.103400230407715, -4.423900127410889, -2.833400011062622, -5.191299915313721, -5.563700199127197, -3.96370005607605, -3.9030001163482666, -3.950500011444092, -5.367499828338623, -4.448400020599365, -4.923299789428711, -5.161600112915039, -4.190000057220459, -4.044099807739258, -4.641600131988525, -4.628399848937988, -4.8414998054504395, -4.688300132751465, -4.90310001373291, -4.780799865722656, -4.909299850463867, -4.885300159454346, -3.601099967956543, -4.468400001525879, -4.549099922180176, -4.568699836730957, -4.6168999671936035, -4.633999824523926, -4.651500225067139, -4.826499938964844, -4.829699993133545, -4.839000225067139, -4.843100070953369, -4.845099925994873, -4.865300178527832, -4.892300128936768, -5.284900188446045, -5.30019998550415, -5.301700115203857, -5.311299800872803, -5.32919979095459, -5.344699859619141, -5.598100185394287, -5.7916998863220215, -5.813700199127197, -5.82919979095459, -5.843100070953369, -5.848599910736084, -5.894100189208984, -5.9156999588012695, -5.9721999168396, -6.3282999992370605, -5.653600215911865, -5.031700134277344, -2.9971001148223877, -3.363100051879883, -5.010799884796143, -5.597300052642822, -4.576499938964844, -5.037399768829346, -4.1946001052856445, -4.5843000411987305, -4.8582000732421875, -5.097099781036377, -4.551199913024902, -4.232100009918213, -4.415599822998047, -4.26800012588501, -3.8268001079559326, -4.941500186920166, -4.193900108337402, -4.143599987030029, -4.609300136566162, -4.589200019836426, -4.591899871826172, -4.58519983291626, -4.647500038146973, -4.64109992980957, -4.744100093841553, -4.688300132751465, -4.720200061798096, -4.777100086212158, -4.785900115966797, -4.807000160217285, -4.933300018310547, -5.021399974822998, -5.126299858093262, -5.25629997253418, -5.377799987792969, -5.394700050354004, -5.395699977874756, -5.398499965667725, -5.405799865722656, -5.415200233459473, -5.415200233459473, -5.415200233459473, -5.415200233459473, -5.415500164031982, -5.467400074005127, -5.991000175476074, -6.017600059509277, -6.145899772644043, -6.269599914550781, -6.120800018310547, -6.326900005340576, -6.410600185394287, -6.514699935913086, -6.519499778747559, -6.575799942016602, -6.5229997634887695, -2.348599910736084, -4.699900150299072, -5.338699817657471, -5.637599945068359, -3.6349000930786133, -4.783100128173828, -5.6072998046875, -5.3130998611450195, -3.7439000606536865, -5.418499946594238, -5.0767998695373535, -4.7947998046875, -4.244900226593018, -3.9704999923706055, -3.725800037384033, -4.630199909210205, -3.993799924850464, -4.756700038909912, -4.17549991607666, -4.451399803161621, -4.866199970245361, -4.456399917602539, -4.538099765777588, -5.15500020980835, -4.928999900817871, -4.4781999588012695, -4.676000118255615, -4.933000087738037, -4.945899963378906, -4.924699783325195, -4.83050012588501, -4.942800045013428, -4.031700134277344, -4.3643999099731445, -4.657299995422363, -4.841000080108643, -4.939899921417236, -5.133200168609619, -5.226099967956543, -5.2743000984191895, -5.355000019073486, -5.429900169372559, -5.533999919891357, -5.556700229644775, -5.686999797821045, -5.832900047302246, -5.945099830627441, -5.94920015335083, -5.964399814605713, -5.965700149536133, -5.998199939727783, -5.999599933624268, -6.017000198364258, -6.030799865722656, -6.065100193023682, -6.097400188446045, -6.0995001792907715, -6.152200222015381, -6.15310001373291, -6.2052998542785645, -6.210400104522705, -6.279600143432617, -4.168000221252441, -5.96019983291626, -4.1697001457214355, -3.9674999713897705, -4.136000156402588, -4.0802001953125, -5.716300010681152, -5.399700164794922, -4.548600196838379, -3.7167000770568848, -5.69890022277832, -5.185800075531006, -5.654300212860107, -4.362299919128418, -5.08620023727417, -4.441199779510498, -4.630000114440918, -4.55049991607666, -5.465799808502197, -4.310800075531006, -4.916999816894531, -4.613699913024902, -4.74459981918335, -4.885799884796143, -4.957900047302246, -5.043300151824951, -5.065999984741211, -5.2291998863220215, -5.188600063323975, -5.219299793243408, -5.209799766540527]}, \"token.table\": {\"Topic\": [1, 2, 4, 5, 6, 8, 9, 10, 12, 14, 15, 1, 6, 5, 14, 7, 15, 13, 14, 5, 2, 11, 15, 2, 1, 2, 8, 1, 2, 4, 5, 6, 8, 9, 10, 13, 4, 1, 2, 3, 4, 5, 6, 7, 8, 9, 11, 12, 13, 14, 15, 8, 1, 2, 4, 5, 8, 14, 1, 2, 4, 5, 6, 7, 9, 10, 14, 15, 1, 2, 3, 4, 5, 6, 7, 8, 9, 10, 11, 13, 14, 15, 7, 4, 5, 1, 3, 4, 6, 6, 12, 1, 5, 9, 13, 5, 9, 1, 2, 4, 5, 8, 9, 11, 1, 2, 3, 4, 5, 6, 7, 8, 9, 10, 11, 13, 14, 15, 1, 6, 1, 2, 3, 4, 5, 8, 10, 13, 14, 15, 12, 11, 8, 6, 7, 9, 15, 2, 11, 3, 7, 3, 1, 2, 3, 4, 5, 6, 7, 8, 9, 10, 11, 12, 13, 14, 15, 7, 4, 7, 13, 11, 15, 1, 2, 3, 4, 5, 7, 9, 11, 3, 3, 3, 6, 1, 2, 3, 4, 5, 6, 8, 9, 10, 11, 12, 14, 15, 15, 2, 9, 1, 2, 3, 4, 5, 6, 7, 8, 9, 10, 11, 12, 13, 14, 15, 8, 5, 3, 12, 4, 7, 4, 13, 10, 4, 12, 1, 3, 4, 6, 11, 14, 2, 3, 4, 6, 11, 14, 1, 2, 4, 5, 8, 11, 13, 14, 15, 1, 12, 3, 8, 14, 1, 2, 3, 4, 5, 6, 7, 8, 9, 10, 11, 14, 15, 1, 1, 2, 3, 4, 5, 6, 7, 8, 9, 10, 11, 12, 1, 2, 3, 4, 5, 6, 7, 8, 9, 10, 11, 13, 14, 15, 3, 7, 14, 10, 3, 4, 1, 2, 3, 4, 5, 6, 7, 8, 9, 10, 11, 13, 14, 15, 2, 9, 12, 14, 1, 2, 3, 4, 5, 6, 7, 8, 9, 10, 11, 12, 13, 14, 15, 11, 7, 8, 14, 2, 5, 8, 2, 2, 2, 2, 7, 6, 2, 1, 2, 3, 4, 5, 6, 7, 8, 10, 11, 12, 13, 14, 15, 2, 4, 6, 11, 12, 1, 8, 8, 12, 2, 6, 10, 12, 5, 6, 1, 2, 4, 11, 14, 15, 14, 1, 2, 3, 4, 5, 7, 8, 9, 10, 11, 12, 13, 14, 15, 2, 1, 3, 10, 10, 9, 10, 7, 10, 13, 4, 6, 6, 5, 7, 1, 2, 13, 1, 15, 1, 2, 3, 4, 5, 6, 7, 9, 11, 14, 15, 2, 5, 15, 1, 2, 3, 4, 5, 7, 8, 9, 10, 11, 12, 14, 15, 1, 2, 3, 4, 5, 6, 7, 8, 9, 10, 11, 12, 13, 14, 15, 1, 2, 3, 4, 5, 6, 7, 9, 10, 1, 2, 3, 4, 5, 6, 7, 8, 10, 11, 9, 1, 13, 1, 3, 1, 2, 3, 4, 5, 6, 7, 8, 10, 11, 12, 14, 15, 1, 2, 3, 4, 5, 6, 7, 8, 9, 10, 11, 14, 5, 2, 8, 2, 5, 10, 2, 3, 5, 1, 2, 3, 4, 5, 8, 9, 10, 13, 14, 1, 2, 3, 4, 5, 6, 7, 8, 9, 10, 11, 13, 14, 15, 7, 13, 14, 4, 8, 1, 2, 3, 4, 5, 6, 7, 8, 9, 10, 11, 13, 14, 15, 1, 3, 4, 5, 6, 7, 10, 11, 13, 5, 1, 2, 3, 4, 5, 6, 7, 8, 9, 10, 11, 12, 13, 14, 15, 1, 2, 7, 2, 15, 2, 15, 3, 9, 9, 3, 1, 2, 3, 4, 5, 7, 8, 9, 10, 11, 12, 14, 15, 4, 7, 8, 4, 6, 2, 3, 4, 6, 7, 8, 11, 14, 11, 9, 13, 11, 6, 11, 1, 2, 3, 4, 5, 8, 14, 11, 2, 3, 7, 8, 2, 6, 1, 2, 3, 4, 5, 6, 7, 8, 9, 10, 11, 12, 13, 14, 15, 10, 7, 1, 2, 5, 9, 10, 1, 2, 4, 5, 6, 7, 8, 9, 10, 14, 15, 1, 2, 3, 4, 5, 6, 7, 9, 10, 11, 13, 14, 15, 15, 6, 1, 2, 3, 4, 5, 6, 8, 9, 10, 11, 12, 13, 14, 15, 1, 2, 3, 9, 10, 11, 1, 2, 3, 4, 5, 6, 7, 8, 9, 10, 11, 12, 13, 14, 15, 9, 1, 10, 13, 8, 12, 6, 2, 3, 4, 5, 8, 13, 1, 3, 4, 5, 6, 8, 9, 10, 13, 14, 12, 7, 10, 13, 5, 6, 8, 10, 11, 13, 5, 1, 2, 3, 4, 5, 7, 8, 9, 10, 11, 12, 13, 14, 15, 12, 14, 5, 14, 1, 4, 1, 4, 1, 5, 6, 10, 13, 1, 2, 3, 4, 5, 6, 7, 8, 9, 10, 11, 14, 15, 4, 5, 1, 2, 3, 4, 5, 8, 9, 11, 9, 1, 2, 3, 4, 7, 8, 9, 10, 11, 12, 12, 7, 11, 2, 11, 2, 1, 2, 3, 4, 5, 6, 7, 8, 9, 10, 11, 12, 13, 14, 15, 5, 11, 3, 8, 14, 8, 1, 3, 4, 5, 6, 7, 9, 10, 11, 12, 13, 14, 15, 5, 10, 13, 4, 1, 2, 3, 4, 5, 7, 8, 9, 10, 11, 12, 13, 14, 15, 2, 8, 1, 2, 3, 5, 8, 10, 12, 13, 2, 3, 14, 10, 11, 6, 1, 2, 3, 4, 5, 6, 7, 8, 9, 10, 11, 12, 13, 14, 15, 14, 1, 2, 3, 4, 5, 6, 7, 8, 9, 10, 11, 12, 13, 15, 4, 5, 10, 14, 11, 14, 4, 1, 3, 4, 5, 6, 7, 8, 11, 12, 14, 12, 15, 2, 5, 6, 7, 9, 15, 5, 9, 5, 6, 7, 1, 2, 3, 4, 5, 6, 8, 9, 11, 13, 15, 3, 10, 10, 10, 10, 3, 14, 14, 10, 10, 3, 2, 6, 7, 15, 2, 6, 15, 9, 6, 11, 6, 8, 10, 11, 10, 8, 3, 3, 14, 3, 3, 7, 5, 14, 13, 4, 7, 14, 15, 14, 1, 2, 3, 4, 5, 7, 8, 9, 10, 11, 12, 13, 15, 1, 2, 3, 4, 8, 9, 10, 11, 12, 14, 15, 10, 13, 1, 8, 12, 13, 1, 1, 10, 12, 1, 12, 1, 4, 5, 15, 15, 1, 3, 6, 1, 2, 3, 4, 5, 6, 7, 8, 9, 10, 11, 12, 13, 14, 15, 1, 2, 4, 5, 6, 7, 9, 10, 11, 13, 15, 1, 2, 3, 4, 5, 6, 7, 8, 9, 10, 12, 13, 14, 15, 3, 7, 7, 4, 14, 15, 14, 1, 2, 3, 4, 5, 7, 8, 9, 10, 11, 12, 13, 14, 15, 1, 2, 3, 4, 5, 6, 7, 8, 9, 10, 11, 12, 13, 14, 15, 7, 13, 1, 2, 3, 4, 5, 6, 7, 8, 9, 13, 13, 9, 9, 9, 14, 9, 7, 1, 2, 2, 8, 2, 5, 6, 1, 2, 4, 5, 6, 7, 8, 9, 10, 11, 14, 15, 4, 13, 14, 1, 14, 2, 9, 2, 7, 10, 1, 2, 4, 5, 6, 7, 13, 1, 2, 3, 4, 5, 6, 7, 8, 9, 10, 11, 13, 14, 15, 1, 2, 4, 8, 9, 10, 14, 15, 1, 1, 6, 6, 8, 12, 2, 7, 8, 8, 11, 3, 4, 9, 3, 1, 2, 3, 4, 5, 7, 8, 9, 10, 11, 12, 14, 15, 1, 9, 9, 3, 4, 5, 6, 8, 11, 12, 14, 14, 1, 2, 3, 4, 5, 6, 7, 8, 9, 10, 11, 12, 13, 14, 15, 3, 2, 5, 15, 5, 8, 14, 12, 2, 7, 9, 11, 15, 11, 1, 4, 6, 11, 4, 8, 5, 7, 10, 13, 7, 1, 3, 4, 5, 8, 10, 11, 14, 9, 1, 2, 3, 4, 5, 6, 7, 8, 9, 10, 11, 12, 13, 14, 15, 1, 2, 4, 5, 8, 9, 11, 14, 15, 4, 6, 8, 11, 6, 8, 11, 9, 2, 9, 9, 12, 1, 2, 3, 4, 5, 8, 9, 10, 13, 14, 15, 14, 1, 2, 3, 4, 7, 8, 9, 10, 11, 12, 13, 14, 15, 13, 13, 10, 15, 1, 3, 4, 7, 10, 13, 14, 15, 1, 2, 5, 6, 7, 9, 10, 15, 4, 14, 1, 3, 3, 4, 5, 6, 11, 12, 3, 14, 14, 1, 12, 14, 1, 13, 1, 4, 5, 6, 9, 10, 11, 12, 13, 15, 1, 3, 4, 5, 6, 9, 10, 12, 13, 5, 4, 12, 8, 2, 3, 5, 6, 8, 9, 14, 15, 4, 14, 1, 2, 3, 4, 5, 6, 7, 8, 9, 10, 11, 12, 13, 14, 15, 1, 4, 5, 6, 10, 15, 8, 1, 4, 10, 1, 1, 9, 2, 1, 2, 3, 4, 5, 6, 7, 8, 9, 10, 11, 13, 14, 15, 1, 2, 3, 4, 5, 6, 7, 8, 9, 10, 11, 13, 14, 15, 4, 11, 4, 11, 4, 3, 8, 2, 3, 4, 5, 8, 9, 10, 14, 12, 1, 14, 11, 5, 15, 1, 2, 3, 4, 5, 7, 8, 9, 10, 11, 12, 13, 15, 5, 1, 3, 4, 8, 14, 2, 1, 12, 1, 2, 3, 4, 5, 6, 7, 8, 9, 10, 11, 13, 14, 15, 1, 2, 4, 5, 6, 7, 9, 11, 14, 15, 12, 12, 3, 7, 14, 1, 2, 3, 4, 5, 6, 7, 8, 9, 10, 11, 12, 13, 14, 15, 5, 1, 2, 4, 5, 6, 7, 8, 9, 10, 11, 12, 13, 14, 15, 14, 1, 13, 3, 10, 15, 1, 3, 4, 7, 9, 11, 12, 13, 1, 7, 1, 2, 3, 4, 5, 6, 7, 8, 10, 12, 14, 5, 9, 3, 4, 5, 5, 1, 2, 3, 4, 5, 7, 8, 9, 10, 14, 15, 4, 1, 2, 3, 4, 5, 6, 7, 8, 13, 14, 15, 8, 1, 8, 10, 2, 3, 8, 9, 15, 3, 9, 7, 1, 2, 3, 4, 5, 7, 8, 9, 10, 6, 7, 9, 2, 6, 15, 1, 2, 15, 1, 5, 1, 10, 12, 5, 10, 12, 13, 13, 11, 1, 10, 12, 13, 13, 10, 2, 4, 7, 10, 3, 6, 4, 1, 3, 4, 1, 2, 3, 4, 5, 6, 8, 9, 10, 11, 12, 13, 14, 15, 1, 2, 3, 4, 5, 6, 7, 8, 9, 10, 11, 12, 13, 14, 1, 2, 3, 4, 5, 7, 8, 9, 10, 14, 1, 13, 1, 2, 3, 4, 5, 6, 7, 8, 9, 10, 11, 12, 13, 14, 15, 14, 13, 11, 1, 2, 3, 4, 5, 6, 7, 8, 9, 10, 11, 13, 14, 15, 10, 3, 14, 1, 2, 3, 4, 5, 6, 7, 8, 9, 10, 13, 14, 15, 3, 3, 8, 4, 11, 1, 3, 4, 7, 9, 1, 2, 3, 4, 5, 6, 7, 8, 9, 10, 11, 12, 13, 14, 15, 3, 7, 8, 7, 1, 3, 4, 5, 6, 7, 8, 10, 11, 12, 13, 14, 10, 10, 3, 3, 1, 2, 5, 8, 12, 7, 2, 2, 11, 15, 2, 11, 14, 15, 12, 1, 2, 3, 4, 5, 6, 7, 8, 10, 11, 13, 8, 1, 2, 3, 4, 5, 6, 7, 8, 9, 10, 11, 13, 15, 5, 7, 10, 3, 11, 11, 4, 13, 15, 7, 10, 4, 10, 11, 1, 7, 15, 1, 2, 3, 4, 5, 8, 9, 10, 11, 12, 13, 10, 7, 1, 4, 8, 1, 2, 3, 4, 8, 10, 11, 14, 15, 11, 12, 1, 2, 3, 4, 5, 8, 9, 10, 14, 8, 2, 4, 1, 2, 3, 4, 5, 6, 7, 8, 9, 10, 11, 12, 13, 15, 12, 1, 2, 3, 4, 5, 6, 8, 9, 11, 14, 4, 2, 3, 4, 6, 7, 8, 11, 14, 15, 15, 15, 15, 4, 1, 2, 3, 4, 5, 6, 7, 8, 9, 10, 11, 14, 15, 1, 2, 3, 4, 5, 6, 7, 8, 9, 10, 11, 14, 15, 1, 3, 8, 1, 1, 3, 4, 11, 14, 1, 1, 3, 4, 5, 15, 1, 4, 7, 1, 3, 4, 7, 11, 14, 1, 2, 3, 4, 5, 6, 8, 10, 11, 12, 13, 14, 9, 1, 2, 5, 6, 8, 9, 12, 13, 1, 4, 13, 8, 1, 2, 3, 4, 8, 10, 5, 7, 8, 9, 1, 2, 3, 4, 5, 7, 8, 9, 10, 11, 12, 13, 14, 15, 7, 6, 6, 1, 2, 3, 4, 5, 7, 8, 9, 10, 11, 12, 13, 14, 15, 11, 1, 2, 3, 4, 5, 6, 8, 9, 11, 13, 15, 1, 10, 12, 13, 1, 2, 4, 8, 9, 11, 14, 8, 7, 9, 1, 3, 4, 5, 6, 7, 10, 13, 15, 5, 4, 4, 4, 6, 13, 13, 2, 3, 4, 6, 7, 11, 14, 15, 15, 15, 15, 4, 8, 11, 1, 2, 4, 8, 11, 15, 3, 8, 1, 3, 4, 5, 8, 9, 14, 15, 1, 4, 11, 13, 3, 7, 1, 2, 3, 4, 5, 7, 8, 9, 10, 11, 12, 13, 14, 15, 15, 12, 1, 4, 5, 6, 11, 14, 15, 6, 1, 4, 13, 11, 4, 7, 15, 4, 4, 4, 8, 2, 5, 6, 7, 9, 10, 11, 13, 1, 2, 3, 4, 5, 8, 13, 15, 1, 2, 3, 4, 5, 6, 7, 8, 13, 15, 2, 5, 6, 7, 9, 14, 15, 10, 6, 2, 3, 11, 14, 2, 8, 1, 2, 3, 4, 5, 8, 9, 10, 11, 14, 15, 5, 13, 6, 1, 2, 3, 4, 7, 8, 9, 3, 1, 2, 3, 4, 5, 7, 8, 9, 11, 14, 15, 14, 8, 8, 1, 6, 10, 12, 4, 4, 7, 1, 2, 3, 4, 5, 6, 8, 9, 10, 12, 13, 14, 11, 8, 14, 7, 1, 2, 3, 4, 5, 6, 7, 10, 12, 13, 14, 15, 7, 1, 2, 4, 8, 9, 15, 2, 7, 15, 15, 3, 4, 5, 6, 10, 14, 5, 6, 12, 12, 13, 5, 13, 9, 13, 1, 2, 3, 4, 5, 7, 8, 9, 10, 13, 15, 5, 15, 14, 14, 1, 2, 3, 4, 5, 8, 9, 10, 11, 12, 15, 5, 8, 1, 2, 3, 4, 5, 6, 7, 8, 9, 10, 11, 12, 13, 14, 15, 14, 11, 1, 2, 3, 4, 5, 6, 7, 8, 9, 10, 11, 12, 13, 14, 15, 15, 5, 1, 2, 3, 4, 5, 6, 11, 13, 9, 3, 9, 9, 1, 3, 4, 7, 8, 9, 11, 12, 14, 1, 5, 7, 6, 9, 1, 4, 8, 15, 2, 12, 11, 12, 8, 5, 2, 9, 10, 1, 2, 3, 4, 5, 6, 7, 8, 9, 10, 11, 13, 14, 15, 3, 4, 5, 1, 2, 3, 4, 5, 8, 9, 10, 15, 1, 2, 3, 4, 8, 9, 10, 11, 12, 14, 1, 8, 9, 6, 12, 8, 1, 3, 5, 15, 15, 1, 2, 3, 4, 5, 6, 7, 8, 9, 10, 11, 14, 15, 2, 3, 15, 10, 12, 4, 7, 11, 12, 14, 2, 5, 6, 7, 9, 10, 15, 1, 3, 4, 5, 6, 8, 10, 13, 14, 13, 10, 12, 13, 12, 10, 3, 6, 5, 8, 1, 3, 4, 7, 10, 11, 12, 15, 1, 3, 4, 7, 3, 1, 2, 3, 4, 11, 14, 1, 5, 1, 2, 3, 4, 5, 7, 8, 9, 10, 11, 14, 15, 13, 1, 2, 3, 4, 5, 7, 8, 9, 10, 11, 12, 14, 15, 1, 2, 3, 4, 5, 6, 7, 8, 9, 10, 11, 12, 13, 14, 15, 9, 1, 2, 3, 4, 5, 6, 7, 8, 9, 10, 11, 13, 14, 11, 1, 4, 1, 6, 1, 11, 1, 2, 3, 4, 5, 6, 7, 8, 11, 12, 14, 1, 2, 3, 4, 5, 6, 7, 8, 9, 10, 11, 12, 13, 14, 15, 1, 5, 7, 8, 11, 12, 15, 8, 1, 4, 7, 8, 15, 8, 1, 2, 3, 4, 5, 6, 7, 8, 9, 10, 11, 12, 13, 14, 15, 3, 2, 3, 4, 5, 8, 9, 15, 1, 2, 3, 4, 5, 7, 8, 9, 10, 11, 12, 13, 14, 15, 1, 2, 4, 5, 7, 8, 9, 10, 11, 12, 13, 14, 15, 6, 5, 1, 6, 7, 10, 3, 3, 14, 2, 1, 2, 3, 4, 5, 6, 7, 8, 9, 10, 11, 12, 13, 14, 15, 1, 2, 3, 4, 5, 6, 7, 8, 9, 10, 11, 12, 13, 14, 15, 9, 1, 5, 8, 13, 12, 13, 7, 1, 4, 5, 11, 14, 12, 12, 5, 11, 2, 3, 4, 5, 6, 7, 9, 11, 12, 13, 8, 5, 1, 2, 3, 4, 7, 8, 9, 10, 13, 14, 2, 7, 8, 9, 11, 15, 2, 1, 2, 9, 13, 13, 1, 3, 4, 5, 7, 8, 9, 10, 11, 12, 13, 13, 2, 1, 2, 3, 4, 5, 6, 7, 8, 9, 10, 11, 12, 14, 15, 6, 1, 2, 3, 4, 5, 9, 10, 11, 13, 14, 14, 4, 12, 1, 2, 3, 4, 5, 6, 7, 8, 9, 10, 11, 14, 15, 2, 1, 1, 2, 3, 4, 5, 7, 8, 9, 10, 11, 12, 14, 15, 1, 7, 1, 2, 3, 4, 5, 7, 8, 9, 11, 13, 14, 15, 1, 3, 5, 6, 8, 9, 10, 13, 14, 8, 2, 3, 5, 7, 8, 10, 11, 13, 14, 1, 2, 3, 4, 5, 6, 7, 8, 9, 10, 12, 13, 14, 15, 4, 2, 3, 4, 6, 7, 9, 11, 14, 15, 11, 15, 4, 6, 1, 2, 3, 6, 8, 9, 11, 1, 2, 5, 8, 9, 10, 14, 9, 2, 4, 12, 1, 11, 10, 6, 8, 1, 2, 3, 4, 5, 8, 9, 10, 11, 13, 14, 1, 3, 4, 8, 10, 12, 14, 1, 2, 3, 4, 9, 11, 12, 14, 4, 6, 1, 4, 13, 1, 2, 3, 4, 5, 6, 7, 8, 9, 10, 11, 14, 15, 10, 11, 9, 2, 6, 10, 5, 9, 15, 15, 13, 12, 3, 2, 5, 11, 13, 1, 2, 3, 4, 5, 6, 7, 8, 9, 10, 11, 12, 13, 14, 15, 1, 1, 2, 3, 4, 5, 7, 8, 9, 10, 11, 12, 13, 14, 2, 3, 4, 9, 15, 15, 1, 1, 2, 4, 5, 6, 7, 8, 9, 14, 15, 1, 2, 3, 4, 5, 6, 7, 8, 9, 10, 11, 13, 14, 15, 1, 2, 3, 4, 5, 6, 7, 8, 9, 10, 11, 12, 13, 14, 15, 14, 14, 10, 14, 1, 2, 3, 4, 5, 6, 7, 8, 9, 10, 13, 14, 2, 10, 13, 1, 2, 3, 4, 5, 6, 7, 8, 9, 10, 11, 13, 14, 15, 15, 2, 3, 4, 5, 6, 7, 14, 15, 9], \"Freq\": [0.13566090166568756, 0.24034899473190308, 0.11359277367591858, 0.33721646666526794, 0.008130362257361412, 0.000696888193488121, 0.014479788020253181, 0.037631962448358536, 0.06163588911294937, 0.030585648491978645, 0.02005489356815815, 0.019737230613827705, 0.9802824258804321, 0.9645353555679321, 0.03514501452445984, 0.999936580657959, 0.9996898770332336, 0.5628860592842102, 0.43712568283081055, 1.0021437406539917, 1.001783847808838, 0.9814009666442871, 0.013352394104003906, 1.0004189014434814, 0.9310094714164734, 0.06903276592493057, 0.9997500777244568, 0.14915083348751068, 0.08975191414356232, 0.29452571272850037, 0.2431144118309021, 0.10819607973098755, 0.054170653223991394, 0.02904592640697956, 0.0024689037818461657, 0.029481615871191025, 0.9984964728355408, 0.13819055259227753, 0.1447657197713852, 0.007509137969464064, 0.062053125351667404, 0.20476411283016205, 0.00014943558198865503, 0.0857386663556099, 0.20838791131973267, 0.0593259260058403, 0.006649883463978767, 0.02917729690670967, 0.03007391095161438, 0.0016811502864584327, 0.021518724039196968, 0.9996557235717773, 0.08226338773965836, 0.000685528211761266, 0.4620460271835327, 0.10385752469301224, 0.3472200632095337, 0.0034276412334293127, 0.05825776606798172, 0.004569236654788256, 0.08491164445877075, 0.0970962792634964, 0.6644431352615356, 0.009900012984871864, 0.002284618327394128, 0.006473085377365351, 0.00038076972123235464, 0.07196547836065292, 0.007283594459295273, 0.0320008248090744, 0.0021615829318761826, 0.012499588541686535, 0.13655565679073334, 0.76905357837677, 0.0054979389533400536, 0.00093981868121773, 0.01762159913778305, 0.010525968857109547, 0.0007048639818094671, 0.0002349546703044325, 0.0035243199672549963, 0.0014097279636189342, 1.0000336170196533, 0.9989914298057556, 0.9962117671966553, 0.0778411477804184, 0.0035063577815890312, 0.6690130829811096, 0.2496526837348938, 0.9979457855224609, 0.9994897246360779, 0.24783191084861755, 0.3165319263935089, 0.26810726523399353, 0.16751782596111298, 0.9848373532295227, 0.014109417796134949, 0.5636870861053467, 0.03594880923628807, 0.0022009476087987423, 0.23843598365783691, 0.034481510519981384, 0.12300851196050644, 0.0017118480755016208, 0.20038646459579468, 0.21035294234752655, 0.04877530410885811, 0.03193800896406174, 0.18453072011470795, 0.0030956463888287544, 0.07074684649705887, 0.012911110185086727, 0.08395996689796448, 0.012307081371545792, 0.10532747954130173, 0.005587263964116573, 0.016535282135009766, 0.013590642251074314, 0.9999954700469971, 1.0007814168930054, 0.9999275803565979, 0.11250641196966171, 0.001018157578073442, 0.04276261851191521, 0.7264553904533386, 0.07381642609834671, 0.013236048631370068, 0.00559986662119627, 0.020363152027130127, 0.004581708926707506, 0.9999595284461975, 1.0013208389282227, 1.0003949403762817, 0.994635283946991, 1.0001500844955444, 0.9995194673538208, 0.9994029402732849, 0.9220688939094543, 0.07809630781412125, 0.9881266951560974, 0.011557037942111492, 0.9986034631729126, 0.023194748908281326, 0.07618937641382217, 0.01044531725347042, 0.0744996890425682, 0.16973640024662018, 0.4903154969215393, 0.009370064362883568, 0.009830886498093605, 0.023655571043491364, 0.044546205550432205, 0.03532974794507027, 0.0007680380367673934, 0.022273102775216103, 0.005990696605294943, 0.0036865826696157455, 1.0001332759857178, 0.9092076420783997, 0.014986938796937466, 0.0749346986413002, 0.9992045164108276, 1.0005874633789062, 0.6301468014717102, 0.0035143322311341763, 0.0005406665150076151, 0.19139593839645386, 0.0016219995450228453, 0.08731763809919357, 0.002973665716126561, 0.08245164155960083, 0.9995659589767456, 0.9992762804031372, 0.9997338056564331, 1.0028822422027588, 0.0008484106510877609, 0.14663363993167877, 0.007635695859789848, 0.08045761287212372, 0.18834716081619263, 0.1674197018146515, 0.003817847929894924, 0.06051995977759361, 0.009615320712327957, 0.19301342964172363, 0.033653624355793, 0.027573347091674805, 0.08074041455984116, 0.9983971118927002, 0.9995422959327698, 0.0005774363526143134, 0.08297789841890335, 0.08038768917322159, 0.05454661324620247, 0.04869580268859863, 0.0673452615737915, 0.3019261658191681, 0.014779389835894108, 0.023738441988825798, 0.025962969288229942, 0.04311925172805786, 0.09519755840301514, 0.012158714234828949, 0.027821820229291916, 0.08943816274404526, 0.031874727457761765, 0.9995840787887573, 0.9997559189796448, 0.9984890818595886, 0.9999778270721436, 0.999390721321106, 0.9997953176498413, 0.9994882345199585, 0.99968421459198, 0.999700129032135, 0.9816633462905884, 0.01940046064555645, 0.0017417502822354436, 0.19884981215000153, 0.25081202387809753, 0.022933045402169228, 0.4122142195701599, 0.11350405961275101, 0.030409734696149826, 0.15569783747196198, 0.017029451206326485, 0.001216389355249703, 0.7274008393287659, 0.06811780482530594, 0.26406243443489075, 0.12221071124076843, 0.038190845400094986, 0.2542419135570526, 0.060559771955013275, 0.0024551257956773043, 0.00027279177447780967, 0.2403295487165451, 0.01745867356657982, 0.044811464846134186, 0.9550443291664124, 0.9596385955810547, 0.039824359118938446, 0.9977731704711914, 0.2355685830116272, 0.0339588038623333, 0.13797824084758759, 0.0400581993162632, 0.04253092780709267, 0.01005576178431511, 0.4427832365036011, 0.0008242427720688283, 0.004780608229339123, 0.01467152126133442, 0.008242427371442318, 0.0067587909288704395, 0.021760009229183197, 0.9997243285179138, 0.046970684081315994, 0.034033842384815216, 0.0847860649228096, 0.0947374776005745, 0.07841715961694717, 0.07423756271600723, 0.0059708496555686, 0.41358083486557007, 0.012339755892753601, 0.012339755892753601, 0.007762104272842407, 0.1349412053823471, 0.19609259068965912, 0.044996052980422974, 0.12210146337747574, 0.015786204487085342, 0.01975960284471512, 0.002899507060647011, 0.03758620098233223, 0.22691327333450317, 0.0736689567565918, 0.12070540338754654, 0.09213989228010178, 0.0021477830596268177, 0.009665023535490036, 0.035760585218667984, 0.016338475048542023, 0.9740244746208191, 0.009635510854423046, 0.9993722438812256, 0.9992539286613464, 1.0004204511642456, 0.009115462191402912, 0.02501075156033039, 0.04687488451600075, 0.022837314754724503, 0.14818303287029266, 0.5789453983306885, 0.011970126070082188, 0.016089925542473793, 0.0012002565199509263, 0.00016219684039242566, 0.0195933785289526, 0.0898246094584465, 0.011061823926866055, 0.01910678669810295, 0.9980762600898743, 1.0001801252365112, 0.2791016399860382, 0.7211238145828247, 0.06062827631831169, 0.15357211232185364, 0.030655844137072563, 0.13316743075847626, 0.2514950931072235, 0.27238792181015015, 0.004198093432933092, 0.003905203193426132, 0.01689000427722931, 0.035927869379520416, 0.008981967344880104, 0.0013668211176991463, 0.017475783824920654, 0.0018549715168774128, 0.007419886067509651, 0.9956544041633606, 1.0001351833343506, 0.9997912645339966, 0.9999071955680847, 0.9295952916145325, 0.023744452744722366, 0.04630168154835701, 0.9992253184318542, 0.9990401864051819, 1.0000907182693481, 0.9998884797096252, 1.0000427961349487, 0.9916388392448425, 0.9983311295509338, 0.1722588986158371, 0.014841515570878983, 0.10624254494905472, 0.18466737866401672, 0.05855504795908928, 0.056933026760816574, 0.009083331562578678, 0.23243597149848938, 0.006244790740311146, 0.001703124726191163, 0.10445831716060638, 0.022302823141217232, 0.014111604541540146, 0.016139134764671326, 1.0002413988113403, 0.07071907073259354, 0.00043121384805999696, 0.06425086408853531, 0.8645837903022766, 0.1255766749382019, 0.8741717338562012, 0.10403389483690262, 0.896222710609436, 0.9998207092285156, 0.998817503452301, 0.0012173278955742717, 1.000531554222107, 0.9959100484848022, 0.005354355089366436, 0.009686632081866264, 0.01017096359282732, 0.6267250776290894, 0.2935049533843994, 0.044558506458997726, 0.015498611144721508, 0.9992514252662659, 0.302984356880188, 0.040077295154333115, 0.04946683347225189, 0.12378159165382385, 0.004694769158959389, 0.009962070733308792, 0.027939600870013237, 0.13626280426979065, 0.0009160524932667613, 0.13580478727817535, 0.07820798456668854, 0.07568883895874023, 0.013855294324457645, 0.00034351967042312026, 1.0001249313354492, 0.02660759724676609, 0.9711772799491882, 0.9995139837265015, 0.9995700120925903, 0.9999330639839172, 1.0001521110534668, 0.3074379861354828, 0.46042323112487793, 0.23222941160202026, 0.047390811145305634, 0.9528047442436218, 0.9976664185523987, 0.9953879117965698, 0.999967634677887, 1.00033438205719, 0.9990327954292297, 1.000276803970337, 0.99960857629776, 0.9998931288719177, 0.004587189294397831, 0.5785210132598877, 0.0009174378355965018, 0.001911328872665763, 7.645315054105595e-05, 0.03363938629627228, 0.0027523136232048273, 0.020183632150292397, 0.25130152702331543, 0.011085706762969494, 0.0950312688946724, 1.0000543594360352, 0.9998368620872498, 0.9989216327667236, 0.2574879229068756, 0.07920105010271072, 0.007548322435468435, 0.20538195967674255, 0.11942122131586075, 0.22239385545253754, 5.6330762163270265e-05, 0.011547806672751904, 0.005126099567860365, 0.011547806672751904, 0.05306357890367508, 0.002140569034963846, 0.025179851800203323, 0.2015436589717865, 0.16069579124450684, 0.014386151917278767, 0.03160552307963371, 0.14190852642059326, 0.0001375349092995748, 0.14204604923725128, 0.0005501396371982992, 0.045248985290527344, 0.010617694817483425, 0.07517658174037933, 0.05493144318461418, 0.033723559230566025, 0.016861779615283012, 0.07055541127920151, 0.08873040229082108, 0.01209960039705038, 0.07883072644472122, 0.05096498504281044, 0.04436520114541054, 0.6599782109260559, 0.02676578238606453, 0.004399854689836502, 0.03373222053050995, 0.06529582291841507, 0.09316599369049072, 0.07883276790380478, 0.003583307610824704, 0.046981144696474075, 0.6752544045448303, 0.021897990256547928, 0.0003981452900916338, 0.011546213179826736, 0.0031851623207330704, 0.999819815158844, 0.8809200525283813, 0.11899015307426453, 1.0001251697540283, 1.001315951347351, 0.06585385650396347, 0.045477550476789474, 0.24687813222408295, 0.20199120044708252, 0.09390819072723389, 0.0041343229822814465, 0.0008859263034537435, 0.00383901409804821, 0.023920010775327682, 0.013879512436687946, 0.28320109844207764, 0.0008859263034537435, 0.015060747042298317, 0.0009306885185651481, 0.4759541153907776, 0.06849867850542068, 0.07389666885137558, 0.038716644048690796, 0.06421750783920288, 0.05174628272652626, 0.028292931616306305, 0.00670095719397068, 0.02866520546376705, 0.0009306885185651481, 0.16119524836540222, 0.9996318817138672, 0.9621610641479492, 0.037710677832365036, 0.9970360994338989, 0.003560843179002404, 1.0002504587173462, 0.10632956773042679, 0.045220620930194855, 0.8494143486022949, 0.27187633514404297, 0.6522747278213501, 0.0007615583599545062, 0.027416100725531578, 0.0011423374526202679, 0.01523116696625948, 0.015611945651471615, 0.004188570659607649, 0.011042595840990543, 0.0003807791799772531, 0.07768671959638596, 0.12970304489135742, 0.010340907610952854, 0.03886933997273445, 0.2278117537498474, 0.145448237657547, 0.08215565234422684, 0.0002598217979539186, 0.037102553993463516, 0.09603013843297958, 0.028060754761099815, 0.09966763854026794, 0.02281235344707966, 0.004105184227228165, 1.0001200437545776, 0.9998486042022705, 1.0009957551956177, 0.9999156594276428, 0.9994745850563049, 0.14469614624977112, 0.056814514100551605, 0.34280216693878174, 0.08320028334856033, 0.034046150743961334, 0.0029790380503982306, 0.018725382164120674, 0.036812398582696915, 0.029790380969643593, 0.047451820224523544, 0.02000211365520954, 0.011916152201592922, 0.17065632343292236, 0.00021278843632899225, 0.01371237263083458, 0.03375353291630745, 0.02056855894625187, 0.018195264041423798, 0.017931563779711723, 0.7697387933731079, 0.11734627187252045, 0.005801388528198004, 0.0026369947008788586, 0.9966587424278259, 0.20091481506824493, 0.04862110689282417, 0.04214445874094963, 0.15696613490581512, 0.09497538954019547, 0.1474362164735794, 0.09627071768045425, 0.09469781816005707, 0.0013878527097404003, 0.0687449723482132, 0.008835995569825172, 0.022344429045915604, 0.0086509482935071, 0.0003238322969991714, 0.007586928084492683, 0.8042201399803162, 0.15285338461399078, 0.04304639995098114, 0.739706814289093, 0.26021409034729004, 0.9726158976554871, 0.027085507288575172, 0.9972318410873413, 0.0024263549130409956, 0.9995056986808777, 1.0007535219192505, 0.2827218472957611, 0.07086215913295746, 0.06359424442052841, 0.17252209782600403, 0.07767582684755325, 0.04433427378535271, 0.06032368540763855, 0.05614463612437248, 0.008812345564365387, 0.016080258414149284, 0.11546897888183594, 0.029980145394802094, 0.0015444316668435931, 0.021267743781208992, 0.0054688481613993645, 0.973455011844635, 0.983463704586029, 0.01673980802297592, 0.11513910442590714, 0.017957475036382675, 0.06126667931675911, 0.04647817090153694, 0.19753222167491913, 0.00316896615549922, 0.5376679301261902, 0.022182762622833252, 0.9985132813453674, 0.9998887777328491, 1.000099778175354, 0.9982171654701233, 1.0021564960479736, 0.9997860193252563, 0.00819269847124815, 0.001170385512523353, 0.0017555783269926906, 0.3973459005355835, 0.07578246295452118, 0.5143844485282898, 0.001170385512523353, 0.9996598958969116, 0.7817294001579285, 0.03277188912034035, 0.11909783631563187, 0.06594343483448029, 0.9997616410255432, 1.0002042055130005, 0.05801987648010254, 0.1320132464170456, 0.0001030548446578905, 0.0589473694562912, 0.17385351657867432, 0.3803238868713379, 0.009996319189667702, 0.0013397129951044917, 0.0718807503581047, 0.017880015075206757, 0.05096061900258064, 5.152742232894525e-05, 0.02602134831249714, 0.005668016150593758, 0.012984910048544407, 1.0005254745483398, 0.9999040961265564, 0.0013715435052290559, 0.4064340591430664, 0.5326160788536072, 0.05714764818549156, 0.0022859058808535337, 0.04804323613643646, 0.04044746607542038, 0.0017723459750413895, 0.06260178983211517, 0.6709595322608948, 0.00822874903678894, 0.05481613054871559, 0.10482160747051239, 0.004494163207709789, 0.0024686248507350683, 0.0013925576349720359, 0.015575699508190155, 0.07248690724372864, 0.012280839495360851, 0.2605934143066406, 0.4819480776786804, 0.04433083534240723, 0.019469624385237694, 0.011082708835601807, 0.008087382651865482, 0.016174765303730965, 0.02815607190132141, 0.005391587968915701, 0.024262147024273872, 0.999262273311615, 0.9991756081581116, 0.038997750729322433, 0.032602958381175995, 0.17769137024879456, 0.03627210110425949, 0.10399400442838669, 0.42341911792755127, 0.0019918205216526985, 0.019498875364661217, 0.013523413799703121, 0.06562525033950806, 0.0014676572754979134, 0.002830481855198741, 0.0010483266087248921, 0.08093081414699554, 0.032173436135053635, 0.8707148432731628, 0.044365476816892624, 0.023029407486319542, 0.02607741765677929, 0.00372534547932446, 0.061035025864839554, 0.014053735882043839, 0.0921042338013649, 0.01608630083501339, 0.10354466736316681, 0.27793875336647034, 0.009349798783659935, 5.807328852824867e-05, 0.20337265729904175, 0.11080383509397507, 0.007084941025823355, 0.0213128961622715, 0.07532105594873428, 0.005168522708117962, 0.002845591166988015, 0.9997523427009583, 0.0643763467669487, 0.3069887161254883, 0.6283900141716003, 0.9991388320922852, 0.9986609220504761, 0.9976229667663574, 0.005202339496463537, 0.932952880859375, 0.0346822626888752, 0.02080935798585415, 0.006936452817171812, 0.9995045065879822, 0.1161489486694336, 0.028368176892399788, 0.0024086188059300184, 0.41776156425476074, 0.3238254189491272, 0.04094652086496353, 0.00454961322247982, 0.04469326138496399, 0.011507845483720303, 0.009902099147439003, 1.0000159740447998, 0.019014820456504822, 0.6946747899055481, 0.28648996353149414, 0.45718497037887573, 0.20576538145542145, 0.10888417810201645, 0.07373259216547012, 0.008359218947589397, 0.1459648162126541, 0.9986836910247803, 0.12758953869342804, 0.039857417345047, 0.12850581109523773, 0.07608795911073685, 0.00057266402291134, 0.019814174622297287, 0.23723562061786652, 0.05944252386689186, 0.06669627130031586, 0.05703733488917351, 0.101590596139431, 0.007902763783931732, 0.07146847248077393, 0.006146593950688839, 0.19048427045345306, 0.8095581531524658, 0.999756932258606, 1.00045645236969, 0.9674837589263916, 0.032523222267627716, 0.9797004461288452, 0.01952509582042694, 0.001633408828638494, 0.000816704414319247, 0.16987451910972595, 0.1927422434091568, 0.6345793008804321, 0.13107305765151978, 0.03768274933099747, 0.08437790721654892, 0.2793846130371094, 0.1795223206281662, 0.04094899073243141, 0.0013911769492551684, 0.00024194382422138005, 0.14685989916324615, 0.07294606417417526, 0.0009677752968855202, 0.004536446649581194, 0.02014182321727276, 0.9949732422828674, 0.0028266285080462694, 0.20362849533557892, 0.13556483387947083, 0.0009375161025673151, 0.2979426085948944, 0.3301931619644165, 0.013312729075551033, 0.01762530207633972, 0.0011250192765146494, 1.000118613243103, 0.11507667601108551, 0.01158159226179123, 0.12271559983491898, 0.030555691570043564, 0.0017249180236831307, 0.509343683719635, 0.15401053428649902, 0.004681920632719994, 0.0002464168646838516, 0.04977620765566826, 1.000265121459961, 0.9910414218902588, 0.008883068338036537, 0.9982174634933472, 1.0008431673049927, 0.9977179765701294, 0.08766331523656845, 0.06266557425260544, 0.06472018361091614, 0.2085428088903427, 0.06186655908823013, 0.009474030695855618, 0.019518785178661346, 0.23468200862407684, 0.02910696156322956, 0.11220447719097137, 0.001483884290792048, 0.00011414494656492025, 0.0722537487745285, 0.003652638290077448, 0.03207473084330559, 0.9629908800125122, 0.0353391133248806, 0.9508715867996216, 0.039119020104408264, 0.010059176944196224, 1.0000072717666626, 0.022266050800681114, 0.0162646546959877, 0.11807095259428024, 0.1038067638874054, 0.11589653044939041, 0.0020874422043561935, 0.001913488726131618, 0.10785118490457535, 0.09363047778606415, 0.33729586005210876, 0.03165953978896141, 0.0008697675657458603, 0.04844605550169945, 0.9991055727005005, 0.6629472970962524, 0.33699819445610046, 1.00041925907135, 0.026467328891158104, 0.19069437682628632, 0.010777932591736317, 0.03632436320185661, 0.05221840366721153, 0.08274450898170471, 0.18516898155212402, 0.05068356916308403, 0.15068641304969788, 0.05255947634577751, 0.08656453341245651, 0.016610294580459595, 0.04717050865292549, 0.011323651298880577, 0.042694658041000366, 0.9572412967681885, 0.19442151486873627, 0.0018739423248916864, 0.18598878383636475, 0.012649111449718475, 0.030451564118266106, 0.4333491623401642, 0.04169521853327751, 0.09931894391775131, 1.0000646114349365, 0.1796087920665741, 0.8192360401153564, 0.9993094801902771, 1.000114917755127, 0.9995904564857483, 0.04259844496846199, 0.12011826038360596, 0.018069231882691383, 0.048777561634778976, 0.13519155979156494, 0.29968708753585815, 0.007583459839224815, 0.18836939334869385, 0.017788361757993698, 0.025559067726135254, 0.014511559158563614, 0.00037449185037985444, 0.03988338261842728, 0.011234755627810955, 0.030240215361118317, 0.9996861815452576, 0.1209387481212616, 0.01858893781900406, 0.028436649590730667, 0.38704824447631836, 0.15922310948371887, 0.11662346124649048, 0.007856039330363274, 0.0286579467356205, 0.00011064844147767872, 0.052336715161800385, 0.05466033145785332, 0.0011064844438806176, 0.010843547061085701, 0.013609758578240871, 0.9322850108146667, 0.06460278481245041, 0.0011138410773128271, 0.0022276821546256542, 1.0003917217254639, 0.9998793601989746, 1.0011038780212402, 0.06855665147304535, 0.009631926193833351, 0.09575267136096954, 0.019263852387666702, 0.2872580289840698, 0.0713895708322525, 0.03229527920484543, 0.38810995221138, 0.0005665838834829628, 0.02662944234907627, 0.9994173049926758, 0.9994102716445923, 0.03607705235481262, 0.24232284724712372, 0.7011079788208008, 0.0006385318702086806, 0.003192659467458725, 0.01660182885825634, 0.9830267429351807, 0.016248377040028572, 0.00018803900456987321, 0.9998034238815308, 1.00019109249115, 0.015828322619199753, 0.0028778768610209227, 0.5187373161315918, 0.0035973459016531706, 0.0345345214009285, 0.00035973460762761533, 0.1669168472290039, 0.002518142107874155, 0.0007194692152552307, 0.15360666811466217, 0.1007256880402565, 0.23524706065654755, 0.7645529508590698, 1.000364065170288, 1.0005496740341187, 1.0001152753829956, 0.808854341506958, 0.19103273749351501, 0.9993260502815247, 0.999946117401123, 0.999520480632782, 0.9992254972457886, 0.7278931140899658, 0.00048279447946697474, 0.00016093149315565825, 0.2714914381504059, 0.9695739150047302, 0.000429490115493536, 0.029849562793970108, 0.9995899796485901, 0.09771694988012314, 0.9027713537216187, 0.05238325148820877, 0.033334795385599136, 0.009524227119982243, 0.9095637202262878, 0.9996220469474792, 1.0001596212387085, 0.9994461536407471, 0.9563798308372498, 0.0425407849252224, 0.9998985528945923, 1.0000941753387451, 0.9997128844261169, 0.9950516819953918, 1.000284194946289, 0.9995067119598389, 0.17342296242713928, 0.06477243453264236, 0.037609800696372986, 0.7250333428382874, 0.9996962547302246, 0.03160742670297623, 0.010971172712743282, 0.19826476275920868, 0.1551637202501297, 0.016979195177555084, 0.00026121840346604586, 0.004963149316608906, 0.011754827573895454, 0.06582703441381454, 0.0031346206087619066, 0.00026121840346604586, 0.5004944205284119, 0.00026121840346604586, 0.132193461060524, 0.05119256302714348, 0.5015575289726257, 0.03855642303824425, 0.09201701730489731, 0.001296014292165637, 0.027540303766727448, 0.02462427131831646, 0.060588669031858444, 0.066096730530262, 0.004536049906164408, 1.000218391418457, 0.9998587369918823, 0.07471403479576111, 0.000588299531955272, 0.8759779334068298, 0.04824056103825569, 1.000152349472046, 0.3837200105190277, 0.0003895634727086872, 0.6158998608589172, 0.32475414872169495, 0.674742579460144, 0.3078654706478119, 0.3720220625400543, 0.03961345925927162, 0.280738890171051, 0.9999006986618042, 0.012477574869990349, 0.9572082161903381, 0.030302681028842926, 0.07257622480392456, 0.14504556357860565, 0.12046157568693161, 0.03366938233375549, 0.07503462582826614, 0.17123286426067352, 0.06808697432279587, 0.03591400757431984, 0.04435807839035988, 0.11586543172597885, 0.017529455944895744, 0.0339900441467762, 0.02266003005206585, 0.006199441850185394, 0.03730354085564613, 0.04315308481454849, 0.4425700008869171, 0.03030751459300518, 0.007225632667541504, 0.016056962311267853, 0.3725215196609497, 0.001806408166885376, 0.005017800256609917, 0.00782776903361082, 0.02107476256787777, 0.05218512564897537, 0.08524075150489807, 0.19974009692668915, 0.14629298448562622, 0.01922406069934368, 0.006654482334852219, 0.04520823061466217, 0.008767016232013702, 0.3232177197933197, 0.0004225068259984255, 0.021336594596505165, 0.00021125341299921274, 0.09295149892568588, 0.004541948437690735, 0.04626449570059776, 0.9998723864555359, 0.9999416470527649, 0.99997878074646, 0.00015406892634928226, 0.8962189555168152, 0.10361135005950928, 0.9989740252494812, 0.10996069759130478, 0.009833883494138718, 0.05623193457722664, 0.15439197421073914, 0.12426453083753586, 0.020829953253269196, 0.15027962625026703, 0.03468678891658783, 0.17861908674240112, 0.014393229968845844, 0.030574439093470573, 0.015108421444892883, 0.07303893566131592, 0.027803070843219757, 0.182916060090065, 0.17563772201538086, 0.02260114625096321, 0.09875551611185074, 0.25405219197273254, 0.0004979913355782628, 0.02658507600426674, 0.07297488301992416, 0.033710185438394547, 0.03298234939575195, 0.02834719978272915, 0.01413529273122549, 0.0175063107162714, 0.03723442927002907, 0.0019919653423130512, 0.07455219328403473, 0.9240548014640808, 0.19403481483459473, 0.037297312170267105, 0.13231664896011353, 0.5252704620361328, 0.0013320468133315444, 0.024420857429504395, 0.06749036908149719, 0.0075482651591300964, 0.0022200781386345625, 0.008436296135187149, 0.9994833469390869, 1.0001630783081055, 0.9999794960021973, 0.04727485030889511, 0.9523733258247375, 0.9999342560768127, 0.9999884963035583, 0.009001074358820915, 0.991118311882019, 0.9970611929893494, 0.003135412698611617, 0.03827424719929695, 0.13931825757026672, 0.8221307992935181, 0.029452377930283546, 0.14691539108753204, 0.004157982766628265, 0.5301427841186523, 0.17983275651931763, 0.0006929971277713776, 0.0013859942555427551, 0.011780951172113419, 0.023561902344226837, 0.04781680181622505, 0.02009691670536995, 0.004157982766628265, 0.9993191957473755, 1.0005676746368408, 1.0007259845733643, 0.9998146295547485, 0.9999071955680847, 0.9785788059234619, 0.020674198865890503, 0.9283855557441711, 0.07146713137626648, 0.9996137022972107, 0.8319778442382812, 0.02006700076162815, 0.00040134001756086946, 0.01926432177424431, 0.006020100321620703, 0.0032107201404869556, 0.11919798702001572, 0.13916771113872528, 0.3015057444572449, 0.045029133558273315, 0.07217048108577728, 0.13712754845619202, 0.002113017486408353, 0.03198671340942383, 0.04451909288764, 0.06051244959235191, 0.011111557483673096, 0.10306425392627716, 0.00014572535292245448, 0.0316588319838047, 0.019891509786248207, 0.0026577231474220753, 0.48522430658340454, 0.06074795499444008, 0.0003796747187152505, 0.006074795499444008, 0.41042837500572205, 0.018604060634970665, 0.015566663816571236, 1.0004009008407593, 0.999504566192627, 0.999045193195343, 0.9972982406616211, 1.0002177953720093, 1.0005346536636353, 0.9986415505409241, 0.9998186826705933, 1.000425934791565, 0.009747356176376343, 0.9893566966056824, 0.9741252064704895, 0.013344180770218372, 0.013344180770218372, 1.0003975629806519, 0.2141331136226654, 0.03761797770857811, 0.09366419911384583, 0.26317355036735535, 0.006396579556167126, 0.006091980263590813, 0.03944557160139084, 0.00045689853141084313, 0.10295446962118149, 0.028632307425141335, 0.14910122752189636, 0.00015229951532091945, 0.05817841365933418, 0.9993033409118652, 0.9997578263282776, 0.999398410320282, 0.5906146168708801, 0.11768502742052078, 0.0010947444243356586, 0.2041698396205902, 0.008757955394685268, 0.0005473722121678293, 0.06951627135276794, 0.006568466778844595, 0.9989882111549377, 0.08571993559598923, 0.07674523442983627, 0.02347230538725853, 0.08571993559598923, 0.1506139487028122, 0.40788882970809937, 0.01024036854505539, 0.04395304247736931, 0.006558437831699848, 0.03474821522831917, 0.024622907862067223, 0.004717472940683365, 0.024162666872143745, 0.008859644643962383, 0.012081333436071873, 0.9996737837791443, 0.9987232685089111, 0.9949389100074768, 0.9994140267372131, 0.9902852773666382, 0.003257517470046878, 0.006515034940093756, 0.9994757175445557, 0.8633251786231995, 0.00047099028597585857, 0.0007064854144118726, 0.11244893074035645, 0.022960776463150978, 1.00009286403656, 0.003691426245495677, 0.01845713146030903, 0.0849028006196022, 0.89332515001297, 0.004954544361680746, 0.9946247935295105, 1.001664161682129, 0.017390429973602295, 0.7365358471870422, 0.24551193416118622, 0.9998221397399902, 0.14176411926746368, 0.5437172055244446, 0.2022731900215149, 0.00028813842800445855, 0.08211945742368698, 0.023627351969480515, 0.00028813842800445855, 0.005762768909335136, 0.9995193481445312, 0.1518838107585907, 0.00015341799007728696, 0.011046095751225948, 0.07870343327522278, 0.0876016765832901, 0.0007670900085940957, 0.07747609168291092, 0.026694731786847115, 0.007824317552149296, 0.0003068359801545739, 0.012426857836544514, 0.1465141922235489, 0.10585841536521912, 0.26802122592926025, 0.02470029704272747, 0.05873008817434311, 0.26508522033691406, 0.043647654354572296, 0.017596174031496048, 0.3290713131427765, 0.030621914193034172, 0.017596174031496048, 0.20064209401607513, 0.037249043583869934, 0.13059654831886292, 0.021766092628240585, 0.009328325279057026, 0.836439847946167, 1.0017058849334717, 0.058403026312589645, 0.939757764339447, 0.9994255304336548, 0.9671132564544678, 0.03256882727146149, 1.0002424716949463, 0.9989172220230103, 0.14586329460144043, 0.030414048582315445, 0.4289001524448395, 0.04500037804245949, 0.1548633724451065, 0.0027931269723922014, 0.015827719122171402, 0.005586253944784403, 0.003413821803405881, 0.15889789164066315, 0.008379381150007248, 1.00002121925354, 0.12317700684070587, 8.222764154197648e-05, 0.43802666664123535, 0.007236032746732235, 0.009785089641809464, 0.0710446834564209, 0.07359374314546585, 0.08411888033151627, 0.02746403217315674, 0.009702862240374088, 0.032562147825956345, 0.11684548109769821, 0.006331528536975384, 0.9995539784431458, 0.9998205900192261, 0.9999950528144836, 0.99937903881073, 0.0004369939852040261, 0.1503259241580963, 0.004151442553848028, 0.0006554909632541239, 0.011143346317112446, 0.0074288975447416306, 0.70224928855896, 0.12345080077648163, 5.70428092032671e-05, 0.0929797813296318, 0.06012311950325966, 0.8360764384269714, 0.0001140856184065342, 0.007700779475271702, 0.002852140460163355, 5.70428092032671e-05, 0.9990956783294678, 1.000339150428772, 0.01796918921172619, 0.9847115874290466, 0.05927480384707451, 0.6427611112594604, 0.005557012744247913, 0.09771081060171127, 0.17921365797519684, 0.01574486866593361, 0.07666916400194168, 0.924289345741272, 1.000160813331604, 0.9992528557777405, 0.9473912715911865, 0.05306639522314072, 1.0003904104232788, 1.000040888786316, 0.009232320822775364, 0.0013189030578359962, 0.08902595192193985, 0.2601536214351654, 0.00032972576445899904, 0.339617520570755, 0.03989681601524353, 0.05011831223964691, 0.1945381909608841, 0.015826836228370667, 0.23869550228118896, 0.0006032742094248533, 0.05851760134100914, 0.3599536418914795, 0.018600955605506897, 0.10094788670539856, 0.032174624502658844, 0.060729607939720154, 0.12990504503250122, 0.9997285604476929, 0.19897830486297607, 0.8009126782417297, 1.000186562538147, 0.06177868694067001, 0.010608461685478687, 0.7088948488235474, 0.13853402435779572, 0.0018720814259722829, 0.04742606356739998, 0.0006240271613933146, 0.029953302815556526, 0.999847412109375, 1.0000293254852295, 0.08151387423276901, 0.07068546116352081, 0.023461557924747467, 0.025266293436288834, 0.11617983132600784, 0.267551988363266, 0.007068546488881111, 0.24965503811836243, 0.014588276855647564, 0.03241003677248955, 0.04248647391796112, 0.003985457122325897, 0.052337322384119034, 0.007444532588124275, 0.005339008290320635, 0.0016155480407178402, 0.06785301864147186, 0.05331308767199516, 0.8643181920051575, 0.0016155480407178402, 0.009693288244307041, 0.9995951652526855, 0.12129737436771393, 0.8770386576652527, 0.0013527588453143835, 1.0004116296768188, 0.9704597592353821, 0.02946438267827034, 1.0004535913467407, 0.04823729395866394, 0.0789501816034317, 0.019782710820436478, 0.044533681124448776, 0.1532030999660492, 0.43124502897262573, 0.008852537721395493, 0.11923825740814209, 0.004245604854077101, 0.027460932731628418, 0.03405516967177391, 0.010568846017122269, 0.00903320126235485, 0.010478513315320015, 0.04323544725775719, 0.08540555089712143, 0.03142781928181648, 0.13494431972503662, 0.1647741198539734, 0.4049217402935028, 0.007368669845163822, 0.013050535693764687, 0.00905547384172678, 0.033025845885276794, 0.006303320173174143, 0.01775583066046238, 0.007812566123902798, 0.04092719033360481, 0.9983021020889282, 1.000942349433899, 1.000413417816162, 0.99991375207901, 0.9986870884895325, 0.9941536784172058, 0.0033586272038519382, 0.08142442256212234, 0.8394470810890198, 0.0009693384054116905, 0.010662722401320934, 0.034896183758974075, 0.020356105640530586, 0.005816030316054821, 0.006785369012504816, 1.00014328956604, 0.9993917942047119, 0.999233067035675, 1.0002423524856567, 1.0004113912582397, 0.9985987544059753, 0.08971257507801056, 0.031450506299734116, 0.1504906862974167, 0.01352371834218502, 0.07272929698228836, 0.14042651653289795, 0.4139673113822937, 0.008098505437374115, 0.0011007677530869842, 0.015017617493867874, 0.03404517471790314, 0.023745134472846985, 0.005661091301590204, 0.9987645149230957, 0.19947388768196106, 0.04638927802443504, 0.002319463761523366, 0.05566713213920593, 0.6958391666412354, 0.998542845249176, 0.24651838839054108, 0.7539353966712952, 0.08146156370639801, 0.10622498393058777, 0.03316729515790939, 0.08045309782028198, 0.1650521159172058, 0.35509175062179565, 0.0038097568321973085, 0.02756471186876297, 0.0380975678563118, 0.02666829712688923, 0.01109311543405056, 0.04033860191702843, 0.018936732783913612, 0.011989529244601727, 8.977949619293213e-05, 0.386500746011734, 8.977949619293213e-05, 0.0009426847100257874, 0.23131687939167023, 0.022175535559654236, 0.03829095512628555, 0.2788551151752472, 0.0005835667252540588, 0.04120878875255585, 0.9998227953910828, 0.9992839694023132, 0.005541646853089333, 0.9807707071304321, 0.013602224178612232, 0.04040468856692314, 0.11545443534851074, 0.056723643094301224, 0.07810409367084503, 0.11973052471876144, 0.2930430769920349, 0.14233271777629852, 0.0035779529716819525, 0.00453789159655571, 0.0390956811606884, 0.02242765575647354, 0.002094411524012685, 0.06370501220226288, 0.011693797074258327, 0.006981371436268091, 0.9982454180717468, 0.0033302176743745804, 0.005365350749343634, 0.08288541436195374, 0.13801902532577515, 0.5337598919868469, 0.056120336055755615, 0.0002466827863827348, 0.00037002417957410216, 0.0082022026181221, 0.07295643538236618, 0.06820779293775558, 0.006660435348749161, 0.0008633897523395717, 0.023064840584993362, 0.9964839816093445, 0.9991981387138367, 1.0001119375228882, 0.9442290663719177, 0.0561046339571476, 1.0009338855743408, 0.7360257506370544, 0.001075536827556789, 0.16527415812015533, 0.019837679341435432, 0.00011950409680139273, 0.0231837946921587, 0.012308921664953232, 0.042184945195913315, 0.1328383833169937, 0.8671450018882751, 0.02979258820414543, 0.025853073224425316, 0.06647932529449463, 0.05121370404958725, 0.03397832438349724, 0.10932156443595886, 0.16619832813739777, 0.004185735713690519, 0.19943799078464508, 0.08223739266395569, 0.230954110622406, 0.998272180557251, 0.9997485280036926, 0.00047402441850863397, 0.06067512556910515, 0.9390423893928528, 0.9956281185150146, 0.031099295243620872, 0.04492120444774628, 0.03549717739224434, 0.09015654772520065, 0.01413604337722063, 0.021675266325473785, 0.7319329380989075, 0.018533924594521523, 0.0003141342895105481, 0.0015706715639680624, 0.01005229726433754, 0.9979251623153687, 0.02315053530037403, 0.012422238476574421, 0.0028232361655682325, 0.10304811596870422, 0.0090343551710248, 0.0014116180827841163, 0.05166522040963173, 0.6637427806854248, 0.005364148411899805, 0.08074454963207245, 0.04686572030186653, 0.9996463060379028, 0.034269582480192184, 0.9647895097732544, 0.0008063431014306843, 0.0456266924738884, 0.4736484885215759, 0.021364878863096237, 0.3183004856109619, 0.14158758521080017, 0.9975394010543823, 1.0001517534255981, 0.9998836517333984, 0.007867305539548397, 0.02247801423072815, 0.8013412356376648, 0.0022478015162050724, 0.007867305539548397, 0.0022478015162050724, 0.0033717022743076086, 0.0899120569229126, 0.06293844431638718, 1.0007001161575317, 0.9940837621688843, 0.005875199567526579, 0.875291109085083, 0.12329193949699402, 0.0008165028993971646, 0.007323004305362701, 0.9837235808372498, 0.009764005430042744, 0.035438861697912216, 0.9665144681930542, 0.13432058691978455, 0.8078424334526062, 0.05756596848368645, 0.01707904227077961, 0.19416172802448273, 0.04674264043569565, 0.7415899634361267, 0.9996225237846375, 0.9960814118385315, 0.07616530358791351, 0.5573763847351074, 0.1099051982164383, 0.25655680894851685, 0.9996808767318726, 0.9990651607513428, 0.9111996293067932, 0.020107774063944817, 0.06773144751787186, 0.9994438290596008, 1.0007508993148804, 1.0001894235610962, 0.9987687468528748, 0.14526769518852234, 0.04071897640824318, 0.8143795132637024, 0.08562792837619781, 0.010028496384620667, 0.6040240526199341, 0.0443568080663681, 0.13268472254276276, 0.0003857113770209253, 0.0026999798137694597, 0.0023142683785408735, 0.046671077609062195, 0.0003857113770209253, 0.0019285569433122873, 0.004628536757081747, 0.0443568080663681, 0.020056992769241333, 0.3466935157775879, 0.015064405277371407, 0.10948216170072556, 0.002333922078832984, 0.005304368212819099, 0.02715836465358734, 0.02715836465358734, 0.0422227717936039, 0.0002121747238561511, 0.04943671077489853, 0.33884304761886597, 0.00997221190482378, 0.02397574484348297, 0.002121747238561511, 0.07862876355648041, 0.04574764519929886, 0.685142457485199, 0.00035740347811952233, 0.10078778117895126, 0.0050036488100886345, 0.0035740346647799015, 0.05361052230000496, 0.0035740346647799015, 0.023231225088238716, 1.0001436471939087, 0.9986504316329956, 0.13036465644836426, 0.03143971040844917, 0.17368604242801666, 0.07302556931972504, 0.01515247207134962, 0.04465640336275101, 0.14304734766483307, 0.032774731516838074, 0.0749613493680954, 0.0406513474881649, 0.044189147651195526, 0.034510254859924316, 0.032574478536844254, 0.07576236128807068, 0.053200531750917435, 0.9994896650314331, 0.9993881583213806, 0.9966360926628113, 0.042509954422712326, 0.10216102004051208, 0.049709219485521317, 0.07907765358686447, 0.16169780492782593, 0.3508214056491852, 0.0037710443139076233, 0.12067341804504395, 0.005256607197225094, 0.02376900613307953, 0.01234159991145134, 0.015541273169219494, 0.022969087585806847, 0.009599021635949612, 1.0005302429199219, 0.9971330165863037, 1.0012791156768799, 0.06306430697441101, 0.08238130062818527, 0.10283458977937698, 0.025201374664902687, 0.016598006710410118, 0.5292288661003113, 0.039973191916942596, 0.06010182574391365, 0.0030030622147023678, 0.0006898926803842187, 0.0448836050927639, 0.0319785550236702, 4.058192280353978e-05, 0.9995254278182983, 0.9137002229690552, 0.08691294491291046, 0.9993191957473755, 0.9946984648704529, 0.47396671772003174, 0.004152139648795128, 0.0710015818476677, 0.4476006329059601, 0.00332171143963933, 0.041779860854148865, 0.07583838701248169, 0.044424157589673996, 0.11592590063810349, 0.11476241052150726, 0.36840319633483887, 0.013750334270298481, 0.005500133614987135, 0.06462657451629639, 0.029510334134101868, 0.033106572926044464, 0.034270063042640686, 0.022846709936857224, 0.026971809566020966, 0.008250201120972633, 0.01869664154946804, 0.9809058904647827, 0.00044515810441225767, 0.9998327493667603, 0.03244448080658913, 0.000795641215518117, 0.0009724504197947681, 0.2731701731681824, 0.25257188081741333, 0.006188320927321911, 0.03545023873448372, 0.1326068788766861, 0.008928862400352955, 0.136408269405365, 0.10776518285274506, 0.012818664312362671, 1.0003135204315186, 0.9991392493247986, 0.998914897441864, 0.9981805086135864, 0.0006345489528030157, 0.0006345489528030157, 0.0006345489528030157, 0.9810127019882202, 0.017132822424173355, 0.9996027946472168, 1.0002646446228027, 0.06861142069101334, 0.7499938607215881, 0.18099220097064972, 0.03077555075287819, 0.6407909393310547, 0.009892141446471214, 0.31764766573905945, 1.0000897645950317, 0.05283476784825325, 0.008034780621528625, 0.009008693508803844, 0.05478259176015854, 0.07109563052654266, 0.6140519976615906, 0.009495649486780167, 0.015582604333758354, 0.060139112174510956, 0.012173909693956375, 0.0927651897072792, 0.9994181394577026, 0.24618932604789734, 0.04145920276641846, 0.058339983224868774, 0.05901521444320679, 0.06779322028160095, 0.03794799745082855, 0.0014855088666081429, 0.35139036178588867, 0.007697636727243662, 0.08791511505842209, 0.03605734929442406, 0.002430832711979747, 0.0021607400849461555, 0.9977827668190002, 1.0001243352890015, 1.0001214742660522, 0.9997118711471558, 0.99864262342453, 1.0007879734039307, 0.9683502316474915, 0.01830914244055748, 0.012206095270812511, 0.9997000098228455, 0.9994313716888428, 0.04158787801861763, 0.9584115743637085, 0.999832034111023, 0.013088262639939785, 0.09488990157842636, 0.8900018334388733, 0.3889743983745575, 0.09882939606904984, 0.0006796290981583297, 0.06932216882705688, 0.0013026224914938211, 0.22246526181697845, 0.0032848739065229893, 0.036020342260599136, 0.0009628079133108258, 0.1418725699186325, 0.036360155791044235, 1.0000509023666382, 1.0000594854354858, 0.9978954195976257, 0.0020986234303563833, 0.9996218681335449, 0.22376368939876556, 9.296372445533052e-05, 0.007808953057974577, 0.23417562246322632, 0.4318165183067322, 0.0341176874935627, 0.017198288813233376, 0.030492102727293968, 0.020452020689845085, 0.9960417747497559, 1.0004445314407349, 0.14715848863124847, 0.02107640728354454, 0.6800904870033264, 0.0026345509104430676, 0.009785475209355354, 0.0816710814833641, 0.0018818221287801862, 0.04968010261654854, 0.006021830718964338, 0.999843180179596, 0.9935715794563293, 0.006493931636214256, 0.058110978454351425, 0.03937229514122009, 0.0028423848561942577, 0.13032861053943634, 0.08590319007635117, 0.09106159210205078, 0.06790141761302948, 0.004210940562188625, 0.0018949232762679458, 0.1579102724790573, 0.12169618159532547, 0.0989571064710617, 0.10264167934656143, 0.03716155141592026, 1.0006587505340576, 0.0029318910092115402, 0.08062700182199478, 0.013193509541451931, 0.019545940682291985, 0.0009772969642654061, 0.05130809172987938, 0.01221621222794056, 0.7789056897163391, 0.03615998849272728, 0.00439783651381731, 0.9986618757247925, 0.1789436936378479, 0.06025655195116997, 0.15277166664600372, 0.05295272916555405, 0.013998997397720814, 0.003651912324130535, 0.08155937492847443, 0.09616702049970627, 0.3591046929359436, 0.999687910079956, 0.9992028474807739, 0.9994248747825623, 0.9991288185119629, 0.04991128668189049, 0.30787837505340576, 0.004788537044078112, 0.019338322803378105, 0.454235702753067, 0.03284445032477379, 0.0790722519159317, 0.0049113198183476925, 0.022039547562599182, 0.002148702507838607, 0.0030081833247095346, 0.005218277219682932, 0.014549785293638706, 0.0016776520060375333, 0.3773426413536072, 0.0045167552307248116, 0.012001664377748966, 0.3951515853404999, 0.07820439338684082, 0.09214180707931519, 0.0002581003063824028, 0.010065912269055843, 0.0007743009482510388, 0.0002581003063824028, 0.008646360598504543, 0.018970372155308723, 0.02349039539694786, 0.8763724565505981, 0.0993824452161789, 1.0000708103179932, 0.002224514726549387, 0.18797150254249573, 0.04226578027009964, 0.643997073173523, 0.12346057593822479, 0.9998642206192017, 0.0948399156332016, 0.24048691987991333, 0.0033871398773044348, 0.03556496649980545, 0.626620888710022, 0.8566175699234009, 0.12015902996063232, 0.022702857851982117, 0.6682565808296204, 0.018374638631939888, 0.2735242247581482, 0.0011282672639936209, 0.022565346211194992, 0.015795741230249405, 0.0004920919891446829, 0.028049243614077568, 0.018207402899861336, 0.04182782024145126, 0.6185596585273743, 0.20569445192813873, 0.025096692144870758, 0.007873471826314926, 0.007873471826314926, 0.0019683679565787315, 0.015254851430654526, 0.028541335836052895, 1.0002435445785522, 0.006085656117647886, 0.00719213904812932, 0.9017835855484009, 0.055324144661426544, 0.012724553234875202, 0.0005532414652407169, 0.013277795165777206, 0.0033194487914443016, 0.8614194989204407, 0.050499338656663895, 0.08814840018749237, 1.0000308752059937, 0.00545260077342391, 0.1859336942434311, 0.03217034414410591, 0.057797569781541824, 0.702840268611908, 0.015267282724380493, 0.1825302541255951, 0.021061183884739876, 0.7890923619270325, 0.007020394317805767, 0.021142374724149704, 0.13965094089508057, 0.0008345674141310155, 0.008067484945058823, 0.5563782453536987, 0.009180241264402866, 0.00639835000038147, 0.06704358011484146, 0.03950285539031029, 0.09736619889736176, 0.004729215055704117, 0.03505183011293411, 0.00834567379206419, 0.00639835000038147, 0.9997144341468811, 0.9995430707931519, 0.9991539120674133, 0.13462592661380768, 0.004500575829297304, 0.0238726194947958, 0.08472823351621628, 0.11828687787055969, 0.39340904355049133, 0.011055762879550457, 0.021524494513869286, 0.004598414525389671, 0.12973399460315704, 0.002641642466187477, 0.047451723366975784, 0.0010762247256934643, 0.022502880543470383, 0.9998405575752258, 0.03954554349184036, 0.002636369550600648, 0.02050509676337242, 0.1857175976037979, 0.03017178550362587, 0.0512627437710762, 0.10633357614278793, 0.01025254838168621, 0.45931416749954224, 0.08905070275068283, 0.005565668921917677, 0.019543210044503212, 0.3529273569583893, 0.10576324909925461, 0.5219186544418335, 0.6275418400764465, 0.00013804264017380774, 0.03423457220196724, 0.2868525981903076, 0.0002760852803476155, 0.047210581600666046, 0.003727151080965996, 0.9997245073318481, 0.999796986579895, 1.0002248287200928, 0.11356499791145325, 0.16399742662906647, 0.3513704538345337, 0.047487467527389526, 0.004417438991367817, 0.06957466155290604, 0.0005521798739209771, 0.043438151478767395, 0.2054109126329422, 0.9998375177383423, 0.9997736215591431, 0.998528242111206, 1.000766396522522, 1.0004056692123413, 1.0000859498977661, 0.9997921586036682, 0.1531757116317749, 0.08552499115467072, 0.2866671085357666, 0.01968432404100895, 0.016064217314124107, 0.004072618670761585, 0.06584066897630692, 0.36902451515197754, 0.9991050362586975, 0.9983043670654297, 0.998580813407898, 0.2759189009666443, 0.0012263061944395304, 0.7235206365585327, 0.019808365032076836, 0.019808365032076836, 0.04181765764951706, 0.12985482811927795, 0.7395122647285461, 0.04842044785618782, 0.9627642035484314, 0.03935828432440758, 0.12300309538841248, 0.4751352071762085, 0.04004751890897751, 0.0002860537206288427, 0.008295557461678982, 0.048915185034275055, 0.29949823021888733, 0.004576859530061483, 0.9003403186798096, 0.048387348651885986, 0.05118430405855179, 1.0005266666412354, 0.0007500972715206444, 0.999129593372345, 0.09576165676116943, 0.08512146770954132, 0.19904236495494843, 0.14584144949913025, 0.02411774918437004, 0.013051958754658699, 0.014045042917132378, 0.1666962057352066, 0.0788792297244072, 0.030927468091249466, 0.07746053487062454, 0.03177868202328682, 0.03660223260521889, 0.00056747643975541, 1.000520944595337, 1.0006053447723389, 0.058183103799819946, 0.4186477065086365, 0.1171780601143837, 0.30931761860847473, 0.0010824763448908925, 0.07306715101003647, 0.022190764546394348, 0.9997152090072632, 0.9608049392700195, 0.03890446946024895, 0.00038710914668627083, 1.0004328489303589, 0.8978453278541565, 0.004012716468423605, 0.09831155836582184, 0.9985229969024658, 0.9996408224105835, 1.0002152919769287, 1.0000029802322388, 0.07033810764551163, 0.13617591559886932, 0.6415435671806335, 0.04111390560865402, 0.012667527422308922, 0.010667391121387482, 0.05494817718863487, 0.03250220790505409, 0.006444422993808985, 0.0040277643129229546, 0.007249976042658091, 0.6549144983291626, 0.01933326944708824, 0.02577769197523594, 0.059610914438962936, 0.22313815355300903, 0.26903027296066284, 0.17767971754074097, 0.004055732861161232, 0.0032832121942192316, 0.1227341964840889, 0.18105949461460114, 0.05764934420585632, 0.17806598544120789, 9.656506881583482e-05, 0.006469859275966883, 0.8162278532981873, 0.0003500119491945952, 0.036051228642463684, 0.1067536398768425, 0.0014000477967783809, 0.005950203165411949, 0.03325113281607628, 0.9996124505996704, 0.9996886253356934, 0.9657749533653259, 0.006385288666933775, 0.004788966849446297, 0.023146672174334526, 1.0014150142669678, 1.0000182390213013, 0.2247428148984909, 0.4056503474712372, 0.004174788948148489, 0.012350417673587799, 0.18577811121940613, 0.08314788341522217, 0.030441170558333397, 0.00017394954920746386, 0.027484027668833733, 0.010263022966682911, 0.015655459836125374, 0.07878344506025314, 0.9209895133972168, 1.0001156330108643, 0.9995319843292236, 0.0176113061606884, 0.15903542935848236, 0.00035578396636992693, 0.6617581844329834, 0.03451104462146759, 0.12648120522499084, 0.9995977282524109, 0.05442270636558533, 0.011381671763956547, 0.003532242961227894, 0.44689416885375977, 0.021716753020882607, 0.023024991154670715, 0.14142054319381714, 0.0013082381337881088, 0.02472570165991783, 0.03846220299601555, 0.23325885832309723, 1.0005167722702026, 0.9998632669448853, 1.0002074241638184, 0.06721072643995285, 0.0012001915602013469, 0.9313486814498901, 0.9989573359489441, 0.9985777735710144, 0.9991744756698608, 0.999967634677887, 0.22478128969669342, 0.03681907430291176, 0.035474084317684174, 0.029253510758280754, 0.05346331372857094, 0.001176865422166884, 0.03328847885131836, 0.0480833575129509, 0.40114298462867737, 0.11970402300357819, 0.005211832467466593, 0.011264283210039139, 0.9965571165084839, 0.09446844458580017, 0.9059678912162781, 0.9999641180038452, 0.19688622653484344, 0.0023489678278565407, 0.00010677126556402072, 0.48089778423309326, 0.08360190689563751, 0.04463038966059685, 0.019752684980630875, 0.0016015690052881837, 0.0010677126701921225, 0.08712535351514816, 0.023489680141210556, 0.058297112584114075, 0.9998992085456848, 0.022100720554590225, 0.044596098363399506, 0.004341213032603264, 0.9274409413337708, 0.0011839672224596143, 1.0008279085159302, 0.997601330280304, 0.48250216245651245, 0.5171989798545837, 1.000229001045227, 0.8161991834640503, 0.03954849764704704, 0.010909929871559143, 0.010228059254586697, 0.015001154504716396, 0.10773555934429169, 0.006539728492498398, 0.9940387606620789, 0.9983777403831482, 0.999534010887146, 0.9999628663063049, 0.9744014143943787, 0.024360036477446556, 0.9996868968009949, 0.9990895390510559, 0.04919179528951645, 0.011873881332576275, 0.618007242679596, 0.17471568286418915, 0.00452338345348835, 0.04071044921875, 0.007350497879087925, 0.04014502838253975, 0.03675248846411705, 0.0011308458633720875, 0.01583184115588665, 0.9997068047523499, 0.9974867105484009, 0.9993301033973694, 0.9999071955680847, 0.09603758156299591, 0.17400269210338593, 0.04700355604290962, 0.1126849353313446, 0.28696510195732117, 0.12334176898002625, 0.053208477795124054, 0.0014251144602894783, 0.05832879990339279, 0.029145482927560806, 0.017858071252703667, 1.0001988410949707, 0.999701738357544, 0.13025936484336853, 0.15906497836112976, 0.2987450361251831, 0.016123898327350616, 0.0018116739811375737, 0.06358975917100906, 0.04819053038954735, 0.0925765410065651, 0.004529185127466917, 0.05815473571419716, 0.02989262156188488, 0.07590913772583008, 0.002174008870497346, 0.008152533322572708, 0.010507709346711636, 1.000076174736023, 0.997926652431488, 0.06781813502311707, 0.02443205751478672, 0.2643702030181885, 0.15119390189647675, 0.03736023232340813, 0.0001095607949537225, 0.006464086938649416, 0.17058615386486053, 0.04722070321440697, 0.07263880968093872, 0.011503883637487888, 0.09915252029895782, 0.0015338511439040303, 0.016543680801987648, 0.02914317138493061, 1.0010656118392944, 0.9968433976173401, 0.9996160864830017, 0.03536473959684372, 0.08122839033603668, 0.1978215128183365, 0.08564897626638412, 0.03425959125161171, 0.020445240661501884, 0.5453906059265137, 1.0001873970031738, 0.9976997971534729, 1.0001503229141235, 0.9998652935028076, 0.13019497692584991, 0.03898695856332779, 0.0010730355279520154, 0.002503749681636691, 0.7507672309875488, 0.007511249277740717, 0.06831660121679306, 0.0003576785384211689, 0.0010730355279520154, 0.00423892168328166, 0.996146559715271, 0.9998301267623901, 0.9966431260108948, 0.9997937679290771, 0.2673971951007843, 0.5476616621017456, 0.12063031643629074, 0.06393406540155411, 0.9999700784683228, 1.0000782012939453, 0.9976855516433716, 0.9984083771705627, 0.9995559453964233, 0.9959800839424133, 0.9974485635757446, 0.00198102998547256, 0.00099051499273628, 0.0392027385532856, 0.05307447910308838, 0.007719924207776785, 0.03160344064235687, 0.14913123846054077, 0.6339585781097412, 0.014112986624240875, 0.0032568429596722126, 0.02480829693377018, 0.02171228639781475, 0.006594101898372173, 0.0024124763440340757, 0.009569489397108555, 0.0028145555406808853, 0.007463852874934673, 0.9814966320991516, 0.009951803833246231, 0.012249142862856388, 0.0015311428578570485, 0.019904857501387596, 0.019904857501387596, 0.013014714233577251, 0.9087332487106323, 0.02067042887210846, 0.003062285715714097, 0.0007655714289285243, 0.02673340030014515, 0.5580030679702759, 0.13140146434307098, 0.0319441482424736, 0.0441780760884285, 0.0401001013815403, 0.010874602943658829, 0.0226554237306118, 0.1307217925786972, 0.00362486788071692, 0.8286429047584534, 0.0007418468012474477, 0.1706247627735138, 1.0001477003097534, 0.9994588494300842, 0.9997559189796448, 0.03450800105929375, 0.05367911234498024, 0.23388756811618805, 0.6767402291297913, 1.0007469654083252, 0.13061119616031647, 0.001945273019373417, 0.26386240124702454, 0.07280879467725754, 0.02584434114396572, 0.00013894807489123195, 0.019313782453536987, 0.0023621171712875366, 0.39558517932891846, 0.04432443529367447, 0.03098542056977749, 0.008475832641124725, 0.003473701886832714, 0.05921851098537445, 0.9137640595436096, 0.026236047968268394, 0.07232823222875595, 0.9273512959480286, 0.08296532183885574, 0.004880313295871019, 0.0009760626126080751, 0.8989536762237549, 0.011712751351296902, 0.035449691116809845, 0.280870646238327, 0.6776344776153564, 0.004090349189937115, 0.0005453798803500831, 0.00027268994017504156, 0.0008180697914212942, 0.014681786298751831, 0.07063878327608109, 0.0031856705900281668, 0.13102801144123077, 0.0002770148275885731, 0.02340775355696678, 0.14612531661987305, 0.609709620475769, 0.0011080593103542924, 0.999599814414978, 0.3308919668197632, 0.009457025676965714, 0.6596015691757202, 0.9990979433059692, 0.9990918040275574, 1.0007740259170532, 1.0010753870010376, 1.0009863376617432, 0.9992974400520325, 0.1176816076040268, 0.39858171343803406, 0.0010714562376961112, 0.07910918444395065, 0.12428892403841019, 0.14053934812545776, 0.1044669821858406, 0.03428659960627556, 0.03111649677157402, 0.18426528573036194, 0.00643190136179328, 0.778086245059967, 0.9988681674003601, 0.9027438759803772, 0.0037732243072241545, 0.03160075470805168, 0.012262978591024876, 0.013677937909960747, 0.036317285150289536, 0.9997564554214478, 0.9967182874679565, 0.023037178441882133, 0.012458882294595242, 0.37823286652565, 0.026798350736498833, 0.005876831244677305, 0.021156592294573784, 0.06464514136314392, 0.00916785653680563, 0.15679386258125305, 0.00493653817102313, 0.27926701307296753, 0.017865566536784172, 1.0002036094665527, 0.11291097849607468, 0.01948660798370838, 0.0351872481405735, 0.20856238901615143, 0.004008673597127199, 0.00779464328661561, 0.3895094692707062, 0.0013362246099859476, 0.016591455787420273, 0.0010021683992817998, 0.06269120424985886, 0.02639043517410755, 0.11458125710487366, 0.06900038570165634, 0.0902312695980072, 0.024840138852596283, 0.07091116160154343, 0.14989006519317627, 0.41803619265556335, 0.013693922199308872, 0.0036092509981244802, 0.014118540100753307, 0.07526350021362305, 0.024415520951151848, 0.0028661699034273624, 0.02303551323711872, 0.010403134860098362, 0.009660053998231888, 1.0003451108932495, 0.1553858518600464, 0.03659892827272415, 0.006330337841063738, 0.04154616594314575, 0.05798376724123955, 0.046599797904491425, 0.11979765444993973, 0.4803609251976013, 0.0189910139888525, 0.01196912582963705, 0.00010639223182806745, 0.013299028389155865, 0.011064792051911354, 0.9987537860870361, 0.9995788931846619, 1.0003666877746582, 0.999453604221344, 0.99627286195755, 0.999600887298584, 0.9978382587432861, 0.9990295171737671, 0.03295479714870453, 0.04296798259019852, 0.16363324224948883, 0.0006337460945360363, 0.14842332899570465, 0.3199150264263153, 0.13042494654655457, 0.08961169421672821, 0.041573744267225266, 0.029786065220832825, 0.06718510389328003, 0.14635416865348816, 0.026214923709630966, 0.06830859929323196, 0.18290527164936066, 0.28304627537727356, 0.030334411188960075, 0.005842182785272598, 0.036850690841674805, 0.0060668825171887875, 0.022994233295321465, 0.06089352071285248, 0.010111470706760883, 0.04344187304377556, 0.009587172418832779, 0.02067711018025875, 0.7079448699951172, 0.0344618521630764, 0.022646360099315643, 0.12997041642665863, 0.01969248615205288, 0.06400058418512344, 1.000425934791565, 0.12351657450199127, 0.002511427504941821, 0.626715362071991, 0.24726146459579468, 0.9996669292449951, 1.0000338554382324, 0.10651863366365433, 0.06606628000736237, 0.09079697728157043, 0.1621626913547516, 0.032856494188308716, 0.039392463862895966, 0.0037096040323376656, 0.34481653571128845, 0.07419208437204361, 0.004239547532051802, 0.03126666322350502, 0.00017664780898485333, 0.012718643061816692, 0.007242560386657715, 0.02384745515882969, 0.9990449547767639, 0.0271748136729002, 0.09218122810125351, 0.016784444451332092, 0.00026641975273378193, 0.050086911767721176, 0.8123137950897217, 0.0010656790109351277, 0.20004142820835114, 0.1065417230129242, 0.006089468486607075, 0.0852525532245636, 0.12413884699344635, 0.1719915121793747, 0.004890753887593746, 0.07887539267539978, 0.021816598251461983, 0.05892879143357277, 0.05820956453680992, 0.01448046788573265, 0.06779927760362625, 0.0010548685677349567, 0.3811383843421936, 0.014330651611089706, 0.13305677473545074, 0.0038911039009690285, 0.129830002784729, 0.00037961988709867, 0.04204290360212326, 0.0051248688250780106, 0.09452535212039948, 0.06557933986186981, 0.12223760783672333, 0.0021828145254403353, 0.005789203569293022, 0.996497392654419, 1.0000641345977783, 0.06993789225816727, 0.9266770482063293, 0.0019427192164584994, 0.0019427192164584994, 1.0011661052703857, 0.9999405145645142, 0.9999071955680847, 1.0000768899917603, 0.14590220153331757, 0.10384344309568405, 0.011557471007108688, 0.254177451133728, 0.20820827782154083, 0.06274055689573288, 0.004866303410381079, 0.022941146045923233, 0.04666437581181526, 0.04423122480511665, 0.011731266975402832, 8.68982751853764e-05, 0.013903724029660225, 0.06699857115745544, 0.0020855586044490337, 0.04283596947789192, 0.23553664982318878, 0.0014074676437303424, 0.020744848996400833, 0.20200219750404358, 0.13413777947425842, 0.14417363703250885, 0.039347898215055466, 0.01382989902049303, 0.01340153906494379, 0.02453889138996601, 0.003304489189758897, 0.0033656833693385124, 0.07973609864711761, 0.04167328029870987, 1.000160813331604, 0.04571743682026863, 0.026668505743145943, 0.12096071988344193, 0.8067222833633423, 0.9981115460395813, 1.000101923942566, 1.0000828504562378, 0.05165576934814453, 0.7880343198776245, 0.0005676458240486681, 0.03420066088438034, 0.12559163570404053, 0.9999252557754517, 0.9989007711410522, 0.9974014163017273, 0.9969547390937805, 0.004740884993225336, 0.14163394272327423, 0.15111571550369263, 0.014222655445337296, 0.07703938335180283, 0.14696744084358215, 0.014815266244113445, 0.001777831930667162, 0.44801363348960876, 0.9990350008010864, 0.9997034072875977, 0.9985445737838745, 0.10319867730140686, 0.0679348036646843, 0.23388242721557617, 0.12463357299566269, 0.0005185863119550049, 0.45289871096611023, 0.0034572419244796038, 0.0008643104811199009, 0.0008643104811199009, 0.01140889897942543, 0.8363043069839478, 0.0013687468599528074, 0.019909044727683067, 0.0006221576477400959, 0.12368494272232056, 0.01804257184267044, 0.999350905418396, 0.11152444034814835, 0.8446336388587952, 0.0437350757420063, 0.9992574453353882, 1.0006171464920044, 0.41590508818626404, 0.05101025849580765, 0.0009644796955399215, 0.00010716441465774551, 0.11680921167135239, 0.023576170206069946, 0.0008573153172619641, 0.051224589347839355, 0.03761470690369606, 0.10427097231149673, 0.19782550632953644, 0.9991598129272461, 0.9997836947441101, 0.1067623421549797, 0.11472465842962265, 0.2393181025981903, 0.0967814102768898, 0.14096666872501373, 0.04171805828809738, 0.004373667296022177, 0.1582370400428772, 0.0061679924838244915, 0.009532351978123188, 0.001457889098674059, 0.0012335984501987696, 0.04452168941497803, 0.034428611397743225, 0.995011568069458, 0.17843499779701233, 0.635628879070282, 0.006102427840232849, 0.015866313129663467, 0.01684270054101944, 0.04442567750811577, 0.04515796899795532, 0.019771866500377655, 0.020748255774378777, 0.01684270054101944, 1.0002813339233398, 0.9994475841522217, 0.9981633424758911, 0.09592782706022263, 0.06039900332689285, 0.5083159804344177, 0.1111544668674469, 0.1040486991405487, 0.02664661966264248, 0.0002537773107178509, 0.007613319903612137, 0.0030453279614448547, 0.011419979855418205, 0.005583100952208042, 0.009897315874695778, 0.05532345548272133, 0.9997112154960632, 1.0007634162902832, 0.03096758760511875, 0.05339239165186882, 0.4097866117954254, 0.08115643262863159, 0.00827582087367773, 0.07101187855005264, 0.029365815222263336, 0.07101187855005264, 0.12066680192947388, 0.0488540381193161, 0.0032035436015576124, 0.0512566976249218, 0.02108999527990818, 0.04001181945204735, 0.9598534107208252, 0.09165314584970474, 0.42350074648857117, 0.004409027751535177, 0.03948615863919258, 0.07690436393022537, 0.008271804079413414, 0.020094240084290504, 0.033750519156455994, 0.10671406984329224, 0.07869919389486313, 0.08759528398513794, 0.028912296518683434, 0.09763788431882858, 0.6563972234725952, 0.03238484263420105, 0.00435020262375474, 0.12035560607910156, 0.022234369069337845, 0.027551284059882164, 0.014984031207859516, 0.02416779287159443, 0.999384343624115, 0.01090328861027956, 0.01264781504869461, 0.7449126839637756, 0.0004361315513961017, 0.0026167891919612885, 0.19364240765571594, 0.0017445262055844069, 0.0034890524111688137, 0.029220813885331154, 0.16505272686481476, 0.0010309352073818445, 0.0009278416982851923, 0.04907251521945, 0.024845538660883904, 0.7097988724708557, 0.00783510785549879, 0.003711366793140769, 0.0009278416982851923, 0.008144387975335121, 0.016288775950670242, 0.010515538975596428, 0.0017525898292660713, 0.0001030935236485675, 0.9984639883041382, 0.22626078128814697, 0.11407841742038727, 0.07584160566329956, 0.054985161870718, 0.19150005280971527, 0.0003160066844429821, 0.29357022047042847, 0.03823680803179741, 0.0047401003539562225, 0.5392707586288452, 0.4608621299266815, 0.9990972876548767, 0.9971234202384949, 0.038381945341825485, 0.030872436240315437, 0.7759828567504883, 0.0025031703989952803, 0.0050063407979905605, 0.059241700917482376, 0.08677657693624496, 0.002913668053224683, 0.04953235760331154, 0.6563037633895874, 0.051717609167099, 0.21196936070919037, 0.019667260348796844, 0.007284170016646385, 1.0001368522644043, 0.06643402576446533, 0.09466849267482758, 0.8403904438018799, 0.9987316131591797, 0.9986818432807922, 1.0000213384628296, 0.9883813858032227, 0.010514695197343826, 0.08888034522533417, 0.045980460941791534, 0.07530298829078674, 0.09127634763717651, 0.001140954322181642, 0.10622284561395645, 0.17319686710834503, 0.003765149274840951, 0.1568812131881714, 0.2032039612531662, 0.05396714061498642, 0.10394956916570663, 0.2692921757698059, 0.005581185221672058, 0.052323609590530396, 0.06348598003387451, 0.014650611206889153, 0.49044662714004517, 0.7449695467948914, 0.00021444143203552812, 0.02551853097975254, 0.004503270145505667, 0.11065178364515305, 0.00536103593185544, 0.10593406856060028, 0.00278773857280612, 0.8622292876243591, 0.1380983293056488, 0.059775665402412415, 0.9190508723258972, 0.022415874525904655, 0.018580911681056023, 0.0681300088763237, 0.05496852844953537, 0.004645227920264006, 0.09213034808635712, 0.02632295712828636, 0.0712268278002739, 0.001548409229144454, 0.011613069102168083, 0.030193980783224106, 0.029419776052236557, 0.5883955359458923, 0.002322613960132003, 0.9989141821861267, 0.9992095828056335, 0.9993390440940857, 0.14469687640666962, 0.7874977588653564, 0.06801420450210571, 0.9600430727005005, 0.04000179469585419, 0.9988273978233337, 0.9991737008094788, 0.9997519254684448, 0.9995958805084229, 0.9983018636703491, 0.04312263801693916, 0.2059105932712555, 0.6058730483055115, 0.14446084201335907, 0.14200164377689362, 0.12097712606191635, 0.20541983842849731, 0.11040741950273514, 0.060890670865774155, 0.0010339925065636635, 0.020105410367250443, 0.044921230524778366, 0.05997156351804733, 0.027802908793091774, 0.03136444091796875, 0.02045007422566414, 0.10856921225786209, 0.012522798031568527, 0.03389197587966919, 0.9999487400054932, 0.11575088649988174, 0.027466312050819397, 0.13840167224407196, 0.09916408360004425, 0.017478561028838158, 0.006777401547878981, 0.09363514930009842, 0.07419471442699432, 0.019440440461039543, 0.03531382977962494, 0.18566513061523438, 0.04530157893896103, 0.14161202311515808, 0.12836633622646332, 0.06071380898356438, 0.34433403611183167, 0.07979529350996017, 0.38683369755744934, 1.0003530979156494, 0.9987636804580688, 0.0008282957132905722, 0.04543793573975563, 0.0015382635174319148, 0.03810160234570503, 0.3271768093109131, 0.0005916397785767913, 0.1339472532272339, 0.4498828947544098, 0.002366559114307165, 0.00023665592016186565, 0.11648304015398026, 0.025552406907081604, 0.10400627553462982, 0.09831687808036804, 0.04681280627846718, 0.022258540615439415, 0.17287799715995789, 0.004391819704324007, 0.05100499838590622, 0.03663177043199539, 0.004791076295077801, 0.007086799945682287, 0.2877640128135681, 0.022058913484215736, 0.12478995323181152, 0.23239383101463318, 9.547815716359764e-05, 0.056618548929691315, 0.3243870437145233, 0.001193476957269013, 0.034037962555885315, 0.0003819126286543906, 0.023344410583376884, 0.02654292806982994, 0.05189237743616104, 0.04759586229920387, 0.04692751541733742, 0.018284067511558533, 0.011505117639899254, 0.9995286464691162, 1.0005041360855103, 1.0004750490188599, 1.0004552602767944, 0.1484910547733307, 0.020652037113904953, 0.00450854329392314, 0.058756500482559204, 0.11460426449775696, 0.07533630728721619, 0.0014543688157573342, 0.2161191999912262, 0.00014543687575496733, 0.3167615234851837, 0.041885823011398315, 0.0011634950060397387, 0.9999001622200012, 0.019774174317717552, 0.9799202084541321, 0.038693033158779144, 0.07980437576770782, 0.13629889488220215, 0.10580126196146011, 0.08981351554393768, 0.0012763326521962881, 0.10405469685792923, 0.12319968640804291, 0.030497632920742035, 0.08356620371341705, 0.007590820547193289, 0.0002687016094569117, 0.1543690711259842, 0.044671643525362015, 0.9987305998802185, 0.14237529039382935, 0.04967988654971123, 0.5652601718902588, 0.007270227186381817, 0.04119795560836792, 0.029686762019991875, 0.12541142106056213, 0.039986249059438705, 0.9995825290679932], \"Term\": [\"absence_r\\u00e9ponse\", \"absence_r\\u00e9ponse\", \"absence_r\\u00e9ponse\", \"absence_r\\u00e9ponse\", \"absence_r\\u00e9ponse\", \"absence_r\\u00e9ponse\", \"absence_r\\u00e9ponse\", \"absence_r\\u00e9ponse\", \"absence_r\\u00e9ponse\", \"absence_r\\u00e9ponse\", \"absence_r\\u00e9ponse\", \"accident_travail\", \"accident_travail\", \"accompagn\\u00e9e_pr\\u00e9sent\", \"accompagn\\u00e9e_pr\\u00e9sent\", \"acc\\u00e8s_institu\\u00e9\", \"acc\\u00e8s_varient\", \"acc\\u00e9der_informations\", \"acc\\u00e9der_informations\", \"acquis_forme\", \"acte_notari\\u00e9\", \"acte_vente\", \"acte_vente\", \"actes_assembl\\u00e9es\", \"action_sociale\", \"action_sociale\", \"activit\\u00e9_conditions\", \"administratif\", \"administratif\", \"administratif\", \"administratif\", \"administratif\", \"administratif\", \"administratif\", \"administratif\", \"administratif\", \"administratif_entrent\", \"administratifs\", \"administratifs\", \"administratifs\", \"administratifs\", \"administratifs\", \"administratifs\", \"administratifs\", \"administratifs\", \"administratifs\", \"administratifs\", \"administratifs\", \"administratifs\", \"administratifs\", \"administratifs\", \"administrations_mentionn\\u00e9es\", \"administrative\", \"administrative\", \"administrative\", \"administrative\", \"administrative\", \"administrative\", \"adress\\u00e9\", \"adress\\u00e9\", \"adress\\u00e9\", \"adress\\u00e9\", \"adress\\u00e9\", \"adress\\u00e9\", \"adress\\u00e9\", \"adress\\u00e9\", \"adress\\u00e9\", \"adress\\u00e9\", \"adress\\u00e9e\", \"adress\\u00e9e\", \"adress\\u00e9e\", \"adress\\u00e9e\", \"adress\\u00e9e\", \"adress\\u00e9e\", \"adress\\u00e9e\", \"adress\\u00e9e\", \"adress\\u00e9e\", \"adress\\u00e9e\", \"adress\\u00e9e\", \"adress\\u00e9e\", \"adress\\u00e9e\", \"adress\\u00e9e\", \"affaires_coordonn\\u00e9es\", \"affaires_formation\", \"affaires_sociales\", \"affaires_\\u00e9trang\\u00e8res\", \"affaires_\\u00e9trang\\u00e8res\", \"affaires_\\u00e9trang\\u00e8res\", \"affaires_\\u00e9trang\\u00e8res\", \"aff\\u00e9rente\", \"afin_conna\\u00eetre\", \"agent\", \"agent\", \"agent\", \"agent\", \"agent_concern\\u00e9\", \"agent_concern\\u00e9\", \"agents\", \"agents\", \"agents\", \"agents\", \"agents\", \"agents\", \"agents\", \"agissant\", \"agissant\", \"agissant\", \"agissant\", \"agissant\", \"agissant\", \"agissant\", \"agissant\", \"agissant\", \"agissant\", \"agissant\", \"agissant\", \"agissant\", \"agissant\", \"aide_sociale\", \"alg\\u00e9rie\", \"alimentation\", \"alin\\u00e9a\", \"alin\\u00e9a\", \"alin\\u00e9a\", \"alin\\u00e9a\", \"alin\\u00e9a\", \"alin\\u00e9a\", \"alin\\u00e9a\", \"alin\\u00e9a\", \"alin\\u00e9a\", \"allocations_familiales\", \"alpes\", \"alt\\u00e9r\\u00e9es_sens\", \"amiens\", \"analyse_offres\", \"animaux_victimes\", \"annexes_conclusions\", \"annex\\u00e9es\", \"annex\\u00e9es\", \"ans\", \"ans\", \"ans_compter\", \"ao\\u00fbt\", \"ao\\u00fbt\", \"ao\\u00fbt\", \"ao\\u00fbt\", \"ao\\u00fbt\", \"ao\\u00fbt\", \"ao\\u00fbt\", \"ao\\u00fbt\", \"ao\\u00fbt\", \"ao\\u00fbt\", \"ao\\u00fbt\", \"ao\\u00fbt\", \"ao\\u00fbt\", \"ao\\u00fbt\", \"ao\\u00fbt\", \"appel_offres\", \"application_quatri\\u00e8me\", \"application_quatri\\u00e8me\", \"application_quatri\\u00e8me\", \"applique_tous\", \"approbation_plu\", \"apr\\u00e8s_occultation\", \"apr\\u00e8s_occultation\", \"apr\\u00e8s_occultation\", \"apr\\u00e8s_occultation\", \"apr\\u00e8s_occultation\", \"apr\\u00e8s_occultation\", \"apr\\u00e8s_occultation\", \"apr\\u00e8s_occultation\", \"archives\", \"archives_d\\u00e9partementales\", \"archives_publiques\", \"arrondissement_paris\", \"arr\\u00eat\\u00e9\", \"arr\\u00eat\\u00e9\", \"arr\\u00eat\\u00e9\", \"arr\\u00eat\\u00e9\", \"arr\\u00eat\\u00e9\", \"arr\\u00eat\\u00e9\", \"arr\\u00eat\\u00e9\", \"arr\\u00eat\\u00e9\", \"arr\\u00eat\\u00e9\", \"arr\\u00eat\\u00e9\", \"arr\\u00eat\\u00e9\", \"arr\\u00eat\\u00e9\", \"arr\\u00eat\\u00e9\", \"arr\\u00eat\\u00e9_ouverture\", \"arr\\u00eat\\u00e9s_municipaux\", \"arr\\u00eat\\u00e9s_municipaux\", \"articles\", \"articles\", \"articles\", \"articles\", \"articles\", \"articles\", \"articles\", \"articles\", \"articles\", \"articles\", \"articles\", \"articles\", \"articles\", \"articles\", \"articles\", \"assembl\\u00e9e_nationale\", \"assembl\\u00e9es_parlementaires\", \"assistance_paris\", \"assurance_maladie\", \"atteinte_d\\u00e9roulement\", \"attributaire\", \"audition_rapports\", \"aupr\\u00e8s_tiers\", \"auquel_renvoie\", \"aussi_longtemps\", \"aussi_longtemps\", \"autorisation\", \"autorisation\", \"autorisation\", \"autorisation\", \"autorisation\", \"autorisation\", \"autorisations\", \"autorisations\", \"autorisations\", \"autorisations\", \"autorisations\", \"autorisations\", \"autorit\\u00e9_administrative\", \"autorit\\u00e9_administrative\", \"autorit\\u00e9_administrative\", \"autorit\\u00e9_administrative\", \"autorit\\u00e9_administrative\", \"autorit\\u00e9_administrative\", \"autorit\\u00e9_administrative\", \"autorit\\u00e9_administrative\", \"autorit\\u00e9_administrative\", \"autorit\\u00e9_parentale\", \"autorit\\u00e9_parentale\", \"autorit\\u00e9s_mentionn\\u00e9es\", \"autorit\\u00e9s_mentionn\\u00e9es\", \"autorit\\u00e9s_publiques\", \"autre\", \"autre\", \"autre\", \"autre\", \"autre\", \"autre\", \"autre\", \"autre\", \"autre\", \"autre\", \"autre\", \"autre\", \"autre\", \"autre_parent\", \"autre_part\", \"autre_part\", \"autre_part\", \"autre_part\", \"autre_part\", \"autre_part\", \"autre_part\", \"autre_part\", \"autre_part\", \"autre_part\", \"autre_part\", \"autre_part\", \"autres\", \"autres\", \"autres\", \"autres\", \"autres\", \"autres\", \"autres\", \"autres\", \"autres\", \"autres\", \"autres\", \"autres\", \"autres\", \"autres\", \"autres_celles\", \"autres_celles\", \"autres_celles\", \"avant_d\\u00e9c\\u00e8s\", \"avant_expiration\", \"aviation_civile\", \"avis\", \"avis\", \"avis\", \"avis\", \"avis\", \"avis\", \"avis\", \"avis\", \"avis\", \"avis\", \"avis\", \"avis\", \"avis\", \"avis\", \"avocat_client\", \"avocats_lyon\", \"avoir_incidences\", \"avoir_incidences\", \"avril\", \"avril\", \"avril\", \"avril\", \"avril\", \"avril\", \"avril\", \"avril\", \"avril\", \"avril\", \"avril\", \"avril\", \"avril\", \"avril\", \"avril\", \"bailleur\", \"bancaires_r\\u00e9f\\u00e9rences\", \"besoins_laquelle\", \"bruit_rayonnements\", \"budget\", \"budget\", \"budget\", \"budget_primitif\", \"budget_principal\", \"budgets_comptes\", \"budg\\u00e9taires\", \"b\\u00e9n\\u00e9ficient_tant\", \"ca\", \"cada_septembre\", \"cadre\", \"cadre\", \"cadre\", \"cadre\", \"cadre\", \"cadre\", \"cadre\", \"cadre\", \"cadre\", \"cadre\", \"cadre\", \"cadre\", \"cadre\", \"cadre\", \"cadre_fonction\", \"cadre_instruction\", \"cadre_instruction\", \"cadre_instruction\", \"cadre_instruction\", \"cadre_mission\", \"cadre_mission\", \"caisse\", \"caisse\", \"caisse_allocations\", \"caisse_primaire\", \"caisse_primaire\", \"caisses_primaires\", \"cap\", \"cap\", \"caract\\u00e8re_pr\\u00e9paratoire\", \"caract\\u00e8re_pr\\u00e9paratoire\", \"caract\\u00e8re_pr\\u00e9paratoire\", \"caract\\u00e8re_pr\\u00e9paratoire\", \"caract\\u00e8re_pr\\u00e9paratoire\", \"caract\\u00e8re_pr\\u00e9paratoire\", \"cas_lesquels\", \"cas_\\u00e9ch\\u00e9ant\", \"cas_\\u00e9ch\\u00e9ant\", \"cas_\\u00e9ch\\u00e9ant\", \"cas_\\u00e9ch\\u00e9ant\", \"cas_\\u00e9ch\\u00e9ant\", \"cas_\\u00e9ch\\u00e9ant\", \"cas_\\u00e9ch\\u00e9ant\", \"cas_\\u00e9ch\\u00e9ant\", \"cas_\\u00e9ch\\u00e9ant\", \"cas_\\u00e9ch\\u00e9ant\", \"cas_\\u00e9ch\\u00e9ant\", \"cas_\\u00e9ch\\u00e9ant\", \"cas_\\u00e9ch\\u00e9ant\", \"cas_\\u00e9ch\\u00e9ant\", \"cat\\u00e9gorie_b\", \"cat\\u00e9gories\", \"cat\\u00e9gories\", \"causes_d\\u00e9c\\u00e8s\", \"causes_mort\", \"celui_utilis\\u00e9\", \"centre_d\\u00e9tention\", \"centre_hospitalier\", \"centre_hospitalier\", \"centre_hospitalier\", \"centre_p\\u00e9nitentiaire\", \"centre_p\\u00e9nitentiaire\", \"certificat_nationalit\\u00e9\", \"certificat_urbanisme\", \"certifications_tierces\", \"ceux_\\u00e9labor\\u00e9s\", \"charge_frais\", \"charge_th\\u00e9rapeutique\", \"commande_publique\", \"commissaire_enqu\\u00eateur\", \"commune\", \"commune\", \"commune\", \"commune\", \"commune\", \"commune\", \"commune\", \"commune\", \"commune\", \"commune\", \"commune\", \"commune_font\", \"communes_membres\", \"communes_pays\", \"communicable\", \"communicable\", \"communicable\", \"communicable\", \"communicable\", \"communicable\", \"communicable\", \"communicable\", \"communicable\", \"communicable\", \"communicable\", \"communicable\", \"communicable\", \"communicables\", \"communicables\", \"communicables\", \"communicables\", \"communicables\", \"communicables\", \"communicables\", \"communicables\", \"communicables\", \"communicables\", \"communicables\", \"communicables\", \"communicables\", \"communicables\", \"communicables\", \"communiqu\\u00e9\", \"communiqu\\u00e9\", \"communiqu\\u00e9\", \"communiqu\\u00e9\", \"communiqu\\u00e9\", \"communiqu\\u00e9\", \"communiqu\\u00e9\", \"communiqu\\u00e9\", \"communiqu\\u00e9\", \"communiqu\\u00e9s\", \"communiqu\\u00e9s\", \"communiqu\\u00e9s\", \"communiqu\\u00e9s\", \"communiqu\\u00e9s\", \"communiqu\\u00e9s\", \"communiqu\\u00e9s\", \"communiqu\\u00e9s\", \"communiqu\\u00e9s\", \"communiqu\\u00e9s\", \"compatible_frais\", \"comportement\", \"comportement\", \"comportement_divulgation\", \"comportent_donn\\u00e9es\", \"comprend\", \"comprend\", \"comprend\", \"comprend\", \"comprend\", \"comprend\", \"comprend\", \"comprend\", \"comprend\", \"comprend\", \"comprend\", \"comprend\", \"comprend\", \"compte\", \"compte\", \"compte\", \"compte\", \"compte\", \"compte\", \"compte\", \"compte\", \"compte\", \"compte\", \"compte\", \"compte\", \"compte_r\\u00e9sultat\", \"comptes\", \"comptes\", \"comptes_annuels\", \"comptes_annuels\", \"comp\\u00e9tente_appr\\u00e9cier\", \"comp\\u00e9tente_interpr\\u00e9ter\", \"comp\\u00e9tente_interpr\\u00e9ter\", \"comp\\u00e9tente_interpr\\u00e9ter\", \"comp\\u00e9tente_prononcer\", \"comp\\u00e9tente_prononcer\", \"comp\\u00e9tente_prononcer\", \"comp\\u00e9tente_prononcer\", \"comp\\u00e9tente_prononcer\", \"comp\\u00e9tente_prononcer\", \"comp\\u00e9tente_prononcer\", \"comp\\u00e9tente_prononcer\", \"comp\\u00e9tente_prononcer\", \"comp\\u00e9tente_prononcer\", \"concernant\", \"concernant\", \"concernant\", \"concernant\", \"concernant\", \"concernant\", \"concernant\", \"concernant\", \"concernant\", \"concernant\", \"concernant\", \"concernant\", \"concernant\", \"concernant\", \"concernant_chiffre\", \"concernant_tel\", \"concernent_directement\", \"concernent_exercice\", \"condition_derni\\u00e8res\", \"conditions\", \"conditions\", \"conditions\", \"conditions\", \"conditions\", \"conditions\", \"conditions\", \"conditions\", \"conditions\", \"conditions\", \"conditions\", \"conditions\", \"conditions\", \"conditions\", \"conduit\", \"conduit\", \"conduit\", \"conduit\", \"conduit\", \"conduit\", \"conduit\", \"conduit\", \"conduit\", \"cong\\u00e9_longue\", \"conseil\", \"conseil\", \"conseil\", \"conseil\", \"conseil\", \"conseil\", \"conseil\", \"conseil\", \"conseil\", \"conseil\", \"conseil\", \"conseil\", \"conseil\", \"conseil\", \"conseil\", \"conseil_d\\u00e9partemental\", \"conseil_d\\u00e9partemental\", \"conseil_d\\u00e9partemental\", \"conseil_municipal\", \"conseil_municipal\", \"conseillers_municipaux\", \"conseillers_municipaux\", \"conservation\", \"conservation\", \"conservation_document\", \"conserv\\u00e9s_archives\", \"consid\\u00e8re\", \"consid\\u00e8re\", \"consid\\u00e8re\", \"consid\\u00e8re\", \"consid\\u00e8re\", \"consid\\u00e8re\", \"consid\\u00e8re\", \"consid\\u00e8re\", \"consid\\u00e8re\", \"consid\\u00e8re\", \"consid\\u00e8re\", \"consid\\u00e8re\", \"consid\\u00e8re\", \"consid\\u00e9r\\u00e9s\", \"consid\\u00e9r\\u00e9s\", \"consid\\u00e9r\\u00e9s\", \"constat\", \"constat\", \"construction\", \"construction\", \"construction\", \"construction\", \"construction\", \"construction\", \"construction\", \"construction\", \"construire\", \"consultation_gratuite\", \"consultation_intervention\", \"contentieux_imp\\u00f4ts\", \"contrat_location\", \"contre_permis\", \"contr\\u00f4le\", \"contr\\u00f4le\", \"contr\\u00f4le\", \"contr\\u00f4le\", \"contr\\u00f4le\", \"contr\\u00f4le\", \"contr\\u00f4le\", \"contr\\u00f4le_recouvrement\", \"convention\", \"convention\", \"convention\", \"convention\", \"convention_conclue\", \"convocations_adress\\u00e9es\", \"copie\", \"copie\", \"copie\", \"copie\", \"copie\", \"copie\", \"copie\", \"copie\", \"copie\", \"copie\", \"copie\", \"copie\", \"copie\", \"copie\", \"copie\", \"copie_pr\\u00e9f\\u00e9rence\", \"correspondent_march\\u00e9s\", \"courant\", \"courant\", \"courant\", \"courant\", \"courant\", \"courrier\", \"courrier\", \"courrier\", \"courrier\", \"courrier\", \"courrier\", \"courrier\", \"courrier\", \"courrier\", \"courrier\", \"courrier\", \"cours\", \"cours\", \"cours\", \"cours\", \"cours\", \"cours\", \"cours\", \"cours\", \"cours\", \"cours\", \"cours\", \"cours\", \"cours\", \"cours_temps\", \"cpam\", \"date\", \"date\", \"date\", \"date\", \"date\", \"date\", \"date\", \"date\", \"date\", \"date\", \"date\", \"date\", \"date\", \"date\", \"demander\", \"demander\", \"demander\", \"demander\", \"demander\", \"demander\", \"demandeur\", \"demandeur\", \"demandeur\", \"demandeur\", \"demandeur\", \"demandeur\", \"demandeur\", \"demandeur\", \"demandeur\", \"demandeur\", \"demandeur\", \"demandeur\", \"demandeur\", \"demandeur\", \"demandeur\", \"demandeur_limite\", \"dernier_alin\\u00e9a\", \"dernier_alin\\u00e9a\", \"dernier_alin\\u00e9a\", \"derni\\u00e8re_mise\", \"devant_comit\\u00e9\", \"devenue_sans\", \"diffusion\", \"diffusion\", \"diffusion\", \"diffusion\", \"diffusion\", \"directement_interm\\u00e9diaire\", \"directeur\", \"directeur\", \"directeur\", \"directeur\", \"directeur\", \"directeur\", \"directeur\", \"directeur\", \"directeur\", \"directeur\", \"directeur_caisse\", \"directeur_centre\", \"directeur_centre\", \"directeur_centre\", \"directeur_g\\u00e9n\\u00e9ral\", \"directeur_g\\u00e9n\\u00e9ral\", \"directeur_g\\u00e9n\\u00e9ral\", \"directeur_g\\u00e9n\\u00e9ral\", \"directeur_g\\u00e9n\\u00e9ral\", \"directeur_g\\u00e9n\\u00e9ral\", \"dispose_aucune\", \"dispositions\", \"dispositions\", \"dispositions\", \"dispositions\", \"dispositions\", \"dispositions\", \"dispositions\", \"dispositions\", \"dispositions\", \"dispositions\", \"dispositions\", \"dispositions\", \"dispositions\", \"dispositions\", \"dispositions_chapitre\", \"dispositions_chapitre\", \"dispositions_sp\\u00e9ciales\", \"diversit\\u00e9_biologique\", \"divulgation_comportement\", \"divulgation_comportement\", \"divulgation_pourrait\", \"divulgation_pourrait\", \"docteur\", \"docteur\", \"docteur\", \"docteur\", \"docteur\", \"document\", \"document\", \"document\", \"document\", \"document\", \"document\", \"document\", \"document\", \"document\", \"document\", \"document\", \"document\", \"document\", \"document_achev\\u00e9\", \"document_achev\\u00e9\", \"document_administratif\", \"document_administratif\", \"document_administratif\", \"document_administratif\", \"document_administratif\", \"document_administratif\", \"document_administratif\", \"document_administratif\", \"document_disponible\", \"doit\", \"doit\", \"doit\", \"doit\", \"doit\", \"doit\", \"doit\", \"doit\", \"doit\", \"doit\", \"doit_pr\\u00e9ciser\", \"doit_toutefois\", \"doit_toutefois\", \"doivent_communiqu\\u00e9s\", \"doivent_obligatoirement\", \"domaine_priv\\u00e9\", \"donc\", \"donc\", \"donc\", \"donc\", \"donc\", \"donc\", \"donc\", \"donc\", \"donc\", \"donc\", \"donc\", \"donc\", \"donc\", \"donc\", \"donc\", \"donne_comp\\u00e9tence\", \"donne_comp\\u00e9tence\", \"donn\\u00e9es\", \"donn\\u00e9es\", \"donn\\u00e9es\", \"donn\\u00e9es_caract\\u00e8re\", \"dossier\", \"dossier\", \"dossier\", \"dossier\", \"dossier\", \"dossier\", \"dossier\", \"dossier\", \"dossier\", \"dossier\", \"dossier\", \"dossier\", \"dossier\", \"dossier_fiscal\", \"dossier_m\\u00e9dical\", \"dossier_m\\u00e9dical\", \"dossiers_instruction\", \"droit\", \"droit\", \"droit\", \"droit\", \"droit\", \"droit\", \"droit\", \"droit\", \"droit\", \"droit\", \"droit\", \"droit\", \"droit\", \"droit\", \"droit_priv\\u00e9\", \"droit_priv\\u00e9\", \"droits\", \"droits\", \"droits\", \"droits\", \"droits\", \"droits\", \"droits\", \"droits\", \"droits_information\", \"droits_propri\\u00e9t\\u00e9\", \"droits_propri\\u00e9t\\u00e9\", \"droits_sauf\", \"droits_taxes\", \"d\\u00e9but_fin\", \"d\\u00e9cembre\", \"d\\u00e9cembre\", \"d\\u00e9cembre\", \"d\\u00e9cembre\", \"d\\u00e9cembre\", \"d\\u00e9cembre\", \"d\\u00e9cembre\", \"d\\u00e9cembre\", \"d\\u00e9cembre\", \"d\\u00e9cembre\", \"d\\u00e9cembre\", \"d\\u00e9cembre\", \"d\\u00e9cembre\", \"d\\u00e9cembre\", \"d\\u00e9cembre\", \"d\\u00e9chets_\\u00e9missions\", \"d\\u00e9cision\", \"d\\u00e9cision\", \"d\\u00e9cision\", \"d\\u00e9cision\", \"d\\u00e9cision\", \"d\\u00e9cision\", \"d\\u00e9cision\", \"d\\u00e9cision\", \"d\\u00e9cision\", \"d\\u00e9cision\", \"d\\u00e9cision\", \"d\\u00e9cision\", \"d\\u00e9cision\", \"d\\u00e9cision\", \"d\\u00e9cision_administrative\", \"d\\u00e9cision_administrative\", \"d\\u00e9cision_administrative\", \"d\\u00e9cision_administrative\", \"d\\u00e9cision_expresse\", \"d\\u00e9cisions_activit\\u00e9s\", \"d\\u00e9cisions_parquet\", \"d\\u00e9claration\", \"d\\u00e9claration\", \"d\\u00e9claration\", \"d\\u00e9claration\", \"d\\u00e9claration\", \"d\\u00e9claration\", \"d\\u00e9claration\", \"d\\u00e9claration\", \"d\\u00e9claration\", \"d\\u00e9claration\", \"d\\u00e9claration_accident\", \"d\\u00e9claration_utilit\\u00e9\", \"d\\u00e9clarer\", \"d\\u00e9clarer\", \"d\\u00e9clarer\", \"d\\u00e9clarer\", \"d\\u00e9clarer\", \"d\\u00e9clarer\", \"d\\u00e9clarer_irrecevable\", \"d\\u00e9clarer_irrecevable\", \"d\\u00e9clarer_sans\", \"d\\u00e9clarer_sans\", \"d\\u00e9composition_prix\", \"d\\u00e9cret\", \"d\\u00e9cret\", \"d\\u00e9cret\", \"d\\u00e9cret\", \"d\\u00e9cret\", \"d\\u00e9cret\", \"d\\u00e9cret\", \"d\\u00e9cret\", \"d\\u00e9cret\", \"d\\u00e9cret\", \"d\\u00e9cret\", \"d\\u00e9c\\u00e8s\", \"d\\u00e9c\\u00e8s\", \"d\\u00e9c\\u00e9d\\u00e9\", \"d\\u00e9c\\u00e9d\\u00e9e\", \"d\\u00e9fendre_m\\u00e9moire\", \"d\\u00e9fense_nationale\", \"d\\u00e9fense_nationale\", \"d\\u00e9finies_titre\", \"d\\u00e9funt\", \"d\\u00e9funt_faire\", \"d\\u00e9lai_ans\", \"d\\u00e9lib\\u00e9ration\", \"d\\u00e9lib\\u00e9ration\", \"d\\u00e9lib\\u00e9ration\", \"d\\u00e9lib\\u00e9ration\", \"d\\u00e9lib\\u00e9rations\", \"d\\u00e9lib\\u00e9rations\", \"d\\u00e9lib\\u00e9rations\", \"d\\u00e9livrance_copie\", \"d\\u00e9livr\\u00e9\", \"d\\u00e9livr\\u00e9\", \"d\\u00e9livr\\u00e9es\", \"d\\u00e9livr\\u00e9es\", \"d\\u00e9livr\\u00e9es\", \"d\\u00e9livr\\u00e9es\", \"d\\u00e9livr\\u00e9es_droit\", \"d\\u00e9natur\\u00e9_leurs\", \"d\\u00e9penses_recettes\", \"d\\u00e9rogation\", \"d\\u00e9rogation\", \"d\\u00e9rogation_d\\u00e9lais\", \"d\\u00e9tail_quantitatif\", \"d\\u00e9tails_techniques\", \"d\\u00e9tenu_h\\u00f4pital\", \"d\\u00e9tenues_re\\u00e7ues\", \"d\\u00e9tenus_professionnels\", \"d\\u00e9veloppement_durable\", \"d\\u00e9veloppement_durable\", \"d\\u00e9veloppement_durable\", \"d\\u00e9veloppement_durable\", \"d\\u00e9versements_autres\", \"effet\", \"effet\", \"effet\", \"effet\", \"effet\", \"effet\", \"effet\", \"effet\", \"effet\", \"effet\", \"effet\", \"effet\", \"effet\", \"elles\", \"elles\", \"elles\", \"elles\", \"elles\", \"elles\", \"elles\", \"elles\", \"elles\", \"elles\", \"elles\", \"elles_n\\u00e9cessaires\", \"elles_recueillies\", \"employeur\", \"employeur\", \"employeur\", \"employeur\", \"enfance\", \"enfant\", \"enfant\", \"enfant\", \"enfant_mineur\", \"enfant_mineur\", \"enqu\\u00eate\", \"enqu\\u00eate\", \"enqu\\u00eate\", \"enqu\\u00eate\", \"enqu\\u00eate_publique\", \"enseignement_sup\\u00e9rieur\", \"enseignement_sup\\u00e9rieur\", \"enseignement_sup\\u00e9rieur\", \"ensemble\", \"ensemble\", \"ensemble\", \"ensemble\", \"ensemble\", \"ensemble\", \"ensemble\", \"ensemble\", \"ensemble\", \"ensemble\", \"ensemble\", \"ensemble\", \"ensemble\", \"ensemble\", \"ensemble\", \"ensemble_pi\\u00e8ces\", \"ensemble_pi\\u00e8ces\", \"ensemble_pi\\u00e8ces\", \"ensemble_pi\\u00e8ces\", \"ensemble_pi\\u00e8ces\", \"ensemble_pi\\u00e8ces\", \"ensemble_pi\\u00e8ces\", \"ensemble_pi\\u00e8ces\", \"ensemble_pi\\u00e8ces\", \"ensemble_pi\\u00e8ces\", \"ensemble_pi\\u00e8ces\", \"entre\", \"entre\", \"entre\", \"entre\", \"entre\", \"entre\", \"entre\", \"entre\", \"entre\", \"entre\", \"entre\", \"entre\", \"entre\", \"entre\", \"entre_op\\u00e9rateurs\", \"entreprise_attributaire\", \"entreprises_non\", \"environnement\", \"environnement\", \"environnement\", \"environnement_qualifie\", \"esp\\u00e8ce\", \"esp\\u00e8ce\", \"esp\\u00e8ce\", \"esp\\u00e8ce\", \"esp\\u00e8ce\", \"esp\\u00e8ce\", \"esp\\u00e8ce\", \"esp\\u00e8ce\", \"esp\\u00e8ce\", \"esp\\u00e8ce\", \"esp\\u00e8ce\", \"esp\\u00e8ce\", \"esp\\u00e8ce\", \"esp\\u00e8ce\", \"estime\", \"estime\", \"estime\", \"estime\", \"estime\", \"estime\", \"estime\", \"estime\", \"estime\", \"estime\", \"estime\", \"estime\", \"estime\", \"estime\", \"estime\", \"examen_candidatures\", \"examen_candidatures\", \"exception\", \"exception\", \"exception\", \"exception\", \"exception\", \"exception\", \"exception\", \"exception\", \"exception\", \"exception\", \"exception_informations\", \"exc\\u00e9der_co\\u00fbt\", \"exerce_choix\", \"exerce_conditions\", \"exerce_conditions\", \"exerce_mandats\", \"exercer_respect\", \"exercice_mandat\", \"exercice_mandat\", \"exercices\", \"exercices\", \"existait\", \"existait\", \"existait\", \"existe\", \"existe\", \"existe\", \"existe\", \"existe\", \"existe\", \"existe\", \"existe\", \"existe\", \"existe\", \"existe\", \"existe\", \"expertise_m\\u00e9moires\", \"exploration_hospitalisation\", \"ext\\u00e9rieure_france\", \"facilement_identifiable\", \"facteurs_notamment\", \"facture\", \"facture\", \"factures\", \"factures\", \"faire_valoir\", \"faisant_appara\\u00eetre\", \"faisant_appara\\u00eetre\", \"faisant_appara\\u00eetre\", \"faisant_appara\\u00eetre\", \"faisant_appara\\u00eetre\", \"faisant_appara\\u00eetre\", \"faisant_appara\\u00eetre\", \"fait\", \"fait\", \"fait\", \"fait\", \"fait\", \"fait\", \"fait\", \"fait\", \"fait\", \"fait\", \"fait\", \"fait\", \"fait\", \"fait\", \"fait_obstacle\", \"fait_obstacle\", \"fait_obstacle\", \"fait_obstacle\", \"fait_obstacle\", \"fait_obstacle\", \"fait_obstacle\", \"fait_obstacle\", \"familles\", \"feraient_appara\\u00eetre\", \"feuille\", \"fiche_individuelle\", \"fichiers_libert\\u00e9s\", \"fils_mineur\", \"financier_subvention\", \"financiers_offres\", \"fins_celles\", \"fiscales\", \"fiscales\", \"fixe\", \"fixe\", \"fixe\", \"fix\\u00e9s\", \"fondement\", \"fondement\", \"fondement\", \"fondement\", \"fondement\", \"fondement\", \"fondement\", \"fondement\", \"fondement\", \"fondement\", \"fondement\", \"fondement\", \"fondement\", \"font_appara\\u00eetre\", \"frais_lorsque\", \"frais_puissent\", \"france\", \"france\", \"france\", \"france\", \"france\", \"france\", \"france\", \"france\", \"future\", \"f\\u00e9vrier\", \"f\\u00e9vrier\", \"f\\u00e9vrier\", \"f\\u00e9vrier\", \"f\\u00e9vrier\", \"f\\u00e9vrier\", \"f\\u00e9vrier\", \"f\\u00e9vrier\", \"f\\u00e9vrier\", \"f\\u00e9vrier\", \"f\\u00e9vrier\", \"f\\u00e9vrier\", \"f\\u00e9vrier\", \"f\\u00e9vrier\", \"f\\u00e9vrier\", \"gestion_fonction\", \"grand_livre\", \"grille\", \"groupe_travail\", \"g\\u00e9n\\u00e9ral_agence\", \"g\\u00e9n\\u00e9ral_agence\", \"g\\u00e9n\\u00e9ral_agence\", \"g\\u00e9n\\u00e9ral_assistance\", \"g\\u00e9n\\u00e9ral_collectivit\\u00e9s\", \"g\\u00e9n\\u00e9ral_collectivit\\u00e9s\", \"g\\u00e9n\\u00e9ral_collectivit\\u00e9s\", \"g\\u00e9n\\u00e9ral_collectivit\\u00e9s\", \"g\\u00e9n\\u00e9ral_collectivit\\u00e9s\", \"g\\u00e9n\\u00e9ral_imp\\u00f4ts\", \"habitation\", \"habitation\", \"habitation\", \"habitation\", \"haute_autorit\\u00e9\", \"haute_autorit\\u00e9\", \"homme\", \"hospitalier\", \"hospitalier\", \"hospitalier\", \"humains_certification\", \"i\", \"i\", \"i\", \"i\", \"i\", \"i\", \"i\", \"i\", \"ignominie_d\\u00e9saffection\", \"ii\", \"ii\", \"ii\", \"ii\", \"ii\", \"ii\", \"ii\", \"ii\", \"ii\", \"ii\", \"ii\", \"ii\", \"ii\", \"ii\", \"ii\", \"iii\", \"iii\", \"iii\", \"iii\", \"iii\", \"iii\", \"iii\", \"iii\", \"iii\", \"immeuble\", \"immeuble\", \"immeuble\", \"immeuble\", \"immeuble_sis\", \"immeubles\", \"immeubles\", \"important\", \"indemnit\\u00e9\", \"indemnit\\u00e9\", \"ind\\u00e9pendamment_fonctions\", \"ind\\u00e9pendants\", \"information\", \"information\", \"information\", \"information\", \"information\", \"information\", \"information\", \"information\", \"information\", \"information\", \"information\", \"information_relative\", \"informations\", \"informations\", \"informations\", \"informations\", \"informations\", \"informations\", \"informations\", \"informations\", \"informations\", \"informations\", \"informations\", \"informations\", \"informations\", \"informations_communiqu\\u00e9es\", \"informations_mentionnant\", \"informations_m\\u00e9dicales\", \"informations_pr\\u00e9cises\", \"informations_relatives\", \"informations_relatives\", \"informations_relatives\", \"informations_relatives\", \"informations_relatives\", \"informations_relatives\", \"informations_relatives\", \"informations_relatives\", \"inform\\u00e9\", \"inform\\u00e9\", \"inform\\u00e9\", \"inform\\u00e9\", \"inform\\u00e9\", \"inform\\u00e9\", \"inform\\u00e9\", \"inform\\u00e9\", \"inscrivent_processus\", \"installations_class\\u00e9es\", \"institut_national\", \"institut_national\", \"instruction\", \"instruction\", \"instruction\", \"instruction\", \"instruction\", \"instruction\", \"intellectuelle\", \"intellectuelle\", \"interactions_entre\", \"intercommunal\", \"interpr\\u00e9t\\u00e9es\", \"interpr\\u00e9t\\u00e9es\", \"intervenant\", \"intervenant_prise\", \"int\\u00e9gralit\\u00e9_dossier\", \"int\\u00e9gralit\\u00e9_dossier\", \"int\\u00e9gralit\\u00e9_dossier\", \"int\\u00e9gralit\\u00e9_dossier\", \"int\\u00e9gralit\\u00e9_dossier\", \"int\\u00e9gralit\\u00e9_dossier\", \"int\\u00e9gralit\\u00e9_dossier\", \"int\\u00e9gralit\\u00e9_dossier\", \"int\\u00e9gralit\\u00e9_dossier\", \"int\\u00e9gralit\\u00e9_dossier\", \"int\\u00e9ress\\u00e9\", \"int\\u00e9ress\\u00e9\", \"int\\u00e9ress\\u00e9\", \"int\\u00e9ress\\u00e9\", \"int\\u00e9ress\\u00e9\", \"int\\u00e9ress\\u00e9\", \"int\\u00e9ress\\u00e9\", \"int\\u00e9ress\\u00e9\", \"int\\u00e9ress\\u00e9\", \"int\\u00e9ress\\u00e9_librement\", \"int\\u00e9ress\\u00e9e_sens\", \"int\\u00e9ress\\u00e9e_sens\", \"int\\u00e9r\\u00eat_g\\u00e9n\\u00e9ral\", \"irrecevable\", \"irrecevable\", \"irrecevable\", \"irrecevable\", \"irrecevable\", \"irrecevable\", \"irrecevable\", \"irrecevable\", \"isolement\", \"iv_titre\", \"janvier\", \"janvier\", \"janvier\", \"janvier\", \"janvier\", \"janvier\", \"janvier\", \"janvier\", \"janvier\", \"janvier\", \"janvier\", \"janvier\", \"janvier\", \"janvier\", \"janvier\", \"joint\", \"joint\", \"joint\", \"joint\", \"joint\", \"joint\", \"jour_mentionn\\u00e9es\", \"judiciaire\", \"judiciaire\", \"judiciaire\", \"juge_enfants\", \"jugement_valeur\", \"jugement_valeur\", \"jug\\u00e9_d\\u00e9cision\", \"juillet\", \"juillet\", \"juillet\", \"juillet\", \"juillet\", \"juillet\", \"juillet\", \"juillet\", \"juillet\", \"juillet\", \"juillet\", \"juillet\", \"juillet\", \"juillet\", \"juin\", \"juin\", \"juin\", \"juin\", \"juin\", \"juin\", \"juin\", \"juin\", \"juin\", \"juin\", \"juin\", \"juin\", \"juin\", \"juin\", \"juridictions_ordre\", \"k\", \"lettre_recommand\\u00e9e\", \"lettre_saisine\", \"leurs_groupements\", \"licence\", \"licence\", \"ligne\", \"ligne\", \"ligne\", \"ligne\", \"ligne\", \"ligne\", \"ligne\", \"ligne\", \"limites_conditions\", \"listes_\\u00e9lectorales\", \"livre_i\", \"livre_proc\\u00e9dures\", \"li\\u00e9\", \"local_urbanisme\", \"loi\", \"loi\", \"loi\", \"loi\", \"loi\", \"loi\", \"loi\", \"loi\", \"loi\", \"loi\", \"loi\", \"loi\", \"loi\", \"loire\", \"lorsqu_elles\", \"lorsqu_elles\", \"lorsqu_elles\", \"lorsqu_elles\", \"lorsqu_elles\", \"lotissement\", \"l\\u00e9gaux\", \"l\\u00e9gaux\", \"mai\", \"mai\", \"mai\", \"mai\", \"mai\", \"mai\", \"mai\", \"mai\", \"mai\", \"mai\", \"mai\", \"mai\", \"mai\", \"mai\", \"maire\", \"maire\", \"maire\", \"maire\", \"maire\", \"maire\", \"maire\", \"maire\", \"maire\", \"maire\", \"maladie\", \"maladie_professionnelle\", \"march\\u00e9\", \"march\\u00e9\", \"march\\u00e9\", \"mars\", \"mars\", \"mars\", \"mars\", \"mars\", \"mars\", \"mars\", \"mars\", \"mars\", \"mars\", \"mars\", \"mars\", \"mars\", \"mars\", \"mars\", \"martinique\", \"ma\\u00eetre\", \"ma\\u00eetre\", \"ma\\u00eetre\", \"ma\\u00eetre\", \"ma\\u00eetre\", \"ma\\u00eetre\", \"ma\\u00eetre\", \"ma\\u00eetre\", \"ma\\u00eetre\", \"ma\\u00eetre\", \"ma\\u00eetre\", \"ma\\u00eetre\", \"ma\\u00eetre\", \"ma\\u00eetre\", \"membres_gouvernement\", \"mention_couverte\", \"mentionnant_elles\", \"mentionn\\u00e9_point\", \"mentionn\\u00e9_point\", \"mentionn\\u00e9e_tables\", \"mentions\", \"mentions\", \"mentions\", \"mentions\", \"mentions\", \"mentions\", \"mentions\", \"mentions\", \"mentions_relatives\", \"mentions_relatives\", \"mesure_o\\u00f9\", \"mesure_o\\u00f9\", \"mesure_o\\u00f9\", \"mesure_o\\u00f9\", \"mesure_o\\u00f9\", \"mesure_o\\u00f9\", \"mesure_o\\u00f9\", \"mesure_o\\u00f9\", \"mesure_o\\u00f9\", \"mesure_o\\u00f9\", \"mesure_o\\u00f9\", \"metz\", \"ministre_budget\", \"ministre_int\\u00e9rieur\", \"ministre_int\\u00e9rieur\", \"ministre_int\\u00e9rieur\", \"mise_recouvrement\", \"mise_\\u0153uvre\", \"mise_\\u0153uvre\", \"mise_\\u0153uvre\", \"mise_\\u0153uvre\", \"mise_\\u0153uvre\", \"mise_\\u0153uvre\", \"mise_\\u0153uvre\", \"mise_\\u0153uvre\", \"mise_\\u0153uvre\", \"mise_\\u0153uvre\", \"mise_\\u0153uvre\", \"mises_cause\", \"mission\", \"mission\", \"mission\", \"mission\", \"mission\", \"mission\", \"mission\", \"mission\", \"mission\", \"mission\", \"mission\", \"mission_int\\u00e9r\\u00eat\", \"mission_service\", \"mission_service\", \"mission_service\", \"modalit\\u00e9s\", \"modalit\\u00e9s\", \"modalit\\u00e9s\", \"modalit\\u00e9s\", \"modalit\\u00e9s\", \"mod\\u00e8le\", \"montant_total\", \"motifs_conduit\", \"moyens\", \"moyens\", \"moyens\", \"moyens\", \"moyens\", \"moyens\", \"moyens\", \"moyens\", \"moyens\", \"moyens_mat\\u00e9riels\", \"moyens_techniques\", \"moyens_techniques\", \"municipal\", \"municipal\", \"municipal\", \"municipale\", \"municipale\", \"municipale\", \"mutation\", \"mutation\", \"m\\u00e8re\", \"m\\u00e8re\", \"m\\u00e8re\", \"m\\u00e9decin\", \"m\\u00e9decin\", \"m\\u00e9decin\", \"m\\u00e9decin\", \"m\\u00e9decin_d\\u00e9signe\", \"m\\u00e9diation\", \"m\\u00e9dical\", \"m\\u00e9dical\", \"m\\u00e9dical\", \"m\\u00e9dical\", \"m\\u00e9dical_patient\", \"m\\u00e9moire_d\\u00e9funt\", \"m\\u00e9tropole\", \"m\\u00e9tropole\", \"m\\u00e9tropole\", \"national_ordre\", \"nationales\", \"nationalit\\u00e9_fran\\u00e7aise\", \"nature_civile\", \"nature_porter\", \"nature_porter\", \"nature_porter\", \"ni\", \"ni\", \"ni\", \"ni\", \"ni\", \"ni\", \"ni\", \"ni\", \"ni\", \"ni\", \"ni\", \"ni\", \"ni\", \"ni\", \"nom\", \"nom\", \"nom\", \"nom\", \"nom\", \"nom\", \"nom\", \"nom\", \"nom\", \"nom\", \"nom\", \"nom\", \"nom\", \"nom\", \"nombre\", \"nombre\", \"nombre\", \"nombre\", \"nombre\", \"nombre\", \"nombre\", \"nombre\", \"nombre\", \"nombre\", \"nomm\\u00e9ment_d\\u00e9sign\\u00e9e\", \"non_autoris\\u00e9es\", \"notamment\", \"notamment\", \"notamment\", \"notamment\", \"notamment\", \"notamment\", \"notamment\", \"notamment\", \"notamment\", \"notamment\", \"notamment\", \"notamment\", \"notamment\", \"notamment\", \"notamment\", \"notamment_air\", \"notamment_r\\u00e9sultats\", \"note_synth\\u00e8se\", \"novembre\", \"novembre\", \"novembre\", \"novembre\", \"novembre\", \"novembre\", \"novembre\", \"novembre\", \"novembre\", \"novembre\", \"novembre\", \"novembre\", \"novembre\", \"novembre\", \"n\\u00e9cessaires_poursuite\", \"n\\u00e9gociations\", \"n\\u00eemes\", \"objet\", \"objet\", \"objet\", \"objet\", \"objet\", \"objet\", \"objet\", \"objet\", \"objet\", \"objet\", \"objet\", \"objet\", \"objet\", \"objets\", \"obligations\", \"obligations\", \"observations_parties\", \"occasion_leurs\", \"occultation\", \"occultation\", \"occultation\", \"occultation\", \"occultation\", \"octobre\", \"octobre\", \"octobre\", \"octobre\", \"octobre\", \"octobre\", \"octobre\", \"octobre\", \"octobre\", \"octobre\", \"octobre\", \"octobre\", \"octobre\", \"octobre\", \"octobre\", \"offre\", \"offre\", \"offre\", \"offres\", \"oppos\\u00e9_directeur\", \"oppos\\u00e9_directeur\", \"oppos\\u00e9_directeur\", \"oppos\\u00e9_directeur\", \"oppos\\u00e9_directeur\", \"oppos\\u00e9_directeur\", \"oppos\\u00e9_directeur\", \"oppos\\u00e9_directeur\", \"oppos\\u00e9_directeur\", \"oppos\\u00e9_directeur\", \"oppos\\u00e9_directeur\", \"oppos\\u00e9_directeur\", \"oppos\\u00e9_vivant\", \"oppos\\u00e9e_personne\", \"op\\u00e9rateurs\", \"orange\", \"organisme\", \"organisme\", \"organisme\", \"organisme\", \"organisme\", \"outre_pr\\u00e9cis\\u00e9\", \"ouvert_toute\", \"parcelle\", \"parcelle\", \"parcelle\", \"parcelles\", \"parcelles\", \"parcelles\", \"parcelles\", \"parentale\", \"paris\", \"paris\", \"paris\", \"paris\", \"paris\", \"paris\", \"paris\", \"paris\", \"paris\", \"paris\", \"paris\", \"parlementaires\", \"part\", \"part\", \"part\", \"part\", \"part\", \"part\", \"part\", \"part\", \"part\", \"part\", \"part\", \"part\", \"part\", \"partenariat\", \"parties_certificats\", \"patient_d\\u00e9c\\u00e9d\\u00e9\", \"patrimoine\", \"pc\", \"penser\", \"perdu_caract\\u00e8re\", \"perdu_caract\\u00e8re\", \"perdu_caract\\u00e8re\", \"permet_refuser\", \"permettre_conna\\u00eetre\", \"permis_conduire\", \"permis_conduire\", \"permis_construire\", \"perpignan\", \"perpignan\", \"perpignan\", \"personne\", \"personne\", \"personne\", \"personne\", \"personne\", \"personne\", \"personne\", \"personne\", \"personne\", \"personne\", \"personne\", \"personne_d\\u00e9c\\u00e9d\\u00e9e\", \"personne_fait\", \"personne_physique\", \"personne_physique\", \"personnel_subordonn\\u00e9e\", \"personnes\", \"personnes\", \"personnes\", \"personnes\", \"personnes\", \"personnes\", \"personnes\", \"personnes\", \"personnes\", \"personnes_appel\\u00e9es\", \"personnes_d\\u00e9c\\u00e9d\\u00e9es\", \"peuvent\", \"peuvent\", \"peuvent\", \"peuvent\", \"peuvent\", \"peuvent\", \"peuvent\", \"peuvent\", \"peuvent\", \"peuvent_utilis\\u00e9es\", \"physique_morale\", \"physique_morale\", \"pi\\u00e8ces\", \"pi\\u00e8ces\", \"pi\\u00e8ces\", \"pi\\u00e8ces\", \"pi\\u00e8ces\", \"pi\\u00e8ces\", \"pi\\u00e8ces\", \"pi\\u00e8ces\", \"pi\\u00e8ces\", \"pi\\u00e8ces\", \"pi\\u00e8ces\", \"pi\\u00e8ces\", \"pi\\u00e8ces\", \"pi\\u00e8ces\", \"pi\\u00e8ces_manquantes\", \"place\", \"place\", \"place\", \"place\", \"place\", \"place\", \"place\", \"place\", \"place\", \"place\", \"placement_judiciaire\", \"plan\", \"plan\", \"plan\", \"plan\", \"plan\", \"plan\", \"plan\", \"plan\", \"plan\", \"plan_local\", \"plan_occupation\", \"plu\", \"plus_largement\", \"point\", \"point\", \"point\", \"point\", \"point\", \"point\", \"point\", \"point\", \"point\", \"point\", \"point\", \"point\", \"point\", \"points\", \"points\", \"points\", \"points\", \"points\", \"points\", \"points\", \"points\", \"points\", \"points\", \"points\", \"points\", \"points\", \"politique\", \"politique\", \"politique\", \"portant_appr\\u00e9ciation\", \"porte_atteinte\", \"porte_atteinte\", \"porte_atteinte\", \"porte_atteinte\", \"porte_atteinte\", \"portent_appr\\u00e9ciation\", \"porter\", \"porter\", \"porter\", \"porter\", \"porter\", \"porter_pr\\u00e9judice\", \"porter_pr\\u00e9judice\", \"porter_pr\\u00e9judice\", \"porterait_atteinte\", \"porterait_atteinte\", \"porterait_atteinte\", \"porterait_atteinte\", \"porterait_atteinte\", \"porterait_atteinte\", \"possession\", \"possession\", \"possession\", \"possession\", \"possession\", \"possession\", \"possession\", \"possession\", \"possession\", \"possession\", \"possession\", \"possession\", \"possibilit\\u00e9s_techniques\", \"poste\", \"poste\", \"poste\", \"poste\", \"poste\", \"poste\", \"poste\", \"poste\", \"pourrait_porter\", \"pourrait_porter\", \"pourrait_porter\", \"pouvoirs\", \"premier_alin\\u00e9a\", \"premier_alin\\u00e9a\", \"premier_alin\\u00e9a\", \"premier_alin\\u00e9a\", \"premier_alin\\u00e9a\", \"premier_alin\\u00e9a\", \"prend_acte\", \"prend_acte\", \"prend_acte\", \"prend_acte\", \"prend_note\", \"prend_note\", \"prend_note\", \"prend_note\", \"prend_note\", \"prend_note\", \"prend_note\", \"prend_note\", \"prend_note\", \"prend_note\", \"prend_note\", \"prend_note\", \"prend_note\", \"prend_note\", \"prestation_demand\\u00e9e\", \"primaire\", \"primaire_assurance\", \"principe\", \"principe\", \"principe\", \"principe\", \"principe\", \"principe\", \"principe\", \"principe\", \"principe\", \"principe\", \"principe\", \"principe\", \"principe\", \"principe\", \"principe_unit\\u00e9\", \"prise\", \"prise\", \"prise\", \"prise\", \"prise\", \"prise\", \"prise\", \"prise\", \"prise\", \"prise\", \"prise\", \"prise_charge\", \"prise_charge\", \"prise_charge\", \"prise_charge\", \"priv\\u00e9e\", \"priv\\u00e9e\", \"priv\\u00e9e\", \"priv\\u00e9e\", \"priv\\u00e9e\", \"priv\\u00e9e\", \"priv\\u00e9e\", \"priv\\u00e9e_assure\", \"prix_unitaires\", \"proc\\u00e9der_recherches\", \"proc\\u00e9dure\", \"proc\\u00e9dure\", \"proc\\u00e9dure\", \"proc\\u00e9dure\", \"proc\\u00e9dure\", \"proc\\u00e9dure\", \"proc\\u00e9dure\", \"proc\\u00e9dure\", \"proc\\u00e9dure\", \"proc\\u00e9dure_disciplinaire\", \"proc\\u00e9dure_juridictionnelle\", \"proc\\u00e9dure_proprement\", \"proc\\u00e9dure_p\\u00e9nale\", \"proc\\u00e9dure_suivie\", \"professionnels_sant\\u00e9\", \"professionnels_\\u00e9tablissements\", \"projet\", \"projet\", \"projet\", \"projet\", \"projet\", \"projet\", \"projet\", \"projet\", \"projet_am\\u00e9nagement\", \"projet_plan\", \"projet_plu\", \"propri\\u00e9taire\", \"propri\\u00e9taire\", \"propri\\u00e9taire\", \"propri\\u00e9taires\", \"propri\\u00e9taires\", \"propri\\u00e9taires\", \"propri\\u00e9taires\", \"propri\\u00e9taires\", \"propri\\u00e9taires\", \"propri\\u00e9t\\u00e9_intellectuelle\", \"propri\\u00e9t\\u00e9_intellectuelle\", \"protection\", \"protection\", \"protection\", \"protection\", \"protection\", \"protection\", \"protection\", \"protection\", \"protection_vie\", \"protection_vie\", \"protection_vie\", \"protocoles_prescriptions\", \"prot\\u00e9g\\u00e9_dispositions\", \"prot\\u00e9g\\u00e9_dispositions\", \"pr\\u00e9cise\", \"pr\\u00e9cise\", \"pr\\u00e9cise\", \"pr\\u00e9cise\", \"pr\\u00e9cise\", \"pr\\u00e9cise\", \"pr\\u00e9cise\", \"pr\\u00e9cise\", \"pr\\u00e9cise\", \"pr\\u00e9cise\", \"pr\\u00e9cise\", \"pr\\u00e9cise\", \"pr\\u00e9cise\", \"pr\\u00e9cise\", \"pr\\u00e9c\\u00e9dentes_phases\", \"pr\\u00e9fectoral\", \"pr\\u00e9fet\", \"pr\\u00e9fet\", \"pr\\u00e9fet\", \"pr\\u00e9fet\", \"pr\\u00e9fet\", \"pr\\u00e9fet\", \"pr\\u00e9fet\", \"pr\\u00e9fet_police\", \"pr\\u00e9judice\", \"pr\\u00e9judice\", \"pr\\u00e9judice\", \"pr\\u00e9judice_auteur\", \"pr\\u00e9paratoire\", \"pr\\u00e9paratoire\", \"pr\\u00e9paratoire\", \"pr\\u00e9paratoire_d\\u00e9cision\", \"pr\\u00e9paratoire_exclu\", \"pr\\u00e9paratoires_d\\u00e9cision\", \"pr\\u00e9rogatives\", \"pr\\u00e9sent_avis\", \"pr\\u00e9sent_avis\", \"pr\\u00e9sent_avis\", \"pr\\u00e9sent_avis\", \"pr\\u00e9sent_avis\", \"pr\\u00e9sent_avis\", \"pr\\u00e9sent_avis\", \"pr\\u00e9sent_avis\", \"pr\\u00e9sentent_caract\\u00e8re\", \"pr\\u00e9sentent_caract\\u00e8re\", \"pr\\u00e9sentent_caract\\u00e8re\", \"pr\\u00e9sentent_caract\\u00e8re\", \"pr\\u00e9sentent_caract\\u00e8re\", \"pr\\u00e9sentent_caract\\u00e8re\", \"pr\\u00e9sentent_caract\\u00e8re\", \"pr\\u00e9sentent_caract\\u00e8re\", \"pr\\u00e9sident\", \"pr\\u00e9sident\", \"pr\\u00e9sident\", \"pr\\u00e9sident\", \"pr\\u00e9sident\", \"pr\\u00e9sident\", \"pr\\u00e9sident\", \"pr\\u00e9sident\", \"pr\\u00e9sident\", \"pr\\u00e9sident\", \"pr\\u00e9sident_communaut\\u00e9\", \"pr\\u00e9sident_communaut\\u00e9\", \"pr\\u00e9sident_communaut\\u00e9\", \"pr\\u00e9sident_communaut\\u00e9\", \"pr\\u00e9sident_communaut\\u00e9\", \"pr\\u00e9sident_communaut\\u00e9\", \"pr\\u00e9sident_communaut\\u00e9\", \"pr\\u00e9sident_tribunal\", \"pr\\u00e9sident_universit\\u00e9\", \"pr\\u00e9valoir\", \"pr\\u00e9valoir\", \"pr\\u00e9valoir\", \"pr\\u00e9valoir\", \"pr\\u00e9voit_budget\", \"pr\\u00e9voit_sauf\", \"pr\\u00e9vues\", \"pr\\u00e9vues\", \"pr\\u00e9vues\", \"pr\\u00e9vues\", \"pr\\u00e9vues\", \"pr\\u00e9vues\", \"pr\\u00e9vues\", \"pr\\u00e9vues\", \"pr\\u00e9vues\", \"pr\\u00e9vues\", \"pr\\u00e9vues\", \"psychiatriques\", \"psychiatriques\", \"pu_retrouv\\u00e9s\", \"publication_ligne\", \"publics\", \"publics\", \"publics\", \"publics\", \"publics\", \"publics\", \"publier\", \"publique\", \"publique\", \"publique\", \"publique\", \"publique\", \"publique\", \"publique\", \"publique\", \"publique\", \"publique\", \"publique\", \"publique_rejeter\", \"publiques_comportant\", \"publiques_soumise\", \"p\\u00e8re\", \"p\\u00e8re\", \"p\\u00e8re\", \"p\\u00e8re_m\\u00e8re\", \"p\\u00e9nale_commerciale\", \"p\\u00e9titionnaire\", \"qualification_concernant\", \"qualit\\u00e9\", \"qualit\\u00e9\", \"qualit\\u00e9\", \"qualit\\u00e9\", \"qualit\\u00e9\", \"qualit\\u00e9\", \"qualit\\u00e9\", \"qualit\\u00e9\", \"qualit\\u00e9\", \"qualit\\u00e9\", \"qualit\\u00e9\", \"qualit\\u00e9\", \"qualit\\u00e9_administrateur\", \"quel_support\", \"quel_support\", \"rappelle_fois\", \"rapport\", \"rapport\", \"rapport\", \"rapport\", \"rapport\", \"rapport\", \"rapport\", \"rapport\", \"rapport\", \"rapport\", \"rapport\", \"rapport\", \"rapport_analyse\", \"rapport_annuel\", \"rapport_annuel\", \"rapport_annuel\", \"rapport_annuel\", \"rapport_annuel\", \"rapport_conclusions\", \"rapport_direct\", \"rapport_pr\\u00e9sentation\", \"rapport_pr\\u00e9sentation\", \"rapportent_projet\", \"recherche\", \"recherche\", \"recherche\", \"recherche\", \"recherche\", \"recherche\", \"recherches_effectu\\u00e9es\", \"recherches_effectu\\u00e9es\", \"reconnaissance_maladie\", \"reconna\\u00eet\", \"reconna\\u00eet_droit\", \"recteur_acad\\u00e9mie\", \"recteur_acad\\u00e9mie\", \"recueil_page\", \"recueillies_aupr\\u00e8s\", \"regard\", \"regard\", \"regard\", \"regard\", \"regard\", \"regard\", \"regard\", \"regard\", \"regard\", \"regard\", \"regard\", \"regard_respect\", \"registre_enqu\\u00eate\", \"rejeter\", \"rejets_susceptibles\", \"relations_entre\", \"relations_entre\", \"relations_entre\", \"relations_entre\", \"relations_entre\", \"relations_entre\", \"relations_entre\", \"relations_entre\", \"relations_entre\", \"relations_entre\", \"relations_entre\", \"relative_fonctionnement\", \"relative_informatique\", \"relatives\", \"relatives\", \"relatives\", \"relatives\", \"relatives\", \"relatives\", \"relatives\", \"relatives\", \"relatives\", \"relatives\", \"relatives\", \"relatives\", \"relatives\", \"relatives\", \"relatives\", \"relatives_environnement\", \"relev\\u00e9s_propri\\u00e9t\\u00e9\", \"rel\\u00e8ve\", \"rel\\u00e8ve\", \"rel\\u00e8ve\", \"rel\\u00e8ve\", \"rel\\u00e8ve\", \"rel\\u00e8ve\", \"rel\\u00e8ve\", \"rel\\u00e8ve\", \"rel\\u00e8ve\", \"rel\\u00e8ve\", \"rel\\u00e8ve\", \"rel\\u00e8ve\", \"rel\\u00e8ve\", \"rel\\u00e8ve\", \"rel\\u00e8ve\", \"remise_autorit\\u00e9\", \"remplacement\", \"rendre_impossible\", \"rendu\", \"rendu\", \"rendu\", \"rendu\", \"rendu\", \"rendu\", \"rendu\", \"renseignements_information\", \"repris\", \"reproduction_envoi\", \"reproduction_nuise\", \"respect\", \"respect\", \"respect\", \"respect\", \"respect\", \"respect\", \"respect\", \"respect\", \"respect\", \"ressources_humaines\", \"ressources_humaines\", \"retenues_toute\", \"retir\\u00e9\", \"revanche_d\\u00e9tail\", \"rev\\u00eatent_caract\\u00e8re\", \"rev\\u00eatent_caract\\u00e8re\", \"rev\\u00eatent_caract\\u00e8re\", \"rev\\u00eatent_caract\\u00e8re\", \"re\\u00e7u_subvention\", \"r\\u00e9forme\", \"r\\u00e9f\\u00e9rences_cadastrales\", \"r\\u00e9gie_articles\", \"r\\u00e9gime_sp\\u00e9cial\", \"r\\u00e9gularisation\", \"r\\u00e9pondre_demandes\", \"r\\u00e9pondre_demandes\", \"r\\u00e9pondre_demandes\", \"r\\u00e9ponse\", \"r\\u00e9ponse\", \"r\\u00e9ponse\", \"r\\u00e9ponse\", \"r\\u00e9ponse\", \"r\\u00e9ponse\", \"r\\u00e9ponse\", \"r\\u00e9ponse\", \"r\\u00e9ponse\", \"r\\u00e9ponse\", \"r\\u00e9ponse\", \"r\\u00e9ponse\", \"r\\u00e9ponse\", \"r\\u00e9ponse\", \"r\\u00e9publique\", \"r\\u00e9publique\", \"r\\u00e9publique\", \"r\\u00e9sultant\", \"r\\u00e9sultant\", \"r\\u00e9sultant\", \"r\\u00e9sultant\", \"r\\u00e9sultant\", \"r\\u00e9sultant\", \"r\\u00e9sultant\", \"r\\u00e9sultant\", \"r\\u00e9sultant\", \"r\\u00e9sulte\", \"r\\u00e9sulte\", \"r\\u00e9sulte\", \"r\\u00e9sulte\", \"r\\u00e9sulte\", \"r\\u00e9sulte\", \"r\\u00e9sulte\", \"r\\u00e9sulte\", \"r\\u00e9sulte\", \"r\\u00e9sulte\", \"r\\u00e9sulte_d\\u00e9cision\", \"r\\u00e9sulte_d\\u00e9cision\", \"r\\u00e9sulte_d\\u00e9cision\", \"r\\u00e9unie\", \"r\\u00e9utilisation_d\\u00e9finies\", \"r\\u00e9utilisation_informations\", \"r\\u00e9vision\", \"r\\u00e9vision\", \"r\\u00e9vision\", \"r\\u00e9vision\", \"r\\u00e9vision_plu\", \"sans\", \"sans\", \"sans\", \"sans\", \"sans\", \"sans\", \"sans\", \"sans\", \"sans\", \"sans\", \"sans\", \"sans\", \"sans\", \"sans_besoin\", \"sans_besoin\", \"sans_besoin\", \"sans_consentement\", \"sans_consentement\", \"sans_incidence\", \"sans_incidence\", \"sans_incidence\", \"sans_incidence\", \"sans_incidence\", \"sans_objet\", \"sans_objet\", \"sans_objet\", \"sans_objet\", \"sans_objet\", \"sans_objet\", \"sans_objet\", \"sant\\u00e9\", \"sant\\u00e9\", \"sant\\u00e9\", \"sant\\u00e9\", \"sant\\u00e9\", \"sant\\u00e9\", \"sant\\u00e9\", \"sant\\u00e9\", \"sant\\u00e9\", \"sant\\u00e9_d\\u00e9tenues\", \"sant\\u00e9_publique\", \"sant\\u00e9_publique\", \"sant\\u00e9_publique\", \"savoie\", \"savoir_conna\\u00eetre\", \"scientifique\", \"scp\", \"sdis\", \"second_alin\\u00e9a\", \"secret\", \"secret\", \"secret\", \"secret\", \"secret\", \"secret\", \"secret\", \"secret\", \"secret_affaires\", \"secret_affaires\", \"secret_affaires\", \"secret_affaires\", \"secret_proc\\u00e9d\\u00e9s\", \"secret_vie\", \"secret_vie\", \"secret_vie\", \"secret_vie\", \"secret_vie\", \"secret_vie\", \"secteur_activit\\u00e9\", \"sein_h\\u00f4pital\", \"selon\", \"selon\", \"selon\", \"selon\", \"selon\", \"selon\", \"selon\", \"selon\", \"selon\", \"selon\", \"selon\", \"selon\", \"selon_choix\", \"sens\", \"sens\", \"sens\", \"sens\", \"sens\", \"sens\", \"sens\", \"sens\", \"sens\", \"sens\", \"sens\", \"sens\", \"sens\", \"septembre\", \"septembre\", \"septembre\", \"septembre\", \"septembre\", \"septembre\", \"septembre\", \"septembre\", \"septembre\", \"septembre\", \"septembre\", \"septembre\", \"septembre\", \"septembre\", \"septembre\", \"septembre_ordres\", \"service\", \"service\", \"service\", \"service\", \"service\", \"service\", \"service\", \"service\", \"service\", \"service\", \"service\", \"service\", \"service\", \"service_instructeur\", \"services_aide\", \"seule_circonstance\", \"signalement\", \"signatures\", \"silence_loi\", \"sise\", \"sociale_enfance\", \"soci\\u00e9t\\u00e9\", \"soci\\u00e9t\\u00e9\", \"soci\\u00e9t\\u00e9\", \"soci\\u00e9t\\u00e9\", \"soci\\u00e9t\\u00e9\", \"soci\\u00e9t\\u00e9\", \"soci\\u00e9t\\u00e9\", \"soci\\u00e9t\\u00e9\", \"soci\\u00e9t\\u00e9\", \"soci\\u00e9t\\u00e9\", \"sollicit\\u00e9s\", \"sollicit\\u00e9s\", \"sollicit\\u00e9s\", \"sollicit\\u00e9s\", \"sollicit\\u00e9s\", \"sollicit\\u00e9s\", \"sollicit\\u00e9s\", \"sollicit\\u00e9s\", \"sollicit\\u00e9s\", \"sollicit\\u00e9s\", \"sollicit\\u00e9s\", \"sollicit\\u00e9s\", \"sollicit\\u00e9s\", \"sollicit\\u00e9s\", \"sollicit\\u00e9s\", \"sollicit\\u00e9s_existent\", \"sollicit\\u00e9s_existent\", \"sollicit\\u00e9s_existent\", \"sollicit\\u00e9s_existent\", \"sollicit\\u00e9s_existent\", \"sollicit\\u00e9s_existent\", \"sollicit\\u00e9s_existent\", \"souhaite_autres\", \"soumis_droit\", \"soumis_droit\", \"soumis_droit\", \"soumis_droit\", \"soumis_enqu\\u00eate\", \"sources_date\", \"sous\", \"sous\", \"sous\", \"sous\", \"sous\", \"sous\", \"sous\", \"sous\", \"sous\", \"sous\", \"sous\", \"sous\", \"sous\", \"sous\", \"sous\", \"sous_cote\", \"sous_forme\", \"sous_forme\", \"sous_forme\", \"sous_forme\", \"sous_forme\", \"sous_forme\", \"sous_forme\", \"sous_r\\u00e9serve\", \"sous_r\\u00e9serve\", \"sous_r\\u00e9serve\", \"sous_r\\u00e9serve\", \"sous_r\\u00e9serve\", \"sous_r\\u00e9serve\", \"sous_r\\u00e9serve\", \"sous_r\\u00e9serve\", \"sous_r\\u00e9serve\", \"sous_r\\u00e9serve\", \"sous_r\\u00e9serve\", \"sous_r\\u00e9serve\", \"sous_r\\u00e9serve\", \"sous_r\\u00e9serve\", \"sous_r\\u00e9serves\", \"sous_r\\u00e9serves\", \"sous_r\\u00e9serves\", \"sous_r\\u00e9serves\", \"sous_r\\u00e9serves\", \"sous_r\\u00e9serves\", \"sous_r\\u00e9serves\", \"sous_r\\u00e9serves\", \"sous_r\\u00e9serves\", \"sous_r\\u00e9serves\", \"sous_r\\u00e9serves\", \"sous_r\\u00e9serves\", \"sous_r\\u00e9serves\", \"stationnement\", \"statutaires\", \"strasbourg\", \"strasbourg\", \"strasbourg\", \"strasbourg\", \"strat\\u00e9gie\", \"strat\\u00e9gie_commerciale\", \"substances_\\u00e9nergie\", \"subvention\", \"suite\", \"suite\", \"suite\", \"suite\", \"suite\", \"suite\", \"suite\", \"suite\", \"suite\", \"suite\", \"suite\", \"suite\", \"suite\", \"suite\", \"suite\", \"suivants\", \"suivants\", \"suivants\", \"suivants\", \"suivants\", \"suivants\", \"suivants\", \"suivants\", \"suivants\", \"suivants\", \"suivants\", \"suivants\", \"suivants\", \"suivants\", \"suivants\", \"support_identique\", \"sup\\u00e9rieur\", \"sup\\u00e9rieur\", \"sup\\u00e9rieur\", \"sup\\u00e9rieur\", \"sup\\u00e9rieur_recherche\", \"surveillance_correspondances\", \"syst\\u00e8me_qualit\\u00e9\", \"s\\u00e9curit\\u00e9\", \"s\\u00e9curit\\u00e9\", \"s\\u00e9curit\\u00e9\", \"s\\u00e9curit\\u00e9\", \"s\\u00e9curit\\u00e9\", \"s\\u00e9curit\\u00e9_sociale\", \"s\\u00e9paration\", \"tableau_avancement\", \"taxe_fonci\\u00e8re\", \"technique\", \"technique\", \"technique\", \"technique\", \"technique\", \"technique\", \"technique\", \"technique\", \"technique\", \"tel_tiers\", \"telle_mission\", \"tels_exclus\", \"termes\", \"termes\", \"termes\", \"termes\", \"termes\", \"termes\", \"termes\", \"termes\", \"termes\", \"termes\", \"territoriales\", \"territoriales\", \"territoriales\", \"territoriales\", \"territoriales\", \"territoriales\", \"territoriales_dispose\", \"textes_particuliers\", \"textes_particuliers\", \"textes_particuliers\", \"th\\u00e9rapeutique_concernant\", \"th\\u00e9rapeutiques_mis\", \"tiers\", \"tiers\", \"tiers\", \"tiers\", \"tiers\", \"tiers\", \"tiers\", \"tiers\", \"tiers\", \"tiers\", \"tiers\", \"tiers_intervenant\", \"tirent_qualit\\u00e9\", \"titre\", \"titre\", \"titre\", \"titre\", \"titre\", \"titre\", \"titre\", \"titre\", \"titre\", \"titre\", \"titre\", \"titre\", \"titre\", \"titre\", \"titre_iv\", \"titre_liminaire\", \"titre_liminaire\", \"titre_liminaire\", \"titre_liminaire\", \"titre_liminaire\", \"titre_liminaire\", \"titre_liminaire\", \"titre_liminaire\", \"titre_liminaire\", \"titre_liminaire\", \"titre_pr\\u00e9liminaire\", \"titre_s\\u00e9jour\", \"titulaires_autorit\\u00e9\", \"tout\", \"tout\", \"tout\", \"tout\", \"tout\", \"tout\", \"tout\", \"tout\", \"tout\", \"tout\", \"tout\", \"tout\", \"tout\", \"tout_membre\", \"tout_\\u00e9lecteur\", \"toute\", \"toute\", \"toute\", \"toute\", \"toute\", \"toute\", \"toute\", \"toute\", \"toute\", \"toute\", \"toute\", \"toute\", \"toute\", \"toute_mention\", \"toute_mention\", \"toute_personne\", \"toute_personne\", \"toute_personne\", \"toute_personne\", \"toute_personne\", \"toute_personne\", \"toute_personne\", \"toute_personne\", \"toute_personne\", \"toute_personne\", \"toute_personne\", \"toute_personne\", \"traitement\", \"traitement\", \"traitement\", \"traitement\", \"traitement\", \"traitement\", \"traitement\", \"traitement\", \"traitement\", \"traitements_automatis\\u00e9s\", \"transmettre\", \"transmettre\", \"transmettre\", \"transmettre\", \"transmettre\", \"transmettre\", \"transmettre\", \"transmettre\", \"transmettre\", \"transmis\", \"transmis\", \"transmis\", \"transmis\", \"transmis\", \"transmis\", \"transmis\", \"transmis\", \"transmis\", \"transmis\", \"transmis\", \"transmis\", \"transmis\", \"transmis\", \"transmis_procureur\", \"travaux\", \"travaux\", \"travaux\", \"travaux\", \"travaux\", \"travaux\", \"travaux\", \"travaux\", \"travaux\", \"urbanisme\", \"urbanisme\", \"urgence\", \"urssaf\", \"usage\", \"usage\", \"usage\", \"usage\", \"usage\", \"usage\", \"usage\", \"usage_courant\", \"usage_courant\", \"usage_courant\", \"usage_courant\", \"usage_courant\", \"usage_courant\", \"usage_courant\", \"va_bordereau\", \"va_diff\\u00e9remment\", \"va_diff\\u00e9remment\", \"va_diff\\u00e9remment\", \"va_particulier\", \"valeur_locative\", \"valoir_leurs\", \"vaucluse\", \"vaucluse\", \"vertu\", \"vertu\", \"vertu\", \"vertu\", \"vertu\", \"vertu\", \"vertu\", \"vertu\", \"vertu\", \"vertu\", \"vertu\", \"vie\", \"vie\", \"vie\", \"vie\", \"vie\", \"vie\", \"vie\", \"vie_priv\\u00e9e\", \"vie_priv\\u00e9e\", \"vie_priv\\u00e9e\", \"vie_priv\\u00e9e\", \"vie_priv\\u00e9e\", \"vie_priv\\u00e9e\", \"vie_priv\\u00e9e\", \"vie_priv\\u00e9e\", \"visa\", \"visa\", \"visite\", \"visite\", \"visite\", \"vis\\u00e9s\", \"vis\\u00e9s\", \"vis\\u00e9s\", \"vis\\u00e9s\", \"vis\\u00e9s\", \"vis\\u00e9s\", \"vis\\u00e9s\", \"vis\\u00e9s\", \"vis\\u00e9s\", \"vis\\u00e9s\", \"vis\\u00e9s\", \"vis\\u00e9s\", \"vis\\u00e9s\", \"volont\\u00e9_contraire\", \"vu_duquel\", \"vue_procurer\", \"xxx_xxx\", \"xxx_xxx\", \"xxx_xxx\", \"yvelines\", \"yvelines\", \"zac\", \"\\u00e9changes_courriers\", \"\\u00e9changes_\\u00e9crits\", \"\\u00e9ch\\u00e9ancier\", \"\\u00e9conomiques_financi\\u00e8res\", \"\\u00e9ducation\", \"\\u00e9ducation\", \"\\u00e9ducation\", \"\\u00e9ducation\", \"\\u00e9galement\", \"\\u00e9galement\", \"\\u00e9galement\", \"\\u00e9galement\", \"\\u00e9galement\", \"\\u00e9galement\", \"\\u00e9galement\", \"\\u00e9galement\", \"\\u00e9galement\", \"\\u00e9galement\", \"\\u00e9galement\", \"\\u00e9galement\", \"\\u00e9galement\", \"\\u00e9galement\", \"\\u00e9galement\", \"\\u00e9galement_regard\\u00e9e\", \"\\u00e9gard\", \"\\u00e9gard\", \"\\u00e9gard\", \"\\u00e9gard\", \"\\u00e9gard\", \"\\u00e9gard\", \"\\u00e9gard\", \"\\u00e9gard\", \"\\u00e9gard\", \"\\u00e9gard\", \"\\u00e9gard\", \"\\u00e9gard\", \"\\u00e9gard\", \"\\u00e9laboration\", \"\\u00e9laboration\", \"\\u00e9laboration\", \"\\u00e9laboration\", \"\\u00e9laboration\", \"\\u00e9laboration_plu\", \"\\u00e9lectoral\", \"\\u00e9lectronique\", \"\\u00e9lectronique\", \"\\u00e9lectronique\", \"\\u00e9lectronique\", \"\\u00e9lectronique\", \"\\u00e9lectronique\", \"\\u00e9lectronique\", \"\\u00e9lectronique\", \"\\u00e9lectronique\", \"\\u00e9lectronique\", \"\\u00e9l\\u00e9ments\", \"\\u00e9l\\u00e9ments\", \"\\u00e9l\\u00e9ments\", \"\\u00e9l\\u00e9ments\", \"\\u00e9l\\u00e9ments\", \"\\u00e9l\\u00e9ments\", \"\\u00e9l\\u00e9ments\", \"\\u00e9l\\u00e9ments\", \"\\u00e9l\\u00e9ments\", \"\\u00e9l\\u00e9ments\", \"\\u00e9l\\u00e9ments\", \"\\u00e9l\\u00e9ments\", \"\\u00e9l\\u00e9ments\", \"\\u00e9l\\u00e9ments\", \"\\u00e9met_donc\", \"\\u00e9met_donc\", \"\\u00e9met_donc\", \"\\u00e9met_donc\", \"\\u00e9met_donc\", \"\\u00e9met_donc\", \"\\u00e9met_donc\", \"\\u00e9met_donc\", \"\\u00e9met_donc\", \"\\u00e9met_donc\", \"\\u00e9met_donc\", \"\\u00e9met_donc\", \"\\u00e9met_donc\", \"\\u00e9met_donc\", \"\\u00e9met_donc\", \"\\u00e9missions\", \"\\u00e9missions_substances\", \"\\u00e9quipe_m\\u00e9dicale\", \"\\u00e9tablies_autorit\\u00e9s\", \"\\u00e9tablissement\", \"\\u00e9tablissement\", \"\\u00e9tablissement\", \"\\u00e9tablissement\", \"\\u00e9tablissement\", \"\\u00e9tablissement\", \"\\u00e9tablissement\", \"\\u00e9tablissement\", \"\\u00e9tablissement\", \"\\u00e9tablissement\", \"\\u00e9tablissement\", \"\\u00e9tablissement\", \"\\u00e9tablissements_enseignement\", \"\\u00e9tablissements_sant\\u00e9\", \"\\u00e9tablissements_sant\\u00e9\", \"\\u00e9tat\", \"\\u00e9tat\", \"\\u00e9tat\", \"\\u00e9tat\", \"\\u00e9tat\", \"\\u00e9tat\", \"\\u00e9tat\", \"\\u00e9tat\", \"\\u00e9tat\", \"\\u00e9tat\", \"\\u00e9tat\", \"\\u00e9tat\", \"\\u00e9tat\", \"\\u00e9tat\", \"\\u00e9tat_avancement\", \"\\u00e9tude\", \"\\u00e9tude\", \"\\u00e9tude\", \"\\u00e9tude\", \"\\u00e9tude\", \"\\u00e9tude\", \"\\u00e9tude\", \"\\u00e9tude\", \"\\u00e9ventuellement_d\\u00e9tenus\"]}, \"R\": 30, \"lambda.step\": 0.01, \"plot.opts\": {\"xlab\": \"PC1\", \"ylab\": \"PC2\"}, \"topic.order\": [4, 11, 10, 12, 1, 8, 7, 13, 3, 15, 9, 6, 2, 5, 14]};\n",
       "\n",
       "function LDAvis_load_lib(url, callback){\n",
       "  var s = document.createElement('script');\n",
       "  s.src = url;\n",
       "  s.async = true;\n",
       "  s.onreadystatechange = s.onload = callback;\n",
       "  s.onerror = function(){console.warn(\"failed to load library \" + url);};\n",
       "  document.getElementsByTagName(\"head\")[0].appendChild(s);\n",
       "}\n",
       "\n",
       "if(typeof(LDAvis) !== \"undefined\"){\n",
       "   // already loaded: just create the visualization\n",
       "   !function(LDAvis){\n",
       "       new LDAvis(\"#\" + \"ldavis_el604241128659538721393204255\", ldavis_el604241128659538721393204255_data);\n",
       "   }(LDAvis);\n",
       "}else if(typeof define === \"function\" && define.amd){\n",
       "   // require.js is available: use it to load d3/LDAvis\n",
       "   require.config({paths: {d3: \"https://cdnjs.cloudflare.com/ajax/libs/d3/3.5.5/d3.min\"}});\n",
       "   require([\"d3\"], function(d3){\n",
       "      window.d3 = d3;\n",
       "      LDAvis_load_lib(\"https://cdn.rawgit.com/bmabey/pyLDAvis/files/ldavis.v1.0.0.js\", function(){\n",
       "        new LDAvis(\"#\" + \"ldavis_el604241128659538721393204255\", ldavis_el604241128659538721393204255_data);\n",
       "      });\n",
       "    });\n",
       "}else{\n",
       "    // require.js not available: dynamically load d3 & LDAvis\n",
       "    LDAvis_load_lib(\"https://cdnjs.cloudflare.com/ajax/libs/d3/3.5.5/d3.min.js\", function(){\n",
       "         LDAvis_load_lib(\"https://cdn.rawgit.com/bmabey/pyLDAvis/files/ldavis.v1.0.0.js\", function(){\n",
       "                 new LDAvis(\"#\" + \"ldavis_el604241128659538721393204255\", ldavis_el604241128659538721393204255_data);\n",
       "            })\n",
       "         });\n",
       "}\n",
       "</script>"
      ],
      "text/plain": [
       "<IPython.core.display.HTML object>"
      ]
     },
     "execution_count": 45,
     "metadata": {},
     "output_type": "execute_result"
    }
   ],
   "source": [
    "%time vis = pyLDAvis.gensim.prepare(topic_model=lda_model, corpus=corpus, dictionary=dictionary_LDA)\n",
    "pyLDAvis.enable_notebook()\n",
    "pyLDAvis.display(vis)"
   ]
  },
  {
   "cell_type": "markdown",
   "metadata": {},
   "source": [
    "# Partie 2 :  prédiction de la conclusion de la décision à partir du texte de l'avis (modèle supervisé)"
   ]
  },
  {
   "cell_type": "markdown",
   "metadata": {},
   "source": [
    "La partie précédente présentait un exemple de modèle non supervisé à partir de données textuelles. Des modèles non supervisés ont l'avantage de pouvoir être entrâiné à partir d'un ensemble de documents textuels \"bruts\". \n",
    "Nous présentons dans cette partie un exemple de modèle supervisé. Il faut alors, en plus du texte brut, avoir une variable \"à prédire\". Dans beaucoup de cas, cette variable \"à prédire\" n'est pas directement disponible et il faut la construire (en annotant ou labelisant à la main les documents). \n",
    "\n",
    "Ici nous allons considérer la variable \"Sens et motivation\", qui renseigne la conclusion de l'avis rendu par la Cada. Nous allons voir si nous arrivons à entraîner un modèle à prédire, à partir du texte de la décision, à prédire la conclusion de l'avis. \n",
    "\n",
    "L'intérêt: on peut imaginer que le \"Sens et motivation\" est parfois renseigné de façon erronée et donc vérifier de façon automatique la cohérence de ce qui est renseigné. "
   ]
  },
  {
   "cell_type": "code",
   "execution_count": 47,
   "metadata": {},
   "outputs": [],
   "source": [
    "# librairies NLP\n",
    "from sklearn.feature_extraction.text import CountVectorizer, TfidfVectorizer\n",
    "# librairies de machine learning\n",
    "from sklearn.model_selection import train_test_split\n",
    "from sklearn.model_selection import cross_val_score, GridSearchCV\n",
    "from sklearn.linear_model import LogisticRegression\n",
    "from sklearn.naive_bayes import MultinomialNB"
   ]
  },
  {
   "cell_type": "markdown",
   "metadata": {},
   "source": [
    "#### Etape 1: simplifier la colonne \"sens et motivation\" en un petit nombre de catégorie\n",
    "\n",
    "La colonne \"Sens et motivation\" comporte 3094 modalités (valeurs distinctes) comme vu dans la partie 0 de description des données. Etant donnée que notre jeu de données comporte 38 000 lignes, il y a donc relativement peu d'observations en moyenne par modalité. \n",
    "Il est donc préférable de simplifier la colonne \"Sens et motivation\" afin d'obtenir un nombre beaucoup plus restreint de modalités à prédire. \n",
    "Pour cela, nous allons donc tokeniser le texte de cette colonne afin de regarder quels sont les termes qui apparaissent le plus grand nombre de fois\n"
   ]
  },
  {
   "cell_type": "code",
   "execution_count": 46,
   "metadata": {},
   "outputs": [
    {
     "data": {
      "text/html": [
       "<div>\n",
       "<style scoped>\n",
       "    .dataframe tbody tr th:only-of-type {\n",
       "        vertical-align: middle;\n",
       "    }\n",
       "\n",
       "    .dataframe tbody tr th {\n",
       "        vertical-align: top;\n",
       "    }\n",
       "\n",
       "    .dataframe thead th {\n",
       "        text-align: right;\n",
       "    }\n",
       "</style>\n",
       "<table border=\"1\" class=\"dataframe\">\n",
       "  <thead>\n",
       "    <tr style=\"text-align: right;\">\n",
       "      <th></th>\n",
       "      <th>Numéro de dossier</th>\n",
       "      <th>Administration</th>\n",
       "      <th>Type</th>\n",
       "      <th>Année</th>\n",
       "      <th>Séance</th>\n",
       "      <th>Objet</th>\n",
       "      <th>Thème et sous thème</th>\n",
       "      <th>Mots clés</th>\n",
       "      <th>Sens et motivation</th>\n",
       "      <th>Partie</th>\n",
       "      <th>Avis</th>\n",
       "      <th>count</th>\n",
       "      <th>avis_word_token</th>\n",
       "      <th>topic_list</th>\n",
       "      <th>main_topic</th>\n",
       "      <th>main_topic_proba</th>\n",
       "      <th>nombre_documents</th>\n",
       "    </tr>\n",
       "  </thead>\n",
       "  <tbody>\n",
       "    <tr>\n",
       "      <td>0</td>\n",
       "      <td>19840002</td>\n",
       "      <td>ministre de la défense</td>\n",
       "      <td>Avis</td>\n",
       "      <td>1984</td>\n",
       "      <td>03/03/1984</td>\n",
       "      <td>[Voir avis]</td>\n",
       "      <td>Justice, Ordre Public Et Sécurité/Défense Et D...</td>\n",
       "      <td>Armée</td>\n",
       "      <td>Défavorable/Défense</td>\n",
       "      <td>III</td>\n",
       "      <td>La commission d'accès aux documents administra...</td>\n",
       "      <td>1</td>\n",
       "      <td>[commission, accès, documents, administratifs,...</td>\n",
       "      <td>[(9, 0.19451253), (11, 0.6775157), (14, 0.1229...</td>\n",
       "      <td>11</td>\n",
       "      <td>0.677516</td>\n",
       "      <td>1</td>\n",
       "    </tr>\n",
       "    <tr>\n",
       "      <td>1</td>\n",
       "      <td>19840003</td>\n",
       "      <td>ministre de la défense</td>\n",
       "      <td>Avis</td>\n",
       "      <td>1984</td>\n",
       "      <td>13/12/1984</td>\n",
       "      <td>[Voir avis]</td>\n",
       "      <td>Economie, Industrie, Agriculture/Secteurs Écon...</td>\n",
       "      <td>Armée</td>\n",
       "      <td>Irrecevable/Imprécise, Défavorable/Défense, In...</td>\n",
       "      <td>III</td>\n",
       "      <td>La commission d'accès aux documents administra...</td>\n",
       "      <td>1</td>\n",
       "      <td>[commission, accès, documents, administratifs,...</td>\n",
       "      <td>[(0, 0.21213436), (3, 0.037693128), (4, 0.0765...</td>\n",
       "      <td>9</td>\n",
       "      <td>0.432543</td>\n",
       "      <td>1</td>\n",
       "    </tr>\n",
       "    <tr>\n",
       "      <td>2</td>\n",
       "      <td>19850001</td>\n",
       "      <td>ministre de l'économie, des finances et du budget</td>\n",
       "      <td>Avis</td>\n",
       "      <td>1985</td>\n",
       "      <td>05/12/1985</td>\n",
       "      <td>[Voir avis]</td>\n",
       "      <td>Justice, Ordre Public Et Sécurité/Association,...</td>\n",
       "      <td>NaN</td>\n",
       "      <td>Défavorable</td>\n",
       "      <td>III</td>\n",
       "      <td>La commission d'accès aux documents administra...</td>\n",
       "      <td>1</td>\n",
       "      <td>[commission, accès, documents, administratifs,...</td>\n",
       "      <td>[(0, 0.30352), (4, 0.051652644), (10, 0.050711...</td>\n",
       "      <td>11</td>\n",
       "      <td>0.591303</td>\n",
       "      <td>1</td>\n",
       "    </tr>\n",
       "    <tr>\n",
       "      <td>3</td>\n",
       "      <td>19860001</td>\n",
       "      <td>directeur départemental du travail et de l'emp...</td>\n",
       "      <td>Conseil</td>\n",
       "      <td>1986</td>\n",
       "      <td>30/01/1986</td>\n",
       "      <td>(voir avis)</td>\n",
       "      <td>Travail Et Emploi/Droit Du Travail</td>\n",
       "      <td>Licenciement, Conditions de travail</td>\n",
       "      <td>Défavorable/Procédure, Sans objet</td>\n",
       "      <td>III</td>\n",
       "      <td>La commission d'accès aux documents administra...</td>\n",
       "      <td>1</td>\n",
       "      <td>[commission, accès, documents, administratifs,...</td>\n",
       "      <td>[(3, 0.16086166), (11, 0.8337456)]</td>\n",
       "      <td>11</td>\n",
       "      <td>0.833746</td>\n",
       "      <td>1</td>\n",
       "    </tr>\n",
       "    <tr>\n",
       "      <td>4</td>\n",
       "      <td>19870061</td>\n",
       "      <td>gouverneur de la Banque de France</td>\n",
       "      <td>Avis</td>\n",
       "      <td>1987</td>\n",
       "      <td>02/04/1987</td>\n",
       "      <td>[Voir avis]</td>\n",
       "      <td>Economie, Industrie, Agriculture/Secteurs Écon...</td>\n",
       "      <td>Banques et assurances</td>\n",
       "      <td>Défavorable/Sécurité publique, Favorable/Sauf ...</td>\n",
       "      <td>III</td>\n",
       "      <td>La commission d'accès aux documents administra...</td>\n",
       "      <td>1</td>\n",
       "      <td>[commission, accès, documents, administratifs,...</td>\n",
       "      <td>[(0, 0.32351983), (3, 0.0439162), (9, 0.041097...</td>\n",
       "      <td>11</td>\n",
       "      <td>0.554580</td>\n",
       "      <td>1</td>\n",
       "    </tr>\n",
       "  </tbody>\n",
       "</table>\n",
       "</div>"
      ],
      "text/plain": [
       "   Numéro de dossier                                     Administration  \\\n",
       "0           19840002                             ministre de la défense   \n",
       "1           19840003                             ministre de la défense   \n",
       "2           19850001  ministre de l'économie, des finances et du budget   \n",
       "3           19860001  directeur départemental du travail et de l'emp...   \n",
       "4           19870061                  gouverneur de la Banque de France   \n",
       "\n",
       "      Type  Année      Séance        Objet  \\\n",
       "0     Avis   1984  03/03/1984  [Voir avis]   \n",
       "1     Avis   1984  13/12/1984  [Voir avis]   \n",
       "2     Avis   1985  05/12/1985  [Voir avis]   \n",
       "3  Conseil   1986  30/01/1986  (voir avis)   \n",
       "4     Avis   1987  02/04/1987  [Voir avis]   \n",
       "\n",
       "                                 Thème et sous thème  \\\n",
       "0  Justice, Ordre Public Et Sécurité/Défense Et D...   \n",
       "1  Economie, Industrie, Agriculture/Secteurs Écon...   \n",
       "2  Justice, Ordre Public Et Sécurité/Association,...   \n",
       "3                 Travail Et Emploi/Droit Du Travail   \n",
       "4  Economie, Industrie, Agriculture/Secteurs Écon...   \n",
       "\n",
       "                             Mots clés  \\\n",
       "0                                Armée   \n",
       "1                                Armée   \n",
       "2                                  NaN   \n",
       "3  Licenciement, Conditions de travail   \n",
       "4                Banques et assurances   \n",
       "\n",
       "                                  Sens et motivation Partie  \\\n",
       "0                                Défavorable/Défense    III   \n",
       "1  Irrecevable/Imprécise, Défavorable/Défense, In...    III   \n",
       "2                                        Défavorable    III   \n",
       "3                  Défavorable/Procédure, Sans objet    III   \n",
       "4  Défavorable/Sécurité publique, Favorable/Sauf ...    III   \n",
       "\n",
       "                                                Avis  count  \\\n",
       "0  La commission d'accès aux documents administra...      1   \n",
       "1  La commission d'accès aux documents administra...      1   \n",
       "2  La commission d'accès aux documents administra...      1   \n",
       "3  La commission d'accès aux documents administra...      1   \n",
       "4  La commission d'accès aux documents administra...      1   \n",
       "\n",
       "                                     avis_word_token  \\\n",
       "0  [commission, accès, documents, administratifs,...   \n",
       "1  [commission, accès, documents, administratifs,...   \n",
       "2  [commission, accès, documents, administratifs,...   \n",
       "3  [commission, accès, documents, administratifs,...   \n",
       "4  [commission, accès, documents, administratifs,...   \n",
       "\n",
       "                                          topic_list  main_topic  \\\n",
       "0  [(9, 0.19451253), (11, 0.6775157), (14, 0.1229...          11   \n",
       "1  [(0, 0.21213436), (3, 0.037693128), (4, 0.0765...           9   \n",
       "2  [(0, 0.30352), (4, 0.051652644), (10, 0.050711...          11   \n",
       "3                 [(3, 0.16086166), (11, 0.8337456)]          11   \n",
       "4  [(0, 0.32351983), (3, 0.0439162), (9, 0.041097...          11   \n",
       "\n",
       "   main_topic_proba  nombre_documents  \n",
       "0          0.677516                 1  \n",
       "1          0.432543                 1  \n",
       "2          0.591303                 1  \n",
       "3          0.833746                 1  \n",
       "4          0.554580                 1  "
      ]
     },
     "execution_count": 46,
     "metadata": {},
     "output_type": "execute_result"
    }
   ],
   "source": [
    "df.head()"
   ]
  },
  {
   "cell_type": "code",
   "execution_count": 48,
   "metadata": {},
   "outputs": [],
   "source": [
    "df = df.dropna(subset = [\"Sens et motivation\"]) # on supprime les colonnes qui n'ont pas de valeur pour sens et motivation\n",
    "df[\"sens_token\"] = df[\"Sens et motivation\"].map(lambda x: word_tokenize(x.lower().replace(\"'\", \" \").replace(\"/\", \" \")))\n",
    "df[\"nb_tokens_motivation\"] = df[\"sens_token\"].map(len)"
   ]
  },
  {
   "cell_type": "markdown",
   "metadata": {},
   "source": [
    "On regarde combien de tokens par observation sont contenus dans la colonne \"Sens et motivation\""
   ]
  },
  {
   "cell_type": "code",
   "execution_count": 49,
   "metadata": {},
   "outputs": [
    {
     "data": {
      "text/plain": [
       "count    39081.000000\n",
       "mean         4.044037\n",
       "std          3.876435\n",
       "min          1.000000\n",
       "25%          1.000000\n",
       "50%          3.000000\n",
       "75%          5.000000\n",
       "max         49.000000\n",
       "Name: nb_tokens_motivation, dtype: float64"
      ]
     },
     "execution_count": 49,
     "metadata": {},
     "output_type": "execute_result"
    }
   ],
   "source": [
    "df[\"nb_tokens_motivation\"].describe()"
   ]
  },
  {
   "cell_type": "markdown",
   "metadata": {},
   "source": [
    "On crée ici la matrice TF à l'aide de la même fonction que celle utilisée en partie 1. "
   ]
  },
  {
   "cell_type": "code",
   "execution_count": 50,
   "metadata": {},
   "outputs": [
    {
     "data": {
      "text/plain": [
       "CountVectorizer(analyzer='word', binary=False, decode_error='strict',\n",
       "                dtype=<class 'numpy.int64'>, encoding='utf-8', input='content',\n",
       "                lowercase=True, max_df=1.0, max_features=None, min_df=1,\n",
       "                ngram_range=(1, 1), preprocessor=None, stop_words=None,\n",
       "                strip_accents=None, token_pattern='(?u)\\\\b\\\\w\\\\w+\\\\b',\n",
       "                tokenizer=None, vocabulary=None)"
      ]
     },
     "execution_count": 50,
     "metadata": {},
     "output_type": "execute_result"
    }
   ],
   "source": [
    "vect = CountVectorizer()\n",
    "vect.fit(df[\"Sens et motivation\"])"
   ]
  },
  {
   "cell_type": "code",
   "execution_count": 51,
   "metadata": {},
   "outputs": [
    {
     "name": "stdout",
     "output_type": "stream",
     "text": [
      "Vocabulary size: 101\n",
      "Vocabulary content:\n",
      " {'défavorable': 31, 'défense': 32, 'irrecevable': 51, 'imprécise': 44, 'incompétence': 47, 'renseignement': 83, 'procédure': 73, 'sans': 86, 'objet': 65, 'sécurité': 92, 'publique': 81, 'favorable': 41, 'sauf': 87, 'préparatoire': 79, 'secret': 88, 'abusive': 1, 'vie': 97, 'privée': 72, 'commercial': 15, 'industriel': 48, 'judiciaire': 52, 'cnil': 14, 'loi': 57, 'spéciale': 91, 'mandat': 61, 'juridictionnel': 53, 'inexistant': 49, 'déliberation': 33, 'communiqué': 17, 'diplomatie': 25, 'privé': 71, 'refus': 82, 'non': 64, 'établi': 99, 'abonnement': 0, 'motivation': 63, 'inachevé': 45, 'appréciation': 3, 'comportement': 18, 'établissement': 100, 'de': 21, 'document': 27, 'si': 90, 'vous': 98, 'produisez': 74, 'un': 95, 'la': 55, 'personne': 69, 'concernée': 20, 'mal': 60, 'dirigée': 26, 'délibération': 34, 'hors': 43, 'champ': 13, 'détruit': 36, 'fiscal': 42, 'douanier': 30, 'avis': 10, 'ce': 12, 'archives': 4, 'préalable': 77, 'article': 5, 'auto': 8, 'pub': 80, 'communication': 16, 'entre': 38, 'services': 89, 'perdu': 68, 'documentation': 28, 'par': 67, 'autorité': 9, 'compétente': 19, 'laquelle': 56, 'auriez': 7, 'dû': 37, 'transmettre': 94, 'diffusion': 24, 'représentant': 84, 'légal': 58, 'demandé': 22, 'mineur': 62, 'ou': 66, 'majeur': 59, 'incapable': 46, 'révision': 85, 'prématurée': 78, 'tardive': 93, 'l311': 54, 'articles': 6, 'et': 40, 'usage': 96, 'dérogation': 35, 'propriété': 75, 'intellectuelle': 50, 'des': 23, 'affaires': 2, 'environnement': 39, 'données': 29, 'caractère': 11, 'personnel': 70, 'protocole': 76}\n"
     ]
    }
   ],
   "source": [
    "print(\"Vocabulary size: {}\".format(len(vect.vocabulary_)))\n",
    "print(\"Vocabulary content:\\n {}\".format(vect.vocabulary_))\n",
    "dict_vocabulary = vect.vocabulary_"
   ]
  },
  {
   "cell_type": "markdown",
   "metadata": {},
   "source": [
    "On retient les 4 catégories suivantes: \n",
    "    - défavorable\n",
    "    - favorable\n",
    "    - incompétence \n",
    "    - irrecevable \n",
    "    - sans object \n",
    "    \n",
    "La fonction \"sens_categorie\" écrite ci-dessous permet de calculer cette nouvelle variable. "
   ]
  },
  {
   "cell_type": "code",
   "execution_count": 52,
   "metadata": {},
   "outputs": [],
   "source": [
    "def sens_categorie(x): \n",
    "    if \"défavorable\" in x: \n",
    "        return \"defavorable\"\n",
    "    elif \"favorable\" in x: \n",
    "        return \"favorable\"\n",
    "    elif \"incompétence\" in x: \n",
    "        return \"incompetence\"\n",
    "    elif \"irrecevable\" in x: \n",
    "        return \"incompetence\"\n",
    "    elif (\"sans\" in x) and (\"objet\" in x):\n",
    "        return \"sans_objet\"\n",
    "    else: \n",
    "        return \"autre\"\n",
    "    \n",
    "df[\"sens_categorie\"] = df[\"sens_token\"].map(sens_categorie)"
   ]
  },
  {
   "cell_type": "code",
   "execution_count": 53,
   "metadata": {},
   "outputs": [
    {
     "data": {
      "text/plain": [
       "favorable       23180\n",
       "sans_objet       7417\n",
       "defavorable      5083\n",
       "incompetence     3401\n",
       "Name: sens_categorie, dtype: int64"
      ]
     },
     "execution_count": 53,
     "metadata": {},
     "output_type": "execute_result"
    }
   ],
   "source": [
    "df[\"sens_categorie\"].value_counts()"
   ]
  },
  {
   "cell_type": "markdown",
   "metadata": {},
   "source": [
    "#### Etape 2:  Entraînement du modèle \n",
    "Nous allons utiliser un modèle supervisé. Il nous faut donc: \n",
    "- une variable cible (ici la variable sens_catégorie que nous venons de créer) \n",
    "- des features (variables explicatives) à partir desquelles l'algorithmes va \"apprendre\" à prédire la variable cible : ici les features seront créés à partir du texte des avis"
   ]
  },
  {
   "cell_type": "markdown",
   "metadata": {},
   "source": [
    "On sépare le jeu de données en deux: \n",
    "- un jeu d'entraînement (train): text_train (ce qui va permettre de créer les features) et y_train (la variable cible du jeu d'entraînementà\n",
    "- un jeu de test : text_test (ce qui va nous permettre de créer les features) et y_test (la variable cible du jeu de test)"
   ]
  },
  {
   "cell_type": "code",
   "execution_count": 56,
   "metadata": {},
   "outputs": [],
   "source": [
    "text_train, text_test, y_train, y_test = train_test_split(df[\"Avis\"], df[\"sens_categorie\"], test_size = 0.2, random_state = 42)"
   ]
  },
  {
   "cell_type": "markdown",
   "metadata": {},
   "source": [
    "#### Entraînement du modèle avec la matrice term frequency (TF) (voir Partie 3 qui présente différentes méthodes de vectorisation dont la matrice term frequency )\n",
    "\n",
    "Ci-dessous on crée la matrice TF à l'aide de la fonction CountVectorizer() de sklearn.\n",
    "Le paramètre min_df permet de ne prendre en compte que les mots qui apparaissent au moins x fois dans le corpus. Nous l'avons mis à 10 ici mais il est possible de faire varier ce paramètre et de ré-entraîner le modèle. "
   ]
  },
  {
   "cell_type": "code",
   "execution_count": 67,
   "metadata": {},
   "outputs": [
    {
     "name": "stdout",
     "output_type": "stream",
     "text": [
      "X_train:\n",
      "<31264x10340 sparse matrix of type '<class 'numpy.int64'>'\n",
      "\twith 5036029 stored elements in Compressed Sparse Row format>\n"
     ]
    }
   ],
   "source": [
    "vect = CountVectorizer(min_df = 10).fit(text_train)\n",
    "X_train = vect.transform(text_train)\n",
    "print(\"X_train:\\n{}\".format(repr(X_train)))"
   ]
  },
  {
   "cell_type": "code",
   "execution_count": null,
   "metadata": {},
   "outputs": [],
   "source": [
    "Les commandes ci-dessous permettent "
   ]
  },
  {
   "cell_type": "code",
   "execution_count": 58,
   "metadata": {},
   "outputs": [
    {
     "name": "stdout",
     "output_type": "stream",
     "text": [
      "Number of features: 10340\n",
      "First 20 features:\n",
      "['00', '000', '0001', '0002', '0005', '001', '002', '003', '004', '005', '006', '007', '008', '009', '01', '011', '013', '018', '02', '02235']\n",
      "Every 2000th feature:\n",
      "['00', 'caveau', 'espèce', 'manquements', 'recruter', 'voulu']\n"
     ]
    }
   ],
   "source": [
    "feature_names = vect.get_feature_names()\n",
    "print(\"Number of features: {}\".format(len(feature_names)))\n",
    "print(\"First 20 features:\\n{}\".format(feature_names[:20]))\n",
    "print(\"Every 2000th feature:\\n{}\".format(feature_names[::2000]))"
   ]
  },
  {
   "cell_type": "code",
   "execution_count": 59,
   "metadata": {},
   "outputs": [
    {
     "name": "stdout",
     "output_type": "stream",
     "text": [
      "Mean cross-validation accuracy: 0.77\n"
     ]
    }
   ],
   "source": [
    "scores = cross_val_score(MultinomialNB(), X_train, y_train, cv=5)\n",
    "print(\"Mean cross-validation accuracy: {:.2f}\".format(np.mean(scores)))"
   ]
  },
  {
   "cell_type": "code",
   "execution_count": 60,
   "metadata": {},
   "outputs": [
    {
     "name": "stdout",
     "output_type": "stream",
     "text": [
      "Best cross-validation score: 0.80\n",
      "Best parameters:  {'alpha': 20}\n"
     ]
    }
   ],
   "source": [
    "param_grid = {'alpha': [0.001, 0.01, 0.1, 1, 10, 12, 14, 16, 20, 30, 40]}\n",
    "grid = GridSearchCV(MultinomialNB(), param_grid, cv=5)\n",
    "grid.fit(X_train, y_train)\n",
    "print(\"Best cross-validation score: {:.2f}\".format(grid.best_score_))\n",
    "print(\"Best parameters: \", grid.best_params_)\n",
    "\n"
   ]
  },
  {
   "cell_type": "code",
   "execution_count": 61,
   "metadata": {},
   "outputs": [
    {
     "name": "stdout",
     "output_type": "stream",
     "text": [
      "Test score: 0.81\n"
     ]
    }
   ],
   "source": [
    "X_test = vect.transform(text_test)\n",
    "print(\"Test score: {:.2f}\".format(grid.score(X_test, y_test)))"
   ]
  },
  {
   "cell_type": "markdown",
   "metadata": {},
   "source": [
    "#### Entraînement du modèle avec la matrice TF-IDF (voir Partie 3 qui présente différentes méthodes de vectorisation dont la matrice term frequency )\n",
    "Les étapes sont les mêmes que dans la partie entraînement du modèle avec la matrice term-frequency)"
   ]
  },
  {
   "cell_type": "code",
   "execution_count": 62,
   "metadata": {},
   "outputs": [
    {
     "name": "stdout",
     "output_type": "stream",
     "text": [
      "X_train:\n",
      "<31264x8485 sparse matrix of type '<class 'numpy.float64'>'\n",
      "\twith 5014192 stored elements in Compressed Sparse Row format>\n"
     ]
    }
   ],
   "source": [
    "vect = TfidfVectorizer(min_df = 15).fit(text_train)\n",
    "X_train = vect.transform(text_train)\n",
    "print(\"X_train:\\n{}\".format(repr(X_train)))"
   ]
  },
  {
   "cell_type": "code",
   "execution_count": 63,
   "metadata": {},
   "outputs": [
    {
     "name": "stdout",
     "output_type": "stream",
     "text": [
      "Number of features: 8485\n",
      "First 20 features:\n",
      "['00', '000', '001', '002', '003', '004', '01', '018', '02', '02655', '03', '033', '04', '05', '06', '07', '08', '09', '10', '100']\n",
      "Every 2000th feature:\n",
      "['00', 'concilier', 'images', 'pratiques', 'urbanisme']\n"
     ]
    }
   ],
   "source": [
    "feature_names = vect.get_feature_names()\n",
    "print(\"Number of features: {}\".format(len(feature_names)))\n",
    "print(\"First 20 features:\\n{}\".format(feature_names[:20]))\n",
    "print(\"Every 2000th feature:\\n{}\".format(feature_names[::2000]))"
   ]
  },
  {
   "cell_type": "code",
   "execution_count": 64,
   "metadata": {},
   "outputs": [
    {
     "name": "stdout",
     "output_type": "stream",
     "text": [
      "Mean cross-validation accuracy: 0.79\n"
     ]
    }
   ],
   "source": [
    "from sklearn.model_selection import cross_val_score\n",
    "from sklearn.linear_model import LogisticRegression\n",
    "from sklearn.naive_bayes import MultinomialNB\n",
    "scores = cross_val_score(MultinomialNB(), X_train, y_train, cv=5)\n",
    "print(\"Mean cross-validation accuracy: {:.2f}\".format(np.mean(scores)))"
   ]
  },
  {
   "cell_type": "code",
   "execution_count": 65,
   "metadata": {},
   "outputs": [
    {
     "name": "stdout",
     "output_type": "stream",
     "text": [
      "Best cross-validation score: 0.80\n",
      "Best parameters:  {'alpha': 0.4}\n"
     ]
    }
   ],
   "source": [
    "from sklearn.model_selection import GridSearchCV\n",
    "param_grid = {'alpha': [0.001, 0.01, 0.1, 0.2, 0.4, 0.5, 0.55, 0.6, 0.65, 0.7, 0.8, 1, 10, 12, 14, 16, 20, 30, 40]}\n",
    "grid = GridSearchCV(MultinomialNB(), param_grid, cv=5)\n",
    "grid.fit(X_train, y_train)\n",
    "print(\"Best cross-validation score: {:.2f}\".format(grid.best_score_))\n",
    "print(\"Best parameters: \", grid.best_params_)\n",
    "\n"
   ]
  },
  {
   "cell_type": "code",
   "execution_count": 66,
   "metadata": {},
   "outputs": [
    {
     "name": "stdout",
     "output_type": "stream",
     "text": [
      "Test score: 0.80\n"
     ]
    }
   ],
   "source": [
    "X_test = vect.transform(text_test)\n",
    "print(\"Test score: {:.2f}\".format(grid.score(X_test, y_test)))"
   ]
  },
  {
   "cell_type": "markdown",
   "metadata": {},
   "source": [
    "#### Etape 3 : visualisation des résultats "
   ]
  },
  {
   "cell_type": "code",
   "execution_count": null,
   "metadata": {},
   "outputs": [],
   "source": [
    "# erreurs\n",
    "# exemple d'erreur"
   ]
  },
  {
   "cell_type": "markdown",
   "metadata": {},
   "source": [
    "# Partie 3 : Pour aller plus loin:  manipulations de données textuelles basiques\n"
   ]
  },
  {
   "cell_type": "markdown",
   "metadata": {},
   "source": [
    "importation des librairies NLP "
   ]
  },
  {
   "cell_type": "code",
   "execution_count": null,
   "metadata": {},
   "outputs": [],
   "source": [
    "import nltk\n",
    "nltk.download('punkt')\n",
    "from nltk.tokenize import sent_tokenize, word_tokenize"
   ]
  },
  {
   "cell_type": "markdown",
   "metadata": {},
   "source": [
    "on étudie ici les textes des avis, \n",
    "on supprime les lignes pour lesquelles l'avis n'est pas renseigné"
   ]
  },
  {
   "cell_type": "code",
   "execution_count": null,
   "metadata": {
    "scrolled": true
   },
   "outputs": [],
   "source": [
    "df = df.dropna(subset = [\"Avis\"]) \n",
    "print(df.shape)"
   ]
  },
  {
   "cell_type": "markdown",
   "metadata": {},
   "source": [
    "### Découpage du texte \n",
    "Chaque avis (dans la colonne \"Avis\") est une chaîne de caractères, il faut donc lui appliquer un certain nombre d'opération afin de pouvoir la traiter algorithmiquement. Une première étape, la tokenization, consiste en découper la chaine de caractères en \"tokens\". Pour cela, on utilise des fonctions prédéfinies de la librairies NLTK. \n",
    "Il existe plusieurs métodes de tokenization, et le choix de la méthode va dépendre de l'objectif de l'étude. \n",
    "Les métodes les plus classques sont: \n",
    "- la tokenisation en phrases (sentence tokenization en anglais)\n",
    "- la tokenisation en mots (word tokenization en anglais)\n",
    "\n",
    "\n",
    "On crée ici deux nouvelles colonnes, correspondant à ces deux modes de tokenization \n",
    "\n",
    "### Le terme consacré en NLP pour ce découpage est la tokénisation "
   ]
  },
  {
   "cell_type": "code",
   "execution_count": null,
   "metadata": {},
   "outputs": [],
   "source": [
    "df[\"avis_sent_token\"] = df[\"Avis\"].map(sent_tokenize)\n",
    "df[\"avis_word_token\"] = df[\"Avis\"].map(lambda x : word_tokenize(x.replace(\"'\", \" \"))) # on remplace les appostrophes par un espaces\n",
    "# car la tokenization avec la fonction \"word_tokenize\" de nltk ne les sépare pas autrement "
   ]
  },
  {
   "cell_type": "markdown",
   "metadata": {},
   "source": [
    "on regarde ce que ça donne : "
   ]
  },
  {
   "cell_type": "code",
   "execution_count": null,
   "metadata": {},
   "outputs": [],
   "source": [
    "numero_ligne = 1 # changer le nombre afin de visualiser différentes lignes du jeu de données \n",
    "print(\"Texte initial de l'avis\")\n",
    "print(df.loc[numero_ligne, \"Avis\"])\n",
    "print(\"\\n\")\n",
    "print(\"Texte tokenizé en phrases\")\n",
    "print(\"Nombre de phrases : {}\".format(len(df.loc[numero_ligne, \"avis_sent_token\"])))\n",
    "print(df.loc[numero_ligne, \"avis_sent_token\"])\n",
    "print(\"\\n\")\n",
    "print(\"Texte tokenizé en mots\")\n",
    "print(\"Nombre de mots : {}\".format(len(df.loc[numero_ligne, \"avis_word_token\"])))\n",
    "\n",
    "print(df.loc[numero_ligne, \"avis_word_token\"])\n"
   ]
  },
  {
   "cell_type": "markdown",
   "metadata": {},
   "source": [
    "# on calcule des métriques simples : \n",
    "- le nombre de caractères par avis\n",
    "- le nombre de phrases par avis \n",
    "- le nombre de mots par avis"
   ]
  },
  {
   "cell_type": "code",
   "execution_count": null,
   "metadata": {},
   "outputs": [],
   "source": [
    "df[\"nb_char\"] = df[\"Avis\"].map(len)\n",
    "df[\"nb_sent_token\"] = df[\"avis_sent_token\"].map(len)\n",
    "df[\"nb_word_token\"] = df[\"avis_word_token\"].map(len)"
   ]
  },
  {
   "cell_type": "markdown",
   "metadata": {},
   "source": [
    "on regarde la moyenne, l'écart type, les quartiles de ces métriques"
   ]
  },
  {
   "cell_type": "code",
   "execution_count": null,
   "metadata": {
    "scrolled": true
   },
   "outputs": [],
   "source": [
    "df[[\"nb_char\", \"nb_word_token\", \"nb_sent_token\" ]].describe()"
   ]
  },
  {
   "cell_type": "markdown",
   "metadata": {},
   "source": [
    "une fois qu'on a divisé notre texte en une liste de mots, on peut faire plusieurs opérations de netoyage \n",
    "- retirer la ponctuation \n",
    "- mettre tous les caractères en minuscules (peut aussi être fait avant la tokenization)\n",
    "- enlever les stopwords (mots sans apport pour comprendre le sens de la phrase)\n",
    "- lemmatiser ou stemmer afin de regrouper deux termes proches en un terme unique : \n",
    "    - personnes -> personne\n",
    "    - conduisent, conduis, etc.. -> conduire\n",
    "    \n",
    "Ces étapes sont réalisées dans la partie 2 : extraction de topics"
   ]
  },
  {
   "cell_type": "markdown",
   "metadata": {},
   "source": [
    "### Vectorisation"
   ]
  },
  {
   "cell_type": "markdown",
   "metadata": {},
   "source": [
    "on peut ensuite \"vectoriser ces listes de mots afin de les rendre intelligible par une machine, \n",
    "il existe plusieurs méthode de vectoriser \n",
    "    - la matrice de term frequency \n",
    "    - la matrice tf-idf\n",
    "    - les word embeddings \n",
    "    \n",
    "Une fois que ces documents sont vectorisés, on peut utiliser ces features numériques nouvellement crées pour faire de la modélisation."
   ]
  },
  {
   "cell_type": "markdown",
   "metadata": {},
   "source": [
    "Ressource: un article (en anglais) bien fait qui montre comment calculer la matrice TF et TF-IDF \"form scratch: cratch : https://towardsdatascience.com/text-summarization-using-tf-idf-e64a0644ace3"
   ]
  },
  {
   "cell_type": "markdown",
   "metadata": {},
   "source": [
    "Pour calculer automatiquement ces matrices, il existe différentes librairies. On utilise ici la librairie sklearn\n"
   ]
  },
  {
   "cell_type": "markdown",
   "metadata": {},
   "source": [
    "### La matrice de term frequency (matrice d'occurrence de termes)"
   ]
  },
  {
   "cell_type": "markdown",
   "metadata": {},
   "source": [
    "![term_doc_matrix.png](./images/term_doc_matrix.png)"
   ]
  },
  {
   "cell_type": "markdown",
   "metadata": {},
   "source": [
    "Chaque document est composé d'un certains nombre de mots. L'ensemble de tous les mots distincts présents dans les documents consititue le vocabulaire du corpus (corpus = ensemble des documents). \n",
    "La term-frequency matrix est une matrice avec une ligne par document et une colonne par mot du vocabulaire. \n",
    "Pour chaque document, les colonnes donne le nombre de fois où le mot apparait dans le document. \n",
    "C'est l'approche qu'on appelle souvent \"bag of words\" ou sac de mots en français. "
   ]
  },
  {
   "cell_type": "markdown",
   "metadata": {},
   "source": [
    "Ci-dessous on calcule la matrice Term frequency à l'aide de la librairie sklearn, qui comprend un modèle \"CountVectorizer\", qui'il faut entraîner sur le corpus de données (la liste des avis). Une fois le modèle entrainé, on l'applique (avec la métode transform) sur le même corpus de données. \n",
    "Un paramètre utile au modèle CountVectorizer est \"min_df\", qui correspond au minumum de fois où un mot doit apparaitre dans le corpus afin d'être pris en compte dans la matrice. Il est par défaut à 1, mais en l'augmentant, on peut réduire considérablement le nomnbre de colonnes de la matrice et donc se débarrasser des termes qui apparaissent trop peu. "
   ]
  },
  {
   "cell_type": "code",
   "execution_count": null,
   "metadata": {},
   "outputs": [],
   "source": [
    "vect = CountVectorizer(min_df = 15).fit(df[\"Avis\"])\n",
    "tf_matrix = vect.transform(df[\"Avis\"])\n",
    "print(\"TF-Matrix:\\n{}\".format(repr(tf_matrix)))"
   ]
  },
  {
   "cell_type": "code",
   "execution_count": null,
   "metadata": {},
   "outputs": [],
   "source": [
    "feature_names = vect.get_feature_names()\n",
    "print(\"Nombre de features: {}\".format(len(feature_names)))\n",
    "print(\"Les 20 premières features:\\n{}\".format(feature_names[:20]))\n"
   ]
  },
  {
   "cell_type": "markdown",
   "metadata": {},
   "source": [
    "Pour visualiser la matrice, on la transforme en dataframe: \n",
    "    "
   ]
  },
  {
   "cell_type": "code",
   "execution_count": null,
   "metadata": {},
   "outputs": [],
   "source": [
    "tf_dataframe = pd.SparseDataFrame(tf_matrix, columns = feature_names).fillna(0)"
   ]
  },
  {
   "cell_type": "code",
   "execution_count": null,
   "metadata": {},
   "outputs": [],
   "source": [
    "tf_dataframe.head()"
   ]
  },
  {
   "cell_type": "code",
   "execution_count": null,
   "metadata": {},
   "outputs": [],
   "source": [
    "set(tf_dataframe[\"être\"])"
   ]
  },
  {
   "cell_type": "markdown",
   "metadata": {},
   "source": [
    "On observe ce que l'on appelle une matrice sparse, ce qui signifie que la majorité des termes sont à 0.\n",
    "On voit par exemple que les documents 3 et 4 ont chacun une fois le mot \"être\". "
   ]
  },
  {
   "cell_type": "markdown",
   "metadata": {},
   "source": [
    "On peut regarder quels sont les termes les plus fréquents: "
   ]
  },
  {
   "cell_type": "code",
   "execution_count": null,
   "metadata": {},
   "outputs": [],
   "source": [
    "sum_words = tf_matrix.sum(axis=0)\n",
    "words_freq = [(word, sum_words[0, idx]) for word, idx in vect.vocabulary_.items()]\n",
    "words_freq =sorted(words_freq, key = lambda x: x[1], reverse=True)"
   ]
  },
  {
   "cell_type": "code",
   "execution_count": null,
   "metadata": {},
   "outputs": [],
   "source": [
    "words_freq[0:20]"
   ]
  },
  {
   "cell_type": "markdown",
   "metadata": {},
   "source": [
    "### La matrice tf-idf"
   ]
  },
  {
   "cell_type": "markdown",
   "metadata": {},
   "source": [
    "![tfidf_matrix.png](./images/tfidf_matrix.png)"
   ]
  },
  {
   "cell_type": "markdown",
   "metadata": {},
   "source": [
    "La matrice TF-IDF est très similaire dans son principe à la matrice TF. Elle a le même format: une ligne par document et une colonne par mot du vocabulaire. Chaque \"case\" de la matrice sera calculée à partir de la case la matrice TF, mais sera pondérée par l'IDF (inverse document frequency). Cette pondération permet de prendre en compte la fréquence d'occurence d'un terme dans l'ensemble des documents (le corpus). L'idée derrière cette pondération est qu'un terme qui apparait dans un très grand nombre de document n'apporte pas beaucoup d'information pour décrire un document en particulier. Par exemple, dans notre cas, le mot \"avis\" apparait dans quasiment tous nos documents, il aura donc une fréquence d'apparition dans le corpus élevé et donc un IDF (son inverse) faible. \n",
    "\n",
    "Pour résumer, pour un mot donné d'un document donné, le TF-IDF: \n",
    "\n",
    "- augmente avec le nombre d'occurrences du mot dans le document\n",
    "- diminue avec le nombre d'occirrences du mot dans le corpus\n"
   ]
  },
  {
   "cell_type": "code",
   "execution_count": null,
   "metadata": {},
   "outputs": [],
   "source": [
    "vect2 = TfidfVectorizer(min_df = 15).fit(df[\"Avis\"])\n",
    "tfidf_matrix = vect2.transform(df[\"Avis\"])\n",
    "print(\"TF-Matrix:\\n{}\".format(repr(tf_matrix)))"
   ]
  },
  {
   "cell_type": "code",
   "execution_count": null,
   "metadata": {},
   "outputs": [],
   "source": [
    "feature_names = vect2.get_feature_names()\n",
    "print(\"Nombre de features: {}\".format(len(feature_names)))\n",
    "print(\"Les 20 premières features:\\n{}\".format(feature_names[:20]))"
   ]
  },
  {
   "cell_type": "markdown",
   "metadata": {},
   "source": [
    "Sans surprise, on obtient les mêmes features qu'avec la matrice TF. Regardons mainteant quelques lignes de cette matrice: "
   ]
  },
  {
   "cell_type": "code",
   "execution_count": null,
   "metadata": {},
   "outputs": [],
   "source": [
    "tfidf_matrix_dense = tfidf_matrix.todense()\n",
    "tfidf_matrix_dense[tfidf_matrix_dense == 0] = np.nan\n",
    "mean_words = np.nanmean(tfidf_matrix_dense, axis=0)\n",
    "words_mean_tfidf = [(word, mean_words[0, idx]) for word, idx in vect2.vocabulary_.items()]\n",
    "words_freq =sorted(words_mean_tfidf, key = lambda x: x[1], reverse=True)"
   ]
  },
  {
   "cell_type": "code",
   "execution_count": null,
   "metadata": {},
   "outputs": [],
   "source": [
    "words_freq[0:20]"
   ]
  },
  {
   "cell_type": "markdown",
   "metadata": {},
   "source": [
    "Il est intéressant de comparer ici les termes remontés avec la matrice TF et ceux avec la matrice TFIDF. La matrice TF remonte beaucoup de termes \"inutiles\" (de, et, etc...), alors que la matrice TFIDF remonte des termes plus intéressants. "
   ]
  },
  {
   "cell_type": "code",
   "execution_count": null,
   "metadata": {},
   "outputs": [],
   "source": [
    "tfidf_dataframe = pd.SparseDataFrame(tfidf_matrix, columns = feature_names).fillna(0)"
   ]
  },
  {
   "cell_type": "code",
   "execution_count": null,
   "metadata": {},
   "outputs": [],
   "source": [
    "tfidf_dataframe.head()"
   ]
  },
  {
   "cell_type": "markdown",
   "metadata": {},
   "source": [
    "Ici on voit que le terme \"être\" est encore non nul pour les document 3 et 4, mais nous avons des nombres décimals au lieu de nombres entiers. \n",
    "\n",
    "\\begin{align}\n",
    " {\\mathrm {tfidf_{{i,j}}}}={\\mathrm {tf_{{i,j}}}}\\cdot {\\mathrm {idf_{{i}}}} \\\\\n",
    " {\\mathrm {tfidf_{{être,3}}}} = 1\\cdot {\\mathrm {idf_{{être}}}} =1\\cdot 0.070411 \\\\\n",
    "\\end{align}\n",
    "\n",
    "On en déduit que: \n",
    "\\begin{align}\n",
    " {\\mathrm {idf_{{être}}}} = 0.070411 \\\\\n",
    "\\end{align}\n",
    "\n",
    "Définition de l'IDF:  \n",
    "\\begin{align}\n",
    " {\\mathrm {idf_{{i,j}}}} = {\\mathrm {log_{{10}}}} {\\|D\\| \\over \\| \\{ d_{j} : t_{i} \\in d_{j} \\} \\| } \\\\\n",
    "\\end{align}"
   ]
  },
  {
   "cell_type": "code",
   "execution_count": null,
   "metadata": {},
   "outputs": [],
   "source": []
  },
  {
   "cell_type": "code",
   "execution_count": null,
   "metadata": {},
   "outputs": [],
   "source": [
    "import math\n",
    "len(df)/math.pow(10, 0.070411)"
   ]
  },
  {
   "cell_type": "code",
   "execution_count": null,
   "metadata": {},
   "outputs": [],
   "source": [
    "len(tfidf_dataframe[tfidf_dataframe[\"être\"]>0])"
   ]
  },
  {
   "cell_type": "markdown",
   "metadata": {},
   "source": [
    "### Exemple de word embeddings of word2vec\n",
    "\n",
    "A propos de word2vec: développé par une équipe de recherche de Google (article de 2013 disponible ici https://arxiv.org/abs/1301.3781), word2vec est un algorithme permettant de reprénter chaque mot dans un espace vectoriel à n dimensions (généralement n est fixé dans une valeur comprise entre 100 et 400). Les vecteurs des différents mots sont \"appris\" à l'aide d'un réseau de neurone artificiel. Ces vecteurs, appelés \"word embeddings\", permettent: \n",
    "- de rendre compte des proximités des mots dans le langage naturel (deux mots proches dans le langage, médecin et hopitaux, seront proches dans l'espace vectoriel) \n",
    "- de traduire certaines proprités linguistiques du langage naturel en propriétés mathématiques (cf. exemples dans illustration ci-dessous)\n",
    "\n"
   ]
  },
  {
   "cell_type": "markdown",
   "metadata": {},
   "source": [
    "![word2vec.png](./images/word2vec.png)"
   ]
  },
  {
   "cell_type": "markdown",
   "metadata": {},
   "source": [
    "Entrainement du modèle à partir du texte des avis Cada. Les paramètres à fixer sont: \n",
    "- size: la taille de l'espace vectoriel (le nombre de dimensions de chaque vecteur)"
   ]
  },
  {
   "cell_type": "code",
   "execution_count": null,
   "metadata": {},
   "outputs": [],
   "source": [
    "sentences = df[\"avis_word_token\"].tolist()\n",
    "from gensim.models import Word2Vec\n",
    "model = Word2Vec(sentences, size=100, window=5, min_count=5, workers=4)"
   ]
  },
  {
   "cell_type": "markdown",
   "metadata": {},
   "source": [
    "exemple de vecteur pour un mot donné (vous pouvez changer le mot entre guillements et voir les variations des vecteurs)"
   ]
  },
  {
   "cell_type": "code",
   "execution_count": null,
   "metadata": {},
   "outputs": [],
   "source": [
    "model.wv['avis']"
   ]
  },
  {
   "cell_type": "markdown",
   "metadata": {},
   "source": [
    "quelques exemples de calculs des mots les plus similaires, en utilisant la fonction méthode \"most_similar\""
   ]
  },
  {
   "cell_type": "code",
   "execution_count": null,
   "metadata": {},
   "outputs": [],
   "source": [
    "model.most_similar(\"médecin\")"
   ]
  },
  {
   "cell_type": "code",
   "execution_count": null,
   "metadata": {},
   "outputs": [],
   "source": [
    "model.most_similar(\"maire\")"
   ]
  },
  {
   "cell_type": "code",
   "execution_count": null,
   "metadata": {
    "scrolled": true
   },
   "outputs": [],
   "source": [
    "model.most_similar(\"demande\")"
   ]
  }
 ],
 "metadata": {
  "colab": {
   "authorship_tag": "ABX9TyNEL6x0Kfsdvmbf+E371X9g",
   "include_colab_link": true,
   "name": "ami_ia-NLP.ipynb",
   "provenance": []
  },
  "kernelspec": {
   "display_name": "Python 3",
   "language": "python",
   "name": "python3"
  },
  "language_info": {
   "codemirror_mode": {
    "name": "ipython",
    "version": 3
   },
   "file_extension": ".py",
   "mimetype": "text/x-python",
   "name": "python",
   "nbconvert_exporter": "python",
   "pygments_lexer": "ipython3",
   "version": "3.7.4"
  }
 },
 "nbformat": 4,
 "nbformat_minor": 1
}
